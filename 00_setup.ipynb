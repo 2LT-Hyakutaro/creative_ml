{
 "cells": [
  {
   "cell_type": "code",
   "execution_count": 1,
   "id": "5ab1f008-34c9-4c19-be51-965891c0a4c0",
   "metadata": {},
   "outputs": [
    {
     "name": "stdout",
     "output_type": "stream",
     "text": [
      "Defaulting to user installation because normal site-packages is not writeable\n",
      "Requirement already satisfied: jupyterthemes in /Users/esling/Library/Python/3.9/lib/python/site-packages (0.20.0)\n",
      "Requirement already satisfied: notebook>=5.6.0 in /Users/esling/Library/Python/3.9/lib/python/site-packages (from jupyterthemes) (6.5.2)\n",
      "Requirement already satisfied: jupyter-core in /Users/esling/Library/Python/3.9/lib/python/site-packages (from jupyterthemes) (4.11.1)\n",
      "Requirement already satisfied: lesscpy>=0.11.2 in /Users/esling/Library/Python/3.9/lib/python/site-packages (from jupyterthemes) (0.15.1)\n",
      "Requirement already satisfied: ipython>=5.4.1 in /Users/esling/Library/Python/3.9/lib/python/site-packages (from jupyterthemes) (8.10.0)\n",
      "Requirement already satisfied: matplotlib>=1.4.3 in /Users/esling/Library/Python/3.9/lib/python/site-packages (from jupyterthemes) (3.6.0)\n",
      "Requirement already satisfied: backcall in /Users/esling/Library/Python/3.9/lib/python/site-packages (from ipython>=5.4.1->jupyterthemes) (0.2.0)\n",
      "Requirement already satisfied: matplotlib-inline in /Users/esling/Library/Python/3.9/lib/python/site-packages (from ipython>=5.4.1->jupyterthemes) (0.1.6)\n",
      "Requirement already satisfied: jedi>=0.16 in /Users/esling/Library/Python/3.9/lib/python/site-packages (from ipython>=5.4.1->jupyterthemes) (0.18.1)\n",
      "Requirement already satisfied: stack-data in /Users/esling/Library/Python/3.9/lib/python/site-packages (from ipython>=5.4.1->jupyterthemes) (0.5.1)\n",
      "Requirement already satisfied: traitlets>=5 in /Users/esling/Library/Python/3.9/lib/python/site-packages (from ipython>=5.4.1->jupyterthemes) (5.4.0)\n",
      "Requirement already satisfied: appnope in /Users/esling/Library/Python/3.9/lib/python/site-packages (from ipython>=5.4.1->jupyterthemes) (0.1.3)\n",
      "Requirement already satisfied: pexpect>4.3 in /Users/esling/Library/Python/3.9/lib/python/site-packages (from ipython>=5.4.1->jupyterthemes) (4.8.0)\n",
      "Requirement already satisfied: pygments>=2.4.0 in /Users/esling/Library/Python/3.9/lib/python/site-packages (from ipython>=5.4.1->jupyterthemes) (2.13.0)\n",
      "Requirement already satisfied: prompt-toolkit<3.1.0,>=3.0.30 in /Users/esling/Library/Python/3.9/lib/python/site-packages (from ipython>=5.4.1->jupyterthemes) (3.0.31)\n",
      "Requirement already satisfied: decorator in /Users/esling/Library/Python/3.9/lib/python/site-packages (from ipython>=5.4.1->jupyterthemes) (5.1.1)\n",
      "Requirement already satisfied: pickleshare in /Users/esling/Library/Python/3.9/lib/python/site-packages (from ipython>=5.4.1->jupyterthemes) (0.7.5)\n",
      "Requirement already satisfied: ply in /Users/esling/Library/Python/3.9/lib/python/site-packages (from lesscpy>=0.11.2->jupyterthemes) (3.11)\n",
      "Requirement already satisfied: numpy>=1.19 in /Users/esling/Library/Python/3.9/lib/python/site-packages (from matplotlib>=1.4.3->jupyterthemes) (1.23.4)\n",
      "Requirement already satisfied: cycler>=0.10 in /Users/esling/Library/Python/3.9/lib/python/site-packages (from matplotlib>=1.4.3->jupyterthemes) (0.11.0)\n",
      "Requirement already satisfied: packaging>=20.0 in /Users/esling/Library/Python/3.9/lib/python/site-packages (from matplotlib>=1.4.3->jupyterthemes) (21.3)\n",
      "Requirement already satisfied: pillow>=6.2.0 in /Users/esling/Library/Python/3.9/lib/python/site-packages (from matplotlib>=1.4.3->jupyterthemes) (9.2.0)\n",
      "Requirement already satisfied: fonttools>=4.22.0 in /Users/esling/Library/Python/3.9/lib/python/site-packages (from matplotlib>=1.4.3->jupyterthemes) (4.37.4)\n",
      "Requirement already satisfied: contourpy>=1.0.1 in /Users/esling/Library/Python/3.9/lib/python/site-packages (from matplotlib>=1.4.3->jupyterthemes) (1.0.5)\n",
      "Requirement already satisfied: python-dateutil>=2.7 in /Users/esling/Library/Python/3.9/lib/python/site-packages (from matplotlib>=1.4.3->jupyterthemes) (2.8.2)\n",
      "Requirement already satisfied: pyparsing>=2.2.1 in /Users/esling/Library/Python/3.9/lib/python/site-packages (from matplotlib>=1.4.3->jupyterthemes) (3.0.9)\n",
      "Requirement already satisfied: kiwisolver>=1.0.1 in /Users/esling/Library/Python/3.9/lib/python/site-packages (from matplotlib>=1.4.3->jupyterthemes) (1.4.4)\n",
      "Requirement already satisfied: nbformat in /Users/esling/Library/Python/3.9/lib/python/site-packages (from notebook>=5.6.0->jupyterthemes) (5.6.0)\n",
      "Requirement already satisfied: terminado>=0.8.3 in /Users/esling/Library/Python/3.9/lib/python/site-packages (from notebook>=5.6.0->jupyterthemes) (0.15.0)\n",
      "Requirement already satisfied: nbclassic>=0.4.7 in /Users/esling/Library/Python/3.9/lib/python/site-packages (from notebook>=5.6.0->jupyterthemes) (0.5.2)\n",
      "Requirement already satisfied: nest-asyncio>=1.5 in /Users/esling/Library/Python/3.9/lib/python/site-packages (from notebook>=5.6.0->jupyterthemes) (1.5.5)\n",
      "Requirement already satisfied: nbconvert>=5 in /Users/esling/Library/Python/3.9/lib/python/site-packages (from notebook>=5.6.0->jupyterthemes) (7.0.0)\n",
      "Requirement already satisfied: argon2-cffi in /Users/esling/Library/Python/3.9/lib/python/site-packages (from notebook>=5.6.0->jupyterthemes) (21.3.0)\n",
      "Requirement already satisfied: jupyter-client>=5.3.4 in /Users/esling/Library/Python/3.9/lib/python/site-packages (from notebook>=5.6.0->jupyterthemes) (7.3.5)\n",
      "Requirement already satisfied: pyzmq>=17 in /Users/esling/Library/Python/3.9/lib/python/site-packages (from notebook>=5.6.0->jupyterthemes) (24.0.1)\n",
      "Requirement already satisfied: ipykernel in /Users/esling/Library/Python/3.9/lib/python/site-packages (from notebook>=5.6.0->jupyterthemes) (6.16.2)\n",
      "Requirement already satisfied: ipython-genutils in /Users/esling/Library/Python/3.9/lib/python/site-packages (from notebook>=5.6.0->jupyterthemes) (0.2.0)\n",
      "Requirement already satisfied: tornado>=6.1 in /Users/esling/Library/Python/3.9/lib/python/site-packages (from notebook>=5.6.0->jupyterthemes) (6.2)\n",
      "Requirement already satisfied: jinja2 in /Users/esling/Library/Python/3.9/lib/python/site-packages (from notebook>=5.6.0->jupyterthemes) (3.1.2)\n",
      "Requirement already satisfied: prometheus-client in /Users/esling/Library/Python/3.9/lib/python/site-packages (from notebook>=5.6.0->jupyterthemes) (0.14.1)\n",
      "Requirement already satisfied: Send2Trash>=1.8.0 in /Users/esling/Library/Python/3.9/lib/python/site-packages (from notebook>=5.6.0->jupyterthemes) (1.8.0)\n",
      "Requirement already satisfied: parso<0.9.0,>=0.8.0 in /Users/esling/Library/Python/3.9/lib/python/site-packages (from jedi>=0.16->ipython>=5.4.1->jupyterthemes) (0.8.3)\n",
      "Requirement already satisfied: entrypoints in /Users/esling/Library/Python/3.9/lib/python/site-packages (from jupyter-client>=5.3.4->notebook>=5.6.0->jupyterthemes) (0.4)\n",
      "Requirement already satisfied: notebook-shim>=0.1.0 in /Users/esling/Library/Python/3.9/lib/python/site-packages (from nbclassic>=0.4.7->notebook>=5.6.0->jupyterthemes) (0.1.0)\n",
      "Requirement already satisfied: jupyter-server>=1.8 in /Users/esling/Library/Python/3.9/lib/python/site-packages (from nbclassic>=0.4.7->notebook>=5.6.0->jupyterthemes) (1.18.1)\n",
      "Requirement already satisfied: tinycss2 in /Users/esling/Library/Python/3.9/lib/python/site-packages (from nbconvert>=5->notebook>=5.6.0->jupyterthemes) (1.1.1)\n",
      "Requirement already satisfied: beautifulsoup4 in /Users/esling/Library/Python/3.9/lib/python/site-packages (from nbconvert>=5->notebook>=5.6.0->jupyterthemes) (4.11.1)\n",
      "Requirement already satisfied: bleach in /Users/esling/Library/Python/3.9/lib/python/site-packages (from nbconvert>=5->notebook>=5.6.0->jupyterthemes) (5.0.1)\n",
      "Requirement already satisfied: markupsafe>=2.0 in /Users/esling/Library/Python/3.9/lib/python/site-packages (from nbconvert>=5->notebook>=5.6.0->jupyterthemes) (2.1.1)\n",
      "Requirement already satisfied: lxml in /Users/esling/Library/Python/3.9/lib/python/site-packages (from nbconvert>=5->notebook>=5.6.0->jupyterthemes) (4.9.1)\n",
      "Requirement already satisfied: nbclient>=0.5.0 in /Users/esling/Library/Python/3.9/lib/python/site-packages (from nbconvert>=5->notebook>=5.6.0->jupyterthemes) (0.6.8)\n",
      "Requirement already satisfied: defusedxml in /Users/esling/Library/Python/3.9/lib/python/site-packages (from nbconvert>=5->notebook>=5.6.0->jupyterthemes) (0.7.1)\n",
      "Requirement already satisfied: mistune<3,>=2.0.3 in /Users/esling/Library/Python/3.9/lib/python/site-packages (from nbconvert>=5->notebook>=5.6.0->jupyterthemes) (2.0.4)\n",
      "Requirement already satisfied: jupyterlab-pygments in /Users/esling/Library/Python/3.9/lib/python/site-packages (from nbconvert>=5->notebook>=5.6.0->jupyterthemes) (0.2.2)\n",
      "Requirement already satisfied: pandocfilters>=1.4.1 in /Users/esling/Library/Python/3.9/lib/python/site-packages (from nbconvert>=5->notebook>=5.6.0->jupyterthemes) (1.5.0)\n",
      "Requirement already satisfied: importlib-metadata>=3.6 in /Users/esling/Library/Python/3.9/lib/python/site-packages (from nbconvert>=5->notebook>=5.6.0->jupyterthemes) (4.12.0)\n",
      "Requirement already satisfied: fastjsonschema in /Users/esling/Library/Python/3.9/lib/python/site-packages (from nbformat->notebook>=5.6.0->jupyterthemes) (2.16.2)\n",
      "Requirement already satisfied: jsonschema>=2.6 in /Users/esling/Library/Python/3.9/lib/python/site-packages (from nbformat->notebook>=5.6.0->jupyterthemes) (4.16.0)\n",
      "Requirement already satisfied: ptyprocess>=0.5 in /Users/esling/Library/Python/3.9/lib/python/site-packages (from pexpect>4.3->ipython>=5.4.1->jupyterthemes) (0.7.0)\n",
      "Requirement already satisfied: wcwidth in /Users/esling/Library/Python/3.9/lib/python/site-packages (from prompt-toolkit<3.1.0,>=3.0.30->ipython>=5.4.1->jupyterthemes) (0.2.5)\n",
      "Requirement already satisfied: six>=1.5 in /Library/Developer/CommandLineTools/Library/Frameworks/Python3.framework/Versions/3.9/lib/python3.9/site-packages (from python-dateutil>=2.7->matplotlib>=1.4.3->jupyterthemes) (1.15.0)\n",
      "Requirement already satisfied: argon2-cffi-bindings in /Users/esling/Library/Python/3.9/lib/python/site-packages (from argon2-cffi->notebook>=5.6.0->jupyterthemes) (21.2.0)\n"
     ]
    },
    {
     "name": "stdout",
     "output_type": "stream",
     "text": [
      "Requirement already satisfied: debugpy>=1.0 in /Users/esling/Library/Python/3.9/lib/python/site-packages (from ipykernel->notebook>=5.6.0->jupyterthemes) (1.6.3)\n",
      "Requirement already satisfied: psutil in /Users/esling/Library/Python/3.9/lib/python/site-packages (from ipykernel->notebook>=5.6.0->jupyterthemes) (5.9.2)\n",
      "Requirement already satisfied: executing in /Users/esling/Library/Python/3.9/lib/python/site-packages (from stack-data->ipython>=5.4.1->jupyterthemes) (1.1.0)\n",
      "Requirement already satisfied: asttokens in /Users/esling/Library/Python/3.9/lib/python/site-packages (from stack-data->ipython>=5.4.1->jupyterthemes) (2.0.8)\n",
      "Requirement already satisfied: pure-eval in /Users/esling/Library/Python/3.9/lib/python/site-packages (from stack-data->ipython>=5.4.1->jupyterthemes) (0.2.2)\n",
      "Requirement already satisfied: zipp>=0.5 in /Users/esling/Library/Python/3.9/lib/python/site-packages (from importlib-metadata>=3.6->nbconvert>=5->notebook>=5.6.0->jupyterthemes) (3.8.1)\n",
      "Requirement already satisfied: pyrsistent!=0.17.0,!=0.17.1,!=0.17.2,>=0.14.0 in /Users/esling/Library/Python/3.9/lib/python/site-packages (from jsonschema>=2.6->nbformat->notebook>=5.6.0->jupyterthemes) (0.18.1)\n",
      "Requirement already satisfied: attrs>=17.4.0 in /Users/esling/Library/Python/3.9/lib/python/site-packages (from jsonschema>=2.6->nbformat->notebook>=5.6.0->jupyterthemes) (22.1.0)\n",
      "Requirement already satisfied: anyio<4,>=3.1.0 in /Users/esling/Library/Python/3.9/lib/python/site-packages (from jupyter-server>=1.8->nbclassic>=0.4.7->notebook>=5.6.0->jupyterthemes) (3.6.1)\n",
      "Requirement already satisfied: websocket-client in /Users/esling/Library/Python/3.9/lib/python/site-packages (from jupyter-server>=1.8->nbclassic>=0.4.7->notebook>=5.6.0->jupyterthemes) (1.4.1)\n",
      "Requirement already satisfied: cffi>=1.0.1 in /Users/esling/Library/Python/3.9/lib/python/site-packages (from argon2-cffi-bindings->argon2-cffi->notebook>=5.6.0->jupyterthemes) (1.15.1)\n",
      "Requirement already satisfied: soupsieve>1.2 in /Users/esling/Library/Python/3.9/lib/python/site-packages (from beautifulsoup4->nbconvert>=5->notebook>=5.6.0->jupyterthemes) (2.3.2.post1)\n",
      "Requirement already satisfied: webencodings in /Users/esling/Library/Python/3.9/lib/python/site-packages (from bleach->nbconvert>=5->notebook>=5.6.0->jupyterthemes) (0.5.1)\n",
      "Requirement already satisfied: idna>=2.8 in /Users/esling/Library/Python/3.9/lib/python/site-packages (from anyio<4,>=3.1.0->jupyter-server>=1.8->nbclassic>=0.4.7->notebook>=5.6.0->jupyterthemes) (3.4)\n",
      "Requirement already satisfied: sniffio>=1.1 in /Users/esling/Library/Python/3.9/lib/python/site-packages (from anyio<4,>=3.1.0->jupyter-server>=1.8->nbclassic>=0.4.7->notebook>=5.6.0->jupyterthemes) (1.3.0)\n",
      "Requirement already satisfied: pycparser in /Users/esling/Library/Python/3.9/lib/python/site-packages (from cffi>=1.0.1->argon2-cffi-bindings->argon2-cffi->notebook>=5.6.0->jupyterthemes) (2.21)\n",
      "\n",
      "\u001b[1m[\u001b[0m\u001b[34;49mnotice\u001b[0m\u001b[1;39;49m]\u001b[0m\u001b[39;49m A new release of pip available: \u001b[0m\u001b[31;49m22.3.1\u001b[0m\u001b[39;49m -> \u001b[0m\u001b[32;49m23.0.1\u001b[0m\n",
      "\u001b[1m[\u001b[0m\u001b[34;49mnotice\u001b[0m\u001b[1;39;49m]\u001b[0m\u001b[39;49m To update, run: \u001b[0m\u001b[32;49m/Library/Developer/CommandLineTools/usr/bin/python3 -m pip install --upgrade pip\u001b[0m\n",
      "/bin/bash: jt: command not found\n"
     ]
    }
   ],
   "source": [
    "!pip install jupyterthemes \n",
    "!jt -t onedork"
   ]
  },
  {
   "cell_type": "markdown",
   "id": "bd506b52-ef84-4acf-8222-fc91792a9d33",
   "metadata": {
    "tags": []
   },
   "source": [
    "# Music machine learning - Introduction\n",
    "\n",
    "### Author: Philippe Esling (esling@ircam.fr)\n",
    "\n",
    "In this course we will cover\n",
    "1. A [first definition](#definition) on the concept of machine learning\n",
    "2. An introduction to a simple problem of [linear regression](#regression)\n",
    "3. An explanation on [model capacity and overfitting](#capacity)\n",
    "4. An introduction to the [audio datasets](#audio) that we will use"
   ]
  },
  {
   "cell_type": "code",
   "execution_count": 3,
   "id": "33759929-9a51-4cd7-b6bd-ff00b98f21c0",
   "metadata": {},
   "outputs": [
    {
     "data": {
      "text/plain": [
       "[]"
      ]
     },
     "execution_count": 3,
     "metadata": {},
     "output_type": "execute_result"
    },
    {
     "data": {
      "image/png": "[encoded data removed]",
      "text/plain": [
       "<Figure size 640x480 with 1 Axes>"
      ]
     },
     "metadata": {},
     "output_type": "display_data"
    }
   ],
   "source": [
    "import matplotlib.pyplot as plt\n",
    "\n",
    "plt.plot()"
   ]
  },
  {
   "cell_type": "code",
   "execution_count": null,
   "id": "312f0859-e116-4ede-b0c8-defcb74704e6",
   "metadata": {},
   "outputs": [],
   "source": []
  }
 ],
 "metadata": {
  "kernelspec": {
   "display_name": "Python 3 (ipykernel)",
   "language": "python",
   "name": "python3"
  },
  "language_info": {
   "codemirror_mode": {
    "name": "ipython",
    "version": 3
   },
   "file_extension": ".py",
   "mimetype": "text/x-python",
   "name": "python",
   "nbconvert_exporter": "python",
   "pygments_lexer": "ipython3",
   "version": "3.9.6"
  }
 },
 "nbformat": 4,
 "nbformat_minor": 5
}
