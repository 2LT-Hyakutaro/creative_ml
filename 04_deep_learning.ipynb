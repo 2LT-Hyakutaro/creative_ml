{
  "cells": [
    {
      "cell_type": "markdown",
      "metadata": {
        "id": "GTY-Msjal7zU"
      },
      "source": [
        "# Creative Machine Learning - Deep learning\n",
        "\n",
        "### Author: Philippe Esling (esling@ircam.fr)"
      ]
    },
    {
      "cell_type": "code",
      "execution_count": 1,
      "metadata": {
        "colab": {
          "base_uri": "https://localhost:8080/"
        },
        "id": "a5tYhazByEPf",
        "outputId": "8615fe1b-ca4d-40b0-a97c-47812dc8d6dc"
      },
      "outputs": [
        {
          "output_type": "stream",
          "name": "stdout",
          "text": [
            "Looking in indexes: https://pypi.org/simple, https://us-python.pkg.dev/colab-wheels/public/simple/\n",
            "Requirement already satisfied: einops in /usr/local/lib/python3.10/dist-packages (0.6.1)\n",
            "Requirement already satisfied: flaxmodels in /usr/local/lib/python3.10/dist-packages (0.1.2)\n",
            "Requirement already satisfied: distrax in /usr/local/lib/python3.10/dist-packages (0.1.3)\n",
            "Requirement already satisfied: dm_pix in /usr/local/lib/python3.10/dist-packages (0.4.1)\n",
            "Requirement already satisfied: pretty_midi in /usr/local/lib/python3.10/dist-packages (0.2.10)\n",
            "Requirement already satisfied: pyrubberband in /usr/local/lib/python3.10/dist-packages (0.3.0)\n",
            "Requirement already satisfied: resampy in /usr/local/lib/python3.10/dist-packages (0.4.2)\n",
            "Requirement already satisfied: rise in /usr/local/lib/python3.10/dist-packages (5.7.1)\n",
            "Requirement already satisfied: jupyterthemes in /usr/local/lib/python3.10/dist-packages (0.20.0)\n",
            "Requirement already satisfied: h5py>=2.10.0 in /usr/local/lib/python3.10/dist-packages (from flaxmodels) (3.8.0)\n",
            "Requirement already satisfied: numpy>=1.19.5 in /usr/local/lib/python3.10/dist-packages (from flaxmodels) (1.22.4)\n",
            "Requirement already satisfied: requests>=2.23.0 in /usr/local/lib/python3.10/dist-packages (from flaxmodels) (2.27.1)\n",
            "Requirement already satisfied: packaging>=20.9 in /usr/local/lib/python3.10/dist-packages (from flaxmodels) (23.1)\n",
            "Requirement already satisfied: dataclasses>=0.6 in /usr/local/lib/python3.10/dist-packages (from flaxmodels) (0.6)\n",
            "Requirement already satisfied: filelock>=3.0.12 in /usr/local/lib/python3.10/dist-packages (from flaxmodels) (3.12.0)\n",
            "Requirement already satisfied: jax>=0.3 in /usr/local/lib/python3.10/dist-packages (from flaxmodels) (0.4.10)\n",
            "Requirement already satisfied: jaxlib in /usr/local/lib/python3.10/dist-packages (from flaxmodels) (0.4.10+cuda11.cudnn86)\n",
            "Requirement already satisfied: flax>=0.4.0 in /usr/local/lib/python3.10/dist-packages (from flaxmodels) (0.6.9)\n",
            "Requirement already satisfied: Pillow>=7.1.2 in /usr/local/lib/python3.10/dist-packages (from flaxmodels) (8.4.0)\n",
            "Requirement already satisfied: regex>=2021.4.4 in /usr/local/lib/python3.10/dist-packages (from flaxmodels) (2022.10.31)\n",
            "Requirement already satisfied: tqdm>=4.60.0 in /usr/local/lib/python3.10/dist-packages (from flaxmodels) (4.65.0)\n",
            "Requirement already satisfied: absl-py>=0.9.0 in /usr/local/lib/python3.10/dist-packages (from distrax) (1.4.0)\n",
            "Requirement already satisfied: chex>=0.0.7 in /usr/local/lib/python3.10/dist-packages (from distrax) (0.1.7)\n",
            "Requirement already satisfied: tensorflow-probability>=0.15.0 in /usr/local/lib/python3.10/dist-packages (from distrax) (0.20.1)\n",
            "Requirement already satisfied: mido>=1.1.16 in /usr/local/lib/python3.10/dist-packages (from pretty_midi) (1.2.10)\n",
            "Requirement already satisfied: six in /usr/local/lib/python3.10/dist-packages (from pretty_midi) (1.16.0)\n",
            "Requirement already satisfied: pysoundfile>=0.8.0 in /usr/local/lib/python3.10/dist-packages (from pyrubberband) (0.9.0.post1)\n",
            "Requirement already satisfied: numba>=0.53 in /usr/local/lib/python3.10/dist-packages (from resampy) (0.56.4)\n",
            "Requirement already satisfied: notebook>=6.0 in /usr/local/lib/python3.10/dist-packages (from rise) (6.4.8)\n",
            "Requirement already satisfied: jupyter-core in /usr/local/lib/python3.10/dist-packages (from jupyterthemes) (5.3.0)\n",
            "Requirement already satisfied: ipython>=5.4.1 in /usr/local/lib/python3.10/dist-packages (from jupyterthemes) (7.34.0)\n",
            "Requirement already satisfied: matplotlib>=1.4.3 in /usr/local/lib/python3.10/dist-packages (from jupyterthemes) (3.7.1)\n",
            "Requirement already satisfied: lesscpy>=0.11.2 in /usr/local/lib/python3.10/dist-packages (from jupyterthemes) (0.15.1)\n",
            "Requirement already satisfied: dm-tree>=0.1.5 in /usr/local/lib/python3.10/dist-packages (from chex>=0.0.7->distrax) (0.1.8)\n",
            "Requirement already satisfied: toolz>=0.9.0 in /usr/local/lib/python3.10/dist-packages (from chex>=0.0.7->distrax) (0.12.0)\n",
            "Requirement already satisfied: typing-extensions>=4.2.0 in /usr/local/lib/python3.10/dist-packages (from chex>=0.0.7->distrax) (4.5.0)\n",
            "Requirement already satisfied: msgpack in /usr/local/lib/python3.10/dist-packages (from flax>=0.4.0->flaxmodels) (1.0.5)\n",
            "Requirement already satisfied: optax in /usr/local/lib/python3.10/dist-packages (from flax>=0.4.0->flaxmodels) (0.1.5)\n",
            "Requirement already satisfied: orbax-checkpoint in /usr/local/lib/python3.10/dist-packages (from flax>=0.4.0->flaxmodels) (0.2.1)\n",
            "Requirement already satisfied: tensorstore in /usr/local/lib/python3.10/dist-packages (from flax>=0.4.0->flaxmodels) (0.1.36)\n",
            "Requirement already satisfied: rich>=11.1 in /usr/local/lib/python3.10/dist-packages (from flax>=0.4.0->flaxmodels) (13.3.4)\n",
            "Requirement already satisfied: PyYAML>=5.4.1 in /usr/local/lib/python3.10/dist-packages (from flax>=0.4.0->flaxmodels) (6.0)\n",
            "Requirement already satisfied: setuptools>=18.5 in /usr/local/lib/python3.10/dist-packages (from ipython>=5.4.1->jupyterthemes) (67.7.2)\n",
            "Requirement already satisfied: jedi>=0.16 in /usr/local/lib/python3.10/dist-packages (from ipython>=5.4.1->jupyterthemes) (0.18.2)\n",
            "Requirement already satisfied: decorator in /usr/local/lib/python3.10/dist-packages (from ipython>=5.4.1->jupyterthemes) (4.4.2)\n",
            "Requirement already satisfied: pickleshare in /usr/local/lib/python3.10/dist-packages (from ipython>=5.4.1->jupyterthemes) (0.7.5)\n",
            "Requirement already satisfied: traitlets>=4.2 in /usr/local/lib/python3.10/dist-packages (from ipython>=5.4.1->jupyterthemes) (5.7.1)\n",
            "Requirement already satisfied: prompt-toolkit!=3.0.0,!=3.0.1,<3.1.0,>=2.0.0 in /usr/local/lib/python3.10/dist-packages (from ipython>=5.4.1->jupyterthemes) (3.0.38)\n",
            "Requirement already satisfied: pygments in /usr/local/lib/python3.10/dist-packages (from ipython>=5.4.1->jupyterthemes) (2.14.0)\n",
            "Requirement already satisfied: backcall in /usr/local/lib/python3.10/dist-packages (from ipython>=5.4.1->jupyterthemes) (0.2.0)\n",
            "Requirement already satisfied: matplotlib-inline in /usr/local/lib/python3.10/dist-packages (from ipython>=5.4.1->jupyterthemes) (0.1.6)\n",
            "Requirement already satisfied: pexpect>4.3 in /usr/local/lib/python3.10/dist-packages (from ipython>=5.4.1->jupyterthemes) (4.8.0)\n",
            "Requirement already satisfied: ml-dtypes>=0.1.0 in /usr/local/lib/python3.10/dist-packages (from jax>=0.3->flaxmodels) (0.1.0)\n",
            "Requirement already satisfied: opt-einsum in /usr/local/lib/python3.10/dist-packages (from jax>=0.3->flaxmodels) (3.3.0)\n",
            "Requirement already satisfied: scipy>=1.7 in /usr/local/lib/python3.10/dist-packages (from jax>=0.3->flaxmodels) (1.10.1)\n",
            "Requirement already satisfied: ply in /usr/local/lib/python3.10/dist-packages (from lesscpy>=0.11.2->jupyterthemes) (3.11)\n",
            "Requirement already satisfied: contourpy>=1.0.1 in /usr/local/lib/python3.10/dist-packages (from matplotlib>=1.4.3->jupyterthemes) (1.0.7)\n",
            "Requirement already satisfied: cycler>=0.10 in /usr/local/lib/python3.10/dist-packages (from matplotlib>=1.4.3->jupyterthemes) (0.11.0)\n",
            "Requirement already satisfied: fonttools>=4.22.0 in /usr/local/lib/python3.10/dist-packages (from matplotlib>=1.4.3->jupyterthemes) (4.39.3)\n",
            "Requirement already satisfied: kiwisolver>=1.0.1 in /usr/local/lib/python3.10/dist-packages (from matplotlib>=1.4.3->jupyterthemes) (1.4.4)\n",
            "Requirement already satisfied: pyparsing>=2.3.1 in /usr/local/lib/python3.10/dist-packages (from matplotlib>=1.4.3->jupyterthemes) (3.0.9)\n",
            "Requirement already satisfied: python-dateutil>=2.7 in /usr/local/lib/python3.10/dist-packages (from matplotlib>=1.4.3->jupyterthemes) (2.8.2)\n",
            "Requirement already satisfied: jinja2 in /usr/local/lib/python3.10/dist-packages (from notebook>=6.0->rise) (3.1.2)\n",
            "Requirement already satisfied: tornado>=6.1 in /usr/local/lib/python3.10/dist-packages (from notebook>=6.0->rise) (6.3.1)\n",
            "Requirement already satisfied: pyzmq>=17 in /usr/local/lib/python3.10/dist-packages (from notebook>=6.0->rise) (23.2.1)\n",
            "Requirement already satisfied: argon2-cffi in /usr/local/lib/python3.10/dist-packages (from notebook>=6.0->rise) (21.3.0)\n",
            "Requirement already satisfied: ipython-genutils in /usr/local/lib/python3.10/dist-packages (from notebook>=6.0->rise) (0.2.0)\n",
            "Requirement already satisfied: jupyter-client>=5.3.4 in /usr/local/lib/python3.10/dist-packages (from notebook>=6.0->rise) (6.1.12)\n",
            "Requirement already satisfied: nbformat in /usr/local/lib/python3.10/dist-packages (from notebook>=6.0->rise) (5.8.0)\n",
            "Requirement already satisfied: nbconvert in /usr/local/lib/python3.10/dist-packages (from notebook>=6.0->rise) (6.5.4)\n",
            "Requirement already satisfied: nest-asyncio>=1.5 in /usr/local/lib/python3.10/dist-packages (from notebook>=6.0->rise) (1.5.6)\n",
            "Requirement already satisfied: ipykernel in /usr/local/lib/python3.10/dist-packages (from notebook>=6.0->rise) (5.5.6)\n",
            "Requirement already satisfied: Send2Trash>=1.8.0 in /usr/local/lib/python3.10/dist-packages (from notebook>=6.0->rise) (1.8.0)\n",
            "Requirement already satisfied: terminado>=0.8.3 in /usr/local/lib/python3.10/dist-packages (from notebook>=6.0->rise) (0.17.1)\n",
            "Requirement already satisfied: prometheus-client in /usr/local/lib/python3.10/dist-packages (from notebook>=6.0->rise) (0.16.0)\n",
            "Requirement already satisfied: platformdirs>=2.5 in /usr/local/lib/python3.10/dist-packages (from jupyter-core->jupyterthemes) (3.3.0)\n",
            "Requirement already satisfied: llvmlite<0.40,>=0.39.0dev0 in /usr/local/lib/python3.10/dist-packages (from numba>=0.53->resampy) (0.39.1)\n",
            "Requirement already satisfied: cffi>=0.6 in /usr/local/lib/python3.10/dist-packages (from pysoundfile>=0.8.0->pyrubberband) (1.15.1)\n",
            "Requirement already satisfied: urllib3<1.27,>=1.21.1 in /usr/local/lib/python3.10/dist-packages (from requests>=2.23.0->flaxmodels) (1.26.15)\n",
            "Requirement already satisfied: certifi>=2017.4.17 in /usr/local/lib/python3.10/dist-packages (from requests>=2.23.0->flaxmodels) (2022.12.7)\n",
            "Requirement already satisfied: charset-normalizer~=2.0.0 in /usr/local/lib/python3.10/dist-packages (from requests>=2.23.0->flaxmodels) (2.0.12)\n",
            "Requirement already satisfied: idna<4,>=2.5 in /usr/local/lib/python3.10/dist-packages (from requests>=2.23.0->flaxmodels) (3.4)\n",
            "Requirement already satisfied: cloudpickle>=1.3 in /usr/local/lib/python3.10/dist-packages (from tensorflow-probability>=0.15.0->distrax) (2.2.1)\n",
            "Requirement already satisfied: gast>=0.3.2 in /usr/local/lib/python3.10/dist-packages (from tensorflow-probability>=0.15.0->distrax) (0.4.0)\n",
            "Requirement already satisfied: pycparser in /usr/local/lib/python3.10/dist-packages (from cffi>=0.6->pysoundfile>=0.8.0->pyrubberband) (2.21)\n",
            "Requirement already satisfied: parso<0.9.0,>=0.8.0 in /usr/local/lib/python3.10/dist-packages (from jedi>=0.16->ipython>=5.4.1->jupyterthemes) (0.8.3)\n",
            "Requirement already satisfied: ptyprocess>=0.5 in /usr/local/lib/python3.10/dist-packages (from pexpect>4.3->ipython>=5.4.1->jupyterthemes) (0.7.0)\n",
            "Requirement already satisfied: wcwidth in /usr/local/lib/python3.10/dist-packages (from prompt-toolkit!=3.0.0,!=3.0.1,<3.1.0,>=2.0.0->ipython>=5.4.1->jupyterthemes) (0.2.6)\n",
            "Requirement already satisfied: markdown-it-py<3.0.0,>=2.2.0 in /usr/local/lib/python3.10/dist-packages (from rich>=11.1->flax>=0.4.0->flaxmodels) (2.2.0)\n",
            "Requirement already satisfied: argon2-cffi-bindings in /usr/local/lib/python3.10/dist-packages (from argon2-cffi->notebook>=6.0->rise) (21.2.0)\n",
            "Requirement already satisfied: MarkupSafe>=2.0 in /usr/local/lib/python3.10/dist-packages (from jinja2->notebook>=6.0->rise) (2.1.2)\n",
            "Requirement already satisfied: lxml in /usr/local/lib/python3.10/dist-packages (from nbconvert->notebook>=6.0->rise) (4.9.2)\n",
            "Requirement already satisfied: beautifulsoup4 in /usr/local/lib/python3.10/dist-packages (from nbconvert->notebook>=6.0->rise) (4.11.2)\n",
            "Requirement already satisfied: bleach in /usr/local/lib/python3.10/dist-packages (from nbconvert->notebook>=6.0->rise) (6.0.0)\n",
            "Requirement already satisfied: defusedxml in /usr/local/lib/python3.10/dist-packages (from nbconvert->notebook>=6.0->rise) (0.7.1)\n",
            "Requirement already satisfied: entrypoints>=0.2.2 in /usr/local/lib/python3.10/dist-packages (from nbconvert->notebook>=6.0->rise) (0.4)\n",
            "Requirement already satisfied: jupyterlab-pygments in /usr/local/lib/python3.10/dist-packages (from nbconvert->notebook>=6.0->rise) (0.2.2)\n",
            "Requirement already satisfied: mistune<2,>=0.8.1 in /usr/local/lib/python3.10/dist-packages (from nbconvert->notebook>=6.0->rise) (0.8.4)\n",
            "Requirement already satisfied: nbclient>=0.5.0 in /usr/local/lib/python3.10/dist-packages (from nbconvert->notebook>=6.0->rise) (0.7.4)\n",
            "Requirement already satisfied: pandocfilters>=1.4.1 in /usr/local/lib/python3.10/dist-packages (from nbconvert->notebook>=6.0->rise) (1.5.0)\n",
            "Requirement already satisfied: tinycss2 in /usr/local/lib/python3.10/dist-packages (from nbconvert->notebook>=6.0->rise) (1.2.1)\n",
            "Requirement already satisfied: fastjsonschema in /usr/local/lib/python3.10/dist-packages (from nbformat->notebook>=6.0->rise) (2.16.3)\n",
            "Requirement already satisfied: jsonschema>=2.6 in /usr/local/lib/python3.10/dist-packages (from nbformat->notebook>=6.0->rise) (4.3.3)\n",
            "Requirement already satisfied: cached_property in /usr/local/lib/python3.10/dist-packages (from orbax-checkpoint->flax>=0.4.0->flaxmodels) (1.5.2)\n",
            "Requirement already satisfied: importlib_resources in /usr/local/lib/python3.10/dist-packages (from orbax-checkpoint->flax>=0.4.0->flaxmodels) (5.12.0)\n",
            "Requirement already satisfied: etils in /usr/local/lib/python3.10/dist-packages (from orbax-checkpoint->flax>=0.4.0->flaxmodels) (1.2.0)\n",
            "Requirement already satisfied: attrs>=17.4.0 in /usr/local/lib/python3.10/dist-packages (from jsonschema>=2.6->nbformat->notebook>=6.0->rise) (23.1.0)\n",
            "Requirement already satisfied: pyrsistent!=0.17.0,!=0.17.1,!=0.17.2,>=0.14.0 in /usr/local/lib/python3.10/dist-packages (from jsonschema>=2.6->nbformat->notebook>=6.0->rise) (0.19.3)\n",
            "Requirement already satisfied: mdurl~=0.1 in /usr/local/lib/python3.10/dist-packages (from markdown-it-py<3.0.0,>=2.2.0->rich>=11.1->flax>=0.4.0->flaxmodels) (0.1.2)\n",
            "Requirement already satisfied: soupsieve>1.2 in /usr/local/lib/python3.10/dist-packages (from beautifulsoup4->nbconvert->notebook>=6.0->rise) (2.4.1)\n",
            "Requirement already satisfied: webencodings in /usr/local/lib/python3.10/dist-packages (from bleach->nbconvert->notebook>=6.0->rise) (0.5.1)\n",
            "fatal: destination path 'cml' already exists and is not an empty directory.\n",
            "fatal: destination path 'dm_aux' already exists and is not an empty directory.\n"
          ]
        }
      ],
      "source": [
        "# colab version\n",
        "!pip install einops flaxmodels distrax dm_pix pretty_midi pyrubberband resampy rise jupyterthemes\n",
        "!git clone https://github.com/esling/cml.git \"cml\"\n",
        "!git clone https://github.com/deepmind/dm_aux.git \"dm_aux\""
      ]
    },
    {
      "cell_type": "markdown",
      "metadata": {
        "id": "Z3M5ezRyrjA3"
      },
      "source": [
        "In this course we will cover\n",
        "1. A brief introduction to [deep learning](#learning) and problems that we face\n",
        "2. A formal presentation of [Auto-Encoders](#ae) (AEs)\n",
        "3. An explanation of how to [implement AEs](#implement) and [layer-wise pretraining](#implement)\n",
        "4. An [more modern application](#application) of AEs as generative models\n",
        "4. An practical exemple of [convolutional denoising AEs](#denoising) for image data **(exercise)**"
      ]
    },
    {
      "cell_type": "markdown",
      "metadata": {
        "id": "tt-6CpBnyEPk"
      },
      "source": [
        "## Deep learning\n",
        "\n",
        "Deep learning is currently the most successful subfield of machine learning that deals with algorithms inspired by the structure and function of the brain through artificial neural networks. It enables computers to learn from vast amounts of data and has revolutionized various fields such as computer vision, natural language processing and speech recognition.\n",
        "\n",
        "## Why deep architectures?\n",
        "Deep architectures are essential because they allow models to learn hierarchical representations from raw input data. These hierarchical representations can capture increasingly complex and abstract features as the network depth increases. This capability enables deep learning models to achieve state-of-the-art results in many tasks, as they can automatically learn to extract relevant features from the input data without relying on hand-engineered features.\n",
        "\n",
        "**References:** \n",
        "- Goodfellow, I., Bengio, Y., & Courville, A. (2016). [Deep Learning](http://www.deeplearningbook.org). MIT Press.\n",
        "\n",
        "## Challenges in deep architectures\n",
        "\n",
        "As seen in the course, there are several impediments in learning deep architectures, namely\n",
        "1. Vanishing gradient\n",
        "2. Overfitting issues\n",
        "3. Multiple local minima\n",
        "4. Instability in the training\n",
        "Here, we briefly discuss the two major problems, namely _vanishing gradient_ and _overfitting_.\n",
        "\n",
        "#### Vanishing gradient\n",
        "One of the main challenges in training deep architectures is the vanishing gradient problem. It occurs when gradients of the loss function with respect to the model parameters become too small as they backpropagate through the layers. This issue leads to slow convergence and poor performance, as the weights in the earlier layers do not get updated significantly during training.\n",
        "\n",
        "#### Overfitting\n",
        "Another challenge in deep learning is overfitting, where the model learns to perform well on the training data but fails to generalize to unseen data. Regularization techniques, such as L1 and L2 regularization, dropout, and weight decay, are used to prevent overfitting by adding constraints to the model or by making the training process more robust.\n",
        "\n",
        "**References:**\n",
        "- Pascanu, R., Mikolov, T., & Bengio, Y. (2013). [On the difficulty of training recurrent neural networks](https://proceedings.mlr.press/v28/pascanu13.html). In International conference on machine learning (pp. 1310-1318).\n",
        "- Srivastava, N., Hinton, G., Krizhevsky, A., Sutskever, I., & Salakhutdinov, R. (2014). [Dropout: A simple way to prevent neural networks from overfitting](http://jmlr.org/papers/v15/srivastava14a.html). Journal of Machine Learning Research, 15(1), 1929-1958.\n",
        "\n",
        "### Layer-wise Pretraining\n",
        "To address the vanishing gradient problem and improve the training of deep architectures, layer-wise pretraining was proposed. In this approach, each layer of the deep architecture is pretrained independently, usually with unsupervised learning methods like autoencoders, before fine-tuning the entire network using supervised learning.\n",
        "\n",
        "**References:**\n",
        "- Hinton, G. E., Osindero, S., & Teh, Y. W. (2006). [A fast learning algorithm for deep belief nets](https://www.cs.toronto.edu/~hinton/absps/fastnc.pdf). Neural computation, 18(7), 1527-1554.\n",
        "- Vincent, P., Larochelle, H., Bengio, Y., & Manzagol, P. A. (2008). [Extracting and composing robust features with denoising autoencoders](https://dl.acm.org/doi/10.1145/1390156.1390294). In Proceedings of the 25th international conference on Machine learning (pp. 1096-1103).\n",
        "\n",
        "\n",
        "#### Autoencoders\n",
        "_Autoencoders_ are unsupervised learning models that learn to reconstruct their input data. They consist of an encoder that maps the input data to a lower-dimensional representation and a decoder that reconstructs the input data from the lower-dimensional representation. Autoencoders can be used to learn useful features from the data and initialize the weights of a deep architecture during layer-wise pretraining. As we have seen, an interesting variant of autoencoders are _denoising autoencoders_ that learn to reconstruct the input data from a corrupted version of it. By learning to recover the original data from the corrupted version, denoising autoencoders can capture more robust and meaningful features. They can be used in layer-wise pretraining to improve the training of deep architectures further."
      ]
    },
    {
      "cell_type": "markdown",
      "metadata": {
        "id": "_kGtUTs-yEPm"
      },
      "source": [
        "## A brief refresher in Pytorch\n",
        "\n",
        "As we have seen previously, `Pytorch` is a Python-based scientific computing package targeted at deep learning, which provides a very large flexibility and easeness of use for GPU calculation. `Pytorch` is constructed around the concept of `Tensor`, which is very similar to `numpy.ndarray`, but can be seamlessly run on GPU. Here, we provide a more detailed refresher on concepts of `Pytorch`.\n",
        "\n",
        "Here are some examples of different `Tensor` creation"
      ]
    },
    {
      "cell_type": "code",
      "execution_count": null,
      "metadata": {
        "jupyter": {
          "outputs_hidden": false
        },
        "id": "jqx_uyG5yEPn"
      },
      "outputs": [],
      "source": [
        "import torch\n",
        "# Create a 5 x 3 Tensor of zeros\n",
        "x = torch.empty(5, 3)\n",
        "# Create a 64 x 3 x 32 x 32 random Tensor\n",
        "x = torch.rand(64, 3, 32, 32)\n",
        "# Create a Tensor of zeros with _long_ type\n",
        "x = torch.zeros(10, 10, dtype=torch.long)\n",
        "# Construct a Tensor from the data\n",
        "x = torch.tensor([5.5, 3])"
      ]
    },
    {
      "cell_type": "markdown",
      "metadata": {
        "id": "qRKnr5FNyEPo"
      },
      "source": [
        "or create a tensor based on an existing tensor. These methods\n",
        "will reuse properties of the input tensor, e.g. dtype, unless\n",
        "new values are provided by user\n",
        "\n"
      ]
    },
    {
      "cell_type": "code",
      "execution_count": null,
      "metadata": {
        "jupyter": {
          "outputs_hidden": false
        },
        "id": "wTzx9vVOyEPo",
        "outputId": "2125d049-0671-4b95-b961-c89117ee4b85"
      },
      "outputs": [
        {
          "name": "stdout",
          "output_type": "stream",
          "text": [
            "torch.Size([8, 2])\n",
            "8\n",
            "torch.Size([8, 2])\n"
          ]
        }
      ],
      "source": [
        "x = x.new_ones(8, 2, dtype=torch.double)      # new_* methods take in sizes\n",
        "y = torch.randn_like(x, dtype=torch.float)    # override dtype!\n",
        "print(x.size())\n",
        "print(x.shape[0])\n",
        "print(y.shape)"
      ]
    },
    {
      "cell_type": "markdown",
      "metadata": {
        "id": "9eJB5KPyyEPt"
      },
      "source": [
        "#### Arithmetic operations\n",
        "\n",
        "Tensors provide access to a transparent library of arithmetic operations"
      ]
    },
    {
      "cell_type": "code",
      "execution_count": 2,
      "metadata": {
        "jupyter": {
          "outputs_hidden": false
        },
        "colab": {
          "base_uri": "https://localhost:8080/",
          "height": 237
        },
        "id": "muABxDp4yEPv",
        "outputId": "2a130bee-dd80-429e-d8de-51dadef54aeb"
      },
      "outputs": [
        {
          "output_type": "error",
          "ename": "NameError",
          "evalue": "ignored",
          "traceback": [
            "\u001b[0;31m---------------------------------------------------------------------------\u001b[0m",
            "\u001b[0;31mNameError\u001b[0m                                 Traceback (most recent call last)",
            "\u001b[0;32m<ipython-input-2-fe5eae5e5e61>\u001b[0m in \u001b[0;36m<cell line: 1>\u001b[0;34m()\u001b[0m\n\u001b[0;32m----> 1\u001b[0;31m \u001b[0mx\u001b[0m \u001b[0;34m=\u001b[0m \u001b[0mtorch\u001b[0m\u001b[0;34m.\u001b[0m\u001b[0mrand\u001b[0m\u001b[0;34m(\u001b[0m\u001b[0;36m8\u001b[0m\u001b[0;34m,\u001b[0m \u001b[0;36m2\u001b[0m\u001b[0;34m)\u001b[0m\u001b[0;34m\u001b[0m\u001b[0;34m\u001b[0m\u001b[0m\n\u001b[0m\u001b[1;32m      2\u001b[0m \u001b[0my\u001b[0m \u001b[0;34m=\u001b[0m \u001b[0mtorch\u001b[0m\u001b[0;34m.\u001b[0m\u001b[0mrand\u001b[0m\u001b[0;34m(\u001b[0m\u001b[0;36m8\u001b[0m\u001b[0;34m,\u001b[0m \u001b[0;36m2\u001b[0m\u001b[0;34m)\u001b[0m\u001b[0;34m\u001b[0m\u001b[0;34m\u001b[0m\u001b[0m\n\u001b[1;32m      3\u001b[0m \u001b[0mz\u001b[0m \u001b[0;34m=\u001b[0m \u001b[0mtorch\u001b[0m\u001b[0;34m.\u001b[0m\u001b[0mrand\u001b[0m\u001b[0;34m(\u001b[0m\u001b[0;36m2\u001b[0m\u001b[0;34m,\u001b[0m \u001b[0;36m4\u001b[0m\u001b[0;34m)\u001b[0m\u001b[0;34m\u001b[0m\u001b[0;34m\u001b[0m\u001b[0m\n\u001b[1;32m      4\u001b[0m \u001b[0;31m# Equivalent additions\u001b[0m\u001b[0;34m\u001b[0m\u001b[0;34m\u001b[0m\u001b[0m\n\u001b[1;32m      5\u001b[0m \u001b[0ma\u001b[0m \u001b[0;34m=\u001b[0m \u001b[0;34m(\u001b[0m\u001b[0mx\u001b[0m \u001b[0;34m+\u001b[0m \u001b[0my\u001b[0m\u001b[0;34m)\u001b[0m\u001b[0;34m\u001b[0m\u001b[0;34m\u001b[0m\u001b[0m\n",
            "\u001b[0;31mNameError\u001b[0m: name 'torch' is not defined"
          ]
        }
      ],
      "source": [
        "x = torch.rand(8, 2)\n",
        "y = torch.rand(8, 2)\n",
        "z = torch.rand(2, 4)\n",
        "# Equivalent additions\n",
        "a = (x + y)\n",
        "b = (torch.add(x, y))\n",
        "# Add in place\n",
        "x.add_(y)\n",
        "# Put in target Tensor\n",
        "result = torch.empty(8, 2)\n",
        "torch.add(x, y, out=result)\n",
        "# Element_wise multiplication\n",
        "print(x * y)\n",
        "# Matrix product\n",
        "print(x @ z)"
      ]
    },
    {
      "cell_type": "markdown",
      "metadata": {
        "id": "1KdbFo8_yEPw"
      },
      "source": [
        "#### Slicing and resizing\n",
        "\n",
        "You can slice tensors using the usual Python operators. For resizing and reshaping tensor, you can use ``torch.view`` or ``torch.reshape``"
      ]
    },
    {
      "cell_type": "code",
      "execution_count": 3,
      "metadata": {
        "jupyter": {
          "outputs_hidden": false
        },
        "colab": {
          "base_uri": "https://localhost:8080/"
        },
        "id": "x_I4ntFvyEPw",
        "outputId": "ba72c4d9-27e0-4fa8-c4e3-f3fbec6b121d"
      },
      "outputs": [
        {
          "output_type": "stream",
          "name": "stdout",
          "text": [
            "torch.Size([16, 32, 32])\n",
            "torch.Size([64, 32, 32])\n",
            "torch.Size([4, 4]) torch.Size([16]) torch.Size([2, 8])\n",
            "torch.Size([2, 2, 2, 2])\n"
          ]
        }
      ],
      "source": [
        "#print(x[:, 1])\n",
        "import torch\n",
        "x = torch.zeros(16, 32, 32)\n",
        "x2 = torch.zeros(64, 32, 32)\n",
        "y = x.view(-1, 32, 32)\n",
        "y2 = x2.view(-1, 32, 32)\n",
        "print(y.size())\n",
        "print(y2.size())\n",
        "x = torch.randn(4, 4)\n",
        "y = x.view(16)\n",
        "z = x.view(-1, 8)  # the size -1 is inferred from other dimensions\n",
        "print(x.size(), y.size(), z.size())\n",
        "\n",
        "z = torch.rand(4, 4)\n",
        "z = z.view(-1, 2, 2, 2)\n",
        "print(z.shape)"
      ]
    },
    {
      "cell_type": "markdown",
      "metadata": {
        "id": "q218DQF1yEPx"
      },
      "source": [
        "If you have a one element tensor, use ``.item()`` to get the value as a\n",
        "Python number\n",
        "\n"
      ]
    },
    {
      "cell_type": "code",
      "execution_count": 4,
      "metadata": {
        "jupyter": {
          "outputs_hidden": false
        },
        "colab": {
          "base_uri": "https://localhost:8080/"
        },
        "id": "7uO3cKnmyEPx",
        "outputId": "3a00fb0f-04a2-415d-b835-48c9ddad67db"
      },
      "outputs": [
        {
          "output_type": "stream",
          "name": "stdout",
          "text": [
            "tensor([-1.0377])\n",
            "-1.037726640701294\n"
          ]
        }
      ],
      "source": [
        "x = torch.randn(1)\n",
        "print(x)\n",
        "print(x.item())"
      ]
    },
    {
      "cell_type": "markdown",
      "metadata": {
        "id": "gJWEBfD3yEPy"
      },
      "source": [
        "Tensors have more than **100 operations**, including _transposing, indexing, slicing, mathematical operations, linear algebra, random numbers_, which are all described at [https://pytorch.org/docs/torch](https://pytorch.org/docs/torch)"
      ]
    },
    {
      "cell_type": "markdown",
      "metadata": {
        "id": "Ct86rU24yEPy"
      },
      "source": [
        "#### Numpy bridge\n",
        "\n",
        "Converting a Torch Tensor to a Numpy array and vice versa is extremely simple. Note that the Pytorch Tensor and Numpy array **will share their underlying memory locations** (if the Tensor is on CPU), and changing one will change the other."
      ]
    },
    {
      "cell_type": "code",
      "execution_count": 5,
      "metadata": {
        "jupyter": {
          "outputs_hidden": false
        },
        "colab": {
          "base_uri": "https://localhost:8080/"
        },
        "id": "AbROmj1QyEPy",
        "outputId": "72ad9d80-32a6-4224-b248-a71f4745f0ef"
      },
      "outputs": [
        {
          "output_type": "stream",
          "name": "stdout",
          "text": [
            "tensor([2., 2., 2., 2., 2.])\n",
            "[2. 2. 2. 2. 2.]\n"
          ]
        }
      ],
      "source": [
        "a = torch.ones(5)\n",
        "b = a.numpy()\n",
        "a.add_(1)\n",
        "print(a)\n",
        "print(b)"
      ]
    },
    {
      "cell_type": "markdown",
      "metadata": {
        "id": "4dletEvpyEPz"
      },
      "source": [
        "#### Going GPU\n",
        "\n",
        "Tensors can be moved onto any device using the ``.to`` method."
      ]
    },
    {
      "cell_type": "code",
      "execution_count": 6,
      "metadata": {
        "jupyter": {
          "outputs_hidden": false
        },
        "colab": {
          "base_uri": "https://localhost:8080/"
        },
        "id": "5VV78oTyyEPz",
        "outputId": "025208ac-0889-4e2f-f1fd-94f5f910cb1a"
      },
      "outputs": [
        {
          "output_type": "stream",
          "name": "stdout",
          "text": [
            "tensor([-0.0377], device='cuda:0')\n",
            "tensor([-0.0377], dtype=torch.float64)\n"
          ]
        }
      ],
      "source": [
        "# let us run this cell only if CUDA is available\n",
        "# We will use ``torch.device`` objects to move tensors in and out of GPU\n",
        "if torch.cuda.is_available():\n",
        "    device = torch.device(\"cuda\")          # a CUDA device object\n",
        "    y = torch.ones_like(x, device=device)  # directly create a tensor on GPU\n",
        "    x = x.to(device)                       # or just use strings ``.to(\"cuda\")``\n",
        "    z = x + y\n",
        "    print(z)\n",
        "    print(z.to(\"cpu\", torch.double))       # ``.to`` can also change dtype together!"
      ]
    },
    {
      "cell_type": "markdown",
      "metadata": {
        "id": "TfiQif9GyEP0"
      },
      "source": [
        "## Computation Graphs\n",
        "\n",
        "The concept of a computation graph is essential to efficient deep learning programming, because it allows you to not have to write the back propagation gradients yourself. A computation graph is simply a specification of how your data is combined to give you the output (the forward pass). Since the graph totally specifies what parameters were involved with which operations, it contains enough information to compute derivatives. \n",
        "\n",
        "The fundamental flag ``requires_grad`` allows to specify which variables are going to need differentiation in all these operations. If ``requires_grad=True``, the Tensor object keeps track of how it was created."
      ]
    },
    {
      "cell_type": "code",
      "execution_count": null,
      "metadata": {
        "jupyter": {
          "outputs_hidden": false
        },
        "id": "Pg5_k0Z8yEP0",
        "outputId": "9d2093b1-ad60-48eb-9dba-7f63fd2f03c4"
      },
      "outputs": [
        {
          "name": "stdout",
          "output_type": "stream",
          "text": [
            "tensor([1., 2., 3.], requires_grad=True)\n",
            "tensor([5., 7., 9.], grad_fn=<AddBackward0>)\n",
            "<AddBackward0 object at 0x7f118e0e99c0>\n",
            "tensor([0.3333, 0.3333, 0.3333])\n"
          ]
        }
      ],
      "source": [
        "# Tensor factory methods have a ``requires_grad`` flag\n",
        "x = torch.tensor([1., 2., 3], requires_grad=True)\n",
        "# With requires_grad=True, we can still do all the operations \n",
        "y = torch.tensor([4., 5., 6], requires_grad=True)\n",
        "print(x)\n",
        "z = x + y\n",
        "out = z.mean(-1)\n",
        "print(z)\n",
        "# But z now knows something extra.\n",
        "print(z.grad_fn)\n",
        "out.backward()\n",
        "print(y.grad)"
      ]
    },
    {
      "cell_type": "markdown",
      "metadata": {
        "id": "Dsb6pY_NyEP0"
      },
      "source": [
        "Therefore, `z` knows that it is the direct result of an addition. Furthermore, if we keep following z.grad_fn, we can even find back both `x` and `y`. But how does that help us compute a gradient?"
      ]
    },
    {
      "cell_type": "code",
      "execution_count": null,
      "metadata": {
        "jupyter": {
          "outputs_hidden": false
        },
        "id": "soxb7thRyEP1",
        "outputId": "b46a82f6-4707-4cf4-9772-94d0165d7401"
      },
      "outputs": [
        {
          "name": "stdout",
          "output_type": "stream",
          "text": [
            "tensor(21., grad_fn=<SumBackward0>)\n",
            "<SumBackward0 object at 0x7f118e0eac80>\n",
            "<AddBackward0 object at 0x7f118e0e9570>\n",
            "None\n"
          ]
        }
      ],
      "source": [
        "# Lets sum up all the entries in z\n",
        "s = z.sum()\n",
        "print(s)\n",
        "print(s.grad_fn)\n",
        "print(z.grad_fn)\n",
        "print(x.grad_fn)"
      ]
    },
    {
      "cell_type": "markdown",
      "metadata": {
        "id": "WhOtBjn-yEP1"
      },
      "source": [
        "So now, what is the derivative of this sum with respect to the first\n",
        "component of x? In math, we want\n",
        "\n",
        "\\begin{align}\\frac{\\partial s}{\\partial x_0}\\end{align}\n",
        "\n",
        "\n",
        "\n",
        "Well, s knows that it was created as a sum of the tensor z. z knows\n",
        "that it was the sum x + y. So\n",
        "\n",
        "\\begin{align}s = \\overbrace{x_0 + y_0}^\\text{$z_0$} + \\overbrace{x_1 + y_1}^\\text{$z_1$} + \\overbrace{x_2 + y_2}^\\text{$z_2$}\\end{align}\n",
        "\n",
        "And so s contains enough information to determine that the derivative we want is 1. We can have Pytorch compute the gradient, and see that we were right:\n",
        "\n",
        "**Note** : If you run this block multiple times, the gradient will increment. That is because Pytorch *accumulates* the gradient into the .grad property, since for many models this is very convenient."
      ]
    },
    {
      "cell_type": "code",
      "execution_count": null,
      "metadata": {
        "jupyter": {
          "outputs_hidden": false
        },
        "id": "wsLqfmNuyEP2",
        "outputId": "8ed4f826-747c-4816-a80f-15b3c3bedef7"
      },
      "outputs": [
        {
          "name": "stdout",
          "output_type": "stream",
          "text": [
            "tensor([3.3333, 3.3333, 3.3333])\n"
          ]
        }
      ],
      "source": [
        "# calling .backward() on any variable will run backprop, starting from it.\n",
        "s.backward()\n",
        "print(x.grad)"
      ]
    },
    {
      "cell_type": "markdown",
      "metadata": {
        "id": "qNZ9GHe7yEP3"
      },
      "source": [
        "Understanding what is going on in the block below is crucial for being a\n",
        "successful programmer in deep learning.\n",
        "\n",
        "\n"
      ]
    },
    {
      "cell_type": "code",
      "execution_count": null,
      "metadata": {
        "jupyter": {
          "outputs_hidden": false
        },
        "id": "0xru0lIuyEP3",
        "outputId": "342fa5c0-6f1a-402c-9f17-7d0f9b377955"
      },
      "outputs": [
        {
          "name": "stdout",
          "output_type": "stream",
          "text": [
            "False False\n",
            "None\n",
            "<AddBackward0 object at 0x102e7a7f0>\n",
            "True\n",
            "None\n"
          ]
        }
      ],
      "source": [
        "x = torch.randn(2, 2)\n",
        "y = torch.randn(2, 2)\n",
        "# By default, user created Tensors have ``requires_grad=False``\n",
        "print(x.requires_grad, y.requires_grad)\n",
        "z = x + y\n",
        "# So you can't backprop through z\n",
        "print(z.grad_fn)\n",
        "# ``.requires_grad_( ... )`` changes an existing Tensor's ``requires_grad``\n",
        "x = x.requires_grad_()\n",
        "y = y.requires_grad_()\n",
        "# z contains enough information to compute gradients, as we saw above\n",
        "z = x + y\n",
        "print(z.grad_fn)\n",
        "# If any input to an operation has ``requires_grad=True``, so will the output\n",
        "print(z.requires_grad)\n",
        "# Now z has the computation history, which we can **detach**\n",
        "new_z = z.detach()\n",
        "# Which means that we have no gradient attached anymore\n",
        "print(new_z.grad_fn)"
      ]
    },
    {
      "cell_type": "markdown",
      "metadata": {
        "id": "btVlHhvEyEP3"
      },
      "source": [
        "You can also stop autograd from tracking history on Tensors\n",
        "with ``.requires_grad=True`` by wrapping the code block in\n",
        "``with torch.no_grad():``\n",
        "\n"
      ]
    },
    {
      "cell_type": "code",
      "execution_count": null,
      "metadata": {
        "jupyter": {
          "outputs_hidden": false
        },
        "id": "JVKL1DbCyEP3",
        "outputId": "866f2957-beec-4b6d-f3a1-858a23424529"
      },
      "outputs": [
        {
          "name": "stdout",
          "output_type": "stream",
          "text": [
            "True\n",
            "True\n",
            "False\n"
          ]
        }
      ],
      "source": [
        "print(x.requires_grad)\n",
        "print((x ** 2).requires_grad)\n",
        "with torch.no_grad():\n",
        "\tprint((x ** 2).requires_grad)"
      ]
    },
    {
      "cell_type": "markdown",
      "metadata": {
        "id": "W76dCb1tyEP3"
      },
      "source": [
        "## Defining networks \n",
        "\n",
        "Here, we briefly recall that in `PyTorch`, the `nn` package provides higher-level abstractions over raw computational graphs that are useful for building neural networks. The `nn` package defines a set of `Modules`, which are roughly equivalent to neural network layers. A `Module` receives input `Tensors` and computes output `Tensors`, but may also hold internal state such as `Tensors` containing learnable parameters. In the following example, we use the `nn` package to show how easy it is to instantiate a three-layer network"
      ]
    },
    {
      "cell_type": "code",
      "execution_count": null,
      "metadata": {
        "id": "iqMqGByayEP4"
      },
      "outputs": [],
      "source": [
        "import torch\n",
        "import torch.nn as nn\n",
        "# Define the input dimensions\n",
        "in_size = 1000\n",
        "# Number of neurons in a layer\n",
        "hidden_size = 100\n",
        "# Output (target) dimension\n",
        "output_size = 10\n",
        "# Use the nn package to define our model and loss function.\n",
        "model = torch.nn.Sequential(\n",
        "    nn.Linear(in_size, hidden_size),\n",
        "    nn.ReLU(),\n",
        "    nn.Linear(hidden_size, hidden_size),\n",
        "    nn.Tanh(),\n",
        "    nn.Linear(hidden_size, output_size),\n",
        "    nn.Softmax()\n",
        ")"
      ]
    },
    {
      "cell_type": "markdown",
      "metadata": {
        "id": "R-AoDxVOyEP4"
      },
      "source": [
        "As we have seen in the slides, we can as easily mix between pre-defined modules and arithmetic operations. Here, we will define our very own *residual* layer, and then combine them in a more complex network. To do so, we first define our own `ResidualLayer` (by subclassing `nn.Module`). This type of layer can now be combined inside a full network by simply using `nn.Sequential`."
      ]
    },
    {
      "cell_type": "code",
      "execution_count": null,
      "metadata": {
        "id": "Qd0kGawRyEP5"
      },
      "outputs": [],
      "source": [
        "class ResidualLayer(nn.Module):\n",
        "    def __init__(self, dim, dim_res=32):\n",
        "        super().__init__()\n",
        "        self.block = nn.Sequential(\n",
        "            nn.Conv2d(dim, dim_res, 3, 1, 1),\n",
        "            nn.ReLU(True),\n",
        "            nn.Conv2d(dim_res, dim, 1),\n",
        "            nn.ReLU(True)\n",
        "        )\n",
        "\n",
        "    def forward(self, x):\n",
        "        # Perform main residual action\n",
        "        return x + self.block(x)\n",
        "\n",
        "model = nn.Sequential(\n",
        "\tResidualLayer(64, 32),\n",
        "\tResidualLayer(64, 32),\n",
        ")"
      ]
    },
    {
      "cell_type": "markdown",
      "metadata": {
        "id": "VZUH3gimyEP5"
      },
      "source": [
        "# Autoencoders and layer-wise training\n",
        "\n",
        "Here, we discuss the implementation of a deep autoencoder using PyTorch, focusing on layer-wise training. Autoencoders are unsupervised learning models that can learn useful features from the input data. They consist of an encoder, which maps the input data to a lower-dimensional representation, and a decoder, which reconstructs the input data from the lower-dimensional representation. _Deep autoencoders_ are multi-layer autoencoders that can learn more abstract and complex features from the input data. To learn such models, _layer-wise training_ was historically used as a technique to help overcome the vanishing gradient problem and initializes the network with better weights, leading to improved performance. Hence, we aim to _pretrain each layer individually_ in an **unsupervised** manner, followed by fine-tuning the entire network with _supervised_ learning."
      ]
    },
    {
      "cell_type": "markdown",
      "metadata": {
        "id": "Wa4gMoqJyEP5"
      },
      "source": [
        "<a id=\"generative\"></a>\n",
        "## Types of learning\n",
        "\n",
        "### Supervised refresher\n",
        "\n",
        "Until now, we have mostly discussed models that are developed for _supervised_ and _discriminative_ tasks. To formalize this problem, we have a set of data $\\{\\mathbf{x}_{i}, \\mathbf{y}_{i}\\}_{i\\in[1,n]}$, where the $\\mathbf{x}_{i}$ and $\\mathbf{y}_{i}$ are linked. Therefore, we want to approximate this relation through\n",
        "\\begin{equation}\n",
        "    \\mathbf{\\hat{y}} = \\mathcal{F}_\\mathbf{\\theta}(\\mathbf{x})  \n",
        "\\end{equation}\n",
        "where we train the parameters $\\mathbf{\\theta}$ so that $\\mathbf{\\hat{y}}\\approx\\mathbf{y}$. The existence of a label $\\mathbf{y}$ (\"correct answer\") defines a _supervised_ problem"
      ]
    },
    {
      "cell_type": "markdown",
      "metadata": {
        "id": "rF6G6lexyEP6"
      },
      "source": [
        "### Going unsupervised\n",
        "\n",
        "In some cases, we might only have a set of data $\\{\\mathbf{x}_{i}\\}_{i\\in[1,n]}$, and still be interested in learning some underlying properties or structure of this set. In that case, the problem is _unsupervised_ as we have to learn without a given answer. \n",
        "\n",
        "Here, we can turn to _generative_ models [[1](#reference1)], which allows to create new data instances based on the observation of existing examples. Although these models are more naturally defined in a _probabilistic way_ (as we will see later when we dwelve in generative models), we will assume that we have some simple _code_ $\\mathbf{z}$, which allows to control the properties of the generation, and need to learn\n",
        "\\begin{equation}\n",
        "    \\mathbf{\\hat{x}} = \\mathcal{F}_\\mathbf{\\theta}(\\mathbf{z})  \n",
        "\\end{equation}\n",
        "where we still need to learn $\\mathbf{\\theta}$, so that $\\mathbf{\\hat{x}}$ have similar properties to that of the examples in $\\{\\mathbf{x}_{i}\\}_{i\\in[1,n]}$."
      ]
    },
    {
      "cell_type": "markdown",
      "metadata": {
        "id": "Kg83oWxMm92f"
      },
      "source": [
        "<a id=\"ae\"></a>\n",
        "\n",
        "## Auto-encoders\n",
        "\n",
        "One way to understand a set of data is to try to _compress_, or _simplify_ the corresponding dataset. So the idea is to learn simultaneously how to _encode_ our unlabeled input $\\{\\mathbf{x}_{i}\\}_{i\\in[1,n]}$ and to _decode_ the corresponding representation. This idea give rise to the notion of **auto-encoder**. \n",
        "\n",
        "### Architecture \n",
        "\n",
        "The auto-encoder is an unsupervised architecture originally proposed to perform _dimensionality reduction_ [[3](#reference3)]. As its name indicates, we will try to train this model to learn an efficient _encoding_ $\\mathbf{z}$ of unlabeled input data $\\mathbf{x}$. The only way to learn efficient parameters is to also learn a _decoding_ function to _reconstruct_ $\\mathbf{x}$ from $\\mathbf{z}$.\n",
        "\n",
        "<img src=\"https://github.com/2LT-Hyakutaro/creative_ml/blob/main/images/auto_encoder.png?raw=1\"/>\n",
        "\n",
        "As shown here, a first model $\\mathcal{E}_\\phi$ _encodes_ the input into a _latent code_ $\\mathbf{z}$ in order to provide a low-dimensional representation of the data. A second model $\\mathcal{D}_\\theta$ designated as the _decoder_ aims to generate outputs from $\\mathbf{z}$ that are as close to the original inputs as possible."
      ]
    },
    {
      "cell_type": "markdown",
      "metadata": {
        "id": "3DItvU9_yEP6"
      },
      "source": [
        "### Formal definition\n",
        "\n",
        "The latent code $\\mathbf{z}$ can be seen as a compressed abstract representation, and may be used as an intermediate space for analysis or generation. This helps to govern the distribution of the data through a simpler and higher-level representation, while enhancing the _expressiveness_ of the generative model.\n",
        "The behaviour of an auto-encoder can be formalized as:\n",
        "\n",
        "$$\n",
        "\\begin{align}\n",
        "\\mathbf{z} &= \\mathcal{E}_\\phi(\\mathbf{x}) \\\\\n",
        "\\mathbf{\\hat{x}} &= \\mathcal{D}_\\theta(\\mathbf{z})  \n",
        "\\end{align}\n",
        "$$\n",
        "\n",
        "with the _encoder_ $\\mathcal{E}_\\phi$ and _decoder_ $\\mathcal{D}_\\theta$ functions parameterized respectively by $\\phi$ and $\\theta$. As we can see this defines the reconstruction relationship\n",
        "$$\n",
        "    \\mathbf{\\hat{x}} = \\mathcal{D}_\\theta(\\mathcal{E}_\\phi(\\mathbf{x}))  \n",
        "$$"
      ]
    },
    {
      "cell_type": "markdown",
      "metadata": {
        "id": "P6BY--JMyEP6"
      },
      "source": [
        "### Training\n",
        "\n",
        "The training of an auto-encoder consists in finding the optimal functions of encoding $\\mathcal{E}^*$ and decoding $\\mathcal{D}^*$ by evaluating the \\textit{reconstruction error} $\\mathcal{L}$ between $\\mathbf{x}$ and $\\mathbf{\\hat{x}}$, such that\n",
        "\\begin{equation}\n",
        "    \\mathcal{E}^*, \\mathcal{D}^* = arg\\,min_{ \\phi, \\theta}{\\mathcal{L}}(\\mathbf{x}, \\mathcal{D}_\\theta(\\mathcal{E}_\\phi(\\mathbf{x})))\n",
        "\\end{equation}\n",
        "\n",
        "As the latent space usually has a smaller dimensionality than the input, it acts as an incentive for the network to find the main attributes of variations in the dataset (and also explains its use for _dimensionality reduction_)."
      ]
    },
    {
      "cell_type": "markdown",
      "metadata": {
        "id": "oO1lEqWCyEP7"
      },
      "source": [
        "### Variants and discussion\n",
        "\n",
        "There are several variants of auto-encoders, such as denoising auto-encoders or variational auto-encoders. Each address some downside of the basic AE model. For instance, the deterministic nature of the basic auto-encoder implies a point-wise mapping of the latent space, meaning that not all the latent positions can be leveraged to produce relevant reconstructions. Because of this reason, there is no way to ensure that the latent space could allow a robust generalization and that any random $\\mathbf{z}$ would generate a meaningful output."
      ]
    },
    {
      "cell_type": "markdown",
      "metadata": {
        "id": "cAxMjUCBUa43"
      },
      "source": [
        "<a id=\"implement\"> </a>\n",
        "\n",
        "## Implementation\n",
        "\n",
        "Here, we discuss how we can implement and train a simple auto-encoder network in Pytorch. As discussed earlier, an AE is composed of two parts, an **encoder** and a **decoder**. The goal of the encoder is to \"compress\" the dataset, representing its principal features with a very small code, while the goal of the decoder is to learn how to reproduce the initial input from this code. Hence, we will first need to use some basic imports and definition to setup our problem"
      ]
    },
    {
      "cell_type": "markdown",
      "metadata": {
        "id": "e1_Y75QXJS6h"
      },
      "source": [
        "### Import Pytorch and other libraries"
      ]
    },
    {
      "cell_type": "code",
      "execution_count": 7,
      "metadata": {
        "id": "YfIk2es3hJEd",
        "colab": {
          "base_uri": "https://localhost:8080/",
          "height": 1000
        },
        "outputId": "7285b32b-d5fa-48ef-a5f3-84e9a35ffc18"
      },
      "outputs": [
        {
          "output_type": "display_data",
          "data": {
            "application/javascript": [
              "(function(root) {\n",
              "  function now() {\n",
              "    return new Date();\n",
              "  }\n",
              "\n",
              "  var force = true;\n",
              "\n",
              "  if (typeof root._bokeh_onload_callbacks === \"undefined\" || force === true) {\n",
              "    root._bokeh_onload_callbacks = [];\n",
              "    root._bokeh_is_loading = undefined;\n",
              "  }\n",
              "\n",
              "  if (typeof (root._bokeh_timeout) === \"undefined\" || force === true) {\n",
              "    root._bokeh_timeout = Date.now() + 5000;\n",
              "    root._bokeh_failed_load = false;\n",
              "  }\n",
              "\n",
              "  function run_callbacks() {\n",
              "    try {\n",
              "      root._bokeh_onload_callbacks.forEach(function(callback) {\n",
              "        if (callback != null)\n",
              "          callback();\n",
              "      });\n",
              "    } finally {\n",
              "      delete root._bokeh_onload_callbacks\n",
              "    }\n",
              "    console.debug(\"Bokeh: all callbacks have finished\");\n",
              "  }\n",
              "\n",
              "  function load_libs(css_urls, js_urls, js_modules, callback) {\n",
              "    if (css_urls == null) css_urls = [];\n",
              "    if (js_urls == null) js_urls = [];\n",
              "    if (js_modules == null) js_modules = [];\n",
              "\n",
              "    root._bokeh_onload_callbacks.push(callback);\n",
              "    if (root._bokeh_is_loading > 0) {\n",
              "      console.debug(\"Bokeh: BokehJS is being loaded, scheduling callback at\", now());\n",
              "      return null;\n",
              "    }\n",
              "    if (js_urls.length === 0 && js_modules.length === 0) {\n",
              "      run_callbacks();\n",
              "      return null;\n",
              "    }\n",
              "    console.debug(\"Bokeh: BokehJS not loaded, scheduling load and callback at\", now());\n",
              "\n",
              "    function on_load() {\n",
              "      root._bokeh_is_loading--;\n",
              "      if (root._bokeh_is_loading === 0) {\n",
              "        console.debug(\"Bokeh: all BokehJS libraries/stylesheets loaded\");\n",
              "        run_callbacks()\n",
              "      }\n",
              "    }\n",
              "\n",
              "    function on_error() {\n",
              "      console.error(\"failed to load \" + url);\n",
              "    }\n",
              "\n",
              "    for (var i = 0; i < css_urls.length; i++) {\n",
              "      var url = css_urls[i];\n",
              "      const element = document.createElement(\"link\");\n",
              "      element.onload = on_load;\n",
              "      element.onerror = on_error;\n",
              "      element.rel = \"stylesheet\";\n",
              "      element.type = \"text/css\";\n",
              "      element.href = url;\n",
              "      console.debug(\"Bokeh: injecting link tag for BokehJS stylesheet: \", url);\n",
              "      document.body.appendChild(element);\n",
              "    }\n",
              "\n",
              "    var skip = [];\n",
              "    if (window.requirejs) {\n",
              "      window.requirejs.config({'packages': {}, 'paths': {'ace': '//cdnjs.cloudflare.com/ajax/libs/ace/1.4.7', 'gridstack': 'https://cdn.jsdelivr.net/npm/gridstack@4.2.5/dist/gridstack-h5', 'notyf': 'https://cdn.jsdelivr.net/npm/notyf@3/notyf.min'}, 'shim': {'ace/ext-language_tools': {'deps': ['ace/ace']}, 'ace/ext-modelist': {'deps': ['ace/ace']}, 'gridstack': {'exports': 'GridStack'}}});\n",
              "      require([\"ace/ace\"], function(ace) {\n",
              "\twindow.ace = ace\n",
              "\ton_load()\n",
              "      })\n",
              "      require([\"ace/ext-language_tools\"], function() {\n",
              "\ton_load()\n",
              "      })\n",
              "      require([\"ace/ext-modelist\"], function() {\n",
              "\ton_load()\n",
              "      })\n",
              "      require([\"gridstack\"], function(GridStack) {\n",
              "\twindow.GridStack = GridStack\n",
              "\ton_load()\n",
              "      })\n",
              "      require([\"notyf\"], function() {\n",
              "\ton_load()\n",
              "      })\n",
              "      root._bokeh_is_loading = css_urls.length + 5;\n",
              "    } else {\n",
              "      root._bokeh_is_loading = css_urls.length + js_urls.length + js_modules.length;\n",
              "    }    if (((window['ace'] !== undefined) && (!(window['ace'] instanceof HTMLElement))) || window.requirejs) {\n",
              "      var urls = ['https://cdnjs.cloudflare.com/ajax/libs/ace/1.4.11/ace.js', 'https://cdnjs.cloudflare.com/ajax/libs/ace/1.4.11/ext-language_tools.js', 'https://cdnjs.cloudflare.com/ajax/libs/ace/1.4.11/ext-modelist.js'];\n",
              "      for (var i = 0; i < urls.length; i++) {\n",
              "        skip.push(urls[i])\n",
              "      }\n",
              "    }    if (((window['GridStack'] !== undefined) && (!(window['GridStack'] instanceof HTMLElement))) || window.requirejs) {\n",
              "      var urls = ['https://cdn.holoviz.org/panel/0.14.4/dist/bundled/gridstack/gridstack@4.2.5/dist/gridstack-h5.js'];\n",
              "      for (var i = 0; i < urls.length; i++) {\n",
              "        skip.push(urls[i])\n",
              "      }\n",
              "    }    if (((window['Notyf'] !== undefined) && (!(window['Notyf'] instanceof HTMLElement))) || window.requirejs) {\n",
              "      var urls = ['https://cdn.holoviz.org/panel/0.14.4/dist/bundled/notificationarea/notyf@3/notyf.min.js'];\n",
              "      for (var i = 0; i < urls.length; i++) {\n",
              "        skip.push(urls[i])\n",
              "      }\n",
              "    }    for (var i = 0; i < js_urls.length; i++) {\n",
              "      var url = js_urls[i];\n",
              "      if (skip.indexOf(url) >= 0) {\n",
              "\tif (!window.requirejs) {\n",
              "\t  on_load();\n",
              "\t}\n",
              "\tcontinue;\n",
              "      }\n",
              "      var element = document.createElement('script');\n",
              "      element.onload = on_load;\n",
              "      element.onerror = on_error;\n",
              "      element.async = false;\n",
              "      element.src = url;\n",
              "      console.debug(\"Bokeh: injecting script tag for BokehJS library: \", url);\n",
              "      document.head.appendChild(element);\n",
              "    }\n",
              "    for (var i = 0; i < js_modules.length; i++) {\n",
              "      var url = js_modules[i];\n",
              "      if (skip.indexOf(url) >= 0) {\n",
              "\tif (!window.requirejs) {\n",
              "\t  on_load();\n",
              "\t}\n",
              "\tcontinue;\n",
              "      }\n",
              "      var element = document.createElement('script');\n",
              "      element.onload = on_load;\n",
              "      element.onerror = on_error;\n",
              "      element.async = false;\n",
              "      element.src = url;\n",
              "      element.type = \"module\";\n",
              "      console.debug(\"Bokeh: injecting script tag for BokehJS library: \", url);\n",
              "      document.head.appendChild(element);\n",
              "    }\n",
              "    if (!js_urls.length && !js_modules.length) {\n",
              "      on_load()\n",
              "    }\n",
              "  };\n",
              "\n",
              "  function inject_raw_css(css) {\n",
              "    const element = document.createElement(\"style\");\n",
              "    element.appendChild(document.createTextNode(css));\n",
              "    document.body.appendChild(element);\n",
              "  }\n",
              "\n",
              "  var js_urls = [\"https://cdnjs.cloudflare.com/ajax/libs/ace/1.4.11/ace.js\", \"https://cdnjs.cloudflare.com/ajax/libs/ace/1.4.11/ext-language_tools.js\", \"https://cdnjs.cloudflare.com/ajax/libs/ace/1.4.11/ext-modelist.js\", \"https://cdn.bokeh.org/bokeh/release/bokeh-2.4.3.min.js\", \"https://cdn.bokeh.org/bokeh/release/bokeh-gl-2.4.3.min.js\", \"https://cdn.bokeh.org/bokeh/release/bokeh-widgets-2.4.3.min.js\", \"https://cdn.bokeh.org/bokeh/release/bokeh-tables-2.4.3.min.js\", \"https://cdn.bokeh.org/bokeh/release/bokeh-mathjax-2.4.3.min.js\", \"https://unpkg.com/@holoviz/panel@0.14.4/dist/panel.min.js\"];\n",
              "  var js_modules = [];\n",
              "  var css_urls = [\"https://cdn.holoviz.org/panel/0.14.4/dist/css/alerts.css\", \"https://cdn.holoviz.org/panel/0.14.4/dist/css/widgets.css\", \"https://cdn.holoviz.org/panel/0.14.4/dist/css/json.css\", \"https://cdn.holoviz.org/panel/0.14.4/dist/css/dataframe.css\", \"https://cdn.holoviz.org/panel/0.14.4/dist/css/loading.css\", \"https://cdn.holoviz.org/panel/0.14.4/dist/css/markdown.css\", \"https://cdn.holoviz.org/panel/0.14.4/dist/css/card.css\", \"https://cdn.holoviz.org/panel/0.14.4/dist/css/debugger.css\"];\n",
              "  var inline_js = [    function(Bokeh) {\n",
              "      inject_raw_css(\"/*\\n ~ CML // Creative Machine Learning ~\\n mml.css : CSS styling information for Panel and Bokeh\\n \\n This file defines the main CSS styling information for the CML course\\n \\n Author               :  Philippe Esling\\n                        <esling@ircam.fr>\\n*/\\n\\nbody {\\n  display: flex;\\n  height: 100vh;\\n  margin: 0px;\\n  overflow-x: hidden;\\n  overflow-y: hidden;\\n}\\n\\n.bk-root .bk, .bk-root .bk:before, .bk-root .bk:after {\\n  font-family: \\\"Josefin Sans\\\";\\n}\\n\\nimg {\\n  max-width: 100%;\\n}\\n\\n#container {\\n  padding:0px;\\n  height:100vh;\\n  width: 100vw;\\n  max-width: 100vw;\\n}\\n\\n#sidebar .mdc-list {\\n  padding-left: 5px;\\n  padding-right: 5px;\\n}\\n\\n.mdc-drawer-app-content {\\n  flex: auto;\\n  position: relative;\\n  overflow: hidden;\\n}\\n\\n.mdc-drawer {\\n  background: #FAFAFA; /* GRAY 50 */\\n}\\n\\n.mdc-drawer-app-content {\\n  margin-left: 0 !important;\\n}\\n\\n.title-bar {\\n  display: contents;\\n  justify-content: center;\\n  align-content: center;\\n  width: 100%;\\n}\\n\\n.mdc-top-app-bar .bk-menu {\\n  color: black\\n}\\n\\n.app-header {\\n  display: contents;\\n  padding-left: 10px;\\n  font-size: 1.25em;\\n}\\n\\nimg.app-logo {\\n  padding-right: 10px;\\n  font-size: 28px;\\n  height: 30px;\\n  max-width: inherit;\\n  padding-top: 12px;\\n  padding-bottom: 6px;\\n}\\n\\n#app-title {\\n  padding-right: 12px;\\n  padding-left: 12px;\\n}\\n\\n.title {\\n  font-family: \\\"Josefin Sans\\\";\\n  color: #fff;\\n  text-decoration: none;\\n  text-decoration-line: none;\\n  text-decoration-style: initial;\\n  text-decoration-color: initial;\\n  font-weight: 400;\\n  font-size: 2em;\\n  line-height: 2em;\\n  white-space: nowrap;\\n}\\n\\n.main-content {\\n  overflow-y: scroll;\\n  overflow-x: auto;\\n}\\n\\n#header {\\n  position: absolute;\\n  z-index: 7;\\n}\\n\\n#header-items {\\n  width: 100%;\\n  margin-left:15px;\\n}\\n\\n.pn-busy-container {\\n  align-items: center;\\n  justify-content: center;\\n  display: flex;\\n}\\n\\n.mdc-drawer__content {\\n  overflow-x: hidden;\\n}\\n.mdc-drawer__content, .main-content {\\n  padding: 12px;\\n}\\n\\n.main-content {\\n  height: calc(100vh - 88px);\\n  max-height: calc(100vh - 88px);\\n  padding-right: 32px;\\n}\\n\\nbutton.mdc-button.mdc-card-button {\\n  color: transparent;\\n  height: 50px;\\n}\\n\\np.bk.mdc-button {\\n  display: none;\\n}\\n\\ndiv.bk.mdc-card {\\n  border-radius: 0px\\n}\\n\\n.mdc-card .bk.card-header {\\n  display: flex;\\n}\\n\\n.bk.mdc-card-title {\\n  font-family: \\\"Josefin Sans\\\";\\n  font-weight: bold;\\n  align-items: center;\\n  display: flex !important;\\n  position: relative !important;\\n}\\n\\n.bk.mdc-card-title:nth-child(2) {\\n  margin-left: -1.4em;\\n}\\n\\n.pn-modal {\\n  overflow-y: scroll;\\n  width: 100%;\\n  display: none;\\n  position: absolute;\\n  top: 0;\\n  left: 0;\\n}\\n\\n.pn-modal-content {\\n  font-family: \\\"Josefin Sans\\\";\\n  background-color: #0e0e0e;\\n  margin: auto;\\n  margin-top: 25px;\\n  margin-bottom: 25px;\\n  padding: 15px 20px 20px 20px;\\n  border: 1px solid #888;\\n  width: 80% !important;\\n}\\n\\n.pn-modal-close {\\n  position: absolute;\\n  right: 25px;\\n  z-index: 100;\\n}\\n\\n.pn-modal-close:hover,\\n.pn-modal-close:focus {\\n  color: #000;\\n  text-decoration: none;\\n  cursor: pointer;\\n}\\n\\n.custom_button_bokeh button.bk.bk-btn.bk-btn-default {\\n    font-size:48pt;\\n    background-color: #05b7ff;\\n    border-color: #05b7ff;\\n}\");\n",
              "    },    function(Bokeh) {\n",
              "      inject_raw_css(\"\\n    .bk.pn-loading.arc:before {\\n      background-image: url(\\\"data:image/svg+xml;base64,PHN2ZyB4bWxucz0iaHR0cDovL3d3dy53My5vcmcvMjAwMC9zdmciIHN0eWxlPSJtYXJnaW46IGF1dG87IGJhY2tncm91bmQ6IG5vbmU7IGRpc3BsYXk6IGJsb2NrOyBzaGFwZS1yZW5kZXJpbmc6IGF1dG87IiB2aWV3Qm94PSIwIDAgMTAwIDEwMCIgcHJlc2VydmVBc3BlY3RSYXRpbz0ieE1pZFlNaWQiPiAgPGNpcmNsZSBjeD0iNTAiIGN5PSI1MCIgZmlsbD0ibm9uZSIgc3Ryb2tlPSIjYzNjM2MzIiBzdHJva2Utd2lkdGg9IjEwIiByPSIzNSIgc3Ryb2tlLWRhc2hhcnJheT0iMTY0LjkzMzYxNDMxMzQ2NDE1IDU2Ljk3Nzg3MTQzNzgyMTM4Ij4gICAgPGFuaW1hdGVUcmFuc2Zvcm0gYXR0cmlidXRlTmFtZT0idHJhbnNmb3JtIiB0eXBlPSJyb3RhdGUiIHJlcGVhdENvdW50PSJpbmRlZmluaXRlIiBkdXI9IjFzIiB2YWx1ZXM9IjAgNTAgNTA7MzYwIDUwIDUwIiBrZXlUaW1lcz0iMDsxIj48L2FuaW1hdGVUcmFuc2Zvcm0+ICA8L2NpcmNsZT48L3N2Zz4=\\\");\\n      background-size: auto calc(min(50%, 400px));\\n    }\\n    \");\n",
              "    },    function(Bokeh) {\n",
              "      Bokeh.set_log_level(\"info\");\n",
              "    },\n",
              "function(Bokeh) {} // ensure no trailing comma for IE\n",
              "  ];\n",
              "\n",
              "  function run_inline_js() {\n",
              "    if ((root.Bokeh !== undefined) || (force === true)) {\n",
              "      for (var i = 0; i < inline_js.length; i++) {\n",
              "        inline_js[i].call(root, root.Bokeh);\n",
              "      }} else if (Date.now() < root._bokeh_timeout) {\n",
              "      setTimeout(run_inline_js, 100);\n",
              "    } else if (!root._bokeh_failed_load) {\n",
              "      console.log(\"Bokeh: BokehJS failed to load within specified timeout.\");\n",
              "      root._bokeh_failed_load = true;\n",
              "    }\n",
              "  }\n",
              "\n",
              "  if (root._bokeh_is_loading === 0) {\n",
              "    console.debug(\"Bokeh: BokehJS loaded, going straight to plotting\");\n",
              "    run_inline_js();\n",
              "  } else {\n",
              "    load_libs(css_urls, js_urls, js_modules, function() {\n",
              "      console.debug(\"Bokeh: BokehJS plotting callback run at\", now());\n",
              "      run_inline_js();\n",
              "    });\n",
              "  }\n",
              "}(window));"
            ],
            "application/vnd.holoviews_load.v0+json": "(function(root) {\n  function now() {\n    return new Date();\n  }\n\n  var force = true;\n\n  if (typeof root._bokeh_onload_callbacks === \"undefined\" || force === true) {\n    root._bokeh_onload_callbacks = [];\n    root._bokeh_is_loading = undefined;\n  }\n\n  if (typeof (root._bokeh_timeout) === \"undefined\" || force === true) {\n    root._bokeh_timeout = Date.now() + 5000;\n    root._bokeh_failed_load = false;\n  }\n\n  function run_callbacks() {\n    try {\n      root._bokeh_onload_callbacks.forEach(function(callback) {\n        if (callback != null)\n          callback();\n      });\n    } finally {\n      delete root._bokeh_onload_callbacks\n    }\n    console.debug(\"Bokeh: all callbacks have finished\");\n  }\n\n  function load_libs(css_urls, js_urls, js_modules, callback) {\n    if (css_urls == null) css_urls = [];\n    if (js_urls == null) js_urls = [];\n    if (js_modules == null) js_modules = [];\n\n    root._bokeh_onload_callbacks.push(callback);\n    if (root._bokeh_is_loading > 0) {\n      console.debug(\"Bokeh: BokehJS is being loaded, scheduling callback at\", now());\n      return null;\n    }\n    if (js_urls.length === 0 && js_modules.length === 0) {\n      run_callbacks();\n      return null;\n    }\n    console.debug(\"Bokeh: BokehJS not loaded, scheduling load and callback at\", now());\n\n    function on_load() {\n      root._bokeh_is_loading--;\n      if (root._bokeh_is_loading === 0) {\n        console.debug(\"Bokeh: all BokehJS libraries/stylesheets loaded\");\n        run_callbacks()\n      }\n    }\n\n    function on_error() {\n      console.error(\"failed to load \" + url);\n    }\n\n    for (var i = 0; i < css_urls.length; i++) {\n      var url = css_urls[i];\n      const element = document.createElement(\"link\");\n      element.onload = on_load;\n      element.onerror = on_error;\n      element.rel = \"stylesheet\";\n      element.type = \"text/css\";\n      element.href = url;\n      console.debug(\"Bokeh: injecting link tag for BokehJS stylesheet: \", url);\n      document.body.appendChild(element);\n    }\n\n    var skip = [];\n    if (window.requirejs) {\n      window.requirejs.config({'packages': {}, 'paths': {'ace': '//cdnjs.cloudflare.com/ajax/libs/ace/1.4.7', 'gridstack': 'https://cdn.jsdelivr.net/npm/gridstack@4.2.5/dist/gridstack-h5', 'notyf': 'https://cdn.jsdelivr.net/npm/notyf@3/notyf.min'}, 'shim': {'ace/ext-language_tools': {'deps': ['ace/ace']}, 'ace/ext-modelist': {'deps': ['ace/ace']}, 'gridstack': {'exports': 'GridStack'}}});\n      require([\"ace/ace\"], function(ace) {\n\twindow.ace = ace\n\ton_load()\n      })\n      require([\"ace/ext-language_tools\"], function() {\n\ton_load()\n      })\n      require([\"ace/ext-modelist\"], function() {\n\ton_load()\n      })\n      require([\"gridstack\"], function(GridStack) {\n\twindow.GridStack = GridStack\n\ton_load()\n      })\n      require([\"notyf\"], function() {\n\ton_load()\n      })\n      root._bokeh_is_loading = css_urls.length + 5;\n    } else {\n      root._bokeh_is_loading = css_urls.length + js_urls.length + js_modules.length;\n    }    if (((window['ace'] !== undefined) && (!(window['ace'] instanceof HTMLElement))) || window.requirejs) {\n      var urls = ['https://cdnjs.cloudflare.com/ajax/libs/ace/1.4.11/ace.js', 'https://cdnjs.cloudflare.com/ajax/libs/ace/1.4.11/ext-language_tools.js', 'https://cdnjs.cloudflare.com/ajax/libs/ace/1.4.11/ext-modelist.js'];\n      for (var i = 0; i < urls.length; i++) {\n        skip.push(urls[i])\n      }\n    }    if (((window['GridStack'] !== undefined) && (!(window['GridStack'] instanceof HTMLElement))) || window.requirejs) {\n      var urls = ['https://cdn.holoviz.org/panel/0.14.4/dist/bundled/gridstack/gridstack@4.2.5/dist/gridstack-h5.js'];\n      for (var i = 0; i < urls.length; i++) {\n        skip.push(urls[i])\n      }\n    }    if (((window['Notyf'] !== undefined) && (!(window['Notyf'] instanceof HTMLElement))) || window.requirejs) {\n      var urls = ['https://cdn.holoviz.org/panel/0.14.4/dist/bundled/notificationarea/notyf@3/notyf.min.js'];\n      for (var i = 0; i < urls.length; i++) {\n        skip.push(urls[i])\n      }\n    }    for (var i = 0; i < js_urls.length; i++) {\n      var url = js_urls[i];\n      if (skip.indexOf(url) >= 0) {\n\tif (!window.requirejs) {\n\t  on_load();\n\t}\n\tcontinue;\n      }\n      var element = document.createElement('script');\n      element.onload = on_load;\n      element.onerror = on_error;\n      element.async = false;\n      element.src = url;\n      console.debug(\"Bokeh: injecting script tag for BokehJS library: \", url);\n      document.head.appendChild(element);\n    }\n    for (var i = 0; i < js_modules.length; i++) {\n      var url = js_modules[i];\n      if (skip.indexOf(url) >= 0) {\n\tif (!window.requirejs) {\n\t  on_load();\n\t}\n\tcontinue;\n      }\n      var element = document.createElement('script');\n      element.onload = on_load;\n      element.onerror = on_error;\n      element.async = false;\n      element.src = url;\n      element.type = \"module\";\n      console.debug(\"Bokeh: injecting script tag for BokehJS library: \", url);\n      document.head.appendChild(element);\n    }\n    if (!js_urls.length && !js_modules.length) {\n      on_load()\n    }\n  };\n\n  function inject_raw_css(css) {\n    const element = document.createElement(\"style\");\n    element.appendChild(document.createTextNode(css));\n    document.body.appendChild(element);\n  }\n\n  var js_urls = [\"https://cdnjs.cloudflare.com/ajax/libs/ace/1.4.11/ace.js\", \"https://cdnjs.cloudflare.com/ajax/libs/ace/1.4.11/ext-language_tools.js\", \"https://cdnjs.cloudflare.com/ajax/libs/ace/1.4.11/ext-modelist.js\", \"https://cdn.bokeh.org/bokeh/release/bokeh-2.4.3.min.js\", \"https://cdn.bokeh.org/bokeh/release/bokeh-gl-2.4.3.min.js\", \"https://cdn.bokeh.org/bokeh/release/bokeh-widgets-2.4.3.min.js\", \"https://cdn.bokeh.org/bokeh/release/bokeh-tables-2.4.3.min.js\", \"https://cdn.bokeh.org/bokeh/release/bokeh-mathjax-2.4.3.min.js\", \"https://unpkg.com/@holoviz/panel@0.14.4/dist/panel.min.js\"];\n  var js_modules = [];\n  var css_urls = [\"https://cdn.holoviz.org/panel/0.14.4/dist/css/alerts.css\", \"https://cdn.holoviz.org/panel/0.14.4/dist/css/widgets.css\", \"https://cdn.holoviz.org/panel/0.14.4/dist/css/json.css\", \"https://cdn.holoviz.org/panel/0.14.4/dist/css/dataframe.css\", \"https://cdn.holoviz.org/panel/0.14.4/dist/css/loading.css\", \"https://cdn.holoviz.org/panel/0.14.4/dist/css/markdown.css\", \"https://cdn.holoviz.org/panel/0.14.4/dist/css/card.css\", \"https://cdn.holoviz.org/panel/0.14.4/dist/css/debugger.css\"];\n  var inline_js = [    function(Bokeh) {\n      inject_raw_css(\"/*\\n ~ CML // Creative Machine Learning ~\\n mml.css : CSS styling information for Panel and Bokeh\\n \\n This file defines the main CSS styling information for the CML course\\n \\n Author               :  Philippe Esling\\n                        <esling@ircam.fr>\\n*/\\n\\nbody {\\n  display: flex;\\n  height: 100vh;\\n  margin: 0px;\\n  overflow-x: hidden;\\n  overflow-y: hidden;\\n}\\n\\n.bk-root .bk, .bk-root .bk:before, .bk-root .bk:after {\\n  font-family: \\\"Josefin Sans\\\";\\n}\\n\\nimg {\\n  max-width: 100%;\\n}\\n\\n#container {\\n  padding:0px;\\n  height:100vh;\\n  width: 100vw;\\n  max-width: 100vw;\\n}\\n\\n#sidebar .mdc-list {\\n  padding-left: 5px;\\n  padding-right: 5px;\\n}\\n\\n.mdc-drawer-app-content {\\n  flex: auto;\\n  position: relative;\\n  overflow: hidden;\\n}\\n\\n.mdc-drawer {\\n  background: #FAFAFA; /* GRAY 50 */\\n}\\n\\n.mdc-drawer-app-content {\\n  margin-left: 0 !important;\\n}\\n\\n.title-bar {\\n  display: contents;\\n  justify-content: center;\\n  align-content: center;\\n  width: 100%;\\n}\\n\\n.mdc-top-app-bar .bk-menu {\\n  color: black\\n}\\n\\n.app-header {\\n  display: contents;\\n  padding-left: 10px;\\n  font-size: 1.25em;\\n}\\n\\nimg.app-logo {\\n  padding-right: 10px;\\n  font-size: 28px;\\n  height: 30px;\\n  max-width: inherit;\\n  padding-top: 12px;\\n  padding-bottom: 6px;\\n}\\n\\n#app-title {\\n  padding-right: 12px;\\n  padding-left: 12px;\\n}\\n\\n.title {\\n  font-family: \\\"Josefin Sans\\\";\\n  color: #fff;\\n  text-decoration: none;\\n  text-decoration-line: none;\\n  text-decoration-style: initial;\\n  text-decoration-color: initial;\\n  font-weight: 400;\\n  font-size: 2em;\\n  line-height: 2em;\\n  white-space: nowrap;\\n}\\n\\n.main-content {\\n  overflow-y: scroll;\\n  overflow-x: auto;\\n}\\n\\n#header {\\n  position: absolute;\\n  z-index: 7;\\n}\\n\\n#header-items {\\n  width: 100%;\\n  margin-left:15px;\\n}\\n\\n.pn-busy-container {\\n  align-items: center;\\n  justify-content: center;\\n  display: flex;\\n}\\n\\n.mdc-drawer__content {\\n  overflow-x: hidden;\\n}\\n.mdc-drawer__content, .main-content {\\n  padding: 12px;\\n}\\n\\n.main-content {\\n  height: calc(100vh - 88px);\\n  max-height: calc(100vh - 88px);\\n  padding-right: 32px;\\n}\\n\\nbutton.mdc-button.mdc-card-button {\\n  color: transparent;\\n  height: 50px;\\n}\\n\\np.bk.mdc-button {\\n  display: none;\\n}\\n\\ndiv.bk.mdc-card {\\n  border-radius: 0px\\n}\\n\\n.mdc-card .bk.card-header {\\n  display: flex;\\n}\\n\\n.bk.mdc-card-title {\\n  font-family: \\\"Josefin Sans\\\";\\n  font-weight: bold;\\n  align-items: center;\\n  display: flex !important;\\n  position: relative !important;\\n}\\n\\n.bk.mdc-card-title:nth-child(2) {\\n  margin-left: -1.4em;\\n}\\n\\n.pn-modal {\\n  overflow-y: scroll;\\n  width: 100%;\\n  display: none;\\n  position: absolute;\\n  top: 0;\\n  left: 0;\\n}\\n\\n.pn-modal-content {\\n  font-family: \\\"Josefin Sans\\\";\\n  background-color: #0e0e0e;\\n  margin: auto;\\n  margin-top: 25px;\\n  margin-bottom: 25px;\\n  padding: 15px 20px 20px 20px;\\n  border: 1px solid #888;\\n  width: 80% !important;\\n}\\n\\n.pn-modal-close {\\n  position: absolute;\\n  right: 25px;\\n  z-index: 100;\\n}\\n\\n.pn-modal-close:hover,\\n.pn-modal-close:focus {\\n  color: #000;\\n  text-decoration: none;\\n  cursor: pointer;\\n}\\n\\n.custom_button_bokeh button.bk.bk-btn.bk-btn-default {\\n    font-size:48pt;\\n    background-color: #05b7ff;\\n    border-color: #05b7ff;\\n}\");\n    },    function(Bokeh) {\n      inject_raw_css(\"\\n    .bk.pn-loading.arc:before {\\n      background-image: url(\\\"data:image/svg+xml;base64,PHN2ZyB4bWxucz0iaHR0cDovL3d3dy53My5vcmcvMjAwMC9zdmciIHN0eWxlPSJtYXJnaW46IGF1dG87IGJhY2tncm91bmQ6IG5vbmU7IGRpc3BsYXk6IGJsb2NrOyBzaGFwZS1yZW5kZXJpbmc6IGF1dG87IiB2aWV3Qm94PSIwIDAgMTAwIDEwMCIgcHJlc2VydmVBc3BlY3RSYXRpbz0ieE1pZFlNaWQiPiAgPGNpcmNsZSBjeD0iNTAiIGN5PSI1MCIgZmlsbD0ibm9uZSIgc3Ryb2tlPSIjYzNjM2MzIiBzdHJva2Utd2lkdGg9IjEwIiByPSIzNSIgc3Ryb2tlLWRhc2hhcnJheT0iMTY0LjkzMzYxNDMxMzQ2NDE1IDU2Ljk3Nzg3MTQzNzgyMTM4Ij4gICAgPGFuaW1hdGVUcmFuc2Zvcm0gYXR0cmlidXRlTmFtZT0idHJhbnNmb3JtIiB0eXBlPSJyb3RhdGUiIHJlcGVhdENvdW50PSJpbmRlZmluaXRlIiBkdXI9IjFzIiB2YWx1ZXM9IjAgNTAgNTA7MzYwIDUwIDUwIiBrZXlUaW1lcz0iMDsxIj48L2FuaW1hdGVUcmFuc2Zvcm0+ICA8L2NpcmNsZT48L3N2Zz4=\\\");\\n      background-size: auto calc(min(50%, 400px));\\n    }\\n    \");\n    },    function(Bokeh) {\n      Bokeh.set_log_level(\"info\");\n    },\nfunction(Bokeh) {} // ensure no trailing comma for IE\n  ];\n\n  function run_inline_js() {\n    if ((root.Bokeh !== undefined) || (force === true)) {\n      for (var i = 0; i < inline_js.length; i++) {\n        inline_js[i].call(root, root.Bokeh);\n      }} else if (Date.now() < root._bokeh_timeout) {\n      setTimeout(run_inline_js, 100);\n    } else if (!root._bokeh_failed_load) {\n      console.log(\"Bokeh: BokehJS failed to load within specified timeout.\");\n      root._bokeh_failed_load = true;\n    }\n  }\n\n  if (root._bokeh_is_loading === 0) {\n    console.debug(\"Bokeh: BokehJS loaded, going straight to plotting\");\n    run_inline_js();\n  } else {\n    load_libs(css_urls, js_urls, js_modules, function() {\n      console.debug(\"Bokeh: BokehJS plotting callback run at\", now());\n      run_inline_js();\n    });\n  }\n}(window));"
          },
          "metadata": {}
        },
        {
          "output_type": "display_data",
          "data": {
            "application/vnd.holoviews_load.v0+json": "\nif ((window.PyViz === undefined) || (window.PyViz instanceof HTMLElement)) {\n  window.PyViz = {comms: {}, comm_status:{}, kernels:{}, receivers: {}, plot_index: []}\n}\n\n\n    function JupyterCommManager() {\n    }\n\n    JupyterCommManager.prototype.register_target = function(plot_id, comm_id, msg_handler) {\n      if (window.comm_manager || ((window.Jupyter !== undefined) && (Jupyter.notebook.kernel != null))) {\n        var comm_manager = window.comm_manager || Jupyter.notebook.kernel.comm_manager;\n        comm_manager.register_target(comm_id, function(comm) {\n          comm.on_msg(msg_handler);\n        });\n      } else if ((plot_id in window.PyViz.kernels) && (window.PyViz.kernels[plot_id])) {\n        window.PyViz.kernels[plot_id].registerCommTarget(comm_id, function(comm) {\n          comm.onMsg = msg_handler;\n        });\n      } else if (typeof google != 'undefined' && google.colab.kernel != null) {\n        google.colab.kernel.comms.registerTarget(comm_id, (comm) => {\n          var messages = comm.messages[Symbol.asyncIterator]();\n          function processIteratorResult(result) {\n            var message = result.value;\n            console.log(message)\n            var content = {data: message.data, comm_id};\n            var buffers = []\n            for (var buffer of message.buffers || []) {\n              buffers.push(new DataView(buffer))\n            }\n            var metadata = message.metadata || {};\n            var msg = {content, buffers, metadata}\n            msg_handler(msg);\n            return messages.next().then(processIteratorResult);\n          }\n          return messages.next().then(processIteratorResult);\n        })\n      }\n    }\n\n    JupyterCommManager.prototype.get_client_comm = function(plot_id, comm_id, msg_handler) {\n      if (comm_id in window.PyViz.comms) {\n        return window.PyViz.comms[comm_id];\n      } else if (window.comm_manager || ((window.Jupyter !== undefined) && (Jupyter.notebook.kernel != null))) {\n        var comm_manager = window.comm_manager || Jupyter.notebook.kernel.comm_manager;\n        var comm = comm_manager.new_comm(comm_id, {}, {}, {}, comm_id);\n        if (msg_handler) {\n          comm.on_msg(msg_handler);\n        }\n      } else if ((plot_id in window.PyViz.kernels) && (window.PyViz.kernels[plot_id])) {\n        var comm = window.PyViz.kernels[plot_id].connectToComm(comm_id);\n        comm.open();\n        if (msg_handler) {\n          comm.onMsg = msg_handler;\n        }\n      } else if (typeof google != 'undefined' && google.colab.kernel != null) {\n        var comm_promise = google.colab.kernel.comms.open(comm_id)\n        comm_promise.then((comm) => {\n          window.PyViz.comms[comm_id] = comm;\n          if (msg_handler) {\n            var messages = comm.messages[Symbol.asyncIterator]();\n            function processIteratorResult(result) {\n              var message = result.value;\n              var content = {data: message.data};\n              var metadata = message.metadata || {comm_id};\n              var msg = {content, metadata}\n              msg_handler(msg);\n              return messages.next().then(processIteratorResult);\n            }\n            return messages.next().then(processIteratorResult);\n          }\n        }) \n        var sendClosure = (data, metadata, buffers, disposeOnDone) => {\n          return comm_promise.then((comm) => {\n            comm.send(data, metadata, buffers, disposeOnDone);\n          });\n        };\n        var comm = {\n          send: sendClosure\n        };\n      }\n      window.PyViz.comms[comm_id] = comm;\n      return comm;\n    }\n    window.PyViz.comm_manager = new JupyterCommManager();\n    \n\n\nvar JS_MIME_TYPE = 'application/javascript';\nvar HTML_MIME_TYPE = 'text/html';\nvar EXEC_MIME_TYPE = 'application/vnd.holoviews_exec.v0+json';\nvar CLASS_NAME = 'output';\n\n/**\n * Render data to the DOM node\n */\nfunction render(props, node) {\n  var div = document.createElement(\"div\");\n  var script = document.createElement(\"script\");\n  node.appendChild(div);\n  node.appendChild(script);\n}\n\n/**\n * Handle when a new output is added\n */\nfunction handle_add_output(event, handle) {\n  var output_area = handle.output_area;\n  var output = handle.output;\n  if ((output.data == undefined) || (!output.data.hasOwnProperty(EXEC_MIME_TYPE))) {\n    return\n  }\n  var id = output.metadata[EXEC_MIME_TYPE][\"id\"];\n  var toinsert = output_area.element.find(\".\" + CLASS_NAME.split(' ')[0]);\n  if (id !== undefined) {\n    var nchildren = toinsert.length;\n    var html_node = toinsert[nchildren-1].children[0];\n    html_node.innerHTML = output.data[HTML_MIME_TYPE];\n    var scripts = [];\n    var nodelist = html_node.querySelectorAll(\"script\");\n    for (var i in nodelist) {\n      if (nodelist.hasOwnProperty(i)) {\n        scripts.push(nodelist[i])\n      }\n    }\n\n    scripts.forEach( function (oldScript) {\n      var newScript = document.createElement(\"script\");\n      var attrs = [];\n      var nodemap = oldScript.attributes;\n      for (var j in nodemap) {\n        if (nodemap.hasOwnProperty(j)) {\n          attrs.push(nodemap[j])\n        }\n      }\n      attrs.forEach(function(attr) { newScript.setAttribute(attr.name, attr.value) });\n      newScript.appendChild(document.createTextNode(oldScript.innerHTML));\n      oldScript.parentNode.replaceChild(newScript, oldScript);\n    });\n    if (JS_MIME_TYPE in output.data) {\n      toinsert[nchildren-1].children[1].textContent = output.data[JS_MIME_TYPE];\n    }\n    output_area._hv_plot_id = id;\n    if ((window.Bokeh !== undefined) && (id in Bokeh.index)) {\n      window.PyViz.plot_index[id] = Bokeh.index[id];\n    } else {\n      window.PyViz.plot_index[id] = null;\n    }\n  } else if (output.metadata[EXEC_MIME_TYPE][\"server_id\"] !== undefined) {\n    var bk_div = document.createElement(\"div\");\n    bk_div.innerHTML = output.data[HTML_MIME_TYPE];\n    var script_attrs = bk_div.children[0].attributes;\n    for (var i = 0; i < script_attrs.length; i++) {\n      toinsert[toinsert.length - 1].childNodes[1].setAttribute(script_attrs[i].name, script_attrs[i].value);\n    }\n    // store reference to server id on output_area\n    output_area._bokeh_server_id = output.metadata[EXEC_MIME_TYPE][\"server_id\"];\n  }\n}\n\n/**\n * Handle when an output is cleared or removed\n */\nfunction handle_clear_output(event, handle) {\n  var id = handle.cell.output_area._hv_plot_id;\n  var server_id = handle.cell.output_area._bokeh_server_id;\n  if (((id === undefined) || !(id in PyViz.plot_index)) && (server_id !== undefined)) { return; }\n  var comm = window.PyViz.comm_manager.get_client_comm(\"hv-extension-comm\", \"hv-extension-comm\", function () {});\n  if (server_id !== null) {\n    comm.send({event_type: 'server_delete', 'id': server_id});\n    return;\n  } else if (comm !== null) {\n    comm.send({event_type: 'delete', 'id': id});\n  }\n  delete PyViz.plot_index[id];\n  if ((window.Bokeh !== undefined) & (id in window.Bokeh.index)) {\n    var doc = window.Bokeh.index[id].model.document\n    doc.clear();\n    const i = window.Bokeh.documents.indexOf(doc);\n    if (i > -1) {\n      window.Bokeh.documents.splice(i, 1);\n    }\n  }\n}\n\n/**\n * Handle kernel restart event\n */\nfunction handle_kernel_cleanup(event, handle) {\n  delete PyViz.comms[\"hv-extension-comm\"];\n  window.PyViz.plot_index = {}\n}\n\n/**\n * Handle update_display_data messages\n */\nfunction handle_update_output(event, handle) {\n  handle_clear_output(event, {cell: {output_area: handle.output_area}})\n  handle_add_output(event, handle)\n}\n\nfunction register_renderer(events, OutputArea) {\n  function append_mime(data, metadata, element) {\n    // create a DOM node to render to\n    var toinsert = this.create_output_subarea(\n    metadata,\n    CLASS_NAME,\n    EXEC_MIME_TYPE\n    );\n    this.keyboard_manager.register_events(toinsert);\n    // Render to node\n    var props = {data: data, metadata: metadata[EXEC_MIME_TYPE]};\n    render(props, toinsert[0]);\n    element.append(toinsert);\n    return toinsert\n  }\n\n  events.on('output_added.OutputArea', handle_add_output);\n  events.on('output_updated.OutputArea', handle_update_output);\n  events.on('clear_output.CodeCell', handle_clear_output);\n  events.on('delete.Cell', handle_clear_output);\n  events.on('kernel_ready.Kernel', handle_kernel_cleanup);\n\n  OutputArea.prototype.register_mime_type(EXEC_MIME_TYPE, append_mime, {\n    safe: true,\n    index: 0\n  });\n}\n\nif (window.Jupyter !== undefined) {\n  try {\n    var events = require('base/js/events');\n    var OutputArea = require('notebook/js/outputarea').OutputArea;\n    if (OutputArea.prototype.mime_types().indexOf(EXEC_MIME_TYPE) == -1) {\n      register_renderer(events, OutputArea);\n    }\n  } catch(err) {\n  }\n}\n",
            "application/javascript": [
              "\n",
              "if ((window.PyViz === undefined) || (window.PyViz instanceof HTMLElement)) {\n",
              "  window.PyViz = {comms: {}, comm_status:{}, kernels:{}, receivers: {}, plot_index: []}\n",
              "}\n",
              "\n",
              "\n",
              "    function JupyterCommManager() {\n",
              "    }\n",
              "\n",
              "    JupyterCommManager.prototype.register_target = function(plot_id, comm_id, msg_handler) {\n",
              "      if (window.comm_manager || ((window.Jupyter !== undefined) && (Jupyter.notebook.kernel != null))) {\n",
              "        var comm_manager = window.comm_manager || Jupyter.notebook.kernel.comm_manager;\n",
              "        comm_manager.register_target(comm_id, function(comm) {\n",
              "          comm.on_msg(msg_handler);\n",
              "        });\n",
              "      } else if ((plot_id in window.PyViz.kernels) && (window.PyViz.kernels[plot_id])) {\n",
              "        window.PyViz.kernels[plot_id].registerCommTarget(comm_id, function(comm) {\n",
              "          comm.onMsg = msg_handler;\n",
              "        });\n",
              "      } else if (typeof google != 'undefined' && google.colab.kernel != null) {\n",
              "        google.colab.kernel.comms.registerTarget(comm_id, (comm) => {\n",
              "          var messages = comm.messages[Symbol.asyncIterator]();\n",
              "          function processIteratorResult(result) {\n",
              "            var message = result.value;\n",
              "            console.log(message)\n",
              "            var content = {data: message.data, comm_id};\n",
              "            var buffers = []\n",
              "            for (var buffer of message.buffers || []) {\n",
              "              buffers.push(new DataView(buffer))\n",
              "            }\n",
              "            var metadata = message.metadata || {};\n",
              "            var msg = {content, buffers, metadata}\n",
              "            msg_handler(msg);\n",
              "            return messages.next().then(processIteratorResult);\n",
              "          }\n",
              "          return messages.next().then(processIteratorResult);\n",
              "        })\n",
              "      }\n",
              "    }\n",
              "\n",
              "    JupyterCommManager.prototype.get_client_comm = function(plot_id, comm_id, msg_handler) {\n",
              "      if (comm_id in window.PyViz.comms) {\n",
              "        return window.PyViz.comms[comm_id];\n",
              "      } else if (window.comm_manager || ((window.Jupyter !== undefined) && (Jupyter.notebook.kernel != null))) {\n",
              "        var comm_manager = window.comm_manager || Jupyter.notebook.kernel.comm_manager;\n",
              "        var comm = comm_manager.new_comm(comm_id, {}, {}, {}, comm_id);\n",
              "        if (msg_handler) {\n",
              "          comm.on_msg(msg_handler);\n",
              "        }\n",
              "      } else if ((plot_id in window.PyViz.kernels) && (window.PyViz.kernels[plot_id])) {\n",
              "        var comm = window.PyViz.kernels[plot_id].connectToComm(comm_id);\n",
              "        comm.open();\n",
              "        if (msg_handler) {\n",
              "          comm.onMsg = msg_handler;\n",
              "        }\n",
              "      } else if (typeof google != 'undefined' && google.colab.kernel != null) {\n",
              "        var comm_promise = google.colab.kernel.comms.open(comm_id)\n",
              "        comm_promise.then((comm) => {\n",
              "          window.PyViz.comms[comm_id] = comm;\n",
              "          if (msg_handler) {\n",
              "            var messages = comm.messages[Symbol.asyncIterator]();\n",
              "            function processIteratorResult(result) {\n",
              "              var message = result.value;\n",
              "              var content = {data: message.data};\n",
              "              var metadata = message.metadata || {comm_id};\n",
              "              var msg = {content, metadata}\n",
              "              msg_handler(msg);\n",
              "              return messages.next().then(processIteratorResult);\n",
              "            }\n",
              "            return messages.next().then(processIteratorResult);\n",
              "          }\n",
              "        }) \n",
              "        var sendClosure = (data, metadata, buffers, disposeOnDone) => {\n",
              "          return comm_promise.then((comm) => {\n",
              "            comm.send(data, metadata, buffers, disposeOnDone);\n",
              "          });\n",
              "        };\n",
              "        var comm = {\n",
              "          send: sendClosure\n",
              "        };\n",
              "      }\n",
              "      window.PyViz.comms[comm_id] = comm;\n",
              "      return comm;\n",
              "    }\n",
              "    window.PyViz.comm_manager = new JupyterCommManager();\n",
              "    \n",
              "\n",
              "\n",
              "var JS_MIME_TYPE = 'application/javascript';\n",
              "var HTML_MIME_TYPE = 'text/html';\n",
              "var EXEC_MIME_TYPE = 'application/vnd.holoviews_exec.v0+json';\n",
              "var CLASS_NAME = 'output';\n",
              "\n",
              "/**\n",
              " * Render data to the DOM node\n",
              " */\n",
              "function render(props, node) {\n",
              "  var div = document.createElement(\"div\");\n",
              "  var script = document.createElement(\"script\");\n",
              "  node.appendChild(div);\n",
              "  node.appendChild(script);\n",
              "}\n",
              "\n",
              "/**\n",
              " * Handle when a new output is added\n",
              " */\n",
              "function handle_add_output(event, handle) {\n",
              "  var output_area = handle.output_area;\n",
              "  var output = handle.output;\n",
              "  if ((output.data == undefined) || (!output.data.hasOwnProperty(EXEC_MIME_TYPE))) {\n",
              "    return\n",
              "  }\n",
              "  var id = output.metadata[EXEC_MIME_TYPE][\"id\"];\n",
              "  var toinsert = output_area.element.find(\".\" + CLASS_NAME.split(' ')[0]);\n",
              "  if (id !== undefined) {\n",
              "    var nchildren = toinsert.length;\n",
              "    var html_node = toinsert[nchildren-1].children[0];\n",
              "    html_node.innerHTML = output.data[HTML_MIME_TYPE];\n",
              "    var scripts = [];\n",
              "    var nodelist = html_node.querySelectorAll(\"script\");\n",
              "    for (var i in nodelist) {\n",
              "      if (nodelist.hasOwnProperty(i)) {\n",
              "        scripts.push(nodelist[i])\n",
              "      }\n",
              "    }\n",
              "\n",
              "    scripts.forEach( function (oldScript) {\n",
              "      var newScript = document.createElement(\"script\");\n",
              "      var attrs = [];\n",
              "      var nodemap = oldScript.attributes;\n",
              "      for (var j in nodemap) {\n",
              "        if (nodemap.hasOwnProperty(j)) {\n",
              "          attrs.push(nodemap[j])\n",
              "        }\n",
              "      }\n",
              "      attrs.forEach(function(attr) { newScript.setAttribute(attr.name, attr.value) });\n",
              "      newScript.appendChild(document.createTextNode(oldScript.innerHTML));\n",
              "      oldScript.parentNode.replaceChild(newScript, oldScript);\n",
              "    });\n",
              "    if (JS_MIME_TYPE in output.data) {\n",
              "      toinsert[nchildren-1].children[1].textContent = output.data[JS_MIME_TYPE];\n",
              "    }\n",
              "    output_area._hv_plot_id = id;\n",
              "    if ((window.Bokeh !== undefined) && (id in Bokeh.index)) {\n",
              "      window.PyViz.plot_index[id] = Bokeh.index[id];\n",
              "    } else {\n",
              "      window.PyViz.plot_index[id] = null;\n",
              "    }\n",
              "  } else if (output.metadata[EXEC_MIME_TYPE][\"server_id\"] !== undefined) {\n",
              "    var bk_div = document.createElement(\"div\");\n",
              "    bk_div.innerHTML = output.data[HTML_MIME_TYPE];\n",
              "    var script_attrs = bk_div.children[0].attributes;\n",
              "    for (var i = 0; i < script_attrs.length; i++) {\n",
              "      toinsert[toinsert.length - 1].childNodes[1].setAttribute(script_attrs[i].name, script_attrs[i].value);\n",
              "    }\n",
              "    // store reference to server id on output_area\n",
              "    output_area._bokeh_server_id = output.metadata[EXEC_MIME_TYPE][\"server_id\"];\n",
              "  }\n",
              "}\n",
              "\n",
              "/**\n",
              " * Handle when an output is cleared or removed\n",
              " */\n",
              "function handle_clear_output(event, handle) {\n",
              "  var id = handle.cell.output_area._hv_plot_id;\n",
              "  var server_id = handle.cell.output_area._bokeh_server_id;\n",
              "  if (((id === undefined) || !(id in PyViz.plot_index)) && (server_id !== undefined)) { return; }\n",
              "  var comm = window.PyViz.comm_manager.get_client_comm(\"hv-extension-comm\", \"hv-extension-comm\", function () {});\n",
              "  if (server_id !== null) {\n",
              "    comm.send({event_type: 'server_delete', 'id': server_id});\n",
              "    return;\n",
              "  } else if (comm !== null) {\n",
              "    comm.send({event_type: 'delete', 'id': id});\n",
              "  }\n",
              "  delete PyViz.plot_index[id];\n",
              "  if ((window.Bokeh !== undefined) & (id in window.Bokeh.index)) {\n",
              "    var doc = window.Bokeh.index[id].model.document\n",
              "    doc.clear();\n",
              "    const i = window.Bokeh.documents.indexOf(doc);\n",
              "    if (i > -1) {\n",
              "      window.Bokeh.documents.splice(i, 1);\n",
              "    }\n",
              "  }\n",
              "}\n",
              "\n",
              "/**\n",
              " * Handle kernel restart event\n",
              " */\n",
              "function handle_kernel_cleanup(event, handle) {\n",
              "  delete PyViz.comms[\"hv-extension-comm\"];\n",
              "  window.PyViz.plot_index = {}\n",
              "}\n",
              "\n",
              "/**\n",
              " * Handle update_display_data messages\n",
              " */\n",
              "function handle_update_output(event, handle) {\n",
              "  handle_clear_output(event, {cell: {output_area: handle.output_area}})\n",
              "  handle_add_output(event, handle)\n",
              "}\n",
              "\n",
              "function register_renderer(events, OutputArea) {\n",
              "  function append_mime(data, metadata, element) {\n",
              "    // create a DOM node to render to\n",
              "    var toinsert = this.create_output_subarea(\n",
              "    metadata,\n",
              "    CLASS_NAME,\n",
              "    EXEC_MIME_TYPE\n",
              "    );\n",
              "    this.keyboard_manager.register_events(toinsert);\n",
              "    // Render to node\n",
              "    var props = {data: data, metadata: metadata[EXEC_MIME_TYPE]};\n",
              "    render(props, toinsert[0]);\n",
              "    element.append(toinsert);\n",
              "    return toinsert\n",
              "  }\n",
              "\n",
              "  events.on('output_added.OutputArea', handle_add_output);\n",
              "  events.on('output_updated.OutputArea', handle_update_output);\n",
              "  events.on('clear_output.CodeCell', handle_clear_output);\n",
              "  events.on('delete.Cell', handle_clear_output);\n",
              "  events.on('kernel_ready.Kernel', handle_kernel_cleanup);\n",
              "\n",
              "  OutputArea.prototype.register_mime_type(EXEC_MIME_TYPE, append_mime, {\n",
              "    safe: true,\n",
              "    index: 0\n",
              "  });\n",
              "}\n",
              "\n",
              "if (window.Jupyter !== undefined) {\n",
              "  try {\n",
              "    var events = require('base/js/events');\n",
              "    var OutputArea = require('notebook/js/outputarea').OutputArea;\n",
              "    if (OutputArea.prototype.mime_types().indexOf(EXEC_MIME_TYPE) == -1) {\n",
              "      register_renderer(events, OutputArea);\n",
              "    }\n",
              "  } catch(err) {\n",
              "  }\n",
              "}\n"
            ]
          },
          "metadata": {}
        },
        {
          "output_type": "display_data",
          "data": {
            "text/html": [
              "<style>.bk-root, .bk-root .bk:before, .bk-root .bk:after {\n",
              "  font-family: var(--jp-ui-font-size1);\n",
              "  font-size: var(--jp-ui-font-size1);\n",
              "  color: var(--jp-ui-font-color1);\n",
              "}\n",
              "</style>"
            ]
          },
          "metadata": {}
        }
      ],
      "source": [
        "import matplotlib.pyplot as plt\n",
        "import numpy as np\n",
        "import pandas as pd\n",
        "import torch\n",
        "import torch.nn as nn\n",
        "import torchvision\n",
        "from cml.plot import initialize_bokeh\n",
        "from cml.panel import initialize_panel\n",
        "from jupyterthemes.stylefx import set_nb_theme\n",
        "from bokeh.io import show\n",
        "initialize_bokeh()\n",
        "initialize_panel()\n",
        "set_nb_theme(\"onedork\")\n",
        "rng = np.random.RandomState(1)"
      ]
    },
    {
      "cell_type": "markdown",
      "metadata": {
        "id": "iYn4MdZnKCey"
      },
      "source": [
        "### Load the dataset\n",
        "\n",
        "To start with a pragmatic and simple to understand example, we  will try to train the basic AE using the Fashion MNIST dataset. This dataset contains images of size 28x28 pixels, with different pieces of clothing. The following code allows to load (and eventually download) the dataset, by using the `torchvision.datasets` module. We also plot some randomly selected test examples"
      ]
    },
    {
      "cell_type": "code",
      "execution_count": 8,
      "metadata": {
        "id": "YZm503-I_tji",
        "colab": {
          "base_uri": "https://localhost:8080/"
        },
        "outputId": "ee89895b-ebe3-44d4-8d36-85d6a6380c2b"
      },
      "outputs": [
        {
          "output_type": "stream",
          "name": "stdout",
          "text": [
            "Downloading http://fashion-mnist.s3-website.eu-central-1.amazonaws.com/train-images-idx3-ubyte.gz\n",
            "Downloading http://fashion-mnist.s3-website.eu-central-1.amazonaws.com/train-images-idx3-ubyte.gz to ./data/FashionMNIST/raw/train-images-idx3-ubyte.gz\n"
          ]
        },
        {
          "output_type": "stream",
          "name": "stderr",
          "text": [
            "100%|██████████| 26421880/26421880 [00:02<00:00, 11211406.09it/s]\n"
          ]
        },
        {
          "output_type": "stream",
          "name": "stdout",
          "text": [
            "Extracting ./data/FashionMNIST/raw/train-images-idx3-ubyte.gz to ./data/FashionMNIST/raw\n",
            "\n",
            "Downloading http://fashion-mnist.s3-website.eu-central-1.amazonaws.com/train-labels-idx1-ubyte.gz\n",
            "Downloading http://fashion-mnist.s3-website.eu-central-1.amazonaws.com/train-labels-idx1-ubyte.gz to ./data/FashionMNIST/raw/train-labels-idx1-ubyte.gz\n"
          ]
        },
        {
          "output_type": "stream",
          "name": "stderr",
          "text": [
            "100%|██████████| 29515/29515 [00:00<00:00, 192492.01it/s]\n"
          ]
        },
        {
          "output_type": "stream",
          "name": "stdout",
          "text": [
            "Extracting ./data/FashionMNIST/raw/train-labels-idx1-ubyte.gz to ./data/FashionMNIST/raw\n",
            "\n",
            "Downloading http://fashion-mnist.s3-website.eu-central-1.amazonaws.com/t10k-images-idx3-ubyte.gz\n",
            "Downloading http://fashion-mnist.s3-website.eu-central-1.amazonaws.com/t10k-images-idx3-ubyte.gz to ./data/FashionMNIST/raw/t10k-images-idx3-ubyte.gz\n"
          ]
        },
        {
          "output_type": "stream",
          "name": "stderr",
          "text": [
            "100%|██████████| 4422102/4422102 [00:01<00:00, 3607826.28it/s]\n"
          ]
        },
        {
          "output_type": "stream",
          "name": "stdout",
          "text": [
            "Extracting ./data/FashionMNIST/raw/t10k-images-idx3-ubyte.gz to ./data/FashionMNIST/raw\n",
            "\n",
            "Downloading http://fashion-mnist.s3-website.eu-central-1.amazonaws.com/t10k-labels-idx1-ubyte.gz\n",
            "Downloading http://fashion-mnist.s3-website.eu-central-1.amazonaws.com/t10k-labels-idx1-ubyte.gz to ./data/FashionMNIST/raw/t10k-labels-idx1-ubyte.gz\n"
          ]
        },
        {
          "output_type": "stream",
          "name": "stderr",
          "text": [
            "100%|██████████| 5148/5148 [00:00<00:00, 5042568.19it/s]"
          ]
        },
        {
          "output_type": "stream",
          "name": "stdout",
          "text": [
            "Extracting ./data/FashionMNIST/raw/t10k-labels-idx1-ubyte.gz to ./data/FashionMNIST/raw\n",
            "\n"
          ]
        },
        {
          "output_type": "stream",
          "name": "stderr",
          "text": [
            "\n",
            "/usr/local/lib/python3.10/dist-packages/torch/utils/data/dataloader.py:560: UserWarning: This DataLoader will create 4 worker processes in total. Our suggested max number of worker in current system is 2, which is smaller than what this DataLoader is going to create. Please be aware that excessive worker creation might get DataLoader running slow or even freeze, lower the worker number to avoid potential slowness/freeze if necessary.\n",
            "  warnings.warn(_create_warning_msg(\n"
          ]
        }
      ],
      "source": [
        "import matplotlib\n",
        "dataset_dir = './data'\n",
        "# Going to use 80%/20% split for train/valid\n",
        "valid_ratio = 0.2\n",
        "# Load the dataset for the training/validation sets\n",
        "train_valid_dataset = torchvision.datasets.FashionMNIST(root=dataset_dir, train=True, transform=torchvision.transforms.ToTensor(), download=True)\n",
        "# Split it into training and validation sets\n",
        "nb_train = int((1.0 - valid_ratio) * len(train_valid_dataset))\n",
        "nb_valid =  int(valid_ratio * len(train_valid_dataset))\n",
        "train_dataset, valid_dataset = torch.utils.data.dataset.random_split(train_valid_dataset, [nb_train, nb_valid])\n",
        "# Load the test set\n",
        "test_dataset = torchvision.datasets.FashionMNIST(root=dataset_dir, transform=torchvision.transforms.ToTensor(),train=False)\n",
        "# Prepare \n",
        "num_threads = 4     # Loading the dataset is using 4 CPU threads\n",
        "batch_size  = 128   # Using minibatches of 128 samples\n",
        "train_loader = torch.utils.data.DataLoader(dataset=train_dataset, batch_size=batch_size, num_workers=num_threads)\n",
        "valid_loader = torch.utils.data.DataLoader(dataset=valid_dataset, batch_size=batch_size, shuffle=False, num_workers=num_threads)\n",
        "test_loader = torch.utils.data.DataLoader(dataset=test_dataset,batch_size=batch_size,shuffle=False,num_workers=num_threads)"
      ]
    },
    {
      "cell_type": "markdown",
      "metadata": {
        "id": "43KI31GsyEP8"
      },
      "source": [
        "Here, we are going to check the properties of our different sets and also plot some random examples, in order to better understand what type of data we will be working with."
      ]
    },
    {
      "cell_type": "code",
      "execution_count": 9,
      "metadata": {
        "colab": {
          "base_uri": "https://localhost:8080/",
          "height": 167
        },
        "id": "BounV1gyyEP8",
        "outputId": "436bad37-ecdf-4b5e-e26e-2b6d605faf32"
      },
      "outputs": [
        {
          "output_type": "stream",
          "name": "stdout",
          "text": [
            "The train set contains 48000 images, in 375 batches\n",
            "The validation set contains 12000 images, in 94 batches\n",
            "The test set contains 10000 images, in 79 batches\n"
          ]
        },
        {
          "output_type": "display_data",
          "data": {
            "text/plain": [
              "<Figure size 2000x500 with 10 Axes>"
            ],
            "image/png": "[encoded data removed]"
          },
          "metadata": {}
        }
      ],
      "source": [
        "print(\"The train set contains {} images, in {} batches\".format(len(train_loader.dataset), len(train_loader)))\n",
        "print(\"The validation set contains {} images, in {} batches\".format(len(valid_loader.dataset), len(valid_loader)))\n",
        "print(\"The test set contains {} images, in {} batches\".format(len(test_loader.dataset), len(test_loader)))\n",
        "nsamples = 10\n",
        "classes_names = ['T-shirt/top', 'Trouser', 'Pullover', 'Dress', 'Coat', 'Sandal','Shirt', 'Sneaker', 'Bag', 'Ankle boot']\n",
        "imgs_test, labels = next(iter(train_loader))\n",
        "fig = plt.figure(figsize=(20,5))\n",
        "for i in range(nsamples):\n",
        "    ax = plt.subplot(1,nsamples, i+1)\n",
        "    plt.imshow(imgs_test[i, 0, :, :], vmin=0, vmax=1.0, cmap=matplotlib.cm.gray)\n",
        "    ax.set_title(\"{}\".format(classes_names[labels[i]]), fontsize=15)\n",
        "    ax.get_xaxis().set_visible(False)\n",
        "    ax.get_yaxis().set_visible(False)"
      ]
    },
    {
      "cell_type": "markdown",
      "metadata": {
        "id": "p017uxReyEP9"
      },
      "source": [
        "<a name=\"architecture\"></a>\n",
        "\n",
        "### Define the deep autoencoding architecture\n",
        "\n",
        "First, we will define the deep autoencoder architecture as a guideline to what we are aiming to train by creating a custom nn.Module class. The autoencoder will have multiple hidden layers in both the encoder and decoder."
      ]
    },
    {
      "cell_type": "code",
      "execution_count": 10,
      "metadata": {
        "id": "JuUB37iZyEP9"
      },
      "outputs": [],
      "source": [
        "class DeepAutoencoder(nn.Module):\n",
        "    def __init__(self):\n",
        "        super(DeepAutoencoder, self).__init__()\n",
        "        # Encoder\n",
        "        self.encoder = nn.Sequential(\n",
        "            nn.Linear(28 * 28, 128),\n",
        "            nn.ReLU(),\n",
        "            nn.Linear(128, 128),\n",
        "            nn.ReLU(),\n",
        "            nn.Linear(128, 64),\n",
        "            nn.ReLU(),\n",
        "            nn.Linear(64, 64),\n",
        "            nn.ReLU(),\n",
        "            nn.Linear(64, 32),\n",
        "            nn.ReLU()\n",
        "        )\n",
        "        # Decoder\n",
        "        self.decoder = nn.Sequential(\n",
        "            nn.Linear(32, 64),\n",
        "            nn.ReLU(),\n",
        "            nn.Linear(64, 64),\n",
        "            nn.ReLU(),\n",
        "            nn.Linear(64, 128),\n",
        "            nn.ReLU(),\n",
        "            nn.Linear(128, 128),\n",
        "            nn.ReLU(),\n",
        "            nn.Linear(128, 28 * 28),\n",
        "            nn.Sigmoid()\n",
        "        )\n",
        "\n",
        "    def forward(self, x):\n",
        "        x = self.encoder(x)\n",
        "        x = self.decoder(x)\n",
        "        return x"
      ]
    },
    {
      "cell_type": "markdown",
      "metadata": {
        "id": "dbuPfNRtyEP-"
      },
      "source": [
        "<a name=\"pretraining\"></a>\n",
        "### Layer-wise pretraining\n",
        "\n",
        "In this section, we will perform layer-wise pretraining of the deep autoencoder. We will train each layer individually as a shallow autoencoder, with its own encoder and decoder.\n",
        "\n",
        "***\n",
        "\n",
        "<div class=\"alert alert-success\" markdown=\"1\" style=\"color:white; background-color: #013220; border-color: #03C03C\">\n",
        "\n",
        "> ### Question 1.1 - Implementing the **layer-wise pretraining**\n",
        "\n",
        "> 1. Complete the `pretrain_layer` function that performs the pretraining of a given layer\n",
        ">    * Define the architecture of a single autoencoder\n",
        ">    * Create a criterion and optimizer\n",
        ">    * **Obtain the encoded features from previously trained layers**\n",
        "> 2. Update the training loop to learn the weights of both layers.\n",
        "\n",
        "</div>\n",
        "\n",
        "***"
      ]
    },
    {
      "cell_type": "code",
      "execution_count": 14,
      "metadata": {
        "colab": {
          "base_uri": "https://localhost:8080/"
        },
        "id": "IxcqsDEvyEP_",
        "outputId": "271b282b-d820-40b0-d32d-19d8c2cba4f0"
      },
      "outputs": [
        {
          "output_type": "stream",
          "name": "stdout",
          "text": [
            "Pretraining layer 1\n"
          ]
        },
        {
          "output_type": "stream",
          "name": "stderr",
          "text": [
            "/usr/local/lib/python3.10/dist-packages/torch/utils/data/dataloader.py:560: UserWarning: This DataLoader will create 4 worker processes in total. Our suggested max number of worker in current system is 2, which is smaller than what this DataLoader is going to create. Please be aware that excessive worker creation might get DataLoader running slow or even freeze, lower the worker number to avoid potential slowness/freeze if necessary.\n",
            "  warnings.warn(_create_warning_msg(\n"
          ]
        },
        {
          "output_type": "stream",
          "name": "stdout",
          "text": [
            "Epoch [1/50], Loss: 0.0248\n",
            "Epoch [2/50], Loss: 0.0205\n",
            "Epoch [3/50], Loss: 0.0191\n",
            "Epoch [4/50], Loss: 0.0184\n",
            "Epoch [5/50], Loss: 0.0181\n",
            "Epoch [6/50], Loss: 0.0178\n",
            "Epoch [7/50], Loss: 0.0175\n",
            "Epoch [8/50], Loss: 0.0174\n",
            "Epoch [9/50], Loss: 0.0173\n",
            "Epoch [10/50], Loss: 0.0169\n",
            "Epoch [11/50], Loss: 0.0168\n",
            "Epoch [12/50], Loss: 0.0168\n",
            "Epoch [13/50], Loss: 0.0167\n",
            "Epoch [14/50], Loss: 0.0166\n",
            "Epoch [15/50], Loss: 0.0166\n",
            "Epoch [16/50], Loss: 0.0166\n",
            "Epoch [17/50], Loss: 0.0166\n",
            "Epoch [18/50], Loss: 0.0165\n",
            "Epoch [19/50], Loss: 0.0166\n",
            "Epoch [20/50], Loss: 0.0165\n",
            "Epoch [21/50], Loss: 0.0165\n",
            "Epoch [22/50], Loss: 0.0165\n",
            "Epoch [23/50], Loss: 0.0165\n",
            "Epoch [24/50], Loss: 0.0165\n",
            "Epoch [25/50], Loss: 0.0165\n",
            "Epoch [26/50], Loss: 0.0165\n",
            "Epoch [27/50], Loss: 0.0165\n",
            "Epoch [28/50], Loss: 0.0165\n",
            "Epoch [29/50], Loss: 0.0165\n",
            "Epoch [30/50], Loss: 0.0164\n",
            "Epoch [31/50], Loss: 0.0164\n",
            "Epoch [32/50], Loss: 0.0164\n",
            "Epoch [33/50], Loss: 0.0164\n",
            "Epoch [34/50], Loss: 0.0164\n",
            "Epoch [35/50], Loss: 0.0164\n",
            "Epoch [36/50], Loss: 0.0164\n",
            "Epoch [37/50], Loss: 0.0164\n",
            "Epoch [38/50], Loss: 0.0164\n",
            "Epoch [39/50], Loss: 0.0164\n",
            "Epoch [40/50], Loss: 0.0164\n",
            "Epoch [41/50], Loss: 0.0164\n",
            "Epoch [42/50], Loss: 0.0164\n",
            "Epoch [43/50], Loss: 0.0164\n",
            "Epoch [44/50], Loss: 0.0164\n",
            "Epoch [45/50], Loss: 0.0164\n",
            "Epoch [46/50], Loss: 0.0164\n",
            "Epoch [47/50], Loss: 0.0164\n",
            "Epoch [48/50], Loss: 0.0164\n",
            "Epoch [49/50], Loss: 0.0164\n",
            "Epoch [50/50], Loss: 0.0164\n",
            "Pretraining layer 2\n",
            "Epoch [1/50], Loss: 0.0415\n",
            "Epoch [2/50], Loss: 0.0184\n",
            "Epoch [3/50], Loss: 0.0120\n",
            "Epoch [4/50], Loss: 0.0087\n",
            "Epoch [5/50], Loss: 0.0069\n",
            "Epoch [6/50], Loss: 0.0061\n",
            "Epoch [7/50], Loss: 0.0053\n",
            "Epoch [8/50], Loss: 0.0052\n",
            "Epoch [9/50], Loss: 0.0051\n",
            "Epoch [10/50], Loss: 0.0051\n",
            "Epoch [11/50], Loss: 0.0049\n",
            "Epoch [12/50], Loss: 0.0049\n",
            "Epoch [13/50], Loss: 0.0049\n",
            "Epoch [14/50], Loss: 0.0048\n",
            "Epoch [15/50], Loss: 0.0046\n",
            "Epoch [16/50], Loss: 0.0044\n",
            "Epoch [17/50], Loss: 0.0044\n",
            "Epoch [18/50], Loss: 0.0044\n",
            "Epoch [19/50], Loss: 0.0044\n",
            "Epoch [20/50], Loss: 0.0044\n",
            "Epoch [21/50], Loss: 0.0044\n",
            "Epoch [22/50], Loss: 0.0044\n",
            "Epoch [23/50], Loss: 0.0044\n",
            "Epoch [24/50], Loss: 0.0044\n",
            "Epoch [25/50], Loss: 0.0041\n",
            "Epoch [26/50], Loss: 0.0041\n",
            "Epoch [27/50], Loss: 0.0041\n",
            "Epoch [28/50], Loss: 0.0041\n",
            "Epoch [29/50], Loss: 0.0041\n",
            "Epoch [30/50], Loss: 0.0041\n",
            "Epoch [31/50], Loss: 0.0041\n",
            "Epoch [32/50], Loss: 0.0041\n",
            "Epoch [33/50], Loss: 0.0041\n",
            "Epoch [34/50], Loss: 0.0041\n",
            "Epoch [35/50], Loss: 0.0041\n",
            "Epoch [36/50], Loss: 0.0041\n",
            "Epoch [37/50], Loss: 0.0041\n",
            "Epoch [38/50], Loss: 0.0041\n",
            "Epoch [39/50], Loss: 0.0041\n",
            "Epoch [40/50], Loss: 0.0041\n",
            "Epoch [41/50], Loss: 0.0041\n",
            "Epoch [42/50], Loss: 0.0041\n",
            "Epoch [43/50], Loss: 0.0041\n",
            "Epoch [44/50], Loss: 0.0041\n",
            "Epoch [45/50], Loss: 0.0040\n",
            "Epoch [46/50], Loss: 0.0040\n",
            "Epoch [47/50], Loss: 0.0040\n",
            "Epoch [48/50], Loss: 0.0040\n",
            "Epoch [49/50], Loss: 0.0040\n",
            "Epoch [50/50], Loss: 0.0040\n",
            "Pretraining layer 3\n",
            "Epoch [1/50], Loss: 0.2840\n",
            "Epoch [2/50], Loss: 0.2469\n",
            "Epoch [3/50], Loss: 0.2010\n",
            "Epoch [4/50], Loss: 0.1236\n",
            "Epoch [5/50], Loss: 0.0826\n",
            "Epoch [6/50], Loss: 0.0748\n",
            "Epoch [7/50], Loss: 0.0732\n",
            "Epoch [8/50], Loss: 0.0724\n",
            "Epoch [9/50], Loss: 0.0719\n",
            "Epoch [10/50], Loss: 0.0715\n",
            "Epoch [11/50], Loss: 0.0713\n",
            "Epoch [12/50], Loss: 0.0712\n",
            "Epoch [13/50], Loss: 0.0711\n",
            "Epoch [14/50], Loss: 0.0710\n",
            "Epoch [15/50], Loss: 0.0710\n",
            "Epoch [16/50], Loss: 0.0710\n",
            "Epoch [17/50], Loss: 0.0710\n",
            "Epoch [18/50], Loss: 0.0710\n",
            "Epoch [19/50], Loss: 0.0710\n",
            "Epoch [20/50], Loss: 0.0710\n",
            "Epoch [21/50], Loss: 0.0710\n",
            "Epoch [22/50], Loss: 0.0543\n",
            "Epoch [23/50], Loss: 0.0539\n",
            "Epoch [24/50], Loss: 0.0538\n",
            "Epoch [25/50], Loss: 0.0538\n",
            "Epoch [26/50], Loss: 0.0537\n",
            "Epoch [27/50], Loss: 0.0537\n",
            "Epoch [28/50], Loss: 0.0536\n",
            "Epoch [29/50], Loss: 0.0536\n",
            "Epoch [30/50], Loss: 0.0535\n",
            "Epoch [31/50], Loss: 0.0535\n",
            "Epoch [32/50], Loss: 0.0535\n",
            "Epoch [33/50], Loss: 0.0535\n",
            "Epoch [34/50], Loss: 0.0535\n",
            "Epoch [35/50], Loss: 0.0535\n",
            "Epoch [36/50], Loss: 0.0534\n",
            "Epoch [37/50], Loss: 0.0534\n",
            "Epoch [38/50], Loss: 0.0534\n",
            "Epoch [39/50], Loss: 0.0534\n",
            "Epoch [40/50], Loss: 0.0534\n",
            "Epoch [41/50], Loss: 0.0534\n",
            "Epoch [42/50], Loss: 0.0534\n",
            "Epoch [43/50], Loss: 0.0534\n",
            "Epoch [44/50], Loss: 0.0534\n",
            "Epoch [45/50], Loss: 0.0534\n",
            "Epoch [46/50], Loss: 0.0534\n",
            "Epoch [47/50], Loss: 0.0534\n",
            "Epoch [48/50], Loss: 0.0533\n",
            "Epoch [49/50], Loss: 0.0534\n",
            "Epoch [50/50], Loss: 0.0533\n",
            "Pretraining layer 4\n",
            "Epoch [1/50], Loss: 0.0578\n",
            "Epoch [2/50], Loss: 0.0338\n",
            "Epoch [3/50], Loss: 0.0228\n",
            "Epoch [4/50], Loss: 0.0185\n",
            "Epoch [5/50], Loss: 0.0181\n",
            "Epoch [6/50], Loss: 0.0181\n",
            "Epoch [7/50], Loss: 0.0181\n",
            "Epoch [8/50], Loss: 0.0181\n",
            "Epoch [9/50], Loss: 0.0181\n",
            "Epoch [10/50], Loss: 0.0181\n",
            "Epoch [11/50], Loss: 0.0181\n",
            "Epoch [12/50], Loss: 0.0181\n",
            "Epoch [13/50], Loss: 0.0181\n",
            "Epoch [14/50], Loss: 0.0181\n",
            "Epoch [15/50], Loss: 0.0181\n",
            "Epoch [16/50], Loss: 0.0181\n",
            "Epoch [17/50], Loss: 0.0181\n",
            "Epoch [18/50], Loss: 0.0181\n",
            "Epoch [19/50], Loss: 0.0181\n",
            "Epoch [20/50], Loss: 0.0181\n",
            "Epoch [21/50], Loss: 0.0181\n",
            "Epoch [22/50], Loss: 0.0181\n",
            "Epoch [23/50], Loss: 0.0181\n",
            "Epoch [24/50], Loss: 0.0181\n",
            "Epoch [25/50], Loss: 0.0181\n",
            "Epoch [26/50], Loss: 0.0181\n",
            "Epoch [27/50], Loss: 0.0181\n",
            "Epoch [28/50], Loss: 0.0181\n",
            "Epoch [29/50], Loss: 0.0181\n",
            "Epoch [30/50], Loss: 0.0181\n",
            "Epoch [31/50], Loss: 0.0181\n",
            "Epoch [32/50], Loss: 0.0181\n",
            "Epoch [33/50], Loss: 0.0181\n",
            "Epoch [34/50], Loss: 0.0181\n",
            "Epoch [35/50], Loss: 0.0181\n",
            "Epoch [36/50], Loss: 0.0181\n",
            "Epoch [37/50], Loss: 0.0181\n",
            "Epoch [38/50], Loss: 0.0181\n",
            "Epoch [39/50], Loss: 0.0181\n",
            "Epoch [40/50], Loss: 0.0181\n",
            "Epoch [41/50], Loss: 0.0181\n",
            "Epoch [42/50], Loss: 0.0181\n",
            "Epoch [43/50], Loss: 0.0181\n",
            "Epoch [44/50], Loss: 0.0181\n",
            "Epoch [45/50], Loss: 0.0181\n",
            "Epoch [46/50], Loss: 0.0181\n",
            "Epoch [47/50], Loss: 0.0181\n",
            "Epoch [48/50], Loss: 0.0181\n",
            "Epoch [49/50], Loss: 0.0181\n",
            "Epoch [50/50], Loss: 0.0181\n",
            "Pretraining layer 5\n",
            "Epoch [1/50], Loss: 0.3628\n",
            "Epoch [2/50], Loss: 0.3415\n",
            "Epoch [3/50], Loss: 0.3072\n",
            "Epoch [4/50], Loss: 0.3002\n",
            "Epoch [5/50], Loss: 0.2957\n",
            "Epoch [6/50], Loss: 0.2929\n",
            "Epoch [7/50], Loss: 0.1764\n",
            "Epoch [8/50], Loss: 0.1732\n",
            "Epoch [9/50], Loss: 0.1723\n",
            "Epoch [10/50], Loss: 0.1718\n",
            "Epoch [11/50], Loss: 0.1704\n",
            "Epoch [12/50], Loss: 0.1689\n",
            "Epoch [13/50], Loss: 0.1687\n",
            "Epoch [14/50], Loss: 0.1686\n",
            "Epoch [15/50], Loss: 0.1685\n",
            "Epoch [16/50], Loss: 0.1683\n",
            "Epoch [17/50], Loss: 0.1682\n",
            "Epoch [18/50], Loss: 0.1681\n",
            "Epoch [19/50], Loss: 0.1680\n",
            "Epoch [20/50], Loss: 0.1679\n",
            "Epoch [21/50], Loss: 0.1678\n",
            "Epoch [22/50], Loss: 0.1518\n",
            "Epoch [23/50], Loss: 0.1516\n",
            "Epoch [24/50], Loss: 0.1515\n",
            "Epoch [25/50], Loss: 0.1514\n",
            "Epoch [26/50], Loss: 0.1513\n",
            "Epoch [27/50], Loss: 0.1513\n",
            "Epoch [28/50], Loss: 0.1512\n",
            "Epoch [29/50], Loss: 0.0747\n",
            "Epoch [30/50], Loss: 0.0726\n",
            "Epoch [31/50], Loss: 0.0722\n",
            "Epoch [32/50], Loss: 0.0720\n",
            "Epoch [33/50], Loss: 0.0719\n",
            "Epoch [34/50], Loss: 0.0719\n",
            "Epoch [35/50], Loss: 0.0720\n",
            "Epoch [36/50], Loss: 0.0720\n",
            "Epoch [37/50], Loss: 0.0720\n",
            "Epoch [38/50], Loss: 0.0721\n",
            "Epoch [39/50], Loss: 0.0721\n",
            "Epoch [40/50], Loss: 0.0721\n",
            "Epoch [41/50], Loss: 0.0722\n",
            "Epoch [42/50], Loss: 0.0722\n",
            "Epoch [43/50], Loss: 0.0722\n",
            "Epoch [44/50], Loss: 0.0555\n",
            "Epoch [45/50], Loss: 0.0550\n",
            "Epoch [46/50], Loss: 0.0549\n",
            "Epoch [47/50], Loss: 0.0549\n",
            "Epoch [48/50], Loss: 0.0549\n",
            "Epoch [49/50], Loss: 0.0549\n",
            "Epoch [50/50], Loss: 0.0549\n"
          ]
        }
      ],
      "source": [
        "device = torch.device(\"cuda\")\n",
        "#device = \"cpu\"\n",
        "\n",
        "class ShallowAutoencoder(nn.Module):\n",
        "    def __init__(self, din, dout):\n",
        "        super(ShallowAutoencoder, self).__init__()\n",
        "        # Encoder\n",
        "        self.enc = nn.Sequential(\n",
        "            nn.Linear(din, dout),\n",
        "            nn.ReLU()\n",
        "        )\n",
        "\n",
        "        # Decoder\n",
        "        self.dec = nn.Sequential(\n",
        "            nn.Linear(dout, din),\n",
        "            nn.ReLU()\n",
        "        )\n",
        "    \n",
        "    def forward(self, x):\n",
        "        x = self.enc(x)\n",
        "        x = self.dec(x)\n",
        "        return x\n",
        "\n",
        "\n",
        "# Function for layer-wise pretraining\n",
        "def pretrain_layer(pretrained_layers, layer_id, layer_in, layer_out, train_loader, num_epochs=50):\n",
        "    \n",
        "    # Define the shallow autoencoder architecture\n",
        "    shallow_autoencoder = ShallowAutoencoder(layer_in, layer_out).to(device)\n",
        "\n",
        "    # Our training criterion and optimizer\n",
        "    criterion = nn.MSELoss()\n",
        "    lr = 0.001\n",
        "    optimizer = torch.optim.AdamW(shallow_autoencoder.parameters(), lr)\n",
        "    \n",
        "    # Training loop\n",
        "    for epoch in range(num_epochs):\n",
        "        for batch_features, _ in train_loader:                  # batch_features.shape: (batch_size, 1, 28, 28)\n",
        "            \n",
        "            x = torch.reshape(batch_features, (batch_size, 28*28)).to(device)\n",
        "\n",
        "            # Eventually pass the batch through our previous layers\n",
        "            for layer in pretrained_layers:\n",
        "                x = layer.enc(x)\n",
        "            \n",
        "            # Training loop for a given layer\n",
        "            x_bar = shallow_autoencoder(x)\n",
        "            loss = criterion(x_bar, x)\n",
        "            optimizer.zero_grad()\n",
        "            loss.backward()\n",
        "            optimizer.step()\n",
        "            #print(\"\\033[H\\033[J\", end=\"\")\n",
        "            \n",
        "        # Print the corresponding advances\n",
        "        print(f\"Epoch [{epoch+1}/{num_epochs}], Loss: {loss.item():.4f}\")\n",
        "\n",
        "    # Return the trained shallow autoencoder\n",
        "    return shallow_autoencoder\n",
        "\n",
        "# Pretrain each layer of the autoencoder\n",
        "pretrained_layers = []\n",
        "input_sizes = [28 * 28, 128, 128, 64, 64]\n",
        "output_sizes = [128, 128, 64, 64, 32]\n",
        "for i in range(len(input_sizes)):\n",
        "    print(f\"Pretraining layer {i+1}\")\n",
        "    pretrained_layer = pretrain_layer(pretrained_layers, i, input_sizes[i], output_sizes[i], train_loader)\n",
        "    pretrained_layers.append(pretrained_layer)"
      ]
    },
    {
      "cell_type": "markdown",
      "metadata": {
        "id": "MIv8MjdhyEP_"
      },
      "source": [
        "<a name=\"finetuning\"></a>\n",
        "### Fine-tuning the Autoencoder\n",
        "\n",
        "After layer-wise pretraining, we will fine-tune the entire deep autoencoder using the pretrained layers' weights. Note that what we have right now is a set of pretrained layers contained in the `pretrained_layers` array. However, we still need to connect these layers together by **transferring their weights to our full deep autoencoder architecture**.\n",
        "\n",
        "If you check the documentation and code for the `nn.Linear` layer, you can see that the actual weights are stored inside two Tensors respectively named\n",
        "- `layer.weight.data`\n",
        "- `layer.bias.data`\n",
        "\n",
        "***\n",
        "\n",
        "<div class=\"alert alert-success\" markdown=\"1\" style=\"color:white; background-color: #013220; border-color: #03C03C\">\n",
        "\n",
        "> ### Question 1.2 - Finetuning the autoencoder\n",
        "\n",
        "> 1. Transfer the weights from the pretrained layers to the full architecture\n",
        "> 2. Fill in the training criterion and optimizer\n",
        "> 2. Finish the training loop to finetune your deep AE\n",
        "  \n",
        "</div>\n",
        "\n",
        "***"
      ]
    },
    {
      "cell_type": "code",
      "execution_count": 15,
      "metadata": {
        "colab": {
          "base_uri": "https://localhost:8080/"
        },
        "id": "stygvC7vyEP_",
        "outputId": "f612b6ed-9f7e-4672-afef-bdcbdfc47b42"
      },
      "outputs": [
        {
          "output_type": "stream",
          "name": "stderr",
          "text": [
            "/usr/local/lib/python3.10/dist-packages/torch/utils/data/dataloader.py:560: UserWarning: This DataLoader will create 4 worker processes in total. Our suggested max number of worker in current system is 2, which is smaller than what this DataLoader is going to create. Please be aware that excessive worker creation might get DataLoader running slow or even freeze, lower the worker number to avoid potential slowness/freeze if necessary.\n",
            "  warnings.warn(_create_warning_msg(\n"
          ]
        },
        {
          "output_type": "stream",
          "name": "stdout",
          "text": [
            "Epoch [1/100], Loss: 0.0206\n",
            "Epoch [2/100], Loss: 0.0164\n",
            "Epoch [3/100], Loss: 0.0152\n",
            "Epoch [4/100], Loss: 0.0144\n",
            "Epoch [5/100], Loss: 0.0155\n",
            "Epoch [6/100], Loss: 0.0152\n",
            "Epoch [7/100], Loss: 0.0138\n",
            "Epoch [8/100], Loss: 0.0132\n",
            "Epoch [9/100], Loss: 0.0142\n",
            "Epoch [10/100], Loss: 0.0129\n",
            "Epoch [11/100], Loss: 0.0126\n",
            "Epoch [12/100], Loss: 0.0127\n",
            "Epoch [13/100], Loss: 0.0126\n",
            "Epoch [14/100], Loss: 0.0122\n",
            "Epoch [15/100], Loss: 0.0123\n",
            "Epoch [16/100], Loss: 0.0124\n",
            "Epoch [17/100], Loss: 0.0130\n",
            "Epoch [18/100], Loss: 0.0118\n",
            "Epoch [19/100], Loss: 0.0120\n",
            "Epoch [20/100], Loss: 0.0124\n",
            "Epoch [21/100], Loss: 0.0116\n",
            "Epoch [22/100], Loss: 0.0115\n",
            "Epoch [23/100], Loss: 0.0116\n",
            "Epoch [24/100], Loss: 0.0115\n",
            "Epoch [25/100], Loss: 0.0115\n",
            "Epoch [26/100], Loss: 0.0114\n",
            "Epoch [27/100], Loss: 0.0115\n",
            "Epoch [28/100], Loss: 0.0113\n",
            "Epoch [29/100], Loss: 0.0112\n",
            "Epoch [30/100], Loss: 0.0112\n",
            "Epoch [31/100], Loss: 0.0110\n",
            "Epoch [32/100], Loss: 0.0110\n",
            "Epoch [33/100], Loss: 0.0110\n",
            "Epoch [34/100], Loss: 0.0113\n",
            "Epoch [35/100], Loss: 0.0110\n",
            "Epoch [36/100], Loss: 0.0121\n",
            "Epoch [37/100], Loss: 0.0109\n",
            "Epoch [38/100], Loss: 0.0108\n",
            "Epoch [39/100], Loss: 0.0108\n",
            "Epoch [40/100], Loss: 0.0107\n",
            "Epoch [41/100], Loss: 0.0107\n",
            "Epoch [42/100], Loss: 0.0113\n",
            "Epoch [43/100], Loss: 0.0105\n",
            "Epoch [44/100], Loss: 0.0107\n",
            "Epoch [45/100], Loss: 0.0107\n",
            "Epoch [46/100], Loss: 0.0109\n",
            "Epoch [47/100], Loss: 0.0107\n",
            "Epoch [48/100], Loss: 0.0105\n",
            "Epoch [49/100], Loss: 0.0107\n",
            "Epoch [50/100], Loss: 0.0105\n",
            "Epoch [51/100], Loss: 0.0114\n",
            "Epoch [52/100], Loss: 0.0107\n",
            "Epoch [53/100], Loss: 0.0108\n",
            "Epoch [54/100], Loss: 0.0103\n",
            "Epoch [55/100], Loss: 0.0104\n",
            "Epoch [56/100], Loss: 0.0103\n",
            "Epoch [57/100], Loss: 0.0105\n",
            "Epoch [58/100], Loss: 0.0104\n",
            "Epoch [59/100], Loss: 0.0103\n",
            "Epoch [60/100], Loss: 0.0105\n",
            "Epoch [61/100], Loss: 0.0104\n",
            "Epoch [62/100], Loss: 0.0103\n",
            "Epoch [63/100], Loss: 0.0105\n",
            "Epoch [64/100], Loss: 0.0102\n",
            "Epoch [65/100], Loss: 0.0103\n",
            "Epoch [66/100], Loss: 0.0103\n",
            "Epoch [67/100], Loss: 0.0105\n",
            "Epoch [68/100], Loss: 0.0103\n",
            "Epoch [69/100], Loss: 0.0104\n",
            "Epoch [70/100], Loss: 0.0105\n",
            "Epoch [71/100], Loss: 0.0103\n",
            "Epoch [72/100], Loss: 0.0102\n",
            "Epoch [73/100], Loss: 0.0103\n",
            "Epoch [74/100], Loss: 0.0102\n",
            "Epoch [75/100], Loss: 0.0104\n",
            "Epoch [76/100], Loss: 0.0103\n",
            "Epoch [77/100], Loss: 0.0103\n",
            "Epoch [78/100], Loss: 0.0103\n",
            "Epoch [79/100], Loss: 0.0104\n",
            "Epoch [80/100], Loss: 0.0103\n",
            "Epoch [81/100], Loss: 0.0103\n",
            "Epoch [82/100], Loss: 0.0104\n",
            "Epoch [83/100], Loss: 0.0101\n",
            "Epoch [84/100], Loss: 0.0102\n",
            "Epoch [85/100], Loss: 0.0103\n",
            "Epoch [86/100], Loss: 0.0103\n",
            "Epoch [87/100], Loss: 0.0103\n",
            "Epoch [88/100], Loss: 0.0101\n",
            "Epoch [89/100], Loss: 0.0102\n",
            "Epoch [90/100], Loss: 0.0103\n",
            "Epoch [91/100], Loss: 0.0101\n",
            "Epoch [92/100], Loss: 0.0105\n",
            "Epoch [93/100], Loss: 0.0106\n",
            "Epoch [94/100], Loss: 0.0103\n",
            "Epoch [95/100], Loss: 0.0109\n",
            "Epoch [96/100], Loss: 0.0103\n",
            "Epoch [97/100], Loss: 0.0103\n",
            "Epoch [98/100], Loss: 0.0102\n",
            "Epoch [99/100], Loss: 0.0104\n",
            "Epoch [100/100], Loss: 0.0107\n"
          ]
        }
      ],
      "source": [
        "# Initialize the deep autoencoder with pretrained weights\n",
        "autoencoder = DeepAutoencoder().to(device)\n",
        "\n",
        "# Load pretrained weights into the deep autoencoder\n",
        "for i, layer in enumerate(autoencoder.encoder):\n",
        "    if isinstance(layer, nn.Linear):\n",
        "        \n",
        "        l = int(i/2)\n",
        "        # take shallow layer\n",
        "        donor = pretrained_layers[l].enc[0]\n",
        "\n",
        "        layer.weight.data = donor.weight.data\n",
        "        layer.bias.data = donor.bias.data\n",
        "\n",
        "for i, layer in enumerate(autoencoder.decoder):\n",
        "    if isinstance(layer, nn.Linear):\n",
        "\n",
        "        l = int(i/2)\n",
        "        # take shallow layer\n",
        "        \n",
        "        \n",
        "        layer.weight.data = pretrained_layers[4-l].enc[0].weight.data.T\n",
        "        layer.bias.data = pretrained_layers[4-l].dec[0].bias.data\n",
        "\n",
        "# Fine-tune the deep autoencoder\n",
        "lr = 0.001\n",
        "criterion = nn.MSELoss()\n",
        "optimizer = torch.optim.AdamW(autoencoder.parameters(), lr)\n",
        "num_epochs = 100\n",
        "\n",
        "for epoch in range(num_epochs):\n",
        "    for batch_features, _ in train_loader:\n",
        "        \n",
        "        x = torch.reshape(batch_features, (batch_size, 28*28)).to(device)\n",
        "        x_ = autoencoder.forward(x)\n",
        "        loss = criterion(x, x_)\n",
        "        optimizer.zero_grad()\n",
        "        loss.backward()\n",
        "        optimizer.step()\n",
        "\n",
        "    print(f\"Epoch [{epoch+1}/{num_epochs}], Loss: {loss.item():.4f}\")"
      ]
    },
    {
      "cell_type": "markdown",
      "metadata": {
        "id": "DLLZ_BOayEP_"
      },
      "source": [
        "<a name=\"visualization\"></a>\n",
        "### Visualizing the Results\n",
        "\n",
        "First, we can visualize the results by comparing input images and their corresponding reconstructed images produced by the deep autoencoder."
      ]
    },
    {
      "cell_type": "code",
      "execution_count": 16,
      "metadata": {
        "colab": {
          "base_uri": "https://localhost:8080/",
          "height": 275
        },
        "id": "1xSF8NeayEP_",
        "outputId": "84e4a60f-76ae-4d9a-b080-1e592f1fcd48"
      },
      "outputs": [
        {
          "output_type": "stream",
          "name": "stderr",
          "text": [
            "/usr/local/lib/python3.10/dist-packages/torch/utils/data/dataloader.py:560: UserWarning: This DataLoader will create 4 worker processes in total. Our suggested max number of worker in current system is 2, which is smaller than what this DataLoader is going to create. Please be aware that excessive worker creation might get DataLoader running slow or even freeze, lower the worker number to avoid potential slowness/freeze if necessary.\n",
            "  warnings.warn(_create_warning_msg(\n"
          ]
        },
        {
          "output_type": "display_data",
          "data": {
            "text/plain": [
              "<Figure size 2000x200 with 10 Axes>"
            ],
            "image/png": "[encoded data removed]"
          },
          "metadata": {}
        },
        {
          "output_type": "display_data",
          "data": {
            "text/plain": [
              "<Figure size 2000x200 with 10 Axes>"
            ],
            "image/png": "[encoded data removed]"
          },
          "metadata": {}
        }
      ],
      "source": [
        "import matplotlib.pyplot as plt\n",
        "import numpy as np\n",
        "\n",
        "# Function to display images\n",
        "def display_images(images, title):\n",
        "    fig, axes = plt.subplots(nrows=1, ncols=10, figsize=(20, 2))\n",
        "    for i, ax in enumerate(axes):\n",
        "        ax.imshow(images[i].reshape(28, 28), cmap='gray')\n",
        "        ax.axis('off')\n",
        "    plt.suptitle(title, fontsize=16)\n",
        "    plt.show()\n",
        "\n",
        "# Display the input and reconstructed images\n",
        "for batch_features, _ in test_loader:\n",
        "    batch_features = batch_features.view(-1, 28 * 28).to(device)\n",
        "    outputs = autoencoder(batch_features)\n",
        "    input_images = batch_features.cpu().detach().numpy()\n",
        "    reconstructed_images = outputs.cpu().detach().numpy()\n",
        "    display_images(input_images, 'Input Images')\n",
        "    display_images(reconstructed_images, 'Reconstructed Images')\n",
        "    break"
      ]
    },
    {
      "cell_type": "markdown",
      "metadata": {
        "id": "HVzQhPMxyEQA"
      },
      "source": [
        "<a name=\"finetuning\"></a>\n",
        "### Using the encoder for supervised classification\n",
        "\n",
        "The following question is entirely open, without any specific code guideline to follow. This is aimed at exercising your own problem-solving skills in order to define the code architecture by yourself. Now that we have a finetuned auto-encoder, we would like to use the _encoding_ part for _supervised classification_. As seen in class, this amounts to a form of _transfer learning_. Hence, we need to retrieve the encoder and add extra layers that we will train in a supervised manner (in order to recognize the class of different fashion items).\n",
        "\n",
        "***\n",
        "\n",
        "<div class=\"alert alert-success\" markdown=\"1\" style=\"color:white; background-color: #013220; border-color: #03C03C\">\n",
        "\n",
        "> ### Question 1.3 - Transfer learning for classification\n",
        "\n",
        "> 1. Define the architecture of your target classifier\n",
        "> 2. Transfer the weights from our finetuned encoder\n",
        "> 3. Define the complete training of this classifier\n",
        "> 4. Evaluate your solution\n",
        "  \n",
        "</div>\n",
        "\n",
        "***"
      ]
    },
    {
      "cell_type": "code",
      "execution_count": null,
      "metadata": {
        "id": "M-1theIIyEQB"
      },
      "outputs": [],
      "source": [
        "class MyClassifier(nn.Module):\n",
        "    def __init__(self, din, dout):\n",
        "        super(MyClassifier, self).__init__()\n",
        "        # Encoder\n",
        "        self.encoder = nn.Sequential(\n",
        "            nn.Linear(28 * 28, 128),\n",
        "            nn.ReLU(),\n",
        "            nn.Linear(128, 128),\n",
        "            nn.ReLU(),\n",
        "            nn.Linear(128, 64),\n",
        "            nn.ReLU(),\n",
        "            nn.Linear(64, 64),\n",
        "            nn.ReLU(),\n",
        "            nn.Linear(64, 32),\n",
        "            nn.ReLU()\n",
        "        )\n",
        "\n",
        "        self.classify = nn.Sequential(\n",
        "            nn.Linear(32,16),\n",
        "            nn.ReLU(),\n",
        "            nn.Linear(16,10),\n",
        "            nn.Sigmoid()\n",
        "        )\n",
        "\n",
        "\n",
        "    def forward(self, x):\n",
        "        e = self.enc(x)\n",
        "        y = self.classify(e)\n",
        "        return e, y\n",
        "\n",
        "\n",
        "classifier = MyClassifier().to(device)\n",
        "num_epochs = 50\n",
        "criterion = ... # entropy\n",
        "optimizer = torch.optim.AdamW(classifier.classify.parameters(), lr)\n",
        "\n",
        "for epoch in range(num_epochs):\n",
        "    for batch_features, _ in train_loader:\n",
        "        \n",
        "        x = torch.reshape(batch_features, (batch_size, 28*28)).to(device)\n",
        "        y = ... # get the class\n",
        "        e,y = classifier.forward()\n",
        "        loss = criterion(x, y)\n",
        "        optimizer.zero_grad()\n",
        "        loss.backward()\n",
        "        optimizer.step()"
      ]
    },
    {
      "cell_type": "markdown",
      "metadata": {
        "id": "PC4na_5_yEQB"
      },
      "source": [
        "## Deep autoencoders using JAX\n",
        "\n",
        "The following is an **optional exercise** in which you can try to implement the same mechanisms in JAX. To speed up the implementation, we propose to rely on the Flax library, which allows an easy definition of models.\n",
        "\n",
        "### Setup and Dataset Preparation\n",
        "\n",
        "First, we need to import the necessary JAX libraries. Note that we will reuse the same dataset as previously, but you will need to _cast the batches_ into a JAX-compliant format."
      ]
    },
    {
      "cell_type": "code",
      "execution_count": null,
      "metadata": {
        "id": "q7S6LRyuyEQB"
      },
      "outputs": [],
      "source": [
        "# Import libraries\n",
        "import jax\n",
        "import jax.numpy as jnp\n",
        "from jax import grad, jit, vmap\n",
        "import optax\n",
        "import flax"
      ]
    },
    {
      "cell_type": "markdown",
      "metadata": {
        "id": "_XQL5jVuyEQB"
      },
      "source": [
        "<a name=\"architecture\"></a>\n",
        "### Autoencoder training\n",
        "\n",
        "Next, we will define the deep autoencoder architecture using the Flax library in JAX.\n",
        "\n",
        "***\n",
        "\n",
        "<div class=\"alert alert-success\" markdown=\"1\" style=\"color:white; background-color: #192841; border-color: #779ecb\">\n",
        "\n",
        "> ### Exercice (optional)\n",
        ">   1. Define your architecture using Flax.\n",
        ">   2. Perform the layerwise pretraining\n",
        ">   3. Transfer the weights to a deep architecture\n",
        ">   4. Finetune and evaluate your model\n",
        "\n",
        "</div>\n",
        "\n",
        "***"
      ]
    },
    {
      "cell_type": "code",
      "execution_count": null,
      "metadata": {
        "id": "Se85g8EPyEQC",
        "outputId": "6d7cc3e6-6188-4f23-f28a-58e58d344c83"
      },
      "outputs": [
        {
          "data": {
            "text/plain": [
              "Ellipsis"
            ]
          },
          "execution_count": 25,
          "metadata": {},
          "output_type": "execute_result"
        }
      ],
      "source": [
        "import flax.linen as nn\n",
        "\n",
        "# Encoder\n",
        "class Encoder(nn.Module):\n",
        "    \n",
        "    @nn.compact\n",
        "    def __call__(self, x):\n",
        "        ######################\n",
        "        # YOUR CODE GOES HERE\n",
        "        ######################\n",
        "        ...\n",
        "        \n",
        "\n",
        "# Encoder\n",
        "class Decoder(nn.Module):\n",
        "    \n",
        "    @nn.compact\n",
        "    def __call__(self, x):\n",
        "        ######################\n",
        "        # YOUR CODE GOES HERE\n",
        "        ######################\n",
        "        ...\n",
        "        \n",
        "\n",
        "# Autoencoder\n",
        "class Autoencoder(nn.Module):\n",
        "    \n",
        "    @nn.compact\n",
        "    def __call__(self, x):\n",
        "        ######################\n",
        "        # YOUR CODE GOES HERE\n",
        "        ######################\n",
        "        ...\n",
        "\n",
        "######################\n",
        "# YOUR CODE GOES HERE\n",
        "######################\n",
        "# Layerwise pretraining\n",
        "...\n",
        "\n",
        "# Model finetuning\n",
        "...\n",
        "\n",
        "# Model evaluation\n",
        "...\n"
      ]
    },
    {
      "cell_type": "markdown",
      "metadata": {
        "id": "VEdCXSwCoKok"
      },
      "source": [
        "# Generative auto-encoder (modern version)\n",
        "\n",
        "As seen in the course, the previous training version of AEs was used for several years, but several advances in **model regularization** now allows to bypass the need for layer-wise training and directly train deep version of the AEs. These advances are _batch normalization_, _ReLU_ activations and _Dropout_. Furthermore, by definition, the AE can already be seen as a form of _generative model_ (although it lacks a probabilistic definition). \n",
        "\n",
        "Therefore, we will define in the following a simple AE seen as a generative model, to directly learn how to compress and reconstruct images from simple small vectors. Hence, we will need an `encoder`, which compresses the images into a small latent vector, and a `decoder`, that reconstructs the original image from this code. Here, we will start very basic and define the encoder and decoder as simple `Linear` layers. Note that we also use `BatchNorm`, `ReLU` and `Dropout` to regularize our training."
      ]
    },
    {
      "cell_type": "code",
      "execution_count": null,
      "metadata": {
        "id": "tgwCUTTlyEQD"
      },
      "outputs": [],
      "source": [
        "class AE(nn.Module):\n",
        "    def __init__(self, encoding_dim):\n",
        "        super(AE, self).__init__()\n",
        "        self.latent_dim = encoding_dim\n",
        "        self.hidden_dim = 256\n",
        "        self.encoder = nn.Sequential(\n",
        "          nn.Linear(28 * 28, self.hidden_dim),\n",
        "          nn.BatchNorm1d(self.hidden_dim), nn.ReLU(),\n",
        "          nn.Dropout(0.3),\n",
        "          nn.Linear(self.hidden_dim, self.hidden_dim), \n",
        "          nn.BatchNorm1d(self.hidden_dim), nn.ReLU(),\n",
        "          nn.Dropout(0.3),\n",
        "          nn.Linear(self.hidden_dim, self.latent_dim), nn.Sigmoid()\n",
        "        )\n",
        "        self.decoder = nn.Sequential(\n",
        "          nn.Linear(self.latent_dim, self.hidden_dim), \n",
        "          nn.BatchNorm1d(self.hidden_dim), nn.ReLU(),\n",
        "          nn.Dropout(0.3),\n",
        "          nn.Linear(self.hidden_dim, self.hidden_dim), \n",
        "          nn.BatchNorm1d(self.hidden_dim), nn.ReLU(),\n",
        "          nn.Dropout(0.3),\n",
        "          nn.Linear(self.hidden_dim, 28 * 28), nn.Sigmoid()\n",
        "        )\n",
        "\n",
        "    def forward(self, x):\n",
        "        encoded = self.encoder(x.reshape(-1, 28 * 28))\n",
        "        decoded = self.decoder(encoded)\n",
        "        return decoded.reshape(-1, 1, 28, 28)"
      ]
    },
    {
      "cell_type": "markdown",
      "metadata": {
        "id": "FBM1b79KyEQD"
      },
      "source": [
        "Here we can see that the model depends on a given `encoding_dim` variable, which defines the size of the latent code. Therefore, we can instantiate our model arbitrarliy with `64` dimensions"
      ]
    },
    {
      "cell_type": "code",
      "execution_count": null,
      "metadata": {
        "id": "0MUxidpyChjX"
      },
      "outputs": [],
      "source": [
        "latent_dim = 64   \n",
        "model = AE(latent_dim) "
      ]
    },
    {
      "cell_type": "markdown",
      "metadata": {
        "id": "EsREsXNNyEQE"
      },
      "source": [
        "The only remaining part that we did not discuss yet is what type of _loss_ (defined as $\\mathcal{L}$) we can use to train our model. First, we will simply rely on the _Mean Squared Error_ (MSE) loss, which is defined as\n",
        "\\begin{equation}\n",
        "    \\mathcal{L}_{MSE}(\\hat{\\mathbf{x}}, \\mathbf{x}) = \\mid \\hat{\\mathbf{x}}, \\mathbf{x} \\mid^{2}\n",
        "\\end{equation}"
      ]
    },
    {
      "cell_type": "code",
      "execution_count": null,
      "metadata": {
        "id": "9I1JlqEIDCI4"
      },
      "outputs": [],
      "source": [
        "# Loss function that we will use\n",
        "loss_fn = torch.nn.MSELoss(reduction='sum')"
      ]
    },
    {
      "cell_type": "markdown",
      "metadata": {
        "id": "7oJSeMTroABs"
      },
      "source": [
        "<a id=\"application\"> </a>\n",
        "\n",
        "### Training the model\n",
        "\n",
        "Train the model using `x_train` as both the input and the target. The `encoder` will learn to compress the dataset from 784 dimensions to the latent space, and the `decoder` will learn to reconstruct the original images.\n",
        "."
      ]
    },
    {
      "cell_type": "code",
      "execution_count": null,
      "metadata": {
        "id": "h1RI9OfHDBsK",
        "outputId": "53b638c7-3cf1-412f-e586-510b2acea243"
      },
      "outputs": [
        {
          "name": "stdout",
          "output_type": "stream",
          "text": [
            "tensor(3343.1089, grad_fn=<MseLossBackward>)\n",
            "tensor(3005.9805, grad_fn=<MseLossBackward>)\n",
            "tensor(2812.6462, grad_fn=<MseLossBackward>)\n",
            "tensor(2727.8533, grad_fn=<MseLossBackward>)\n",
            "tensor(2595.9111, grad_fn=<MseLossBackward>)\n",
            "tensor(2553.7651, grad_fn=<MseLossBackward>)\n",
            "tensor(2544.0669, grad_fn=<MseLossBackward>)\n",
            "tensor(2468.2820, grad_fn=<MseLossBackward>)\n",
            "tensor(2400.9646, grad_fn=<MseLossBackward>)\n",
            "tensor(2364.0288, grad_fn=<MseLossBackward>)\n",
            "tensor(2379.8469, grad_fn=<MseLossBackward>)\n",
            "tensor(2298.6030, grad_fn=<MseLossBackward>)\n",
            "tensor(2324.0264, grad_fn=<MseLossBackward>)\n",
            "tensor(2216.2561, grad_fn=<MseLossBackward>)\n",
            "tensor(2306.3574, grad_fn=<MseLossBackward>)\n",
            "tensor(2223.1157, grad_fn=<MseLossBackward>)\n",
            "tensor(2159.7192, grad_fn=<MseLossBackward>)\n",
            "tensor(2185.4272, grad_fn=<MseLossBackward>)\n",
            "tensor(2213.2729, grad_fn=<MseLossBackward>)\n",
            "tensor(2150.3906, grad_fn=<MseLossBackward>)\n"
          ]
        }
      ],
      "source": [
        "# Learning rate\n",
        "learning_rate = 1e-4\n",
        "# Optimizer to fit the weights of the network\n",
        "optimizer = torch.optim.SGD(model.parameters(), lr=learning_rate)\n",
        "for t in range(20):\n",
        "    full_loss = torch.Tensor([0])\n",
        "    # Forward pass: compute predicted y by passing x to the model.\n",
        "    for i, (x, _) in enumerate(train_loader):\n",
        "        y_pred = model(x)\n",
        "        # Compute the loss.\n",
        "        loss = loss_fn(y_pred, x)\n",
        "        # Before the backward pass, zero all of the network gradients\n",
        "        optimizer.zero_grad()\n",
        "        # Backward pass: compute gradient of the loss with respect to parameters\n",
        "        loss.backward()\n",
        "        # Calling the step function to update the parameters\n",
        "        optimizer.step()\n",
        "    print(loss)"
      ]
    },
    {
      "cell_type": "markdown",
      "metadata": {
        "id": "wAM1QBhtoC-n"
      },
      "source": [
        "Now that the model is trained, we can test it by encoding and decoding images from the test set."
      ]
    },
    {
      "cell_type": "code",
      "execution_count": null,
      "metadata": {
        "id": "Pbr5WCj7FQUi"
      },
      "outputs": [],
      "source": [
        "encoded_imgs = model.encoder(imgs_test.reshape(-1,28*28))\n",
        "decoded_imgs = model.decoder(encoded_imgs).reshape(-1,28,28).detach().numpy()\n",
        "\n",
        "#decoded_imgs = model(imgs_test)"
      ]
    },
    {
      "cell_type": "markdown",
      "metadata": {
        "id": "NoWcb4yryEQF"
      },
      "source": [
        "By plotting the images, we can see that the model is able to perform an adequate (yet somewhat blurry) reconstruction of the input images. The interesting point is that this reconstruction comes from a code of only `64` dimensions, whereas the original images have `784` dimensions."
      ]
    },
    {
      "cell_type": "code",
      "execution_count": null,
      "metadata": {
        "id": "s4LlDOS6FUA1",
        "outputId": "c26cfbf3-3eb0-4ad0-f94e-259a532c83a7"
      },
      "outputs": [
        {
          "data": {
            "image/png": "[encoded data removed]",
            "text/plain": [
              "<Figure size 1440x288 with 20 Axes>"
            ]
          },
          "metadata": {
            "needs_background": "dark"
          },
          "output_type": "display_data"
        }
      ],
      "source": [
        "n = 10\n",
        "plt.figure(figsize=(20, 4))\n",
        "for i in range(n):\n",
        "    # display original\n",
        "    ax = plt.subplot(2, n, i + 1)\n",
        "    plt.imshow(imgs_test[i, 0])\n",
        "    plt.title(\"original\"); plt.gray()\n",
        "    ax.get_xaxis().set_visible(False)\n",
        "    ax.get_yaxis().set_visible(False)\n",
        "    # display reconstruction\n",
        "    ax = plt.subplot(2, n, i + 1 + n)\n",
        "    plt.imshow(decoded_imgs[i])\n",
        "    plt.title(\"reconstructed\"); plt.gray()\n",
        "    ax.get_xaxis().set_visible(False)\n",
        "    ax.get_yaxis().set_visible(False)\n",
        "plt.show()"
      ]
    },
    {
      "cell_type": "markdown",
      "metadata": {
        "id": "otaKXzuQyEQG"
      },
      "source": [
        "### Improvements\n",
        "\n",
        "Even though this very basic example seems to work, several improvements can be made over the original model. First, we can see that the overall framework does not depend on the exact nature of the `encoder` and `decoder`. \n",
        "\n",
        "***\n",
        "\n",
        "<div class=\"alert alert-success\" markdown=\"1\" style=\"color:white; background-color: #192841; border-color: #779ecb\">\n",
        "\n",
        "> ### Exercise (optional)\n",
        ">   1. Rewrite the original class to accept any type of architecture for these (see code below). \n",
        ">   2. Fill the missing code to have a new AE model\n",
        "\n",
        "</div>\n",
        "\n",
        "***"
      ]
    },
    {
      "cell_type": "code",
      "execution_count": null,
      "metadata": {
        "id": "obxjMQN1yEQG"
      },
      "outputs": [],
      "source": [
        "class AE(nn.Module):\n",
        "    def __init__(self, encoder, decoder, encoding_dim):\n",
        "        super(AE, self).__init__()\n",
        "        self.latent_dim = encoding_dim\n",
        "        self.encoder = encoder\n",
        "        self.decoder = decoder\n",
        "\n",
        "    def forward(self, x):\n",
        "        encoded = self.encoder(x)\n",
        "        decoded = self.decoder(encoded)\n",
        "        return decoded\n",
        "\n",
        "######################\n",
        "# YOUR CODE GOES HERE\n",
        "######################\n",
        "\n",
        "encoder = ...\n",
        "decoder = ...\n",
        "model = ..."
      ]
    },
    {
      "cell_type": "markdown",
      "metadata": {
        "id": "sfFJGGfCyEQG"
      },
      "source": [
        "Second, we only used the train dataset, whereas the use of a validation and test sets allows to ensure that we do not overfit our model.\n",
        "\n",
        "***\n",
        "\n",
        "<div class=\"alert alert-success\" markdown=\"1\" style=\"color:white; background-color: #192841; border-color: #779ecb\">\n",
        "\n",
        "> ### Exercise (optional)\n",
        ">   1. Write a separate train function, that can be called on different sets\n",
        ">   2. Re-write the training loop to test overfitting\n",
        "\n",
        "</div>\n",
        "\n",
        "***"
      ]
    },
    {
      "cell_type": "code",
      "execution_count": null,
      "metadata": {
        "id": "17nv7h7eyEQH"
      },
      "outputs": [],
      "source": [
        "######################\n",
        "# YOUR CODE GOES HERE\n",
        "######################"
      ]
    },
    {
      "cell_type": "markdown",
      "metadata": {
        "id": "r4gv6G8PoRQE"
      },
      "source": [
        "## **Optional** exercise: Denoising AE\n",
        "\n",
        "Imagine (for the sake of argument), that we choose an encoding dimension which is of same dimensionality as the input one. Then, one huge problem is that nothing prevents the AE from simply learning the _identity_ function (try to imagine why). An autoencoder can also be trained to remove noise from images. This type of _regularization_ prevents the model from learning this degenerate situation.\n",
        "\n",
        "In this exercise, you will need to create your own denoising AE, by relying on a noisy version of the Fashion MNIST dataset (adding random Gaussian noise to each image). You will then train an autoencoder using the noisy image as input, and the original image as the target.\n",
        "\n",
        "Let's reimport the dataset to omit the modifications made earlier."
      ]
    },
    {
      "cell_type": "code",
      "execution_count": null,
      "metadata": {
        "id": "uJZ-TcaqDBr5"
      },
      "outputs": [],
      "source": [
        "class GaussianNoise(object):\n",
        "    def __init__(self, mean=0., std=1.):\n",
        "        self.std = std\n",
        "        self.mean = mean\n",
        "        \n",
        "    def __call__(self, tensor):\n",
        "        return tensor + torch.randn(tensor.size()) * self.std + self.mean\n",
        "    \n",
        "    def __repr__(self):\n",
        "        return self.__class__.__name__ + '(mean={0}, std={1})'.format(self.mean, self.std)"
      ]
    },
    {
      "cell_type": "markdown",
      "metadata": {
        "id": "aPZl_6P65_8R"
      },
      "source": [
        "Here, we create two new train and test sets by adding random noise to the images"
      ]
    },
    {
      "cell_type": "code",
      "execution_count": null,
      "metadata": {
        "id": "axSMyxC354fc"
      },
      "outputs": [],
      "source": [
        "# Load the datasets and use our Gaussian noise transform\n",
        "train_valid_dataset = torchvision.datasets.FashionMNIST(root=dataset_dir, train=True, transform=torchvision.transforms.Compose([torchvision.transforms.ToTensor(), GaussianNoise(0., 0.1)]), download=True)\n",
        "train_dataset, valid_dataset = torch.utils.data.dataset.random_split(train_valid_dataset, [nb_train, nb_valid])\n",
        "test_dataset = torchvision.datasets.FashionMNIST(root=dataset_dir, transform=torchvision.transforms.Compose([torchvision.transforms.ToTensor(), GaussianNoise(0., 0.1)]),train=False)\n",
        "# Create loaders\n",
        "train_loader_noisy = torch.utils.data.DataLoader(dataset=train_dataset, batch_size=batch_size, num_workers=num_threads)\n",
        "valid_loader_noisy = torch.utils.data.DataLoader(dataset=valid_dataset, batch_size=batch_size, shuffle=False, num_workers=num_threads)\n",
        "test_loader_noisy = torch.utils.data.DataLoader(dataset=test_dataset,batch_size=batch_size,shuffle=False,num_workers=num_threads)"
      ]
    },
    {
      "cell_type": "markdown",
      "metadata": {
        "id": "wRxHe4XXltNd"
      },
      "source": [
        "Plot the noisy images.\n"
      ]
    },
    {
      "cell_type": "code",
      "execution_count": null,
      "metadata": {
        "id": "thKUmbVVCQpt",
        "outputId": "84b1ae9e-6bda-4ff8-a287-1df05af62041"
      },
      "outputs": [
        {
          "data": {
            "image/png": "[encoded data removed]",
            "text/plain": [
              "<Figure size 1440x288 with 20 Axes>"
            ]
          },
          "metadata": {
            "needs_background": "dark"
          },
          "output_type": "display_data"
        }
      ],
      "source": [
        "x_test, labels = next(iter(test_loader))\n",
        "x_test_noisy, labels = next(iter(test_loader_noisy))\n",
        "n = 10\n",
        "plt.figure(figsize=(20, 4))\n",
        "for i in range(n):\n",
        "    ax = plt.subplot(2, n, i + 1)\n",
        "    plt.title(\"original\")\n",
        "    plt.imshow(x_test[i].squeeze())\n",
        "    ax.get_xaxis().set_visible(False)\n",
        "    ax.get_yaxis().set_visible(False)\n",
        "    plt.gray()\n",
        "    ax = plt.subplot(2, n, i + 1 + n)\n",
        "    plt.title(\"original + noise\")\n",
        "    plt.imshow(x_test_noisy[i].squeeze())\n",
        "    ax.get_xaxis().set_visible(False)\n",
        "    ax.get_yaxis().set_visible(False)\n",
        "    plt.gray()\n",
        "plt.show()"
      ]
    },
    {
      "cell_type": "markdown",
      "metadata": {
        "id": "Sy9SY8jGl5aP"
      },
      "source": [
        "### Define a convolutional autoencoder"
      ]
    },
    {
      "cell_type": "markdown",
      "metadata": {
        "id": "vT_BhZngWMwp"
      },
      "source": [
        "In this example, you will train a convolutional autoencoder using  [Conv2D](https://www.tensorflow.org/api_docs/python/tf/keras/layers/Conv2D) layers in the `encoder`, and [Conv2DTranspose](https://www.tensorflow.org/api_docs/python/tf/keras/layers/Conv2DTranspose) layers in the `decoder`."
      ]
    },
    {
      "cell_type": "code",
      "execution_count": null,
      "metadata": {
        "id": "R5KjoIlYCQko"
      },
      "outputs": [],
      "source": [
        "######################\n",
        "# YOUR CODE GOES HERE\n",
        "######################\n",
        "\n",
        "class DenoisingAE(AE):\n",
        "    def __init__(self):\n",
        "        super(DenoisingAE, self).__init__()\n",
        "        self.encoder = ...    \n",
        "        self.decoder = ...\n",
        "    \n",
        "    def forward(self, x):\n",
        "        encoded = ...\n",
        "        decoded = ...\n",
        "        return decoded\n",
        "\n",
        "autoencoder = ..."
      ]
    },
    {
      "cell_type": "markdown",
      "metadata": {
        "id": "D1KS3_zLyEQK"
      },
      "source": [
        "Write down the full optimization loop to optimize your denoising auto-encoder"
      ]
    },
    {
      "cell_type": "code",
      "execution_count": null,
      "metadata": {
        "id": "QYKbiDFYCQfj"
      },
      "outputs": [],
      "source": [
        "######################\n",
        "# YOUR CODE GOES HERE\n",
        "######################"
      ]
    },
    {
      "cell_type": "markdown",
      "metadata": {
        "id": "A7-VAuEy_N6M"
      },
      "source": [
        "Plot both the noisy images and the denoised images produced by the autoencoder to check that your implementation is correct"
      ]
    },
    {
      "cell_type": "code",
      "execution_count": null,
      "metadata": {
        "id": "sfxr9NdBCP_x",
        "tags": [],
        "outputId": "9e411366-def4-461c-c78f-8cd07c1ef761"
      },
      "outputs": [
        {
          "data": {
            "text/plain": [
              "<Figure size 1440x288 with 0 Axes>"
            ]
          },
          "metadata": {},
          "output_type": "display_data"
        }
      ],
      "source": [
        "######################\n",
        "# YOUR CODE GOES HERE\n",
        "######################\n",
        "encoded_imgs = ...\n",
        "decoded_imgs = ...\n",
        "plt.figure(figsize=(20, 4))\n",
        "for i in range(n):\n",
        "    ...\n",
        "plt.show()"
      ]
    },
    {
      "cell_type": "markdown",
      "metadata": {
        "id": "Hhe4lRJbyEQL"
      },
      "source": [
        "# Attention layers and Transformers\n",
        "\n",
        "In the following exercise, we aim to implement attention layers and Transformers in PyTorch. Transformers are a powerful deep learning architecture that has been used to achieve state-of-the-art results in various natural language processing tasks. \n",
        "\n",
        "***\n",
        "\n",
        "<div class=\"alert alert-success\" markdown=\"1\" style=\"color:white; background-color: #410819; border-color: #cb2e47\">\n",
        "\n",
        "> **Warning on the exercise difficulty and goal**\n",
        "\n",
        "> **Note that this exercise is a lot more involved, as we now move on to an almost research-level type of exercise, where we mostly provide a research paper as reference. Your goal is to try to reimplement the architecture and method proposed in that paper as closely as possible.**\n",
        "\n",
        "#### Paper reference\n",
        "\n",
        "[Vaswani, A., Shazeer, N., Parmar, N., Uszkoreit, J., Jones, L., Gomez, A. N., ... & Polosukhin, I. (2017). Attention is all you need. Advances in neural information processing systems, 30.](https://proceedings.neurips.cc/paper/2017/file/3f5ee243547dee91fbd053c1c4a845aa-Paper.pdf)\n",
        "\n",
        "**Link:** [https://proceedings.neurips.cc/paper/2017/file/3f5ee243547dee91fbd053c1c4a845aa-Paper.pdf](https://proceedings.neurips.cc/paper/2017/file/3f5ee243547dee91fbd053c1c4a845aa-Paper.pdf)\n",
        "\n",
        "</div>\n",
        "\n",
        "***\n",
        "\n",
        "<a name=\"intro\"></a>\n",
        "## Introduction to attention\n",
        "\n",
        "Attention mechanisms enable models to focus on specific parts of the input sequence while processing it. They have been proven to be highly effective in natural language processing tasks such as machine translation and sentiment analysis. Transformers are a type of deep learning model that incorporates self-attention mechanisms. They consist of an encoder and a decoder, and utilize multi-head attention layers, positional encoding, and layer normalization."
      ]
    },
    {
      "cell_type": "markdown",
      "metadata": {
        "tags": [],
        "id": "qG2TpQVPyEQL"
      },
      "source": [
        "### Defining our own attention layer\n",
        "\n",
        "In the following, we re-implement the *attention* layer, which is the basis of the infamous `Transformer` models.\n",
        "\n",
        "<div class=\"alert alert-success\" markdown=\"1\" style=\"color:white; background-color: #410819; border-color: #cb2e47\">\n",
        "\n",
        "> This is defined in Section 3.2.1 (pages 3 and 4) and depicted in Figure 2 (left) of our [paper reference.](https://proceedings.neurips.cc/paper/2017/file/3f5ee243547dee91fbd053c1c4a845aa-Paper.pdf)\n",
        "\n",
        "</div>\n",
        "\n",
        "\n",
        "***\n",
        "\n",
        "<div class=\"alert alert-success\" markdown=\"1\" style=\"color:white; background-color: #192841; border-color: #779ecb\">\n",
        "\n",
        "> ### Exercise (**course**)\n",
        ">   1. Implement the simple attention layer as defined in the slides\n",
        "\n",
        "</div>\n",
        "\n",
        "***"
      ]
    },
    {
      "cell_type": "code",
      "execution_count": null,
      "metadata": {
        "id": "fMh_WvENyEQM"
      },
      "outputs": [],
      "source": [
        "class AttentionLayer(nn.Module):\n",
        "    def __init__(self, n_hidden):\n",
        "        super(AttentionLayer, self).__init__()\n",
        "        ######################\n",
        "        # YOUR CODE GOES HERE \n",
        "        ######################\n",
        "        ...\n",
        "\n",
        "    def forward(self, X):\n",
        "        ######################\n",
        "        # YOUR CODE GOES HERE \n",
        "        ######################\n",
        "        ...\n",
        "    \n",
        "\n",
        "######################\n",
        "# Solution: \n",
        "class AttentionLayer(nn.Module):\n",
        "    def __init__(self, n_hidden):\n",
        "        super(AttentionLayer, self).__init__()\n",
        "        self.mlp = nn.Linear(n_hidden, n_hidden)\n",
        "        self.u_w = nn.Parameter(torch.rand(n_hidden))\n",
        "\n",
        "    def forward(self, X):\n",
        "        # get the hidden representation of the sequence\n",
        "        u_it = F.tanh(self.mlp(X))\n",
        "        # get attention weights for each timestep\n",
        "        alpha = F.softmax(torch.matmul(u_it, self.u_w), dim=1)\n",
        "        # get the weighted sum of the sequence\n",
        "        out = torch.sum(torch.matmul(alpha, X), dim=1)\n",
        "        return out, alpha\n",
        "######################"
      ]
    },
    {
      "cell_type": "markdown",
      "metadata": {
        "id": "Q7-143nsyEQM"
      },
      "source": [
        "\n",
        "<a name=\"setup\"></a>\n",
        "## Setup and dataset\n",
        "\n",
        "First, let's import the necessary libraries and prepare the dataset for training. We will now rely on a text dataset, which is readily available in the `torchtext` library."
      ]
    },
    {
      "cell_type": "code",
      "execution_count": null,
      "metadata": {
        "id": "sK2p4VO1yEQM"
      },
      "outputs": [],
      "source": [
        "import torch\n",
        "import torch.nn as nn\n",
        "import torch.optim as optim\n",
        "import torch.nn.functional as F\n",
        "from torchtext.datasets import Multi30k\n",
        "# Translate English to German\n",
        "language_pair = (\"en\", \"de\")\n",
        "# Import the text dataset\n",
        "train_iterator, valid_iterator, test_iterator = Multi30k(split=(\"train\", \"valid\", \"test\"), language_pair=language_pair)\n",
        "# Potentially use the GPU if available\n",
        "device = torch.device('cuda' if torch.cuda.is_available() else 'cpu')"
      ]
    },
    {
      "cell_type": "markdown",
      "metadata": {
        "id": "dwK-67IOyEQN"
      },
      "source": [
        "<a name=\"mha\"></a>\n",
        "### Implementing the Multi-Head Attention layer\n",
        "\n",
        "The multi-head attention layer is a key component of the Transformer architecture. It allows the model to focus on different parts of the input sequence simultaneously.\n",
        "\n",
        "<div class=\"alert alert-success\" markdown=\"1\" style=\"color:white; background-color: #410819; border-color: #cb2e47\">\n",
        "\n",
        "> This is defined in Section 3.2.2 (pages 4 and 5) and depicted in Figure 2 (right) of our [paper reference.](https://proceedings.neurips.cc/paper/2017/file/3f5ee243547dee91fbd053c1c4a845aa-Paper.pdf)\n",
        "\n",
        "</div>\n",
        "\n",
        "***\n",
        "\n",
        "<div class=\"alert alert-success\" markdown=\"1\" style=\"color:white; background-color: #013220; border-color: #03C03C\">\n",
        "\n",
        "> ### Question 2.1 - Implementing the multi-head attention layer\n",
        "\n",
        "> 1. Following the definitions in the paper, propose your implementation of the _multi-head attention layer_.\n",
        "  \n",
        "</div>\n",
        "\n",
        "***"
      ]
    },
    {
      "cell_type": "code",
      "execution_count": null,
      "metadata": {
        "id": "Nv7eeJReyEQN"
      },
      "outputs": [],
      "source": [
        "class MultiHeadAttentionLayer(nn.Module):\n",
        "    def __init__(self, hid_dim, n_heads, dropout, device):\n",
        "        super().__init__()\n",
        "        ######################\n",
        "        # YOUR CODE GOES HERE \n",
        "        ######################\n",
        "        ...\n",
        "\n",
        "    def forward(self, query, key, value, mask=None):\n",
        "        ######################\n",
        "        # YOUR CODE GOES HERE \n",
        "        ######################\n",
        "        ..."
      ]
    },
    {
      "cell_type": "markdown",
      "metadata": {
        "id": "tFlmzae8yEQO"
      },
      "source": [
        "<a name=\"transformer\"></a>\n",
        "### Building the Transformer architecture\n",
        "\n",
        "Now that we have implemented the multi-head attention layer, we can build the Transformer architecture. We'll need to create the encoder, decoder, and the final Transformer model.\n",
        "\n",
        "<div class=\"alert alert-success\" markdown=\"1\" style=\"color:white; background-color: #410819; border-color: #cb2e47\">\n",
        "\n",
        "> The transformer architecture is defined in Section 3.1 (pages 2 and 3) and depicted in Figure 1 of our [paper reference.](https://proceedings.neurips.cc/paper/2017/file/3f5ee243547dee91fbd053c1c4a845aa-Paper.pdf). Also more details about the architecture are provided in subsequent sections 3.3 to 3.5.\n",
        "\n",
        "</div>\n",
        "\n",
        "***\n",
        "\n",
        "<div class=\"alert alert-success\" markdown=\"1\" style=\"color:white; background-color: #013220; border-color: #03C03C\">\n",
        "\n",
        "> ### Question 2.2 - Implementing the Transformer architecture\n",
        "\n",
        "> 1. Following the definitions in the paper, propose your implementation of the _transformer architecture_.\n",
        "> 2. (Optional) Implement the other parts of the architecture (sections 3.3 to 3.5).\n",
        "  \n",
        "</div>\n",
        "\n",
        "***"
      ]
    },
    {
      "cell_type": "code",
      "execution_count": null,
      "metadata": {
        "id": "j-U7xtqMyEQQ"
      },
      "outputs": [],
      "source": [
        "# Encoder Layer\n",
        "class EncoderLayer(nn.Module):\n",
        "    def __init__(self, hid_dim, n_heads, pf_dim, dropout, device):\n",
        "        ...\n",
        "\n",
        "# Decoder Layer\n",
        "class DecoderLayer(nn.Module):\n",
        "    def __init__(self, hid_dim, n_heads, pf_dim, dropout, device):\n",
        "        ...\n",
        "\n",
        "# Encoder\n",
        "class Encoder(nn.Module):\n",
        "    def __init__(self, input_dim, hid_dim, n_layers, n_heads, pf_dim, dropout, device, max_length=100):\n",
        "        ...\n",
        "\n",
        "# Decoder\n",
        "class Decoder(nn.Module):\n",
        "    def __init__(self, output_dim, hid_dim, n_layers, n_heads, pf_dim, dropout, device, max_length=100):\n",
        "        ...\n",
        "\n",
        "# Transformer\n",
        "class Transformer(nn.Module):\n",
        "    def __init__(self, encoder, decoder, device):\n",
        "        ..."
      ]
    },
    {
      "cell_type": "markdown",
      "metadata": {
        "id": "g26iejRXyEQR"
      },
      "source": [
        "<a name=\"training\"></a>\n",
        "### Training the Transformer Model\n",
        "\n",
        "After building the Transformer architecture, we can train the model using the dataset prepared in section 2. Note that this exercise is left optional, as this requires several notions not covered in the course yet (embeddings, positional encodings). However, this is of course more rewarding to see your model being trained :)\n",
        "\n",
        "***\n",
        "\n",
        "<div class=\"alert alert-success\" markdown=\"1\" style=\"color:white; background-color: #192841; border-color: #779ecb\">\n",
        "\n",
        "> ### Exercise (**optional**)\n",
        ">   1. Implement the training loop for the Transformer.\n",
        "\n",
        "</div>\n",
        "\n",
        "***"
      ]
    },
    {
      "cell_type": "code",
      "execution_count": null,
      "metadata": {
        "id": "_q8ffm7_yEQS"
      },
      "outputs": [],
      "source": [
        "# Initialize the Transformer model\n",
        "INPUT_DIM = ...\n",
        "OUTPUT_DIM = ...\n",
        "HID_DIM = 256\n",
        "ENC_LAYERS = 3\n",
        "DEC_LAYERS = 3\n",
        "ENC_HEADS = 8\n",
        "DEC_HEADS = 8\n",
        "ENC_PF_DIM = 512\n",
        "DEC_PF_DIM = 512\n",
        "ENC_DROPOUT = 0.1\n",
        "DEC_DROPOUT = 0.1\n",
        "\n",
        "enc = Encoder(INPUT_DIM, HID_DIM, ENC_LAYERS, ENC_HEADS, ENC_PF_DIM, ENC_DROPOUT, device)\n",
        "dec = Decoder(OUTPUT_DIM, HID_DIM, DEC_LAYERS, DEC_HEADS, DEC_PF_DIM, DEC_DROPOUT, device)\n",
        "\n",
        "model = Transformer(enc, dec, device).to(device)\n",
        "\n",
        "# Train the model\n",
        "optimizer = optim.Adam(model.parameters())\n",
        "criterion = nn.CrossEntropyLoss()\n",
        "\n",
        "def train(model, iterator, optimizer, criterion, clip):\n",
        "    ...\n",
        "\n",
        "def evaluate(model, iterator, criterion):\n",
        "    ...\n",
        "\n",
        "def epoch_time(start_time, end_time):\n",
        "    ...\n",
        "\n",
        "N_EPOCHS = 10\n",
        "CLIP = 1\n",
        "\n",
        "best_valid_loss = float('inf')\n",
        "\n",
        "for epoch in range(N_EPOCHS):\n",
        "    \n",
        "    start_time = time.time()\n",
        "    \n",
        "    train_loss = train(model, train_iterator, optimizer, criterion, CLIP)\n",
        "    valid_loss = evaluate(model, valid_iterator, criterion)\n",
        "    \n",
        "    end_time = time.time()\n",
        "    \n",
        "    epoch_mins, epoch_secs = epoch_time(start_time, end_time)\n",
        "    \n",
        "    if valid_loss < best_valid_loss:\n",
        "        best_valid_loss = valid_loss\n",
        "        torch.save(model.state_dict(), 'transformer-model.pt')\n",
        "    \n",
        "    print(f'Epoch: {epoch+1:02} | Time: {epoch_mins}m {epoch_secs}s')\n",
        "    print(f'\\tTrain Loss: {train_loss:.3f} | Train PPL: {math.exp(train_loss):7.3f}')\n",
        "    print(f'\\t Val. Loss: {valid_loss:.3f} |  Val. PPL: {math.exp(valid_loss):7.3f}')"
      ]
    },
    {
      "cell_type": "markdown",
      "metadata": {
        "id": "4YcSLWTvyEQS"
      },
      "source": [
        "<a name=\"evaluation\"></a>\n",
        "### Evaluating the Model\n",
        "\n",
        "After training the Transformer model, we can evaluate its performance on the test dataset."
      ]
    },
    {
      "cell_type": "code",
      "execution_count": null,
      "metadata": {
        "id": "aouvC6BOyEQT"
      },
      "outputs": [],
      "source": [
        "# Load the best model\n",
        "model.load_state_dict(torch.load('transformer-model.pt'))\n",
        "# Evaluate the model on the test dataset\n",
        "test_loss = evaluate(model, test_iterator, criterion)\n",
        "print(f'| Test Loss: {test_loss:.3f} | Test PPL: {math.exp(test_loss):7.3f} |')"
      ]
    },
    {
      "cell_type": "markdown",
      "metadata": {
        "id": "fIE84YCWyEQT"
      },
      "source": [
        "# **Optional fun** - Style transfer \n",
        "\n",
        "Style transfer is the technique of applying the style of one image to the content of another, creating a new image with the desired content and style. The following exercise aims at replicating the results of the original [Neural style transfer paper](https://arxiv.org/abs/1508.06576) by Gatys et al. \n",
        "\n",
        "Note that the following tutorial is a plain simplification inspired by the great [tutorial available in the Pytorch documentation](https://pytorch.org/tutorials/advanced/neural_style_tutorial.html). Hence, all credits goes back to the authors of the tutorial.\n",
        "\n",
        "## Introduction to Style Transfer\n",
        "\n",
        "Style transfer is a technique in computer vision and deep learning that enables the transfer of artistic style from one image (style image) to another image (content image) while retaining the original content. This is typically achieved using a pre-trained deep neural network, such as VGG-19, and optimizing the input image to minimize the content and style losses.\n",
        "\n",
        "<a name=\"setup\"></a>\n",
        "## Import images\n",
        "\n",
        "First, let's import the necessary libraries and prepare the images for style transfer."
      ]
    },
    {
      "cell_type": "code",
      "execution_count": null,
      "metadata": {
        "id": "xbeYz1jHyEQT"
      },
      "outputs": [],
      "source": [
        "import torch\n",
        "import torch.nn as nn\n",
        "import torch.optim as optim\n",
        "import requests\n",
        "from io import BytesIO\n",
        "from torchvision import transforms, models\n",
        "from PIL import Image\n",
        "import matplotlib.pyplot as plt\n",
        "# Find our device\n",
        "device = torch.device(\"cuda\" if torch.cuda.is_available() else \"cpu\")\n",
        "# URL to load our content image from\n",
        "url = \"https://thumbnailer.mixcloud.com/unsafe/300x300/extaudio/6/b/a/b/d576-35c3-48a9-a01e-7dc4f0255e62.jpg\"\n",
        "response = requests.get(url)\n",
        "content_image = np.array(Image.open(BytesIO(response.content)))\n",
        "# URL to load our style image from\n",
        "url = \"https://t4.ftcdn.net/jpg/02/44/21/17/360_F_244211780_VFoZhDiuxyWpnTalr0DFilyYqNokEoVZ.jpg\"\n",
        "response = requests.get(url)\n",
        "style_image = np.array(Image.open(BytesIO(response.content)))\n",
        "# Display content and style images\n",
        "plt.imshow(content_image)\n",
        "plt.show()\n",
        "plt.imshow(style_image)\n",
        "plt.show()"
      ]
    },
    {
      "cell_type": "markdown",
      "metadata": {
        "id": "gXzbbzuMyEQU"
      },
      "source": [
        "<a name=\"model_loss\"></a>\n",
        "## Pre-trained Model and Loss Functions\n",
        "\n",
        "We will use the pre-trained VGG-19 model, and define the content and style loss functions."
      ]
    },
    {
      "cell_type": "code",
      "execution_count": null,
      "metadata": {
        "id": "WPUWmTF2yEQU"
      },
      "outputs": [],
      "source": [
        "from torchvision.models import VGG19_Weights\n",
        "# Load pre-trained VGG-19 model\n",
        "vgg = models.vgg19(weights=VGG19_Weights.DEFAULT).features.to(device).eval()\n",
        "\n",
        "# Content and style loss functions\n",
        "class ContentLoss(nn.Module):\n",
        "    ...\n",
        "\n",
        "class StyleLoss(nn.Module):\n",
        "    ..."
      ]
    },
    {
      "cell_type": "markdown",
      "metadata": {
        "id": "ulg5k7_qyEQU"
      },
      "source": [
        "<a name=\"prepost\"></a>\n",
        "## Image Preprocessing and Postprocessing\n",
        "We need to define functions for preprocessing and postprocessing the images."
      ]
    },
    {
      "cell_type": "code",
      "execution_count": null,
      "metadata": {
        "id": "kqw0Jj5FyEQV"
      },
      "outputs": [],
      "source": [
        "# Image preprocessing\n",
        "def preprocess(image, max_size=512, shape=None):\n",
        "    ...\n",
        "\n",
        "# Image postprocessing\n",
        "def postprocess(tensor):\n",
        "    ..."
      ]
    },
    {
      "cell_type": "markdown",
      "metadata": {
        "id": "9zDqbZlryEQV"
      },
      "source": [
        "<a name=\"implementation\"></a>\n",
        "## Style Transfer Implementation\n",
        "\n",
        "Now that we have everything set up, we can implement the style transfer algorithm."
      ]
    },
    {
      "cell_type": "code",
      "execution_count": null,
      "metadata": {
        "id": "GkaQiJOUyEQW"
      },
      "outputs": [],
      "source": [
        "# Style transfer function\n",
        "def style_transfer(content_image, style_image, content_layers, style_layers, content_weight, style_weight, iterations=2000):\n",
        "    ...\n",
        "\n",
        "# Perform style transfer\n",
        "content_layers = ['conv_4']\n",
        "style_layers = ['conv_1', 'conv_2', 'conv_3', 'conv_4', 'conv_5']\n",
        "content_weight = 1\n",
        "style_weight = 1e6\n",
        "\n",
        "output_image = style_transfer(content_image, style_image, content_layers, style_layers, content_weight, style_weight)"
      ]
    },
    {
      "cell_type": "markdown",
      "metadata": {
        "id": "MUsLo4MVyEQW"
      },
      "source": [
        "<a name=\"visualization\"></a>\n",
        "## Visualization\n",
        "\n",
        "We can visualize the output image and evaluate the results."
      ]
    },
    {
      "cell_type": "code",
      "execution_count": null,
      "metadata": {
        "id": "StKCmxxSyEQW"
      },
      "outputs": [],
      "source": [
        "# Visualize output image\n",
        "plt.imshow(output_image)\n",
        "plt.show()\n",
        "\n",
        "# Save the output image\n",
        "output_image.save(\"path/to/output/image.jpg\")"
      ]
    }
  ],
  "metadata": {
    "colab": {
      "name": "TensorFlow_3_Autoencoder_Dimensionality_Reduction.ipynb",
      "provenance": [],
      "toc_visible": true,
      "gpuType": "T4"
    },
    "kernelspec": {
      "display_name": "Python 3",
      "name": "python3"
    },
    "language_info": {
      "codemirror_mode": {
        "name": "ipython",
        "version": 3
      },
      "file_extension": ".py",
      "mimetype": "text/x-python",
      "name": "python",
      "nbconvert_exporter": "python",
      "pygments_lexer": "ipython3",
      "version": "3.10.6"
    },
    "latex_envs": {
      "LaTeX_envs_menu_present": true,
      "autoclose": false,
      "autocomplete": true,
      "bibliofile": "biblio.bib",
      "cite_by": "apalike",
      "current_citInitial": 1,
      "eqLabelWithNumbers": true,
      "eqNumInitial": 1,
      "hotkeys": {
        "equation": "Ctrl-E",
        "itemize": "Ctrl-I"
      },
      "labels_anchors": false,
      "latex_user_defs": false,
      "report_style_numbering": false,
      "user_envs_cfg": false
    },
    "accelerator": "GPU"
  },
  "nbformat": 4,
  "nbformat_minor": 0
}