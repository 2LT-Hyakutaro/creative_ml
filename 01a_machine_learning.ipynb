{
 "cells": [
  {
   "cell_type": "markdown",
   "metadata": {},
   "source": [
    "# Creative machine learning - Machine Learning\n",
    "\n",
    "### Author: Philippe Esling (esling@ircam.fr)\n",
    "\n",
    "In this course we will cover\n",
    "1. A [first definition](#definition) on the concept of machine learning\n",
    "2. An introduction to a simple problem of [linear regression](#regression)\n",
    "4. A detailed implementation of [simple linear regression](#linear)\n",
    "3. An explanation on [model capacity and overfitting](#capacity)\n",
    "4. Two [exercises](#exercises) to explore regression and classification\n",
    "4. An introduction to the [audio datasets](#audio) that we will use"
   ]
  },
  {
   "cell_type": "markdown",
   "metadata": {},
   "source": [
    "<a id=\"definition\"></a>\n",
    "## Defining machine learning\n",
    "\n",
    "In all natural process, there exists complex relations between sets $\\mathcal{X} \\mapsto \\mathcal{Y}$. This can relate some objects with their names, or a cause to a consequence. In most cases, _we do not know the precise relations_ between these sets, all we have is _observations_ such as pairs $(x,y)$, composed of input data $x \\in \\mathcal{X}$, which have a corresponding expected output $y \\in \\mathcal{Y}$. The overarching goal of machine learning is to approximate such _unknown processes_ as a function $\\mathcal{F}_{\\theta}$, which _transforms_ input data $x$ into output data $y$.\n",
    "\n",
    "\n",
    "<center>\n",
    "<img src=\"images/01_machine_learning_basic.png\" align=\"center\"/>\n",
    "</center>\n",
    "\n",
    "Hence, machine learning aims to understand and model the relationship between some (usually complex and high-dimensional) inputs $\\mathbf{x}\\in\\mathcal{X}\\subset\\mathbb{R}^{\\mathcal{X}}$ and outputs $\\mathbf{y}\\in\\mathcal{Y}\\subset\\mathbb{R}^{\\mathcal{Y}}$, given by a set of data examples $\\mathcal{D}=\\left\\{(x_1,y_1),\\cdots,(x_N,y_N)\\right\\}$. This is achieved by defining a parametric model $f_{\\mathbf{\\theta}}\\in\\mathcal{F}$ inside a family of functions $\\mathcal{F}$, which depends on parameters $\\mathbf{\\theta} \\in \\mathbf{\\Theta}$ and that could approximate the underlying relationship. The _learning_ aspect refers to the adjustment of the parameters $\\mathbf{\\theta}$ in order to obtain the best approximation of the given task\n",
    "$$\n",
    "\\begin{equation}\n",
    "f_{\\mathbf{\\theta}}(\\mathbf{x}) = \\bar{\\mathbf{y}}\\approx \\mathbf{y}.\n",
    "\\end{equation}\n",
    "$$\n",
    "\n",
    "Hence, the major elements that we have to define in any machine learning problems are\n",
    "1. **Dataset** : $\\mathcal{D}=\\left\\{(x_1,y_1),\\cdots,(x_N,y_N)\\right\\}$. This dataset has to be representative of the relation $f:\\mathcal{X} \\mapsto \\mathcal{Y}$ that we are looking to model\n",
    "2. **Model** : Our parametric approximation $\\bar{\\mathbf{y}} = f_{\\mathbf{\\theta}}(\\mathbf{x})$, where the choice of family $f_{\\mathbf{\\theta}}\\in\\mathcal{F}$ is critical\n",
    "3. **Loss** : $\\mathcal{L}\\left( \\bar{\\mathbf{y}}, \\mathbf{y} \\mid f_{\\theta}, \\theta \\right)$ allows to measure the amount of errors made by our model\n",
    "4. **Optimization** : Method to find $\\theta^{*}\\in\\Theta$ so that our model minimizes the loss\n",
    "$$\\theta^{*}= \\underset{\\theta}{\\text{argmin }} \\mathcal{L}\\left( \\bar{\\mathbf{y}}, \\mathbf{y} \\mid f_{\\theta}, \\theta \\right)$$\n",
    "\n",
    "\n",
    "To observe this idea in simple setups, we are going to use the `numpy` library and also initialize the homemade course library `cml` and style for future plotting and exercise. We also set the random generator to a fixed point with `rng = np.random.RandomState(1)`, to ensure reproducibility"
   ]
  },
  {
   "cell_type": "code",
   "execution_count": 1,
   "metadata": {
    "tags": []
   },
   "outputs": [
    {
     "name": "stderr",
     "output_type": "stream",
     "text": [
      "2023-05-01 15:38:09.574075: I tensorflow/core/platform/cpu_feature_guard.cc:182] This TensorFlow binary is optimized to use available CPU instructions in performance-critical operations.\n",
      "To enable the following instructions: AVX2 FMA, in other operations, rebuild TensorFlow with the appropriate compiler flags.\n",
      "2023-05-01 15:38:10.794373: W tensorflow/compiler/tf2tensorrt/utils/py_utils.cc:38] TF-TRT Warning: Could not find TensorRT\n",
      "/home/matte/.local/lib/python3.10/site-packages/tqdm/auto.py:21: TqdmWarning: IProgress not found. Please update jupyter and ipywidgets. See https://ipywidgets.readthedocs.io/en/stable/user_install.html\n",
      "  from .autonotebook import tqdm as notebook_tqdm\n",
      "No GPU/TPU found, falling back to CPU. (Set TF_CPP_MIN_LOG_LEVEL=0 and rerun for more info.)\n"
     ]
    },
    {
     "data": {
      "text/html": [
       "<div class=\"bk-root\">\n",
       "        <a href=\"https://bokeh.org\" target=\"_blank\" class=\"bk-logo bk-logo-small bk-logo-notebook\"></a>\n",
       "        <span id=\"1002\">Loading BokehJS ...</span>\n",
       "    </div>\n"
      ]
     },
     "metadata": {},
     "output_type": "display_data"
    },
    {
     "data": {
      "application/javascript": [
       "(function(root) {\n",
       "  function now() {\n",
       "    return new Date();\n",
       "  }\n",
       "\n",
       "  const force = true;\n",
       "\n",
       "  if (typeof root._bokeh_onload_callbacks === \"undefined\" || force === true) {\n",
       "    root._bokeh_onload_callbacks = [];\n",
       "    root._bokeh_is_loading = undefined;\n",
       "  }\n",
       "\n",
       "const JS_MIME_TYPE = 'application/javascript';\n",
       "  const HTML_MIME_TYPE = 'text/html';\n",
       "  const EXEC_MIME_TYPE = 'application/vnd.bokehjs_exec.v0+json';\n",
       "  const CLASS_NAME = 'output_bokeh rendered_html';\n",
       "\n",
       "  /**\n",
       "   * Render data to the DOM node\n",
       "   */\n",
       "  function render(props, node) {\n",
       "    const script = document.createElement(\"script\");\n",
       "    node.appendChild(script);\n",
       "  }\n",
       "\n",
       "  /**\n",
       "   * Handle when an output is cleared or removed\n",
       "   */\n",
       "  function handleClearOutput(event, handle) {\n",
       "    const cell = handle.cell;\n",
       "\n",
       "    const id = cell.output_area._bokeh_element_id;\n",
       "    const server_id = cell.output_area._bokeh_server_id;\n",
       "    // Clean up Bokeh references\n",
       "    if (id != null && id in Bokeh.index) {\n",
       "      Bokeh.index[id].model.document.clear();\n",
       "      delete Bokeh.index[id];\n",
       "    }\n",
       "\n",
       "    if (server_id !== undefined) {\n",
       "      // Clean up Bokeh references\n",
       "      const cmd_clean = \"from bokeh.io.state import curstate; print(curstate().uuid_to_server['\" + server_id + \"'].get_sessions()[0].document.roots[0]._id)\";\n",
       "      cell.notebook.kernel.execute(cmd_clean, {\n",
       "        iopub: {\n",
       "          output: function(msg) {\n",
       "            const id = msg.content.text.trim();\n",
       "            if (id in Bokeh.index) {\n",
       "              Bokeh.index[id].model.document.clear();\n",
       "              delete Bokeh.index[id];\n",
       "            }\n",
       "          }\n",
       "        }\n",
       "      });\n",
       "      // Destroy server and session\n",
       "      const cmd_destroy = \"import bokeh.io.notebook as ion; ion.destroy_server('\" + server_id + \"')\";\n",
       "      cell.notebook.kernel.execute(cmd_destroy);\n",
       "    }\n",
       "  }\n",
       "\n",
       "  /**\n",
       "   * Handle when a new output is added\n",
       "   */\n",
       "  function handleAddOutput(event, handle) {\n",
       "    const output_area = handle.output_area;\n",
       "    const output = handle.output;\n",
       "\n",
       "    // limit handleAddOutput to display_data with EXEC_MIME_TYPE content only\n",
       "    if ((output.output_type != \"display_data\") || (!Object.prototype.hasOwnProperty.call(output.data, EXEC_MIME_TYPE))) {\n",
       "      return\n",
       "    }\n",
       "\n",
       "    const toinsert = output_area.element.find(\".\" + CLASS_NAME.split(' ')[0]);\n",
       "\n",
       "    if (output.metadata[EXEC_MIME_TYPE][\"id\"] !== undefined) {\n",
       "      toinsert[toinsert.length - 1].firstChild.textContent = output.data[JS_MIME_TYPE];\n",
       "      // store reference to embed id on output_area\n",
       "      output_area._bokeh_element_id = output.metadata[EXEC_MIME_TYPE][\"id\"];\n",
       "    }\n",
       "    if (output.metadata[EXEC_MIME_TYPE][\"server_id\"] !== undefined) {\n",
       "      const bk_div = document.createElement(\"div\");\n",
       "      bk_div.innerHTML = output.data[HTML_MIME_TYPE];\n",
       "      const script_attrs = bk_div.children[0].attributes;\n",
       "      for (let i = 0; i < script_attrs.length; i++) {\n",
       "        toinsert[toinsert.length - 1].firstChild.setAttribute(script_attrs[i].name, script_attrs[i].value);\n",
       "        toinsert[toinsert.length - 1].firstChild.textContent = bk_div.children[0].textContent\n",
       "      }\n",
       "      // store reference to server id on output_area\n",
       "      output_area._bokeh_server_id = output.metadata[EXEC_MIME_TYPE][\"server_id\"];\n",
       "    }\n",
       "  }\n",
       "\n",
       "  function register_renderer(events, OutputArea) {\n",
       "\n",
       "    function append_mime(data, metadata, element) {\n",
       "      // create a DOM node to render to\n",
       "      const toinsert = this.create_output_subarea(\n",
       "        metadata,\n",
       "        CLASS_NAME,\n",
       "        EXEC_MIME_TYPE\n",
       "      );\n",
       "      this.keyboard_manager.register_events(toinsert);\n",
       "      // Render to node\n",
       "      const props = {data: data, metadata: metadata[EXEC_MIME_TYPE]};\n",
       "      render(props, toinsert[toinsert.length - 1]);\n",
       "      element.append(toinsert);\n",
       "      return toinsert\n",
       "    }\n",
       "\n",
       "    /* Handle when an output is cleared or removed */\n",
       "    events.on('clear_output.CodeCell', handleClearOutput);\n",
       "    events.on('delete.Cell', handleClearOutput);\n",
       "\n",
       "    /* Handle when a new output is added */\n",
       "    events.on('output_added.OutputArea', handleAddOutput);\n",
       "\n",
       "    /**\n",
       "     * Register the mime type and append_mime function with output_area\n",
       "     */\n",
       "    OutputArea.prototype.register_mime_type(EXEC_MIME_TYPE, append_mime, {\n",
       "      /* Is output safe? */\n",
       "      safe: true,\n",
       "      /* Index of renderer in `output_area.display_order` */\n",
       "      index: 0\n",
       "    });\n",
       "  }\n",
       "\n",
       "  // register the mime type if in Jupyter Notebook environment and previously unregistered\n",
       "  if (root.Jupyter !== undefined) {\n",
       "    const events = require('base/js/events');\n",
       "    const OutputArea = require('notebook/js/outputarea').OutputArea;\n",
       "\n",
       "    if (OutputArea.prototype.mime_types().indexOf(EXEC_MIME_TYPE) == -1) {\n",
       "      register_renderer(events, OutputArea);\n",
       "    }\n",
       "  }\n",
       "  if (typeof (root._bokeh_timeout) === \"undefined\" || force === true) {\n",
       "    root._bokeh_timeout = Date.now() + 5000;\n",
       "    root._bokeh_failed_load = false;\n",
       "  }\n",
       "\n",
       "  const NB_LOAD_WARNING = {'data': {'text/html':\n",
       "     \"<div style='background-color: #fdd'>\\n\"+\n",
       "     \"<p>\\n\"+\n",
       "     \"BokehJS does not appear to have successfully loaded. If loading BokehJS from CDN, this \\n\"+\n",
       "     \"may be due to a slow or bad network connection. Possible fixes:\\n\"+\n",
       "     \"</p>\\n\"+\n",
       "     \"<ul>\\n\"+\n",
       "     \"<li>re-rerun `output_notebook()` to attempt to load from CDN again, or</li>\\n\"+\n",
       "     \"<li>use INLINE resources instead, as so:</li>\\n\"+\n",
       "     \"</ul>\\n\"+\n",
       "     \"<code>\\n\"+\n",
       "     \"from bokeh.resources import INLINE\\n\"+\n",
       "     \"output_notebook(resources=INLINE)\\n\"+\n",
       "     \"</code>\\n\"+\n",
       "     \"</div>\"}};\n",
       "\n",
       "  function display_loaded() {\n",
       "    const el = document.getElementById(\"1002\");\n",
       "    if (el != null) {\n",
       "      el.textContent = \"BokehJS is loading...\";\n",
       "    }\n",
       "    if (root.Bokeh !== undefined) {\n",
       "      if (el != null) {\n",
       "        el.textContent = \"BokehJS \" + root.Bokeh.version + \" successfully loaded.\";\n",
       "      }\n",
       "    } else if (Date.now() < root._bokeh_timeout) {\n",
       "      setTimeout(display_loaded, 100)\n",
       "    }\n",
       "  }\n",
       "\n",
       "  function run_callbacks() {\n",
       "    try {\n",
       "      root._bokeh_onload_callbacks.forEach(function(callback) {\n",
       "        if (callback != null)\n",
       "          callback();\n",
       "      });\n",
       "    } finally {\n",
       "      delete root._bokeh_onload_callbacks\n",
       "    }\n",
       "    console.debug(\"Bokeh: all callbacks have finished\");\n",
       "  }\n",
       "\n",
       "  function load_libs(css_urls, js_urls, callback) {\n",
       "    if (css_urls == null) css_urls = [];\n",
       "    if (js_urls == null) js_urls = [];\n",
       "\n",
       "    root._bokeh_onload_callbacks.push(callback);\n",
       "    if (root._bokeh_is_loading > 0) {\n",
       "      console.debug(\"Bokeh: BokehJS is being loaded, scheduling callback at\", now());\n",
       "      return null;\n",
       "    }\n",
       "    if (js_urls == null || js_urls.length === 0) {\n",
       "      run_callbacks();\n",
       "      return null;\n",
       "    }\n",
       "    console.debug(\"Bokeh: BokehJS not loaded, scheduling load and callback at\", now());\n",
       "    root._bokeh_is_loading = css_urls.length + js_urls.length;\n",
       "\n",
       "    function on_load() {\n",
       "      root._bokeh_is_loading--;\n",
       "      if (root._bokeh_is_loading === 0) {\n",
       "        console.debug(\"Bokeh: all BokehJS libraries/stylesheets loaded\");\n",
       "        run_callbacks()\n",
       "      }\n",
       "    }\n",
       "\n",
       "    function on_error(url) {\n",
       "      console.error(\"failed to load \" + url);\n",
       "    }\n",
       "\n",
       "    for (let i = 0; i < css_urls.length; i++) {\n",
       "      const url = css_urls[i];\n",
       "      const element = document.createElement(\"link\");\n",
       "      element.onload = on_load;\n",
       "      element.onerror = on_error.bind(null, url);\n",
       "      element.rel = \"stylesheet\";\n",
       "      element.type = \"text/css\";\n",
       "      element.href = url;\n",
       "      console.debug(\"Bokeh: injecting link tag for BokehJS stylesheet: \", url);\n",
       "      document.body.appendChild(element);\n",
       "    }\n",
       "\n",
       "    for (let i = 0; i < js_urls.length; i++) {\n",
       "      const url = js_urls[i];\n",
       "      const element = document.createElement('script');\n",
       "      element.onload = on_load;\n",
       "      element.onerror = on_error.bind(null, url);\n",
       "      element.async = false;\n",
       "      element.src = url;\n",
       "      console.debug(\"Bokeh: injecting script tag for BokehJS library: \", url);\n",
       "      document.head.appendChild(element);\n",
       "    }\n",
       "  };\n",
       "\n",
       "  function inject_raw_css(css) {\n",
       "    const element = document.createElement(\"style\");\n",
       "    element.appendChild(document.createTextNode(css));\n",
       "    document.body.appendChild(element);\n",
       "  }\n",
       "\n",
       "  const js_urls = [\"https://cdn.bokeh.org/bokeh/release/bokeh-2.4.3.min.js\", \"https://cdn.bokeh.org/bokeh/release/bokeh-gl-2.4.3.min.js\", \"https://cdn.bokeh.org/bokeh/release/bokeh-widgets-2.4.3.min.js\", \"https://cdn.bokeh.org/bokeh/release/bokeh-tables-2.4.3.min.js\", \"https://cdn.bokeh.org/bokeh/release/bokeh-mathjax-2.4.3.min.js\", \"https://unpkg.com/@holoviz/panel@0.14.4/dist/panel.min.js\"];\n",
       "  const css_urls = [];\n",
       "\n",
       "  const inline_js = [    function(Bokeh) {\n",
       "      Bokeh.set_log_level(\"info\");\n",
       "    },\n",
       "function(Bokeh) {\n",
       "    }\n",
       "  ];\n",
       "\n",
       "  function run_inline_js() {\n",
       "    if (root.Bokeh !== undefined || force === true) {\n",
       "          for (let i = 0; i < inline_js.length; i++) {\n",
       "      inline_js[i].call(root, root.Bokeh);\n",
       "    }\n",
       "if (force === true) {\n",
       "        display_loaded();\n",
       "      }} else if (Date.now() < root._bokeh_timeout) {\n",
       "      setTimeout(run_inline_js, 100);\n",
       "    } else if (!root._bokeh_failed_load) {\n",
       "      console.log(\"Bokeh: BokehJS failed to load within specified timeout.\");\n",
       "      root._bokeh_failed_load = true;\n",
       "    } else if (force !== true) {\n",
       "      const cell = $(document.getElementById(\"1002\")).parents('.cell').data().cell;\n",
       "      cell.output_area.append_execute_result(NB_LOAD_WARNING)\n",
       "    }\n",
       "  }\n",
       "\n",
       "  if (root._bokeh_is_loading === 0) {\n",
       "    console.debug(\"Bokeh: BokehJS loaded, going straight to plotting\");\n",
       "    run_inline_js();\n",
       "  } else {\n",
       "    load_libs(css_urls, js_urls, function() {\n",
       "      console.debug(\"Bokeh: BokehJS plotting callback run at\", now());\n",
       "      run_inline_js();\n",
       "    });\n",
       "  }\n",
       "}(window));"
      ],
      "application/vnd.bokehjs_load.v0+json": "(function(root) {\n  function now() {\n    return new Date();\n  }\n\n  const force = true;\n\n  if (typeof root._bokeh_onload_callbacks === \"undefined\" || force === true) {\n    root._bokeh_onload_callbacks = [];\n    root._bokeh_is_loading = undefined;\n  }\n\n\n  if (typeof (root._bokeh_timeout) === \"undefined\" || force === true) {\n    root._bokeh_timeout = Date.now() + 5000;\n    root._bokeh_failed_load = false;\n  }\n\n  const NB_LOAD_WARNING = {'data': {'text/html':\n     \"<div style='background-color: #fdd'>\\n\"+\n     \"<p>\\n\"+\n     \"BokehJS does not appear to have successfully loaded. If loading BokehJS from CDN, this \\n\"+\n     \"may be due to a slow or bad network connection. Possible fixes:\\n\"+\n     \"</p>\\n\"+\n     \"<ul>\\n\"+\n     \"<li>re-rerun `output_notebook()` to attempt to load from CDN again, or</li>\\n\"+\n     \"<li>use INLINE resources instead, as so:</li>\\n\"+\n     \"</ul>\\n\"+\n     \"<code>\\n\"+\n     \"from bokeh.resources import INLINE\\n\"+\n     \"output_notebook(resources=INLINE)\\n\"+\n     \"</code>\\n\"+\n     \"</div>\"}};\n\n  function display_loaded() {\n    const el = document.getElementById(\"1002\");\n    if (el != null) {\n      el.textContent = \"BokehJS is loading...\";\n    }\n    if (root.Bokeh !== undefined) {\n      if (el != null) {\n        el.textContent = \"BokehJS \" + root.Bokeh.version + \" successfully loaded.\";\n      }\n    } else if (Date.now() < root._bokeh_timeout) {\n      setTimeout(display_loaded, 100)\n    }\n  }\n\n  function run_callbacks() {\n    try {\n      root._bokeh_onload_callbacks.forEach(function(callback) {\n        if (callback != null)\n          callback();\n      });\n    } finally {\n      delete root._bokeh_onload_callbacks\n    }\n    console.debug(\"Bokeh: all callbacks have finished\");\n  }\n\n  function load_libs(css_urls, js_urls, callback) {\n    if (css_urls == null) css_urls = [];\n    if (js_urls == null) js_urls = [];\n\n    root._bokeh_onload_callbacks.push(callback);\n    if (root._bokeh_is_loading > 0) {\n      console.debug(\"Bokeh: BokehJS is being loaded, scheduling callback at\", now());\n      return null;\n    }\n    if (js_urls == null || js_urls.length === 0) {\n      run_callbacks();\n      return null;\n    }\n    console.debug(\"Bokeh: BokehJS not loaded, scheduling load and callback at\", now());\n    root._bokeh_is_loading = css_urls.length + js_urls.length;\n\n    function on_load() {\n      root._bokeh_is_loading--;\n      if (root._bokeh_is_loading === 0) {\n        console.debug(\"Bokeh: all BokehJS libraries/stylesheets loaded\");\n        run_callbacks()\n      }\n    }\n\n    function on_error(url) {\n      console.error(\"failed to load \" + url);\n    }\n\n    for (let i = 0; i < css_urls.length; i++) {\n      const url = css_urls[i];\n      const element = document.createElement(\"link\");\n      element.onload = on_load;\n      element.onerror = on_error.bind(null, url);\n      element.rel = \"stylesheet\";\n      element.type = \"text/css\";\n      element.href = url;\n      console.debug(\"Bokeh: injecting link tag for BokehJS stylesheet: \", url);\n      document.body.appendChild(element);\n    }\n\n    for (let i = 0; i < js_urls.length; i++) {\n      const url = js_urls[i];\n      const element = document.createElement('script');\n      element.onload = on_load;\n      element.onerror = on_error.bind(null, url);\n      element.async = false;\n      element.src = url;\n      console.debug(\"Bokeh: injecting script tag for BokehJS library: \", url);\n      document.head.appendChild(element);\n    }\n  };\n\n  function inject_raw_css(css) {\n    const element = document.createElement(\"style\");\n    element.appendChild(document.createTextNode(css));\n    document.body.appendChild(element);\n  }\n\n  const js_urls = [\"https://cdn.bokeh.org/bokeh/release/bokeh-2.4.3.min.js\", \"https://cdn.bokeh.org/bokeh/release/bokeh-gl-2.4.3.min.js\", \"https://cdn.bokeh.org/bokeh/release/bokeh-widgets-2.4.3.min.js\", \"https://cdn.bokeh.org/bokeh/release/bokeh-tables-2.4.3.min.js\", \"https://cdn.bokeh.org/bokeh/release/bokeh-mathjax-2.4.3.min.js\", \"https://unpkg.com/@holoviz/panel@0.14.4/dist/panel.min.js\"];\n  const css_urls = [];\n\n  const inline_js = [    function(Bokeh) {\n      Bokeh.set_log_level(\"info\");\n    },\nfunction(Bokeh) {\n    }\n  ];\n\n  function run_inline_js() {\n    if (root.Bokeh !== undefined || force === true) {\n          for (let i = 0; i < inline_js.length; i++) {\n      inline_js[i].call(root, root.Bokeh);\n    }\nif (force === true) {\n        display_loaded();\n      }} else if (Date.now() < root._bokeh_timeout) {\n      setTimeout(run_inline_js, 100);\n    } else if (!root._bokeh_failed_load) {\n      console.log(\"Bokeh: BokehJS failed to load within specified timeout.\");\n      root._bokeh_failed_load = true;\n    } else if (force !== true) {\n      const cell = $(document.getElementById(\"1002\")).parents('.cell').data().cell;\n      cell.output_area.append_execute_result(NB_LOAD_WARNING)\n    }\n  }\n\n  if (root._bokeh_is_loading === 0) {\n    console.debug(\"Bokeh: BokehJS loaded, going straight to plotting\");\n    run_inline_js();\n  } else {\n    load_libs(css_urls, js_urls, function() {\n      console.debug(\"Bokeh: BokehJS plotting callback run at\", now());\n      run_inline_js();\n    });\n  }\n}(window));"
     },
     "metadata": {},
     "output_type": "display_data"
    },
    {
     "data": {
      "application/javascript": [
       "(function(root) {\n",
       "  function now() {\n",
       "    return new Date();\n",
       "  }\n",
       "\n",
       "  var force = true;\n",
       "\n",
       "  if (typeof root._bokeh_onload_callbacks === \"undefined\" || force === true) {\n",
       "    root._bokeh_onload_callbacks = [];\n",
       "    root._bokeh_is_loading = undefined;\n",
       "  }\n",
       "\n",
       "  if (typeof (root._bokeh_timeout) === \"undefined\" || force === true) {\n",
       "    root._bokeh_timeout = Date.now() + 5000;\n",
       "    root._bokeh_failed_load = false;\n",
       "  }\n",
       "\n",
       "  function run_callbacks() {\n",
       "    try {\n",
       "      root._bokeh_onload_callbacks.forEach(function(callback) {\n",
       "        if (callback != null)\n",
       "          callback();\n",
       "      });\n",
       "    } finally {\n",
       "      delete root._bokeh_onload_callbacks\n",
       "    }\n",
       "    console.debug(\"Bokeh: all callbacks have finished\");\n",
       "  }\n",
       "\n",
       "  function load_libs(css_urls, js_urls, js_modules, callback) {\n",
       "    if (css_urls == null) css_urls = [];\n",
       "    if (js_urls == null) js_urls = [];\n",
       "    if (js_modules == null) js_modules = [];\n",
       "\n",
       "    root._bokeh_onload_callbacks.push(callback);\n",
       "    if (root._bokeh_is_loading > 0) {\n",
       "      console.debug(\"Bokeh: BokehJS is being loaded, scheduling callback at\", now());\n",
       "      return null;\n",
       "    }\n",
       "    if (js_urls.length === 0 && js_modules.length === 0) {\n",
       "      run_callbacks();\n",
       "      return null;\n",
       "    }\n",
       "    console.debug(\"Bokeh: BokehJS not loaded, scheduling load and callback at\", now());\n",
       "\n",
       "    function on_load() {\n",
       "      root._bokeh_is_loading--;\n",
       "      if (root._bokeh_is_loading === 0) {\n",
       "        console.debug(\"Bokeh: all BokehJS libraries/stylesheets loaded\");\n",
       "        run_callbacks()\n",
       "      }\n",
       "    }\n",
       "\n",
       "    function on_error() {\n",
       "      console.error(\"failed to load \" + url);\n",
       "    }\n",
       "\n",
       "    for (var i = 0; i < css_urls.length; i++) {\n",
       "      var url = css_urls[i];\n",
       "      const element = document.createElement(\"link\");\n",
       "      element.onload = on_load;\n",
       "      element.onerror = on_error;\n",
       "      element.rel = \"stylesheet\";\n",
       "      element.type = \"text/css\";\n",
       "      element.href = url;\n",
       "      console.debug(\"Bokeh: injecting link tag for BokehJS stylesheet: \", url);\n",
       "      document.body.appendChild(element);\n",
       "    }\n",
       "\n",
       "    var skip = [];\n",
       "    if (window.requirejs) {\n",
       "      window.requirejs.config({'packages': {}, 'paths': {'ace': '//cdnjs.cloudflare.com/ajax/libs/ace/1.4.7', 'gridstack': 'https://cdn.jsdelivr.net/npm/gridstack@4.2.5/dist/gridstack-h5', 'notyf': 'https://cdn.jsdelivr.net/npm/notyf@3/notyf.min'}, 'shim': {'ace/ext-language_tools': {'deps': ['ace/ace']}, 'ace/ext-modelist': {'deps': ['ace/ace']}, 'gridstack': {'exports': 'GridStack'}}});\n",
       "      require([\"ace/ace\"], function(ace) {\n",
       "\twindow.ace = ace\n",
       "\ton_load()\n",
       "      })\n",
       "      require([\"ace/ext-language_tools\"], function() {\n",
       "\ton_load()\n",
       "      })\n",
       "      require([\"ace/ext-modelist\"], function() {\n",
       "\ton_load()\n",
       "      })\n",
       "      require([\"gridstack\"], function(GridStack) {\n",
       "\twindow.GridStack = GridStack\n",
       "\ton_load()\n",
       "      })\n",
       "      require([\"notyf\"], function() {\n",
       "\ton_load()\n",
       "      })\n",
       "      root._bokeh_is_loading = css_urls.length + 5;\n",
       "    } else {\n",
       "      root._bokeh_is_loading = css_urls.length + js_urls.length + js_modules.length;\n",
       "    }    if (((window['ace'] !== undefined) && (!(window['ace'] instanceof HTMLElement))) || window.requirejs) {\n",
       "      var urls = ['https://cdnjs.cloudflare.com/ajax/libs/ace/1.4.11/ace.js', 'https://cdnjs.cloudflare.com/ajax/libs/ace/1.4.11/ext-language_tools.js', 'https://cdnjs.cloudflare.com/ajax/libs/ace/1.4.11/ext-modelist.js'];\n",
       "      for (var i = 0; i < urls.length; i++) {\n",
       "        skip.push(urls[i])\n",
       "      }\n",
       "    }    if (((window['GridStack'] !== undefined) && (!(window['GridStack'] instanceof HTMLElement))) || window.requirejs) {\n",
       "      var urls = ['https://cdn.holoviz.org/panel/0.14.4/dist/bundled/gridstack/gridstack@4.2.5/dist/gridstack-h5.js'];\n",
       "      for (var i = 0; i < urls.length; i++) {\n",
       "        skip.push(urls[i])\n",
       "      }\n",
       "    }    if (((window['Notyf'] !== undefined) && (!(window['Notyf'] instanceof HTMLElement))) || window.requirejs) {\n",
       "      var urls = ['https://cdn.holoviz.org/panel/0.14.4/dist/bundled/notificationarea/notyf@3/notyf.min.js'];\n",
       "      for (var i = 0; i < urls.length; i++) {\n",
       "        skip.push(urls[i])\n",
       "      }\n",
       "    }    for (var i = 0; i < js_urls.length; i++) {\n",
       "      var url = js_urls[i];\n",
       "      if (skip.indexOf(url) >= 0) {\n",
       "\tif (!window.requirejs) {\n",
       "\t  on_load();\n",
       "\t}\n",
       "\tcontinue;\n",
       "      }\n",
       "      var element = document.createElement('script');\n",
       "      element.onload = on_load;\n",
       "      element.onerror = on_error;\n",
       "      element.async = false;\n",
       "      element.src = url;\n",
       "      console.debug(\"Bokeh: injecting script tag for BokehJS library: \", url);\n",
       "      document.head.appendChild(element);\n",
       "    }\n",
       "    for (var i = 0; i < js_modules.length; i++) {\n",
       "      var url = js_modules[i];\n",
       "      if (skip.indexOf(url) >= 0) {\n",
       "\tif (!window.requirejs) {\n",
       "\t  on_load();\n",
       "\t}\n",
       "\tcontinue;\n",
       "      }\n",
       "      var element = document.createElement('script');\n",
       "      element.onload = on_load;\n",
       "      element.onerror = on_error;\n",
       "      element.async = false;\n",
       "      element.src = url;\n",
       "      element.type = \"module\";\n",
       "      console.debug(\"Bokeh: injecting script tag for BokehJS library: \", url);\n",
       "      document.head.appendChild(element);\n",
       "    }\n",
       "    if (!js_urls.length && !js_modules.length) {\n",
       "      on_load()\n",
       "    }\n",
       "  };\n",
       "\n",
       "  function inject_raw_css(css) {\n",
       "    const element = document.createElement(\"style\");\n",
       "    element.appendChild(document.createTextNode(css));\n",
       "    document.body.appendChild(element);\n",
       "  }\n",
       "\n",
       "  var js_urls = [\"https://cdnjs.cloudflare.com/ajax/libs/ace/1.4.11/ace.js\", \"https://cdnjs.cloudflare.com/ajax/libs/ace/1.4.11/ext-language_tools.js\", \"https://cdnjs.cloudflare.com/ajax/libs/ace/1.4.11/ext-modelist.js\", \"https://cdn.bokeh.org/bokeh/release/bokeh-2.4.3.min.js\", \"https://cdn.bokeh.org/bokeh/release/bokeh-gl-2.4.3.min.js\", \"https://cdn.bokeh.org/bokeh/release/bokeh-widgets-2.4.3.min.js\", \"https://cdn.bokeh.org/bokeh/release/bokeh-tables-2.4.3.min.js\", \"https://cdn.bokeh.org/bokeh/release/bokeh-mathjax-2.4.3.min.js\", \"https://unpkg.com/@holoviz/panel@0.14.4/dist/panel.min.js\"];\n",
       "  var js_modules = [];\n",
       "  var css_urls = [\"https://cdn.holoviz.org/panel/0.14.4/dist/css/card.css\", \"https://cdn.holoviz.org/panel/0.14.4/dist/css/json.css\", \"https://cdn.holoviz.org/panel/0.14.4/dist/css/markdown.css\", \"https://cdn.holoviz.org/panel/0.14.4/dist/css/debugger.css\", \"https://cdn.holoviz.org/panel/0.14.4/dist/css/dataframe.css\", \"https://cdn.holoviz.org/panel/0.14.4/dist/css/widgets.css\", \"https://cdn.holoviz.org/panel/0.14.4/dist/css/alerts.css\", \"https://cdn.holoviz.org/panel/0.14.4/dist/css/loading.css\"];\n",
       "  var inline_js = [    function(Bokeh) {\n",
       "      inject_raw_css(\"/*\\n ~ CML // Creative Machine Learning ~\\n mml.css : CSS styling information for Panel and Bokeh\\n \\n This file defines the main CSS styling information for the CML course\\n \\n Author               :  Philippe Esling\\n                        <esling@ircam.fr>\\n*/\\n\\nbody {\\n  display: flex;\\n  height: 100vh;\\n  margin: 0px;\\n  overflow-x: hidden;\\n  overflow-y: hidden;\\n}\\n\\n.bk-root .bk, .bk-root .bk:before, .bk-root .bk:after {\\n  font-family: \\\"Josefin Sans\\\";\\n}\\n\\nimg {\\n  max-width: 100%;\\n}\\n\\n#container {\\n  padding:0px;\\n  height:100vh;\\n  width: 100vw;\\n  max-width: 100vw;\\n}\\n\\n#sidebar .mdc-list {\\n  padding-left: 5px;\\n  padding-right: 5px;\\n}\\n\\n.mdc-drawer-app-content {\\n  flex: auto;\\n  position: relative;\\n  overflow: hidden;\\n}\\n\\n.mdc-drawer {\\n  background: #FAFAFA; /* GRAY 50 */\\n}\\n\\n.mdc-drawer-app-content {\\n  margin-left: 0 !important;\\n}\\n\\n.title-bar {\\n  display: contents;\\n  justify-content: center;\\n  align-content: center;\\n  width: 100%;\\n}\\n\\n.mdc-top-app-bar .bk-menu {\\n  color: black\\n}\\n\\n.app-header {\\n  display: contents;\\n  padding-left: 10px;\\n  font-size: 1.25em;\\n}\\n\\nimg.app-logo {\\n  padding-right: 10px;\\n  font-size: 28px;\\n  height: 30px;\\n  max-width: inherit;\\n  padding-top: 12px;\\n  padding-bottom: 6px;\\n}\\n\\n#app-title {\\n  padding-right: 12px;\\n  padding-left: 12px;\\n}\\n\\n.title {\\n  font-family: \\\"Josefin Sans\\\";\\n  color: #fff;\\n  text-decoration: none;\\n  text-decoration-line: none;\\n  text-decoration-style: initial;\\n  text-decoration-color: initial;\\n  font-weight: 400;\\n  font-size: 2em;\\n  line-height: 2em;\\n  white-space: nowrap;\\n}\\n\\n.main-content {\\n  overflow-y: scroll;\\n  overflow-x: auto;\\n}\\n\\n#header {\\n  position: absolute;\\n  z-index: 7;\\n}\\n\\n#header-items {\\n  width: 100%;\\n  margin-left:15px;\\n}\\n\\n.pn-busy-container {\\n  align-items: center;\\n  justify-content: center;\\n  display: flex;\\n}\\n\\n.mdc-drawer__content {\\n  overflow-x: hidden;\\n}\\n.mdc-drawer__content, .main-content {\\n  padding: 12px;\\n}\\n\\n.main-content {\\n  height: calc(100vh - 88px);\\n  max-height: calc(100vh - 88px);\\n  padding-right: 32px;\\n}\\n\\nbutton.mdc-button.mdc-card-button {\\n  color: transparent;\\n  height: 50px;\\n}\\n\\np.bk.mdc-button {\\n  display: none;\\n}\\n\\ndiv.bk.mdc-card {\\n  border-radius: 0px\\n}\\n\\n.mdc-card .bk.card-header {\\n  display: flex;\\n}\\n\\n.bk.mdc-card-title {\\n  font-family: \\\"Josefin Sans\\\";\\n  font-weight: bold;\\n  align-items: center;\\n  display: flex !important;\\n  position: relative !important;\\n}\\n\\n.bk.mdc-card-title:nth-child(2) {\\n  margin-left: -1.4em;\\n}\\n\\n.pn-modal {\\n  overflow-y: scroll;\\n  width: 100%;\\n  display: none;\\n  position: absolute;\\n  top: 0;\\n  left: 0;\\n}\\n\\n.pn-modal-content {\\n  font-family: \\\"Josefin Sans\\\";\\n  background-color: #0e0e0e;\\n  margin: auto;\\n  margin-top: 25px;\\n  margin-bottom: 25px;\\n  padding: 15px 20px 20px 20px;\\n  border: 1px solid #888;\\n  width: 80% !important;\\n}\\n\\n.pn-modal-close {\\n  position: absolute;\\n  right: 25px;\\n  z-index: 100;\\n}\\n\\n.pn-modal-close:hover,\\n.pn-modal-close:focus {\\n  color: #000;\\n  text-decoration: none;\\n  cursor: pointer;\\n}\\n\\n.custom_button_bokeh button.bk.bk-btn.bk-btn-default {\\n    font-size:48pt;\\n    background-color: #05b7ff;\\n    border-color: #05b7ff;\\n}\");\n",
       "    },    function(Bokeh) {\n",
       "      inject_raw_css(\"\\n    .bk.pn-loading.arc:before {\\n      background-image: url(\\\"data:image/svg+xml;base64,PHN2ZyB4bWxucz0iaHR0cDovL3d3dy53My5vcmcvMjAwMC9zdmciIHN0eWxlPSJtYXJnaW46IGF1dG87IGJhY2tncm91bmQ6IG5vbmU7IGRpc3BsYXk6IGJsb2NrOyBzaGFwZS1yZW5kZXJpbmc6IGF1dG87IiB2aWV3Qm94PSIwIDAgMTAwIDEwMCIgcHJlc2VydmVBc3BlY3RSYXRpbz0ieE1pZFlNaWQiPiAgPGNpcmNsZSBjeD0iNTAiIGN5PSI1MCIgZmlsbD0ibm9uZSIgc3Ryb2tlPSIjYzNjM2MzIiBzdHJva2Utd2lkdGg9IjEwIiByPSIzNSIgc3Ryb2tlLWRhc2hhcnJheT0iMTY0LjkzMzYxNDMxMzQ2NDE1IDU2Ljk3Nzg3MTQzNzgyMTM4Ij4gICAgPGFuaW1hdGVUcmFuc2Zvcm0gYXR0cmlidXRlTmFtZT0idHJhbnNmb3JtIiB0eXBlPSJyb3RhdGUiIHJlcGVhdENvdW50PSJpbmRlZmluaXRlIiBkdXI9IjFzIiB2YWx1ZXM9IjAgNTAgNTA7MzYwIDUwIDUwIiBrZXlUaW1lcz0iMDsxIj48L2FuaW1hdGVUcmFuc2Zvcm0+ICA8L2NpcmNsZT48L3N2Zz4=\\\");\\n      background-size: auto calc(min(50%, 400px));\\n    }\\n    \");\n",
       "    },    function(Bokeh) {\n",
       "      Bokeh.set_log_level(\"info\");\n",
       "    },\n",
       "function(Bokeh) {} // ensure no trailing comma for IE\n",
       "  ];\n",
       "\n",
       "  function run_inline_js() {\n",
       "    if ((root.Bokeh !== undefined) || (force === true)) {\n",
       "      for (var i = 0; i < inline_js.length; i++) {\n",
       "        inline_js[i].call(root, root.Bokeh);\n",
       "      }} else if (Date.now() < root._bokeh_timeout) {\n",
       "      setTimeout(run_inline_js, 100);\n",
       "    } else if (!root._bokeh_failed_load) {\n",
       "      console.log(\"Bokeh: BokehJS failed to load within specified timeout.\");\n",
       "      root._bokeh_failed_load = true;\n",
       "    }\n",
       "  }\n",
       "\n",
       "  if (root._bokeh_is_loading === 0) {\n",
       "    console.debug(\"Bokeh: BokehJS loaded, going straight to plotting\");\n",
       "    run_inline_js();\n",
       "  } else {\n",
       "    load_libs(css_urls, js_urls, js_modules, function() {\n",
       "      console.debug(\"Bokeh: BokehJS plotting callback run at\", now());\n",
       "      run_inline_js();\n",
       "    });\n",
       "  }\n",
       "}(window));"
      ],
      "application/vnd.holoviews_load.v0+json": "(function(root) {\n  function now() {\n    return new Date();\n  }\n\n  var force = true;\n\n  if (typeof root._bokeh_onload_callbacks === \"undefined\" || force === true) {\n    root._bokeh_onload_callbacks = [];\n    root._bokeh_is_loading = undefined;\n  }\n\n  if (typeof (root._bokeh_timeout) === \"undefined\" || force === true) {\n    root._bokeh_timeout = Date.now() + 5000;\n    root._bokeh_failed_load = false;\n  }\n\n  function run_callbacks() {\n    try {\n      root._bokeh_onload_callbacks.forEach(function(callback) {\n        if (callback != null)\n          callback();\n      });\n    } finally {\n      delete root._bokeh_onload_callbacks\n    }\n    console.debug(\"Bokeh: all callbacks have finished\");\n  }\n\n  function load_libs(css_urls, js_urls, js_modules, callback) {\n    if (css_urls == null) css_urls = [];\n    if (js_urls == null) js_urls = [];\n    if (js_modules == null) js_modules = [];\n\n    root._bokeh_onload_callbacks.push(callback);\n    if (root._bokeh_is_loading > 0) {\n      console.debug(\"Bokeh: BokehJS is being loaded, scheduling callback at\", now());\n      return null;\n    }\n    if (js_urls.length === 0 && js_modules.length === 0) {\n      run_callbacks();\n      return null;\n    }\n    console.debug(\"Bokeh: BokehJS not loaded, scheduling load and callback at\", now());\n\n    function on_load() {\n      root._bokeh_is_loading--;\n      if (root._bokeh_is_loading === 0) {\n        console.debug(\"Bokeh: all BokehJS libraries/stylesheets loaded\");\n        run_callbacks()\n      }\n    }\n\n    function on_error() {\n      console.error(\"failed to load \" + url);\n    }\n\n    for (var i = 0; i < css_urls.length; i++) {\n      var url = css_urls[i];\n      const element = document.createElement(\"link\");\n      element.onload = on_load;\n      element.onerror = on_error;\n      element.rel = \"stylesheet\";\n      element.type = \"text/css\";\n      element.href = url;\n      console.debug(\"Bokeh: injecting link tag for BokehJS stylesheet: \", url);\n      document.body.appendChild(element);\n    }\n\n    var skip = [];\n    if (window.requirejs) {\n      window.requirejs.config({'packages': {}, 'paths': {'ace': '//cdnjs.cloudflare.com/ajax/libs/ace/1.4.7', 'gridstack': 'https://cdn.jsdelivr.net/npm/gridstack@4.2.5/dist/gridstack-h5', 'notyf': 'https://cdn.jsdelivr.net/npm/notyf@3/notyf.min'}, 'shim': {'ace/ext-language_tools': {'deps': ['ace/ace']}, 'ace/ext-modelist': {'deps': ['ace/ace']}, 'gridstack': {'exports': 'GridStack'}}});\n      require([\"ace/ace\"], function(ace) {\n\twindow.ace = ace\n\ton_load()\n      })\n      require([\"ace/ext-language_tools\"], function() {\n\ton_load()\n      })\n      require([\"ace/ext-modelist\"], function() {\n\ton_load()\n      })\n      require([\"gridstack\"], function(GridStack) {\n\twindow.GridStack = GridStack\n\ton_load()\n      })\n      require([\"notyf\"], function() {\n\ton_load()\n      })\n      root._bokeh_is_loading = css_urls.length + 5;\n    } else {\n      root._bokeh_is_loading = css_urls.length + js_urls.length + js_modules.length;\n    }    if (((window['ace'] !== undefined) && (!(window['ace'] instanceof HTMLElement))) || window.requirejs) {\n      var urls = ['https://cdnjs.cloudflare.com/ajax/libs/ace/1.4.11/ace.js', 'https://cdnjs.cloudflare.com/ajax/libs/ace/1.4.11/ext-language_tools.js', 'https://cdnjs.cloudflare.com/ajax/libs/ace/1.4.11/ext-modelist.js'];\n      for (var i = 0; i < urls.length; i++) {\n        skip.push(urls[i])\n      }\n    }    if (((window['GridStack'] !== undefined) && (!(window['GridStack'] instanceof HTMLElement))) || window.requirejs) {\n      var urls = ['https://cdn.holoviz.org/panel/0.14.4/dist/bundled/gridstack/gridstack@4.2.5/dist/gridstack-h5.js'];\n      for (var i = 0; i < urls.length; i++) {\n        skip.push(urls[i])\n      }\n    }    if (((window['Notyf'] !== undefined) && (!(window['Notyf'] instanceof HTMLElement))) || window.requirejs) {\n      var urls = ['https://cdn.holoviz.org/panel/0.14.4/dist/bundled/notificationarea/notyf@3/notyf.min.js'];\n      for (var i = 0; i < urls.length; i++) {\n        skip.push(urls[i])\n      }\n    }    for (var i = 0; i < js_urls.length; i++) {\n      var url = js_urls[i];\n      if (skip.indexOf(url) >= 0) {\n\tif (!window.requirejs) {\n\t  on_load();\n\t}\n\tcontinue;\n      }\n      var element = document.createElement('script');\n      element.onload = on_load;\n      element.onerror = on_error;\n      element.async = false;\n      element.src = url;\n      console.debug(\"Bokeh: injecting script tag for BokehJS library: \", url);\n      document.head.appendChild(element);\n    }\n    for (var i = 0; i < js_modules.length; i++) {\n      var url = js_modules[i];\n      if (skip.indexOf(url) >= 0) {\n\tif (!window.requirejs) {\n\t  on_load();\n\t}\n\tcontinue;\n      }\n      var element = document.createElement('script');\n      element.onload = on_load;\n      element.onerror = on_error;\n      element.async = false;\n      element.src = url;\n      element.type = \"module\";\n      console.debug(\"Bokeh: injecting script tag for BokehJS library: \", url);\n      document.head.appendChild(element);\n    }\n    if (!js_urls.length && !js_modules.length) {\n      on_load()\n    }\n  };\n\n  function inject_raw_css(css) {\n    const element = document.createElement(\"style\");\n    element.appendChild(document.createTextNode(css));\n    document.body.appendChild(element);\n  }\n\n  var js_urls = [\"https://cdnjs.cloudflare.com/ajax/libs/ace/1.4.11/ace.js\", \"https://cdnjs.cloudflare.com/ajax/libs/ace/1.4.11/ext-language_tools.js\", \"https://cdnjs.cloudflare.com/ajax/libs/ace/1.4.11/ext-modelist.js\", \"https://cdn.bokeh.org/bokeh/release/bokeh-2.4.3.min.js\", \"https://cdn.bokeh.org/bokeh/release/bokeh-gl-2.4.3.min.js\", \"https://cdn.bokeh.org/bokeh/release/bokeh-widgets-2.4.3.min.js\", \"https://cdn.bokeh.org/bokeh/release/bokeh-tables-2.4.3.min.js\", \"https://cdn.bokeh.org/bokeh/release/bokeh-mathjax-2.4.3.min.js\", \"https://unpkg.com/@holoviz/panel@0.14.4/dist/panel.min.js\"];\n  var js_modules = [];\n  var css_urls = [\"https://cdn.holoviz.org/panel/0.14.4/dist/css/card.css\", \"https://cdn.holoviz.org/panel/0.14.4/dist/css/json.css\", \"https://cdn.holoviz.org/panel/0.14.4/dist/css/markdown.css\", \"https://cdn.holoviz.org/panel/0.14.4/dist/css/debugger.css\", \"https://cdn.holoviz.org/panel/0.14.4/dist/css/dataframe.css\", \"https://cdn.holoviz.org/panel/0.14.4/dist/css/widgets.css\", \"https://cdn.holoviz.org/panel/0.14.4/dist/css/alerts.css\", \"https://cdn.holoviz.org/panel/0.14.4/dist/css/loading.css\"];\n  var inline_js = [    function(Bokeh) {\n      inject_raw_css(\"/*\\n ~ CML // Creative Machine Learning ~\\n mml.css : CSS styling information for Panel and Bokeh\\n \\n This file defines the main CSS styling information for the CML course\\n \\n Author               :  Philippe Esling\\n                        <esling@ircam.fr>\\n*/\\n\\nbody {\\n  display: flex;\\n  height: 100vh;\\n  margin: 0px;\\n  overflow-x: hidden;\\n  overflow-y: hidden;\\n}\\n\\n.bk-root .bk, .bk-root .bk:before, .bk-root .bk:after {\\n  font-family: \\\"Josefin Sans\\\";\\n}\\n\\nimg {\\n  max-width: 100%;\\n}\\n\\n#container {\\n  padding:0px;\\n  height:100vh;\\n  width: 100vw;\\n  max-width: 100vw;\\n}\\n\\n#sidebar .mdc-list {\\n  padding-left: 5px;\\n  padding-right: 5px;\\n}\\n\\n.mdc-drawer-app-content {\\n  flex: auto;\\n  position: relative;\\n  overflow: hidden;\\n}\\n\\n.mdc-drawer {\\n  background: #FAFAFA; /* GRAY 50 */\\n}\\n\\n.mdc-drawer-app-content {\\n  margin-left: 0 !important;\\n}\\n\\n.title-bar {\\n  display: contents;\\n  justify-content: center;\\n  align-content: center;\\n  width: 100%;\\n}\\n\\n.mdc-top-app-bar .bk-menu {\\n  color: black\\n}\\n\\n.app-header {\\n  display: contents;\\n  padding-left: 10px;\\n  font-size: 1.25em;\\n}\\n\\nimg.app-logo {\\n  padding-right: 10px;\\n  font-size: 28px;\\n  height: 30px;\\n  max-width: inherit;\\n  padding-top: 12px;\\n  padding-bottom: 6px;\\n}\\n\\n#app-title {\\n  padding-right: 12px;\\n  padding-left: 12px;\\n}\\n\\n.title {\\n  font-family: \\\"Josefin Sans\\\";\\n  color: #fff;\\n  text-decoration: none;\\n  text-decoration-line: none;\\n  text-decoration-style: initial;\\n  text-decoration-color: initial;\\n  font-weight: 400;\\n  font-size: 2em;\\n  line-height: 2em;\\n  white-space: nowrap;\\n}\\n\\n.main-content {\\n  overflow-y: scroll;\\n  overflow-x: auto;\\n}\\n\\n#header {\\n  position: absolute;\\n  z-index: 7;\\n}\\n\\n#header-items {\\n  width: 100%;\\n  margin-left:15px;\\n}\\n\\n.pn-busy-container {\\n  align-items: center;\\n  justify-content: center;\\n  display: flex;\\n}\\n\\n.mdc-drawer__content {\\n  overflow-x: hidden;\\n}\\n.mdc-drawer__content, .main-content {\\n  padding: 12px;\\n}\\n\\n.main-content {\\n  height: calc(100vh - 88px);\\n  max-height: calc(100vh - 88px);\\n  padding-right: 32px;\\n}\\n\\nbutton.mdc-button.mdc-card-button {\\n  color: transparent;\\n  height: 50px;\\n}\\n\\np.bk.mdc-button {\\n  display: none;\\n}\\n\\ndiv.bk.mdc-card {\\n  border-radius: 0px\\n}\\n\\n.mdc-card .bk.card-header {\\n  display: flex;\\n}\\n\\n.bk.mdc-card-title {\\n  font-family: \\\"Josefin Sans\\\";\\n  font-weight: bold;\\n  align-items: center;\\n  display: flex !important;\\n  position: relative !important;\\n}\\n\\n.bk.mdc-card-title:nth-child(2) {\\n  margin-left: -1.4em;\\n}\\n\\n.pn-modal {\\n  overflow-y: scroll;\\n  width: 100%;\\n  display: none;\\n  position: absolute;\\n  top: 0;\\n  left: 0;\\n}\\n\\n.pn-modal-content {\\n  font-family: \\\"Josefin Sans\\\";\\n  background-color: #0e0e0e;\\n  margin: auto;\\n  margin-top: 25px;\\n  margin-bottom: 25px;\\n  padding: 15px 20px 20px 20px;\\n  border: 1px solid #888;\\n  width: 80% !important;\\n}\\n\\n.pn-modal-close {\\n  position: absolute;\\n  right: 25px;\\n  z-index: 100;\\n}\\n\\n.pn-modal-close:hover,\\n.pn-modal-close:focus {\\n  color: #000;\\n  text-decoration: none;\\n  cursor: pointer;\\n}\\n\\n.custom_button_bokeh button.bk.bk-btn.bk-btn-default {\\n    font-size:48pt;\\n    background-color: #05b7ff;\\n    border-color: #05b7ff;\\n}\");\n    },    function(Bokeh) {\n      inject_raw_css(\"\\n    .bk.pn-loading.arc:before {\\n      background-image: url(\\\"data:image/svg+xml;base64,PHN2ZyB4bWxucz0iaHR0cDovL3d3dy53My5vcmcvMjAwMC9zdmciIHN0eWxlPSJtYXJnaW46IGF1dG87IGJhY2tncm91bmQ6IG5vbmU7IGRpc3BsYXk6IGJsb2NrOyBzaGFwZS1yZW5kZXJpbmc6IGF1dG87IiB2aWV3Qm94PSIwIDAgMTAwIDEwMCIgcHJlc2VydmVBc3BlY3RSYXRpbz0ieE1pZFlNaWQiPiAgPGNpcmNsZSBjeD0iNTAiIGN5PSI1MCIgZmlsbD0ibm9uZSIgc3Ryb2tlPSIjYzNjM2MzIiBzdHJva2Utd2lkdGg9IjEwIiByPSIzNSIgc3Ryb2tlLWRhc2hhcnJheT0iMTY0LjkzMzYxNDMxMzQ2NDE1IDU2Ljk3Nzg3MTQzNzgyMTM4Ij4gICAgPGFuaW1hdGVUcmFuc2Zvcm0gYXR0cmlidXRlTmFtZT0idHJhbnNmb3JtIiB0eXBlPSJyb3RhdGUiIHJlcGVhdENvdW50PSJpbmRlZmluaXRlIiBkdXI9IjFzIiB2YWx1ZXM9IjAgNTAgNTA7MzYwIDUwIDUwIiBrZXlUaW1lcz0iMDsxIj48L2FuaW1hdGVUcmFuc2Zvcm0+ICA8L2NpcmNsZT48L3N2Zz4=\\\");\\n      background-size: auto calc(min(50%, 400px));\\n    }\\n    \");\n    },    function(Bokeh) {\n      Bokeh.set_log_level(\"info\");\n    },\nfunction(Bokeh) {} // ensure no trailing comma for IE\n  ];\n\n  function run_inline_js() {\n    if ((root.Bokeh !== undefined) || (force === true)) {\n      for (var i = 0; i < inline_js.length; i++) {\n        inline_js[i].call(root, root.Bokeh);\n      }} else if (Date.now() < root._bokeh_timeout) {\n      setTimeout(run_inline_js, 100);\n    } else if (!root._bokeh_failed_load) {\n      console.log(\"Bokeh: BokehJS failed to load within specified timeout.\");\n      root._bokeh_failed_load = true;\n    }\n  }\n\n  if (root._bokeh_is_loading === 0) {\n    console.debug(\"Bokeh: BokehJS loaded, going straight to plotting\");\n    run_inline_js();\n  } else {\n    load_libs(css_urls, js_urls, js_modules, function() {\n      console.debug(\"Bokeh: BokehJS plotting callback run at\", now());\n      run_inline_js();\n    });\n  }\n}(window));"
     },
     "metadata": {},
     "output_type": "display_data"
    },
    {
     "data": {
      "application/javascript": [
       "\n",
       "if ((window.PyViz === undefined) || (window.PyViz instanceof HTMLElement)) {\n",
       "  window.PyViz = {comms: {}, comm_status:{}, kernels:{}, receivers: {}, plot_index: []}\n",
       "}\n",
       "\n",
       "\n",
       "    function JupyterCommManager() {\n",
       "    }\n",
       "\n",
       "    JupyterCommManager.prototype.register_target = function(plot_id, comm_id, msg_handler) {\n",
       "      if (window.comm_manager || ((window.Jupyter !== undefined) && (Jupyter.notebook.kernel != null))) {\n",
       "        var comm_manager = window.comm_manager || Jupyter.notebook.kernel.comm_manager;\n",
       "        comm_manager.register_target(comm_id, function(comm) {\n",
       "          comm.on_msg(msg_handler);\n",
       "        });\n",
       "      } else if ((plot_id in window.PyViz.kernels) && (window.PyViz.kernels[plot_id])) {\n",
       "        window.PyViz.kernels[plot_id].registerCommTarget(comm_id, function(comm) {\n",
       "          comm.onMsg = msg_handler;\n",
       "        });\n",
       "      } else if (typeof google != 'undefined' && google.colab.kernel != null) {\n",
       "        google.colab.kernel.comms.registerTarget(comm_id, (comm) => {\n",
       "          var messages = comm.messages[Symbol.asyncIterator]();\n",
       "          function processIteratorResult(result) {\n",
       "            var message = result.value;\n",
       "            console.log(message)\n",
       "            var content = {data: message.data, comm_id};\n",
       "            var buffers = []\n",
       "            for (var buffer of message.buffers || []) {\n",
       "              buffers.push(new DataView(buffer))\n",
       "            }\n",
       "            var metadata = message.metadata || {};\n",
       "            var msg = {content, buffers, metadata}\n",
       "            msg_handler(msg);\n",
       "            return messages.next().then(processIteratorResult);\n",
       "          }\n",
       "          return messages.next().then(processIteratorResult);\n",
       "        })\n",
       "      }\n",
       "    }\n",
       "\n",
       "    JupyterCommManager.prototype.get_client_comm = function(plot_id, comm_id, msg_handler) {\n",
       "      if (comm_id in window.PyViz.comms) {\n",
       "        return window.PyViz.comms[comm_id];\n",
       "      } else if (window.comm_manager || ((window.Jupyter !== undefined) && (Jupyter.notebook.kernel != null))) {\n",
       "        var comm_manager = window.comm_manager || Jupyter.notebook.kernel.comm_manager;\n",
       "        var comm = comm_manager.new_comm(comm_id, {}, {}, {}, comm_id);\n",
       "        if (msg_handler) {\n",
       "          comm.on_msg(msg_handler);\n",
       "        }\n",
       "      } else if ((plot_id in window.PyViz.kernels) && (window.PyViz.kernels[plot_id])) {\n",
       "        var comm = window.PyViz.kernels[plot_id].connectToComm(comm_id);\n",
       "        comm.open();\n",
       "        if (msg_handler) {\n",
       "          comm.onMsg = msg_handler;\n",
       "        }\n",
       "      } else if (typeof google != 'undefined' && google.colab.kernel != null) {\n",
       "        var comm_promise = google.colab.kernel.comms.open(comm_id)\n",
       "        comm_promise.then((comm) => {\n",
       "          window.PyViz.comms[comm_id] = comm;\n",
       "          if (msg_handler) {\n",
       "            var messages = comm.messages[Symbol.asyncIterator]();\n",
       "            function processIteratorResult(result) {\n",
       "              var message = result.value;\n",
       "              var content = {data: message.data};\n",
       "              var metadata = message.metadata || {comm_id};\n",
       "              var msg = {content, metadata}\n",
       "              msg_handler(msg);\n",
       "              return messages.next().then(processIteratorResult);\n",
       "            }\n",
       "            return messages.next().then(processIteratorResult);\n",
       "          }\n",
       "        }) \n",
       "        var sendClosure = (data, metadata, buffers, disposeOnDone) => {\n",
       "          return comm_promise.then((comm) => {\n",
       "            comm.send(data, metadata, buffers, disposeOnDone);\n",
       "          });\n",
       "        };\n",
       "        var comm = {\n",
       "          send: sendClosure\n",
       "        };\n",
       "      }\n",
       "      window.PyViz.comms[comm_id] = comm;\n",
       "      return comm;\n",
       "    }\n",
       "    window.PyViz.comm_manager = new JupyterCommManager();\n",
       "    \n",
       "\n",
       "\n",
       "var JS_MIME_TYPE = 'application/javascript';\n",
       "var HTML_MIME_TYPE = 'text/html';\n",
       "var EXEC_MIME_TYPE = 'application/vnd.holoviews_exec.v0+json';\n",
       "var CLASS_NAME = 'output';\n",
       "\n",
       "/**\n",
       " * Render data to the DOM node\n",
       " */\n",
       "function render(props, node) {\n",
       "  var div = document.createElement(\"div\");\n",
       "  var script = document.createElement(\"script\");\n",
       "  node.appendChild(div);\n",
       "  node.appendChild(script);\n",
       "}\n",
       "\n",
       "/**\n",
       " * Handle when a new output is added\n",
       " */\n",
       "function handle_add_output(event, handle) {\n",
       "  var output_area = handle.output_area;\n",
       "  var output = handle.output;\n",
       "  if ((output.data == undefined) || (!output.data.hasOwnProperty(EXEC_MIME_TYPE))) {\n",
       "    return\n",
       "  }\n",
       "  var id = output.metadata[EXEC_MIME_TYPE][\"id\"];\n",
       "  var toinsert = output_area.element.find(\".\" + CLASS_NAME.split(' ')[0]);\n",
       "  if (id !== undefined) {\n",
       "    var nchildren = toinsert.length;\n",
       "    var html_node = toinsert[nchildren-1].children[0];\n",
       "    html_node.innerHTML = output.data[HTML_MIME_TYPE];\n",
       "    var scripts = [];\n",
       "    var nodelist = html_node.querySelectorAll(\"script\");\n",
       "    for (var i in nodelist) {\n",
       "      if (nodelist.hasOwnProperty(i)) {\n",
       "        scripts.push(nodelist[i])\n",
       "      }\n",
       "    }\n",
       "\n",
       "    scripts.forEach( function (oldScript) {\n",
       "      var newScript = document.createElement(\"script\");\n",
       "      var attrs = [];\n",
       "      var nodemap = oldScript.attributes;\n",
       "      for (var j in nodemap) {\n",
       "        if (nodemap.hasOwnProperty(j)) {\n",
       "          attrs.push(nodemap[j])\n",
       "        }\n",
       "      }\n",
       "      attrs.forEach(function(attr) { newScript.setAttribute(attr.name, attr.value) });\n",
       "      newScript.appendChild(document.createTextNode(oldScript.innerHTML));\n",
       "      oldScript.parentNode.replaceChild(newScript, oldScript);\n",
       "    });\n",
       "    if (JS_MIME_TYPE in output.data) {\n",
       "      toinsert[nchildren-1].children[1].textContent = output.data[JS_MIME_TYPE];\n",
       "    }\n",
       "    output_area._hv_plot_id = id;\n",
       "    if ((window.Bokeh !== undefined) && (id in Bokeh.index)) {\n",
       "      window.PyViz.plot_index[id] = Bokeh.index[id];\n",
       "    } else {\n",
       "      window.PyViz.plot_index[id] = null;\n",
       "    }\n",
       "  } else if (output.metadata[EXEC_MIME_TYPE][\"server_id\"] !== undefined) {\n",
       "    var bk_div = document.createElement(\"div\");\n",
       "    bk_div.innerHTML = output.data[HTML_MIME_TYPE];\n",
       "    var script_attrs = bk_div.children[0].attributes;\n",
       "    for (var i = 0; i < script_attrs.length; i++) {\n",
       "      toinsert[toinsert.length - 1].childNodes[1].setAttribute(script_attrs[i].name, script_attrs[i].value);\n",
       "    }\n",
       "    // store reference to server id on output_area\n",
       "    output_area._bokeh_server_id = output.metadata[EXEC_MIME_TYPE][\"server_id\"];\n",
       "  }\n",
       "}\n",
       "\n",
       "/**\n",
       " * Handle when an output is cleared or removed\n",
       " */\n",
       "function handle_clear_output(event, handle) {\n",
       "  var id = handle.cell.output_area._hv_plot_id;\n",
       "  var server_id = handle.cell.output_area._bokeh_server_id;\n",
       "  if (((id === undefined) || !(id in PyViz.plot_index)) && (server_id !== undefined)) { return; }\n",
       "  var comm = window.PyViz.comm_manager.get_client_comm(\"hv-extension-comm\", \"hv-extension-comm\", function () {});\n",
       "  if (server_id !== null) {\n",
       "    comm.send({event_type: 'server_delete', 'id': server_id});\n",
       "    return;\n",
       "  } else if (comm !== null) {\n",
       "    comm.send({event_type: 'delete', 'id': id});\n",
       "  }\n",
       "  delete PyViz.plot_index[id];\n",
       "  if ((window.Bokeh !== undefined) & (id in window.Bokeh.index)) {\n",
       "    var doc = window.Bokeh.index[id].model.document\n",
       "    doc.clear();\n",
       "    const i = window.Bokeh.documents.indexOf(doc);\n",
       "    if (i > -1) {\n",
       "      window.Bokeh.documents.splice(i, 1);\n",
       "    }\n",
       "  }\n",
       "}\n",
       "\n",
       "/**\n",
       " * Handle kernel restart event\n",
       " */\n",
       "function handle_kernel_cleanup(event, handle) {\n",
       "  delete PyViz.comms[\"hv-extension-comm\"];\n",
       "  window.PyViz.plot_index = {}\n",
       "}\n",
       "\n",
       "/**\n",
       " * Handle update_display_data messages\n",
       " */\n",
       "function handle_update_output(event, handle) {\n",
       "  handle_clear_output(event, {cell: {output_area: handle.output_area}})\n",
       "  handle_add_output(event, handle)\n",
       "}\n",
       "\n",
       "function register_renderer(events, OutputArea) {\n",
       "  function append_mime(data, metadata, element) {\n",
       "    // create a DOM node to render to\n",
       "    var toinsert = this.create_output_subarea(\n",
       "    metadata,\n",
       "    CLASS_NAME,\n",
       "    EXEC_MIME_TYPE\n",
       "    );\n",
       "    this.keyboard_manager.register_events(toinsert);\n",
       "    // Render to node\n",
       "    var props = {data: data, metadata: metadata[EXEC_MIME_TYPE]};\n",
       "    render(props, toinsert[0]);\n",
       "    element.append(toinsert);\n",
       "    return toinsert\n",
       "  }\n",
       "\n",
       "  events.on('output_added.OutputArea', handle_add_output);\n",
       "  events.on('output_updated.OutputArea', handle_update_output);\n",
       "  events.on('clear_output.CodeCell', handle_clear_output);\n",
       "  events.on('delete.Cell', handle_clear_output);\n",
       "  events.on('kernel_ready.Kernel', handle_kernel_cleanup);\n",
       "\n",
       "  OutputArea.prototype.register_mime_type(EXEC_MIME_TYPE, append_mime, {\n",
       "    safe: true,\n",
       "    index: 0\n",
       "  });\n",
       "}\n",
       "\n",
       "if (window.Jupyter !== undefined) {\n",
       "  try {\n",
       "    var events = require('base/js/events');\n",
       "    var OutputArea = require('notebook/js/outputarea').OutputArea;\n",
       "    if (OutputArea.prototype.mime_types().indexOf(EXEC_MIME_TYPE) == -1) {\n",
       "      register_renderer(events, OutputArea);\n",
       "    }\n",
       "  } catch(err) {\n",
       "  }\n",
       "}\n"
      ],
      "application/vnd.holoviews_load.v0+json": "\nif ((window.PyViz === undefined) || (window.PyViz instanceof HTMLElement)) {\n  window.PyViz = {comms: {}, comm_status:{}, kernels:{}, receivers: {}, plot_index: []}\n}\n\n\n    function JupyterCommManager() {\n    }\n\n    JupyterCommManager.prototype.register_target = function(plot_id, comm_id, msg_handler) {\n      if (window.comm_manager || ((window.Jupyter !== undefined) && (Jupyter.notebook.kernel != null))) {\n        var comm_manager = window.comm_manager || Jupyter.notebook.kernel.comm_manager;\n        comm_manager.register_target(comm_id, function(comm) {\n          comm.on_msg(msg_handler);\n        });\n      } else if ((plot_id in window.PyViz.kernels) && (window.PyViz.kernels[plot_id])) {\n        window.PyViz.kernels[plot_id].registerCommTarget(comm_id, function(comm) {\n          comm.onMsg = msg_handler;\n        });\n      } else if (typeof google != 'undefined' && google.colab.kernel != null) {\n        google.colab.kernel.comms.registerTarget(comm_id, (comm) => {\n          var messages = comm.messages[Symbol.asyncIterator]();\n          function processIteratorResult(result) {\n            var message = result.value;\n            console.log(message)\n            var content = {data: message.data, comm_id};\n            var buffers = []\n            for (var buffer of message.buffers || []) {\n              buffers.push(new DataView(buffer))\n            }\n            var metadata = message.metadata || {};\n            var msg = {content, buffers, metadata}\n            msg_handler(msg);\n            return messages.next().then(processIteratorResult);\n          }\n          return messages.next().then(processIteratorResult);\n        })\n      }\n    }\n\n    JupyterCommManager.prototype.get_client_comm = function(plot_id, comm_id, msg_handler) {\n      if (comm_id in window.PyViz.comms) {\n        return window.PyViz.comms[comm_id];\n      } else if (window.comm_manager || ((window.Jupyter !== undefined) && (Jupyter.notebook.kernel != null))) {\n        var comm_manager = window.comm_manager || Jupyter.notebook.kernel.comm_manager;\n        var comm = comm_manager.new_comm(comm_id, {}, {}, {}, comm_id);\n        if (msg_handler) {\n          comm.on_msg(msg_handler);\n        }\n      } else if ((plot_id in window.PyViz.kernels) && (window.PyViz.kernels[plot_id])) {\n        var comm = window.PyViz.kernels[plot_id].connectToComm(comm_id);\n        comm.open();\n        if (msg_handler) {\n          comm.onMsg = msg_handler;\n        }\n      } else if (typeof google != 'undefined' && google.colab.kernel != null) {\n        var comm_promise = google.colab.kernel.comms.open(comm_id)\n        comm_promise.then((comm) => {\n          window.PyViz.comms[comm_id] = comm;\n          if (msg_handler) {\n            var messages = comm.messages[Symbol.asyncIterator]();\n            function processIteratorResult(result) {\n              var message = result.value;\n              var content = {data: message.data};\n              var metadata = message.metadata || {comm_id};\n              var msg = {content, metadata}\n              msg_handler(msg);\n              return messages.next().then(processIteratorResult);\n            }\n            return messages.next().then(processIteratorResult);\n          }\n        }) \n        var sendClosure = (data, metadata, buffers, disposeOnDone) => {\n          return comm_promise.then((comm) => {\n            comm.send(data, metadata, buffers, disposeOnDone);\n          });\n        };\n        var comm = {\n          send: sendClosure\n        };\n      }\n      window.PyViz.comms[comm_id] = comm;\n      return comm;\n    }\n    window.PyViz.comm_manager = new JupyterCommManager();\n    \n\n\nvar JS_MIME_TYPE = 'application/javascript';\nvar HTML_MIME_TYPE = 'text/html';\nvar EXEC_MIME_TYPE = 'application/vnd.holoviews_exec.v0+json';\nvar CLASS_NAME = 'output';\n\n/**\n * Render data to the DOM node\n */\nfunction render(props, node) {\n  var div = document.createElement(\"div\");\n  var script = document.createElement(\"script\");\n  node.appendChild(div);\n  node.appendChild(script);\n}\n\n/**\n * Handle when a new output is added\n */\nfunction handle_add_output(event, handle) {\n  var output_area = handle.output_area;\n  var output = handle.output;\n  if ((output.data == undefined) || (!output.data.hasOwnProperty(EXEC_MIME_TYPE))) {\n    return\n  }\n  var id = output.metadata[EXEC_MIME_TYPE][\"id\"];\n  var toinsert = output_area.element.find(\".\" + CLASS_NAME.split(' ')[0]);\n  if (id !== undefined) {\n    var nchildren = toinsert.length;\n    var html_node = toinsert[nchildren-1].children[0];\n    html_node.innerHTML = output.data[HTML_MIME_TYPE];\n    var scripts = [];\n    var nodelist = html_node.querySelectorAll(\"script\");\n    for (var i in nodelist) {\n      if (nodelist.hasOwnProperty(i)) {\n        scripts.push(nodelist[i])\n      }\n    }\n\n    scripts.forEach( function (oldScript) {\n      var newScript = document.createElement(\"script\");\n      var attrs = [];\n      var nodemap = oldScript.attributes;\n      for (var j in nodemap) {\n        if (nodemap.hasOwnProperty(j)) {\n          attrs.push(nodemap[j])\n        }\n      }\n      attrs.forEach(function(attr) { newScript.setAttribute(attr.name, attr.value) });\n      newScript.appendChild(document.createTextNode(oldScript.innerHTML));\n      oldScript.parentNode.replaceChild(newScript, oldScript);\n    });\n    if (JS_MIME_TYPE in output.data) {\n      toinsert[nchildren-1].children[1].textContent = output.data[JS_MIME_TYPE];\n    }\n    output_area._hv_plot_id = id;\n    if ((window.Bokeh !== undefined) && (id in Bokeh.index)) {\n      window.PyViz.plot_index[id] = Bokeh.index[id];\n    } else {\n      window.PyViz.plot_index[id] = null;\n    }\n  } else if (output.metadata[EXEC_MIME_TYPE][\"server_id\"] !== undefined) {\n    var bk_div = document.createElement(\"div\");\n    bk_div.innerHTML = output.data[HTML_MIME_TYPE];\n    var script_attrs = bk_div.children[0].attributes;\n    for (var i = 0; i < script_attrs.length; i++) {\n      toinsert[toinsert.length - 1].childNodes[1].setAttribute(script_attrs[i].name, script_attrs[i].value);\n    }\n    // store reference to server id on output_area\n    output_area._bokeh_server_id = output.metadata[EXEC_MIME_TYPE][\"server_id\"];\n  }\n}\n\n/**\n * Handle when an output is cleared or removed\n */\nfunction handle_clear_output(event, handle) {\n  var id = handle.cell.output_area._hv_plot_id;\n  var server_id = handle.cell.output_area._bokeh_server_id;\n  if (((id === undefined) || !(id in PyViz.plot_index)) && (server_id !== undefined)) { return; }\n  var comm = window.PyViz.comm_manager.get_client_comm(\"hv-extension-comm\", \"hv-extension-comm\", function () {});\n  if (server_id !== null) {\n    comm.send({event_type: 'server_delete', 'id': server_id});\n    return;\n  } else if (comm !== null) {\n    comm.send({event_type: 'delete', 'id': id});\n  }\n  delete PyViz.plot_index[id];\n  if ((window.Bokeh !== undefined) & (id in window.Bokeh.index)) {\n    var doc = window.Bokeh.index[id].model.document\n    doc.clear();\n    const i = window.Bokeh.documents.indexOf(doc);\n    if (i > -1) {\n      window.Bokeh.documents.splice(i, 1);\n    }\n  }\n}\n\n/**\n * Handle kernel restart event\n */\nfunction handle_kernel_cleanup(event, handle) {\n  delete PyViz.comms[\"hv-extension-comm\"];\n  window.PyViz.plot_index = {}\n}\n\n/**\n * Handle update_display_data messages\n */\nfunction handle_update_output(event, handle) {\n  handle_clear_output(event, {cell: {output_area: handle.output_area}})\n  handle_add_output(event, handle)\n}\n\nfunction register_renderer(events, OutputArea) {\n  function append_mime(data, metadata, element) {\n    // create a DOM node to render to\n    var toinsert = this.create_output_subarea(\n    metadata,\n    CLASS_NAME,\n    EXEC_MIME_TYPE\n    );\n    this.keyboard_manager.register_events(toinsert);\n    // Render to node\n    var props = {data: data, metadata: metadata[EXEC_MIME_TYPE]};\n    render(props, toinsert[0]);\n    element.append(toinsert);\n    return toinsert\n  }\n\n  events.on('output_added.OutputArea', handle_add_output);\n  events.on('output_updated.OutputArea', handle_update_output);\n  events.on('clear_output.CodeCell', handle_clear_output);\n  events.on('delete.Cell', handle_clear_output);\n  events.on('kernel_ready.Kernel', handle_kernel_cleanup);\n\n  OutputArea.prototype.register_mime_type(EXEC_MIME_TYPE, append_mime, {\n    safe: true,\n    index: 0\n  });\n}\n\nif (window.Jupyter !== undefined) {\n  try {\n    var events = require('base/js/events');\n    var OutputArea = require('notebook/js/outputarea').OutputArea;\n    if (OutputArea.prototype.mime_types().indexOf(EXEC_MIME_TYPE) == -1) {\n      register_renderer(events, OutputArea);\n    }\n  } catch(err) {\n  }\n}\n"
     },
     "metadata": {},
     "output_type": "display_data"
    },
    {
     "data": {
      "text/html": [
       "<style>.bk-root, .bk-root .bk:before, .bk-root .bk:after {\n",
       "  font-family: var(--jp-ui-font-size1);\n",
       "  font-size: var(--jp-ui-font-size1);\n",
       "  color: var(--jp-ui-font-color1);\n",
       "}\n",
       "</style>"
      ]
     },
     "metadata": {},
     "output_type": "display_data"
    }
   ],
   "source": [
    "# Base imports\n",
    "import numpy as np\n",
    "import matplotlib.pyplot as plt\n",
    "from cml.plot import initialize_bokeh\n",
    "from cml.panel import initialize_panel\n",
    "from jupyterthemes.stylefx import set_nb_theme\n",
    "from bokeh.io import show\n",
    "initialize_bokeh()\n",
    "initialize_panel()\n",
    "set_nb_theme(\"onedork\")\n",
    "rng = np.random.RandomState(1)"
   ]
  },
  {
   "cell_type": "markdown",
   "metadata": {},
   "source": [
    "<a id=\"regression\"></a>\n",
    "## Simple learning problem\n",
    "\n",
    "Imagine that a certain process somewhere follows the form of a quadratic relationship\n",
    "\n",
    "$$\n",
    " y = a x^{2} + bx + c \n",
    "$$\n",
    "\n",
    "In this case, all the **unknown parameters** are that of a polynomial model, therefore we have $\\theta = \\{a, b, c\\}$. However, this is clearly an ideal (clean) case, whereas in natural observations, there might be some noise in our observations\n",
    "$$\n",
    " y = a x^{2} + bx + c +\\epsilon \\quad \\mbox{with} \\quad \\epsilon \\in [-0.1, 0.1]\n",
    "$$\n",
    "\n",
    "An example of such noisy observations for different parameters is given below"
   ]
  },
  {
   "cell_type": "code",
   "execution_count": 2,
   "metadata": {
    "tags": []
   },
   "outputs": [],
   "source": [
    "# Parameters to our function\n",
    "eps = 1\n",
    "a, b, c = 5, 2, 0\n",
    "# Generating the corresponding data\n",
    "x = np.linspace(0, 1, 100)\n",
    "poly = np.poly1d([a, b, c])\n",
    "epsilon = np.random.uniform(-eps, eps, x.shape)\n",
    "y = poly(x) + epsilon"
   ]
  },
  {
   "cell_type": "code",
   "execution_count": 3,
   "metadata": {
    "tags": []
   },
   "outputs": [
    {
     "data": {},
     "metadata": {},
     "output_type": "display_data"
    },
    {
     "data": {
      "application/vnd.holoviews_exec.v0+json": "",
      "text/html": [
       "<div id='1061'>\n",
       "  <div class=\"bk-root\" id=\"867922ee-cf26-4901-b73e-68bf857ef267\" data-root-id=\"1061\"></div>\n",
       "</div>\n",
       "<script type=\"application/javascript\">(function(root) {\n",
       "  function embed_document(root) {\n",
       "    var docs_json = {\"79ddbfb5-3ca0-409b-b4ea-5732235a14c7\":{\"defs\":[{\"extends\":null,\"module\":null,\"name\":\"ReactiveHTML1\",\"overrides\":[],\"properties\":[]},{\"extends\":null,\"module\":null,\"name\":\"FlexBox1\",\"overrides\":[],\"properties\":[{\"default\":\"flex-start\",\"kind\":null,\"name\":\"align_content\"},{\"default\":\"flex-start\",\"kind\":null,\"name\":\"align_items\"},{\"default\":\"row\",\"kind\":null,\"name\":\"flex_direction\"},{\"default\":\"wrap\",\"kind\":null,\"name\":\"flex_wrap\"},{\"default\":\"flex-start\",\"kind\":null,\"name\":\"justify_content\"}]},{\"extends\":null,\"module\":null,\"name\":\"GridStack1\",\"overrides\":[],\"properties\":[{\"default\":\"warn\",\"kind\":null,\"name\":\"mode\"},{\"default\":null,\"kind\":null,\"name\":\"ncols\"},{\"default\":null,\"kind\":null,\"name\":\"nrows\"},{\"default\":true,\"kind\":null,\"name\":\"allow_resize\"},{\"default\":true,\"kind\":null,\"name\":\"allow_drag\"},{\"default\":[],\"kind\":null,\"name\":\"state\"}]},{\"extends\":null,\"module\":null,\"name\":\"click1\",\"overrides\":[],\"properties\":[{\"default\":\"\",\"kind\":null,\"name\":\"terminal_output\"},{\"default\":\"\",\"kind\":null,\"name\":\"debug_name\"},{\"default\":0,\"kind\":null,\"name\":\"clears\"}]},{\"extends\":null,\"module\":null,\"name\":\"NotificationAreaBase1\",\"overrides\":[],\"properties\":[{\"default\":\"bottom-right\",\"kind\":null,\"name\":\"position\"},{\"default\":0,\"kind\":null,\"name\":\"_clear\"}]},{\"extends\":null,\"module\":null,\"name\":\"NotificationArea1\",\"overrides\":[],\"properties\":[{\"default\":[],\"kind\":null,\"name\":\"notifications\"},{\"default\":\"bottom-right\",\"kind\":null,\"name\":\"position\"},{\"default\":0,\"kind\":null,\"name\":\"_clear\"},{\"default\":[{\"background\":\"#ffc107\",\"icon\":{\"className\":\"fas fa-exclamation-triangle\",\"color\":\"white\",\"tagName\":\"i\"},\"type\":\"warning\"},{\"background\":\"#007bff\",\"icon\":{\"className\":\"fas fa-info-circle\",\"color\":\"white\",\"tagName\":\"i\"},\"type\":\"info\"}],\"kind\":null,\"name\":\"types\"}]},{\"extends\":null,\"module\":null,\"name\":\"Notification\",\"overrides\":[],\"properties\":[{\"default\":null,\"kind\":null,\"name\":\"background\"},{\"default\":3000,\"kind\":null,\"name\":\"duration\"},{\"default\":null,\"kind\":null,\"name\":\"icon\"},{\"default\":\"\",\"kind\":null,\"name\":\"message\"},{\"default\":null,\"kind\":null,\"name\":\"notification_type\"},{\"default\":false,\"kind\":null,\"name\":\"_destroyed\"}]},{\"extends\":null,\"module\":null,\"name\":\"TemplateActions1\",\"overrides\":[],\"properties\":[{\"default\":0,\"kind\":null,\"name\":\"open_modal\"},{\"default\":0,\"kind\":null,\"name\":\"close_modal\"}]},{\"extends\":null,\"module\":null,\"name\":\"MaterialTemplateActions1\",\"overrides\":[],\"properties\":[{\"default\":0,\"kind\":null,\"name\":\"open_modal\"},{\"default\":0,\"kind\":null,\"name\":\"close_modal\"}]}],\"roots\":{\"references\":[{\"attributes\":{\"bottom_units\":\"screen\",\"coordinates\":null,\"fill_alpha\":0.5,\"fill_color\":\"lightgrey\",\"group\":null,\"left_units\":\"screen\",\"level\":\"overlay\",\"line_alpha\":1.0,\"line_color\":\"black\",\"line_dash\":[4,4],\"line_width\":2,\"right_units\":\"screen\",\"syncable\":false,\"top_units\":\"screen\"},\"id\":\"1073\",\"type\":\"BoxAnnotation\"},{\"attributes\":{\"coordinates\":null,\"group\":null,\"text\":\"Simple quadratic problem\",\"text_color\":\"#E0E0E0\",\"text_font\":\"Josefin Sans\",\"text_font_size\":\"2.1em\"},\"id\":\"1004\",\"type\":\"Title\"},{\"attributes\":{},\"id\":\"1022\",\"type\":\"PanTool\"},{\"attributes\":{\"callback\":null,\"mode\":\"vline\",\"renderers\":[{\"id\":\"1041\"}],\"tooltips\":null},\"id\":\"1055\",\"type\":\"HoverTool\"},{\"attributes\":{\"background_fill_alpha\":0.9,\"background_fill_color\":\"#0f0f0f\",\"below\":[{\"id\":\"1014\"}],\"border_fill_alpha\":0.8,\"border_fill_color\":\"#111111\",\"center\":[{\"id\":\"1017\"},{\"id\":\"1021\"},{\"id\":\"1053\"}],\"height\":450,\"left\":[{\"id\":\"1018\"}],\"outline_line_alpha\":0.25,\"outline_line_color\":\"#E0E0E0\",\"outline_line_width\":3,\"renderers\":[{\"id\":\"1041\"}],\"title\":{\"id\":\"1004\"},\"toolbar\":{\"id\":\"1029\"},\"toolbar_location\":\"left\",\"x_range\":{\"id\":\"1006\"},\"x_scale\":{\"id\":\"1010\"},\"y_range\":{\"id\":\"1008\"},\"y_scale\":{\"id\":\"1012\"}},\"id\":\"1003\",\"subtype\":\"Figure\",\"type\":\"Plot\"},{\"attributes\":{},\"id\":\"1048\",\"type\":\"BasicTickFormatter\"},{\"attributes\":{},\"id\":\"1046\",\"type\":\"AllLabels\"},{\"attributes\":{\"reload\":false},\"id\":\"1153\",\"type\":\"panel.models.location.Location\"},{\"attributes\":{\"data\":{\"x\":{\"__ndarray__\":\"AAAAAAAAAABbv1Kg1q+EP1u/UqDWr5Q/CB988MEHnz9bv1Kg1q+kPzJvZ0jM26k/CB988MEHrz9wZ0jM2xmyP1u/UqDWr7Q/RhdddNFFtz8yb2dIzNu5Px3HcRzHcbw/CB988MEHvz96O0Ni3s7AP3BnSMzbGcI/ZZNNNtlkwz9bv1Kg1q/EP1HrVwrU+sU/RhdddNFFxz88Q2LezpDIPzJvZ0jM28k/J5tssskmyz8dx3Ecx3HMPxPzdobEvM0/CB988MEHzz9/pUCtXynQP3o7Q2LeztA/ddFFF1100T9wZ0jM2xnSP2r9SoFav9I/ZZNNNtlk0z9gKVDrVwrUP1u/UqDWr9Q/VlVVVVVV1T9R61cK1PrVP0yBWr9SoNY/RhdddNFF1z9BrV8pUOvXPzxDYt7OkNg/N9lkk0022T8yb2dIzNvZPy0Fav1Kgdo/J5tssskm2z8iMW9nSMzbPx3HcRzHcdw/GF100UUX3T8T83aGxLzdPw6JeTtDYt4/CB988MEH3z8DtX6lQK3fP3+lQK1fKeA/ffDBBx984D96O0Ni3s7gP3eGxLydIeE/ddFFF1104T9yHMdxHMfhP3BnSMzbGeI/bbLJJpts4j9q/UqBWr/iP2hIzNsZEuM/ZZNNNtlk4z9j3s6QmLfjP2ApUOtXCuQ/XnTRRRdd5D9bv1Kg1q/kP1gK1PqVAuU/VlVVVVVV5T9ToNavFKjlP1HrVwrU+uU/TjbZZJNN5j9MgVq/UqDmP0nM2xkS8+Y/RhdddNFF5z9EYt7OkJjnP0GtXylQ6+c/P/jggw8+6D88Q2LezpDoPzmO4ziO4+g/N9lkk0026T80JObtDInpPzJvZ0jM2+k/L7rooosu6j8tBWr9SoHqPypQ61cK1Oo/J5tssskm6z8l5u0MiXnrPyIxb2dIzOs/IHzwwQcf7D8dx3Ecx3HsPxsS83aGxOw/GF100UUX7T8VqPUrBWrtPxPzdobEvO0/ED744IMP7j8OiXk7Q2LuPwvU+pUCte4/CB988MEH7z8Gav1KgVrvPwO1fqVAre8/AAAAAAAA8D8=\",\"dtype\":\"float64\",\"order\":\"little\",\"shape\":[100]},\"y\":{\"__ndarray__\":\"dCoy3Mco2L9yaeBDE+fAv+ZYGg2s5Mq/hPmw7j0o7b8h8Y+1mdqyv7auF9WMoLQ/lisHp7wq2L/6wtCkFL/mv2Z7sZo57tc/0P0mjDWs8j+KBMtO7PPvP9tXdQPSH9y/ocn4FZ5d2j9Q6BzHoam8P8rZ+H6gwvA/ivnZ8ueIwj8rwy/cgmXXP4bLS9bWQPU/pJNWlHBd+D8TDvDKxBPzP1VRfAzAx+0/YG49Co7V8T9OTf9RnRHZP/C6QagZNMI/bUEjtk6D+T9niN74bHDiPxO8a4v9/uk/j6jNYdfh6D8LbhChyRn4Pwi2+Cbmtfs/V7exBXX38T/V3UISGqf0P/Ooa71D/PE/JnrRQ/Sx8j/aBoIVx5ABQPJDVVcV+Oo/nndDJFbiAED7BqsgXTfxP0+oe7Utnvc/jM9q3XkTBEA9P2uzsof5P9ZiyfWxB+o/CvuSvlC5A0Aio+4arBvyPyY1eV4smgBAzCcDQDwFB0A+X9VjSmn3PzVtQe/kIvs/3B0UOuwnAECeUL5TpO74P4Q1zPR4ewJA5C1DjOW4+D9EZAcWLWQLQOwwJRkkOQtA2GFcsNDPCkBshuch4I0BQKvoyDhC2wdA/UXQ9LrMBUCqxBq78uAIQCqWBWGY0wFAVpUQuF8QB0CEGtynBLUBQON4AXUEMg1APqQbCLFUCEAgyIOzFWALQGLDmBVkRAxAxSskXNxWDEBJt+oDXa8LQGxi+Bf4pRBA3ZVgnJvoD0ChQQBuILELQBAxhHd3cAtAAzl1dTW2DkDl5A6FIHIKQJfQym9cWxBAPHx2HZISFUCAHY6OD7MNQOloBNKtpxVA6No3pnljEUB8U1DW1oIUQHlKpjN4kBRAvX+rIl/qFUDu7b01e5YWQLr+mnf72RZAbcSt731QFEDuPibduJcTQHSq+DfHChNAuSoaVeXFFEA5RjsHAqYTQMuuKH0UkhZAomzTAwJyFkCU8jSYc5wWQJga65CTkRVA+G7bARx0GkDxcuvDSv0bQBTUomgT2hxALq4b61FSHkCyFZdtREIcQAtHumpBohpAtFK/SH0wHUA=\",\"dtype\":\"float64\",\"order\":\"little\",\"shape\":[100]}},\"selected\":{\"id\":\"1051\"},\"selection_policy\":{\"id\":\"1050\"}},\"id\":\"1036\",\"type\":\"ColumnDataSource\"},{\"attributes\":{},\"id\":\"1045\",\"type\":\"BasicTickFormatter\"},{\"attributes\":{},\"id\":\"1023\",\"type\":\"WheelZoomTool\"},{\"attributes\":{\"bottom_units\":\"screen\",\"coordinates\":null,\"fill_alpha\":0.5,\"fill_color\":\"lightgrey\",\"group\":null,\"left_units\":\"screen\",\"level\":\"overlay\",\"line_alpha\":1.0,\"line_color\":\"black\",\"line_dash\":[4,4],\"line_width\":2,\"right_units\":\"screen\",\"syncable\":false,\"top_units\":\"screen\"},\"id\":\"1028\",\"type\":\"BoxAnnotation\"},{\"attributes\":{\"background_fill_alpha\":0.25,\"background_fill_color\":\"#505050\",\"border_line_alpha\":0.25,\"coordinates\":null,\"group\":null,\"items\":[{\"id\":\"1054\"}],\"label_standoff\":8,\"label_text_color\":\"#E0E0E0\",\"label_text_font\":\"Josefin Sans\",\"label_text_font_size\":\"1.15em\",\"spacing\":8},\"id\":\"1053\",\"type\":\"Legend\"},{\"attributes\":{},\"id\":\"1015\",\"type\":\"BasicTicker\"},{\"attributes\":{\"tools\":[{\"id\":\"1022\"},{\"id\":\"1023\"},{\"id\":\"1024\"},{\"id\":\"1025\"},{\"id\":\"1026\"},{\"id\":\"1027\"},{\"id\":\"1055\"},{\"id\":\"1059\"}]},\"id\":\"1029\",\"type\":\"Toolbar\"},{\"attributes\":{\"axis\":{\"id\":\"1014\"},\"coordinates\":null,\"grid_line_alpha\":0.15,\"grid_line_color\":\"#E0E0E0\",\"group\":null,\"ticker\":null},\"id\":\"1017\",\"type\":\"Grid\"},{\"attributes\":{\"mode\":\"append\",\"overlay\":{\"id\":\"1073\"},\"renderers\":[{\"id\":\"1041\"}]},\"id\":\"1059\",\"type\":\"BoxSelectTool\"},{\"attributes\":{\"source\":{\"id\":\"1036\"}},\"id\":\"1042\",\"type\":\"CDSView\"},{\"attributes\":{},\"id\":\"1051\",\"type\":\"Selection\"},{\"attributes\":{\"fill_alpha\":{\"value\":0.5},\"fill_color\":{\"value\":\"red\"},\"hatch_alpha\":{\"value\":0.5},\"line_alpha\":{\"value\":0.5},\"line_color\":{\"value\":\"white\"},\"size\":{\"value\":10},\"x\":{\"field\":\"x\"},\"y\":{\"field\":\"y\"}},\"id\":\"1039\",\"type\":\"Circle\"},{\"attributes\":{\"label\":{\"value\":\"Observations\"},\"renderers\":[{\"id\":\"1041\"}]},\"id\":\"1054\",\"type\":\"LegendItem\"},{\"attributes\":{},\"id\":\"1025\",\"type\":\"SaveTool\"},{\"attributes\":{\"children\":[{\"id\":\"1062\"},{\"id\":\"1003\"},{\"id\":\"1085\"}],\"margin\":[0,0,0,0],\"name\":\"Row00105\"},\"id\":\"1061\",\"type\":\"Row\"},{\"attributes\":{\"margin\":[5,5,5,5],\"name\":\"HSpacer00102\",\"sizing_mode\":\"stretch_width\"},\"id\":\"1085\",\"type\":\"Spacer\"},{\"attributes\":{\"fill_alpha\":{\"value\":0.25},\"fill_color\":{\"value\":\"midnightblue\"},\"hatch_alpha\":{\"value\":0.25},\"line_alpha\":{\"value\":0.25},\"line_color\":{\"value\":\"white\"},\"size\":{\"value\":10},\"x\":{\"field\":\"x\"},\"y\":{\"field\":\"y\"}},\"id\":\"1037\",\"type\":\"Circle\"},{\"attributes\":{},\"id\":\"1050\",\"type\":\"UnionRenderers\"},{\"attributes\":{\"margin\":[5,5,5,5],\"name\":\"HSpacer00101\",\"sizing_mode\":\"stretch_width\"},\"id\":\"1062\",\"type\":\"Spacer\"},{\"attributes\":{},\"id\":\"1027\",\"type\":\"HelpTool\"},{\"attributes\":{\"client_comm_id\":\"3aa3cdbeaaf543a59fc718d572882501\",\"comm_id\":\"72fcdb2d6e66474486a557d7dc71d28c\",\"plot_id\":\"1061\"},\"id\":\"1119\",\"type\":\"panel.models.comm_manager.CommManager\"},{\"attributes\":{\"axis_label\":\"x\",\"axis_label_standoff\":10,\"axis_label_text_color\":\"#FFFFFF\",\"axis_label_text_font\":\"Josefin Sans\",\"axis_label_text_font_size\":\"1.9em\",\"axis_label_text_font_style\":\"bold\",\"axis_line_alpha\":0.4,\"axis_line_color\":\"#E0E0E0\",\"coordinates\":null,\"formatter\":{\"id\":\"1048\"},\"group\":null,\"major_label_policy\":{\"id\":\"1049\"},\"major_label_text_color\":\"#E0E0E0\",\"major_label_text_font\":\"Josefin Sans\",\"major_label_text_font_size\":\"1.15em\",\"major_tick_line_alpha\":0.4,\"major_tick_line_color\":\"#E0E0E0\",\"minor_tick_line_alpha\":0.4,\"minor_tick_line_color\":\"#E0E0E0\",\"ticker\":{\"id\":\"1015\"}},\"id\":\"1014\",\"type\":\"LinearAxis\"},{\"attributes\":{\"fill_alpha\":{\"value\":0.8},\"fill_color\":{\"value\":\"red\"},\"line_color\":{\"value\":\"white\"}},\"id\":\"1057\",\"type\":\"Circle\"},{\"attributes\":{\"axis\":{\"id\":\"1018\"},\"coordinates\":null,\"dimension\":1,\"grid_line_alpha\":0.15,\"grid_line_color\":\"#E0E0E0\",\"group\":null,\"ticker\":null},\"id\":\"1021\",\"type\":\"Grid\"},{\"attributes\":{\"coordinates\":null,\"data_source\":{\"id\":\"1036\"},\"glyph\":{\"id\":\"1037\"},\"group\":null,\"hover_glyph\":{\"id\":\"1039\"},\"muted_glyph\":{\"id\":\"1040\"},\"nonselection_glyph\":{\"id\":\"1058\"},\"selection_glyph\":{\"id\":\"1057\"},\"view\":{\"id\":\"1042\"}},\"id\":\"1041\",\"type\":\"GlyphRenderer\"},{\"attributes\":{\"fill_alpha\":{\"value\":0.5},\"fill_color\":{\"value\":\"midnightblue\"},\"line_color\":{\"value\":\"white\"}},\"id\":\"1058\",\"type\":\"Circle\"},{\"attributes\":{},\"id\":\"1026\",\"type\":\"ResetTool\"},{\"attributes\":{\"overlay\":{\"id\":\"1028\"}},\"id\":\"1024\",\"type\":\"BoxZoomTool\"},{\"attributes\":{},\"id\":\"1008\",\"type\":\"DataRange1d\"},{\"attributes\":{\"axis_label\":\"y\",\"axis_label_standoff\":10,\"axis_label_text_color\":\"#FFFFFF\",\"axis_label_text_font\":\"Josefin Sans\",\"axis_label_text_font_size\":\"1.9em\",\"axis_label_text_font_style\":\"bold\",\"axis_line_alpha\":0.4,\"axis_line_color\":\"#E0E0E0\",\"coordinates\":null,\"formatter\":{\"id\":\"1045\"},\"group\":null,\"major_label_policy\":{\"id\":\"1046\"},\"major_label_text_color\":\"#E0E0E0\",\"major_label_text_font\":\"Josefin Sans\",\"major_label_text_font_size\":\"1.15em\",\"major_tick_line_alpha\":0.4,\"major_tick_line_color\":\"#E0E0E0\",\"minor_tick_line_alpha\":0.4,\"minor_tick_line_color\":\"#E0E0E0\",\"ticker\":{\"id\":\"1019\"}},\"id\":\"1018\",\"type\":\"LinearAxis\"},{\"attributes\":{},\"id\":\"1049\",\"type\":\"AllLabels\"},{\"attributes\":{\"fill_alpha\":{\"value\":0.2},\"fill_color\":{\"value\":\"midnightblue\"},\"hatch_alpha\":{\"value\":0.2},\"line_alpha\":{\"value\":0.2},\"line_color\":{\"value\":\"white\"},\"size\":{\"value\":10},\"x\":{\"field\":\"x\"},\"y\":{\"field\":\"y\"}},\"id\":\"1040\",\"type\":\"Circle\"},{\"attributes\":{},\"id\":\"1019\",\"type\":\"BasicTicker\"},{\"attributes\":{},\"id\":\"1006\",\"type\":\"DataRange1d\"},{\"attributes\":{},\"id\":\"1012\",\"type\":\"LinearScale\"},{\"attributes\":{},\"id\":\"1010\",\"type\":\"LinearScale\"}],\"root_ids\":[\"1061\",\"1119\",\"1153\"]},\"title\":\"Bokeh Application\",\"version\":\"2.4.3\"}};\n",
       "    var render_items = [{\"docid\":\"79ddbfb5-3ca0-409b-b4ea-5732235a14c7\",\"root_ids\":[\"1061\"],\"roots\":{\"1061\":\"867922ee-cf26-4901-b73e-68bf857ef267\"}}];\n",
       "    root.Bokeh.embed.embed_items_notebook(docs_json, render_items);\n",
       "    for (const render_item of render_items) {\n",
       "      for (const root_id of render_item.root_ids) {\n",
       "\tconst id_el = document.getElementById(root_id)\n",
       "\tif (id_el.children.length && (id_el.children[0].className === 'bk-root')) {\n",
       "\t  const root_el = id_el.children[0]\n",
       "\t  root_el.id = root_el.id + '-rendered'\n",
       "\t}\n",
       "      }\n",
       "    }\n",
       "  }\n",
       "  if (root.Bokeh !== undefined && root.Bokeh.Panel !== undefined) {\n",
       "    embed_document(root);\n",
       "  } else {\n",
       "    var attempts = 0;\n",
       "    var timer = setInterval(function(root) {\n",
       "      if (root.Bokeh !== undefined && root.Bokeh.Panel !== undefined) {\n",
       "        clearInterval(timer);\n",
       "        embed_document(root);\n",
       "      } else if (document.readyState == \"complete\") {\n",
       "        attempts++;\n",
       "        if (attempts > 200) {\n",
       "          clearInterval(timer);\n",
       "          console.log(\"Bokeh: ERROR: Unable to run BokehJS code because BokehJS library is missing\");\n",
       "        }\n",
       "      }\n",
       "    }, 25, root)\n",
       "  }\n",
       "})(window);</script>"
      ],
      "text/plain": [
       "Row\n",
       "    [0] HSpacer()\n",
       "    [1] Bokeh(Figure)\n",
       "    [2] HSpacer()"
      ]
     },
     "execution_count": 3,
     "metadata": {
      "application/vnd.holoviews_exec.v0+json": {
       "id": "1061"
      }
     },
     "output_type": "execute_result"
    }
   ],
   "source": [
    "from cml.plot import center_plot, scatter\n",
    "plot = (center_plot(scatter(x, y, title=\"Simple quadratic problem\", toolbar_location=\"left\")))\n",
    "plot"
   ]
  },
  {
   "cell_type": "markdown",
   "metadata": {},
   "source": [
    "Now our main problem is that this function can follow different types of parameters"
   ]
  },
  {
   "cell_type": "code",
   "execution_count": 4,
   "metadata": {
    "tags": []
   },
   "outputs": [],
   "source": [
    "params = [[5, -5, 4], [-2, 1, 0], [0.1, 1, 1]]\n",
    "# Generating the x axis\n",
    "x = np.linspace(0, 1, 100)\n",
    "plots = []\n",
    "for p in range(len(params)):\n",
    "    poly = np.poly1d(params[p])\n",
    "    epsilon = np.random.uniform(-eps, eps, x.shape)\n",
    "    y = poly(x) + epsilon\n",
    "    plots.append(scatter(x, y, title=\"Problem \"+(str(p+1))))"
   ]
  },
  {
   "cell_type": "code",
   "execution_count": 5,
   "metadata": {
    "tags": []
   },
   "outputs": [
    {
     "data": {},
     "metadata": {},
     "output_type": "display_data"
    },
    {
     "data": {
      "application/vnd.holoviews_exec.v0+json": "",
      "text/html": [
       "<div id='1364'>\n",
       "  <div class=\"bk-root\" id=\"34f1c619-71b7-4f5e-9daf-74abb1ec73c4\" data-root-id=\"1364\"></div>\n",
       "</div>\n",
       "<script type=\"application/javascript\">(function(root) {\n",
       "  function embed_document(root) {\n",
       "    var docs_json = {\"c31e3850-e233-48fd-9814-c88f2e614918\":{\"defs\":[{\"extends\":null,\"module\":null,\"name\":\"ReactiveHTML1\",\"overrides\":[],\"properties\":[]},{\"extends\":null,\"module\":null,\"name\":\"FlexBox1\",\"overrides\":[],\"properties\":[{\"default\":\"flex-start\",\"kind\":null,\"name\":\"align_content\"},{\"default\":\"flex-start\",\"kind\":null,\"name\":\"align_items\"},{\"default\":\"row\",\"kind\":null,\"name\":\"flex_direction\"},{\"default\":\"wrap\",\"kind\":null,\"name\":\"flex_wrap\"},{\"default\":\"flex-start\",\"kind\":null,\"name\":\"justify_content\"}]},{\"extends\":null,\"module\":null,\"name\":\"GridStack1\",\"overrides\":[],\"properties\":[{\"default\":\"warn\",\"kind\":null,\"name\":\"mode\"},{\"default\":null,\"kind\":null,\"name\":\"ncols\"},{\"default\":null,\"kind\":null,\"name\":\"nrows\"},{\"default\":true,\"kind\":null,\"name\":\"allow_resize\"},{\"default\":true,\"kind\":null,\"name\":\"allow_drag\"},{\"default\":[],\"kind\":null,\"name\":\"state\"}]},{\"extends\":null,\"module\":null,\"name\":\"click1\",\"overrides\":[],\"properties\":[{\"default\":\"\",\"kind\":null,\"name\":\"terminal_output\"},{\"default\":\"\",\"kind\":null,\"name\":\"debug_name\"},{\"default\":0,\"kind\":null,\"name\":\"clears\"}]},{\"extends\":null,\"module\":null,\"name\":\"NotificationAreaBase1\",\"overrides\":[],\"properties\":[{\"default\":\"bottom-right\",\"kind\":null,\"name\":\"position\"},{\"default\":0,\"kind\":null,\"name\":\"_clear\"}]},{\"extends\":null,\"module\":null,\"name\":\"NotificationArea1\",\"overrides\":[],\"properties\":[{\"default\":[],\"kind\":null,\"name\":\"notifications\"},{\"default\":\"bottom-right\",\"kind\":null,\"name\":\"position\"},{\"default\":0,\"kind\":null,\"name\":\"_clear\"},{\"default\":[{\"background\":\"#ffc107\",\"icon\":{\"className\":\"fas fa-exclamation-triangle\",\"color\":\"white\",\"tagName\":\"i\"},\"type\":\"warning\"},{\"background\":\"#007bff\",\"icon\":{\"className\":\"fas fa-info-circle\",\"color\":\"white\",\"tagName\":\"i\"},\"type\":\"info\"}],\"kind\":null,\"name\":\"types\"}]},{\"extends\":null,\"module\":null,\"name\":\"Notification\",\"overrides\":[],\"properties\":[{\"default\":null,\"kind\":null,\"name\":\"background\"},{\"default\":3000,\"kind\":null,\"name\":\"duration\"},{\"default\":null,\"kind\":null,\"name\":\"icon\"},{\"default\":\"\",\"kind\":null,\"name\":\"message\"},{\"default\":null,\"kind\":null,\"name\":\"notification_type\"},{\"default\":false,\"kind\":null,\"name\":\"_destroyed\"}]},{\"extends\":null,\"module\":null,\"name\":\"TemplateActions1\",\"overrides\":[],\"properties\":[{\"default\":0,\"kind\":null,\"name\":\"open_modal\"},{\"default\":0,\"kind\":null,\"name\":\"close_modal\"}]},{\"extends\":null,\"module\":null,\"name\":\"MaterialTemplateActions1\",\"overrides\":[],\"properties\":[{\"default\":0,\"kind\":null,\"name\":\"open_modal\"},{\"default\":0,\"kind\":null,\"name\":\"close_modal\"}]}],\"roots\":{\"references\":[{\"attributes\":{},\"id\":\"1306\",\"type\":\"DataRange1d\"},{\"attributes\":{\"mode\":\"append\",\"overlay\":{\"id\":\"1394\"},\"renderers\":[{\"id\":\"1283\"}]},\"id\":\"1301\",\"type\":\"BoxSelectTool\"},{\"attributes\":{},\"id\":\"1348\",\"type\":\"BasicTickFormatter\"},{\"attributes\":{\"style\":{\"font-size\":\"250%\"},\"text\":\"Observing different problems\"},\"id\":\"1361\",\"type\":\"Div\"},{\"attributes\":{\"fill_alpha\":{\"value\":0.8},\"fill_color\":{\"value\":\"red\"},\"line_color\":{\"value\":\"white\"}},\"id\":\"1241\",\"type\":\"Circle\"},{\"attributes\":{\"callback\":null,\"mode\":\"vline\",\"renderers\":[{\"id\":\"1283\"}],\"tooltips\":null},\"id\":\"1297\",\"type\":\"HoverTool\"},{\"attributes\":{},\"id\":\"1349\",\"type\":\"AllLabels\"},{\"attributes\":{},\"id\":\"1310\",\"type\":\"LinearScale\"},{\"attributes\":{\"mode\":\"append\",\"overlay\":{\"id\":\"1390\"},\"renderers\":[{\"id\":\"1225\"}]},\"id\":\"1243\",\"type\":\"BoxSelectTool\"},{\"attributes\":{},\"id\":\"1308\",\"type\":\"DataRange1d\"},{\"attributes\":{\"fill_alpha\":{\"value\":0.5},\"fill_color\":{\"value\":\"midnightblue\"},\"line_color\":{\"value\":\"white\"}},\"id\":\"1300\",\"type\":\"Circle\"},{\"attributes\":{\"axis_label\":\"x\",\"axis_label_standoff\":10,\"axis_label_text_color\":\"#FFFFFF\",\"axis_label_text_font\":\"Josefin Sans\",\"axis_label_text_font_size\":\"1.9em\",\"axis_label_text_font_style\":\"bold\",\"axis_line_alpha\":0.4,\"axis_line_color\":\"#E0E0E0\",\"coordinates\":null,\"formatter\":{\"id\":\"1232\"},\"group\":null,\"major_label_policy\":{\"id\":\"1233\"},\"major_label_text_color\":\"#E0E0E0\",\"major_label_text_font\":\"Josefin Sans\",\"major_label_text_font_size\":\"1.15em\",\"major_tick_line_alpha\":0.4,\"major_tick_line_color\":\"#E0E0E0\",\"minor_tick_line_alpha\":0.4,\"minor_tick_line_color\":\"#E0E0E0\",\"ticker\":{\"id\":\"1199\"}},\"id\":\"1198\",\"type\":\"LinearAxis\"},{\"attributes\":{\"callback\":null,\"mode\":\"vline\",\"renderers\":[{\"id\":\"1225\"}],\"tooltips\":null},\"id\":\"1239\",\"type\":\"HoverTool\"},{\"attributes\":{\"axis_label\":\"x\",\"axis_label_standoff\":10,\"axis_label_text_color\":\"#FFFFFF\",\"axis_label_text_font\":\"Josefin Sans\",\"axis_label_text_font_size\":\"1.9em\",\"axis_label_text_font_style\":\"bold\",\"axis_line_alpha\":0.4,\"axis_line_color\":\"#E0E0E0\",\"coordinates\":null,\"formatter\":{\"id\":\"1290\"},\"group\":null,\"major_label_policy\":{\"id\":\"1291\"},\"major_label_text_color\":\"#E0E0E0\",\"major_label_text_font\":\"Josefin Sans\",\"major_label_text_font_size\":\"1.15em\",\"major_tick_line_alpha\":0.4,\"major_tick_line_color\":\"#E0E0E0\",\"minor_tick_line_alpha\":0.4,\"minor_tick_line_color\":\"#E0E0E0\",\"ticker\":{\"id\":\"1257\"}},\"id\":\"1256\",\"type\":\"LinearAxis\"},{\"attributes\":{\"coordinates\":null,\"group\":null,\"text\":\"Problem 1\",\"text_color\":\"#E0E0E0\",\"text_font\":\"Josefin Sans\",\"text_font_size\":\"2.1em\"},\"id\":\"1188\",\"type\":\"Title\"},{\"attributes\":{\"background_fill_alpha\":0.9,\"background_fill_color\":\"#0f0f0f\",\"below\":[{\"id\":\"1256\"}],\"border_fill_alpha\":0.8,\"border_fill_color\":\"#111111\",\"center\":[{\"id\":\"1259\"},{\"id\":\"1263\"},{\"id\":\"1295\"}],\"height\":450,\"left\":[{\"id\":\"1260\"}],\"outline_line_alpha\":0.25,\"outline_line_color\":\"#E0E0E0\",\"outline_line_width\":3,\"renderers\":[{\"id\":\"1283\"}],\"title\":{\"id\":\"1246\"},\"toolbar\":{\"id\":\"1271\"},\"toolbar_location\":null,\"x_range\":{\"id\":\"1248\"},\"x_scale\":{\"id\":\"1252\"},\"y_range\":{\"id\":\"1250\"},\"y_scale\":{\"id\":\"1254\"}},\"id\":\"1245\",\"subtype\":\"Figure\",\"type\":\"Plot\"},{\"attributes\":{\"background_fill_alpha\":0.9,\"background_fill_color\":\"#0f0f0f\",\"below\":[{\"id\":\"1314\"}],\"border_fill_alpha\":0.8,\"border_fill_color\":\"#111111\",\"center\":[{\"id\":\"1317\"},{\"id\":\"1321\"},{\"id\":\"1353\"}],\"height\":450,\"left\":[{\"id\":\"1318\"}],\"outline_line_alpha\":0.25,\"outline_line_color\":\"#E0E0E0\",\"outline_line_width\":3,\"renderers\":[{\"id\":\"1341\"}],\"title\":{\"id\":\"1304\"},\"toolbar\":{\"id\":\"1329\"},\"toolbar_location\":null,\"x_range\":{\"id\":\"1306\"},\"x_scale\":{\"id\":\"1310\"},\"y_range\":{\"id\":\"1308\"},\"y_scale\":{\"id\":\"1312\"}},\"id\":\"1303\",\"subtype\":\"Figure\",\"type\":\"Plot\"},{\"attributes\":{},\"id\":\"1199\",\"type\":\"BasicTicker\"},{\"attributes\":{\"fill_alpha\":{\"value\":0.5},\"fill_color\":{\"value\":\"red\"},\"hatch_alpha\":{\"value\":0.5},\"line_alpha\":{\"value\":0.5},\"line_color\":{\"value\":\"white\"},\"size\":{\"value\":10},\"x\":{\"field\":\"x\"},\"y\":{\"field\":\"y\"}},\"id\":\"1339\",\"type\":\"Circle\"},{\"attributes\":{},\"id\":\"1322\",\"type\":\"PanTool\"},{\"attributes\":{\"axis_label\":\"y\",\"axis_label_standoff\":10,\"axis_label_text_color\":\"#FFFFFF\",\"axis_label_text_font\":\"Josefin Sans\",\"axis_label_text_font_size\":\"1.9em\",\"axis_label_text_font_style\":\"bold\",\"axis_line_alpha\":0.4,\"axis_line_color\":\"#E0E0E0\",\"coordinates\":null,\"formatter\":{\"id\":\"1229\"},\"group\":null,\"major_label_policy\":{\"id\":\"1230\"},\"major_label_text_color\":\"#E0E0E0\",\"major_label_text_font\":\"Josefin Sans\",\"major_label_text_font_size\":\"1.15em\",\"major_tick_line_alpha\":0.4,\"major_tick_line_color\":\"#E0E0E0\",\"minor_tick_line_alpha\":0.4,\"minor_tick_line_color\":\"#E0E0E0\",\"ticker\":{\"id\":\"1203\"}},\"id\":\"1202\",\"type\":\"LinearAxis\"},{\"attributes\":{},\"id\":\"1319\",\"type\":\"BasicTicker\"},{\"attributes\":{},\"id\":\"1229\",\"type\":\"BasicTickFormatter\"},{\"attributes\":{\"fill_alpha\":{\"value\":0.5},\"fill_color\":{\"value\":\"midnightblue\"},\"line_color\":{\"value\":\"white\"}},\"id\":\"1242\",\"type\":\"Circle\"},{\"attributes\":{\"margin\":[5,5,5,5],\"name\":\"HSpacer00109\",\"sizing_mode\":\"stretch_width\"},\"id\":\"1365\",\"type\":\"Spacer\"},{\"attributes\":{\"background_fill_alpha\":0.25,\"background_fill_color\":\"#505050\",\"border_line_alpha\":0.25,\"coordinates\":null,\"group\":null,\"items\":[{\"id\":\"1354\"}],\"label_standoff\":8,\"label_text_color\":\"#E0E0E0\",\"label_text_font\":\"Josefin Sans\",\"label_text_font_size\":\"1.15em\",\"spacing\":8},\"id\":\"1353\",\"type\":\"Legend\"},{\"attributes\":{},\"id\":\"1210\",\"type\":\"ResetTool\"},{\"attributes\":{},\"id\":\"1326\",\"type\":\"ResetTool\"},{\"attributes\":{},\"id\":\"1209\",\"type\":\"SaveTool\"},{\"attributes\":{},\"id\":\"1293\",\"type\":\"Selection\"},{\"attributes\":{},\"id\":\"1230\",\"type\":\"AllLabels\"},{\"attributes\":{},\"id\":\"1315\",\"type\":\"BasicTicker\"},{\"attributes\":{},\"id\":\"1248\",\"type\":\"DataRange1d\"},{\"attributes\":{},\"id\":\"1350\",\"type\":\"UnionRenderers\"},{\"attributes\":{\"coordinates\":null,\"group\":null,\"text\":\"Problem 3\",\"text_color\":\"#E0E0E0\",\"text_font\":\"Josefin Sans\",\"text_font_size\":\"2.1em\"},\"id\":\"1304\",\"type\":\"Title\"},{\"attributes\":{},\"id\":\"1250\",\"type\":\"DataRange1d\"},{\"attributes\":{\"coordinates\":null,\"data_source\":{\"id\":\"1220\"},\"glyph\":{\"id\":\"1221\"},\"group\":null,\"hover_glyph\":{\"id\":\"1223\"},\"muted_glyph\":{\"id\":\"1224\"},\"nonselection_glyph\":{\"id\":\"1242\"},\"selection_glyph\":{\"id\":\"1241\"},\"view\":{\"id\":\"1226\"}},\"id\":\"1225\",\"type\":\"GlyphRenderer\"},{\"attributes\":{\"axis_label\":\"x\",\"axis_label_standoff\":10,\"axis_label_text_color\":\"#FFFFFF\",\"axis_label_text_font\":\"Josefin Sans\",\"axis_label_text_font_size\":\"1.9em\",\"axis_label_text_font_style\":\"bold\",\"axis_line_alpha\":0.4,\"axis_line_color\":\"#E0E0E0\",\"coordinates\":null,\"formatter\":{\"id\":\"1348\"},\"group\":null,\"major_label_policy\":{\"id\":\"1349\"},\"major_label_text_color\":\"#E0E0E0\",\"major_label_text_font\":\"Josefin Sans\",\"major_label_text_font_size\":\"1.15em\",\"major_tick_line_alpha\":0.4,\"major_tick_line_color\":\"#E0E0E0\",\"minor_tick_line_alpha\":0.4,\"minor_tick_line_color\":\"#E0E0E0\",\"ticker\":{\"id\":\"1315\"}},\"id\":\"1314\",\"type\":\"LinearAxis\"},{\"attributes\":{\"bottom_units\":\"screen\",\"coordinates\":null,\"fill_alpha\":0.5,\"fill_color\":\"lightgrey\",\"group\":null,\"left_units\":\"screen\",\"level\":\"overlay\",\"line_alpha\":1.0,\"line_color\":\"black\",\"line_dash\":[4,4],\"line_width\":2,\"right_units\":\"screen\",\"syncable\":false,\"top_units\":\"screen\"},\"id\":\"1390\",\"type\":\"BoxAnnotation\"},{\"attributes\":{},\"id\":\"1232\",\"type\":\"BasicTickFormatter\"},{\"attributes\":{},\"id\":\"1252\",\"type\":\"LinearScale\"},{\"attributes\":{},\"id\":\"1325\",\"type\":\"SaveTool\"},{\"attributes\":{},\"id\":\"1351\",\"type\":\"Selection\"},{\"attributes\":{},\"id\":\"1264\",\"type\":\"PanTool\"},{\"attributes\":{},\"id\":\"1312\",\"type\":\"LinearScale\"},{\"attributes\":{\"axis\":{\"id\":\"1260\"},\"coordinates\":null,\"dimension\":1,\"grid_line_alpha\":0.15,\"grid_line_color\":\"#E0E0E0\",\"group\":null,\"ticker\":null},\"id\":\"1263\",\"type\":\"Grid\"},{\"attributes\":{\"overlay\":{\"id\":\"1328\"}},\"id\":\"1324\",\"type\":\"BoxZoomTool\"},{\"attributes\":{},\"id\":\"1268\",\"type\":\"ResetTool\"},{\"attributes\":{},\"id\":\"1233\",\"type\":\"AllLabels\"},{\"attributes\":{},\"id\":\"1292\",\"type\":\"UnionRenderers\"},{\"attributes\":{},\"id\":\"1269\",\"type\":\"HelpTool\"},{\"attributes\":{\"tools\":[{\"id\":\"1206\"},{\"id\":\"1207\"},{\"id\":\"1208\"},{\"id\":\"1209\"},{\"id\":\"1210\"},{\"id\":\"1211\"},{\"id\":\"1239\"},{\"id\":\"1243\"}]},\"id\":\"1213\",\"type\":\"Toolbar\"},{\"attributes\":{\"coordinates\":null,\"group\":null,\"text\":\"Problem 2\",\"text_color\":\"#E0E0E0\",\"text_font\":\"Josefin Sans\",\"text_font_size\":\"2.1em\"},\"id\":\"1246\",\"type\":\"Title\"},{\"attributes\":{},\"id\":\"1267\",\"type\":\"SaveTool\"},{\"attributes\":{\"bottom_units\":\"screen\",\"coordinates\":null,\"fill_alpha\":0.5,\"fill_color\":\"lightgrey\",\"group\":null,\"left_units\":\"screen\",\"level\":\"overlay\",\"line_alpha\":1.0,\"line_color\":\"black\",\"line_dash\":[4,4],\"line_width\":2,\"right_units\":\"screen\",\"syncable\":false,\"top_units\":\"screen\"},\"id\":\"1328\",\"type\":\"BoxAnnotation\"},{\"attributes\":{},\"id\":\"1323\",\"type\":\"WheelZoomTool\"},{\"attributes\":{},\"id\":\"1254\",\"type\":\"LinearScale\"},{\"attributes\":{\"overlay\":{\"id\":\"1270\"}},\"id\":\"1266\",\"type\":\"BoxZoomTool\"},{\"attributes\":{\"data\":{\"x\":{\"__ndarray__\":\"AAAAAAAAAABbv1Kg1q+EP1u/UqDWr5Q/CB988MEHnz9bv1Kg1q+kPzJvZ0jM26k/CB988MEHrz9wZ0jM2xmyP1u/UqDWr7Q/RhdddNFFtz8yb2dIzNu5Px3HcRzHcbw/CB988MEHvz96O0Ni3s7AP3BnSMzbGcI/ZZNNNtlkwz9bv1Kg1q/EP1HrVwrU+sU/RhdddNFFxz88Q2LezpDIPzJvZ0jM28k/J5tssskmyz8dx3Ecx3HMPxPzdobEvM0/CB988MEHzz9/pUCtXynQP3o7Q2LeztA/ddFFF1100T9wZ0jM2xnSP2r9SoFav9I/ZZNNNtlk0z9gKVDrVwrUP1u/UqDWr9Q/VlVVVVVV1T9R61cK1PrVP0yBWr9SoNY/RhdddNFF1z9BrV8pUOvXPzxDYt7OkNg/N9lkk0022T8yb2dIzNvZPy0Fav1Kgdo/J5tssskm2z8iMW9nSMzbPx3HcRzHcdw/GF100UUX3T8T83aGxLzdPw6JeTtDYt4/CB988MEH3z8DtX6lQK3fP3+lQK1fKeA/ffDBBx984D96O0Ni3s7gP3eGxLydIeE/ddFFF1104T9yHMdxHMfhP3BnSMzbGeI/bbLJJpts4j9q/UqBWr/iP2hIzNsZEuM/ZZNNNtlk4z9j3s6QmLfjP2ApUOtXCuQ/XnTRRRdd5D9bv1Kg1q/kP1gK1PqVAuU/VlVVVVVV5T9ToNavFKjlP1HrVwrU+uU/TjbZZJNN5j9MgVq/UqDmP0nM2xkS8+Y/RhdddNFF5z9EYt7OkJjnP0GtXylQ6+c/P/jggw8+6D88Q2LezpDoPzmO4ziO4+g/N9lkk0026T80JObtDInpPzJvZ0jM2+k/L7rooosu6j8tBWr9SoHqPypQ61cK1Oo/J5tssskm6z8l5u0MiXnrPyIxb2dIzOs/IHzwwQcf7D8dx3Ecx3HsPxsS83aGxOw/GF100UUX7T8VqPUrBWrtPxPzdobEvO0/ED744IMP7j8OiXk7Q2LuPwvU+pUCte4/CB988MEH7z8Gav1KgVrvPwO1fqVAre8/AAAAAAAA8D8=\",\"dtype\":\"float64\",\"order\":\"little\",\"shape\":[100]},\"y\":{\"__ndarray__\":\"4IQBro/soT/7K1oIlmjyP0tXcIwdQPc/3YMjJ9S+/z/sNMxAtx/ePx73oWV8T+k/1O8dbR+n/j9AIVb8VgLaPyADNIr9tfk/+H9DfcsMxD+SITkkqx30P0riKZ55Y/s/KFNjxJvQ5j9+80p/+Aj9P9hAqDCmluw/PAjBUOZd7z+nIwsYzJPzPyiN4+IKsfc/cfUWAtrK/z9par+DA5T7P3mRMt6xdP0/AEUgG8tD5T+CR8I261r+P3cGdhx0TvY/g62FCF35/j9oNkrgkZP/P5OKhk+8nfI/duttt2VJ9z8W7OeJvazhPxCWpwuoxNw/E9v+n2TZ/j+sRzrJ8mf5P8JMJupbeuo/gAjIJKum/z/YJ067dOD6P2Q9VNYNOfA/injIhe9g4j/oz65geAP0P+xQpBiy4/Q/OMSJgwwR/D/8I5FzcgvvPxC9DPIETwBAPKB4QLec+D/xhQwUq9P4P+RiUIe3//w/fYsF3Bdn9D8XOpx+dCn6P19qSUq5S/M/bf+y2uw+AEC0JCRpVB7qPzEf4crq9PU/vFQK4qZH4z+8VJ5rDYQCQJzOQce0R/Y/j8TKMn+e/j9SHQ06vDPwP5eaZco4wv4/7C7x/hwKAUCNAYj8f/YBQGsaXOmimfI/g+1cGxIYAkBwr/mEL4/wP5NnADTZ4fQ/NpPu3B/B/T8MMH3swcoBQH9EJUGChPY/MvdP1A8F9D/RuH5LR3XyPxC4PsK/D+o/vnVF8irD6z/5I0RC/LH5Pz95zPTEsf8/DciEtGRgAkDdExAh7MQAQE6lNHDToQJAZG+xur5qBkCAjhs8Pa7/P/8Z0xOxYPA/aIIqUNvxA0DICuoXpQcEQMLben6/j/4/3xOFUxxm9D8OU7J6OhHwP9R48qiK+PQ/NcNcTF6sAECFLLGulFP9P+CgFVlBnQRAl9Rh53O6AkD41NoylWr2P6ao/x+iov4/uRLifPieAkAoIlgW2K0HQEg1L+mucQBA8czWfhVd+D9dk3A01t0AQM8vrkU3TgZAsdf4lFuq9z8REIThfp/5P/nrCiTWd/o/CN5/MjWeCEA=\",\"dtype\":\"float64\",\"order\":\"little\",\"shape\":[100]}},\"selected\":{\"id\":\"1351\"},\"selection_policy\":{\"id\":\"1350\"}},\"id\":\"1336\",\"type\":\"ColumnDataSource\"},{\"attributes\":{},\"id\":\"1203\",\"type\":\"BasicTicker\"},{\"attributes\":{\"fill_alpha\":{\"value\":0.2},\"fill_color\":{\"value\":\"midnightblue\"},\"hatch_alpha\":{\"value\":0.2},\"line_alpha\":{\"value\":0.2},\"line_color\":{\"value\":\"white\"},\"size\":{\"value\":10},\"x\":{\"field\":\"x\"},\"y\":{\"field\":\"y\"}},\"id\":\"1340\",\"type\":\"Circle\"},{\"attributes\":{\"margin\":[5,5,5,5],\"name\":\"HSpacer00110\",\"sizing_mode\":\"stretch_width\"},\"id\":\"1432\",\"type\":\"Spacer\"},{\"attributes\":{\"bottom_units\":\"screen\",\"coordinates\":null,\"fill_alpha\":0.5,\"fill_color\":\"lightgrey\",\"group\":null,\"left_units\":\"screen\",\"level\":\"overlay\",\"line_alpha\":1.0,\"line_color\":\"black\",\"line_dash\":[4,4],\"line_width\":2,\"right_units\":\"screen\",\"syncable\":false,\"top_units\":\"screen\"},\"id\":\"1270\",\"type\":\"BoxAnnotation\"},{\"attributes\":{},\"id\":\"1234\",\"type\":\"UnionRenderers\"},{\"attributes\":{\"fill_alpha\":{\"value\":0.2},\"fill_color\":{\"value\":\"midnightblue\"},\"hatch_alpha\":{\"value\":0.2},\"line_alpha\":{\"value\":0.2},\"line_color\":{\"value\":\"white\"},\"size\":{\"value\":10},\"x\":{\"field\":\"x\"},\"y\":{\"field\":\"y\"}},\"id\":\"1282\",\"type\":\"Circle\"},{\"attributes\":{\"fill_alpha\":{\"value\":0.5},\"fill_color\":{\"value\":\"red\"},\"hatch_alpha\":{\"value\":0.5},\"line_alpha\":{\"value\":0.5},\"line_color\":{\"value\":\"white\"},\"size\":{\"value\":10},\"x\":{\"field\":\"x\"},\"y\":{\"field\":\"y\"}},\"id\":\"1281\",\"type\":\"Circle\"},{\"attributes\":{\"bottom_units\":\"screen\",\"coordinates\":null,\"fill_alpha\":0.5,\"fill_color\":\"lightgrey\",\"group\":null,\"left_units\":\"screen\",\"level\":\"overlay\",\"line_alpha\":1.0,\"line_color\":\"black\",\"line_dash\":[4,4],\"line_width\":2,\"right_units\":\"screen\",\"syncable\":false,\"top_units\":\"screen\"},\"id\":\"1394\",\"type\":\"BoxAnnotation\"},{\"attributes\":{\"tools\":[{\"id\":\"1264\"},{\"id\":\"1265\"},{\"id\":\"1266\"},{\"id\":\"1267\"},{\"id\":\"1268\"},{\"id\":\"1269\"},{\"id\":\"1297\"},{\"id\":\"1301\"}]},\"id\":\"1271\",\"type\":\"Toolbar\"},{\"attributes\":{},\"id\":\"1235\",\"type\":\"Selection\"},{\"attributes\":{\"background_fill_alpha\":0.9,\"background_fill_color\":\"#0f0f0f\",\"below\":[{\"id\":\"1198\"}],\"border_fill_alpha\":0.8,\"border_fill_color\":\"#111111\",\"center\":[{\"id\":\"1201\"},{\"id\":\"1205\"},{\"id\":\"1237\"}],\"height\":450,\"left\":[{\"id\":\"1202\"}],\"outline_line_alpha\":0.25,\"outline_line_color\":\"#E0E0E0\",\"outline_line_width\":3,\"renderers\":[{\"id\":\"1225\"}],\"title\":{\"id\":\"1188\"},\"toolbar\":{\"id\":\"1213\"},\"toolbar_location\":null,\"x_range\":{\"id\":\"1190\"},\"x_scale\":{\"id\":\"1194\"},\"y_range\":{\"id\":\"1192\"},\"y_scale\":{\"id\":\"1196\"}},\"id\":\"1187\",\"subtype\":\"Figure\",\"type\":\"Plot\"},{\"attributes\":{\"axis_label\":\"y\",\"axis_label_standoff\":10,\"axis_label_text_color\":\"#FFFFFF\",\"axis_label_text_font\":\"Josefin Sans\",\"axis_label_text_font_size\":\"1.9em\",\"axis_label_text_font_style\":\"bold\",\"axis_line_alpha\":0.4,\"axis_line_color\":\"#E0E0E0\",\"coordinates\":null,\"formatter\":{\"id\":\"1345\"},\"group\":null,\"major_label_policy\":{\"id\":\"1346\"},\"major_label_text_color\":\"#E0E0E0\",\"major_label_text_font\":\"Josefin Sans\",\"major_label_text_font_size\":\"1.15em\",\"major_tick_line_alpha\":0.4,\"major_tick_line_color\":\"#E0E0E0\",\"minor_tick_line_alpha\":0.4,\"minor_tick_line_color\":\"#E0E0E0\",\"ticker\":{\"id\":\"1319\"}},\"id\":\"1318\",\"type\":\"LinearAxis\"},{\"attributes\":{\"tools\":[{\"id\":\"1322\"},{\"id\":\"1323\"},{\"id\":\"1324\"},{\"id\":\"1325\"},{\"id\":\"1326\"},{\"id\":\"1327\"},{\"id\":\"1355\"},{\"id\":\"1359\"}]},\"id\":\"1329\",\"type\":\"Toolbar\"},{\"attributes\":{\"axis\":{\"id\":\"1198\"},\"coordinates\":null,\"grid_line_alpha\":0.15,\"grid_line_color\":\"#E0E0E0\",\"group\":null,\"ticker\":null},\"id\":\"1201\",\"type\":\"Grid\"},{\"attributes\":{},\"id\":\"1327\",\"type\":\"HelpTool\"},{\"attributes\":{\"background_fill_alpha\":0.25,\"background_fill_color\":\"#505050\",\"border_line_alpha\":0.25,\"coordinates\":null,\"group\":null,\"items\":[{\"id\":\"1296\"}],\"label_standoff\":8,\"label_text_color\":\"#E0E0E0\",\"label_text_font\":\"Josefin Sans\",\"label_text_font_size\":\"1.15em\",\"spacing\":8},\"id\":\"1295\",\"type\":\"Legend\"},{\"attributes\":{\"coordinates\":null,\"data_source\":{\"id\":\"1278\"},\"glyph\":{\"id\":\"1279\"},\"group\":null,\"hover_glyph\":{\"id\":\"1281\"},\"muted_glyph\":{\"id\":\"1282\"},\"nonselection_glyph\":{\"id\":\"1300\"},\"selection_glyph\":{\"id\":\"1299\"},\"view\":{\"id\":\"1284\"}},\"id\":\"1283\",\"type\":\"GlyphRenderer\"},{\"attributes\":{\"coordinates\":null,\"data_source\":{\"id\":\"1336\"},\"glyph\":{\"id\":\"1337\"},\"group\":null,\"hover_glyph\":{\"id\":\"1339\"},\"muted_glyph\":{\"id\":\"1340\"},\"nonselection_glyph\":{\"id\":\"1358\"},\"selection_glyph\":{\"id\":\"1357\"},\"view\":{\"id\":\"1342\"}},\"id\":\"1341\",\"type\":\"GlyphRenderer\"},{\"attributes\":{\"source\":{\"id\":\"1278\"}},\"id\":\"1284\",\"type\":\"CDSView\"},{\"attributes\":{\"source\":{\"id\":\"1220\"}},\"id\":\"1226\",\"type\":\"CDSView\"},{\"attributes\":{\"axis\":{\"id\":\"1318\"},\"coordinates\":null,\"dimension\":1,\"grid_line_alpha\":0.15,\"grid_line_color\":\"#E0E0E0\",\"group\":null,\"ticker\":null},\"id\":\"1321\",\"type\":\"Grid\"},{\"attributes\":{},\"id\":\"1190\",\"type\":\"DataRange1d\"},{\"attributes\":{\"axis\":{\"id\":\"1314\"},\"coordinates\":null,\"grid_line_alpha\":0.15,\"grid_line_color\":\"#E0E0E0\",\"group\":null,\"ticker\":null},\"id\":\"1317\",\"type\":\"Grid\"},{\"attributes\":{\"bottom_units\":\"screen\",\"coordinates\":null,\"fill_alpha\":0.5,\"fill_color\":\"lightgrey\",\"group\":null,\"left_units\":\"screen\",\"level\":\"overlay\",\"line_alpha\":1.0,\"line_color\":\"black\",\"line_dash\":[4,4],\"line_width\":2,\"right_units\":\"screen\",\"syncable\":false,\"top_units\":\"screen\"},\"id\":\"1398\",\"type\":\"BoxAnnotation\"},{\"attributes\":{},\"id\":\"1265\",\"type\":\"WheelZoomTool\"},{\"attributes\":{},\"id\":\"1345\",\"type\":\"BasicTickFormatter\"},{\"attributes\":{},\"id\":\"1257\",\"type\":\"BasicTicker\"},{\"attributes\":{\"data\":{\"x\":{\"__ndarray__\":\"AAAAAAAAAABbv1Kg1q+EP1u/UqDWr5Q/CB988MEHnz9bv1Kg1q+kPzJvZ0jM26k/CB988MEHrz9wZ0jM2xmyP1u/UqDWr7Q/RhdddNFFtz8yb2dIzNu5Px3HcRzHcbw/CB988MEHvz96O0Ni3s7AP3BnSMzbGcI/ZZNNNtlkwz9bv1Kg1q/EP1HrVwrU+sU/RhdddNFFxz88Q2LezpDIPzJvZ0jM28k/J5tssskmyz8dx3Ecx3HMPxPzdobEvM0/CB988MEHzz9/pUCtXynQP3o7Q2LeztA/ddFFF1100T9wZ0jM2xnSP2r9SoFav9I/ZZNNNtlk0z9gKVDrVwrUP1u/UqDWr9Q/VlVVVVVV1T9R61cK1PrVP0yBWr9SoNY/RhdddNFF1z9BrV8pUOvXPzxDYt7OkNg/N9lkk0022T8yb2dIzNvZPy0Fav1Kgdo/J5tssskm2z8iMW9nSMzbPx3HcRzHcdw/GF100UUX3T8T83aGxLzdPw6JeTtDYt4/CB988MEH3z8DtX6lQK3fP3+lQK1fKeA/ffDBBx984D96O0Ni3s7gP3eGxLydIeE/ddFFF1104T9yHMdxHMfhP3BnSMzbGeI/bbLJJpts4j9q/UqBWr/iP2hIzNsZEuM/ZZNNNtlk4z9j3s6QmLfjP2ApUOtXCuQ/XnTRRRdd5D9bv1Kg1q/kP1gK1PqVAuU/VlVVVVVV5T9ToNavFKjlP1HrVwrU+uU/TjbZZJNN5j9MgVq/UqDmP0nM2xkS8+Y/RhdddNFF5z9EYt7OkJjnP0GtXylQ6+c/P/jggw8+6D88Q2LezpDoPzmO4ziO4+g/N9lkk0026T80JObtDInpPzJvZ0jM2+k/L7rooosu6j8tBWr9SoHqPypQ61cK1Oo/J5tssskm6z8l5u0MiXnrPyIxb2dIzOs/IHzwwQcf7D8dx3Ecx3HsPxsS83aGxOw/GF100UUX7T8VqPUrBWrtPxPzdobEvO0/ED744IMP7j8OiXk7Q2LuPwvU+pUCte4/CB988MEH7z8Gav1KgVrvPwO1fqVAre8/AAAAAAAA8D8=\",\"dtype\":\"float64\",\"order\":\"little\",\"shape\":[100]},\"y\":{\"__ndarray__\":\"xvBv2GZw5z8WCH7K37TlP2hGiC9QdLy/r2KgHZ3j7r/Cns4+ISu0P7yKCWOtgrS/cKNi7Wff1j/poCc528DcP5TmWSZPrN8/zLKfwPE22b9yIRXQaJLjP7t8kRoy89m/AmUmAQKP7z9dO7WGlGHqP0kBaXjlqey/LM38zp6I0b/qK0oLApXtP7WBYs2eAec/XhzoAH6b6z+bCc+ky9nmv/cEuPsAeuI/npXxPHJ94T9bLeKiZDPpv1wPfGj8L7q/ks/seaPz1L/3hNeESiXnv9o6uPamYeK/8LrmHiBW1L/naH5MIJfnP0Nc4K6NMeg/vMeo2O1Q4z8489OV+IntP6554d8VaKy/GjLJpscnyr/9jSipax7wP2JUYZNh0NE/hDrBJkJ2wT9gUlWBp3LoPxIW9c26ufA/tOzI801M6r/3CmNmT73aP27re01JLce/ScMi1x7z5T+cnCBI7+PYv3wOpKbNMu8/O9fqkuKl5D9PlVWk4V7vPywIVazUm+q/ZdKUAbf9zT8FP+oi1xrJv4QuXdJ1kco/ppoqqON44T8LsCVEezHQPxsax7HVjd0/kGo/7Lou2j8OJfZaZ7+8v9E/tjY0lNQ/nBdXg2oOxb/0WVt55oOivyJkFHIuV7s/lN5iijg12D+x8Me8w3PMv46hYh+i+70/rFzFy+vXuj/shtzn4i/tv3YD37gEQNM/5Mofcq1a4L/AWD55O19mv2aNr9mmZ++/ZsJSITjE5D9oraehXhCzP6ZAYGL799A/DpyV1b1uyD8AcOflZtStv0HtREvORu2/xccplM0I0r8iFbR6nwbzv7rWc9UnBvC/zpX5Hvg37r9Y02lBo861P09vEMjBqtS/9hG4lUhx1r8GQA2Rpj3Rv4zPYDX+gOy/mOor4neqyL9Uiw56nrbOP3xYYhpRZs0/AL9H62mvpj8KAyWXvuDwv/RVUPg7n/C/DBwoWki2779eOVIpeaTUv+kVDoPrzvK/KN3jZgVRuz+Y3dOIDpLJvyCx52QoALO/AHESU7dg9b+wr5NGiKLkv+QncrLG1+C/ivHPPjCz7L8=\",\"dtype\":\"float64\",\"order\":\"little\",\"shape\":[100]}},\"selected\":{\"id\":\"1293\"},\"selection_policy\":{\"id\":\"1292\"}},\"id\":\"1278\",\"type\":\"ColumnDataSource\"},{\"attributes\":{\"axis_label\":\"y\",\"axis_label_standoff\":10,\"axis_label_text_color\":\"#FFFFFF\",\"axis_label_text_font\":\"Josefin Sans\",\"axis_label_text_font_size\":\"1.9em\",\"axis_label_text_font_style\":\"bold\",\"axis_line_alpha\":0.4,\"axis_line_color\":\"#E0E0E0\",\"coordinates\":null,\"formatter\":{\"id\":\"1287\"},\"group\":null,\"major_label_policy\":{\"id\":\"1288\"},\"major_label_text_color\":\"#E0E0E0\",\"major_label_text_font\":\"Josefin Sans\",\"major_label_text_font_size\":\"1.15em\",\"major_tick_line_alpha\":0.4,\"major_tick_line_color\":\"#E0E0E0\",\"minor_tick_line_alpha\":0.4,\"minor_tick_line_color\":\"#E0E0E0\",\"ticker\":{\"id\":\"1261\"}},\"id\":\"1260\",\"type\":\"LinearAxis\"},{\"attributes\":{\"axis\":{\"id\":\"1202\"},\"coordinates\":null,\"dimension\":1,\"grid_line_alpha\":0.15,\"grid_line_color\":\"#E0E0E0\",\"group\":null,\"ticker\":null},\"id\":\"1205\",\"type\":\"Grid\"},{\"attributes\":{},\"id\":\"1346\",\"type\":\"AllLabels\"},{\"attributes\":{},\"id\":\"1261\",\"type\":\"BasicTicker\"},{\"attributes\":{\"fill_alpha\":{\"value\":0.5},\"fill_color\":{\"value\":\"red\"},\"hatch_alpha\":{\"value\":0.5},\"line_alpha\":{\"value\":0.5},\"line_color\":{\"value\":\"white\"},\"size\":{\"value\":10},\"x\":{\"field\":\"x\"},\"y\":{\"field\":\"y\"}},\"id\":\"1223\",\"type\":\"Circle\"},{\"attributes\":{\"fill_alpha\":{\"value\":0.2},\"fill_color\":{\"value\":\"midnightblue\"},\"hatch_alpha\":{\"value\":0.2},\"line_alpha\":{\"value\":0.2},\"line_color\":{\"value\":\"white\"},\"size\":{\"value\":10},\"x\":{\"field\":\"x\"},\"y\":{\"field\":\"y\"}},\"id\":\"1224\",\"type\":\"Circle\"},{\"attributes\":{\"client_comm_id\":\"96b4b4f5f97b4ccb9c4f4def39781b7a\",\"comm_id\":\"286af1a110b243cca5854d448a517420\",\"plot_id\":\"1364\"},\"id\":\"1532\",\"type\":\"panel.models.comm_manager.CommManager\"},{\"attributes\":{},\"id\":\"1211\",\"type\":\"HelpTool\"},{\"attributes\":{},\"id\":\"1196\",\"type\":\"LinearScale\"},{\"attributes\":{\"children\":[{\"id\":\"1365\"},{\"id\":\"1363\"},{\"id\":\"1432\"}],\"margin\":[0,0,0,0],\"name\":\"Row00113\"},\"id\":\"1364\",\"type\":\"Row\"},{\"attributes\":{},\"id\":\"1192\",\"type\":\"DataRange1d\"},{\"attributes\":{\"children\":[{\"id\":\"1187\"},{\"id\":\"1245\"},{\"id\":\"1303\"}]},\"id\":\"1362\",\"type\":\"Row\"},{\"attributes\":{\"fill_alpha\":{\"value\":0.25},\"fill_color\":{\"value\":\"midnightblue\"},\"hatch_alpha\":{\"value\":0.25},\"line_alpha\":{\"value\":0.25},\"line_color\":{\"value\":\"white\"},\"size\":{\"value\":10},\"x\":{\"field\":\"x\"},\"y\":{\"field\":\"y\"}},\"id\":\"1221\",\"type\":\"Circle\"},{\"attributes\":{},\"id\":\"1194\",\"type\":\"LinearScale\"},{\"attributes\":{\"data\":{\"x\":{\"__ndarray__\":\"AAAAAAAAAABbv1Kg1q+EP1u/UqDWr5Q/CB988MEHnz9bv1Kg1q+kPzJvZ0jM26k/CB988MEHrz9wZ0jM2xmyP1u/UqDWr7Q/RhdddNFFtz8yb2dIzNu5Px3HcRzHcbw/CB988MEHvz96O0Ni3s7AP3BnSMzbGcI/ZZNNNtlkwz9bv1Kg1q/EP1HrVwrU+sU/RhdddNFFxz88Q2LezpDIPzJvZ0jM28k/J5tssskmyz8dx3Ecx3HMPxPzdobEvM0/CB988MEHzz9/pUCtXynQP3o7Q2LeztA/ddFFF1100T9wZ0jM2xnSP2r9SoFav9I/ZZNNNtlk0z9gKVDrVwrUP1u/UqDWr9Q/VlVVVVVV1T9R61cK1PrVP0yBWr9SoNY/RhdddNFF1z9BrV8pUOvXPzxDYt7OkNg/N9lkk0022T8yb2dIzNvZPy0Fav1Kgdo/J5tssskm2z8iMW9nSMzbPx3HcRzHcdw/GF100UUX3T8T83aGxLzdPw6JeTtDYt4/CB988MEH3z8DtX6lQK3fP3+lQK1fKeA/ffDBBx984D96O0Ni3s7gP3eGxLydIeE/ddFFF1104T9yHMdxHMfhP3BnSMzbGeI/bbLJJpts4j9q/UqBWr/iP2hIzNsZEuM/ZZNNNtlk4z9j3s6QmLfjP2ApUOtXCuQ/XnTRRRdd5D9bv1Kg1q/kP1gK1PqVAuU/VlVVVVVV5T9ToNavFKjlP1HrVwrU+uU/TjbZZJNN5j9MgVq/UqDmP0nM2xkS8+Y/RhdddNFF5z9EYt7OkJjnP0GtXylQ6+c/P/jggw8+6D88Q2LezpDoPzmO4ziO4+g/N9lkk0026T80JObtDInpPzJvZ0jM2+k/L7rooosu6j8tBWr9SoHqPypQ61cK1Oo/J5tssskm6z8l5u0MiXnrPyIxb2dIzOs/IHzwwQcf7D8dx3Ecx3HsPxsS83aGxOw/GF100UUX7T8VqPUrBWrtPxPzdobEvO0/ED744IMP7j8OiXk7Q2LuPwvU+pUCte4/CB988MEH7z8Gav1KgVrvPwO1fqVAre8/AAAAAAAA8D8=\",\"dtype\":\"float64\",\"order\":\"little\",\"shape\":[100]},\"y\":{\"__ndarray__\":\"zleSgXF7DUCvATAMrbQIQBErEs73YBBAWAF02rkiDEDS6i1zQ6MPQIh3Oj+EdRFAKJ57xsHRC0BnZ4H015URQHIPX9tQUg1AmlXDVR0gDkAaX9ckDbMIQBLLyHldPgtAKNimywMhEUBBvbAVEdAGQDj3TofYQgZA7t/v4OB7D0A4/0s/QXIGQBLkul5K/gxA1MvV0dZBBEB6iCh1B2AEQFHg97nF2QdApUVuzK5TEEDQs3ZTst4MQKU35iRmeQpACjIzJQZiB0DqJp6yQBYKQG4adVDtBANAnZW7fwuVAEB0HuYH8RYIQNbhxJwoSgJAtwLE5xp6CkD/HMXlK8P/P550liY4nwlAxNk28oe4DUCWqGOc+DUGQJRCC4fRHwpALlpR20snDUBklvMHkIQFQNgxRwg3i/8/jCVk8bT+BkCA5IJT2ZQLQEVPxYjdvgpAOzYD+vKCA0BuWffxcMsBQBVf90Z/pwtA9Ns5EBY5C0C6EP2GV1cJQDZEB0qvbQtAIl73Do+NA0APBuEjvccAQCtSCUrIlwFAa+ch6caODUDJBM59GWYDQE0Y6i6V8g1AUO23GuFQBkB0Eh4EyBoDQBpjc32r9wxAx62tQ5DeDEDqjeSVap0KQFzRXPI5JwtAw3xi4CR9BEA+mLSJB0cKQKoZ14qubQlAW4vOWf58AEAGsplurNkJQKJPOSW8GgdA+CFXZX80BUCrasjXPCUOQJBTa+mTqQpA1p889UAkDEBY3kmIqcj/P0wl05thNw9AOrwc2MUXCkCypZ1Jq3MHQCBEvS4tlwFAG1LK+FU2CUAEBZHwkVEGQBA+VqDxOA9AvnjKT3NoBUAVcaLvx7QEQC7qmhST6gFAAK77g0rGA0CCXKAWixUOQDoY/ELSOgNAFUjjNxQSEED07Z17yr8IQLgaxWZ62QdAmC4qnO8wBUDacfERqrsRQJj4Dee/dgRAidpMT7USEECQp78lFG4GQFiTpVgPOgZA3mwdVBefB0AkGK1ZvfkOQI4jklNfXxBAQLfPFYNTDUDeY+PR5wIQQFKBpR0rlgpATVX2H4taE0A=\",\"dtype\":\"float64\",\"order\":\"little\",\"shape\":[100]}},\"selected\":{\"id\":\"1235\"},\"selection_policy\":{\"id\":\"1234\"}},\"id\":\"1220\",\"type\":\"ColumnDataSource\"},{\"attributes\":{\"background_fill_alpha\":0.25,\"background_fill_color\":\"#505050\",\"border_line_alpha\":0.25,\"coordinates\":null,\"group\":null,\"items\":[{\"id\":\"1238\"}],\"label_standoff\":8,\"label_text_color\":\"#E0E0E0\",\"label_text_font\":\"Josefin Sans\",\"label_text_font_size\":\"1.15em\",\"spacing\":8},\"id\":\"1237\",\"type\":\"Legend\"},{\"attributes\":{\"bottom_units\":\"screen\",\"coordinates\":null,\"fill_alpha\":0.5,\"fill_color\":\"lightgrey\",\"group\":null,\"left_units\":\"screen\",\"level\":\"overlay\",\"line_alpha\":1.0,\"line_color\":\"black\",\"line_dash\":[4,4],\"line_width\":2,\"right_units\":\"screen\",\"syncable\":false,\"top_units\":\"screen\"},\"id\":\"1212\",\"type\":\"BoxAnnotation\"},{\"attributes\":{\"source\":{\"id\":\"1336\"}},\"id\":\"1342\",\"type\":\"CDSView\"},{\"attributes\":{\"children\":[{\"id\":\"1361\"},{\"id\":\"1362\"}]},\"id\":\"1363\",\"type\":\"Column\"},{\"attributes\":{\"label\":{\"value\":\"Observations\"},\"renderers\":[{\"id\":\"1225\"}]},\"id\":\"1238\",\"type\":\"LegendItem\"},{\"attributes\":{},\"id\":\"1287\",\"type\":\"BasicTickFormatter\"},{\"attributes\":{\"label\":{\"value\":\"Observations\"},\"renderers\":[{\"id\":\"1341\"}]},\"id\":\"1354\",\"type\":\"LegendItem\"},{\"attributes\":{\"fill_alpha\":{\"value\":0.8},\"fill_color\":{\"value\":\"red\"},\"line_color\":{\"value\":\"white\"}},\"id\":\"1357\",\"type\":\"Circle\"},{\"attributes\":{\"axis\":{\"id\":\"1256\"},\"coordinates\":null,\"grid_line_alpha\":0.15,\"grid_line_color\":\"#E0E0E0\",\"group\":null,\"ticker\":null},\"id\":\"1259\",\"type\":\"Grid\"},{\"attributes\":{\"mode\":\"append\",\"overlay\":{\"id\":\"1398\"},\"renderers\":[{\"id\":\"1341\"}]},\"id\":\"1359\",\"type\":\"BoxSelectTool\"},{\"attributes\":{\"fill_alpha\":{\"value\":0.25},\"fill_color\":{\"value\":\"midnightblue\"},\"hatch_alpha\":{\"value\":0.25},\"line_alpha\":{\"value\":0.25},\"line_color\":{\"value\":\"white\"},\"size\":{\"value\":10},\"x\":{\"field\":\"x\"},\"y\":{\"field\":\"y\"}},\"id\":\"1279\",\"type\":\"Circle\"},{\"attributes\":{},\"id\":\"1290\",\"type\":\"BasicTickFormatter\"},{\"attributes\":{},\"id\":\"1207\",\"type\":\"WheelZoomTool\"},{\"attributes\":{\"callback\":null,\"mode\":\"vline\",\"renderers\":[{\"id\":\"1341\"}],\"tooltips\":null},\"id\":\"1355\",\"type\":\"HoverTool\"},{\"attributes\":{},\"id\":\"1206\",\"type\":\"PanTool\"},{\"attributes\":{},\"id\":\"1291\",\"type\":\"AllLabels\"},{\"attributes\":{\"overlay\":{\"id\":\"1212\"}},\"id\":\"1208\",\"type\":\"BoxZoomTool\"},{\"attributes\":{\"fill_alpha\":{\"value\":0.25},\"fill_color\":{\"value\":\"midnightblue\"},\"hatch_alpha\":{\"value\":0.25},\"line_alpha\":{\"value\":0.25},\"line_color\":{\"value\":\"white\"},\"size\":{\"value\":10},\"x\":{\"field\":\"x\"},\"y\":{\"field\":\"y\"}},\"id\":\"1337\",\"type\":\"Circle\"},{\"attributes\":{\"fill_alpha\":{\"value\":0.5},\"fill_color\":{\"value\":\"midnightblue\"},\"line_color\":{\"value\":\"white\"}},\"id\":\"1358\",\"type\":\"Circle\"},{\"attributes\":{},\"id\":\"1288\",\"type\":\"AllLabels\"},{\"attributes\":{\"fill_alpha\":{\"value\":0.8},\"fill_color\":{\"value\":\"red\"},\"line_color\":{\"value\":\"white\"}},\"id\":\"1299\",\"type\":\"Circle\"},{\"attributes\":{\"label\":{\"value\":\"Observations\"},\"renderers\":[{\"id\":\"1283\"}]},\"id\":\"1296\",\"type\":\"LegendItem\"}],\"root_ids\":[\"1364\",\"1532\"]},\"title\":\"Bokeh Application\",\"version\":\"2.4.3\"}};\n",
       "    var render_items = [{\"docid\":\"c31e3850-e233-48fd-9814-c88f2e614918\",\"root_ids\":[\"1364\"],\"roots\":{\"1364\":\"34f1c619-71b7-4f5e-9daf-74abb1ec73c4\"}}];\n",
       "    root.Bokeh.embed.embed_items_notebook(docs_json, render_items);\n",
       "    for (const render_item of render_items) {\n",
       "      for (const root_id of render_item.root_ids) {\n",
       "\tconst id_el = document.getElementById(root_id)\n",
       "\tif (id_el.children.length && (id_el.children[0].className === 'bk-root')) {\n",
       "\t  const root_el = id_el.children[0]\n",
       "\t  root_el.id = root_el.id + '-rendered'\n",
       "\t}\n",
       "      }\n",
       "    }\n",
       "  }\n",
       "  if (root.Bokeh !== undefined && root.Bokeh.Panel !== undefined) {\n",
       "    embed_document(root);\n",
       "  } else {\n",
       "    var attempts = 0;\n",
       "    var timer = setInterval(function(root) {\n",
       "      if (root.Bokeh !== undefined && root.Bokeh.Panel !== undefined) {\n",
       "        clearInterval(timer);\n",
       "        embed_document(root);\n",
       "      } else if (document.readyState == \"complete\") {\n",
       "        attempts++;\n",
       "        if (attempts > 200) {\n",
       "          clearInterval(timer);\n",
       "          console.log(\"Bokeh: ERROR: Unable to run BokehJS code because BokehJS library is missing\");\n",
       "        }\n",
       "      }\n",
       "    }, 25, root)\n",
       "  }\n",
       "})(window);</script>"
      ],
      "text/plain": [
       "Row\n",
       "    [0] HSpacer()\n",
       "    [1] Bokeh(Column)\n",
       "    [2] HSpacer()"
      ]
     },
     "execution_count": 5,
     "metadata": {
      "application/vnd.holoviews_exec.v0+json": {
       "id": "1364"
      }
     },
     "output_type": "execute_result"
    }
   ],
   "source": [
    "from bokeh.models import Div\n",
    "from bokeh.layouts import column, row\n",
    "plot = center_plot(column(Div(text = \"Observing different problems\", style={'font-size': '250%'}), row(*plots)))\n",
    "plot"
   ]
  },
  {
   "cell_type": "markdown",
   "metadata": {},
   "source": [
    "In real-life settings, this function can also have different levels of noise, as exemplified in the following code."
   ]
  },
  {
   "cell_type": "code",
   "execution_count": 6,
   "metadata": {
    "tags": []
   },
   "outputs": [],
   "source": [
    "params = [3, 0, 1]\n",
    "noise_levels = [0.1, 1.0, 8.0]\n",
    "# Generating the x axis\n",
    "x = np.linspace(0, 1, 100)\n",
    "plots = []\n",
    "for p in range(len(noise_levels)):\n",
    "    poly = np.poly1d(params)\n",
    "    epsilon = np.random.uniform(-noise_levels[p],noise_levels[p],x.shape)\n",
    "    y = poly(x) + epsilon\n",
    "    plots.append(scatter(x, y, title=\"Problem \"+(str(p+1))))"
   ]
  },
  {
   "cell_type": "code",
   "execution_count": 7,
   "metadata": {
    "tags": []
   },
   "outputs": [
    {
     "data": {},
     "metadata": {},
     "output_type": "display_data"
    },
    {
     "data": {
      "application/vnd.holoviews_exec.v0+json": "",
      "text/html": [
       "<div id='1875'>\n",
       "  <div class=\"bk-root\" id=\"345f3912-0e6a-45b2-b601-5470bd26bb41\" data-root-id=\"1875\"></div>\n",
       "</div>\n",
       "<script type=\"application/javascript\">(function(root) {\n",
       "  function embed_document(root) {\n",
       "    var docs_json = {\"15939827-bbd0-4afb-a1dc-077bebfe4293\":{\"defs\":[{\"extends\":null,\"module\":null,\"name\":\"ReactiveHTML1\",\"overrides\":[],\"properties\":[]},{\"extends\":null,\"module\":null,\"name\":\"FlexBox1\",\"overrides\":[],\"properties\":[{\"default\":\"flex-start\",\"kind\":null,\"name\":\"align_content\"},{\"default\":\"flex-start\",\"kind\":null,\"name\":\"align_items\"},{\"default\":\"row\",\"kind\":null,\"name\":\"flex_direction\"},{\"default\":\"wrap\",\"kind\":null,\"name\":\"flex_wrap\"},{\"default\":\"flex-start\",\"kind\":null,\"name\":\"justify_content\"}]},{\"extends\":null,\"module\":null,\"name\":\"GridStack1\",\"overrides\":[],\"properties\":[{\"default\":\"warn\",\"kind\":null,\"name\":\"mode\"},{\"default\":null,\"kind\":null,\"name\":\"ncols\"},{\"default\":null,\"kind\":null,\"name\":\"nrows\"},{\"default\":true,\"kind\":null,\"name\":\"allow_resize\"},{\"default\":true,\"kind\":null,\"name\":\"allow_drag\"},{\"default\":[],\"kind\":null,\"name\":\"state\"}]},{\"extends\":null,\"module\":null,\"name\":\"click1\",\"overrides\":[],\"properties\":[{\"default\":\"\",\"kind\":null,\"name\":\"terminal_output\"},{\"default\":\"\",\"kind\":null,\"name\":\"debug_name\"},{\"default\":0,\"kind\":null,\"name\":\"clears\"}]},{\"extends\":null,\"module\":null,\"name\":\"NotificationAreaBase1\",\"overrides\":[],\"properties\":[{\"default\":\"bottom-right\",\"kind\":null,\"name\":\"position\"},{\"default\":0,\"kind\":null,\"name\":\"_clear\"}]},{\"extends\":null,\"module\":null,\"name\":\"NotificationArea1\",\"overrides\":[],\"properties\":[{\"default\":[],\"kind\":null,\"name\":\"notifications\"},{\"default\":\"bottom-right\",\"kind\":null,\"name\":\"position\"},{\"default\":0,\"kind\":null,\"name\":\"_clear\"},{\"default\":[{\"background\":\"#ffc107\",\"icon\":{\"className\":\"fas fa-exclamation-triangle\",\"color\":\"white\",\"tagName\":\"i\"},\"type\":\"warning\"},{\"background\":\"#007bff\",\"icon\":{\"className\":\"fas fa-info-circle\",\"color\":\"white\",\"tagName\":\"i\"},\"type\":\"info\"}],\"kind\":null,\"name\":\"types\"}]},{\"extends\":null,\"module\":null,\"name\":\"Notification\",\"overrides\":[],\"properties\":[{\"default\":null,\"kind\":null,\"name\":\"background\"},{\"default\":3000,\"kind\":null,\"name\":\"duration\"},{\"default\":null,\"kind\":null,\"name\":\"icon\"},{\"default\":\"\",\"kind\":null,\"name\":\"message\"},{\"default\":null,\"kind\":null,\"name\":\"notification_type\"},{\"default\":false,\"kind\":null,\"name\":\"_destroyed\"}]},{\"extends\":null,\"module\":null,\"name\":\"TemplateActions1\",\"overrides\":[],\"properties\":[{\"default\":0,\"kind\":null,\"name\":\"open_modal\"},{\"default\":0,\"kind\":null,\"name\":\"close_modal\"}]},{\"extends\":null,\"module\":null,\"name\":\"MaterialTemplateActions1\",\"overrides\":[],\"properties\":[{\"default\":0,\"kind\":null,\"name\":\"open_modal\"},{\"default\":0,\"kind\":null,\"name\":\"close_modal\"}]}],\"roots\":{\"references\":[{\"attributes\":{},\"id\":\"1779\",\"type\":\"ResetTool\"},{\"attributes\":{\"bottom_units\":\"screen\",\"coordinates\":null,\"fill_alpha\":0.5,\"fill_color\":\"lightgrey\",\"group\":null,\"left_units\":\"screen\",\"level\":\"overlay\",\"line_alpha\":1.0,\"line_color\":\"black\",\"line_dash\":[4,4],\"line_width\":2,\"right_units\":\"screen\",\"syncable\":false,\"top_units\":\"screen\"},\"id\":\"1839\",\"type\":\"BoxAnnotation\"},{\"attributes\":{\"background_fill_alpha\":0.9,\"background_fill_color\":\"#0f0f0f\",\"below\":[{\"id\":\"1709\"}],\"border_fill_alpha\":0.8,\"border_fill_color\":\"#111111\",\"center\":[{\"id\":\"1712\"},{\"id\":\"1716\"},{\"id\":\"1748\"}],\"height\":450,\"left\":[{\"id\":\"1713\"}],\"outline_line_alpha\":0.25,\"outline_line_color\":\"#E0E0E0\",\"outline_line_width\":3,\"renderers\":[{\"id\":\"1736\"}],\"title\":{\"id\":\"1699\"},\"toolbar\":{\"id\":\"1724\"},\"toolbar_location\":null,\"x_range\":{\"id\":\"1701\"},\"x_scale\":{\"id\":\"1705\"},\"y_range\":{\"id\":\"1703\"},\"y_scale\":{\"id\":\"1707\"}},\"id\":\"1698\",\"subtype\":\"Figure\",\"type\":\"Plot\"},{\"attributes\":{\"background_fill_alpha\":0.25,\"background_fill_color\":\"#505050\",\"border_line_alpha\":0.25,\"coordinates\":null,\"group\":null,\"items\":[{\"id\":\"1865\"}],\"label_standoff\":8,\"label_text_color\":\"#E0E0E0\",\"label_text_font\":\"Josefin Sans\",\"label_text_font_size\":\"1.15em\",\"spacing\":8},\"id\":\"1864\",\"type\":\"Legend\"},{\"attributes\":{\"bottom_units\":\"screen\",\"coordinates\":null,\"fill_alpha\":0.5,\"fill_color\":\"lightgrey\",\"group\":null,\"left_units\":\"screen\",\"level\":\"overlay\",\"line_alpha\":1.0,\"line_color\":\"black\",\"line_dash\":[4,4],\"line_width\":2,\"right_units\":\"screen\",\"syncable\":false,\"top_units\":\"screen\"},\"id\":\"1781\",\"type\":\"BoxAnnotation\"},{\"attributes\":{\"bottom_units\":\"screen\",\"coordinates\":null,\"fill_alpha\":0.5,\"fill_color\":\"lightgrey\",\"group\":null,\"left_units\":\"screen\",\"level\":\"overlay\",\"line_alpha\":1.0,\"line_color\":\"black\",\"line_dash\":[4,4],\"line_width\":2,\"right_units\":\"screen\",\"syncable\":false,\"top_units\":\"screen\"},\"id\":\"1901\",\"type\":\"BoxAnnotation\"},{\"attributes\":{},\"id\":\"1803\",\"type\":\"UnionRenderers\"},{\"attributes\":{\"fill_alpha\":{\"value\":0.25},\"fill_color\":{\"value\":\"midnightblue\"},\"hatch_alpha\":{\"value\":0.25},\"line_alpha\":{\"value\":0.25},\"line_color\":{\"value\":\"white\"},\"size\":{\"value\":10},\"x\":{\"field\":\"x\"},\"y\":{\"field\":\"y\"}},\"id\":\"1790\",\"type\":\"Circle\"},{\"attributes\":{},\"id\":\"1860\",\"type\":\"AllLabels\"},{\"attributes\":{},\"id\":\"1717\",\"type\":\"PanTool\"},{\"attributes\":{\"fill_alpha\":{\"value\":0.2},\"fill_color\":{\"value\":\"midnightblue\"},\"hatch_alpha\":{\"value\":0.2},\"line_alpha\":{\"value\":0.2},\"line_color\":{\"value\":\"white\"},\"size\":{\"value\":10},\"x\":{\"field\":\"x\"},\"y\":{\"field\":\"y\"}},\"id\":\"1793\",\"type\":\"Circle\"},{\"attributes\":{\"fill_alpha\":{\"value\":0.5},\"fill_color\":{\"value\":\"red\"},\"hatch_alpha\":{\"value\":0.5},\"line_alpha\":{\"value\":0.5},\"line_color\":{\"value\":\"white\"},\"size\":{\"value\":10},\"x\":{\"field\":\"x\"},\"y\":{\"field\":\"y\"}},\"id\":\"1792\",\"type\":\"Circle\"},{\"attributes\":{\"children\":[{\"id\":\"1698\"},{\"id\":\"1756\"},{\"id\":\"1814\"}]},\"id\":\"1873\",\"type\":\"Row\"},{\"attributes\":{\"coordinates\":null,\"data_source\":{\"id\":\"1731\"},\"glyph\":{\"id\":\"1732\"},\"group\":null,\"hover_glyph\":{\"id\":\"1734\"},\"muted_glyph\":{\"id\":\"1735\"},\"nonselection_glyph\":{\"id\":\"1753\"},\"selection_glyph\":{\"id\":\"1752\"},\"view\":{\"id\":\"1737\"}},\"id\":\"1736\",\"type\":\"GlyphRenderer\"},{\"attributes\":{\"tools\":[{\"id\":\"1775\"},{\"id\":\"1776\"},{\"id\":\"1777\"},{\"id\":\"1778\"},{\"id\":\"1779\"},{\"id\":\"1780\"},{\"id\":\"1808\"},{\"id\":\"1812\"}]},\"id\":\"1782\",\"type\":\"Toolbar\"},{\"attributes\":{\"margin\":[5,5,5,5],\"name\":\"HSpacer00117\",\"sizing_mode\":\"stretch_width\"},\"id\":\"1943\",\"type\":\"Spacer\"},{\"attributes\":{\"client_comm_id\":\"d7ca04476c474e52bd677fa79553813b\",\"comm_id\":\"52d7a3413f6a4e2087d16ccaa1a54d1e\",\"plot_id\":\"1875\"},\"id\":\"2043\",\"type\":\"panel.models.comm_manager.CommManager\"},{\"attributes\":{\"background_fill_alpha\":0.25,\"background_fill_color\":\"#505050\",\"border_line_alpha\":0.25,\"coordinates\":null,\"group\":null,\"items\":[{\"id\":\"1807\"}],\"label_standoff\":8,\"label_text_color\":\"#E0E0E0\",\"label_text_font\":\"Josefin Sans\",\"label_text_font_size\":\"1.15em\",\"spacing\":8},\"id\":\"1806\",\"type\":\"Legend\"},{\"attributes\":{\"tools\":[{\"id\":\"1833\"},{\"id\":\"1834\"},{\"id\":\"1835\"},{\"id\":\"1836\"},{\"id\":\"1837\"},{\"id\":\"1838\"},{\"id\":\"1866\"},{\"id\":\"1870\"}]},\"id\":\"1840\",\"type\":\"Toolbar\"},{\"attributes\":{\"background_fill_alpha\":0.25,\"background_fill_color\":\"#505050\",\"border_line_alpha\":0.25,\"coordinates\":null,\"group\":null,\"items\":[{\"id\":\"1749\"}],\"label_standoff\":8,\"label_text_color\":\"#E0E0E0\",\"label_text_font\":\"Josefin Sans\",\"label_text_font_size\":\"1.15em\",\"spacing\":8},\"id\":\"1748\",\"type\":\"Legend\"},{\"attributes\":{\"coordinates\":null,\"data_source\":{\"id\":\"1789\"},\"glyph\":{\"id\":\"1790\"},\"group\":null,\"hover_glyph\":{\"id\":\"1792\"},\"muted_glyph\":{\"id\":\"1793\"},\"nonselection_glyph\":{\"id\":\"1811\"},\"selection_glyph\":{\"id\":\"1810\"},\"view\":{\"id\":\"1795\"}},\"id\":\"1794\",\"type\":\"GlyphRenderer\"},{\"attributes\":{\"fill_alpha\":{\"value\":0.5},\"fill_color\":{\"value\":\"red\"},\"hatch_alpha\":{\"value\":0.5},\"line_alpha\":{\"value\":0.5},\"line_color\":{\"value\":\"white\"},\"size\":{\"value\":10},\"x\":{\"field\":\"x\"},\"y\":{\"field\":\"y\"}},\"id\":\"1850\",\"type\":\"Circle\"},{\"attributes\":{\"source\":{\"id\":\"1789\"}},\"id\":\"1795\",\"type\":\"CDSView\"},{\"attributes\":{\"tools\":[{\"id\":\"1717\"},{\"id\":\"1718\"},{\"id\":\"1719\"},{\"id\":\"1720\"},{\"id\":\"1721\"},{\"id\":\"1722\"},{\"id\":\"1750\"},{\"id\":\"1754\"}]},\"id\":\"1724\",\"type\":\"Toolbar\"},{\"attributes\":{},\"id\":\"1740\",\"type\":\"BasicTickFormatter\"},{\"attributes\":{\"margin\":[5,5,5,5],\"name\":\"HSpacer00116\",\"sizing_mode\":\"stretch_width\"},\"id\":\"1876\",\"type\":\"Spacer\"},{\"attributes\":{\"children\":[{\"id\":\"1872\"},{\"id\":\"1873\"}]},\"id\":\"1874\",\"type\":\"Column\"},{\"attributes\":{\"data\":{\"x\":{\"__ndarray__\":\"AAAAAAAAAABbv1Kg1q+EP1u/UqDWr5Q/CB988MEHnz9bv1Kg1q+kPzJvZ0jM26k/CB988MEHrz9wZ0jM2xmyP1u/UqDWr7Q/RhdddNFFtz8yb2dIzNu5Px3HcRzHcbw/CB988MEHvz96O0Ni3s7AP3BnSMzbGcI/ZZNNNtlkwz9bv1Kg1q/EP1HrVwrU+sU/RhdddNFFxz88Q2LezpDIPzJvZ0jM28k/J5tssskmyz8dx3Ecx3HMPxPzdobEvM0/CB988MEHzz9/pUCtXynQP3o7Q2LeztA/ddFFF1100T9wZ0jM2xnSP2r9SoFav9I/ZZNNNtlk0z9gKVDrVwrUP1u/UqDWr9Q/VlVVVVVV1T9R61cK1PrVP0yBWr9SoNY/RhdddNFF1z9BrV8pUOvXPzxDYt7OkNg/N9lkk0022T8yb2dIzNvZPy0Fav1Kgdo/J5tssskm2z8iMW9nSMzbPx3HcRzHcdw/GF100UUX3T8T83aGxLzdPw6JeTtDYt4/CB988MEH3z8DtX6lQK3fP3+lQK1fKeA/ffDBBx984D96O0Ni3s7gP3eGxLydIeE/ddFFF1104T9yHMdxHMfhP3BnSMzbGeI/bbLJJpts4j9q/UqBWr/iP2hIzNsZEuM/ZZNNNtlk4z9j3s6QmLfjP2ApUOtXCuQ/XnTRRRdd5D9bv1Kg1q/kP1gK1PqVAuU/VlVVVVVV5T9ToNavFKjlP1HrVwrU+uU/TjbZZJNN5j9MgVq/UqDmP0nM2xkS8+Y/RhdddNFF5z9EYt7OkJjnP0GtXylQ6+c/P/jggw8+6D88Q2LezpDoPzmO4ziO4+g/N9lkk0026T80JObtDInpPzJvZ0jM2+k/L7rooosu6j8tBWr9SoHqPypQ61cK1Oo/J5tssskm6z8l5u0MiXnrPyIxb2dIzOs/IHzwwQcf7D8dx3Ecx3HsPxsS83aGxOw/GF100UUX7T8VqPUrBWrtPxPzdobEvO0/ED744IMP7j8OiXk7Q2LuPwvU+pUCte4/CB988MEH7z8Gav1KgVrvPwO1fqVAre8/AAAAAAAA8D8=\",\"dtype\":\"float64\",\"order\":\"little\",\"shape\":[100]},\"y\":{\"__ndarray__\":\"QSQc9oHm7z8vvgKEpdDwP2ZS4T/8efA/4B3MXPfe7j+fKBbXPYzuPxi6kTJtfe4/53rSqyeL8T/QkRv0c/XvP3ORExTlTvE/DgZ1nWtL8D9BLlgA0vTxPxGcssiOrvA/F8OEmM5F8D+kNcYPM1HxP4JLJmc1efI/1Fvj4eb78T+Ayrbz0lLxP1oIz4vHjPE/T3ntFp6G8D9mQo66UZryP8WdTeDTiPA/r2/0qNyg8j8gYXAQH7LxP1fK7xvOXfI/YKqcnQ9t8j+WykmwxazyP1lFxRrfhfQ/2CvvGMce8z/x6GnHq4jyPzeSxnjMd/Q/PVfNibmj9T/aJuAAJRf1P7nfXLTLufU/9hWtB0co9D/nV9y9Fh72P6qzWc9Ze/Y/B+s5V1CD9T+LShD9cRP2PxqHoi5savc/peRqGX799j8DDA3m/+T3P7wWVnH04vg/AtwYsLYY+j8IbU3WkwT5P0qTsgM2Pvo/ZnWzkz3H+D+/dtAfevD4P6rQhx5SMfo/4L/kjvI6+z+S8LtUDgb8P2r5MnT5wPw/VmHE68aV/T8sZf+JmXz+P3jY9yPfUP8/V4LnXANO/z9DQY3bCsT+P13qWl6oXf8/HYOwqmap/z9Kkkj+ElH/PxCKmsE3pv8/97mpzlM9AEAYIB4EWcQAQOugW7U0yABAnnn6g6gDAUBXgnlr26kCQMlhbu3MDQNA4UWmNx1NA0AbyWkghG4CQJmk3in+xAJAX69YRxWZA0DaBoNsGYsDQOaJJRWChgRAgJKsORNSBUD1Vb18Yt8EQGpnum/cLAZALpWqhs4HBUCR/slSDm4GQG4o3thhPQZA91QzMu6KBkAkdmkFhYsGQPrv5NauKAhA4jxBvE2FCEDT9MZs/KkIQJRTods5GwhAW7Vk+mQPCkBCZcSeR8oJQLCo8ceN9AlAtyNqM+zLCkBVE36aonULQO2Pds3D/gpAwASfuIM3C0DObuBOqt0MQNPllir/GA1APi1q2TF8DUAFBW4/IBINQOEUIHi30A5AkCshpQSnDkAOw885f8cPQJ4idC1X+g9Aa08cq7koEEA=\",\"dtype\":\"float64\",\"order\":\"little\",\"shape\":[100]}},\"selected\":{\"id\":\"1746\"},\"selection_policy\":{\"id\":\"1745\"}},\"id\":\"1731\",\"type\":\"ColumnDataSource\"},{\"attributes\":{\"children\":[{\"id\":\"1876\"},{\"id\":\"1874\"},{\"id\":\"1943\"}],\"margin\":[0,0,0,0],\"name\":\"Row00120\"},\"id\":\"1875\",\"type\":\"Row\"},{\"attributes\":{},\"id\":\"1746\",\"type\":\"Selection\"},{\"attributes\":{\"source\":{\"id\":\"1847\"}},\"id\":\"1853\",\"type\":\"CDSView\"},{\"attributes\":{\"fill_alpha\":{\"value\":0.2},\"fill_color\":{\"value\":\"midnightblue\"},\"hatch_alpha\":{\"value\":0.2},\"line_alpha\":{\"value\":0.2},\"line_color\":{\"value\":\"white\"},\"size\":{\"value\":10},\"x\":{\"field\":\"x\"},\"y\":{\"field\":\"y\"}},\"id\":\"1851\",\"type\":\"Circle\"},{\"attributes\":{\"fill_alpha\":{\"value\":0.2},\"fill_color\":{\"value\":\"midnightblue\"},\"hatch_alpha\":{\"value\":0.2},\"line_alpha\":{\"value\":0.2},\"line_color\":{\"value\":\"white\"},\"size\":{\"value\":10},\"x\":{\"field\":\"x\"},\"y\":{\"field\":\"y\"}},\"id\":\"1735\",\"type\":\"Circle\"},{\"attributes\":{},\"id\":\"1701\",\"type\":\"DataRange1d\"},{\"attributes\":{},\"id\":\"1703\",\"type\":\"DataRange1d\"},{\"attributes\":{},\"id\":\"1705\",\"type\":\"LinearScale\"},{\"attributes\":{},\"id\":\"1722\",\"type\":\"HelpTool\"},{\"attributes\":{},\"id\":\"1862\",\"type\":\"Selection\"},{\"attributes\":{},\"id\":\"1714\",\"type\":\"BasicTicker\"},{\"attributes\":{\"axis\":{\"id\":\"1713\"},\"coordinates\":null,\"dimension\":1,\"grid_line_alpha\":0.15,\"grid_line_color\":\"#E0E0E0\",\"group\":null,\"ticker\":null},\"id\":\"1716\",\"type\":\"Grid\"},{\"attributes\":{},\"id\":\"1856\",\"type\":\"BasicTickFormatter\"},{\"attributes\":{\"axis\":{\"id\":\"1709\"},\"coordinates\":null,\"grid_line_alpha\":0.15,\"grid_line_color\":\"#E0E0E0\",\"group\":null,\"ticker\":null},\"id\":\"1712\",\"type\":\"Grid\"},{\"attributes\":{},\"id\":\"1798\",\"type\":\"BasicTickFormatter\"},{\"attributes\":{\"style\":{\"font-size\":\"250%\"},\"text\":\"Different amounts of noise\"},\"id\":\"1872\",\"type\":\"Div\"},{\"attributes\":{\"label\":{\"value\":\"Observations\"},\"renderers\":[{\"id\":\"1736\"}]},\"id\":\"1749\",\"type\":\"LegendItem\"},{\"attributes\":{},\"id\":\"1799\",\"type\":\"AllLabels\"},{\"attributes\":{\"fill_alpha\":{\"value\":0.8},\"fill_color\":{\"value\":\"red\"},\"line_color\":{\"value\":\"white\"}},\"id\":\"1868\",\"type\":\"Circle\"},{\"attributes\":{\"source\":{\"id\":\"1731\"}},\"id\":\"1737\",\"type\":\"CDSView\"},{\"attributes\":{\"overlay\":{\"id\":\"1723\"}},\"id\":\"1719\",\"type\":\"BoxZoomTool\"},{\"attributes\":{},\"id\":\"1707\",\"type\":\"LinearScale\"},{\"attributes\":{\"mode\":\"append\",\"overlay\":{\"id\":\"1909\"},\"renderers\":[{\"id\":\"1852\"}]},\"id\":\"1870\",\"type\":\"BoxSelectTool\"},{\"attributes\":{},\"id\":\"1720\",\"type\":\"SaveTool\"},{\"attributes\":{},\"id\":\"1801\",\"type\":\"BasicTickFormatter\"},{\"attributes\":{},\"id\":\"1721\",\"type\":\"ResetTool\"},{\"attributes\":{},\"id\":\"1857\",\"type\":\"AllLabels\"},{\"attributes\":{\"fill_alpha\":{\"value\":0.8},\"fill_color\":{\"value\":\"red\"},\"line_color\":{\"value\":\"white\"}},\"id\":\"1810\",\"type\":\"Circle\"},{\"attributes\":{\"callback\":null,\"mode\":\"vline\",\"renderers\":[{\"id\":\"1852\"}],\"tooltips\":null},\"id\":\"1866\",\"type\":\"HoverTool\"},{\"attributes\":{},\"id\":\"1710\",\"type\":\"BasicTicker\"},{\"attributes\":{\"label\":{\"value\":\"Observations\"},\"renderers\":[{\"id\":\"1794\"}]},\"id\":\"1807\",\"type\":\"LegendItem\"},{\"attributes\":{\"data\":{\"x\":{\"__ndarray__\":\"AAAAAAAAAABbv1Kg1q+EP1u/UqDWr5Q/CB988MEHnz9bv1Kg1q+kPzJvZ0jM26k/CB988MEHrz9wZ0jM2xmyP1u/UqDWr7Q/RhdddNFFtz8yb2dIzNu5Px3HcRzHcbw/CB988MEHvz96O0Ni3s7AP3BnSMzbGcI/ZZNNNtlkwz9bv1Kg1q/EP1HrVwrU+sU/RhdddNFFxz88Q2LezpDIPzJvZ0jM28k/J5tssskmyz8dx3Ecx3HMPxPzdobEvM0/CB988MEHzz9/pUCtXynQP3o7Q2LeztA/ddFFF1100T9wZ0jM2xnSP2r9SoFav9I/ZZNNNtlk0z9gKVDrVwrUP1u/UqDWr9Q/VlVVVVVV1T9R61cK1PrVP0yBWr9SoNY/RhdddNFF1z9BrV8pUOvXPzxDYt7OkNg/N9lkk0022T8yb2dIzNvZPy0Fav1Kgdo/J5tssskm2z8iMW9nSMzbPx3HcRzHcdw/GF100UUX3T8T83aGxLzdPw6JeTtDYt4/CB988MEH3z8DtX6lQK3fP3+lQK1fKeA/ffDBBx984D96O0Ni3s7gP3eGxLydIeE/ddFFF1104T9yHMdxHMfhP3BnSMzbGeI/bbLJJpts4j9q/UqBWr/iP2hIzNsZEuM/ZZNNNtlk4z9j3s6QmLfjP2ApUOtXCuQ/XnTRRRdd5D9bv1Kg1q/kP1gK1PqVAuU/VlVVVVVV5T9ToNavFKjlP1HrVwrU+uU/TjbZZJNN5j9MgVq/UqDmP0nM2xkS8+Y/RhdddNFF5z9EYt7OkJjnP0GtXylQ6+c/P/jggw8+6D88Q2LezpDoPzmO4ziO4+g/N9lkk0026T80JObtDInpPzJvZ0jM2+k/L7rooosu6j8tBWr9SoHqPypQ61cK1Oo/J5tssskm6z8l5u0MiXnrPyIxb2dIzOs/IHzwwQcf7D8dx3Ecx3HsPxsS83aGxOw/GF100UUX7T8VqPUrBWrtPxPzdobEvO0/ED744IMP7j8OiXk7Q2LuPwvU+pUCte4/CB988MEH7z8Gav1KgVrvPwO1fqVAre8/AAAAAAAA8D8=\",\"dtype\":\"float64\",\"order\":\"little\",\"shape\":[100]},\"y\":{\"__ndarray__\":\"iECQOMHBEMAUg0gythjyP2hIYgeQutu/gKu8+Bfy+z+KxmduZH0RwPJzi7cv+RRAvktN6AXR+L94BJ+8SSMAwBnQPs/ApQzAk0PDYqokGECcy2yxhPsFwIOm77pSGhLA1DHb/dWbF0AAgFr2yoyivxE828dKP/Q/jGpkDxPsAkCgUBRoZGsNwKrqSu3vUxLAQq8Gls3GCcBoaGWRt0HIv+9yaEuE8Po/+GpG7g6qFMBy5ZsyhVwGwAw20HHagQFAchzincbyFMB8c//e3DoNQOxBF798bxlAtqCAHapFGMASRw2plAsOQKSzKt9NbB1APJaaEHf0GECKmOpEAOoTwDN/A3DPqBDADhXXNbz4H0A8injWIgARQKIdOTgwIOW/agubjyqz+b9nwh8uC5obQAXp4VPDh/a/oPjvd31aDUD+I4+qtTcKwEgsmL16ex5ABidcYN4XGEAKhFvSJSgAQE4S6OlLnQ/AIfkIyCBwFEDfL/a82jIUwHb3xrT6RSNAaN6aMiiA+j+JmlPcSkcYwEaPG3t9mxLA+IsPtlPy3D92+BMotRgbQDz2Mgl/Uw1AItIX0tKmGkCiEF5S/K3zP7VN8gkznQxAAJPIOZjntz9s7iqNhpohQAk0QM0J0hXAlv/HD3fIHUC6txg+cNf6Pw5InnUbEQxA4NWbUJkAB0AAM21IHJKivydN7FIM8SJA7h66Tn03+z8OrdL1teYgQPxHyR4k4/M/gPR4hJLfnb9Tr6FpGw0cQABEVad6692/thefiHkfEUC2dT+vVNoiQJ6g4v6gbyBAmhKQCxOLIEDTZFcckEkVQMiQmlDDehZAVgipTVEPHUAiOytpSFoIwLbyL/qyMRJA14lC9sBhAMBc9XQ+S6DvP6C0Kc4pICNAlFZLxItvGUAAde52tyzMP4bb6IxLmyNAY1h0GLCOAEB5yJzxvn4hQPdzRqbSZSVAzrxfsXFkDMCPvUXKZKEgQOsKS1wHZiJAWqbt0axVJEAiVwAJM5cXQOvohbyMNSRAUG5L0HvuCUB460n8ZnsUQKCBGbRLZiRAWMdIhLOaAcA=\",\"dtype\":\"float64\",\"order\":\"little\",\"shape\":[100]}},\"selected\":{\"id\":\"1862\"},\"selection_policy\":{\"id\":\"1861\"}},\"id\":\"1847\",\"type\":\"ColumnDataSource\"},{\"attributes\":{\"coordinates\":null,\"group\":null,\"text\":\"Problem 1\",\"text_color\":\"#E0E0E0\",\"text_font\":\"Josefin Sans\",\"text_font_size\":\"2.1em\"},\"id\":\"1699\",\"type\":\"Title\"},{\"attributes\":{},\"id\":\"1859\",\"type\":\"BasicTickFormatter\"},{\"attributes\":{\"axis_label\":\"x\",\"axis_label_standoff\":10,\"axis_label_text_color\":\"#FFFFFF\",\"axis_label_text_font\":\"Josefin Sans\",\"axis_label_text_font_size\":\"1.9em\",\"axis_label_text_font_style\":\"bold\",\"axis_line_alpha\":0.4,\"axis_line_color\":\"#E0E0E0\",\"coordinates\":null,\"formatter\":{\"id\":\"1743\"},\"group\":null,\"major_label_policy\":{\"id\":\"1744\"},\"major_label_text_color\":\"#E0E0E0\",\"major_label_text_font\":\"Josefin Sans\",\"major_label_text_font_size\":\"1.15em\",\"major_tick_line_alpha\":0.4,\"major_tick_line_color\":\"#E0E0E0\",\"minor_tick_line_alpha\":0.4,\"minor_tick_line_color\":\"#E0E0E0\",\"ticker\":{\"id\":\"1710\"}},\"id\":\"1709\",\"type\":\"LinearAxis\"},{\"attributes\":{\"mode\":\"append\",\"overlay\":{\"id\":\"1905\"},\"renderers\":[{\"id\":\"1794\"}]},\"id\":\"1812\",\"type\":\"BoxSelectTool\"},{\"attributes\":{\"axis_label\":\"y\",\"axis_label_standoff\":10,\"axis_label_text_color\":\"#FFFFFF\",\"axis_label_text_font\":\"Josefin Sans\",\"axis_label_text_font_size\":\"1.9em\",\"axis_label_text_font_style\":\"bold\",\"axis_line_alpha\":0.4,\"axis_line_color\":\"#E0E0E0\",\"coordinates\":null,\"formatter\":{\"id\":\"1740\"},\"group\":null,\"major_label_policy\":{\"id\":\"1741\"},\"major_label_text_color\":\"#E0E0E0\",\"major_label_text_font\":\"Josefin Sans\",\"major_label_text_font_size\":\"1.15em\",\"major_tick_line_alpha\":0.4,\"major_tick_line_color\":\"#E0E0E0\",\"minor_tick_line_alpha\":0.4,\"minor_tick_line_color\":\"#E0E0E0\",\"ticker\":{\"id\":\"1714\"}},\"id\":\"1713\",\"type\":\"LinearAxis\"},{\"attributes\":{\"fill_alpha\":{\"value\":0.5},\"fill_color\":{\"value\":\"midnightblue\"},\"line_color\":{\"value\":\"white\"}},\"id\":\"1869\",\"type\":\"Circle\"},{\"attributes\":{\"fill_alpha\":{\"value\":0.5},\"fill_color\":{\"value\":\"red\"},\"hatch_alpha\":{\"value\":0.5},\"line_alpha\":{\"value\":0.5},\"line_color\":{\"value\":\"white\"},\"size\":{\"value\":10},\"x\":{\"field\":\"x\"},\"y\":{\"field\":\"y\"}},\"id\":\"1734\",\"type\":\"Circle\"},{\"attributes\":{\"fill_alpha\":{\"value\":0.8},\"fill_color\":{\"value\":\"red\"},\"line_color\":{\"value\":\"white\"}},\"id\":\"1752\",\"type\":\"Circle\"},{\"attributes\":{\"callback\":null,\"mode\":\"vline\",\"renderers\":[{\"id\":\"1794\"}],\"tooltips\":null},\"id\":\"1808\",\"type\":\"HoverTool\"},{\"attributes\":{\"label\":{\"value\":\"Observations\"},\"renderers\":[{\"id\":\"1852\"}]},\"id\":\"1865\",\"type\":\"LegendItem\"},{\"attributes\":{\"bottom_units\":\"screen\",\"coordinates\":null,\"fill_alpha\":0.5,\"fill_color\":\"lightgrey\",\"group\":null,\"left_units\":\"screen\",\"level\":\"overlay\",\"line_alpha\":1.0,\"line_color\":\"black\",\"line_dash\":[4,4],\"line_width\":2,\"right_units\":\"screen\",\"syncable\":false,\"top_units\":\"screen\"},\"id\":\"1723\",\"type\":\"BoxAnnotation\"},{\"attributes\":{\"mode\":\"append\",\"overlay\":{\"id\":\"1901\"},\"renderers\":[{\"id\":\"1736\"}]},\"id\":\"1754\",\"type\":\"BoxSelectTool\"},{\"attributes\":{},\"id\":\"1745\",\"type\":\"UnionRenderers\"},{\"attributes\":{\"fill_alpha\":{\"value\":0.5},\"fill_color\":{\"value\":\"midnightblue\"},\"line_color\":{\"value\":\"white\"}},\"id\":\"1811\",\"type\":\"Circle\"},{\"attributes\":{\"callback\":null,\"mode\":\"vline\",\"renderers\":[{\"id\":\"1736\"}],\"tooltips\":null},\"id\":\"1750\",\"type\":\"HoverTool\"},{\"attributes\":{\"bottom_units\":\"screen\",\"coordinates\":null,\"fill_alpha\":0.5,\"fill_color\":\"lightgrey\",\"group\":null,\"left_units\":\"screen\",\"level\":\"overlay\",\"line_alpha\":1.0,\"line_color\":\"black\",\"line_dash\":[4,4],\"line_width\":2,\"right_units\":\"screen\",\"syncable\":false,\"top_units\":\"screen\"},\"id\":\"1905\",\"type\":\"BoxAnnotation\"},{\"attributes\":{\"fill_alpha\":{\"value\":0.25},\"fill_color\":{\"value\":\"midnightblue\"},\"hatch_alpha\":{\"value\":0.25},\"line_alpha\":{\"value\":0.25},\"line_color\":{\"value\":\"white\"},\"size\":{\"value\":10},\"x\":{\"field\":\"x\"},\"y\":{\"field\":\"y\"}},\"id\":\"1848\",\"type\":\"Circle\"},{\"attributes\":{\"background_fill_alpha\":0.9,\"background_fill_color\":\"#0f0f0f\",\"below\":[{\"id\":\"1767\"}],\"border_fill_alpha\":0.8,\"border_fill_color\":\"#111111\",\"center\":[{\"id\":\"1770\"},{\"id\":\"1774\"},{\"id\":\"1806\"}],\"height\":450,\"left\":[{\"id\":\"1771\"}],\"outline_line_alpha\":0.25,\"outline_line_color\":\"#E0E0E0\",\"outline_line_width\":3,\"renderers\":[{\"id\":\"1794\"}],\"title\":{\"id\":\"1757\"},\"toolbar\":{\"id\":\"1782\"},\"toolbar_location\":null,\"x_range\":{\"id\":\"1759\"},\"x_scale\":{\"id\":\"1763\"},\"y_range\":{\"id\":\"1761\"},\"y_scale\":{\"id\":\"1765\"}},\"id\":\"1756\",\"subtype\":\"Figure\",\"type\":\"Plot\"},{\"attributes\":{\"background_fill_alpha\":0.9,\"background_fill_color\":\"#0f0f0f\",\"below\":[{\"id\":\"1825\"}],\"border_fill_alpha\":0.8,\"border_fill_color\":\"#111111\",\"center\":[{\"id\":\"1828\"},{\"id\":\"1832\"},{\"id\":\"1864\"}],\"height\":450,\"left\":[{\"id\":\"1829\"}],\"outline_line_alpha\":0.25,\"outline_line_color\":\"#E0E0E0\",\"outline_line_width\":3,\"renderers\":[{\"id\":\"1852\"}],\"title\":{\"id\":\"1815\"},\"toolbar\":{\"id\":\"1840\"},\"toolbar_location\":null,\"x_range\":{\"id\":\"1817\"},\"x_scale\":{\"id\":\"1821\"},\"y_range\":{\"id\":\"1819\"},\"y_scale\":{\"id\":\"1823\"}},\"id\":\"1814\",\"subtype\":\"Figure\",\"type\":\"Plot\"},{\"attributes\":{},\"id\":\"1802\",\"type\":\"AllLabels\"},{\"attributes\":{},\"id\":\"1817\",\"type\":\"DataRange1d\"},{\"attributes\":{\"fill_alpha\":{\"value\":0.25},\"fill_color\":{\"value\":\"midnightblue\"},\"hatch_alpha\":{\"value\":0.25},\"line_alpha\":{\"value\":0.25},\"line_color\":{\"value\":\"white\"},\"size\":{\"value\":10},\"x\":{\"field\":\"x\"},\"y\":{\"field\":\"y\"}},\"id\":\"1732\",\"type\":\"Circle\"},{\"attributes\":{},\"id\":\"1819\",\"type\":\"DataRange1d\"},{\"attributes\":{\"fill_alpha\":{\"value\":0.5},\"fill_color\":{\"value\":\"midnightblue\"},\"line_color\":{\"value\":\"white\"}},\"id\":\"1753\",\"type\":\"Circle\"},{\"attributes\":{},\"id\":\"1821\",\"type\":\"LinearScale\"},{\"attributes\":{},\"id\":\"1861\",\"type\":\"UnionRenderers\"},{\"attributes\":{},\"id\":\"1838\",\"type\":\"HelpTool\"},{\"attributes\":{},\"id\":\"1759\",\"type\":\"DataRange1d\"},{\"attributes\":{},\"id\":\"1744\",\"type\":\"AllLabels\"},{\"attributes\":{},\"id\":\"1761\",\"type\":\"DataRange1d\"},{\"attributes\":{},\"id\":\"1763\",\"type\":\"LinearScale\"},{\"attributes\":{},\"id\":\"1826\",\"type\":\"BasicTicker\"},{\"attributes\":{},\"id\":\"1780\",\"type\":\"HelpTool\"},{\"attributes\":{\"coordinates\":null,\"group\":null,\"text\":\"Problem 3\",\"text_color\":\"#E0E0E0\",\"text_font\":\"Josefin Sans\",\"text_font_size\":\"2.1em\"},\"id\":\"1815\",\"type\":\"Title\"},{\"attributes\":{\"axis_label\":\"x\",\"axis_label_standoff\":10,\"axis_label_text_color\":\"#FFFFFF\",\"axis_label_text_font\":\"Josefin Sans\",\"axis_label_text_font_size\":\"1.9em\",\"axis_label_text_font_style\":\"bold\",\"axis_line_alpha\":0.4,\"axis_line_color\":\"#E0E0E0\",\"coordinates\":null,\"formatter\":{\"id\":\"1859\"},\"group\":null,\"major_label_policy\":{\"id\":\"1860\"},\"major_label_text_color\":\"#E0E0E0\",\"major_label_text_font\":\"Josefin Sans\",\"major_label_text_font_size\":\"1.15em\",\"major_tick_line_alpha\":0.4,\"major_tick_line_color\":\"#E0E0E0\",\"minor_tick_line_alpha\":0.4,\"minor_tick_line_color\":\"#E0E0E0\",\"ticker\":{\"id\":\"1826\"}},\"id\":\"1825\",\"type\":\"LinearAxis\"},{\"attributes\":{\"axis_label\":\"y\",\"axis_label_standoff\":10,\"axis_label_text_color\":\"#FFFFFF\",\"axis_label_text_font\":\"Josefin Sans\",\"axis_label_text_font_size\":\"1.9em\",\"axis_label_text_font_style\":\"bold\",\"axis_line_alpha\":0.4,\"axis_line_color\":\"#E0E0E0\",\"coordinates\":null,\"formatter\":{\"id\":\"1856\"},\"group\":null,\"major_label_policy\":{\"id\":\"1857\"},\"major_label_text_color\":\"#E0E0E0\",\"major_label_text_font\":\"Josefin Sans\",\"major_label_text_font_size\":\"1.15em\",\"major_tick_line_alpha\":0.4,\"major_tick_line_color\":\"#E0E0E0\",\"minor_tick_line_alpha\":0.4,\"minor_tick_line_color\":\"#E0E0E0\",\"ticker\":{\"id\":\"1830\"}},\"id\":\"1829\",\"type\":\"LinearAxis\"},{\"attributes\":{},\"id\":\"1768\",\"type\":\"BasicTicker\"},{\"attributes\":{},\"id\":\"1823\",\"type\":\"LinearScale\"},{\"attributes\":{\"coordinates\":null,\"group\":null,\"text\":\"Problem 2\",\"text_color\":\"#E0E0E0\",\"text_font\":\"Josefin Sans\",\"text_font_size\":\"2.1em\"},\"id\":\"1757\",\"type\":\"Title\"},{\"attributes\":{\"axis\":{\"id\":\"1825\"},\"coordinates\":null,\"grid_line_alpha\":0.15,\"grid_line_color\":\"#E0E0E0\",\"group\":null,\"ticker\":null},\"id\":\"1828\",\"type\":\"Grid\"},{\"attributes\":{},\"id\":\"1743\",\"type\":\"BasicTickFormatter\"},{\"attributes\":{\"axis_label\":\"x\",\"axis_label_standoff\":10,\"axis_label_text_color\":\"#FFFFFF\",\"axis_label_text_font\":\"Josefin Sans\",\"axis_label_text_font_size\":\"1.9em\",\"axis_label_text_font_style\":\"bold\",\"axis_line_alpha\":0.4,\"axis_line_color\":\"#E0E0E0\",\"coordinates\":null,\"formatter\":{\"id\":\"1801\"},\"group\":null,\"major_label_policy\":{\"id\":\"1802\"},\"major_label_text_color\":\"#E0E0E0\",\"major_label_text_font\":\"Josefin Sans\",\"major_label_text_font_size\":\"1.15em\",\"major_tick_line_alpha\":0.4,\"major_tick_line_color\":\"#E0E0E0\",\"minor_tick_line_alpha\":0.4,\"minor_tick_line_color\":\"#E0E0E0\",\"ticker\":{\"id\":\"1768\"}},\"id\":\"1767\",\"type\":\"LinearAxis\"},{\"attributes\":{\"axis_label\":\"y\",\"axis_label_standoff\":10,\"axis_label_text_color\":\"#FFFFFF\",\"axis_label_text_font\":\"Josefin Sans\",\"axis_label_text_font_size\":\"1.9em\",\"axis_label_text_font_style\":\"bold\",\"axis_line_alpha\":0.4,\"axis_line_color\":\"#E0E0E0\",\"coordinates\":null,\"formatter\":{\"id\":\"1798\"},\"group\":null,\"major_label_policy\":{\"id\":\"1799\"},\"major_label_text_color\":\"#E0E0E0\",\"major_label_text_font\":\"Josefin Sans\",\"major_label_text_font_size\":\"1.15em\",\"major_tick_line_alpha\":0.4,\"major_tick_line_color\":\"#E0E0E0\",\"minor_tick_line_alpha\":0.4,\"minor_tick_line_color\":\"#E0E0E0\",\"ticker\":{\"id\":\"1772\"}},\"id\":\"1771\",\"type\":\"LinearAxis\"},{\"attributes\":{\"axis\":{\"id\":\"1829\"},\"coordinates\":null,\"dimension\":1,\"grid_line_alpha\":0.15,\"grid_line_color\":\"#E0E0E0\",\"group\":null,\"ticker\":null},\"id\":\"1832\",\"type\":\"Grid\"},{\"attributes\":{},\"id\":\"1765\",\"type\":\"LinearScale\"},{\"attributes\":{},\"id\":\"1830\",\"type\":\"BasicTicker\"},{\"attributes\":{},\"id\":\"1741\",\"type\":\"AllLabels\"},{\"attributes\":{\"axis\":{\"id\":\"1767\"},\"coordinates\":null,\"grid_line_alpha\":0.15,\"grid_line_color\":\"#E0E0E0\",\"group\":null,\"ticker\":null},\"id\":\"1770\",\"type\":\"Grid\"},{\"attributes\":{\"axis\":{\"id\":\"1771\"},\"coordinates\":null,\"dimension\":1,\"grid_line_alpha\":0.15,\"grid_line_color\":\"#E0E0E0\",\"group\":null,\"ticker\":null},\"id\":\"1774\",\"type\":\"Grid\"},{\"attributes\":{},\"id\":\"1834\",\"type\":\"WheelZoomTool\"},{\"attributes\":{\"bottom_units\":\"screen\",\"coordinates\":null,\"fill_alpha\":0.5,\"fill_color\":\"lightgrey\",\"group\":null,\"left_units\":\"screen\",\"level\":\"overlay\",\"line_alpha\":1.0,\"line_color\":\"black\",\"line_dash\":[4,4],\"line_width\":2,\"right_units\":\"screen\",\"syncable\":false,\"top_units\":\"screen\"},\"id\":\"1909\",\"type\":\"BoxAnnotation\"},{\"attributes\":{},\"id\":\"1772\",\"type\":\"BasicTicker\"},{\"attributes\":{},\"id\":\"1833\",\"type\":\"PanTool\"},{\"attributes\":{},\"id\":\"1718\",\"type\":\"WheelZoomTool\"},{\"attributes\":{\"data\":{\"x\":{\"__ndarray__\":\"AAAAAAAAAABbv1Kg1q+EP1u/UqDWr5Q/CB988MEHnz9bv1Kg1q+kPzJvZ0jM26k/CB988MEHrz9wZ0jM2xmyP1u/UqDWr7Q/RhdddNFFtz8yb2dIzNu5Px3HcRzHcbw/CB988MEHvz96O0Ni3s7AP3BnSMzbGcI/ZZNNNtlkwz9bv1Kg1q/EP1HrVwrU+sU/RhdddNFFxz88Q2LezpDIPzJvZ0jM28k/J5tssskmyz8dx3Ecx3HMPxPzdobEvM0/CB988MEHzz9/pUCtXynQP3o7Q2LeztA/ddFFF1100T9wZ0jM2xnSP2r9SoFav9I/ZZNNNtlk0z9gKVDrVwrUP1u/UqDWr9Q/VlVVVVVV1T9R61cK1PrVP0yBWr9SoNY/RhdddNFF1z9BrV8pUOvXPzxDYt7OkNg/N9lkk0022T8yb2dIzNvZPy0Fav1Kgdo/J5tssskm2z8iMW9nSMzbPx3HcRzHcdw/GF100UUX3T8T83aGxLzdPw6JeTtDYt4/CB988MEH3z8DtX6lQK3fP3+lQK1fKeA/ffDBBx984D96O0Ni3s7gP3eGxLydIeE/ddFFF1104T9yHMdxHMfhP3BnSMzbGeI/bbLJJpts4j9q/UqBWr/iP2hIzNsZEuM/ZZNNNtlk4z9j3s6QmLfjP2ApUOtXCuQ/XnTRRRdd5D9bv1Kg1q/kP1gK1PqVAuU/VlVVVVVV5T9ToNavFKjlP1HrVwrU+uU/TjbZZJNN5j9MgVq/UqDmP0nM2xkS8+Y/RhdddNFF5z9EYt7OkJjnP0GtXylQ6+c/P/jggw8+6D88Q2LezpDoPzmO4ziO4+g/N9lkk0026T80JObtDInpPzJvZ0jM2+k/L7rooosu6j8tBWr9SoHqPypQ61cK1Oo/J5tssskm6z8l5u0MiXnrPyIxb2dIzOs/IHzwwQcf7D8dx3Ecx3HsPxsS83aGxOw/GF100UUX7T8VqPUrBWrtPxPzdobEvO0/ED744IMP7j8OiXk7Q2LuPwvU+pUCte4/CB988MEH7z8Gav1KgVrvPwO1fqVAre8/AAAAAAAA8D8=\",\"dtype\":\"float64\",\"order\":\"little\",\"shape\":[100]},\"y\":{\"__ndarray__\":\"ulHrO4W98z/04YvtqzL0PxZP8RaQHOs/Sd6XEJWI9T80M7lgE2bfP5FRGMPmlf4/MKR0XVruuT9w96YuXIDXPzGMx+EWIPU/SIiQaeCZ+j8G013cBMPuP4D+3t+v16g/cSarEHMo9z9FvbnBIJH1PzgdXoJAN8g/YCenbZ3BuD80nLRBetzTP1Wgivjc/vE/OCT3h6TA3z9WEBEiGjbqPyan1JpGJfA/0DFFYIZh7j84n48yuajfPzDfnyYno/A/VnXY6XTr+D/tW4FkXsH3PxfhcZfqtfM/wpkVtxUz/D8U8eK6LCfgP6GsI5S65/I/nCMx30xl+T+SgNU4/8r6P3weLeNxe+Q/MibpaMrJ6T+sUrw1IsjwP225T6KgSPU/6pPCk4fZ7T8m/qdV+FwCQI4OmSO+JeU/Hc+VNdhT/T9Sc5aCdQwCQOY/HTSaBwJA8xh2TCeK9z8YXfOf3eYCQDBRybU0z/g/K7V/JUdoAUCcK4W06AP5P3oG9shQ1fQ/2zSCL+yF+T+mLBGen/74P6nLrpcuXPM/QsSik/ADBEAenxhF3Pf1P5gzYoTOye8/SnvEyBwvAED2MuRIRksHQLIVoTjWUP8/46ltvneZ+z8zblnOf2H/P4SutFYnfgJAomc+EXAaAkAekDy5GBX8PwcBf/MYyvY/ADS2e4xTBUAFFYTj4pEIQAs6RAouR/k/FWpt9Q3M+D9Y3jgk9+QCQJdTK91bwARAcWHOsoIXAkDKJmerl0sLQFrTt2o/EwxAdjGDXBXvBkATmbkM7pz/Pws44RoqnwFASwS+Frg3/j/Btzf/8rcIQJnNqxwKFQFADzfKSqvPCkCC+jRRATYEQDDglo/n+QZA/eFPCqAdCEDTRkPDA+kDQPa3UAP/jQZAotldmO+zD0Dzit9GU8MPQPTYcIWj7ANAiksf2r6CEEB6TjODbGgNQFgdo6rUhQZAyvuLoi4+C0BnMU+SKWwQQA6UyYuPJAtAFCBla14/CUDXR2GFQbcQQNDPTbUYtgpA6fUMhpzOCEB+pOu2uiEKQPfc2bcYwhFA8whmTGgNEEA=\",\"dtype\":\"float64\",\"order\":\"little\",\"shape\":[100]}},\"selected\":{\"id\":\"1804\"},\"selection_policy\":{\"id\":\"1803\"}},\"id\":\"1789\",\"type\":\"ColumnDataSource\"},{\"attributes\":{\"overlay\":{\"id\":\"1839\"}},\"id\":\"1835\",\"type\":\"BoxZoomTool\"},{\"attributes\":{},\"id\":\"1836\",\"type\":\"SaveTool\"},{\"attributes\":{},\"id\":\"1776\",\"type\":\"WheelZoomTool\"},{\"attributes\":{\"coordinates\":null,\"data_source\":{\"id\":\"1847\"},\"glyph\":{\"id\":\"1848\"},\"group\":null,\"hover_glyph\":{\"id\":\"1850\"},\"muted_glyph\":{\"id\":\"1851\"},\"nonselection_glyph\":{\"id\":\"1869\"},\"selection_glyph\":{\"id\":\"1868\"},\"view\":{\"id\":\"1853\"}},\"id\":\"1852\",\"type\":\"GlyphRenderer\"},{\"attributes\":{},\"id\":\"1837\",\"type\":\"ResetTool\"},{\"attributes\":{},\"id\":\"1775\",\"type\":\"PanTool\"},{\"attributes\":{\"overlay\":{\"id\":\"1781\"}},\"id\":\"1777\",\"type\":\"BoxZoomTool\"},{\"attributes\":{},\"id\":\"1778\",\"type\":\"SaveTool\"},{\"attributes\":{},\"id\":\"1804\",\"type\":\"Selection\"}],\"root_ids\":[\"1875\",\"2043\"]},\"title\":\"Bokeh Application\",\"version\":\"2.4.3\"}};\n",
       "    var render_items = [{\"docid\":\"15939827-bbd0-4afb-a1dc-077bebfe4293\",\"root_ids\":[\"1875\"],\"roots\":{\"1875\":\"345f3912-0e6a-45b2-b601-5470bd26bb41\"}}];\n",
       "    root.Bokeh.embed.embed_items_notebook(docs_json, render_items);\n",
       "    for (const render_item of render_items) {\n",
       "      for (const root_id of render_item.root_ids) {\n",
       "\tconst id_el = document.getElementById(root_id)\n",
       "\tif (id_el.children.length && (id_el.children[0].className === 'bk-root')) {\n",
       "\t  const root_el = id_el.children[0]\n",
       "\t  root_el.id = root_el.id + '-rendered'\n",
       "\t}\n",
       "      }\n",
       "    }\n",
       "  }\n",
       "  if (root.Bokeh !== undefined && root.Bokeh.Panel !== undefined) {\n",
       "    embed_document(root);\n",
       "  } else {\n",
       "    var attempts = 0;\n",
       "    var timer = setInterval(function(root) {\n",
       "      if (root.Bokeh !== undefined && root.Bokeh.Panel !== undefined) {\n",
       "        clearInterval(timer);\n",
       "        embed_document(root);\n",
       "      } else if (document.readyState == \"complete\") {\n",
       "        attempts++;\n",
       "        if (attempts > 200) {\n",
       "          clearInterval(timer);\n",
       "          console.log(\"Bokeh: ERROR: Unable to run BokehJS code because BokehJS library is missing\");\n",
       "        }\n",
       "      }\n",
       "    }, 25, root)\n",
       "  }\n",
       "})(window);</script>"
      ],
      "text/plain": [
       "Row\n",
       "    [0] HSpacer()\n",
       "    [1] Bokeh(Column)\n",
       "    [2] HSpacer()"
      ]
     },
     "execution_count": 7,
     "metadata": {
      "application/vnd.holoviews_exec.v0+json": {
       "id": "1875"
      }
     },
     "output_type": "execute_result"
    }
   ],
   "source": [
    "plot = center_plot(column(Div(text = \"Different amounts of noise\", style={'font-size': '250%'}), row(*plots)))\n",
    "plot"
   ]
  },
  {
   "cell_type": "markdown",
   "metadata": {},
   "source": [
    "To summarize, we will have some observations of a function, and we would like to optimize a function that gets as close as possible to the real function that generated this data. Here, we plot the real function and also _subsample_ our number of observations (having only a few points to find the corresponding function)"
   ]
  },
  {
   "cell_type": "code",
   "execution_count": 8,
   "metadata": {
    "tags": []
   },
   "outputs": [
    {
     "data": {},
     "metadata": {},
     "output_type": "display_data"
    },
    {
     "data": {
      "application/vnd.holoviews_exec.v0+json": "",
      "text/html": [
       "<div id='2287'>\n",
       "  <div class=\"bk-root\" id=\"304307a9-4d6c-4699-8cba-aa7764901d9d\" data-root-id=\"2287\"></div>\n",
       "</div>\n",
       "<script type=\"application/javascript\">(function(root) {\n",
       "  function embed_document(root) {\n",
       "    var docs_json = {\"c98e6632-ede1-4901-b818-618e0d8c77fe\":{\"defs\":[{\"extends\":null,\"module\":null,\"name\":\"ReactiveHTML1\",\"overrides\":[],\"properties\":[]},{\"extends\":null,\"module\":null,\"name\":\"FlexBox1\",\"overrides\":[],\"properties\":[{\"default\":\"flex-start\",\"kind\":null,\"name\":\"align_content\"},{\"default\":\"flex-start\",\"kind\":null,\"name\":\"align_items\"},{\"default\":\"row\",\"kind\":null,\"name\":\"flex_direction\"},{\"default\":\"wrap\",\"kind\":null,\"name\":\"flex_wrap\"},{\"default\":\"flex-start\",\"kind\":null,\"name\":\"justify_content\"}]},{\"extends\":null,\"module\":null,\"name\":\"GridStack1\",\"overrides\":[],\"properties\":[{\"default\":\"warn\",\"kind\":null,\"name\":\"mode\"},{\"default\":null,\"kind\":null,\"name\":\"ncols\"},{\"default\":null,\"kind\":null,\"name\":\"nrows\"},{\"default\":true,\"kind\":null,\"name\":\"allow_resize\"},{\"default\":true,\"kind\":null,\"name\":\"allow_drag\"},{\"default\":[],\"kind\":null,\"name\":\"state\"}]},{\"extends\":null,\"module\":null,\"name\":\"click1\",\"overrides\":[],\"properties\":[{\"default\":\"\",\"kind\":null,\"name\":\"terminal_output\"},{\"default\":\"\",\"kind\":null,\"name\":\"debug_name\"},{\"default\":0,\"kind\":null,\"name\":\"clears\"}]},{\"extends\":null,\"module\":null,\"name\":\"NotificationAreaBase1\",\"overrides\":[],\"properties\":[{\"default\":\"bottom-right\",\"kind\":null,\"name\":\"position\"},{\"default\":0,\"kind\":null,\"name\":\"_clear\"}]},{\"extends\":null,\"module\":null,\"name\":\"NotificationArea1\",\"overrides\":[],\"properties\":[{\"default\":[],\"kind\":null,\"name\":\"notifications\"},{\"default\":\"bottom-right\",\"kind\":null,\"name\":\"position\"},{\"default\":0,\"kind\":null,\"name\":\"_clear\"},{\"default\":[{\"background\":\"#ffc107\",\"icon\":{\"className\":\"fas fa-exclamation-triangle\",\"color\":\"white\",\"tagName\":\"i\"},\"type\":\"warning\"},{\"background\":\"#007bff\",\"icon\":{\"className\":\"fas fa-info-circle\",\"color\":\"white\",\"tagName\":\"i\"},\"type\":\"info\"}],\"kind\":null,\"name\":\"types\"}]},{\"extends\":null,\"module\":null,\"name\":\"Notification\",\"overrides\":[],\"properties\":[{\"default\":null,\"kind\":null,\"name\":\"background\"},{\"default\":3000,\"kind\":null,\"name\":\"duration\"},{\"default\":null,\"kind\":null,\"name\":\"icon\"},{\"default\":\"\",\"kind\":null,\"name\":\"message\"},{\"default\":null,\"kind\":null,\"name\":\"notification_type\"},{\"default\":false,\"kind\":null,\"name\":\"_destroyed\"}]},{\"extends\":null,\"module\":null,\"name\":\"TemplateActions1\",\"overrides\":[],\"properties\":[{\"default\":0,\"kind\":null,\"name\":\"open_modal\"},{\"default\":0,\"kind\":null,\"name\":\"close_modal\"}]},{\"extends\":null,\"module\":null,\"name\":\"MaterialTemplateActions1\",\"overrides\":[],\"properties\":[{\"default\":0,\"kind\":null,\"name\":\"open_modal\"},{\"default\":0,\"kind\":null,\"name\":\"close_modal\"}]}],\"roots\":{\"references\":[{\"attributes\":{\"coordinates\":null,\"data_source\":{\"id\":\"2267\"},\"glyph\":{\"id\":\"2268\"},\"group\":null,\"hover_glyph\":null,\"muted_glyph\":{\"id\":\"2270\"},\"nonselection_glyph\":{\"id\":\"2269\"},\"view\":{\"id\":\"2272\"}},\"id\":\"2271\",\"type\":\"GlyphRenderer\"},{\"attributes\":{\"fill_alpha\":{\"value\":0.5},\"fill_color\":{\"value\":\"red\"},\"hatch_alpha\":{\"value\":0.5},\"line_alpha\":{\"value\":0.5},\"line_color\":{\"value\":\"white\"},\"size\":{\"value\":10},\"x\":{\"field\":\"x\"},\"y\":{\"field\":\"y\"}},\"id\":\"2245\",\"type\":\"Circle\"},{\"attributes\":{\"fill_alpha\":{\"value\":0.2},\"fill_color\":{\"value\":\"midnightblue\"},\"hatch_alpha\":{\"value\":0.2},\"line_alpha\":{\"value\":0.2},\"line_color\":{\"value\":\"white\"},\"size\":{\"value\":10},\"x\":{\"field\":\"x\"},\"y\":{\"field\":\"y\"}},\"id\":\"2246\",\"type\":\"Circle\"},{\"attributes\":{\"source\":{\"id\":\"2267\"}},\"id\":\"2272\",\"type\":\"CDSView\"},{\"attributes\":{\"line_alpha\":0.1,\"line_color\":\"green\",\"line_width\":6,\"x\":{\"field\":\"x\"},\"y\":{\"field\":\"y\"}},\"id\":\"2269\",\"type\":\"Line\"},{\"attributes\":{\"bottom_units\":\"screen\",\"coordinates\":null,\"fill_alpha\":0.5,\"fill_color\":\"lightgrey\",\"group\":null,\"left_units\":\"screen\",\"level\":\"overlay\",\"line_alpha\":1.0,\"line_color\":\"black\",\"line_dash\":[4,4],\"line_width\":2,\"right_units\":\"screen\",\"syncable\":false,\"top_units\":\"screen\"},\"id\":\"2234\",\"type\":\"BoxAnnotation\"},{\"attributes\":{\"label\":{\"value\":\"True function\"},\"renderers\":[{\"id\":\"2271\"}]},\"id\":\"2286\",\"type\":\"LegendItem\"},{\"attributes\":{\"children\":[{\"id\":\"2288\"},{\"id\":\"2209\"},{\"id\":\"2315\"}],\"margin\":[0,0,0,0],\"name\":\"Row00127\"},\"id\":\"2287\",\"type\":\"Row\"},{\"attributes\":{\"margin\":[5,5,5,5],\"name\":\"HSpacer00124\",\"sizing_mode\":\"stretch_width\"},\"id\":\"2315\",\"type\":\"Spacer\"},{\"attributes\":{\"margin\":[5,5,5,5],\"name\":\"HSpacer00123\",\"sizing_mode\":\"stretch_width\"},\"id\":\"2288\",\"type\":\"Spacer\"},{\"attributes\":{\"axis_label\":\"y\",\"axis_label_standoff\":10,\"axis_label_text_color\":\"#FFFFFF\",\"axis_label_text_font\":\"Josefin Sans\",\"axis_label_text_font_size\":\"1.9em\",\"axis_label_text_font_style\":\"bold\",\"axis_line_alpha\":0.4,\"axis_line_color\":\"#E0E0E0\",\"coordinates\":null,\"formatter\":{\"id\":\"2251\"},\"group\":null,\"major_label_policy\":{\"id\":\"2252\"},\"major_label_text_color\":\"#E0E0E0\",\"major_label_text_font\":\"Josefin Sans\",\"major_label_text_font_size\":\"1.15em\",\"major_tick_line_alpha\":0.4,\"major_tick_line_color\":\"#E0E0E0\",\"minor_tick_line_alpha\":0.4,\"minor_tick_line_color\":\"#E0E0E0\",\"ticker\":{\"id\":\"2225\"}},\"id\":\"2224\",\"type\":\"LinearAxis\"},{\"attributes\":{},\"id\":\"2218\",\"type\":\"LinearScale\"},{\"attributes\":{\"axis\":{\"id\":\"2220\"},\"coordinates\":null,\"grid_line_alpha\":0.15,\"grid_line_color\":\"#E0E0E0\",\"group\":null,\"ticker\":null},\"id\":\"2223\",\"type\":\"Grid\"},{\"attributes\":{\"axis\":{\"id\":\"2224\"},\"coordinates\":null,\"dimension\":1,\"grid_line_alpha\":0.15,\"grid_line_color\":\"#E0E0E0\",\"group\":null,\"ticker\":null},\"id\":\"2227\",\"type\":\"Grid\"},{\"attributes\":{},\"id\":\"2225\",\"type\":\"BasicTicker\"},{\"attributes\":{},\"id\":\"2255\",\"type\":\"AllLabels\"},{\"attributes\":{\"data\":{\"x\":{\"__ndarray__\":\"AAAAAAAAAABbv1Kg1q+EP1u/UqDWr5Q/CB988MEHnz9bv1Kg1q+kPzJvZ0jM26k/CB988MEHrz9wZ0jM2xmyP1u/UqDWr7Q/RhdddNFFtz8yb2dIzNu5Px3HcRzHcbw/CB988MEHvz96O0Ni3s7AP3BnSMzbGcI/ZZNNNtlkwz9bv1Kg1q/EP1HrVwrU+sU/RhdddNFFxz88Q2LezpDIPzJvZ0jM28k/J5tssskmyz8dx3Ecx3HMPxPzdobEvM0/CB988MEHzz9/pUCtXynQP3o7Q2LeztA/ddFFF1100T9wZ0jM2xnSP2r9SoFav9I/ZZNNNtlk0z9gKVDrVwrUP1u/UqDWr9Q/VlVVVVVV1T9R61cK1PrVP0yBWr9SoNY/RhdddNFF1z9BrV8pUOvXPzxDYt7OkNg/N9lkk0022T8yb2dIzNvZPy0Fav1Kgdo/J5tssskm2z8iMW9nSMzbPx3HcRzHcdw/GF100UUX3T8T83aGxLzdPw6JeTtDYt4/CB988MEH3z8DtX6lQK3fP3+lQK1fKeA/ffDBBx984D96O0Ni3s7gP3eGxLydIeE/ddFFF1104T9yHMdxHMfhP3BnSMzbGeI/bbLJJpts4j9q/UqBWr/iP2hIzNsZEuM/ZZNNNtlk4z9j3s6QmLfjP2ApUOtXCuQ/XnTRRRdd5D9bv1Kg1q/kP1gK1PqVAuU/VlVVVVVV5T9ToNavFKjlP1HrVwrU+uU/TjbZZJNN5j9MgVq/UqDmP0nM2xkS8+Y/RhdddNFF5z9EYt7OkJjnP0GtXylQ6+c/P/jggw8+6D88Q2LezpDoPzmO4ziO4+g/N9lkk0026T80JObtDInpPzJvZ0jM2+k/L7rooosu6j8tBWr9SoHqPypQ61cK1Oo/J5tssskm6z8l5u0MiXnrPyIxb2dIzOs/IHzwwQcf7D8dx3Ecx3HsPxsS83aGxOw/GF100UUX7T8VqPUrBWrtPxPzdobEvO0/ED744IMP7j8OiXk7Q2LuPwvU+pUCte4/CB988MEH7z8Gav1KgVrvPwO1fqVAre8/AAAAAAAA8D8=\",\"dtype\":\"float64\",\"order\":\"little\",\"shape\":[100]},\"y\":{\"__ndarray__\":\"AAAAAAAA8D8MJLz1QAHwPy6Q8NYDBfA/aESdo0gL8D+6QMJbDxTwPyKFX/9XH/A/ohF1jiIt8D845gIJbz3wP+YCCW89UPA/q2eHwI1l8D+IFH79X33wP3sJ7SW0l/A/hkbUOYq08D+oyzM54tPwP+GYCyS89fA/Ma5b+hca8T+ZCyS89UDxPxixZGlVavE/rZ4dAjeW8T9b1E6GmsTxPx9S+PV/9fE/+hcaUeco8j/tJbSX0F7yP/d7xsk7l/I/GBpR5yjS8j9QAFTwlw/zP6Auz+SIT/M/B6XCxPuR8z+EYy6Q8NbzPxlqEkdnHvQ/xrhu6V9o9D+JT0N32rT0P2QukPDWA/U/VlVVVVVV9T9fxJKlVan1P397SOHX//U/tnp2CNxY9j8FwhwbYrT2P2tROxlqEvc/6CjSAvRy9z98SOHX/9X3PyiwaJiNO/g/6l9oRJ2j+D/EV+DbLg75P7SX0F5Ce/k/vR85zdfq+T/c7xkn71z6PxIIc2yI0fo/YGhEnaNI+z/FEI65QML7P0EBUMFfPvw/1jmKtAC9/D+AujyTIz79P0CDZ13Iwf0/GpQKE+9H/j8K7SW0l9D+PxKOuUDCW/8/MHfFuG7p/z8y1CSOzjwAQNoQo7UmhgBAi3Hd0r/QAEBJ9tPlmRwBQBKfhu60aQFA6Gv17BC4AUDIXCDhrQcCQLNxB8uLWAJAq6qqqqqqAkCuBwqACv4CQL6IJUurUgNA1y39C42oA0D+9pDCr/8DQDDk4G4TWARAbPXsELixBEC2KrWonQwFQAqEOTbEaAVAagF6uSvGBUDWonYy1CQGQExoL6G9hAZA0FGkBejlBkBeX9VfU0gHQPiQwq//qwdAneZr9ewQCEBPYNEwG3cIQAz+8mGK3ghA07/QiDpHCUCopWqlK7EJQIevwLddHApAc93Sv9CICkBpL6G9hPYKQGylK7F5ZQtAej9ymq/VC0CT/XR5JkcMQLjfM07euQxA6eWuGNctDUAlEObYEKMNQG1e2Y6LGQ5AwNCIOkeRDkAgZ/TbQwoPQIohHHOBhA9AAAAAAAAAEEA=\",\"dtype\":\"float64\",\"order\":\"little\",\"shape\":[100]}},\"selected\":{\"id\":\"2283\"},\"selection_policy\":{\"id\":\"2282\"}},\"id\":\"2267\",\"type\":\"ColumnDataSource\"},{\"attributes\":{},\"id\":\"2212\",\"type\":\"DataRange1d\"},{\"attributes\":{\"data\":{\"x\":{\"__ndarray__\":\"W79SoNavlD8yb2dIzNu5P2WTTTbZZMM/UetXCtT6xT88Q2LezpDIPxPzdobEvM0/ejtDYt7O0D910UUXXXTRP2ApUOtXCtQ/W79SoNav1D9WVVVVVVXVP1HrVwrU+tU/TIFav1Kg1j9GF1100UXXPzxDYt7OkNg/N9lkk0022T8yb2dIzNvZPy0Fav1Kgdo/HcdxHMdx3D8YXXTRRRfdPxPzdobEvN0/CB988MEH3z998MEHH3zgP3o7Q2LezuA/d4bEvJ0h4T910UUXXXThP3BnSMzbGeI/aEjM2xkS4z9gKVDrVwrkP1gK1PqVAuU/U6DWrxSo5T9ONtlkk03mP0Ri3s6QmOc/OY7jOI7j6D832WSTTTbpPzJvZ0jM2+k/L7rooosu6j8tBWr9SoHqPypQ61cK1Oo/J5tssskm6z8iMW9nSMzrPx3HcRzHcew/Faj1KwVq7T8T83aGxLztPxA++OCDD+4/Dol5O0Ni7j8L1PqVArXuPwZq/UqBWu8/A7V+pUCt7z8AAAAAAADwPw==\",\"dtype\":\"float64\",\"order\":\"little\",\"shape\":[50]},\"y\":{\"__ndarray__\":\"AZKZYx6r7D+Lv9jFIZHyPwuIb4uUGPA/WdZn0J/38D/EDlmwNdjzP01McEXAIvU/fL4ieYJ48z8WY5mj2vr1P5zHvBmJG/Y/1+RiruSq8z8BKHJJ6/bzP+9PYkTRLPY/iSkCqP269T/40w6JlEr2PwWwDKHUqfU/KEpnISNr9D9P/NjENnv4P9x6YLuq9Po/9+vsGt6C+D8VMiiPKQT8PzgNXlfRr/g/HNbws06/+j/yV85rg7v5P9DEq/PYM/w/p4OT7WL8/D+DkgBXEoH+P21mSF94qwBAOpCvUeuU/z+2hE6EYLMCQLIa/X19FANAJkGcEzmUBEDu2T6+b5cCQPqQIpkq4gRAq/JdVm/DBkC3hzCPwKIGQAGhW5rbpwhAmPCe6pB/BkCQl4jWFAYIQCCIBmI58QhAXptm0OxWCUA6mawUmwMKQBD5PDdGAQtAXl0eaygtDUA4rYU+A0INQNE+UuIsGQ5AGkrb7mzGDECElSl4TokPQGxVCWL05w5AfdN3N6JiD0Crch5Ymt4PQA==\",\"dtype\":\"float64\",\"order\":\"little\",\"shape\":[50]}},\"selected\":{\"id\":\"2257\"},\"selection_policy\":{\"id\":\"2256\"}},\"id\":\"2242\",\"type\":\"ColumnDataSource\"},{\"attributes\":{},\"id\":\"2282\",\"type\":\"UnionRenderers\"},{\"attributes\":{},\"id\":\"2229\",\"type\":\"WheelZoomTool\"},{\"attributes\":{\"bottom_units\":\"screen\",\"coordinates\":null,\"fill_alpha\":0.5,\"fill_color\":\"lightgrey\",\"group\":null,\"left_units\":\"screen\",\"level\":\"overlay\",\"line_alpha\":1.0,\"line_color\":\"black\",\"line_dash\":[4,4],\"line_width\":2,\"right_units\":\"screen\",\"syncable\":false,\"top_units\":\"screen\"},\"id\":\"2285\",\"type\":\"BoxAnnotation\"},{\"attributes\":{},\"id\":\"2214\",\"type\":\"DataRange1d\"},{\"attributes\":{},\"id\":\"2228\",\"type\":\"PanTool\"},{\"attributes\":{},\"id\":\"2216\",\"type\":\"LinearScale\"},{\"attributes\":{\"overlay\":{\"id\":\"2234\"}},\"id\":\"2230\",\"type\":\"BoxZoomTool\"},{\"attributes\":{},\"id\":\"2283\",\"type\":\"Selection\"},{\"attributes\":{},\"id\":\"2231\",\"type\":\"SaveTool\"},{\"attributes\":{},\"id\":\"2233\",\"type\":\"HelpTool\"},{\"attributes\":{},\"id\":\"2256\",\"type\":\"UnionRenderers\"},{\"attributes\":{},\"id\":\"2232\",\"type\":\"ResetTool\"},{\"attributes\":{},\"id\":\"2221\",\"type\":\"BasicTicker\"},{\"attributes\":{\"fill_alpha\":{\"value\":0.5},\"fill_color\":{\"value\":\"midnightblue\"},\"line_color\":{\"value\":\"white\"}},\"id\":\"2264\",\"type\":\"Circle\"},{\"attributes\":{},\"id\":\"2254\",\"type\":\"BasicTickFormatter\"},{\"attributes\":{},\"id\":\"2251\",\"type\":\"BasicTickFormatter\"},{\"attributes\":{\"fill_alpha\":{\"value\":0.25},\"fill_color\":{\"value\":\"midnightblue\"},\"hatch_alpha\":{\"value\":0.25},\"line_alpha\":{\"value\":0.25},\"line_color\":{\"value\":\"white\"},\"size\":{\"value\":10},\"x\":{\"field\":\"x\"},\"y\":{\"field\":\"y\"}},\"id\":\"2243\",\"type\":\"Circle\"},{\"attributes\":{\"line_alpha\":0.6,\"line_color\":\"green\",\"line_width\":6,\"x\":{\"field\":\"x\"},\"y\":{\"field\":\"y\"}},\"id\":\"2268\",\"type\":\"Line\"},{\"attributes\":{\"coordinates\":null,\"group\":null,\"text\":\"Learning problem with groundtruth\",\"text_color\":\"#E0E0E0\",\"text_font\":\"Josefin Sans\",\"text_font_size\":\"2.1em\"},\"id\":\"2210\",\"type\":\"Title\"},{\"attributes\":{\"background_fill_alpha\":0.9,\"background_fill_color\":\"#0f0f0f\",\"below\":[{\"id\":\"2220\"}],\"border_fill_alpha\":0.8,\"border_fill_color\":\"#111111\",\"center\":[{\"id\":\"2223\"},{\"id\":\"2227\"},{\"id\":\"2259\"}],\"height\":450,\"left\":[{\"id\":\"2224\"}],\"outline_line_alpha\":0.25,\"outline_line_color\":\"#E0E0E0\",\"outline_line_width\":3,\"renderers\":[{\"id\":\"2247\"},{\"id\":\"2271\"}],\"title\":{\"id\":\"2210\"},\"toolbar\":{\"id\":\"2235\"},\"toolbar_location\":null,\"x_range\":{\"id\":\"2212\"},\"x_scale\":{\"id\":\"2216\"},\"y_range\":{\"id\":\"2214\"},\"y_scale\":{\"id\":\"2218\"}},\"id\":\"2209\",\"subtype\":\"Figure\",\"type\":\"Plot\"},{\"attributes\":{\"fill_alpha\":{\"value\":0.8},\"fill_color\":{\"value\":\"red\"},\"line_color\":{\"value\":\"white\"}},\"id\":\"2263\",\"type\":\"Circle\"},{\"attributes\":{\"axis_label\":\"x\",\"axis_label_standoff\":10,\"axis_label_text_color\":\"#FFFFFF\",\"axis_label_text_font\":\"Josefin Sans\",\"axis_label_text_font_size\":\"1.9em\",\"axis_label_text_font_style\":\"bold\",\"axis_line_alpha\":0.4,\"axis_line_color\":\"#E0E0E0\",\"coordinates\":null,\"formatter\":{\"id\":\"2254\"},\"group\":null,\"major_label_policy\":{\"id\":\"2255\"},\"major_label_text_color\":\"#E0E0E0\",\"major_label_text_font\":\"Josefin Sans\",\"major_label_text_font_size\":\"1.15em\",\"major_tick_line_alpha\":0.4,\"major_tick_line_color\":\"#E0E0E0\",\"minor_tick_line_alpha\":0.4,\"minor_tick_line_color\":\"#E0E0E0\",\"ticker\":{\"id\":\"2221\"}},\"id\":\"2220\",\"type\":\"LinearAxis\"},{\"attributes\":{\"line_alpha\":0.2,\"line_color\":\"green\",\"line_width\":6,\"x\":{\"field\":\"x\"},\"y\":{\"field\":\"y\"}},\"id\":\"2270\",\"type\":\"Line\"},{\"attributes\":{\"tools\":[{\"id\":\"2228\"},{\"id\":\"2229\"},{\"id\":\"2230\"},{\"id\":\"2231\"},{\"id\":\"2232\"},{\"id\":\"2233\"},{\"id\":\"2261\"},{\"id\":\"2265\"}]},\"id\":\"2235\",\"type\":\"Toolbar\"},{\"attributes\":{\"client_comm_id\":\"26a87ae7e9244bbaa30415d3bd2b40de\",\"comm_id\":\"ae81a8ca93a74b05a468e15be7542b63\",\"plot_id\":\"2287\"},\"id\":\"2355\",\"type\":\"panel.models.comm_manager.CommManager\"},{\"attributes\":{\"mode\":\"append\",\"overlay\":{\"id\":\"2285\"},\"renderers\":[{\"id\":\"2247\"}]},\"id\":\"2265\",\"type\":\"BoxSelectTool\"},{\"attributes\":{\"background_fill_alpha\":0.25,\"background_fill_color\":\"#505050\",\"border_line_alpha\":0.25,\"coordinates\":null,\"group\":null,\"items\":[{\"id\":\"2260\"},{\"id\":\"2286\"}],\"label_standoff\":8,\"label_text_color\":\"#E0E0E0\",\"label_text_font\":\"Josefin Sans\",\"label_text_font_size\":\"1.15em\",\"spacing\":8},\"id\":\"2259\",\"type\":\"Legend\"},{\"attributes\":{},\"id\":\"2252\",\"type\":\"AllLabels\"},{\"attributes\":{},\"id\":\"2257\",\"type\":\"Selection\"},{\"attributes\":{\"callback\":null,\"mode\":\"vline\",\"renderers\":[{\"id\":\"2247\"}],\"tooltips\":null},\"id\":\"2261\",\"type\":\"HoverTool\"},{\"attributes\":{\"label\":{\"value\":\"Observations\"},\"renderers\":[{\"id\":\"2247\"}]},\"id\":\"2260\",\"type\":\"LegendItem\"},{\"attributes\":{\"source\":{\"id\":\"2242\"}},\"id\":\"2248\",\"type\":\"CDSView\"},{\"attributes\":{\"coordinates\":null,\"data_source\":{\"id\":\"2242\"},\"glyph\":{\"id\":\"2243\"},\"group\":null,\"hover_glyph\":{\"id\":\"2245\"},\"muted_glyph\":{\"id\":\"2246\"},\"nonselection_glyph\":{\"id\":\"2264\"},\"selection_glyph\":{\"id\":\"2263\"},\"view\":{\"id\":\"2248\"}},\"id\":\"2247\",\"type\":\"GlyphRenderer\"}],\"root_ids\":[\"2287\",\"2355\"]},\"title\":\"Bokeh Application\",\"version\":\"2.4.3\"}};\n",
       "    var render_items = [{\"docid\":\"c98e6632-ede1-4901-b818-618e0d8c77fe\",\"root_ids\":[\"2287\"],\"roots\":{\"2287\":\"304307a9-4d6c-4699-8cba-aa7764901d9d\"}}];\n",
       "    root.Bokeh.embed.embed_items_notebook(docs_json, render_items);\n",
       "    for (const render_item of render_items) {\n",
       "      for (const root_id of render_item.root_ids) {\n",
       "\tconst id_el = document.getElementById(root_id)\n",
       "\tif (id_el.children.length && (id_el.children[0].className === 'bk-root')) {\n",
       "\t  const root_el = id_el.children[0]\n",
       "\t  root_el.id = root_el.id + '-rendered'\n",
       "\t}\n",
       "      }\n",
       "    }\n",
       "  }\n",
       "  if (root.Bokeh !== undefined && root.Bokeh.Panel !== undefined) {\n",
       "    embed_document(root);\n",
       "  } else {\n",
       "    var attempts = 0;\n",
       "    var timer = setInterval(function(root) {\n",
       "      if (root.Bokeh !== undefined && root.Bokeh.Panel !== undefined) {\n",
       "        clearInterval(timer);\n",
       "        embed_document(root);\n",
       "      } else if (document.readyState == \"complete\") {\n",
       "        attempts++;\n",
       "        if (attempts > 200) {\n",
       "          clearInterval(timer);\n",
       "          console.log(\"Bokeh: ERROR: Unable to run BokehJS code because BokehJS library is missing\");\n",
       "        }\n",
       "      }\n",
       "    }, 25, root)\n",
       "  }\n",
       "})(window);</script>"
      ],
      "text/plain": [
       "Row\n",
       "    [0] HSpacer()\n",
       "    [1] Bokeh(Figure)\n",
       "    [2] HSpacer()"
      ]
     },
     "execution_count": 8,
     "metadata": {
      "application/vnd.holoviews_exec.v0+json": {
       "id": "2287"
      }
     },
     "output_type": "execute_result"
    }
   ],
   "source": [
    "# Generating the data and subsampling\n",
    "x_all = np.linspace(0, 1, 100); x_plot = np.linspace(0, 1, 100)\n",
    "rng.shuffle(x_all); x = np.sort(x_all[:50])\n",
    "poly = np.poly1d([3,0,1])\n",
    "# Adding some external noise\n",
    "epsilon = np.random.uniform(-0.2,0.2,x.shape)\n",
    "y = poly(x)+ epsilon\n",
    "p = scatter(x, y, title=\"Learning problem with groundtruth\")\n",
    "p.line(x_plot, poly(x_plot), line_width=6, line_alpha=0.6, color=\"green\", legend_label=r\"True function\")\n",
    "plot = (center_plot(p))\n",
    "plot"
   ]
  },
  {
   "cell_type": "markdown",
   "metadata": {},
   "source": [
    "### Summarizing our observations (interactive)\n",
    "\n"
   ]
  },
  {
   "cell_type": "code",
   "execution_count": 9,
   "metadata": {
    "tags": []
   },
   "outputs": [
    {
     "name": "stdout",
     "output_type": "stream",
     "text": [
      "Creating the object\n"
     ]
    },
    {
     "data": {},
     "metadata": {},
     "output_type": "display_data"
    },
    {
     "data": {
      "application/vnd.holoviews_exec.v0+json": "",
      "text/html": [
       "<div id='2479'>\n",
       "  <div class=\"bk-root\" id=\"7cc8abba-e079-4b0c-ae8e-323faca6cb53\" data-root-id=\"2479\"></div>\n",
       "</div>\n",
       "<script type=\"application/javascript\">(function(root) {\n",
       "  function embed_document(root) {\n",
       "    var docs_json = {\"8df5f002-8126-4341-aaca-dc3c195e756e\":{\"defs\":[{\"extends\":null,\"module\":null,\"name\":\"ReactiveHTML1\",\"overrides\":[],\"properties\":[]},{\"extends\":null,\"module\":null,\"name\":\"FlexBox1\",\"overrides\":[],\"properties\":[{\"default\":\"flex-start\",\"kind\":null,\"name\":\"align_content\"},{\"default\":\"flex-start\",\"kind\":null,\"name\":\"align_items\"},{\"default\":\"row\",\"kind\":null,\"name\":\"flex_direction\"},{\"default\":\"wrap\",\"kind\":null,\"name\":\"flex_wrap\"},{\"default\":\"flex-start\",\"kind\":null,\"name\":\"justify_content\"}]},{\"extends\":null,\"module\":null,\"name\":\"GridStack1\",\"overrides\":[],\"properties\":[{\"default\":\"warn\",\"kind\":null,\"name\":\"mode\"},{\"default\":null,\"kind\":null,\"name\":\"ncols\"},{\"default\":null,\"kind\":null,\"name\":\"nrows\"},{\"default\":true,\"kind\":null,\"name\":\"allow_resize\"},{\"default\":true,\"kind\":null,\"name\":\"allow_drag\"},{\"default\":[],\"kind\":null,\"name\":\"state\"}]},{\"extends\":null,\"module\":null,\"name\":\"click1\",\"overrides\":[],\"properties\":[{\"default\":\"\",\"kind\":null,\"name\":\"terminal_output\"},{\"default\":\"\",\"kind\":null,\"name\":\"debug_name\"},{\"default\":0,\"kind\":null,\"name\":\"clears\"}]},{\"extends\":null,\"module\":null,\"name\":\"NotificationAreaBase1\",\"overrides\":[],\"properties\":[{\"default\":\"bottom-right\",\"kind\":null,\"name\":\"position\"},{\"default\":0,\"kind\":null,\"name\":\"_clear\"}]},{\"extends\":null,\"module\":null,\"name\":\"NotificationArea1\",\"overrides\":[],\"properties\":[{\"default\":[],\"kind\":null,\"name\":\"notifications\"},{\"default\":\"bottom-right\",\"kind\":null,\"name\":\"position\"},{\"default\":0,\"kind\":null,\"name\":\"_clear\"},{\"default\":[{\"background\":\"#ffc107\",\"icon\":{\"className\":\"fas fa-exclamation-triangle\",\"color\":\"white\",\"tagName\":\"i\"},\"type\":\"warning\"},{\"background\":\"#007bff\",\"icon\":{\"className\":\"fas fa-info-circle\",\"color\":\"white\",\"tagName\":\"i\"},\"type\":\"info\"}],\"kind\":null,\"name\":\"types\"}]},{\"extends\":null,\"module\":null,\"name\":\"Notification\",\"overrides\":[],\"properties\":[{\"default\":null,\"kind\":null,\"name\":\"background\"},{\"default\":3000,\"kind\":null,\"name\":\"duration\"},{\"default\":null,\"kind\":null,\"name\":\"icon\"},{\"default\":\"\",\"kind\":null,\"name\":\"message\"},{\"default\":null,\"kind\":null,\"name\":\"notification_type\"},{\"default\":false,\"kind\":null,\"name\":\"_destroyed\"}]},{\"extends\":null,\"module\":null,\"name\":\"TemplateActions1\",\"overrides\":[],\"properties\":[{\"default\":0,\"kind\":null,\"name\":\"open_modal\"},{\"default\":0,\"kind\":null,\"name\":\"close_modal\"}]},{\"extends\":null,\"module\":null,\"name\":\"MaterialTemplateActions1\",\"overrides\":[],\"properties\":[{\"default\":0,\"kind\":null,\"name\":\"open_modal\"},{\"default\":0,\"kind\":null,\"name\":\"close_modal\"}]}],\"roots\":{\"references\":[{\"attributes\":{},\"id\":\"2441\",\"type\":\"WheelZoomTool\"},{\"attributes\":{},\"id\":\"2444\",\"type\":\"ResetTool\"},{\"attributes\":{\"mode\":\"append\",\"overlay\":{\"id\":\"2503\"},\"renderers\":[{\"id\":\"2459\"}]},\"id\":\"2477\",\"type\":\"BoxSelectTool\"},{\"attributes\":{\"coordinates\":null,\"data_source\":{\"id\":\"2454\"},\"glyph\":{\"id\":\"2455\"},\"group\":null,\"hover_glyph\":{\"id\":\"2457\"},\"muted_glyph\":{\"id\":\"2458\"},\"nonselection_glyph\":{\"id\":\"2476\"},\"selection_glyph\":{\"id\":\"2475\"},\"view\":{\"id\":\"2460\"}},\"id\":\"2459\",\"type\":\"GlyphRenderer\"},{\"attributes\":{\"labels\":[\"Ground truth\"],\"margin\":[5,10,5,10]},\"id\":\"2487\",\"type\":\"CheckboxGroup\"},{\"attributes\":{\"args\":{\"bidirectional\":true,\"properties\":{\"readonly\":\"disabled\"},\"source\":{\"id\":\"2515\"},\"target\":{\"id\":\"2515\"}},\"code\":\"\\n    var value = source['readonly'];\\n    value = value;\\n    value = value;\\n    try {\\n      var property = target.properties['disabled'];\\n      if (property !== undefined) { property.validate(value); }\\n    } catch(err) {\\n      console.log('WARNING: Could not set disabled on target, raised error: ' + err);\\n      return;\\n    }\\n    try {\\n      target['disabled'] = value;\\n    } catch(err) {\\n      console.log(err)\\n    }\\n    \",\"tags\":[[140327250428928,[null,\"readonly\"],[null,\"disabled\"]]]},\"id\":\"2528\",\"type\":\"CustomJS\"},{\"attributes\":{\"children\":[{\"id\":\"2421\"}],\"margin\":[0,0,0,0],\"name\":\"Row00154\"},\"id\":\"2492\",\"type\":\"Row\"},{\"attributes\":{},\"id\":\"2468\",\"type\":\"UnionRenderers\"},{\"attributes\":{\"end\":5.0,\"margin\":[5,10,5,10],\"start\":-5.0,\"step\":0.1,\"title\":\"X 1\",\"value\":0.0},\"id\":\"2490\",\"type\":\"Slider\"},{\"attributes\":{\"end\":1000,\"margin\":[5,10,5,10],\"start\":10,\"title\":\"Number observations\",\"value\":100},\"id\":\"2485\",\"type\":\"Slider\"},{\"attributes\":{\"children\":[{\"id\":\"2483\"},{\"id\":\"2492\"}],\"margin\":[0,0,0,0],\"name\":\"Row00157\"},\"id\":\"2482\",\"type\":\"Row\"},{\"attributes\":{\"tools\":[{\"id\":\"2440\"},{\"id\":\"2441\"},{\"id\":\"2442\"},{\"id\":\"2443\"},{\"id\":\"2444\"},{\"id\":\"2445\"},{\"id\":\"2473\"},{\"id\":\"2477\"}]},\"id\":\"2447\",\"type\":\"Toolbar\"},{\"attributes\":{\"axis\":{\"id\":\"2436\"},\"coordinates\":null,\"dimension\":1,\"grid_line_alpha\":0.15,\"grid_line_color\":\"#E0E0E0\",\"group\":null,\"ticker\":null},\"id\":\"2439\",\"type\":\"Grid\"},{\"attributes\":{\"children\":[{\"id\":\"2480\"},{\"id\":\"2481\"},{\"id\":\"2516\"}],\"margin\":[0,0,0,0],\"name\":\"Row00162\"},\"id\":\"2479\",\"type\":\"Row\"},{\"attributes\":{\"children\":[{\"id\":\"2482\"},{\"id\":\"2515\"}],\"margin\":[0,0,0,0],\"name\":\"Column00160\"},\"id\":\"2481\",\"type\":\"Column\"},{\"attributes\":{\"labels\":[\"Error\"],\"margin\":[5,10,5,10]},\"id\":\"2488\",\"type\":\"CheckboxGroup\"},{\"attributes\":{},\"id\":\"2466\",\"type\":\"BasicTickFormatter\"},{\"attributes\":{\"label\":{\"value\":\"Observations\"},\"renderers\":[{\"id\":\"2459\"}]},\"id\":\"2472\",\"type\":\"LegendItem\"},{\"attributes\":{\"axis\":{\"id\":\"2432\"},\"coordinates\":null,\"grid_line_alpha\":0.15,\"grid_line_color\":\"#E0E0E0\",\"group\":null,\"ticker\":null},\"id\":\"2435\",\"type\":\"Grid\"},{\"attributes\":{\"axis_label\":\"$$\\\\color{white} x$$\",\"axis_label_standoff\":10,\"axis_label_text_color\":\"#FFFFFF\",\"axis_label_text_font\":\"Josefin Sans\",\"axis_label_text_font_size\":\"1.9em\",\"axis_label_text_font_style\":\"bold\",\"axis_line_alpha\":0.4,\"axis_line_color\":\"#E0E0E0\",\"coordinates\":null,\"formatter\":{\"id\":\"2466\"},\"group\":null,\"major_label_policy\":{\"id\":\"2467\"},\"major_label_text_color\":\"#E0E0E0\",\"major_label_text_font\":\"Josefin Sans\",\"major_label_text_font_size\":\"1.15em\",\"major_tick_line_alpha\":0.4,\"major_tick_line_color\":\"#E0E0E0\",\"minor_tick_line_alpha\":0.4,\"minor_tick_line_color\":\"#E0E0E0\",\"ticker\":{\"id\":\"2433\"}},\"id\":\"2432\",\"type\":\"LinearAxis\"},{\"attributes\":{\"end\":5.0,\"margin\":[5,10,5,10],\"start\":-5.0,\"step\":0.1,\"title\":\"X 0\",\"value\":1.0},\"id\":\"2491\",\"type\":\"Slider\"},{\"attributes\":{\"axis_label\":\"$$\\\\color{white} -2.0x^2 + 0.0x^1 + 1.0x^0$$\",\"axis_label_standoff\":10,\"axis_label_text_color\":\"#FFFFFF\",\"axis_label_text_font\":\"Josefin Sans\",\"axis_label_text_font_size\":\"1.9em\",\"axis_label_text_font_style\":\"bold\",\"axis_line_alpha\":0.4,\"axis_line_color\":\"#E0E0E0\",\"coordinates\":null,\"formatter\":{\"id\":\"2463\"},\"group\":null,\"major_label_policy\":{\"id\":\"2464\"},\"major_label_text_color\":\"#E0E0E0\",\"major_label_text_font\":\"Josefin Sans\",\"major_label_text_font_size\":\"1.15em\",\"major_tick_line_alpha\":0.4,\"major_tick_line_color\":\"#E0E0E0\",\"minor_tick_line_alpha\":0.4,\"minor_tick_line_color\":\"#E0E0E0\",\"ticker\":{\"id\":\"2437\"}},\"id\":\"2436\",\"type\":\"LinearAxis\"},{\"attributes\":{},\"id\":\"2424\",\"type\":\"DataRange1d\"},{\"attributes\":{\"code\":\"def polynomial(\\n        coefficients: jnp.ndarray,\\n        n_observations: int = 100) -> [jnp.ndarray, jnp.ndarray]:\\n    x = jnp.linspace(0, 1, n_observations)\\n    y = jnp.polyval(coefficients, x)\\n    return x, \",\"filename\":\"\",\"height\":150,\"js_property_callbacks\":{\"change:disabled\":[{\"id\":\"2529\"}],\"change:readonly\":[{\"id\":\"2528\"}]},\"language\":\"python\",\"margin\":[5,10,5,10],\"sizing_mode\":\"stretch_both\",\"theme\":\"chaos\"},\"id\":\"2515\",\"type\":\"panel.models.ace.AcePlot\"},{\"attributes\":{},\"id\":\"2433\",\"type\":\"BasicTicker\"},{\"attributes\":{},\"id\":\"2430\",\"type\":\"LinearScale\"},{\"attributes\":{\"bottom_units\":\"screen\",\"coordinates\":null,\"fill_alpha\":0.5,\"fill_color\":\"lightgrey\",\"group\":null,\"left_units\":\"screen\",\"level\":\"overlay\",\"line_alpha\":1.0,\"line_color\":\"black\",\"line_dash\":[4,4],\"line_width\":2,\"right_units\":\"screen\",\"syncable\":false,\"top_units\":\"screen\"},\"id\":\"2446\",\"type\":\"BoxAnnotation\"},{\"attributes\":{\"children\":[{\"id\":\"2484\"},{\"id\":\"2485\"},{\"id\":\"2486\"},{\"id\":\"2487\"},{\"id\":\"2488\"},{\"id\":\"2489\"},{\"id\":\"2490\"},{\"id\":\"2491\"}],\"margin\":[5,5,5,5],\"min_width\":300,\"name\":\"Problem parameters\",\"width\":300},\"id\":\"2483\",\"type\":\"Column\"},{\"attributes\":{\"fill_alpha\":{\"value\":0.25},\"fill_color\":{\"value\":\"midnightblue\"},\"hatch_alpha\":{\"value\":0.25},\"line_alpha\":{\"value\":0.25},\"line_color\":{\"value\":\"white\"},\"size\":{\"value\":10},\"x\":{\"field\":\"x\"},\"y\":{\"field\":\"y\"}},\"id\":\"2455\",\"type\":\"Circle\"},{\"attributes\":{\"margin\":[5,10,5,10],\"name\":\"\",\"text\":\"<b>Problem parameters</b>\"},\"id\":\"2484\",\"type\":\"Div\"},{\"attributes\":{},\"id\":\"2437\",\"type\":\"BasicTicker\"},{\"attributes\":{\"fill_alpha\":{\"value\":0.5},\"fill_color\":{\"value\":\"midnightblue\"},\"line_color\":{\"value\":\"white\"}},\"id\":\"2476\",\"type\":\"Circle\"},{\"attributes\":{\"overlay\":{\"id\":\"2446\"}},\"id\":\"2442\",\"type\":\"BoxZoomTool\"},{\"attributes\":{},\"id\":\"2467\",\"type\":\"AllLabels\"},{\"attributes\":{\"coordinates\":null,\"group\":null,\"text\":\"Polynomial regression problem\",\"text_color\":\"#E0E0E0\",\"text_font\":\"Josefin Sans\",\"text_font_size\":\"2.1em\"},\"id\":\"2422\",\"type\":\"Title\"},{\"attributes\":{\"fill_alpha\":{\"value\":0.2},\"fill_color\":{\"value\":\"midnightblue\"},\"hatch_alpha\":{\"value\":0.2},\"line_alpha\":{\"value\":0.2},\"line_color\":{\"value\":\"white\"},\"size\":{\"value\":10},\"x\":{\"field\":\"x\"},\"y\":{\"field\":\"y\"}},\"id\":\"2458\",\"type\":\"Circle\"},{\"attributes\":{},\"id\":\"2443\",\"type\":\"SaveTool\"},{\"attributes\":{\"end\":5.0,\"margin\":[5,10,5,10],\"start\":-5.0,\"step\":0.1,\"title\":\"X 2\",\"value\":-2.0},\"id\":\"2489\",\"type\":\"Slider\"},{\"attributes\":{},\"id\":\"2463\",\"type\":\"BasicTickFormatter\"},{\"attributes\":{},\"id\":\"2440\",\"type\":\"PanTool\"},{\"attributes\":{\"margin\":[5,5,5,5],\"name\":\"HSpacer00131\",\"sizing_mode\":\"stretch_width\"},\"id\":\"2480\",\"type\":\"Spacer\"},{\"attributes\":{},\"id\":\"2428\",\"type\":\"LinearScale\"},{\"attributes\":{\"source\":{\"id\":\"2454\"}},\"id\":\"2460\",\"type\":\"CDSView\"},{\"attributes\":{\"margin\":[5,5,5,5],\"name\":\"HSpacer00161\",\"sizing_mode\":\"stretch_width\"},\"id\":\"2516\",\"type\":\"Spacer\"},{\"attributes\":{\"background_fill_alpha\":0.9,\"background_fill_color\":\"#0f0f0f\",\"below\":[{\"id\":\"2432\"}],\"border_fill_alpha\":0.8,\"border_fill_color\":\"#111111\",\"center\":[{\"id\":\"2435\"},{\"id\":\"2439\"},{\"id\":\"2471\"}],\"height\":450,\"left\":[{\"id\":\"2436\"}],\"outline_line_alpha\":0.25,\"outline_line_color\":\"#E0E0E0\",\"outline_line_width\":3,\"renderers\":[{\"id\":\"2459\"}],\"title\":{\"id\":\"2422\"},\"toolbar\":{\"id\":\"2447\"},\"toolbar_location\":null,\"x_range\":{\"id\":\"2424\"},\"x_scale\":{\"id\":\"2428\"},\"y_range\":{\"id\":\"2426\"},\"y_scale\":{\"id\":\"2430\"}},\"id\":\"2421\",\"subtype\":\"Figure\",\"type\":\"Plot\"},{\"attributes\":{\"data\":{\"x\":{\"__ndarray__\":\"AAAAALV+JTy1fqU8ED74PLV+JT1i3k49ED54Pd7OkD21fqU9jC66PWLezj05juM9ED74PfN2Bj7ezhA+yiYbPrV+JT6g1i8+jC46PneGRD5i3k4+TjZZPjmOYz4k5m0+ED54Pv1KgT7zdoY+6aKLPt7OkD7U+pU+yiabPr9SoD61fqU+q6qqPqDWrz6WArU+jC66PoFavz53hsQ+bbLJPmLezj5YCtQ+TjbZPkNi3j45juM+L7roPiTm7T4aEvM+ED74PgVq/T79SgE/+OADP/N2Bj/uDAk/6aILP+Q4Dj/ezhA/2WQTP9T6FT/PkBg/yiYbP8W8HT+/UiA/uugiP7V+JT+wFCg/q6oqP6VALT+g1i8/m2wyP5YCNT+RmDc/jC46P4bEPD+BWj8/fPBBP3eGRD9yHEc/bbJJP2dITD9i3k4/XXRRP1gKVD9ToFY/TjZZP0jMWz9DYl4/PvhgPzmOYz80JGY/L7poPylQaz8k5m0/H3xwPxoScz8VqHU/ED54PwrUej8Fan0/AACAPw==\",\"dtype\":\"float32\",\"order\":\"little\",\"shape\":[100]},\"y\":{\"__ndarray__\":\"ki1uPx9TiT8UHoA/KL2KP9L1ij8FfHg/j02KP4J+iz+OAWc/8EiKP+36aD+Uq24/O3V9P4ckgT9ZE4A/erlcP4O2Xz8H9HI/dix4P2m1WT8cCYA/BBV9PzAeZD+wj1E/e4B4Py12cD+O418/MNdsPxx5Vj+HkTo/PUBRP9jNRz/MKjc/NiZXP98eST/k1ig//Eo4Pz1wPD9dT0c/UUsbPzfZFj9nKB8/ExktP6dtHD8kvx4//RskPwtcGz/0AQ8/aVP6PvePCz8y/wk/7HvwPjHoAj/45ds+kKb8Pu/Zsj5fadI+xBLYPogAxj5I3sM+FNFPPrgFqT5KvlU+1T5CPgRDej6S6zs+l2hLPen1Dz1iq/U9OeAyPSJgWjwm0HQ90AEyOyBkwzsEu/O8sk4avs6D0b0fp/q9GiMnvijpZb4c63K+06y+vucAsb48dt++FNvovhDTDr9JMAy/hZsevwYMCL8dGBC/8rIdvw9GG79AkD2/ofYtv+9MOr9l1kK/4mlxvxL3Vr8PD4C//ciIvw==\",\"dtype\":\"float32\",\"order\":\"little\",\"shape\":[100]}},\"selected\":{\"id\":\"2469\"},\"selection_policy\":{\"id\":\"2468\"}},\"id\":\"2454\",\"type\":\"ColumnDataSource\"},{\"attributes\":{\"fill_alpha\":{\"value\":0.8},\"fill_color\":{\"value\":\"red\"},\"line_color\":{\"value\":\"white\"}},\"id\":\"2475\",\"type\":\"Circle\"},{\"attributes\":{},\"id\":\"2445\",\"type\":\"HelpTool\"},{\"attributes\":{},\"id\":\"2469\",\"type\":\"Selection\"},{\"attributes\":{\"fill_alpha\":{\"value\":0.5},\"fill_color\":{\"value\":\"red\"},\"hatch_alpha\":{\"value\":0.5},\"line_alpha\":{\"value\":0.5},\"line_color\":{\"value\":\"white\"},\"size\":{\"value\":10},\"x\":{\"field\":\"x\"},\"y\":{\"field\":\"y\"}},\"id\":\"2457\",\"type\":\"Circle\"},{\"attributes\":{},\"id\":\"2426\",\"type\":\"DataRange1d\"},{\"attributes\":{\"client_comm_id\":\"7a89627a5daf465fb4d03be6718899d4\",\"comm_id\":\"989a33f0d6db4ebcaa49572311965120\",\"plot_id\":\"2479\"},\"id\":\"2552\",\"type\":\"panel.models.comm_manager.CommManager\"},{\"attributes\":{\"bottom_units\":\"screen\",\"coordinates\":null,\"fill_alpha\":0.5,\"fill_color\":\"lightgrey\",\"group\":null,\"left_units\":\"screen\",\"level\":\"overlay\",\"line_alpha\":1.0,\"line_color\":\"black\",\"line_dash\":[4,4],\"line_width\":2,\"right_units\":\"screen\",\"syncable\":false,\"top_units\":\"screen\"},\"id\":\"2503\",\"type\":\"BoxAnnotation\"},{\"attributes\":{\"end\":5.0,\"margin\":[5,10,5,10],\"start\":0.0,\"step\":0.1,\"title\":\"Noise level\",\"value\":0.1},\"id\":\"2486\",\"type\":\"Slider\"},{\"attributes\":{},\"id\":\"2464\",\"type\":\"AllLabels\"},{\"attributes\":{\"callback\":null,\"mode\":\"vline\",\"renderers\":[{\"id\":\"2459\"}],\"tooltips\":null},\"id\":\"2473\",\"type\":\"HoverTool\"},{\"attributes\":{\"background_fill_alpha\":0.25,\"background_fill_color\":\"#505050\",\"border_line_alpha\":0.25,\"coordinates\":null,\"group\":null,\"items\":[{\"id\":\"2472\"}],\"label_standoff\":8,\"label_text_color\":\"#E0E0E0\",\"label_text_font\":\"Josefin Sans\",\"label_text_font_size\":\"1.15em\",\"spacing\":8},\"id\":\"2471\",\"type\":\"Legend\"},{\"attributes\":{\"args\":{\"bidirectional\":true,\"properties\":{\"readonly\":\"disabled\"},\"source\":{\"id\":\"2515\"},\"target\":{\"id\":\"2515\"}},\"code\":\"\\n    var value = source['disabled'];\\n    value = value;\\n    value = value;\\n    try {\\n      var property = target.properties['readonly'];\\n      if (property !== undefined) { property.validate(value); }\\n    } catch(err) {\\n      console.log('WARNING: Could not set readonly on target, raised error: ' + err);\\n      return;\\n    }\\n    try {\\n      target['readonly'] = value;\\n    } catch(err) {\\n      console.log(err)\\n    }\\n    \",\"tags\":[[140327250428928,[null,\"readonly\"],[null,\"disabled\"]]]},\"id\":\"2529\",\"type\":\"CustomJS\"}],\"root_ids\":[\"2479\",\"2552\"]},\"title\":\"Bokeh Application\",\"version\":\"2.4.3\"}};\n",
       "    var render_items = [{\"docid\":\"8df5f002-8126-4341-aaca-dc3c195e756e\",\"root_ids\":[\"2479\"],\"roots\":{\"2479\":\"7cc8abba-e079-4b0c-ae8e-323faca6cb53\"}}];\n",
       "    root.Bokeh.embed.embed_items_notebook(docs_json, render_items);\n",
       "    for (const render_item of render_items) {\n",
       "      for (const root_id of render_item.root_ids) {\n",
       "\tconst id_el = document.getElementById(root_id)\n",
       "\tif (id_el.children.length && (id_el.children[0].className === 'bk-root')) {\n",
       "\t  const root_el = id_el.children[0]\n",
       "\t  root_el.id = root_el.id + '-rendered'\n",
       "\t}\n",
       "      }\n",
       "    }\n",
       "  }\n",
       "  if (root.Bokeh !== undefined && root.Bokeh.Panel !== undefined) {\n",
       "    embed_document(root);\n",
       "  } else {\n",
       "    var attempts = 0;\n",
       "    var timer = setInterval(function(root) {\n",
       "      if (root.Bokeh !== undefined && root.Bokeh.Panel !== undefined) {\n",
       "        clearInterval(timer);\n",
       "        embed_document(root);\n",
       "      } else if (document.readyState == \"complete\") {\n",
       "        attempts++;\n",
       "        if (attempts > 200) {\n",
       "          clearInterval(timer);\n",
       "          console.log(\"Bokeh: ERROR: Unable to run BokehJS code because BokehJS library is missing\");\n",
       "        }\n",
       "      }\n",
       "    }, 25, root)\n",
       "  }\n",
       "})(window);</script>"
      ],
      "text/plain": [
       "Row\n",
       "    [0] HSpacer()\n",
       "    [1] Column\n",
       "        [0] Row\n",
       "            [0] Param(RegressionPolynomial, name='Problem parameters', widgets={})\n",
       "            [1] ParamMethod(method, _pane=Bokeh)\n",
       "        [1] Ace(height=150, language='python', sizing_mode='stretch_both', theme='chaos', value='def polynomial(\\n        ...)\n",
       "    [2] HSpacer()"
      ]
     },
     "execution_count": 9,
     "metadata": {
      "application/vnd.holoviews_exec.v0+json": {
       "id": "2479"
      }
     },
     "output_type": "execute_result"
    }
   ],
   "source": [
    "from cml.tasks import RegressionPolynomial\n",
    "explorer = RegressionPolynomial()\n",
    "explorer.render()"
   ]
  },
  {
   "cell_type": "markdown",
   "metadata": {},
   "source": [
    "## Using learning libraries (`scikit-learn`)"
   ]
  },
  {
   "cell_type": "markdown",
   "metadata": {},
   "source": [
    "To get a first grip on what machine learning does, we will rely on the `scikit-learn` library. This contains already coded models and learning procedure, that will allow us to _learn_ the parameters of this unknown function.\n",
    "\n",
    "Here we already know that we want to use a `PolynomialFeatures` model to perfom `LinearRegression` and that this polynomial should be of degree 2."
   ]
  },
  {
   "cell_type": "code",
   "execution_count": 10,
   "metadata": {
    "tags": []
   },
   "outputs": [],
   "source": [
    "from sklearn.linear_model import LinearRegression\n",
    "from sklearn.preprocessing import PolynomialFeatures\n",
    "from sklearn.pipeline import make_pipeline\n",
    "# Our data to fit\n",
    "X = x[:, np.newaxis]\n",
    "# Degree of our polynomial\n",
    "degree = 30;\n",
    "# Create our polynomial model for regression\n",
    "model = make_pipeline(PolynomialFeatures(degree), LinearRegression())\n",
    "# Fit the parameters of this model\n",
    "model.fit(X, y);"
   ]
  },
  {
   "cell_type": "markdown",
   "metadata": {},
   "source": [
    "Now that we have trained the model, we can perform _predictions_ from it, meaning that we can infer the output of the function at values that we did not observe originally."
   ]
  },
  {
   "cell_type": "code",
   "execution_count": 11,
   "metadata": {
    "tags": []
   },
   "outputs": [
    {
     "name": "stdout",
     "output_type": "stream",
     "text": [
      "Model error : 0.08067360991497237\n"
     ]
    },
    {
     "data": {},
     "metadata": {},
     "output_type": "display_data"
    },
    {
     "data": {
      "application/vnd.holoviews_exec.v0+json": "",
      "text/html": [
       "<div id='2686'>\n",
       "  <div class=\"bk-root\" id=\"1ef6326f-07ed-4179-8f18-80aaf5af5e4f\" data-root-id=\"2686\"></div>\n",
       "</div>\n",
       "<script type=\"application/javascript\">(function(root) {\n",
       "  function embed_document(root) {\n",
       "    var docs_json = {\"a38dc8f5-0ad6-49ad-ad17-fc6e46f6016d\":{\"defs\":[{\"extends\":null,\"module\":null,\"name\":\"ReactiveHTML1\",\"overrides\":[],\"properties\":[]},{\"extends\":null,\"module\":null,\"name\":\"FlexBox1\",\"overrides\":[],\"properties\":[{\"default\":\"flex-start\",\"kind\":null,\"name\":\"align_content\"},{\"default\":\"flex-start\",\"kind\":null,\"name\":\"align_items\"},{\"default\":\"row\",\"kind\":null,\"name\":\"flex_direction\"},{\"default\":\"wrap\",\"kind\":null,\"name\":\"flex_wrap\"},{\"default\":\"flex-start\",\"kind\":null,\"name\":\"justify_content\"}]},{\"extends\":null,\"module\":null,\"name\":\"GridStack1\",\"overrides\":[],\"properties\":[{\"default\":\"warn\",\"kind\":null,\"name\":\"mode\"},{\"default\":null,\"kind\":null,\"name\":\"ncols\"},{\"default\":null,\"kind\":null,\"name\":\"nrows\"},{\"default\":true,\"kind\":null,\"name\":\"allow_resize\"},{\"default\":true,\"kind\":null,\"name\":\"allow_drag\"},{\"default\":[],\"kind\":null,\"name\":\"state\"}]},{\"extends\":null,\"module\":null,\"name\":\"click1\",\"overrides\":[],\"properties\":[{\"default\":\"\",\"kind\":null,\"name\":\"terminal_output\"},{\"default\":\"\",\"kind\":null,\"name\":\"debug_name\"},{\"default\":0,\"kind\":null,\"name\":\"clears\"}]},{\"extends\":null,\"module\":null,\"name\":\"NotificationAreaBase1\",\"overrides\":[],\"properties\":[{\"default\":\"bottom-right\",\"kind\":null,\"name\":\"position\"},{\"default\":0,\"kind\":null,\"name\":\"_clear\"}]},{\"extends\":null,\"module\":null,\"name\":\"NotificationArea1\",\"overrides\":[],\"properties\":[{\"default\":[],\"kind\":null,\"name\":\"notifications\"},{\"default\":\"bottom-right\",\"kind\":null,\"name\":\"position\"},{\"default\":0,\"kind\":null,\"name\":\"_clear\"},{\"default\":[{\"background\":\"#ffc107\",\"icon\":{\"className\":\"fas fa-exclamation-triangle\",\"color\":\"white\",\"tagName\":\"i\"},\"type\":\"warning\"},{\"background\":\"#007bff\",\"icon\":{\"className\":\"fas fa-info-circle\",\"color\":\"white\",\"tagName\":\"i\"},\"type\":\"info\"}],\"kind\":null,\"name\":\"types\"}]},{\"extends\":null,\"module\":null,\"name\":\"Notification\",\"overrides\":[],\"properties\":[{\"default\":null,\"kind\":null,\"name\":\"background\"},{\"default\":3000,\"kind\":null,\"name\":\"duration\"},{\"default\":null,\"kind\":null,\"name\":\"icon\"},{\"default\":\"\",\"kind\":null,\"name\":\"message\"},{\"default\":null,\"kind\":null,\"name\":\"notification_type\"},{\"default\":false,\"kind\":null,\"name\":\"_destroyed\"}]},{\"extends\":null,\"module\":null,\"name\":\"TemplateActions1\",\"overrides\":[],\"properties\":[{\"default\":0,\"kind\":null,\"name\":\"open_modal\"},{\"default\":0,\"kind\":null,\"name\":\"close_modal\"}]},{\"extends\":null,\"module\":null,\"name\":\"MaterialTemplateActions1\",\"overrides\":[],\"properties\":[{\"default\":0,\"kind\":null,\"name\":\"open_modal\"},{\"default\":0,\"kind\":null,\"name\":\"close_modal\"}]}],\"roots\":{\"references\":[{\"attributes\":{},\"id\":\"2681\",\"type\":\"UnionRenderers\"},{\"attributes\":{},\"id\":\"2650\",\"type\":\"BasicTickFormatter\"},{\"attributes\":{\"source\":{\"id\":\"2641\"}},\"id\":\"2647\",\"type\":\"CDSView\"},{\"attributes\":{},\"id\":\"2682\",\"type\":\"Selection\"},{\"attributes\":{},\"id\":\"2656\",\"type\":\"Selection\"},{\"attributes\":{\"axis_label\":\"x\",\"axis_label_standoff\":10,\"axis_label_text_color\":\"#FFFFFF\",\"axis_label_text_font\":\"Josefin Sans\",\"axis_label_text_font_size\":\"1.9em\",\"axis_label_text_font_style\":\"bold\",\"axis_line_alpha\":0.4,\"axis_line_color\":\"#E0E0E0\",\"coordinates\":null,\"formatter\":{\"id\":\"2653\"},\"group\":null,\"major_label_policy\":{\"id\":\"2654\"},\"major_label_text_color\":\"#E0E0E0\",\"major_label_text_font\":\"Josefin Sans\",\"major_label_text_font_size\":\"1.15em\",\"major_tick_line_alpha\":0.4,\"major_tick_line_color\":\"#E0E0E0\",\"minor_tick_line_alpha\":0.4,\"minor_tick_line_color\":\"#E0E0E0\",\"ticker\":{\"id\":\"2620\"}},\"id\":\"2619\",\"type\":\"LinearAxis\"},{\"attributes\":{\"background_fill_alpha\":0.9,\"background_fill_color\":\"#0f0f0f\",\"below\":[{\"id\":\"2619\"}],\"border_fill_alpha\":0.8,\"border_fill_color\":\"#111111\",\"center\":[{\"id\":\"2622\"},{\"id\":\"2626\"},{\"id\":\"2658\"}],\"height\":450,\"left\":[{\"id\":\"2623\"}],\"outline_line_alpha\":0.25,\"outline_line_color\":\"#E0E0E0\",\"outline_line_width\":3,\"renderers\":[{\"id\":\"2646\"},{\"id\":\"2670\"}],\"title\":{\"id\":\"2609\"},\"toolbar\":{\"id\":\"2634\"},\"toolbar_location\":null,\"x_range\":{\"id\":\"2611\"},\"x_scale\":{\"id\":\"2615\"},\"y_range\":{\"id\":\"2613\"},\"y_scale\":{\"id\":\"2617\"}},\"id\":\"2608\",\"subtype\":\"Figure\",\"type\":\"Plot\"},{\"attributes\":{\"line_alpha\":0.6,\"line_color\":\"red\",\"line_width\":6,\"x\":{\"field\":\"x\"},\"y\":{\"field\":\"y\"}},\"id\":\"2667\",\"type\":\"Line\"},{\"attributes\":{},\"id\":\"2631\",\"type\":\"ResetTool\"},{\"attributes\":{},\"id\":\"2630\",\"type\":\"SaveTool\"},{\"attributes\":{},\"id\":\"2655\",\"type\":\"UnionRenderers\"},{\"attributes\":{\"coordinates\":null,\"group\":null,\"text\":\"Training a scikit-learn model\",\"text_color\":\"#E0E0E0\",\"text_font\":\"Josefin Sans\",\"text_font_size\":\"2.1em\"},\"id\":\"2609\",\"type\":\"Title\"},{\"attributes\":{\"axis\":{\"id\":\"2623\"},\"coordinates\":null,\"dimension\":1,\"grid_line_alpha\":0.15,\"grid_line_color\":\"#E0E0E0\",\"group\":null,\"ticker\":null},\"id\":\"2626\",\"type\":\"Grid\"},{\"attributes\":{\"fill_alpha\":{\"value\":0.8},\"fill_color\":{\"value\":\"red\"},\"line_color\":{\"value\":\"white\"}},\"id\":\"2662\",\"type\":\"Circle\"},{\"attributes\":{},\"id\":\"2611\",\"type\":\"DataRange1d\"},{\"attributes\":{},\"id\":\"2624\",\"type\":\"BasicTicker\"},{\"attributes\":{\"label\":{\"value\":\"Observations\"},\"renderers\":[{\"id\":\"2646\"}]},\"id\":\"2659\",\"type\":\"LegendItem\"},{\"attributes\":{\"fill_alpha\":{\"value\":0.5},\"fill_color\":{\"value\":\"red\"},\"hatch_alpha\":{\"value\":0.5},\"line_alpha\":{\"value\":0.5},\"line_color\":{\"value\":\"white\"},\"size\":{\"value\":10},\"x\":{\"field\":\"x\"},\"y\":{\"field\":\"y\"}},\"id\":\"2644\",\"type\":\"Circle\"},{\"attributes\":{\"source\":{\"id\":\"2666\"}},\"id\":\"2671\",\"type\":\"CDSView\"},{\"attributes\":{\"mode\":\"append\",\"overlay\":{\"id\":\"2684\"},\"renderers\":[{\"id\":\"2646\"}]},\"id\":\"2664\",\"type\":\"BoxSelectTool\"},{\"attributes\":{\"children\":[{\"id\":\"2687\"},{\"id\":\"2608\"},{\"id\":\"2714\"}],\"margin\":[0,0,0,0],\"name\":\"Row00169\"},\"id\":\"2686\",\"type\":\"Row\"},{\"attributes\":{},\"id\":\"2617\",\"type\":\"LinearScale\"},{\"attributes\":{\"margin\":[5,5,5,5],\"name\":\"HSpacer00166\",\"sizing_mode\":\"stretch_width\"},\"id\":\"2714\",\"type\":\"Spacer\"},{\"attributes\":{\"margin\":[5,5,5,5],\"name\":\"HSpacer00165\",\"sizing_mode\":\"stretch_width\"},\"id\":\"2687\",\"type\":\"Spacer\"},{\"attributes\":{\"callback\":null,\"mode\":\"vline\",\"renderers\":[{\"id\":\"2646\"}],\"tooltips\":null},\"id\":\"2660\",\"type\":\"HoverTool\"},{\"attributes\":{},\"id\":\"2653\",\"type\":\"BasicTickFormatter\"},{\"attributes\":{\"bottom_units\":\"screen\",\"coordinates\":null,\"fill_alpha\":0.5,\"fill_color\":\"lightgrey\",\"group\":null,\"left_units\":\"screen\",\"level\":\"overlay\",\"line_alpha\":1.0,\"line_color\":\"black\",\"line_dash\":[4,4],\"line_width\":2,\"right_units\":\"screen\",\"syncable\":false,\"top_units\":\"screen\"},\"id\":\"2684\",\"type\":\"BoxAnnotation\"},{\"attributes\":{\"axis\":{\"id\":\"2619\"},\"coordinates\":null,\"grid_line_alpha\":0.15,\"grid_line_color\":\"#E0E0E0\",\"group\":null,\"ticker\":null},\"id\":\"2622\",\"type\":\"Grid\"},{\"attributes\":{},\"id\":\"2654\",\"type\":\"AllLabels\"},{\"attributes\":{\"tools\":[{\"id\":\"2627\"},{\"id\":\"2628\"},{\"id\":\"2629\"},{\"id\":\"2630\"},{\"id\":\"2631\"},{\"id\":\"2632\"},{\"id\":\"2660\"},{\"id\":\"2664\"}]},\"id\":\"2634\",\"type\":\"Toolbar\"},{\"attributes\":{\"overlay\":{\"id\":\"2633\"}},\"id\":\"2629\",\"type\":\"BoxZoomTool\"},{\"attributes\":{\"fill_alpha\":{\"value\":0.5},\"fill_color\":{\"value\":\"midnightblue\"},\"line_color\":{\"value\":\"white\"}},\"id\":\"2663\",\"type\":\"Circle\"},{\"attributes\":{},\"id\":\"2628\",\"type\":\"WheelZoomTool\"},{\"attributes\":{\"fill_alpha\":{\"value\":0.2},\"fill_color\":{\"value\":\"midnightblue\"},\"hatch_alpha\":{\"value\":0.2},\"line_alpha\":{\"value\":0.2},\"line_color\":{\"value\":\"white\"},\"size\":{\"value\":10},\"x\":{\"field\":\"x\"},\"y\":{\"field\":\"y\"}},\"id\":\"2645\",\"type\":\"Circle\"},{\"attributes\":{\"coordinates\":null,\"data_source\":{\"id\":\"2666\"},\"glyph\":{\"id\":\"2667\"},\"group\":null,\"hover_glyph\":null,\"muted_glyph\":{\"id\":\"2669\"},\"nonselection_glyph\":{\"id\":\"2668\"},\"view\":{\"id\":\"2671\"}},\"id\":\"2670\",\"type\":\"GlyphRenderer\"},{\"attributes\":{\"client_comm_id\":\"6f2ace9ecf5b40779736662413667356\",\"comm_id\":\"7f8495acc2384665bb2af44e37d49ed5\",\"plot_id\":\"2686\"},\"id\":\"2754\",\"type\":\"panel.models.comm_manager.CommManager\"},{\"attributes\":{\"bottom_units\":\"screen\",\"coordinates\":null,\"fill_alpha\":0.5,\"fill_color\":\"lightgrey\",\"group\":null,\"left_units\":\"screen\",\"level\":\"overlay\",\"line_alpha\":1.0,\"line_color\":\"black\",\"line_dash\":[4,4],\"line_width\":2,\"right_units\":\"screen\",\"syncable\":false,\"top_units\":\"screen\"},\"id\":\"2633\",\"type\":\"BoxAnnotation\"},{\"attributes\":{},\"id\":\"2632\",\"type\":\"HelpTool\"},{\"attributes\":{},\"id\":\"2627\",\"type\":\"PanTool\"},{\"attributes\":{\"line_alpha\":0.2,\"line_color\":\"red\",\"line_width\":6,\"x\":{\"field\":\"x\"},\"y\":{\"field\":\"y\"}},\"id\":\"2669\",\"type\":\"Line\"},{\"attributes\":{},\"id\":\"2620\",\"type\":\"BasicTicker\"},{\"attributes\":{\"line_alpha\":0.1,\"line_color\":\"red\",\"line_width\":6,\"x\":{\"field\":\"x\"},\"y\":{\"field\":\"y\"}},\"id\":\"2668\",\"type\":\"Line\"},{\"attributes\":{\"axis_label\":\"y\",\"axis_label_standoff\":10,\"axis_label_text_color\":\"#FFFFFF\",\"axis_label_text_font\":\"Josefin Sans\",\"axis_label_text_font_size\":\"1.9em\",\"axis_label_text_font_style\":\"bold\",\"axis_line_alpha\":0.4,\"axis_line_color\":\"#E0E0E0\",\"coordinates\":null,\"formatter\":{\"id\":\"2650\"},\"group\":null,\"major_label_policy\":{\"id\":\"2651\"},\"major_label_text_color\":\"#E0E0E0\",\"major_label_text_font\":\"Josefin Sans\",\"major_label_text_font_size\":\"1.15em\",\"major_tick_line_alpha\":0.4,\"major_tick_line_color\":\"#E0E0E0\",\"minor_tick_line_alpha\":0.4,\"minor_tick_line_color\":\"#E0E0E0\",\"ticker\":{\"id\":\"2624\"}},\"id\":\"2623\",\"type\":\"LinearAxis\"},{\"attributes\":{\"label\":{\"value\":\"Trained model\"},\"renderers\":[{\"id\":\"2670\"}]},\"id\":\"2685\",\"type\":\"LegendItem\"},{\"attributes\":{\"coordinates\":null,\"data_source\":{\"id\":\"2641\"},\"glyph\":{\"id\":\"2642\"},\"group\":null,\"hover_glyph\":{\"id\":\"2644\"},\"muted_glyph\":{\"id\":\"2645\"},\"nonselection_glyph\":{\"id\":\"2663\"},\"selection_glyph\":{\"id\":\"2662\"},\"view\":{\"id\":\"2647\"}},\"id\":\"2646\",\"type\":\"GlyphRenderer\"},{\"attributes\":{},\"id\":\"2613\",\"type\":\"DataRange1d\"},{\"attributes\":{\"fill_alpha\":{\"value\":0.25},\"fill_color\":{\"value\":\"midnightblue\"},\"hatch_alpha\":{\"value\":0.25},\"line_alpha\":{\"value\":0.25},\"line_color\":{\"value\":\"white\"},\"size\":{\"value\":10},\"x\":{\"field\":\"x\"},\"y\":{\"field\":\"y\"}},\"id\":\"2642\",\"type\":\"Circle\"},{\"attributes\":{\"data\":{\"x\":{\"__ndarray__\":\"W79SoNavlD8yb2dIzNu5P2WTTTbZZMM/UetXCtT6xT88Q2LezpDIPxPzdobEvM0/ejtDYt7O0D910UUXXXTRP2ApUOtXCtQ/W79SoNav1D9WVVVVVVXVP1HrVwrU+tU/TIFav1Kg1j9GF1100UXXPzxDYt7OkNg/N9lkk0022T8yb2dIzNvZPy0Fav1Kgdo/HcdxHMdx3D8YXXTRRRfdPxPzdobEvN0/CB988MEH3z998MEHH3zgP3o7Q2LezuA/d4bEvJ0h4T910UUXXXThP3BnSMzbGeI/aEjM2xkS4z9gKVDrVwrkP1gK1PqVAuU/U6DWrxSo5T9ONtlkk03mP0Ri3s6QmOc/OY7jOI7j6D832WSTTTbpPzJvZ0jM2+k/L7rooosu6j8tBWr9SoHqPypQ61cK1Oo/J5tssskm6z8iMW9nSMzrPx3HcRzHcew/Faj1KwVq7T8T83aGxLztPxA++OCDD+4/Dol5O0Ni7j8L1PqVArXuPwZq/UqBWu8/A7V+pUCt7z8AAAAAAADwPw==\",\"dtype\":\"float64\",\"order\":\"little\",\"shape\":[50]},\"y\":{\"__ndarray__\":\"AZKZYx6r7D+Lv9jFIZHyPwuIb4uUGPA/WdZn0J/38D/EDlmwNdjzP01McEXAIvU/fL4ieYJ48z8WY5mj2vr1P5zHvBmJG/Y/1+RiruSq8z8BKHJJ6/bzP+9PYkTRLPY/iSkCqP269T/40w6JlEr2PwWwDKHUqfU/KEpnISNr9D9P/NjENnv4P9x6YLuq9Po/9+vsGt6C+D8VMiiPKQT8PzgNXlfRr/g/HNbws06/+j/yV85rg7v5P9DEq/PYM/w/p4OT7WL8/D+DkgBXEoH+P21mSF94qwBAOpCvUeuU/z+2hE6EYLMCQLIa/X19FANAJkGcEzmUBEDu2T6+b5cCQPqQIpkq4gRAq/JdVm/DBkC3hzCPwKIGQAGhW5rbpwhAmPCe6pB/BkCQl4jWFAYIQCCIBmI58QhAXptm0OxWCUA6mawUmwMKQBD5PDdGAQtAXl0eaygtDUA4rYU+A0INQNE+UuIsGQ5AGkrb7mzGDECElSl4TokPQGxVCWL05w5AfdN3N6JiD0Crch5Ymt4PQA==\",\"dtype\":\"float64\",\"order\":\"little\",\"shape\":[50]}},\"selected\":{\"id\":\"2656\"},\"selection_policy\":{\"id\":\"2655\"}},\"id\":\"2641\",\"type\":\"ColumnDataSource\"},{\"attributes\":{\"data\":{\"x\":{\"__ndarray__\":\"AAAAAAAAAABbv1Kg1q+EP1u/UqDWr5Q/CB988MEHnz9bv1Kg1q+kPzJvZ0jM26k/CB988MEHrz9wZ0jM2xmyP1u/UqDWr7Q/RhdddNFFtz8yb2dIzNu5Px3HcRzHcbw/CB988MEHvz96O0Ni3s7AP3BnSMzbGcI/ZZNNNtlkwz9bv1Kg1q/EP1HrVwrU+sU/RhdddNFFxz88Q2LezpDIPzJvZ0jM28k/J5tssskmyz8dx3Ecx3HMPxPzdobEvM0/CB988MEHzz9/pUCtXynQP3o7Q2LeztA/ddFFF1100T9wZ0jM2xnSP2r9SoFav9I/ZZNNNtlk0z9gKVDrVwrUP1u/UqDWr9Q/VlVVVVVV1T9R61cK1PrVP0yBWr9SoNY/RhdddNFF1z9BrV8pUOvXPzxDYt7OkNg/N9lkk0022T8yb2dIzNvZPy0Fav1Kgdo/J5tssskm2z8iMW9nSMzbPx3HcRzHcdw/GF100UUX3T8T83aGxLzdPw6JeTtDYt4/CB988MEH3z8DtX6lQK3fP3+lQK1fKeA/ffDBBx984D96O0Ni3s7gP3eGxLydIeE/ddFFF1104T9yHMdxHMfhP3BnSMzbGeI/bbLJJpts4j9q/UqBWr/iP2hIzNsZEuM/ZZNNNtlk4z9j3s6QmLfjP2ApUOtXCuQ/XnTRRRdd5D9bv1Kg1q/kP1gK1PqVAuU/VlVVVVVV5T9ToNavFKjlP1HrVwrU+uU/TjbZZJNN5j9MgVq/UqDmP0nM2xkS8+Y/RhdddNFF5z9EYt7OkJjnP0GtXylQ6+c/P/jggw8+6D88Q2LezpDoPzmO4ziO4+g/N9lkk0026T80JObtDInpPzJvZ0jM2+k/L7rooosu6j8tBWr9SoHqPypQ61cK1Oo/J5tssskm6z8l5u0MiXnrPyIxb2dIzOs/IHzwwQcf7D8dx3Ecx3HsPxsS83aGxOw/GF100UUX7T8VqPUrBWrtPxPzdobEvO0/ED744IMP7j8OiXk7Q2LuPwvU+pUCte4/CB988MEH7z8Gav1KgVrvPwO1fqVAre8/AAAAAAAA8D8=\",\"dtype\":\"float64\",\"order\":\"little\",\"shape\":[100]},\"y\":{\"__ndarray__\":\"AAAAAAAA8D8MJLz1QAHwPy6Q8NYDBfA/aESdo0gL8D+6QMJbDxTwPyKFX/9XH/A/ohF1jiIt8D845gIJbz3wP+YCCW89UPA/q2eHwI1l8D+IFH79X33wP3sJ7SW0l/A/hkbUOYq08D+oyzM54tPwP+GYCyS89fA/Ma5b+hca8T+ZCyS89UDxPxixZGlVavE/rZ4dAjeW8T9b1E6GmsTxPx9S+PV/9fE/+hcaUeco8j/tJbSX0F7yP/d7xsk7l/I/GBpR5yjS8j9QAFTwlw/zP6Auz+SIT/M/B6XCxPuR8z+EYy6Q8NbzPxlqEkdnHvQ/xrhu6V9o9D+JT0N32rT0P2QukPDWA/U/VlVVVVVV9T9fxJKlVan1P397SOHX//U/tnp2CNxY9j8FwhwbYrT2P2tROxlqEvc/6CjSAvRy9z98SOHX/9X3PyiwaJiNO/g/6l9oRJ2j+D/EV+DbLg75P7SX0F5Ce/k/vR85zdfq+T/c7xkn71z6PxIIc2yI0fo/YGhEnaNI+z/FEI65QML7P0EBUMFfPvw/1jmKtAC9/D+AujyTIz79P0CDZ13Iwf0/GpQKE+9H/j8K7SW0l9D+PxKOuUDCW/8/MHfFuG7p/z8y1CSOzjwAQNoQo7UmhgBAi3Hd0r/QAEBJ9tPlmRwBQBKfhu60aQFA6Gv17BC4AUDIXCDhrQcCQLNxB8uLWAJAq6qqqqqqAkCuBwqACv4CQL6IJUurUgNA1y39C42oA0D+9pDCr/8DQDDk4G4TWARAbPXsELixBEC2KrWonQwFQAqEOTbEaAVAagF6uSvGBUDWonYy1CQGQExoL6G9hAZA0FGkBejlBkBeX9VfU0gHQPiQwq//qwdAneZr9ewQCEBPYNEwG3cIQAz+8mGK3ghA07/QiDpHCUCopWqlK7EJQIevwLddHApAc93Sv9CICkBpL6G9hPYKQGylK7F5ZQtAej9ymq/VC0CT/XR5JkcMQLjfM07euQxA6eWuGNctDUAlEObYEKMNQG1e2Y6LGQ5AwNCIOkeRDkAgZ/TbQwoPQIohHHOBhA9AAAAAAAAAEEA=\",\"dtype\":\"float64\",\"order\":\"little\",\"shape\":[100]}},\"selected\":{\"id\":\"2682\"},\"selection_policy\":{\"id\":\"2681\"}},\"id\":\"2666\",\"type\":\"ColumnDataSource\"},{\"attributes\":{\"background_fill_alpha\":0.25,\"background_fill_color\":\"#505050\",\"border_line_alpha\":0.25,\"coordinates\":null,\"group\":null,\"items\":[{\"id\":\"2659\"},{\"id\":\"2685\"}],\"label_standoff\":8,\"label_text_color\":\"#E0E0E0\",\"label_text_font\":\"Josefin Sans\",\"label_text_font_size\":\"1.15em\",\"spacing\":8},\"id\":\"2658\",\"type\":\"Legend\"},{\"attributes\":{},\"id\":\"2651\",\"type\":\"AllLabels\"},{\"attributes\":{},\"id\":\"2615\",\"type\":\"LinearScale\"}],\"root_ids\":[\"2686\",\"2754\"]},\"title\":\"Bokeh Application\",\"version\":\"2.4.3\"}};\n",
       "    var render_items = [{\"docid\":\"a38dc8f5-0ad6-49ad-ad17-fc6e46f6016d\",\"root_ids\":[\"2686\"],\"roots\":{\"2686\":\"1ef6326f-07ed-4179-8f18-80aaf5af5e4f\"}}];\n",
       "    root.Bokeh.embed.embed_items_notebook(docs_json, render_items);\n",
       "    for (const render_item of render_items) {\n",
       "      for (const root_id of render_item.root_ids) {\n",
       "\tconst id_el = document.getElementById(root_id)\n",
       "\tif (id_el.children.length && (id_el.children[0].className === 'bk-root')) {\n",
       "\t  const root_el = id_el.children[0]\n",
       "\t  root_el.id = root_el.id + '-rendered'\n",
       "\t}\n",
       "      }\n",
       "    }\n",
       "  }\n",
       "  if (root.Bokeh !== undefined && root.Bokeh.Panel !== undefined) {\n",
       "    embed_document(root);\n",
       "  } else {\n",
       "    var attempts = 0;\n",
       "    var timer = setInterval(function(root) {\n",
       "      if (root.Bokeh !== undefined && root.Bokeh.Panel !== undefined) {\n",
       "        clearInterval(timer);\n",
       "        embed_document(root);\n",
       "      } else if (document.readyState == \"complete\") {\n",
       "        attempts++;\n",
       "        if (attempts > 200) {\n",
       "          clearInterval(timer);\n",
       "          console.log(\"Bokeh: ERROR: Unable to run BokehJS code because BokehJS library is missing\");\n",
       "        }\n",
       "      }\n",
       "    }, 25, root)\n",
       "  }\n",
       "})(window);</script>"
      ],
      "text/plain": [
       "Row\n",
       "    [0] HSpacer()\n",
       "    [1] Bokeh(Figure)\n",
       "    [2] HSpacer()"
      ]
     },
     "execution_count": 11,
     "metadata": {
      "application/vnd.holoviews_exec.v0+json": {
       "id": "2686"
      }
     },
     "output_type": "execute_result"
    }
   ],
   "source": [
    "# Inference points (not observed)\n",
    "X_plot = x_plot[:, np.newaxis]\n",
    "# Predict the values\n",
    "y_plot = model.predict(X_plot)\n",
    "# Compute the error of our model at observed points\n",
    "Y_model_err = np.sqrt(np.mean(np.square(y-model.predict(X))))\n",
    "print(f'Model error : {Y_model_err}')\n",
    "# Plot the result\n",
    "p = scatter(x, y, title=\"Training a scikit-learn model\")\n",
    "p.line(x_plot, poly(x_plot), line_width=6, line_alpha=0.6, color=\"red\", legend_label=r\"Trained model\")\n",
    "plot = (center_plot(p))\n",
    "plot"
   ]
  },
  {
   "cell_type": "code",
   "execution_count": 12,
   "metadata": {
    "tags": []
   },
   "outputs": [],
   "source": [
    "from cml.tasks import RegressionPolynomialSolver\n",
    "explorer = RegressionPolynomialSolver()"
   ]
  },
  {
   "cell_type": "code",
   "execution_count": 13,
   "metadata": {
    "tags": []
   },
   "outputs": [
    {
     "data": {},
     "metadata": {},
     "output_type": "display_data"
    },
    {
     "data": {
      "application/vnd.holoviews_exec.v0+json": "",
      "text/html": [
       "<div id='2884'>\n",
       "  <div class=\"bk-root\" id=\"4d23086d-675f-4cac-b7cb-725d0fbe1357\" data-root-id=\"2884\"></div>\n",
       "</div>\n",
       "<script type=\"application/javascript\">(function(root) {\n",
       "  function embed_document(root) {\n",
       "    var docs_json = {\"a93cc020-e994-4c63-846e-f93e6ba2445c\":{\"defs\":[{\"extends\":null,\"module\":null,\"name\":\"ReactiveHTML1\",\"overrides\":[],\"properties\":[]},{\"extends\":null,\"module\":null,\"name\":\"FlexBox1\",\"overrides\":[],\"properties\":[{\"default\":\"flex-start\",\"kind\":null,\"name\":\"align_content\"},{\"default\":\"flex-start\",\"kind\":null,\"name\":\"align_items\"},{\"default\":\"row\",\"kind\":null,\"name\":\"flex_direction\"},{\"default\":\"wrap\",\"kind\":null,\"name\":\"flex_wrap\"},{\"default\":\"flex-start\",\"kind\":null,\"name\":\"justify_content\"}]},{\"extends\":null,\"module\":null,\"name\":\"GridStack1\",\"overrides\":[],\"properties\":[{\"default\":\"warn\",\"kind\":null,\"name\":\"mode\"},{\"default\":null,\"kind\":null,\"name\":\"ncols\"},{\"default\":null,\"kind\":null,\"name\":\"nrows\"},{\"default\":true,\"kind\":null,\"name\":\"allow_resize\"},{\"default\":true,\"kind\":null,\"name\":\"allow_drag\"},{\"default\":[],\"kind\":null,\"name\":\"state\"}]},{\"extends\":null,\"module\":null,\"name\":\"click1\",\"overrides\":[],\"properties\":[{\"default\":\"\",\"kind\":null,\"name\":\"terminal_output\"},{\"default\":\"\",\"kind\":null,\"name\":\"debug_name\"},{\"default\":0,\"kind\":null,\"name\":\"clears\"}]},{\"extends\":null,\"module\":null,\"name\":\"NotificationAreaBase1\",\"overrides\":[],\"properties\":[{\"default\":\"bottom-right\",\"kind\":null,\"name\":\"position\"},{\"default\":0,\"kind\":null,\"name\":\"_clear\"}]},{\"extends\":null,\"module\":null,\"name\":\"NotificationArea1\",\"overrides\":[],\"properties\":[{\"default\":[],\"kind\":null,\"name\":\"notifications\"},{\"default\":\"bottom-right\",\"kind\":null,\"name\":\"position\"},{\"default\":0,\"kind\":null,\"name\":\"_clear\"},{\"default\":[{\"background\":\"#ffc107\",\"icon\":{\"className\":\"fas fa-exclamation-triangle\",\"color\":\"white\",\"tagName\":\"i\"},\"type\":\"warning\"},{\"background\":\"#007bff\",\"icon\":{\"className\":\"fas fa-info-circle\",\"color\":\"white\",\"tagName\":\"i\"},\"type\":\"info\"}],\"kind\":null,\"name\":\"types\"}]},{\"extends\":null,\"module\":null,\"name\":\"Notification\",\"overrides\":[],\"properties\":[{\"default\":null,\"kind\":null,\"name\":\"background\"},{\"default\":3000,\"kind\":null,\"name\":\"duration\"},{\"default\":null,\"kind\":null,\"name\":\"icon\"},{\"default\":\"\",\"kind\":null,\"name\":\"message\"},{\"default\":null,\"kind\":null,\"name\":\"notification_type\"},{\"default\":false,\"kind\":null,\"name\":\"_destroyed\"}]},{\"extends\":null,\"module\":null,\"name\":\"TemplateActions1\",\"overrides\":[],\"properties\":[{\"default\":0,\"kind\":null,\"name\":\"open_modal\"},{\"default\":0,\"kind\":null,\"name\":\"close_modal\"}]},{\"extends\":null,\"module\":null,\"name\":\"MaterialTemplateActions1\",\"overrides\":[],\"properties\":[{\"default\":0,\"kind\":null,\"name\":\"open_modal\"},{\"default\":0,\"kind\":null,\"name\":\"close_modal\"}]}],\"roots\":{\"references\":[{\"attributes\":{\"fill_alpha\":{\"value\":0.25},\"fill_color\":{\"value\":\"midnightblue\"},\"hatch_alpha\":{\"value\":0.25},\"line_alpha\":{\"value\":0.25},\"line_color\":{\"value\":\"white\"},\"size\":{\"value\":10},\"x\":{\"field\":\"x\"},\"y\":{\"field\":\"y\"}},\"id\":\"2854\",\"type\":\"Circle\"},{\"attributes\":{},\"id\":\"2825\",\"type\":\"DataRange1d\"},{\"attributes\":{\"children\":[{\"id\":\"2885\"},{\"id\":\"2886\"},{\"id\":\"2926\"}],\"margin\":[0,0,0,0],\"name\":\"Row00206\"},\"id\":\"2884\",\"type\":\"Row\"},{\"attributes\":{},\"id\":\"2862\",\"type\":\"BasicTickFormatter\"},{\"attributes\":{\"margin\":[5,5,5,5],\"name\":\"HSpacer00205\",\"sizing_mode\":\"stretch_width\"},\"id\":\"2926\",\"type\":\"Spacer\"},{\"attributes\":{\"client_comm_id\":\"c588193d06b94bb6b931ef9b78879a9c\",\"comm_id\":\"78351744d7624cbb905a85f14f55886f\",\"plot_id\":\"2884\"},\"id\":\"2968\",\"type\":\"panel.models.comm_manager.CommManager\"},{\"attributes\":{\"margin\":[5,5,5,5],\"name\":\"HSpacer00173\",\"sizing_mode\":\"stretch_width\"},\"id\":\"2885\",\"type\":\"Spacer\"},{\"attributes\":{},\"id\":\"2863\",\"type\":\"AllLabels\"},{\"attributes\":{\"children\":[{\"id\":\"2887\"},{\"id\":\"2925\"}],\"margin\":[0,0,0,0],\"name\":\"Column00204\"},\"id\":\"2886\",\"type\":\"Column\"},{\"attributes\":{},\"id\":\"2832\",\"type\":\"BasicTicker\"},{\"attributes\":{},\"id\":\"2865\",\"type\":\"BasicTickFormatter\"},{\"attributes\":{\"children\":[{\"id\":\"2889\"},{\"id\":\"2890\"},{\"id\":\"2891\"},{\"id\":\"2892\"},{\"id\":\"2893\"},{\"id\":\"2894\"},{\"id\":\"2895\"},{\"id\":\"2896\"},{\"id\":\"2897\"}],\"margin\":[5,5,5,5],\"min_width\":300,\"name\":\"Problem parameters\",\"width\":300},\"id\":\"2888\",\"type\":\"Column\"},{\"attributes\":{\"children\":[{\"id\":\"2888\"},{\"id\":\"2898\"}],\"margin\":[0,0,0,0],\"name\":\"Row00201\"},\"id\":\"2887\",\"type\":\"Row\"},{\"attributes\":{\"margin\":[5,10,5,10],\"name\":\"\",\"text\":\"<b>Problem parameters</b>\"},\"id\":\"2889\",\"type\":\"Div\"},{\"attributes\":{\"labels\":[\"Ground truth\"],\"margin\":[5,10,5,10]},\"id\":\"2892\",\"type\":\"CheckboxGroup\"},{\"attributes\":{\"labels\":[\"Error\"],\"margin\":[5,10,5,10]},\"id\":\"2893\",\"type\":\"CheckboxGroup\"},{\"attributes\":{\"fill_alpha\":{\"value\":0.8},\"fill_color\":{\"value\":\"red\"},\"line_color\":{\"value\":\"white\"}},\"id\":\"2874\",\"type\":\"Circle\"},{\"attributes\":{\"end\":1000,\"margin\":[5,10,5,10],\"start\":10,\"title\":\"Number observations\",\"value\":100},\"id\":\"2890\",\"type\":\"Slider\"},{\"attributes\":{\"label\":{\"value\":\"Observations\"},\"renderers\":[{\"id\":\"2858\"}]},\"id\":\"2871\",\"type\":\"LegendItem\"},{\"attributes\":{\"end\":5.0,\"margin\":[5,10,5,10],\"start\":-5.0,\"step\":0.1,\"title\":\"X 2\",\"value\":-2.0},\"id\":\"2894\",\"type\":\"Slider\"},{\"attributes\":{\"end\":5.0,\"margin\":[5,10,5,10],\"start\":0.0,\"step\":0.1,\"title\":\"Noise level\",\"value\":0.1},\"id\":\"2891\",\"type\":\"Slider\"},{\"attributes\":{\"mode\":\"append\",\"overlay\":{\"id\":\"2911\"},\"renderers\":[{\"id\":\"2858\"}]},\"id\":\"2876\",\"type\":\"BoxSelectTool\"},{\"attributes\":{\"end\":5.0,\"margin\":[5,10,5,10],\"start\":-5.0,\"step\":0.1,\"title\":\"X 0\",\"value\":1.0},\"id\":\"2896\",\"type\":\"Slider\"},{\"attributes\":{\"code\":\"def polynomial(\\n        coefficients: jnp.ndarray,\\n        n_observations: int = 100) -> [jnp.ndarray, jnp.ndarray]:\\n    x = jnp.linspace(0, 1, n_observations)\\n    y = jnp.polyval(coefficients, x)\\n    return x, \",\"filename\":\"\",\"height\":150,\"js_property_callbacks\":{\"change:disabled\":[{\"id\":\"2941\"}],\"change:readonly\":[{\"id\":\"2940\"}]},\"language\":\"python\",\"margin\":[5,10,5,10],\"sizing_mode\":\"stretch_both\",\"theme\":\"chaos\"},\"id\":\"2925\",\"type\":\"panel.models.ace.AcePlot\"},{\"attributes\":{\"callback\":null,\"mode\":\"vline\",\"renderers\":[{\"id\":\"2858\"}],\"tooltips\":null},\"id\":\"2872\",\"type\":\"HoverTool\"},{\"attributes\":{},\"id\":\"2866\",\"type\":\"AllLabels\"},{\"attributes\":{\"line_alpha\":0.1,\"line_color\":\"red\",\"line_width\":4,\"x\":{\"field\":\"x\"},\"y\":{\"field\":\"y\"}},\"id\":\"2880\",\"type\":\"Line\"},{\"attributes\":{\"end\":30,\"margin\":[5,10,5,10],\"start\":1,\"title\":\"Degree\",\"value\":1},\"id\":\"2897\",\"type\":\"Slider\"},{\"attributes\":{\"fill_alpha\":{\"value\":0.5},\"fill_color\":{\"value\":\"midnightblue\"},\"line_color\":{\"value\":\"white\"}},\"id\":\"2875\",\"type\":\"Circle\"},{\"attributes\":{\"end\":5.0,\"margin\":[5,10,5,10],\"start\":-5.0,\"step\":0.1,\"title\":\"X 1\",\"value\":0.0},\"id\":\"2895\",\"type\":\"Slider\"},{\"attributes\":{\"line_alpha\":0.2,\"line_color\":\"red\",\"line_width\":4,\"x\":{\"field\":\"x\"},\"y\":{\"field\":\"y\"}},\"id\":\"2881\",\"type\":\"Line\"},{\"attributes\":{\"data\":{\"x\":{\"__ndarray__\":\"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\",\"dtype\":\"float64\",\"order\":\"little\",\"shape\":[200]},\"y\":{\"__ndarray__\":\"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\",\"dtype\":\"float64\",\"order\":\"little\",\"shape\":[200]}},\"selected\":{\"id\":\"2909\"},\"selection_policy\":{\"id\":\"2908\"}},\"id\":\"2878\",\"type\":\"ColumnDataSource\"},{\"attributes\":{\"background_fill_alpha\":0.9,\"background_fill_color\":\"#0f0f0f\",\"below\":[{\"id\":\"2831\"}],\"border_fill_alpha\":0.8,\"border_fill_color\":\"#111111\",\"center\":[{\"id\":\"2834\"},{\"id\":\"2838\"},{\"id\":\"2870\"}],\"height\":450,\"left\":[{\"id\":\"2835\"}],\"outline_line_alpha\":0.25,\"outline_line_color\":\"#E0E0E0\",\"outline_line_width\":3,\"renderers\":[{\"id\":\"2858\"},{\"id\":\"2882\"}],\"title\":{\"id\":\"2821\"},\"toolbar\":{\"id\":\"2846\"},\"toolbar_location\":null,\"x_range\":{\"id\":\"2823\"},\"x_scale\":{\"id\":\"2827\"},\"y_range\":{\"id\":\"2825\"},\"y_scale\":{\"id\":\"2829\"}},\"id\":\"2820\",\"subtype\":\"Figure\",\"type\":\"Plot\"},{\"attributes\":{},\"id\":\"2823\",\"type\":\"DataRange1d\"},{\"attributes\":{\"line_alpha\":0.7,\"line_color\":\"red\",\"line_width\":4,\"x\":{\"field\":\"x\"},\"y\":{\"field\":\"y\"}},\"id\":\"2879\",\"type\":\"Line\"},{\"attributes\":{\"children\":[{\"id\":\"2820\"}],\"margin\":[0,0,0,0],\"name\":\"Row00198\"},\"id\":\"2898\",\"type\":\"Row\"},{\"attributes\":{\"axis_label\":\"$$\\\\color{white} x$$\",\"axis_label_standoff\":10,\"axis_label_text_color\":\"#FFFFFF\",\"axis_label_text_font\":\"Josefin Sans\",\"axis_label_text_font_size\":\"1.9em\",\"axis_label_text_font_style\":\"bold\",\"axis_line_alpha\":0.4,\"axis_line_color\":\"#E0E0E0\",\"coordinates\":null,\"formatter\":{\"id\":\"2865\"},\"group\":null,\"major_label_policy\":{\"id\":\"2866\"},\"major_label_text_color\":\"#E0E0E0\",\"major_label_text_font\":\"Josefin Sans\",\"major_label_text_font_size\":\"1.15em\",\"major_tick_line_alpha\":0.4,\"major_tick_line_color\":\"#E0E0E0\",\"minor_tick_line_alpha\":0.4,\"minor_tick_line_color\":\"#E0E0E0\",\"ticker\":{\"id\":\"2832\"}},\"id\":\"2831\",\"type\":\"LinearAxis\"},{\"attributes\":{},\"id\":\"2836\",\"type\":\"BasicTicker\"},{\"attributes\":{},\"id\":\"2844\",\"type\":\"HelpTool\"},{\"attributes\":{\"axis_label\":\"$$\\\\color{white} -2.0x^2 + 0.0x^1 + 1.0x^0$$\",\"axis_label_standoff\":10,\"axis_label_text_color\":\"#FFFFFF\",\"axis_label_text_font\":\"Josefin Sans\",\"axis_label_text_font_size\":\"1.9em\",\"axis_label_text_font_style\":\"bold\",\"axis_line_alpha\":0.4,\"axis_line_color\":\"#E0E0E0\",\"coordinates\":null,\"formatter\":{\"id\":\"2862\"},\"group\":null,\"major_label_policy\":{\"id\":\"2863\"},\"major_label_text_color\":\"#E0E0E0\",\"major_label_text_font\":\"Josefin Sans\",\"major_label_text_font_size\":\"1.15em\",\"major_tick_line_alpha\":0.4,\"major_tick_line_color\":\"#E0E0E0\",\"minor_tick_line_alpha\":0.4,\"minor_tick_line_color\":\"#E0E0E0\",\"ticker\":{\"id\":\"2836\"}},\"id\":\"2835\",\"type\":\"LinearAxis\"},{\"attributes\":{\"source\":{\"id\":\"2878\"}},\"id\":\"2883\",\"type\":\"CDSView\"},{\"attributes\":{\"axis\":{\"id\":\"2835\"},\"coordinates\":null,\"dimension\":1,\"grid_line_alpha\":0.15,\"grid_line_color\":\"#E0E0E0\",\"group\":null,\"ticker\":null},\"id\":\"2838\",\"type\":\"Grid\"},{\"attributes\":{},\"id\":\"2829\",\"type\":\"LinearScale\"},{\"attributes\":{},\"id\":\"2827\",\"type\":\"LinearScale\"},{\"attributes\":{\"coordinates\":null,\"group\":null,\"text\":\"Polynomial regression problem\",\"text_color\":\"#E0E0E0\",\"text_font\":\"Josefin Sans\",\"text_font_size\":\"2.1em\"},\"id\":\"2821\",\"type\":\"Title\"},{\"attributes\":{\"axis\":{\"id\":\"2831\"},\"coordinates\":null,\"grid_line_alpha\":0.15,\"grid_line_color\":\"#E0E0E0\",\"group\":null,\"ticker\":null},\"id\":\"2834\",\"type\":\"Grid\"},{\"attributes\":{},\"id\":\"2840\",\"type\":\"WheelZoomTool\"},{\"attributes\":{},\"id\":\"2839\",\"type\":\"PanTool\"},{\"attributes\":{\"overlay\":{\"id\":\"2845\"}},\"id\":\"2841\",\"type\":\"BoxZoomTool\"},{\"attributes\":{},\"id\":\"2842\",\"type\":\"SaveTool\"},{\"attributes\":{},\"id\":\"2908\",\"type\":\"UnionRenderers\"},{\"attributes\":{},\"id\":\"2868\",\"type\":\"Selection\"},{\"attributes\":{},\"id\":\"2843\",\"type\":\"ResetTool\"},{\"attributes\":{},\"id\":\"2909\",\"type\":\"Selection\"},{\"attributes\":{\"bottom_units\":\"screen\",\"coordinates\":null,\"fill_alpha\":0.5,\"fill_color\":\"lightgrey\",\"group\":null,\"left_units\":\"screen\",\"level\":\"overlay\",\"line_alpha\":1.0,\"line_color\":\"black\",\"line_dash\":[4,4],\"line_width\":2,\"right_units\":\"screen\",\"syncable\":false,\"top_units\":\"screen\"},\"id\":\"2845\",\"type\":\"BoxAnnotation\"},{\"attributes\":{},\"id\":\"2867\",\"type\":\"UnionRenderers\"},{\"attributes\":{\"fill_alpha\":{\"value\":0.2},\"fill_color\":{\"value\":\"midnightblue\"},\"hatch_alpha\":{\"value\":0.2},\"line_alpha\":{\"value\":0.2},\"line_color\":{\"value\":\"white\"},\"size\":{\"value\":10},\"x\":{\"field\":\"x\"},\"y\":{\"field\":\"y\"}},\"id\":\"2857\",\"type\":\"Circle\"},{\"attributes\":{\"fill_alpha\":{\"value\":0.5},\"fill_color\":{\"value\":\"red\"},\"hatch_alpha\":{\"value\":0.5},\"line_alpha\":{\"value\":0.5},\"line_color\":{\"value\":\"white\"},\"size\":{\"value\":10},\"x\":{\"field\":\"x\"},\"y\":{\"field\":\"y\"}},\"id\":\"2856\",\"type\":\"Circle\"},{\"attributes\":{\"tools\":[{\"id\":\"2839\"},{\"id\":\"2840\"},{\"id\":\"2841\"},{\"id\":\"2842\"},{\"id\":\"2843\"},{\"id\":\"2844\"},{\"id\":\"2872\"},{\"id\":\"2876\"}]},\"id\":\"2846\",\"type\":\"Toolbar\"},{\"attributes\":{\"args\":{\"bidirectional\":true,\"properties\":{\"readonly\":\"disabled\"},\"source\":{\"id\":\"2925\"},\"target\":{\"id\":\"2925\"}},\"code\":\"\\n    var value = source['readonly'];\\n    value = value;\\n    value = value;\\n    try {\\n      var property = target.properties['disabled'];\\n      if (property !== undefined) { property.validate(value); }\\n    } catch(err) {\\n      console.log('WARNING: Could not set disabled on target, raised error: ' + err);\\n      return;\\n    }\\n    try {\\n      target['disabled'] = value;\\n    } catch(err) {\\n      console.log(err)\\n    }\\n    \",\"tags\":[[140320357305264,[null,\"readonly\"],[null,\"disabled\"]]]},\"id\":\"2940\",\"type\":\"CustomJS\"},{\"attributes\":{\"data\":{\"x\":{\"__ndarray__\":\"AAAAALV+JTy1fqU8ED74PLV+JT1i3k49ED54Pd7OkD21fqU9jC66PWLezj05juM9ED74PfN2Bj7ezhA+yiYbPrV+JT6g1i8+jC46PneGRD5i3k4+TjZZPjmOYz4k5m0+ED54Pv1KgT7zdoY+6aKLPt7OkD7U+pU+yiabPr9SoD61fqU+q6qqPqDWrz6WArU+jC66PoFavz53hsQ+bbLJPmLezj5YCtQ+TjbZPkNi3j45juM+L7roPiTm7T4aEvM+ED74PgVq/T79SgE/+OADP/N2Bj/uDAk/6aILP+Q4Dj/ezhA/2WQTP9T6FT/PkBg/yiYbP8W8HT+/UiA/uugiP7V+JT+wFCg/q6oqP6VALT+g1i8/m2wyP5YCNT+RmDc/jC46P4bEPD+BWj8/fPBBP3eGRD9yHEc/bbJJP2dITD9i3k4/XXRRP1gKVD9ToFY/TjZZP0jMWz9DYl4/PvhgPzmOYz80JGY/L7poPylQaz8k5m0/H3xwPxoScz8VqHU/ED54PwrUej8Fan0/AACAPw==\",\"dtype\":\"float32\",\"order\":\"little\",\"shape\":[100]},\"y\":{\"__ndarray__\":\"IDeMP+jsbz+WJYM/l/uKP8uxfD8FqmU/PvZrP7IOgD8tbYY/x62CP2aJdT9BXoA/bD5kP4LkXj94Vns/cRZkP5Zjgj94L2w/oMl2P8LMcT9h1GM/rzt+Pwojdj8q3Gg/Lk9gPyZ6VT8ewVQ/3QpvP8PtRT8ANkw/lPFhPyK3ZT9bOEc/oQ83P3bXOT8nVjY/mm5HP60+Ij9kwEs/KNcrP1O0Kj84JRE/p8MdP54yEj8i2TE/Wd0MP7eLBz/fyxg/rf4XPxtK2j7sLuU+WWfCPtzztz7ISeA+TIP3PoRXuj7Osao+EkKcPguepD7g5ZQ+RuSKPk7ZNT5ElWI+rdgoPuQbaD6RKR0+wUcyPiLLGz765ws+fab3PfDJt7sxGIK9BsiEPL40s73X3S6+H1oSvpyODL7GUx6+q4WOvhqpnb4rA8K+6szHvjh6kL5ufKS+14T6vm8E/b4i+wG/WJUcv+11I7+2mS+/2JIcv2vUN7+t+jS/Fl03vz9pZr/lBFq/Md9Hv2DCbL9Wn4C/dJJ4vw==\",\"dtype\":\"float32\",\"order\":\"little\",\"shape\":[100]}},\"selected\":{\"id\":\"2868\"},\"selection_policy\":{\"id\":\"2867\"}},\"id\":\"2853\",\"type\":\"ColumnDataSource\"},{\"attributes\":{\"background_fill_alpha\":0.25,\"background_fill_color\":\"#505050\",\"border_line_alpha\":0.25,\"coordinates\":null,\"group\":null,\"items\":[{\"id\":\"2871\"}],\"label_standoff\":8,\"label_text_color\":\"#E0E0E0\",\"label_text_font\":\"Josefin Sans\",\"label_text_font_size\":\"1.15em\",\"spacing\":8},\"id\":\"2870\",\"type\":\"Legend\"},{\"attributes\":{\"coordinates\":null,\"data_source\":{\"id\":\"2853\"},\"glyph\":{\"id\":\"2854\"},\"group\":null,\"hover_glyph\":{\"id\":\"2856\"},\"muted_glyph\":{\"id\":\"2857\"},\"nonselection_glyph\":{\"id\":\"2875\"},\"selection_glyph\":{\"id\":\"2874\"},\"view\":{\"id\":\"2859\"}},\"id\":\"2858\",\"type\":\"GlyphRenderer\"},{\"attributes\":{\"coordinates\":null,\"data_source\":{\"id\":\"2878\"},\"glyph\":{\"id\":\"2879\"},\"group\":null,\"hover_glyph\":null,\"muted_glyph\":{\"id\":\"2881\"},\"nonselection_glyph\":{\"id\":\"2880\"},\"view\":{\"id\":\"2883\"}},\"id\":\"2882\",\"type\":\"GlyphRenderer\"},{\"attributes\":{\"source\":{\"id\":\"2853\"}},\"id\":\"2859\",\"type\":\"CDSView\"},{\"attributes\":{\"args\":{\"bidirectional\":true,\"properties\":{\"readonly\":\"disabled\"},\"source\":{\"id\":\"2925\"},\"target\":{\"id\":\"2925\"}},\"code\":\"\\n    var value = source['disabled'];\\n    value = value;\\n    value = value;\\n    try {\\n      var property = target.properties['readonly'];\\n      if (property !== undefined) { property.validate(value); }\\n    } catch(err) {\\n      console.log('WARNING: Could not set readonly on target, raised error: ' + err);\\n      return;\\n    }\\n    try {\\n      target['readonly'] = value;\\n    } catch(err) {\\n      console.log(err)\\n    }\\n    \",\"tags\":[[140320357305264,[null,\"readonly\"],[null,\"disabled\"]]]},\"id\":\"2941\",\"type\":\"CustomJS\"},{\"attributes\":{\"bottom_units\":\"screen\",\"coordinates\":null,\"fill_alpha\":0.5,\"fill_color\":\"lightgrey\",\"group\":null,\"left_units\":\"screen\",\"level\":\"overlay\",\"line_alpha\":1.0,\"line_color\":\"black\",\"line_dash\":[4,4],\"line_width\":2,\"right_units\":\"screen\",\"syncable\":false,\"top_units\":\"screen\"},\"id\":\"2911\",\"type\":\"BoxAnnotation\"}],\"root_ids\":[\"2884\",\"2968\"]},\"title\":\"Bokeh Application\",\"version\":\"2.4.3\"}};\n",
       "    var render_items = [{\"docid\":\"a93cc020-e994-4c63-846e-f93e6ba2445c\",\"root_ids\":[\"2884\"],\"roots\":{\"2884\":\"4d23086d-675f-4cac-b7cb-725d0fbe1357\"}}];\n",
       "    root.Bokeh.embed.embed_items_notebook(docs_json, render_items);\n",
       "    for (const render_item of render_items) {\n",
       "      for (const root_id of render_item.root_ids) {\n",
       "\tconst id_el = document.getElementById(root_id)\n",
       "\tif (id_el.children.length && (id_el.children[0].className === 'bk-root')) {\n",
       "\t  const root_el = id_el.children[0]\n",
       "\t  root_el.id = root_el.id + '-rendered'\n",
       "\t}\n",
       "      }\n",
       "    }\n",
       "  }\n",
       "  if (root.Bokeh !== undefined && root.Bokeh.Panel !== undefined) {\n",
       "    embed_document(root);\n",
       "  } else {\n",
       "    var attempts = 0;\n",
       "    var timer = setInterval(function(root) {\n",
       "      if (root.Bokeh !== undefined && root.Bokeh.Panel !== undefined) {\n",
       "        clearInterval(timer);\n",
       "        embed_document(root);\n",
       "      } else if (document.readyState == \"complete\") {\n",
       "        attempts++;\n",
       "        if (attempts > 200) {\n",
       "          clearInterval(timer);\n",
       "          console.log(\"Bokeh: ERROR: Unable to run BokehJS code because BokehJS library is missing\");\n",
       "        }\n",
       "      }\n",
       "    }, 25, root)\n",
       "  }\n",
       "})(window);</script>"
      ],
      "text/plain": [
       "Row\n",
       "    [0] HSpacer()\n",
       "    [1] Column\n",
       "        [0] Row\n",
       "            [0] Param(RegressionPolynomialSolver, name='Problem parameters', widgets={})\n",
       "            [1] ParamMethod(method, _pane=Bokeh)\n",
       "        [1] Ace(height=150, language='python', sizing_mode='stretch_both', theme='chaos', value='def polynomial(\\n        ...)\n",
       "    [2] HSpacer()"
      ]
     },
     "execution_count": 13,
     "metadata": {
      "application/vnd.holoviews_exec.v0+json": {
       "id": "2884"
      }
     },
     "output_type": "execute_result"
    }
   ],
   "source": [
    "def solve(x, y, degree):\n",
    "    X = x[:, np.newaxis]\n",
    "    # Create our polynomial model for regression\n",
    "    model = make_pipeline(PolynomialFeatures(degree), LinearRegression())\n",
    "    # Fit the parameters of this model\n",
    "    model.fit(X, y)\n",
    "    # Predict the values\n",
    "    x_predict = np.linspace(np.min(x), np.max(x), 200)[:, np.newaxis]\n",
    "    y_model = model.predict(x_predict)\n",
    "    return x_predict[:, 0], y_model #np.array(jnp.zeros(y_model.shape))\n",
    "\n",
    "explorer.solve = solve\n",
    "explorer.render()"
   ]
  },
  {
   "cell_type": "markdown",
   "metadata": {},
   "source": [
    "<a id=\"linear\"></a>\n",
    "# Simple linear regression \n",
    "\n",
    "As discussed previously, regression allows to model the relationships that exist between inputs $\\mathbf{x}\\in\\mathbb{R}^{n}$ and a continuous output $y\\in\\mathbb{R}$. In the case of **linear** regression, we assume that the data that we observe comes from a linear relationship in the input, so that\n",
    "$$y = w_0 + w_1x_1 + w_2x_2 + ... + w_nx_n + \\epsilon$$\n",
    "with $\\epsilon$ exhibiting the *observation noise* (also called *residual error*) that is always present in measurements.\n",
    "\n",
    "To understand how we could learn a model approximating this relationship, we start with the case of *simple* linear regression, where $\\mathbf{x}\\in\\mathbb{R}$. This implies that our model will follow\n",
    "$$\\bar{y} = w_0 + w_1 x$$\n",
    "\n",
    "We will measure the errors made by our model by using the Mean Squared Error (MSE) loss, defined as \n",
    "$$\\mathcal{L}_{MSE}\\left( \\bar{\\mathbf{y}},\\theta \\right) = \\sum_{i=1}^{n} \\left| y_{i} - \\bar{y}_{i} \\right|^{2} = \\sum_{i=1}^{n} \\left| y_{i} - (w_{0} + w_{1} x_{i}) \\right|^{2}$$\n",
    "\n",
    "Then our goal is to find the most adequate set of parameters $\\theta = \\{w_{0}, w_{1}\\}$, which are those that minimize the MSE loss defined previously. Therefore, we aim to obtain\n",
    "$$\\theta^{*}= \\underset{\\theta}{\\text{argmin }} \\mathcal{L}\\left( \\bar{\\mathbf{y}}, \\mathbf{y} \\mid f_{\\theta}, \\theta \\right)$$\n",
    "\n",
    "To do so, we will implement the **gradient descent** algorithm discussed in the course.\n",
    "\n",
    "## Manual implementation - `NumPy`\n",
    "\n",
    "We start by performing a *full manual implementation*, in the sense that we need to manually derive the gradient in order to apply the gradient descent updates. To do so, we will rely on [NumPy](https://numpy.org/), which is a fundamental library for numerical computing offering support for N-dimensional arrays and scientific computing tasks, such as linear algebra, statistical analysis, and matrix manipulation. We strongly encourage you to learn NumPy through the set of [tutorials](https://numpy.org/learn/). For the sake of this introductory tutorial, we will provide the explanation for all of the functions that we will use in this first exercise. After that exercise, we will assume for the rest of the course that knowledge of Numpy should be found online. \n",
    "\n",
    "We start by import libraries (`NumPy`) and set a random seed to ensure that the random number generator produces always a reproducible series of random numbers.\n",
    "\n",
    "**Used functions**\n",
    "- `np.random.seed`: sets the seed for the NumPy random number generator. [Documentation](https://numpy.org/doc/stable/reference/random/generated/numpy.random.seed.html)"
   ]
  },
  {
   "cell_type": "code",
   "execution_count": 14,
   "metadata": {
    "tags": []
   },
   "outputs": [],
   "source": [
    "import numpy as np\n",
    "np.random.seed(42)"
   ]
  },
  {
   "cell_type": "code",
   "execution_count": null,
   "metadata": {},
   "outputs": [],
   "source": []
  },
  {
   "cell_type": "markdown",
   "metadata": {},
   "source": [
    "### Generate a synthetic dataset.\n",
    "\n",
    "For the sake of this exercise, we will generate the data ourselves, so that we know the true values that we are looking for in advance. Hence, we define a linear relationship following\n",
    "$$y = w^{t}_0 + w^{t}_1 x + \\epsilon$$\n",
    "\n",
    "**Used functions**\n",
    "- `np.random.rand`: generates an array of random numbers uniformly distributed over [0, 1). [Documentation](https://numpy.org/doc/stable/reference/random/generated/numpy.random.rand.html)\n",
    "- `np.random.randn`: generates an array of random numbers from the standard normal distribution (mean 0, variance 1). [Documentation](https://numpy.org/doc/stable/reference/random/generated/numpy.random.randn.html)\n",
    "- `np.ones`: generates an array of ones with a specified shape. [Documentation](https://numpy.org/doc/stable/reference/generated/numpy.ones.html)\n",
    "- `np.c_`: concatenates arrays along the second axis. [Documentation](https://numpy.org/doc/stable/reference/generated/numpy.c_.html)"
   ]
  },
  {
   "cell_type": "code",
   "execution_count": 15,
   "metadata": {
    "tags": []
   },
   "outputs": [],
   "source": [
    "true_w0 = 2\n",
    "true_w1 = 3\n",
    "x_min = 0\n",
    "x_max = 1\n",
    "n_obs = 100\n",
    "x = np.linspace(x_min, x_max, n_obs)\n",
    "y = true_w1 * x + true_w0"
   ]
  },
  {
   "cell_type": "markdown",
   "metadata": {},
   "source": [
    "### Computing the MSE loss\n",
    "\n",
    "We will measure the errors made by our model by using the Mean Squared Error (MSE) loss, defined as \n",
    "$$\\mathcal{L}_{MSE}\\left( \\bar{\\mathbf{y}},\\theta \\right) = \\sum_{i=1}^{n} \\left| y_{i} - \\bar{y}_{i} \\right|^{2} = \\sum_{i=1}^{n} \\left| y_{i} - (w_{0} + w_{1} x_{i}) \\right|^{2}$$\n",
    "\n",
    "This will allow us to evaluate the performances of our model, but is also the basis for the following gradient descent algorithm.\n",
    "\n",
    "**Used functions**\n",
    "- `np.sum`: computes the sum of the provided array (optionally across a provided `axis`). [Documentation](https://numpy.org/doc/stable/reference/generated/numpy.mean.html)"
   ]
  },
  {
   "cell_type": "code",
   "execution_count": 16,
   "metadata": {
    "tags": []
   },
   "outputs": [],
   "source": [
    "def mse_loss(y, y_bar):\n",
    "    return np.sum((y - y_bar) ** 2)"
   ]
  },
  {
   "cell_type": "markdown",
   "metadata": {},
   "source": [
    "### Implement the gradient descent algorithm.\n",
    "\n",
    "As seen in the course Initialize the weight $w_1$ and bias $w_0$ to small random values\n",
    "1. Evaluate the predictions made by our model \n",
    "$$\\hat{y} = w_{1}x + w_0$$\n",
    "2. Compute the mean squared error (MSE) loss between the predicted values and the ground truth labels: \n",
    "$$\\mathcal{L}_{MSE} = \\frac{1}{n} \\sum_{i=1}^n (\\bar{y_i} - y_i)^2$$\n",
    "3. Compute the gradients of the loss with respect to the weight and bias (see derivation in the course)\n",
    "$$\\frac{\\partial \\mathcal{L}}{\\partial w_1} = \\sum_{i} 2 * (\\bar{y}_{i} - y_{i})*x_{i}$$\n",
    "$$\\frac{\\partial \\mathcal{L}}{\\partial w_0} = \\sum_{i} 2 * (\\bar{y}_{i} - y_{i})$$\n",
    "4. Update the weights and bias using the gradients and a learning rate $\\eta$: \n",
    "$$w_1 \\leftarrow w_1 - \\eta \\frac{\\partial \\mathcal{L}}{\\partial w_1}$$ \n",
    "$$w_0 \\leftarrow w_0 - \\eta \\frac{\\partial \\mathcal{L}}{\\partial w_0}$$"
   ]
  },
  {
   "cell_type": "code",
   "execution_count": 17,
   "metadata": {
    "tags": []
   },
   "outputs": [
    {
     "name": "stdout",
     "output_type": "stream",
     "text": [
      "2.999998555356199\n",
      "2.0000007742340746\n"
     ]
    }
   ],
   "source": [
    "# Parameters\n",
    "n_iter = 1000\n",
    "lr = 0.001\n",
    "def gradient_descent(x, y, n_iter, lr):\n",
    "    # Initialize the parameters\n",
    "    w_1 = np.random.randn()\n",
    "    w_0 = np.random.randn()\n",
    "    # Perform gradient descent\n",
    "    for i in range(n_iter):\n",
    "        # 1. Calculate the predictions\n",
    "        y_bar = w_1 * x + w_0\n",
    "        # 2. Compute the loss\n",
    "        loss = mse_loss(y, y_bar)\n",
    "        # 3. Calculate the gradients\n",
    "        dw_1 = 2 * np.sum((y_bar - y) * x)\n",
    "        dw_0 = 2 * np.sum((y_bar - y))\n",
    "        # 4. Update the parameters\n",
    "        w_1 -= lr * dw_1\n",
    "        w_0 -= lr * dw_0\n",
    "    return w_1, w_0\n",
    "w_1, w_0 = gradient_descent(x, y, n_iter, lr)\n",
    "print(w_1)\n",
    "print(w_0)"
   ]
  },
  {
   "cell_type": "markdown",
   "metadata": {},
   "source": [
    "### Visualize the results.\n",
    "\n",
    "We can see how well our model fits to the observed data by plotting it against the observed samples."
   ]
  },
  {
   "cell_type": "code",
   "execution_count": 18,
   "metadata": {
    "tags": []
   },
   "outputs": [
    {
     "data": {},
     "metadata": {},
     "output_type": "display_data"
    },
    {
     "data": {
      "application/vnd.holoviews_exec.v0+json": "",
      "text/html": [
       "<div id='3112'>\n",
       "  <div class=\"bk-root\" id=\"d1899c7f-c3bf-400a-9ff4-5971df513901\" data-root-id=\"3112\"></div>\n",
       "</div>\n",
       "<script type=\"application/javascript\">(function(root) {\n",
       "  function embed_document(root) {\n",
       "    var docs_json = {\"9396bf69-a505-4f92-a789-6d1e1984d5d5\":{\"defs\":[{\"extends\":null,\"module\":null,\"name\":\"ReactiveHTML1\",\"overrides\":[],\"properties\":[]},{\"extends\":null,\"module\":null,\"name\":\"FlexBox1\",\"overrides\":[],\"properties\":[{\"default\":\"flex-start\",\"kind\":null,\"name\":\"align_content\"},{\"default\":\"flex-start\",\"kind\":null,\"name\":\"align_items\"},{\"default\":\"row\",\"kind\":null,\"name\":\"flex_direction\"},{\"default\":\"wrap\",\"kind\":null,\"name\":\"flex_wrap\"},{\"default\":\"flex-start\",\"kind\":null,\"name\":\"justify_content\"}]},{\"extends\":null,\"module\":null,\"name\":\"GridStack1\",\"overrides\":[],\"properties\":[{\"default\":\"warn\",\"kind\":null,\"name\":\"mode\"},{\"default\":null,\"kind\":null,\"name\":\"ncols\"},{\"default\":null,\"kind\":null,\"name\":\"nrows\"},{\"default\":true,\"kind\":null,\"name\":\"allow_resize\"},{\"default\":true,\"kind\":null,\"name\":\"allow_drag\"},{\"default\":[],\"kind\":null,\"name\":\"state\"}]},{\"extends\":null,\"module\":null,\"name\":\"click1\",\"overrides\":[],\"properties\":[{\"default\":\"\",\"kind\":null,\"name\":\"terminal_output\"},{\"default\":\"\",\"kind\":null,\"name\":\"debug_name\"},{\"default\":0,\"kind\":null,\"name\":\"clears\"}]},{\"extends\":null,\"module\":null,\"name\":\"NotificationAreaBase1\",\"overrides\":[],\"properties\":[{\"default\":\"bottom-right\",\"kind\":null,\"name\":\"position\"},{\"default\":0,\"kind\":null,\"name\":\"_clear\"}]},{\"extends\":null,\"module\":null,\"name\":\"NotificationArea1\",\"overrides\":[],\"properties\":[{\"default\":[],\"kind\":null,\"name\":\"notifications\"},{\"default\":\"bottom-right\",\"kind\":null,\"name\":\"position\"},{\"default\":0,\"kind\":null,\"name\":\"_clear\"},{\"default\":[{\"background\":\"#ffc107\",\"icon\":{\"className\":\"fas fa-exclamation-triangle\",\"color\":\"white\",\"tagName\":\"i\"},\"type\":\"warning\"},{\"background\":\"#007bff\",\"icon\":{\"className\":\"fas fa-info-circle\",\"color\":\"white\",\"tagName\":\"i\"},\"type\":\"info\"}],\"kind\":null,\"name\":\"types\"}]},{\"extends\":null,\"module\":null,\"name\":\"Notification\",\"overrides\":[],\"properties\":[{\"default\":null,\"kind\":null,\"name\":\"background\"},{\"default\":3000,\"kind\":null,\"name\":\"duration\"},{\"default\":null,\"kind\":null,\"name\":\"icon\"},{\"default\":\"\",\"kind\":null,\"name\":\"message\"},{\"default\":null,\"kind\":null,\"name\":\"notification_type\"},{\"default\":false,\"kind\":null,\"name\":\"_destroyed\"}]},{\"extends\":null,\"module\":null,\"name\":\"TemplateActions1\",\"overrides\":[],\"properties\":[{\"default\":0,\"kind\":null,\"name\":\"open_modal\"},{\"default\":0,\"kind\":null,\"name\":\"close_modal\"}]},{\"extends\":null,\"module\":null,\"name\":\"MaterialTemplateActions1\",\"overrides\":[],\"properties\":[{\"default\":0,\"kind\":null,\"name\":\"open_modal\"},{\"default\":0,\"kind\":null,\"name\":\"close_modal\"}]}],\"roots\":{\"references\":[{\"attributes\":{},\"id\":\"3050\",\"type\":\"BasicTicker\"},{\"attributes\":{\"children\":[{\"id\":\"3113\"},{\"id\":\"3034\"},{\"id\":\"3140\"}],\"margin\":[0,0,0,0],\"name\":\"Row00213\"},\"id\":\"3112\",\"type\":\"Row\"},{\"attributes\":{},\"id\":\"3080\",\"type\":\"AllLabels\"},{\"attributes\":{\"bottom_units\":\"screen\",\"coordinates\":null,\"fill_alpha\":0.5,\"fill_color\":\"lightgrey\",\"group\":null,\"left_units\":\"screen\",\"level\":\"overlay\",\"line_alpha\":1.0,\"line_color\":\"black\",\"line_dash\":[4,4],\"line_width\":2,\"right_units\":\"screen\",\"syncable\":false,\"top_units\":\"screen\"},\"id\":\"3110\",\"type\":\"BoxAnnotation\"},{\"attributes\":{\"margin\":[5,5,5,5],\"name\":\"HSpacer00210\",\"sizing_mode\":\"stretch_width\"},\"id\":\"3140\",\"type\":\"Spacer\"},{\"attributes\":{\"margin\":[5,5,5,5],\"name\":\"HSpacer00209\",\"sizing_mode\":\"stretch_width\"},\"id\":\"3113\",\"type\":\"Spacer\"},{\"attributes\":{\"tools\":[{\"id\":\"3053\"},{\"id\":\"3054\"},{\"id\":\"3055\"},{\"id\":\"3056\"},{\"id\":\"3057\"},{\"id\":\"3058\"},{\"id\":\"3086\"},{\"id\":\"3090\"}]},\"id\":\"3060\",\"type\":\"Toolbar\"},{\"attributes\":{\"fill_alpha\":{\"value\":0.5},\"fill_color\":{\"value\":\"midnightblue\"},\"line_color\":{\"value\":\"white\"}},\"id\":\"3089\",\"type\":\"Circle\"},{\"attributes\":{},\"id\":\"3058\",\"type\":\"HelpTool\"},{\"attributes\":{\"coordinates\":null,\"data_source\":{\"id\":\"3092\"},\"glyph\":{\"id\":\"3093\"},\"group\":null,\"hover_glyph\":null,\"muted_glyph\":{\"id\":\"3095\"},\"nonselection_glyph\":{\"id\":\"3094\"},\"view\":{\"id\":\"3097\"}},\"id\":\"3096\",\"type\":\"GlyphRenderer\"},{\"attributes\":{},\"id\":\"3077\",\"type\":\"AllLabels\"},{\"attributes\":{},\"id\":\"3041\",\"type\":\"LinearScale\"},{\"attributes\":{\"line_alpha\":0.2,\"line_color\":\"red\",\"line_width\":6,\"x\":{\"field\":\"x\"},\"y\":{\"field\":\"y\"}},\"id\":\"3095\",\"type\":\"Line\"},{\"attributes\":{\"line_alpha\":0.1,\"line_color\":\"red\",\"line_width\":6,\"x\":{\"field\":\"x\"},\"y\":{\"field\":\"y\"}},\"id\":\"3094\",\"type\":\"Line\"},{\"attributes\":{\"client_comm_id\":\"9c328282a0c54b39b6b98af8716c61eb\",\"comm_id\":\"ae8f526f94414cda9debd503043991e3\",\"plot_id\":\"3112\"},\"id\":\"3180\",\"type\":\"panel.models.comm_manager.CommManager\"},{\"attributes\":{},\"id\":\"3046\",\"type\":\"BasicTicker\"},{\"attributes\":{\"label\":{\"value\":\"Learned model\"},\"renderers\":[{\"id\":\"3096\"}]},\"id\":\"3111\",\"type\":\"LegendItem\"},{\"attributes\":{\"axis_label\":\"x\",\"axis_label_standoff\":10,\"axis_label_text_color\":\"#FFFFFF\",\"axis_label_text_font\":\"Josefin Sans\",\"axis_label_text_font_size\":\"1.9em\",\"axis_label_text_font_style\":\"bold\",\"axis_line_alpha\":0.4,\"axis_line_color\":\"#E0E0E0\",\"coordinates\":null,\"formatter\":{\"id\":\"3079\"},\"group\":null,\"major_label_policy\":{\"id\":\"3080\"},\"major_label_text_color\":\"#E0E0E0\",\"major_label_text_font\":\"Josefin Sans\",\"major_label_text_font_size\":\"1.15em\",\"major_tick_line_alpha\":0.4,\"major_tick_line_color\":\"#E0E0E0\",\"minor_tick_line_alpha\":0.4,\"minor_tick_line_color\":\"#E0E0E0\",\"ticker\":{\"id\":\"3046\"}},\"id\":\"3045\",\"type\":\"LinearAxis\"},{\"attributes\":{\"fill_alpha\":{\"value\":0.2},\"fill_color\":{\"value\":\"midnightblue\"},\"hatch_alpha\":{\"value\":0.2},\"line_alpha\":{\"value\":0.2},\"line_color\":{\"value\":\"white\"},\"size\":{\"value\":10},\"x\":{\"field\":\"x\"},\"y\":{\"field\":\"y\"}},\"id\":\"3071\",\"type\":\"Circle\"},{\"attributes\":{\"axis_label\":\"y\",\"axis_label_standoff\":10,\"axis_label_text_color\":\"#FFFFFF\",\"axis_label_text_font\":\"Josefin Sans\",\"axis_label_text_font_size\":\"1.9em\",\"axis_label_text_font_style\":\"bold\",\"axis_line_alpha\":0.4,\"axis_line_color\":\"#E0E0E0\",\"coordinates\":null,\"formatter\":{\"id\":\"3076\"},\"group\":null,\"major_label_policy\":{\"id\":\"3077\"},\"major_label_text_color\":\"#E0E0E0\",\"major_label_text_font\":\"Josefin Sans\",\"major_label_text_font_size\":\"1.15em\",\"major_tick_line_alpha\":0.4,\"major_tick_line_color\":\"#E0E0E0\",\"minor_tick_line_alpha\":0.4,\"minor_tick_line_color\":\"#E0E0E0\",\"ticker\":{\"id\":\"3050\"}},\"id\":\"3049\",\"type\":\"LinearAxis\"},{\"attributes\":{\"data\":{\"x\":{\"__ndarray__\":\"AAAAAAAAAABbv1Kg1q+EP1u/UqDWr5Q/CB988MEHnz9bv1Kg1q+kPzJvZ0jM26k/CB988MEHrz9wZ0jM2xmyP1u/UqDWr7Q/RhdddNFFtz8yb2dIzNu5Px3HcRzHcbw/CB988MEHvz96O0Ni3s7AP3BnSMzbGcI/ZZNNNtlkwz9bv1Kg1q/EP1HrVwrU+sU/RhdddNFFxz88Q2LezpDIPzJvZ0jM28k/J5tssskmyz8dx3Ecx3HMPxPzdobEvM0/CB988MEHzz9/pUCtXynQP3o7Q2LeztA/ddFFF1100T9wZ0jM2xnSP2r9SoFav9I/ZZNNNtlk0z9gKVDrVwrUP1u/UqDWr9Q/VlVVVVVV1T9R61cK1PrVP0yBWr9SoNY/RhdddNFF1z9BrV8pUOvXPzxDYt7OkNg/N9lkk0022T8yb2dIzNvZPy0Fav1Kgdo/J5tssskm2z8iMW9nSMzbPx3HcRzHcdw/GF100UUX3T8T83aGxLzdPw6JeTtDYt4/CB988MEH3z8DtX6lQK3fP3+lQK1fKeA/ffDBBx984D96O0Ni3s7gP3eGxLydIeE/ddFFF1104T9yHMdxHMfhP3BnSMzbGeI/bbLJJpts4j9q/UqBWr/iP2hIzNsZEuM/ZZNNNtlk4z9j3s6QmLfjP2ApUOtXCuQ/XnTRRRdd5D9bv1Kg1q/kP1gK1PqVAuU/VlVVVVVV5T9ToNavFKjlP1HrVwrU+uU/TjbZZJNN5j9MgVq/UqDmP0nM2xkS8+Y/RhdddNFF5z9EYt7OkJjnP0GtXylQ6+c/P/jggw8+6D88Q2LezpDoPzmO4ziO4+g/N9lkk0026T80JObtDInpPzJvZ0jM2+k/L7rooosu6j8tBWr9SoHqPypQ61cK1Oo/J5tssskm6z8l5u0MiXnrPyIxb2dIzOs/IHzwwQcf7D8dx3Ecx3HsPxsS83aGxOw/GF100UUX7T8VqPUrBWrtPxPzdobEvO0/ED744IMP7j8OiXk7Q2LuPwvU+pUCte4/CB988MEH7z8Gav1KgVrvPwO1fqVAre8/AAAAAAAA8D8=\",\"dtype\":\"float64\",\"order\":\"little\",\"shape\":[100]},\"y\":{\"__ndarray__\":\"AAAAAAAAAEA++OCDDz4AQHzwwQcffABAuuiiiy66AED44IMPPvgAQDbZZJNNNgFAdNFFF110AUCyySabbLIBQPDBBx988AFALrrooosuAkBtsskmm2wCQKuqqqqqqgJA6aKLLrroAkAnm2yyySYDQGWTTTbZZANAo4suuuiiA0Dhgw8++OADQB988MEHHwRAXXTRRRddBECbbLLJJpsEQNpkk0022QRAF1100UUXBUBWVVVVVVUFQJRNNtlkkwVA0kUXXXTRBUAQPvjggw8GQE422WSTTQZAjC666KKLBkDKJptssskGQAgffPDBBwdARhdddNFFB0CEDz744IMHQMIHH3zwwQdAAAAAAAAACEA++OCDDz4IQHzwwQcffAhAuuiiiy66CED44IMPPvgIQDbZZJNNNglAdNFFF110CUCzySabbLIJQPHBBx988AlALrrooosuCkBtsskmm2wKQKuqqqqqqgpA6aKLLrroCkAnm2yyySYLQGWTTTbZZAtAo4suuuiiC0Dhgw8++OALQB988MEHHwxAXnTRRRddDECcbLLJJpsMQNlkk0022QxAGF100UUXDUBWVVVVVVUNQJRNNtlkkw1A0kUXXXTRDUAQPvjggw8OQE422WSTTQ5AjC666KKLDkDKJptssskOQAgffPDBBw9ARhdddNFFD0CEDz744IMPQMIHH3zwwQ9AAAAAAAAAEEAffPDBBx8QQD744IMPPhBAXXTRRRddEEB88MEHH3wQQJxssskmmxBAuuiiiy66EEDaZJNNNtkQQPjggw8++BBAGF100UUXEUA22WSTTTYRQFZVVVVVVRFAdNFFF110EUCUTTbZZJMRQLPJJptsshFA0kUXXXTREUDxwQcffPARQBA++OCDDxJALrrooosuEkBONtlkk00SQG2yySabbBJAjC666KKLEkCrqqqqqqoSQMomm2yyyRJA6aKLLrroEkAIH3zwwQcTQCebbLLJJhNARhdddNFFE0Blk0022WQTQIQPPvjggxNAo4suuuiiE0DCBx988METQOGDDz744BNAAAAAAAAAFEA=\",\"dtype\":\"float64\",\"order\":\"little\",\"shape\":[100]}},\"selected\":{\"id\":\"3082\"},\"selection_policy\":{\"id\":\"3081\"}},\"id\":\"3067\",\"type\":\"ColumnDataSource\"},{\"attributes\":{},\"id\":\"3043\",\"type\":\"LinearScale\"},{\"attributes\":{\"coordinates\":null,\"data_source\":{\"id\":\"3067\"},\"glyph\":{\"id\":\"3068\"},\"group\":null,\"hover_glyph\":{\"id\":\"3070\"},\"muted_glyph\":{\"id\":\"3071\"},\"nonselection_glyph\":{\"id\":\"3089\"},\"selection_glyph\":{\"id\":\"3088\"},\"view\":{\"id\":\"3073\"}},\"id\":\"3072\",\"type\":\"GlyphRenderer\"},{\"attributes\":{\"axis\":{\"id\":\"3045\"},\"coordinates\":null,\"grid_line_alpha\":0.15,\"grid_line_color\":\"#E0E0E0\",\"group\":null,\"ticker\":null},\"id\":\"3048\",\"type\":\"Grid\"},{\"attributes\":{\"coordinates\":null,\"group\":null,\"text\":\"Simple linear regression\",\"text_color\":\"#E0E0E0\",\"text_font\":\"Josefin Sans\",\"text_font_size\":\"2.1em\"},\"id\":\"3035\",\"type\":\"Title\"},{\"attributes\":{},\"id\":\"3082\",\"type\":\"Selection\"},{\"attributes\":{},\"id\":\"3079\",\"type\":\"BasicTickFormatter\"},{\"attributes\":{\"fill_alpha\":{\"value\":0.5},\"fill_color\":{\"value\":\"red\"},\"hatch_alpha\":{\"value\":0.5},\"line_alpha\":{\"value\":0.5},\"line_color\":{\"value\":\"white\"},\"size\":{\"value\":10},\"x\":{\"field\":\"x\"},\"y\":{\"field\":\"y\"}},\"id\":\"3070\",\"type\":\"Circle\"},{\"attributes\":{\"axis\":{\"id\":\"3049\"},\"coordinates\":null,\"dimension\":1,\"grid_line_alpha\":0.15,\"grid_line_color\":\"#E0E0E0\",\"group\":null,\"ticker\":null},\"id\":\"3052\",\"type\":\"Grid\"},{\"attributes\":{},\"id\":\"3076\",\"type\":\"BasicTickFormatter\"},{\"attributes\":{},\"id\":\"3107\",\"type\":\"UnionRenderers\"},{\"attributes\":{},\"id\":\"3056\",\"type\":\"SaveTool\"},{\"attributes\":{},\"id\":\"3108\",\"type\":\"Selection\"},{\"attributes\":{},\"id\":\"3054\",\"type\":\"WheelZoomTool\"},{\"attributes\":{},\"id\":\"3053\",\"type\":\"PanTool\"},{\"attributes\":{\"fill_alpha\":{\"value\":0.25},\"fill_color\":{\"value\":\"midnightblue\"},\"hatch_alpha\":{\"value\":0.25},\"line_alpha\":{\"value\":0.25},\"line_color\":{\"value\":\"white\"},\"size\":{\"value\":10},\"x\":{\"field\":\"x\"},\"y\":{\"field\":\"y\"}},\"id\":\"3068\",\"type\":\"Circle\"},{\"attributes\":{\"data\":{\"x\":{\"__ndarray__\":\"AAAAAAAAAABbv1Kg1q+EP1u/UqDWr5Q/CB988MEHnz9bv1Kg1q+kPzJvZ0jM26k/CB988MEHrz9wZ0jM2xmyP1u/UqDWr7Q/RhdddNFFtz8yb2dIzNu5Px3HcRzHcbw/CB988MEHvz96O0Ni3s7AP3BnSMzbGcI/ZZNNNtlkwz9bv1Kg1q/EP1HrVwrU+sU/RhdddNFFxz88Q2LezpDIPzJvZ0jM28k/J5tssskmyz8dx3Ecx3HMPxPzdobEvM0/CB988MEHzz9/pUCtXynQP3o7Q2LeztA/ddFFF1100T9wZ0jM2xnSP2r9SoFav9I/ZZNNNtlk0z9gKVDrVwrUP1u/UqDWr9Q/VlVVVVVV1T9R61cK1PrVP0yBWr9SoNY/RhdddNFF1z9BrV8pUOvXPzxDYt7OkNg/N9lkk0022T8yb2dIzNvZPy0Fav1Kgdo/J5tssskm2z8iMW9nSMzbPx3HcRzHcdw/GF100UUX3T8T83aGxLzdPw6JeTtDYt4/CB988MEH3z8DtX6lQK3fP3+lQK1fKeA/ffDBBx984D96O0Ni3s7gP3eGxLydIeE/ddFFF1104T9yHMdxHMfhP3BnSMzbGeI/bbLJJpts4j9q/UqBWr/iP2hIzNsZEuM/ZZNNNtlk4z9j3s6QmLfjP2ApUOtXCuQ/XnTRRRdd5D9bv1Kg1q/kP1gK1PqVAuU/VlVVVVVV5T9ToNavFKjlP1HrVwrU+uU/TjbZZJNN5j9MgVq/UqDmP0nM2xkS8+Y/RhdddNFF5z9EYt7OkJjnP0GtXylQ6+c/P/jggw8+6D88Q2LezpDoPzmO4ziO4+g/N9lkk0026T80JObtDInpPzJvZ0jM2+k/L7rooosu6j8tBWr9SoHqPypQ61cK1Oo/J5tssskm6z8l5u0MiXnrPyIxb2dIzOs/IHzwwQcf7D8dx3Ecx3HsPxsS83aGxOw/GF100UUX7T8VqPUrBWrtPxPzdobEvO0/ED744IMP7j8OiXk7Q2LuPwvU+pUCte4/CB988MEH7z8Gav1KgVrvPwO1fqVAre8/AAAAAAAA8D8=\",\"dtype\":\"float64\",\"order\":\"little\",\"shape\":[100]},\"y\":{\"__ndarray__\":\"8XrqZwAAAEBqD9bpDz4AQOOjwWsffABAXDit7S66AEDUzJhvPvgAQE1hhPFNNgFAxvVvc110AUA/ilv1bLIBQLgeR3d88AFAMbMy+YsuAkCqRx57m2wCQCPcCf2qqgJAnHD1frroAkAUBeEAyiYDQI2ZzILZZANABi64BOmiA0B/wqOG+OADQPhWjwgIHwRAcet6ihddBEDqf2YMJ5sEQGIUUo422QRA26g9EEYXBUBUPSmSVVUFQM3RFBRlkwVARmYAlnTRBUC/+usXhA8GQDiP15mTTQZAsSPDG6OLBkAquK6dsskGQKJMmh/CBwdAG+GFodFFB0CUdXEj4YMHQA0KXaXwwQdAhp5IJwAACED/MjSpDz4IQHjHHysffAhA8FsLrS66CEBq8PYuPvgIQOKE4rBNNglAWxnOMl10CUDUrbm0bLIJQE1CpTZ88AlAxtaQuIsuCkA+a3w6m2wKQLj/Z7yqqgpAMJRTPrroCkCqKD/AySYLQCK9KkLZZAtAm1EWxOiiC0AU5gFG+OALQIx67ccHHwxABg/ZSRddDEB+o8TLJpsMQPc3sE022QxAcMybz0UXDUDpYIdRVVUNQGL1ctNkkw1A24leVXTRDUBUHkrXgw8OQMyyNVmTTQ5ARUch26KLDkC+2wxdsskOQDdw+N7BBw9AsATkYNFFD0Apmc/i4IMPQKItu2TwwQ9AG8Km5v//D0BKK0m0Bx8QQIb1PnUPPhBAwr80NhddEEAAiir3HnwQQDxUILgmmxBAeB4WeS66EEC06As6NtkQQPGyAfs9+BBALn33u0UXEUBqR+18TTYRQKYR4z1VVRFA4tvY/lx0EUAfps6/ZJMRQFxwxIBsshFAmDq6QXTREUDUBLACfPARQBHPpcODDxJATZmbhIsuEkCKY5FFk00SQMYthwabbBJAAvh8x6KLEkA/wnKIqqoSQHyMaEmyyRJAuFZeCrroEkD0IFTLwQcTQDHrSYzJJhNAbbU/TdFFE0CqfzUO2WQTQOZJK8/ggxNAIhQhkOiiE0Bf3hZR8METQJuoDBL44BNA2HIC0///E0A=\",\"dtype\":\"float64\",\"order\":\"little\",\"shape\":[100]}},\"selected\":{\"id\":\"3108\"},\"selection_policy\":{\"id\":\"3107\"}},\"id\":\"3092\",\"type\":\"ColumnDataSource\"},{\"attributes\":{},\"id\":\"3081\",\"type\":\"UnionRenderers\"},{\"attributes\":{\"overlay\":{\"id\":\"3059\"}},\"id\":\"3055\",\"type\":\"BoxZoomTool\"},{\"attributes\":{},\"id\":\"3039\",\"type\":\"DataRange1d\"},{\"attributes\":{\"label\":{\"value\":\"Observations\"},\"renderers\":[{\"id\":\"3072\"}]},\"id\":\"3085\",\"type\":\"LegendItem\"},{\"attributes\":{\"background_fill_alpha\":0.9,\"background_fill_color\":\"#0f0f0f\",\"below\":[{\"id\":\"3045\"}],\"border_fill_alpha\":0.8,\"border_fill_color\":\"#111111\",\"center\":[{\"id\":\"3048\"},{\"id\":\"3052\"},{\"id\":\"3084\"}],\"height\":450,\"left\":[{\"id\":\"3049\"}],\"outline_line_alpha\":0.25,\"outline_line_color\":\"#E0E0E0\",\"outline_line_width\":3,\"renderers\":[{\"id\":\"3072\"},{\"id\":\"3096\"}],\"title\":{\"id\":\"3035\"},\"toolbar\":{\"id\":\"3060\"},\"toolbar_location\":null,\"x_range\":{\"id\":\"3037\"},\"x_scale\":{\"id\":\"3041\"},\"y_range\":{\"id\":\"3039\"},\"y_scale\":{\"id\":\"3043\"}},\"id\":\"3034\",\"subtype\":\"Figure\",\"type\":\"Plot\"},{\"attributes\":{\"line_alpha\":0.6,\"line_color\":\"red\",\"line_width\":6,\"x\":{\"field\":\"x\"},\"y\":{\"field\":\"y\"}},\"id\":\"3093\",\"type\":\"Line\"},{\"attributes\":{\"fill_alpha\":{\"value\":0.8},\"fill_color\":{\"value\":\"red\"},\"line_color\":{\"value\":\"white\"}},\"id\":\"3088\",\"type\":\"Circle\"},{\"attributes\":{\"source\":{\"id\":\"3092\"}},\"id\":\"3097\",\"type\":\"CDSView\"},{\"attributes\":{\"background_fill_alpha\":0.25,\"background_fill_color\":\"#505050\",\"border_line_alpha\":0.25,\"coordinates\":null,\"group\":null,\"items\":[{\"id\":\"3085\"},{\"id\":\"3111\"}],\"label_standoff\":8,\"label_text_color\":\"#E0E0E0\",\"label_text_font\":\"Josefin Sans\",\"label_text_font_size\":\"1.15em\",\"spacing\":8},\"id\":\"3084\",\"type\":\"Legend\"},{\"attributes\":{\"mode\":\"append\",\"overlay\":{\"id\":\"3110\"},\"renderers\":[{\"id\":\"3072\"}]},\"id\":\"3090\",\"type\":\"BoxSelectTool\"},{\"attributes\":{},\"id\":\"3037\",\"type\":\"DataRange1d\"},{\"attributes\":{},\"id\":\"3057\",\"type\":\"ResetTool\"},{\"attributes\":{\"source\":{\"id\":\"3067\"}},\"id\":\"3073\",\"type\":\"CDSView\"},{\"attributes\":{\"bottom_units\":\"screen\",\"coordinates\":null,\"fill_alpha\":0.5,\"fill_color\":\"lightgrey\",\"group\":null,\"left_units\":\"screen\",\"level\":\"overlay\",\"line_alpha\":1.0,\"line_color\":\"black\",\"line_dash\":[4,4],\"line_width\":2,\"right_units\":\"screen\",\"syncable\":false,\"top_units\":\"screen\"},\"id\":\"3059\",\"type\":\"BoxAnnotation\"},{\"attributes\":{\"callback\":null,\"mode\":\"vline\",\"renderers\":[{\"id\":\"3072\"}],\"tooltips\":null},\"id\":\"3086\",\"type\":\"HoverTool\"}],\"root_ids\":[\"3112\",\"3180\"]},\"title\":\"Bokeh Application\",\"version\":\"2.4.3\"}};\n",
       "    var render_items = [{\"docid\":\"9396bf69-a505-4f92-a789-6d1e1984d5d5\",\"root_ids\":[\"3112\"],\"roots\":{\"3112\":\"d1899c7f-c3bf-400a-9ff4-5971df513901\"}}];\n",
       "    root.Bokeh.embed.embed_items_notebook(docs_json, render_items);\n",
       "    for (const render_item of render_items) {\n",
       "      for (const root_id of render_item.root_ids) {\n",
       "\tconst id_el = document.getElementById(root_id)\n",
       "\tif (id_el.children.length && (id_el.children[0].className === 'bk-root')) {\n",
       "\t  const root_el = id_el.children[0]\n",
       "\t  root_el.id = root_el.id + '-rendered'\n",
       "\t}\n",
       "      }\n",
       "    }\n",
       "  }\n",
       "  if (root.Bokeh !== undefined && root.Bokeh.Panel !== undefined) {\n",
       "    embed_document(root);\n",
       "  } else {\n",
       "    var attempts = 0;\n",
       "    var timer = setInterval(function(root) {\n",
       "      if (root.Bokeh !== undefined && root.Bokeh.Panel !== undefined) {\n",
       "        clearInterval(timer);\n",
       "        embed_document(root);\n",
       "      } else if (document.readyState == \"complete\") {\n",
       "        attempts++;\n",
       "        if (attempts > 200) {\n",
       "          clearInterval(timer);\n",
       "          console.log(\"Bokeh: ERROR: Unable to run BokehJS code because BokehJS library is missing\");\n",
       "        }\n",
       "      }\n",
       "    }, 25, root)\n",
       "  }\n",
       "})(window);</script>"
      ],
      "text/plain": [
       "Row\n",
       "    [0] HSpacer()\n",
       "    [1] Bokeh(Figure)\n",
       "    [2] HSpacer()"
      ]
     },
     "execution_count": 18,
     "metadata": {
      "application/vnd.holoviews_exec.v0+json": {
       "id": "3112"
      }
     },
     "output_type": "execute_result"
    }
   ],
   "source": [
    "p = scatter(x, y, title=\"Simple linear regression\")\n",
    "p.line(x, w_1 * x + w_0, line_width=6, line_alpha=0.6, color=\"red\", legend_label=r\"Learned model\")\n",
    "plot = (center_plot(p))\n",
    "plot"
   ]
  },
  {
   "cell_type": "markdown",
   "metadata": {},
   "source": [
    "### Observing our solution interactively\n",
    "\n",
    "In the following code, you can observe the behavior of the model by playing interactively with the properties of the original problem. \n",
    "\n",
    "<div class=\"alert alert-success\" markdown=\"1\" style=\"color:white; background-color: #192841; border-color: #779ecb\">\n",
    "\n",
    "> Note that each change in the properties of the original problem requires to run the gradient descent algorithm entirely each time.\n",
    "\n",
    "</div>"
   ]
  },
  {
   "cell_type": "code",
   "execution_count": 19,
   "metadata": {
    "tags": []
   },
   "outputs": [
    {
     "data": {},
     "metadata": {},
     "output_type": "display_data"
    },
    {
     "data": {
      "application/vnd.holoviews_exec.v0+json": "",
      "text/html": [
       "<div id='3324'>\n",
       "  <div class=\"bk-root\" id=\"7ad85537-9f56-4619-acfe-b09bda5de14e\" data-root-id=\"3324\"></div>\n",
       "</div>\n",
       "<script type=\"application/javascript\">(function(root) {\n",
       "  function embed_document(root) {\n",
       "    var docs_json = {\"09792eb5-c362-487a-8b0f-352ae95cc8db\":{\"defs\":[{\"extends\":null,\"module\":null,\"name\":\"ReactiveHTML1\",\"overrides\":[],\"properties\":[]},{\"extends\":null,\"module\":null,\"name\":\"FlexBox1\",\"overrides\":[],\"properties\":[{\"default\":\"flex-start\",\"kind\":null,\"name\":\"align_content\"},{\"default\":\"flex-start\",\"kind\":null,\"name\":\"align_items\"},{\"default\":\"row\",\"kind\":null,\"name\":\"flex_direction\"},{\"default\":\"wrap\",\"kind\":null,\"name\":\"flex_wrap\"},{\"default\":\"flex-start\",\"kind\":null,\"name\":\"justify_content\"}]},{\"extends\":null,\"module\":null,\"name\":\"GridStack1\",\"overrides\":[],\"properties\":[{\"default\":\"warn\",\"kind\":null,\"name\":\"mode\"},{\"default\":null,\"kind\":null,\"name\":\"ncols\"},{\"default\":null,\"kind\":null,\"name\":\"nrows\"},{\"default\":true,\"kind\":null,\"name\":\"allow_resize\"},{\"default\":true,\"kind\":null,\"name\":\"allow_drag\"},{\"default\":[],\"kind\":null,\"name\":\"state\"}]},{\"extends\":null,\"module\":null,\"name\":\"click1\",\"overrides\":[],\"properties\":[{\"default\":\"\",\"kind\":null,\"name\":\"terminal_output\"},{\"default\":\"\",\"kind\":null,\"name\":\"debug_name\"},{\"default\":0,\"kind\":null,\"name\":\"clears\"}]},{\"extends\":null,\"module\":null,\"name\":\"NotificationAreaBase1\",\"overrides\":[],\"properties\":[{\"default\":\"bottom-right\",\"kind\":null,\"name\":\"position\"},{\"default\":0,\"kind\":null,\"name\":\"_clear\"}]},{\"extends\":null,\"module\":null,\"name\":\"NotificationArea1\",\"overrides\":[],\"properties\":[{\"default\":[],\"kind\":null,\"name\":\"notifications\"},{\"default\":\"bottom-right\",\"kind\":null,\"name\":\"position\"},{\"default\":0,\"kind\":null,\"name\":\"_clear\"},{\"default\":[{\"background\":\"#ffc107\",\"icon\":{\"className\":\"fas fa-exclamation-triangle\",\"color\":\"white\",\"tagName\":\"i\"},\"type\":\"warning\"},{\"background\":\"#007bff\",\"icon\":{\"className\":\"fas fa-info-circle\",\"color\":\"white\",\"tagName\":\"i\"},\"type\":\"info\"}],\"kind\":null,\"name\":\"types\"}]},{\"extends\":null,\"module\":null,\"name\":\"Notification\",\"overrides\":[],\"properties\":[{\"default\":null,\"kind\":null,\"name\":\"background\"},{\"default\":3000,\"kind\":null,\"name\":\"duration\"},{\"default\":null,\"kind\":null,\"name\":\"icon\"},{\"default\":\"\",\"kind\":null,\"name\":\"message\"},{\"default\":null,\"kind\":null,\"name\":\"notification_type\"},{\"default\":false,\"kind\":null,\"name\":\"_destroyed\"}]},{\"extends\":null,\"module\":null,\"name\":\"TemplateActions1\",\"overrides\":[],\"properties\":[{\"default\":0,\"kind\":null,\"name\":\"open_modal\"},{\"default\":0,\"kind\":null,\"name\":\"close_modal\"}]},{\"extends\":null,\"module\":null,\"name\":\"MaterialTemplateActions1\",\"overrides\":[],\"properties\":[{\"default\":0,\"kind\":null,\"name\":\"open_modal\"},{\"default\":0,\"kind\":null,\"name\":\"close_modal\"}]}],\"roots\":{\"references\":[{\"attributes\":{},\"id\":\"3288\",\"type\":\"BasicTickFormatter\"},{\"attributes\":{},\"id\":\"3289\",\"type\":\"AllLabels\"},{\"attributes\":{},\"id\":\"3291\",\"type\":\"BasicTickFormatter\"},{\"attributes\":{},\"id\":\"3249\",\"type\":\"DataRange1d\"},{\"attributes\":{\"bottom_units\":\"screen\",\"coordinates\":null,\"fill_alpha\":0.5,\"fill_color\":\"lightgrey\",\"group\":null,\"left_units\":\"screen\",\"level\":\"overlay\",\"line_alpha\":1.0,\"line_color\":\"black\",\"line_dash\":[4,4],\"line_width\":2,\"right_units\":\"screen\",\"syncable\":false,\"top_units\":\"screen\"},\"id\":\"3322\",\"type\":\"BoxAnnotation\"},{\"attributes\":{\"fill_alpha\":{\"value\":0.8},\"fill_color\":{\"value\":\"red\"},\"line_color\":{\"value\":\"white\"}},\"id\":\"3300\",\"type\":\"Circle\"},{\"attributes\":{\"coordinates\":null,\"group\":null,\"text\":\"Linear regression problem\",\"text_color\":\"#E0E0E0\",\"text_font\":\"Josefin Sans\",\"text_font_size\":\"2.1em\"},\"id\":\"3247\",\"type\":\"Title\"},{\"attributes\":{\"label\":{\"value\":\"Observations\"},\"renderers\":[{\"id\":\"3284\"}]},\"id\":\"3297\",\"type\":\"LegendItem\"},{\"attributes\":{\"mode\":\"append\",\"overlay\":{\"id\":\"3322\"},\"renderers\":[{\"id\":\"3284\"}]},\"id\":\"3302\",\"type\":\"BoxSelectTool\"},{\"attributes\":{\"background_fill_alpha\":0.9,\"background_fill_color\":\"#0f0f0f\",\"below\":[{\"id\":\"3257\"}],\"border_fill_alpha\":0.8,\"border_fill_color\":\"#111111\",\"center\":[{\"id\":\"3260\"},{\"id\":\"3264\"},{\"id\":\"3296\"}],\"height\":450,\"left\":[{\"id\":\"3261\"}],\"outline_line_alpha\":0.25,\"outline_line_color\":\"#E0E0E0\",\"outline_line_width\":3,\"renderers\":[{\"id\":\"3284\"},{\"id\":\"3308\"}],\"title\":{\"id\":\"3247\"},\"toolbar\":{\"id\":\"3272\"},\"toolbar_location\":null,\"x_range\":{\"id\":\"3249\"},\"x_scale\":{\"id\":\"3253\"},\"y_range\":{\"id\":\"3251\"},\"y_scale\":{\"id\":\"3255\"}},\"id\":\"3246\",\"subtype\":\"Figure\",\"type\":\"Plot\"},{\"attributes\":{},\"id\":\"3255\",\"type\":\"LinearScale\"},{\"attributes\":{\"callback\":null,\"mode\":\"vline\",\"renderers\":[{\"id\":\"3284\"}],\"tooltips\":null},\"id\":\"3298\",\"type\":\"HoverTool\"},{\"attributes\":{},\"id\":\"3292\",\"type\":\"AllLabels\"},{\"attributes\":{\"line_alpha\":0.7,\"line_color\":\"red\",\"line_width\":4,\"x\":{\"field\":\"x\"},\"y\":{\"field\":\"y\"}},\"id\":\"3305\",\"type\":\"Line\"},{\"attributes\":{\"axis_label\":\"$$\\\\color{white} x$$\",\"axis_label_standoff\":10,\"axis_label_text_color\":\"#FFFFFF\",\"axis_label_text_font\":\"Josefin Sans\",\"axis_label_text_font_size\":\"1.9em\",\"axis_label_text_font_style\":\"bold\",\"axis_line_alpha\":0.4,\"axis_line_color\":\"#E0E0E0\",\"coordinates\":null,\"formatter\":{\"id\":\"3291\"},\"group\":null,\"major_label_policy\":{\"id\":\"3292\"},\"major_label_text_color\":\"#E0E0E0\",\"major_label_text_font\":\"Josefin Sans\",\"major_label_text_font_size\":\"1.15em\",\"major_tick_line_alpha\":0.4,\"major_tick_line_color\":\"#E0E0E0\",\"minor_tick_line_alpha\":0.4,\"minor_tick_line_color\":\"#E0E0E0\",\"ticker\":{\"id\":\"3258\"}},\"id\":\"3257\",\"type\":\"LinearAxis\"},{\"attributes\":{\"fill_alpha\":{\"value\":0.5},\"fill_color\":{\"value\":\"midnightblue\"},\"line_color\":{\"value\":\"white\"}},\"id\":\"3301\",\"type\":\"Circle\"},{\"attributes\":{\"coordinates\":null,\"data_source\":{\"id\":\"3304\"},\"glyph\":{\"id\":\"3305\"},\"group\":null,\"hover_glyph\":null,\"muted_glyph\":{\"id\":\"3307\"},\"nonselection_glyph\":{\"id\":\"3306\"},\"view\":{\"id\":\"3309\"}},\"id\":\"3308\",\"type\":\"GlyphRenderer\"},{\"attributes\":{},\"id\":\"3258\",\"type\":\"BasicTicker\"},{\"attributes\":{\"axis_label\":\"$$\\\\color{white} 1.0x^1 + 0.0$$\",\"axis_label_standoff\":10,\"axis_label_text_color\":\"#FFFFFF\",\"axis_label_text_font\":\"Josefin Sans\",\"axis_label_text_font_size\":\"1.9em\",\"axis_label_text_font_style\":\"bold\",\"axis_line_alpha\":0.4,\"axis_line_color\":\"#E0E0E0\",\"coordinates\":null,\"formatter\":{\"id\":\"3288\"},\"group\":null,\"major_label_policy\":{\"id\":\"3289\"},\"major_label_text_color\":\"#E0E0E0\",\"major_label_text_font\":\"Josefin Sans\",\"major_label_text_font_size\":\"1.15em\",\"major_tick_line_alpha\":0.4,\"major_tick_line_color\":\"#E0E0E0\",\"minor_tick_line_alpha\":0.4,\"minor_tick_line_color\":\"#E0E0E0\",\"ticker\":{\"id\":\"3262\"}},\"id\":\"3261\",\"type\":\"LinearAxis\"},{\"attributes\":{\"line_alpha\":0.1,\"line_color\":\"red\",\"line_width\":4,\"x\":{\"field\":\"x\"},\"y\":{\"field\":\"y\"}},\"id\":\"3306\",\"type\":\"Line\"},{\"attributes\":{},\"id\":\"3270\",\"type\":\"HelpTool\"},{\"attributes\":{},\"id\":\"3251\",\"type\":\"DataRange1d\"},{\"attributes\":{},\"id\":\"3253\",\"type\":\"LinearScale\"},{\"attributes\":{\"line_alpha\":0.2,\"line_color\":\"red\",\"line_width\":4,\"x\":{\"field\":\"x\"},\"y\":{\"field\":\"y\"}},\"id\":\"3307\",\"type\":\"Line\"},{\"attributes\":{\"fill_alpha\":{\"value\":0.25},\"fill_color\":{\"value\":\"midnightblue\"},\"hatch_alpha\":{\"value\":0.25},\"line_alpha\":{\"value\":0.25},\"line_color\":{\"value\":\"white\"},\"size\":{\"value\":10},\"x\":{\"field\":\"x\"},\"y\":{\"field\":\"y\"}},\"id\":\"3280\",\"type\":\"Circle\"},{\"attributes\":{\"data\":{\"x\":{\"__ndarray__\":\"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\",\"dtype\":\"float64\",\"order\":\"little\",\"shape\":[200]},\"y\":{\"__ndarray__\":\"wOzbu+yS3LqURls7qDUJPKqZWzzX/pY82DDAPNhi6TxtSgk9buMdPW98Mj1vFUc9cK5bPXBHcD04cII9ubyMPTkJlz25VaE9OqKrPbrutT07O8A9u4fKPTvU1D28IN89PG3pPby58z08Bv49XykEPp5PCT7fdQ4+H5wTPl/CGD6f6B0+4A4jPh81KD5gWy0+oIEyPt+nNz4gzjw+YPRBPqEaRz7gQEw+IWdRPmGNVj6hs1s+4dlgPiIAZj5hJms+okxwPuJydT4imXo+Yr9/PtFygj7yBYU+EpmHPjEsij5Rv4w+cVKPPpLlkT6yeJQ+0guXPvGemT4SMpw+MsWePlJYoT5y66M+k36mPrMRqT7SpKs+8jeuPhPLsD4zXrM+U/G1PnOEuD6SF7s+s6q9PtM9wD7z0MI+E2TFPjT3xz5Uiso+cx3NPpOwzz60Q9I+1NbUPvRp1z4U/dk+NJDcPlQj3z50tuE+lEnkPrTc5j7Vb+k+9QLsPhSW7j40KfE+VbzzPnVP9j6V4vg+tXX7PtUI/j76TQA/ipcBPxrhAj+qKgQ/OnQFP8y9Bj9aBwg/7FAJP3qaCj8K5As/nC0NPyp3Dj+8wA8/SgoRP9xTEj9snRM/+uYUP4wwFj8cehc/rMMYPzwNGj/KVhs/XKAcP+zpHT98Mx8/DH0gP5zGIT8sECM/vFkkP0yjJT/c7CY/bDYoP/x/KT+MySo/HBMsP6xcLT88pi4/zO8vP1w5MT/sgjI/fMwzPwwWNT+cXzY/LKk3P7zyOD9MPDo/3IU7P2zPPD/8GD4/jGI/PxysQD+s9UE/Pj9DP8yIRD9c0kU/7BtHP3xlSD8Or0k/nPhKPy5CTD++i00/TNVOP94eUD9saFE//rFSP477Uz8cRVU/ro5WPzzYVz/OIVk/XmtaP+60Wz9+/lw/DkheP56RXz8u22A/viRiP05uYz/et2Q/bgFmP/5KZz+OlGg/Ht5pP64naz8+cWw/zrptP14Ebz/uTXA/fpdxPw7hcj+eKnQ/LnR1P769dj9OB3g/3lB5P26aej/+43s/ji19Px53fj8=\",\"dtype\":\"float32\",\"order\":\"little\",\"shape\":[200]}},\"selected\":{\"id\":\"3320\"},\"selection_policy\":{\"id\":\"3319\"}},\"id\":\"3304\",\"type\":\"ColumnDataSource\"},{\"attributes\":{\"fill_alpha\":{\"value\":0.2},\"fill_color\":{\"value\":\"midnightblue\"},\"hatch_alpha\":{\"value\":0.2},\"line_alpha\":{\"value\":0.2},\"line_color\":{\"value\":\"white\"},\"size\":{\"value\":10},\"x\":{\"field\":\"x\"},\"y\":{\"field\":\"y\"}},\"id\":\"3283\",\"type\":\"Circle\"},{\"attributes\":{\"axis\":{\"id\":\"3257\"},\"coordinates\":null,\"grid_line_alpha\":0.15,\"grid_line_color\":\"#E0E0E0\",\"group\":null,\"ticker\":null},\"id\":\"3260\",\"type\":\"Grid\"},{\"attributes\":{\"children\":[{\"id\":\"3325\"},{\"id\":\"3326\"},{\"id\":\"3364\"}],\"margin\":[0,0,0,0],\"name\":\"Row00246\"},\"id\":\"3324\",\"type\":\"Row\"},{\"attributes\":{\"axis\":{\"id\":\"3261\"},\"coordinates\":null,\"dimension\":1,\"grid_line_alpha\":0.15,\"grid_line_color\":\"#E0E0E0\",\"group\":null,\"ticker\":null},\"id\":\"3264\",\"type\":\"Grid\"},{\"attributes\":{\"background_fill_alpha\":0.25,\"background_fill_color\":\"#505050\",\"border_line_alpha\":0.25,\"coordinates\":null,\"group\":null,\"items\":[{\"id\":\"3297\"},{\"id\":\"3323\"}],\"label_standoff\":8,\"label_text_color\":\"#E0E0E0\",\"label_text_font\":\"Josefin Sans\",\"label_text_font_size\":\"1.15em\",\"spacing\":8},\"id\":\"3296\",\"type\":\"Legend\"},{\"attributes\":{},\"id\":\"3262\",\"type\":\"BasicTicker\"},{\"attributes\":{\"data\":{\"x\":{\"__ndarray__\":\"AAAAALV+JTy1fqU8ED74PLV+JT1i3k49ED54Pd7OkD21fqU9jC66PWLezj05juM9ED74PfN2Bj7ezhA+yiYbPrV+JT6g1i8+jC46PneGRD5i3k4+TjZZPjmOYz4k5m0+ED54Pv1KgT7zdoY+6aKLPt7OkD7U+pU+yiabPr9SoD61fqU+q6qqPqDWrz6WArU+jC66PoFavz53hsQ+bbLJPmLezj5YCtQ+TjbZPkNi3j45juM+L7roPiTm7T4aEvM+ED74PgVq/T79SgE/+OADP/N2Bj/uDAk/6aILP+Q4Dj/ezhA/2WQTP9T6FT/PkBg/yiYbP8W8HT+/UiA/uugiP7V+JT+wFCg/q6oqP6VALT+g1i8/m2wyP5YCNT+RmDc/jC46P4bEPD+BWj8/fPBBP3eGRD9yHEc/bbJJP2dITD9i3k4/XXRRP1gKVD9ToFY/TjZZP0jMWz9DYl4/PvhgPzmOYz80JGY/L7poPylQaz8k5m0/H3xwPxoScz8VqHU/ED54PwrUej8Fan0/AACAPw==\",\"dtype\":\"float32\",\"order\":\"little\",\"shape\":[100]},\"y\":{\"__ndarray__\":\"UNy+vW3jfD3NFZ69MtBkvW6jfz0roPw9kOwWvHyk0byyUbE93J23Pd11YT2YWMw8MFHSPfPbVz4cv989qqvLPS0beT6Dm28+76MmPoc0TD7qdhg+1VXxPf/HjD5B55M+y699PvrXmT7RFLQ+QaK2PhX9hz5rG5o+gBHDPp5eij4VUcI+ul6YPhCkgD5HLso+CdOnPt1f8D5T+NU+pzLYPhPFtD4eZ7M+qNDYPu8Q1T7YTd8+TKrMPj4i3j589g4/qu/dPjxKBj9JW+4+d88EP5h0Cj9WIA8/wEznPvoDBz8c6w4/deENPxZ5Hj9H/SQ/MtoTP0Z/ND8TWx0/KcIhPyJEFD8yySk/J9USP5X5Kz8T1Ds/sz4gP02FIz8n4D4/j0RAPyWIKj/vBio/PIk5Pz0xRz8zwFk/y3ddP0dDWj8sTjo/5RNWP3sAQD//ekA/IClKP3vwSj9ti2w/P4poPy1QYz9wBX0/zSFiP1q7XT8A1Xc/8bNaP8cohj8gxGM/Wx6IP6Blcz9HQII/f/9pPw==\",\"dtype\":\"float32\",\"order\":\"little\",\"shape\":[100]}},\"selected\":{\"id\":\"3294\"},\"selection_policy\":{\"id\":\"3293\"}},\"id\":\"3279\",\"type\":\"ColumnDataSource\"},{\"attributes\":{\"source\":{\"id\":\"3304\"}},\"id\":\"3309\",\"type\":\"CDSView\"},{\"attributes\":{},\"id\":\"3266\",\"type\":\"WheelZoomTool\"},{\"attributes\":{},\"id\":\"3265\",\"type\":\"PanTool\"},{\"attributes\":{\"args\":{\"bidirectional\":true,\"properties\":{\"readonly\":\"disabled\"},\"source\":{\"id\":\"3363\"},\"target\":{\"id\":\"3363\"}},\"code\":\"\\n    var value = source['readonly'];\\n    value = value;\\n    value = value;\\n    try {\\n      var property = target.properties['disabled'];\\n      if (property !== undefined) { property.validate(value); }\\n    } catch(err) {\\n      console.log('WARNING: Could not set disabled on target, raised error: ' + err);\\n      return;\\n    }\\n    try {\\n      target['disabled'] = value;\\n    } catch(err) {\\n      console.log(err)\\n    }\\n    \",\"tags\":[[140320322106992,[null,\"readonly\"],[null,\"disabled\"]]]},\"id\":\"3378\",\"type\":\"CustomJS\"},{\"attributes\":{\"overlay\":{\"id\":\"3271\"}},\"id\":\"3267\",\"type\":\"BoxZoomTool\"},{\"attributes\":{},\"id\":\"3268\",\"type\":\"SaveTool\"},{\"attributes\":{},\"id\":\"3294\",\"type\":\"Selection\"},{\"attributes\":{},\"id\":\"3269\",\"type\":\"ResetTool\"},{\"attributes\":{\"margin\":[5,5,5,5],\"name\":\"HSpacer00217\",\"sizing_mode\":\"stretch_width\"},\"id\":\"3325\",\"type\":\"Spacer\"},{\"attributes\":{\"args\":{\"bidirectional\":true,\"properties\":{\"readonly\":\"disabled\"},\"source\":{\"id\":\"3363\"},\"target\":{\"id\":\"3363\"}},\"code\":\"\\n    var value = source['disabled'];\\n    value = value;\\n    value = value;\\n    try {\\n      var property = target.properties['readonly'];\\n      if (property !== undefined) { property.validate(value); }\\n    } catch(err) {\\n      console.log('WARNING: Could not set readonly on target, raised error: ' + err);\\n      return;\\n    }\\n    try {\\n      target['readonly'] = value;\\n    } catch(err) {\\n      console.log(err)\\n    }\\n    \",\"tags\":[[140320322106992,[null,\"readonly\"],[null,\"disabled\"]]]},\"id\":\"3379\",\"type\":\"CustomJS\"},{\"attributes\":{\"children\":[{\"id\":\"3327\"},{\"id\":\"3363\"}],\"margin\":[0,0,0,0],\"name\":\"Column00244\"},\"id\":\"3326\",\"type\":\"Column\"},{\"attributes\":{\"bottom_units\":\"screen\",\"coordinates\":null,\"fill_alpha\":0.5,\"fill_color\":\"lightgrey\",\"group\":null,\"left_units\":\"screen\",\"level\":\"overlay\",\"line_alpha\":1.0,\"line_color\":\"black\",\"line_dash\":[4,4],\"line_width\":2,\"right_units\":\"screen\",\"syncable\":false,\"top_units\":\"screen\"},\"id\":\"3271\",\"type\":\"BoxAnnotation\"},{\"attributes\":{},\"id\":\"3293\",\"type\":\"UnionRenderers\"},{\"attributes\":{\"children\":[{\"id\":\"3329\"},{\"id\":\"3330\"},{\"id\":\"3331\"},{\"id\":\"3332\"},{\"id\":\"3333\"},{\"id\":\"3334\"},{\"id\":\"3335\"}],\"margin\":[5,5,5,5],\"min_width\":300,\"name\":\"Problem parameters\",\"width\":300},\"id\":\"3328\",\"type\":\"Column\"},{\"attributes\":{\"source\":{\"id\":\"3279\"}},\"id\":\"3285\",\"type\":\"CDSView\"},{\"attributes\":{\"children\":[{\"id\":\"3328\"},{\"id\":\"3336\"}],\"margin\":[0,0,0,0],\"name\":\"Row00241\"},\"id\":\"3327\",\"type\":\"Row\"},{\"attributes\":{\"coordinates\":null,\"data_source\":{\"id\":\"3279\"},\"glyph\":{\"id\":\"3280\"},\"group\":null,\"hover_glyph\":{\"id\":\"3282\"},\"muted_glyph\":{\"id\":\"3283\"},\"nonselection_glyph\":{\"id\":\"3301\"},\"selection_glyph\":{\"id\":\"3300\"},\"view\":{\"id\":\"3285\"}},\"id\":\"3284\",\"type\":\"GlyphRenderer\"},{\"attributes\":{\"margin\":[5,10,5,10],\"name\":\"\",\"text\":\"<b>Problem parameters</b>\"},\"id\":\"3329\",\"type\":\"Div\"},{\"attributes\":{\"tools\":[{\"id\":\"3265\"},{\"id\":\"3266\"},{\"id\":\"3267\"},{\"id\":\"3268\"},{\"id\":\"3269\"},{\"id\":\"3270\"},{\"id\":\"3298\"},{\"id\":\"3302\"}]},\"id\":\"3272\",\"type\":\"Toolbar\"},{\"attributes\":{\"label\":{\"value\":\"Learned model\"},\"renderers\":[{\"id\":\"3308\"}]},\"id\":\"3323\",\"type\":\"LegendItem\"},{\"attributes\":{\"labels\":[\"Ground truth\"],\"margin\":[5,10,5,10]},\"id\":\"3332\",\"type\":\"CheckboxGroup\"},{\"attributes\":{\"client_comm_id\":\"809328b0c1e74d63a0a432e8029a6a08\",\"comm_id\":\"5d6e550c583d4b69bcdf480a24235a17\",\"plot_id\":\"3324\"},\"id\":\"3406\",\"type\":\"panel.models.comm_manager.CommManager\"},{\"attributes\":{\"labels\":[\"Error\"],\"margin\":[5,10,5,10]},\"id\":\"3333\",\"type\":\"CheckboxGroup\"},{\"attributes\":{\"end\":1000,\"margin\":[5,10,5,10],\"start\":10,\"title\":\"Number observations\",\"value\":100},\"id\":\"3330\",\"type\":\"Slider\"},{\"attributes\":{\"end\":5.0,\"margin\":[5,10,5,10],\"start\":-5.0,\"step\":0.1,\"title\":\"X 1\",\"value\":1.0},\"id\":\"3334\",\"type\":\"Slider\"},{\"attributes\":{\"end\":5.0,\"margin\":[5,10,5,10],\"start\":0.0,\"step\":0.1,\"title\":\"Noise level\",\"value\":0.1},\"id\":\"3331\",\"type\":\"Slider\"},{\"attributes\":{\"fill_alpha\":{\"value\":0.5},\"fill_color\":{\"value\":\"red\"},\"hatch_alpha\":{\"value\":0.5},\"line_alpha\":{\"value\":0.5},\"line_color\":{\"value\":\"white\"},\"size\":{\"value\":10},\"x\":{\"field\":\"x\"},\"y\":{\"field\":\"y\"}},\"id\":\"3282\",\"type\":\"Circle\"},{\"attributes\":{\"code\":\"def linear(\\n        coefficients: jnp.ndarray,\\n        n_observations: int = 100) -> [jnp.ndarray, jnp.ndarray]:\\n    x = jnp.linspace(0, 1, n_observations)\\n    y = coefficients[0] * x + coefficients[1]\\n    return x, \",\"filename\":\"\",\"height\":150,\"js_property_callbacks\":{\"change:disabled\":[{\"id\":\"3379\"}],\"change:readonly\":[{\"id\":\"3378\"}]},\"language\":\"python\",\"margin\":[5,10,5,10],\"sizing_mode\":\"stretch_both\",\"theme\":\"chaos\"},\"id\":\"3363\",\"type\":\"panel.models.ace.AcePlot\"},{\"attributes\":{\"end\":5.0,\"margin\":[5,10,5,10],\"start\":-5.0,\"step\":0.1,\"title\":\"X 0\",\"value\":0.0},\"id\":\"3335\",\"type\":\"Slider\"},{\"attributes\":{\"children\":[{\"id\":\"3246\"}],\"margin\":[0,0,0,0],\"name\":\"Row00238\"},\"id\":\"3336\",\"type\":\"Row\"},{\"attributes\":{},\"id\":\"3319\",\"type\":\"UnionRenderers\"},{\"attributes\":{},\"id\":\"3320\",\"type\":\"Selection\"},{\"attributes\":{\"margin\":[5,5,5,5],\"name\":\"HSpacer00245\",\"sizing_mode\":\"stretch_width\"},\"id\":\"3364\",\"type\":\"Spacer\"}],\"root_ids\":[\"3324\",\"3406\"]},\"title\":\"Bokeh Application\",\"version\":\"2.4.3\"}};\n",
       "    var render_items = [{\"docid\":\"09792eb5-c362-487a-8b0f-352ae95cc8db\",\"root_ids\":[\"3324\"],\"roots\":{\"3324\":\"7ad85537-9f56-4619-acfe-b09bda5de14e\"}}];\n",
       "    root.Bokeh.embed.embed_items_notebook(docs_json, render_items);\n",
       "    for (const render_item of render_items) {\n",
       "      for (const root_id of render_item.root_ids) {\n",
       "\tconst id_el = document.getElementById(root_id)\n",
       "\tif (id_el.children.length && (id_el.children[0].className === 'bk-root')) {\n",
       "\t  const root_el = id_el.children[0]\n",
       "\t  root_el.id = root_el.id + '-rendered'\n",
       "\t}\n",
       "      }\n",
       "    }\n",
       "  }\n",
       "  if (root.Bokeh !== undefined && root.Bokeh.Panel !== undefined) {\n",
       "    embed_document(root);\n",
       "  } else {\n",
       "    var attempts = 0;\n",
       "    var timer = setInterval(function(root) {\n",
       "      if (root.Bokeh !== undefined && root.Bokeh.Panel !== undefined) {\n",
       "        clearInterval(timer);\n",
       "        embed_document(root);\n",
       "      } else if (document.readyState == \"complete\") {\n",
       "        attempts++;\n",
       "        if (attempts > 200) {\n",
       "          clearInterval(timer);\n",
       "          console.log(\"Bokeh: ERROR: Unable to run BokehJS code because BokehJS library is missing\");\n",
       "        }\n",
       "      }\n",
       "    }, 25, root)\n",
       "  }\n",
       "})(window);</script>"
      ],
      "text/plain": [
       "Row\n",
       "    [0] HSpacer()\n",
       "    [1] Column\n",
       "        [0] Row\n",
       "            [0] Param(RegressionLinearSolver, name='Problem parameters', widgets={})\n",
       "            [1] ParamMethod(method, _pane=Bokeh)\n",
       "        [1] Ace(height=150, language='python', sizing_mode='stretch_both', theme='chaos', value='def linear(\\n        coef...)\n",
       "    [2] HSpacer()"
      ]
     },
     "execution_count": 19,
     "metadata": {
      "application/vnd.holoviews_exec.v0+json": {
       "id": "3324"
      }
     },
     "output_type": "execute_result"
    }
   ],
   "source": [
    "from cml.tasks import RegressionLinearSolver\n",
    "explorer = RegressionLinearSolver()\n",
    "def solve(x, y):\n",
    "    w_1, w_0 = gradient_descent(x, y, n_iter, lr)\n",
    "    x_predict = np.linspace(np.min(x), np.max(x), 200)\n",
    "    y_model = w_1 * x_predict + w_0\n",
    "    return np.array(x_predict), np.array(y_model) #np.array(np.zeros(y_model.shape))\n",
    "\n",
    "explorer.solve = solve\n",
    "explorer.render()"
   ]
  },
  {
   "cell_type": "markdown",
   "metadata": {},
   "source": [
    "<div class=\"alert alert-success\" markdown=\"1\" style=\"color:white; background-color: #192841; border-color: #779ecb\">\n",
    "\n",
    "> ### Going further\n",
    "> **Exercise 1 \\[Learning rate\\]**: Experiment with different learning rates (e.g., 0.001, 0.01, 0.1, 1) and observe how they affect the convergence of the gradient descent algorithm. Plot the convergence history (cost function value vs. iteration) for each learning rate.\n",
    "\n",
    "> **Exercise 2 \\[Initialization\\]**: Experiment with different initializations of the coefficients (zeros, random values, etc.) and observe their impact on the convergence of the gradient descent algorithm.\n",
    "\n",
    "> **Exercise 3 \\[Variants\\]**: Implement and compare different variants of gradient descent, such as stochastic gradient descent (SGD) and mini-batch gradient descent. Analyze their convergence properties and computational efficiency.\n",
    "\n",
    "> **Exercise 4 \\[Regularization\\]**: Implement Lasso and Ridge regression with gradient descent by incorporating the regularization terms into the cost function and gradient calculations. Compare their performance with the standard linear regression implementation and analyze their impact on the learned coefficients.\n",
    "\n",
    "\n",
    "</div>"
   ]
  },
  {
   "cell_type": "markdown",
   "metadata": {
    "tags": []
   },
   "source": [
    "## Discovering automatic differentiation - `JAX`\n",
    "\n",
    "The previous implementation required us to perform manual differentiation of our loss function to understand how to update the parameters. However, large developments have been made in the field of **automatic differentiation**. \n",
    "\n",
    "The recent library [JAX](https://github.com/google/jax) extends NumPy with this automatic differentiation feature (*autograd*), while providing a functional approach to numerical computing, allowing for easy gradient computation and just-in-time (JIT) compilation. Its ability to handle complex and custom gradients makes JAX particularly well-suited for advanced research projects. Similar to NumPy, we strongly encourage you to learn JAX through the set of [tutorials](https://jax.readthedocs.io/en/latest/), but we will also provide here the explanation for all of the functions that we will use in this first exercise. After that, we will assume that knowledge of JAX should be found online. \n",
    "\n",
    "Note that `JAX` has been thought as an extension of `NumPy`, therefore an extremely large portion of its API simply mirrors the `NumPy` functions by adding automatic differentiation features to it.\n",
    "\n",
    "**Used functions**\n",
    "- `random.PRNGKey`: function to generate a key for the pseudorandom number generator. [Documentation](https://jax.readthedocs.io/en/latest/_autosummary/jax.random.PRNGKey.html)"
   ]
  },
  {
   "cell_type": "code",
   "execution_count": 29,
   "metadata": {
    "tags": []
   },
   "outputs": [],
   "source": [
    "import jax.numpy as jnp\n",
    "from jax import grad, jit, random\n",
    "key = random.PRNGKey(42)"
   ]
  },
  {
   "cell_type": "markdown",
   "metadata": {},
   "source": [
    "### Dataset.\n",
    "\n",
    "We can simply keep our previous approach to generating the dataset but we will rely on `jnp.ndarray` instead of `np.ndarray`. We also provide the code for splitting the dataset between a `training` and `validation` dataset, as discussed in the course\n",
    "\n",
    "**Used functions**\n",
    "- `random.split`: function to split a PRNGKey into a list of subkeys [Documentation](https://jax.readthedocs.io/en/latest/_autosummary/jax.random.split.html)\n",
    "- `random.uniform`: function to generate an array of uniformly distributed random numbers [Documentation](https://jax.readthedocs.io/en/latest/_autosummary/jax.random.uniform.html)\n",
    "- `random.normal`: function to generate an array of normally distributed random numbers [Documentation](https://jax.readthedocs.io/en/latest/_autosummary/jax.random.normal.html)"
   ]
  },
  {
   "cell_type": "code",
   "execution_count": 30,
   "metadata": {
    "tags": []
   },
   "outputs": [],
   "source": [
    "true_w0 = 2\n",
    "true_w1 = 3\n",
    "key_0, key_1, key = random.split(key, 3)\n",
    "x = random.uniform(key_0, (100,))\n",
    "y = true_w0 + true_w1 * x + (random.normal(key_1, (100,)) * 0.2)"
   ]
  },
  {
   "cell_type": "code",
   "execution_count": 31,
   "metadata": {
    "tags": []
   },
   "outputs": [],
   "source": [
    "# Splitting our dataset\n",
    "train_size = int(0.8 * len(x))\n",
    "x_train, x_valid = x[:train_size], x[train_size:]\n",
    "y_train, y_valid = y[:train_size], y[train_size:]"
   ]
  },
  {
   "cell_type": "markdown",
   "metadata": {},
   "source": [
    "### Loss function\n",
    "\n",
    "Similarly Define the cost function and its gradient.\n",
    "\n",
    "**Used functions**\n",
    "- `jnp.mean`: function to compute the mean of an array [Documentation](https://jax.readthedocs.io/en/latest/_autosummary/jax.numpy.mean.html)"
   ]
  },
  {
   "cell_type": "code",
   "execution_count": 32,
   "metadata": {
    "tags": []
   },
   "outputs": [],
   "source": [
    "def loss_function(x, y, w_1, w_0):\n",
    "    y_pred = x * w_1 + w_0\n",
    "    residuals = y_pred - y\n",
    "    return jnp.mean(residuals**2)"
   ]
  },
  {
   "cell_type": "markdown",
   "metadata": {},
   "source": [
    "\n",
    "**Used functions**\n",
    "- `jit`: function to compile a function for faster execution [Documentation](https://jax.readthedocs.io/en/latest/jit.html)\n",
    "- `grad`: function to compute the gradient of a function [Documentation](https://jax.readthedocs.io/en/latest/jax.html#jax.grad)"
   ]
  },
  {
   "cell_type": "code",
   "execution_count": 33,
   "metadata": {
    "tags": []
   },
   "outputs": [],
   "source": [
    "grad_loss_function = jit(grad(loss_function, argnums=[2, 3]))"
   ]
  },
  {
   "cell_type": "markdown",
   "metadata": {},
   "source": [
    "### Implement the gradient descent algorithm.\n",
    "\n",
    "Note that nowhere in the code do we need to explicitly define the gradients of the different variables. Yet, the optimization will be performed adequately."
   ]
  },
  {
   "cell_type": "code",
   "execution_count": 99,
   "metadata": {
    "tags": []
   },
   "outputs": [
    {
     "name": "stdout",
     "output_type": "stream",
     "text": [
      "Gradient Descent coefficients: [3.0470424] [1.9749781]\n"
     ]
    }
   ],
   "source": [
    "def gradient_descent(key, x, y, lr=0.05, n_iter=1000):\n",
    "    m = x.shape\n",
    "    k_0, k_1 = random.split(key, 2)\n",
    "    w_0 = random.normal(k_0, (1,))\n",
    "    w_1 = random.normal(k_1, (1,))\n",
    "    loss_history = []\n",
    "    for _ in range(n_iter):\n",
    "        gradients = grad_loss_function(x, y, w_1, w_0)\n",
    "        #print(gradients[0])\n",
    "        w_1 -= lr * gradients[0]\n",
    "        w_0 -= lr * gradients[1]\n",
    "        loss_history.append(loss_function(x, y, w_1, w_0))\n",
    "    return w_1, w_0, loss_history\n",
    "\n",
    "key_gd, key = random.split(key, 2)\n",
    "w_1, w_0, loss_history = gradient_descent(key_gd, x_train, y_train)\n",
    "print(\"Gradient Descent coefficients:\", w_1, w_0)"
   ]
  },
  {
   "cell_type": "markdown",
   "metadata": {},
   "source": [
    "### Evaluate our performances\n",
    "\n",
    "Thanks to our previous split of the dataset, we are now able to evaluate the performances of our model on *unseen data*, which is the overarching goal of building such machine learning models."
   ]
  },
  {
   "cell_type": "code",
   "execution_count": 35,
   "metadata": {
    "tags": []
   },
   "outputs": [
    {
     "name": "stdout",
     "output_type": "stream",
     "text": [
      "MSE for Gradient Descent: 0.03851322\n"
     ]
    }
   ],
   "source": [
    "def mean_squared_error(y_true, y_pred):\n",
    "    return np.mean((y_true - y_pred)**2)\n",
    "\n",
    "y_valid_gd = w_1 * x_valid + w_0\n",
    "mse_gd = mean_squared_error(y_valid, y_valid_gd)\n",
    "print(\"MSE for Gradient Descent:\", mse_gd)"
   ]
  },
  {
   "cell_type": "markdown",
   "metadata": {},
   "source": [
    "### Visualize the results.\n",
    "\n",
    "As previously we can witness our results, and also evaluate our solution with our interactive solver."
   ]
  },
  {
   "cell_type": "code",
   "execution_count": 36,
   "metadata": {
    "tags": []
   },
   "outputs": [
    {
     "data": {},
     "metadata": {},
     "output_type": "display_data"
    },
    {
     "data": {
      "application/vnd.holoviews_exec.v0+json": "",
      "text/html": [
       "<div id='3550'>\n",
       "  <div class=\"bk-root\" id=\"73ad784c-549d-4e01-9c48-82488b2aac9c\" data-root-id=\"3550\"></div>\n",
       "</div>\n",
       "<script type=\"application/javascript\">(function(root) {\n",
       "  function embed_document(root) {\n",
       "    var docs_json = {\"54d6c0ff-6ac2-4812-ba3c-22cb9cdc267f\":{\"defs\":[{\"extends\":null,\"module\":null,\"name\":\"ReactiveHTML1\",\"overrides\":[],\"properties\":[]},{\"extends\":null,\"module\":null,\"name\":\"FlexBox1\",\"overrides\":[],\"properties\":[{\"default\":\"flex-start\",\"kind\":null,\"name\":\"align_content\"},{\"default\":\"flex-start\",\"kind\":null,\"name\":\"align_items\"},{\"default\":\"row\",\"kind\":null,\"name\":\"flex_direction\"},{\"default\":\"wrap\",\"kind\":null,\"name\":\"flex_wrap\"},{\"default\":\"flex-start\",\"kind\":null,\"name\":\"justify_content\"}]},{\"extends\":null,\"module\":null,\"name\":\"GridStack1\",\"overrides\":[],\"properties\":[{\"default\":\"warn\",\"kind\":null,\"name\":\"mode\"},{\"default\":null,\"kind\":null,\"name\":\"ncols\"},{\"default\":null,\"kind\":null,\"name\":\"nrows\"},{\"default\":true,\"kind\":null,\"name\":\"allow_resize\"},{\"default\":true,\"kind\":null,\"name\":\"allow_drag\"},{\"default\":[],\"kind\":null,\"name\":\"state\"}]},{\"extends\":null,\"module\":null,\"name\":\"click1\",\"overrides\":[],\"properties\":[{\"default\":\"\",\"kind\":null,\"name\":\"terminal_output\"},{\"default\":\"\",\"kind\":null,\"name\":\"debug_name\"},{\"default\":0,\"kind\":null,\"name\":\"clears\"}]},{\"extends\":null,\"module\":null,\"name\":\"NotificationAreaBase1\",\"overrides\":[],\"properties\":[{\"default\":\"bottom-right\",\"kind\":null,\"name\":\"position\"},{\"default\":0,\"kind\":null,\"name\":\"_clear\"}]},{\"extends\":null,\"module\":null,\"name\":\"NotificationArea1\",\"overrides\":[],\"properties\":[{\"default\":[],\"kind\":null,\"name\":\"notifications\"},{\"default\":\"bottom-right\",\"kind\":null,\"name\":\"position\"},{\"default\":0,\"kind\":null,\"name\":\"_clear\"},{\"default\":[{\"background\":\"#ffc107\",\"icon\":{\"className\":\"fas fa-exclamation-triangle\",\"color\":\"white\",\"tagName\":\"i\"},\"type\":\"warning\"},{\"background\":\"#007bff\",\"icon\":{\"className\":\"fas fa-info-circle\",\"color\":\"white\",\"tagName\":\"i\"},\"type\":\"info\"}],\"kind\":null,\"name\":\"types\"}]},{\"extends\":null,\"module\":null,\"name\":\"Notification\",\"overrides\":[],\"properties\":[{\"default\":null,\"kind\":null,\"name\":\"background\"},{\"default\":3000,\"kind\":null,\"name\":\"duration\"},{\"default\":null,\"kind\":null,\"name\":\"icon\"},{\"default\":\"\",\"kind\":null,\"name\":\"message\"},{\"default\":null,\"kind\":null,\"name\":\"notification_type\"},{\"default\":false,\"kind\":null,\"name\":\"_destroyed\"}]},{\"extends\":null,\"module\":null,\"name\":\"TemplateActions1\",\"overrides\":[],\"properties\":[{\"default\":0,\"kind\":null,\"name\":\"open_modal\"},{\"default\":0,\"kind\":null,\"name\":\"close_modal\"}]},{\"extends\":null,\"module\":null,\"name\":\"MaterialTemplateActions1\",\"overrides\":[],\"properties\":[{\"default\":0,\"kind\":null,\"name\":\"open_modal\"},{\"default\":0,\"kind\":null,\"name\":\"close_modal\"}]}],\"roots\":{\"references\":[{\"attributes\":{},\"id\":\"3518\",\"type\":\"AllLabels\"},{\"attributes\":{\"coordinates\":null,\"data_source\":{\"id\":\"3505\"},\"glyph\":{\"id\":\"3506\"},\"group\":null,\"hover_glyph\":{\"id\":\"3508\"},\"muted_glyph\":{\"id\":\"3509\"},\"nonselection_glyph\":{\"id\":\"3527\"},\"selection_glyph\":{\"id\":\"3526\"},\"view\":{\"id\":\"3511\"}},\"id\":\"3510\",\"type\":\"GlyphRenderer\"},{\"attributes\":{\"line_alpha\":0.2,\"line_color\":\"red\",\"line_width\":6,\"x\":{\"field\":\"x\"},\"y\":{\"field\":\"y\"}},\"id\":\"3533\",\"type\":\"Line\"},{\"attributes\":{},\"id\":\"3492\",\"type\":\"WheelZoomTool\"},{\"attributes\":{\"line_alpha\":0.6,\"line_color\":\"red\",\"line_width\":6,\"x\":{\"field\":\"x\"},\"y\":{\"field\":\"y\"}},\"id\":\"3531\",\"type\":\"Line\"},{\"attributes\":{},\"id\":\"3479\",\"type\":\"LinearScale\"},{\"attributes\":{},\"id\":\"3491\",\"type\":\"PanTool\"},{\"attributes\":{\"tools\":[{\"id\":\"3491\"},{\"id\":\"3492\"},{\"id\":\"3493\"},{\"id\":\"3494\"},{\"id\":\"3495\"},{\"id\":\"3496\"},{\"id\":\"3524\"},{\"id\":\"3528\"}]},\"id\":\"3498\",\"type\":\"Toolbar\"},{\"attributes\":{},\"id\":\"3494\",\"type\":\"SaveTool\"},{\"attributes\":{\"fill_alpha\":{\"value\":0.5},\"fill_color\":{\"value\":\"midnightblue\"},\"line_color\":{\"value\":\"white\"}},\"id\":\"3527\",\"type\":\"Circle\"},{\"attributes\":{\"source\":{\"id\":\"3505\"}},\"id\":\"3511\",\"type\":\"CDSView\"},{\"attributes\":{},\"id\":\"3488\",\"type\":\"BasicTicker\"},{\"attributes\":{},\"id\":\"3515\",\"type\":\"AllLabels\"},{\"attributes\":{\"bottom_units\":\"screen\",\"coordinates\":null,\"fill_alpha\":0.5,\"fill_color\":\"lightgrey\",\"group\":null,\"left_units\":\"screen\",\"level\":\"overlay\",\"line_alpha\":1.0,\"line_color\":\"black\",\"line_dash\":[4,4],\"line_width\":2,\"right_units\":\"screen\",\"syncable\":false,\"top_units\":\"screen\"},\"id\":\"3548\",\"type\":\"BoxAnnotation\"},{\"attributes\":{\"children\":[{\"id\":\"3551\"},{\"id\":\"3472\"},{\"id\":\"3578\"}],\"margin\":[0,0,0,0],\"name\":\"Row00253\"},\"id\":\"3550\",\"type\":\"Row\"},{\"attributes\":{\"margin\":[5,5,5,5],\"name\":\"HSpacer00250\",\"sizing_mode\":\"stretch_width\"},\"id\":\"3578\",\"type\":\"Spacer\"},{\"attributes\":{\"data\":{\"x\":{\"__ndarray__\":\"7N0EP9Q2/z5g7bU++IQEPtBIGD7odLA+gJ3xPYCBGz7wBCQ+wCzBPFqjWz/kFmw/YGWPPUT3XT/EQYo+BPgjP/wkxj4gLeU+3D7nPiA43T3w0Qg/JmI8P+iTiD66Eis/rAqlPjgdYz6e7UI/hHlZP+gBXT5c2ME+DvAoP8DoaD7WWTI/rNGfPtJJAz/wCi0+cl4uP+DEBj9AQes+NKKAPrI1GD9OHUQ/cHTMPuwfEj+cmpw+mqxfP7iW9T50PCQ/EphXP5jmIj6WUR8/VO8xP7JYEz/8XpU+WGMPPqSE7z7exh4/CNE6PxIaTD8atGs/6oMGPyxhaD+cBjg/MI6tPvCl0T0A6A47RtlMPyYjIj+SbAc/IHYnPyg2cz9MZK8+mI4SP3RGNT/Oa2M/YLLhPlAHHD/iDwI/2BIpP7Aqbz4MGXw/VgtwP5agUD84HFc+2K94PtSOZD9YSTk/YJp7PdxJBT9klL4+qD1zPuRAzj78Cw4/cGG5PgAfxz0wOc4+6HeePtA+Uz4gIrw95GT5Pg==\",\"dtype\":\"float32\",\"order\":\"little\",\"shape\":[100]},\"y\":{\"__ndarray__\":\"jTtpQEHUQ0D0K0ZAA2QdQOYtDUAko1ZAgjIVQNlw+j99hSxAxcYDQK1ujED+wJRA+l7+P+r5kkA2QS9AHpR8QAn8RkBm9ldAKBVZQInyCECdtFRAqsmIQP70HkDJNYNA+fI+QG8hL0CgXIdAk1CHQHbqLUAw3ktAozOBQDyzI0DOxoZAkl06QOI3ZECT6zZACK5xQJ2VWkCbVVtARDMuQJlhgECBY4ZA8ftiQNhSZECXMzxAoIGSQChOakABt3JAAiWLQMNcKUDCI3tAQjWOQFMdd0CcdCdAOQEXQGiuSkA50IhAeIyRQEJIjEB6nJRApXdfQOofmEClpolA3jhGQAeWEkB0K/Q/69uNQH0GiUDOpGFAX79yQDM3pUBhiUpAQzloQMdniUDZ/JNAr+xMQOzockASOWZA/aODQGtvIUCw56JAx0ObQH4xkkCP6zhA9r4rQDbBnUBhFIVAsNYfQF6sX0CpQDlAojoqQOaFOUDbe29AFv5YQCCVLkCxf0hAqSk/QHnbKkACNxlADmheQA==\",\"dtype\":\"float32\",\"order\":\"little\",\"shape\":[100]}},\"selected\":{\"id\":\"3520\"},\"selection_policy\":{\"id\":\"3519\"}},\"id\":\"3505\",\"type\":\"ColumnDataSource\"},{\"attributes\":{\"mode\":\"append\",\"overlay\":{\"id\":\"3548\"},\"renderers\":[{\"id\":\"3510\"}]},\"id\":\"3528\",\"type\":\"BoxSelectTool\"},{\"attributes\":{\"margin\":[5,5,5,5],\"name\":\"HSpacer00249\",\"sizing_mode\":\"stretch_width\"},\"id\":\"3551\",\"type\":\"Spacer\"},{\"attributes\":{\"callback\":null,\"mode\":\"vline\",\"renderers\":[{\"id\":\"3510\"}],\"tooltips\":null},\"id\":\"3524\",\"type\":\"HoverTool\"},{\"attributes\":{\"background_fill_alpha\":0.9,\"background_fill_color\":\"#0f0f0f\",\"below\":[{\"id\":\"3483\"}],\"border_fill_alpha\":0.8,\"border_fill_color\":\"#111111\",\"center\":[{\"id\":\"3486\"},{\"id\":\"3490\"},{\"id\":\"3522\"}],\"height\":450,\"left\":[{\"id\":\"3487\"}],\"outline_line_alpha\":0.25,\"outline_line_color\":\"#E0E0E0\",\"outline_line_width\":3,\"renderers\":[{\"id\":\"3510\"},{\"id\":\"3534\"}],\"title\":{\"id\":\"3473\"},\"toolbar\":{\"id\":\"3498\"},\"toolbar_location\":null,\"x_range\":{\"id\":\"3475\"},\"x_scale\":{\"id\":\"3479\"},\"y_range\":{\"id\":\"3477\"},\"y_scale\":{\"id\":\"3481\"}},\"id\":\"3472\",\"subtype\":\"Figure\",\"type\":\"Plot\"},{\"attributes\":{\"axis\":{\"id\":\"3487\"},\"coordinates\":null,\"dimension\":1,\"grid_line_alpha\":0.15,\"grid_line_color\":\"#E0E0E0\",\"group\":null,\"ticker\":null},\"id\":\"3490\",\"type\":\"Grid\"},{\"attributes\":{\"background_fill_alpha\":0.25,\"background_fill_color\":\"#505050\",\"border_line_alpha\":0.25,\"coordinates\":null,\"group\":null,\"items\":[{\"id\":\"3523\"},{\"id\":\"3549\"}],\"label_standoff\":8,\"label_text_color\":\"#E0E0E0\",\"label_text_font\":\"Josefin Sans\",\"label_text_font_size\":\"1.15em\",\"spacing\":8},\"id\":\"3522\",\"type\":\"Legend\"},{\"attributes\":{\"fill_alpha\":{\"value\":0.2},\"fill_color\":{\"value\":\"midnightblue\"},\"hatch_alpha\":{\"value\":0.2},\"line_alpha\":{\"value\":0.2},\"line_color\":{\"value\":\"white\"},\"size\":{\"value\":10},\"x\":{\"field\":\"x\"},\"y\":{\"field\":\"y\"}},\"id\":\"3509\",\"type\":\"Circle\"},{\"attributes\":{},\"id\":\"3484\",\"type\":\"BasicTicker\"},{\"attributes\":{\"label\":{\"value\":\"Observations\"},\"renderers\":[{\"id\":\"3510\"}]},\"id\":\"3523\",\"type\":\"LegendItem\"},{\"attributes\":{\"label\":{\"value\":\"Learned model\"},\"renderers\":[{\"id\":\"3534\"}]},\"id\":\"3549\",\"type\":\"LegendItem\"},{\"attributes\":{\"bottom_units\":\"screen\",\"coordinates\":null,\"fill_alpha\":0.5,\"fill_color\":\"lightgrey\",\"group\":null,\"left_units\":\"screen\",\"level\":\"overlay\",\"line_alpha\":1.0,\"line_color\":\"black\",\"line_dash\":[4,4],\"line_width\":2,\"right_units\":\"screen\",\"syncable\":false,\"top_units\":\"screen\"},\"id\":\"3497\",\"type\":\"BoxAnnotation\"},{\"attributes\":{\"overlay\":{\"id\":\"3497\"}},\"id\":\"3493\",\"type\":\"BoxZoomTool\"},{\"attributes\":{\"fill_alpha\":{\"value\":0.5},\"fill_color\":{\"value\":\"red\"},\"hatch_alpha\":{\"value\":0.5},\"line_alpha\":{\"value\":0.5},\"line_color\":{\"value\":\"white\"},\"size\":{\"value\":10},\"x\":{\"field\":\"x\"},\"y\":{\"field\":\"y\"}},\"id\":\"3508\",\"type\":\"Circle\"},{\"attributes\":{},\"id\":\"3495\",\"type\":\"ResetTool\"},{\"attributes\":{},\"id\":\"3514\",\"type\":\"BasicTickFormatter\"},{\"attributes\":{\"client_comm_id\":\"0f03872fa6074a5992c97cd2bf4cfada\",\"comm_id\":\"e7b17a48649443bf8209f2fcf93b7b95\",\"plot_id\":\"3550\"},\"id\":\"3618\",\"type\":\"panel.models.comm_manager.CommManager\"},{\"attributes\":{},\"id\":\"3475\",\"type\":\"DataRange1d\"},{\"attributes\":{},\"id\":\"3520\",\"type\":\"Selection\"},{\"attributes\":{},\"id\":\"3519\",\"type\":\"UnionRenderers\"},{\"attributes\":{},\"id\":\"3481\",\"type\":\"LinearScale\"},{\"attributes\":{\"axis\":{\"id\":\"3483\"},\"coordinates\":null,\"grid_line_alpha\":0.15,\"grid_line_color\":\"#E0E0E0\",\"group\":null,\"ticker\":null},\"id\":\"3486\",\"type\":\"Grid\"},{\"attributes\":{\"source\":{\"id\":\"3530\"}},\"id\":\"3535\",\"type\":\"CDSView\"},{\"attributes\":{\"fill_alpha\":{\"value\":0.8},\"fill_color\":{\"value\":\"red\"},\"line_color\":{\"value\":\"white\"}},\"id\":\"3526\",\"type\":\"Circle\"},{\"attributes\":{\"data\":{\"x\":{\"__ndarray__\":\"7N0EP9Q2/z5g7bU++IQEPtBIGD7odLA+gJ3xPYCBGz7wBCQ+wCzBPFqjWz/kFmw/YGWPPUT3XT/EQYo+BPgjP/wkxj4gLeU+3D7nPiA43T3w0Qg/JmI8P+iTiD66Eis/rAqlPjgdYz6e7UI/hHlZP+gBXT5c2ME+DvAoP8DoaD7WWTI/rNGfPtJJAz/wCi0+cl4uP+DEBj9AQes+NKKAPrI1GD9OHUQ/cHTMPuwfEj+cmpw+mqxfP7iW9T50PCQ/EphXP5jmIj6WUR8/VO8xP7JYEz/8XpU+WGMPPqSE7z7exh4/CNE6PxIaTD8atGs/6oMGPyxhaD+cBjg/MI6tPvCl0T0A6A47RtlMPyYjIj+SbAc/IHYnPyg2cz9MZK8+mI4SP3RGNT/Oa2M/YLLhPlAHHD/iDwI/2BIpP7Aqbz4MGXw/VgtwP5agUD84HFc+2K94PtSOZD9YSTk/YJp7PdxJBT9klL4+qD1zPuRAzj78Cw4/cGG5PgAfxz0wOc4+6HeePtA+Uz4gIrw95GT5Pg==\",\"dtype\":\"float32\",\"order\":\"little\",\"shape\":[100]},\"y\":{\"__ndarray__\":\"CJxjQJ2UX0AGg0NAITYXQBX/GkCmakFA+fcUQAKdG0BePh1AT3UCQLQJk0C2VplAcZALQPDtk0BDyTJA9G57QBS5SUCqm1VAjmZWQAgEE0A7o2ZAQxGHQKEkMkAKcIBAcQs9QINTKUD2kolAljWSQCMoKECME0hAVD1/QJtvKkCbOYNAYAs7QH5mYkC7+B5ALrOBQAkRZUCo71dAuhkvQBBtckBGB4pAzCNMQNLDbUAk0DlAb5WUQN7kW0Bho3tAMX2RQIkHHUAY33dA0BCDQGezbkD6CjdA80oZQKiRWUDWdHdAo3eGQGoWjUDgMJlARt9kQPnql0AEZoVAME5AQGfoEUADhvw/pV+NQM4HekB+kWVA1ht+QAURnEA+AkFAmBhuQFNYhEDPBJZAg0ZUQOpZdUAEdmFA+ld/QGCiK0BMeJ9AetqaQB/SjkAJBydAFnUtQEV0lkCf4YVAK+EJQLbuY0Bf00ZAGmosQCbUTEArpGpAntVEQF3mEEAy0UxA8oY6QJBJJkAJ2Q9A+FldQA==\",\"dtype\":\"float32\",\"order\":\"little\",\"shape\":[100]}},\"selected\":{\"id\":\"3546\"},\"selection_policy\":{\"id\":\"3545\"}},\"id\":\"3530\",\"type\":\"ColumnDataSource\"},{\"attributes\":{\"coordinates\":null,\"data_source\":{\"id\":\"3530\"},\"glyph\":{\"id\":\"3531\"},\"group\":null,\"hover_glyph\":null,\"muted_glyph\":{\"id\":\"3533\"},\"nonselection_glyph\":{\"id\":\"3532\"},\"view\":{\"id\":\"3535\"}},\"id\":\"3534\",\"type\":\"GlyphRenderer\"},{\"attributes\":{},\"id\":\"3545\",\"type\":\"UnionRenderers\"},{\"attributes\":{\"axis_label\":\"y\",\"axis_label_standoff\":10,\"axis_label_text_color\":\"#FFFFFF\",\"axis_label_text_font\":\"Josefin Sans\",\"axis_label_text_font_size\":\"1.9em\",\"axis_label_text_font_style\":\"bold\",\"axis_line_alpha\":0.4,\"axis_line_color\":\"#E0E0E0\",\"coordinates\":null,\"formatter\":{\"id\":\"3514\"},\"group\":null,\"major_label_policy\":{\"id\":\"3515\"},\"major_label_text_color\":\"#E0E0E0\",\"major_label_text_font\":\"Josefin Sans\",\"major_label_text_font_size\":\"1.15em\",\"major_tick_line_alpha\":0.4,\"major_tick_line_color\":\"#E0E0E0\",\"minor_tick_line_alpha\":0.4,\"minor_tick_line_color\":\"#E0E0E0\",\"ticker\":{\"id\":\"3488\"}},\"id\":\"3487\",\"type\":\"LinearAxis\"},{\"attributes\":{\"axis_label\":\"x\",\"axis_label_standoff\":10,\"axis_label_text_color\":\"#FFFFFF\",\"axis_label_text_font\":\"Josefin Sans\",\"axis_label_text_font_size\":\"1.9em\",\"axis_label_text_font_style\":\"bold\",\"axis_line_alpha\":0.4,\"axis_line_color\":\"#E0E0E0\",\"coordinates\":null,\"formatter\":{\"id\":\"3517\"},\"group\":null,\"major_label_policy\":{\"id\":\"3518\"},\"major_label_text_color\":\"#E0E0E0\",\"major_label_text_font\":\"Josefin Sans\",\"major_label_text_font_size\":\"1.15em\",\"major_tick_line_alpha\":0.4,\"major_tick_line_color\":\"#E0E0E0\",\"minor_tick_line_alpha\":0.4,\"minor_tick_line_color\":\"#E0E0E0\",\"ticker\":{\"id\":\"3484\"}},\"id\":\"3483\",\"type\":\"LinearAxis\"},{\"attributes\":{},\"id\":\"3496\",\"type\":\"HelpTool\"},{\"attributes\":{\"coordinates\":null,\"group\":null,\"text\":\"Linear regression\",\"text_color\":\"#E0E0E0\",\"text_font\":\"Josefin Sans\",\"text_font_size\":\"2.1em\"},\"id\":\"3473\",\"type\":\"Title\"},{\"attributes\":{},\"id\":\"3477\",\"type\":\"DataRange1d\"},{\"attributes\":{},\"id\":\"3517\",\"type\":\"BasicTickFormatter\"},{\"attributes\":{},\"id\":\"3546\",\"type\":\"Selection\"},{\"attributes\":{\"line_alpha\":0.1,\"line_color\":\"red\",\"line_width\":6,\"x\":{\"field\":\"x\"},\"y\":{\"field\":\"y\"}},\"id\":\"3532\",\"type\":\"Line\"},{\"attributes\":{\"fill_alpha\":{\"value\":0.25},\"fill_color\":{\"value\":\"midnightblue\"},\"hatch_alpha\":{\"value\":0.25},\"line_alpha\":{\"value\":0.25},\"line_color\":{\"value\":\"white\"},\"size\":{\"value\":10},\"x\":{\"field\":\"x\"},\"y\":{\"field\":\"y\"}},\"id\":\"3506\",\"type\":\"Circle\"}],\"root_ids\":[\"3550\",\"3618\"]},\"title\":\"Bokeh Application\",\"version\":\"2.4.3\"}};\n",
       "    var render_items = [{\"docid\":\"54d6c0ff-6ac2-4812-ba3c-22cb9cdc267f\",\"root_ids\":[\"3550\"],\"roots\":{\"3550\":\"73ad784c-549d-4e01-9c48-82488b2aac9c\"}}];\n",
       "    root.Bokeh.embed.embed_items_notebook(docs_json, render_items);\n",
       "    for (const render_item of render_items) {\n",
       "      for (const root_id of render_item.root_ids) {\n",
       "\tconst id_el = document.getElementById(root_id)\n",
       "\tif (id_el.children.length && (id_el.children[0].className === 'bk-root')) {\n",
       "\t  const root_el = id_el.children[0]\n",
       "\t  root_el.id = root_el.id + '-rendered'\n",
       "\t}\n",
       "      }\n",
       "    }\n",
       "  }\n",
       "  if (root.Bokeh !== undefined && root.Bokeh.Panel !== undefined) {\n",
       "    embed_document(root);\n",
       "  } else {\n",
       "    var attempts = 0;\n",
       "    var timer = setInterval(function(root) {\n",
       "      if (root.Bokeh !== undefined && root.Bokeh.Panel !== undefined) {\n",
       "        clearInterval(timer);\n",
       "        embed_document(root);\n",
       "      } else if (document.readyState == \"complete\") {\n",
       "        attempts++;\n",
       "        if (attempts > 200) {\n",
       "          clearInterval(timer);\n",
       "          console.log(\"Bokeh: ERROR: Unable to run BokehJS code because BokehJS library is missing\");\n",
       "        }\n",
       "      }\n",
       "    }, 25, root)\n",
       "  }\n",
       "})(window);</script>"
      ],
      "text/plain": [
       "Row\n",
       "    [0] HSpacer()\n",
       "    [1] Bokeh(Figure)\n",
       "    [2] HSpacer()"
      ]
     },
     "execution_count": 36,
     "metadata": {
      "application/vnd.holoviews_exec.v0+json": {
       "id": "3550"
      }
     },
     "output_type": "execute_result"
    }
   ],
   "source": [
    "p = scatter(np.array(x), np.array(y), title=\"Linear regression\")\n",
    "p.line(np.array(x), np.array(w_1 * x + w_0), line_width=6, line_alpha=0.6, color=\"red\", legend_label=r\"Learned model\")\n",
    "plot = (center_plot(p))\n",
    "plot"
   ]
  },
  {
   "cell_type": "code",
   "execution_count": 37,
   "metadata": {
    "tags": []
   },
   "outputs": [
    {
     "data": {},
     "metadata": {},
     "output_type": "display_data"
    },
    {
     "data": {
      "application/vnd.holoviews_exec.v0+json": "",
      "text/html": [
       "<div id='3762'>\n",
       "  <div class=\"bk-root\" id=\"ce08bb56-3c44-4465-84e7-73fed30a506d\" data-root-id=\"3762\"></div>\n",
       "</div>\n",
       "<script type=\"application/javascript\">(function(root) {\n",
       "  function embed_document(root) {\n",
       "    var docs_json = {\"943fe14f-563c-4ff0-a65c-dc25ca5a3715\":{\"defs\":[{\"extends\":null,\"module\":null,\"name\":\"ReactiveHTML1\",\"overrides\":[],\"properties\":[]},{\"extends\":null,\"module\":null,\"name\":\"FlexBox1\",\"overrides\":[],\"properties\":[{\"default\":\"flex-start\",\"kind\":null,\"name\":\"align_content\"},{\"default\":\"flex-start\",\"kind\":null,\"name\":\"align_items\"},{\"default\":\"row\",\"kind\":null,\"name\":\"flex_direction\"},{\"default\":\"wrap\",\"kind\":null,\"name\":\"flex_wrap\"},{\"default\":\"flex-start\",\"kind\":null,\"name\":\"justify_content\"}]},{\"extends\":null,\"module\":null,\"name\":\"GridStack1\",\"overrides\":[],\"properties\":[{\"default\":\"warn\",\"kind\":null,\"name\":\"mode\"},{\"default\":null,\"kind\":null,\"name\":\"ncols\"},{\"default\":null,\"kind\":null,\"name\":\"nrows\"},{\"default\":true,\"kind\":null,\"name\":\"allow_resize\"},{\"default\":true,\"kind\":null,\"name\":\"allow_drag\"},{\"default\":[],\"kind\":null,\"name\":\"state\"}]},{\"extends\":null,\"module\":null,\"name\":\"click1\",\"overrides\":[],\"properties\":[{\"default\":\"\",\"kind\":null,\"name\":\"terminal_output\"},{\"default\":\"\",\"kind\":null,\"name\":\"debug_name\"},{\"default\":0,\"kind\":null,\"name\":\"clears\"}]},{\"extends\":null,\"module\":null,\"name\":\"NotificationAreaBase1\",\"overrides\":[],\"properties\":[{\"default\":\"bottom-right\",\"kind\":null,\"name\":\"position\"},{\"default\":0,\"kind\":null,\"name\":\"_clear\"}]},{\"extends\":null,\"module\":null,\"name\":\"NotificationArea1\",\"overrides\":[],\"properties\":[{\"default\":[],\"kind\":null,\"name\":\"notifications\"},{\"default\":\"bottom-right\",\"kind\":null,\"name\":\"position\"},{\"default\":0,\"kind\":null,\"name\":\"_clear\"},{\"default\":[{\"background\":\"#ffc107\",\"icon\":{\"className\":\"fas fa-exclamation-triangle\",\"color\":\"white\",\"tagName\":\"i\"},\"type\":\"warning\"},{\"background\":\"#007bff\",\"icon\":{\"className\":\"fas fa-info-circle\",\"color\":\"white\",\"tagName\":\"i\"},\"type\":\"info\"}],\"kind\":null,\"name\":\"types\"}]},{\"extends\":null,\"module\":null,\"name\":\"Notification\",\"overrides\":[],\"properties\":[{\"default\":null,\"kind\":null,\"name\":\"background\"},{\"default\":3000,\"kind\":null,\"name\":\"duration\"},{\"default\":null,\"kind\":null,\"name\":\"icon\"},{\"default\":\"\",\"kind\":null,\"name\":\"message\"},{\"default\":null,\"kind\":null,\"name\":\"notification_type\"},{\"default\":false,\"kind\":null,\"name\":\"_destroyed\"}]},{\"extends\":null,\"module\":null,\"name\":\"TemplateActions1\",\"overrides\":[],\"properties\":[{\"default\":0,\"kind\":null,\"name\":\"open_modal\"},{\"default\":0,\"kind\":null,\"name\":\"close_modal\"}]},{\"extends\":null,\"module\":null,\"name\":\"MaterialTemplateActions1\",\"overrides\":[],\"properties\":[{\"default\":0,\"kind\":null,\"name\":\"open_modal\"},{\"default\":0,\"kind\":null,\"name\":\"close_modal\"}]}],\"roots\":{\"references\":[{\"attributes\":{\"axis\":{\"id\":\"3695\"},\"coordinates\":null,\"grid_line_alpha\":0.15,\"grid_line_color\":\"#E0E0E0\",\"group\":null,\"ticker\":null},\"id\":\"3698\",\"type\":\"Grid\"},{\"attributes\":{\"axis_label\":\"$$\\\\color{white} x$$\",\"axis_label_standoff\":10,\"axis_label_text_color\":\"#FFFFFF\",\"axis_label_text_font\":\"Josefin Sans\",\"axis_label_text_font_size\":\"1.9em\",\"axis_label_text_font_style\":\"bold\",\"axis_line_alpha\":0.4,\"axis_line_color\":\"#E0E0E0\",\"coordinates\":null,\"formatter\":{\"id\":\"3729\"},\"group\":null,\"major_label_policy\":{\"id\":\"3730\"},\"major_label_text_color\":\"#E0E0E0\",\"major_label_text_font\":\"Josefin Sans\",\"major_label_text_font_size\":\"1.15em\",\"major_tick_line_alpha\":0.4,\"major_tick_line_color\":\"#E0E0E0\",\"minor_tick_line_alpha\":0.4,\"minor_tick_line_color\":\"#E0E0E0\",\"ticker\":{\"id\":\"3696\"}},\"id\":\"3695\",\"type\":\"LinearAxis\"},{\"attributes\":{\"axis_label\":\"$$\\\\color{white} 1.0x^1 + 0.0$$\",\"axis_label_standoff\":10,\"axis_label_text_color\":\"#FFFFFF\",\"axis_label_text_font\":\"Josefin Sans\",\"axis_label_text_font_size\":\"1.9em\",\"axis_label_text_font_style\":\"bold\",\"axis_line_alpha\":0.4,\"axis_line_color\":\"#E0E0E0\",\"coordinates\":null,\"formatter\":{\"id\":\"3726\"},\"group\":null,\"major_label_policy\":{\"id\":\"3727\"},\"major_label_text_color\":\"#E0E0E0\",\"major_label_text_font\":\"Josefin Sans\",\"major_label_text_font_size\":\"1.15em\",\"major_tick_line_alpha\":0.4,\"major_tick_line_color\":\"#E0E0E0\",\"minor_tick_line_alpha\":0.4,\"minor_tick_line_color\":\"#E0E0E0\",\"ticker\":{\"id\":\"3700\"}},\"id\":\"3699\",\"type\":\"LinearAxis\"},{\"attributes\":{},\"id\":\"3700\",\"type\":\"BasicTicker\"},{\"attributes\":{},\"id\":\"3708\",\"type\":\"HelpTool\"},{\"attributes\":{\"line_alpha\":0.2,\"line_color\":\"red\",\"line_width\":4,\"x\":{\"field\":\"x\"},\"y\":{\"field\":\"y\"}},\"id\":\"3745\",\"type\":\"Line\"},{\"attributes\":{\"fill_alpha\":{\"value\":0.8},\"fill_color\":{\"value\":\"red\"},\"line_color\":{\"value\":\"white\"}},\"id\":\"3738\",\"type\":\"Circle\"},{\"attributes\":{\"data\":{\"x\":{\"__ndarray__\":\"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\",\"dtype\":\"float64\",\"order\":\"little\",\"shape\":[200]},\"y\":{\"__ndarray__\":\"ylKPvFKRSrwi+uy7PKMJu8itRju0vwU89tNZPBz0ljw8/sA8XgjrPD+JCj1Qjh89YJM0PW+YST2BnV49kaJzPdBThD1Y1o494liZPWrboz3yXa49euC4PQJjwz2K5c09EmjYPZzq4j0ibe09rO/3PRo5AT5eegY+orsLPub8ED4qPhY+b38bPrLAID73ASY+O0MrPn6EMD7DxTU+Bgc7PktIQD6PiUU+08pKPhcMUD5cTVU+n45aPuTPXz4oEWU+bFJqPq+Tbz711HQ+ORZ6PntXfz5gTII+Au2EPqSNhz5GLoo+586MPopvjz4sEJI+zrCUPnBRlz4S8pk+tJKcPlYznz7406E+m3SkPj0Vpz7etak+gFasPiP3rj7Fl7E+Zzi0PgjZtj6qebk+TRq8Pu+6vj6RW8E+MvzDPtWcxj53Pck+Gd7LPrt+zj5eH9E+/7/TPqFg1j5DAdk+5qHbPohC3j4p4+A+y4PjPm0k5j4Qxeg+smXrPlQG7j71pvA+mEfzPjro9T7biPg+fSn7PiHK/T5hNQA/s4UBPwTWAj9UJgQ/pnYFP/fGBj9IFwg/mWcJP+m3Cj87CAw/jFgNP92oDj8u+Q8/fkkRP9CZEj8h6hM/cjoVP8OKFj8U2xc/ZSsZP7Z7Gj8HzBs/WBwdP6lsHj/6vB8/Sw0hP5xdIj/trSM/P/4kP49OJj/gnic/Mu8oP4I/Kj/Ujys/JOAsP3UwLj/HgC8/F9EwP2khMj+6cTM/CsI0P1wSNj+sYjc//rI4P08DOj+fUzs/8aM8P0H0PT+TRD8/5JRAPzTlQT+GNUM/14VEPyjWRT95Jkc/yXZIPxvHST9sF0s/vWdMPw64TT9gCE8/sFhQPwGpUT9S+VI/o0lUP/WZVT9F6lY/ljpYP+eKWT8421o/iitcP9p7XT8rzF4/fRxgP81sYT8fvWI/bw1kP8BdZT8SrmY/Yv5nP7ROaT8En2o/Ve9rP6c/bT/3j24/SeBvP5owcT/rgHI/PNFzP4whdT/ecXY/L8J3P4ASeT/RYno/IrN7P3IDfT/EU34/FKR/PzN6gD8=\",\"dtype\":\"float32\",\"order\":\"little\",\"shape\":[200]}},\"selected\":{\"id\":\"3758\"},\"selection_policy\":{\"id\":\"3757\"}},\"id\":\"3742\",\"type\":\"ColumnDataSource\"},{\"attributes\":{\"label\":{\"value\":\"Observations\"},\"renderers\":[{\"id\":\"3722\"}]},\"id\":\"3735\",\"type\":\"LegendItem\"},{\"attributes\":{\"mode\":\"append\",\"overlay\":{\"id\":\"3760\"},\"renderers\":[{\"id\":\"3722\"}]},\"id\":\"3740\",\"type\":\"BoxSelectTool\"},{\"attributes\":{\"callback\":null,\"mode\":\"vline\",\"renderers\":[{\"id\":\"3722\"}],\"tooltips\":null},\"id\":\"3736\",\"type\":\"HoverTool\"},{\"attributes\":{},\"id\":\"3726\",\"type\":\"BasicTickFormatter\"},{\"attributes\":{\"fill_alpha\":{\"value\":0.5},\"fill_color\":{\"value\":\"midnightblue\"},\"line_color\":{\"value\":\"white\"}},\"id\":\"3739\",\"type\":\"Circle\"},{\"attributes\":{\"line_alpha\":0.7,\"line_color\":\"red\",\"line_width\":4,\"x\":{\"field\":\"x\"},\"y\":{\"field\":\"y\"}},\"id\":\"3743\",\"type\":\"Line\"},{\"attributes\":{},\"id\":\"3687\",\"type\":\"DataRange1d\"},{\"attributes\":{\"background_fill_alpha\":0.9,\"background_fill_color\":\"#0f0f0f\",\"below\":[{\"id\":\"3695\"}],\"border_fill_alpha\":0.8,\"border_fill_color\":\"#111111\",\"center\":[{\"id\":\"3698\"},{\"id\":\"3702\"},{\"id\":\"3734\"}],\"height\":450,\"left\":[{\"id\":\"3699\"}],\"outline_line_alpha\":0.25,\"outline_line_color\":\"#E0E0E0\",\"outline_line_width\":3,\"renderers\":[{\"id\":\"3722\"},{\"id\":\"3746\"}],\"title\":{\"id\":\"3685\"},\"toolbar\":{\"id\":\"3710\"},\"toolbar_location\":null,\"x_range\":{\"id\":\"3687\"},\"x_scale\":{\"id\":\"3691\"},\"y_range\":{\"id\":\"3689\"},\"y_scale\":{\"id\":\"3693\"}},\"id\":\"3684\",\"subtype\":\"Figure\",\"type\":\"Plot\"},{\"attributes\":{\"args\":{\"bidirectional\":true,\"properties\":{\"readonly\":\"disabled\"},\"source\":{\"id\":\"3801\"},\"target\":{\"id\":\"3801\"}},\"code\":\"\\n    var value = source['readonly'];\\n    value = value;\\n    value = value;\\n    try {\\n      var property = target.properties['disabled'];\\n      if (property !== undefined) { property.validate(value); }\\n    } catch(err) {\\n      console.log('WARNING: Could not set disabled on target, raised error: ' + err);\\n      return;\\n    }\\n    try {\\n      target['disabled'] = value;\\n    } catch(err) {\\n      console.log(err)\\n    }\\n    \",\"tags\":[[140320320484928,[null,\"readonly\"],[null,\"disabled\"]]]},\"id\":\"3816\",\"type\":\"CustomJS\"},{\"attributes\":{},\"id\":\"3727\",\"type\":\"AllLabels\"},{\"attributes\":{\"children\":[{\"id\":\"3763\"},{\"id\":\"3764\"},{\"id\":\"3802\"}],\"margin\":[0,0,0,0],\"name\":\"Row00286\"},\"id\":\"3762\",\"type\":\"Row\"},{\"attributes\":{},\"id\":\"3729\",\"type\":\"BasicTickFormatter\"},{\"attributes\":{\"margin\":[5,5,5,5],\"name\":\"HSpacer00257\",\"sizing_mode\":\"stretch_width\"},\"id\":\"3763\",\"type\":\"Spacer\"},{\"attributes\":{},\"id\":\"3730\",\"type\":\"AllLabels\"},{\"attributes\":{\"args\":{\"bidirectional\":true,\"properties\":{\"readonly\":\"disabled\"},\"source\":{\"id\":\"3801\"},\"target\":{\"id\":\"3801\"}},\"code\":\"\\n    var value = source['disabled'];\\n    value = value;\\n    value = value;\\n    try {\\n      var property = target.properties['readonly'];\\n      if (property !== undefined) { property.validate(value); }\\n    } catch(err) {\\n      console.log('WARNING: Could not set readonly on target, raised error: ' + err);\\n      return;\\n    }\\n    try {\\n      target['readonly'] = value;\\n    } catch(err) {\\n      console.log(err)\\n    }\\n    \",\"tags\":[[140320320484928,[null,\"readonly\"],[null,\"disabled\"]]]},\"id\":\"3817\",\"type\":\"CustomJS\"},{\"attributes\":{\"children\":[{\"id\":\"3765\"},{\"id\":\"3801\"}],\"margin\":[0,0,0,0],\"name\":\"Column00284\"},\"id\":\"3764\",\"type\":\"Column\"},{\"attributes\":{\"source\":{\"id\":\"3742\"}},\"id\":\"3747\",\"type\":\"CDSView\"},{\"attributes\":{\"label\":{\"value\":\"Learned model\"},\"renderers\":[{\"id\":\"3746\"}]},\"id\":\"3761\",\"type\":\"LegendItem\"},{\"attributes\":{\"children\":[{\"id\":\"3767\"},{\"id\":\"3768\"},{\"id\":\"3769\"},{\"id\":\"3770\"},{\"id\":\"3771\"},{\"id\":\"3772\"},{\"id\":\"3773\"}],\"margin\":[5,5,5,5],\"min_width\":300,\"name\":\"Problem parameters\",\"width\":300},\"id\":\"3766\",\"type\":\"Column\"},{\"attributes\":{},\"id\":\"3704\",\"type\":\"WheelZoomTool\"},{\"attributes\":{\"coordinates\":null,\"data_source\":{\"id\":\"3742\"},\"glyph\":{\"id\":\"3743\"},\"group\":null,\"hover_glyph\":null,\"muted_glyph\":{\"id\":\"3745\"},\"nonselection_glyph\":{\"id\":\"3744\"},\"view\":{\"id\":\"3747\"}},\"id\":\"3746\",\"type\":\"GlyphRenderer\"},{\"attributes\":{\"children\":[{\"id\":\"3766\"},{\"id\":\"3774\"}],\"margin\":[0,0,0,0],\"name\":\"Row00281\"},\"id\":\"3765\",\"type\":\"Row\"},{\"attributes\":{},\"id\":\"3703\",\"type\":\"PanTool\"},{\"attributes\":{\"margin\":[5,10,5,10],\"name\":\"\",\"text\":\"<b>Problem parameters</b>\"},\"id\":\"3767\",\"type\":\"Div\"},{\"attributes\":{\"overlay\":{\"id\":\"3709\"}},\"id\":\"3705\",\"type\":\"BoxZoomTool\"},{\"attributes\":{\"labels\":[\"Ground truth\"],\"margin\":[5,10,5,10]},\"id\":\"3770\",\"type\":\"CheckboxGroup\"},{\"attributes\":{},\"id\":\"3706\",\"type\":\"SaveTool\"},{\"attributes\":{\"labels\":[\"Error\"],\"margin\":[5,10,5,10]},\"id\":\"3771\",\"type\":\"CheckboxGroup\"},{\"attributes\":{},\"id\":\"3707\",\"type\":\"ResetTool\"},{\"attributes\":{\"end\":1000,\"margin\":[5,10,5,10],\"start\":10,\"title\":\"Number observations\",\"value\":100},\"id\":\"3768\",\"type\":\"Slider\"},{\"attributes\":{\"end\":5.0,\"margin\":[5,10,5,10],\"start\":-5.0,\"step\":0.1,\"title\":\"X 1\",\"value\":1.0},\"id\":\"3772\",\"type\":\"Slider\"},{\"attributes\":{\"coordinates\":null,\"group\":null,\"text\":\"Linear regression problem\",\"text_color\":\"#E0E0E0\",\"text_font\":\"Josefin Sans\",\"text_font_size\":\"2.1em\"},\"id\":\"3685\",\"type\":\"Title\"},{\"attributes\":{},\"id\":\"3731\",\"type\":\"UnionRenderers\"},{\"attributes\":{\"end\":5.0,\"margin\":[5,10,5,10],\"start\":0.0,\"step\":0.1,\"title\":\"Noise level\",\"value\":0.1},\"id\":\"3769\",\"type\":\"Slider\"},{\"attributes\":{\"bottom_units\":\"screen\",\"coordinates\":null,\"fill_alpha\":0.5,\"fill_color\":\"lightgrey\",\"group\":null,\"left_units\":\"screen\",\"level\":\"overlay\",\"line_alpha\":1.0,\"line_color\":\"black\",\"line_dash\":[4,4],\"line_width\":2,\"right_units\":\"screen\",\"syncable\":false,\"top_units\":\"screen\"},\"id\":\"3709\",\"type\":\"BoxAnnotation\"},{\"attributes\":{},\"id\":\"3732\",\"type\":\"Selection\"},{\"attributes\":{\"fill_alpha\":{\"value\":0.2},\"fill_color\":{\"value\":\"midnightblue\"},\"hatch_alpha\":{\"value\":0.2},\"line_alpha\":{\"value\":0.2},\"line_color\":{\"value\":\"white\"},\"size\":{\"value\":10},\"x\":{\"field\":\"x\"},\"y\":{\"field\":\"y\"}},\"id\":\"3721\",\"type\":\"Circle\"},{\"attributes\":{\"fill_alpha\":{\"value\":0.5},\"fill_color\":{\"value\":\"red\"},\"hatch_alpha\":{\"value\":0.5},\"line_alpha\":{\"value\":0.5},\"line_color\":{\"value\":\"white\"},\"size\":{\"value\":10},\"x\":{\"field\":\"x\"},\"y\":{\"field\":\"y\"}},\"id\":\"3720\",\"type\":\"Circle\"},{\"attributes\":{\"code\":\"def linear(\\n        coefficients: jnp.ndarray,\\n        n_observations: int = 100) -> [jnp.ndarray, jnp.ndarray]:\\n    x = jnp.linspace(0, 1, n_observations)\\n    y = coefficients[0] * x + coefficients[1]\\n    return x, \",\"filename\":\"\",\"height\":150,\"js_property_callbacks\":{\"change:disabled\":[{\"id\":\"3817\"}],\"change:readonly\":[{\"id\":\"3816\"}]},\"language\":\"python\",\"margin\":[5,10,5,10],\"sizing_mode\":\"stretch_both\",\"theme\":\"chaos\"},\"id\":\"3801\",\"type\":\"panel.models.ace.AcePlot\"},{\"attributes\":{\"end\":5.0,\"margin\":[5,10,5,10],\"start\":-5.0,\"step\":0.1,\"title\":\"X 0\",\"value\":0.0},\"id\":\"3773\",\"type\":\"Slider\"},{\"attributes\":{},\"id\":\"3693\",\"type\":\"LinearScale\"},{\"attributes\":{},\"id\":\"3757\",\"type\":\"UnionRenderers\"},{\"attributes\":{\"children\":[{\"id\":\"3684\"}],\"margin\":[0,0,0,0],\"name\":\"Row00278\"},\"id\":\"3774\",\"type\":\"Row\"},{\"attributes\":{\"fill_alpha\":{\"value\":0.25},\"fill_color\":{\"value\":\"midnightblue\"},\"hatch_alpha\":{\"value\":0.25},\"line_alpha\":{\"value\":0.25},\"line_color\":{\"value\":\"white\"},\"size\":{\"value\":10},\"x\":{\"field\":\"x\"},\"y\":{\"field\":\"y\"}},\"id\":\"3718\",\"type\":\"Circle\"},{\"attributes\":{},\"id\":\"3758\",\"type\":\"Selection\"},{\"attributes\":{\"tools\":[{\"id\":\"3703\"},{\"id\":\"3704\"},{\"id\":\"3705\"},{\"id\":\"3706\"},{\"id\":\"3707\"},{\"id\":\"3708\"},{\"id\":\"3736\"},{\"id\":\"3740\"}]},\"id\":\"3710\",\"type\":\"Toolbar\"},{\"attributes\":{\"client_comm_id\":\"32dedbb86cc64e6d8516b716643345ea\",\"comm_id\":\"c366eecf16d44ab9a019c687ddb330dc\",\"plot_id\":\"3762\"},\"id\":\"3844\",\"type\":\"panel.models.comm_manager.CommManager\"},{\"attributes\":{\"margin\":[5,5,5,5],\"name\":\"HSpacer00285\",\"sizing_mode\":\"stretch_width\"},\"id\":\"3802\",\"type\":\"Spacer\"},{\"attributes\":{\"source\":{\"id\":\"3717\"}},\"id\":\"3723\",\"type\":\"CDSView\"},{\"attributes\":{\"background_fill_alpha\":0.25,\"background_fill_color\":\"#505050\",\"border_line_alpha\":0.25,\"coordinates\":null,\"group\":null,\"items\":[{\"id\":\"3735\"},{\"id\":\"3761\"}],\"label_standoff\":8,\"label_text_color\":\"#E0E0E0\",\"label_text_font\":\"Josefin Sans\",\"label_text_font_size\":\"1.15em\",\"spacing\":8},\"id\":\"3734\",\"type\":\"Legend\"},{\"attributes\":{\"line_alpha\":0.1,\"line_color\":\"red\",\"line_width\":4,\"x\":{\"field\":\"x\"},\"y\":{\"field\":\"y\"}},\"id\":\"3744\",\"type\":\"Line\"},{\"attributes\":{\"coordinates\":null,\"data_source\":{\"id\":\"3717\"},\"glyph\":{\"id\":\"3718\"},\"group\":null,\"hover_glyph\":{\"id\":\"3720\"},\"muted_glyph\":{\"id\":\"3721\"},\"nonselection_glyph\":{\"id\":\"3739\"},\"selection_glyph\":{\"id\":\"3738\"},\"view\":{\"id\":\"3723\"}},\"id\":\"3722\",\"type\":\"GlyphRenderer\"},{\"attributes\":{},\"id\":\"3696\",\"type\":\"BasicTicker\"},{\"attributes\":{\"data\":{\"x\":{\"__ndarray__\":\"AAAAALV+JTy1fqU8ED74PLV+JT1i3k49ED54Pd7OkD21fqU9jC66PWLezj05juM9ED74PfN2Bj7ezhA+yiYbPrV+JT6g1i8+jC46PneGRD5i3k4+TjZZPjmOYz4k5m0+ED54Pv1KgT7zdoY+6aKLPt7OkD7U+pU+yiabPr9SoD61fqU+q6qqPqDWrz6WArU+jC66PoFavz53hsQ+bbLJPmLezj5YCtQ+TjbZPkNi3j45juM+L7roPiTm7T4aEvM+ED74PgVq/T79SgE/+OADP/N2Bj/uDAk/6aILP+Q4Dj/ezhA/2WQTP9T6FT/PkBg/yiYbP8W8HT+/UiA/uugiP7V+JT+wFCg/q6oqP6VALT+g1i8/m2wyP5YCNT+RmDc/jC46P4bEPD+BWj8/fPBBP3eGRD9yHEc/bbJJP2dITD9i3k4/XXRRP1gKVD9ToFY/TjZZP0jMWz9DYl4/PvhgPzmOYz80JGY/L7poPylQaz8k5m0/H3xwPxoScz8VqHU/ED54PwrUej8Fan0/AACAPw==\",\"dtype\":\"float32\",\"order\":\"little\",\"shape\":[100]},\"y\":{\"__ndarray__\":\"R2wsvdqiGL16vzi9LliyPeC3VLvovuw9QBJhuzgZjTxE/Hw9uBMEPcfYAz6wd808Mm4APnbe4z2E1gE+Yo40PjjMED55tNg9EkL2PcQRYj50rwc+nSeCPr+zTT5JbUM+cME3PnVgfj7mm7E+rRi9PnrdeD5Ph5Y+WQqnPqUuuT7kUoA+2c92Pr090T7DecA+YaqZPjSm8T6iDeU+7d+wPnbwqD6mff4+rTC4PnpPrj4u2bw+QPLlPrJRvj6QJdk+e9T9PhhqzD5ebRk/1X8EP8YqAz+Ckv8+3sjmPtCpJz9uwv4+xKoWP25ZHj+fzSI/AwUrP9kHND+93DQ/tlk2Px09Ij+Lnj4/HNIcPyO8QT9S2kA/FKYgP45UHj95BEA/DbwgP/JQLj/RCkA/vi9aPwtjTT/ywDo/y0dHPwOCNj/ugEI/z19JP/I5YD9vqk4/lkxPP5djcD8ioW8/CXpqP93Pbj+zglw/vrlQP+QXej+i41U/cIiEPxHLXT8nW14/e2yGP/zMgT9OxnI/PPZ8Pw==\",\"dtype\":\"float32\",\"order\":\"little\",\"shape\":[100]}},\"selected\":{\"id\":\"3732\"},\"selection_policy\":{\"id\":\"3731\"}},\"id\":\"3717\",\"type\":\"ColumnDataSource\"},{\"attributes\":{\"bottom_units\":\"screen\",\"coordinates\":null,\"fill_alpha\":0.5,\"fill_color\":\"lightgrey\",\"group\":null,\"left_units\":\"screen\",\"level\":\"overlay\",\"line_alpha\":1.0,\"line_color\":\"black\",\"line_dash\":[4,4],\"line_width\":2,\"right_units\":\"screen\",\"syncable\":false,\"top_units\":\"screen\"},\"id\":\"3760\",\"type\":\"BoxAnnotation\"},{\"attributes\":{\"axis\":{\"id\":\"3699\"},\"coordinates\":null,\"dimension\":1,\"grid_line_alpha\":0.15,\"grid_line_color\":\"#E0E0E0\",\"group\":null,\"ticker\":null},\"id\":\"3702\",\"type\":\"Grid\"},{\"attributes\":{},\"id\":\"3689\",\"type\":\"DataRange1d\"},{\"attributes\":{},\"id\":\"3691\",\"type\":\"LinearScale\"}],\"root_ids\":[\"3762\",\"3844\"]},\"title\":\"Bokeh Application\",\"version\":\"2.4.3\"}};\n",
       "    var render_items = [{\"docid\":\"943fe14f-563c-4ff0-a65c-dc25ca5a3715\",\"root_ids\":[\"3762\"],\"roots\":{\"3762\":\"ce08bb56-3c44-4465-84e7-73fed30a506d\"}}];\n",
       "    root.Bokeh.embed.embed_items_notebook(docs_json, render_items);\n",
       "    for (const render_item of render_items) {\n",
       "      for (const root_id of render_item.root_ids) {\n",
       "\tconst id_el = document.getElementById(root_id)\n",
       "\tif (id_el.children.length && (id_el.children[0].className === 'bk-root')) {\n",
       "\t  const root_el = id_el.children[0]\n",
       "\t  root_el.id = root_el.id + '-rendered'\n",
       "\t}\n",
       "      }\n",
       "    }\n",
       "  }\n",
       "  if (root.Bokeh !== undefined && root.Bokeh.Panel !== undefined) {\n",
       "    embed_document(root);\n",
       "  } else {\n",
       "    var attempts = 0;\n",
       "    var timer = setInterval(function(root) {\n",
       "      if (root.Bokeh !== undefined && root.Bokeh.Panel !== undefined) {\n",
       "        clearInterval(timer);\n",
       "        embed_document(root);\n",
       "      } else if (document.readyState == \"complete\") {\n",
       "        attempts++;\n",
       "        if (attempts > 200) {\n",
       "          clearInterval(timer);\n",
       "          console.log(\"Bokeh: ERROR: Unable to run BokehJS code because BokehJS library is missing\");\n",
       "        }\n",
       "      }\n",
       "    }, 25, root)\n",
       "  }\n",
       "})(window);</script>"
      ],
      "text/plain": [
       "Row\n",
       "    [0] HSpacer()\n",
       "    [1] Column\n",
       "        [0] Row\n",
       "            [0] Param(RegressionLinearSolver, name='Problem parameters', widgets={})\n",
       "            [1] ParamMethod(method, _pane=Bokeh)\n",
       "        [1] Ace(height=150, language='python', sizing_mode='stretch_both', theme='chaos', value='def linear(\\n        coef...)\n",
       "    [2] HSpacer()"
      ]
     },
     "execution_count": 37,
     "metadata": {
      "application/vnd.holoviews_exec.v0+json": {
       "id": "3762"
      }
     },
     "output_type": "execute_result"
    }
   ],
   "source": [
    "from cml.tasks import RegressionLinearSolver\n",
    "explorer = RegressionLinearSolver()\n",
    "global key\n",
    "key = random.PRNGKey(23)\n",
    "def solve(x, y):\n",
    "    global key\n",
    "    key_gd, key = random.split(key, 2)\n",
    "    w_1, w_0, loss_history = gradient_descent(key_gd, x, y)\n",
    "    x_predict = np.linspace(np.min(x), np.max(x), 200)\n",
    "    y_model = w_1 * x_predict + w_0\n",
    "    return np.array(x_predict), np.array(y_model) #np.array(jnp.zeros(y_model.shape))\n",
    "\n",
    "explorer.solve = solve\n",
    "explorer.render()"
   ]
  },
  {
   "cell_type": "markdown",
   "metadata": {},
   "source": [
    "<div class=\"alert alert-success\" markdown=\"1\" style=\"color:white; background-color: #192841; border-color: #779ecb\">\n",
    "\n",
    "> ### Going further\n",
    "\n",
    "> You are encouraged to experiment in a similar way as outlined for NumPy with different learning rates, maximum number of iterations, and regularization techniques, as well as compare the performance (both accuracy and speed) of the implemented algorithms with `scikit-learn` built-in linear regression functions.\n",
    "\n",
    "</div>"
   ]
  },
  {
   "cell_type": "markdown",
   "metadata": {},
   "source": [
    "<a id=\"capacity\"></a>\n",
    "## Understanding model capacity and selection\n",
    "\n",
    "\n",
    "In real-life problem, we are aiming to find the parameters of a model, but we do not really know what is the _real_ function underlying this process. So what we can decide to select _any_ function of _any_ **capacity** (complexity of the function). One of the problem with that, is that if we have a too simple function, it will _underfit_ (it is not complex enough for our observations). On the opposite end, if we have a function which is too complex, it might be able to _fit through all training points exactly_ ... even though there is noise in our observations ! This is examplified in the following\n",
    "\n",
    "<img src=\"images/01_soa_function_families.png\" align=\"center\"/>\n",
    "\n",
    "We can observe this idea and play with it directly by trying to find a function approximating our previous observations with a polynomial function chosen to have a degree inside \\([1,2,8]\\).\n"
   ]
  },
  {
   "cell_type": "markdown",
   "metadata": {},
   "source": [
    "\n",
    "Depending on the _capacity_ of the model, what we can observe is that\n",
    "\n",
    "- `capacity too low   -> underfitting   : prediction variance >  noise variance`\n",
    "- `adequate capacity  -> good fit       : prediction variance == noise variance`\n",
    "- `capacity too high  -> overfitting    : prediction variance <  noise variance`\n"
   ]
  },
  {
   "cell_type": "markdown",
   "metadata": {},
   "source": [
    "A similar example can be given for a classification problem in two dimensions as follows\n",
    "\n",
    "<img src=\"images/01_underfit.png\" align=\"center\"/>\n"
   ]
  },
  {
   "cell_type": "markdown",
   "metadata": {},
   "source": [
    "# Exercises\n",
    "\n",
    "In the following, we define the exercises that you should fill for this session. These go further than what we have seen together in the course, but they are based on the exact same principles, simply with slightly more complex definitions. We provide an overall guideline for successfully implementing each of the exercise."
   ]
  },
  {
   "cell_type": "markdown",
   "metadata": {},
   "source": [
    "## Exercise 1 - Linear classification"
   ]
  },
  {
   "cell_type": "markdown",
   "metadata": {},
   "source": [
    "<div class=\"alert alert-success\" markdown=\"1\" style=\"color:white; background-color: #013220; border-color: #03C03C\">\n",
    "\n",
    "> In this exercise, we will implement linear classification using NumPy and JAX. The goal of this exercise is to gain a better understanding of how linear classification works and how to implement it ourselves using our two first libraries of choice, namely NumPy and JAX. To complete this exercise, you will need to have a basic understanding of NumPy and JAX. You can use the resources provided in the previous exercises to learn more about these libraries.\n",
    "\n",
    "We help you out by first defining a simple linear classification problem to solve\n",
    "\n",
    "</div>"
   ]
  },
  {
   "cell_type": "code",
   "execution_count": 62,
   "metadata": {
    "tags": []
   },
   "outputs": [],
   "source": [
    "import numpy as np\n",
    "from sklearn.datasets import make_blobs\n",
    "# Properties of the problem\n",
    "n_observations = 200\n",
    "noise = 0.2\n",
    "c1_center = [-2, -1]\n",
    "c2_center = [2, 1]\n",
    "# Create points\n",
    "x_coords, y_class = make_blobs(n_samples=n_observations, centers=[c1_center, c2_center], n_features=2, cluster_std=0.55)\n",
    "x_data = x_coords + (noise * np.random.randn(n_observations, 2))\n",
    "#x_data = x_coords\n",
    "y_classes = y_class\n",
    "y_classes[y_classes == 0] = -1"
   ]
  },
  {
   "cell_type": "markdown",
   "metadata": {},
   "source": [
    "<div class=\"alert alert-success\" markdown=\"1\" style=\"color:white; background-color: #013220; border-color: #03C03C\">\n",
    "\n",
    "> ### Question 1.1 - Implement linear classification with NumPy\n",
    "\n",
    "> 1. Check the training data with two classes that are linearly separable.\n",
    "> 2. Initialize weights and bias.\n",
    "> 3. Implement the forward pass of the linear classifier.\n",
    "> 4. Implement the hinge loss for classification.\n",
    "> 5. Derive the gradients (backward pass) of the linear classifier.\n",
    "> 6. Implement gradient descent to optimize the weights and bias.\n",
    "\n",
    "</div>"
   ]
  },
  {
   "cell_type": "code",
   "execution_count": 63,
   "metadata": {
    "tags": []
   },
   "outputs": [
    {
     "data": {},
     "metadata": {},
     "output_type": "display_data"
    },
    {
     "data": {
      "application/vnd.holoviews_exec.v0+json": "",
      "text/html": [
       "<div id='10120'>\n",
       "  <div class=\"bk-root\" id=\"de4c2e73-1046-4c16-8373-98a1291881c1\" data-root-id=\"10120\"></div>\n",
       "</div>\n",
       "<script type=\"application/javascript\">(function(root) {\n",
       "  function embed_document(root) {\n",
       "    var docs_json = {\"5b08d5c2-9a2a-44eb-a868-c88286f846f1\":{\"defs\":[{\"extends\":null,\"module\":null,\"name\":\"ReactiveHTML1\",\"overrides\":[],\"properties\":[]},{\"extends\":null,\"module\":null,\"name\":\"FlexBox1\",\"overrides\":[],\"properties\":[{\"default\":\"flex-start\",\"kind\":null,\"name\":\"align_content\"},{\"default\":\"flex-start\",\"kind\":null,\"name\":\"align_items\"},{\"default\":\"row\",\"kind\":null,\"name\":\"flex_direction\"},{\"default\":\"wrap\",\"kind\":null,\"name\":\"flex_wrap\"},{\"default\":\"flex-start\",\"kind\":null,\"name\":\"justify_content\"}]},{\"extends\":null,\"module\":null,\"name\":\"GridStack1\",\"overrides\":[],\"properties\":[{\"default\":\"warn\",\"kind\":null,\"name\":\"mode\"},{\"default\":null,\"kind\":null,\"name\":\"ncols\"},{\"default\":null,\"kind\":null,\"name\":\"nrows\"},{\"default\":true,\"kind\":null,\"name\":\"allow_resize\"},{\"default\":true,\"kind\":null,\"name\":\"allow_drag\"},{\"default\":[],\"kind\":null,\"name\":\"state\"}]},{\"extends\":null,\"module\":null,\"name\":\"click1\",\"overrides\":[],\"properties\":[{\"default\":\"\",\"kind\":null,\"name\":\"terminal_output\"},{\"default\":\"\",\"kind\":null,\"name\":\"debug_name\"},{\"default\":0,\"kind\":null,\"name\":\"clears\"}]},{\"extends\":null,\"module\":null,\"name\":\"NotificationAreaBase1\",\"overrides\":[],\"properties\":[{\"default\":\"bottom-right\",\"kind\":null,\"name\":\"position\"},{\"default\":0,\"kind\":null,\"name\":\"_clear\"}]},{\"extends\":null,\"module\":null,\"name\":\"NotificationArea1\",\"overrides\":[],\"properties\":[{\"default\":[],\"kind\":null,\"name\":\"notifications\"},{\"default\":\"bottom-right\",\"kind\":null,\"name\":\"position\"},{\"default\":0,\"kind\":null,\"name\":\"_clear\"},{\"default\":[{\"background\":\"#ffc107\",\"icon\":{\"className\":\"fas fa-exclamation-triangle\",\"color\":\"white\",\"tagName\":\"i\"},\"type\":\"warning\"},{\"background\":\"#007bff\",\"icon\":{\"className\":\"fas fa-info-circle\",\"color\":\"white\",\"tagName\":\"i\"},\"type\":\"info\"}],\"kind\":null,\"name\":\"types\"}]},{\"extends\":null,\"module\":null,\"name\":\"Notification\",\"overrides\":[],\"properties\":[{\"default\":null,\"kind\":null,\"name\":\"background\"},{\"default\":3000,\"kind\":null,\"name\":\"duration\"},{\"default\":null,\"kind\":null,\"name\":\"icon\"},{\"default\":\"\",\"kind\":null,\"name\":\"message\"},{\"default\":null,\"kind\":null,\"name\":\"notification_type\"},{\"default\":false,\"kind\":null,\"name\":\"_destroyed\"}]},{\"extends\":null,\"module\":null,\"name\":\"TemplateActions1\",\"overrides\":[],\"properties\":[{\"default\":0,\"kind\":null,\"name\":\"open_modal\"},{\"default\":0,\"kind\":null,\"name\":\"close_modal\"}]},{\"extends\":null,\"module\":null,\"name\":\"MaterialTemplateActions1\",\"overrides\":[],\"properties\":[{\"default\":0,\"kind\":null,\"name\":\"open_modal\"},{\"default\":0,\"kind\":null,\"name\":\"close_modal\"}]}],\"roots\":{\"references\":[{\"attributes\":{},\"id\":\"10067\",\"type\":\"DataRange1d\"},{\"attributes\":{},\"id\":\"10085\",\"type\":\"ResetTool\"},{\"attributes\":{\"coordinates\":null,\"group\":null,\"text\":\"Dataset\",\"text_color\":\"#E0E0E0\",\"text_font\":\"Josefin Sans\",\"text_font_size\":\"2.1em\"},\"id\":\"10063\",\"type\":\"Title\"},{\"attributes\":{\"background_fill_alpha\":0.9,\"background_fill_color\":\"#0f0f0f\",\"below\":[{\"id\":\"10073\"}],\"border_fill_alpha\":0.8,\"border_fill_color\":\"#111111\",\"center\":[{\"id\":\"10076\"},{\"id\":\"10080\"},{\"id\":\"10112\"}],\"height\":450,\"left\":[{\"id\":\"10077\"}],\"outline_line_alpha\":0.25,\"outline_line_color\":\"#E0E0E0\",\"outline_line_width\":3,\"renderers\":[{\"id\":\"10100\"}],\"title\":{\"id\":\"10063\"},\"toolbar\":{\"id\":\"10088\"},\"toolbar_location\":null,\"x_range\":{\"id\":\"10065\"},\"x_scale\":{\"id\":\"10069\"},\"y_range\":{\"id\":\"10067\"},\"y_scale\":{\"id\":\"10071\"}},\"id\":\"10062\",\"subtype\":\"Figure\",\"type\":\"Plot\"},{\"attributes\":{\"children\":[{\"id\":\"10121\"},{\"id\":\"10062\"},{\"id\":\"10144\"}],\"margin\":[0,0,0,0],\"name\":\"Row00314\"},\"id\":\"10120\",\"type\":\"Row\"},{\"attributes\":{},\"id\":\"10109\",\"type\":\"UnionRenderers\"},{\"attributes\":{},\"id\":\"10074\",\"type\":\"BasicTicker\"},{\"attributes\":{},\"id\":\"10084\",\"type\":\"SaveTool\"},{\"attributes\":{},\"id\":\"10086\",\"type\":\"HelpTool\"},{\"attributes\":{},\"id\":\"10107\",\"type\":\"BasicTickFormatter\"},{\"attributes\":{},\"id\":\"10108\",\"type\":\"AllLabels\"},{\"attributes\":{\"label\":{\"value\":\"Observations\"},\"renderers\":[{\"id\":\"10100\"}]},\"id\":\"10113\",\"type\":\"LegendItem\"},{\"attributes\":{\"bottom_units\":\"screen\",\"coordinates\":null,\"fill_alpha\":0.5,\"fill_color\":\"lightgrey\",\"group\":null,\"left_units\":\"screen\",\"level\":\"overlay\",\"line_alpha\":1.0,\"line_color\":\"black\",\"line_dash\":[4,4],\"line_width\":2,\"right_units\":\"screen\",\"syncable\":false,\"top_units\":\"screen\"},\"id\":\"10087\",\"type\":\"BoxAnnotation\"},{\"attributes\":{\"margin\":[5,5,5,5],\"name\":\"HSpacer00310\",\"sizing_mode\":\"stretch_width\"},\"id\":\"10121\",\"type\":\"Spacer\"},{\"attributes\":{\"axis\":{\"id\":\"10077\"},\"coordinates\":null,\"dimension\":1,\"grid_line_alpha\":0.15,\"grid_line_color\":\"#E0E0E0\",\"group\":null,\"ticker\":null},\"id\":\"10080\",\"type\":\"Grid\"},{\"attributes\":{\"background_fill_alpha\":0.25,\"background_fill_color\":\"#505050\",\"border_line_alpha\":0.25,\"coordinates\":null,\"group\":null,\"items\":[{\"id\":\"10113\"}],\"label_standoff\":8,\"label_text_color\":\"#E0E0E0\",\"label_text_font\":\"Josefin Sans\",\"label_text_font_size\":\"1.15em\",\"spacing\":8},\"id\":\"10112\",\"type\":\"Legend\"},{\"attributes\":{},\"id\":\"10069\",\"type\":\"LinearScale\"},{\"attributes\":{},\"id\":\"10110\",\"type\":\"Selection\"},{\"attributes\":{\"mode\":\"append\",\"overlay\":{\"id\":\"10132\"},\"renderers\":[{\"id\":\"10100\"}]},\"id\":\"10118\",\"type\":\"BoxSelectTool\"},{\"attributes\":{\"callback\":null,\"mode\":\"vline\",\"renderers\":[{\"id\":\"10100\"}],\"tooltips\":null},\"id\":\"10114\",\"type\":\"HoverTool\"},{\"attributes\":{\"fill_alpha\":{\"value\":0.5},\"fill_color\":{\"value\":\"midnightblue\"},\"line_color\":{\"value\":\"white\"}},\"id\":\"10117\",\"type\":\"Circle\"},{\"attributes\":{\"overlay\":{\"id\":\"10087\"}},\"id\":\"10083\",\"type\":\"BoxZoomTool\"},{\"attributes\":{\"axis\":{\"id\":\"10073\"},\"coordinates\":null,\"grid_line_alpha\":0.15,\"grid_line_color\":\"#E0E0E0\",\"group\":null,\"ticker\":null},\"id\":\"10076\",\"type\":\"Grid\"},{\"attributes\":{\"source\":{\"id\":\"10095\"}},\"id\":\"10101\",\"type\":\"CDSView\"},{\"attributes\":{\"bottom_units\":\"screen\",\"coordinates\":null,\"fill_alpha\":0.5,\"fill_color\":\"lightgrey\",\"group\":null,\"left_units\":\"screen\",\"level\":\"overlay\",\"line_alpha\":1.0,\"line_color\":\"black\",\"line_dash\":[4,4],\"line_width\":2,\"right_units\":\"screen\",\"syncable\":false,\"top_units\":\"screen\"},\"id\":\"10132\",\"type\":\"BoxAnnotation\"},{\"attributes\":{},\"id\":\"10071\",\"type\":\"LinearScale\"},{\"attributes\":{\"fill_alpha\":{\"value\":0.8},\"fill_color\":{\"value\":\"red\"},\"line_color\":{\"value\":\"white\"}},\"id\":\"10116\",\"type\":\"Circle\"},{\"attributes\":{\"fill_alpha\":{\"value\":0.2},\"fill_color\":{\"value\":\"midnightblue\"},\"hatch_alpha\":{\"value\":0.2},\"line_alpha\":{\"value\":0.2},\"line_color\":{\"value\":\"white\"},\"size\":{\"value\":10},\"x\":{\"field\":\"x\"},\"y\":{\"field\":\"y\"}},\"id\":\"10099\",\"type\":\"Circle\"},{\"attributes\":{\"margin\":[5,5,5,5],\"name\":\"HSpacer00311\",\"sizing_mode\":\"stretch_width\"},\"id\":\"10144\",\"type\":\"Spacer\"},{\"attributes\":{\"client_comm_id\":\"afffcb18811d4686b4dd94100688c3cd\",\"comm_id\":\"42cd0855f930406289f7a594656492a1\",\"plot_id\":\"10120\"},\"id\":\"10178\",\"type\":\"panel.models.comm_manager.CommManager\"},{\"attributes\":{},\"id\":\"10078\",\"type\":\"BasicTicker\"},{\"attributes\":{},\"id\":\"10105\",\"type\":\"AllLabels\"},{\"attributes\":{\"tools\":[{\"id\":\"10081\"},{\"id\":\"10082\"},{\"id\":\"10083\"},{\"id\":\"10084\"},{\"id\":\"10085\"},{\"id\":\"10086\"},{\"id\":\"10114\"},{\"id\":\"10118\"}]},\"id\":\"10088\",\"type\":\"Toolbar\"},{\"attributes\":{},\"id\":\"10082\",\"type\":\"WheelZoomTool\"},{\"attributes\":{\"fill_alpha\":{\"value\":0.25},\"fill_color\":{\"value\":\"midnightblue\"},\"hatch_alpha\":{\"value\":0.25},\"line_alpha\":{\"value\":0.25},\"line_color\":{\"value\":\"white\"},\"size\":{\"value\":10},\"x\":{\"field\":\"x\"},\"y\":{\"field\":\"y\"}},\"id\":\"10096\",\"type\":\"Circle\"},{\"attributes\":{\"data\":{\"x\":{\"__ndarray__\":\"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\",\"dtype\":\"float64\",\"order\":\"little\",\"shape\":[200]},\"y\":{\"__ndarray__\":\"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\",\"dtype\":\"float64\",\"order\":\"little\",\"shape\":[200]}},\"selected\":{\"id\":\"10110\"},\"selection_policy\":{\"id\":\"10109\"}},\"id\":\"10095\",\"type\":\"ColumnDataSource\"},{\"attributes\":{},\"id\":\"10065\",\"type\":\"DataRange1d\"},{\"attributes\":{\"coordinates\":null,\"data_source\":{\"id\":\"10095\"},\"glyph\":{\"id\":\"10096\"},\"group\":null,\"hover_glyph\":{\"id\":\"10098\"},\"muted_glyph\":{\"id\":\"10099\"},\"nonselection_glyph\":{\"id\":\"10117\"},\"selection_glyph\":{\"id\":\"10116\"},\"view\":{\"id\":\"10101\"}},\"id\":\"10100\",\"type\":\"GlyphRenderer\"},{\"attributes\":{\"axis_label\":\"y\",\"axis_label_standoff\":10,\"axis_label_text_color\":\"#FFFFFF\",\"axis_label_text_font\":\"Josefin Sans\",\"axis_label_text_font_size\":\"1.9em\",\"axis_label_text_font_style\":\"bold\",\"axis_line_alpha\":0.4,\"axis_line_color\":\"#E0E0E0\",\"coordinates\":null,\"formatter\":{\"id\":\"10104\"},\"group\":null,\"major_label_policy\":{\"id\":\"10105\"},\"major_label_text_color\":\"#E0E0E0\",\"major_label_text_font\":\"Josefin Sans\",\"major_label_text_font_size\":\"1.15em\",\"major_tick_line_alpha\":0.4,\"major_tick_line_color\":\"#E0E0E0\",\"minor_tick_line_alpha\":0.4,\"minor_tick_line_color\":\"#E0E0E0\",\"ticker\":{\"id\":\"10078\"}},\"id\":\"10077\",\"type\":\"LinearAxis\"},{\"attributes\":{\"axis_label\":\"x\",\"axis_label_standoff\":10,\"axis_label_text_color\":\"#FFFFFF\",\"axis_label_text_font\":\"Josefin Sans\",\"axis_label_text_font_size\":\"1.9em\",\"axis_label_text_font_style\":\"bold\",\"axis_line_alpha\":0.4,\"axis_line_color\":\"#E0E0E0\",\"coordinates\":null,\"formatter\":{\"id\":\"10107\"},\"group\":null,\"major_label_policy\":{\"id\":\"10108\"},\"major_label_text_color\":\"#E0E0E0\",\"major_label_text_font\":\"Josefin Sans\",\"major_label_text_font_size\":\"1.15em\",\"major_tick_line_alpha\":0.4,\"major_tick_line_color\":\"#E0E0E0\",\"minor_tick_line_alpha\":0.4,\"minor_tick_line_color\":\"#E0E0E0\",\"ticker\":{\"id\":\"10074\"}},\"id\":\"10073\",\"type\":\"LinearAxis\"},{\"attributes\":{\"fill_alpha\":{\"value\":0.5},\"fill_color\":{\"value\":\"red\"},\"hatch_alpha\":{\"value\":0.5},\"line_alpha\":{\"value\":0.5},\"line_color\":{\"value\":\"white\"},\"size\":{\"value\":10},\"x\":{\"field\":\"x\"},\"y\":{\"field\":\"y\"}},\"id\":\"10098\",\"type\":\"Circle\"},{\"attributes\":{},\"id\":\"10081\",\"type\":\"PanTool\"},{\"attributes\":{},\"id\":\"10104\",\"type\":\"BasicTickFormatter\"}],\"root_ids\":[\"10120\",\"10178\"]},\"title\":\"Bokeh Application\",\"version\":\"2.4.3\"}};\n",
       "    var render_items = [{\"docid\":\"5b08d5c2-9a2a-44eb-a868-c88286f846f1\",\"root_ids\":[\"10120\"],\"roots\":{\"10120\":\"de4c2e73-1046-4c16-8373-98a1291881c1\"}}];\n",
       "    root.Bokeh.embed.embed_items_notebook(docs_json, render_items);\n",
       "    for (const render_item of render_items) {\n",
       "      for (const root_id of render_item.root_ids) {\n",
       "\tconst id_el = document.getElementById(root_id)\n",
       "\tif (id_el.children.length && (id_el.children[0].className === 'bk-root')) {\n",
       "\t  const root_el = id_el.children[0]\n",
       "\t  root_el.id = root_el.id + '-rendered'\n",
       "\t}\n",
       "      }\n",
       "    }\n",
       "  }\n",
       "  if (root.Bokeh !== undefined && root.Bokeh.Panel !== undefined) {\n",
       "    embed_document(root);\n",
       "  } else {\n",
       "    var attempts = 0;\n",
       "    var timer = setInterval(function(root) {\n",
       "      if (root.Bokeh !== undefined && root.Bokeh.Panel !== undefined) {\n",
       "        clearInterval(timer);\n",
       "        embed_document(root);\n",
       "      } else if (document.readyState == \"complete\") {\n",
       "        attempts++;\n",
       "        if (attempts > 200) {\n",
       "          clearInterval(timer);\n",
       "          console.log(\"Bokeh: ERROR: Unable to run BokehJS code because BokehJS library is missing\");\n",
       "        }\n",
       "      }\n",
       "    }, 25, root)\n",
       "  }\n",
       "})(window);</script>"
      ],
      "text/plain": [
       "Row\n",
       "    [0] HSpacer()\n",
       "    [1] Bokeh(Figure)\n",
       "    [2] HSpacer()"
      ]
     },
     "execution_count": 63,
     "metadata": {
      "application/vnd.holoviews_exec.v0+json": {
       "id": "10120"
      }
     },
     "output_type": "execute_result"
    }
   ],
   "source": [
    "# 1 Visualize training data\n",
    "p = scatter(x_data[:, 0], x_data[:, 1], \"Dataset\")\n",
    "plot = (center_plot(p))\n",
    "plot\n"
   ]
  },
  {
   "cell_type": "code",
   "execution_count": 64,
   "metadata": {
    "tags": []
   },
   "outputs": [
    {
     "name": "stdout",
     "output_type": "stream",
     "text": [
      "Final parameters: [0.65743768 0.37889498 0.23148705]\n"
     ]
    },
    {
     "data": {},
     "metadata": {},
     "output_type": "display_data"
    },
    {
     "data": {
      "application/vnd.holoviews_exec.v0+json": "",
      "text/html": [
       "<div id='10286'>\n",
       "  <div class=\"bk-root\" id=\"5464576e-3328-4712-92ff-115280a6380b\" data-root-id=\"10286\"></div>\n",
       "</div>\n",
       "<script type=\"application/javascript\">(function(root) {\n",
       "  function embed_document(root) {\n",
       "    var docs_json = {\"75418fda-7b36-4c72-b6b3-2c501df41bba\":{\"defs\":[{\"extends\":null,\"module\":null,\"name\":\"ReactiveHTML1\",\"overrides\":[],\"properties\":[]},{\"extends\":null,\"module\":null,\"name\":\"FlexBox1\",\"overrides\":[],\"properties\":[{\"default\":\"flex-start\",\"kind\":null,\"name\":\"align_content\"},{\"default\":\"flex-start\",\"kind\":null,\"name\":\"align_items\"},{\"default\":\"row\",\"kind\":null,\"name\":\"flex_direction\"},{\"default\":\"wrap\",\"kind\":null,\"name\":\"flex_wrap\"},{\"default\":\"flex-start\",\"kind\":null,\"name\":\"justify_content\"}]},{\"extends\":null,\"module\":null,\"name\":\"GridStack1\",\"overrides\":[],\"properties\":[{\"default\":\"warn\",\"kind\":null,\"name\":\"mode\"},{\"default\":null,\"kind\":null,\"name\":\"ncols\"},{\"default\":null,\"kind\":null,\"name\":\"nrows\"},{\"default\":true,\"kind\":null,\"name\":\"allow_resize\"},{\"default\":true,\"kind\":null,\"name\":\"allow_drag\"},{\"default\":[],\"kind\":null,\"name\":\"state\"}]},{\"extends\":null,\"module\":null,\"name\":\"click1\",\"overrides\":[],\"properties\":[{\"default\":\"\",\"kind\":null,\"name\":\"terminal_output\"},{\"default\":\"\",\"kind\":null,\"name\":\"debug_name\"},{\"default\":0,\"kind\":null,\"name\":\"clears\"}]},{\"extends\":null,\"module\":null,\"name\":\"NotificationAreaBase1\",\"overrides\":[],\"properties\":[{\"default\":\"bottom-right\",\"kind\":null,\"name\":\"position\"},{\"default\":0,\"kind\":null,\"name\":\"_clear\"}]},{\"extends\":null,\"module\":null,\"name\":\"NotificationArea1\",\"overrides\":[],\"properties\":[{\"default\":[],\"kind\":null,\"name\":\"notifications\"},{\"default\":\"bottom-right\",\"kind\":null,\"name\":\"position\"},{\"default\":0,\"kind\":null,\"name\":\"_clear\"},{\"default\":[{\"background\":\"#ffc107\",\"icon\":{\"className\":\"fas fa-exclamation-triangle\",\"color\":\"white\",\"tagName\":\"i\"},\"type\":\"warning\"},{\"background\":\"#007bff\",\"icon\":{\"className\":\"fas fa-info-circle\",\"color\":\"white\",\"tagName\":\"i\"},\"type\":\"info\"}],\"kind\":null,\"name\":\"types\"}]},{\"extends\":null,\"module\":null,\"name\":\"Notification\",\"overrides\":[],\"properties\":[{\"default\":null,\"kind\":null,\"name\":\"background\"},{\"default\":3000,\"kind\":null,\"name\":\"duration\"},{\"default\":null,\"kind\":null,\"name\":\"icon\"},{\"default\":\"\",\"kind\":null,\"name\":\"message\"},{\"default\":null,\"kind\":null,\"name\":\"notification_type\"},{\"default\":false,\"kind\":null,\"name\":\"_destroyed\"}]},{\"extends\":null,\"module\":null,\"name\":\"TemplateActions1\",\"overrides\":[],\"properties\":[{\"default\":0,\"kind\":null,\"name\":\"open_modal\"},{\"default\":0,\"kind\":null,\"name\":\"close_modal\"}]},{\"extends\":null,\"module\":null,\"name\":\"MaterialTemplateActions1\",\"overrides\":[],\"properties\":[{\"default\":0,\"kind\":null,\"name\":\"open_modal\"},{\"default\":0,\"kind\":null,\"name\":\"close_modal\"}]}],\"roots\":{\"references\":[{\"attributes\":{\"margin\":[5,5,5,5],\"name\":\"HSpacer00318\",\"sizing_mode\":\"stretch_width\"},\"id\":\"10308\",\"type\":\"Spacer\"},{\"attributes\":{\"children\":[{\"id\":\"10287\"},{\"id\":\"10234\"},{\"id\":\"10308\"}],\"margin\":[0,0,0,0],\"name\":\"Row00321\"},\"id\":\"10286\",\"type\":\"Row\"},{\"attributes\":{\"coordinates\":null,\"group\":null,\"text\":\"Linear classification\",\"text_color\":\"#E0E0E0\",\"text_font\":\"Josefin Sans\",\"text_font_size\":\"2.1em\"},\"id\":\"10235\",\"type\":\"Title\"},{\"attributes\":{\"axis\":{\"id\":\"10249\"},\"coordinates\":null,\"dimension\":1,\"grid_line_alpha\":0.15,\"grid_line_color\":\"#E0E0E0\",\"group\":null,\"ticker\":null},\"id\":\"10252\",\"type\":\"Grid\"},{\"attributes\":{},\"id\":\"10250\",\"type\":\"BasicTicker\"},{\"attributes\":{},\"id\":\"10237\",\"type\":\"DataRange1d\"},{\"attributes\":{\"background_fill_alpha\":0.9,\"background_fill_color\":\"#0f0f0f\",\"below\":[{\"id\":\"10245\"}],\"border_fill_alpha\":0.8,\"border_fill_color\":\"#111111\",\"center\":[{\"id\":\"10248\"},{\"id\":\"10252\"},{\"id\":\"10284\"}],\"height\":450,\"left\":[{\"id\":\"10249\"}],\"outline_line_alpha\":0.25,\"outline_line_color\":\"#E0E0E0\",\"outline_line_width\":3,\"renderers\":[{\"id\":\"10272\"}],\"right\":[{\"id\":\"10284\"}],\"title\":{\"id\":\"10235\"},\"toolbar\":{\"id\":\"10260\"},\"width\":700,\"x_range\":{\"id\":\"10237\"},\"x_scale\":{\"id\":\"10241\"},\"y_range\":{\"id\":\"10239\"},\"y_scale\":{\"id\":\"10243\"}},\"id\":\"10234\",\"subtype\":\"Figure\",\"type\":\"Plot\"},{\"attributes\":{},\"id\":\"10282\",\"type\":\"Selection\"},{\"attributes\":{},\"id\":\"10281\",\"type\":\"UnionRenderers\"},{\"attributes\":{},\"id\":\"10246\",\"type\":\"BasicTicker\"},{\"attributes\":{},\"id\":\"10279\",\"type\":\"BasicTickFormatter\"},{\"attributes\":{\"fill_alpha\":{\"value\":0.6},\"fill_color\":{\"field\":\"color\"},\"hatch_alpha\":{\"value\":0.6},\"hatch_color\":{\"field\":\"color\"},\"line_alpha\":{\"value\":0.6},\"line_color\":{\"value\":\"white\"},\"size\":{\"value\":10},\"x\":{\"field\":\"x\"},\"y\":{\"field\":\"y\"}},\"id\":\"10269\",\"type\":\"Circle\"},{\"attributes\":{},\"id\":\"10276\",\"type\":\"BasicTickFormatter\"},{\"attributes\":{},\"id\":\"10277\",\"type\":\"AllLabels\"},{\"attributes\":{\"label\":{\"field\":\"label\"},\"renderers\":[{\"id\":\"10272\"}]},\"id\":\"10285\",\"type\":\"LegendItem\"},{\"attributes\":{},\"id\":\"10239\",\"type\":\"DataRange1d\"},{\"attributes\":{\"tools\":[{\"id\":\"10253\"},{\"id\":\"10254\"},{\"id\":\"10255\"},{\"id\":\"10256\"},{\"id\":\"10257\"},{\"id\":\"10258\"}]},\"id\":\"10260\",\"type\":\"Toolbar\"},{\"attributes\":{\"fill_alpha\":{\"value\":0.2},\"fill_color\":{\"field\":\"color\"},\"hatch_alpha\":{\"value\":0.2},\"hatch_color\":{\"field\":\"color\"},\"line_alpha\":{\"value\":0.2},\"line_color\":{\"value\":\"white\"},\"size\":{\"value\":10},\"x\":{\"field\":\"x\"},\"y\":{\"field\":\"y\"}},\"id\":\"10271\",\"type\":\"Circle\"},{\"attributes\":{},\"id\":\"10280\",\"type\":\"AllLabels\"},{\"attributes\":{\"bottom_units\":\"screen\",\"coordinates\":null,\"fill_alpha\":0.5,\"fill_color\":\"lightgrey\",\"group\":null,\"left_units\":\"screen\",\"level\":\"overlay\",\"line_alpha\":1.0,\"line_color\":\"black\",\"line_dash\":[4,4],\"line_width\":2,\"right_units\":\"screen\",\"syncable\":false,\"top_units\":\"screen\"},\"id\":\"10259\",\"type\":\"BoxAnnotation\"},{\"attributes\":{\"background_fill_alpha\":0.2,\"background_fill_color\":\"darkgrey\",\"border_line_alpha\":0.8,\"border_line_color\":\"grey\",\"border_line_width\":3,\"coordinates\":null,\"group\":null,\"items\":[{\"id\":\"10285\"}],\"label_text_color\":\"white\"},\"id\":\"10284\",\"type\":\"Legend\"},{\"attributes\":{\"data\":{\"color\":[\"midnightblue\",\"firebrick\",\"midnightblue\",\"midnightblue\",\"firebrick\",\"midnightblue\",\"midnightblue\",\"midnightblue\",\"firebrick\",\"midnightblue\",\"firebrick\",\"midnightblue\",\"firebrick\",\"firebrick\",\"firebrick\",\"midnightblue\",\"firebrick\",\"firebrick\",\"midnightblue\",\"firebrick\",\"firebrick\",\"midnightblue\",\"midnightblue\",\"midnightblue\",\"firebrick\",\"firebrick\",\"midnightblue\",\"midnightblue\",\"firebrick\",\"midnightblue\",\"midnightblue\",\"midnightblue\",\"firebrick\",\"midnightblue\",\"midnightblue\",\"firebrick\",\"firebrick\",\"midnightblue\",\"midnightblue\",\"midnightblue\",\"midnightblue\",\"firebrick\",\"midnightblue\",\"firebrick\",\"firebrick\",\"firebrick\",\"firebrick\",\"midnightblue\",\"midnightblue\",\"midnightblue\",\"midnightblue\",\"midnightblue\",\"midnightblue\",\"midnightblue\",\"firebrick\",\"firebrick\",\"midnightblue\",\"firebrick\",\"midnightblue\",\"firebrick\",\"firebrick\",\"midnightblue\",\"midnightblue\",\"firebrick\",\"firebrick\",\"firebrick\",\"firebrick\",\"firebrick\",\"midnightblue\",\"firebrick\",\"midnightblue\",\"midnightblue\",\"firebrick\",\"firebrick\",\"firebrick\",\"midnightblue\",\"midnightblue\",\"firebrick\",\"midnightblue\",\"firebrick\",\"midnightblue\",\"midnightblue\",\"midnightblue\",\"midnightblue\",\"firebrick\",\"firebrick\",\"midnightblue\",\"midnightblue\",\"firebrick\",\"midnightblue\",\"firebrick\",\"midnightblue\",\"firebrick\",\"midnightblue\",\"midnightblue\",\"firebrick\",\"firebrick\",\"midnightblue\",\"midnightblue\",\"midnightblue\",\"midnightblue\",\"midnightblue\",\"midnightblue\",\"firebrick\",\"firebrick\",\"firebrick\",\"midnightblue\",\"firebrick\",\"firebrick\",\"firebrick\",\"midnightblue\",\"midnightblue\",\"firebrick\",\"midnightblue\",\"midnightblue\",\"firebrick\",\"firebrick\",\"midnightblue\",\"midnightblue\",\"firebrick\",\"firebrick\",\"midnightblue\",\"midnightblue\",\"firebrick\",\"midnightblue\",\"firebrick\",\"firebrick\",\"midnightblue\",\"midnightblue\",\"midnightblue\",\"midnightblue\",\"midnightblue\",\"firebrick\",\"midnightblue\",\"firebrick\",\"firebrick\",\"firebrick\",\"midnightblue\",\"midnightblue\",\"firebrick\",\"midnightblue\",\"firebrick\",\"firebrick\",\"firebrick\",\"firebrick\",\"firebrick\",\"firebrick\",\"midnightblue\",\"firebrick\",\"firebrick\",\"midnightblue\",\"midnightblue\",\"firebrick\",\"midnightblue\",\"midnightblue\",\"midnightblue\",\"firebrick\",\"firebrick\",\"firebrick\",\"midnightblue\",\"midnightblue\",\"firebrick\",\"midnightblue\",\"firebrick\",\"firebrick\",\"midnightblue\",\"midnightblue\",\"firebrick\",\"firebrick\",\"midnightblue\",\"firebrick\",\"midnightblue\",\"midnightblue\",\"firebrick\",\"midnightblue\",\"firebrick\",\"firebrick\",\"midnightblue\",\"midnightblue\",\"midnightblue\",\"firebrick\",\"firebrick\",\"firebrick\",\"firebrick\",\"firebrick\",\"firebrick\",\"midnightblue\",\"firebrick\",\"firebrick\",\"midnightblue\",\"firebrick\",\"firebrick\",\"firebrick\",\"midnightblue\",\"firebrick\",\"midnightblue\",\"firebrick\",\"firebrick\",\"midnightblue\",\"firebrick\"],\"label\":[\"class 1\",\"class 2\",\"class 1\",\"class 1\",\"class 2\",\"class 1\",\"class 1\",\"class 1\",\"class 2\",\"class 1\",\"class 2\",\"class 1\",\"class 2\",\"class 2\",\"class 2\",\"class 1\",\"class 2\",\"class 2\",\"class 1\",\"class 2\",\"class 2\",\"class 1\",\"class 1\",\"class 1\",\"class 2\",\"class 2\",\"class 1\",\"class 1\",\"class 2\",\"class 1\",\"class 1\",\"class 1\",\"class 2\",\"class 1\",\"class 1\",\"class 2\",\"class 2\",\"class 1\",\"class 1\",\"class 1\",\"class 1\",\"class 2\",\"class 1\",\"class 2\",\"class 2\",\"class 2\",\"class 2\",\"class 1\",\"class 1\",\"class 1\",\"class 1\",\"class 1\",\"class 1\",\"class 1\",\"class 2\",\"class 2\",\"class 1\",\"class 2\",\"class 1\",\"class 2\",\"class 2\",\"class 1\",\"class 1\",\"class 2\",\"class 2\",\"class 2\",\"class 2\",\"class 2\",\"class 1\",\"class 2\",\"class 1\",\"class 1\",\"class 2\",\"class 2\",\"class 2\",\"class 1\",\"class 1\",\"class 2\",\"class 1\",\"class 2\",\"class 1\",\"class 1\",\"class 1\",\"class 1\",\"class 2\",\"class 2\",\"class 1\",\"class 1\",\"class 2\",\"class 1\",\"class 2\",\"class 1\",\"class 2\",\"class 1\",\"class 1\",\"class 2\",\"class 2\",\"class 1\",\"class 1\",\"class 1\",\"class 1\",\"class 1\",\"class 1\",\"class 2\",\"class 2\",\"class 2\",\"class 1\",\"class 2\",\"class 2\",\"class 2\",\"class 1\",\"class 1\",\"class 2\",\"class 1\",\"class 1\",\"class 2\",\"class 2\",\"class 1\",\"class 1\",\"class 2\",\"class 2\",\"class 1\",\"class 1\",\"class 2\",\"class 1\",\"class 2\",\"class 2\",\"class 1\",\"class 1\",\"class 1\",\"class 1\",\"class 1\",\"class 2\",\"class 1\",\"class 2\",\"class 2\",\"class 2\",\"class 1\",\"class 1\",\"class 2\",\"class 1\",\"class 2\",\"class 2\",\"class 2\",\"class 2\",\"class 2\",\"class 2\",\"class 1\",\"class 2\",\"class 2\",\"class 1\",\"class 1\",\"class 2\",\"class 1\",\"class 1\",\"class 1\",\"class 2\",\"class 2\",\"class 2\",\"class 1\",\"class 1\",\"class 2\",\"class 1\",\"class 2\",\"class 2\",\"class 1\",\"class 1\",\"class 2\",\"class 2\",\"class 1\",\"class 2\",\"class 1\",\"class 1\",\"class 2\",\"class 1\",\"class 2\",\"class 2\",\"class 1\",\"class 1\",\"class 1\",\"class 2\",\"class 2\",\"class 2\",\"class 2\",\"class 2\",\"class 2\",\"class 1\",\"class 2\",\"class 2\",\"class 1\",\"class 2\",\"class 2\",\"class 2\",\"class 1\",\"class 2\",\"class 1\",\"class 2\",\"class 2\",\"class 1\",\"class 2\"],\"x\":{\"__ndarray__\":\"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\",\"dtype\":\"float64\",\"order\":\"little\",\"shape\":[200]},\"y\":{\"__ndarray__\":\"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\",\"dtype\":\"float64\",\"order\":\"little\",\"shape\":[200]}},\"selected\":{\"id\":\"10282\"},\"selection_policy\":{\"id\":\"10281\"}},\"id\":\"10267\",\"type\":\"ColumnDataSource\"},{\"attributes\":{\"coordinates\":null,\"data_source\":{\"id\":\"10267\"},\"glyph\":{\"id\":\"10269\"},\"group\":null,\"hover_glyph\":null,\"muted_glyph\":{\"id\":\"10271\"},\"nonselection_glyph\":{\"id\":\"10270\"},\"view\":{\"id\":\"10273\"}},\"id\":\"10272\",\"type\":\"GlyphRenderer\"},{\"attributes\":{\"axis_label\":\"y\",\"axis_label_standoff\":10,\"axis_label_text_color\":\"#FFFFFF\",\"axis_label_text_font\":\"Josefin Sans\",\"axis_label_text_font_size\":\"1.9em\",\"axis_label_text_font_style\":\"bold\",\"axis_line_alpha\":0.4,\"axis_line_color\":\"#E0E0E0\",\"coordinates\":null,\"formatter\":{\"id\":\"10276\"},\"group\":null,\"major_label_policy\":{\"id\":\"10277\"},\"major_label_text_color\":\"#E0E0E0\",\"major_label_text_font\":\"Josefin Sans\",\"major_label_text_font_size\":\"1.15em\",\"major_tick_line_alpha\":0.4,\"major_tick_line_color\":\"#E0E0E0\",\"minor_tick_line_alpha\":0.4,\"minor_tick_line_color\":\"#E0E0E0\",\"ticker\":{\"id\":\"10250\"}},\"id\":\"10249\",\"type\":\"LinearAxis\"},{\"attributes\":{\"source\":{\"id\":\"10267\"}},\"id\":\"10273\",\"type\":\"CDSView\"},{\"attributes\":{},\"id\":\"10243\",\"type\":\"LinearScale\"},{\"attributes\":{\"axis\":{\"id\":\"10245\"},\"coordinates\":null,\"grid_line_alpha\":0.15,\"grid_line_color\":\"#E0E0E0\",\"group\":null,\"ticker\":null},\"id\":\"10248\",\"type\":\"Grid\"},{\"attributes\":{},\"id\":\"10257\",\"type\":\"ResetTool\"},{\"attributes\":{\"fill_alpha\":{\"value\":0.1},\"fill_color\":{\"field\":\"color\"},\"hatch_alpha\":{\"value\":0.1},\"hatch_color\":{\"field\":\"color\"},\"line_alpha\":{\"value\":0.1},\"line_color\":{\"value\":\"white\"},\"size\":{\"value\":10},\"x\":{\"field\":\"x\"},\"y\":{\"field\":\"y\"}},\"id\":\"10270\",\"type\":\"Circle\"},{\"attributes\":{},\"id\":\"10241\",\"type\":\"LinearScale\"},{\"attributes\":{},\"id\":\"10256\",\"type\":\"SaveTool\"},{\"attributes\":{\"axis_label\":\"x\",\"axis_label_standoff\":10,\"axis_label_text_color\":\"#FFFFFF\",\"axis_label_text_font\":\"Josefin Sans\",\"axis_label_text_font_size\":\"1.9em\",\"axis_label_text_font_style\":\"bold\",\"axis_line_alpha\":0.4,\"axis_line_color\":\"#E0E0E0\",\"coordinates\":null,\"formatter\":{\"id\":\"10279\"},\"group\":null,\"major_label_policy\":{\"id\":\"10280\"},\"major_label_text_color\":\"#E0E0E0\",\"major_label_text_font\":\"Josefin Sans\",\"major_label_text_font_size\":\"1.15em\",\"major_tick_line_alpha\":0.4,\"major_tick_line_color\":\"#E0E0E0\",\"minor_tick_line_alpha\":0.4,\"minor_tick_line_color\":\"#E0E0E0\",\"ticker\":{\"id\":\"10246\"}},\"id\":\"10245\",\"type\":\"LinearAxis\"},{\"attributes\":{\"overlay\":{\"id\":\"10259\"}},\"id\":\"10255\",\"type\":\"BoxZoomTool\"},{\"attributes\":{\"client_comm_id\":\"4aa362044aab4aecb009f77043a566df\",\"comm_id\":\"8887646ca63e4397a0df9bbaa98181c4\",\"plot_id\":\"10286\"},\"id\":\"10339\",\"type\":\"panel.models.comm_manager.CommManager\"},{\"attributes\":{},\"id\":\"10258\",\"type\":\"HelpTool\"},{\"attributes\":{},\"id\":\"10253\",\"type\":\"PanTool\"},{\"attributes\":{},\"id\":\"10254\",\"type\":\"WheelZoomTool\"},{\"attributes\":{\"margin\":[5,5,5,5],\"name\":\"HSpacer00317\",\"sizing_mode\":\"stretch_width\"},\"id\":\"10287\",\"type\":\"Spacer\"}],\"root_ids\":[\"10286\",\"10339\"]},\"title\":\"Bokeh Application\",\"version\":\"2.4.3\"}};\n",
       "    var render_items = [{\"docid\":\"75418fda-7b36-4c72-b6b3-2c501df41bba\",\"root_ids\":[\"10286\"],\"roots\":{\"10286\":\"5464576e-3328-4712-92ff-115280a6380b\"}}];\n",
       "    root.Bokeh.embed.embed_items_notebook(docs_json, render_items);\n",
       "    for (const render_item of render_items) {\n",
       "      for (const root_id of render_item.root_ids) {\n",
       "\tconst id_el = document.getElementById(root_id)\n",
       "\tif (id_el.children.length && (id_el.children[0].className === 'bk-root')) {\n",
       "\t  const root_el = id_el.children[0]\n",
       "\t  root_el.id = root_el.id + '-rendered'\n",
       "\t}\n",
       "      }\n",
       "    }\n",
       "  }\n",
       "  if (root.Bokeh !== undefined && root.Bokeh.Panel !== undefined) {\n",
       "    embed_document(root);\n",
       "  } else {\n",
       "    var attempts = 0;\n",
       "    var timer = setInterval(function(root) {\n",
       "      if (root.Bokeh !== undefined && root.Bokeh.Panel !== undefined) {\n",
       "        clearInterval(timer);\n",
       "        embed_document(root);\n",
       "      } else if (document.readyState == \"complete\") {\n",
       "        attempts++;\n",
       "        if (attempts > 200) {\n",
       "          clearInterval(timer);\n",
       "          console.log(\"Bokeh: ERROR: Unable to run BokehJS code because BokehJS library is missing\");\n",
       "        }\n",
       "      }\n",
       "    }, 25, root)\n",
       "  }\n",
       "})(window);</script>"
      ],
      "text/plain": [
       "Row\n",
       "    [0] HSpacer()\n",
       "    [1] Bokeh(Figure)\n",
       "    [2] HSpacer()"
      ]
     },
     "execution_count": 64,
     "metadata": {
      "application/vnd.holoviews_exec.v0+json": {
       "id": "10286"
      }
     },
     "output_type": "execute_result"
    }
   ],
   "source": [
    "from cml.plot import scatter_classes\n",
    "\n",
    "def model(x,w):\n",
    "    return np.dot(x,w)\n",
    "\n",
    "def hinge_loss(y, dot):\n",
    "    right = 1 - y*dot\n",
    "    left = np.zeros((n_observations,2))\n",
    "    left[:,1] = right\n",
    "    \n",
    "    return np.amax(left,axis=1)\n",
    "\n",
    "def part_diff(x, y, w, dot):\n",
    "    \n",
    "    #for each point: if () < 1, delta = (y * x0, y * x1), ( 0, 0) otherwise\n",
    "    #sum/mean of delta over all points\n",
    "    deltas = np.zeros((n_observations, n_features))\n",
    "    cond = (y*dot < 1)\n",
    "    grad = -y[:, np.newaxis]*x_data\n",
    "    deltas[cond] = grad[cond] \n",
    "    return deltas\n",
    "\n",
    "n_features = 2\n",
    "n_iter = 1000\n",
    "l_r = 0.001\n",
    "        \n",
    "# 2 Initialize weights and bias\n",
    "np.random.seed(35)\n",
    "weights = np.random.rand(n_features)\n",
    "bias = np.random.rand(1)\n",
    "w = np.concatenate((weights, bias))\n",
    "x = np.hstack((x_data, np.ones((n_observations,1))))\n",
    "       \n",
    "for _ in range(n_iter):\n",
    "    \n",
    "# 3 Forward Pass\n",
    "    f_x = model(x,w)\n",
    "    \n",
    "# 4 Compute error (hinge loss function)\n",
    "    mean_loss = np.sum(hinge_loss(y_classes,f_x))/n_observations\n",
    "    #print(mean_loss)\n",
    "\n",
    "# 5 Compute gradient in w = [w0, w1]\n",
    "    gradients = part_diff(x_data, y_classes, w, f_x)\n",
    "\n",
    "# 6 Update parameters\n",
    "    avg_gradient = np.sum(gradients, axis=0)/n_observations\n",
    "    w[0:2] -= l_r*avg_gradient\n",
    "\n",
    "# final score\n",
    "classific = model(x,w)\n",
    "print(f\"Final parameters: {w}\")\n",
    "out_class = np.empty(n_observations)\n",
    "out_class[model(x,w) >= 0] = 0\n",
    "out_class[model(x,w) < 0] = 1\n",
    "\n",
    "\n",
    "# visualize classification\n",
    "\n",
    "p = scatter_classes(x, out_class, title=\"Linear classification\")\n",
    "plot = (center_plot(p))\n",
    "plot"
   ]
  },
  {
   "cell_type": "markdown",
   "metadata": {},
   "source": [
    "<div class=\"alert alert-success\" markdown=\"1\" style=\"color:white; background-color: #192841; border-color: #779ecb\">\n",
    "\n",
    "> ### Going further (optional)\n",
    "> Try to replace the Hinge loss by the cross-entropy loss in your implementation\n",
    "\n",
    "</div>"
   ]
  },
  {
   "cell_type": "code",
   "execution_count": null,
   "metadata": {},
   "outputs": [],
   "source": []
  },
  {
   "cell_type": "markdown",
   "metadata": {},
   "source": [
    "<div class=\"alert alert-success\" markdown=\"1\" style=\"color:white; background-color: #013220; border-color: #03C03C\">\n",
    "\n",
    "> ### Question 1.2 - Implement linear classification with JAX\n",
    "\n",
    "> 1. Initialize weights and bias.\n",
    "> 2. Define the loss function using the jax.nn.softmax_cross_entropy_with_logits function.\n",
    "> 3. Implement gradient descent to optimize the weights and bias.\n",
    "\n",
    "</div>"
   ]
  },
  {
   "cell_type": "code",
   "execution_count": 118,
   "metadata": {
    "tags": []
   },
   "outputs": [
    {
     "name": "stdout",
     "output_type": "stream",
     "text": [
      "Final parameters: [[-0.34120363]\n",
      " [ 2.4271145 ]]\n"
     ]
    },
    {
     "data": {},
     "metadata": {},
     "output_type": "display_data"
    },
    {
     "data": {
      "application/vnd.holoviews_exec.v0+json": "",
      "text/html": [
       "<div id='11378'>\n",
       "  <div class=\"bk-root\" id=\"acde2b02-947f-4af9-998c-f0ae7ff63b0e\" data-root-id=\"11378\"></div>\n",
       "</div>\n",
       "<script type=\"application/javascript\">(function(root) {\n",
       "  function embed_document(root) {\n",
       "    var docs_json = {\"1341befd-a0b3-4579-bc5e-4a7ff9790b77\":{\"defs\":[{\"extends\":null,\"module\":null,\"name\":\"ReactiveHTML1\",\"overrides\":[],\"properties\":[]},{\"extends\":null,\"module\":null,\"name\":\"FlexBox1\",\"overrides\":[],\"properties\":[{\"default\":\"flex-start\",\"kind\":null,\"name\":\"align_content\"},{\"default\":\"flex-start\",\"kind\":null,\"name\":\"align_items\"},{\"default\":\"row\",\"kind\":null,\"name\":\"flex_direction\"},{\"default\":\"wrap\",\"kind\":null,\"name\":\"flex_wrap\"},{\"default\":\"flex-start\",\"kind\":null,\"name\":\"justify_content\"}]},{\"extends\":null,\"module\":null,\"name\":\"GridStack1\",\"overrides\":[],\"properties\":[{\"default\":\"warn\",\"kind\":null,\"name\":\"mode\"},{\"default\":null,\"kind\":null,\"name\":\"ncols\"},{\"default\":null,\"kind\":null,\"name\":\"nrows\"},{\"default\":true,\"kind\":null,\"name\":\"allow_resize\"},{\"default\":true,\"kind\":null,\"name\":\"allow_drag\"},{\"default\":[],\"kind\":null,\"name\":\"state\"}]},{\"extends\":null,\"module\":null,\"name\":\"click1\",\"overrides\":[],\"properties\":[{\"default\":\"\",\"kind\":null,\"name\":\"terminal_output\"},{\"default\":\"\",\"kind\":null,\"name\":\"debug_name\"},{\"default\":0,\"kind\":null,\"name\":\"clears\"}]},{\"extends\":null,\"module\":null,\"name\":\"NotificationAreaBase1\",\"overrides\":[],\"properties\":[{\"default\":\"bottom-right\",\"kind\":null,\"name\":\"position\"},{\"default\":0,\"kind\":null,\"name\":\"_clear\"}]},{\"extends\":null,\"module\":null,\"name\":\"NotificationArea1\",\"overrides\":[],\"properties\":[{\"default\":[],\"kind\":null,\"name\":\"notifications\"},{\"default\":\"bottom-right\",\"kind\":null,\"name\":\"position\"},{\"default\":0,\"kind\":null,\"name\":\"_clear\"},{\"default\":[{\"background\":\"#ffc107\",\"icon\":{\"className\":\"fas fa-exclamation-triangle\",\"color\":\"white\",\"tagName\":\"i\"},\"type\":\"warning\"},{\"background\":\"#007bff\",\"icon\":{\"className\":\"fas fa-info-circle\",\"color\":\"white\",\"tagName\":\"i\"},\"type\":\"info\"}],\"kind\":null,\"name\":\"types\"}]},{\"extends\":null,\"module\":null,\"name\":\"Notification\",\"overrides\":[],\"properties\":[{\"default\":null,\"kind\":null,\"name\":\"background\"},{\"default\":3000,\"kind\":null,\"name\":\"duration\"},{\"default\":null,\"kind\":null,\"name\":\"icon\"},{\"default\":\"\",\"kind\":null,\"name\":\"message\"},{\"default\":null,\"kind\":null,\"name\":\"notification_type\"},{\"default\":false,\"kind\":null,\"name\":\"_destroyed\"}]},{\"extends\":null,\"module\":null,\"name\":\"TemplateActions1\",\"overrides\":[],\"properties\":[{\"default\":0,\"kind\":null,\"name\":\"open_modal\"},{\"default\":0,\"kind\":null,\"name\":\"close_modal\"}]},{\"extends\":null,\"module\":null,\"name\":\"MaterialTemplateActions1\",\"overrides\":[],\"properties\":[{\"default\":0,\"kind\":null,\"name\":\"open_modal\"},{\"default\":0,\"kind\":null,\"name\":\"close_modal\"}]}],\"roots\":{\"references\":[{\"attributes\":{},\"id\":\"11342\",\"type\":\"BasicTicker\"},{\"attributes\":{\"source\":{\"id\":\"11359\"}},\"id\":\"11365\",\"type\":\"CDSView\"},{\"attributes\":{\"tools\":[{\"id\":\"11345\"},{\"id\":\"11346\"},{\"id\":\"11347\"},{\"id\":\"11348\"},{\"id\":\"11349\"},{\"id\":\"11350\"}]},\"id\":\"11352\",\"type\":\"Toolbar\"},{\"attributes\":{},\"id\":\"11369\",\"type\":\"AllLabels\"},{\"attributes\":{\"client_comm_id\":\"534246dbd74647a39703e0cf6ca709dc\",\"comm_id\":\"04854ba5849348cf8b14833289477c5c\",\"plot_id\":\"11378\"},\"id\":\"11431\",\"type\":\"panel.models.comm_manager.CommManager\"},{\"attributes\":{},\"id\":\"11333\",\"type\":\"LinearScale\"},{\"attributes\":{\"fill_alpha\":{\"value\":0.2},\"fill_color\":{\"field\":\"color\"},\"hatch_alpha\":{\"value\":0.2},\"hatch_color\":{\"field\":\"color\"},\"line_alpha\":{\"value\":0.2},\"line_color\":{\"value\":\"white\"},\"size\":{\"value\":10},\"x\":{\"field\":\"x\"},\"y\":{\"field\":\"y\"}},\"id\":\"11363\",\"type\":\"Circle\"},{\"attributes\":{\"margin\":[5,5,5,5],\"name\":\"HSpacer00366\",\"sizing_mode\":\"stretch_width\"},\"id\":\"11379\",\"type\":\"Spacer\"},{\"attributes\":{\"coordinates\":null,\"data_source\":{\"id\":\"11359\"},\"glyph\":{\"id\":\"11361\"},\"group\":null,\"hover_glyph\":null,\"muted_glyph\":{\"id\":\"11363\"},\"nonselection_glyph\":{\"id\":\"11362\"},\"view\":{\"id\":\"11365\"}},\"id\":\"11364\",\"type\":\"GlyphRenderer\"},{\"attributes\":{\"fill_alpha\":{\"value\":0.1},\"fill_color\":{\"field\":\"color\"},\"hatch_alpha\":{\"value\":0.1},\"hatch_color\":{\"field\":\"color\"},\"line_alpha\":{\"value\":0.1},\"line_color\":{\"value\":\"white\"},\"size\":{\"value\":10},\"x\":{\"field\":\"x\"},\"y\":{\"field\":\"y\"}},\"id\":\"11362\",\"type\":\"Circle\"},{\"attributes\":{},\"id\":\"11371\",\"type\":\"BasicTickFormatter\"},{\"attributes\":{\"margin\":[5,5,5,5],\"name\":\"HSpacer00367\",\"sizing_mode\":\"stretch_width\"},\"id\":\"11400\",\"type\":\"Spacer\"},{\"attributes\":{\"data\":{\"color\":[\"midnightblue\",\"midnightblue\",\"firebrick\",\"firebrick\",\"firebrick\",\"firebrick\",\"midnightblue\",\"midnightblue\",\"firebrick\",\"firebrick\",\"firebrick\",\"midnightblue\",\"firebrick\",\"firebrick\",\"firebrick\",\"midnightblue\",\"firebrick\",\"firebrick\",\"midnightblue\",\"firebrick\",\"firebrick\",\"midnightblue\",\"firebrick\",\"midnightblue\",\"firebrick\",\"firebrick\",\"firebrick\",\"midnightblue\",\"midnightblue\",\"midnightblue\",\"midnightblue\",\"midnightblue\",\"firebrick\",\"midnightblue\",\"midnightblue\",\"firebrick\",\"firebrick\",\"midnightblue\",\"midnightblue\",\"midnightblue\",\"firebrick\",\"firebrick\",\"midnightblue\",\"firebrick\",\"firebrick\",\"firebrick\",\"firebrick\",\"midnightblue\",\"firebrick\",\"firebrick\",\"firebrick\",\"midnightblue\",\"midnightblue\",\"midnightblue\",\"firebrick\",\"firebrick\",\"midnightblue\",\"firebrick\",\"midnightblue\",\"firebrick\",\"firebrick\",\"firebrick\",\"midnightblue\",\"firebrick\",\"firebrick\",\"firebrick\",\"firebrick\",\"firebrick\",\"midnightblue\",\"firebrick\",\"firebrick\",\"midnightblue\",\"firebrick\",\"midnightblue\",\"firebrick\",\"firebrick\",\"midnightblue\",\"firebrick\",\"midnightblue\",\"firebrick\",\"midnightblue\",\"midnightblue\",\"firebrick\",\"midnightblue\",\"firebrick\",\"midnightblue\",\"midnightblue\",\"midnightblue\",\"firebrick\",\"firebrick\",\"firebrick\",\"midnightblue\",\"firebrick\",\"midnightblue\",\"firebrick\",\"firebrick\",\"firebrick\",\"midnightblue\",\"firebrick\",\"firebrick\",\"midnightblue\",\"firebrick\",\"firebrick\",\"firebrick\",\"firebrick\",\"firebrick\",\"firebrick\",\"firebrick\",\"firebrick\",\"firebrick\",\"midnightblue\",\"firebrick\",\"firebrick\",\"midnightblue\",\"midnightblue\",\"firebrick\",\"firebrick\",\"firebrick\",\"midnightblue\",\"firebrick\",\"firebrick\",\"midnightblue\",\"midnightblue\",\"firebrick\",\"midnightblue\",\"firebrick\",\"firebrick\",\"firebrick\",\"midnightblue\",\"midnightblue\",\"midnightblue\",\"midnightblue\",\"firebrick\",\"firebrick\",\"firebrick\",\"firebrick\",\"firebrick\",\"midnightblue\",\"midnightblue\",\"firebrick\",\"midnightblue\",\"firebrick\",\"firebrick\",\"firebrick\",\"firebrick\",\"firebrick\",\"firebrick\",\"firebrick\",\"firebrick\",\"firebrick\",\"midnightblue\",\"firebrick\",\"firebrick\",\"midnightblue\",\"midnightblue\",\"firebrick\",\"firebrick\",\"firebrick\",\"firebrick\",\"midnightblue\",\"midnightblue\",\"firebrick\",\"midnightblue\",\"firebrick\",\"firebrick\",\"firebrick\",\"midnightblue\",\"firebrick\",\"firebrick\",\"firebrick\",\"firebrick\",\"midnightblue\",\"midnightblue\",\"firebrick\",\"midnightblue\",\"firebrick\",\"firebrick\",\"midnightblue\",\"midnightblue\",\"midnightblue\",\"firebrick\",\"firebrick\",\"firebrick\",\"firebrick\",\"firebrick\",\"firebrick\",\"midnightblue\",\"firebrick\",\"firebrick\",\"midnightblue\",\"firebrick\",\"firebrick\",\"firebrick\",\"midnightblue\",\"firebrick\",\"midnightblue\",\"firebrick\",\"firebrick\",\"midnightblue\",\"firebrick\"],\"label\":[\"class 1\",\"class 1\",\"class 2\",\"class 2\",\"class 2\",\"class 2\",\"class 1\",\"class 1\",\"class 2\",\"class 2\",\"class 2\",\"class 1\",\"class 2\",\"class 2\",\"class 2\",\"class 1\",\"class 2\",\"class 2\",\"class 1\",\"class 2\",\"class 2\",\"class 1\",\"class 2\",\"class 1\",\"class 2\",\"class 2\",\"class 2\",\"class 1\",\"class 1\",\"class 1\",\"class 1\",\"class 1\",\"class 2\",\"class 1\",\"class 1\",\"class 2\",\"class 2\",\"class 1\",\"class 1\",\"class 1\",\"class 2\",\"class 2\",\"class 1\",\"class 2\",\"class 2\",\"class 2\",\"class 2\",\"class 1\",\"class 2\",\"class 2\",\"class 2\",\"class 1\",\"class 1\",\"class 1\",\"class 2\",\"class 2\",\"class 1\",\"class 2\",\"class 1\",\"class 2\",\"class 2\",\"class 2\",\"class 1\",\"class 2\",\"class 2\",\"class 2\",\"class 2\",\"class 2\",\"class 1\",\"class 2\",\"class 2\",\"class 1\",\"class 2\",\"class 1\",\"class 2\",\"class 2\",\"class 1\",\"class 2\",\"class 1\",\"class 2\",\"class 1\",\"class 1\",\"class 2\",\"class 1\",\"class 2\",\"class 1\",\"class 1\",\"class 1\",\"class 2\",\"class 2\",\"class 2\",\"class 1\",\"class 2\",\"class 1\",\"class 2\",\"class 2\",\"class 2\",\"class 1\",\"class 2\",\"class 2\",\"class 1\",\"class 2\",\"class 2\",\"class 2\",\"class 2\",\"class 2\",\"class 2\",\"class 2\",\"class 2\",\"class 2\",\"class 1\",\"class 2\",\"class 2\",\"class 1\",\"class 1\",\"class 2\",\"class 2\",\"class 2\",\"class 1\",\"class 2\",\"class 2\",\"class 1\",\"class 1\",\"class 2\",\"class 1\",\"class 2\",\"class 2\",\"class 2\",\"class 1\",\"class 1\",\"class 1\",\"class 1\",\"class 2\",\"class 2\",\"class 2\",\"class 2\",\"class 2\",\"class 1\",\"class 1\",\"class 2\",\"class 1\",\"class 2\",\"class 2\",\"class 2\",\"class 2\",\"class 2\",\"class 2\",\"class 2\",\"class 2\",\"class 2\",\"class 1\",\"class 2\",\"class 2\",\"class 1\",\"class 1\",\"class 2\",\"class 2\",\"class 2\",\"class 2\",\"class 1\",\"class 1\",\"class 2\",\"class 1\",\"class 2\",\"class 2\",\"class 2\",\"class 1\",\"class 2\",\"class 2\",\"class 2\",\"class 2\",\"class 1\",\"class 1\",\"class 2\",\"class 1\",\"class 2\",\"class 2\",\"class 1\",\"class 1\",\"class 1\",\"class 2\",\"class 2\",\"class 2\",\"class 2\",\"class 2\",\"class 2\",\"class 1\",\"class 2\",\"class 2\",\"class 1\",\"class 2\",\"class 2\",\"class 2\",\"class 1\",\"class 2\",\"class 1\",\"class 2\",\"class 2\",\"class 1\",\"class 2\"],\"x\":{\"__ndarray__\":\"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\",\"dtype\":\"float64\",\"order\":\"little\",\"shape\":[200]},\"y\":{\"__ndarray__\":\"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\",\"dtype\":\"float64\",\"order\":\"little\",\"shape\":[200]}},\"selected\":{\"id\":\"11374\"},\"selection_policy\":{\"id\":\"11373\"}},\"id\":\"11359\",\"type\":\"ColumnDataSource\"},{\"attributes\":{},\"id\":\"11338\",\"type\":\"BasicTicker\"},{\"attributes\":{\"fill_alpha\":{\"value\":0.6},\"fill_color\":{\"field\":\"color\"},\"hatch_alpha\":{\"value\":0.6},\"hatch_color\":{\"field\":\"color\"},\"line_alpha\":{\"value\":0.6},\"line_color\":{\"value\":\"white\"},\"size\":{\"value\":10},\"x\":{\"field\":\"x\"},\"y\":{\"field\":\"y\"}},\"id\":\"11361\",\"type\":\"Circle\"},{\"attributes\":{\"label\":{\"field\":\"label\"},\"renderers\":[{\"id\":\"11364\"}]},\"id\":\"11377\",\"type\":\"LegendItem\"},{\"attributes\":{},\"id\":\"11373\",\"type\":\"UnionRenderers\"},{\"attributes\":{\"coordinates\":null,\"group\":null,\"text\":\"Linear classification\",\"text_color\":\"#E0E0E0\",\"text_font\":\"Josefin Sans\",\"text_font_size\":\"2.1em\"},\"id\":\"11327\",\"type\":\"Title\"},{\"attributes\":{},\"id\":\"11348\",\"type\":\"SaveTool\"},{\"attributes\":{\"axis_label\":\"y\",\"axis_label_standoff\":10,\"axis_label_text_color\":\"#FFFFFF\",\"axis_label_text_font\":\"Josefin Sans\",\"axis_label_text_font_size\":\"1.9em\",\"axis_label_text_font_style\":\"bold\",\"axis_line_alpha\":0.4,\"axis_line_color\":\"#E0E0E0\",\"coordinates\":null,\"formatter\":{\"id\":\"11368\"},\"group\":null,\"major_label_policy\":{\"id\":\"11369\"},\"major_label_text_color\":\"#E0E0E0\",\"major_label_text_font\":\"Josefin Sans\",\"major_label_text_font_size\":\"1.15em\",\"major_tick_line_alpha\":0.4,\"major_tick_line_color\":\"#E0E0E0\",\"minor_tick_line_alpha\":0.4,\"minor_tick_line_color\":\"#E0E0E0\",\"ticker\":{\"id\":\"11342\"}},\"id\":\"11341\",\"type\":\"LinearAxis\"},{\"attributes\":{\"children\":[{\"id\":\"11379\"},{\"id\":\"11326\"},{\"id\":\"11400\"}],\"margin\":[0,0,0,0],\"name\":\"Row00370\"},\"id\":\"11378\",\"type\":\"Row\"},{\"attributes\":{},\"id\":\"11331\",\"type\":\"DataRange1d\"},{\"attributes\":{},\"id\":\"11350\",\"type\":\"HelpTool\"},{\"attributes\":{\"background_fill_alpha\":0.9,\"background_fill_color\":\"#0f0f0f\",\"below\":[{\"id\":\"11337\"}],\"border_fill_alpha\":0.8,\"border_fill_color\":\"#111111\",\"center\":[{\"id\":\"11340\"},{\"id\":\"11344\"},{\"id\":\"11376\"}],\"height\":450,\"left\":[{\"id\":\"11341\"}],\"outline_line_alpha\":0.25,\"outline_line_color\":\"#E0E0E0\",\"outline_line_width\":3,\"renderers\":[{\"id\":\"11364\"}],\"right\":[{\"id\":\"11376\"}],\"title\":{\"id\":\"11327\"},\"toolbar\":{\"id\":\"11352\"},\"width\":700,\"x_range\":{\"id\":\"11329\"},\"x_scale\":{\"id\":\"11333\"},\"y_range\":{\"id\":\"11331\"},\"y_scale\":{\"id\":\"11335\"}},\"id\":\"11326\",\"subtype\":\"Figure\",\"type\":\"Plot\"},{\"attributes\":{},\"id\":\"11329\",\"type\":\"DataRange1d\"},{\"attributes\":{},\"id\":\"11345\",\"type\":\"PanTool\"},{\"attributes\":{\"bottom_units\":\"screen\",\"coordinates\":null,\"fill_alpha\":0.5,\"fill_color\":\"lightgrey\",\"group\":null,\"left_units\":\"screen\",\"level\":\"overlay\",\"line_alpha\":1.0,\"line_color\":\"black\",\"line_dash\":[4,4],\"line_width\":2,\"right_units\":\"screen\",\"syncable\":false,\"top_units\":\"screen\"},\"id\":\"11351\",\"type\":\"BoxAnnotation\"},{\"attributes\":{},\"id\":\"11368\",\"type\":\"BasicTickFormatter\"},{\"attributes\":{\"background_fill_alpha\":0.2,\"background_fill_color\":\"darkgrey\",\"border_line_alpha\":0.8,\"border_line_color\":\"grey\",\"border_line_width\":3,\"coordinates\":null,\"group\":null,\"items\":[{\"id\":\"11377\"}],\"label_text_color\":\"white\"},\"id\":\"11376\",\"type\":\"Legend\"},{\"attributes\":{\"overlay\":{\"id\":\"11351\"}},\"id\":\"11347\",\"type\":\"BoxZoomTool\"},{\"attributes\":{},\"id\":\"11349\",\"type\":\"ResetTool\"},{\"attributes\":{},\"id\":\"11374\",\"type\":\"Selection\"},{\"attributes\":{\"axis_label\":\"x\",\"axis_label_standoff\":10,\"axis_label_text_color\":\"#FFFFFF\",\"axis_label_text_font\":\"Josefin Sans\",\"axis_label_text_font_size\":\"1.9em\",\"axis_label_text_font_style\":\"bold\",\"axis_line_alpha\":0.4,\"axis_line_color\":\"#E0E0E0\",\"coordinates\":null,\"formatter\":{\"id\":\"11371\"},\"group\":null,\"major_label_policy\":{\"id\":\"11372\"},\"major_label_text_color\":\"#E0E0E0\",\"major_label_text_font\":\"Josefin Sans\",\"major_label_text_font_size\":\"1.15em\",\"major_tick_line_alpha\":0.4,\"major_tick_line_color\":\"#E0E0E0\",\"minor_tick_line_alpha\":0.4,\"minor_tick_line_color\":\"#E0E0E0\",\"ticker\":{\"id\":\"11338\"}},\"id\":\"11337\",\"type\":\"LinearAxis\"},{\"attributes\":{\"axis\":{\"id\":\"11341\"},\"coordinates\":null,\"dimension\":1,\"grid_line_alpha\":0.15,\"grid_line_color\":\"#E0E0E0\",\"group\":null,\"ticker\":null},\"id\":\"11344\",\"type\":\"Grid\"},{\"attributes\":{\"axis\":{\"id\":\"11337\"},\"coordinates\":null,\"grid_line_alpha\":0.15,\"grid_line_color\":\"#E0E0E0\",\"group\":null,\"ticker\":null},\"id\":\"11340\",\"type\":\"Grid\"},{\"attributes\":{},\"id\":\"11346\",\"type\":\"WheelZoomTool\"},{\"attributes\":{},\"id\":\"11372\",\"type\":\"AllLabels\"},{\"attributes\":{},\"id\":\"11335\",\"type\":\"LinearScale\"}],\"root_ids\":[\"11378\",\"11431\"]},\"title\":\"Bokeh Application\",\"version\":\"2.4.3\"}};\n",
       "    var render_items = [{\"docid\":\"1341befd-a0b3-4579-bc5e-4a7ff9790b77\",\"root_ids\":[\"11378\"],\"roots\":{\"11378\":\"acde2b02-947f-4af9-998c-f0ae7ff63b0e\"}}];\n",
       "    root.Bokeh.embed.embed_items_notebook(docs_json, render_items);\n",
       "    for (const render_item of render_items) {\n",
       "      for (const root_id of render_item.root_ids) {\n",
       "\tconst id_el = document.getElementById(root_id)\n",
       "\tif (id_el.children.length && (id_el.children[0].className === 'bk-root')) {\n",
       "\t  const root_el = id_el.children[0]\n",
       "\t  root_el.id = root_el.id + '-rendered'\n",
       "\t}\n",
       "      }\n",
       "    }\n",
       "  }\n",
       "  if (root.Bokeh !== undefined && root.Bokeh.Panel !== undefined) {\n",
       "    embed_document(root);\n",
       "  } else {\n",
       "    var attempts = 0;\n",
       "    var timer = setInterval(function(root) {\n",
       "      if (root.Bokeh !== undefined && root.Bokeh.Panel !== undefined) {\n",
       "        clearInterval(timer);\n",
       "        embed_document(root);\n",
       "      } else if (document.readyState == \"complete\") {\n",
       "        attempts++;\n",
       "        if (attempts > 200) {\n",
       "          clearInterval(timer);\n",
       "          console.log(\"Bokeh: ERROR: Unable to run BokehJS code because BokehJS library is missing\");\n",
       "        }\n",
       "      }\n",
       "    }, 25, root)\n",
       "  }\n",
       "})(window);</script>"
      ],
      "text/plain": [
       "Row\n",
       "    [0] HSpacer()\n",
       "    [1] Bokeh(Figure)\n",
       "    [2] HSpacer()"
      ]
     },
     "execution_count": 118,
     "metadata": {
      "application/vnd.holoviews_exec.v0+json": {
       "id": "11378"
      }
     },
     "output_type": "execute_result"
    }
   ],
   "source": [
    "import jax.numpy as jnp\n",
    "from jax import grad, jit, random\n",
    "\n",
    "def model(x, w, b):\n",
    "    return jnp.dot(x, w) + b\n",
    "\n",
    "def loss_funct(true_y, x, w, b):\n",
    " \n",
    "    #right = 1 - true_y[:,jnp.newaxis]*jnp.dot(x,w)\n",
    "    right = 1 - true_y[:,jnp.newaxis]*model(x,w,b)\n",
    "    \n",
    "    left = np.zeros((n_observations,1))\n",
    "    arg = jnp.hstack((left, right))\n",
    "    \n",
    "    losses = np.amax(arg,axis=1)\n",
    "    \n",
    "    return jnp.mean(losses)\n",
    "\n",
    "grad_funct = jit(grad(loss_funct, argnums=2))\n",
    "\n",
    "# Our hyperparameters\n",
    "n_features = 2\n",
    "n_iter = 1000\n",
    "l_r = 0.001\n",
    "\n",
    "# 1. Initialize weigths and bias\n",
    "\n",
    "key = random.PRNGKey(9999)\n",
    "k_0, k_1, k_2 = random.split(key, 3)\n",
    "w0 = random.normal(k_0, (1,))\n",
    "w1 = random.normal(k_1, (1,))\n",
    "b = random.normal(k_2, (1,))\n",
    "w = jnp.array([w0, w1])\n",
    "loss_history = jnp.empty((1,))\n",
    "\n",
    "for _ in range(n_iter):\n",
    "    \n",
    "# 2. Compute prediction and loss\n",
    "    predict = model(x_data, w , b)\n",
    "\n",
    "    mean_loss = loss_funct(y_classes, x_data, w, b)\n",
    "    \n",
    "    #loss_history = jnp.concatenate((loss_history, mean_loss))\n",
    "# 3. Compute gradient and implement descent\n",
    "    \n",
    "    gradient = grad_funct(y_classes, x_data, w, b)\n",
    "    w -= lr*gradient\n",
    "    \n",
    "\n",
    "# final score\n",
    "classific = model(x_data,w,b)\n",
    "print(f\"Final parameters: {w}\")\n",
    "out_class = np.empty(n_observations)\n",
    "out_class[classific[:,0] >= 0] = 0\n",
    "out_class[classific[:,0] < 0] = 1\n",
    "\n",
    "\n",
    "# visualize classification\n",
    "\n",
    "p = scatter_classes(x_data, out_class, title=\"Linear classification\")\n",
    "plot = (center_plot(p))\n",
    "plot"
   ]
  },
  {
   "cell_type": "markdown",
   "metadata": {},
   "source": [
    "<div class=\"alert alert-success\" markdown=\"1\" style=\"color:white; background-color: #013220; border-color: #03C03C\">\n",
    "\n",
    "> ### Question 1.3 - Compare the results of the NumPy and JAX implementations.\n",
    "> 1. Plot the decision boundary for each implementation.\n",
    "> 2. Compare the training time and accuracy of each implementation.\n",
    "\n",
    "</div>"
   ]
  },
  {
   "cell_type": "code",
   "execution_count": null,
   "metadata": {},
   "outputs": [],
   "source": []
  },
  {
   "cell_type": "markdown",
   "metadata": {},
   "source": [
    "<div class=\"alert alert-success\" markdown=\"1\" style=\"color:white; background-color: #192841; border-color: #779ecb\">\n",
    "\n",
    "> ### Going further (optional)\n",
    "> Implement a more complex dataset and compare the results of the NumPy and JAX implementations.\n",
    "\n",
    "</div>"
   ]
  },
  {
   "cell_type": "code",
   "execution_count": null,
   "metadata": {},
   "outputs": [],
   "source": []
  },
  {
   "cell_type": "markdown",
   "metadata": {},
   "source": [
    "## Exercise 2 - Polynomial regression"
   ]
  },
  {
   "cell_type": "markdown",
   "metadata": {},
   "source": [
    "<div class=\"alert alert-success\" markdown=\"1\" style=\"color:white; background-color: #013220; border-color: #03C03C\">\n",
    "\n",
    "> In this exercise, you will implement polynomial regression using NumPy and JAX. This should be a quite straightforward extension of what we have seen until now. We deliberately removed details of the implementation (list of points to adress) so that you can start defining your first entire machine learning setup by yourself.\n",
    "\n",
    "</div>"
   ]
  },
  {
   "cell_type": "code",
   "execution_count": 78,
   "metadata": {},
   "outputs": [
    {
     "data": {},
     "metadata": {},
     "output_type": "display_data"
    },
    {
     "data": {
      "application/vnd.holoviews_exec.v0+json": "",
      "text/html": [
       "<div id='12816'>\n",
       "  <div class=\"bk-root\" id=\"9a1e39ba-c5e6-439a-a6c6-332a13073c90\" data-root-id=\"12816\"></div>\n",
       "</div>\n",
       "<script type=\"application/javascript\">(function(root) {\n",
       "  function embed_document(root) {\n",
       "    var docs_json = {\"99bebb71-2da5-4e59-9598-5e4993550ebf\":{\"defs\":[{\"extends\":null,\"module\":null,\"name\":\"ReactiveHTML1\",\"overrides\":[],\"properties\":[]},{\"extends\":null,\"module\":null,\"name\":\"FlexBox1\",\"overrides\":[],\"properties\":[{\"default\":\"flex-start\",\"kind\":null,\"name\":\"align_content\"},{\"default\":\"flex-start\",\"kind\":null,\"name\":\"align_items\"},{\"default\":\"row\",\"kind\":null,\"name\":\"flex_direction\"},{\"default\":\"wrap\",\"kind\":null,\"name\":\"flex_wrap\"},{\"default\":\"flex-start\",\"kind\":null,\"name\":\"justify_content\"}]},{\"extends\":null,\"module\":null,\"name\":\"GridStack1\",\"overrides\":[],\"properties\":[{\"default\":\"warn\",\"kind\":null,\"name\":\"mode\"},{\"default\":null,\"kind\":null,\"name\":\"ncols\"},{\"default\":null,\"kind\":null,\"name\":\"nrows\"},{\"default\":true,\"kind\":null,\"name\":\"allow_resize\"},{\"default\":true,\"kind\":null,\"name\":\"allow_drag\"},{\"default\":[],\"kind\":null,\"name\":\"state\"}]},{\"extends\":null,\"module\":null,\"name\":\"click1\",\"overrides\":[],\"properties\":[{\"default\":\"\",\"kind\":null,\"name\":\"terminal_output\"},{\"default\":\"\",\"kind\":null,\"name\":\"debug_name\"},{\"default\":0,\"kind\":null,\"name\":\"clears\"}]},{\"extends\":null,\"module\":null,\"name\":\"NotificationAreaBase1\",\"overrides\":[],\"properties\":[{\"default\":\"bottom-right\",\"kind\":null,\"name\":\"position\"},{\"default\":0,\"kind\":null,\"name\":\"_clear\"}]},{\"extends\":null,\"module\":null,\"name\":\"NotificationArea1\",\"overrides\":[],\"properties\":[{\"default\":[],\"kind\":null,\"name\":\"notifications\"},{\"default\":\"bottom-right\",\"kind\":null,\"name\":\"position\"},{\"default\":0,\"kind\":null,\"name\":\"_clear\"},{\"default\":[{\"background\":\"#ffc107\",\"icon\":{\"className\":\"fas fa-exclamation-triangle\",\"color\":\"white\",\"tagName\":\"i\"},\"type\":\"warning\"},{\"background\":\"#007bff\",\"icon\":{\"className\":\"fas fa-info-circle\",\"color\":\"white\",\"tagName\":\"i\"},\"type\":\"info\"}],\"kind\":null,\"name\":\"types\"}]},{\"extends\":null,\"module\":null,\"name\":\"Notification\",\"overrides\":[],\"properties\":[{\"default\":null,\"kind\":null,\"name\":\"background\"},{\"default\":3000,\"kind\":null,\"name\":\"duration\"},{\"default\":null,\"kind\":null,\"name\":\"icon\"},{\"default\":\"\",\"kind\":null,\"name\":\"message\"},{\"default\":null,\"kind\":null,\"name\":\"notification_type\"},{\"default\":false,\"kind\":null,\"name\":\"_destroyed\"}]},{\"extends\":null,\"module\":null,\"name\":\"TemplateActions1\",\"overrides\":[],\"properties\":[{\"default\":0,\"kind\":null,\"name\":\"open_modal\"},{\"default\":0,\"kind\":null,\"name\":\"close_modal\"}]},{\"extends\":null,\"module\":null,\"name\":\"MaterialTemplateActions1\",\"overrides\":[],\"properties\":[{\"default\":0,\"kind\":null,\"name\":\"open_modal\"},{\"default\":0,\"kind\":null,\"name\":\"close_modal\"}]}],\"roots\":{\"references\":[{\"attributes\":{},\"id\":\"12777\",\"type\":\"PanTool\"},{\"attributes\":{},\"id\":\"12763\",\"type\":\"DataRange1d\"},{\"attributes\":{},\"id\":\"12805\",\"type\":\"UnionRenderers\"},{\"attributes\":{\"axis\":{\"id\":\"12773\"},\"coordinates\":null,\"dimension\":1,\"grid_line_alpha\":0.15,\"grid_line_color\":\"#E0E0E0\",\"group\":null,\"ticker\":null},\"id\":\"12776\",\"type\":\"Grid\"},{\"attributes\":{\"fill_alpha\":{\"value\":0.5},\"fill_color\":{\"value\":\"midnightblue\"},\"line_color\":{\"value\":\"white\"}},\"id\":\"12813\",\"type\":\"Circle\"},{\"attributes\":{},\"id\":\"12767\",\"type\":\"LinearScale\"},{\"attributes\":{},\"id\":\"12761\",\"type\":\"DataRange1d\"},{\"attributes\":{},\"id\":\"12774\",\"type\":\"BasicTicker\"},{\"attributes\":{\"fill_alpha\":{\"value\":0.5},\"fill_color\":{\"value\":\"red\"},\"hatch_alpha\":{\"value\":0.5},\"line_alpha\":{\"value\":0.5},\"line_color\":{\"value\":\"white\"},\"size\":{\"value\":10},\"x\":{\"field\":\"x\"},\"y\":{\"field\":\"y\"}},\"id\":\"12794\",\"type\":\"Circle\"},{\"attributes\":{\"callback\":null,\"mode\":\"vline\",\"renderers\":[{\"id\":\"12796\"}],\"tooltips\":null},\"id\":\"12810\",\"type\":\"HoverTool\"},{\"attributes\":{},\"id\":\"12778\",\"type\":\"WheelZoomTool\"},{\"attributes\":{\"source\":{\"id\":\"12791\"}},\"id\":\"12797\",\"type\":\"CDSView\"},{\"attributes\":{\"axis_label\":\"y\",\"axis_label_standoff\":10,\"axis_label_text_color\":\"#FFFFFF\",\"axis_label_text_font\":\"Josefin Sans\",\"axis_label_text_font_size\":\"1.9em\",\"axis_label_text_font_style\":\"bold\",\"axis_line_alpha\":0.4,\"axis_line_color\":\"#E0E0E0\",\"coordinates\":null,\"formatter\":{\"id\":\"12800\"},\"group\":null,\"major_label_policy\":{\"id\":\"12801\"},\"major_label_text_color\":\"#E0E0E0\",\"major_label_text_font\":\"Josefin Sans\",\"major_label_text_font_size\":\"1.15em\",\"major_tick_line_alpha\":0.4,\"major_tick_line_color\":\"#E0E0E0\",\"minor_tick_line_alpha\":0.4,\"minor_tick_line_color\":\"#E0E0E0\",\"ticker\":{\"id\":\"12774\"}},\"id\":\"12773\",\"type\":\"LinearAxis\"},{\"attributes\":{\"mode\":\"append\",\"overlay\":{\"id\":\"12828\"},\"renderers\":[{\"id\":\"12796\"}]},\"id\":\"12814\",\"type\":\"BoxSelectTool\"},{\"attributes\":{\"label\":{\"value\":\"Observations\"},\"renderers\":[{\"id\":\"12796\"}]},\"id\":\"12809\",\"type\":\"LegendItem\"},{\"attributes\":{\"fill_alpha\":{\"value\":0.8},\"fill_color\":{\"value\":\"red\"},\"line_color\":{\"value\":\"white\"}},\"id\":\"12812\",\"type\":\"Circle\"},{\"attributes\":{\"coordinates\":null,\"group\":null,\"text\":\"Polynomial phenomenon\",\"text_color\":\"#E0E0E0\",\"text_font\":\"Josefin Sans\",\"text_font_size\":\"2.1em\"},\"id\":\"12759\",\"type\":\"Title\"},{\"attributes\":{\"fill_alpha\":{\"value\":0.2},\"fill_color\":{\"value\":\"midnightblue\"},\"hatch_alpha\":{\"value\":0.2},\"line_alpha\":{\"value\":0.2},\"line_color\":{\"value\":\"white\"},\"size\":{\"value\":10},\"x\":{\"field\":\"x\"},\"y\":{\"field\":\"y\"}},\"id\":\"12795\",\"type\":\"Circle\"},{\"attributes\":{\"bottom_units\":\"screen\",\"coordinates\":null,\"fill_alpha\":0.5,\"fill_color\":\"lightgrey\",\"group\":null,\"left_units\":\"screen\",\"level\":\"overlay\",\"line_alpha\":1.0,\"line_color\":\"black\",\"line_dash\":[4,4],\"line_width\":2,\"right_units\":\"screen\",\"syncable\":false,\"top_units\":\"screen\"},\"id\":\"12828\",\"type\":\"BoxAnnotation\"},{\"attributes\":{\"fill_alpha\":{\"value\":0.25},\"fill_color\":{\"value\":\"midnightblue\"},\"hatch_alpha\":{\"value\":0.25},\"line_alpha\":{\"value\":0.25},\"line_color\":{\"value\":\"white\"},\"size\":{\"value\":10},\"x\":{\"field\":\"x\"},\"y\":{\"field\":\"y\"}},\"id\":\"12792\",\"type\":\"Circle\"},{\"attributes\":{\"axis_label\":\"x\",\"axis_label_standoff\":10,\"axis_label_text_color\":\"#FFFFFF\",\"axis_label_text_font\":\"Josefin Sans\",\"axis_label_text_font_size\":\"1.9em\",\"axis_label_text_font_style\":\"bold\",\"axis_line_alpha\":0.4,\"axis_line_color\":\"#E0E0E0\",\"coordinates\":null,\"formatter\":{\"id\":\"12803\"},\"group\":null,\"major_label_policy\":{\"id\":\"12804\"},\"major_label_text_color\":\"#E0E0E0\",\"major_label_text_font\":\"Josefin Sans\",\"major_label_text_font_size\":\"1.15em\",\"major_tick_line_alpha\":0.4,\"major_tick_line_color\":\"#E0E0E0\",\"minor_tick_line_alpha\":0.4,\"minor_tick_line_color\":\"#E0E0E0\",\"ticker\":{\"id\":\"12770\"}},\"id\":\"12769\",\"type\":\"LinearAxis\"},{\"attributes\":{},\"id\":\"12782\",\"type\":\"HelpTool\"},{\"attributes\":{},\"id\":\"12765\",\"type\":\"LinearScale\"},{\"attributes\":{\"client_comm_id\":\"4669607459a84a048f420da05b729f6a\",\"comm_id\":\"c83ba7d2b3814859b814050699cdf6f5\",\"plot_id\":\"12816\"},\"id\":\"12874\",\"type\":\"panel.models.comm_manager.CommManager\"},{\"attributes\":{\"margin\":[5,5,5,5],\"name\":\"HSpacer00596\",\"sizing_mode\":\"stretch_width\"},\"id\":\"12840\",\"type\":\"Spacer\"},{\"attributes\":{},\"id\":\"12803\",\"type\":\"BasicTickFormatter\"},{\"attributes\":{},\"id\":\"12804\",\"type\":\"AllLabels\"},{\"attributes\":{\"margin\":[5,5,5,5],\"name\":\"HSpacer00595\",\"sizing_mode\":\"stretch_width\"},\"id\":\"12817\",\"type\":\"Spacer\"},{\"attributes\":{\"axis\":{\"id\":\"12769\"},\"coordinates\":null,\"grid_line_alpha\":0.15,\"grid_line_color\":\"#E0E0E0\",\"group\":null,\"ticker\":null},\"id\":\"12772\",\"type\":\"Grid\"},{\"attributes\":{\"overlay\":{\"id\":\"12783\"}},\"id\":\"12779\",\"type\":\"BoxZoomTool\"},{\"attributes\":{},\"id\":\"12780\",\"type\":\"SaveTool\"},{\"attributes\":{\"coordinates\":null,\"data_source\":{\"id\":\"12791\"},\"glyph\":{\"id\":\"12792\"},\"group\":null,\"hover_glyph\":{\"id\":\"12794\"},\"muted_glyph\":{\"id\":\"12795\"},\"nonselection_glyph\":{\"id\":\"12813\"},\"selection_glyph\":{\"id\":\"12812\"},\"view\":{\"id\":\"12797\"}},\"id\":\"12796\",\"type\":\"GlyphRenderer\"},{\"attributes\":{},\"id\":\"12781\",\"type\":\"ResetTool\"},{\"attributes\":{},\"id\":\"12801\",\"type\":\"AllLabels\"},{\"attributes\":{\"background_fill_alpha\":0.9,\"background_fill_color\":\"#0f0f0f\",\"below\":[{\"id\":\"12769\"}],\"border_fill_alpha\":0.8,\"border_fill_color\":\"#111111\",\"center\":[{\"id\":\"12772\"},{\"id\":\"12776\"},{\"id\":\"12808\"}],\"height\":450,\"left\":[{\"id\":\"12773\"}],\"outline_line_alpha\":0.25,\"outline_line_color\":\"#E0E0E0\",\"outline_line_width\":3,\"renderers\":[{\"id\":\"12796\"}],\"title\":{\"id\":\"12759\"},\"toolbar\":{\"id\":\"12784\"},\"toolbar_location\":null,\"x_range\":{\"id\":\"12761\"},\"x_scale\":{\"id\":\"12765\"},\"y_range\":{\"id\":\"12763\"},\"y_scale\":{\"id\":\"12767\"}},\"id\":\"12758\",\"subtype\":\"Figure\",\"type\":\"Plot\"},{\"attributes\":{\"children\":[{\"id\":\"12817\"},{\"id\":\"12758\"},{\"id\":\"12840\"}],\"margin\":[0,0,0,0],\"name\":\"Row00599\"},\"id\":\"12816\",\"type\":\"Row\"},{\"attributes\":{},\"id\":\"12800\",\"type\":\"BasicTickFormatter\"},{\"attributes\":{\"bottom_units\":\"screen\",\"coordinates\":null,\"fill_alpha\":0.5,\"fill_color\":\"lightgrey\",\"group\":null,\"left_units\":\"screen\",\"level\":\"overlay\",\"line_alpha\":1.0,\"line_color\":\"black\",\"line_dash\":[4,4],\"line_width\":2,\"right_units\":\"screen\",\"syncable\":false,\"top_units\":\"screen\"},\"id\":\"12783\",\"type\":\"BoxAnnotation\"},{\"attributes\":{},\"id\":\"12770\",\"type\":\"BasicTicker\"},{\"attributes\":{\"tools\":[{\"id\":\"12777\"},{\"id\":\"12778\"},{\"id\":\"12779\"},{\"id\":\"12780\"},{\"id\":\"12781\"},{\"id\":\"12782\"},{\"id\":\"12810\"},{\"id\":\"12814\"}]},\"id\":\"12784\",\"type\":\"Toolbar\"},{\"attributes\":{\"data\":{\"x\":{\"__ndarray__\":\"wO/b7B8ilD9gXH/6uYmsP+iO047iXbQ/wGbWY6/KtD8Me79GwzvCP8yo7jv/8cQ/WKvOaWOvxz9IT/n4JMDJP4wiUgPfts8/mPAICy7Pzz9GKeEIwKjQPzpy25B1fdY/zCm053Et2T+CgOjyUKnZP2aTXafaTNo/ErBatWXM3D9gi6WW9eHcP+QCioZCJN8/EABsYbye3z/lZaYiZy/jP7vEBTnQ7eM/DWobxEDG5T+pkRhTbBHnP47CQe3LIuc/IPIAD0ja6z+LfWQoGy7sP5zthGcKge4/zhx7VNiC7j/7yeLsf+HuP8FK20Madu8/\",\"dtype\":\"float64\",\"order\":\"little\",\"shape\":[30]},\"y\":{\"__ndarray__\":\"lPxIRbod+r+HUWVHRUbuvzL+nARRDPS//d2QKAQN8r/kEq2rAjb3v5c6iSpGWPC/O4u+nMS/6r92mzvsdKXzv73U24Oix/e/hScHh6TZ9r/+Hf/z/Szhv8cKs8gOsPC/2sNat5Ri8r+ivsqECPflv5afJJ5ZM/K/YATzBRzx7r+Qa810ofHyv+h/RPp/uOW/R1oSAfBe6L/gGbMbFXu4v5AZAlylH+C/WIYUD2pK3r8stOdOZpDgv6DKtCAQm5K/IE+s+XtWwz9y788fHbfZP4y57OD3LeI/GERoMMOF8z88+uaDMgPgP1a9vv285do/\",\"dtype\":\"float64\",\"order\":\"little\",\"shape\":[30]}},\"selected\":{\"id\":\"12806\"},\"selection_policy\":{\"id\":\"12805\"}},\"id\":\"12791\",\"type\":\"ColumnDataSource\"},{\"attributes\":{},\"id\":\"12806\",\"type\":\"Selection\"},{\"attributes\":{\"background_fill_alpha\":0.25,\"background_fill_color\":\"#505050\",\"border_line_alpha\":0.25,\"coordinates\":null,\"group\":null,\"items\":[{\"id\":\"12809\"}],\"label_standoff\":8,\"label_text_color\":\"#E0E0E0\",\"label_text_font\":\"Josefin Sans\",\"label_text_font_size\":\"1.15em\",\"spacing\":8},\"id\":\"12808\",\"type\":\"Legend\"}],\"root_ids\":[\"12816\",\"12874\"]},\"title\":\"Bokeh Application\",\"version\":\"2.4.3\"}};\n",
       "    var render_items = [{\"docid\":\"99bebb71-2da5-4e59-9598-5e4993550ebf\",\"root_ids\":[\"12816\"],\"roots\":{\"12816\":\"9a1e39ba-c5e6-439a-a6c6-332a13073c90\"}}];\n",
       "    root.Bokeh.embed.embed_items_notebook(docs_json, render_items);\n",
       "    for (const render_item of render_items) {\n",
       "      for (const root_id of render_item.root_ids) {\n",
       "\tconst id_el = document.getElementById(root_id)\n",
       "\tif (id_el.children.length && (id_el.children[0].className === 'bk-root')) {\n",
       "\t  const root_el = id_el.children[0]\n",
       "\t  root_el.id = root_el.id + '-rendered'\n",
       "\t}\n",
       "      }\n",
       "    }\n",
       "  }\n",
       "  if (root.Bokeh !== undefined && root.Bokeh.Panel !== undefined) {\n",
       "    embed_document(root);\n",
       "  } else {\n",
       "    var attempts = 0;\n",
       "    var timer = setInterval(function(root) {\n",
       "      if (root.Bokeh !== undefined && root.Bokeh.Panel !== undefined) {\n",
       "        clearInterval(timer);\n",
       "        embed_document(root);\n",
       "      } else if (document.readyState == \"complete\") {\n",
       "        attempts++;\n",
       "        if (attempts > 200) {\n",
       "          clearInterval(timer);\n",
       "          console.log(\"Bokeh: ERROR: Unable to run BokehJS code because BokehJS library is missing\");\n",
       "        }\n",
       "      }\n",
       "    }, 25, root)\n",
       "  }\n",
       "})(window);</script>"
      ],
      "text/plain": [
       "Row\n",
       "    [0] HSpacer()\n",
       "    [1] Bokeh(Figure)\n",
       "    [2] HSpacer()"
      ]
     },
     "execution_count": 78,
     "metadata": {
      "application/vnd.holoviews_exec.v0+json": {
       "id": "12816"
      }
     },
     "output_type": "execute_result"
    }
   ],
   "source": [
    "# Create a synthetic dataset\\n\",\n",
    "import numpy as np\n",
    "from cml.plot import center_plot, scatter\n",
    "\n",
    "np.random.seed(33)\n",
    "degree = 2\n",
    "true_w = np.array([-1,-1,3])    # most significant parameter on the right\n",
    "\n",
    "assert true_w.size == degree+1, \"The number of parameters does not correspond to the degree of the model. Expected {} but got {}\".format(degree+1, true_w.size)\n",
    "\n",
    "n = 30\n",
    "x = np.random.rand(n)\n",
    "x.sort()\n",
    "noise = 0.3*np.random.randn(n)\n",
    "ground_truth = np.polyval(np.flip(true_w), x)\n",
    "y =  ground_truth + noise\n",
    "p = scatter(x, y, title=\"Polynomial phenomenon\")\n",
    "plot = (center_plot(p))\n",
    "plot"
   ]
  },
  {
   "cell_type": "markdown",
   "metadata": {},
   "source": [
    "<div class=\"alert alert-success\" markdown=\"1\" style=\"color:white; background-color: #013220; border-color: #03C03C\">\n",
    "\n",
    "> ### Question 2.1 - Implement polynomial regression using NumPy with gradient descent.\n",
    "\n",
    "</div>"
   ]
  },
  {
   "cell_type": "code",
   "execution_count": 80,
   "metadata": {},
   "outputs": [
    {
     "name": "stdout",
     "output_type": "stream",
     "text": [
      "Final value of the parameters (w0, w1, ..., wk):\n",
      "[-1.28390861  0.36117426  0.91882014  0.83100433]\n",
      "Final loss:\n",
      "2.166221540029416\n"
     ]
    },
    {
     "data": {},
     "metadata": {},
     "output_type": "display_data"
    },
    {
     "data": {
      "application/vnd.holoviews_exec.v0+json": "",
      "text/html": [
       "<div id='13284'>\n",
       "  <div class=\"bk-root\" id=\"85cbec54-396c-4eeb-97b6-6c4fe4d18381\" data-root-id=\"13284\"></div>\n",
       "</div>\n",
       "<script type=\"application/javascript\">(function(root) {\n",
       "  function embed_document(root) {\n",
       "    var docs_json = {\"46a78985-41b6-44c1-a197-bd37027ce337\":{\"defs\":[{\"extends\":null,\"module\":null,\"name\":\"ReactiveHTML1\",\"overrides\":[],\"properties\":[]},{\"extends\":null,\"module\":null,\"name\":\"FlexBox1\",\"overrides\":[],\"properties\":[{\"default\":\"flex-start\",\"kind\":null,\"name\":\"align_content\"},{\"default\":\"flex-start\",\"kind\":null,\"name\":\"align_items\"},{\"default\":\"row\",\"kind\":null,\"name\":\"flex_direction\"},{\"default\":\"wrap\",\"kind\":null,\"name\":\"flex_wrap\"},{\"default\":\"flex-start\",\"kind\":null,\"name\":\"justify_content\"}]},{\"extends\":null,\"module\":null,\"name\":\"GridStack1\",\"overrides\":[],\"properties\":[{\"default\":\"warn\",\"kind\":null,\"name\":\"mode\"},{\"default\":null,\"kind\":null,\"name\":\"ncols\"},{\"default\":null,\"kind\":null,\"name\":\"nrows\"},{\"default\":true,\"kind\":null,\"name\":\"allow_resize\"},{\"default\":true,\"kind\":null,\"name\":\"allow_drag\"},{\"default\":[],\"kind\":null,\"name\":\"state\"}]},{\"extends\":null,\"module\":null,\"name\":\"click1\",\"overrides\":[],\"properties\":[{\"default\":\"\",\"kind\":null,\"name\":\"terminal_output\"},{\"default\":\"\",\"kind\":null,\"name\":\"debug_name\"},{\"default\":0,\"kind\":null,\"name\":\"clears\"}]},{\"extends\":null,\"module\":null,\"name\":\"NotificationAreaBase1\",\"overrides\":[],\"properties\":[{\"default\":\"bottom-right\",\"kind\":null,\"name\":\"position\"},{\"default\":0,\"kind\":null,\"name\":\"_clear\"}]},{\"extends\":null,\"module\":null,\"name\":\"NotificationArea1\",\"overrides\":[],\"properties\":[{\"default\":[],\"kind\":null,\"name\":\"notifications\"},{\"default\":\"bottom-right\",\"kind\":null,\"name\":\"position\"},{\"default\":0,\"kind\":null,\"name\":\"_clear\"},{\"default\":[{\"background\":\"#ffc107\",\"icon\":{\"className\":\"fas fa-exclamation-triangle\",\"color\":\"white\",\"tagName\":\"i\"},\"type\":\"warning\"},{\"background\":\"#007bff\",\"icon\":{\"className\":\"fas fa-info-circle\",\"color\":\"white\",\"tagName\":\"i\"},\"type\":\"info\"}],\"kind\":null,\"name\":\"types\"}]},{\"extends\":null,\"module\":null,\"name\":\"Notification\",\"overrides\":[],\"properties\":[{\"default\":null,\"kind\":null,\"name\":\"background\"},{\"default\":3000,\"kind\":null,\"name\":\"duration\"},{\"default\":null,\"kind\":null,\"name\":\"icon\"},{\"default\":\"\",\"kind\":null,\"name\":\"message\"},{\"default\":null,\"kind\":null,\"name\":\"notification_type\"},{\"default\":false,\"kind\":null,\"name\":\"_destroyed\"}]},{\"extends\":null,\"module\":null,\"name\":\"TemplateActions1\",\"overrides\":[],\"properties\":[{\"default\":0,\"kind\":null,\"name\":\"open_modal\"},{\"default\":0,\"kind\":null,\"name\":\"close_modal\"}]},{\"extends\":null,\"module\":null,\"name\":\"MaterialTemplateActions1\",\"overrides\":[],\"properties\":[{\"default\":0,\"kind\":null,\"name\":\"open_modal\"},{\"default\":0,\"kind\":null,\"name\":\"close_modal\"}]}],\"roots\":{\"references\":[{\"attributes\":{\"axis\":{\"id\":\"13199\"},\"coordinates\":null,\"dimension\":1,\"grid_line_alpha\":0.15,\"grid_line_color\":\"#E0E0E0\",\"group\":null,\"ticker\":null},\"id\":\"13202\",\"type\":\"Grid\"},{\"attributes\":{\"label\":{\"value\":\"Ground truth\"},\"renderers\":[{\"id\":\"13266\"}]},\"id\":\"13283\",\"type\":\"LegendItem\"},{\"attributes\":{\"fill_alpha\":{\"value\":0.5},\"fill_color\":{\"value\":\"midnightblue\"},\"line_color\":{\"value\":\"white\"}},\"id\":\"13239\",\"type\":\"Circle\"},{\"attributes\":{},\"id\":\"13200\",\"type\":\"BasicTicker\"},{\"attributes\":{\"data\":{\"x\":{\"__ndarray__\":\"wO/b7B8ilD9gXH/6uYmsP+iO047iXbQ/wGbWY6/KtD8Me79GwzvCP8yo7jv/8cQ/WKvOaWOvxz9IT/n4JMDJP4wiUgPfts8/mPAICy7Pzz9GKeEIwKjQPzpy25B1fdY/zCm053Et2T+CgOjyUKnZP2aTXafaTNo/ErBatWXM3D9gi6WW9eHcP+QCioZCJN8/EABsYbye3z/lZaYiZy/jP7vEBTnQ7eM/DWobxEDG5T+pkRhTbBHnP47CQe3LIuc/IPIAD0ja6z+LfWQoGy7sP5zthGcKge4/zhx7VNiC7j/7yeLsf+HuP8FK20Madu8/\",\"dtype\":\"float64\",\"order\":\"little\",\"shape\":[30]},\"y\":{\"__ndarray__\":\"lPxIRbod+r+HUWVHRUbuvzL+nARRDPS//d2QKAQN8r/kEq2rAjb3v5c6iSpGWPC/O4u+nMS/6r92mzvsdKXzv73U24Oix/e/hScHh6TZ9r/+Hf/z/Szhv8cKs8gOsPC/2sNat5Ri8r+ivsqECPflv5afJJ5ZM/K/YATzBRzx7r+Qa810ofHyv+h/RPp/uOW/R1oSAfBe6L/gGbMbFXu4v5AZAlylH+C/WIYUD2pK3r8stOdOZpDgv6DKtCAQm5K/IE+s+XtWwz9y788fHbfZP4y57OD3LeI/GERoMMOF8z88+uaDMgPgP1a9vv285do/\",\"dtype\":\"float64\",\"order\":\"little\",\"shape\":[30]}},\"selected\":{\"id\":\"13232\"},\"selection_policy\":{\"id\":\"13231\"}},\"id\":\"13217\",\"type\":\"ColumnDataSource\"},{\"attributes\":{},\"id\":\"13206\",\"type\":\"SaveTool\"},{\"attributes\":{},\"id\":\"13207\",\"type\":\"ResetTool\"},{\"attributes\":{},\"id\":\"13204\",\"type\":\"WheelZoomTool\"},{\"attributes\":{},\"id\":\"13226\",\"type\":\"BasicTickFormatter\"},{\"attributes\":{},\"id\":\"13203\",\"type\":\"PanTool\"},{\"attributes\":{\"overlay\":{\"id\":\"13209\"}},\"id\":\"13205\",\"type\":\"BoxZoomTool\"},{\"attributes\":{},\"id\":\"13227\",\"type\":\"AllLabels\"},{\"attributes\":{\"data\":{\"x\":{\"__ndarray__\":\"wO/b7B8ilD9gXH/6uYmsP+iO047iXbQ/wGbWY6/KtD8Me79GwzvCP8yo7jv/8cQ/WKvOaWOvxz9IT/n4JMDJP4wiUgPfts8/mPAICy7Pzz9GKeEIwKjQPzpy25B1fdY/zCm053Et2T+CgOjyUKnZP2aTXafaTNo/ErBatWXM3D9gi6WW9eHcP+QCioZCJN8/EABsYbye3z/lZaYiZy/jP7vEBTnQ7eM/DWobxEDG5T+pkRhTbBHnP47CQe3LIuc/IPIAD0ja6z+LfWQoGy7sP5zthGcKge4/zhx7VNiC7j/7yeLsf+HuP8FK20Madu8/\",\"dtype\":\"float64\",\"order\":\"little\",\"shape\":[30]},\"y\":{\"__ndarray__\":\"h0k1ilJs9L+O9KWHJiz0v9NB6vOo+/O/qAJABBf4878vPoXz8mHzvx3oFTsgJfO/25tGgrji8r+yhYQXP63yv9FUcveJAfK/qOiu55b+8b+faniHx87xvxfVGpiUHvC/0sVEtHNe7r/0ssHQhALuv8Kb7kdkhu2/7QokOCKC678+H42l2m/rvyKszTOnb+m/UPT1FKf96L8xkrz7WNvhv1kNZLVmD+C/7sMmkUJ11r+Uri2EvgzOv3z2EGYnPc2/vHiFE5CR0T/u63RtNhzUP2GsYMggr+M/Ysgpjwe34z/tfQX/NFnlP0u8BStr+Oc/\",\"dtype\":\"float64\",\"order\":\"little\",\"shape\":[30]}},\"selected\":{\"id\":\"13258\"},\"selection_policy\":{\"id\":\"13257\"}},\"id\":\"13242\",\"type\":\"ColumnDataSource\"},{\"attributes\":{\"bottom_units\":\"screen\",\"coordinates\":null,\"fill_alpha\":0.5,\"fill_color\":\"lightgrey\",\"group\":null,\"left_units\":\"screen\",\"level\":\"overlay\",\"line_alpha\":1.0,\"line_color\":\"black\",\"line_dash\":[4,4],\"line_width\":2,\"right_units\":\"screen\",\"syncable\":false,\"top_units\":\"screen\"},\"id\":\"13209\",\"type\":\"BoxAnnotation\"},{\"attributes\":{\"tools\":[{\"id\":\"13203\"},{\"id\":\"13204\"},{\"id\":\"13205\"},{\"id\":\"13206\"},{\"id\":\"13207\"},{\"id\":\"13208\"},{\"id\":\"13236\"},{\"id\":\"13240\"}]},\"id\":\"13210\",\"type\":\"Toolbar\"},{\"attributes\":{\"margin\":[5,5,5,5],\"name\":\"HSpacer00610\",\"sizing_mode\":\"stretch_width\"},\"id\":\"13316\",\"type\":\"Spacer\"},{\"attributes\":{\"data\":{\"x\":{\"__ndarray__\":\"wO/b7B8ilD9gXH/6uYmsP+iO047iXbQ/wGbWY6/KtD8Me79GwzvCP8yo7jv/8cQ/WKvOaWOvxz9IT/n4JMDJP4wiUgPfts8/mPAICy7Pzz9GKeEIwKjQPzpy25B1fdY/zCm053Et2T+CgOjyUKnZP2aTXafaTNo/ErBatWXM3D9gi6WW9eHcP+QCioZCJN8/EABsYbye3z/lZaYiZy/jP7vEBTnQ7eM/DWobxEDG5T+pkRhTbBHnP47CQe3LIuc/IPIAD0ja6z+LfWQoGy7sP5zthGcKge4/zhx7VNiC7j/7yeLsf+HuP8FK20Madu8/\",\"dtype\":\"float64\",\"order\":\"little\",\"shape\":[30]},\"y\":{\"__ndarray__\":\"9usWc8hL8L/tbXvOIL7wvxU5C5EX+PC/6UsUvJz78L+RELBZIE7xv3jhjWw4VfG/qIiqaC9R8b8ZiwoLs0bxv12Z62SCBPG/DmbBIwYD8b9PvBBJmunwvyCz6qLoY++/qh3eEEe77b9/6+20nWXtv933X2g48Oy/IaodLxr26r+fCuPLu+Pqv3ayGcdR1+i/qsyz5GVg6L/kCm8Ota3gv/IsNcLIY92/tH7r83mm0r/Yp6bcsrjEv3zUS+sr0cO/2NF/QG/A2T+8OllsdYncPyrQeDLpuug/LP7nkG3D6D82u3DajoXqPxRY7Qt6Ve0/\",\"dtype\":\"float64\",\"order\":\"little\",\"shape\":[30]}},\"selected\":{\"id\":\"13280\"},\"selection_policy\":{\"id\":\"13279\"}},\"id\":\"13262\",\"type\":\"ColumnDataSource\"},{\"attributes\":{},\"id\":\"13279\",\"type\":\"UnionRenderers\"},{\"attributes\":{},\"id\":\"13229\",\"type\":\"BasicTickFormatter\"},{\"attributes\":{},\"id\":\"13280\",\"type\":\"Selection\"},{\"attributes\":{\"label\":{\"value\":\"Observations\"},\"renderers\":[{\"id\":\"13222\"}]},\"id\":\"13235\",\"type\":\"LegendItem\"},{\"attributes\":{\"callback\":null,\"mode\":\"vline\",\"renderers\":[{\"id\":\"13222\"}],\"tooltips\":null},\"id\":\"13236\",\"type\":\"HoverTool\"},{\"attributes\":{},\"id\":\"13230\",\"type\":\"AllLabels\"},{\"attributes\":{},\"id\":\"13258\",\"type\":\"Selection\"},{\"attributes\":{\"line_alpha\":0.6,\"line_color\":\"green\",\"line_width\":6,\"x\":{\"field\":\"x\"},\"y\":{\"field\":\"y\"}},\"id\":\"13263\",\"type\":\"Line\"},{\"attributes\":{},\"id\":\"13191\",\"type\":\"LinearScale\"},{\"attributes\":{},\"id\":\"13231\",\"type\":\"UnionRenderers\"},{\"attributes\":{\"background_fill_alpha\":0.9,\"background_fill_color\":\"#0f0f0f\",\"below\":[{\"id\":\"13195\"}],\"border_fill_alpha\":0.8,\"border_fill_color\":\"#111111\",\"center\":[{\"id\":\"13198\"},{\"id\":\"13202\"},{\"id\":\"13234\"}],\"height\":450,\"left\":[{\"id\":\"13199\"}],\"outline_line_alpha\":0.25,\"outline_line_color\":\"#E0E0E0\",\"outline_line_width\":3,\"renderers\":[{\"id\":\"13222\"},{\"id\":\"13246\"},{\"id\":\"13266\"}],\"title\":{\"id\":\"13185\"},\"toolbar\":{\"id\":\"13210\"},\"toolbar_location\":null,\"x_range\":{\"id\":\"13187\"},\"x_scale\":{\"id\":\"13191\"},\"y_range\":{\"id\":\"13189\"},\"y_scale\":{\"id\":\"13193\"}},\"id\":\"13184\",\"subtype\":\"Figure\",\"type\":\"Plot\"},{\"attributes\":{\"line_alpha\":0.1,\"line_color\":\"red\",\"line_width\":6,\"x\":{\"field\":\"x\"},\"y\":{\"field\":\"y\"}},\"id\":\"13244\",\"type\":\"Line\"},{\"attributes\":{\"coordinates\":null,\"data_source\":{\"id\":\"13242\"},\"glyph\":{\"id\":\"13243\"},\"group\":null,\"hover_glyph\":null,\"muted_glyph\":{\"id\":\"13245\"},\"nonselection_glyph\":{\"id\":\"13244\"},\"view\":{\"id\":\"13247\"}},\"id\":\"13246\",\"type\":\"GlyphRenderer\"},{\"attributes\":{\"fill_alpha\":{\"value\":0.25},\"fill_color\":{\"value\":\"midnightblue\"},\"hatch_alpha\":{\"value\":0.25},\"line_alpha\":{\"value\":0.25},\"line_color\":{\"value\":\"white\"},\"size\":{\"value\":10},\"x\":{\"field\":\"x\"},\"y\":{\"field\":\"y\"}},\"id\":\"13218\",\"type\":\"Circle\"},{\"attributes\":{\"line_alpha\":0.2,\"line_color\":\"red\",\"line_width\":6,\"x\":{\"field\":\"x\"},\"y\":{\"field\":\"y\"}},\"id\":\"13245\",\"type\":\"Line\"},{\"attributes\":{\"mode\":\"append\",\"overlay\":{\"id\":\"13260\"},\"renderers\":[{\"id\":\"13222\"}]},\"id\":\"13240\",\"type\":\"BoxSelectTool\"},{\"attributes\":{\"label\":{\"value\":\"Trained model\"},\"renderers\":[{\"id\":\"13246\"}]},\"id\":\"13261\",\"type\":\"LegendItem\"},{\"attributes\":{\"fill_alpha\":{\"value\":0.5},\"fill_color\":{\"value\":\"red\"},\"hatch_alpha\":{\"value\":0.5},\"line_alpha\":{\"value\":0.5},\"line_color\":{\"value\":\"white\"},\"size\":{\"value\":10},\"x\":{\"field\":\"x\"},\"y\":{\"field\":\"y\"}},\"id\":\"13220\",\"type\":\"Circle\"},{\"attributes\":{\"source\":{\"id\":\"13242\"}},\"id\":\"13247\",\"type\":\"CDSView\"},{\"attributes\":{\"line_alpha\":0.6,\"line_color\":\"red\",\"line_width\":6,\"x\":{\"field\":\"x\"},\"y\":{\"field\":\"y\"}},\"id\":\"13243\",\"type\":\"Line\"},{\"attributes\":{\"client_comm_id\":\"b72f6c378c8d49b8a9f3be218208c18f\",\"comm_id\":\"e5326bb0c2714901a07a6ae8bdd36653\",\"plot_id\":\"13284\"},\"id\":\"13362\",\"type\":\"panel.models.comm_manager.CommManager\"},{\"attributes\":{\"children\":[{\"id\":\"13285\"},{\"id\":\"13184\"},{\"id\":\"13316\"}],\"margin\":[0,0,0,0],\"name\":\"Row00613\"},\"id\":\"13284\",\"type\":\"Row\"},{\"attributes\":{},\"id\":\"13189\",\"type\":\"DataRange1d\"},{\"attributes\":{\"fill_alpha\":{\"value\":0.8},\"fill_color\":{\"value\":\"red\"},\"line_color\":{\"value\":\"white\"}},\"id\":\"13238\",\"type\":\"Circle\"},{\"attributes\":{\"coordinates\":null,\"data_source\":{\"id\":\"13262\"},\"glyph\":{\"id\":\"13263\"},\"group\":null,\"hover_glyph\":null,\"muted_glyph\":{\"id\":\"13265\"},\"nonselection_glyph\":{\"id\":\"13264\"},\"view\":{\"id\":\"13267\"}},\"id\":\"13266\",\"type\":\"GlyphRenderer\"},{\"attributes\":{},\"id\":\"13208\",\"type\":\"HelpTool\"},{\"attributes\":{\"coordinates\":null,\"data_source\":{\"id\":\"13217\"},\"glyph\":{\"id\":\"13218\"},\"group\":null,\"hover_glyph\":{\"id\":\"13220\"},\"muted_glyph\":{\"id\":\"13221\"},\"nonselection_glyph\":{\"id\":\"13239\"},\"selection_glyph\":{\"id\":\"13238\"},\"view\":{\"id\":\"13223\"}},\"id\":\"13222\",\"type\":\"GlyphRenderer\"},{\"attributes\":{\"bottom_units\":\"screen\",\"coordinates\":null,\"fill_alpha\":0.5,\"fill_color\":\"lightgrey\",\"group\":null,\"left_units\":\"screen\",\"level\":\"overlay\",\"line_alpha\":1.0,\"line_color\":\"black\",\"line_dash\":[4,4],\"line_width\":2,\"right_units\":\"screen\",\"syncable\":false,\"top_units\":\"screen\"},\"id\":\"13260\",\"type\":\"BoxAnnotation\"},{\"attributes\":{\"margin\":[5,5,5,5],\"name\":\"HSpacer00609\",\"sizing_mode\":\"stretch_width\"},\"id\":\"13285\",\"type\":\"Spacer\"},{\"attributes\":{},\"id\":\"13187\",\"type\":\"DataRange1d\"},{\"attributes\":{},\"id\":\"13196\",\"type\":\"BasicTicker\"},{\"attributes\":{\"source\":{\"id\":\"13262\"}},\"id\":\"13267\",\"type\":\"CDSView\"},{\"attributes\":{},\"id\":\"13257\",\"type\":\"UnionRenderers\"},{\"attributes\":{\"background_fill_alpha\":0.25,\"background_fill_color\":\"#505050\",\"border_line_alpha\":0.25,\"coordinates\":null,\"group\":null,\"items\":[{\"id\":\"13235\"},{\"id\":\"13261\"},{\"id\":\"13283\"}],\"label_standoff\":8,\"label_text_color\":\"#E0E0E0\",\"label_text_font\":\"Josefin Sans\",\"label_text_font_size\":\"1.15em\",\"spacing\":8},\"id\":\"13234\",\"type\":\"Legend\"},{\"attributes\":{\"source\":{\"id\":\"13217\"}},\"id\":\"13223\",\"type\":\"CDSView\"},{\"attributes\":{\"coordinates\":null,\"group\":null,\"text\":\"Model result\",\"text_color\":\"#E0E0E0\",\"text_font\":\"Josefin Sans\",\"text_font_size\":\"2.1em\"},\"id\":\"13185\",\"type\":\"Title\"},{\"attributes\":{\"fill_alpha\":{\"value\":0.2},\"fill_color\":{\"value\":\"midnightblue\"},\"hatch_alpha\":{\"value\":0.2},\"line_alpha\":{\"value\":0.2},\"line_color\":{\"value\":\"white\"},\"size\":{\"value\":10},\"x\":{\"field\":\"x\"},\"y\":{\"field\":\"y\"}},\"id\":\"13221\",\"type\":\"Circle\"},{\"attributes\":{\"axis_label\":\"x\",\"axis_label_standoff\":10,\"axis_label_text_color\":\"#FFFFFF\",\"axis_label_text_font\":\"Josefin Sans\",\"axis_label_text_font_size\":\"1.9em\",\"axis_label_text_font_style\":\"bold\",\"axis_line_alpha\":0.4,\"axis_line_color\":\"#E0E0E0\",\"coordinates\":null,\"formatter\":{\"id\":\"13229\"},\"group\":null,\"major_label_policy\":{\"id\":\"13230\"},\"major_label_text_color\":\"#E0E0E0\",\"major_label_text_font\":\"Josefin Sans\",\"major_label_text_font_size\":\"1.15em\",\"major_tick_line_alpha\":0.4,\"major_tick_line_color\":\"#E0E0E0\",\"minor_tick_line_alpha\":0.4,\"minor_tick_line_color\":\"#E0E0E0\",\"ticker\":{\"id\":\"13196\"}},\"id\":\"13195\",\"type\":\"LinearAxis\"},{\"attributes\":{\"axis_label\":\"y\",\"axis_label_standoff\":10,\"axis_label_text_color\":\"#FFFFFF\",\"axis_label_text_font\":\"Josefin Sans\",\"axis_label_text_font_size\":\"1.9em\",\"axis_label_text_font_style\":\"bold\",\"axis_line_alpha\":0.4,\"axis_line_color\":\"#E0E0E0\",\"coordinates\":null,\"formatter\":{\"id\":\"13226\"},\"group\":null,\"major_label_policy\":{\"id\":\"13227\"},\"major_label_text_color\":\"#E0E0E0\",\"major_label_text_font\":\"Josefin Sans\",\"major_label_text_font_size\":\"1.15em\",\"major_tick_line_alpha\":0.4,\"major_tick_line_color\":\"#E0E0E0\",\"minor_tick_line_alpha\":0.4,\"minor_tick_line_color\":\"#E0E0E0\",\"ticker\":{\"id\":\"13200\"}},\"id\":\"13199\",\"type\":\"LinearAxis\"},{\"attributes\":{},\"id\":\"13193\",\"type\":\"LinearScale\"},{\"attributes\":{\"axis\":{\"id\":\"13195\"},\"coordinates\":null,\"grid_line_alpha\":0.15,\"grid_line_color\":\"#E0E0E0\",\"group\":null,\"ticker\":null},\"id\":\"13198\",\"type\":\"Grid\"},{\"attributes\":{\"line_alpha\":0.2,\"line_color\":\"green\",\"line_width\":6,\"x\":{\"field\":\"x\"},\"y\":{\"field\":\"y\"}},\"id\":\"13265\",\"type\":\"Line\"},{\"attributes\":{},\"id\":\"13232\",\"type\":\"Selection\"},{\"attributes\":{\"line_alpha\":0.1,\"line_color\":\"green\",\"line_width\":6,\"x\":{\"field\":\"x\"},\"y\":{\"field\":\"y\"}},\"id\":\"13264\",\"type\":\"Line\"}],\"root_ids\":[\"13284\",\"13362\"]},\"title\":\"Bokeh Application\",\"version\":\"2.4.3\"}};\n",
       "    var render_items = [{\"docid\":\"46a78985-41b6-44c1-a197-bd37027ce337\",\"root_ids\":[\"13284\"],\"roots\":{\"13284\":\"85cbec54-396c-4eeb-97b6-6c4fe4d18381\"}}];\n",
       "    root.Bokeh.embed.embed_items_notebook(docs_json, render_items);\n",
       "    for (const render_item of render_items) {\n",
       "      for (const root_id of render_item.root_ids) {\n",
       "\tconst id_el = document.getElementById(root_id)\n",
       "\tif (id_el.children.length && (id_el.children[0].className === 'bk-root')) {\n",
       "\t  const root_el = id_el.children[0]\n",
       "\t  root_el.id = root_el.id + '-rendered'\n",
       "\t}\n",
       "      }\n",
       "    }\n",
       "  }\n",
       "  if (root.Bokeh !== undefined && root.Bokeh.Panel !== undefined) {\n",
       "    embed_document(root);\n",
       "  } else {\n",
       "    var attempts = 0;\n",
       "    var timer = setInterval(function(root) {\n",
       "      if (root.Bokeh !== undefined && root.Bokeh.Panel !== undefined) {\n",
       "        clearInterval(timer);\n",
       "        embed_document(root);\n",
       "      } else if (document.readyState == \"complete\") {\n",
       "        attempts++;\n",
       "        if (attempts > 200) {\n",
       "          clearInterval(timer);\n",
       "          console.log(\"Bokeh: ERROR: Unable to run BokehJS code because BokehJS library is missing\");\n",
       "        }\n",
       "      }\n",
       "    }, 25, root)\n",
       "  }\n",
       "})(window);</script>"
      ],
      "text/plain": [
       "Row\n",
       "    [0] HSpacer()\n",
       "    [1] Bokeh(Figure)\n",
       "    [2] HSpacer()"
      ]
     },
     "execution_count": 80,
     "metadata": {
      "application/vnd.holoviews_exec.v0+json": {
       "id": "13284"
      }
     },
     "output_type": "execute_result"
    }
   ],
   "source": [
    "# Define our functions\n",
    "def y_bar(x_poly,w):\n",
    "    return np.dot(x_poly, w)\n",
    "\n",
    "def mse_loss(y, y_):\n",
    "    return np.sum((y - y_) ** 2)\n",
    "\n",
    "def part_diff(x_poly, w, y, y_):\n",
    "    ret = np.empty(model_degree+1)\n",
    "    for k in range(0,model_degree+1):\n",
    "        ret[k] = -2*np.sum(x_poly[:,k]*(y - y_))\n",
    "    \n",
    "    return ret\n",
    "\n",
    "def l1_regularization(l, w):\n",
    "    return l*np.sum(np.absolute(w))\n",
    "    \n",
    "    \n",
    "# Initialize our \"hyperparameters\" \n",
    "\n",
    "model_degree = 3\n",
    "w = np.random.rand(model_degree+1)\n",
    "epochs = 10000\n",
    "lr = 0.001\n",
    "l1_lambda = 1\n",
    "\n",
    "\n",
    "# Prepare a matrix of precaluclated values\n",
    "\n",
    "x_high_feat = np.ones((n, model_degree+1))\n",
    "for i in range(0,model_degree+1):\n",
    "    x_high_feat[:,i] = x**i\n",
    "    \n",
    "\n",
    "# Actual algorithm\n",
    "\n",
    "for _ in range(0, epochs):\n",
    "    y_ = y_bar(x_high_feat, w)                  # compute current model prediction\n",
    "    loss = mse_loss(y, y_)                      # compute loss (distance of model from reality)\n",
    "    gradient = part_diff(x_high_feat, w, y, y_) # compute ∇𝓛(θ)\n",
    "    w -= lr*gradient                            # update parameters\n",
    "    #print(loss)\n",
    "    \n",
    "print(\"Final value of the parameters (w0, w1, ..., wk):\")\n",
    "print(w)\n",
    "print(\"Final loss:\")\n",
    "print(loss)\n",
    "\n",
    "p = scatter(x, y, title=\"Model result\")\n",
    "p.line(x, y_bar(x_high_feat, w), line_width=6, line_alpha=0.6, color=\"red\", legend_label=r\"Trained model\")\n",
    "p.line(x, ground_truth, line_width=6, line_alpha=0.6, color=\"green\", legend_label=\"Ground truth\")\n",
    "plot = (center_plot(p))\n",
    "plot"
   ]
  },
  {
   "cell_type": "markdown",
   "metadata": {},
   "source": [
    "<div class=\"alert alert-success\" markdown=\"1\" style=\"color:white; background-color: #013220; border-color: #03C03C\">\n",
    "\n",
    "> ### Question 2.2. Implement polynomial regression using JAX with gradient descent.\n",
    "\n",
    "</div>"
   ]
  },
  {
   "cell_type": "code",
   "execution_count": null,
   "metadata": {},
   "outputs": [],
   "source": []
  },
  {
   "cell_type": "markdown",
   "metadata": {},
   "source": [
    "<div class=\"alert alert-success\" markdown=\"1\" style=\"color:white; background-color: #013220; border-color: #03C03C\">\n",
    "\n",
    "> ### Question 2.3 - Compare the results of both implementations and the speed of the optimization algorithm.\n",
    "\n",
    "</div>"
   ]
  },
  {
   "cell_type": "markdown",
   "metadata": {},
   "source": [
    "<a id=\"audio\"></a>\n",
    "# Audio applications\n",
    "\n",
    "In order to test our algorithms on audio and music data, we will work with several datasets. We will both be using well-known state-of-art datasets (through the TF dataset system). But first, we will rely on a simple dataset (`Musclefish`) that should be downloaded on your local computer first from this [link](https://nubo.ircam.fr/index.php/s/ByK4QL7nE4Mq5MA)\n",
    "\n",
    "**The following set of instructions will perform that automatically for you :)**"
   ]
  },
  {
   "cell_type": "code",
   "execution_count": null,
   "metadata": {},
   "outputs": [
    {
     "name": "stdout",
     "output_type": "stream",
     "text": [
      "  % Total    % Received % Xferd  Average Speed   Time    Time     Time  Current\n",
      "                                 Dload  Upload   Total   Spent    Left  Speed\n",
      "100 3008k  100 3008k    0     0   257k      0  0:00:11  0:00:11 --:--:--  541k\n",
      "Archive:  musclefish.zip\n",
      "   creating: musclefish/\n",
      "replace __MACOSX/._musclefish? [y]es, [n]o, [A]ll, [N]one, [r]ename: "
     ]
    }
   ],
   "source": [
    "!curl https://nubo.ircam.fr/index.php/s/ByK4QL7nE4Mq5MA/download/musclefish.zip --output musclefish.zip\n",
    "!unzip musclefish.zip\n",
    "!mkdir data\n",
    "!mv musclefish data/"
   ]
  },
  {
   "cell_type": "markdown",
   "metadata": {},
   "source": [
    "## Dataset details\n",
    "\n",
    "  |**Type**|*Origin*|\n",
    "  |-------:|:---------|\n",
    "  |**Classification**|[*MuscleFish*](http://knight.cis.temple.edu/~vasilis/Courses/CIS750/Papers/muscle_fish.pdf) dataset|\n",
    "  |**Music-speech**|[*MIREX Recognition*](http://www.music-ir.org/mirex/wiki/2015:Music/Speech_Classification_and_Detection) set|\n",
    "  |**Source separation**|[*SMC Mirum*](http://smc.inesctec.pt/research/data-2/) dataset|\n",
    "  |**Speech recognition**|[*CMU Arctic*](http://festvox.org/cmu_arctic/) dataset|\n",
    "\n",
    "**Unzip the file and place the `musclefish` folder inside a `data` folder in the root of this notebook**\n",
    "For the first parts of the tutorial, we will mostly rely solely on the classification dataset. In order to facilitate the interactions, we provide a dataset class called `AudioSupervisedDataset` that will allow to import all audio datasets along the tutorials. This class also contains a set of holders and will allow us to perform batch-wise gradient descent.\n",
    "\n",
    "```Python\n",
    "class AudioSupervisedDataset():\n",
    "    \"\"\"\n",
    "    Helper class to import datasets\n",
    "    % class_path  : Path to the dataset (string)\n",
    "    % type       : Type of dataset (string: 'classify', 'plain', 'metadata')\n",
    "    \"\"\" \n",
    "    audio_files\n",
    "    labels\n",
    "    labels_names\n",
    "    num_examples \n",
    "    num_classes \n",
    "```\n",
    "\n",
    "We also provide a simplified function `import_dataset` that is demonstrated below.\n",
    "\n",
    "***\n",
    "<div class=\"alert alert-success\" markdown=\"1\" style=\"color:white; background-color: #192841; border-color: #779ecb\">\n",
    "\n",
    "**_Exercise_**  \n",
    "\n",
    "  1. Launch the import procedure and check the corresponding structure\n",
    "  2. Code a count function that prints the name and number of examples for each classes \n",
    "\n",
    "</div>\n",
    "\n",
    "***"
   ]
  },
  {
   "cell_type": "code",
   "execution_count": null,
   "metadata": {},
   "outputs": [],
   "source": [
    "from cml.data import import_dataset, AudioSupervisedDataset\n",
    "data_path = \"data/\"\n",
    "batch_size = 16\n",
    "# Instantiate the dataset class\n",
    "train_dataset = import_dataset(data_path, \"musclefish\", 'train', batch_size=batch_size)\n",
    "# Generate a batch of data from the train dataset\n",
    "batch_x, batch_y = next(train_dataset)\n",
    "# Print the shape of the input and output batch tensors\n",
    "print(batch_x.shape)  # (16, 44100)\n",
    "print(batch_y.shape)  # (16,)"
   ]
  },
  {
   "cell_type": "code",
   "execution_count": null,
   "metadata": {},
   "outputs": [],
   "source": [
    "#%% Q-0.1.2 - Count function to print the number of examples in each class along with class label\n",
    "\n",
    "n_batch = 0\n",
    "train_dataset._reset_generator()\n",
    "for batch_x, batch_y in iter(train_dataset):\n",
    "    n_batch += 1\n",
    "    ######################\n",
    "    # YOUR CODE GOES HERE\n",
    "    ######################\n",
    "\n",
    "print(n_batch)"
   ]
  },
  {
   "cell_type": "markdown",
   "metadata": {},
   "source": [
    "### Preprocessing\n",
    "\n",
    "We will rely on a set of spectral transforms that allow to obtain a more descriptive view over the audio information. As most of these are out of the scope of the machine learning course, we redirect you to a [signal processing course](https://ccrma.stanford.edu/~jos/sasp/) proposed by [Julius O. Smith](https://ccrma.stanford.edu/~jos/).  \n",
    "\n",
    "The following functions to compute various types of transforms are given as part of the basic audio dataset class, in the `cml.data.audio` package\n",
    "\n",
    "  |**Name**|*Transform*|\n",
    "  |-------:|:----------|\n",
    "  |`stft`       |[Short-term Fourier transform](https://en.wikipedia.org/wiki/Short-time_Fourier_transform)|\n",
    "  |`mel`  |[Mel scale](https://en.wikipedia.org/wiki/Mel_scale) transform|\n",
    "  |`chroma` |[Chromas vector](https://en.wikipedia.org/wiki/Harmonic_pitch_class_profiles)|\n",
    "  |`cqt`        |[Constant-Q](https://en.wikipedia.org/wiki/Constant_Q_transform) transform|\n",
    "\n",
    "In order to perform the various computations, we provide the following function, in the `AudioSupervisedDataset` which performs the different transforms on a complete dataset.  \n",
    "\n",
    "``` Python\n",
    "dataset.transform(index, name)\n",
    "    \"\"\" index   : Specific index in our dataset \"\"\"\n",
    "    \"\"\" name    : Name of the transform to apply \"\"\"\n",
    "\n",
    "# The name can be selected in \n",
    "\"stft\"      # Power spectrum (STFT)\n",
    "\"mel\"       # Spectrum in Mel scale\n",
    "\"chroma\"    # Chroma vectors\n",
    "\"cqt\"       # Constant-Q transform\n",
    "```\n"
   ]
  },
  {
   "cell_type": "markdown",
   "metadata": {},
   "source": [
    "***\n",
    "<div class=\"alert alert-success\" markdown=\"1\" style=\"color:white; background-color: #192841; border-color: #779ecb\">\n",
    "\n",
    "**Exercise**  \n",
    "\n",
    "  1. Launch the transform computation procedure and check the corresponding structure\n",
    "  2. For each class, select a random element and plot its various transforms on a single plot. You should obtain plots similar to those shown afterwards.\n",
    "  3. For each transform, try to spot major pros and cons of their representation.\n",
    "  \n",
    "</div>\n",
    "\n",
    "***"
   ]
  },
  {
   "cell_type": "code",
   "execution_count": null,
   "metadata": {},
   "outputs": [],
   "source": [
    "# 0.2 - Pre-process the audio to obtain spectral transforms \n",
    "power_spec = train_dataset.transform(0, \"stft\")"
   ]
  },
  {
   "cell_type": "code",
   "execution_count": null,
   "metadata": {},
   "outputs": [],
   "source": [
    "#%% Q-0.2.2 - Plot the various transforms \n",
    "\n",
    "######################\n",
    "# YOUR CODE GOES HERE\n",
    "######################\n"
   ]
  },
  {
   "cell_type": "markdown",
   "metadata": {},
   "source": [
    "### Features\n",
    "\n",
    "<div markdown = \"1\">\n",
    "\n",
    "As you might have noted from the previous exercice, most spectral transforms have a very high dimensionality, and might not be suited to exhibit the relevant structure of different classes. To that end, we provide a set of functions for computing several spectral features in the `cml.data` package, we redirect interested readers to this [exhaustive article](http://recherche.ircam.fr/anasyn/peeters/ARTICLES/Peeters_2003_cuidadoaudiofeatures.pdf) on spectral features computation.\n",
    "\n",
    "  |**File**|*Transform*|\n",
    "  |-------:|:----------|\n",
    "  |`spectral_centroid`|Spectral centroid|\n",
    "  |`spectral_bandwidth`|Spectral bandwidth|\n",
    "  |`spectral_contrast`|Spectral contrast|\n",
    "  |`spectral_flatness`|Spectral flatness|\n",
    "  |`spectral_rolloff`|Spectral rolloff|\n",
    "\n",
    "Once again, we provide a function to perform the computation of different features on a complete set. Note that for each feature, we obtain the temporal evolution in a vector. Therefore, for further learning tasks, if you wish to obtain simplified spaces, you might need to compute the mean and standard deviation of each feature.\n",
    "\n",
    "``` Python\n",
    "dataset.feature(index, name)\n",
    "    \"\"\" index   : Specific index in our dataset \"\"\"\n",
    "    \"\"\" name    : Name of the feature to obtain \"\"\"\n",
    "\n",
    "# Name can be chosen inside the following\n",
    "\"loudness\"    # Loudness\n",
    "\"centroid\"    # Spectral centroid\n",
    "\"bandwidth\"   # Spectral bandwidth\n",
    "\"contrast\"    # Spectral contrast\n",
    "\"flatness\"    # Spectral flatness\n",
    "\"rolloff\"     # Spectral rolloff\n",
    "\n",
    "```"
   ]
  },
  {
   "cell_type": "markdown",
   "metadata": {},
   "source": [
    "***\n",
    "<div class=\"alert alert-success\" markdown=\"1\" style=\"color:white; background-color: #192841; border-color: #779ecb\">\n",
    "\n",
    "**Exercise**\n",
    "\n",
    "  1. Launch the feature computation procedure and check the corresponding structure\n",
    "  2. This time for each class, superimpose the plots of various features on a single plot, along with a boxplot of mean and standard deviations. You should obtain plots similar to those shown afterwards.\n",
    "  3. What conclusions can you make on the discriminative power of each feature ?\n",
    "  4. Perform scatter plots of the mean features for all the dataset, while coloring different classes.\n",
    "  5. What conclusions can you make on the discriminative power of mean features ?\n",
    "\n",
    "</div>\n",
    "\n",
    "***"
   ]
  },
  {
   "cell_type": "code",
   "execution_count": null,
   "metadata": {},
   "outputs": [],
   "source": [
    "# 0.3 - Compute temporal spectral features\n",
    "power_spec = train_dataset.feature(0, \"centroid\")"
   ]
  },
  {
   "cell_type": "code",
   "execution_count": null,
   "metadata": {},
   "outputs": [],
   "source": [
    "#%% Q-0.3.2 - Plot the various features \n",
    "\n",
    "# Use these styles for boxplot\n",
    "boxprops=dict(linewidth=3, color='white')\n",
    "whiskerprops=dict(linewidth=3, color='white')\n",
    "medianprops=dict(linewidth=2.5, color='firebrick')\n",
    "flierprops = dict(markeredgecolor='white', markerfacecolor='firebrick')\n",
    "\n",
    "######################\n",
    "# YOUR CODE GOES HERE\n",
    "######################\n"
   ]
  },
  {
   "cell_type": "code",
   "execution_count": null,
   "metadata": {},
   "outputs": [],
   "source": [
    "#%% Q-0.3.4 - Observe the distribution of classes for different features\n",
    "\n",
    "# This allows to use 3D rendering in matplotlib\n",
    "from mpl_toolkits.mplot3d import Axes3D\n",
    "plt.figure(figsize=(12,8))\n",
    "# Create a vector of random colors for each class\n",
    "colorVect = np.zeros((3, len(data_struct[\"class_names\"])));\n",
    "for c in range(len(data_struct[\"class_names\"])):\n",
    "    colorVect[:,c] = np.random.rand(3);\n",
    "\n",
    "######################\n",
    "# YOUR CODE GOES HERE\n",
    "######################\n"
   ]
  },
  {
   "cell_type": "markdown",
   "metadata": {},
   "source": [
    "That's it for this tutorial, now remember that we can use any form of description (features) as a basis for learning algorithms. We will see in the next tutorial what we an do with these features."
   ]
  }
 ],
 "metadata": {
  "kernelspec": {
   "display_name": "Python 3 (ipykernel)",
   "language": "python",
   "name": "python3"
  },
  "language_info": {
   "codemirror_mode": {
    "name": "ipython",
    "version": 3
   },
   "file_extension": ".py",
   "mimetype": "text/x-python",
   "name": "python",
   "nbconvert_exporter": "python",
   "pygments_lexer": "ipython3",
   "version": "3.10.6"
  },
  "latex_envs": {
   "LaTeX_envs_menu_present": true,
   "autoclose": false,
   "autocomplete": true,
   "bibliofile": "biblio.bib",
   "cite_by": "apalike",
   "current_citInitial": 1,
   "eqLabelWithNumbers": true,
   "eqNumInitial": 1,
   "hotkeys": {
    "equation": "Ctrl-E",
    "itemize": "Ctrl-I"
   },
   "labels_anchors": false,
   "latex_user_defs": false,
   "report_style_numbering": false,
   "user_envs_cfg": false
  }
 },
 "nbformat": 4,
 "nbformat_minor": 4
}
