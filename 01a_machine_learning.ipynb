{
 "cells": [
  {
   "cell_type": "markdown",
   "metadata": {},
   "source": [
    "# Creative machine learning - Machine Learning\n",
    "\n",
    "### Author: Philippe Esling (esling@ircam.fr)\n",
    "\n",
    "In this course we will cover\n",
    "1. A [first definition](#definition) on the concept of machine learning\n",
    "2. An introduction to a simple problem of [linear regression](#regression)\n",
    "4. A detailed implementation of [simple linear regression](#linear)\n",
    "3. An explanation on [model capacity and overfitting](#capacity)\n",
    "4. Two [exercises](#exercises) to explore regression and classification\n",
    "4. An introduction to the [audio datasets](#audio) that we will use"
   ]
  },
  {
   "cell_type": "markdown",
   "metadata": {},
   "source": [
    "<a id=\"definition\"></a>\n",
    "## Defining machine learning\n",
    "\n",
    "In all natural process, there exists complex relations between sets $\\mathcal{X} \\mapsto \\mathcal{Y}$. This can relate some objects with their names, or a cause to a consequence. In most cases, _we do not know the precise relations_ between these sets, all we have is _observations_ such as pairs $(x,y)$, composed of input data $x \\in \\mathcal{X}$, which have a corresponding expected output $y \\in \\mathcal{Y}$. The overarching goal of machine learning is to approximate such _unknown processes_ as a function $\\mathcal{F}_{\\theta}$, which _transforms_ input data $x$ into output data $y$.\n",
    "\n",
    "\n",
    "<center>\n",
    "<img src=\"images/01_machine_learning_basic.png\" align=\"center\"/>\n",
    "</center>\n",
    "\n",
    "Hence, machine learning aims to understand and model the relationship between some (usually complex and high-dimensional) inputs $\\mathbf{x}\\in\\mathcal{X}\\subset\\mathbb{R}^{\\mathcal{X}}$ and outputs $\\mathbf{y}\\in\\mathcal{Y}\\subset\\mathbb{R}^{\\mathcal{Y}}$, given by a set of data examples $\\mathcal{D}=\\left\\{(x_1,y_1),\\cdots,(x_N,y_N)\\right\\}$. This is achieved by defining a parametric model $f_{\\mathbf{\\theta}}\\in\\mathcal{F}$ inside a family of functions $\\mathcal{F}$, which depends on parameters $\\mathbf{\\theta} \\in \\mathbf{\\Theta}$ and that could approximate the underlying relationship. The _learning_ aspect refers to the adjustment of the parameters $\\mathbf{\\theta}$ in order to obtain the best approximation of the given task\n",
    "$$\n",
    "\\begin{equation}\n",
    "f_{\\mathbf{\\theta}}(\\mathbf{x}) = \\bar{\\mathbf{y}}\\approx \\mathbf{y}.\n",
    "\\end{equation}\n",
    "$$\n",
    "\n",
    "Hence, the major elements that we have to define in any machine learning problems are\n",
    "1. **Dataset** : $\\mathcal{D}=\\left\\{(x_1,y_1),\\cdots,(x_N,y_N)\\right\\}$. This dataset has to be representative of the relation $f:\\mathcal{X} \\mapsto \\mathcal{Y}$ that we are looking to model\n",
    "2. **Model** : Our parametric approximation $\\bar{\\mathbf{y}} = f_{\\mathbf{\\theta}}(\\mathbf{x})$, where the choice of family $f_{\\mathbf{\\theta}}\\in\\mathcal{F}$ is critical\n",
    "3. **Loss** : $\\mathcal{L}\\left( \\bar{\\mathbf{y}}, \\mathbf{y} \\mid f_{\\theta}, \\theta \\right)$ allows to measure the amount of errors made by our model\n",
    "4. **Optimization** : Method to find $\\theta^{*}\\in\\Theta$ so that our model minimizes the loss\n",
    "$$\\theta^{*}= \\underset{\\theta}{\\text{argmin }} \\mathcal{L}\\left( \\bar{\\mathbf{y}}, \\mathbf{y} \\mid f_{\\theta}, \\theta \\right)$$\n",
    "\n",
    "\n",
    "To observe this idea in simple setups, we are going to use the `numpy` library and also initialize the homemade course library `cml` and style for future plotting and exercise. We also set the random generator to a fixed point with `rng = np.random.RandomState(1)`, to ensure reproducibility"
   ]
  },
  {
   "cell_type": "code",
   "execution_count": 1,
   "metadata": {
    "tags": []
   },
   "outputs": [
    {
     "name": "stderr",
     "output_type": "stream",
     "text": [
      "2023-05-18 12:01:10.968705: I tensorflow/core/platform/cpu_feature_guard.cc:182] This TensorFlow binary is optimized to use available CPU instructions in performance-critical operations.\n",
      "To enable the following instructions: AVX2 FMA, in other operations, rebuild TensorFlow with the appropriate compiler flags.\n",
      "2023-05-18 12:01:12.822683: W tensorflow/compiler/tf2tensorrt/utils/py_utils.cc:38] TF-TRT Warning: Could not find TensorRT\n",
      "/home/matte/.local/lib/python3.10/site-packages/tqdm/auto.py:21: TqdmWarning: IProgress not found. Please update jupyter and ipywidgets. See https://ipywidgets.readthedocs.io/en/stable/user_install.html\n",
      "  from .autonotebook import tqdm as notebook_tqdm\n",
      "No GPU/TPU found, falling back to CPU. (Set TF_CPP_MIN_LOG_LEVEL=0 and rerun for more info.)\n"
     ]
    },
    {
     "data": {
      "text/html": [
       "<div class=\"bk-root\">\n",
       "        <a href=\"https://bokeh.org\" target=\"_blank\" class=\"bk-logo bk-logo-small bk-logo-notebook\"></a>\n",
       "        <span id=\"1002\">Loading BokehJS ...</span>\n",
       "    </div>\n"
      ]
     },
     "metadata": {},
     "output_type": "display_data"
    },
    {
     "data": {
      "application/javascript": [
       "(function(root) {\n",
       "  function now() {\n",
       "    return new Date();\n",
       "  }\n",
       "\n",
       "  const force = true;\n",
       "\n",
       "  if (typeof root._bokeh_onload_callbacks === \"undefined\" || force === true) {\n",
       "    root._bokeh_onload_callbacks = [];\n",
       "    root._bokeh_is_loading = undefined;\n",
       "  }\n",
       "\n",
       "const JS_MIME_TYPE = 'application/javascript';\n",
       "  const HTML_MIME_TYPE = 'text/html';\n",
       "  const EXEC_MIME_TYPE = 'application/vnd.bokehjs_exec.v0+json';\n",
       "  const CLASS_NAME = 'output_bokeh rendered_html';\n",
       "\n",
       "  /**\n",
       "   * Render data to the DOM node\n",
       "   */\n",
       "  function render(props, node) {\n",
       "    const script = document.createElement(\"script\");\n",
       "    node.appendChild(script);\n",
       "  }\n",
       "\n",
       "  /**\n",
       "   * Handle when an output is cleared or removed\n",
       "   */\n",
       "  function handleClearOutput(event, handle) {\n",
       "    const cell = handle.cell;\n",
       "\n",
       "    const id = cell.output_area._bokeh_element_id;\n",
       "    const server_id = cell.output_area._bokeh_server_id;\n",
       "    // Clean up Bokeh references\n",
       "    if (id != null && id in Bokeh.index) {\n",
       "      Bokeh.index[id].model.document.clear();\n",
       "      delete Bokeh.index[id];\n",
       "    }\n",
       "\n",
       "    if (server_id !== undefined) {\n",
       "      // Clean up Bokeh references\n",
       "      const cmd_clean = \"from bokeh.io.state import curstate; print(curstate().uuid_to_server['\" + server_id + \"'].get_sessions()[0].document.roots[0]._id)\";\n",
       "      cell.notebook.kernel.execute(cmd_clean, {\n",
       "        iopub: {\n",
       "          output: function(msg) {\n",
       "            const id = msg.content.text.trim();\n",
       "            if (id in Bokeh.index) {\n",
       "              Bokeh.index[id].model.document.clear();\n",
       "              delete Bokeh.index[id];\n",
       "            }\n",
       "          }\n",
       "        }\n",
       "      });\n",
       "      // Destroy server and session\n",
       "      const cmd_destroy = \"import bokeh.io.notebook as ion; ion.destroy_server('\" + server_id + \"')\";\n",
       "      cell.notebook.kernel.execute(cmd_destroy);\n",
       "    }\n",
       "  }\n",
       "\n",
       "  /**\n",
       "   * Handle when a new output is added\n",
       "   */\n",
       "  function handleAddOutput(event, handle) {\n",
       "    const output_area = handle.output_area;\n",
       "    const output = handle.output;\n",
       "\n",
       "    // limit handleAddOutput to display_data with EXEC_MIME_TYPE content only\n",
       "    if ((output.output_type != \"display_data\") || (!Object.prototype.hasOwnProperty.call(output.data, EXEC_MIME_TYPE))) {\n",
       "      return\n",
       "    }\n",
       "\n",
       "    const toinsert = output_area.element.find(\".\" + CLASS_NAME.split(' ')[0]);\n",
       "\n",
       "    if (output.metadata[EXEC_MIME_TYPE][\"id\"] !== undefined) {\n",
       "      toinsert[toinsert.length - 1].firstChild.textContent = output.data[JS_MIME_TYPE];\n",
       "      // store reference to embed id on output_area\n",
       "      output_area._bokeh_element_id = output.metadata[EXEC_MIME_TYPE][\"id\"];\n",
       "    }\n",
       "    if (output.metadata[EXEC_MIME_TYPE][\"server_id\"] !== undefined) {\n",
       "      const bk_div = document.createElement(\"div\");\n",
       "      bk_div.innerHTML = output.data[HTML_MIME_TYPE];\n",
       "      const script_attrs = bk_div.children[0].attributes;\n",
       "      for (let i = 0; i < script_attrs.length; i++) {\n",
       "        toinsert[toinsert.length - 1].firstChild.setAttribute(script_attrs[i].name, script_attrs[i].value);\n",
       "        toinsert[toinsert.length - 1].firstChild.textContent = bk_div.children[0].textContent\n",
       "      }\n",
       "      // store reference to server id on output_area\n",
       "      output_area._bokeh_server_id = output.metadata[EXEC_MIME_TYPE][\"server_id\"];\n",
       "    }\n",
       "  }\n",
       "\n",
       "  function register_renderer(events, OutputArea) {\n",
       "\n",
       "    function append_mime(data, metadata, element) {\n",
       "      // create a DOM node to render to\n",
       "      const toinsert = this.create_output_subarea(\n",
       "        metadata,\n",
       "        CLASS_NAME,\n",
       "        EXEC_MIME_TYPE\n",
       "      );\n",
       "      this.keyboard_manager.register_events(toinsert);\n",
       "      // Render to node\n",
       "      const props = {data: data, metadata: metadata[EXEC_MIME_TYPE]};\n",
       "      render(props, toinsert[toinsert.length - 1]);\n",
       "      element.append(toinsert);\n",
       "      return toinsert\n",
       "    }\n",
       "\n",
       "    /* Handle when an output is cleared or removed */\n",
       "    events.on('clear_output.CodeCell', handleClearOutput);\n",
       "    events.on('delete.Cell', handleClearOutput);\n",
       "\n",
       "    /* Handle when a new output is added */\n",
       "    events.on('output_added.OutputArea', handleAddOutput);\n",
       "\n",
       "    /**\n",
       "     * Register the mime type and append_mime function with output_area\n",
       "     */\n",
       "    OutputArea.prototype.register_mime_type(EXEC_MIME_TYPE, append_mime, {\n",
       "      /* Is output safe? */\n",
       "      safe: true,\n",
       "      /* Index of renderer in `output_area.display_order` */\n",
       "      index: 0\n",
       "    });\n",
       "  }\n",
       "\n",
       "  // register the mime type if in Jupyter Notebook environment and previously unregistered\n",
       "  if (root.Jupyter !== undefined) {\n",
       "    const events = require('base/js/events');\n",
       "    const OutputArea = require('notebook/js/outputarea').OutputArea;\n",
       "\n",
       "    if (OutputArea.prototype.mime_types().indexOf(EXEC_MIME_TYPE) == -1) {\n",
       "      register_renderer(events, OutputArea);\n",
       "    }\n",
       "  }\n",
       "  if (typeof (root._bokeh_timeout) === \"undefined\" || force === true) {\n",
       "    root._bokeh_timeout = Date.now() + 5000;\n",
       "    root._bokeh_failed_load = false;\n",
       "  }\n",
       "\n",
       "  const NB_LOAD_WARNING = {'data': {'text/html':\n",
       "     \"<div style='background-color: #fdd'>\\n\"+\n",
       "     \"<p>\\n\"+\n",
       "     \"BokehJS does not appear to have successfully loaded. If loading BokehJS from CDN, this \\n\"+\n",
       "     \"may be due to a slow or bad network connection. Possible fixes:\\n\"+\n",
       "     \"</p>\\n\"+\n",
       "     \"<ul>\\n\"+\n",
       "     \"<li>re-rerun `output_notebook()` to attempt to load from CDN again, or</li>\\n\"+\n",
       "     \"<li>use INLINE resources instead, as so:</li>\\n\"+\n",
       "     \"</ul>\\n\"+\n",
       "     \"<code>\\n\"+\n",
       "     \"from bokeh.resources import INLINE\\n\"+\n",
       "     \"output_notebook(resources=INLINE)\\n\"+\n",
       "     \"</code>\\n\"+\n",
       "     \"</div>\"}};\n",
       "\n",
       "  function display_loaded() {\n",
       "    const el = document.getElementById(\"1002\");\n",
       "    if (el != null) {\n",
       "      el.textContent = \"BokehJS is loading...\";\n",
       "    }\n",
       "    if (root.Bokeh !== undefined) {\n",
       "      if (el != null) {\n",
       "        el.textContent = \"BokehJS \" + root.Bokeh.version + \" successfully loaded.\";\n",
       "      }\n",
       "    } else if (Date.now() < root._bokeh_timeout) {\n",
       "      setTimeout(display_loaded, 100)\n",
       "    }\n",
       "  }\n",
       "\n",
       "  function run_callbacks() {\n",
       "    try {\n",
       "      root._bokeh_onload_callbacks.forEach(function(callback) {\n",
       "        if (callback != null)\n",
       "          callback();\n",
       "      });\n",
       "    } finally {\n",
       "      delete root._bokeh_onload_callbacks\n",
       "    }\n",
       "    console.debug(\"Bokeh: all callbacks have finished\");\n",
       "  }\n",
       "\n",
       "  function load_libs(css_urls, js_urls, callback) {\n",
       "    if (css_urls == null) css_urls = [];\n",
       "    if (js_urls == null) js_urls = [];\n",
       "\n",
       "    root._bokeh_onload_callbacks.push(callback);\n",
       "    if (root._bokeh_is_loading > 0) {\n",
       "      console.debug(\"Bokeh: BokehJS is being loaded, scheduling callback at\", now());\n",
       "      return null;\n",
       "    }\n",
       "    if (js_urls == null || js_urls.length === 0) {\n",
       "      run_callbacks();\n",
       "      return null;\n",
       "    }\n",
       "    console.debug(\"Bokeh: BokehJS not loaded, scheduling load and callback at\", now());\n",
       "    root._bokeh_is_loading = css_urls.length + js_urls.length;\n",
       "\n",
       "    function on_load() {\n",
       "      root._bokeh_is_loading--;\n",
       "      if (root._bokeh_is_loading === 0) {\n",
       "        console.debug(\"Bokeh: all BokehJS libraries/stylesheets loaded\");\n",
       "        run_callbacks()\n",
       "      }\n",
       "    }\n",
       "\n",
       "    function on_error(url) {\n",
       "      console.error(\"failed to load \" + url);\n",
       "    }\n",
       "\n",
       "    for (let i = 0; i < css_urls.length; i++) {\n",
       "      const url = css_urls[i];\n",
       "      const element = document.createElement(\"link\");\n",
       "      element.onload = on_load;\n",
       "      element.onerror = on_error.bind(null, url);\n",
       "      element.rel = \"stylesheet\";\n",
       "      element.type = \"text/css\";\n",
       "      element.href = url;\n",
       "      console.debug(\"Bokeh: injecting link tag for BokehJS stylesheet: \", url);\n",
       "      document.body.appendChild(element);\n",
       "    }\n",
       "\n",
       "    for (let i = 0; i < js_urls.length; i++) {\n",
       "      const url = js_urls[i];\n",
       "      const element = document.createElement('script');\n",
       "      element.onload = on_load;\n",
       "      element.onerror = on_error.bind(null, url);\n",
       "      element.async = false;\n",
       "      element.src = url;\n",
       "      console.debug(\"Bokeh: injecting script tag for BokehJS library: \", url);\n",
       "      document.head.appendChild(element);\n",
       "    }\n",
       "  };\n",
       "\n",
       "  function inject_raw_css(css) {\n",
       "    const element = document.createElement(\"style\");\n",
       "    element.appendChild(document.createTextNode(css));\n",
       "    document.body.appendChild(element);\n",
       "  }\n",
       "\n",
       "  const js_urls = [\"https://cdn.bokeh.org/bokeh/release/bokeh-2.4.3.min.js\", \"https://cdn.bokeh.org/bokeh/release/bokeh-gl-2.4.3.min.js\", \"https://cdn.bokeh.org/bokeh/release/bokeh-widgets-2.4.3.min.js\", \"https://cdn.bokeh.org/bokeh/release/bokeh-tables-2.4.3.min.js\", \"https://cdn.bokeh.org/bokeh/release/bokeh-mathjax-2.4.3.min.js\", \"https://unpkg.com/@holoviz/panel@0.14.4/dist/panel.min.js\"];\n",
       "  const css_urls = [];\n",
       "\n",
       "  const inline_js = [    function(Bokeh) {\n",
       "      Bokeh.set_log_level(\"info\");\n",
       "    },\n",
       "function(Bokeh) {\n",
       "    }\n",
       "  ];\n",
       "\n",
       "  function run_inline_js() {\n",
       "    if (root.Bokeh !== undefined || force === true) {\n",
       "          for (let i = 0; i < inline_js.length; i++) {\n",
       "      inline_js[i].call(root, root.Bokeh);\n",
       "    }\n",
       "if (force === true) {\n",
       "        display_loaded();\n",
       "      }} else if (Date.now() < root._bokeh_timeout) {\n",
       "      setTimeout(run_inline_js, 100);\n",
       "    } else if (!root._bokeh_failed_load) {\n",
       "      console.log(\"Bokeh: BokehJS failed to load within specified timeout.\");\n",
       "      root._bokeh_failed_load = true;\n",
       "    } else if (force !== true) {\n",
       "      const cell = $(document.getElementById(\"1002\")).parents('.cell').data().cell;\n",
       "      cell.output_area.append_execute_result(NB_LOAD_WARNING)\n",
       "    }\n",
       "  }\n",
       "\n",
       "  if (root._bokeh_is_loading === 0) {\n",
       "    console.debug(\"Bokeh: BokehJS loaded, going straight to plotting\");\n",
       "    run_inline_js();\n",
       "  } else {\n",
       "    load_libs(css_urls, js_urls, function() {\n",
       "      console.debug(\"Bokeh: BokehJS plotting callback run at\", now());\n",
       "      run_inline_js();\n",
       "    });\n",
       "  }\n",
       "}(window));"
      ],
      "application/vnd.bokehjs_load.v0+json": "(function(root) {\n  function now() {\n    return new Date();\n  }\n\n  const force = true;\n\n  if (typeof root._bokeh_onload_callbacks === \"undefined\" || force === true) {\n    root._bokeh_onload_callbacks = [];\n    root._bokeh_is_loading = undefined;\n  }\n\n\n  if (typeof (root._bokeh_timeout) === \"undefined\" || force === true) {\n    root._bokeh_timeout = Date.now() + 5000;\n    root._bokeh_failed_load = false;\n  }\n\n  const NB_LOAD_WARNING = {'data': {'text/html':\n     \"<div style='background-color: #fdd'>\\n\"+\n     \"<p>\\n\"+\n     \"BokehJS does not appear to have successfully loaded. If loading BokehJS from CDN, this \\n\"+\n     \"may be due to a slow or bad network connection. Possible fixes:\\n\"+\n     \"</p>\\n\"+\n     \"<ul>\\n\"+\n     \"<li>re-rerun `output_notebook()` to attempt to load from CDN again, or</li>\\n\"+\n     \"<li>use INLINE resources instead, as so:</li>\\n\"+\n     \"</ul>\\n\"+\n     \"<code>\\n\"+\n     \"from bokeh.resources import INLINE\\n\"+\n     \"output_notebook(resources=INLINE)\\n\"+\n     \"</code>\\n\"+\n     \"</div>\"}};\n\n  function display_loaded() {\n    const el = document.getElementById(\"1002\");\n    if (el != null) {\n      el.textContent = \"BokehJS is loading...\";\n    }\n    if (root.Bokeh !== undefined) {\n      if (el != null) {\n        el.textContent = \"BokehJS \" + root.Bokeh.version + \" successfully loaded.\";\n      }\n    } else if (Date.now() < root._bokeh_timeout) {\n      setTimeout(display_loaded, 100)\n    }\n  }\n\n  function run_callbacks() {\n    try {\n      root._bokeh_onload_callbacks.forEach(function(callback) {\n        if (callback != null)\n          callback();\n      });\n    } finally {\n      delete root._bokeh_onload_callbacks\n    }\n    console.debug(\"Bokeh: all callbacks have finished\");\n  }\n\n  function load_libs(css_urls, js_urls, callback) {\n    if (css_urls == null) css_urls = [];\n    if (js_urls == null) js_urls = [];\n\n    root._bokeh_onload_callbacks.push(callback);\n    if (root._bokeh_is_loading > 0) {\n      console.debug(\"Bokeh: BokehJS is being loaded, scheduling callback at\", now());\n      return null;\n    }\n    if (js_urls == null || js_urls.length === 0) {\n      run_callbacks();\n      return null;\n    }\n    console.debug(\"Bokeh: BokehJS not loaded, scheduling load and callback at\", now());\n    root._bokeh_is_loading = css_urls.length + js_urls.length;\n\n    function on_load() {\n      root._bokeh_is_loading--;\n      if (root._bokeh_is_loading === 0) {\n        console.debug(\"Bokeh: all BokehJS libraries/stylesheets loaded\");\n        run_callbacks()\n      }\n    }\n\n    function on_error(url) {\n      console.error(\"failed to load \" + url);\n    }\n\n    for (let i = 0; i < css_urls.length; i++) {\n      const url = css_urls[i];\n      const element = document.createElement(\"link\");\n      element.onload = on_load;\n      element.onerror = on_error.bind(null, url);\n      element.rel = \"stylesheet\";\n      element.type = \"text/css\";\n      element.href = url;\n      console.debug(\"Bokeh: injecting link tag for BokehJS stylesheet: \", url);\n      document.body.appendChild(element);\n    }\n\n    for (let i = 0; i < js_urls.length; i++) {\n      const url = js_urls[i];\n      const element = document.createElement('script');\n      element.onload = on_load;\n      element.onerror = on_error.bind(null, url);\n      element.async = false;\n      element.src = url;\n      console.debug(\"Bokeh: injecting script tag for BokehJS library: \", url);\n      document.head.appendChild(element);\n    }\n  };\n\n  function inject_raw_css(css) {\n    const element = document.createElement(\"style\");\n    element.appendChild(document.createTextNode(css));\n    document.body.appendChild(element);\n  }\n\n  const js_urls = [\"https://cdn.bokeh.org/bokeh/release/bokeh-2.4.3.min.js\", \"https://cdn.bokeh.org/bokeh/release/bokeh-gl-2.4.3.min.js\", \"https://cdn.bokeh.org/bokeh/release/bokeh-widgets-2.4.3.min.js\", \"https://cdn.bokeh.org/bokeh/release/bokeh-tables-2.4.3.min.js\", \"https://cdn.bokeh.org/bokeh/release/bokeh-mathjax-2.4.3.min.js\", \"https://unpkg.com/@holoviz/panel@0.14.4/dist/panel.min.js\"];\n  const css_urls = [];\n\n  const inline_js = [    function(Bokeh) {\n      Bokeh.set_log_level(\"info\");\n    },\nfunction(Bokeh) {\n    }\n  ];\n\n  function run_inline_js() {\n    if (root.Bokeh !== undefined || force === true) {\n          for (let i = 0; i < inline_js.length; i++) {\n      inline_js[i].call(root, root.Bokeh);\n    }\nif (force === true) {\n        display_loaded();\n      }} else if (Date.now() < root._bokeh_timeout) {\n      setTimeout(run_inline_js, 100);\n    } else if (!root._bokeh_failed_load) {\n      console.log(\"Bokeh: BokehJS failed to load within specified timeout.\");\n      root._bokeh_failed_load = true;\n    } else if (force !== true) {\n      const cell = $(document.getElementById(\"1002\")).parents('.cell').data().cell;\n      cell.output_area.append_execute_result(NB_LOAD_WARNING)\n    }\n  }\n\n  if (root._bokeh_is_loading === 0) {\n    console.debug(\"Bokeh: BokehJS loaded, going straight to plotting\");\n    run_inline_js();\n  } else {\n    load_libs(css_urls, js_urls, function() {\n      console.debug(\"Bokeh: BokehJS plotting callback run at\", now());\n      run_inline_js();\n    });\n  }\n}(window));"
     },
     "metadata": {},
     "output_type": "display_data"
    },
    {
     "data": {
      "application/javascript": [
       "(function(root) {\n",
       "  function now() {\n",
       "    return new Date();\n",
       "  }\n",
       "\n",
       "  var force = true;\n",
       "\n",
       "  if (typeof root._bokeh_onload_callbacks === \"undefined\" || force === true) {\n",
       "    root._bokeh_onload_callbacks = [];\n",
       "    root._bokeh_is_loading = undefined;\n",
       "  }\n",
       "\n",
       "  if (typeof (root._bokeh_timeout) === \"undefined\" || force === true) {\n",
       "    root._bokeh_timeout = Date.now() + 5000;\n",
       "    root._bokeh_failed_load = false;\n",
       "  }\n",
       "\n",
       "  function run_callbacks() {\n",
       "    try {\n",
       "      root._bokeh_onload_callbacks.forEach(function(callback) {\n",
       "        if (callback != null)\n",
       "          callback();\n",
       "      });\n",
       "    } finally {\n",
       "      delete root._bokeh_onload_callbacks\n",
       "    }\n",
       "    console.debug(\"Bokeh: all callbacks have finished\");\n",
       "  }\n",
       "\n",
       "  function load_libs(css_urls, js_urls, js_modules, callback) {\n",
       "    if (css_urls == null) css_urls = [];\n",
       "    if (js_urls == null) js_urls = [];\n",
       "    if (js_modules == null) js_modules = [];\n",
       "\n",
       "    root._bokeh_onload_callbacks.push(callback);\n",
       "    if (root._bokeh_is_loading > 0) {\n",
       "      console.debug(\"Bokeh: BokehJS is being loaded, scheduling callback at\", now());\n",
       "      return null;\n",
       "    }\n",
       "    if (js_urls.length === 0 && js_modules.length === 0) {\n",
       "      run_callbacks();\n",
       "      return null;\n",
       "    }\n",
       "    console.debug(\"Bokeh: BokehJS not loaded, scheduling load and callback at\", now());\n",
       "\n",
       "    function on_load() {\n",
       "      root._bokeh_is_loading--;\n",
       "      if (root._bokeh_is_loading === 0) {\n",
       "        console.debug(\"Bokeh: all BokehJS libraries/stylesheets loaded\");\n",
       "        run_callbacks()\n",
       "      }\n",
       "    }\n",
       "\n",
       "    function on_error() {\n",
       "      console.error(\"failed to load \" + url);\n",
       "    }\n",
       "\n",
       "    for (var i = 0; i < css_urls.length; i++) {\n",
       "      var url = css_urls[i];\n",
       "      const element = document.createElement(\"link\");\n",
       "      element.onload = on_load;\n",
       "      element.onerror = on_error;\n",
       "      element.rel = \"stylesheet\";\n",
       "      element.type = \"text/css\";\n",
       "      element.href = url;\n",
       "      console.debug(\"Bokeh: injecting link tag for BokehJS stylesheet: \", url);\n",
       "      document.body.appendChild(element);\n",
       "    }\n",
       "\n",
       "    var skip = [];\n",
       "    if (window.requirejs) {\n",
       "      window.requirejs.config({'packages': {}, 'paths': {'ace': '//cdnjs.cloudflare.com/ajax/libs/ace/1.4.7', 'gridstack': 'https://cdn.jsdelivr.net/npm/gridstack@4.2.5/dist/gridstack-h5', 'notyf': 'https://cdn.jsdelivr.net/npm/notyf@3/notyf.min'}, 'shim': {'ace/ext-language_tools': {'deps': ['ace/ace']}, 'ace/ext-modelist': {'deps': ['ace/ace']}, 'gridstack': {'exports': 'GridStack'}}});\n",
       "      require([\"ace/ace\"], function(ace) {\n",
       "\twindow.ace = ace\n",
       "\ton_load()\n",
       "      })\n",
       "      require([\"ace/ext-language_tools\"], function() {\n",
       "\ton_load()\n",
       "      })\n",
       "      require([\"ace/ext-modelist\"], function() {\n",
       "\ton_load()\n",
       "      })\n",
       "      require([\"gridstack\"], function(GridStack) {\n",
       "\twindow.GridStack = GridStack\n",
       "\ton_load()\n",
       "      })\n",
       "      require([\"notyf\"], function() {\n",
       "\ton_load()\n",
       "      })\n",
       "      root._bokeh_is_loading = css_urls.length + 5;\n",
       "    } else {\n",
       "      root._bokeh_is_loading = css_urls.length + js_urls.length + js_modules.length;\n",
       "    }    if (((window['ace'] !== undefined) && (!(window['ace'] instanceof HTMLElement))) || window.requirejs) {\n",
       "      var urls = ['https://cdnjs.cloudflare.com/ajax/libs/ace/1.4.11/ace.js', 'https://cdnjs.cloudflare.com/ajax/libs/ace/1.4.11/ext-language_tools.js', 'https://cdnjs.cloudflare.com/ajax/libs/ace/1.4.11/ext-modelist.js'];\n",
       "      for (var i = 0; i < urls.length; i++) {\n",
       "        skip.push(urls[i])\n",
       "      }\n",
       "    }    if (((window['GridStack'] !== undefined) && (!(window['GridStack'] instanceof HTMLElement))) || window.requirejs) {\n",
       "      var urls = ['https://cdn.holoviz.org/panel/0.14.4/dist/bundled/gridstack/gridstack@4.2.5/dist/gridstack-h5.js'];\n",
       "      for (var i = 0; i < urls.length; i++) {\n",
       "        skip.push(urls[i])\n",
       "      }\n",
       "    }    if (((window['Notyf'] !== undefined) && (!(window['Notyf'] instanceof HTMLElement))) || window.requirejs) {\n",
       "      var urls = ['https://cdn.holoviz.org/panel/0.14.4/dist/bundled/notificationarea/notyf@3/notyf.min.js'];\n",
       "      for (var i = 0; i < urls.length; i++) {\n",
       "        skip.push(urls[i])\n",
       "      }\n",
       "    }    for (var i = 0; i < js_urls.length; i++) {\n",
       "      var url = js_urls[i];\n",
       "      if (skip.indexOf(url) >= 0) {\n",
       "\tif (!window.requirejs) {\n",
       "\t  on_load();\n",
       "\t}\n",
       "\tcontinue;\n",
       "      }\n",
       "      var element = document.createElement('script');\n",
       "      element.onload = on_load;\n",
       "      element.onerror = on_error;\n",
       "      element.async = false;\n",
       "      element.src = url;\n",
       "      console.debug(\"Bokeh: injecting script tag for BokehJS library: \", url);\n",
       "      document.head.appendChild(element);\n",
       "    }\n",
       "    for (var i = 0; i < js_modules.length; i++) {\n",
       "      var url = js_modules[i];\n",
       "      if (skip.indexOf(url) >= 0) {\n",
       "\tif (!window.requirejs) {\n",
       "\t  on_load();\n",
       "\t}\n",
       "\tcontinue;\n",
       "      }\n",
       "      var element = document.createElement('script');\n",
       "      element.onload = on_load;\n",
       "      element.onerror = on_error;\n",
       "      element.async = false;\n",
       "      element.src = url;\n",
       "      element.type = \"module\";\n",
       "      console.debug(\"Bokeh: injecting script tag for BokehJS library: \", url);\n",
       "      document.head.appendChild(element);\n",
       "    }\n",
       "    if (!js_urls.length && !js_modules.length) {\n",
       "      on_load()\n",
       "    }\n",
       "  };\n",
       "\n",
       "  function inject_raw_css(css) {\n",
       "    const element = document.createElement(\"style\");\n",
       "    element.appendChild(document.createTextNode(css));\n",
       "    document.body.appendChild(element);\n",
       "  }\n",
       "\n",
       "  var js_urls = [\"https://cdnjs.cloudflare.com/ajax/libs/ace/1.4.11/ace.js\", \"https://cdnjs.cloudflare.com/ajax/libs/ace/1.4.11/ext-language_tools.js\", \"https://cdnjs.cloudflare.com/ajax/libs/ace/1.4.11/ext-modelist.js\", \"https://cdn.bokeh.org/bokeh/release/bokeh-2.4.3.min.js\", \"https://cdn.bokeh.org/bokeh/release/bokeh-gl-2.4.3.min.js\", \"https://cdn.bokeh.org/bokeh/release/bokeh-widgets-2.4.3.min.js\", \"https://cdn.bokeh.org/bokeh/release/bokeh-tables-2.4.3.min.js\", \"https://cdn.bokeh.org/bokeh/release/bokeh-mathjax-2.4.3.min.js\", \"https://unpkg.com/@holoviz/panel@0.14.4/dist/panel.min.js\"];\n",
       "  var js_modules = [];\n",
       "  var css_urls = [\"https://cdn.holoviz.org/panel/0.14.4/dist/css/card.css\", \"https://cdn.holoviz.org/panel/0.14.4/dist/css/json.css\", \"https://cdn.holoviz.org/panel/0.14.4/dist/css/markdown.css\", \"https://cdn.holoviz.org/panel/0.14.4/dist/css/debugger.css\", \"https://cdn.holoviz.org/panel/0.14.4/dist/css/dataframe.css\", \"https://cdn.holoviz.org/panel/0.14.4/dist/css/widgets.css\", \"https://cdn.holoviz.org/panel/0.14.4/dist/css/alerts.css\", \"https://cdn.holoviz.org/panel/0.14.4/dist/css/loading.css\"];\n",
       "  var inline_js = [    function(Bokeh) {\n",
       "      inject_raw_css(\"/*\\n ~ CML // Creative Machine Learning ~\\n mml.css : CSS styling information for Panel and Bokeh\\n \\n This file defines the main CSS styling information for the CML course\\n \\n Author               :  Philippe Esling\\n                        <esling@ircam.fr>\\n*/\\n\\nbody {\\n  display: flex;\\n  height: 100vh;\\n  margin: 0px;\\n  overflow-x: hidden;\\n  overflow-y: hidden;\\n}\\n\\n.bk-root .bk, .bk-root .bk:before, .bk-root .bk:after {\\n  font-family: \\\"Josefin Sans\\\";\\n}\\n\\nimg {\\n  max-width: 100%;\\n}\\n\\n#container {\\n  padding:0px;\\n  height:100vh;\\n  width: 100vw;\\n  max-width: 100vw;\\n}\\n\\n#sidebar .mdc-list {\\n  padding-left: 5px;\\n  padding-right: 5px;\\n}\\n\\n.mdc-drawer-app-content {\\n  flex: auto;\\n  position: relative;\\n  overflow: hidden;\\n}\\n\\n.mdc-drawer {\\n  background: #FAFAFA; /* GRAY 50 */\\n}\\n\\n.mdc-drawer-app-content {\\n  margin-left: 0 !important;\\n}\\n\\n.title-bar {\\n  display: contents;\\n  justify-content: center;\\n  align-content: center;\\n  width: 100%;\\n}\\n\\n.mdc-top-app-bar .bk-menu {\\n  color: black\\n}\\n\\n.app-header {\\n  display: contents;\\n  padding-left: 10px;\\n  font-size: 1.25em;\\n}\\n\\nimg.app-logo {\\n  padding-right: 10px;\\n  font-size: 28px;\\n  height: 30px;\\n  max-width: inherit;\\n  padding-top: 12px;\\n  padding-bottom: 6px;\\n}\\n\\n#app-title {\\n  padding-right: 12px;\\n  padding-left: 12px;\\n}\\n\\n.title {\\n  font-family: \\\"Josefin Sans\\\";\\n  color: #fff;\\n  text-decoration: none;\\n  text-decoration-line: none;\\n  text-decoration-style: initial;\\n  text-decoration-color: initial;\\n  font-weight: 400;\\n  font-size: 2em;\\n  line-height: 2em;\\n  white-space: nowrap;\\n}\\n\\n.main-content {\\n  overflow-y: scroll;\\n  overflow-x: auto;\\n}\\n\\n#header {\\n  position: absolute;\\n  z-index: 7;\\n}\\n\\n#header-items {\\n  width: 100%;\\n  margin-left:15px;\\n}\\n\\n.pn-busy-container {\\n  align-items: center;\\n  justify-content: center;\\n  display: flex;\\n}\\n\\n.mdc-drawer__content {\\n  overflow-x: hidden;\\n}\\n.mdc-drawer__content, .main-content {\\n  padding: 12px;\\n}\\n\\n.main-content {\\n  height: calc(100vh - 88px);\\n  max-height: calc(100vh - 88px);\\n  padding-right: 32px;\\n}\\n\\nbutton.mdc-button.mdc-card-button {\\n  color: transparent;\\n  height: 50px;\\n}\\n\\np.bk.mdc-button {\\n  display: none;\\n}\\n\\ndiv.bk.mdc-card {\\n  border-radius: 0px\\n}\\n\\n.mdc-card .bk.card-header {\\n  display: flex;\\n}\\n\\n.bk.mdc-card-title {\\n  font-family: \\\"Josefin Sans\\\";\\n  font-weight: bold;\\n  align-items: center;\\n  display: flex !important;\\n  position: relative !important;\\n}\\n\\n.bk.mdc-card-title:nth-child(2) {\\n  margin-left: -1.4em;\\n}\\n\\n.pn-modal {\\n  overflow-y: scroll;\\n  width: 100%;\\n  display: none;\\n  position: absolute;\\n  top: 0;\\n  left: 0;\\n}\\n\\n.pn-modal-content {\\n  font-family: \\\"Josefin Sans\\\";\\n  background-color: #0e0e0e;\\n  margin: auto;\\n  margin-top: 25px;\\n  margin-bottom: 25px;\\n  padding: 15px 20px 20px 20px;\\n  border: 1px solid #888;\\n  width: 80% !important;\\n}\\n\\n.pn-modal-close {\\n  position: absolute;\\n  right: 25px;\\n  z-index: 100;\\n}\\n\\n.pn-modal-close:hover,\\n.pn-modal-close:focus {\\n  color: #000;\\n  text-decoration: none;\\n  cursor: pointer;\\n}\\n\\n.custom_button_bokeh button.bk.bk-btn.bk-btn-default {\\n    font-size:48pt;\\n    background-color: #05b7ff;\\n    border-color: #05b7ff;\\n}\");\n",
       "    },    function(Bokeh) {\n",
       "      inject_raw_css(\"\\n    .bk.pn-loading.arc:before {\\n      background-image: url(\\\"data:image/svg+xml;base64,PHN2ZyB4bWxucz0iaHR0cDovL3d3dy53My5vcmcvMjAwMC9zdmciIHN0eWxlPSJtYXJnaW46IGF1dG87IGJhY2tncm91bmQ6IG5vbmU7IGRpc3BsYXk6IGJsb2NrOyBzaGFwZS1yZW5kZXJpbmc6IGF1dG87IiB2aWV3Qm94PSIwIDAgMTAwIDEwMCIgcHJlc2VydmVBc3BlY3RSYXRpbz0ieE1pZFlNaWQiPiAgPGNpcmNsZSBjeD0iNTAiIGN5PSI1MCIgZmlsbD0ibm9uZSIgc3Ryb2tlPSIjYzNjM2MzIiBzdHJva2Utd2lkdGg9IjEwIiByPSIzNSIgc3Ryb2tlLWRhc2hhcnJheT0iMTY0LjkzMzYxNDMxMzQ2NDE1IDU2Ljk3Nzg3MTQzNzgyMTM4Ij4gICAgPGFuaW1hdGVUcmFuc2Zvcm0gYXR0cmlidXRlTmFtZT0idHJhbnNmb3JtIiB0eXBlPSJyb3RhdGUiIHJlcGVhdENvdW50PSJpbmRlZmluaXRlIiBkdXI9IjFzIiB2YWx1ZXM9IjAgNTAgNTA7MzYwIDUwIDUwIiBrZXlUaW1lcz0iMDsxIj48L2FuaW1hdGVUcmFuc2Zvcm0+ICA8L2NpcmNsZT48L3N2Zz4=\\\");\\n      background-size: auto calc(min(50%, 400px));\\n    }\\n    \");\n",
       "    },    function(Bokeh) {\n",
       "      Bokeh.set_log_level(\"info\");\n",
       "    },\n",
       "function(Bokeh) {} // ensure no trailing comma for IE\n",
       "  ];\n",
       "\n",
       "  function run_inline_js() {\n",
       "    if ((root.Bokeh !== undefined) || (force === true)) {\n",
       "      for (var i = 0; i < inline_js.length; i++) {\n",
       "        inline_js[i].call(root, root.Bokeh);\n",
       "      }} else if (Date.now() < root._bokeh_timeout) {\n",
       "      setTimeout(run_inline_js, 100);\n",
       "    } else if (!root._bokeh_failed_load) {\n",
       "      console.log(\"Bokeh: BokehJS failed to load within specified timeout.\");\n",
       "      root._bokeh_failed_load = true;\n",
       "    }\n",
       "  }\n",
       "\n",
       "  if (root._bokeh_is_loading === 0) {\n",
       "    console.debug(\"Bokeh: BokehJS loaded, going straight to plotting\");\n",
       "    run_inline_js();\n",
       "  } else {\n",
       "    load_libs(css_urls, js_urls, js_modules, function() {\n",
       "      console.debug(\"Bokeh: BokehJS plotting callback run at\", now());\n",
       "      run_inline_js();\n",
       "    });\n",
       "  }\n",
       "}(window));"
      ],
      "application/vnd.holoviews_load.v0+json": "(function(root) {\n  function now() {\n    return new Date();\n  }\n\n  var force = true;\n\n  if (typeof root._bokeh_onload_callbacks === \"undefined\" || force === true) {\n    root._bokeh_onload_callbacks = [];\n    root._bokeh_is_loading = undefined;\n  }\n\n  if (typeof (root._bokeh_timeout) === \"undefined\" || force === true) {\n    root._bokeh_timeout = Date.now() + 5000;\n    root._bokeh_failed_load = false;\n  }\n\n  function run_callbacks() {\n    try {\n      root._bokeh_onload_callbacks.forEach(function(callback) {\n        if (callback != null)\n          callback();\n      });\n    } finally {\n      delete root._bokeh_onload_callbacks\n    }\n    console.debug(\"Bokeh: all callbacks have finished\");\n  }\n\n  function load_libs(css_urls, js_urls, js_modules, callback) {\n    if (css_urls == null) css_urls = [];\n    if (js_urls == null) js_urls = [];\n    if (js_modules == null) js_modules = [];\n\n    root._bokeh_onload_callbacks.push(callback);\n    if (root._bokeh_is_loading > 0) {\n      console.debug(\"Bokeh: BokehJS is being loaded, scheduling callback at\", now());\n      return null;\n    }\n    if (js_urls.length === 0 && js_modules.length === 0) {\n      run_callbacks();\n      return null;\n    }\n    console.debug(\"Bokeh: BokehJS not loaded, scheduling load and callback at\", now());\n\n    function on_load() {\n      root._bokeh_is_loading--;\n      if (root._bokeh_is_loading === 0) {\n        console.debug(\"Bokeh: all BokehJS libraries/stylesheets loaded\");\n        run_callbacks()\n      }\n    }\n\n    function on_error() {\n      console.error(\"failed to load \" + url);\n    }\n\n    for (var i = 0; i < css_urls.length; i++) {\n      var url = css_urls[i];\n      const element = document.createElement(\"link\");\n      element.onload = on_load;\n      element.onerror = on_error;\n      element.rel = \"stylesheet\";\n      element.type = \"text/css\";\n      element.href = url;\n      console.debug(\"Bokeh: injecting link tag for BokehJS stylesheet: \", url);\n      document.body.appendChild(element);\n    }\n\n    var skip = [];\n    if (window.requirejs) {\n      window.requirejs.config({'packages': {}, 'paths': {'ace': '//cdnjs.cloudflare.com/ajax/libs/ace/1.4.7', 'gridstack': 'https://cdn.jsdelivr.net/npm/gridstack@4.2.5/dist/gridstack-h5', 'notyf': 'https://cdn.jsdelivr.net/npm/notyf@3/notyf.min'}, 'shim': {'ace/ext-language_tools': {'deps': ['ace/ace']}, 'ace/ext-modelist': {'deps': ['ace/ace']}, 'gridstack': {'exports': 'GridStack'}}});\n      require([\"ace/ace\"], function(ace) {\n\twindow.ace = ace\n\ton_load()\n      })\n      require([\"ace/ext-language_tools\"], function() {\n\ton_load()\n      })\n      require([\"ace/ext-modelist\"], function() {\n\ton_load()\n      })\n      require([\"gridstack\"], function(GridStack) {\n\twindow.GridStack = GridStack\n\ton_load()\n      })\n      require([\"notyf\"], function() {\n\ton_load()\n      })\n      root._bokeh_is_loading = css_urls.length + 5;\n    } else {\n      root._bokeh_is_loading = css_urls.length + js_urls.length + js_modules.length;\n    }    if (((window['ace'] !== undefined) && (!(window['ace'] instanceof HTMLElement))) || window.requirejs) {\n      var urls = ['https://cdnjs.cloudflare.com/ajax/libs/ace/1.4.11/ace.js', 'https://cdnjs.cloudflare.com/ajax/libs/ace/1.4.11/ext-language_tools.js', 'https://cdnjs.cloudflare.com/ajax/libs/ace/1.4.11/ext-modelist.js'];\n      for (var i = 0; i < urls.length; i++) {\n        skip.push(urls[i])\n      }\n    }    if (((window['GridStack'] !== undefined) && (!(window['GridStack'] instanceof HTMLElement))) || window.requirejs) {\n      var urls = ['https://cdn.holoviz.org/panel/0.14.4/dist/bundled/gridstack/gridstack@4.2.5/dist/gridstack-h5.js'];\n      for (var i = 0; i < urls.length; i++) {\n        skip.push(urls[i])\n      }\n    }    if (((window['Notyf'] !== undefined) && (!(window['Notyf'] instanceof HTMLElement))) || window.requirejs) {\n      var urls = ['https://cdn.holoviz.org/panel/0.14.4/dist/bundled/notificationarea/notyf@3/notyf.min.js'];\n      for (var i = 0; i < urls.length; i++) {\n        skip.push(urls[i])\n      }\n    }    for (var i = 0; i < js_urls.length; i++) {\n      var url = js_urls[i];\n      if (skip.indexOf(url) >= 0) {\n\tif (!window.requirejs) {\n\t  on_load();\n\t}\n\tcontinue;\n      }\n      var element = document.createElement('script');\n      element.onload = on_load;\n      element.onerror = on_error;\n      element.async = false;\n      element.src = url;\n      console.debug(\"Bokeh: injecting script tag for BokehJS library: \", url);\n      document.head.appendChild(element);\n    }\n    for (var i = 0; i < js_modules.length; i++) {\n      var url = js_modules[i];\n      if (skip.indexOf(url) >= 0) {\n\tif (!window.requirejs) {\n\t  on_load();\n\t}\n\tcontinue;\n      }\n      var element = document.createElement('script');\n      element.onload = on_load;\n      element.onerror = on_error;\n      element.async = false;\n      element.src = url;\n      element.type = \"module\";\n      console.debug(\"Bokeh: injecting script tag for BokehJS library: \", url);\n      document.head.appendChild(element);\n    }\n    if (!js_urls.length && !js_modules.length) {\n      on_load()\n    }\n  };\n\n  function inject_raw_css(css) {\n    const element = document.createElement(\"style\");\n    element.appendChild(document.createTextNode(css));\n    document.body.appendChild(element);\n  }\n\n  var js_urls = [\"https://cdnjs.cloudflare.com/ajax/libs/ace/1.4.11/ace.js\", \"https://cdnjs.cloudflare.com/ajax/libs/ace/1.4.11/ext-language_tools.js\", \"https://cdnjs.cloudflare.com/ajax/libs/ace/1.4.11/ext-modelist.js\", \"https://cdn.bokeh.org/bokeh/release/bokeh-2.4.3.min.js\", \"https://cdn.bokeh.org/bokeh/release/bokeh-gl-2.4.3.min.js\", \"https://cdn.bokeh.org/bokeh/release/bokeh-widgets-2.4.3.min.js\", \"https://cdn.bokeh.org/bokeh/release/bokeh-tables-2.4.3.min.js\", \"https://cdn.bokeh.org/bokeh/release/bokeh-mathjax-2.4.3.min.js\", \"https://unpkg.com/@holoviz/panel@0.14.4/dist/panel.min.js\"];\n  var js_modules = [];\n  var css_urls = [\"https://cdn.holoviz.org/panel/0.14.4/dist/css/card.css\", \"https://cdn.holoviz.org/panel/0.14.4/dist/css/json.css\", \"https://cdn.holoviz.org/panel/0.14.4/dist/css/markdown.css\", \"https://cdn.holoviz.org/panel/0.14.4/dist/css/debugger.css\", \"https://cdn.holoviz.org/panel/0.14.4/dist/css/dataframe.css\", \"https://cdn.holoviz.org/panel/0.14.4/dist/css/widgets.css\", \"https://cdn.holoviz.org/panel/0.14.4/dist/css/alerts.css\", \"https://cdn.holoviz.org/panel/0.14.4/dist/css/loading.css\"];\n  var inline_js = [    function(Bokeh) {\n      inject_raw_css(\"/*\\n ~ CML // Creative Machine Learning ~\\n mml.css : CSS styling information for Panel and Bokeh\\n \\n This file defines the main CSS styling information for the CML course\\n \\n Author               :  Philippe Esling\\n                        <esling@ircam.fr>\\n*/\\n\\nbody {\\n  display: flex;\\n  height: 100vh;\\n  margin: 0px;\\n  overflow-x: hidden;\\n  overflow-y: hidden;\\n}\\n\\n.bk-root .bk, .bk-root .bk:before, .bk-root .bk:after {\\n  font-family: \\\"Josefin Sans\\\";\\n}\\n\\nimg {\\n  max-width: 100%;\\n}\\n\\n#container {\\n  padding:0px;\\n  height:100vh;\\n  width: 100vw;\\n  max-width: 100vw;\\n}\\n\\n#sidebar .mdc-list {\\n  padding-left: 5px;\\n  padding-right: 5px;\\n}\\n\\n.mdc-drawer-app-content {\\n  flex: auto;\\n  position: relative;\\n  overflow: hidden;\\n}\\n\\n.mdc-drawer {\\n  background: #FAFAFA; /* GRAY 50 */\\n}\\n\\n.mdc-drawer-app-content {\\n  margin-left: 0 !important;\\n}\\n\\n.title-bar {\\n  display: contents;\\n  justify-content: center;\\n  align-content: center;\\n  width: 100%;\\n}\\n\\n.mdc-top-app-bar .bk-menu {\\n  color: black\\n}\\n\\n.app-header {\\n  display: contents;\\n  padding-left: 10px;\\n  font-size: 1.25em;\\n}\\n\\nimg.app-logo {\\n  padding-right: 10px;\\n  font-size: 28px;\\n  height: 30px;\\n  max-width: inherit;\\n  padding-top: 12px;\\n  padding-bottom: 6px;\\n}\\n\\n#app-title {\\n  padding-right: 12px;\\n  padding-left: 12px;\\n}\\n\\n.title {\\n  font-family: \\\"Josefin Sans\\\";\\n  color: #fff;\\n  text-decoration: none;\\n  text-decoration-line: none;\\n  text-decoration-style: initial;\\n  text-decoration-color: initial;\\n  font-weight: 400;\\n  font-size: 2em;\\n  line-height: 2em;\\n  white-space: nowrap;\\n}\\n\\n.main-content {\\n  overflow-y: scroll;\\n  overflow-x: auto;\\n}\\n\\n#header {\\n  position: absolute;\\n  z-index: 7;\\n}\\n\\n#header-items {\\n  width: 100%;\\n  margin-left:15px;\\n}\\n\\n.pn-busy-container {\\n  align-items: center;\\n  justify-content: center;\\n  display: flex;\\n}\\n\\n.mdc-drawer__content {\\n  overflow-x: hidden;\\n}\\n.mdc-drawer__content, .main-content {\\n  padding: 12px;\\n}\\n\\n.main-content {\\n  height: calc(100vh - 88px);\\n  max-height: calc(100vh - 88px);\\n  padding-right: 32px;\\n}\\n\\nbutton.mdc-button.mdc-card-button {\\n  color: transparent;\\n  height: 50px;\\n}\\n\\np.bk.mdc-button {\\n  display: none;\\n}\\n\\ndiv.bk.mdc-card {\\n  border-radius: 0px\\n}\\n\\n.mdc-card .bk.card-header {\\n  display: flex;\\n}\\n\\n.bk.mdc-card-title {\\n  font-family: \\\"Josefin Sans\\\";\\n  font-weight: bold;\\n  align-items: center;\\n  display: flex !important;\\n  position: relative !important;\\n}\\n\\n.bk.mdc-card-title:nth-child(2) {\\n  margin-left: -1.4em;\\n}\\n\\n.pn-modal {\\n  overflow-y: scroll;\\n  width: 100%;\\n  display: none;\\n  position: absolute;\\n  top: 0;\\n  left: 0;\\n}\\n\\n.pn-modal-content {\\n  font-family: \\\"Josefin Sans\\\";\\n  background-color: #0e0e0e;\\n  margin: auto;\\n  margin-top: 25px;\\n  margin-bottom: 25px;\\n  padding: 15px 20px 20px 20px;\\n  border: 1px solid #888;\\n  width: 80% !important;\\n}\\n\\n.pn-modal-close {\\n  position: absolute;\\n  right: 25px;\\n  z-index: 100;\\n}\\n\\n.pn-modal-close:hover,\\n.pn-modal-close:focus {\\n  color: #000;\\n  text-decoration: none;\\n  cursor: pointer;\\n}\\n\\n.custom_button_bokeh button.bk.bk-btn.bk-btn-default {\\n    font-size:48pt;\\n    background-color: #05b7ff;\\n    border-color: #05b7ff;\\n}\");\n    },    function(Bokeh) {\n      inject_raw_css(\"\\n    .bk.pn-loading.arc:before {\\n      background-image: url(\\\"data:image/svg+xml;base64,PHN2ZyB4bWxucz0iaHR0cDovL3d3dy53My5vcmcvMjAwMC9zdmciIHN0eWxlPSJtYXJnaW46IGF1dG87IGJhY2tncm91bmQ6IG5vbmU7IGRpc3BsYXk6IGJsb2NrOyBzaGFwZS1yZW5kZXJpbmc6IGF1dG87IiB2aWV3Qm94PSIwIDAgMTAwIDEwMCIgcHJlc2VydmVBc3BlY3RSYXRpbz0ieE1pZFlNaWQiPiAgPGNpcmNsZSBjeD0iNTAiIGN5PSI1MCIgZmlsbD0ibm9uZSIgc3Ryb2tlPSIjYzNjM2MzIiBzdHJva2Utd2lkdGg9IjEwIiByPSIzNSIgc3Ryb2tlLWRhc2hhcnJheT0iMTY0LjkzMzYxNDMxMzQ2NDE1IDU2Ljk3Nzg3MTQzNzgyMTM4Ij4gICAgPGFuaW1hdGVUcmFuc2Zvcm0gYXR0cmlidXRlTmFtZT0idHJhbnNmb3JtIiB0eXBlPSJyb3RhdGUiIHJlcGVhdENvdW50PSJpbmRlZmluaXRlIiBkdXI9IjFzIiB2YWx1ZXM9IjAgNTAgNTA7MzYwIDUwIDUwIiBrZXlUaW1lcz0iMDsxIj48L2FuaW1hdGVUcmFuc2Zvcm0+ICA8L2NpcmNsZT48L3N2Zz4=\\\");\\n      background-size: auto calc(min(50%, 400px));\\n    }\\n    \");\n    },    function(Bokeh) {\n      Bokeh.set_log_level(\"info\");\n    },\nfunction(Bokeh) {} // ensure no trailing comma for IE\n  ];\n\n  function run_inline_js() {\n    if ((root.Bokeh !== undefined) || (force === true)) {\n      for (var i = 0; i < inline_js.length; i++) {\n        inline_js[i].call(root, root.Bokeh);\n      }} else if (Date.now() < root._bokeh_timeout) {\n      setTimeout(run_inline_js, 100);\n    } else if (!root._bokeh_failed_load) {\n      console.log(\"Bokeh: BokehJS failed to load within specified timeout.\");\n      root._bokeh_failed_load = true;\n    }\n  }\n\n  if (root._bokeh_is_loading === 0) {\n    console.debug(\"Bokeh: BokehJS loaded, going straight to plotting\");\n    run_inline_js();\n  } else {\n    load_libs(css_urls, js_urls, js_modules, function() {\n      console.debug(\"Bokeh: BokehJS plotting callback run at\", now());\n      run_inline_js();\n    });\n  }\n}(window));"
     },
     "metadata": {},
     "output_type": "display_data"
    },
    {
     "data": {
      "application/javascript": [
       "\n",
       "if ((window.PyViz === undefined) || (window.PyViz instanceof HTMLElement)) {\n",
       "  window.PyViz = {comms: {}, comm_status:{}, kernels:{}, receivers: {}, plot_index: []}\n",
       "}\n",
       "\n",
       "\n",
       "    function JupyterCommManager() {\n",
       "    }\n",
       "\n",
       "    JupyterCommManager.prototype.register_target = function(plot_id, comm_id, msg_handler) {\n",
       "      if (window.comm_manager || ((window.Jupyter !== undefined) && (Jupyter.notebook.kernel != null))) {\n",
       "        var comm_manager = window.comm_manager || Jupyter.notebook.kernel.comm_manager;\n",
       "        comm_manager.register_target(comm_id, function(comm) {\n",
       "          comm.on_msg(msg_handler);\n",
       "        });\n",
       "      } else if ((plot_id in window.PyViz.kernels) && (window.PyViz.kernels[plot_id])) {\n",
       "        window.PyViz.kernels[plot_id].registerCommTarget(comm_id, function(comm) {\n",
       "          comm.onMsg = msg_handler;\n",
       "        });\n",
       "      } else if (typeof google != 'undefined' && google.colab.kernel != null) {\n",
       "        google.colab.kernel.comms.registerTarget(comm_id, (comm) => {\n",
       "          var messages = comm.messages[Symbol.asyncIterator]();\n",
       "          function processIteratorResult(result) {\n",
       "            var message = result.value;\n",
       "            console.log(message)\n",
       "            var content = {data: message.data, comm_id};\n",
       "            var buffers = []\n",
       "            for (var buffer of message.buffers || []) {\n",
       "              buffers.push(new DataView(buffer))\n",
       "            }\n",
       "            var metadata = message.metadata || {};\n",
       "            var msg = {content, buffers, metadata}\n",
       "            msg_handler(msg);\n",
       "            return messages.next().then(processIteratorResult);\n",
       "          }\n",
       "          return messages.next().then(processIteratorResult);\n",
       "        })\n",
       "      }\n",
       "    }\n",
       "\n",
       "    JupyterCommManager.prototype.get_client_comm = function(plot_id, comm_id, msg_handler) {\n",
       "      if (comm_id in window.PyViz.comms) {\n",
       "        return window.PyViz.comms[comm_id];\n",
       "      } else if (window.comm_manager || ((window.Jupyter !== undefined) && (Jupyter.notebook.kernel != null))) {\n",
       "        var comm_manager = window.comm_manager || Jupyter.notebook.kernel.comm_manager;\n",
       "        var comm = comm_manager.new_comm(comm_id, {}, {}, {}, comm_id);\n",
       "        if (msg_handler) {\n",
       "          comm.on_msg(msg_handler);\n",
       "        }\n",
       "      } else if ((plot_id in window.PyViz.kernels) && (window.PyViz.kernels[plot_id])) {\n",
       "        var comm = window.PyViz.kernels[plot_id].connectToComm(comm_id);\n",
       "        comm.open();\n",
       "        if (msg_handler) {\n",
       "          comm.onMsg = msg_handler;\n",
       "        }\n",
       "      } else if (typeof google != 'undefined' && google.colab.kernel != null) {\n",
       "        var comm_promise = google.colab.kernel.comms.open(comm_id)\n",
       "        comm_promise.then((comm) => {\n",
       "          window.PyViz.comms[comm_id] = comm;\n",
       "          if (msg_handler) {\n",
       "            var messages = comm.messages[Symbol.asyncIterator]();\n",
       "            function processIteratorResult(result) {\n",
       "              var message = result.value;\n",
       "              var content = {data: message.data};\n",
       "              var metadata = message.metadata || {comm_id};\n",
       "              var msg = {content, metadata}\n",
       "              msg_handler(msg);\n",
       "              return messages.next().then(processIteratorResult);\n",
       "            }\n",
       "            return messages.next().then(processIteratorResult);\n",
       "          }\n",
       "        }) \n",
       "        var sendClosure = (data, metadata, buffers, disposeOnDone) => {\n",
       "          return comm_promise.then((comm) => {\n",
       "            comm.send(data, metadata, buffers, disposeOnDone);\n",
       "          });\n",
       "        };\n",
       "        var comm = {\n",
       "          send: sendClosure\n",
       "        };\n",
       "      }\n",
       "      window.PyViz.comms[comm_id] = comm;\n",
       "      return comm;\n",
       "    }\n",
       "    window.PyViz.comm_manager = new JupyterCommManager();\n",
       "    \n",
       "\n",
       "\n",
       "var JS_MIME_TYPE = 'application/javascript';\n",
       "var HTML_MIME_TYPE = 'text/html';\n",
       "var EXEC_MIME_TYPE = 'application/vnd.holoviews_exec.v0+json';\n",
       "var CLASS_NAME = 'output';\n",
       "\n",
       "/**\n",
       " * Render data to the DOM node\n",
       " */\n",
       "function render(props, node) {\n",
       "  var div = document.createElement(\"div\");\n",
       "  var script = document.createElement(\"script\");\n",
       "  node.appendChild(div);\n",
       "  node.appendChild(script);\n",
       "}\n",
       "\n",
       "/**\n",
       " * Handle when a new output is added\n",
       " */\n",
       "function handle_add_output(event, handle) {\n",
       "  var output_area = handle.output_area;\n",
       "  var output = handle.output;\n",
       "  if ((output.data == undefined) || (!output.data.hasOwnProperty(EXEC_MIME_TYPE))) {\n",
       "    return\n",
       "  }\n",
       "  var id = output.metadata[EXEC_MIME_TYPE][\"id\"];\n",
       "  var toinsert = output_area.element.find(\".\" + CLASS_NAME.split(' ')[0]);\n",
       "  if (id !== undefined) {\n",
       "    var nchildren = toinsert.length;\n",
       "    var html_node = toinsert[nchildren-1].children[0];\n",
       "    html_node.innerHTML = output.data[HTML_MIME_TYPE];\n",
       "    var scripts = [];\n",
       "    var nodelist = html_node.querySelectorAll(\"script\");\n",
       "    for (var i in nodelist) {\n",
       "      if (nodelist.hasOwnProperty(i)) {\n",
       "        scripts.push(nodelist[i])\n",
       "      }\n",
       "    }\n",
       "\n",
       "    scripts.forEach( function (oldScript) {\n",
       "      var newScript = document.createElement(\"script\");\n",
       "      var attrs = [];\n",
       "      var nodemap = oldScript.attributes;\n",
       "      for (var j in nodemap) {\n",
       "        if (nodemap.hasOwnProperty(j)) {\n",
       "          attrs.push(nodemap[j])\n",
       "        }\n",
       "      }\n",
       "      attrs.forEach(function(attr) { newScript.setAttribute(attr.name, attr.value) });\n",
       "      newScript.appendChild(document.createTextNode(oldScript.innerHTML));\n",
       "      oldScript.parentNode.replaceChild(newScript, oldScript);\n",
       "    });\n",
       "    if (JS_MIME_TYPE in output.data) {\n",
       "      toinsert[nchildren-1].children[1].textContent = output.data[JS_MIME_TYPE];\n",
       "    }\n",
       "    output_area._hv_plot_id = id;\n",
       "    if ((window.Bokeh !== undefined) && (id in Bokeh.index)) {\n",
       "      window.PyViz.plot_index[id] = Bokeh.index[id];\n",
       "    } else {\n",
       "      window.PyViz.plot_index[id] = null;\n",
       "    }\n",
       "  } else if (output.metadata[EXEC_MIME_TYPE][\"server_id\"] !== undefined) {\n",
       "    var bk_div = document.createElement(\"div\");\n",
       "    bk_div.innerHTML = output.data[HTML_MIME_TYPE];\n",
       "    var script_attrs = bk_div.children[0].attributes;\n",
       "    for (var i = 0; i < script_attrs.length; i++) {\n",
       "      toinsert[toinsert.length - 1].childNodes[1].setAttribute(script_attrs[i].name, script_attrs[i].value);\n",
       "    }\n",
       "    // store reference to server id on output_area\n",
       "    output_area._bokeh_server_id = output.metadata[EXEC_MIME_TYPE][\"server_id\"];\n",
       "  }\n",
       "}\n",
       "\n",
       "/**\n",
       " * Handle when an output is cleared or removed\n",
       " */\n",
       "function handle_clear_output(event, handle) {\n",
       "  var id = handle.cell.output_area._hv_plot_id;\n",
       "  var server_id = handle.cell.output_area._bokeh_server_id;\n",
       "  if (((id === undefined) || !(id in PyViz.plot_index)) && (server_id !== undefined)) { return; }\n",
       "  var comm = window.PyViz.comm_manager.get_client_comm(\"hv-extension-comm\", \"hv-extension-comm\", function () {});\n",
       "  if (server_id !== null) {\n",
       "    comm.send({event_type: 'server_delete', 'id': server_id});\n",
       "    return;\n",
       "  } else if (comm !== null) {\n",
       "    comm.send({event_type: 'delete', 'id': id});\n",
       "  }\n",
       "  delete PyViz.plot_index[id];\n",
       "  if ((window.Bokeh !== undefined) & (id in window.Bokeh.index)) {\n",
       "    var doc = window.Bokeh.index[id].model.document\n",
       "    doc.clear();\n",
       "    const i = window.Bokeh.documents.indexOf(doc);\n",
       "    if (i > -1) {\n",
       "      window.Bokeh.documents.splice(i, 1);\n",
       "    }\n",
       "  }\n",
       "}\n",
       "\n",
       "/**\n",
       " * Handle kernel restart event\n",
       " */\n",
       "function handle_kernel_cleanup(event, handle) {\n",
       "  delete PyViz.comms[\"hv-extension-comm\"];\n",
       "  window.PyViz.plot_index = {}\n",
       "}\n",
       "\n",
       "/**\n",
       " * Handle update_display_data messages\n",
       " */\n",
       "function handle_update_output(event, handle) {\n",
       "  handle_clear_output(event, {cell: {output_area: handle.output_area}})\n",
       "  handle_add_output(event, handle)\n",
       "}\n",
       "\n",
       "function register_renderer(events, OutputArea) {\n",
       "  function append_mime(data, metadata, element) {\n",
       "    // create a DOM node to render to\n",
       "    var toinsert = this.create_output_subarea(\n",
       "    metadata,\n",
       "    CLASS_NAME,\n",
       "    EXEC_MIME_TYPE\n",
       "    );\n",
       "    this.keyboard_manager.register_events(toinsert);\n",
       "    // Render to node\n",
       "    var props = {data: data, metadata: metadata[EXEC_MIME_TYPE]};\n",
       "    render(props, toinsert[0]);\n",
       "    element.append(toinsert);\n",
       "    return toinsert\n",
       "  }\n",
       "\n",
       "  events.on('output_added.OutputArea', handle_add_output);\n",
       "  events.on('output_updated.OutputArea', handle_update_output);\n",
       "  events.on('clear_output.CodeCell', handle_clear_output);\n",
       "  events.on('delete.Cell', handle_clear_output);\n",
       "  events.on('kernel_ready.Kernel', handle_kernel_cleanup);\n",
       "\n",
       "  OutputArea.prototype.register_mime_type(EXEC_MIME_TYPE, append_mime, {\n",
       "    safe: true,\n",
       "    index: 0\n",
       "  });\n",
       "}\n",
       "\n",
       "if (window.Jupyter !== undefined) {\n",
       "  try {\n",
       "    var events = require('base/js/events');\n",
       "    var OutputArea = require('notebook/js/outputarea').OutputArea;\n",
       "    if (OutputArea.prototype.mime_types().indexOf(EXEC_MIME_TYPE) == -1) {\n",
       "      register_renderer(events, OutputArea);\n",
       "    }\n",
       "  } catch(err) {\n",
       "  }\n",
       "}\n"
      ],
      "application/vnd.holoviews_load.v0+json": "\nif ((window.PyViz === undefined) || (window.PyViz instanceof HTMLElement)) {\n  window.PyViz = {comms: {}, comm_status:{}, kernels:{}, receivers: {}, plot_index: []}\n}\n\n\n    function JupyterCommManager() {\n    }\n\n    JupyterCommManager.prototype.register_target = function(plot_id, comm_id, msg_handler) {\n      if (window.comm_manager || ((window.Jupyter !== undefined) && (Jupyter.notebook.kernel != null))) {\n        var comm_manager = window.comm_manager || Jupyter.notebook.kernel.comm_manager;\n        comm_manager.register_target(comm_id, function(comm) {\n          comm.on_msg(msg_handler);\n        });\n      } else if ((plot_id in window.PyViz.kernels) && (window.PyViz.kernels[plot_id])) {\n        window.PyViz.kernels[plot_id].registerCommTarget(comm_id, function(comm) {\n          comm.onMsg = msg_handler;\n        });\n      } else if (typeof google != 'undefined' && google.colab.kernel != null) {\n        google.colab.kernel.comms.registerTarget(comm_id, (comm) => {\n          var messages = comm.messages[Symbol.asyncIterator]();\n          function processIteratorResult(result) {\n            var message = result.value;\n            console.log(message)\n            var content = {data: message.data, comm_id};\n            var buffers = []\n            for (var buffer of message.buffers || []) {\n              buffers.push(new DataView(buffer))\n            }\n            var metadata = message.metadata || {};\n            var msg = {content, buffers, metadata}\n            msg_handler(msg);\n            return messages.next().then(processIteratorResult);\n          }\n          return messages.next().then(processIteratorResult);\n        })\n      }\n    }\n\n    JupyterCommManager.prototype.get_client_comm = function(plot_id, comm_id, msg_handler) {\n      if (comm_id in window.PyViz.comms) {\n        return window.PyViz.comms[comm_id];\n      } else if (window.comm_manager || ((window.Jupyter !== undefined) && (Jupyter.notebook.kernel != null))) {\n        var comm_manager = window.comm_manager || Jupyter.notebook.kernel.comm_manager;\n        var comm = comm_manager.new_comm(comm_id, {}, {}, {}, comm_id);\n        if (msg_handler) {\n          comm.on_msg(msg_handler);\n        }\n      } else if ((plot_id in window.PyViz.kernels) && (window.PyViz.kernels[plot_id])) {\n        var comm = window.PyViz.kernels[plot_id].connectToComm(comm_id);\n        comm.open();\n        if (msg_handler) {\n          comm.onMsg = msg_handler;\n        }\n      } else if (typeof google != 'undefined' && google.colab.kernel != null) {\n        var comm_promise = google.colab.kernel.comms.open(comm_id)\n        comm_promise.then((comm) => {\n          window.PyViz.comms[comm_id] = comm;\n          if (msg_handler) {\n            var messages = comm.messages[Symbol.asyncIterator]();\n            function processIteratorResult(result) {\n              var message = result.value;\n              var content = {data: message.data};\n              var metadata = message.metadata || {comm_id};\n              var msg = {content, metadata}\n              msg_handler(msg);\n              return messages.next().then(processIteratorResult);\n            }\n            return messages.next().then(processIteratorResult);\n          }\n        }) \n        var sendClosure = (data, metadata, buffers, disposeOnDone) => {\n          return comm_promise.then((comm) => {\n            comm.send(data, metadata, buffers, disposeOnDone);\n          });\n        };\n        var comm = {\n          send: sendClosure\n        };\n      }\n      window.PyViz.comms[comm_id] = comm;\n      return comm;\n    }\n    window.PyViz.comm_manager = new JupyterCommManager();\n    \n\n\nvar JS_MIME_TYPE = 'application/javascript';\nvar HTML_MIME_TYPE = 'text/html';\nvar EXEC_MIME_TYPE = 'application/vnd.holoviews_exec.v0+json';\nvar CLASS_NAME = 'output';\n\n/**\n * Render data to the DOM node\n */\nfunction render(props, node) {\n  var div = document.createElement(\"div\");\n  var script = document.createElement(\"script\");\n  node.appendChild(div);\n  node.appendChild(script);\n}\n\n/**\n * Handle when a new output is added\n */\nfunction handle_add_output(event, handle) {\n  var output_area = handle.output_area;\n  var output = handle.output;\n  if ((output.data == undefined) || (!output.data.hasOwnProperty(EXEC_MIME_TYPE))) {\n    return\n  }\n  var id = output.metadata[EXEC_MIME_TYPE][\"id\"];\n  var toinsert = output_area.element.find(\".\" + CLASS_NAME.split(' ')[0]);\n  if (id !== undefined) {\n    var nchildren = toinsert.length;\n    var html_node = toinsert[nchildren-1].children[0];\n    html_node.innerHTML = output.data[HTML_MIME_TYPE];\n    var scripts = [];\n    var nodelist = html_node.querySelectorAll(\"script\");\n    for (var i in nodelist) {\n      if (nodelist.hasOwnProperty(i)) {\n        scripts.push(nodelist[i])\n      }\n    }\n\n    scripts.forEach( function (oldScript) {\n      var newScript = document.createElement(\"script\");\n      var attrs = [];\n      var nodemap = oldScript.attributes;\n      for (var j in nodemap) {\n        if (nodemap.hasOwnProperty(j)) {\n          attrs.push(nodemap[j])\n        }\n      }\n      attrs.forEach(function(attr) { newScript.setAttribute(attr.name, attr.value) });\n      newScript.appendChild(document.createTextNode(oldScript.innerHTML));\n      oldScript.parentNode.replaceChild(newScript, oldScript);\n    });\n    if (JS_MIME_TYPE in output.data) {\n      toinsert[nchildren-1].children[1].textContent = output.data[JS_MIME_TYPE];\n    }\n    output_area._hv_plot_id = id;\n    if ((window.Bokeh !== undefined) && (id in Bokeh.index)) {\n      window.PyViz.plot_index[id] = Bokeh.index[id];\n    } else {\n      window.PyViz.plot_index[id] = null;\n    }\n  } else if (output.metadata[EXEC_MIME_TYPE][\"server_id\"] !== undefined) {\n    var bk_div = document.createElement(\"div\");\n    bk_div.innerHTML = output.data[HTML_MIME_TYPE];\n    var script_attrs = bk_div.children[0].attributes;\n    for (var i = 0; i < script_attrs.length; i++) {\n      toinsert[toinsert.length - 1].childNodes[1].setAttribute(script_attrs[i].name, script_attrs[i].value);\n    }\n    // store reference to server id on output_area\n    output_area._bokeh_server_id = output.metadata[EXEC_MIME_TYPE][\"server_id\"];\n  }\n}\n\n/**\n * Handle when an output is cleared or removed\n */\nfunction handle_clear_output(event, handle) {\n  var id = handle.cell.output_area._hv_plot_id;\n  var server_id = handle.cell.output_area._bokeh_server_id;\n  if (((id === undefined) || !(id in PyViz.plot_index)) && (server_id !== undefined)) { return; }\n  var comm = window.PyViz.comm_manager.get_client_comm(\"hv-extension-comm\", \"hv-extension-comm\", function () {});\n  if (server_id !== null) {\n    comm.send({event_type: 'server_delete', 'id': server_id});\n    return;\n  } else if (comm !== null) {\n    comm.send({event_type: 'delete', 'id': id});\n  }\n  delete PyViz.plot_index[id];\n  if ((window.Bokeh !== undefined) & (id in window.Bokeh.index)) {\n    var doc = window.Bokeh.index[id].model.document\n    doc.clear();\n    const i = window.Bokeh.documents.indexOf(doc);\n    if (i > -1) {\n      window.Bokeh.documents.splice(i, 1);\n    }\n  }\n}\n\n/**\n * Handle kernel restart event\n */\nfunction handle_kernel_cleanup(event, handle) {\n  delete PyViz.comms[\"hv-extension-comm\"];\n  window.PyViz.plot_index = {}\n}\n\n/**\n * Handle update_display_data messages\n */\nfunction handle_update_output(event, handle) {\n  handle_clear_output(event, {cell: {output_area: handle.output_area}})\n  handle_add_output(event, handle)\n}\n\nfunction register_renderer(events, OutputArea) {\n  function append_mime(data, metadata, element) {\n    // create a DOM node to render to\n    var toinsert = this.create_output_subarea(\n    metadata,\n    CLASS_NAME,\n    EXEC_MIME_TYPE\n    );\n    this.keyboard_manager.register_events(toinsert);\n    // Render to node\n    var props = {data: data, metadata: metadata[EXEC_MIME_TYPE]};\n    render(props, toinsert[0]);\n    element.append(toinsert);\n    return toinsert\n  }\n\n  events.on('output_added.OutputArea', handle_add_output);\n  events.on('output_updated.OutputArea', handle_update_output);\n  events.on('clear_output.CodeCell', handle_clear_output);\n  events.on('delete.Cell', handle_clear_output);\n  events.on('kernel_ready.Kernel', handle_kernel_cleanup);\n\n  OutputArea.prototype.register_mime_type(EXEC_MIME_TYPE, append_mime, {\n    safe: true,\n    index: 0\n  });\n}\n\nif (window.Jupyter !== undefined) {\n  try {\n    var events = require('base/js/events');\n    var OutputArea = require('notebook/js/outputarea').OutputArea;\n    if (OutputArea.prototype.mime_types().indexOf(EXEC_MIME_TYPE) == -1) {\n      register_renderer(events, OutputArea);\n    }\n  } catch(err) {\n  }\n}\n"
     },
     "metadata": {},
     "output_type": "display_data"
    },
    {
     "data": {
      "text/html": [
       "<style>.bk-root, .bk-root .bk:before, .bk-root .bk:after {\n",
       "  font-family: var(--jp-ui-font-size1);\n",
       "  font-size: var(--jp-ui-font-size1);\n",
       "  color: var(--jp-ui-font-color1);\n",
       "}\n",
       "</style>"
      ]
     },
     "metadata": {},
     "output_type": "display_data"
    }
   ],
   "source": [
    "# Base imports\n",
    "import numpy as np\n",
    "import matplotlib.pyplot as plt\n",
    "from cml.plot import initialize_bokeh\n",
    "from cml.panel import initialize_panel\n",
    "from jupyterthemes.stylefx import set_nb_theme\n",
    "from bokeh.io import show\n",
    "initialize_bokeh()\n",
    "initialize_panel()\n",
    "set_nb_theme(\"onedork\")\n",
    "rng = np.random.RandomState(1)"
   ]
  },
  {
   "cell_type": "markdown",
   "metadata": {},
   "source": [
    "<a id=\"regression\"></a>\n",
    "## Simple learning problem\n",
    "\n",
    "Imagine that a certain process somewhere follows the form of a quadratic relationship\n",
    "\n",
    "$$\n",
    " y = a x^{2} + bx + c \n",
    "$$\n",
    "\n",
    "In this case, all the **unknown parameters** are that of a polynomial model, therefore we have $\\theta = \\{a, b, c\\}$. However, this is clearly an ideal (clean) case, whereas in natural observations, there might be some noise in our observations\n",
    "$$\n",
    " y = a x^{2} + bx + c +\\epsilon \\quad \\mbox{with} \\quad \\epsilon \\in [-0.1, 0.1]\n",
    "$$\n",
    "\n",
    "An example of such noisy observations for different parameters is given below"
   ]
  },
  {
   "cell_type": "code",
   "execution_count": 36,
   "metadata": {
    "tags": []
   },
   "outputs": [],
   "source": [
    "# Parameters to our function\n",
    "eps = 1\n",
    "a, b, c = 5, 2, 0\n",
    "# Generating the corresponding data\n",
    "x = np.linspace(0, 1, 100)\n",
    "poly = np.poly1d([a, b, c])\n",
    "epsilon = np.random.uniform(-eps, eps, x.shape)\n",
    "y = poly(x) + epsilon"
   ]
  },
  {
   "cell_type": "code",
   "execution_count": 37,
   "metadata": {
    "tags": []
   },
   "outputs": [
    {
     "data": {},
     "metadata": {},
     "output_type": "display_data"
    },
    {
     "data": {
      "application/vnd.holoviews_exec.v0+json": "",
      "text/html": [
       "<div id='2879'>\n",
       "  <div class=\"bk-root\" id=\"8c333442-4a89-452d-ab24-7988ec502a6e\" data-root-id=\"2879\"></div>\n",
       "</div>\n",
       "<script type=\"application/javascript\">(function(root) {\n",
       "  function embed_document(root) {\n",
       "    var docs_json = {\"6f42874e-d3bb-47a7-8d91-fa159f472a7f\":{\"defs\":[{\"extends\":null,\"module\":null,\"name\":\"ReactiveHTML1\",\"overrides\":[],\"properties\":[]},{\"extends\":null,\"module\":null,\"name\":\"FlexBox1\",\"overrides\":[],\"properties\":[{\"default\":\"flex-start\",\"kind\":null,\"name\":\"align_content\"},{\"default\":\"flex-start\",\"kind\":null,\"name\":\"align_items\"},{\"default\":\"row\",\"kind\":null,\"name\":\"flex_direction\"},{\"default\":\"wrap\",\"kind\":null,\"name\":\"flex_wrap\"},{\"default\":\"flex-start\",\"kind\":null,\"name\":\"justify_content\"}]},{\"extends\":null,\"module\":null,\"name\":\"GridStack1\",\"overrides\":[],\"properties\":[{\"default\":\"warn\",\"kind\":null,\"name\":\"mode\"},{\"default\":null,\"kind\":null,\"name\":\"ncols\"},{\"default\":null,\"kind\":null,\"name\":\"nrows\"},{\"default\":true,\"kind\":null,\"name\":\"allow_resize\"},{\"default\":true,\"kind\":null,\"name\":\"allow_drag\"},{\"default\":[],\"kind\":null,\"name\":\"state\"}]},{\"extends\":null,\"module\":null,\"name\":\"click1\",\"overrides\":[],\"properties\":[{\"default\":\"\",\"kind\":null,\"name\":\"terminal_output\"},{\"default\":\"\",\"kind\":null,\"name\":\"debug_name\"},{\"default\":0,\"kind\":null,\"name\":\"clears\"}]},{\"extends\":null,\"module\":null,\"name\":\"NotificationAreaBase1\",\"overrides\":[],\"properties\":[{\"default\":\"bottom-right\",\"kind\":null,\"name\":\"position\"},{\"default\":0,\"kind\":null,\"name\":\"_clear\"}]},{\"extends\":null,\"module\":null,\"name\":\"NotificationArea1\",\"overrides\":[],\"properties\":[{\"default\":[],\"kind\":null,\"name\":\"notifications\"},{\"default\":\"bottom-right\",\"kind\":null,\"name\":\"position\"},{\"default\":0,\"kind\":null,\"name\":\"_clear\"},{\"default\":[{\"background\":\"#ffc107\",\"icon\":{\"className\":\"fas fa-exclamation-triangle\",\"color\":\"white\",\"tagName\":\"i\"},\"type\":\"warning\"},{\"background\":\"#007bff\",\"icon\":{\"className\":\"fas fa-info-circle\",\"color\":\"white\",\"tagName\":\"i\"},\"type\":\"info\"}],\"kind\":null,\"name\":\"types\"}]},{\"extends\":null,\"module\":null,\"name\":\"Notification\",\"overrides\":[],\"properties\":[{\"default\":null,\"kind\":null,\"name\":\"background\"},{\"default\":3000,\"kind\":null,\"name\":\"duration\"},{\"default\":null,\"kind\":null,\"name\":\"icon\"},{\"default\":\"\",\"kind\":null,\"name\":\"message\"},{\"default\":null,\"kind\":null,\"name\":\"notification_type\"},{\"default\":false,\"kind\":null,\"name\":\"_destroyed\"}]},{\"extends\":null,\"module\":null,\"name\":\"TemplateActions1\",\"overrides\":[],\"properties\":[{\"default\":0,\"kind\":null,\"name\":\"open_modal\"},{\"default\":0,\"kind\":null,\"name\":\"close_modal\"}]},{\"extends\":null,\"module\":null,\"name\":\"MaterialTemplateActions1\",\"overrides\":[],\"properties\":[{\"default\":0,\"kind\":null,\"name\":\"open_modal\"},{\"default\":0,\"kind\":null,\"name\":\"close_modal\"}]}],\"roots\":{\"references\":[{\"attributes\":{\"overlay\":{\"id\":\"2846\"}},\"id\":\"2842\",\"type\":\"BoxZoomTool\"},{\"attributes\":{},\"id\":\"2868\",\"type\":\"UnionRenderers\"},{\"attributes\":{},\"id\":\"2869\",\"type\":\"Selection\"},{\"attributes\":{\"axis\":{\"id\":\"2832\"},\"coordinates\":null,\"grid_line_alpha\":0.15,\"grid_line_color\":\"#E0E0E0\",\"group\":null,\"ticker\":null},\"id\":\"2835\",\"type\":\"Grid\"},{\"attributes\":{\"bottom_units\":\"screen\",\"coordinates\":null,\"fill_alpha\":0.5,\"fill_color\":\"lightgrey\",\"group\":null,\"left_units\":\"screen\",\"level\":\"overlay\",\"line_alpha\":1.0,\"line_color\":\"black\",\"line_dash\":[4,4],\"line_width\":2,\"right_units\":\"screen\",\"syncable\":false,\"top_units\":\"screen\"},\"id\":\"2891\",\"type\":\"BoxAnnotation\"},{\"attributes\":{\"fill_alpha\":{\"value\":0.5},\"fill_color\":{\"value\":\"red\"},\"hatch_alpha\":{\"value\":0.5},\"line_alpha\":{\"value\":0.5},\"line_color\":{\"value\":\"white\"},\"size\":{\"value\":10},\"x\":{\"field\":\"x\"},\"y\":{\"field\":\"y\"}},\"id\":\"2857\",\"type\":\"Circle\"},{\"attributes\":{},\"id\":\"2845\",\"type\":\"HelpTool\"},{\"attributes\":{},\"id\":\"2837\",\"type\":\"BasicTicker\"},{\"attributes\":{},\"id\":\"2864\",\"type\":\"AllLabels\"},{\"attributes\":{\"axis_label\":\"x\",\"axis_label_standoff\":10,\"axis_label_text_color\":\"#FFFFFF\",\"axis_label_text_font\":\"Josefin Sans\",\"axis_label_text_font_size\":\"1.9em\",\"axis_label_text_font_style\":\"bold\",\"axis_line_alpha\":0.4,\"axis_line_color\":\"#E0E0E0\",\"coordinates\":null,\"formatter\":{\"id\":\"2866\"},\"group\":null,\"major_label_policy\":{\"id\":\"2867\"},\"major_label_text_color\":\"#E0E0E0\",\"major_label_text_font\":\"Josefin Sans\",\"major_label_text_font_size\":\"1.15em\",\"major_tick_line_alpha\":0.4,\"major_tick_line_color\":\"#E0E0E0\",\"minor_tick_line_alpha\":0.4,\"minor_tick_line_color\":\"#E0E0E0\",\"ticker\":{\"id\":\"2833\"}},\"id\":\"2832\",\"type\":\"LinearAxis\"},{\"attributes\":{\"tools\":[{\"id\":\"2840\"},{\"id\":\"2841\"},{\"id\":\"2842\"},{\"id\":\"2843\"},{\"id\":\"2844\"},{\"id\":\"2845\"},{\"id\":\"2873\"},{\"id\":\"2877\"}]},\"id\":\"2847\",\"type\":\"Toolbar\"},{\"attributes\":{\"mode\":\"append\",\"overlay\":{\"id\":\"2891\"},\"renderers\":[{\"id\":\"2859\"}]},\"id\":\"2877\",\"type\":\"BoxSelectTool\"},{\"attributes\":{\"label\":{\"value\":\"Observations\"},\"renderers\":[{\"id\":\"2859\"}]},\"id\":\"2872\",\"type\":\"LegendItem\"},{\"attributes\":{},\"id\":\"2863\",\"type\":\"BasicTickFormatter\"},{\"attributes\":{\"bottom_units\":\"screen\",\"coordinates\":null,\"fill_alpha\":0.5,\"fill_color\":\"lightgrey\",\"group\":null,\"left_units\":\"screen\",\"level\":\"overlay\",\"line_alpha\":1.0,\"line_color\":\"black\",\"line_dash\":[4,4],\"line_width\":2,\"right_units\":\"screen\",\"syncable\":false,\"top_units\":\"screen\"},\"id\":\"2846\",\"type\":\"BoxAnnotation\"},{\"attributes\":{\"fill_alpha\":{\"value\":0.5},\"fill_color\":{\"value\":\"midnightblue\"},\"line_color\":{\"value\":\"white\"}},\"id\":\"2876\",\"type\":\"Circle\"},{\"attributes\":{},\"id\":\"2840\",\"type\":\"PanTool\"},{\"attributes\":{\"axis\":{\"id\":\"2836\"},\"coordinates\":null,\"dimension\":1,\"grid_line_alpha\":0.15,\"grid_line_color\":\"#E0E0E0\",\"group\":null,\"ticker\":null},\"id\":\"2839\",\"type\":\"Grid\"},{\"attributes\":{\"axis_label\":\"y\",\"axis_label_standoff\":10,\"axis_label_text_color\":\"#FFFFFF\",\"axis_label_text_font\":\"Josefin Sans\",\"axis_label_text_font_size\":\"1.9em\",\"axis_label_text_font_style\":\"bold\",\"axis_line_alpha\":0.4,\"axis_line_color\":\"#E0E0E0\",\"coordinates\":null,\"formatter\":{\"id\":\"2863\"},\"group\":null,\"major_label_policy\":{\"id\":\"2864\"},\"major_label_text_color\":\"#E0E0E0\",\"major_label_text_font\":\"Josefin Sans\",\"major_label_text_font_size\":\"1.15em\",\"major_tick_line_alpha\":0.4,\"major_tick_line_color\":\"#E0E0E0\",\"minor_tick_line_alpha\":0.4,\"minor_tick_line_color\":\"#E0E0E0\",\"ticker\":{\"id\":\"2837\"}},\"id\":\"2836\",\"type\":\"LinearAxis\"},{\"attributes\":{\"children\":[{\"id\":\"2880\"},{\"id\":\"2821\"},{\"id\":\"2903\"}],\"margin\":[0,0,0,0],\"name\":\"Row00177\"},\"id\":\"2879\",\"type\":\"Row\"},{\"attributes\":{\"background_fill_alpha\":0.25,\"background_fill_color\":\"#505050\",\"border_line_alpha\":0.25,\"coordinates\":null,\"group\":null,\"items\":[{\"id\":\"2872\"}],\"label_standoff\":8,\"label_text_color\":\"#E0E0E0\",\"label_text_font\":\"Josefin Sans\",\"label_text_font_size\":\"1.15em\",\"spacing\":8},\"id\":\"2871\",\"type\":\"Legend\"},{\"attributes\":{\"coordinates\":null,\"data_source\":{\"id\":\"2854\"},\"glyph\":{\"id\":\"2855\"},\"group\":null,\"hover_glyph\":{\"id\":\"2857\"},\"muted_glyph\":{\"id\":\"2858\"},\"nonselection_glyph\":{\"id\":\"2876\"},\"selection_glyph\":{\"id\":\"2875\"},\"view\":{\"id\":\"2860\"}},\"id\":\"2859\",\"type\":\"GlyphRenderer\"},{\"attributes\":{\"callback\":null,\"mode\":\"vline\",\"renderers\":[{\"id\":\"2859\"}],\"tooltips\":null},\"id\":\"2873\",\"type\":\"HoverTool\"},{\"attributes\":{},\"id\":\"2841\",\"type\":\"WheelZoomTool\"},{\"attributes\":{},\"id\":\"2826\",\"type\":\"DataRange1d\"},{\"attributes\":{},\"id\":\"2843\",\"type\":\"SaveTool\"},{\"attributes\":{\"margin\":[5,5,5,5],\"name\":\"HSpacer00174\",\"sizing_mode\":\"stretch_width\"},\"id\":\"2903\",\"type\":\"Spacer\"},{\"attributes\":{\"fill_alpha\":{\"value\":0.25},\"fill_color\":{\"value\":\"midnightblue\"},\"hatch_alpha\":{\"value\":0.25},\"line_alpha\":{\"value\":0.25},\"line_color\":{\"value\":\"white\"},\"size\":{\"value\":10},\"x\":{\"field\":\"x\"},\"y\":{\"field\":\"y\"}},\"id\":\"2855\",\"type\":\"Circle\"},{\"attributes\":{\"background_fill_alpha\":0.9,\"background_fill_color\":\"#0f0f0f\",\"below\":[{\"id\":\"2832\"}],\"border_fill_alpha\":0.8,\"border_fill_color\":\"#111111\",\"center\":[{\"id\":\"2835\"},{\"id\":\"2839\"},{\"id\":\"2871\"}],\"height\":450,\"left\":[{\"id\":\"2836\"}],\"outline_line_alpha\":0.25,\"outline_line_color\":\"#E0E0E0\",\"outline_line_width\":3,\"renderers\":[{\"id\":\"2859\"}],\"title\":{\"id\":\"2822\"},\"toolbar\":{\"id\":\"2847\"},\"toolbar_location\":\"left\",\"x_range\":{\"id\":\"2824\"},\"x_scale\":{\"id\":\"2828\"},\"y_range\":{\"id\":\"2826\"},\"y_scale\":{\"id\":\"2830\"}},\"id\":\"2821\",\"subtype\":\"Figure\",\"type\":\"Plot\"},{\"attributes\":{},\"id\":\"2844\",\"type\":\"ResetTool\"},{\"attributes\":{\"fill_alpha\":{\"value\":0.2},\"fill_color\":{\"value\":\"midnightblue\"},\"hatch_alpha\":{\"value\":0.2},\"line_alpha\":{\"value\":0.2},\"line_color\":{\"value\":\"white\"},\"size\":{\"value\":10},\"x\":{\"field\":\"x\"},\"y\":{\"field\":\"y\"}},\"id\":\"2858\",\"type\":\"Circle\"},{\"attributes\":{},\"id\":\"2866\",\"type\":\"BasicTickFormatter\"},{\"attributes\":{\"margin\":[5,5,5,5],\"name\":\"HSpacer00173\",\"sizing_mode\":\"stretch_width\"},\"id\":\"2880\",\"type\":\"Spacer\"},{\"attributes\":{\"client_comm_id\":\"140fd7bcab7d490b8541cf49cb4552a4\",\"comm_id\":\"33a451405265493a984b83dbb7f3eec2\",\"plot_id\":\"2879\"},\"id\":\"2937\",\"type\":\"panel.models.comm_manager.CommManager\"},{\"attributes\":{\"data\":{\"x\":{\"__ndarray__\":\"AAAAAAAAAABbv1Kg1q+EP1u/UqDWr5Q/CB988MEHnz9bv1Kg1q+kPzJvZ0jM26k/CB988MEHrz9wZ0jM2xmyP1u/UqDWr7Q/RhdddNFFtz8yb2dIzNu5Px3HcRzHcbw/CB988MEHvz96O0Ni3s7AP3BnSMzbGcI/ZZNNNtlkwz9bv1Kg1q/EP1HrVwrU+sU/RhdddNFFxz88Q2LezpDIPzJvZ0jM28k/J5tssskmyz8dx3Ecx3HMPxPzdobEvM0/CB988MEHzz9/pUCtXynQP3o7Q2LeztA/ddFFF1100T9wZ0jM2xnSP2r9SoFav9I/ZZNNNtlk0z9gKVDrVwrUP1u/UqDWr9Q/VlVVVVVV1T9R61cK1PrVP0yBWr9SoNY/RhdddNFF1z9BrV8pUOvXPzxDYt7OkNg/N9lkk0022T8yb2dIzNvZPy0Fav1Kgdo/J5tssskm2z8iMW9nSMzbPx3HcRzHcdw/GF100UUX3T8T83aGxLzdPw6JeTtDYt4/CB988MEH3z8DtX6lQK3fP3+lQK1fKeA/ffDBBx984D96O0Ni3s7gP3eGxLydIeE/ddFFF1104T9yHMdxHMfhP3BnSMzbGeI/bbLJJpts4j9q/UqBWr/iP2hIzNsZEuM/ZZNNNtlk4z9j3s6QmLfjP2ApUOtXCuQ/XnTRRRdd5D9bv1Kg1q/kP1gK1PqVAuU/VlVVVVVV5T9ToNavFKjlP1HrVwrU+uU/TjbZZJNN5j9MgVq/UqDmP0nM2xkS8+Y/RhdddNFF5z9EYt7OkJjnP0GtXylQ6+c/P/jggw8+6D88Q2LezpDoPzmO4ziO4+g/N9lkk0026T80JObtDInpPzJvZ0jM2+k/L7rooosu6j8tBWr9SoHqPypQ61cK1Oo/J5tssskm6z8l5u0MiXnrPyIxb2dIzOs/IHzwwQcf7D8dx3Ecx3HsPxsS83aGxOw/GF100UUX7T8VqPUrBWrtPxPzdobEvO0/ED744IMP7j8OiXk7Q2LuPwvU+pUCte4/CB988MEH7z8Gav1KgVrvPwO1fqVAre8/AAAAAAAA8D8=\",\"dtype\":\"float64\",\"order\":\"little\",\"shape\":[100]},\"y\":{\"__ndarray__\":\"uDqhbmXV1D8MW/71fljnP9/887Y23de/oY5GP3hp3D8cnGTey/vVvwp+KAeCBdC/WDX8WBq9lD/D3P7wr2HfvwaxifigZNm/acgoYVWs5r+5B2e/KwzTP1o2XcHpgeW/6MliIVqp5b9B733qj+DxPyh1lMKDE7W/Q8pGy7Q91L+TWhp7/QD1P+ZZ3kOup+w/PNVcrQdV8j/EVK9JL2LWv9ZNaYrni/I/WNKHzH+Puz8eszQmcGb5P43xOwTf3fE/kGnh9TlDyL9j+tPBO4HkP2rJr4+lI/M/EiYDNn5J8j8Oe1V49W/jPyXch8fE7vI/SaYpsR4k8z8IGIGKNTXzP1zIPAEpve4/twsxj0ni/z8CD7+fFxDyP4Z8ZFD6YuA/sNopBi118j/uWZ5usMjxP42sprJFxfg/7xLpoUPF/D+YBD7ZJHgDQPfNs/JkeABArrI2nOPPBUAP4xRFTBH1P6jO6uBCPgNAKJ/CmuE/9D+MQmPKPIIFQG6Zp75Yqv8/0PuSWmfmCEDbr35BGKjzP0pmIF8/QwBAK0NF4D8s+j+ScL12D1gAQGJ/gYqjHgVAPGnXImIdDEAH2JpoPAkNQBgkpbci8QNAaNTFqB4iCkC84pBOIbMGQAYl3TuEsQBA3jOhcwZXDECU9ZeFVjQBQNeRQ9Mx1AhATmqhXYXAB0DWzBcWz3sGQLqjRO08LxFABq8f3ljiC0CIL9luaR8SQBiYkaMeGwhAos2KofvAEkCiEshWA9YOQHpMPDPYFglAVzsxMjhaEUD+VG2++c0JQC36wGTzcxNAm6UK3fx7EEBIbHCQ0ccSQPbqBHG5lhRAPjQ3+y8pFEBbdNcTdZYPQDgJxFf99w9AhLA7uQE1FUBGCkfRydAQQPJIwwcdYBhAVKKRYinxEkDQvpk2IN8SQMO/B4Z5hxNAPdHW9up+GEAVFJwWRWIWQHP7wXIisRhA6tExukvUF0CMN/AlJm0aQO+wLbjudxtAjCsxx6IFG0DaRQFaonIaQJsgj+H+ChlAhLDTwo/lF0DWgrF5qakaQPsj02EvBR1A5jcgO+gAGkA=\",\"dtype\":\"float64\",\"order\":\"little\",\"shape\":[100]}},\"selected\":{\"id\":\"2869\"},\"selection_policy\":{\"id\":\"2868\"}},\"id\":\"2854\",\"type\":\"ColumnDataSource\"},{\"attributes\":{\"coordinates\":null,\"group\":null,\"text\":\"Simple quadratic problem\",\"text_color\":\"#E0E0E0\",\"text_font\":\"Josefin Sans\",\"text_font_size\":\"2.1em\"},\"id\":\"2822\",\"type\":\"Title\"},{\"attributes\":{},\"id\":\"2833\",\"type\":\"BasicTicker\"},{\"attributes\":{},\"id\":\"2830\",\"type\":\"LinearScale\"},{\"attributes\":{},\"id\":\"2824\",\"type\":\"DataRange1d\"},{\"attributes\":{\"source\":{\"id\":\"2854\"}},\"id\":\"2860\",\"type\":\"CDSView\"},{\"attributes\":{},\"id\":\"2828\",\"type\":\"LinearScale\"},{\"attributes\":{\"fill_alpha\":{\"value\":0.8},\"fill_color\":{\"value\":\"red\"},\"line_color\":{\"value\":\"white\"}},\"id\":\"2875\",\"type\":\"Circle\"},{\"attributes\":{},\"id\":\"2867\",\"type\":\"AllLabels\"}],\"root_ids\":[\"2879\",\"2937\"]},\"title\":\"Bokeh Application\",\"version\":\"2.4.3\"}};\n",
       "    var render_items = [{\"docid\":\"6f42874e-d3bb-47a7-8d91-fa159f472a7f\",\"root_ids\":[\"2879\"],\"roots\":{\"2879\":\"8c333442-4a89-452d-ab24-7988ec502a6e\"}}];\n",
       "    root.Bokeh.embed.embed_items_notebook(docs_json, render_items);\n",
       "    for (const render_item of render_items) {\n",
       "      for (const root_id of render_item.root_ids) {\n",
       "\tconst id_el = document.getElementById(root_id)\n",
       "\tif (id_el.children.length && (id_el.children[0].className === 'bk-root')) {\n",
       "\t  const root_el = id_el.children[0]\n",
       "\t  root_el.id = root_el.id + '-rendered'\n",
       "\t}\n",
       "      }\n",
       "    }\n",
       "  }\n",
       "  if (root.Bokeh !== undefined && root.Bokeh.Panel !== undefined) {\n",
       "    embed_document(root);\n",
       "  } else {\n",
       "    var attempts = 0;\n",
       "    var timer = setInterval(function(root) {\n",
       "      if (root.Bokeh !== undefined && root.Bokeh.Panel !== undefined) {\n",
       "        clearInterval(timer);\n",
       "        embed_document(root);\n",
       "      } else if (document.readyState == \"complete\") {\n",
       "        attempts++;\n",
       "        if (attempts > 200) {\n",
       "          clearInterval(timer);\n",
       "          console.log(\"Bokeh: ERROR: Unable to run BokehJS code because BokehJS library is missing\");\n",
       "        }\n",
       "      }\n",
       "    }, 25, root)\n",
       "  }\n",
       "})(window);</script>"
      ],
      "text/plain": [
       "Row\n",
       "    [0] HSpacer()\n",
       "    [1] Bokeh(Figure)\n",
       "    [2] HSpacer()"
      ]
     },
     "execution_count": 37,
     "metadata": {
      "application/vnd.holoviews_exec.v0+json": {
       "id": "2879"
      }
     },
     "output_type": "execute_result"
    }
   ],
   "source": [
    "from cml.plot import center_plot, scatter\n",
    "plot = (center_plot(scatter(x, y, title=\"Simple quadratic problem\", toolbar_location=\"left\")))\n",
    "plot"
   ]
  },
  {
   "cell_type": "markdown",
   "metadata": {},
   "source": [
    "Now our main problem is that this function can follow different types of parameters"
   ]
  },
  {
   "cell_type": "code",
   "execution_count": 19,
   "metadata": {
    "tags": []
   },
   "outputs": [],
   "source": [
    "params = [[5, -5, 4], [-2, 1, 0], [0.1, 1, 1]]\n",
    "# Generating the x axis\n",
    "x = np.linspace(0, 1, 100)\n",
    "plots = []\n",
    "for p in range(len(params)):\n",
    "    poly = np.poly1d(params[p])\n",
    "    epsilon = np.random.uniform(-eps, eps, x.shape)\n",
    "    y = poly(x) + epsilon\n",
    "    plots.append(scatter(x, y, title=\"Problem \"+(str(p+1))))"
   ]
  },
  {
   "cell_type": "code",
   "execution_count": 20,
   "metadata": {
    "tags": []
   },
   "outputs": [
    {
     "data": {},
     "metadata": {},
     "output_type": "display_data"
    },
    {
     "data": {
      "application/vnd.holoviews_exec.v0+json": "",
      "text/html": [
       "<div id='1709'>\n",
       "  <div class=\"bk-root\" id=\"5dbc1e96-8769-4006-a94e-8fdd18b9420d\" data-root-id=\"1709\"></div>\n",
       "</div>\n",
       "<script type=\"application/javascript\">(function(root) {\n",
       "  function embed_document(root) {\n",
       "    var docs_json = {\"c2725b51-077f-487b-893a-35ff8afe591a\":{\"defs\":[{\"extends\":null,\"module\":null,\"name\":\"ReactiveHTML1\",\"overrides\":[],\"properties\":[]},{\"extends\":null,\"module\":null,\"name\":\"FlexBox1\",\"overrides\":[],\"properties\":[{\"default\":\"flex-start\",\"kind\":null,\"name\":\"align_content\"},{\"default\":\"flex-start\",\"kind\":null,\"name\":\"align_items\"},{\"default\":\"row\",\"kind\":null,\"name\":\"flex_direction\"},{\"default\":\"wrap\",\"kind\":null,\"name\":\"flex_wrap\"},{\"default\":\"flex-start\",\"kind\":null,\"name\":\"justify_content\"}]},{\"extends\":null,\"module\":null,\"name\":\"GridStack1\",\"overrides\":[],\"properties\":[{\"default\":\"warn\",\"kind\":null,\"name\":\"mode\"},{\"default\":null,\"kind\":null,\"name\":\"ncols\"},{\"default\":null,\"kind\":null,\"name\":\"nrows\"},{\"default\":true,\"kind\":null,\"name\":\"allow_resize\"},{\"default\":true,\"kind\":null,\"name\":\"allow_drag\"},{\"default\":[],\"kind\":null,\"name\":\"state\"}]},{\"extends\":null,\"module\":null,\"name\":\"click1\",\"overrides\":[],\"properties\":[{\"default\":\"\",\"kind\":null,\"name\":\"terminal_output\"},{\"default\":\"\",\"kind\":null,\"name\":\"debug_name\"},{\"default\":0,\"kind\":null,\"name\":\"clears\"}]},{\"extends\":null,\"module\":null,\"name\":\"NotificationAreaBase1\",\"overrides\":[],\"properties\":[{\"default\":\"bottom-right\",\"kind\":null,\"name\":\"position\"},{\"default\":0,\"kind\":null,\"name\":\"_clear\"}]},{\"extends\":null,\"module\":null,\"name\":\"NotificationArea1\",\"overrides\":[],\"properties\":[{\"default\":[],\"kind\":null,\"name\":\"notifications\"},{\"default\":\"bottom-right\",\"kind\":null,\"name\":\"position\"},{\"default\":0,\"kind\":null,\"name\":\"_clear\"},{\"default\":[{\"background\":\"#ffc107\",\"icon\":{\"className\":\"fas fa-exclamation-triangle\",\"color\":\"white\",\"tagName\":\"i\"},\"type\":\"warning\"},{\"background\":\"#007bff\",\"icon\":{\"className\":\"fas fa-info-circle\",\"color\":\"white\",\"tagName\":\"i\"},\"type\":\"info\"}],\"kind\":null,\"name\":\"types\"}]},{\"extends\":null,\"module\":null,\"name\":\"Notification\",\"overrides\":[],\"properties\":[{\"default\":null,\"kind\":null,\"name\":\"background\"},{\"default\":3000,\"kind\":null,\"name\":\"duration\"},{\"default\":null,\"kind\":null,\"name\":\"icon\"},{\"default\":\"\",\"kind\":null,\"name\":\"message\"},{\"default\":null,\"kind\":null,\"name\":\"notification_type\"},{\"default\":false,\"kind\":null,\"name\":\"_destroyed\"}]},{\"extends\":null,\"module\":null,\"name\":\"TemplateActions1\",\"overrides\":[],\"properties\":[{\"default\":0,\"kind\":null,\"name\":\"open_modal\"},{\"default\":0,\"kind\":null,\"name\":\"close_modal\"}]},{\"extends\":null,\"module\":null,\"name\":\"MaterialTemplateActions1\",\"overrides\":[],\"properties\":[{\"default\":0,\"kind\":null,\"name\":\"open_modal\"},{\"default\":0,\"kind\":null,\"name\":\"close_modal\"}]}],\"roots\":{\"references\":[{\"attributes\":{\"background_fill_alpha\":0.9,\"background_fill_color\":\"#0f0f0f\",\"below\":[{\"id\":\"1659\"}],\"border_fill_alpha\":0.8,\"border_fill_color\":\"#111111\",\"center\":[{\"id\":\"1662\"},{\"id\":\"1666\"},{\"id\":\"1698\"}],\"height\":450,\"left\":[{\"id\":\"1663\"}],\"outline_line_alpha\":0.25,\"outline_line_color\":\"#E0E0E0\",\"outline_line_width\":3,\"renderers\":[{\"id\":\"1686\"}],\"title\":{\"id\":\"1649\"},\"toolbar\":{\"id\":\"1674\"},\"toolbar_location\":null,\"x_range\":{\"id\":\"1651\"},\"x_scale\":{\"id\":\"1655\"},\"y_range\":{\"id\":\"1653\"},\"y_scale\":{\"id\":\"1657\"}},\"id\":\"1648\",\"subtype\":\"Figure\",\"type\":\"Plot\"},{\"attributes\":{},\"id\":\"1580\",\"type\":\"Selection\"},{\"attributes\":{\"callback\":null,\"mode\":\"vline\",\"renderers\":[{\"id\":\"1628\"}],\"tooltips\":null},\"id\":\"1642\",\"type\":\"HoverTool\"},{\"attributes\":{\"coordinates\":null,\"group\":null,\"text\":\"Problem 2\",\"text_color\":\"#E0E0E0\",\"text_font\":\"Josefin Sans\",\"text_font_size\":\"2.1em\"},\"id\":\"1591\",\"type\":\"Title\"},{\"attributes\":{},\"id\":\"1691\",\"type\":\"AllLabels\"},{\"attributes\":{\"children\":[{\"id\":\"1532\"},{\"id\":\"1590\"},{\"id\":\"1648\"}]},\"id\":\"1707\",\"type\":\"Row\"},{\"attributes\":{\"style\":{\"font-size\":\"250%\"},\"text\":\"Observing different problems\"},\"id\":\"1706\",\"type\":\"Div\"},{\"attributes\":{\"mode\":\"append\",\"overlay\":{\"id\":\"1739\"},\"renderers\":[{\"id\":\"1628\"}]},\"id\":\"1646\",\"type\":\"BoxSelectTool\"},{\"attributes\":{},\"id\":\"1575\",\"type\":\"AllLabels\"},{\"attributes\":{\"fill_alpha\":{\"value\":0.5},\"fill_color\":{\"value\":\"red\"},\"hatch_alpha\":{\"value\":0.5},\"line_alpha\":{\"value\":0.5},\"line_color\":{\"value\":\"white\"},\"size\":{\"value\":10},\"x\":{\"field\":\"x\"},\"y\":{\"field\":\"y\"}},\"id\":\"1568\",\"type\":\"Circle\"},{\"attributes\":{\"coordinates\":null,\"data_source\":{\"id\":\"1681\"},\"glyph\":{\"id\":\"1682\"},\"group\":null,\"hover_glyph\":{\"id\":\"1684\"},\"muted_glyph\":{\"id\":\"1685\"},\"nonselection_glyph\":{\"id\":\"1703\"},\"selection_glyph\":{\"id\":\"1702\"},\"view\":{\"id\":\"1687\"}},\"id\":\"1686\",\"type\":\"GlyphRenderer\"},{\"attributes\":{\"fill_alpha\":{\"value\":0.8},\"fill_color\":{\"value\":\"red\"},\"line_color\":{\"value\":\"white\"}},\"id\":\"1644\",\"type\":\"Circle\"},{\"attributes\":{},\"id\":\"1694\",\"type\":\"AllLabels\"},{\"attributes\":{},\"id\":\"1693\",\"type\":\"BasicTickFormatter\"},{\"attributes\":{},\"id\":\"1593\",\"type\":\"DataRange1d\"},{\"attributes\":{},\"id\":\"1552\",\"type\":\"WheelZoomTool\"},{\"attributes\":{\"source\":{\"id\":\"1565\"}},\"id\":\"1571\",\"type\":\"CDSView\"},{\"attributes\":{},\"id\":\"1690\",\"type\":\"BasicTickFormatter\"},{\"attributes\":{\"overlay\":{\"id\":\"1557\"}},\"id\":\"1553\",\"type\":\"BoxZoomTool\"},{\"attributes\":{\"callback\":null,\"mode\":\"vline\",\"renderers\":[{\"id\":\"1570\"}],\"tooltips\":null},\"id\":\"1584\",\"type\":\"HoverTool\"},{\"attributes\":{},\"id\":\"1537\",\"type\":\"DataRange1d\"},{\"attributes\":{\"axis\":{\"id\":\"1601\"},\"coordinates\":null,\"grid_line_alpha\":0.15,\"grid_line_color\":\"#E0E0E0\",\"group\":null,\"ticker\":null},\"id\":\"1604\",\"type\":\"Grid\"},{\"attributes\":{\"label\":{\"value\":\"Observations\"},\"renderers\":[{\"id\":\"1628\"}]},\"id\":\"1641\",\"type\":\"LegendItem\"},{\"attributes\":{\"fill_alpha\":{\"value\":0.25},\"fill_color\":{\"value\":\"midnightblue\"},\"hatch_alpha\":{\"value\":0.25},\"line_alpha\":{\"value\":0.25},\"line_color\":{\"value\":\"white\"},\"size\":{\"value\":10},\"x\":{\"field\":\"x\"},\"y\":{\"field\":\"y\"}},\"id\":\"1682\",\"type\":\"Circle\"},{\"attributes\":{\"bottom_units\":\"screen\",\"coordinates\":null,\"fill_alpha\":0.5,\"fill_color\":\"lightgrey\",\"group\":null,\"left_units\":\"screen\",\"level\":\"overlay\",\"line_alpha\":1.0,\"line_color\":\"black\",\"line_dash\":[4,4],\"line_width\":2,\"right_units\":\"screen\",\"syncable\":false,\"top_units\":\"screen\"},\"id\":\"1743\",\"type\":\"BoxAnnotation\"},{\"attributes\":{\"coordinates\":null,\"data_source\":{\"id\":\"1565\"},\"glyph\":{\"id\":\"1566\"},\"group\":null,\"hover_glyph\":{\"id\":\"1568\"},\"muted_glyph\":{\"id\":\"1569\"},\"nonselection_glyph\":{\"id\":\"1587\"},\"selection_glyph\":{\"id\":\"1586\"},\"view\":{\"id\":\"1571\"}},\"id\":\"1570\",\"type\":\"GlyphRenderer\"},{\"attributes\":{\"fill_alpha\":{\"value\":0.25},\"fill_color\":{\"value\":\"midnightblue\"},\"hatch_alpha\":{\"value\":0.25},\"line_alpha\":{\"value\":0.25},\"line_color\":{\"value\":\"white\"},\"size\":{\"value\":10},\"x\":{\"field\":\"x\"},\"y\":{\"field\":\"y\"}},\"id\":\"1624\",\"type\":\"Circle\"},{\"attributes\":{\"fill_alpha\":{\"value\":0.2},\"fill_color\":{\"value\":\"midnightblue\"},\"hatch_alpha\":{\"value\":0.2},\"line_alpha\":{\"value\":0.2},\"line_color\":{\"value\":\"white\"},\"size\":{\"value\":10},\"x\":{\"field\":\"x\"},\"y\":{\"field\":\"y\"}},\"id\":\"1569\",\"type\":\"Circle\"},{\"attributes\":{},\"id\":\"1632\",\"type\":\"BasicTickFormatter\"},{\"attributes\":{},\"id\":\"1554\",\"type\":\"SaveTool\"},{\"attributes\":{\"children\":[{\"id\":\"1706\"},{\"id\":\"1707\"}]},\"id\":\"1708\",\"type\":\"Column\"},{\"attributes\":{\"data\":{\"x\":{\"__ndarray__\":\"AAAAAAAAAABbv1Kg1q+EP1u/UqDWr5Q/CB988MEHnz9bv1Kg1q+kPzJvZ0jM26k/CB988MEHrz9wZ0jM2xmyP1u/UqDWr7Q/RhdddNFFtz8yb2dIzNu5Px3HcRzHcbw/CB988MEHvz96O0Ni3s7AP3BnSMzbGcI/ZZNNNtlkwz9bv1Kg1q/EP1HrVwrU+sU/RhdddNFFxz88Q2LezpDIPzJvZ0jM28k/J5tssskmyz8dx3Ecx3HMPxPzdobEvM0/CB988MEHzz9/pUCtXynQP3o7Q2LeztA/ddFFF1100T9wZ0jM2xnSP2r9SoFav9I/ZZNNNtlk0z9gKVDrVwrUP1u/UqDWr9Q/VlVVVVVV1T9R61cK1PrVP0yBWr9SoNY/RhdddNFF1z9BrV8pUOvXPzxDYt7OkNg/N9lkk0022T8yb2dIzNvZPy0Fav1Kgdo/J5tssskm2z8iMW9nSMzbPx3HcRzHcdw/GF100UUX3T8T83aGxLzdPw6JeTtDYt4/CB988MEH3z8DtX6lQK3fP3+lQK1fKeA/ffDBBx984D96O0Ni3s7gP3eGxLydIeE/ddFFF1104T9yHMdxHMfhP3BnSMzbGeI/bbLJJpts4j9q/UqBWr/iP2hIzNsZEuM/ZZNNNtlk4z9j3s6QmLfjP2ApUOtXCuQ/XnTRRRdd5D9bv1Kg1q/kP1gK1PqVAuU/VlVVVVVV5T9ToNavFKjlP1HrVwrU+uU/TjbZZJNN5j9MgVq/UqDmP0nM2xkS8+Y/RhdddNFF5z9EYt7OkJjnP0GtXylQ6+c/P/jggw8+6D88Q2LezpDoPzmO4ziO4+g/N9lkk0026T80JObtDInpPzJvZ0jM2+k/L7rooosu6j8tBWr9SoHqPypQ61cK1Oo/J5tssskm6z8l5u0MiXnrPyIxb2dIzOs/IHzwwQcf7D8dx3Ecx3HsPxsS83aGxOw/GF100UUX7T8VqPUrBWrtPxPzdobEvO0/ED744IMP7j8OiXk7Q2LuPwvU+pUCte4/CB988MEH7z8Gav1KgVrvPwO1fqVAre8/AAAAAAAA8D8=\",\"dtype\":\"float64\",\"order\":\"little\",\"shape\":[100]},\"y\":{\"__ndarray__\":\"SO78v0UKEkC4beyk47AIQL7sGyUGBhNAXFs0M5JqC0BGJhsAwDoPQGYNimrBhQ5Aj32vmn+ZDUBgZhEKXU0SQJK7E2mSyA5ARLyACWJcC0A8L/PLsl4LQGVmq3XS0gdArUTuHNq2EUDZtrI2BX4PQDA5p43xzQdAplhQWBiGB0B1JXYfuisOQChtZw+YYQpAEL9DRn+xAkDOlJnvuPUJQFBj0HX4kAdAmDj9eFtWDUBMTVki+psMQItjKlHoFgJAbOdQY3BrDkCOezBn4WkBQCoE2dmlzApAUO+tMpQnAUCLwDWGLRQLQMR4sHitsgVAgtHXqM7SAkCgHJypJgcMQI70woPP9A5A6DwUYzDfCECut5scWK8GQHCTV3JV5wZAwc2AEJJJ/z9QrjrmSg7/P3kJ3AtLcAJAuI4a0lZEAEAaK3S0U74EQIIbTz8toQFA7O/oo2tnB0A08OVLROgGQKUSFAwHwf0/qEKYdcAFCkAaXW83sC/8P2jKGaaJogtASrtCiQK3B0BKptmt+3IMQNwhaijqDQFAFDNyvkQhAUCsQs+NAiT/PxS7grusfwNAihA8CVNZB0CgZH+9non+PxhdlElSywFAabN8AomiBUDt40vyAWgJQMiV2O5UXwZAruUw9/F1BkCMpMB66uUEQIdlr9tP7f8/b1MjeZL8CECUkjTN8k4HQCqvOP6IuQJANkhcHXZzDECcmPqovM4CQMhQXfN+9w1ACIgVqXKjDkCuWnS79oAHQMcuexZiywpA854W6r73DEDOederUW8FQJ7jjUUonQRAHqTouJr9AEAc0vCUX1YEQJy943KWewxAsFejP/h0EED83kUHbY8MQLDbMwzJdAJAhNb/zGzYDkDwo6MThFcGQJBCbuO96gVAbqGc6asvBkD6buJ2QV0MQK7HKpZSCgVAljdX+1MqBEBEe8Pvn0cJQCZ8/lZXcQ9ArmXDJ62CB0APMNzSWh0SQGK12ddKVA9A3plM0POkBkA0q0Zd7EMLQAtrtRGzpRBAr5gMQOzkCED87wOlygERQACDxsYgvxBAvwfJPZbbE0A=\",\"dtype\":\"float64\",\"order\":\"little\",\"shape\":[100]}},\"selected\":{\"id\":\"1580\"},\"selection_policy\":{\"id\":\"1579\"}},\"id\":\"1565\",\"type\":\"ColumnDataSource\"},{\"attributes\":{\"axis_label\":\"x\",\"axis_label_standoff\":10,\"axis_label_text_color\":\"#FFFFFF\",\"axis_label_text_font\":\"Josefin Sans\",\"axis_label_text_font_size\":\"1.9em\",\"axis_label_text_font_style\":\"bold\",\"axis_line_alpha\":0.4,\"axis_line_color\":\"#E0E0E0\",\"coordinates\":null,\"formatter\":{\"id\":\"1577\"},\"group\":null,\"major_label_policy\":{\"id\":\"1578\"},\"major_label_text_color\":\"#E0E0E0\",\"major_label_text_font\":\"Josefin Sans\",\"major_label_text_font_size\":\"1.15em\",\"major_tick_line_alpha\":0.4,\"major_tick_line_color\":\"#E0E0E0\",\"minor_tick_line_alpha\":0.4,\"minor_tick_line_color\":\"#E0E0E0\",\"ticker\":{\"id\":\"1544\"}},\"id\":\"1543\",\"type\":\"LinearAxis\"},{\"attributes\":{},\"id\":\"1638\",\"type\":\"Selection\"},{\"attributes\":{\"background_fill_alpha\":0.9,\"background_fill_color\":\"#0f0f0f\",\"below\":[{\"id\":\"1601\"}],\"border_fill_alpha\":0.8,\"border_fill_color\":\"#111111\",\"center\":[{\"id\":\"1604\"},{\"id\":\"1608\"},{\"id\":\"1640\"}],\"height\":450,\"left\":[{\"id\":\"1605\"}],\"outline_line_alpha\":0.25,\"outline_line_color\":\"#E0E0E0\",\"outline_line_width\":3,\"renderers\":[{\"id\":\"1628\"}],\"title\":{\"id\":\"1591\"},\"toolbar\":{\"id\":\"1616\"},\"toolbar_location\":null,\"x_range\":{\"id\":\"1593\"},\"x_scale\":{\"id\":\"1597\"},\"y_range\":{\"id\":\"1595\"},\"y_scale\":{\"id\":\"1599\"}},\"id\":\"1590\",\"subtype\":\"Figure\",\"type\":\"Plot\"},{\"attributes\":{\"axis\":{\"id\":\"1547\"},\"coordinates\":null,\"dimension\":1,\"grid_line_alpha\":0.15,\"grid_line_color\":\"#E0E0E0\",\"group\":null,\"ticker\":null},\"id\":\"1550\",\"type\":\"Grid\"},{\"attributes\":{\"fill_alpha\":{\"value\":0.5},\"fill_color\":{\"value\":\"red\"},\"hatch_alpha\":{\"value\":0.5},\"line_alpha\":{\"value\":0.5},\"line_color\":{\"value\":\"white\"},\"size\":{\"value\":10},\"x\":{\"field\":\"x\"},\"y\":{\"field\":\"y\"}},\"id\":\"1684\",\"type\":\"Circle\"},{\"attributes\":{\"background_fill_alpha\":0.9,\"background_fill_color\":\"#0f0f0f\",\"below\":[{\"id\":\"1543\"}],\"border_fill_alpha\":0.8,\"border_fill_color\":\"#111111\",\"center\":[{\"id\":\"1546\"},{\"id\":\"1550\"},{\"id\":\"1582\"}],\"height\":450,\"left\":[{\"id\":\"1547\"}],\"outline_line_alpha\":0.25,\"outline_line_color\":\"#E0E0E0\",\"outline_line_width\":3,\"renderers\":[{\"id\":\"1570\"}],\"title\":{\"id\":\"1533\"},\"toolbar\":{\"id\":\"1558\"},\"toolbar_location\":null,\"x_range\":{\"id\":\"1535\"},\"x_scale\":{\"id\":\"1539\"},\"y_range\":{\"id\":\"1537\"},\"y_scale\":{\"id\":\"1541\"}},\"id\":\"1532\",\"subtype\":\"Figure\",\"type\":\"Plot\"},{\"attributes\":{},\"id\":\"1541\",\"type\":\"LinearScale\"},{\"attributes\":{},\"id\":\"1551\",\"type\":\"PanTool\"},{\"attributes\":{},\"id\":\"1635\",\"type\":\"BasicTickFormatter\"},{\"attributes\":{},\"id\":\"1577\",\"type\":\"BasicTickFormatter\"},{\"attributes\":{\"fill_alpha\":{\"value\":0.8},\"fill_color\":{\"value\":\"red\"},\"line_color\":{\"value\":\"white\"}},\"id\":\"1702\",\"type\":\"Circle\"},{\"attributes\":{},\"id\":\"1610\",\"type\":\"WheelZoomTool\"},{\"attributes\":{\"label\":{\"value\":\"Observations\"},\"renderers\":[{\"id\":\"1686\"}]},\"id\":\"1699\",\"type\":\"LegendItem\"},{\"attributes\":{\"mode\":\"append\",\"overlay\":{\"id\":\"1743\"},\"renderers\":[{\"id\":\"1686\"}]},\"id\":\"1704\",\"type\":\"BoxSelectTool\"},{\"attributes\":{\"margin\":[5,5,5,5],\"name\":\"HSpacer00125\",\"sizing_mode\":\"stretch_width\"},\"id\":\"1777\",\"type\":\"Spacer\"},{\"attributes\":{\"tools\":[{\"id\":\"1609\"},{\"id\":\"1610\"},{\"id\":\"1611\"},{\"id\":\"1612\"},{\"id\":\"1613\"},{\"id\":\"1614\"},{\"id\":\"1642\"},{\"id\":\"1646\"}]},\"id\":\"1616\",\"type\":\"Toolbar\"},{\"attributes\":{\"callback\":null,\"mode\":\"vline\",\"renderers\":[{\"id\":\"1686\"}],\"tooltips\":null},\"id\":\"1700\",\"type\":\"HoverTool\"},{\"attributes\":{},\"id\":\"1637\",\"type\":\"UnionRenderers\"},{\"attributes\":{},\"id\":\"1574\",\"type\":\"BasicTickFormatter\"},{\"attributes\":{\"fill_alpha\":{\"value\":0.5},\"fill_color\":{\"value\":\"midnightblue\"},\"line_color\":{\"value\":\"white\"}},\"id\":\"1703\",\"type\":\"Circle\"},{\"attributes\":{\"background_fill_alpha\":0.25,\"background_fill_color\":\"#505050\",\"border_line_alpha\":0.25,\"coordinates\":null,\"group\":null,\"items\":[{\"id\":\"1699\"}],\"label_standoff\":8,\"label_text_color\":\"#E0E0E0\",\"label_text_font\":\"Josefin Sans\",\"label_text_font_size\":\"1.15em\",\"spacing\":8},\"id\":\"1698\",\"type\":\"Legend\"},{\"attributes\":{},\"id\":\"1614\",\"type\":\"HelpTool\"},{\"attributes\":{},\"id\":\"1556\",\"type\":\"HelpTool\"},{\"attributes\":{},\"id\":\"1602\",\"type\":\"BasicTicker\"},{\"attributes\":{\"bottom_units\":\"screen\",\"coordinates\":null,\"fill_alpha\":0.5,\"fill_color\":\"lightgrey\",\"group\":null,\"left_units\":\"screen\",\"level\":\"overlay\",\"line_alpha\":1.0,\"line_color\":\"black\",\"line_dash\":[4,4],\"line_width\":2,\"right_units\":\"screen\",\"syncable\":false,\"top_units\":\"screen\"},\"id\":\"1557\",\"type\":\"BoxAnnotation\"},{\"attributes\":{},\"id\":\"1579\",\"type\":\"UnionRenderers\"},{\"attributes\":{\"coordinates\":null,\"data_source\":{\"id\":\"1623\"},\"glyph\":{\"id\":\"1624\"},\"group\":null,\"hover_glyph\":{\"id\":\"1626\"},\"muted_glyph\":{\"id\":\"1627\"},\"nonselection_glyph\":{\"id\":\"1645\"},\"selection_glyph\":{\"id\":\"1644\"},\"view\":{\"id\":\"1629\"}},\"id\":\"1628\",\"type\":\"GlyphRenderer\"},{\"attributes\":{\"fill_alpha\":{\"value\":0.2},\"fill_color\":{\"value\":\"midnightblue\"},\"hatch_alpha\":{\"value\":0.2},\"line_alpha\":{\"value\":0.2},\"line_color\":{\"value\":\"white\"},\"size\":{\"value\":10},\"x\":{\"field\":\"x\"},\"y\":{\"field\":\"y\"}},\"id\":\"1627\",\"type\":\"Circle\"},{\"attributes\":{\"coordinates\":null,\"group\":null,\"text\":\"Problem 1\",\"text_color\":\"#E0E0E0\",\"text_font\":\"Josefin Sans\",\"text_font_size\":\"2.1em\"},\"id\":\"1533\",\"type\":\"Title\"},{\"attributes\":{\"tools\":[{\"id\":\"1667\"},{\"id\":\"1668\"},{\"id\":\"1669\"},{\"id\":\"1670\"},{\"id\":\"1671\"},{\"id\":\"1672\"},{\"id\":\"1700\"},{\"id\":\"1704\"}]},\"id\":\"1674\",\"type\":\"Toolbar\"},{\"attributes\":{\"source\":{\"id\":\"1681\"}},\"id\":\"1687\",\"type\":\"CDSView\"},{\"attributes\":{\"source\":{\"id\":\"1623\"}},\"id\":\"1629\",\"type\":\"CDSView\"},{\"attributes\":{},\"id\":\"1555\",\"type\":\"ResetTool\"},{\"attributes\":{\"bottom_units\":\"screen\",\"coordinates\":null,\"fill_alpha\":0.5,\"fill_color\":\"lightgrey\",\"group\":null,\"left_units\":\"screen\",\"level\":\"overlay\",\"line_alpha\":1.0,\"line_color\":\"black\",\"line_dash\":[4,4],\"line_width\":2,\"right_units\":\"screen\",\"syncable\":false,\"top_units\":\"screen\"},\"id\":\"1673\",\"type\":\"BoxAnnotation\"},{\"attributes\":{\"axis_label\":\"y\",\"axis_label_standoff\":10,\"axis_label_text_color\":\"#FFFFFF\",\"axis_label_text_font\":\"Josefin Sans\",\"axis_label_text_font_size\":\"1.9em\",\"axis_label_text_font_style\":\"bold\",\"axis_line_alpha\":0.4,\"axis_line_color\":\"#E0E0E0\",\"coordinates\":null,\"formatter\":{\"id\":\"1632\"},\"group\":null,\"major_label_policy\":{\"id\":\"1633\"},\"major_label_text_color\":\"#E0E0E0\",\"major_label_text_font\":\"Josefin Sans\",\"major_label_text_font_size\":\"1.15em\",\"major_tick_line_alpha\":0.4,\"major_tick_line_color\":\"#E0E0E0\",\"minor_tick_line_alpha\":0.4,\"minor_tick_line_color\":\"#E0E0E0\",\"ticker\":{\"id\":\"1606\"}},\"id\":\"1605\",\"type\":\"LinearAxis\"},{\"attributes\":{\"background_fill_alpha\":0.25,\"background_fill_color\":\"#505050\",\"border_line_alpha\":0.25,\"coordinates\":null,\"group\":null,\"items\":[{\"id\":\"1583\"}],\"label_standoff\":8,\"label_text_color\":\"#E0E0E0\",\"label_text_font\":\"Josefin Sans\",\"label_text_font_size\":\"1.15em\",\"spacing\":8},\"id\":\"1582\",\"type\":\"Legend\"},{\"attributes\":{\"fill_alpha\":{\"value\":0.8},\"fill_color\":{\"value\":\"red\"},\"line_color\":{\"value\":\"white\"}},\"id\":\"1586\",\"type\":\"Circle\"},{\"attributes\":{\"bottom_units\":\"screen\",\"coordinates\":null,\"fill_alpha\":0.5,\"fill_color\":\"lightgrey\",\"group\":null,\"left_units\":\"screen\",\"level\":\"overlay\",\"line_alpha\":1.0,\"line_color\":\"black\",\"line_dash\":[4,4],\"line_width\":2,\"right_units\":\"screen\",\"syncable\":false,\"top_units\":\"screen\"},\"id\":\"1735\",\"type\":\"BoxAnnotation\"},{\"attributes\":{},\"id\":\"1696\",\"type\":\"Selection\"},{\"attributes\":{\"mode\":\"append\",\"overlay\":{\"id\":\"1735\"},\"renderers\":[{\"id\":\"1570\"}]},\"id\":\"1588\",\"type\":\"BoxSelectTool\"},{\"attributes\":{},\"id\":\"1606\",\"type\":\"BasicTicker\"},{\"attributes\":{},\"id\":\"1544\",\"type\":\"BasicTicker\"},{\"attributes\":{\"background_fill_alpha\":0.25,\"background_fill_color\":\"#505050\",\"border_line_alpha\":0.25,\"coordinates\":null,\"group\":null,\"items\":[{\"id\":\"1641\"}],\"label_standoff\":8,\"label_text_color\":\"#E0E0E0\",\"label_text_font\":\"Josefin Sans\",\"label_text_font_size\":\"1.15em\",\"spacing\":8},\"id\":\"1640\",\"type\":\"Legend\"},{\"attributes\":{},\"id\":\"1595\",\"type\":\"DataRange1d\"},{\"attributes\":{\"label\":{\"value\":\"Observations\"},\"renderers\":[{\"id\":\"1570\"}]},\"id\":\"1583\",\"type\":\"LegendItem\"},{\"attributes\":{},\"id\":\"1671\",\"type\":\"ResetTool\"},{\"attributes\":{},\"id\":\"1670\",\"type\":\"SaveTool\"},{\"attributes\":{\"tools\":[{\"id\":\"1551\"},{\"id\":\"1552\"},{\"id\":\"1553\"},{\"id\":\"1554\"},{\"id\":\"1555\"},{\"id\":\"1556\"},{\"id\":\"1584\"},{\"id\":\"1588\"}]},\"id\":\"1558\",\"type\":\"Toolbar\"},{\"attributes\":{\"overlay\":{\"id\":\"1673\"}},\"id\":\"1669\",\"type\":\"BoxZoomTool\"},{\"attributes\":{},\"id\":\"1636\",\"type\":\"AllLabels\"},{\"attributes\":{},\"id\":\"1597\",\"type\":\"LinearScale\"},{\"attributes\":{},\"id\":\"1667\",\"type\":\"PanTool\"},{\"attributes\":{},\"id\":\"1612\",\"type\":\"SaveTool\"},{\"attributes\":{\"axis\":{\"id\":\"1605\"},\"coordinates\":null,\"dimension\":1,\"grid_line_alpha\":0.15,\"grid_line_color\":\"#E0E0E0\",\"group\":null,\"ticker\":null},\"id\":\"1608\",\"type\":\"Grid\"},{\"attributes\":{},\"id\":\"1668\",\"type\":\"WheelZoomTool\"},{\"attributes\":{\"bottom_units\":\"screen\",\"coordinates\":null,\"fill_alpha\":0.5,\"fill_color\":\"lightgrey\",\"group\":null,\"left_units\":\"screen\",\"level\":\"overlay\",\"line_alpha\":1.0,\"line_color\":\"black\",\"line_dash\":[4,4],\"line_width\":2,\"right_units\":\"screen\",\"syncable\":false,\"top_units\":\"screen\"},\"id\":\"1739\",\"type\":\"BoxAnnotation\"},{\"attributes\":{},\"id\":\"1695\",\"type\":\"UnionRenderers\"},{\"attributes\":{\"client_comm_id\":\"f1fcb407a6bb4a7da158b7c56662d257\",\"comm_id\":\"557287a51a6b49919dee2f8af385ea16\",\"plot_id\":\"1709\"},\"id\":\"1877\",\"type\":\"panel.models.comm_manager.CommManager\"},{\"attributes\":{\"data\":{\"x\":{\"__ndarray__\":\"AAAAAAAAAABbv1Kg1q+EP1u/UqDWr5Q/CB988MEHnz9bv1Kg1q+kPzJvZ0jM26k/CB988MEHrz9wZ0jM2xmyP1u/UqDWr7Q/RhdddNFFtz8yb2dIzNu5Px3HcRzHcbw/CB988MEHvz96O0Ni3s7AP3BnSMzbGcI/ZZNNNtlkwz9bv1Kg1q/EP1HrVwrU+sU/RhdddNFFxz88Q2LezpDIPzJvZ0jM28k/J5tssskmyz8dx3Ecx3HMPxPzdobEvM0/CB988MEHzz9/pUCtXynQP3o7Q2LeztA/ddFFF1100T9wZ0jM2xnSP2r9SoFav9I/ZZNNNtlk0z9gKVDrVwrUP1u/UqDWr9Q/VlVVVVVV1T9R61cK1PrVP0yBWr9SoNY/RhdddNFF1z9BrV8pUOvXPzxDYt7OkNg/N9lkk0022T8yb2dIzNvZPy0Fav1Kgdo/J5tssskm2z8iMW9nSMzbPx3HcRzHcdw/GF100UUX3T8T83aGxLzdPw6JeTtDYt4/CB988MEH3z8DtX6lQK3fP3+lQK1fKeA/ffDBBx984D96O0Ni3s7gP3eGxLydIeE/ddFFF1104T9yHMdxHMfhP3BnSMzbGeI/bbLJJpts4j9q/UqBWr/iP2hIzNsZEuM/ZZNNNtlk4z9j3s6QmLfjP2ApUOtXCuQ/XnTRRRdd5D9bv1Kg1q/kP1gK1PqVAuU/VlVVVVVV5T9ToNavFKjlP1HrVwrU+uU/TjbZZJNN5j9MgVq/UqDmP0nM2xkS8+Y/RhdddNFF5z9EYt7OkJjnP0GtXylQ6+c/P/jggw8+6D88Q2LezpDoPzmO4ziO4+g/N9lkk0026T80JObtDInpPzJvZ0jM2+k/L7rooosu6j8tBWr9SoHqPypQ61cK1Oo/J5tssskm6z8l5u0MiXnrPyIxb2dIzOs/IHzwwQcf7D8dx3Ecx3HsPxsS83aGxOw/GF100UUX7T8VqPUrBWrtPxPzdobEvO0/ED744IMP7j8OiXk7Q2LuPwvU+pUCte4/CB988MEH7z8Gav1KgVrvPwO1fqVAre8/AAAAAAAA8D8=\",\"dtype\":\"float64\",\"order\":\"little\",\"shape\":[100]},\"y\":{\"__ndarray__\":\"8QcmS0J9/T9tKEUYYKT6P6AJIvINhLQ/RHfXeSns6j+Cjwilvi3mP5TiNcF1WNg/8Ya6yF679z+ue/H0A+XwP+A7bixHSeY/9goTYh8M8j/2t51UT4HjP2vNJuaK0Ps/0tBrD6q46T806NbVMhzoP0Kl5T3gWek/Li0R0QLZ5j97HUm7/cgAQFz4aye8++g/c4rpRLQ3+D8ap6N4Xfz6Pz7HTk2Dmf0/DPS1vsJj2j8MVUqj9szVP/aHRClBjfM/AX6SQabI9D/QgElKpoTpP07sdueGqvY/uB4TYvjK6D9U3mwYw7r3P1EzW+WZC/w/tCXSsgdB1T8QT81U/Ev9P1ypyP4qHN0/9OX3FPSZAkACvDX1hLf4P+KO4kklqfM/FNnGxC1EAUBpbyRrYoL7P3p4CA/lowJAzKoFoNca4j8ESsfi0Mn3P4YrqwuabO4/0coLnZKMAUBYh45Th4bnP+QEjCS5Rfs/efeDySRLA0DnJNb0zh31P7KVMpkcPf8/2ErhV2O5A0Duh307/R7mPzJPhwul3PM/V//2zqHE9T+AskCxLvDsPza/S2d0pv4/0lBICcTo5D90MoBJwXoBQAH2X/EFy/E/FIGGHFjR/z/0TuXJ7UQDQCJvc2KgZuc//6bAGSeI9D9Ep3LCWKb5P/Ae2eIYbuU/QDdYFCLM+D+r52kLBIHyP+IG3ntH2/A/SaKhwjlu+j+0ECEoXqX3P1dVmmmD4PM/boFllQ7J/T/0tEtPtjn/PzQlqUQxXPE/odGab4GaAECtFVPjPwgBQNCzqdS4EAVAxnKdwp1IBED8HuIe3n/qPwXotVRK7/o/4vdoCHMk8D+UcBRwUfj7P2h3jfewugZA9LhXq5dQ/j8m5+sCJtsDQIKuT1cgk/U/u3WDHu7kBEAz1cRepU36P/DJXlGTOPU/SBsNHves+D/VTyZ9BFoGQDmVA5PlUwRAulSziLUHBUDcH2PrCfACQDHwkAVY6AdAbCca3Atd9j+SQvgf3aMAQEnzJUcwy/Y/dVHzW1L09T8/NXKupIf0P1whX0k1wgZALX5Defxu9T8=\",\"dtype\":\"float64\",\"order\":\"little\",\"shape\":[100]}},\"selected\":{\"id\":\"1696\"},\"selection_policy\":{\"id\":\"1695\"}},\"id\":\"1681\",\"type\":\"ColumnDataSource\"},{\"attributes\":{\"fill_alpha\":{\"value\":0.2},\"fill_color\":{\"value\":\"midnightblue\"},\"hatch_alpha\":{\"value\":0.2},\"line_alpha\":{\"value\":0.2},\"line_color\":{\"value\":\"white\"},\"size\":{\"value\":10},\"x\":{\"field\":\"x\"},\"y\":{\"field\":\"y\"}},\"id\":\"1685\",\"type\":\"Circle\"},{\"attributes\":{},\"id\":\"1609\",\"type\":\"PanTool\"},{\"attributes\":{},\"id\":\"1664\",\"type\":\"BasicTicker\"},{\"attributes\":{\"axis_label\":\"x\",\"axis_label_standoff\":10,\"axis_label_text_color\":\"#FFFFFF\",\"axis_label_text_font\":\"Josefin Sans\",\"axis_label_text_font_size\":\"1.9em\",\"axis_label_text_font_style\":\"bold\",\"axis_line_alpha\":0.4,\"axis_line_color\":\"#E0E0E0\",\"coordinates\":null,\"formatter\":{\"id\":\"1635\"},\"group\":null,\"major_label_policy\":{\"id\":\"1636\"},\"major_label_text_color\":\"#E0E0E0\",\"major_label_text_font\":\"Josefin Sans\",\"major_label_text_font_size\":\"1.15em\",\"major_tick_line_alpha\":0.4,\"major_tick_line_color\":\"#E0E0E0\",\"minor_tick_line_alpha\":0.4,\"minor_tick_line_color\":\"#E0E0E0\",\"ticker\":{\"id\":\"1602\"}},\"id\":\"1601\",\"type\":\"LinearAxis\"},{\"attributes\":{\"axis\":{\"id\":\"1663\"},\"coordinates\":null,\"dimension\":1,\"grid_line_alpha\":0.15,\"grid_line_color\":\"#E0E0E0\",\"group\":null,\"ticker\":null},\"id\":\"1666\",\"type\":\"Grid\"},{\"attributes\":{},\"id\":\"1613\",\"type\":\"ResetTool\"},{\"attributes\":{\"axis\":{\"id\":\"1659\"},\"coordinates\":null,\"grid_line_alpha\":0.15,\"grid_line_color\":\"#E0E0E0\",\"group\":null,\"ticker\":null},\"id\":\"1662\",\"type\":\"Grid\"},{\"attributes\":{\"axis_label\":\"y\",\"axis_label_standoff\":10,\"axis_label_text_color\":\"#FFFFFF\",\"axis_label_text_font\":\"Josefin Sans\",\"axis_label_text_font_size\":\"1.9em\",\"axis_label_text_font_style\":\"bold\",\"axis_line_alpha\":0.4,\"axis_line_color\":\"#E0E0E0\",\"coordinates\":null,\"formatter\":{\"id\":\"1574\"},\"group\":null,\"major_label_policy\":{\"id\":\"1575\"},\"major_label_text_color\":\"#E0E0E0\",\"major_label_text_font\":\"Josefin Sans\",\"major_label_text_font_size\":\"1.15em\",\"major_tick_line_alpha\":0.4,\"major_tick_line_color\":\"#E0E0E0\",\"minor_tick_line_alpha\":0.4,\"minor_tick_line_color\":\"#E0E0E0\",\"ticker\":{\"id\":\"1548\"}},\"id\":\"1547\",\"type\":\"LinearAxis\"},{\"attributes\":{},\"id\":\"1657\",\"type\":\"LinearScale\"},{\"attributes\":{\"axis_label\":\"y\",\"axis_label_standoff\":10,\"axis_label_text_color\":\"#FFFFFF\",\"axis_label_text_font\":\"Josefin Sans\",\"axis_label_text_font_size\":\"1.9em\",\"axis_label_text_font_style\":\"bold\",\"axis_line_alpha\":0.4,\"axis_line_color\":\"#E0E0E0\",\"coordinates\":null,\"formatter\":{\"id\":\"1690\"},\"group\":null,\"major_label_policy\":{\"id\":\"1691\"},\"major_label_text_color\":\"#E0E0E0\",\"major_label_text_font\":\"Josefin Sans\",\"major_label_text_font_size\":\"1.15em\",\"major_tick_line_alpha\":0.4,\"major_tick_line_color\":\"#E0E0E0\",\"minor_tick_line_alpha\":0.4,\"minor_tick_line_color\":\"#E0E0E0\",\"ticker\":{\"id\":\"1664\"}},\"id\":\"1663\",\"type\":\"LinearAxis\"},{\"attributes\":{\"overlay\":{\"id\":\"1615\"}},\"id\":\"1611\",\"type\":\"BoxZoomTool\"},{\"attributes\":{\"axis_label\":\"x\",\"axis_label_standoff\":10,\"axis_label_text_color\":\"#FFFFFF\",\"axis_label_text_font\":\"Josefin Sans\",\"axis_label_text_font_size\":\"1.9em\",\"axis_label_text_font_style\":\"bold\",\"axis_line_alpha\":0.4,\"axis_line_color\":\"#E0E0E0\",\"coordinates\":null,\"formatter\":{\"id\":\"1693\"},\"group\":null,\"major_label_policy\":{\"id\":\"1694\"},\"major_label_text_color\":\"#E0E0E0\",\"major_label_text_font\":\"Josefin Sans\",\"major_label_text_font_size\":\"1.15em\",\"major_tick_line_alpha\":0.4,\"major_tick_line_color\":\"#E0E0E0\",\"minor_tick_line_alpha\":0.4,\"minor_tick_line_color\":\"#E0E0E0\",\"ticker\":{\"id\":\"1660\"}},\"id\":\"1659\",\"type\":\"LinearAxis\"},{\"attributes\":{\"coordinates\":null,\"group\":null,\"text\":\"Problem 3\",\"text_color\":\"#E0E0E0\",\"text_font\":\"Josefin Sans\",\"text_font_size\":\"2.1em\"},\"id\":\"1649\",\"type\":\"Title\"},{\"attributes\":{},\"id\":\"1660\",\"type\":\"BasicTicker\"},{\"attributes\":{\"margin\":[5,5,5,5],\"name\":\"HSpacer00124\",\"sizing_mode\":\"stretch_width\"},\"id\":\"1710\",\"type\":\"Spacer\"},{\"attributes\":{\"bottom_units\":\"screen\",\"coordinates\":null,\"fill_alpha\":0.5,\"fill_color\":\"lightgrey\",\"group\":null,\"left_units\":\"screen\",\"level\":\"overlay\",\"line_alpha\":1.0,\"line_color\":\"black\",\"line_dash\":[4,4],\"line_width\":2,\"right_units\":\"screen\",\"syncable\":false,\"top_units\":\"screen\"},\"id\":\"1615\",\"type\":\"BoxAnnotation\"},{\"attributes\":{},\"id\":\"1548\",\"type\":\"BasicTicker\"},{\"attributes\":{\"children\":[{\"id\":\"1710\"},{\"id\":\"1708\"},{\"id\":\"1777\"}],\"margin\":[0,0,0,0],\"name\":\"Row00128\"},\"id\":\"1709\",\"type\":\"Row\"},{\"attributes\":{\"fill_alpha\":{\"value\":0.5},\"fill_color\":{\"value\":\"red\"},\"hatch_alpha\":{\"value\":0.5},\"line_alpha\":{\"value\":0.5},\"line_color\":{\"value\":\"white\"},\"size\":{\"value\":10},\"x\":{\"field\":\"x\"},\"y\":{\"field\":\"y\"}},\"id\":\"1626\",\"type\":\"Circle\"},{\"attributes\":{},\"id\":\"1672\",\"type\":\"HelpTool\"},{\"attributes\":{},\"id\":\"1655\",\"type\":\"LinearScale\"},{\"attributes\":{},\"id\":\"1653\",\"type\":\"DataRange1d\"},{\"attributes\":{\"fill_alpha\":{\"value\":0.25},\"fill_color\":{\"value\":\"midnightblue\"},\"hatch_alpha\":{\"value\":0.25},\"line_alpha\":{\"value\":0.25},\"line_color\":{\"value\":\"white\"},\"size\":{\"value\":10},\"x\":{\"field\":\"x\"},\"y\":{\"field\":\"y\"}},\"id\":\"1566\",\"type\":\"Circle\"},{\"attributes\":{},\"id\":\"1651\",\"type\":\"DataRange1d\"},{\"attributes\":{},\"id\":\"1539\",\"type\":\"LinearScale\"},{\"attributes\":{},\"id\":\"1578\",\"type\":\"AllLabels\"},{\"attributes\":{\"data\":{\"x\":{\"__ndarray__\":\"AAAAAAAAAABbv1Kg1q+EP1u/UqDWr5Q/CB988MEHnz9bv1Kg1q+kPzJvZ0jM26k/CB988MEHrz9wZ0jM2xmyP1u/UqDWr7Q/RhdddNFFtz8yb2dIzNu5Px3HcRzHcbw/CB988MEHvz96O0Ni3s7AP3BnSMzbGcI/ZZNNNtlkwz9bv1Kg1q/EP1HrVwrU+sU/RhdddNFFxz88Q2LezpDIPzJvZ0jM28k/J5tssskmyz8dx3Ecx3HMPxPzdobEvM0/CB988MEHzz9/pUCtXynQP3o7Q2LeztA/ddFFF1100T9wZ0jM2xnSP2r9SoFav9I/ZZNNNtlk0z9gKVDrVwrUP1u/UqDWr9Q/VlVVVVVV1T9R61cK1PrVP0yBWr9SoNY/RhdddNFF1z9BrV8pUOvXPzxDYt7OkNg/N9lkk0022T8yb2dIzNvZPy0Fav1Kgdo/J5tssskm2z8iMW9nSMzbPx3HcRzHcdw/GF100UUX3T8T83aGxLzdPw6JeTtDYt4/CB988MEH3z8DtX6lQK3fP3+lQK1fKeA/ffDBBx984D96O0Ni3s7gP3eGxLydIeE/ddFFF1104T9yHMdxHMfhP3BnSMzbGeI/bbLJJpts4j9q/UqBWr/iP2hIzNsZEuM/ZZNNNtlk4z9j3s6QmLfjP2ApUOtXCuQ/XnTRRRdd5D9bv1Kg1q/kP1gK1PqVAuU/VlVVVVVV5T9ToNavFKjlP1HrVwrU+uU/TjbZZJNN5j9MgVq/UqDmP0nM2xkS8+Y/RhdddNFF5z9EYt7OkJjnP0GtXylQ6+c/P/jggw8+6D88Q2LezpDoPzmO4ziO4+g/N9lkk0026T80JObtDInpPzJvZ0jM2+k/L7rooosu6j8tBWr9SoHqPypQ61cK1Oo/J5tssskm6z8l5u0MiXnrPyIxb2dIzOs/IHzwwQcf7D8dx3Ecx3HsPxsS83aGxOw/GF100UUX7T8VqPUrBWrtPxPzdobEvO0/ED744IMP7j8OiXk7Q2LuPwvU+pUCte4/CB988MEH7z8Gav1KgVrvPwO1fqVAre8/AAAAAAAA8D8=\",\"dtype\":\"float64\",\"order\":\"little\",\"shape\":[100]},\"y\":{\"__ndarray__\":\"4DmWY4B62j/0aJ72HVXlvyAmhP7/RpM/1jp0PcHX2j/GO+cJQxDgv/6lQiAKevA/OHYrrZGR279CpAfXgKzlv38jR2ZIfso/eFVkcrSI0z8Qq7CJylnDP1rz74CW78w/q8GJNhz12b+H4ij3EDvnv/rzvqtNQ9m/gjD08axCoz+BzONAX8q2P+twtMQBZbE/0TKmW0yq2b+L4QpLcLLuPy+NWJ+hquK/nrfH8w3IxL/7+8zc57PDv8jgak4wlK4/WisbcXBm0T/gXHUXjeiRvwRMrcZeONg/4B/Z97Re3j/vJeDtUq7qv5Zw+aCFHLk/EEqtWPiw57981KB4GTraP2uE36e3D+Y/6BCEBPDR7j+thtzDuWrBv93jlJ2h6sU/kye9pWuz4T9NEIxGCBbYvwSssrqtWc0/coWh7FCs4D/4BD+W7i7iv/xnpBHtULO/o+CxuxLRyT8aAvQWalbsP9CiHARofNc/HlFSeIPN0r+eSD5qEE/SP8XU7AJi2Nc/BVe/DdBC5L/sZNi4NY+dv8VC/lcUKea/NNwotg6A7T8DhZcRQKnDv8ZgyXmzEuY/UsEbk+/I4b8kPvXi4TPZPy4QQHVVy+o/kQpFS07E5T9Ufxw0JIyjv4ZB2EhbGe+/rozJv8SIub/XoQSO7fbKP4xlNZ0Uwec/U5za/aTO1z+5sBVboNvOv/gt5ejbr/K/uUacXDCbxr8xeL+E4UPgv0QdC1jvMte/jCJHnfoD6r98rzgkImfxv49sZlVfUOO/BIAaB/w74T8FuK7HrLXzv1zavfAZC/K/e19Chxw81T85hdExRGTaP/4JCq2rO9C/M4KDel5b8r/u26ewyfD0v2ourZfgT++/imLw7o3x07/gHV28VM+cP3tYD82TofK/AMT28okKhT+gFJckRa+YP7zTUfzISMg/Voj1dAG/678CiVaZ4WD1v4HlPAq5z+q/UzPC7rwi+78+l5KbnMrQv/zgVDR4s9C/TK+vKH3awb8Y5DHTIbHVvwjbekLqn92/1rGvUA3f878Ap1smuBmRP5o3qu4Cbuy/1zRes6qN8L8=\",\"dtype\":\"float64\",\"order\":\"little\",\"shape\":[100]}},\"selected\":{\"id\":\"1638\"},\"selection_policy\":{\"id\":\"1637\"}},\"id\":\"1623\",\"type\":\"ColumnDataSource\"},{\"attributes\":{\"fill_alpha\":{\"value\":0.5},\"fill_color\":{\"value\":\"midnightblue\"},\"line_color\":{\"value\":\"white\"}},\"id\":\"1645\",\"type\":\"Circle\"},{\"attributes\":{},\"id\":\"1535\",\"type\":\"DataRange1d\"},{\"attributes\":{},\"id\":\"1633\",\"type\":\"AllLabels\"},{\"attributes\":{\"fill_alpha\":{\"value\":0.5},\"fill_color\":{\"value\":\"midnightblue\"},\"line_color\":{\"value\":\"white\"}},\"id\":\"1587\",\"type\":\"Circle\"},{\"attributes\":{},\"id\":\"1599\",\"type\":\"LinearScale\"},{\"attributes\":{\"axis\":{\"id\":\"1543\"},\"coordinates\":null,\"grid_line_alpha\":0.15,\"grid_line_color\":\"#E0E0E0\",\"group\":null,\"ticker\":null},\"id\":\"1546\",\"type\":\"Grid\"}],\"root_ids\":[\"1709\",\"1877\"]},\"title\":\"Bokeh Application\",\"version\":\"2.4.3\"}};\n",
       "    var render_items = [{\"docid\":\"c2725b51-077f-487b-893a-35ff8afe591a\",\"root_ids\":[\"1709\"],\"roots\":{\"1709\":\"5dbc1e96-8769-4006-a94e-8fdd18b9420d\"}}];\n",
       "    root.Bokeh.embed.embed_items_notebook(docs_json, render_items);\n",
       "    for (const render_item of render_items) {\n",
       "      for (const root_id of render_item.root_ids) {\n",
       "\tconst id_el = document.getElementById(root_id)\n",
       "\tif (id_el.children.length && (id_el.children[0].className === 'bk-root')) {\n",
       "\t  const root_el = id_el.children[0]\n",
       "\t  root_el.id = root_el.id + '-rendered'\n",
       "\t}\n",
       "      }\n",
       "    }\n",
       "  }\n",
       "  if (root.Bokeh !== undefined && root.Bokeh.Panel !== undefined) {\n",
       "    embed_document(root);\n",
       "  } else {\n",
       "    var attempts = 0;\n",
       "    var timer = setInterval(function(root) {\n",
       "      if (root.Bokeh !== undefined && root.Bokeh.Panel !== undefined) {\n",
       "        clearInterval(timer);\n",
       "        embed_document(root);\n",
       "      } else if (document.readyState == \"complete\") {\n",
       "        attempts++;\n",
       "        if (attempts > 200) {\n",
       "          clearInterval(timer);\n",
       "          console.log(\"Bokeh: ERROR: Unable to run BokehJS code because BokehJS library is missing\");\n",
       "        }\n",
       "      }\n",
       "    }, 25, root)\n",
       "  }\n",
       "})(window);</script>"
      ],
      "text/plain": [
       "Row\n",
       "    [0] HSpacer()\n",
       "    [1] Bokeh(Column)\n",
       "    [2] HSpacer()"
      ]
     },
     "execution_count": 20,
     "metadata": {
      "application/vnd.holoviews_exec.v0+json": {
       "id": "1709"
      }
     },
     "output_type": "execute_result"
    }
   ],
   "source": [
    "from bokeh.models import Div\n",
    "from bokeh.layouts import column, row\n",
    "plot = center_plot(column(Div(text = \"Observing different problems\", style={'font-size': '250%'}), row(*plots)))\n",
    "plot"
   ]
  },
  {
   "cell_type": "markdown",
   "metadata": {},
   "source": [
    "In real-life settings, this function can also have different levels of noise, as exemplified in the following code."
   ]
  },
  {
   "cell_type": "code",
   "execution_count": 21,
   "metadata": {
    "tags": []
   },
   "outputs": [],
   "source": [
    "params = [3, 0, 1]\n",
    "noise_levels = [0.1, 1.0, 8.0]\n",
    "# Generating the x axis\n",
    "x = np.linspace(0, 1, 100)\n",
    "plots = []\n",
    "for p in range(len(noise_levels)):\n",
    "    poly = np.poly1d(params)\n",
    "    epsilon = np.random.uniform(-noise_levels[p],noise_levels[p],x.shape)\n",
    "    y = poly(x) + epsilon\n",
    "    plots.append(scatter(x, y, title=\"Problem \"+(str(p+1))))"
   ]
  },
  {
   "cell_type": "code",
   "execution_count": 22,
   "metadata": {
    "tags": []
   },
   "outputs": [
    {
     "data": {},
     "metadata": {},
     "output_type": "display_data"
    },
    {
     "data": {
      "application/vnd.holoviews_exec.v0+json": "",
      "text/html": [
       "<div id='2220'>\n",
       "  <div class=\"bk-root\" id=\"84ad62b0-5926-44c6-b1d4-90043f1a7f89\" data-root-id=\"2220\"></div>\n",
       "</div>\n",
       "<script type=\"application/javascript\">(function(root) {\n",
       "  function embed_document(root) {\n",
       "    var docs_json = {\"1196177d-b34c-4e58-ab20-ec20c03dfa48\":{\"defs\":[{\"extends\":null,\"module\":null,\"name\":\"ReactiveHTML1\",\"overrides\":[],\"properties\":[]},{\"extends\":null,\"module\":null,\"name\":\"FlexBox1\",\"overrides\":[],\"properties\":[{\"default\":\"flex-start\",\"kind\":null,\"name\":\"align_content\"},{\"default\":\"flex-start\",\"kind\":null,\"name\":\"align_items\"},{\"default\":\"row\",\"kind\":null,\"name\":\"flex_direction\"},{\"default\":\"wrap\",\"kind\":null,\"name\":\"flex_wrap\"},{\"default\":\"flex-start\",\"kind\":null,\"name\":\"justify_content\"}]},{\"extends\":null,\"module\":null,\"name\":\"GridStack1\",\"overrides\":[],\"properties\":[{\"default\":\"warn\",\"kind\":null,\"name\":\"mode\"},{\"default\":null,\"kind\":null,\"name\":\"ncols\"},{\"default\":null,\"kind\":null,\"name\":\"nrows\"},{\"default\":true,\"kind\":null,\"name\":\"allow_resize\"},{\"default\":true,\"kind\":null,\"name\":\"allow_drag\"},{\"default\":[],\"kind\":null,\"name\":\"state\"}]},{\"extends\":null,\"module\":null,\"name\":\"click1\",\"overrides\":[],\"properties\":[{\"default\":\"\",\"kind\":null,\"name\":\"terminal_output\"},{\"default\":\"\",\"kind\":null,\"name\":\"debug_name\"},{\"default\":0,\"kind\":null,\"name\":\"clears\"}]},{\"extends\":null,\"module\":null,\"name\":\"NotificationAreaBase1\",\"overrides\":[],\"properties\":[{\"default\":\"bottom-right\",\"kind\":null,\"name\":\"position\"},{\"default\":0,\"kind\":null,\"name\":\"_clear\"}]},{\"extends\":null,\"module\":null,\"name\":\"NotificationArea1\",\"overrides\":[],\"properties\":[{\"default\":[],\"kind\":null,\"name\":\"notifications\"},{\"default\":\"bottom-right\",\"kind\":null,\"name\":\"position\"},{\"default\":0,\"kind\":null,\"name\":\"_clear\"},{\"default\":[{\"background\":\"#ffc107\",\"icon\":{\"className\":\"fas fa-exclamation-triangle\",\"color\":\"white\",\"tagName\":\"i\"},\"type\":\"warning\"},{\"background\":\"#007bff\",\"icon\":{\"className\":\"fas fa-info-circle\",\"color\":\"white\",\"tagName\":\"i\"},\"type\":\"info\"}],\"kind\":null,\"name\":\"types\"}]},{\"extends\":null,\"module\":null,\"name\":\"Notification\",\"overrides\":[],\"properties\":[{\"default\":null,\"kind\":null,\"name\":\"background\"},{\"default\":3000,\"kind\":null,\"name\":\"duration\"},{\"default\":null,\"kind\":null,\"name\":\"icon\"},{\"default\":\"\",\"kind\":null,\"name\":\"message\"},{\"default\":null,\"kind\":null,\"name\":\"notification_type\"},{\"default\":false,\"kind\":null,\"name\":\"_destroyed\"}]},{\"extends\":null,\"module\":null,\"name\":\"TemplateActions1\",\"overrides\":[],\"properties\":[{\"default\":0,\"kind\":null,\"name\":\"open_modal\"},{\"default\":0,\"kind\":null,\"name\":\"close_modal\"}]},{\"extends\":null,\"module\":null,\"name\":\"MaterialTemplateActions1\",\"overrides\":[],\"properties\":[{\"default\":0,\"kind\":null,\"name\":\"open_modal\"},{\"default\":0,\"kind\":null,\"name\":\"close_modal\"}]}],\"roots\":{\"references\":[{\"attributes\":{\"data\":{\"x\":{\"__ndarray__\":\"AAAAAAAAAABbv1Kg1q+EP1u/UqDWr5Q/CB988MEHnz9bv1Kg1q+kPzJvZ0jM26k/CB988MEHrz9wZ0jM2xmyP1u/UqDWr7Q/RhdddNFFtz8yb2dIzNu5Px3HcRzHcbw/CB988MEHvz96O0Ni3s7AP3BnSMzbGcI/ZZNNNtlkwz9bv1Kg1q/EP1HrVwrU+sU/RhdddNFFxz88Q2LezpDIPzJvZ0jM28k/J5tssskmyz8dx3Ecx3HMPxPzdobEvM0/CB988MEHzz9/pUCtXynQP3o7Q2LeztA/ddFFF1100T9wZ0jM2xnSP2r9SoFav9I/ZZNNNtlk0z9gKVDrVwrUP1u/UqDWr9Q/VlVVVVVV1T9R61cK1PrVP0yBWr9SoNY/RhdddNFF1z9BrV8pUOvXPzxDYt7OkNg/N9lkk0022T8yb2dIzNvZPy0Fav1Kgdo/J5tssskm2z8iMW9nSMzbPx3HcRzHcdw/GF100UUX3T8T83aGxLzdPw6JeTtDYt4/CB988MEH3z8DtX6lQK3fP3+lQK1fKeA/ffDBBx984D96O0Ni3s7gP3eGxLydIeE/ddFFF1104T9yHMdxHMfhP3BnSMzbGeI/bbLJJpts4j9q/UqBWr/iP2hIzNsZEuM/ZZNNNtlk4z9j3s6QmLfjP2ApUOtXCuQ/XnTRRRdd5D9bv1Kg1q/kP1gK1PqVAuU/VlVVVVVV5T9ToNavFKjlP1HrVwrU+uU/TjbZZJNN5j9MgVq/UqDmP0nM2xkS8+Y/RhdddNFF5z9EYt7OkJjnP0GtXylQ6+c/P/jggw8+6D88Q2LezpDoPzmO4ziO4+g/N9lkk0026T80JObtDInpPzJvZ0jM2+k/L7rooosu6j8tBWr9SoHqPypQ61cK1Oo/J5tssskm6z8l5u0MiXnrPyIxb2dIzOs/IHzwwQcf7D8dx3Ecx3HsPxsS83aGxOw/GF100UUX7T8VqPUrBWrtPxPzdobEvO0/ED744IMP7j8OiXk7Q2LuPwvU+pUCte4/CB988MEH7z8Gav1KgVrvPwO1fqVAre8/AAAAAAAA8D8=\",\"dtype\":\"float64\",\"order\":\"little\",\"shape\":[100]},\"y\":{\"__ndarray__\":\"zWNwmyAK8D9OycTvpcfwPzkDrsHNPvA/52ctN/AZ8T+QM8FMtB/xP43pZrv02u8/wctrC9FM7z8AQR/tPQLuP4n7vqeaM/A/wOyql03Y8D+I2pKWls7xPyCRSkOose8/9mC1mmT18D8HcXHxdmPyP8gECFKDWvE/cEd62mdn8D+BVZcU5mnvP8kfCJn78PE/7HtXV4AB8T9h6/ckeOnxPxICva5b+/A/tLNEfNWg8j8lKAbGOlbyP2Ycncl9AvI/Zm2qFDdS8j/z6lxwYE/0P6eHGUaIhfM/35UUua4C8z+qPl0d/4T0P6+/rYWRkfM/HlfUpaua9D9Rg9Ca2ez0P0Crd+Pf5PU/gIcRUEJV9T8A5tfy1VX1PzIFB9SCSvU/DB6Au5KM9T+6JQAfjzf2PwJQDtNUyfc/2jZ9pZEN9j8+/4fy2NL2P93nCDg/Gfg/4v0bjtI8+j8laW9bfqH5P1JXVU326vg/oNzBEvEf+T+DjuCf0zT7P/YOgJ1IqPo/eZnPu3Aa+j+hv1Ecpov6Px4ylQoxG/s/R91ZnVsO/T80XRYcrkz+P4CS3eeudP0/y7L2wB+x/z/mTVE2t939P2P4ci3lpv4/BokENwZ5/j+7sntIhJz/P2bnajbwCgBAPCNYEH6tAEDTVCF/ZbQAQABphVrfywBAAd7+7oWGAUBJG0QXcpMBQD1kVaLU6QJAvrAs+V6GAkD7pWJNMu8CQO2/MZb0sANAAyJp8TwgA0D7DxpC+/QDQDYfQAURlgRA19ofzHXQBEDebCmiz5MEQIUjCMpbpQRAxU0V9R2CBkDpBjoLX3oFQAhfd+fJjgZAuT6y5sQ5BkDmea7RG9cHQIhWAS6PvQdAtfTZaxfWCEBsGuNhcngIQC3IsQwt2AhA12eMpS3FCUBuBvQfJXAKQLMhTPfOMApAjp+m4qzsCkB+TohQAzwLQK//ZVP0jQtAGs8/eIbXC0ClsbuV8qQMQI0uhkL1SA1A7+LO/tBMDUAAwjrNfbkNQCbVcf3ySQ5AeOxATHNbDkAbenHaAqMOQCXfiiIAuA9AW0j4BXtpD0A=\",\"dtype\":\"float64\",\"order\":\"little\",\"shape\":[100]}},\"selected\":{\"id\":\"2091\"},\"selection_policy\":{\"id\":\"2090\"}},\"id\":\"2076\",\"type\":\"ColumnDataSource\"},{\"attributes\":{\"children\":[{\"id\":\"2221\"},{\"id\":\"2219\"},{\"id\":\"2288\"}],\"margin\":[0,0,0,0],\"name\":\"Row00135\"},\"id\":\"2220\",\"type\":\"Row\"},{\"attributes\":{},\"id\":\"2046\",\"type\":\"DataRange1d\"},{\"attributes\":{\"coordinates\":null,\"data_source\":{\"id\":\"2076\"},\"glyph\":{\"id\":\"2077\"},\"group\":null,\"hover_glyph\":{\"id\":\"2079\"},\"muted_glyph\":{\"id\":\"2080\"},\"nonselection_glyph\":{\"id\":\"2098\"},\"selection_glyph\":{\"id\":\"2097\"},\"view\":{\"id\":\"2082\"}},\"id\":\"2081\",\"type\":\"GlyphRenderer\"},{\"attributes\":{\"background_fill_alpha\":0.25,\"background_fill_color\":\"#505050\",\"border_line_alpha\":0.25,\"coordinates\":null,\"group\":null,\"items\":[{\"id\":\"2152\"}],\"label_standoff\":8,\"label_text_color\":\"#E0E0E0\",\"label_text_font\":\"Josefin Sans\",\"label_text_font_size\":\"1.15em\",\"spacing\":8},\"id\":\"2151\",\"type\":\"Legend\"},{\"attributes\":{},\"id\":\"2048\",\"type\":\"DataRange1d\"},{\"attributes\":{},\"id\":\"2050\",\"type\":\"LinearScale\"},{\"attributes\":{},\"id\":\"2067\",\"type\":\"HelpTool\"},{\"attributes\":{},\"id\":\"2055\",\"type\":\"BasicTicker\"},{\"attributes\":{},\"id\":\"2201\",\"type\":\"BasicTickFormatter\"},{\"attributes\":{\"overlay\":{\"id\":\"2068\"}},\"id\":\"2064\",\"type\":\"BoxZoomTool\"},{\"attributes\":{},\"id\":\"2086\",\"type\":\"AllLabels\"},{\"attributes\":{},\"id\":\"2062\",\"type\":\"PanTool\"},{\"attributes\":{\"fill_alpha\":{\"value\":0.25},\"fill_color\":{\"value\":\"midnightblue\"},\"hatch_alpha\":{\"value\":0.25},\"line_alpha\":{\"value\":0.25},\"line_color\":{\"value\":\"white\"},\"size\":{\"value\":10},\"x\":{\"field\":\"x\"},\"y\":{\"field\":\"y\"}},\"id\":\"2135\",\"type\":\"Circle\"},{\"attributes\":{},\"id\":\"2063\",\"type\":\"WheelZoomTool\"},{\"attributes\":{\"fill_alpha\":{\"value\":0.5},\"fill_color\":{\"value\":\"red\"},\"hatch_alpha\":{\"value\":0.5},\"line_alpha\":{\"value\":0.5},\"line_color\":{\"value\":\"white\"},\"size\":{\"value\":10},\"x\":{\"field\":\"x\"},\"y\":{\"field\":\"y\"}},\"id\":\"2079\",\"type\":\"Circle\"},{\"attributes\":{},\"id\":\"2204\",\"type\":\"BasicTickFormatter\"},{\"attributes\":{},\"id\":\"2059\",\"type\":\"BasicTicker\"},{\"attributes\":{\"axis\":{\"id\":\"2058\"},\"coordinates\":null,\"dimension\":1,\"grid_line_alpha\":0.15,\"grid_line_color\":\"#E0E0E0\",\"group\":null,\"ticker\":null},\"id\":\"2061\",\"type\":\"Grid\"},{\"attributes\":{\"fill_alpha\":{\"value\":0.8},\"fill_color\":{\"value\":\"red\"},\"line_color\":{\"value\":\"white\"}},\"id\":\"2155\",\"type\":\"Circle\"},{\"attributes\":{\"fill_alpha\":{\"value\":0.8},\"fill_color\":{\"value\":\"red\"},\"line_color\":{\"value\":\"white\"}},\"id\":\"2213\",\"type\":\"Circle\"},{\"attributes\":{},\"id\":\"2205\",\"type\":\"AllLabels\"},{\"attributes\":{},\"id\":\"2065\",\"type\":\"SaveTool\"},{\"attributes\":{\"axis\":{\"id\":\"2054\"},\"coordinates\":null,\"grid_line_alpha\":0.15,\"grid_line_color\":\"#E0E0E0\",\"group\":null,\"ticker\":null},\"id\":\"2057\",\"type\":\"Grid\"},{\"attributes\":{\"label\":{\"value\":\"Observations\"},\"renderers\":[{\"id\":\"2139\"}]},\"id\":\"2152\",\"type\":\"LegendItem\"},{\"attributes\":{\"label\":{\"value\":\"Observations\"},\"renderers\":[{\"id\":\"2197\"}]},\"id\":\"2210\",\"type\":\"LegendItem\"},{\"attributes\":{},\"id\":\"2052\",\"type\":\"LinearScale\"},{\"attributes\":{\"coordinates\":null,\"data_source\":{\"id\":\"2192\"},\"glyph\":{\"id\":\"2193\"},\"group\":null,\"hover_glyph\":{\"id\":\"2195\"},\"muted_glyph\":{\"id\":\"2196\"},\"nonselection_glyph\":{\"id\":\"2214\"},\"selection_glyph\":{\"id\":\"2213\"},\"view\":{\"id\":\"2198\"}},\"id\":\"2197\",\"type\":\"GlyphRenderer\"},{\"attributes\":{},\"id\":\"2066\",\"type\":\"ResetTool\"},{\"attributes\":{\"margin\":[5,5,5,5],\"name\":\"HSpacer00131\",\"sizing_mode\":\"stretch_width\"},\"id\":\"2221\",\"type\":\"Spacer\"},{\"attributes\":{\"mode\":\"append\",\"overlay\":{\"id\":\"2250\"},\"renderers\":[{\"id\":\"2139\"}]},\"id\":\"2157\",\"type\":\"BoxSelectTool\"},{\"attributes\":{\"mode\":\"append\",\"overlay\":{\"id\":\"2254\"},\"renderers\":[{\"id\":\"2197\"}]},\"id\":\"2215\",\"type\":\"BoxSelectTool\"},{\"attributes\":{},\"id\":\"2202\",\"type\":\"AllLabels\"},{\"attributes\":{\"coordinates\":null,\"group\":null,\"text\":\"Problem 1\",\"text_color\":\"#E0E0E0\",\"text_font\":\"Josefin Sans\",\"text_font_size\":\"2.1em\"},\"id\":\"2044\",\"type\":\"Title\"},{\"attributes\":{},\"id\":\"2104\",\"type\":\"DataRange1d\"},{\"attributes\":{\"callback\":null,\"mode\":\"vline\",\"renderers\":[{\"id\":\"2139\"}],\"tooltips\":null},\"id\":\"2153\",\"type\":\"HoverTool\"},{\"attributes\":{\"axis_label\":\"x\",\"axis_label_standoff\":10,\"axis_label_text_color\":\"#FFFFFF\",\"axis_label_text_font\":\"Josefin Sans\",\"axis_label_text_font_size\":\"1.9em\",\"axis_label_text_font_style\":\"bold\",\"axis_line_alpha\":0.4,\"axis_line_color\":\"#E0E0E0\",\"coordinates\":null,\"formatter\":{\"id\":\"2088\"},\"group\":null,\"major_label_policy\":{\"id\":\"2089\"},\"major_label_text_color\":\"#E0E0E0\",\"major_label_text_font\":\"Josefin Sans\",\"major_label_text_font_size\":\"1.15em\",\"major_tick_line_alpha\":0.4,\"major_tick_line_color\":\"#E0E0E0\",\"minor_tick_line_alpha\":0.4,\"minor_tick_line_color\":\"#E0E0E0\",\"ticker\":{\"id\":\"2055\"}},\"id\":\"2054\",\"type\":\"LinearAxis\"},{\"attributes\":{\"background_fill_alpha\":0.9,\"background_fill_color\":\"#0f0f0f\",\"below\":[{\"id\":\"2112\"}],\"border_fill_alpha\":0.8,\"border_fill_color\":\"#111111\",\"center\":[{\"id\":\"2115\"},{\"id\":\"2119\"},{\"id\":\"2151\"}],\"height\":450,\"left\":[{\"id\":\"2116\"}],\"outline_line_alpha\":0.25,\"outline_line_color\":\"#E0E0E0\",\"outline_line_width\":3,\"renderers\":[{\"id\":\"2139\"}],\"title\":{\"id\":\"2102\"},\"toolbar\":{\"id\":\"2127\"},\"toolbar_location\":null,\"x_range\":{\"id\":\"2104\"},\"x_scale\":{\"id\":\"2108\"},\"y_range\":{\"id\":\"2106\"},\"y_scale\":{\"id\":\"2110\"}},\"id\":\"2101\",\"subtype\":\"Figure\",\"type\":\"Plot\"},{\"attributes\":{\"callback\":null,\"mode\":\"vline\",\"renderers\":[{\"id\":\"2197\"}],\"tooltips\":null},\"id\":\"2211\",\"type\":\"HoverTool\"},{\"attributes\":{\"axis_label\":\"y\",\"axis_label_standoff\":10,\"axis_label_text_color\":\"#FFFFFF\",\"axis_label_text_font\":\"Josefin Sans\",\"axis_label_text_font_size\":\"1.9em\",\"axis_label_text_font_style\":\"bold\",\"axis_line_alpha\":0.4,\"axis_line_color\":\"#E0E0E0\",\"coordinates\":null,\"formatter\":{\"id\":\"2085\"},\"group\":null,\"major_label_policy\":{\"id\":\"2086\"},\"major_label_text_color\":\"#E0E0E0\",\"major_label_text_font\":\"Josefin Sans\",\"major_label_text_font_size\":\"1.15em\",\"major_tick_line_alpha\":0.4,\"major_tick_line_color\":\"#E0E0E0\",\"minor_tick_line_alpha\":0.4,\"minor_tick_line_color\":\"#E0E0E0\",\"ticker\":{\"id\":\"2059\"}},\"id\":\"2058\",\"type\":\"LinearAxis\"},{\"attributes\":{\"background_fill_alpha\":0.9,\"background_fill_color\":\"#0f0f0f\",\"below\":[{\"id\":\"2170\"}],\"border_fill_alpha\":0.8,\"border_fill_color\":\"#111111\",\"center\":[{\"id\":\"2173\"},{\"id\":\"2177\"},{\"id\":\"2209\"}],\"height\":450,\"left\":[{\"id\":\"2174\"}],\"outline_line_alpha\":0.25,\"outline_line_color\":\"#E0E0E0\",\"outline_line_width\":3,\"renderers\":[{\"id\":\"2197\"}],\"title\":{\"id\":\"2160\"},\"toolbar\":{\"id\":\"2185\"},\"toolbar_location\":null,\"x_range\":{\"id\":\"2162\"},\"x_scale\":{\"id\":\"2166\"},\"y_range\":{\"id\":\"2164\"},\"y_scale\":{\"id\":\"2168\"}},\"id\":\"2159\",\"subtype\":\"Figure\",\"type\":\"Plot\"},{\"attributes\":{},\"id\":\"2090\",\"type\":\"UnionRenderers\"},{\"attributes\":{},\"id\":\"2108\",\"type\":\"LinearScale\"},{\"attributes\":{\"callback\":null,\"mode\":\"vline\",\"renderers\":[{\"id\":\"2081\"}],\"tooltips\":null},\"id\":\"2095\",\"type\":\"HoverTool\"},{\"attributes\":{\"fill_alpha\":{\"value\":0.5},\"fill_color\":{\"value\":\"midnightblue\"},\"line_color\":{\"value\":\"white\"}},\"id\":\"2156\",\"type\":\"Circle\"},{\"attributes\":{\"fill_alpha\":{\"value\":0.2},\"fill_color\":{\"value\":\"midnightblue\"},\"hatch_alpha\":{\"value\":0.2},\"line_alpha\":{\"value\":0.2},\"line_color\":{\"value\":\"white\"},\"size\":{\"value\":10},\"x\":{\"field\":\"x\"},\"y\":{\"field\":\"y\"}},\"id\":\"2138\",\"type\":\"Circle\"},{\"attributes\":{\"fill_alpha\":{\"value\":0.5},\"fill_color\":{\"value\":\"midnightblue\"},\"line_color\":{\"value\":\"white\"}},\"id\":\"2214\",\"type\":\"Circle\"},{\"attributes\":{},\"id\":\"2106\",\"type\":\"DataRange1d\"},{\"attributes\":{},\"id\":\"2162\",\"type\":\"DataRange1d\"},{\"attributes\":{\"label\":{\"value\":\"Observations\"},\"renderers\":[{\"id\":\"2081\"}]},\"id\":\"2094\",\"type\":\"LegendItem\"},{\"attributes\":{\"fill_alpha\":{\"value\":0.2},\"fill_color\":{\"value\":\"midnightblue\"},\"hatch_alpha\":{\"value\":0.2},\"line_alpha\":{\"value\":0.2},\"line_color\":{\"value\":\"white\"},\"size\":{\"value\":10},\"x\":{\"field\":\"x\"},\"y\":{\"field\":\"y\"}},\"id\":\"2196\",\"type\":\"Circle\"},{\"attributes\":{},\"id\":\"2085\",\"type\":\"BasicTickFormatter\"},{\"attributes\":{},\"id\":\"2164\",\"type\":\"DataRange1d\"},{\"attributes\":{},\"id\":\"2125\",\"type\":\"HelpTool\"},{\"attributes\":{},\"id\":\"2166\",\"type\":\"LinearScale\"},{\"attributes\":{},\"id\":\"2143\",\"type\":\"BasicTickFormatter\"},{\"attributes\":{},\"id\":\"2183\",\"type\":\"HelpTool\"},{\"attributes\":{\"background_fill_alpha\":0.25,\"background_fill_color\":\"#505050\",\"border_line_alpha\":0.25,\"coordinates\":null,\"group\":null,\"items\":[{\"id\":\"2094\"}],\"label_standoff\":8,\"label_text_color\":\"#E0E0E0\",\"label_text_font\":\"Josefin Sans\",\"label_text_font_size\":\"1.15em\",\"spacing\":8},\"id\":\"2093\",\"type\":\"Legend\"},{\"attributes\":{},\"id\":\"2113\",\"type\":\"BasicTicker\"},{\"attributes\":{},\"id\":\"2144\",\"type\":\"AllLabels\"},{\"attributes\":{\"coordinates\":null,\"group\":null,\"text\":\"Problem 2\",\"text_color\":\"#E0E0E0\",\"text_font\":\"Josefin Sans\",\"text_font_size\":\"2.1em\"},\"id\":\"2102\",\"type\":\"Title\"},{\"attributes\":{},\"id\":\"2171\",\"type\":\"BasicTicker\"},{\"attributes\":{\"axis_label\":\"x\",\"axis_label_standoff\":10,\"axis_label_text_color\":\"#FFFFFF\",\"axis_label_text_font\":\"Josefin Sans\",\"axis_label_text_font_size\":\"1.9em\",\"axis_label_text_font_style\":\"bold\",\"axis_line_alpha\":0.4,\"axis_line_color\":\"#E0E0E0\",\"coordinates\":null,\"formatter\":{\"id\":\"2146\"},\"group\":null,\"major_label_policy\":{\"id\":\"2147\"},\"major_label_text_color\":\"#E0E0E0\",\"major_label_text_font\":\"Josefin Sans\",\"major_label_text_font_size\":\"1.15em\",\"major_tick_line_alpha\":0.4,\"major_tick_line_color\":\"#E0E0E0\",\"minor_tick_line_alpha\":0.4,\"minor_tick_line_color\":\"#E0E0E0\",\"ticker\":{\"id\":\"2113\"}},\"id\":\"2112\",\"type\":\"LinearAxis\"},{\"attributes\":{\"coordinates\":null,\"group\":null,\"text\":\"Problem 3\",\"text_color\":\"#E0E0E0\",\"text_font\":\"Josefin Sans\",\"text_font_size\":\"2.1em\"},\"id\":\"2160\",\"type\":\"Title\"},{\"attributes\":{\"axis_label\":\"y\",\"axis_label_standoff\":10,\"axis_label_text_color\":\"#FFFFFF\",\"axis_label_text_font\":\"Josefin Sans\",\"axis_label_text_font_size\":\"1.9em\",\"axis_label_text_font_style\":\"bold\",\"axis_line_alpha\":0.4,\"axis_line_color\":\"#E0E0E0\",\"coordinates\":null,\"formatter\":{\"id\":\"2143\"},\"group\":null,\"major_label_policy\":{\"id\":\"2144\"},\"major_label_text_color\":\"#E0E0E0\",\"major_label_text_font\":\"Josefin Sans\",\"major_label_text_font_size\":\"1.15em\",\"major_tick_line_alpha\":0.4,\"major_tick_line_color\":\"#E0E0E0\",\"minor_tick_line_alpha\":0.4,\"minor_tick_line_color\":\"#E0E0E0\",\"ticker\":{\"id\":\"2117\"}},\"id\":\"2116\",\"type\":\"LinearAxis\"},{\"attributes\":{\"mode\":\"append\",\"overlay\":{\"id\":\"2246\"},\"renderers\":[{\"id\":\"2081\"}]},\"id\":\"2099\",\"type\":\"BoxSelectTool\"},{\"attributes\":{\"axis_label\":\"x\",\"axis_label_standoff\":10,\"axis_label_text_color\":\"#FFFFFF\",\"axis_label_text_font\":\"Josefin Sans\",\"axis_label_text_font_size\":\"1.9em\",\"axis_label_text_font_style\":\"bold\",\"axis_line_alpha\":0.4,\"axis_line_color\":\"#E0E0E0\",\"coordinates\":null,\"formatter\":{\"id\":\"2204\"},\"group\":null,\"major_label_policy\":{\"id\":\"2205\"},\"major_label_text_color\":\"#E0E0E0\",\"major_label_text_font\":\"Josefin Sans\",\"major_label_text_font_size\":\"1.15em\",\"major_tick_line_alpha\":0.4,\"major_tick_line_color\":\"#E0E0E0\",\"minor_tick_line_alpha\":0.4,\"minor_tick_line_color\":\"#E0E0E0\",\"ticker\":{\"id\":\"2171\"}},\"id\":\"2170\",\"type\":\"LinearAxis\"},{\"attributes\":{\"fill_alpha\":{\"value\":0.8},\"fill_color\":{\"value\":\"red\"},\"line_color\":{\"value\":\"white\"}},\"id\":\"2097\",\"type\":\"Circle\"},{\"attributes\":{},\"id\":\"2146\",\"type\":\"BasicTickFormatter\"},{\"attributes\":{},\"id\":\"2110\",\"type\":\"LinearScale\"},{\"attributes\":{\"source\":{\"id\":\"2076\"}},\"id\":\"2082\",\"type\":\"CDSView\"},{\"attributes\":{},\"id\":\"2207\",\"type\":\"Selection\"},{\"attributes\":{\"axis_label\":\"y\",\"axis_label_standoff\":10,\"axis_label_text_color\":\"#FFFFFF\",\"axis_label_text_font\":\"Josefin Sans\",\"axis_label_text_font_size\":\"1.9em\",\"axis_label_text_font_style\":\"bold\",\"axis_line_alpha\":0.4,\"axis_line_color\":\"#E0E0E0\",\"coordinates\":null,\"formatter\":{\"id\":\"2201\"},\"group\":null,\"major_label_policy\":{\"id\":\"2202\"},\"major_label_text_color\":\"#E0E0E0\",\"major_label_text_font\":\"Josefin Sans\",\"major_label_text_font_size\":\"1.15em\",\"major_tick_line_alpha\":0.4,\"major_tick_line_color\":\"#E0E0E0\",\"minor_tick_line_alpha\":0.4,\"minor_tick_line_color\":\"#E0E0E0\",\"ticker\":{\"id\":\"2175\"}},\"id\":\"2174\",\"type\":\"LinearAxis\"},{\"attributes\":{\"axis\":{\"id\":\"2112\"},\"coordinates\":null,\"grid_line_alpha\":0.15,\"grid_line_color\":\"#E0E0E0\",\"group\":null,\"ticker\":null},\"id\":\"2115\",\"type\":\"Grid\"},{\"attributes\":{},\"id\":\"2168\",\"type\":\"LinearScale\"},{\"attributes\":{\"axis\":{\"id\":\"2170\"},\"coordinates\":null,\"grid_line_alpha\":0.15,\"grid_line_color\":\"#E0E0E0\",\"group\":null,\"ticker\":null},\"id\":\"2173\",\"type\":\"Grid\"},{\"attributes\":{},\"id\":\"2147\",\"type\":\"AllLabels\"},{\"attributes\":{\"axis\":{\"id\":\"2116\"},\"coordinates\":null,\"dimension\":1,\"grid_line_alpha\":0.15,\"grid_line_color\":\"#E0E0E0\",\"group\":null,\"ticker\":null},\"id\":\"2119\",\"type\":\"Grid\"},{\"attributes\":{\"bottom_units\":\"screen\",\"coordinates\":null,\"fill_alpha\":0.5,\"fill_color\":\"lightgrey\",\"group\":null,\"left_units\":\"screen\",\"level\":\"overlay\",\"line_alpha\":1.0,\"line_color\":\"black\",\"line_dash\":[4,4],\"line_width\":2,\"right_units\":\"screen\",\"syncable\":false,\"top_units\":\"screen\"},\"id\":\"2246\",\"type\":\"BoxAnnotation\"},{\"attributes\":{},\"id\":\"2091\",\"type\":\"Selection\"},{\"attributes\":{},\"id\":\"2117\",\"type\":\"BasicTicker\"},{\"attributes\":{\"axis\":{\"id\":\"2174\"},\"coordinates\":null,\"dimension\":1,\"grid_line_alpha\":0.15,\"grid_line_color\":\"#E0E0E0\",\"group\":null,\"ticker\":null},\"id\":\"2177\",\"type\":\"Grid\"},{\"attributes\":{\"data\":{\"x\":{\"__ndarray__\":\"AAAAAAAAAABbv1Kg1q+EP1u/UqDWr5Q/CB988MEHnz9bv1Kg1q+kPzJvZ0jM26k/CB988MEHrz9wZ0jM2xmyP1u/UqDWr7Q/RhdddNFFtz8yb2dIzNu5Px3HcRzHcbw/CB988MEHvz96O0Ni3s7AP3BnSMzbGcI/ZZNNNtlkwz9bv1Kg1q/EP1HrVwrU+sU/RhdddNFFxz88Q2LezpDIPzJvZ0jM28k/J5tssskmyz8dx3Ecx3HMPxPzdobEvM0/CB988MEHzz9/pUCtXynQP3o7Q2LeztA/ddFFF1100T9wZ0jM2xnSP2r9SoFav9I/ZZNNNtlk0z9gKVDrVwrUP1u/UqDWr9Q/VlVVVVVV1T9R61cK1PrVP0yBWr9SoNY/RhdddNFF1z9BrV8pUOvXPzxDYt7OkNg/N9lkk0022T8yb2dIzNvZPy0Fav1Kgdo/J5tssskm2z8iMW9nSMzbPx3HcRzHcdw/GF100UUX3T8T83aGxLzdPw6JeTtDYt4/CB988MEH3z8DtX6lQK3fP3+lQK1fKeA/ffDBBx984D96O0Ni3s7gP3eGxLydIeE/ddFFF1104T9yHMdxHMfhP3BnSMzbGeI/bbLJJpts4j9q/UqBWr/iP2hIzNsZEuM/ZZNNNtlk4z9j3s6QmLfjP2ApUOtXCuQ/XnTRRRdd5D9bv1Kg1q/kP1gK1PqVAuU/VlVVVVVV5T9ToNavFKjlP1HrVwrU+uU/TjbZZJNN5j9MgVq/UqDmP0nM2xkS8+Y/RhdddNFF5z9EYt7OkJjnP0GtXylQ6+c/P/jggw8+6D88Q2LezpDoPzmO4ziO4+g/N9lkk0026T80JObtDInpPzJvZ0jM2+k/L7rooosu6j8tBWr9SoHqPypQ61cK1Oo/J5tssskm6z8l5u0MiXnrPyIxb2dIzOs/IHzwwQcf7D8dx3Ecx3HsPxsS83aGxOw/GF100UUX7T8VqPUrBWrtPxPzdobEvO0/ED744IMP7j8OiXk7Q2LuPwvU+pUCte4/CB988MEH7z8Gav1KgVrvPwO1fqVAre8/AAAAAAAA8D8=\",\"dtype\":\"float64\",\"order\":\"little\",\"shape\":[100]},\"y\":{\"__ndarray__\":\"QpfRaj4H9j/p+nb3l4jzP+hzty6ufP8/UD7UouYzwD9Wgc/W2u/8P9TzRQDv2/M/UPZKFad72j9VdbgdzsXyP3ATu/FdAO4/2EMGMrfP8T/cHL29Vt3ePy3PcTYggPw/FPZLSAJh0z+gF036ebTbP2bQ4MUm3eA/TIcQnrPa3T8I2hHe7H/6P6A5mf/5ldg/kBIgLutmyj9uKQtw+owAQAXEQGYflPA/gPd1FZEr6T8o/XxX/pPbPyqD8doWzP4/lKcGCfL2+z94ipYI2m/gP/yik38yz+c/aNKi3PzN1z9+UsJL5R/uP5JhbgKYn+s/WsheXPrk+T+rT+EK7B//P51X/gUL5fc/xAibKzuN8T87qDq3Mn32PxPOuPPV3AJAPhNwhvMLAkAMUdOXStICQC8u2G2/OvU/cS2HzrUpAkBBis3UmdT0P5cZTkBoYABAykH36eh9+j9H91WCRAYEQHyJkEdK6Og/iEqs3iNO+D8qgRrihPL1P1oO5XZitAFAU3hZcwJ5AUB52qx+EQX7P3RZDC0uJQVASwZ4SZRaBUDALJbq+EcDQKg6onBlYgNA/FOzWFMbAEDwwcEUn54GQNFNrrXNK/Q/sGzvS5IB/j/G4a5tAOLwPxrNai6YFf4/z4X/E1rsAkAUzsEnZesDQAo7S12XCAhA1mIvnEpL+j9ut+0tfY0IQN4vgUVVggFAaX+9YtAGAUDWxNeqypj9PxhMRCngPgZAO+dh/LJ7BkCDlz/84PwFQDTe3VAfagdAAft2i1R9/j992vTCtecJQDZPu8M3jwdA3CevS4TlC0DqMLBeaVsJQB63CPYi+AFAZhUjAfSCDEBmzNTv4nUNQIIw6SsfKwRAtpsgfv4uAkB05gIKePYPQLBr22cw4wdA8tFFmIJGCEBX5+QpM74GQPHoTxJzoA9AV/Jt7PwZCkBkT3VXcAoRQJDgX2dvMAdAsnhHJtoVBkAMeyI7X/EIQAH/TVP5zAtAQNnm9RxiC0DDGD5tuBkOQElnEOW4rg9A1VFtm+BLCUA56BABnJ4IQMF+2hh9dxFA9VPcYEOfEkA=\",\"dtype\":\"float64\",\"order\":\"little\",\"shape\":[100]}},\"selected\":{\"id\":\"2149\"},\"selection_policy\":{\"id\":\"2148\"}},\"id\":\"2134\",\"type\":\"ColumnDataSource\"},{\"attributes\":{},\"id\":\"2175\",\"type\":\"BasicTicker\"},{\"attributes\":{\"data\":{\"x\":{\"__ndarray__\":\"AAAAAAAAAABbv1Kg1q+EP1u/UqDWr5Q/CB988MEHnz9bv1Kg1q+kPzJvZ0jM26k/CB988MEHrz9wZ0jM2xmyP1u/UqDWr7Q/RhdddNFFtz8yb2dIzNu5Px3HcRzHcbw/CB988MEHvz96O0Ni3s7AP3BnSMzbGcI/ZZNNNtlkwz9bv1Kg1q/EP1HrVwrU+sU/RhdddNFFxz88Q2LezpDIPzJvZ0jM28k/J5tssskmyz8dx3Ecx3HMPxPzdobEvM0/CB988MEHzz9/pUCtXynQP3o7Q2LeztA/ddFFF1100T9wZ0jM2xnSP2r9SoFav9I/ZZNNNtlk0z9gKVDrVwrUP1u/UqDWr9Q/VlVVVVVV1T9R61cK1PrVP0yBWr9SoNY/RhdddNFF1z9BrV8pUOvXPzxDYt7OkNg/N9lkk0022T8yb2dIzNvZPy0Fav1Kgdo/J5tssskm2z8iMW9nSMzbPx3HcRzHcdw/GF100UUX3T8T83aGxLzdPw6JeTtDYt4/CB988MEH3z8DtX6lQK3fP3+lQK1fKeA/ffDBBx984D96O0Ni3s7gP3eGxLydIeE/ddFFF1104T9yHMdxHMfhP3BnSMzbGeI/bbLJJpts4j9q/UqBWr/iP2hIzNsZEuM/ZZNNNtlk4z9j3s6QmLfjP2ApUOtXCuQ/XnTRRRdd5D9bv1Kg1q/kP1gK1PqVAuU/VlVVVVVV5T9ToNavFKjlP1HrVwrU+uU/TjbZZJNN5j9MgVq/UqDmP0nM2xkS8+Y/RhdddNFF5z9EYt7OkJjnP0GtXylQ6+c/P/jggw8+6D88Q2LezpDoPzmO4ziO4+g/N9lkk0026T80JObtDInpPzJvZ0jM2+k/L7rooosu6j8tBWr9SoHqPypQ61cK1Oo/J5tssskm6z8l5u0MiXnrPyIxb2dIzOs/IHzwwQcf7D8dx3Ecx3HsPxsS83aGxOw/GF100UUX7T8VqPUrBWrtPxPzdobEvO0/ED744IMP7j8OiXk7Q2LuPwvU+pUCte4/CB988MEH7z8Gav1KgVrvPwO1fqVAre8/AAAAAAAA8D8=\",\"dtype\":\"float64\",\"order\":\"little\",\"shape\":[100]},\"y\":{\"__ndarray__\":\"iG+Z15ym+78zqa3dYvkawODwbTTXJxHAMEQW/TZ3EUCjztndUq4gQLDJZc4bURlAiHW7Dc743D98f/zx/YQTwD4QWi3BThrAc0ok2zHmFkC6dG+A1G0VQCjk5OuHDM+/jJFXSY5uEsBcyOJtFFkbwCBknRe1mQ7AWgOqON/PEcC89e93JiIJwE6oSbGOaRvAuTVIbkbDEED6oJQR8oDpv3ZREWXMSBPAiN7v0nzOGsDA1vHZnveev54y/JAkrx1AzCblP9SZBUAUkKwMuOMZwCyGIK8Mch5AwnU7CuOrEMBBoK6pVmceQOjU99gBVB9AzofuotgUGEAcUR2KIrgNwGziicq4xPg/lVnjWLs6IUACYPbxmdXkv/hY/DPMCw3AZofq6GN2GcB6KWqBC0wAwPod1KBkcAfAiCA7ztpCEUC1RqQPr4kXwPNz/G61fyBAH/EgQ13OIkAzbGSuVY8RQKLD2tSejAVAvS38eKUfEsBGAKO4yxEgQMDqwsIszBRAEF+JpVaX/T8e2IEnpzsNwDKX7Lg5YBFAfL9ZQ+TyHUARvk0B4iQiQHg8zi+r2ArAEkzdBm3S+z+sqnSLnCUWwGBio4apr7K/o9OY/q6FIEAcEH7c4tf+vyK86s/zBQ7AoI7VERr9HkB7XVx9O0sGwGyDW2pfF/Y/qi81wIcbFcCY69MKJiwMQL4BRtASrRbAafhYLBxzCMA8PRRSgun3PyG1+u/BhxPAflGD0IpD/j+KmuVfLFoAwGgJ8IFSDxhAkKCACXUV8r85DtwIDugRwHC3JA0dKiVA0FvKoj9I3T9bcGX3mvMTwPqRGNz6iRFAgCoRKJxuuL+pkNDcmhEaQHBFNciBBP+/OmwTCUTx/z+yaeaHaS3/v2DuuMg8zd2/27FTFKUgC0CQmqQlBoLkv+TCMhFfOBBAV6chF0TYIEDutdlIVCEfQGjBNSgEYBhA5FRg1qKL9r/emkMeTR0aQGBfVktPdAJAptsRrwN9EMDJpF1m8R8jQK/7oZ5hSwTA4MZAbpr44b9sGqDJq1MIQCh3J/xYtO2/5AGdLOzMFkA=\",\"dtype\":\"float64\",\"order\":\"little\",\"shape\":[100]}},\"selected\":{\"id\":\"2207\"},\"selection_policy\":{\"id\":\"2206\"}},\"id\":\"2192\",\"type\":\"ColumnDataSource\"},{\"attributes\":{},\"id\":\"2121\",\"type\":\"WheelZoomTool\"},{\"attributes\":{\"fill_alpha\":{\"value\":0.2},\"fill_color\":{\"value\":\"midnightblue\"},\"hatch_alpha\":{\"value\":0.2},\"line_alpha\":{\"value\":0.2},\"line_color\":{\"value\":\"white\"},\"size\":{\"value\":10},\"x\":{\"field\":\"x\"},\"y\":{\"field\":\"y\"}},\"id\":\"2080\",\"type\":\"Circle\"},{\"attributes\":{},\"id\":\"2206\",\"type\":\"UnionRenderers\"},{\"attributes\":{},\"id\":\"2120\",\"type\":\"PanTool\"},{\"attributes\":{},\"id\":\"2179\",\"type\":\"WheelZoomTool\"},{\"attributes\":{\"overlay\":{\"id\":\"2126\"}},\"id\":\"2122\",\"type\":\"BoxZoomTool\"},{\"attributes\":{},\"id\":\"2178\",\"type\":\"PanTool\"},{\"attributes\":{\"bottom_units\":\"screen\",\"coordinates\":null,\"fill_alpha\":0.5,\"fill_color\":\"lightgrey\",\"group\":null,\"left_units\":\"screen\",\"level\":\"overlay\",\"line_alpha\":1.0,\"line_color\":\"black\",\"line_dash\":[4,4],\"line_width\":2,\"right_units\":\"screen\",\"syncable\":false,\"top_units\":\"screen\"},\"id\":\"2068\",\"type\":\"BoxAnnotation\"},{\"attributes\":{},\"id\":\"2123\",\"type\":\"SaveTool\"},{\"attributes\":{\"overlay\":{\"id\":\"2184\"}},\"id\":\"2180\",\"type\":\"BoxZoomTool\"},{\"attributes\":{},\"id\":\"2124\",\"type\":\"ResetTool\"},{\"attributes\":{},\"id\":\"2181\",\"type\":\"SaveTool\"},{\"attributes\":{},\"id\":\"2182\",\"type\":\"ResetTool\"},{\"attributes\":{},\"id\":\"2148\",\"type\":\"UnionRenderers\"},{\"attributes\":{\"fill_alpha\":{\"value\":0.25},\"fill_color\":{\"value\":\"midnightblue\"},\"hatch_alpha\":{\"value\":0.25},\"line_alpha\":{\"value\":0.25},\"line_color\":{\"value\":\"white\"},\"size\":{\"value\":10},\"x\":{\"field\":\"x\"},\"y\":{\"field\":\"y\"}},\"id\":\"2193\",\"type\":\"Circle\"},{\"attributes\":{\"bottom_units\":\"screen\",\"coordinates\":null,\"fill_alpha\":0.5,\"fill_color\":\"lightgrey\",\"group\":null,\"left_units\":\"screen\",\"level\":\"overlay\",\"line_alpha\":1.0,\"line_color\":\"black\",\"line_dash\":[4,4],\"line_width\":2,\"right_units\":\"screen\",\"syncable\":false,\"top_units\":\"screen\"},\"id\":\"2126\",\"type\":\"BoxAnnotation\"},{\"attributes\":{},\"id\":\"2149\",\"type\":\"Selection\"},{\"attributes\":{},\"id\":\"2088\",\"type\":\"BasicTickFormatter\"},{\"attributes\":{\"children\":[{\"id\":\"2217\"},{\"id\":\"2218\"}]},\"id\":\"2219\",\"type\":\"Column\"},{\"attributes\":{\"bottom_units\":\"screen\",\"coordinates\":null,\"fill_alpha\":0.5,\"fill_color\":\"lightgrey\",\"group\":null,\"left_units\":\"screen\",\"level\":\"overlay\",\"line_alpha\":1.0,\"line_color\":\"black\",\"line_dash\":[4,4],\"line_width\":2,\"right_units\":\"screen\",\"syncable\":false,\"top_units\":\"screen\"},\"id\":\"2184\",\"type\":\"BoxAnnotation\"},{\"attributes\":{\"client_comm_id\":\"b73bd15a243b4bd29be365dcc73c9f3d\",\"comm_id\":\"13e9b30fa62f4a95a56b1f22b72ed94a\",\"plot_id\":\"2220\"},\"id\":\"2388\",\"type\":\"panel.models.comm_manager.CommManager\"},{\"attributes\":{},\"id\":\"2089\",\"type\":\"AllLabels\"},{\"attributes\":{\"children\":[{\"id\":\"2043\"},{\"id\":\"2101\"},{\"id\":\"2159\"}]},\"id\":\"2218\",\"type\":\"Row\"},{\"attributes\":{\"source\":{\"id\":\"2192\"}},\"id\":\"2198\",\"type\":\"CDSView\"},{\"attributes\":{\"tools\":[{\"id\":\"2178\"},{\"id\":\"2179\"},{\"id\":\"2180\"},{\"id\":\"2181\"},{\"id\":\"2182\"},{\"id\":\"2183\"},{\"id\":\"2211\"},{\"id\":\"2215\"}]},\"id\":\"2185\",\"type\":\"Toolbar\"},{\"attributes\":{\"background_fill_alpha\":0.25,\"background_fill_color\":\"#505050\",\"border_line_alpha\":0.25,\"coordinates\":null,\"group\":null,\"items\":[{\"id\":\"2210\"}],\"label_standoff\":8,\"label_text_color\":\"#E0E0E0\",\"label_text_font\":\"Josefin Sans\",\"label_text_font_size\":\"1.15em\",\"spacing\":8},\"id\":\"2209\",\"type\":\"Legend\"},{\"attributes\":{\"tools\":[{\"id\":\"2120\"},{\"id\":\"2121\"},{\"id\":\"2122\"},{\"id\":\"2123\"},{\"id\":\"2124\"},{\"id\":\"2125\"},{\"id\":\"2153\"},{\"id\":\"2157\"}]},\"id\":\"2127\",\"type\":\"Toolbar\"},{\"attributes\":{\"fill_alpha\":{\"value\":0.5},\"fill_color\":{\"value\":\"midnightblue\"},\"line_color\":{\"value\":\"white\"}},\"id\":\"2098\",\"type\":\"Circle\"},{\"attributes\":{\"fill_alpha\":{\"value\":0.25},\"fill_color\":{\"value\":\"midnightblue\"},\"hatch_alpha\":{\"value\":0.25},\"line_alpha\":{\"value\":0.25},\"line_color\":{\"value\":\"white\"},\"size\":{\"value\":10},\"x\":{\"field\":\"x\"},\"y\":{\"field\":\"y\"}},\"id\":\"2077\",\"type\":\"Circle\"},{\"attributes\":{\"source\":{\"id\":\"2134\"}},\"id\":\"2140\",\"type\":\"CDSView\"},{\"attributes\":{\"bottom_units\":\"screen\",\"coordinates\":null,\"fill_alpha\":0.5,\"fill_color\":\"lightgrey\",\"group\":null,\"left_units\":\"screen\",\"level\":\"overlay\",\"line_alpha\":1.0,\"line_color\":\"black\",\"line_dash\":[4,4],\"line_width\":2,\"right_units\":\"screen\",\"syncable\":false,\"top_units\":\"screen\"},\"id\":\"2250\",\"type\":\"BoxAnnotation\"},{\"attributes\":{\"tools\":[{\"id\":\"2062\"},{\"id\":\"2063\"},{\"id\":\"2064\"},{\"id\":\"2065\"},{\"id\":\"2066\"},{\"id\":\"2067\"},{\"id\":\"2095\"},{\"id\":\"2099\"}]},\"id\":\"2069\",\"type\":\"Toolbar\"},{\"attributes\":{\"style\":{\"font-size\":\"250%\"},\"text\":\"Different amounts of noise\"},\"id\":\"2217\",\"type\":\"Div\"},{\"attributes\":{\"coordinates\":null,\"data_source\":{\"id\":\"2134\"},\"glyph\":{\"id\":\"2135\"},\"group\":null,\"hover_glyph\":{\"id\":\"2137\"},\"muted_glyph\":{\"id\":\"2138\"},\"nonselection_glyph\":{\"id\":\"2156\"},\"selection_glyph\":{\"id\":\"2155\"},\"view\":{\"id\":\"2140\"}},\"id\":\"2139\",\"type\":\"GlyphRenderer\"},{\"attributes\":{\"background_fill_alpha\":0.9,\"background_fill_color\":\"#0f0f0f\",\"below\":[{\"id\":\"2054\"}],\"border_fill_alpha\":0.8,\"border_fill_color\":\"#111111\",\"center\":[{\"id\":\"2057\"},{\"id\":\"2061\"},{\"id\":\"2093\"}],\"height\":450,\"left\":[{\"id\":\"2058\"}],\"outline_line_alpha\":0.25,\"outline_line_color\":\"#E0E0E0\",\"outline_line_width\":3,\"renderers\":[{\"id\":\"2081\"}],\"title\":{\"id\":\"2044\"},\"toolbar\":{\"id\":\"2069\"},\"toolbar_location\":null,\"x_range\":{\"id\":\"2046\"},\"x_scale\":{\"id\":\"2050\"},\"y_range\":{\"id\":\"2048\"},\"y_scale\":{\"id\":\"2052\"}},\"id\":\"2043\",\"subtype\":\"Figure\",\"type\":\"Plot\"},{\"attributes\":{\"fill_alpha\":{\"value\":0.5},\"fill_color\":{\"value\":\"red\"},\"hatch_alpha\":{\"value\":0.5},\"line_alpha\":{\"value\":0.5},\"line_color\":{\"value\":\"white\"},\"size\":{\"value\":10},\"x\":{\"field\":\"x\"},\"y\":{\"field\":\"y\"}},\"id\":\"2137\",\"type\":\"Circle\"},{\"attributes\":{\"margin\":[5,5,5,5],\"name\":\"HSpacer00132\",\"sizing_mode\":\"stretch_width\"},\"id\":\"2288\",\"type\":\"Spacer\"},{\"attributes\":{\"fill_alpha\":{\"value\":0.5},\"fill_color\":{\"value\":\"red\"},\"hatch_alpha\":{\"value\":0.5},\"line_alpha\":{\"value\":0.5},\"line_color\":{\"value\":\"white\"},\"size\":{\"value\":10},\"x\":{\"field\":\"x\"},\"y\":{\"field\":\"y\"}},\"id\":\"2195\",\"type\":\"Circle\"},{\"attributes\":{\"bottom_units\":\"screen\",\"coordinates\":null,\"fill_alpha\":0.5,\"fill_color\":\"lightgrey\",\"group\":null,\"left_units\":\"screen\",\"level\":\"overlay\",\"line_alpha\":1.0,\"line_color\":\"black\",\"line_dash\":[4,4],\"line_width\":2,\"right_units\":\"screen\",\"syncable\":false,\"top_units\":\"screen\"},\"id\":\"2254\",\"type\":\"BoxAnnotation\"}],\"root_ids\":[\"2220\",\"2388\"]},\"title\":\"Bokeh Application\",\"version\":\"2.4.3\"}};\n",
       "    var render_items = [{\"docid\":\"1196177d-b34c-4e58-ab20-ec20c03dfa48\",\"root_ids\":[\"2220\"],\"roots\":{\"2220\":\"84ad62b0-5926-44c6-b1d4-90043f1a7f89\"}}];\n",
       "    root.Bokeh.embed.embed_items_notebook(docs_json, render_items);\n",
       "    for (const render_item of render_items) {\n",
       "      for (const root_id of render_item.root_ids) {\n",
       "\tconst id_el = document.getElementById(root_id)\n",
       "\tif (id_el.children.length && (id_el.children[0].className === 'bk-root')) {\n",
       "\t  const root_el = id_el.children[0]\n",
       "\t  root_el.id = root_el.id + '-rendered'\n",
       "\t}\n",
       "      }\n",
       "    }\n",
       "  }\n",
       "  if (root.Bokeh !== undefined && root.Bokeh.Panel !== undefined) {\n",
       "    embed_document(root);\n",
       "  } else {\n",
       "    var attempts = 0;\n",
       "    var timer = setInterval(function(root) {\n",
       "      if (root.Bokeh !== undefined && root.Bokeh.Panel !== undefined) {\n",
       "        clearInterval(timer);\n",
       "        embed_document(root);\n",
       "      } else if (document.readyState == \"complete\") {\n",
       "        attempts++;\n",
       "        if (attempts > 200) {\n",
       "          clearInterval(timer);\n",
       "          console.log(\"Bokeh: ERROR: Unable to run BokehJS code because BokehJS library is missing\");\n",
       "        }\n",
       "      }\n",
       "    }, 25, root)\n",
       "  }\n",
       "})(window);</script>"
      ],
      "text/plain": [
       "Row\n",
       "    [0] HSpacer()\n",
       "    [1] Bokeh(Column)\n",
       "    [2] HSpacer()"
      ]
     },
     "execution_count": 22,
     "metadata": {
      "application/vnd.holoviews_exec.v0+json": {
       "id": "2220"
      }
     },
     "output_type": "execute_result"
    }
   ],
   "source": [
    "plot = center_plot(column(Div(text = \"Different amounts of noise\", style={'font-size': '250%'}), row(*plots)))\n",
    "plot"
   ]
  },
  {
   "cell_type": "markdown",
   "metadata": {},
   "source": [
    "To summarize, we will have some observations of a function, and we would like to optimize a function that gets as close as possible to the real function that generated this data. Here, we plot the real function and also _subsample_ our number of observations (having only a few points to find the corresponding function)"
   ]
  },
  {
   "cell_type": "code",
   "execution_count": 23,
   "metadata": {
    "tags": []
   },
   "outputs": [
    {
     "data": {},
     "metadata": {},
     "output_type": "display_data"
    },
    {
     "data": {
      "application/vnd.holoviews_exec.v0+json": "",
      "text/html": [
       "<div id='2632'>\n",
       "  <div class=\"bk-root\" id=\"b88190e9-36c0-4cbe-855a-770a6e6339ff\" data-root-id=\"2632\"></div>\n",
       "</div>\n",
       "<script type=\"application/javascript\">(function(root) {\n",
       "  function embed_document(root) {\n",
       "    var docs_json = {\"d1264f9c-ae4e-4758-9f11-8f0becf9f671\":{\"defs\":[{\"extends\":null,\"module\":null,\"name\":\"ReactiveHTML1\",\"overrides\":[],\"properties\":[]},{\"extends\":null,\"module\":null,\"name\":\"FlexBox1\",\"overrides\":[],\"properties\":[{\"default\":\"flex-start\",\"kind\":null,\"name\":\"align_content\"},{\"default\":\"flex-start\",\"kind\":null,\"name\":\"align_items\"},{\"default\":\"row\",\"kind\":null,\"name\":\"flex_direction\"},{\"default\":\"wrap\",\"kind\":null,\"name\":\"flex_wrap\"},{\"default\":\"flex-start\",\"kind\":null,\"name\":\"justify_content\"}]},{\"extends\":null,\"module\":null,\"name\":\"GridStack1\",\"overrides\":[],\"properties\":[{\"default\":\"warn\",\"kind\":null,\"name\":\"mode\"},{\"default\":null,\"kind\":null,\"name\":\"ncols\"},{\"default\":null,\"kind\":null,\"name\":\"nrows\"},{\"default\":true,\"kind\":null,\"name\":\"allow_resize\"},{\"default\":true,\"kind\":null,\"name\":\"allow_drag\"},{\"default\":[],\"kind\":null,\"name\":\"state\"}]},{\"extends\":null,\"module\":null,\"name\":\"click1\",\"overrides\":[],\"properties\":[{\"default\":\"\",\"kind\":null,\"name\":\"terminal_output\"},{\"default\":\"\",\"kind\":null,\"name\":\"debug_name\"},{\"default\":0,\"kind\":null,\"name\":\"clears\"}]},{\"extends\":null,\"module\":null,\"name\":\"NotificationAreaBase1\",\"overrides\":[],\"properties\":[{\"default\":\"bottom-right\",\"kind\":null,\"name\":\"position\"},{\"default\":0,\"kind\":null,\"name\":\"_clear\"}]},{\"extends\":null,\"module\":null,\"name\":\"NotificationArea1\",\"overrides\":[],\"properties\":[{\"default\":[],\"kind\":null,\"name\":\"notifications\"},{\"default\":\"bottom-right\",\"kind\":null,\"name\":\"position\"},{\"default\":0,\"kind\":null,\"name\":\"_clear\"},{\"default\":[{\"background\":\"#ffc107\",\"icon\":{\"className\":\"fas fa-exclamation-triangle\",\"color\":\"white\",\"tagName\":\"i\"},\"type\":\"warning\"},{\"background\":\"#007bff\",\"icon\":{\"className\":\"fas fa-info-circle\",\"color\":\"white\",\"tagName\":\"i\"},\"type\":\"info\"}],\"kind\":null,\"name\":\"types\"}]},{\"extends\":null,\"module\":null,\"name\":\"Notification\",\"overrides\":[],\"properties\":[{\"default\":null,\"kind\":null,\"name\":\"background\"},{\"default\":3000,\"kind\":null,\"name\":\"duration\"},{\"default\":null,\"kind\":null,\"name\":\"icon\"},{\"default\":\"\",\"kind\":null,\"name\":\"message\"},{\"default\":null,\"kind\":null,\"name\":\"notification_type\"},{\"default\":false,\"kind\":null,\"name\":\"_destroyed\"}]},{\"extends\":null,\"module\":null,\"name\":\"TemplateActions1\",\"overrides\":[],\"properties\":[{\"default\":0,\"kind\":null,\"name\":\"open_modal\"},{\"default\":0,\"kind\":null,\"name\":\"close_modal\"}]},{\"extends\":null,\"module\":null,\"name\":\"MaterialTemplateActions1\",\"overrides\":[],\"properties\":[{\"default\":0,\"kind\":null,\"name\":\"open_modal\"},{\"default\":0,\"kind\":null,\"name\":\"close_modal\"}]}],\"roots\":{\"references\":[{\"attributes\":{\"callback\":null,\"mode\":\"vline\",\"renderers\":[{\"id\":\"2592\"}],\"tooltips\":null},\"id\":\"2606\",\"type\":\"HoverTool\"},{\"attributes\":{},\"id\":\"2559\",\"type\":\"DataRange1d\"},{\"attributes\":{\"overlay\":{\"id\":\"2579\"}},\"id\":\"2575\",\"type\":\"BoxZoomTool\"},{\"attributes\":{},\"id\":\"2602\",\"type\":\"Selection\"},{\"attributes\":{},\"id\":\"2576\",\"type\":\"SaveTool\"},{\"attributes\":{\"mode\":\"append\",\"overlay\":{\"id\":\"2630\"},\"renderers\":[{\"id\":\"2592\"}]},\"id\":\"2610\",\"type\":\"BoxSelectTool\"},{\"attributes\":{},\"id\":\"2577\",\"type\":\"ResetTool\"},{\"attributes\":{},\"id\":\"2597\",\"type\":\"AllLabels\"},{\"attributes\":{\"line_alpha\":0.2,\"line_color\":\"green\",\"line_width\":6,\"x\":{\"field\":\"x\"},\"y\":{\"field\":\"y\"}},\"id\":\"2615\",\"type\":\"Line\"},{\"attributes\":{\"coordinates\":null,\"data_source\":{\"id\":\"2587\"},\"glyph\":{\"id\":\"2588\"},\"group\":null,\"hover_glyph\":{\"id\":\"2590\"},\"muted_glyph\":{\"id\":\"2591\"},\"nonselection_glyph\":{\"id\":\"2609\"},\"selection_glyph\":{\"id\":\"2608\"},\"view\":{\"id\":\"2593\"}},\"id\":\"2592\",\"type\":\"GlyphRenderer\"},{\"attributes\":{\"fill_alpha\":{\"value\":0.25},\"fill_color\":{\"value\":\"midnightblue\"},\"hatch_alpha\":{\"value\":0.25},\"line_alpha\":{\"value\":0.25},\"line_color\":{\"value\":\"white\"},\"size\":{\"value\":10},\"x\":{\"field\":\"x\"},\"y\":{\"field\":\"y\"}},\"id\":\"2588\",\"type\":\"Circle\"},{\"attributes\":{\"label\":{\"value\":\"Observations\"},\"renderers\":[{\"id\":\"2592\"}]},\"id\":\"2605\",\"type\":\"LegendItem\"},{\"attributes\":{\"children\":[{\"id\":\"2633\"},{\"id\":\"2554\"},{\"id\":\"2660\"}],\"margin\":[0,0,0,0],\"name\":\"Row00142\"},\"id\":\"2632\",\"type\":\"Row\"},{\"attributes\":{\"fill_alpha\":{\"value\":0.8},\"fill_color\":{\"value\":\"red\"},\"line_color\":{\"value\":\"white\"}},\"id\":\"2608\",\"type\":\"Circle\"},{\"attributes\":{\"fill_alpha\":{\"value\":0.5},\"fill_color\":{\"value\":\"red\"},\"hatch_alpha\":{\"value\":0.5},\"line_alpha\":{\"value\":0.5},\"line_color\":{\"value\":\"white\"},\"size\":{\"value\":10},\"x\":{\"field\":\"x\"},\"y\":{\"field\":\"y\"}},\"id\":\"2590\",\"type\":\"Circle\"},{\"attributes\":{\"margin\":[5,5,5,5],\"name\":\"HSpacer00139\",\"sizing_mode\":\"stretch_width\"},\"id\":\"2660\",\"type\":\"Spacer\"},{\"attributes\":{},\"id\":\"2627\",\"type\":\"UnionRenderers\"},{\"attributes\":{\"bottom_units\":\"screen\",\"coordinates\":null,\"fill_alpha\":0.5,\"fill_color\":\"lightgrey\",\"group\":null,\"left_units\":\"screen\",\"level\":\"overlay\",\"line_alpha\":1.0,\"line_color\":\"black\",\"line_dash\":[4,4],\"line_width\":2,\"right_units\":\"screen\",\"syncable\":false,\"top_units\":\"screen\"},\"id\":\"2630\",\"type\":\"BoxAnnotation\"},{\"attributes\":{\"margin\":[5,5,5,5],\"name\":\"HSpacer00138\",\"sizing_mode\":\"stretch_width\"},\"id\":\"2633\",\"type\":\"Spacer\"},{\"attributes\":{\"bottom_units\":\"screen\",\"coordinates\":null,\"fill_alpha\":0.5,\"fill_color\":\"lightgrey\",\"group\":null,\"left_units\":\"screen\",\"level\":\"overlay\",\"line_alpha\":1.0,\"line_color\":\"black\",\"line_dash\":[4,4],\"line_width\":2,\"right_units\":\"screen\",\"syncable\":false,\"top_units\":\"screen\"},\"id\":\"2579\",\"type\":\"BoxAnnotation\"},{\"attributes\":{},\"id\":\"2628\",\"type\":\"Selection\"},{\"attributes\":{},\"id\":\"2573\",\"type\":\"PanTool\"},{\"attributes\":{\"axis_label\":\"x\",\"axis_label_standoff\":10,\"axis_label_text_color\":\"#FFFFFF\",\"axis_label_text_font\":\"Josefin Sans\",\"axis_label_text_font_size\":\"1.9em\",\"axis_label_text_font_style\":\"bold\",\"axis_line_alpha\":0.4,\"axis_line_color\":\"#E0E0E0\",\"coordinates\":null,\"formatter\":{\"id\":\"2599\"},\"group\":null,\"major_label_policy\":{\"id\":\"2600\"},\"major_label_text_color\":\"#E0E0E0\",\"major_label_text_font\":\"Josefin Sans\",\"major_label_text_font_size\":\"1.15em\",\"major_tick_line_alpha\":0.4,\"major_tick_line_color\":\"#E0E0E0\",\"minor_tick_line_alpha\":0.4,\"minor_tick_line_color\":\"#E0E0E0\",\"ticker\":{\"id\":\"2566\"}},\"id\":\"2565\",\"type\":\"LinearAxis\"},{\"attributes\":{},\"id\":\"2574\",\"type\":\"WheelZoomTool\"},{\"attributes\":{\"tools\":[{\"id\":\"2573\"},{\"id\":\"2574\"},{\"id\":\"2575\"},{\"id\":\"2576\"},{\"id\":\"2577\"},{\"id\":\"2578\"},{\"id\":\"2606\"},{\"id\":\"2610\"}]},\"id\":\"2580\",\"type\":\"Toolbar\"},{\"attributes\":{\"source\":{\"id\":\"2587\"}},\"id\":\"2593\",\"type\":\"CDSView\"},{\"attributes\":{},\"id\":\"2570\",\"type\":\"BasicTicker\"},{\"attributes\":{\"axis_label\":\"y\",\"axis_label_standoff\":10,\"axis_label_text_color\":\"#FFFFFF\",\"axis_label_text_font\":\"Josefin Sans\",\"axis_label_text_font_size\":\"1.9em\",\"axis_label_text_font_style\":\"bold\",\"axis_line_alpha\":0.4,\"axis_line_color\":\"#E0E0E0\",\"coordinates\":null,\"formatter\":{\"id\":\"2596\"},\"group\":null,\"major_label_policy\":{\"id\":\"2597\"},\"major_label_text_color\":\"#E0E0E0\",\"major_label_text_font\":\"Josefin Sans\",\"major_label_text_font_size\":\"1.15em\",\"major_tick_line_alpha\":0.4,\"major_tick_line_color\":\"#E0E0E0\",\"minor_tick_line_alpha\":0.4,\"minor_tick_line_color\":\"#E0E0E0\",\"ticker\":{\"id\":\"2570\"}},\"id\":\"2569\",\"type\":\"LinearAxis\"},{\"attributes\":{\"axis\":{\"id\":\"2565\"},\"coordinates\":null,\"grid_line_alpha\":0.15,\"grid_line_color\":\"#E0E0E0\",\"group\":null,\"ticker\":null},\"id\":\"2568\",\"type\":\"Grid\"},{\"attributes\":{\"client_comm_id\":\"a8bffdf074064fe8a1dac7cbf528897f\",\"comm_id\":\"65c48c049e8040a39130b7814e588286\",\"plot_id\":\"2632\"},\"id\":\"2700\",\"type\":\"panel.models.comm_manager.CommManager\"},{\"attributes\":{\"axis\":{\"id\":\"2569\"},\"coordinates\":null,\"dimension\":1,\"grid_line_alpha\":0.15,\"grid_line_color\":\"#E0E0E0\",\"group\":null,\"ticker\":null},\"id\":\"2572\",\"type\":\"Grid\"},{\"attributes\":{\"data\":{\"x\":{\"__ndarray__\":\"W79SoNavlD8yb2dIzNu5P2WTTTbZZMM/UetXCtT6xT88Q2LezpDIPxPzdobEvM0/ejtDYt7O0D910UUXXXTRP2ApUOtXCtQ/W79SoNav1D9WVVVVVVXVP1HrVwrU+tU/TIFav1Kg1j9GF1100UXXPzxDYt7OkNg/N9lkk0022T8yb2dIzNvZPy0Fav1Kgdo/HcdxHMdx3D8YXXTRRRfdPxPzdobEvN0/CB988MEH3z998MEHH3zgP3o7Q2LezuA/d4bEvJ0h4T910UUXXXThP3BnSMzbGeI/aEjM2xkS4z9gKVDrVwrkP1gK1PqVAuU/U6DWrxSo5T9ONtlkk03mP0Ri3s6QmOc/OY7jOI7j6D832WSTTTbpPzJvZ0jM2+k/L7rooosu6j8tBWr9SoHqPypQ61cK1Oo/J5tssskm6z8iMW9nSMzrPx3HcRzHcew/Faj1KwVq7T8T83aGxLztPxA++OCDD+4/Dol5O0Ni7j8L1PqVArXuPwZq/UqBWu8/A7V+pUCt7z8AAAAAAADwPw==\",\"dtype\":\"float64\",\"order\":\"little\",\"shape\":[50]},\"y\":{\"__ndarray__\":\"GHp6CrUW8T9AYVEC8b3qPxBOMJqqWew/7RPA8dcm8D8lum90nALyP6XVP/MDc/Q/Br7Qn01R9D/ixGmuKrzxP8lrg6atpPI/TQKzpxFf9T+pORxe7YryPzAjxODikvY/n8uzEX4l8z90zba7Wi74P/v5j8LQVPk/QHDNf6Lf9j8tvBNo9KT1P/nFfg0Pafc/tKqvALwO+z+uWnPkLhL3P6AID+4wePs/a/penHDu+T9N2v90xrb/P+RiFFX9e/4/jluasLQi/z9rbQOeSdL8P6NGgXZpcv8/+6DtfrqY/z8QgcmhJKH/Py8IZxmv+wFAcO0n4qf3AkAqsJrmASQDQEsU/gGRIwZAFHLsvXhlBUCAIy8bUmwFQDVtHkh2YQdALASt8n99CUBnXXPIUo0HQKnKy73QYwhABMqvvnqQCkBAH/rtQngKQLq9iEHJyAtAxZDqW6WYDEB+2ZDWCRAOQGzU/zAiewxAM++eAIsiDkBQ3f2rSDMOQGDwQ2ZxAA9AZG4Iu1tTDkCBN3yMaokPQA==\",\"dtype\":\"float64\",\"order\":\"little\",\"shape\":[50]}},\"selected\":{\"id\":\"2602\"},\"selection_policy\":{\"id\":\"2601\"}},\"id\":\"2587\",\"type\":\"ColumnDataSource\"},{\"attributes\":{},\"id\":\"2578\",\"type\":\"HelpTool\"},{\"attributes\":{\"data\":{\"x\":{\"__ndarray__\":\"AAAAAAAAAABbv1Kg1q+EP1u/UqDWr5Q/CB988MEHnz9bv1Kg1q+kPzJvZ0jM26k/CB988MEHrz9wZ0jM2xmyP1u/UqDWr7Q/RhdddNFFtz8yb2dIzNu5Px3HcRzHcbw/CB988MEHvz96O0Ni3s7AP3BnSMzbGcI/ZZNNNtlkwz9bv1Kg1q/EP1HrVwrU+sU/RhdddNFFxz88Q2LezpDIPzJvZ0jM28k/J5tssskmyz8dx3Ecx3HMPxPzdobEvM0/CB988MEHzz9/pUCtXynQP3o7Q2LeztA/ddFFF1100T9wZ0jM2xnSP2r9SoFav9I/ZZNNNtlk0z9gKVDrVwrUP1u/UqDWr9Q/VlVVVVVV1T9R61cK1PrVP0yBWr9SoNY/RhdddNFF1z9BrV8pUOvXPzxDYt7OkNg/N9lkk0022T8yb2dIzNvZPy0Fav1Kgdo/J5tssskm2z8iMW9nSMzbPx3HcRzHcdw/GF100UUX3T8T83aGxLzdPw6JeTtDYt4/CB988MEH3z8DtX6lQK3fP3+lQK1fKeA/ffDBBx984D96O0Ni3s7gP3eGxLydIeE/ddFFF1104T9yHMdxHMfhP3BnSMzbGeI/bbLJJpts4j9q/UqBWr/iP2hIzNsZEuM/ZZNNNtlk4z9j3s6QmLfjP2ApUOtXCuQ/XnTRRRdd5D9bv1Kg1q/kP1gK1PqVAuU/VlVVVVVV5T9ToNavFKjlP1HrVwrU+uU/TjbZZJNN5j9MgVq/UqDmP0nM2xkS8+Y/RhdddNFF5z9EYt7OkJjnP0GtXylQ6+c/P/jggw8+6D88Q2LezpDoPzmO4ziO4+g/N9lkk0026T80JObtDInpPzJvZ0jM2+k/L7rooosu6j8tBWr9SoHqPypQ61cK1Oo/J5tssskm6z8l5u0MiXnrPyIxb2dIzOs/IHzwwQcf7D8dx3Ecx3HsPxsS83aGxOw/GF100UUX7T8VqPUrBWrtPxPzdobEvO0/ED744IMP7j8OiXk7Q2LuPwvU+pUCte4/CB988MEH7z8Gav1KgVrvPwO1fqVAre8/AAAAAAAA8D8=\",\"dtype\":\"float64\",\"order\":\"little\",\"shape\":[100]},\"y\":{\"__ndarray__\":\"AAAAAAAA8D8MJLz1QAHwPy6Q8NYDBfA/aESdo0gL8D+6QMJbDxTwPyKFX/9XH/A/ohF1jiIt8D845gIJbz3wP+YCCW89UPA/q2eHwI1l8D+IFH79X33wP3sJ7SW0l/A/hkbUOYq08D+oyzM54tPwP+GYCyS89fA/Ma5b+hca8T+ZCyS89UDxPxixZGlVavE/rZ4dAjeW8T9b1E6GmsTxPx9S+PV/9fE/+hcaUeco8j/tJbSX0F7yP/d7xsk7l/I/GBpR5yjS8j9QAFTwlw/zP6Auz+SIT/M/B6XCxPuR8z+EYy6Q8NbzPxlqEkdnHvQ/xrhu6V9o9D+JT0N32rT0P2QukPDWA/U/VlVVVVVV9T9fxJKlVan1P397SOHX//U/tnp2CNxY9j8FwhwbYrT2P2tROxlqEvc/6CjSAvRy9z98SOHX/9X3PyiwaJiNO/g/6l9oRJ2j+D/EV+DbLg75P7SX0F5Ce/k/vR85zdfq+T/c7xkn71z6PxIIc2yI0fo/YGhEnaNI+z/FEI65QML7P0EBUMFfPvw/1jmKtAC9/D+AujyTIz79P0CDZ13Iwf0/GpQKE+9H/j8K7SW0l9D+PxKOuUDCW/8/MHfFuG7p/z8y1CSOzjwAQNoQo7UmhgBAi3Hd0r/QAEBJ9tPlmRwBQBKfhu60aQFA6Gv17BC4AUDIXCDhrQcCQLNxB8uLWAJAq6qqqqqqAkCuBwqACv4CQL6IJUurUgNA1y39C42oA0D+9pDCr/8DQDDk4G4TWARAbPXsELixBEC2KrWonQwFQAqEOTbEaAVAagF6uSvGBUDWonYy1CQGQExoL6G9hAZA0FGkBejlBkBeX9VfU0gHQPiQwq//qwdAneZr9ewQCEBPYNEwG3cIQAz+8mGK3ghA07/QiDpHCUCopWqlK7EJQIevwLddHApAc93Sv9CICkBpL6G9hPYKQGylK7F5ZQtAej9ymq/VC0CT/XR5JkcMQLjfM07euQxA6eWuGNctDUAlEObYEKMNQG1e2Y6LGQ5AwNCIOkeRDkAgZ/TbQwoPQIohHHOBhA9AAAAAAAAAEEA=\",\"dtype\":\"float64\",\"order\":\"little\",\"shape\":[100]}},\"selected\":{\"id\":\"2628\"},\"selection_policy\":{\"id\":\"2627\"}},\"id\":\"2612\",\"type\":\"ColumnDataSource\"},{\"attributes\":{\"background_fill_alpha\":0.9,\"background_fill_color\":\"#0f0f0f\",\"below\":[{\"id\":\"2565\"}],\"border_fill_alpha\":0.8,\"border_fill_color\":\"#111111\",\"center\":[{\"id\":\"2568\"},{\"id\":\"2572\"},{\"id\":\"2604\"}],\"height\":450,\"left\":[{\"id\":\"2569\"}],\"outline_line_alpha\":0.25,\"outline_line_color\":\"#E0E0E0\",\"outline_line_width\":3,\"renderers\":[{\"id\":\"2592\"},{\"id\":\"2616\"}],\"title\":{\"id\":\"2555\"},\"toolbar\":{\"id\":\"2580\"},\"toolbar_location\":null,\"x_range\":{\"id\":\"2557\"},\"x_scale\":{\"id\":\"2561\"},\"y_range\":{\"id\":\"2559\"},\"y_scale\":{\"id\":\"2563\"}},\"id\":\"2554\",\"subtype\":\"Figure\",\"type\":\"Plot\"},{\"attributes\":{},\"id\":\"2601\",\"type\":\"UnionRenderers\"},{\"attributes\":{},\"id\":\"2561\",\"type\":\"LinearScale\"},{\"attributes\":{\"line_alpha\":0.6,\"line_color\":\"green\",\"line_width\":6,\"x\":{\"field\":\"x\"},\"y\":{\"field\":\"y\"}},\"id\":\"2613\",\"type\":\"Line\"},{\"attributes\":{},\"id\":\"2600\",\"type\":\"AllLabels\"},{\"attributes\":{\"label\":{\"value\":\"True function\"},\"renderers\":[{\"id\":\"2616\"}]},\"id\":\"2631\",\"type\":\"LegendItem\"},{\"attributes\":{},\"id\":\"2599\",\"type\":\"BasicTickFormatter\"},{\"attributes\":{},\"id\":\"2557\",\"type\":\"DataRange1d\"},{\"attributes\":{\"line_alpha\":0.1,\"line_color\":\"green\",\"line_width\":6,\"x\":{\"field\":\"x\"},\"y\":{\"field\":\"y\"}},\"id\":\"2614\",\"type\":\"Line\"},{\"attributes\":{},\"id\":\"2563\",\"type\":\"LinearScale\"},{\"attributes\":{\"source\":{\"id\":\"2612\"}},\"id\":\"2617\",\"type\":\"CDSView\"},{\"attributes\":{},\"id\":\"2596\",\"type\":\"BasicTickFormatter\"},{\"attributes\":{},\"id\":\"2566\",\"type\":\"BasicTicker\"},{\"attributes\":{\"coordinates\":null,\"group\":null,\"text\":\"Learning problem with groundtruth\",\"text_color\":\"#E0E0E0\",\"text_font\":\"Josefin Sans\",\"text_font_size\":\"2.1em\"},\"id\":\"2555\",\"type\":\"Title\"},{\"attributes\":{\"background_fill_alpha\":0.25,\"background_fill_color\":\"#505050\",\"border_line_alpha\":0.25,\"coordinates\":null,\"group\":null,\"items\":[{\"id\":\"2605\"},{\"id\":\"2631\"}],\"label_standoff\":8,\"label_text_color\":\"#E0E0E0\",\"label_text_font\":\"Josefin Sans\",\"label_text_font_size\":\"1.15em\",\"spacing\":8},\"id\":\"2604\",\"type\":\"Legend\"},{\"attributes\":{\"coordinates\":null,\"data_source\":{\"id\":\"2612\"},\"glyph\":{\"id\":\"2613\"},\"group\":null,\"hover_glyph\":null,\"muted_glyph\":{\"id\":\"2615\"},\"nonselection_glyph\":{\"id\":\"2614\"},\"view\":{\"id\":\"2617\"}},\"id\":\"2616\",\"type\":\"GlyphRenderer\"},{\"attributes\":{\"fill_alpha\":{\"value\":0.2},\"fill_color\":{\"value\":\"midnightblue\"},\"hatch_alpha\":{\"value\":0.2},\"line_alpha\":{\"value\":0.2},\"line_color\":{\"value\":\"white\"},\"size\":{\"value\":10},\"x\":{\"field\":\"x\"},\"y\":{\"field\":\"y\"}},\"id\":\"2591\",\"type\":\"Circle\"},{\"attributes\":{\"fill_alpha\":{\"value\":0.5},\"fill_color\":{\"value\":\"midnightblue\"},\"line_color\":{\"value\":\"white\"}},\"id\":\"2609\",\"type\":\"Circle\"}],\"root_ids\":[\"2632\",\"2700\"]},\"title\":\"Bokeh Application\",\"version\":\"2.4.3\"}};\n",
       "    var render_items = [{\"docid\":\"d1264f9c-ae4e-4758-9f11-8f0becf9f671\",\"root_ids\":[\"2632\"],\"roots\":{\"2632\":\"b88190e9-36c0-4cbe-855a-770a6e6339ff\"}}];\n",
       "    root.Bokeh.embed.embed_items_notebook(docs_json, render_items);\n",
       "    for (const render_item of render_items) {\n",
       "      for (const root_id of render_item.root_ids) {\n",
       "\tconst id_el = document.getElementById(root_id)\n",
       "\tif (id_el.children.length && (id_el.children[0].className === 'bk-root')) {\n",
       "\t  const root_el = id_el.children[0]\n",
       "\t  root_el.id = root_el.id + '-rendered'\n",
       "\t}\n",
       "      }\n",
       "    }\n",
       "  }\n",
       "  if (root.Bokeh !== undefined && root.Bokeh.Panel !== undefined) {\n",
       "    embed_document(root);\n",
       "  } else {\n",
       "    var attempts = 0;\n",
       "    var timer = setInterval(function(root) {\n",
       "      if (root.Bokeh !== undefined && root.Bokeh.Panel !== undefined) {\n",
       "        clearInterval(timer);\n",
       "        embed_document(root);\n",
       "      } else if (document.readyState == \"complete\") {\n",
       "        attempts++;\n",
       "        if (attempts > 200) {\n",
       "          clearInterval(timer);\n",
       "          console.log(\"Bokeh: ERROR: Unable to run BokehJS code because BokehJS library is missing\");\n",
       "        }\n",
       "      }\n",
       "    }, 25, root)\n",
       "  }\n",
       "})(window);</script>"
      ],
      "text/plain": [
       "Row\n",
       "    [0] HSpacer()\n",
       "    [1] Bokeh(Figure)\n",
       "    [2] HSpacer()"
      ]
     },
     "execution_count": 23,
     "metadata": {
      "application/vnd.holoviews_exec.v0+json": {
       "id": "2632"
      }
     },
     "output_type": "execute_result"
    }
   ],
   "source": [
    "# Generating the data and subsampling\n",
    "x_all = np.linspace(0, 1, 100); x_plot = np.linspace(0, 1, 100)\n",
    "rng.shuffle(x_all); x = np.sort(x_all[:50])\n",
    "poly = np.poly1d([3,0,1])\n",
    "# Adding some external noise\n",
    "epsilon = np.random.uniform(-0.2,0.2,x.shape)\n",
    "y = poly(x)+ epsilon\n",
    "p = scatter(x, y, title=\"Learning problem with groundtruth\")\n",
    "p.line(x_plot, poly(x_plot), line_width=6, line_alpha=0.6, color=\"green\", legend_label=r\"True function\")\n",
    "plot = (center_plot(p))\n",
    "plot"
   ]
  },
  {
   "cell_type": "markdown",
   "metadata": {},
   "source": [
    "### Summarizing our observations (interactive)\n",
    "\n"
   ]
  },
  {
   "cell_type": "code",
   "execution_count": 24,
   "metadata": {
    "tags": []
   },
   "outputs": [
    {
     "name": "stdout",
     "output_type": "stream",
     "text": [
      "Creating the object\n"
     ]
    },
    {
     "data": {},
     "metadata": {},
     "output_type": "display_data"
    },
    {
     "data": {
      "application/vnd.holoviews_exec.v0+json": "",
      "text/html": [
       "<div id='2824'>\n",
       "  <div class=\"bk-root\" id=\"b8d84440-f0c6-4bd9-ac11-5f8c1b23143d\" data-root-id=\"2824\"></div>\n",
       "</div>\n",
       "<script type=\"application/javascript\">(function(root) {\n",
       "  function embed_document(root) {\n",
       "    var docs_json = {\"694c102f-a551-4529-beac-19ca79a06140\":{\"defs\":[{\"extends\":null,\"module\":null,\"name\":\"ReactiveHTML1\",\"overrides\":[],\"properties\":[]},{\"extends\":null,\"module\":null,\"name\":\"FlexBox1\",\"overrides\":[],\"properties\":[{\"default\":\"flex-start\",\"kind\":null,\"name\":\"align_content\"},{\"default\":\"flex-start\",\"kind\":null,\"name\":\"align_items\"},{\"default\":\"row\",\"kind\":null,\"name\":\"flex_direction\"},{\"default\":\"wrap\",\"kind\":null,\"name\":\"flex_wrap\"},{\"default\":\"flex-start\",\"kind\":null,\"name\":\"justify_content\"}]},{\"extends\":null,\"module\":null,\"name\":\"GridStack1\",\"overrides\":[],\"properties\":[{\"default\":\"warn\",\"kind\":null,\"name\":\"mode\"},{\"default\":null,\"kind\":null,\"name\":\"ncols\"},{\"default\":null,\"kind\":null,\"name\":\"nrows\"},{\"default\":true,\"kind\":null,\"name\":\"allow_resize\"},{\"default\":true,\"kind\":null,\"name\":\"allow_drag\"},{\"default\":[],\"kind\":null,\"name\":\"state\"}]},{\"extends\":null,\"module\":null,\"name\":\"click1\",\"overrides\":[],\"properties\":[{\"default\":\"\",\"kind\":null,\"name\":\"terminal_output\"},{\"default\":\"\",\"kind\":null,\"name\":\"debug_name\"},{\"default\":0,\"kind\":null,\"name\":\"clears\"}]},{\"extends\":null,\"module\":null,\"name\":\"NotificationAreaBase1\",\"overrides\":[],\"properties\":[{\"default\":\"bottom-right\",\"kind\":null,\"name\":\"position\"},{\"default\":0,\"kind\":null,\"name\":\"_clear\"}]},{\"extends\":null,\"module\":null,\"name\":\"NotificationArea1\",\"overrides\":[],\"properties\":[{\"default\":[],\"kind\":null,\"name\":\"notifications\"},{\"default\":\"bottom-right\",\"kind\":null,\"name\":\"position\"},{\"default\":0,\"kind\":null,\"name\":\"_clear\"},{\"default\":[{\"background\":\"#ffc107\",\"icon\":{\"className\":\"fas fa-exclamation-triangle\",\"color\":\"white\",\"tagName\":\"i\"},\"type\":\"warning\"},{\"background\":\"#007bff\",\"icon\":{\"className\":\"fas fa-info-circle\",\"color\":\"white\",\"tagName\":\"i\"},\"type\":\"info\"}],\"kind\":null,\"name\":\"types\"}]},{\"extends\":null,\"module\":null,\"name\":\"Notification\",\"overrides\":[],\"properties\":[{\"default\":null,\"kind\":null,\"name\":\"background\"},{\"default\":3000,\"kind\":null,\"name\":\"duration\"},{\"default\":null,\"kind\":null,\"name\":\"icon\"},{\"default\":\"\",\"kind\":null,\"name\":\"message\"},{\"default\":null,\"kind\":null,\"name\":\"notification_type\"},{\"default\":false,\"kind\":null,\"name\":\"_destroyed\"}]},{\"extends\":null,\"module\":null,\"name\":\"TemplateActions1\",\"overrides\":[],\"properties\":[{\"default\":0,\"kind\":null,\"name\":\"open_modal\"},{\"default\":0,\"kind\":null,\"name\":\"close_modal\"}]},{\"extends\":null,\"module\":null,\"name\":\"MaterialTemplateActions1\",\"overrides\":[],\"properties\":[{\"default\":0,\"kind\":null,\"name\":\"open_modal\"},{\"default\":0,\"kind\":null,\"name\":\"close_modal\"}]}],\"roots\":{\"references\":[{\"attributes\":{},\"id\":\"2809\",\"type\":\"AllLabels\"},{\"attributes\":{\"data\":{\"x\":{\"__ndarray__\":\"AAAAALV+JTy1fqU8ED74PLV+JT1i3k49ED54Pd7OkD21fqU9jC66PWLezj05juM9ED74PfN2Bj7ezhA+yiYbPrV+JT6g1i8+jC46PneGRD5i3k4+TjZZPjmOYz4k5m0+ED54Pv1KgT7zdoY+6aKLPt7OkD7U+pU+yiabPr9SoD61fqU+q6qqPqDWrz6WArU+jC66PoFavz53hsQ+bbLJPmLezj5YCtQ+TjbZPkNi3j45juM+L7roPiTm7T4aEvM+ED74PgVq/T79SgE/+OADP/N2Bj/uDAk/6aILP+Q4Dj/ezhA/2WQTP9T6FT/PkBg/yiYbP8W8HT+/UiA/uugiP7V+JT+wFCg/q6oqP6VALT+g1i8/m2wyP5YCNT+RmDc/jC46P4bEPD+BWj8/fPBBP3eGRD9yHEc/bbJJP2dITD9i3k4/XXRRP1gKVD9ToFY/TjZZP0jMWz9DYl4/PvhgPzmOYz80JGY/L7poPylQaz8k5m0/H3xwPxoScz8VqHU/ED54PwrUej8Fan0/AACAPw==\",\"dtype\":\"float32\",\"order\":\"little\",\"shape\":[100]},\"y\":{\"__ndarray__\":\"ki1uPx9TiT8UHoA/KL2KP9L1ij8FfHg/j02KP4J+iz+OAWc/8EiKP+36aD+Uq24/O3V9P4ckgT9ZE4A/erlcP4O2Xz8H9HI/dix4P2m1WT8cCYA/BBV9PzAeZD+wj1E/e4B4Py12cD+O418/MNdsPxx5Vj+HkTo/PUBRP9jNRz/MKjc/NiZXP98eST/k1ig//Eo4Pz1wPD9dT0c/UUsbPzfZFj9nKB8/ExktP6dtHD8kvx4//RskPwtcGz/0AQ8/aVP6PvePCz8y/wk/7HvwPjHoAj/45ds+kKb8Pu/Zsj5fadI+xBLYPogAxj5I3sM+FNFPPrgFqT5KvlU+1T5CPgRDej6S6zs+l2hLPen1Dz1iq/U9OeAyPSJgWjwm0HQ90AEyOyBkwzsEu/O8sk4avs6D0b0fp/q9GiMnvijpZb4c63K+06y+vucAsb48dt++FNvovhDTDr9JMAy/hZsevwYMCL8dGBC/8rIdvw9GG79AkD2/ofYtv+9MOr9l1kK/4mlxvxL3Vr8PD4C//ciIvw==\",\"dtype\":\"float32\",\"order\":\"little\",\"shape\":[100]}},\"selected\":{\"id\":\"2814\"},\"selection_policy\":{\"id\":\"2813\"}},\"id\":\"2799\",\"type\":\"ColumnDataSource\"},{\"attributes\":{\"end\":5.0,\"margin\":[5,10,5,10],\"start\":0.0,\"step\":0.1,\"title\":\"Noise level\",\"value\":0.1},\"id\":\"2831\",\"type\":\"Slider\"},{\"attributes\":{},\"id\":\"2785\",\"type\":\"PanTool\"},{\"attributes\":{\"labels\":[\"Error\"],\"margin\":[5,10,5,10]},\"id\":\"2833\",\"type\":\"CheckboxGroup\"},{\"attributes\":{\"tools\":[{\"id\":\"2785\"},{\"id\":\"2786\"},{\"id\":\"2787\"},{\"id\":\"2788\"},{\"id\":\"2789\"},{\"id\":\"2790\"},{\"id\":\"2818\"},{\"id\":\"2822\"}]},\"id\":\"2792\",\"type\":\"Toolbar\"},{\"attributes\":{\"coordinates\":null,\"data_source\":{\"id\":\"2799\"},\"glyph\":{\"id\":\"2800\"},\"group\":null,\"hover_glyph\":{\"id\":\"2802\"},\"muted_glyph\":{\"id\":\"2803\"},\"nonselection_glyph\":{\"id\":\"2821\"},\"selection_glyph\":{\"id\":\"2820\"},\"view\":{\"id\":\"2805\"}},\"id\":\"2804\",\"type\":\"GlyphRenderer\"},{\"attributes\":{},\"id\":\"2790\",\"type\":\"HelpTool\"},{\"attributes\":{\"end\":1000,\"margin\":[5,10,5,10],\"start\":10,\"title\":\"Number observations\",\"value\":100},\"id\":\"2830\",\"type\":\"Slider\"},{\"attributes\":{\"args\":{\"bidirectional\":true,\"properties\":{\"readonly\":\"disabled\"},\"source\":{\"id\":\"2860\"},\"target\":{\"id\":\"2860\"}},\"code\":\"\\n    var value = source['readonly'];\\n    value = value;\\n    value = value;\\n    try {\\n      var property = target.properties['disabled'];\\n      if (property !== undefined) { property.validate(value); }\\n    } catch(err) {\\n      console.log('WARNING: Could not set disabled on target, raised error: ' + err);\\n      return;\\n    }\\n    try {\\n      target['disabled'] = value;\\n    } catch(err) {\\n      console.log(err)\\n    }\\n    \",\"tags\":[[140085118212016,[null,\"readonly\"],[null,\"disabled\"]]]},\"id\":\"2873\",\"type\":\"CustomJS\"},{\"attributes\":{\"fill_alpha\":{\"value\":0.25},\"fill_color\":{\"value\":\"midnightblue\"},\"hatch_alpha\":{\"value\":0.25},\"line_alpha\":{\"value\":0.25},\"line_color\":{\"value\":\"white\"},\"size\":{\"value\":10},\"x\":{\"field\":\"x\"},\"y\":{\"field\":\"y\"}},\"id\":\"2800\",\"type\":\"Circle\"},{\"attributes\":{},\"id\":\"2811\",\"type\":\"BasicTickFormatter\"},{\"attributes\":{\"background_fill_alpha\":0.9,\"background_fill_color\":\"#0f0f0f\",\"below\":[{\"id\":\"2777\"}],\"border_fill_alpha\":0.8,\"border_fill_color\":\"#111111\",\"center\":[{\"id\":\"2780\"},{\"id\":\"2784\"},{\"id\":\"2816\"}],\"height\":450,\"left\":[{\"id\":\"2781\"}],\"outline_line_alpha\":0.25,\"outline_line_color\":\"#E0E0E0\",\"outline_line_width\":3,\"renderers\":[{\"id\":\"2804\"}],\"title\":{\"id\":\"2767\"},\"toolbar\":{\"id\":\"2792\"},\"toolbar_location\":null,\"x_range\":{\"id\":\"2769\"},\"x_scale\":{\"id\":\"2773\"},\"y_range\":{\"id\":\"2771\"},\"y_scale\":{\"id\":\"2775\"}},\"id\":\"2766\",\"subtype\":\"Figure\",\"type\":\"Plot\"},{\"attributes\":{\"client_comm_id\":\"e7eac32c31d04c0086a9221ef5695f14\",\"comm_id\":\"ebb1932c73a6446ea7eda23a453c1436\",\"plot_id\":\"2824\"},\"id\":\"2897\",\"type\":\"panel.models.comm_manager.CommManager\"},{\"attributes\":{},\"id\":\"2812\",\"type\":\"AllLabels\"},{\"attributes\":{},\"id\":\"2771\",\"type\":\"DataRange1d\"},{\"attributes\":{\"fill_alpha\":{\"value\":0.5},\"fill_color\":{\"value\":\"midnightblue\"},\"line_color\":{\"value\":\"white\"}},\"id\":\"2821\",\"type\":\"Circle\"},{\"attributes\":{\"margin\":[5,5,5,5],\"name\":\"HSpacer00176\",\"sizing_mode\":\"stretch_width\"},\"id\":\"2861\",\"type\":\"Spacer\"},{\"attributes\":{\"end\":5.0,\"margin\":[5,10,5,10],\"start\":-5.0,\"step\":0.1,\"title\":\"X 0\",\"value\":1.0},\"id\":\"2836\",\"type\":\"Slider\"},{\"attributes\":{\"args\":{\"bidirectional\":true,\"properties\":{\"readonly\":\"disabled\"},\"source\":{\"id\":\"2860\"},\"target\":{\"id\":\"2860\"}},\"code\":\"\\n    var value = source['disabled'];\\n    value = value;\\n    value = value;\\n    try {\\n      var property = target.properties['readonly'];\\n      if (property !== undefined) { property.validate(value); }\\n    } catch(err) {\\n      console.log('WARNING: Could not set readonly on target, raised error: ' + err);\\n      return;\\n    }\\n    try {\\n      target['readonly'] = value;\\n    } catch(err) {\\n      console.log(err)\\n    }\\n    \",\"tags\":[[140085118212016,[null,\"readonly\"],[null,\"disabled\"]]]},\"id\":\"2874\",\"type\":\"CustomJS\"},{\"attributes\":{},\"id\":\"2769\",\"type\":\"DataRange1d\"},{\"attributes\":{\"overlay\":{\"id\":\"2791\"}},\"id\":\"2787\",\"type\":\"BoxZoomTool\"},{\"attributes\":{\"children\":[{\"id\":\"2825\"},{\"id\":\"2826\"},{\"id\":\"2861\"}],\"margin\":[0,0,0,0],\"name\":\"Row00177\"},\"id\":\"2824\",\"type\":\"Row\"},{\"attributes\":{\"source\":{\"id\":\"2799\"}},\"id\":\"2805\",\"type\":\"CDSView\"},{\"attributes\":{\"fill_alpha\":{\"value\":0.2},\"fill_color\":{\"value\":\"midnightblue\"},\"hatch_alpha\":{\"value\":0.2},\"line_alpha\":{\"value\":0.2},\"line_color\":{\"value\":\"white\"},\"size\":{\"value\":10},\"x\":{\"field\":\"x\"},\"y\":{\"field\":\"y\"}},\"id\":\"2803\",\"type\":\"Circle\"},{\"attributes\":{\"end\":5.0,\"margin\":[5,10,5,10],\"start\":-5.0,\"step\":0.1,\"title\":\"X 1\",\"value\":0.0},\"id\":\"2835\",\"type\":\"Slider\"},{\"attributes\":{\"fill_alpha\":{\"value\":0.5},\"fill_color\":{\"value\":\"red\"},\"hatch_alpha\":{\"value\":0.5},\"line_alpha\":{\"value\":0.5},\"line_color\":{\"value\":\"white\"},\"size\":{\"value\":10},\"x\":{\"field\":\"x\"},\"y\":{\"field\":\"y\"}},\"id\":\"2802\",\"type\":\"Circle\"},{\"attributes\":{},\"id\":\"2778\",\"type\":\"BasicTicker\"},{\"attributes\":{\"axis\":{\"id\":\"2777\"},\"coordinates\":null,\"grid_line_alpha\":0.15,\"grid_line_color\":\"#E0E0E0\",\"group\":null,\"ticker\":null},\"id\":\"2780\",\"type\":\"Grid\"},{\"attributes\":{\"axis_label\":\"$$\\\\color{white} -2.0x^2 + 0.0x^1 + 1.0x^0$$\",\"axis_label_standoff\":10,\"axis_label_text_color\":\"#FFFFFF\",\"axis_label_text_font\":\"Josefin Sans\",\"axis_label_text_font_size\":\"1.9em\",\"axis_label_text_font_style\":\"bold\",\"axis_line_alpha\":0.4,\"axis_line_color\":\"#E0E0E0\",\"coordinates\":null,\"formatter\":{\"id\":\"2808\"},\"group\":null,\"major_label_policy\":{\"id\":\"2809\"},\"major_label_text_color\":\"#E0E0E0\",\"major_label_text_font\":\"Josefin Sans\",\"major_label_text_font_size\":\"1.15em\",\"major_tick_line_alpha\":0.4,\"major_tick_line_color\":\"#E0E0E0\",\"minor_tick_line_alpha\":0.4,\"minor_tick_line_color\":\"#E0E0E0\",\"ticker\":{\"id\":\"2782\"}},\"id\":\"2781\",\"type\":\"LinearAxis\"},{\"attributes\":{\"children\":[{\"id\":\"2827\"},{\"id\":\"2860\"}],\"margin\":[0,0,0,0],\"name\":\"Column00175\"},\"id\":\"2826\",\"type\":\"Column\"},{\"attributes\":{},\"id\":\"2788\",\"type\":\"SaveTool\"},{\"attributes\":{},\"id\":\"2773\",\"type\":\"LinearScale\"},{\"attributes\":{},\"id\":\"2786\",\"type\":\"WheelZoomTool\"},{\"attributes\":{},\"id\":\"2782\",\"type\":\"BasicTicker\"},{\"attributes\":{\"margin\":[5,5,5,5],\"name\":\"HSpacer00146\",\"sizing_mode\":\"stretch_width\"},\"id\":\"2825\",\"type\":\"Spacer\"},{\"attributes\":{\"coordinates\":null,\"group\":null,\"text\":\"Polynomial regression problem\",\"text_color\":\"#E0E0E0\",\"text_font\":\"Josefin Sans\",\"text_font_size\":\"2.1em\"},\"id\":\"2767\",\"type\":\"Title\"},{\"attributes\":{\"axis\":{\"id\":\"2781\"},\"coordinates\":null,\"dimension\":1,\"grid_line_alpha\":0.15,\"grid_line_color\":\"#E0E0E0\",\"group\":null,\"ticker\":null},\"id\":\"2784\",\"type\":\"Grid\"},{\"attributes\":{\"end\":5.0,\"margin\":[5,10,5,10],\"start\":-5.0,\"step\":0.1,\"title\":\"X 2\",\"value\":-2.0},\"id\":\"2834\",\"type\":\"Slider\"},{\"attributes\":{},\"id\":\"2789\",\"type\":\"ResetTool\"},{\"attributes\":{\"children\":[{\"id\":\"2828\"},{\"id\":\"2837\"}],\"margin\":[0,0,0,0],\"name\":\"Row00172\"},\"id\":\"2827\",\"type\":\"Row\"},{\"attributes\":{},\"id\":\"2808\",\"type\":\"BasicTickFormatter\"},{\"attributes\":{\"bottom_units\":\"screen\",\"coordinates\":null,\"fill_alpha\":0.5,\"fill_color\":\"lightgrey\",\"group\":null,\"left_units\":\"screen\",\"level\":\"overlay\",\"line_alpha\":1.0,\"line_color\":\"black\",\"line_dash\":[4,4],\"line_width\":2,\"right_units\":\"screen\",\"syncable\":false,\"top_units\":\"screen\"},\"id\":\"2791\",\"type\":\"BoxAnnotation\"},{\"attributes\":{\"fill_alpha\":{\"value\":0.8},\"fill_color\":{\"value\":\"red\"},\"line_color\":{\"value\":\"white\"}},\"id\":\"2820\",\"type\":\"Circle\"},{\"attributes\":{\"axis_label\":\"$$\\\\color{white} x$$\",\"axis_label_standoff\":10,\"axis_label_text_color\":\"#FFFFFF\",\"axis_label_text_font\":\"Josefin Sans\",\"axis_label_text_font_size\":\"1.9em\",\"axis_label_text_font_style\":\"bold\",\"axis_line_alpha\":0.4,\"axis_line_color\":\"#E0E0E0\",\"coordinates\":null,\"formatter\":{\"id\":\"2811\"},\"group\":null,\"major_label_policy\":{\"id\":\"2812\"},\"major_label_text_color\":\"#E0E0E0\",\"major_label_text_font\":\"Josefin Sans\",\"major_label_text_font_size\":\"1.15em\",\"major_tick_line_alpha\":0.4,\"major_tick_line_color\":\"#E0E0E0\",\"minor_tick_line_alpha\":0.4,\"minor_tick_line_color\":\"#E0E0E0\",\"ticker\":{\"id\":\"2778\"}},\"id\":\"2777\",\"type\":\"LinearAxis\"},{\"attributes\":{\"label\":{\"value\":\"Observations\"},\"renderers\":[{\"id\":\"2804\"}]},\"id\":\"2817\",\"type\":\"LegendItem\"},{\"attributes\":{\"callback\":null,\"mode\":\"vline\",\"renderers\":[{\"id\":\"2804\"}],\"tooltips\":null},\"id\":\"2818\",\"type\":\"HoverTool\"},{\"attributes\":{\"background_fill_alpha\":0.25,\"background_fill_color\":\"#505050\",\"border_line_alpha\":0.25,\"coordinates\":null,\"group\":null,\"items\":[{\"id\":\"2817\"}],\"label_standoff\":8,\"label_text_color\":\"#E0E0E0\",\"label_text_font\":\"Josefin Sans\",\"label_text_font_size\":\"1.15em\",\"spacing\":8},\"id\":\"2816\",\"type\":\"Legend\"},{\"attributes\":{\"labels\":[\"Ground truth\"],\"margin\":[5,10,5,10]},\"id\":\"2832\",\"type\":\"CheckboxGroup\"},{\"attributes\":{\"children\":[{\"id\":\"2829\"},{\"id\":\"2830\"},{\"id\":\"2831\"},{\"id\":\"2832\"},{\"id\":\"2833\"},{\"id\":\"2834\"},{\"id\":\"2835\"},{\"id\":\"2836\"}],\"margin\":[5,5,5,5],\"min_width\":300,\"name\":\"Problem parameters\",\"width\":300},\"id\":\"2828\",\"type\":\"Column\"},{\"attributes\":{},\"id\":\"2814\",\"type\":\"Selection\"},{\"attributes\":{\"code\":\"def polynomial(\\n        coefficients: jnp.ndarray,\\n        n_observations: int = 100) -> [jnp.ndarray, jnp.ndarray]:\\n    x = jnp.linspace(0, 1, n_observations)\\n    y = jnp.polyval(coefficients, x)\\n    return x, \",\"filename\":\"\",\"height\":150,\"js_property_callbacks\":{\"change:disabled\":[{\"id\":\"2874\"}],\"change:readonly\":[{\"id\":\"2873\"}]},\"language\":\"python\",\"margin\":[5,10,5,10],\"sizing_mode\":\"stretch_both\",\"theme\":\"chaos\"},\"id\":\"2860\",\"type\":\"panel.models.ace.AcePlot\"},{\"attributes\":{},\"id\":\"2775\",\"type\":\"LinearScale\"},{\"attributes\":{\"mode\":\"append\",\"overlay\":{\"id\":\"2848\"},\"renderers\":[{\"id\":\"2804\"}]},\"id\":\"2822\",\"type\":\"BoxSelectTool\"},{\"attributes\":{\"margin\":[5,10,5,10],\"name\":\"\",\"text\":\"<b>Problem parameters</b>\"},\"id\":\"2829\",\"type\":\"Div\"},{\"attributes\":{},\"id\":\"2813\",\"type\":\"UnionRenderers\"},{\"attributes\":{\"bottom_units\":\"screen\",\"coordinates\":null,\"fill_alpha\":0.5,\"fill_color\":\"lightgrey\",\"group\":null,\"left_units\":\"screen\",\"level\":\"overlay\",\"line_alpha\":1.0,\"line_color\":\"black\",\"line_dash\":[4,4],\"line_width\":2,\"right_units\":\"screen\",\"syncable\":false,\"top_units\":\"screen\"},\"id\":\"2848\",\"type\":\"BoxAnnotation\"},{\"attributes\":{\"children\":[{\"id\":\"2766\"}],\"margin\":[0,0,0,0],\"name\":\"Row00169\"},\"id\":\"2837\",\"type\":\"Row\"}],\"root_ids\":[\"2824\",\"2897\"]},\"title\":\"Bokeh Application\",\"version\":\"2.4.3\"}};\n",
       "    var render_items = [{\"docid\":\"694c102f-a551-4529-beac-19ca79a06140\",\"root_ids\":[\"2824\"],\"roots\":{\"2824\":\"b8d84440-f0c6-4bd9-ac11-5f8c1b23143d\"}}];\n",
       "    root.Bokeh.embed.embed_items_notebook(docs_json, render_items);\n",
       "    for (const render_item of render_items) {\n",
       "      for (const root_id of render_item.root_ids) {\n",
       "\tconst id_el = document.getElementById(root_id)\n",
       "\tif (id_el.children.length && (id_el.children[0].className === 'bk-root')) {\n",
       "\t  const root_el = id_el.children[0]\n",
       "\t  root_el.id = root_el.id + '-rendered'\n",
       "\t}\n",
       "      }\n",
       "    }\n",
       "  }\n",
       "  if (root.Bokeh !== undefined && root.Bokeh.Panel !== undefined) {\n",
       "    embed_document(root);\n",
       "  } else {\n",
       "    var attempts = 0;\n",
       "    var timer = setInterval(function(root) {\n",
       "      if (root.Bokeh !== undefined && root.Bokeh.Panel !== undefined) {\n",
       "        clearInterval(timer);\n",
       "        embed_document(root);\n",
       "      } else if (document.readyState == \"complete\") {\n",
       "        attempts++;\n",
       "        if (attempts > 200) {\n",
       "          clearInterval(timer);\n",
       "          console.log(\"Bokeh: ERROR: Unable to run BokehJS code because BokehJS library is missing\");\n",
       "        }\n",
       "      }\n",
       "    }, 25, root)\n",
       "  }\n",
       "})(window);</script>"
      ],
      "text/plain": [
       "Row\n",
       "    [0] HSpacer()\n",
       "    [1] Column\n",
       "        [0] Row\n",
       "            [0] Param(RegressionPolynomial, name='Problem parameters', widgets={})\n",
       "            [1] ParamMethod(method, _pane=Bokeh)\n",
       "        [1] Ace(height=150, language='python', sizing_mode='stretch_both', theme='chaos', value='def polynomial(\\n        ...)\n",
       "    [2] HSpacer()"
      ]
     },
     "execution_count": 24,
     "metadata": {
      "application/vnd.holoviews_exec.v0+json": {
       "id": "2824"
      }
     },
     "output_type": "execute_result"
    }
   ],
   "source": [
    "from cml.tasks import RegressionPolynomial\n",
    "explorer = RegressionPolynomial()\n",
    "explorer.render()"
   ]
  },
  {
   "cell_type": "markdown",
   "metadata": {},
   "source": [
    "## Using learning libraries (`scikit-learn`)"
   ]
  },
  {
   "cell_type": "markdown",
   "metadata": {},
   "source": [
    "To get a first grip on what machine learning does, we will rely on the `scikit-learn` library. This contains already coded models and learning procedure, that will allow us to _learn_ the parameters of this unknown function.\n",
    "\n",
    "Here we already know that we want to use a `PolynomialFeatures` model to perfom `LinearRegression` and that this polynomial should be of degree 2."
   ]
  },
  {
   "cell_type": "code",
   "execution_count": 25,
   "metadata": {
    "tags": []
   },
   "outputs": [],
   "source": [
    "from sklearn.linear_model import LinearRegression\n",
    "from sklearn.preprocessing import PolynomialFeatures\n",
    "from sklearn.pipeline import make_pipeline\n",
    "# Our data to fit\n",
    "X = x[:, np.newaxis]\n",
    "# Degree of our polynomial\n",
    "degree = 30;\n",
    "# Create our polynomial model for regression\n",
    "model = make_pipeline(PolynomialFeatures(degree), LinearRegression())\n",
    "# Fit the parameters of this model\n",
    "model.fit(X, y);"
   ]
  },
  {
   "cell_type": "markdown",
   "metadata": {},
   "source": [
    "Now that we have trained the model, we can perform _predictions_ from it, meaning that we can infer the output of the function at values that we did not observe originally."
   ]
  },
  {
   "cell_type": "code",
   "execution_count": 26,
   "metadata": {
    "tags": []
   },
   "outputs": [
    {
     "name": "stdout",
     "output_type": "stream",
     "text": [
      "Model error : 0.08422998252523049\n"
     ]
    },
    {
     "data": {},
     "metadata": {},
     "output_type": "display_data"
    },
    {
     "data": {
      "application/vnd.holoviews_exec.v0+json": "",
      "text/html": [
       "<div id='3031'>\n",
       "  <div class=\"bk-root\" id=\"c5d3bc9a-424e-4a9f-b611-a453d4ac9e39\" data-root-id=\"3031\"></div>\n",
       "</div>\n",
       "<script type=\"application/javascript\">(function(root) {\n",
       "  function embed_document(root) {\n",
       "    var docs_json = {\"99fec7b0-65d2-446e-9eb2-2355c4317dde\":{\"defs\":[{\"extends\":null,\"module\":null,\"name\":\"ReactiveHTML1\",\"overrides\":[],\"properties\":[]},{\"extends\":null,\"module\":null,\"name\":\"FlexBox1\",\"overrides\":[],\"properties\":[{\"default\":\"flex-start\",\"kind\":null,\"name\":\"align_content\"},{\"default\":\"flex-start\",\"kind\":null,\"name\":\"align_items\"},{\"default\":\"row\",\"kind\":null,\"name\":\"flex_direction\"},{\"default\":\"wrap\",\"kind\":null,\"name\":\"flex_wrap\"},{\"default\":\"flex-start\",\"kind\":null,\"name\":\"justify_content\"}]},{\"extends\":null,\"module\":null,\"name\":\"GridStack1\",\"overrides\":[],\"properties\":[{\"default\":\"warn\",\"kind\":null,\"name\":\"mode\"},{\"default\":null,\"kind\":null,\"name\":\"ncols\"},{\"default\":null,\"kind\":null,\"name\":\"nrows\"},{\"default\":true,\"kind\":null,\"name\":\"allow_resize\"},{\"default\":true,\"kind\":null,\"name\":\"allow_drag\"},{\"default\":[],\"kind\":null,\"name\":\"state\"}]},{\"extends\":null,\"module\":null,\"name\":\"click1\",\"overrides\":[],\"properties\":[{\"default\":\"\",\"kind\":null,\"name\":\"terminal_output\"},{\"default\":\"\",\"kind\":null,\"name\":\"debug_name\"},{\"default\":0,\"kind\":null,\"name\":\"clears\"}]},{\"extends\":null,\"module\":null,\"name\":\"NotificationAreaBase1\",\"overrides\":[],\"properties\":[{\"default\":\"bottom-right\",\"kind\":null,\"name\":\"position\"},{\"default\":0,\"kind\":null,\"name\":\"_clear\"}]},{\"extends\":null,\"module\":null,\"name\":\"NotificationArea1\",\"overrides\":[],\"properties\":[{\"default\":[],\"kind\":null,\"name\":\"notifications\"},{\"default\":\"bottom-right\",\"kind\":null,\"name\":\"position\"},{\"default\":0,\"kind\":null,\"name\":\"_clear\"},{\"default\":[{\"background\":\"#ffc107\",\"icon\":{\"className\":\"fas fa-exclamation-triangle\",\"color\":\"white\",\"tagName\":\"i\"},\"type\":\"warning\"},{\"background\":\"#007bff\",\"icon\":{\"className\":\"fas fa-info-circle\",\"color\":\"white\",\"tagName\":\"i\"},\"type\":\"info\"}],\"kind\":null,\"name\":\"types\"}]},{\"extends\":null,\"module\":null,\"name\":\"Notification\",\"overrides\":[],\"properties\":[{\"default\":null,\"kind\":null,\"name\":\"background\"},{\"default\":3000,\"kind\":null,\"name\":\"duration\"},{\"default\":null,\"kind\":null,\"name\":\"icon\"},{\"default\":\"\",\"kind\":null,\"name\":\"message\"},{\"default\":null,\"kind\":null,\"name\":\"notification_type\"},{\"default\":false,\"kind\":null,\"name\":\"_destroyed\"}]},{\"extends\":null,\"module\":null,\"name\":\"TemplateActions1\",\"overrides\":[],\"properties\":[{\"default\":0,\"kind\":null,\"name\":\"open_modal\"},{\"default\":0,\"kind\":null,\"name\":\"close_modal\"}]},{\"extends\":null,\"module\":null,\"name\":\"MaterialTemplateActions1\",\"overrides\":[],\"properties\":[{\"default\":0,\"kind\":null,\"name\":\"open_modal\"},{\"default\":0,\"kind\":null,\"name\":\"close_modal\"}]}],\"roots\":{\"references\":[{\"attributes\":{},\"id\":\"2958\",\"type\":\"DataRange1d\"},{\"attributes\":{\"coordinates\":null,\"group\":null,\"text\":\"Training a scikit-learn model\",\"text_color\":\"#E0E0E0\",\"text_font\":\"Josefin Sans\",\"text_font_size\":\"2.1em\"},\"id\":\"2954\",\"type\":\"Title\"},{\"attributes\":{\"background_fill_alpha\":0.25,\"background_fill_color\":\"#505050\",\"border_line_alpha\":0.25,\"coordinates\":null,\"group\":null,\"items\":[{\"id\":\"3004\"},{\"id\":\"3030\"}],\"label_standoff\":8,\"label_text_color\":\"#E0E0E0\",\"label_text_font\":\"Josefin Sans\",\"label_text_font_size\":\"1.15em\",\"spacing\":8},\"id\":\"3003\",\"type\":\"Legend\"},{\"attributes\":{\"axis_label\":\"x\",\"axis_label_standoff\":10,\"axis_label_text_color\":\"#FFFFFF\",\"axis_label_text_font\":\"Josefin Sans\",\"axis_label_text_font_size\":\"1.9em\",\"axis_label_text_font_style\":\"bold\",\"axis_line_alpha\":0.4,\"axis_line_color\":\"#E0E0E0\",\"coordinates\":null,\"formatter\":{\"id\":\"2998\"},\"group\":null,\"major_label_policy\":{\"id\":\"2999\"},\"major_label_text_color\":\"#E0E0E0\",\"major_label_text_font\":\"Josefin Sans\",\"major_label_text_font_size\":\"1.15em\",\"major_tick_line_alpha\":0.4,\"major_tick_line_color\":\"#E0E0E0\",\"minor_tick_line_alpha\":0.4,\"minor_tick_line_color\":\"#E0E0E0\",\"ticker\":{\"id\":\"2965\"}},\"id\":\"2964\",\"type\":\"LinearAxis\"},{\"attributes\":{\"line_alpha\":0.1,\"line_color\":\"red\",\"line_width\":6,\"x\":{\"field\":\"x\"},\"y\":{\"field\":\"y\"}},\"id\":\"3013\",\"type\":\"Line\"},{\"attributes\":{\"axis_label\":\"y\",\"axis_label_standoff\":10,\"axis_label_text_color\":\"#FFFFFF\",\"axis_label_text_font\":\"Josefin Sans\",\"axis_label_text_font_size\":\"1.9em\",\"axis_label_text_font_style\":\"bold\",\"axis_line_alpha\":0.4,\"axis_line_color\":\"#E0E0E0\",\"coordinates\":null,\"formatter\":{\"id\":\"2995\"},\"group\":null,\"major_label_policy\":{\"id\":\"2996\"},\"major_label_text_color\":\"#E0E0E0\",\"major_label_text_font\":\"Josefin Sans\",\"major_label_text_font_size\":\"1.15em\",\"major_tick_line_alpha\":0.4,\"major_tick_line_color\":\"#E0E0E0\",\"minor_tick_line_alpha\":0.4,\"minor_tick_line_color\":\"#E0E0E0\",\"ticker\":{\"id\":\"2969\"}},\"id\":\"2968\",\"type\":\"LinearAxis\"},{\"attributes\":{\"data\":{\"x\":{\"__ndarray__\":\"AAAAAAAAAABbv1Kg1q+EP1u/UqDWr5Q/CB988MEHnz9bv1Kg1q+kPzJvZ0jM26k/CB988MEHrz9wZ0jM2xmyP1u/UqDWr7Q/RhdddNFFtz8yb2dIzNu5Px3HcRzHcbw/CB988MEHvz96O0Ni3s7AP3BnSMzbGcI/ZZNNNtlkwz9bv1Kg1q/EP1HrVwrU+sU/RhdddNFFxz88Q2LezpDIPzJvZ0jM28k/J5tssskmyz8dx3Ecx3HMPxPzdobEvM0/CB988MEHzz9/pUCtXynQP3o7Q2LeztA/ddFFF1100T9wZ0jM2xnSP2r9SoFav9I/ZZNNNtlk0z9gKVDrVwrUP1u/UqDWr9Q/VlVVVVVV1T9R61cK1PrVP0yBWr9SoNY/RhdddNFF1z9BrV8pUOvXPzxDYt7OkNg/N9lkk0022T8yb2dIzNvZPy0Fav1Kgdo/J5tssskm2z8iMW9nSMzbPx3HcRzHcdw/GF100UUX3T8T83aGxLzdPw6JeTtDYt4/CB988MEH3z8DtX6lQK3fP3+lQK1fKeA/ffDBBx984D96O0Ni3s7gP3eGxLydIeE/ddFFF1104T9yHMdxHMfhP3BnSMzbGeI/bbLJJpts4j9q/UqBWr/iP2hIzNsZEuM/ZZNNNtlk4z9j3s6QmLfjP2ApUOtXCuQ/XnTRRRdd5D9bv1Kg1q/kP1gK1PqVAuU/VlVVVVVV5T9ToNavFKjlP1HrVwrU+uU/TjbZZJNN5j9MgVq/UqDmP0nM2xkS8+Y/RhdddNFF5z9EYt7OkJjnP0GtXylQ6+c/P/jggw8+6D88Q2LezpDoPzmO4ziO4+g/N9lkk0026T80JObtDInpPzJvZ0jM2+k/L7rooosu6j8tBWr9SoHqPypQ61cK1Oo/J5tssskm6z8l5u0MiXnrPyIxb2dIzOs/IHzwwQcf7D8dx3Ecx3HsPxsS83aGxOw/GF100UUX7T8VqPUrBWrtPxPzdobEvO0/ED744IMP7j8OiXk7Q2LuPwvU+pUCte4/CB988MEH7z8Gav1KgVrvPwO1fqVAre8/AAAAAAAA8D8=\",\"dtype\":\"float64\",\"order\":\"little\",\"shape\":[100]},\"y\":{\"__ndarray__\":\"AAAAAAAA8D8MJLz1QAHwPy6Q8NYDBfA/aESdo0gL8D+6QMJbDxTwPyKFX/9XH/A/ohF1jiIt8D845gIJbz3wP+YCCW89UPA/q2eHwI1l8D+IFH79X33wP3sJ7SW0l/A/hkbUOYq08D+oyzM54tPwP+GYCyS89fA/Ma5b+hca8T+ZCyS89UDxPxixZGlVavE/rZ4dAjeW8T9b1E6GmsTxPx9S+PV/9fE/+hcaUeco8j/tJbSX0F7yP/d7xsk7l/I/GBpR5yjS8j9QAFTwlw/zP6Auz+SIT/M/B6XCxPuR8z+EYy6Q8NbzPxlqEkdnHvQ/xrhu6V9o9D+JT0N32rT0P2QukPDWA/U/VlVVVVVV9T9fxJKlVan1P397SOHX//U/tnp2CNxY9j8FwhwbYrT2P2tROxlqEvc/6CjSAvRy9z98SOHX/9X3PyiwaJiNO/g/6l9oRJ2j+D/EV+DbLg75P7SX0F5Ce/k/vR85zdfq+T/c7xkn71z6PxIIc2yI0fo/YGhEnaNI+z/FEI65QML7P0EBUMFfPvw/1jmKtAC9/D+AujyTIz79P0CDZ13Iwf0/GpQKE+9H/j8K7SW0l9D+PxKOuUDCW/8/MHfFuG7p/z8y1CSOzjwAQNoQo7UmhgBAi3Hd0r/QAEBJ9tPlmRwBQBKfhu60aQFA6Gv17BC4AUDIXCDhrQcCQLNxB8uLWAJAq6qqqqqqAkCuBwqACv4CQL6IJUurUgNA1y39C42oA0D+9pDCr/8DQDDk4G4TWARAbPXsELixBEC2KrWonQwFQAqEOTbEaAVAagF6uSvGBUDWonYy1CQGQExoL6G9hAZA0FGkBejlBkBeX9VfU0gHQPiQwq//qwdAneZr9ewQCEBPYNEwG3cIQAz+8mGK3ghA07/QiDpHCUCopWqlK7EJQIevwLddHApAc93Sv9CICkBpL6G9hPYKQGylK7F5ZQtAej9ymq/VC0CT/XR5JkcMQLjfM07euQxA6eWuGNctDUAlEObYEKMNQG1e2Y6LGQ5AwNCIOkeRDkAgZ/TbQwoPQIohHHOBhA9AAAAAAAAAEEA=\",\"dtype\":\"float64\",\"order\":\"little\",\"shape\":[100]}},\"selected\":{\"id\":\"3027\"},\"selection_policy\":{\"id\":\"3026\"}},\"id\":\"3011\",\"type\":\"ColumnDataSource\"},{\"attributes\":{\"fill_alpha\":{\"value\":0.5},\"fill_color\":{\"value\":\"midnightblue\"},\"line_color\":{\"value\":\"white\"}},\"id\":\"3008\",\"type\":\"Circle\"},{\"attributes\":{\"source\":{\"id\":\"3011\"}},\"id\":\"3016\",\"type\":\"CDSView\"},{\"attributes\":{\"label\":{\"value\":\"Observations\"},\"renderers\":[{\"id\":\"2991\"}]},\"id\":\"3004\",\"type\":\"LegendItem\"},{\"attributes\":{},\"id\":\"2995\",\"type\":\"BasicTickFormatter\"},{\"attributes\":{},\"id\":\"2969\",\"type\":\"BasicTicker\"},{\"attributes\":{},\"id\":\"2996\",\"type\":\"AllLabels\"},{\"attributes\":{},\"id\":\"3027\",\"type\":\"Selection\"},{\"attributes\":{\"axis\":{\"id\":\"2968\"},\"coordinates\":null,\"dimension\":1,\"grid_line_alpha\":0.15,\"grid_line_color\":\"#E0E0E0\",\"group\":null,\"ticker\":null},\"id\":\"2971\",\"type\":\"Grid\"},{\"attributes\":{},\"id\":\"2956\",\"type\":\"DataRange1d\"},{\"attributes\":{},\"id\":\"3026\",\"type\":\"UnionRenderers\"},{\"attributes\":{},\"id\":\"2998\",\"type\":\"BasicTickFormatter\"},{\"attributes\":{\"source\":{\"id\":\"2986\"}},\"id\":\"2992\",\"type\":\"CDSView\"},{\"attributes\":{\"fill_alpha\":{\"value\":0.5},\"fill_color\":{\"value\":\"red\"},\"hatch_alpha\":{\"value\":0.5},\"line_alpha\":{\"value\":0.5},\"line_color\":{\"value\":\"white\"},\"size\":{\"value\":10},\"x\":{\"field\":\"x\"},\"y\":{\"field\":\"y\"}},\"id\":\"2989\",\"type\":\"Circle\"},{\"attributes\":{},\"id\":\"2962\",\"type\":\"LinearScale\"},{\"attributes\":{},\"id\":\"2999\",\"type\":\"AllLabels\"},{\"attributes\":{},\"id\":\"2960\",\"type\":\"LinearScale\"},{\"attributes\":{\"axis\":{\"id\":\"2964\"},\"coordinates\":null,\"grid_line_alpha\":0.15,\"grid_line_color\":\"#E0E0E0\",\"group\":null,\"ticker\":null},\"id\":\"2967\",\"type\":\"Grid\"},{\"attributes\":{},\"id\":\"2965\",\"type\":\"BasicTicker\"},{\"attributes\":{\"label\":{\"value\":\"Trained model\"},\"renderers\":[{\"id\":\"3015\"}]},\"id\":\"3030\",\"type\":\"LegendItem\"},{\"attributes\":{\"data\":{\"x\":{\"__ndarray__\":\"W79SoNavlD8yb2dIzNu5P2WTTTbZZMM/UetXCtT6xT88Q2LezpDIPxPzdobEvM0/ejtDYt7O0D910UUXXXTRP2ApUOtXCtQ/W79SoNav1D9WVVVVVVXVP1HrVwrU+tU/TIFav1Kg1j9GF1100UXXPzxDYt7OkNg/N9lkk0022T8yb2dIzNvZPy0Fav1Kgdo/HcdxHMdx3D8YXXTRRRfdPxPzdobEvN0/CB988MEH3z998MEHH3zgP3o7Q2LezuA/d4bEvJ0h4T910UUXXXThP3BnSMzbGeI/aEjM2xkS4z9gKVDrVwrkP1gK1PqVAuU/U6DWrxSo5T9ONtlkk03mP0Ri3s6QmOc/OY7jOI7j6D832WSTTTbpPzJvZ0jM2+k/L7rooosu6j8tBWr9SoHqPypQ61cK1Oo/J5tssskm6z8iMW9nSMzrPx3HcRzHcew/Faj1KwVq7T8T83aGxLztPxA++OCDD+4/Dol5O0Ni7j8L1PqVArXuPwZq/UqBWu8/A7V+pUCt7z8AAAAAAADwPw==\",\"dtype\":\"float64\",\"order\":\"little\",\"shape\":[50]},\"y\":{\"__ndarray__\":\"GHp6CrUW8T9AYVEC8b3qPxBOMJqqWew/7RPA8dcm8D8lum90nALyP6XVP/MDc/Q/Br7Qn01R9D/ixGmuKrzxP8lrg6atpPI/TQKzpxFf9T+pORxe7YryPzAjxODikvY/n8uzEX4l8z90zba7Wi74P/v5j8LQVPk/QHDNf6Lf9j8tvBNo9KT1P/nFfg0Pafc/tKqvALwO+z+uWnPkLhL3P6AID+4wePs/a/penHDu+T9N2v90xrb/P+RiFFX9e/4/jluasLQi/z9rbQOeSdL8P6NGgXZpcv8/+6DtfrqY/z8QgcmhJKH/Py8IZxmv+wFAcO0n4qf3AkAqsJrmASQDQEsU/gGRIwZAFHLsvXhlBUCAIy8bUmwFQDVtHkh2YQdALASt8n99CUBnXXPIUo0HQKnKy73QYwhABMqvvnqQCkBAH/rtQngKQLq9iEHJyAtAxZDqW6WYDEB+2ZDWCRAOQGzU/zAiewxAM++eAIsiDkBQ3f2rSDMOQGDwQ2ZxAA9AZG4Iu1tTDkCBN3yMaokPQA==\",\"dtype\":\"float64\",\"order\":\"little\",\"shape\":[50]}},\"selected\":{\"id\":\"3001\"},\"selection_policy\":{\"id\":\"3000\"}},\"id\":\"2986\",\"type\":\"ColumnDataSource\"},{\"attributes\":{\"coordinates\":null,\"data_source\":{\"id\":\"3011\"},\"glyph\":{\"id\":\"3012\"},\"group\":null,\"hover_glyph\":null,\"muted_glyph\":{\"id\":\"3014\"},\"nonselection_glyph\":{\"id\":\"3013\"},\"view\":{\"id\":\"3016\"}},\"id\":\"3015\",\"type\":\"GlyphRenderer\"},{\"attributes\":{\"tools\":[{\"id\":\"2972\"},{\"id\":\"2973\"},{\"id\":\"2974\"},{\"id\":\"2975\"},{\"id\":\"2976\"},{\"id\":\"2977\"},{\"id\":\"3005\"},{\"id\":\"3009\"}]},\"id\":\"2979\",\"type\":\"Toolbar\"},{\"attributes\":{\"fill_alpha\":{\"value\":0.2},\"fill_color\":{\"value\":\"midnightblue\"},\"hatch_alpha\":{\"value\":0.2},\"line_alpha\":{\"value\":0.2},\"line_color\":{\"value\":\"white\"},\"size\":{\"value\":10},\"x\":{\"field\":\"x\"},\"y\":{\"field\":\"y\"}},\"id\":\"2990\",\"type\":\"Circle\"},{\"attributes\":{\"line_alpha\":0.6,\"line_color\":\"red\",\"line_width\":6,\"x\":{\"field\":\"x\"},\"y\":{\"field\":\"y\"}},\"id\":\"3012\",\"type\":\"Line\"},{\"attributes\":{\"line_alpha\":0.2,\"line_color\":\"red\",\"line_width\":6,\"x\":{\"field\":\"x\"},\"y\":{\"field\":\"y\"}},\"id\":\"3014\",\"type\":\"Line\"},{\"attributes\":{},\"id\":\"3000\",\"type\":\"UnionRenderers\"},{\"attributes\":{\"bottom_units\":\"screen\",\"coordinates\":null,\"fill_alpha\":0.5,\"fill_color\":\"lightgrey\",\"group\":null,\"left_units\":\"screen\",\"level\":\"overlay\",\"line_alpha\":1.0,\"line_color\":\"black\",\"line_dash\":[4,4],\"line_width\":2,\"right_units\":\"screen\",\"syncable\":false,\"top_units\":\"screen\"},\"id\":\"2978\",\"type\":\"BoxAnnotation\"},{\"attributes\":{\"background_fill_alpha\":0.9,\"background_fill_color\":\"#0f0f0f\",\"below\":[{\"id\":\"2964\"}],\"border_fill_alpha\":0.8,\"border_fill_color\":\"#111111\",\"center\":[{\"id\":\"2967\"},{\"id\":\"2971\"},{\"id\":\"3003\"}],\"height\":450,\"left\":[{\"id\":\"2968\"}],\"outline_line_alpha\":0.25,\"outline_line_color\":\"#E0E0E0\",\"outline_line_width\":3,\"renderers\":[{\"id\":\"2991\"},{\"id\":\"3015\"}],\"title\":{\"id\":\"2954\"},\"toolbar\":{\"id\":\"2979\"},\"toolbar_location\":null,\"x_range\":{\"id\":\"2956\"},\"x_scale\":{\"id\":\"2960\"},\"y_range\":{\"id\":\"2958\"},\"y_scale\":{\"id\":\"2962\"}},\"id\":\"2953\",\"subtype\":\"Figure\",\"type\":\"Plot\"},{\"attributes\":{\"children\":[{\"id\":\"3032\"},{\"id\":\"2953\"},{\"id\":\"3059\"}],\"margin\":[0,0,0,0],\"name\":\"Row00184\"},\"id\":\"3031\",\"type\":\"Row\"},{\"attributes\":{\"margin\":[5,5,5,5],\"name\":\"HSpacer00181\",\"sizing_mode\":\"stretch_width\"},\"id\":\"3059\",\"type\":\"Spacer\"},{\"attributes\":{\"margin\":[5,5,5,5],\"name\":\"HSpacer00180\",\"sizing_mode\":\"stretch_width\"},\"id\":\"3032\",\"type\":\"Spacer\"},{\"attributes\":{},\"id\":\"3001\",\"type\":\"Selection\"},{\"attributes\":{},\"id\":\"2976\",\"type\":\"ResetTool\"},{\"attributes\":{\"fill_alpha\":{\"value\":0.25},\"fill_color\":{\"value\":\"midnightblue\"},\"hatch_alpha\":{\"value\":0.25},\"line_alpha\":{\"value\":0.25},\"line_color\":{\"value\":\"white\"},\"size\":{\"value\":10},\"x\":{\"field\":\"x\"},\"y\":{\"field\":\"y\"}},\"id\":\"2987\",\"type\":\"Circle\"},{\"attributes\":{},\"id\":\"2975\",\"type\":\"SaveTool\"},{\"attributes\":{\"bottom_units\":\"screen\",\"coordinates\":null,\"fill_alpha\":0.5,\"fill_color\":\"lightgrey\",\"group\":null,\"left_units\":\"screen\",\"level\":\"overlay\",\"line_alpha\":1.0,\"line_color\":\"black\",\"line_dash\":[4,4],\"line_width\":2,\"right_units\":\"screen\",\"syncable\":false,\"top_units\":\"screen\"},\"id\":\"3029\",\"type\":\"BoxAnnotation\"},{\"attributes\":{\"overlay\":{\"id\":\"2978\"}},\"id\":\"2974\",\"type\":\"BoxZoomTool\"},{\"attributes\":{},\"id\":\"2972\",\"type\":\"PanTool\"},{\"attributes\":{},\"id\":\"2973\",\"type\":\"WheelZoomTool\"},{\"attributes\":{\"client_comm_id\":\"6aae72a0bb0b4c019e199715a9228ae0\",\"comm_id\":\"aab5f58f2bab4fe0be3de22e5581a483\",\"plot_id\":\"3031\"},\"id\":\"3099\",\"type\":\"panel.models.comm_manager.CommManager\"},{\"attributes\":{\"fill_alpha\":{\"value\":0.8},\"fill_color\":{\"value\":\"red\"},\"line_color\":{\"value\":\"white\"}},\"id\":\"3007\",\"type\":\"Circle\"},{\"attributes\":{},\"id\":\"2977\",\"type\":\"HelpTool\"},{\"attributes\":{\"mode\":\"append\",\"overlay\":{\"id\":\"3029\"},\"renderers\":[{\"id\":\"2991\"}]},\"id\":\"3009\",\"type\":\"BoxSelectTool\"},{\"attributes\":{\"callback\":null,\"mode\":\"vline\",\"renderers\":[{\"id\":\"2991\"}],\"tooltips\":null},\"id\":\"3005\",\"type\":\"HoverTool\"},{\"attributes\":{\"coordinates\":null,\"data_source\":{\"id\":\"2986\"},\"glyph\":{\"id\":\"2987\"},\"group\":null,\"hover_glyph\":{\"id\":\"2989\"},\"muted_glyph\":{\"id\":\"2990\"},\"nonselection_glyph\":{\"id\":\"3008\"},\"selection_glyph\":{\"id\":\"3007\"},\"view\":{\"id\":\"2992\"}},\"id\":\"2991\",\"type\":\"GlyphRenderer\"}],\"root_ids\":[\"3031\",\"3099\"]},\"title\":\"Bokeh Application\",\"version\":\"2.4.3\"}};\n",
       "    var render_items = [{\"docid\":\"99fec7b0-65d2-446e-9eb2-2355c4317dde\",\"root_ids\":[\"3031\"],\"roots\":{\"3031\":\"c5d3bc9a-424e-4a9f-b611-a453d4ac9e39\"}}];\n",
       "    root.Bokeh.embed.embed_items_notebook(docs_json, render_items);\n",
       "    for (const render_item of render_items) {\n",
       "      for (const root_id of render_item.root_ids) {\n",
       "\tconst id_el = document.getElementById(root_id)\n",
       "\tif (id_el.children.length && (id_el.children[0].className === 'bk-root')) {\n",
       "\t  const root_el = id_el.children[0]\n",
       "\t  root_el.id = root_el.id + '-rendered'\n",
       "\t}\n",
       "      }\n",
       "    }\n",
       "  }\n",
       "  if (root.Bokeh !== undefined && root.Bokeh.Panel !== undefined) {\n",
       "    embed_document(root);\n",
       "  } else {\n",
       "    var attempts = 0;\n",
       "    var timer = setInterval(function(root) {\n",
       "      if (root.Bokeh !== undefined && root.Bokeh.Panel !== undefined) {\n",
       "        clearInterval(timer);\n",
       "        embed_document(root);\n",
       "      } else if (document.readyState == \"complete\") {\n",
       "        attempts++;\n",
       "        if (attempts > 200) {\n",
       "          clearInterval(timer);\n",
       "          console.log(\"Bokeh: ERROR: Unable to run BokehJS code because BokehJS library is missing\");\n",
       "        }\n",
       "      }\n",
       "    }, 25, root)\n",
       "  }\n",
       "})(window);</script>"
      ],
      "text/plain": [
       "Row\n",
       "    [0] HSpacer()\n",
       "    [1] Bokeh(Figure)\n",
       "    [2] HSpacer()"
      ]
     },
     "execution_count": 26,
     "metadata": {
      "application/vnd.holoviews_exec.v0+json": {
       "id": "3031"
      }
     },
     "output_type": "execute_result"
    }
   ],
   "source": [
    "# Inference points (not observed)\n",
    "X_plot = x_plot[:, np.newaxis]\n",
    "# Predict the values\n",
    "y_plot = model.predict(X_plot)\n",
    "# Compute the error of our model at observed points\n",
    "Y_model_err = np.sqrt(np.mean(np.square(y-model.predict(X))))\n",
    "print(f'Model error : {Y_model_err}')\n",
    "# Plot the result\n",
    "p = scatter(x, y, title=\"Training a scikit-learn model\")\n",
    "p.line(x_plot, poly(x_plot), line_width=6, line_alpha=0.6, color=\"red\", legend_label=r\"Trained model\")\n",
    "plot = (center_plot(p))\n",
    "plot"
   ]
  },
  {
   "cell_type": "code",
   "execution_count": 27,
   "metadata": {
    "tags": []
   },
   "outputs": [],
   "source": [
    "from cml.tasks import RegressionPolynomialSolver\n",
    "explorer = RegressionPolynomialSolver()"
   ]
  },
  {
   "cell_type": "code",
   "execution_count": 28,
   "metadata": {
    "tags": []
   },
   "outputs": [
    {
     "data": {},
     "metadata": {},
     "output_type": "display_data"
    },
    {
     "data": {
      "application/vnd.holoviews_exec.v0+json": "",
      "text/html": [
       "<div id='3229'>\n",
       "  <div class=\"bk-root\" id=\"833cc8af-2742-45b0-a6d7-22cfa5b5548d\" data-root-id=\"3229\"></div>\n",
       "</div>\n",
       "<script type=\"application/javascript\">(function(root) {\n",
       "  function embed_document(root) {\n",
       "    var docs_json = {\"89a72ed0-c13e-43a3-ba1a-3b0425a4b213\":{\"defs\":[{\"extends\":null,\"module\":null,\"name\":\"ReactiveHTML1\",\"overrides\":[],\"properties\":[]},{\"extends\":null,\"module\":null,\"name\":\"FlexBox1\",\"overrides\":[],\"properties\":[{\"default\":\"flex-start\",\"kind\":null,\"name\":\"align_content\"},{\"default\":\"flex-start\",\"kind\":null,\"name\":\"align_items\"},{\"default\":\"row\",\"kind\":null,\"name\":\"flex_direction\"},{\"default\":\"wrap\",\"kind\":null,\"name\":\"flex_wrap\"},{\"default\":\"flex-start\",\"kind\":null,\"name\":\"justify_content\"}]},{\"extends\":null,\"module\":null,\"name\":\"GridStack1\",\"overrides\":[],\"properties\":[{\"default\":\"warn\",\"kind\":null,\"name\":\"mode\"},{\"default\":null,\"kind\":null,\"name\":\"ncols\"},{\"default\":null,\"kind\":null,\"name\":\"nrows\"},{\"default\":true,\"kind\":null,\"name\":\"allow_resize\"},{\"default\":true,\"kind\":null,\"name\":\"allow_drag\"},{\"default\":[],\"kind\":null,\"name\":\"state\"}]},{\"extends\":null,\"module\":null,\"name\":\"click1\",\"overrides\":[],\"properties\":[{\"default\":\"\",\"kind\":null,\"name\":\"terminal_output\"},{\"default\":\"\",\"kind\":null,\"name\":\"debug_name\"},{\"default\":0,\"kind\":null,\"name\":\"clears\"}]},{\"extends\":null,\"module\":null,\"name\":\"NotificationAreaBase1\",\"overrides\":[],\"properties\":[{\"default\":\"bottom-right\",\"kind\":null,\"name\":\"position\"},{\"default\":0,\"kind\":null,\"name\":\"_clear\"}]},{\"extends\":null,\"module\":null,\"name\":\"NotificationArea1\",\"overrides\":[],\"properties\":[{\"default\":[],\"kind\":null,\"name\":\"notifications\"},{\"default\":\"bottom-right\",\"kind\":null,\"name\":\"position\"},{\"default\":0,\"kind\":null,\"name\":\"_clear\"},{\"default\":[{\"background\":\"#ffc107\",\"icon\":{\"className\":\"fas fa-exclamation-triangle\",\"color\":\"white\",\"tagName\":\"i\"},\"type\":\"warning\"},{\"background\":\"#007bff\",\"icon\":{\"className\":\"fas fa-info-circle\",\"color\":\"white\",\"tagName\":\"i\"},\"type\":\"info\"}],\"kind\":null,\"name\":\"types\"}]},{\"extends\":null,\"module\":null,\"name\":\"Notification\",\"overrides\":[],\"properties\":[{\"default\":null,\"kind\":null,\"name\":\"background\"},{\"default\":3000,\"kind\":null,\"name\":\"duration\"},{\"default\":null,\"kind\":null,\"name\":\"icon\"},{\"default\":\"\",\"kind\":null,\"name\":\"message\"},{\"default\":null,\"kind\":null,\"name\":\"notification_type\"},{\"default\":false,\"kind\":null,\"name\":\"_destroyed\"}]},{\"extends\":null,\"module\":null,\"name\":\"TemplateActions1\",\"overrides\":[],\"properties\":[{\"default\":0,\"kind\":null,\"name\":\"open_modal\"},{\"default\":0,\"kind\":null,\"name\":\"close_modal\"}]},{\"extends\":null,\"module\":null,\"name\":\"MaterialTemplateActions1\",\"overrides\":[],\"properties\":[{\"default\":0,\"kind\":null,\"name\":\"open_modal\"},{\"default\":0,\"kind\":null,\"name\":\"close_modal\"}]}],\"roots\":{\"references\":[{\"attributes\":{},\"id\":\"3172\",\"type\":\"LinearScale\"},{\"attributes\":{},\"id\":\"3185\",\"type\":\"WheelZoomTool\"},{\"attributes\":{},\"id\":\"3184\",\"type\":\"PanTool\"},{\"attributes\":{},\"id\":\"3254\",\"type\":\"Selection\"},{\"attributes\":{\"overlay\":{\"id\":\"3190\"}},\"id\":\"3186\",\"type\":\"BoxZoomTool\"},{\"attributes\":{},\"id\":\"3187\",\"type\":\"SaveTool\"},{\"attributes\":{},\"id\":\"3181\",\"type\":\"BasicTicker\"},{\"attributes\":{},\"id\":\"3188\",\"type\":\"ResetTool\"},{\"attributes\":{},\"id\":\"3213\",\"type\":\"Selection\"},{\"attributes\":{\"fill_alpha\":{\"value\":0.25},\"fill_color\":{\"value\":\"midnightblue\"},\"hatch_alpha\":{\"value\":0.25},\"line_alpha\":{\"value\":0.25},\"line_color\":{\"value\":\"white\"},\"size\":{\"value\":10},\"x\":{\"field\":\"x\"},\"y\":{\"field\":\"y\"}},\"id\":\"3199\",\"type\":\"Circle\"},{\"attributes\":{\"coordinates\":null,\"data_source\":{\"id\":\"3223\"},\"glyph\":{\"id\":\"3224\"},\"group\":null,\"hover_glyph\":null,\"muted_glyph\":{\"id\":\"3226\"},\"nonselection_glyph\":{\"id\":\"3225\"},\"view\":{\"id\":\"3228\"}},\"id\":\"3227\",\"type\":\"GlyphRenderer\"},{\"attributes\":{\"bottom_units\":\"screen\",\"coordinates\":null,\"fill_alpha\":0.5,\"fill_color\":\"lightgrey\",\"group\":null,\"left_units\":\"screen\",\"level\":\"overlay\",\"line_alpha\":1.0,\"line_color\":\"black\",\"line_dash\":[4,4],\"line_width\":2,\"right_units\":\"screen\",\"syncable\":false,\"top_units\":\"screen\"},\"id\":\"3190\",\"type\":\"BoxAnnotation\"},{\"attributes\":{\"args\":{\"bidirectional\":true,\"properties\":{\"readonly\":\"disabled\"},\"source\":{\"id\":\"3270\"},\"target\":{\"id\":\"3270\"}},\"code\":\"\\n    var value = source['readonly'];\\n    value = value;\\n    value = value;\\n    try {\\n      var property = target.properties['disabled'];\\n      if (property !== undefined) { property.validate(value); }\\n    } catch(err) {\\n      console.log('WARNING: Could not set disabled on target, raised error: ' + err);\\n      return;\\n    }\\n    try {\\n      target['disabled'] = value;\\n    } catch(err) {\\n      console.log(err)\\n    }\\n    \",\"tags\":[[140085111743888,[null,\"readonly\"],[null,\"disabled\"]]]},\"id\":\"3285\",\"type\":\"CustomJS\"},{\"attributes\":{\"source\":{\"id\":\"3198\"}},\"id\":\"3204\",\"type\":\"CDSView\"},{\"attributes\":{\"background_fill_alpha\":0.25,\"background_fill_color\":\"#505050\",\"border_line_alpha\":0.25,\"coordinates\":null,\"group\":null,\"items\":[{\"id\":\"3216\"}],\"label_standoff\":8,\"label_text_color\":\"#E0E0E0\",\"label_text_font\":\"Josefin Sans\",\"label_text_font_size\":\"1.15em\",\"spacing\":8},\"id\":\"3215\",\"type\":\"Legend\"},{\"attributes\":{},\"id\":\"3212\",\"type\":\"UnionRenderers\"},{\"attributes\":{\"coordinates\":null,\"data_source\":{\"id\":\"3198\"},\"glyph\":{\"id\":\"3199\"},\"group\":null,\"hover_glyph\":{\"id\":\"3201\"},\"muted_glyph\":{\"id\":\"3202\"},\"nonselection_glyph\":{\"id\":\"3220\"},\"selection_glyph\":{\"id\":\"3219\"},\"view\":{\"id\":\"3204\"}},\"id\":\"3203\",\"type\":\"GlyphRenderer\"},{\"attributes\":{\"args\":{\"bidirectional\":true,\"properties\":{\"readonly\":\"disabled\"},\"source\":{\"id\":\"3270\"},\"target\":{\"id\":\"3270\"}},\"code\":\"\\n    var value = source['disabled'];\\n    value = value;\\n    value = value;\\n    try {\\n      var property = target.properties['readonly'];\\n      if (property !== undefined) { property.validate(value); }\\n    } catch(err) {\\n      console.log('WARNING: Could not set readonly on target, raised error: ' + err);\\n      return;\\n    }\\n    try {\\n      target['readonly'] = value;\\n    } catch(err) {\\n      console.log(err)\\n    }\\n    \",\"tags\":[[140085111743888,[null,\"readonly\"],[null,\"disabled\"]]]},\"id\":\"3286\",\"type\":\"CustomJS\"},{\"attributes\":{\"axis_label\":\"$$\\\\color{white} x$$\",\"axis_label_standoff\":10,\"axis_label_text_color\":\"#FFFFFF\",\"axis_label_text_font\":\"Josefin Sans\",\"axis_label_text_font_size\":\"1.9em\",\"axis_label_text_font_style\":\"bold\",\"axis_line_alpha\":0.4,\"axis_line_color\":\"#E0E0E0\",\"coordinates\":null,\"formatter\":{\"id\":\"3210\"},\"group\":null,\"major_label_policy\":{\"id\":\"3211\"},\"major_label_text_color\":\"#E0E0E0\",\"major_label_text_font\":\"Josefin Sans\",\"major_label_text_font_size\":\"1.15em\",\"major_tick_line_alpha\":0.4,\"major_tick_line_color\":\"#E0E0E0\",\"minor_tick_line_alpha\":0.4,\"minor_tick_line_color\":\"#E0E0E0\",\"ticker\":{\"id\":\"3177\"}},\"id\":\"3176\",\"type\":\"LinearAxis\"},{\"attributes\":{\"coordinates\":null,\"group\":null,\"text\":\"Polynomial regression problem\",\"text_color\":\"#E0E0E0\",\"text_font\":\"Josefin Sans\",\"text_font_size\":\"2.1em\"},\"id\":\"3166\",\"type\":\"Title\"},{\"attributes\":{\"bottom_units\":\"screen\",\"coordinates\":null,\"fill_alpha\":0.5,\"fill_color\":\"lightgrey\",\"group\":null,\"left_units\":\"screen\",\"level\":\"overlay\",\"line_alpha\":1.0,\"line_color\":\"black\",\"line_dash\":[4,4],\"line_width\":2,\"right_units\":\"screen\",\"syncable\":false,\"top_units\":\"screen\"},\"id\":\"3256\",\"type\":\"BoxAnnotation\"},{\"attributes\":{},\"id\":\"3177\",\"type\":\"BasicTicker\"},{\"attributes\":{\"tools\":[{\"id\":\"3184\"},{\"id\":\"3185\"},{\"id\":\"3186\"},{\"id\":\"3187\"},{\"id\":\"3188\"},{\"id\":\"3189\"},{\"id\":\"3217\"},{\"id\":\"3221\"}]},\"id\":\"3191\",\"type\":\"Toolbar\"},{\"attributes\":{\"background_fill_alpha\":0.9,\"background_fill_color\":\"#0f0f0f\",\"below\":[{\"id\":\"3176\"}],\"border_fill_alpha\":0.8,\"border_fill_color\":\"#111111\",\"center\":[{\"id\":\"3179\"},{\"id\":\"3183\"},{\"id\":\"3215\"}],\"height\":450,\"left\":[{\"id\":\"3180\"}],\"outline_line_alpha\":0.25,\"outline_line_color\":\"#E0E0E0\",\"outline_line_width\":3,\"renderers\":[{\"id\":\"3203\"},{\"id\":\"3227\"}],\"title\":{\"id\":\"3166\"},\"toolbar\":{\"id\":\"3191\"},\"toolbar_location\":null,\"x_range\":{\"id\":\"3168\"},\"x_scale\":{\"id\":\"3172\"},\"y_range\":{\"id\":\"3170\"},\"y_scale\":{\"id\":\"3174\"}},\"id\":\"3165\",\"subtype\":\"Figure\",\"type\":\"Plot\"},{\"attributes\":{\"data\":{\"x\":{\"__ndarray__\":\"AAAAALV+JTy1fqU8ED74PLV+JT1i3k49ED54Pd7OkD21fqU9jC66PWLezj05juM9ED74PfN2Bj7ezhA+yiYbPrV+JT6g1i8+jC46PneGRD5i3k4+TjZZPjmOYz4k5m0+ED54Pv1KgT7zdoY+6aKLPt7OkD7U+pU+yiabPr9SoD61fqU+q6qqPqDWrz6WArU+jC66PoFavz53hsQ+bbLJPmLezj5YCtQ+TjbZPkNi3j45juM+L7roPiTm7T4aEvM+ED74PgVq/T79SgE/+OADP/N2Bj/uDAk/6aILP+Q4Dj/ezhA/2WQTP9T6FT/PkBg/yiYbP8W8HT+/UiA/uugiP7V+JT+wFCg/q6oqP6VALT+g1i8/m2wyP5YCNT+RmDc/jC46P4bEPD+BWj8/fPBBP3eGRD9yHEc/bbJJP2dITD9i3k4/XXRRP1gKVD9ToFY/TjZZP0jMWz9DYl4/PvhgPzmOYz80JGY/L7poPylQaz8k5m0/H3xwPxoScz8VqHU/ED54PwrUej8Fan0/AACAPw==\",\"dtype\":\"float32\",\"order\":\"little\",\"shape\":[100]},\"y\":{\"__ndarray__\":\"IDeMP+jsbz+WJYM/l/uKP8uxfD8FqmU/PvZrP7IOgD8tbYY/x62CP2aJdT9BXoA/bD5kP4LkXj94Vns/cRZkP5Zjgj94L2w/oMl2P8LMcT9h1GM/rzt+Pwojdj8q3Gg/Lk9gPyZ6VT8ewVQ/3QpvP8PtRT8ANkw/lPFhPyK3ZT9bOEc/oQ83P3bXOT8nVjY/mm5HP60+Ij9kwEs/KNcrP1O0Kj84JRE/p8MdP54yEj8i2TE/Wd0MP7eLBz/fyxg/rf4XPxtK2j7sLuU+WWfCPtzztz7ISeA+TIP3PoRXuj7Osao+EkKcPguepD7g5ZQ+RuSKPk7ZNT5ElWI+rdgoPuQbaD6RKR0+wUcyPiLLGz765ws+fab3PfDJt7sxGIK9BsiEPL40s73X3S6+H1oSvpyODL7GUx6+q4WOvhqpnb4rA8K+6szHvjh6kL5ufKS+14T6vm8E/b4i+wG/WJUcv+11I7+2mS+/2JIcv2vUN7+t+jS/Fl03vz9pZr/lBFq/Md9Hv2DCbL9Wn4C/dJJ4vw==\",\"dtype\":\"float32\",\"order\":\"little\",\"shape\":[100]}},\"selected\":{\"id\":\"3213\"},\"selection_policy\":{\"id\":\"3212\"}},\"id\":\"3198\",\"type\":\"ColumnDataSource\"},{\"attributes\":{\"label\":{\"value\":\"Observations\"},\"renderers\":[{\"id\":\"3203\"}]},\"id\":\"3216\",\"type\":\"LegendItem\"},{\"attributes\":{\"fill_alpha\":{\"value\":0.5},\"fill_color\":{\"value\":\"red\"},\"hatch_alpha\":{\"value\":0.5},\"line_alpha\":{\"value\":0.5},\"line_color\":{\"value\":\"white\"},\"size\":{\"value\":10},\"x\":{\"field\":\"x\"},\"y\":{\"field\":\"y\"}},\"id\":\"3201\",\"type\":\"Circle\"},{\"attributes\":{\"children\":[{\"id\":\"3230\"},{\"id\":\"3231\"},{\"id\":\"3271\"}],\"margin\":[0,0,0,0],\"name\":\"Row00221\"},\"id\":\"3229\",\"type\":\"Row\"},{\"attributes\":{},\"id\":\"3207\",\"type\":\"BasicTickFormatter\"},{\"attributes\":{},\"id\":\"3208\",\"type\":\"AllLabels\"},{\"attributes\":{\"margin\":[5,5,5,5],\"name\":\"HSpacer00220\",\"sizing_mode\":\"stretch_width\"},\"id\":\"3271\",\"type\":\"Spacer\"},{\"attributes\":{\"client_comm_id\":\"a114a7afe19941a5a04a8cb38874da7a\",\"comm_id\":\"142f492cab4d4ced9376cc80a8a1dfdb\",\"plot_id\":\"3229\"},\"id\":\"3313\",\"type\":\"panel.models.comm_manager.CommManager\"},{\"attributes\":{\"margin\":[5,5,5,5],\"name\":\"HSpacer00188\",\"sizing_mode\":\"stretch_width\"},\"id\":\"3230\",\"type\":\"Spacer\"},{\"attributes\":{\"children\":[{\"id\":\"3232\"},{\"id\":\"3270\"}],\"margin\":[0,0,0,0],\"name\":\"Column00219\"},\"id\":\"3231\",\"type\":\"Column\"},{\"attributes\":{\"fill_alpha\":{\"value\":0.2},\"fill_color\":{\"value\":\"midnightblue\"},\"hatch_alpha\":{\"value\":0.2},\"line_alpha\":{\"value\":0.2},\"line_color\":{\"value\":\"white\"},\"size\":{\"value\":10},\"x\":{\"field\":\"x\"},\"y\":{\"field\":\"y\"}},\"id\":\"3202\",\"type\":\"Circle\"},{\"attributes\":{\"children\":[{\"id\":\"3234\"},{\"id\":\"3235\"},{\"id\":\"3236\"},{\"id\":\"3237\"},{\"id\":\"3238\"},{\"id\":\"3239\"},{\"id\":\"3240\"},{\"id\":\"3241\"},{\"id\":\"3242\"}],\"margin\":[5,5,5,5],\"min_width\":300,\"name\":\"Problem parameters\",\"width\":300},\"id\":\"3233\",\"type\":\"Column\"},{\"attributes\":{},\"id\":\"3210\",\"type\":\"BasicTickFormatter\"},{\"attributes\":{\"children\":[{\"id\":\"3233\"},{\"id\":\"3243\"}],\"margin\":[0,0,0,0],\"name\":\"Row00216\"},\"id\":\"3232\",\"type\":\"Row\"},{\"attributes\":{\"margin\":[5,10,5,10],\"name\":\"\",\"text\":\"<b>Problem parameters</b>\"},\"id\":\"3234\",\"type\":\"Div\"},{\"attributes\":{\"labels\":[\"Ground truth\"],\"margin\":[5,10,5,10]},\"id\":\"3237\",\"type\":\"CheckboxGroup\"},{\"attributes\":{\"labels\":[\"Error\"],\"margin\":[5,10,5,10]},\"id\":\"3238\",\"type\":\"CheckboxGroup\"},{\"attributes\":{\"end\":1000,\"margin\":[5,10,5,10],\"start\":10,\"title\":\"Number observations\",\"value\":100},\"id\":\"3235\",\"type\":\"Slider\"},{\"attributes\":{\"end\":5.0,\"margin\":[5,10,5,10],\"start\":-5.0,\"step\":0.1,\"title\":\"X 2\",\"value\":-2.0},\"id\":\"3239\",\"type\":\"Slider\"},{\"attributes\":{\"end\":5.0,\"margin\":[5,10,5,10],\"start\":0.0,\"step\":0.1,\"title\":\"Noise level\",\"value\":0.1},\"id\":\"3236\",\"type\":\"Slider\"},{\"attributes\":{},\"id\":\"3189\",\"type\":\"HelpTool\"},{\"attributes\":{\"end\":5.0,\"margin\":[5,10,5,10],\"start\":-5.0,\"step\":0.1,\"title\":\"X 0\",\"value\":1.0},\"id\":\"3241\",\"type\":\"Slider\"},{\"attributes\":{\"axis\":{\"id\":\"3180\"},\"coordinates\":null,\"dimension\":1,\"grid_line_alpha\":0.15,\"grid_line_color\":\"#E0E0E0\",\"group\":null,\"ticker\":null},\"id\":\"3183\",\"type\":\"Grid\"},{\"attributes\":{\"code\":\"def polynomial(\\n        coefficients: jnp.ndarray,\\n        n_observations: int = 100) -> [jnp.ndarray, jnp.ndarray]:\\n    x = jnp.linspace(0, 1, n_observations)\\n    y = jnp.polyval(coefficients, x)\\n    return x, \",\"filename\":\"\",\"height\":150,\"js_property_callbacks\":{\"change:disabled\":[{\"id\":\"3286\"}],\"change:readonly\":[{\"id\":\"3285\"}]},\"language\":\"python\",\"margin\":[5,10,5,10],\"sizing_mode\":\"stretch_both\",\"theme\":\"chaos\"},\"id\":\"3270\",\"type\":\"panel.models.ace.AcePlot\"},{\"attributes\":{\"line_alpha\":0.7,\"line_color\":\"red\",\"line_width\":4,\"x\":{\"field\":\"x\"},\"y\":{\"field\":\"y\"}},\"id\":\"3224\",\"type\":\"Line\"},{\"attributes\":{\"end\":30,\"margin\":[5,10,5,10],\"start\":1,\"title\":\"Degree\",\"value\":1},\"id\":\"3242\",\"type\":\"Slider\"},{\"attributes\":{\"end\":5.0,\"margin\":[5,10,5,10],\"start\":-5.0,\"step\":0.1,\"title\":\"X 1\",\"value\":0.0},\"id\":\"3240\",\"type\":\"Slider\"},{\"attributes\":{\"fill_alpha\":{\"value\":0.8},\"fill_color\":{\"value\":\"red\"},\"line_color\":{\"value\":\"white\"}},\"id\":\"3219\",\"type\":\"Circle\"},{\"attributes\":{\"source\":{\"id\":\"3223\"}},\"id\":\"3228\",\"type\":\"CDSView\"},{\"attributes\":{\"mode\":\"append\",\"overlay\":{\"id\":\"3256\"},\"renderers\":[{\"id\":\"3203\"}]},\"id\":\"3221\",\"type\":\"BoxSelectTool\"},{\"attributes\":{\"children\":[{\"id\":\"3165\"}],\"margin\":[0,0,0,0],\"name\":\"Row00213\"},\"id\":\"3243\",\"type\":\"Row\"},{\"attributes\":{\"callback\":null,\"mode\":\"vline\",\"renderers\":[{\"id\":\"3203\"}],\"tooltips\":null},\"id\":\"3217\",\"type\":\"HoverTool\"},{\"attributes\":{},\"id\":\"3174\",\"type\":\"LinearScale\"},{\"attributes\":{\"line_alpha\":0.2,\"line_color\":\"red\",\"line_width\":4,\"x\":{\"field\":\"x\"},\"y\":{\"field\":\"y\"}},\"id\":\"3226\",\"type\":\"Line\"},{\"attributes\":{\"fill_alpha\":{\"value\":0.5},\"fill_color\":{\"value\":\"midnightblue\"},\"line_color\":{\"value\":\"white\"}},\"id\":\"3220\",\"type\":\"Circle\"},{\"attributes\":{},\"id\":\"3211\",\"type\":\"AllLabels\"},{\"attributes\":{\"axis_label\":\"$$\\\\color{white} -2.0x^2 + 0.0x^1 + 1.0x^0$$\",\"axis_label_standoff\":10,\"axis_label_text_color\":\"#FFFFFF\",\"axis_label_text_font\":\"Josefin Sans\",\"axis_label_text_font_size\":\"1.9em\",\"axis_label_text_font_style\":\"bold\",\"axis_line_alpha\":0.4,\"axis_line_color\":\"#E0E0E0\",\"coordinates\":null,\"formatter\":{\"id\":\"3207\"},\"group\":null,\"major_label_policy\":{\"id\":\"3208\"},\"major_label_text_color\":\"#E0E0E0\",\"major_label_text_font\":\"Josefin Sans\",\"major_label_text_font_size\":\"1.15em\",\"major_tick_line_alpha\":0.4,\"major_tick_line_color\":\"#E0E0E0\",\"minor_tick_line_alpha\":0.4,\"minor_tick_line_color\":\"#E0E0E0\",\"ticker\":{\"id\":\"3181\"}},\"id\":\"3180\",\"type\":\"LinearAxis\"},{\"attributes\":{},\"id\":\"3170\",\"type\":\"DataRange1d\"},{\"attributes\":{\"axis\":{\"id\":\"3176\"},\"coordinates\":null,\"grid_line_alpha\":0.15,\"grid_line_color\":\"#E0E0E0\",\"group\":null,\"ticker\":null},\"id\":\"3179\",\"type\":\"Grid\"},{\"attributes\":{},\"id\":\"3168\",\"type\":\"DataRange1d\"},{\"attributes\":{\"line_alpha\":0.1,\"line_color\":\"red\",\"line_width\":4,\"x\":{\"field\":\"x\"},\"y\":{\"field\":\"y\"}},\"id\":\"3225\",\"type\":\"Line\"},{\"attributes\":{\"data\":{\"x\":{\"__ndarray__\":\"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\",\"dtype\":\"float64\",\"order\":\"little\",\"shape\":[200]},\"y\":{\"__ndarray__\":\"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\",\"dtype\":\"float64\",\"order\":\"little\",\"shape\":[200]}},\"selected\":{\"id\":\"3254\"},\"selection_policy\":{\"id\":\"3253\"}},\"id\":\"3223\",\"type\":\"ColumnDataSource\"},{\"attributes\":{},\"id\":\"3253\",\"type\":\"UnionRenderers\"}],\"root_ids\":[\"3229\",\"3313\"]},\"title\":\"Bokeh Application\",\"version\":\"2.4.3\"}};\n",
       "    var render_items = [{\"docid\":\"89a72ed0-c13e-43a3-ba1a-3b0425a4b213\",\"root_ids\":[\"3229\"],\"roots\":{\"3229\":\"833cc8af-2742-45b0-a6d7-22cfa5b5548d\"}}];\n",
       "    root.Bokeh.embed.embed_items_notebook(docs_json, render_items);\n",
       "    for (const render_item of render_items) {\n",
       "      for (const root_id of render_item.root_ids) {\n",
       "\tconst id_el = document.getElementById(root_id)\n",
       "\tif (id_el.children.length && (id_el.children[0].className === 'bk-root')) {\n",
       "\t  const root_el = id_el.children[0]\n",
       "\t  root_el.id = root_el.id + '-rendered'\n",
       "\t}\n",
       "      }\n",
       "    }\n",
       "  }\n",
       "  if (root.Bokeh !== undefined && root.Bokeh.Panel !== undefined) {\n",
       "    embed_document(root);\n",
       "  } else {\n",
       "    var attempts = 0;\n",
       "    var timer = setInterval(function(root) {\n",
       "      if (root.Bokeh !== undefined && root.Bokeh.Panel !== undefined) {\n",
       "        clearInterval(timer);\n",
       "        embed_document(root);\n",
       "      } else if (document.readyState == \"complete\") {\n",
       "        attempts++;\n",
       "        if (attempts > 200) {\n",
       "          clearInterval(timer);\n",
       "          console.log(\"Bokeh: ERROR: Unable to run BokehJS code because BokehJS library is missing\");\n",
       "        }\n",
       "      }\n",
       "    }, 25, root)\n",
       "  }\n",
       "})(window);</script>"
      ],
      "text/plain": [
       "Row\n",
       "    [0] HSpacer()\n",
       "    [1] Column\n",
       "        [0] Row\n",
       "            [0] Param(RegressionPolynomialSolver, name='Problem parameters', widgets={})\n",
       "            [1] ParamMethod(method, _pane=Bokeh)\n",
       "        [1] Ace(height=150, language='python', sizing_mode='stretch_both', theme='chaos', value='def polynomial(\\n        ...)\n",
       "    [2] HSpacer()"
      ]
     },
     "execution_count": 28,
     "metadata": {
      "application/vnd.holoviews_exec.v0+json": {
       "id": "3229"
      }
     },
     "output_type": "execute_result"
    }
   ],
   "source": [
    "def solve(x, y, degree):\n",
    "    X = x[:, np.newaxis]\n",
    "    # Create our polynomial model for regression\n",
    "    model = make_pipeline(PolynomialFeatures(degree), LinearRegression())\n",
    "    # Fit the parameters of this model\n",
    "    model.fit(X, y)\n",
    "    # Predict the values\n",
    "    x_predict = np.linspace(np.min(x), np.max(x), 200)[:, np.newaxis]\n",
    "    y_model = model.predict(x_predict)\n",
    "    return x_predict[:, 0], y_model #np.array(jnp.zeros(y_model.shape))\n",
    "\n",
    "explorer.solve = solve\n",
    "explorer.render()"
   ]
  },
  {
   "cell_type": "markdown",
   "metadata": {},
   "source": [
    "<a id=\"linear\"></a>\n",
    "# Simple linear regression \n",
    "\n",
    "As discussed previously, regression allows to model the relationships that exist between inputs $\\mathbf{x}\\in\\mathbb{R}^{n}$ and a continuous output $y\\in\\mathbb{R}$. In the case of **linear** regression, we assume that the data that we observe comes from a linear relationship in the input, so that\n",
    "$$y = w_0 + w_1x_1 + w_2x_2 + ... + w_nx_n + \\epsilon$$\n",
    "with $\\epsilon$ exhibiting the *observation noise* (also called *residual error*) that is always present in measurements.\n",
    "\n",
    "To understand how we could learn a model approximating this relationship, we start with the case of *simple* linear regression, where $\\mathbf{x}\\in\\mathbb{R}$. This implies that our model will follow\n",
    "$$\\bar{y} = w_0 + w_1 x$$\n",
    "\n",
    "We will measure the errors made by our model by using the Mean Squared Error (MSE) loss, defined as \n",
    "$$\\mathcal{L}_{MSE}\\left( \\bar{\\mathbf{y}},\\theta \\right) = \\sum_{i=1}^{n} \\left| y_{i} - \\bar{y}_{i} \\right|^{2} = \\sum_{i=1}^{n} \\left| y_{i} - (w_{0} + w_{1} x_{i}) \\right|^{2}$$\n",
    "\n",
    "Then our goal is to find the most adequate set of parameters $\\theta = \\{w_{0}, w_{1}\\}$, which are those that minimize the MSE loss defined previously. Therefore, we aim to obtain\n",
    "$$\\theta^{*}= \\underset{\\theta}{\\text{argmin }} \\mathcal{L}\\left( \\bar{\\mathbf{y}}, \\mathbf{y} \\mid f_{\\theta}, \\theta \\right)$$\n",
    "\n",
    "To do so, we will implement the **gradient descent** algorithm discussed in the course.\n",
    "\n",
    "## Manual implementation - `NumPy`\n",
    "\n",
    "We start by performing a *full manual implementation*, in the sense that we need to manually derive the gradient in order to apply the gradient descent updates. To do so, we will rely on [NumPy](https://numpy.org/), which is a fundamental library for numerical computing offering support for N-dimensional arrays and scientific computing tasks, such as linear algebra, statistical analysis, and matrix manipulation. We strongly encourage you to learn NumPy through the set of [tutorials](https://numpy.org/learn/). For the sake of this introductory tutorial, we will provide the explanation for all of the functions that we will use in this first exercise. After that exercise, we will assume for the rest of the course that knowledge of Numpy should be found online. \n",
    "\n",
    "We start by import libraries (`NumPy`) and set a random seed to ensure that the random number generator produces always a reproducible series of random numbers.\n",
    "\n",
    "**Used functions**\n",
    "- `np.random.seed`: sets the seed for the NumPy random number generator. [Documentation](https://numpy.org/doc/stable/reference/random/generated/numpy.random.seed.html)"
   ]
  },
  {
   "cell_type": "code",
   "execution_count": 29,
   "metadata": {
    "tags": []
   },
   "outputs": [],
   "source": [
    "import numpy as np\n",
    "np.random.seed(42)"
   ]
  },
  {
   "cell_type": "code",
   "execution_count": null,
   "metadata": {},
   "outputs": [],
   "source": []
  },
  {
   "cell_type": "markdown",
   "metadata": {},
   "source": [
    "### Generate a synthetic dataset.\n",
    "\n",
    "For the sake of this exercise, we will generate the data ourselves, so that we know the true values that we are looking for in advance. Hence, we define a linear relationship following\n",
    "$$y = w^{t}_0 + w^{t}_1 x + \\epsilon$$\n",
    "\n",
    "**Used functions**\n",
    "- `np.random.rand`: generates an array of random numbers uniformly distributed over [0, 1). [Documentation](https://numpy.org/doc/stable/reference/random/generated/numpy.random.rand.html)\n",
    "- `np.random.randn`: generates an array of random numbers from the standard normal distribution (mean 0, variance 1). [Documentation](https://numpy.org/doc/stable/reference/random/generated/numpy.random.randn.html)\n",
    "- `np.ones`: generates an array of ones with a specified shape. [Documentation](https://numpy.org/doc/stable/reference/generated/numpy.ones.html)\n",
    "- `np.c_`: concatenates arrays along the second axis. [Documentation](https://numpy.org/doc/stable/reference/generated/numpy.c_.html)"
   ]
  },
  {
   "cell_type": "code",
   "execution_count": 30,
   "metadata": {
    "tags": []
   },
   "outputs": [],
   "source": [
    "true_w0 = 2\n",
    "true_w1 = 3\n",
    "x_min = 0\n",
    "x_max = 1\n",
    "n_obs = 100\n",
    "x = np.linspace(x_min, x_max, n_obs)\n",
    "y = true_w1 * x + true_w0"
   ]
  },
  {
   "cell_type": "markdown",
   "metadata": {},
   "source": [
    "### Computing the MSE loss\n",
    "\n",
    "We will measure the errors made by our model by using the Mean Squared Error (MSE) loss, defined as \n",
    "$$\\mathcal{L}_{MSE}\\left( \\bar{\\mathbf{y}},\\theta \\right) = \\sum_{i=1}^{n} \\left| y_{i} - \\bar{y}_{i} \\right|^{2} = \\sum_{i=1}^{n} \\left| y_{i} - (w_{0} + w_{1} x_{i}) \\right|^{2}$$\n",
    "\n",
    "This will allow us to evaluate the performances of our model, but is also the basis for the following gradient descent algorithm.\n",
    "\n",
    "**Used functions**\n",
    "- `np.sum`: computes the sum of the provided array (optionally across a provided `axis`). [Documentation](https://numpy.org/doc/stable/reference/generated/numpy.mean.html)"
   ]
  },
  {
   "cell_type": "code",
   "execution_count": 31,
   "metadata": {
    "tags": []
   },
   "outputs": [],
   "source": [
    "def mse_loss(y, y_bar):\n",
    "    return np.sum((y - y_bar) ** 2)"
   ]
  },
  {
   "cell_type": "markdown",
   "metadata": {},
   "source": [
    "### Implement the gradient descent algorithm.\n",
    "\n",
    "As seen in the course Initialize the weight $w_1$ and bias $w_0$ to small random values\n",
    "1. Evaluate the predictions made by our model \n",
    "$$\\hat{y} = w_{1}x + w_0$$\n",
    "2. Compute the mean squared error (MSE) loss between the predicted values and the ground truth labels: \n",
    "$$\\mathcal{L}_{MSE} = \\frac{1}{n} \\sum_{i=1}^n (\\bar{y_i} - y_i)^2$$\n",
    "3. Compute the gradients of the loss with respect to the weight and bias (see derivation in the course)\n",
    "$$\\frac{\\partial \\mathcal{L}}{\\partial w_1} = \\sum_{i} 2 * (\\bar{y}_{i} - y_{i})*x_{i}$$\n",
    "$$\\frac{\\partial \\mathcal{L}}{\\partial w_0} = \\sum_{i} 2 * (\\bar{y}_{i} - y_{i})$$\n",
    "4. Update the weights and bias using the gradients and a learning rate $\\eta$: \n",
    "$$w_1 \\leftarrow w_1 - \\eta \\frac{\\partial \\mathcal{L}}{\\partial w_1}$$ \n",
    "$$w_0 \\leftarrow w_0 - \\eta \\frac{\\partial \\mathcal{L}}{\\partial w_0}$$"
   ]
  },
  {
   "cell_type": "code",
   "execution_count": 32,
   "metadata": {
    "tags": []
   },
   "outputs": [
    {
     "name": "stdout",
     "output_type": "stream",
     "text": [
      "2.999998555356199\n",
      "2.0000007742340746\n"
     ]
    }
   ],
   "source": [
    "# Parameters\n",
    "n_iter = 1000\n",
    "lr = 0.001\n",
    "def gradient_descent(x, y, n_iter, lr):\n",
    "    # Initialize the parameters\n",
    "    w_1 = np.random.randn()\n",
    "    w_0 = np.random.randn()\n",
    "    # Perform gradient descent\n",
    "    for i in range(n_iter):\n",
    "        # 1. Calculate the predictions\n",
    "        y_bar = w_1 * x + w_0\n",
    "        # 2. Compute the loss\n",
    "        loss = mse_loss(y, y_bar)\n",
    "        # 3. Calculate the gradients\n",
    "        dw_1 = 2 * np.sum((y_bar - y) * x)\n",
    "        dw_0 = 2 * np.sum((y_bar - y))\n",
    "        # 4. Update the parameters\n",
    "        w_1 -= lr * dw_1\n",
    "        w_0 -= lr * dw_0\n",
    "    return w_1, w_0\n",
    "w_1, w_0 = gradient_descent(x, y, n_iter, lr)\n",
    "print(w_1)\n",
    "print(w_0)"
   ]
  },
  {
   "cell_type": "markdown",
   "metadata": {},
   "source": [
    "### Visualize the results.\n",
    "\n",
    "We can see how well our model fits to the observed data by plotting it against the observed samples."
   ]
  },
  {
   "cell_type": "code",
   "execution_count": 33,
   "metadata": {
    "tags": []
   },
   "outputs": [
    {
     "data": {},
     "metadata": {},
     "output_type": "display_data"
    },
    {
     "data": {
      "application/vnd.holoviews_exec.v0+json": "",
      "text/html": [
       "<div id='3457'>\n",
       "  <div class=\"bk-root\" id=\"0fa69107-111d-4d0e-b088-d1e915d2412e\" data-root-id=\"3457\"></div>\n",
       "</div>\n",
       "<script type=\"application/javascript\">(function(root) {\n",
       "  function embed_document(root) {\n",
       "    var docs_json = {\"27303c2f-b91a-495a-ac36-2a63f0090aaf\":{\"defs\":[{\"extends\":null,\"module\":null,\"name\":\"ReactiveHTML1\",\"overrides\":[],\"properties\":[]},{\"extends\":null,\"module\":null,\"name\":\"FlexBox1\",\"overrides\":[],\"properties\":[{\"default\":\"flex-start\",\"kind\":null,\"name\":\"align_content\"},{\"default\":\"flex-start\",\"kind\":null,\"name\":\"align_items\"},{\"default\":\"row\",\"kind\":null,\"name\":\"flex_direction\"},{\"default\":\"wrap\",\"kind\":null,\"name\":\"flex_wrap\"},{\"default\":\"flex-start\",\"kind\":null,\"name\":\"justify_content\"}]},{\"extends\":null,\"module\":null,\"name\":\"GridStack1\",\"overrides\":[],\"properties\":[{\"default\":\"warn\",\"kind\":null,\"name\":\"mode\"},{\"default\":null,\"kind\":null,\"name\":\"ncols\"},{\"default\":null,\"kind\":null,\"name\":\"nrows\"},{\"default\":true,\"kind\":null,\"name\":\"allow_resize\"},{\"default\":true,\"kind\":null,\"name\":\"allow_drag\"},{\"default\":[],\"kind\":null,\"name\":\"state\"}]},{\"extends\":null,\"module\":null,\"name\":\"click1\",\"overrides\":[],\"properties\":[{\"default\":\"\",\"kind\":null,\"name\":\"terminal_output\"},{\"default\":\"\",\"kind\":null,\"name\":\"debug_name\"},{\"default\":0,\"kind\":null,\"name\":\"clears\"}]},{\"extends\":null,\"module\":null,\"name\":\"NotificationAreaBase1\",\"overrides\":[],\"properties\":[{\"default\":\"bottom-right\",\"kind\":null,\"name\":\"position\"},{\"default\":0,\"kind\":null,\"name\":\"_clear\"}]},{\"extends\":null,\"module\":null,\"name\":\"NotificationArea1\",\"overrides\":[],\"properties\":[{\"default\":[],\"kind\":null,\"name\":\"notifications\"},{\"default\":\"bottom-right\",\"kind\":null,\"name\":\"position\"},{\"default\":0,\"kind\":null,\"name\":\"_clear\"},{\"default\":[{\"background\":\"#ffc107\",\"icon\":{\"className\":\"fas fa-exclamation-triangle\",\"color\":\"white\",\"tagName\":\"i\"},\"type\":\"warning\"},{\"background\":\"#007bff\",\"icon\":{\"className\":\"fas fa-info-circle\",\"color\":\"white\",\"tagName\":\"i\"},\"type\":\"info\"}],\"kind\":null,\"name\":\"types\"}]},{\"extends\":null,\"module\":null,\"name\":\"Notification\",\"overrides\":[],\"properties\":[{\"default\":null,\"kind\":null,\"name\":\"background\"},{\"default\":3000,\"kind\":null,\"name\":\"duration\"},{\"default\":null,\"kind\":null,\"name\":\"icon\"},{\"default\":\"\",\"kind\":null,\"name\":\"message\"},{\"default\":null,\"kind\":null,\"name\":\"notification_type\"},{\"default\":false,\"kind\":null,\"name\":\"_destroyed\"}]},{\"extends\":null,\"module\":null,\"name\":\"TemplateActions1\",\"overrides\":[],\"properties\":[{\"default\":0,\"kind\":null,\"name\":\"open_modal\"},{\"default\":0,\"kind\":null,\"name\":\"close_modal\"}]},{\"extends\":null,\"module\":null,\"name\":\"MaterialTemplateActions1\",\"overrides\":[],\"properties\":[{\"default\":0,\"kind\":null,\"name\":\"open_modal\"},{\"default\":0,\"kind\":null,\"name\":\"close_modal\"}]}],\"roots\":{\"references\":[{\"attributes\":{\"coordinates\":null,\"group\":null,\"text\":\"Simple linear regression\",\"text_color\":\"#E0E0E0\",\"text_font\":\"Josefin Sans\",\"text_font_size\":\"2.1em\"},\"id\":\"3380\",\"type\":\"Title\"},{\"attributes\":{},\"id\":\"3426\",\"type\":\"UnionRenderers\"},{\"attributes\":{},\"id\":\"3401\",\"type\":\"SaveTool\"},{\"attributes\":{\"background_fill_alpha\":0.9,\"background_fill_color\":\"#0f0f0f\",\"below\":[{\"id\":\"3390\"}],\"border_fill_alpha\":0.8,\"border_fill_color\":\"#111111\",\"center\":[{\"id\":\"3393\"},{\"id\":\"3397\"},{\"id\":\"3429\"}],\"height\":450,\"left\":[{\"id\":\"3394\"}],\"outline_line_alpha\":0.25,\"outline_line_color\":\"#E0E0E0\",\"outline_line_width\":3,\"renderers\":[{\"id\":\"3417\"},{\"id\":\"3441\"}],\"title\":{\"id\":\"3380\"},\"toolbar\":{\"id\":\"3405\"},\"toolbar_location\":null,\"x_range\":{\"id\":\"3382\"},\"x_scale\":{\"id\":\"3386\"},\"y_range\":{\"id\":\"3384\"},\"y_scale\":{\"id\":\"3388\"}},\"id\":\"3379\",\"subtype\":\"Figure\",\"type\":\"Plot\"},{\"attributes\":{},\"id\":\"3382\",\"type\":\"DataRange1d\"},{\"attributes\":{\"tools\":[{\"id\":\"3398\"},{\"id\":\"3399\"},{\"id\":\"3400\"},{\"id\":\"3401\"},{\"id\":\"3402\"},{\"id\":\"3403\"},{\"id\":\"3431\"},{\"id\":\"3435\"}]},\"id\":\"3405\",\"type\":\"Toolbar\"},{\"attributes\":{\"axis_label\":\"y\",\"axis_label_standoff\":10,\"axis_label_text_color\":\"#FFFFFF\",\"axis_label_text_font\":\"Josefin Sans\",\"axis_label_text_font_size\":\"1.9em\",\"axis_label_text_font_style\":\"bold\",\"axis_line_alpha\":0.4,\"axis_line_color\":\"#E0E0E0\",\"coordinates\":null,\"formatter\":{\"id\":\"3421\"},\"group\":null,\"major_label_policy\":{\"id\":\"3422\"},\"major_label_text_color\":\"#E0E0E0\",\"major_label_text_font\":\"Josefin Sans\",\"major_label_text_font_size\":\"1.15em\",\"major_tick_line_alpha\":0.4,\"major_tick_line_color\":\"#E0E0E0\",\"minor_tick_line_alpha\":0.4,\"minor_tick_line_color\":\"#E0E0E0\",\"ticker\":{\"id\":\"3395\"}},\"id\":\"3394\",\"type\":\"LinearAxis\"},{\"attributes\":{\"label\":{\"value\":\"Learned model\"},\"renderers\":[{\"id\":\"3441\"}]},\"id\":\"3456\",\"type\":\"LegendItem\"},{\"attributes\":{},\"id\":\"3403\",\"type\":\"HelpTool\"},{\"attributes\":{\"overlay\":{\"id\":\"3404\"}},\"id\":\"3400\",\"type\":\"BoxZoomTool\"},{\"attributes\":{\"line_alpha\":0.6,\"line_color\":\"red\",\"line_width\":6,\"x\":{\"field\":\"x\"},\"y\":{\"field\":\"y\"}},\"id\":\"3438\",\"type\":\"Line\"},{\"attributes\":{\"line_alpha\":0.1,\"line_color\":\"red\",\"line_width\":6,\"x\":{\"field\":\"x\"},\"y\":{\"field\":\"y\"}},\"id\":\"3439\",\"type\":\"Line\"},{\"attributes\":{\"line_alpha\":0.2,\"line_color\":\"red\",\"line_width\":6,\"x\":{\"field\":\"x\"},\"y\":{\"field\":\"y\"}},\"id\":\"3440\",\"type\":\"Line\"},{\"attributes\":{\"source\":{\"id\":\"3412\"}},\"id\":\"3418\",\"type\":\"CDSView\"},{\"attributes\":{\"coordinates\":null,\"data_source\":{\"id\":\"3437\"},\"glyph\":{\"id\":\"3438\"},\"group\":null,\"hover_glyph\":null,\"muted_glyph\":{\"id\":\"3440\"},\"nonselection_glyph\":{\"id\":\"3439\"},\"view\":{\"id\":\"3442\"}},\"id\":\"3441\",\"type\":\"GlyphRenderer\"},{\"attributes\":{},\"id\":\"3427\",\"type\":\"Selection\"},{\"attributes\":{\"fill_alpha\":{\"value\":0.5},\"fill_color\":{\"value\":\"midnightblue\"},\"line_color\":{\"value\":\"white\"}},\"id\":\"3434\",\"type\":\"Circle\"},{\"attributes\":{\"bottom_units\":\"screen\",\"coordinates\":null,\"fill_alpha\":0.5,\"fill_color\":\"lightgrey\",\"group\":null,\"left_units\":\"screen\",\"level\":\"overlay\",\"line_alpha\":1.0,\"line_color\":\"black\",\"line_dash\":[4,4],\"line_width\":2,\"right_units\":\"screen\",\"syncable\":false,\"top_units\":\"screen\"},\"id\":\"3455\",\"type\":\"BoxAnnotation\"},{\"attributes\":{\"coordinates\":null,\"data_source\":{\"id\":\"3412\"},\"glyph\":{\"id\":\"3413\"},\"group\":null,\"hover_glyph\":{\"id\":\"3415\"},\"muted_glyph\":{\"id\":\"3416\"},\"nonselection_glyph\":{\"id\":\"3434\"},\"selection_glyph\":{\"id\":\"3433\"},\"view\":{\"id\":\"3418\"}},\"id\":\"3417\",\"type\":\"GlyphRenderer\"},{\"attributes\":{},\"id\":\"3422\",\"type\":\"AllLabels\"},{\"attributes\":{\"fill_alpha\":{\"value\":0.2},\"fill_color\":{\"value\":\"midnightblue\"},\"hatch_alpha\":{\"value\":0.2},\"line_alpha\":{\"value\":0.2},\"line_color\":{\"value\":\"white\"},\"size\":{\"value\":10},\"x\":{\"field\":\"x\"},\"y\":{\"field\":\"y\"}},\"id\":\"3416\",\"type\":\"Circle\"},{\"attributes\":{\"children\":[{\"id\":\"3458\"},{\"id\":\"3379\"},{\"id\":\"3485\"}],\"margin\":[0,0,0,0],\"name\":\"Row00228\"},\"id\":\"3457\",\"type\":\"Row\"},{\"attributes\":{\"callback\":null,\"mode\":\"vline\",\"renderers\":[{\"id\":\"3417\"}],\"tooltips\":null},\"id\":\"3431\",\"type\":\"HoverTool\"},{\"attributes\":{\"margin\":[5,5,5,5],\"name\":\"HSpacer00225\",\"sizing_mode\":\"stretch_width\"},\"id\":\"3485\",\"type\":\"Spacer\"},{\"attributes\":{\"data\":{\"x\":{\"__ndarray__\":\"AAAAAAAAAABbv1Kg1q+EP1u/UqDWr5Q/CB988MEHnz9bv1Kg1q+kPzJvZ0jM26k/CB988MEHrz9wZ0jM2xmyP1u/UqDWr7Q/RhdddNFFtz8yb2dIzNu5Px3HcRzHcbw/CB988MEHvz96O0Ni3s7AP3BnSMzbGcI/ZZNNNtlkwz9bv1Kg1q/EP1HrVwrU+sU/RhdddNFFxz88Q2LezpDIPzJvZ0jM28k/J5tssskmyz8dx3Ecx3HMPxPzdobEvM0/CB988MEHzz9/pUCtXynQP3o7Q2LeztA/ddFFF1100T9wZ0jM2xnSP2r9SoFav9I/ZZNNNtlk0z9gKVDrVwrUP1u/UqDWr9Q/VlVVVVVV1T9R61cK1PrVP0yBWr9SoNY/RhdddNFF1z9BrV8pUOvXPzxDYt7OkNg/N9lkk0022T8yb2dIzNvZPy0Fav1Kgdo/J5tssskm2z8iMW9nSMzbPx3HcRzHcdw/GF100UUX3T8T83aGxLzdPw6JeTtDYt4/CB988MEH3z8DtX6lQK3fP3+lQK1fKeA/ffDBBx984D96O0Ni3s7gP3eGxLydIeE/ddFFF1104T9yHMdxHMfhP3BnSMzbGeI/bbLJJpts4j9q/UqBWr/iP2hIzNsZEuM/ZZNNNtlk4z9j3s6QmLfjP2ApUOtXCuQ/XnTRRRdd5D9bv1Kg1q/kP1gK1PqVAuU/VlVVVVVV5T9ToNavFKjlP1HrVwrU+uU/TjbZZJNN5j9MgVq/UqDmP0nM2xkS8+Y/RhdddNFF5z9EYt7OkJjnP0GtXylQ6+c/P/jggw8+6D88Q2LezpDoPzmO4ziO4+g/N9lkk0026T80JObtDInpPzJvZ0jM2+k/L7rooosu6j8tBWr9SoHqPypQ61cK1Oo/J5tssskm6z8l5u0MiXnrPyIxb2dIzOs/IHzwwQcf7D8dx3Ecx3HsPxsS83aGxOw/GF100UUX7T8VqPUrBWrtPxPzdobEvO0/ED744IMP7j8OiXk7Q2LuPwvU+pUCte4/CB988MEH7z8Gav1KgVrvPwO1fqVAre8/AAAAAAAA8D8=\",\"dtype\":\"float64\",\"order\":\"little\",\"shape\":[100]},\"y\":{\"__ndarray__\":\"8XrqZwAAAEBqD9bpDz4AQOOjwWsffABAXDit7S66AEDUzJhvPvgAQE1hhPFNNgFAxvVvc110AUA/ilv1bLIBQLgeR3d88AFAMbMy+YsuAkCqRx57m2wCQCPcCf2qqgJAnHD1frroAkAUBeEAyiYDQI2ZzILZZANABi64BOmiA0B/wqOG+OADQPhWjwgIHwRAcet6ihddBEDqf2YMJ5sEQGIUUo422QRA26g9EEYXBUBUPSmSVVUFQM3RFBRlkwVARmYAlnTRBUC/+usXhA8GQDiP15mTTQZAsSPDG6OLBkAquK6dsskGQKJMmh/CBwdAG+GFodFFB0CUdXEj4YMHQA0KXaXwwQdAhp5IJwAACED/MjSpDz4IQHjHHysffAhA8FsLrS66CEBq8PYuPvgIQOKE4rBNNglAWxnOMl10CUDUrbm0bLIJQE1CpTZ88AlAxtaQuIsuCkA+a3w6m2wKQLj/Z7yqqgpAMJRTPrroCkCqKD/AySYLQCK9KkLZZAtAm1EWxOiiC0AU5gFG+OALQIx67ccHHwxABg/ZSRddDEB+o8TLJpsMQPc3sE022QxAcMybz0UXDUDpYIdRVVUNQGL1ctNkkw1A24leVXTRDUBUHkrXgw8OQMyyNVmTTQ5ARUch26KLDkC+2wxdsskOQDdw+N7BBw9AsATkYNFFD0Apmc/i4IMPQKItu2TwwQ9AG8Km5v//D0BKK0m0Bx8QQIb1PnUPPhBAwr80NhddEEAAiir3HnwQQDxUILgmmxBAeB4WeS66EEC06As6NtkQQPGyAfs9+BBALn33u0UXEUBqR+18TTYRQKYR4z1VVRFA4tvY/lx0EUAfps6/ZJMRQFxwxIBsshFAmDq6QXTREUDUBLACfPARQBHPpcODDxJATZmbhIsuEkCKY5FFk00SQMYthwabbBJAAvh8x6KLEkA/wnKIqqoSQHyMaEmyyRJAuFZeCrroEkD0IFTLwQcTQDHrSYzJJhNAbbU/TdFFE0CqfzUO2WQTQOZJK8/ggxNAIhQhkOiiE0Bf3hZR8METQJuoDBL44BNA2HIC0///E0A=\",\"dtype\":\"float64\",\"order\":\"little\",\"shape\":[100]}},\"selected\":{\"id\":\"3453\"},\"selection_policy\":{\"id\":\"3452\"}},\"id\":\"3437\",\"type\":\"ColumnDataSource\"},{\"attributes\":{\"margin\":[5,5,5,5],\"name\":\"HSpacer00224\",\"sizing_mode\":\"stretch_width\"},\"id\":\"3458\",\"type\":\"Spacer\"},{\"attributes\":{},\"id\":\"3421\",\"type\":\"BasicTickFormatter\"},{\"attributes\":{\"mode\":\"append\",\"overlay\":{\"id\":\"3455\"},\"renderers\":[{\"id\":\"3417\"}]},\"id\":\"3435\",\"type\":\"BoxSelectTool\"},{\"attributes\":{\"axis\":{\"id\":\"3390\"},\"coordinates\":null,\"grid_line_alpha\":0.15,\"grid_line_color\":\"#E0E0E0\",\"group\":null,\"ticker\":null},\"id\":\"3393\",\"type\":\"Grid\"},{\"attributes\":{\"source\":{\"id\":\"3437\"}},\"id\":\"3442\",\"type\":\"CDSView\"},{\"attributes\":{\"label\":{\"value\":\"Observations\"},\"renderers\":[{\"id\":\"3417\"}]},\"id\":\"3430\",\"type\":\"LegendItem\"},{\"attributes\":{},\"id\":\"3388\",\"type\":\"LinearScale\"},{\"attributes\":{\"fill_alpha\":{\"value\":0.8},\"fill_color\":{\"value\":\"red\"},\"line_color\":{\"value\":\"white\"}},\"id\":\"3433\",\"type\":\"Circle\"},{\"attributes\":{\"bottom_units\":\"screen\",\"coordinates\":null,\"fill_alpha\":0.5,\"fill_color\":\"lightgrey\",\"group\":null,\"left_units\":\"screen\",\"level\":\"overlay\",\"line_alpha\":1.0,\"line_color\":\"black\",\"line_dash\":[4,4],\"line_width\":2,\"right_units\":\"screen\",\"syncable\":false,\"top_units\":\"screen\"},\"id\":\"3404\",\"type\":\"BoxAnnotation\"},{\"attributes\":{},\"id\":\"3395\",\"type\":\"BasicTicker\"},{\"attributes\":{\"background_fill_alpha\":0.25,\"background_fill_color\":\"#505050\",\"border_line_alpha\":0.25,\"coordinates\":null,\"group\":null,\"items\":[{\"id\":\"3430\"},{\"id\":\"3456\"}],\"label_standoff\":8,\"label_text_color\":\"#E0E0E0\",\"label_text_font\":\"Josefin Sans\",\"label_text_font_size\":\"1.15em\",\"spacing\":8},\"id\":\"3429\",\"type\":\"Legend\"},{\"attributes\":{},\"id\":\"3398\",\"type\":\"PanTool\"},{\"attributes\":{\"client_comm_id\":\"d4d84816164d457ca356e6d24cac9e3c\",\"comm_id\":\"564614f7093c4b41a6733b135c70b4ae\",\"plot_id\":\"3457\"},\"id\":\"3525\",\"type\":\"panel.models.comm_manager.CommManager\"},{\"attributes\":{},\"id\":\"3424\",\"type\":\"BasicTickFormatter\"},{\"attributes\":{},\"id\":\"3399\",\"type\":\"WheelZoomTool\"},{\"attributes\":{\"axis\":{\"id\":\"3394\"},\"coordinates\":null,\"dimension\":1,\"grid_line_alpha\":0.15,\"grid_line_color\":\"#E0E0E0\",\"group\":null,\"ticker\":null},\"id\":\"3397\",\"type\":\"Grid\"},{\"attributes\":{\"fill_alpha\":{\"value\":0.25},\"fill_color\":{\"value\":\"midnightblue\"},\"hatch_alpha\":{\"value\":0.25},\"line_alpha\":{\"value\":0.25},\"line_color\":{\"value\":\"white\"},\"size\":{\"value\":10},\"x\":{\"field\":\"x\"},\"y\":{\"field\":\"y\"}},\"id\":\"3413\",\"type\":\"Circle\"},{\"attributes\":{},\"id\":\"3425\",\"type\":\"AllLabels\"},{\"attributes\":{},\"id\":\"3402\",\"type\":\"ResetTool\"},{\"attributes\":{},\"id\":\"3386\",\"type\":\"LinearScale\"},{\"attributes\":{},\"id\":\"3453\",\"type\":\"Selection\"},{\"attributes\":{\"data\":{\"x\":{\"__ndarray__\":\"AAAAAAAAAABbv1Kg1q+EP1u/UqDWr5Q/CB988MEHnz9bv1Kg1q+kPzJvZ0jM26k/CB988MEHrz9wZ0jM2xmyP1u/UqDWr7Q/RhdddNFFtz8yb2dIzNu5Px3HcRzHcbw/CB988MEHvz96O0Ni3s7AP3BnSMzbGcI/ZZNNNtlkwz9bv1Kg1q/EP1HrVwrU+sU/RhdddNFFxz88Q2LezpDIPzJvZ0jM28k/J5tssskmyz8dx3Ecx3HMPxPzdobEvM0/CB988MEHzz9/pUCtXynQP3o7Q2LeztA/ddFFF1100T9wZ0jM2xnSP2r9SoFav9I/ZZNNNtlk0z9gKVDrVwrUP1u/UqDWr9Q/VlVVVVVV1T9R61cK1PrVP0yBWr9SoNY/RhdddNFF1z9BrV8pUOvXPzxDYt7OkNg/N9lkk0022T8yb2dIzNvZPy0Fav1Kgdo/J5tssskm2z8iMW9nSMzbPx3HcRzHcdw/GF100UUX3T8T83aGxLzdPw6JeTtDYt4/CB988MEH3z8DtX6lQK3fP3+lQK1fKeA/ffDBBx984D96O0Ni3s7gP3eGxLydIeE/ddFFF1104T9yHMdxHMfhP3BnSMzbGeI/bbLJJpts4j9q/UqBWr/iP2hIzNsZEuM/ZZNNNtlk4z9j3s6QmLfjP2ApUOtXCuQ/XnTRRRdd5D9bv1Kg1q/kP1gK1PqVAuU/VlVVVVVV5T9ToNavFKjlP1HrVwrU+uU/TjbZZJNN5j9MgVq/UqDmP0nM2xkS8+Y/RhdddNFF5z9EYt7OkJjnP0GtXylQ6+c/P/jggw8+6D88Q2LezpDoPzmO4ziO4+g/N9lkk0026T80JObtDInpPzJvZ0jM2+k/L7rooosu6j8tBWr9SoHqPypQ61cK1Oo/J5tssskm6z8l5u0MiXnrPyIxb2dIzOs/IHzwwQcf7D8dx3Ecx3HsPxsS83aGxOw/GF100UUX7T8VqPUrBWrtPxPzdobEvO0/ED744IMP7j8OiXk7Q2LuPwvU+pUCte4/CB988MEH7z8Gav1KgVrvPwO1fqVAre8/AAAAAAAA8D8=\",\"dtype\":\"float64\",\"order\":\"little\",\"shape\":[100]},\"y\":{\"__ndarray__\":\"AAAAAAAAAEA++OCDDz4AQHzwwQcffABAuuiiiy66AED44IMPPvgAQDbZZJNNNgFAdNFFF110AUCyySabbLIBQPDBBx988AFALrrooosuAkBtsskmm2wCQKuqqqqqqgJA6aKLLrroAkAnm2yyySYDQGWTTTbZZANAo4suuuiiA0Dhgw8++OADQB988MEHHwRAXXTRRRddBECbbLLJJpsEQNpkk0022QRAF1100UUXBUBWVVVVVVUFQJRNNtlkkwVA0kUXXXTRBUAQPvjggw8GQE422WSTTQZAjC666KKLBkDKJptssskGQAgffPDBBwdARhdddNFFB0CEDz744IMHQMIHH3zwwQdAAAAAAAAACEA++OCDDz4IQHzwwQcffAhAuuiiiy66CED44IMPPvgIQDbZZJNNNglAdNFFF110CUCzySabbLIJQPHBBx988AlALrrooosuCkBtsskmm2wKQKuqqqqqqgpA6aKLLrroCkAnm2yyySYLQGWTTTbZZAtAo4suuuiiC0Dhgw8++OALQB988MEHHwxAXnTRRRddDECcbLLJJpsMQNlkk0022QxAGF100UUXDUBWVVVVVVUNQJRNNtlkkw1A0kUXXXTRDUAQPvjggw8OQE422WSTTQ5AjC666KKLDkDKJptssskOQAgffPDBBw9ARhdddNFFD0CEDz744IMPQMIHH3zwwQ9AAAAAAAAAEEAffPDBBx8QQD744IMPPhBAXXTRRRddEEB88MEHH3wQQJxssskmmxBAuuiiiy66EEDaZJNNNtkQQPjggw8++BBAGF100UUXEUA22WSTTTYRQFZVVVVVVRFAdNFFF110EUCUTTbZZJMRQLPJJptsshFA0kUXXXTREUDxwQcffPARQBA++OCDDxJALrrooosuEkBONtlkk00SQG2yySabbBJAjC666KKLEkCrqqqqqqoSQMomm2yyyRJA6aKLLrroEkAIH3zwwQcTQCebbLLJJhNARhdddNFFE0Blk0022WQTQIQPPvjggxNAo4suuuiiE0DCBx988METQOGDDz744BNAAAAAAAAAFEA=\",\"dtype\":\"float64\",\"order\":\"little\",\"shape\":[100]}},\"selected\":{\"id\":\"3427\"},\"selection_policy\":{\"id\":\"3426\"}},\"id\":\"3412\",\"type\":\"ColumnDataSource\"},{\"attributes\":{\"axis_label\":\"x\",\"axis_label_standoff\":10,\"axis_label_text_color\":\"#FFFFFF\",\"axis_label_text_font\":\"Josefin Sans\",\"axis_label_text_font_size\":\"1.9em\",\"axis_label_text_font_style\":\"bold\",\"axis_line_alpha\":0.4,\"axis_line_color\":\"#E0E0E0\",\"coordinates\":null,\"formatter\":{\"id\":\"3424\"},\"group\":null,\"major_label_policy\":{\"id\":\"3425\"},\"major_label_text_color\":\"#E0E0E0\",\"major_label_text_font\":\"Josefin Sans\",\"major_label_text_font_size\":\"1.15em\",\"major_tick_line_alpha\":0.4,\"major_tick_line_color\":\"#E0E0E0\",\"minor_tick_line_alpha\":0.4,\"minor_tick_line_color\":\"#E0E0E0\",\"ticker\":{\"id\":\"3391\"}},\"id\":\"3390\",\"type\":\"LinearAxis\"},{\"attributes\":{\"fill_alpha\":{\"value\":0.5},\"fill_color\":{\"value\":\"red\"},\"hatch_alpha\":{\"value\":0.5},\"line_alpha\":{\"value\":0.5},\"line_color\":{\"value\":\"white\"},\"size\":{\"value\":10},\"x\":{\"field\":\"x\"},\"y\":{\"field\":\"y\"}},\"id\":\"3415\",\"type\":\"Circle\"},{\"attributes\":{},\"id\":\"3391\",\"type\":\"BasicTicker\"},{\"attributes\":{},\"id\":\"3452\",\"type\":\"UnionRenderers\"},{\"attributes\":{},\"id\":\"3384\",\"type\":\"DataRange1d\"}],\"root_ids\":[\"3457\",\"3525\"]},\"title\":\"Bokeh Application\",\"version\":\"2.4.3\"}};\n",
       "    var render_items = [{\"docid\":\"27303c2f-b91a-495a-ac36-2a63f0090aaf\",\"root_ids\":[\"3457\"],\"roots\":{\"3457\":\"0fa69107-111d-4d0e-b088-d1e915d2412e\"}}];\n",
       "    root.Bokeh.embed.embed_items_notebook(docs_json, render_items);\n",
       "    for (const render_item of render_items) {\n",
       "      for (const root_id of render_item.root_ids) {\n",
       "\tconst id_el = document.getElementById(root_id)\n",
       "\tif (id_el.children.length && (id_el.children[0].className === 'bk-root')) {\n",
       "\t  const root_el = id_el.children[0]\n",
       "\t  root_el.id = root_el.id + '-rendered'\n",
       "\t}\n",
       "      }\n",
       "    }\n",
       "  }\n",
       "  if (root.Bokeh !== undefined && root.Bokeh.Panel !== undefined) {\n",
       "    embed_document(root);\n",
       "  } else {\n",
       "    var attempts = 0;\n",
       "    var timer = setInterval(function(root) {\n",
       "      if (root.Bokeh !== undefined && root.Bokeh.Panel !== undefined) {\n",
       "        clearInterval(timer);\n",
       "        embed_document(root);\n",
       "      } else if (document.readyState == \"complete\") {\n",
       "        attempts++;\n",
       "        if (attempts > 200) {\n",
       "          clearInterval(timer);\n",
       "          console.log(\"Bokeh: ERROR: Unable to run BokehJS code because BokehJS library is missing\");\n",
       "        }\n",
       "      }\n",
       "    }, 25, root)\n",
       "  }\n",
       "})(window);</script>"
      ],
      "text/plain": [
       "Row\n",
       "    [0] HSpacer()\n",
       "    [1] Bokeh(Figure)\n",
       "    [2] HSpacer()"
      ]
     },
     "execution_count": 33,
     "metadata": {
      "application/vnd.holoviews_exec.v0+json": {
       "id": "3457"
      }
     },
     "output_type": "execute_result"
    }
   ],
   "source": [
    "p = scatter(x, y, title=\"Simple linear regression\")\n",
    "p.line(x, w_1 * x + w_0, line_width=6, line_alpha=0.6, color=\"red\", legend_label=r\"Learned model\")\n",
    "plot = (center_plot(p))\n",
    "plot"
   ]
  },
  {
   "cell_type": "markdown",
   "metadata": {},
   "source": [
    "### Observing our solution interactively\n",
    "\n",
    "In the following code, you can observe the behavior of the model by playing interactively with the properties of the original problem. \n",
    "\n",
    "<div class=\"alert alert-success\" markdown=\"1\" style=\"color:white; background-color: #192841; border-color: #779ecb\">\n",
    "\n",
    "> Note that each change in the properties of the original problem requires to run the gradient descent algorithm entirely each time.\n",
    "\n",
    "</div>"
   ]
  },
  {
   "cell_type": "code",
   "execution_count": 34,
   "metadata": {
    "tags": []
   },
   "outputs": [
    {
     "data": {},
     "metadata": {},
     "output_type": "display_data"
    },
    {
     "data": {
      "application/vnd.holoviews_exec.v0+json": "",
      "text/html": [
       "<div id='3669'>\n",
       "  <div class=\"bk-root\" id=\"e3777ae6-09f7-476f-b6ca-034d0abbbe78\" data-root-id=\"3669\"></div>\n",
       "</div>\n",
       "<script type=\"application/javascript\">(function(root) {\n",
       "  function embed_document(root) {\n",
       "    var docs_json = {\"5510f916-1a85-4574-abc5-f5849df95966\":{\"defs\":[{\"extends\":null,\"module\":null,\"name\":\"ReactiveHTML1\",\"overrides\":[],\"properties\":[]},{\"extends\":null,\"module\":null,\"name\":\"FlexBox1\",\"overrides\":[],\"properties\":[{\"default\":\"flex-start\",\"kind\":null,\"name\":\"align_content\"},{\"default\":\"flex-start\",\"kind\":null,\"name\":\"align_items\"},{\"default\":\"row\",\"kind\":null,\"name\":\"flex_direction\"},{\"default\":\"wrap\",\"kind\":null,\"name\":\"flex_wrap\"},{\"default\":\"flex-start\",\"kind\":null,\"name\":\"justify_content\"}]},{\"extends\":null,\"module\":null,\"name\":\"GridStack1\",\"overrides\":[],\"properties\":[{\"default\":\"warn\",\"kind\":null,\"name\":\"mode\"},{\"default\":null,\"kind\":null,\"name\":\"ncols\"},{\"default\":null,\"kind\":null,\"name\":\"nrows\"},{\"default\":true,\"kind\":null,\"name\":\"allow_resize\"},{\"default\":true,\"kind\":null,\"name\":\"allow_drag\"},{\"default\":[],\"kind\":null,\"name\":\"state\"}]},{\"extends\":null,\"module\":null,\"name\":\"click1\",\"overrides\":[],\"properties\":[{\"default\":\"\",\"kind\":null,\"name\":\"terminal_output\"},{\"default\":\"\",\"kind\":null,\"name\":\"debug_name\"},{\"default\":0,\"kind\":null,\"name\":\"clears\"}]},{\"extends\":null,\"module\":null,\"name\":\"NotificationAreaBase1\",\"overrides\":[],\"properties\":[{\"default\":\"bottom-right\",\"kind\":null,\"name\":\"position\"},{\"default\":0,\"kind\":null,\"name\":\"_clear\"}]},{\"extends\":null,\"module\":null,\"name\":\"NotificationArea1\",\"overrides\":[],\"properties\":[{\"default\":[],\"kind\":null,\"name\":\"notifications\"},{\"default\":\"bottom-right\",\"kind\":null,\"name\":\"position\"},{\"default\":0,\"kind\":null,\"name\":\"_clear\"},{\"default\":[{\"background\":\"#ffc107\",\"icon\":{\"className\":\"fas fa-exclamation-triangle\",\"color\":\"white\",\"tagName\":\"i\"},\"type\":\"warning\"},{\"background\":\"#007bff\",\"icon\":{\"className\":\"fas fa-info-circle\",\"color\":\"white\",\"tagName\":\"i\"},\"type\":\"info\"}],\"kind\":null,\"name\":\"types\"}]},{\"extends\":null,\"module\":null,\"name\":\"Notification\",\"overrides\":[],\"properties\":[{\"default\":null,\"kind\":null,\"name\":\"background\"},{\"default\":3000,\"kind\":null,\"name\":\"duration\"},{\"default\":null,\"kind\":null,\"name\":\"icon\"},{\"default\":\"\",\"kind\":null,\"name\":\"message\"},{\"default\":null,\"kind\":null,\"name\":\"notification_type\"},{\"default\":false,\"kind\":null,\"name\":\"_destroyed\"}]},{\"extends\":null,\"module\":null,\"name\":\"TemplateActions1\",\"overrides\":[],\"properties\":[{\"default\":0,\"kind\":null,\"name\":\"open_modal\"},{\"default\":0,\"kind\":null,\"name\":\"close_modal\"}]},{\"extends\":null,\"module\":null,\"name\":\"MaterialTemplateActions1\",\"overrides\":[],\"properties\":[{\"default\":0,\"kind\":null,\"name\":\"open_modal\"},{\"default\":0,\"kind\":null,\"name\":\"close_modal\"}]}],\"roots\":{\"references\":[{\"attributes\":{\"label\":{\"value\":\"Learned model\"},\"renderers\":[{\"id\":\"3653\"}]},\"id\":\"3668\",\"type\":\"LegendItem\"},{\"attributes\":{\"args\":{\"bidirectional\":true,\"properties\":{\"readonly\":\"disabled\"},\"source\":{\"id\":\"3708\"},\"target\":{\"id\":\"3708\"}},\"code\":\"\\n    var value = source['disabled'];\\n    value = value;\\n    value = value;\\n    try {\\n      var property = target.properties['readonly'];\\n      if (property !== undefined) { property.validate(value); }\\n    } catch(err) {\\n      console.log('WARNING: Could not set readonly on target, raised error: ' + err);\\n      return;\\n    }\\n    try {\\n      target['readonly'] = value;\\n    } catch(err) {\\n      console.log(err)\\n    }\\n    \",\"tags\":[[140085077148336,[null,\"readonly\"],[null,\"disabled\"]]]},\"id\":\"3724\",\"type\":\"CustomJS\"},{\"attributes\":{\"children\":[{\"id\":\"3672\"},{\"id\":\"3708\"}],\"margin\":[0,0,0,0],\"name\":\"Column00259\"},\"id\":\"3671\",\"type\":\"Column\"},{\"attributes\":{\"line_alpha\":0.7,\"line_color\":\"red\",\"line_width\":4,\"x\":{\"field\":\"x\"},\"y\":{\"field\":\"y\"}},\"id\":\"3650\",\"type\":\"Line\"},{\"attributes\":{\"children\":[{\"id\":\"3674\"},{\"id\":\"3675\"},{\"id\":\"3676\"},{\"id\":\"3677\"},{\"id\":\"3678\"},{\"id\":\"3679\"},{\"id\":\"3680\"}],\"margin\":[5,5,5,5],\"min_width\":300,\"name\":\"Problem parameters\",\"width\":300},\"id\":\"3673\",\"type\":\"Column\"},{\"attributes\":{\"fill_alpha\":{\"value\":0.25},\"fill_color\":{\"value\":\"midnightblue\"},\"hatch_alpha\":{\"value\":0.25},\"line_alpha\":{\"value\":0.25},\"line_color\":{\"value\":\"white\"},\"size\":{\"value\":10},\"x\":{\"field\":\"x\"},\"y\":{\"field\":\"y\"}},\"id\":\"3625\",\"type\":\"Circle\"},{\"attributes\":{\"children\":[{\"id\":\"3673\"},{\"id\":\"3681\"}],\"margin\":[0,0,0,0],\"name\":\"Row00256\"},\"id\":\"3672\",\"type\":\"Row\"},{\"attributes\":{\"margin\":[5,10,5,10],\"name\":\"\",\"text\":\"<b>Problem parameters</b>\"},\"id\":\"3674\",\"type\":\"Div\"},{\"attributes\":{\"labels\":[\"Ground truth\"],\"margin\":[5,10,5,10]},\"id\":\"3677\",\"type\":\"CheckboxGroup\"},{\"attributes\":{\"labels\":[\"Error\"],\"margin\":[5,10,5,10]},\"id\":\"3678\",\"type\":\"CheckboxGroup\"},{\"attributes\":{\"end\":1000,\"margin\":[5,10,5,10],\"start\":10,\"title\":\"Number observations\",\"value\":100},\"id\":\"3675\",\"type\":\"Slider\"},{\"attributes\":{\"end\":5.0,\"margin\":[5,10,5,10],\"start\":-5.0,\"step\":0.1,\"title\":\"X 1\",\"value\":1.0},\"id\":\"3679\",\"type\":\"Slider\"},{\"attributes\":{\"end\":5.0,\"margin\":[5,10,5,10],\"start\":0.0,\"step\":0.1,\"title\":\"Noise level\",\"value\":0.1},\"id\":\"3676\",\"type\":\"Slider\"},{\"attributes\":{\"fill_alpha\":{\"value\":0.5},\"fill_color\":{\"value\":\"red\"},\"hatch_alpha\":{\"value\":0.5},\"line_alpha\":{\"value\":0.5},\"line_color\":{\"value\":\"white\"},\"size\":{\"value\":10},\"x\":{\"field\":\"x\"},\"y\":{\"field\":\"y\"}},\"id\":\"3627\",\"type\":\"Circle\"},{\"attributes\":{},\"id\":\"3664\",\"type\":\"UnionRenderers\"},{\"attributes\":{\"code\":\"def linear(\\n        coefficients: jnp.ndarray,\\n        n_observations: int = 100) -> [jnp.ndarray, jnp.ndarray]:\\n    x = jnp.linspace(0, 1, n_observations)\\n    y = coefficients[0] * x + coefficients[1]\\n    return x, \",\"filename\":\"\",\"height\":150,\"js_property_callbacks\":{\"change:disabled\":[{\"id\":\"3724\"}],\"change:readonly\":[{\"id\":\"3723\"}]},\"language\":\"python\",\"margin\":[5,10,5,10],\"sizing_mode\":\"stretch_both\",\"theme\":\"chaos\"},\"id\":\"3708\",\"type\":\"panel.models.ace.AcePlot\"},{\"attributes\":{\"end\":5.0,\"margin\":[5,10,5,10],\"start\":-5.0,\"step\":0.1,\"title\":\"X 0\",\"value\":0.0},\"id\":\"3680\",\"type\":\"Slider\"},{\"attributes\":{\"coordinates\":null,\"data_source\":{\"id\":\"3624\"},\"glyph\":{\"id\":\"3625\"},\"group\":null,\"hover_glyph\":{\"id\":\"3627\"},\"muted_glyph\":{\"id\":\"3628\"},\"nonselection_glyph\":{\"id\":\"3646\"},\"selection_glyph\":{\"id\":\"3645\"},\"view\":{\"id\":\"3630\"}},\"id\":\"3629\",\"type\":\"GlyphRenderer\"},{\"attributes\":{\"children\":[{\"id\":\"3591\"}],\"margin\":[0,0,0,0],\"name\":\"Row00253\"},\"id\":\"3681\",\"type\":\"Row\"},{\"attributes\":{},\"id\":\"3665\",\"type\":\"Selection\"},{\"attributes\":{\"client_comm_id\":\"993a180c2d6a4b9d9a5d61125991d64a\",\"comm_id\":\"70d5dfed0e21492e8bbb36923f2feef6\",\"plot_id\":\"3669\"},\"id\":\"3751\",\"type\":\"panel.models.comm_manager.CommManager\"},{\"attributes\":{},\"id\":\"3633\",\"type\":\"BasicTickFormatter\"},{\"attributes\":{\"margin\":[5,5,5,5],\"name\":\"HSpacer00260\",\"sizing_mode\":\"stretch_width\"},\"id\":\"3709\",\"type\":\"Spacer\"},{\"attributes\":{},\"id\":\"3594\",\"type\":\"DataRange1d\"},{\"attributes\":{},\"id\":\"3636\",\"type\":\"BasicTickFormatter\"},{\"attributes\":{},\"id\":\"3637\",\"type\":\"AllLabels\"},{\"attributes\":{\"coordinates\":null,\"group\":null,\"text\":\"Linear regression problem\",\"text_color\":\"#E0E0E0\",\"text_font\":\"Josefin Sans\",\"text_font_size\":\"2.1em\"},\"id\":\"3592\",\"type\":\"Title\"},{\"attributes\":{\"bottom_units\":\"screen\",\"coordinates\":null,\"fill_alpha\":0.5,\"fill_color\":\"lightgrey\",\"group\":null,\"left_units\":\"screen\",\"level\":\"overlay\",\"line_alpha\":1.0,\"line_color\":\"black\",\"line_dash\":[4,4],\"line_width\":2,\"right_units\":\"screen\",\"syncable\":false,\"top_units\":\"screen\"},\"id\":\"3667\",\"type\":\"BoxAnnotation\"},{\"attributes\":{\"background_fill_alpha\":0.9,\"background_fill_color\":\"#0f0f0f\",\"below\":[{\"id\":\"3602\"}],\"border_fill_alpha\":0.8,\"border_fill_color\":\"#111111\",\"center\":[{\"id\":\"3605\"},{\"id\":\"3609\"},{\"id\":\"3641\"}],\"height\":450,\"left\":[{\"id\":\"3606\"}],\"outline_line_alpha\":0.25,\"outline_line_color\":\"#E0E0E0\",\"outline_line_width\":3,\"renderers\":[{\"id\":\"3629\"},{\"id\":\"3653\"}],\"title\":{\"id\":\"3592\"},\"toolbar\":{\"id\":\"3617\"},\"toolbar_location\":null,\"x_range\":{\"id\":\"3594\"},\"x_scale\":{\"id\":\"3598\"},\"y_range\":{\"id\":\"3596\"},\"y_scale\":{\"id\":\"3600\"}},\"id\":\"3591\",\"subtype\":\"Figure\",\"type\":\"Plot\"},{\"attributes\":{},\"id\":\"3634\",\"type\":\"AllLabels\"},{\"attributes\":{\"fill_alpha\":{\"value\":0.8},\"fill_color\":{\"value\":\"red\"},\"line_color\":{\"value\":\"white\"}},\"id\":\"3645\",\"type\":\"Circle\"},{\"attributes\":{},\"id\":\"3600\",\"type\":\"LinearScale\"},{\"attributes\":{\"label\":{\"value\":\"Observations\"},\"renderers\":[{\"id\":\"3629\"}]},\"id\":\"3642\",\"type\":\"LegendItem\"},{\"attributes\":{\"mode\":\"append\",\"overlay\":{\"id\":\"3667\"},\"renderers\":[{\"id\":\"3629\"}]},\"id\":\"3647\",\"type\":\"BoxSelectTool\"},{\"attributes\":{\"axis_label\":\"$$\\\\color{white} x$$\",\"axis_label_standoff\":10,\"axis_label_text_color\":\"#FFFFFF\",\"axis_label_text_font\":\"Josefin Sans\",\"axis_label_text_font_size\":\"1.9em\",\"axis_label_text_font_style\":\"bold\",\"axis_line_alpha\":0.4,\"axis_line_color\":\"#E0E0E0\",\"coordinates\":null,\"formatter\":{\"id\":\"3636\"},\"group\":null,\"major_label_policy\":{\"id\":\"3637\"},\"major_label_text_color\":\"#E0E0E0\",\"major_label_text_font\":\"Josefin Sans\",\"major_label_text_font_size\":\"1.15em\",\"major_tick_line_alpha\":0.4,\"major_tick_line_color\":\"#E0E0E0\",\"minor_tick_line_alpha\":0.4,\"minor_tick_line_color\":\"#E0E0E0\",\"ticker\":{\"id\":\"3603\"}},\"id\":\"3602\",\"type\":\"LinearAxis\"},{\"attributes\":{\"callback\":null,\"mode\":\"vline\",\"renderers\":[{\"id\":\"3629\"}],\"tooltips\":null},\"id\":\"3643\",\"type\":\"HoverTool\"},{\"attributes\":{},\"id\":\"3603\",\"type\":\"BasicTicker\"},{\"attributes\":{\"fill_alpha\":{\"value\":0.2},\"fill_color\":{\"value\":\"midnightblue\"},\"hatch_alpha\":{\"value\":0.2},\"line_alpha\":{\"value\":0.2},\"line_color\":{\"value\":\"white\"},\"size\":{\"value\":10},\"x\":{\"field\":\"x\"},\"y\":{\"field\":\"y\"}},\"id\":\"3628\",\"type\":\"Circle\"},{\"attributes\":{\"axis_label\":\"$$\\\\color{white} 1.0x^1 + 0.0$$\",\"axis_label_standoff\":10,\"axis_label_text_color\":\"#FFFFFF\",\"axis_label_text_font\":\"Josefin Sans\",\"axis_label_text_font_size\":\"1.9em\",\"axis_label_text_font_style\":\"bold\",\"axis_line_alpha\":0.4,\"axis_line_color\":\"#E0E0E0\",\"coordinates\":null,\"formatter\":{\"id\":\"3633\"},\"group\":null,\"major_label_policy\":{\"id\":\"3634\"},\"major_label_text_color\":\"#E0E0E0\",\"major_label_text_font\":\"Josefin Sans\",\"major_label_text_font_size\":\"1.15em\",\"major_tick_line_alpha\":0.4,\"major_tick_line_color\":\"#E0E0E0\",\"minor_tick_line_alpha\":0.4,\"minor_tick_line_color\":\"#E0E0E0\",\"ticker\":{\"id\":\"3607\"}},\"id\":\"3606\",\"type\":\"LinearAxis\"},{\"attributes\":{},\"id\":\"3615\",\"type\":\"HelpTool\"},{\"attributes\":{},\"id\":\"3596\",\"type\":\"DataRange1d\"},{\"attributes\":{},\"id\":\"3598\",\"type\":\"LinearScale\"},{\"attributes\":{\"coordinates\":null,\"data_source\":{\"id\":\"3649\"},\"glyph\":{\"id\":\"3650\"},\"group\":null,\"hover_glyph\":null,\"muted_glyph\":{\"id\":\"3652\"},\"nonselection_glyph\":{\"id\":\"3651\"},\"view\":{\"id\":\"3654\"}},\"id\":\"3653\",\"type\":\"GlyphRenderer\"},{\"attributes\":{\"axis\":{\"id\":\"3602\"},\"coordinates\":null,\"grid_line_alpha\":0.15,\"grid_line_color\":\"#E0E0E0\",\"group\":null,\"ticker\":null},\"id\":\"3605\",\"type\":\"Grid\"},{\"attributes\":{\"margin\":[5,5,5,5],\"name\":\"HSpacer00232\",\"sizing_mode\":\"stretch_width\"},\"id\":\"3670\",\"type\":\"Spacer\"},{\"attributes\":{\"axis\":{\"id\":\"3606\"},\"coordinates\":null,\"dimension\":1,\"grid_line_alpha\":0.15,\"grid_line_color\":\"#E0E0E0\",\"group\":null,\"ticker\":null},\"id\":\"3609\",\"type\":\"Grid\"},{\"attributes\":{\"line_alpha\":0.1,\"line_color\":\"red\",\"line_width\":4,\"x\":{\"field\":\"x\"},\"y\":{\"field\":\"y\"}},\"id\":\"3651\",\"type\":\"Line\"},{\"attributes\":{\"fill_alpha\":{\"value\":0.5},\"fill_color\":{\"value\":\"midnightblue\"},\"line_color\":{\"value\":\"white\"}},\"id\":\"3646\",\"type\":\"Circle\"},{\"attributes\":{},\"id\":\"3607\",\"type\":\"BasicTicker\"},{\"attributes\":{},\"id\":\"3639\",\"type\":\"Selection\"},{\"attributes\":{\"line_alpha\":0.2,\"line_color\":\"red\",\"line_width\":4,\"x\":{\"field\":\"x\"},\"y\":{\"field\":\"y\"}},\"id\":\"3652\",\"type\":\"Line\"},{\"attributes\":{\"data\":{\"x\":{\"__ndarray__\":\"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\",\"dtype\":\"float64\",\"order\":\"little\",\"shape\":[200]},\"y\":{\"__ndarray__\":\"wOzbu+yS3LqURls7qDUJPKqZWzzX/pY82DDAPNhi6TxtSgk9buMdPW98Mj1vFUc9cK5bPXBHcD04cII9ubyMPTkJlz25VaE9OqKrPbrutT07O8A9u4fKPTvU1D28IN89PG3pPby58z08Bv49XykEPp5PCT7fdQ4+H5wTPl/CGD6f6B0+4A4jPh81KD5gWy0+oIEyPt+nNz4gzjw+YPRBPqEaRz7gQEw+IWdRPmGNVj6hs1s+4dlgPiIAZj5hJms+okxwPuJydT4imXo+Yr9/PtFygj7yBYU+EpmHPjEsij5Rv4w+cVKPPpLlkT6yeJQ+0guXPvGemT4SMpw+MsWePlJYoT5y66M+k36mPrMRqT7SpKs+8jeuPhPLsD4zXrM+U/G1PnOEuD6SF7s+s6q9PtM9wD7z0MI+E2TFPjT3xz5Uiso+cx3NPpOwzz60Q9I+1NbUPvRp1z4U/dk+NJDcPlQj3z50tuE+lEnkPrTc5j7Vb+k+9QLsPhSW7j40KfE+VbzzPnVP9j6V4vg+tXX7PtUI/j76TQA/ipcBPxrhAj+qKgQ/OnQFP8y9Bj9aBwg/7FAJP3qaCj8K5As/nC0NPyp3Dj+8wA8/SgoRP9xTEj9snRM/+uYUP4wwFj8cehc/rMMYPzwNGj/KVhs/XKAcP+zpHT98Mx8/DH0gP5zGIT8sECM/vFkkP0yjJT/c7CY/bDYoP/x/KT+MySo/HBMsP6xcLT88pi4/zO8vP1w5MT/sgjI/fMwzPwwWNT+cXzY/LKk3P7zyOD9MPDo/3IU7P2zPPD/8GD4/jGI/PxysQD+s9UE/Pj9DP8yIRD9c0kU/7BtHP3xlSD8Or0k/nPhKPy5CTD++i00/TNVOP94eUD9saFE//rFSP477Uz8cRVU/ro5WPzzYVz/OIVk/XmtaP+60Wz9+/lw/DkheP56RXz8u22A/viRiP05uYz/et2Q/bgFmP/5KZz+OlGg/Ht5pP64naz8+cWw/zrptP14Ebz/uTXA/fpdxPw7hcj+eKnQ/LnR1P769dj9OB3g/3lB5P26aej/+43s/ji19Px53fj8=\",\"dtype\":\"float32\",\"order\":\"little\",\"shape\":[200]}},\"selected\":{\"id\":\"3665\"},\"selection_policy\":{\"id\":\"3664\"}},\"id\":\"3649\",\"type\":\"ColumnDataSource\"},{\"attributes\":{},\"id\":\"3638\",\"type\":\"UnionRenderers\"},{\"attributes\":{},\"id\":\"3611\",\"type\":\"WheelZoomTool\"},{\"attributes\":{},\"id\":\"3610\",\"type\":\"PanTool\"},{\"attributes\":{\"overlay\":{\"id\":\"3616\"}},\"id\":\"3612\",\"type\":\"BoxZoomTool\"},{\"attributes\":{},\"id\":\"3613\",\"type\":\"SaveTool\"},{\"attributes\":{},\"id\":\"3614\",\"type\":\"ResetTool\"},{\"attributes\":{\"source\":{\"id\":\"3649\"}},\"id\":\"3654\",\"type\":\"CDSView\"},{\"attributes\":{\"bottom_units\":\"screen\",\"coordinates\":null,\"fill_alpha\":0.5,\"fill_color\":\"lightgrey\",\"group\":null,\"left_units\":\"screen\",\"level\":\"overlay\",\"line_alpha\":1.0,\"line_color\":\"black\",\"line_dash\":[4,4],\"line_width\":2,\"right_units\":\"screen\",\"syncable\":false,\"top_units\":\"screen\"},\"id\":\"3616\",\"type\":\"BoxAnnotation\"},{\"attributes\":{\"source\":{\"id\":\"3624\"}},\"id\":\"3630\",\"type\":\"CDSView\"},{\"attributes\":{\"tools\":[{\"id\":\"3610\"},{\"id\":\"3611\"},{\"id\":\"3612\"},{\"id\":\"3613\"},{\"id\":\"3614\"},{\"id\":\"3615\"},{\"id\":\"3643\"},{\"id\":\"3647\"}]},\"id\":\"3617\",\"type\":\"Toolbar\"},{\"attributes\":{\"args\":{\"bidirectional\":true,\"properties\":{\"readonly\":\"disabled\"},\"source\":{\"id\":\"3708\"},\"target\":{\"id\":\"3708\"}},\"code\":\"\\n    var value = source['readonly'];\\n    value = value;\\n    value = value;\\n    try {\\n      var property = target.properties['disabled'];\\n      if (property !== undefined) { property.validate(value); }\\n    } catch(err) {\\n      console.log('WARNING: Could not set disabled on target, raised error: ' + err);\\n      return;\\n    }\\n    try {\\n      target['disabled'] = value;\\n    } catch(err) {\\n      console.log(err)\\n    }\\n    \",\"tags\":[[140085077148336,[null,\"readonly\"],[null,\"disabled\"]]]},\"id\":\"3723\",\"type\":\"CustomJS\"},{\"attributes\":{\"children\":[{\"id\":\"3670\"},{\"id\":\"3671\"},{\"id\":\"3709\"}],\"margin\":[0,0,0,0],\"name\":\"Row00261\"},\"id\":\"3669\",\"type\":\"Row\"},{\"attributes\":{\"data\":{\"x\":{\"__ndarray__\":\"AAAAALV+JTy1fqU8ED74PLV+JT1i3k49ED54Pd7OkD21fqU9jC66PWLezj05juM9ED74PfN2Bj7ezhA+yiYbPrV+JT6g1i8+jC46PneGRD5i3k4+TjZZPjmOYz4k5m0+ED54Pv1KgT7zdoY+6aKLPt7OkD7U+pU+yiabPr9SoD61fqU+q6qqPqDWrz6WArU+jC66PoFavz53hsQ+bbLJPmLezj5YCtQ+TjbZPkNi3j45juM+L7roPiTm7T4aEvM+ED74PgVq/T79SgE/+OADP/N2Bj/uDAk/6aILP+Q4Dj/ezhA/2WQTP9T6FT/PkBg/yiYbP8W8HT+/UiA/uugiP7V+JT+wFCg/q6oqP6VALT+g1i8/m2wyP5YCNT+RmDc/jC46P4bEPD+BWj8/fPBBP3eGRD9yHEc/bbJJP2dITD9i3k4/XXRRP1gKVD9ToFY/TjZZP0jMWz9DYl4/PvhgPzmOYz80JGY/L7poPylQaz8k5m0/H3xwPxoScz8VqHU/ED54PwrUej8Fan0/AACAPw==\",\"dtype\":\"float32\",\"order\":\"little\",\"shape\":[100]},\"y\":{\"__ndarray__\":\"UNy+vW3jfD3NFZ69MtBkvW6jfz0roPw9kOwWvHyk0byyUbE93J23Pd11YT2YWMw8MFHSPfPbVz4cv989qqvLPS0beT6Dm28+76MmPoc0TD7qdhg+1VXxPf/HjD5B55M+y699PvrXmT7RFLQ+QaK2PhX9hz5rG5o+gBHDPp5eij4VUcI+ul6YPhCkgD5HLso+CdOnPt1f8D5T+NU+pzLYPhPFtD4eZ7M+qNDYPu8Q1T7YTd8+TKrMPj4i3j589g4/qu/dPjxKBj9JW+4+d88EP5h0Cj9WIA8/wEznPvoDBz8c6w4/deENPxZ5Hj9H/SQ/MtoTP0Z/ND8TWx0/KcIhPyJEFD8yySk/J9USP5X5Kz8T1Ds/sz4gP02FIz8n4D4/j0RAPyWIKj/vBio/PIk5Pz0xRz8zwFk/y3ddP0dDWj8sTjo/5RNWP3sAQD//ekA/IClKP3vwSj9ti2w/P4poPy1QYz9wBX0/zSFiP1q7XT8A1Xc/8bNaP8cohj8gxGM/Wx6IP6Blcz9HQII/f/9pPw==\",\"dtype\":\"float32\",\"order\":\"little\",\"shape\":[100]}},\"selected\":{\"id\":\"3639\"},\"selection_policy\":{\"id\":\"3638\"}},\"id\":\"3624\",\"type\":\"ColumnDataSource\"},{\"attributes\":{\"background_fill_alpha\":0.25,\"background_fill_color\":\"#505050\",\"border_line_alpha\":0.25,\"coordinates\":null,\"group\":null,\"items\":[{\"id\":\"3642\"},{\"id\":\"3668\"}],\"label_standoff\":8,\"label_text_color\":\"#E0E0E0\",\"label_text_font\":\"Josefin Sans\",\"label_text_font_size\":\"1.15em\",\"spacing\":8},\"id\":\"3641\",\"type\":\"Legend\"}],\"root_ids\":[\"3669\",\"3751\"]},\"title\":\"Bokeh Application\",\"version\":\"2.4.3\"}};\n",
       "    var render_items = [{\"docid\":\"5510f916-1a85-4574-abc5-f5849df95966\",\"root_ids\":[\"3669\"],\"roots\":{\"3669\":\"e3777ae6-09f7-476f-b6ca-034d0abbbe78\"}}];\n",
       "    root.Bokeh.embed.embed_items_notebook(docs_json, render_items);\n",
       "    for (const render_item of render_items) {\n",
       "      for (const root_id of render_item.root_ids) {\n",
       "\tconst id_el = document.getElementById(root_id)\n",
       "\tif (id_el.children.length && (id_el.children[0].className === 'bk-root')) {\n",
       "\t  const root_el = id_el.children[0]\n",
       "\t  root_el.id = root_el.id + '-rendered'\n",
       "\t}\n",
       "      }\n",
       "    }\n",
       "  }\n",
       "  if (root.Bokeh !== undefined && root.Bokeh.Panel !== undefined) {\n",
       "    embed_document(root);\n",
       "  } else {\n",
       "    var attempts = 0;\n",
       "    var timer = setInterval(function(root) {\n",
       "      if (root.Bokeh !== undefined && root.Bokeh.Panel !== undefined) {\n",
       "        clearInterval(timer);\n",
       "        embed_document(root);\n",
       "      } else if (document.readyState == \"complete\") {\n",
       "        attempts++;\n",
       "        if (attempts > 200) {\n",
       "          clearInterval(timer);\n",
       "          console.log(\"Bokeh: ERROR: Unable to run BokehJS code because BokehJS library is missing\");\n",
       "        }\n",
       "      }\n",
       "    }, 25, root)\n",
       "  }\n",
       "})(window);</script>"
      ],
      "text/plain": [
       "Row\n",
       "    [0] HSpacer()\n",
       "    [1] Column\n",
       "        [0] Row\n",
       "            [0] Param(RegressionLinearSolver, name='Problem parameters', widgets={})\n",
       "            [1] ParamMethod(method, _pane=Bokeh)\n",
       "        [1] Ace(height=150, language='python', sizing_mode='stretch_both', theme='chaos', value='def linear(\\n        coef...)\n",
       "    [2] HSpacer()"
      ]
     },
     "execution_count": 34,
     "metadata": {
      "application/vnd.holoviews_exec.v0+json": {
       "id": "3669"
      }
     },
     "output_type": "execute_result"
    }
   ],
   "source": [
    "from cml.tasks import RegressionLinearSolver\n",
    "explorer = RegressionLinearSolver()\n",
    "def solve(x, y):\n",
    "    w_1, w_0 = gradient_descent(x, y, n_iter, lr)\n",
    "    x_predict = np.linspace(np.min(x), np.max(x), 200)\n",
    "    y_model = w_1 * x_predict + w_0\n",
    "    return np.array(x_predict), np.array(y_model) #np.array(np.zeros(y_model.shape))\n",
    "\n",
    "explorer.solve = solve\n",
    "explorer.render()"
   ]
  },
  {
   "cell_type": "markdown",
   "metadata": {},
   "source": [
    "<div class=\"alert alert-success\" markdown=\"1\" style=\"color:white; background-color: #192841; border-color: #779ecb\">\n",
    "\n",
    "> ### Going further\n",
    "> **Exercise 1 \\[Learning rate\\]**: Experiment with different learning rates (e.g., 0.001, 0.01, 0.1, 1) and observe how they affect the convergence of the gradient descent algorithm. Plot the convergence history (cost function value vs. iteration) for each learning rate.\n",
    "\n",
    "> **Exercise 2 \\[Initialization\\]**: Experiment with different initializations of the coefficients (zeros, random values, etc.) and observe their impact on the convergence of the gradient descent algorithm.\n",
    "\n",
    "> **Exercise 3 \\[Variants\\]**: Implement and compare different variants of gradient descent, such as stochastic gradient descent (SGD) and mini-batch gradient descent. Analyze their convergence properties and computational efficiency.\n",
    "\n",
    "> **Exercise 4 \\[Regularization\\]**: Implement Lasso and Ridge regression with gradient descent by incorporating the regularization terms into the cost function and gradient calculations. Compare their performance with the standard linear regression implementation and analyze their impact on the learned coefficients.\n",
    "\n",
    "\n",
    "</div>"
   ]
  },
  {
   "cell_type": "markdown",
   "metadata": {
    "tags": []
   },
   "source": [
    "## Discovering automatic differentiation - `JAX`\n",
    "\n",
    "The previous implementation required us to perform manual differentiation of our loss function to understand how to update the parameters. However, large developments have been made in the field of **automatic differentiation**. \n",
    "\n",
    "The recent library [JAX](https://github.com/google/jax) extends NumPy with this automatic differentiation feature (*autograd*), while providing a functional approach to numerical computing, allowing for easy gradient computation and just-in-time (JIT) compilation. Its ability to handle complex and custom gradients makes JAX particularly well-suited for advanced research projects. Similar to NumPy, we strongly encourage you to learn JAX through the set of [tutorials](https://jax.readthedocs.io/en/latest/), but we will also provide here the explanation for all of the functions that we will use in this first exercise. After that, we will assume that knowledge of JAX should be found online. \n",
    "\n",
    "Note that `JAX` has been thought as an extension of `NumPy`, therefore an extremely large portion of its API simply mirrors the `NumPy` functions by adding automatic differentiation features to it.\n",
    "\n",
    "**Used functions**\n",
    "- `random.PRNGKey`: function to generate a key for the pseudorandom number generator. [Documentation](https://jax.readthedocs.io/en/latest/_autosummary/jax.random.PRNGKey.html)"
   ]
  },
  {
   "cell_type": "code",
   "execution_count": 35,
   "metadata": {
    "tags": []
   },
   "outputs": [],
   "source": [
    "import jax.numpy as jnp\n",
    "from jax import grad, jit, random\n",
    "key = random.PRNGKey(42)"
   ]
  },
  {
   "cell_type": "markdown",
   "metadata": {},
   "source": [
    "### Dataset.\n",
    "\n",
    "We can simply keep our previous approach to generating the dataset but we will rely on `jnp.ndarray` instead of `np.ndarray`. We also provide the code for splitting the dataset between a `training` and `validation` dataset, as discussed in the course\n",
    "\n",
    "**Used functions**\n",
    "- `random.split`: function to split a PRNGKey into a list of subkeys [Documentation](https://jax.readthedocs.io/en/latest/_autosummary/jax.random.split.html)\n",
    "- `random.uniform`: function to generate an array of uniformly distributed random numbers [Documentation](https://jax.readthedocs.io/en/latest/_autosummary/jax.random.uniform.html)\n",
    "- `random.normal`: function to generate an array of normally distributed random numbers [Documentation](https://jax.readthedocs.io/en/latest/_autosummary/jax.random.normal.html)"
   ]
  },
  {
   "cell_type": "code",
   "execution_count": 36,
   "metadata": {
    "tags": []
   },
   "outputs": [],
   "source": [
    "true_w0 = 2\n",
    "true_w1 = 3\n",
    "key_0, key_1, key = random.split(key, 3)\n",
    "x = random.uniform(key_0, (100,))\n",
    "y = true_w0 + true_w1 * x + (random.normal(key_1, (100,)) * 0.2)"
   ]
  },
  {
   "cell_type": "code",
   "execution_count": 37,
   "metadata": {
    "tags": []
   },
   "outputs": [],
   "source": [
    "# Splitting our dataset\n",
    "train_size = int(0.8 * len(x))\n",
    "x_train, x_valid = x[:train_size], x[train_size:]\n",
    "y_train, y_valid = y[:train_size], y[train_size:]"
   ]
  },
  {
   "cell_type": "markdown",
   "metadata": {},
   "source": [
    "### Loss function\n",
    "\n",
    "Similarly Define the cost function and its gradient.\n",
    "\n",
    "**Used functions**\n",
    "- `jnp.mean`: function to compute the mean of an array [Documentation](https://jax.readthedocs.io/en/latest/_autosummary/jax.numpy.mean.html)"
   ]
  },
  {
   "cell_type": "code",
   "execution_count": 38,
   "metadata": {
    "tags": []
   },
   "outputs": [],
   "source": [
    "def loss_function(x, y, w_1, w_0):\n",
    "    y_pred = x * w_1 + w_0\n",
    "    residuals = y_pred - y\n",
    "    return jnp.mean(residuals**2)"
   ]
  },
  {
   "cell_type": "markdown",
   "metadata": {},
   "source": [
    "\n",
    "**Used functions**\n",
    "- `jit`: function to compile a function for faster execution [Documentation](https://jax.readthedocs.io/en/latest/jit.html)\n",
    "- `grad`: function to compute the gradient of a function [Documentation](https://jax.readthedocs.io/en/latest/jax.html#jax.grad)"
   ]
  },
  {
   "cell_type": "code",
   "execution_count": 39,
   "metadata": {
    "tags": []
   },
   "outputs": [],
   "source": [
    "grad_loss_function = jit(grad(loss_function, argnums=[2, 3]))"
   ]
  },
  {
   "cell_type": "markdown",
   "metadata": {},
   "source": [
    "### Implement the gradient descent algorithm.\n",
    "\n",
    "Note that nowhere in the code do we need to explicitly define the gradients of the different variables. Yet, the optimization will be performed adequately."
   ]
  },
  {
   "cell_type": "code",
   "execution_count": 40,
   "metadata": {
    "tags": []
   },
   "outputs": [
    {
     "name": "stdout",
     "output_type": "stream",
     "text": [
      "Gradient Descent coefficients: [3.0639796] [1.9661585]\n"
     ]
    }
   ],
   "source": [
    "def gradient_descent(key, x, y, lr=0.05, n_iter=1000):\n",
    "    m = x.shape\n",
    "    k_0, k_1 = random.split(key, 2)\n",
    "    w_0 = random.normal(k_0, (1,))\n",
    "    w_1 = random.normal(k_1, (1,))\n",
    "    loss_history = []\n",
    "    for _ in range(n_iter):\n",
    "        gradients = grad_loss_function(x, y, w_1, w_0)\n",
    "        #print(gradients[0])\n",
    "        w_1 -= lr * gradients[0]\n",
    "        w_0 -= lr * gradients[1]\n",
    "        loss_history.append(loss_function(x, y, w_1, w_0))\n",
    "    return w_1, w_0, loss_history\n",
    "\n",
    "key_gd, key = random.split(key, 2)\n",
    "w_1, w_0, loss_history = gradient_descent(key_gd, x_train, y_train)\n",
    "print(\"Gradient Descent coefficients:\", w_1, w_0)"
   ]
  },
  {
   "cell_type": "markdown",
   "metadata": {},
   "source": [
    "### Evaluate our performances\n",
    "\n",
    "Thanks to our previous split of the dataset, we are now able to evaluate the performances of our model on *unseen data*, which is the overarching goal of building such machine learning models."
   ]
  },
  {
   "cell_type": "code",
   "execution_count": 41,
   "metadata": {
    "tags": []
   },
   "outputs": [
    {
     "name": "stdout",
     "output_type": "stream",
     "text": [
      "MSE for Gradient Descent: 0.03851322\n"
     ]
    }
   ],
   "source": [
    "def mean_squared_error(y_true, y_pred):\n",
    "    return np.mean((y_true - y_pred)**2)\n",
    "\n",
    "y_valid_gd = w_1 * x_valid + w_0\n",
    "mse_gd = mean_squared_error(y_valid, y_valid_gd)\n",
    "print(\"MSE for Gradient Descent:\", mse_gd)"
   ]
  },
  {
   "cell_type": "markdown",
   "metadata": {},
   "source": [
    "### Visualize the results.\n",
    "\n",
    "As previously we can witness our results, and also evaluate our solution with our interactive solver."
   ]
  },
  {
   "cell_type": "code",
   "execution_count": 42,
   "metadata": {
    "tags": []
   },
   "outputs": [
    {
     "data": {},
     "metadata": {},
     "output_type": "display_data"
    },
    {
     "data": {
      "application/vnd.holoviews_exec.v0+json": "",
      "text/html": [
       "<div id='3895'>\n",
       "  <div class=\"bk-root\" id=\"830bd139-378b-46fc-9a0c-c4915f074725\" data-root-id=\"3895\"></div>\n",
       "</div>\n",
       "<script type=\"application/javascript\">(function(root) {\n",
       "  function embed_document(root) {\n",
       "    var docs_json = {\"5071a27c-e42a-46cc-bba3-08d83377a9b6\":{\"defs\":[{\"extends\":null,\"module\":null,\"name\":\"ReactiveHTML1\",\"overrides\":[],\"properties\":[]},{\"extends\":null,\"module\":null,\"name\":\"FlexBox1\",\"overrides\":[],\"properties\":[{\"default\":\"flex-start\",\"kind\":null,\"name\":\"align_content\"},{\"default\":\"flex-start\",\"kind\":null,\"name\":\"align_items\"},{\"default\":\"row\",\"kind\":null,\"name\":\"flex_direction\"},{\"default\":\"wrap\",\"kind\":null,\"name\":\"flex_wrap\"},{\"default\":\"flex-start\",\"kind\":null,\"name\":\"justify_content\"}]},{\"extends\":null,\"module\":null,\"name\":\"GridStack1\",\"overrides\":[],\"properties\":[{\"default\":\"warn\",\"kind\":null,\"name\":\"mode\"},{\"default\":null,\"kind\":null,\"name\":\"ncols\"},{\"default\":null,\"kind\":null,\"name\":\"nrows\"},{\"default\":true,\"kind\":null,\"name\":\"allow_resize\"},{\"default\":true,\"kind\":null,\"name\":\"allow_drag\"},{\"default\":[],\"kind\":null,\"name\":\"state\"}]},{\"extends\":null,\"module\":null,\"name\":\"click1\",\"overrides\":[],\"properties\":[{\"default\":\"\",\"kind\":null,\"name\":\"terminal_output\"},{\"default\":\"\",\"kind\":null,\"name\":\"debug_name\"},{\"default\":0,\"kind\":null,\"name\":\"clears\"}]},{\"extends\":null,\"module\":null,\"name\":\"NotificationAreaBase1\",\"overrides\":[],\"properties\":[{\"default\":\"bottom-right\",\"kind\":null,\"name\":\"position\"},{\"default\":0,\"kind\":null,\"name\":\"_clear\"}]},{\"extends\":null,\"module\":null,\"name\":\"NotificationArea1\",\"overrides\":[],\"properties\":[{\"default\":[],\"kind\":null,\"name\":\"notifications\"},{\"default\":\"bottom-right\",\"kind\":null,\"name\":\"position\"},{\"default\":0,\"kind\":null,\"name\":\"_clear\"},{\"default\":[{\"background\":\"#ffc107\",\"icon\":{\"className\":\"fas fa-exclamation-triangle\",\"color\":\"white\",\"tagName\":\"i\"},\"type\":\"warning\"},{\"background\":\"#007bff\",\"icon\":{\"className\":\"fas fa-info-circle\",\"color\":\"white\",\"tagName\":\"i\"},\"type\":\"info\"}],\"kind\":null,\"name\":\"types\"}]},{\"extends\":null,\"module\":null,\"name\":\"Notification\",\"overrides\":[],\"properties\":[{\"default\":null,\"kind\":null,\"name\":\"background\"},{\"default\":3000,\"kind\":null,\"name\":\"duration\"},{\"default\":null,\"kind\":null,\"name\":\"icon\"},{\"default\":\"\",\"kind\":null,\"name\":\"message\"},{\"default\":null,\"kind\":null,\"name\":\"notification_type\"},{\"default\":false,\"kind\":null,\"name\":\"_destroyed\"}]},{\"extends\":null,\"module\":null,\"name\":\"TemplateActions1\",\"overrides\":[],\"properties\":[{\"default\":0,\"kind\":null,\"name\":\"open_modal\"},{\"default\":0,\"kind\":null,\"name\":\"close_modal\"}]},{\"extends\":null,\"module\":null,\"name\":\"MaterialTemplateActions1\",\"overrides\":[],\"properties\":[{\"default\":0,\"kind\":null,\"name\":\"open_modal\"},{\"default\":0,\"kind\":null,\"name\":\"close_modal\"}]}],\"roots\":{\"references\":[{\"attributes\":{},\"id\":\"3833\",\"type\":\"BasicTicker\"},{\"attributes\":{\"source\":{\"id\":\"3850\"}},\"id\":\"3856\",\"type\":\"CDSView\"},{\"attributes\":{},\"id\":\"3863\",\"type\":\"AllLabels\"},{\"attributes\":{\"line_alpha\":0.1,\"line_color\":\"red\",\"line_width\":6,\"x\":{\"field\":\"x\"},\"y\":{\"field\":\"y\"}},\"id\":\"3877\",\"type\":\"Line\"},{\"attributes\":{\"fill_alpha\":{\"value\":0.8},\"fill_color\":{\"value\":\"red\"},\"line_color\":{\"value\":\"white\"}},\"id\":\"3871\",\"type\":\"Circle\"},{\"attributes\":{},\"id\":\"3840\",\"type\":\"ResetTool\"},{\"attributes\":{\"label\":{\"value\":\"Learned model\"},\"renderers\":[{\"id\":\"3879\"}]},\"id\":\"3894\",\"type\":\"LegendItem\"},{\"attributes\":{\"label\":{\"value\":\"Observations\"},\"renderers\":[{\"id\":\"3855\"}]},\"id\":\"3868\",\"type\":\"LegendItem\"},{\"attributes\":{},\"id\":\"3839\",\"type\":\"SaveTool\"},{\"attributes\":{},\"id\":\"3890\",\"type\":\"UnionRenderers\"},{\"attributes\":{\"overlay\":{\"id\":\"3842\"}},\"id\":\"3838\",\"type\":\"BoxZoomTool\"},{\"attributes\":{\"coordinates\":null,\"data_source\":{\"id\":\"3850\"},\"glyph\":{\"id\":\"3851\"},\"group\":null,\"hover_glyph\":{\"id\":\"3853\"},\"muted_glyph\":{\"id\":\"3854\"},\"nonselection_glyph\":{\"id\":\"3872\"},\"selection_glyph\":{\"id\":\"3871\"},\"view\":{\"id\":\"3856\"}},\"id\":\"3855\",\"type\":\"GlyphRenderer\"},{\"attributes\":{\"mode\":\"append\",\"overlay\":{\"id\":\"3893\"},\"renderers\":[{\"id\":\"3855\"}]},\"id\":\"3873\",\"type\":\"BoxSelectTool\"},{\"attributes\":{},\"id\":\"3891\",\"type\":\"Selection\"},{\"attributes\":{\"callback\":null,\"mode\":\"vline\",\"renderers\":[{\"id\":\"3855\"}],\"tooltips\":null},\"id\":\"3869\",\"type\":\"HoverTool\"},{\"attributes\":{\"bottom_units\":\"screen\",\"coordinates\":null,\"fill_alpha\":0.5,\"fill_color\":\"lightgrey\",\"group\":null,\"left_units\":\"screen\",\"level\":\"overlay\",\"line_alpha\":1.0,\"line_color\":\"black\",\"line_dash\":[4,4],\"line_width\":2,\"right_units\":\"screen\",\"syncable\":false,\"top_units\":\"screen\"},\"id\":\"3842\",\"type\":\"BoxAnnotation\"},{\"attributes\":{\"fill_alpha\":{\"value\":0.5},\"fill_color\":{\"value\":\"midnightblue\"},\"line_color\":{\"value\":\"white\"}},\"id\":\"3872\",\"type\":\"Circle\"},{\"attributes\":{\"coordinates\":null,\"group\":null,\"text\":\"Linear regression\",\"text_color\":\"#E0E0E0\",\"text_font\":\"Josefin Sans\",\"text_font_size\":\"2.1em\"},\"id\":\"3818\",\"type\":\"Title\"},{\"attributes\":{},\"id\":\"3860\",\"type\":\"AllLabels\"},{\"attributes\":{},\"id\":\"3820\",\"type\":\"DataRange1d\"},{\"attributes\":{},\"id\":\"3824\",\"type\":\"LinearScale\"},{\"attributes\":{},\"id\":\"3822\",\"type\":\"DataRange1d\"},{\"attributes\":{},\"id\":\"3859\",\"type\":\"BasicTickFormatter\"},{\"attributes\":{\"line_alpha\":0.2,\"line_color\":\"red\",\"line_width\":6,\"x\":{\"field\":\"x\"},\"y\":{\"field\":\"y\"}},\"id\":\"3878\",\"type\":\"Line\"},{\"attributes\":{\"bottom_units\":\"screen\",\"coordinates\":null,\"fill_alpha\":0.5,\"fill_color\":\"lightgrey\",\"group\":null,\"left_units\":\"screen\",\"level\":\"overlay\",\"line_alpha\":1.0,\"line_color\":\"black\",\"line_dash\":[4,4],\"line_width\":2,\"right_units\":\"screen\",\"syncable\":false,\"top_units\":\"screen\"},\"id\":\"3893\",\"type\":\"BoxAnnotation\"},{\"attributes\":{\"children\":[{\"id\":\"3896\"},{\"id\":\"3817\"},{\"id\":\"3923\"}],\"margin\":[0,0,0,0],\"name\":\"Row00268\"},\"id\":\"3895\",\"type\":\"Row\"},{\"attributes\":{\"background_fill_alpha\":0.25,\"background_fill_color\":\"#505050\",\"border_line_alpha\":0.25,\"coordinates\":null,\"group\":null,\"items\":[{\"id\":\"3868\"},{\"id\":\"3894\"}],\"label_standoff\":8,\"label_text_color\":\"#E0E0E0\",\"label_text_font\":\"Josefin Sans\",\"label_text_font_size\":\"1.15em\",\"spacing\":8},\"id\":\"3867\",\"type\":\"Legend\"},{\"attributes\":{\"axis_label\":\"x\",\"axis_label_standoff\":10,\"axis_label_text_color\":\"#FFFFFF\",\"axis_label_text_font\":\"Josefin Sans\",\"axis_label_text_font_size\":\"1.9em\",\"axis_label_text_font_style\":\"bold\",\"axis_line_alpha\":0.4,\"axis_line_color\":\"#E0E0E0\",\"coordinates\":null,\"formatter\":{\"id\":\"3862\"},\"group\":null,\"major_label_policy\":{\"id\":\"3863\"},\"major_label_text_color\":\"#E0E0E0\",\"major_label_text_font\":\"Josefin Sans\",\"major_label_text_font_size\":\"1.15em\",\"major_tick_line_alpha\":0.4,\"major_tick_line_color\":\"#E0E0E0\",\"minor_tick_line_alpha\":0.4,\"minor_tick_line_color\":\"#E0E0E0\",\"ticker\":{\"id\":\"3829\"}},\"id\":\"3828\",\"type\":\"LinearAxis\"},{\"attributes\":{\"margin\":[5,5,5,5],\"name\":\"HSpacer00265\",\"sizing_mode\":\"stretch_width\"},\"id\":\"3923\",\"type\":\"Spacer\"},{\"attributes\":{\"fill_alpha\":{\"value\":0.25},\"fill_color\":{\"value\":\"midnightblue\"},\"hatch_alpha\":{\"value\":0.25},\"line_alpha\":{\"value\":0.25},\"line_color\":{\"value\":\"white\"},\"size\":{\"value\":10},\"x\":{\"field\":\"x\"},\"y\":{\"field\":\"y\"}},\"id\":\"3851\",\"type\":\"Circle\"},{\"attributes\":{},\"id\":\"3841\",\"type\":\"HelpTool\"},{\"attributes\":{\"margin\":[5,5,5,5],\"name\":\"HSpacer00264\",\"sizing_mode\":\"stretch_width\"},\"id\":\"3896\",\"type\":\"Spacer\"},{\"attributes\":{\"data\":{\"x\":{\"__ndarray__\":\"7N0EP9Q2/z5g7bU++IQEPtBIGD7odLA+gJ3xPYCBGz7wBCQ+wCzBPFqjWz/kFmw/YGWPPUT3XT/EQYo+BPgjP/wkxj4gLeU+3D7nPiA43T3w0Qg/JmI8P+iTiD66Eis/rAqlPjgdYz6e7UI/hHlZP+gBXT5c2ME+DvAoP8DoaD7WWTI/rNGfPtJJAz/wCi0+cl4uP+DEBj9AQes+NKKAPrI1GD9OHUQ/cHTMPuwfEj+cmpw+mqxfP7iW9T50PCQ/EphXP5jmIj6WUR8/VO8xP7JYEz/8XpU+WGMPPqSE7z7exh4/CNE6PxIaTD8atGs/6oMGPyxhaD+cBjg/MI6tPvCl0T0A6A47RtlMPyYjIj+SbAc/IHYnPyg2cz9MZK8+mI4SP3RGNT/Oa2M/YLLhPlAHHD/iDwI/2BIpP7Aqbz4MGXw/VgtwP5agUD84HFc+2K94PtSOZD9YSTk/YJp7PdxJBT9klL4+qD1zPuRAzj78Cw4/cGG5PgAfxz0wOc4+6HeePtA+Uz4gIrw95GT5Pg==\",\"dtype\":\"float32\",\"order\":\"little\",\"shape\":[100]},\"y\":{\"__ndarray__\":\"CJxjQJ2UX0AGg0NAITYXQBX/GkCmakFA+fcUQAKdG0BePh1AT3UCQLQJk0C2VplAcZALQPDtk0BDyTJA9G57QBS5SUCqm1VAjmZWQAgEE0A7o2ZAQxGHQKEkMkAKcIBAcQs9QINTKUD2kolAljWSQCMoKECME0hAVD1/QJtvKkCbOYNAYAs7QH5mYkC7+B5ALrOBQAkRZUCo71dAuhkvQBBtckBGB4pAzCNMQNLDbUAk0DlAb5WUQN7kW0Bho3tAMX2RQIkHHUAY33dA0BCDQGezbkD6CjdA80oZQKiRWUDWdHdAo3eGQGoWjUDgMJlARt9kQPnql0AEZoVAME5AQGfoEUADhvw/pV+NQM4HekB+kWVA1ht+QAURnEA+AkFAmBhuQFNYhEDPBJZAg0ZUQOpZdUAEdmFA+ld/QGCiK0BMeJ9AetqaQB/SjkAJBydAFnUtQEV0lkCf4YVAK+EJQLbuY0Bf00ZAGmosQCbUTEArpGpAntVEQF3mEEAy0UxA8oY6QJBJJkAJ2Q9A+FldQA==\",\"dtype\":\"float32\",\"order\":\"little\",\"shape\":[100]}},\"selected\":{\"id\":\"3891\"},\"selection_policy\":{\"id\":\"3890\"}},\"id\":\"3875\",\"type\":\"ColumnDataSource\"},{\"attributes\":{\"axis\":{\"id\":\"3828\"},\"coordinates\":null,\"grid_line_alpha\":0.15,\"grid_line_color\":\"#E0E0E0\",\"group\":null,\"ticker\":null},\"id\":\"3831\",\"type\":\"Grid\"},{\"attributes\":{\"axis_label\":\"y\",\"axis_label_standoff\":10,\"axis_label_text_color\":\"#FFFFFF\",\"axis_label_text_font\":\"Josefin Sans\",\"axis_label_text_font_size\":\"1.9em\",\"axis_label_text_font_style\":\"bold\",\"axis_line_alpha\":0.4,\"axis_line_color\":\"#E0E0E0\",\"coordinates\":null,\"formatter\":{\"id\":\"3859\"},\"group\":null,\"major_label_policy\":{\"id\":\"3860\"},\"major_label_text_color\":\"#E0E0E0\",\"major_label_text_font\":\"Josefin Sans\",\"major_label_text_font_size\":\"1.15em\",\"major_tick_line_alpha\":0.4,\"major_tick_line_color\":\"#E0E0E0\",\"minor_tick_line_alpha\":0.4,\"minor_tick_line_color\":\"#E0E0E0\",\"ticker\":{\"id\":\"3833\"}},\"id\":\"3832\",\"type\":\"LinearAxis\"},{\"attributes\":{},\"id\":\"3837\",\"type\":\"WheelZoomTool\"},{\"attributes\":{},\"id\":\"3829\",\"type\":\"BasicTicker\"},{\"attributes\":{\"background_fill_alpha\":0.9,\"background_fill_color\":\"#0f0f0f\",\"below\":[{\"id\":\"3828\"}],\"border_fill_alpha\":0.8,\"border_fill_color\":\"#111111\",\"center\":[{\"id\":\"3831\"},{\"id\":\"3835\"},{\"id\":\"3867\"}],\"height\":450,\"left\":[{\"id\":\"3832\"}],\"outline_line_alpha\":0.25,\"outline_line_color\":\"#E0E0E0\",\"outline_line_width\":3,\"renderers\":[{\"id\":\"3855\"},{\"id\":\"3879\"}],\"title\":{\"id\":\"3818\"},\"toolbar\":{\"id\":\"3843\"},\"toolbar_location\":null,\"x_range\":{\"id\":\"3820\"},\"x_scale\":{\"id\":\"3824\"},\"y_range\":{\"id\":\"3822\"},\"y_scale\":{\"id\":\"3826\"}},\"id\":\"3817\",\"subtype\":\"Figure\",\"type\":\"Plot\"},{\"attributes\":{\"coordinates\":null,\"data_source\":{\"id\":\"3875\"},\"glyph\":{\"id\":\"3876\"},\"group\":null,\"hover_glyph\":null,\"muted_glyph\":{\"id\":\"3878\"},\"nonselection_glyph\":{\"id\":\"3877\"},\"view\":{\"id\":\"3880\"}},\"id\":\"3879\",\"type\":\"GlyphRenderer\"},{\"attributes\":{},\"id\":\"3836\",\"type\":\"PanTool\"},{\"attributes\":{\"axis\":{\"id\":\"3832\"},\"coordinates\":null,\"dimension\":1,\"grid_line_alpha\":0.15,\"grid_line_color\":\"#E0E0E0\",\"group\":null,\"ticker\":null},\"id\":\"3835\",\"type\":\"Grid\"},{\"attributes\":{\"source\":{\"id\":\"3875\"}},\"id\":\"3880\",\"type\":\"CDSView\"},{\"attributes\":{},\"id\":\"3862\",\"type\":\"BasicTickFormatter\"},{\"attributes\":{\"data\":{\"x\":{\"__ndarray__\":\"7N0EP9Q2/z5g7bU++IQEPtBIGD7odLA+gJ3xPYCBGz7wBCQ+wCzBPFqjWz/kFmw/YGWPPUT3XT/EQYo+BPgjP/wkxj4gLeU+3D7nPiA43T3w0Qg/JmI8P+iTiD66Eis/rAqlPjgdYz6e7UI/hHlZP+gBXT5c2ME+DvAoP8DoaD7WWTI/rNGfPtJJAz/wCi0+cl4uP+DEBj9AQes+NKKAPrI1GD9OHUQ/cHTMPuwfEj+cmpw+mqxfP7iW9T50PCQ/EphXP5jmIj6WUR8/VO8xP7JYEz/8XpU+WGMPPqSE7z7exh4/CNE6PxIaTD8atGs/6oMGPyxhaD+cBjg/MI6tPvCl0T0A6A47RtlMPyYjIj+SbAc/IHYnPyg2cz9MZK8+mI4SP3RGNT/Oa2M/YLLhPlAHHD/iDwI/2BIpP7Aqbz4MGXw/VgtwP5agUD84HFc+2K94PtSOZD9YSTk/YJp7PdxJBT9klL4+qD1zPuRAzj78Cw4/cGG5PgAfxz0wOc4+6HeePtA+Uz4gIrw95GT5Pg==\",\"dtype\":\"float32\",\"order\":\"little\",\"shape\":[100]},\"y\":{\"__ndarray__\":\"jTtpQEHUQ0D0K0ZAA2QdQOYtDUAko1ZAgjIVQNlw+j99hSxAxcYDQK1ujED+wJRA+l7+P+r5kkA2QS9AHpR8QAn8RkBm9ldAKBVZQInyCECdtFRAqsmIQP70HkDJNYNA+fI+QG8hL0CgXIdAk1CHQHbqLUAw3ktAozOBQDyzI0DOxoZAkl06QOI3ZECT6zZACK5xQJ2VWkCbVVtARDMuQJlhgECBY4ZA8ftiQNhSZECXMzxAoIGSQChOakABt3JAAiWLQMNcKUDCI3tAQjWOQFMdd0CcdCdAOQEXQGiuSkA50IhAeIyRQEJIjEB6nJRApXdfQOofmEClpolA3jhGQAeWEkB0K/Q/69uNQH0GiUDOpGFAX79yQDM3pUBhiUpAQzloQMdniUDZ/JNAr+xMQOzockASOWZA/aODQGtvIUCw56JAx0ObQH4xkkCP6zhA9r4rQDbBnUBhFIVAsNYfQF6sX0CpQDlAojoqQOaFOUDbe29AFv5YQCCVLkCxf0hAqSk/QHnbKkACNxlADmheQA==\",\"dtype\":\"float32\",\"order\":\"little\",\"shape\":[100]}},\"selected\":{\"id\":\"3865\"},\"selection_policy\":{\"id\":\"3864\"}},\"id\":\"3850\",\"type\":\"ColumnDataSource\"},{\"attributes\":{\"client_comm_id\":\"8ff1b51831f5478e94361d77bfd42b7d\",\"comm_id\":\"7b0dd0d376dd476d8f34610ee674b252\",\"plot_id\":\"3895\"},\"id\":\"3963\",\"type\":\"panel.models.comm_manager.CommManager\"},{\"attributes\":{\"fill_alpha\":{\"value\":0.5},\"fill_color\":{\"value\":\"red\"},\"hatch_alpha\":{\"value\":0.5},\"line_alpha\":{\"value\":0.5},\"line_color\":{\"value\":\"white\"},\"size\":{\"value\":10},\"x\":{\"field\":\"x\"},\"y\":{\"field\":\"y\"}},\"id\":\"3853\",\"type\":\"Circle\"},{\"attributes\":{\"tools\":[{\"id\":\"3836\"},{\"id\":\"3837\"},{\"id\":\"3838\"},{\"id\":\"3839\"},{\"id\":\"3840\"},{\"id\":\"3841\"},{\"id\":\"3869\"},{\"id\":\"3873\"}]},\"id\":\"3843\",\"type\":\"Toolbar\"},{\"attributes\":{\"fill_alpha\":{\"value\":0.2},\"fill_color\":{\"value\":\"midnightblue\"},\"hatch_alpha\":{\"value\":0.2},\"line_alpha\":{\"value\":0.2},\"line_color\":{\"value\":\"white\"},\"size\":{\"value\":10},\"x\":{\"field\":\"x\"},\"y\":{\"field\":\"y\"}},\"id\":\"3854\",\"type\":\"Circle\"},{\"attributes\":{},\"id\":\"3865\",\"type\":\"Selection\"},{\"attributes\":{\"line_alpha\":0.6,\"line_color\":\"red\",\"line_width\":6,\"x\":{\"field\":\"x\"},\"y\":{\"field\":\"y\"}},\"id\":\"3876\",\"type\":\"Line\"},{\"attributes\":{},\"id\":\"3826\",\"type\":\"LinearScale\"},{\"attributes\":{},\"id\":\"3864\",\"type\":\"UnionRenderers\"}],\"root_ids\":[\"3895\",\"3963\"]},\"title\":\"Bokeh Application\",\"version\":\"2.4.3\"}};\n",
       "    var render_items = [{\"docid\":\"5071a27c-e42a-46cc-bba3-08d83377a9b6\",\"root_ids\":[\"3895\"],\"roots\":{\"3895\":\"830bd139-378b-46fc-9a0c-c4915f074725\"}}];\n",
       "    root.Bokeh.embed.embed_items_notebook(docs_json, render_items);\n",
       "    for (const render_item of render_items) {\n",
       "      for (const root_id of render_item.root_ids) {\n",
       "\tconst id_el = document.getElementById(root_id)\n",
       "\tif (id_el.children.length && (id_el.children[0].className === 'bk-root')) {\n",
       "\t  const root_el = id_el.children[0]\n",
       "\t  root_el.id = root_el.id + '-rendered'\n",
       "\t}\n",
       "      }\n",
       "    }\n",
       "  }\n",
       "  if (root.Bokeh !== undefined && root.Bokeh.Panel !== undefined) {\n",
       "    embed_document(root);\n",
       "  } else {\n",
       "    var attempts = 0;\n",
       "    var timer = setInterval(function(root) {\n",
       "      if (root.Bokeh !== undefined && root.Bokeh.Panel !== undefined) {\n",
       "        clearInterval(timer);\n",
       "        embed_document(root);\n",
       "      } else if (document.readyState == \"complete\") {\n",
       "        attempts++;\n",
       "        if (attempts > 200) {\n",
       "          clearInterval(timer);\n",
       "          console.log(\"Bokeh: ERROR: Unable to run BokehJS code because BokehJS library is missing\");\n",
       "        }\n",
       "      }\n",
       "    }, 25, root)\n",
       "  }\n",
       "})(window);</script>"
      ],
      "text/plain": [
       "Row\n",
       "    [0] HSpacer()\n",
       "    [1] Bokeh(Figure)\n",
       "    [2] HSpacer()"
      ]
     },
     "execution_count": 42,
     "metadata": {
      "application/vnd.holoviews_exec.v0+json": {
       "id": "3895"
      }
     },
     "output_type": "execute_result"
    }
   ],
   "source": [
    "p = scatter(np.array(x), np.array(y), title=\"Linear regression\")\n",
    "p.line(np.array(x), np.array(w_1 * x + w_0), line_width=6, line_alpha=0.6, color=\"red\", legend_label=r\"Learned model\")\n",
    "plot = (center_plot(p))\n",
    "plot"
   ]
  },
  {
   "cell_type": "code",
   "execution_count": 43,
   "metadata": {
    "tags": []
   },
   "outputs": [
    {
     "data": {},
     "metadata": {},
     "output_type": "display_data"
    },
    {
     "data": {
      "application/vnd.holoviews_exec.v0+json": "",
      "text/html": [
       "<div id='4107'>\n",
       "  <div class=\"bk-root\" id=\"d5502abb-6884-4ca5-9241-b5f8ca764a6e\" data-root-id=\"4107\"></div>\n",
       "</div>\n",
       "<script type=\"application/javascript\">(function(root) {\n",
       "  function embed_document(root) {\n",
       "    var docs_json = {\"9c363146-f33f-4723-bef1-728448c464f8\":{\"defs\":[{\"extends\":null,\"module\":null,\"name\":\"ReactiveHTML1\",\"overrides\":[],\"properties\":[]},{\"extends\":null,\"module\":null,\"name\":\"FlexBox1\",\"overrides\":[],\"properties\":[{\"default\":\"flex-start\",\"kind\":null,\"name\":\"align_content\"},{\"default\":\"flex-start\",\"kind\":null,\"name\":\"align_items\"},{\"default\":\"row\",\"kind\":null,\"name\":\"flex_direction\"},{\"default\":\"wrap\",\"kind\":null,\"name\":\"flex_wrap\"},{\"default\":\"flex-start\",\"kind\":null,\"name\":\"justify_content\"}]},{\"extends\":null,\"module\":null,\"name\":\"GridStack1\",\"overrides\":[],\"properties\":[{\"default\":\"warn\",\"kind\":null,\"name\":\"mode\"},{\"default\":null,\"kind\":null,\"name\":\"ncols\"},{\"default\":null,\"kind\":null,\"name\":\"nrows\"},{\"default\":true,\"kind\":null,\"name\":\"allow_resize\"},{\"default\":true,\"kind\":null,\"name\":\"allow_drag\"},{\"default\":[],\"kind\":null,\"name\":\"state\"}]},{\"extends\":null,\"module\":null,\"name\":\"click1\",\"overrides\":[],\"properties\":[{\"default\":\"\",\"kind\":null,\"name\":\"terminal_output\"},{\"default\":\"\",\"kind\":null,\"name\":\"debug_name\"},{\"default\":0,\"kind\":null,\"name\":\"clears\"}]},{\"extends\":null,\"module\":null,\"name\":\"NotificationAreaBase1\",\"overrides\":[],\"properties\":[{\"default\":\"bottom-right\",\"kind\":null,\"name\":\"position\"},{\"default\":0,\"kind\":null,\"name\":\"_clear\"}]},{\"extends\":null,\"module\":null,\"name\":\"NotificationArea1\",\"overrides\":[],\"properties\":[{\"default\":[],\"kind\":null,\"name\":\"notifications\"},{\"default\":\"bottom-right\",\"kind\":null,\"name\":\"position\"},{\"default\":0,\"kind\":null,\"name\":\"_clear\"},{\"default\":[{\"background\":\"#ffc107\",\"icon\":{\"className\":\"fas fa-exclamation-triangle\",\"color\":\"white\",\"tagName\":\"i\"},\"type\":\"warning\"},{\"background\":\"#007bff\",\"icon\":{\"className\":\"fas fa-info-circle\",\"color\":\"white\",\"tagName\":\"i\"},\"type\":\"info\"}],\"kind\":null,\"name\":\"types\"}]},{\"extends\":null,\"module\":null,\"name\":\"Notification\",\"overrides\":[],\"properties\":[{\"default\":null,\"kind\":null,\"name\":\"background\"},{\"default\":3000,\"kind\":null,\"name\":\"duration\"},{\"default\":null,\"kind\":null,\"name\":\"icon\"},{\"default\":\"\",\"kind\":null,\"name\":\"message\"},{\"default\":null,\"kind\":null,\"name\":\"notification_type\"},{\"default\":false,\"kind\":null,\"name\":\"_destroyed\"}]},{\"extends\":null,\"module\":null,\"name\":\"TemplateActions1\",\"overrides\":[],\"properties\":[{\"default\":0,\"kind\":null,\"name\":\"open_modal\"},{\"default\":0,\"kind\":null,\"name\":\"close_modal\"}]},{\"extends\":null,\"module\":null,\"name\":\"MaterialTemplateActions1\",\"overrides\":[],\"properties\":[{\"default\":0,\"kind\":null,\"name\":\"open_modal\"},{\"default\":0,\"kind\":null,\"name\":\"close_modal\"}]}],\"roots\":{\"references\":[{\"attributes\":{\"data\":{\"x\":{\"__ndarray__\":\"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\",\"dtype\":\"float64\",\"order\":\"little\",\"shape\":[200]},\"y\":{\"__ndarray__\":\"ylKPvFKRSrwi+uy7PKMJu8itRju0vwU89tNZPBz0ljw8/sA8XgjrPD+JCj1Qjh89YJM0PW+YST2BnV49kaJzPdBThD1Y1o494liZPWrboz3yXa49euC4PQJjwz2K5c09EmjYPZzq4j0ibe09rO/3PRo5AT5eegY+orsLPub8ED4qPhY+b38bPrLAID73ASY+O0MrPn6EMD7DxTU+Bgc7PktIQD6PiUU+08pKPhcMUD5cTVU+n45aPuTPXz4oEWU+bFJqPq+Tbz711HQ+ORZ6PntXfz5gTII+Au2EPqSNhz5GLoo+586MPopvjz4sEJI+zrCUPnBRlz4S8pk+tJKcPlYznz7406E+m3SkPj0Vpz7etak+gFasPiP3rj7Fl7E+Zzi0PgjZtj6qebk+TRq8Pu+6vj6RW8E+MvzDPtWcxj53Pck+Gd7LPrt+zj5eH9E+/7/TPqFg1j5DAdk+5qHbPohC3j4p4+A+y4PjPm0k5j4Qxeg+smXrPlQG7j71pvA+mEfzPjro9T7biPg+fSn7PiHK/T5hNQA/s4UBPwTWAj9UJgQ/pnYFP/fGBj9IFwg/mWcJP+m3Cj87CAw/jFgNP92oDj8u+Q8/fkkRP9CZEj8h6hM/cjoVP8OKFj8U2xc/ZSsZP7Z7Gj8HzBs/WBwdP6lsHj/6vB8/Sw0hP5xdIj/trSM/P/4kP49OJj/gnic/Mu8oP4I/Kj/Ujys/JOAsP3UwLj/HgC8/F9EwP2khMj+6cTM/CsI0P1wSNj+sYjc//rI4P08DOj+fUzs/8aM8P0H0PT+TRD8/5JRAPzTlQT+GNUM/14VEPyjWRT95Jkc/yXZIPxvHST9sF0s/vWdMPw64TT9gCE8/sFhQPwGpUT9S+VI/o0lUP/WZVT9F6lY/ljpYP+eKWT8421o/iitcP9p7XT8rzF4/fRxgP81sYT8fvWI/bw1kP8BdZT8SrmY/Yv5nP7ROaT8En2o/Ve9rP6c/bT/3j24/SeBvP5owcT/rgHI/PNFzP4whdT/ecXY/L8J3P4ASeT/RYno/IrN7P3IDfT/EU34/FKR/PzN6gD8=\",\"dtype\":\"float32\",\"order\":\"little\",\"shape\":[200]}},\"selected\":{\"id\":\"4103\"},\"selection_policy\":{\"id\":\"4102\"}},\"id\":\"4087\",\"type\":\"ColumnDataSource\"},{\"attributes\":{},\"id\":\"4052\",\"type\":\"ResetTool\"},{\"attributes\":{},\"id\":\"4071\",\"type\":\"BasicTickFormatter\"},{\"attributes\":{},\"id\":\"4051\",\"type\":\"SaveTool\"},{\"attributes\":{},\"id\":\"4072\",\"type\":\"AllLabels\"},{\"attributes\":{\"overlay\":{\"id\":\"4054\"}},\"id\":\"4050\",\"type\":\"BoxZoomTool\"},{\"attributes\":{},\"id\":\"4048\",\"type\":\"PanTool\"},{\"attributes\":{\"coordinates\":null,\"group\":null,\"text\":\"Linear regression problem\",\"text_color\":\"#E0E0E0\",\"text_font\":\"Josefin Sans\",\"text_font_size\":\"2.1em\"},\"id\":\"4030\",\"type\":\"Title\"},{\"attributes\":{},\"id\":\"4074\",\"type\":\"BasicTickFormatter\"},{\"attributes\":{\"args\":{\"bidirectional\":true,\"properties\":{\"readonly\":\"disabled\"},\"source\":{\"id\":\"4146\"},\"target\":{\"id\":\"4146\"}},\"code\":\"\\n    var value = source['readonly'];\\n    value = value;\\n    value = value;\\n    try {\\n      var property = target.properties['disabled'];\\n      if (property !== undefined) { property.validate(value); }\\n    } catch(err) {\\n      console.log('WARNING: Could not set disabled on target, raised error: ' + err);\\n      return;\\n    }\\n    try {\\n      target['disabled'] = value;\\n    } catch(err) {\\n      console.log(err)\\n    }\\n    \",\"tags\":[[140085076011200,[null,\"readonly\"],[null,\"disabled\"]]]},\"id\":\"4161\",\"type\":\"CustomJS\"},{\"attributes\":{},\"id\":\"4075\",\"type\":\"AllLabels\"},{\"attributes\":{\"children\":[{\"id\":\"4108\"},{\"id\":\"4109\"},{\"id\":\"4147\"}],\"margin\":[0,0,0,0],\"name\":\"Row00301\"},\"id\":\"4107\",\"type\":\"Row\"},{\"attributes\":{\"margin\":[5,5,5,5],\"name\":\"HSpacer00272\",\"sizing_mode\":\"stretch_width\"},\"id\":\"4108\",\"type\":\"Spacer\"},{\"attributes\":{\"args\":{\"bidirectional\":true,\"properties\":{\"readonly\":\"disabled\"},\"source\":{\"id\":\"4146\"},\"target\":{\"id\":\"4146\"}},\"code\":\"\\n    var value = source['disabled'];\\n    value = value;\\n    value = value;\\n    try {\\n      var property = target.properties['readonly'];\\n      if (property !== undefined) { property.validate(value); }\\n    } catch(err) {\\n      console.log('WARNING: Could not set readonly on target, raised error: ' + err);\\n      return;\\n    }\\n    try {\\n      target['readonly'] = value;\\n    } catch(err) {\\n      console.log(err)\\n    }\\n    \",\"tags\":[[140085076011200,[null,\"readonly\"],[null,\"disabled\"]]]},\"id\":\"4162\",\"type\":\"CustomJS\"},{\"attributes\":{\"children\":[{\"id\":\"4110\"},{\"id\":\"4146\"}],\"margin\":[0,0,0,0],\"name\":\"Column00299\"},\"id\":\"4109\",\"type\":\"Column\"},{\"attributes\":{\"children\":[{\"id\":\"4112\"},{\"id\":\"4113\"},{\"id\":\"4114\"},{\"id\":\"4115\"},{\"id\":\"4116\"},{\"id\":\"4117\"},{\"id\":\"4118\"}],\"margin\":[5,5,5,5],\"min_width\":300,\"name\":\"Problem parameters\",\"width\":300},\"id\":\"4111\",\"type\":\"Column\"},{\"attributes\":{\"children\":[{\"id\":\"4111\"},{\"id\":\"4119\"}],\"margin\":[0,0,0,0],\"name\":\"Row00296\"},\"id\":\"4110\",\"type\":\"Row\"},{\"attributes\":{\"fill_alpha\":{\"value\":0.25},\"fill_color\":{\"value\":\"midnightblue\"},\"hatch_alpha\":{\"value\":0.25},\"line_alpha\":{\"value\":0.25},\"line_color\":{\"value\":\"white\"},\"size\":{\"value\":10},\"x\":{\"field\":\"x\"},\"y\":{\"field\":\"y\"}},\"id\":\"4063\",\"type\":\"Circle\"},{\"attributes\":{\"margin\":[5,10,5,10],\"name\":\"\",\"text\":\"<b>Problem parameters</b>\"},\"id\":\"4112\",\"type\":\"Div\"},{\"attributes\":{\"labels\":[\"Ground truth\"],\"margin\":[5,10,5,10]},\"id\":\"4115\",\"type\":\"CheckboxGroup\"},{\"attributes\":{},\"id\":\"4076\",\"type\":\"UnionRenderers\"},{\"attributes\":{\"labels\":[\"Error\"],\"margin\":[5,10,5,10]},\"id\":\"4116\",\"type\":\"CheckboxGroup\"},{\"attributes\":{\"bottom_units\":\"screen\",\"coordinates\":null,\"fill_alpha\":0.5,\"fill_color\":\"lightgrey\",\"group\":null,\"left_units\":\"screen\",\"level\":\"overlay\",\"line_alpha\":1.0,\"line_color\":\"black\",\"line_dash\":[4,4],\"line_width\":2,\"right_units\":\"screen\",\"syncable\":false,\"top_units\":\"screen\"},\"id\":\"4054\",\"type\":\"BoxAnnotation\"},{\"attributes\":{\"end\":1000,\"margin\":[5,10,5,10],\"start\":10,\"title\":\"Number observations\",\"value\":100},\"id\":\"4113\",\"type\":\"Slider\"},{\"attributes\":{},\"id\":\"4077\",\"type\":\"Selection\"},{\"attributes\":{\"end\":5.0,\"margin\":[5,10,5,10],\"start\":-5.0,\"step\":0.1,\"title\":\"X 1\",\"value\":1.0},\"id\":\"4117\",\"type\":\"Slider\"},{\"attributes\":{\"end\":5.0,\"margin\":[5,10,5,10],\"start\":0.0,\"step\":0.1,\"title\":\"Noise level\",\"value\":0.1},\"id\":\"4114\",\"type\":\"Slider\"},{\"attributes\":{\"source\":{\"id\":\"4062\"}},\"id\":\"4068\",\"type\":\"CDSView\"},{\"attributes\":{\"background_fill_alpha\":0.25,\"background_fill_color\":\"#505050\",\"border_line_alpha\":0.25,\"coordinates\":null,\"group\":null,\"items\":[{\"id\":\"4080\"},{\"id\":\"4106\"}],\"label_standoff\":8,\"label_text_color\":\"#E0E0E0\",\"label_text_font\":\"Josefin Sans\",\"label_text_font_size\":\"1.15em\",\"spacing\":8},\"id\":\"4079\",\"type\":\"Legend\"},{\"attributes\":{\"axis_label\":\"$$\\\\color{white} x$$\",\"axis_label_standoff\":10,\"axis_label_text_color\":\"#FFFFFF\",\"axis_label_text_font\":\"Josefin Sans\",\"axis_label_text_font_size\":\"1.9em\",\"axis_label_text_font_style\":\"bold\",\"axis_line_alpha\":0.4,\"axis_line_color\":\"#E0E0E0\",\"coordinates\":null,\"formatter\":{\"id\":\"4074\"},\"group\":null,\"major_label_policy\":{\"id\":\"4075\"},\"major_label_text_color\":\"#E0E0E0\",\"major_label_text_font\":\"Josefin Sans\",\"major_label_text_font_size\":\"1.15em\",\"major_tick_line_alpha\":0.4,\"major_tick_line_color\":\"#E0E0E0\",\"minor_tick_line_alpha\":0.4,\"minor_tick_line_color\":\"#E0E0E0\",\"ticker\":{\"id\":\"4041\"}},\"id\":\"4040\",\"type\":\"LinearAxis\"},{\"attributes\":{\"coordinates\":null,\"data_source\":{\"id\":\"4062\"},\"glyph\":{\"id\":\"4063\"},\"group\":null,\"hover_glyph\":{\"id\":\"4065\"},\"muted_glyph\":{\"id\":\"4066\"},\"nonselection_glyph\":{\"id\":\"4084\"},\"selection_glyph\":{\"id\":\"4083\"},\"view\":{\"id\":\"4068\"}},\"id\":\"4067\",\"type\":\"GlyphRenderer\"},{\"attributes\":{\"code\":\"def linear(\\n        coefficients: jnp.ndarray,\\n        n_observations: int = 100) -> [jnp.ndarray, jnp.ndarray]:\\n    x = jnp.linspace(0, 1, n_observations)\\n    y = coefficients[0] * x + coefficients[1]\\n    return x, \",\"filename\":\"\",\"height\":150,\"js_property_callbacks\":{\"change:disabled\":[{\"id\":\"4162\"}],\"change:readonly\":[{\"id\":\"4161\"}]},\"language\":\"python\",\"margin\":[5,10,5,10],\"sizing_mode\":\"stretch_both\",\"theme\":\"chaos\"},\"id\":\"4146\",\"type\":\"panel.models.ace.AcePlot\"},{\"attributes\":{\"end\":5.0,\"margin\":[5,10,5,10],\"start\":-5.0,\"step\":0.1,\"title\":\"X 0\",\"value\":0.0},\"id\":\"4118\",\"type\":\"Slider\"},{\"attributes\":{},\"id\":\"4102\",\"type\":\"UnionRenderers\"},{\"attributes\":{\"children\":[{\"id\":\"4029\"}],\"margin\":[0,0,0,0],\"name\":\"Row00293\"},\"id\":\"4119\",\"type\":\"Row\"},{\"attributes\":{},\"id\":\"4103\",\"type\":\"Selection\"},{\"attributes\":{\"tools\":[{\"id\":\"4048\"},{\"id\":\"4049\"},{\"id\":\"4050\"},{\"id\":\"4051\"},{\"id\":\"4052\"},{\"id\":\"4053\"},{\"id\":\"4081\"},{\"id\":\"4085\"}]},\"id\":\"4055\",\"type\":\"Toolbar\"},{\"attributes\":{\"client_comm_id\":\"f56d107655f64104b84f9b1063872d5c\",\"comm_id\":\"0e6d9bd878d64959a1f726871ac8d1f5\",\"plot_id\":\"4107\"},\"id\":\"4189\",\"type\":\"panel.models.comm_manager.CommManager\"},{\"attributes\":{\"label\":{\"value\":\"Learned model\"},\"renderers\":[{\"id\":\"4091\"}]},\"id\":\"4106\",\"type\":\"LegendItem\"},{\"attributes\":{\"margin\":[5,5,5,5],\"name\":\"HSpacer00300\",\"sizing_mode\":\"stretch_width\"},\"id\":\"4147\",\"type\":\"Spacer\"},{\"attributes\":{\"fill_alpha\":{\"value\":0.2},\"fill_color\":{\"value\":\"midnightblue\"},\"hatch_alpha\":{\"value\":0.2},\"line_alpha\":{\"value\":0.2},\"line_color\":{\"value\":\"white\"},\"size\":{\"value\":10},\"x\":{\"field\":\"x\"},\"y\":{\"field\":\"y\"}},\"id\":\"4066\",\"type\":\"Circle\"},{\"attributes\":{},\"id\":\"4038\",\"type\":\"LinearScale\"},{\"attributes\":{\"fill_alpha\":{\"value\":0.5},\"fill_color\":{\"value\":\"red\"},\"hatch_alpha\":{\"value\":0.5},\"line_alpha\":{\"value\":0.5},\"line_color\":{\"value\":\"white\"},\"size\":{\"value\":10},\"x\":{\"field\":\"x\"},\"y\":{\"field\":\"y\"}},\"id\":\"4065\",\"type\":\"Circle\"},{\"attributes\":{\"background_fill_alpha\":0.9,\"background_fill_color\":\"#0f0f0f\",\"below\":[{\"id\":\"4040\"}],\"border_fill_alpha\":0.8,\"border_fill_color\":\"#111111\",\"center\":[{\"id\":\"4043\"},{\"id\":\"4047\"},{\"id\":\"4079\"}],\"height\":450,\"left\":[{\"id\":\"4044\"}],\"outline_line_alpha\":0.25,\"outline_line_color\":\"#E0E0E0\",\"outline_line_width\":3,\"renderers\":[{\"id\":\"4067\"},{\"id\":\"4091\"}],\"title\":{\"id\":\"4030\"},\"toolbar\":{\"id\":\"4055\"},\"toolbar_location\":null,\"x_range\":{\"id\":\"4032\"},\"x_scale\":{\"id\":\"4036\"},\"y_range\":{\"id\":\"4034\"},\"y_scale\":{\"id\":\"4038\"}},\"id\":\"4029\",\"subtype\":\"Figure\",\"type\":\"Plot\"},{\"attributes\":{\"source\":{\"id\":\"4087\"}},\"id\":\"4092\",\"type\":\"CDSView\"},{\"attributes\":{\"bottom_units\":\"screen\",\"coordinates\":null,\"fill_alpha\":0.5,\"fill_color\":\"lightgrey\",\"group\":null,\"left_units\":\"screen\",\"level\":\"overlay\",\"line_alpha\":1.0,\"line_color\":\"black\",\"line_dash\":[4,4],\"line_width\":2,\"right_units\":\"screen\",\"syncable\":false,\"top_units\":\"screen\"},\"id\":\"4105\",\"type\":\"BoxAnnotation\"},{\"attributes\":{},\"id\":\"4034\",\"type\":\"DataRange1d\"},{\"attributes\":{},\"id\":\"4032\",\"type\":\"DataRange1d\"},{\"attributes\":{\"axis\":{\"id\":\"4040\"},\"coordinates\":null,\"grid_line_alpha\":0.15,\"grid_line_color\":\"#E0E0E0\",\"group\":null,\"ticker\":null},\"id\":\"4043\",\"type\":\"Grid\"},{\"attributes\":{},\"id\":\"4041\",\"type\":\"BasicTicker\"},{\"attributes\":{\"axis\":{\"id\":\"4044\"},\"coordinates\":null,\"dimension\":1,\"grid_line_alpha\":0.15,\"grid_line_color\":\"#E0E0E0\",\"group\":null,\"ticker\":null},\"id\":\"4047\",\"type\":\"Grid\"},{\"attributes\":{\"axis_label\":\"$$\\\\color{white} 1.0x^1 + 0.0$$\",\"axis_label_standoff\":10,\"axis_label_text_color\":\"#FFFFFF\",\"axis_label_text_font\":\"Josefin Sans\",\"axis_label_text_font_size\":\"1.9em\",\"axis_label_text_font_style\":\"bold\",\"axis_line_alpha\":0.4,\"axis_line_color\":\"#E0E0E0\",\"coordinates\":null,\"formatter\":{\"id\":\"4071\"},\"group\":null,\"major_label_policy\":{\"id\":\"4072\"},\"major_label_text_color\":\"#E0E0E0\",\"major_label_text_font\":\"Josefin Sans\",\"major_label_text_font_size\":\"1.15em\",\"major_tick_line_alpha\":0.4,\"major_tick_line_color\":\"#E0E0E0\",\"minor_tick_line_alpha\":0.4,\"minor_tick_line_color\":\"#E0E0E0\",\"ticker\":{\"id\":\"4045\"}},\"id\":\"4044\",\"type\":\"LinearAxis\"},{\"attributes\":{},\"id\":\"4053\",\"type\":\"HelpTool\"},{\"attributes\":{\"line_alpha\":0.7,\"line_color\":\"red\",\"line_width\":4,\"x\":{\"field\":\"x\"},\"y\":{\"field\":\"y\"}},\"id\":\"4088\",\"type\":\"Line\"},{\"attributes\":{},\"id\":\"4045\",\"type\":\"BasicTicker\"},{\"attributes\":{\"fill_alpha\":{\"value\":0.8},\"fill_color\":{\"value\":\"red\"},\"line_color\":{\"value\":\"white\"}},\"id\":\"4083\",\"type\":\"Circle\"},{\"attributes\":{\"data\":{\"x\":{\"__ndarray__\":\"AAAAALV+JTy1fqU8ED74PLV+JT1i3k49ED54Pd7OkD21fqU9jC66PWLezj05juM9ED74PfN2Bj7ezhA+yiYbPrV+JT6g1i8+jC46PneGRD5i3k4+TjZZPjmOYz4k5m0+ED54Pv1KgT7zdoY+6aKLPt7OkD7U+pU+yiabPr9SoD61fqU+q6qqPqDWrz6WArU+jC66PoFavz53hsQ+bbLJPmLezj5YCtQ+TjbZPkNi3j45juM+L7roPiTm7T4aEvM+ED74PgVq/T79SgE/+OADP/N2Bj/uDAk/6aILP+Q4Dj/ezhA/2WQTP9T6FT/PkBg/yiYbP8W8HT+/UiA/uugiP7V+JT+wFCg/q6oqP6VALT+g1i8/m2wyP5YCNT+RmDc/jC46P4bEPD+BWj8/fPBBP3eGRD9yHEc/bbJJP2dITD9i3k4/XXRRP1gKVD9ToFY/TjZZP0jMWz9DYl4/PvhgPzmOYz80JGY/L7poPylQaz8k5m0/H3xwPxoScz8VqHU/ED54PwrUej8Fan0/AACAPw==\",\"dtype\":\"float32\",\"order\":\"little\",\"shape\":[100]},\"y\":{\"__ndarray__\":\"R2wsvdqiGL16vzi9LliyPeC3VLvovuw9QBJhuzgZjTxE/Hw9uBMEPcfYAz6wd808Mm4APnbe4z2E1gE+Yo40PjjMED55tNg9EkL2PcQRYj50rwc+nSeCPr+zTT5JbUM+cME3PnVgfj7mm7E+rRi9PnrdeD5Ph5Y+WQqnPqUuuT7kUoA+2c92Pr090T7DecA+YaqZPjSm8T6iDeU+7d+wPnbwqD6mff4+rTC4PnpPrj4u2bw+QPLlPrJRvj6QJdk+e9T9PhhqzD5ebRk/1X8EP8YqAz+Ckv8+3sjmPtCpJz9uwv4+xKoWP25ZHj+fzSI/AwUrP9kHND+93DQ/tlk2Px09Ij+Lnj4/HNIcPyO8QT9S2kA/FKYgP45UHj95BEA/DbwgP/JQLj/RCkA/vi9aPwtjTT/ywDo/y0dHPwOCNj/ugEI/z19JP/I5YD9vqk4/lkxPP5djcD8ioW8/CXpqP93Pbj+zglw/vrlQP+QXej+i41U/cIiEPxHLXT8nW14/e2yGP/zMgT9OxnI/PPZ8Pw==\",\"dtype\":\"float32\",\"order\":\"little\",\"shape\":[100]}},\"selected\":{\"id\":\"4077\"},\"selection_policy\":{\"id\":\"4076\"}},\"id\":\"4062\",\"type\":\"ColumnDataSource\"},{\"attributes\":{\"mode\":\"append\",\"overlay\":{\"id\":\"4105\"},\"renderers\":[{\"id\":\"4067\"}]},\"id\":\"4085\",\"type\":\"BoxSelectTool\"},{\"attributes\":{},\"id\":\"4036\",\"type\":\"LinearScale\"},{\"attributes\":{},\"id\":\"4049\",\"type\":\"WheelZoomTool\"},{\"attributes\":{\"callback\":null,\"mode\":\"vline\",\"renderers\":[{\"id\":\"4067\"}],\"tooltips\":null},\"id\":\"4081\",\"type\":\"HoverTool\"},{\"attributes\":{\"line_alpha\":0.1,\"line_color\":\"red\",\"line_width\":4,\"x\":{\"field\":\"x\"},\"y\":{\"field\":\"y\"}},\"id\":\"4089\",\"type\":\"Line\"},{\"attributes\":{\"fill_alpha\":{\"value\":0.5},\"fill_color\":{\"value\":\"midnightblue\"},\"line_color\":{\"value\":\"white\"}},\"id\":\"4084\",\"type\":\"Circle\"},{\"attributes\":{\"line_alpha\":0.2,\"line_color\":\"red\",\"line_width\":4,\"x\":{\"field\":\"x\"},\"y\":{\"field\":\"y\"}},\"id\":\"4090\",\"type\":\"Line\"},{\"attributes\":{\"coordinates\":null,\"data_source\":{\"id\":\"4087\"},\"glyph\":{\"id\":\"4088\"},\"group\":null,\"hover_glyph\":null,\"muted_glyph\":{\"id\":\"4090\"},\"nonselection_glyph\":{\"id\":\"4089\"},\"view\":{\"id\":\"4092\"}},\"id\":\"4091\",\"type\":\"GlyphRenderer\"},{\"attributes\":{\"label\":{\"value\":\"Observations\"},\"renderers\":[{\"id\":\"4067\"}]},\"id\":\"4080\",\"type\":\"LegendItem\"}],\"root_ids\":[\"4107\",\"4189\"]},\"title\":\"Bokeh Application\",\"version\":\"2.4.3\"}};\n",
       "    var render_items = [{\"docid\":\"9c363146-f33f-4723-bef1-728448c464f8\",\"root_ids\":[\"4107\"],\"roots\":{\"4107\":\"d5502abb-6884-4ca5-9241-b5f8ca764a6e\"}}];\n",
       "    root.Bokeh.embed.embed_items_notebook(docs_json, render_items);\n",
       "    for (const render_item of render_items) {\n",
       "      for (const root_id of render_item.root_ids) {\n",
       "\tconst id_el = document.getElementById(root_id)\n",
       "\tif (id_el.children.length && (id_el.children[0].className === 'bk-root')) {\n",
       "\t  const root_el = id_el.children[0]\n",
       "\t  root_el.id = root_el.id + '-rendered'\n",
       "\t}\n",
       "      }\n",
       "    }\n",
       "  }\n",
       "  if (root.Bokeh !== undefined && root.Bokeh.Panel !== undefined) {\n",
       "    embed_document(root);\n",
       "  } else {\n",
       "    var attempts = 0;\n",
       "    var timer = setInterval(function(root) {\n",
       "      if (root.Bokeh !== undefined && root.Bokeh.Panel !== undefined) {\n",
       "        clearInterval(timer);\n",
       "        embed_document(root);\n",
       "      } else if (document.readyState == \"complete\") {\n",
       "        attempts++;\n",
       "        if (attempts > 200) {\n",
       "          clearInterval(timer);\n",
       "          console.log(\"Bokeh: ERROR: Unable to run BokehJS code because BokehJS library is missing\");\n",
       "        }\n",
       "      }\n",
       "    }, 25, root)\n",
       "  }\n",
       "})(window);</script>"
      ],
      "text/plain": [
       "Row\n",
       "    [0] HSpacer()\n",
       "    [1] Column\n",
       "        [0] Row\n",
       "            [0] Param(RegressionLinearSolver, name='Problem parameters', widgets={})\n",
       "            [1] ParamMethod(method, _pane=Bokeh)\n",
       "        [1] Ace(height=150, language='python', sizing_mode='stretch_both', theme='chaos', value='def linear(\\n        coef...)\n",
       "    [2] HSpacer()"
      ]
     },
     "execution_count": 43,
     "metadata": {
      "application/vnd.holoviews_exec.v0+json": {
       "id": "4107"
      }
     },
     "output_type": "execute_result"
    }
   ],
   "source": [
    "from cml.tasks import RegressionLinearSolver\n",
    "explorer = RegressionLinearSolver()\n",
    "global key\n",
    "key = random.PRNGKey(23)\n",
    "def solve(x, y):\n",
    "    global key\n",
    "    key_gd, key = random.split(key, 2)\n",
    "    w_1, w_0, loss_history = gradient_descent(key_gd, x, y)\n",
    "    x_predict = np.linspace(np.min(x), np.max(x), 200)\n",
    "    y_model = w_1 * x_predict + w_0\n",
    "    return np.array(x_predict), np.array(y_model) #np.array(jnp.zeros(y_model.shape))\n",
    "\n",
    "explorer.solve = solve\n",
    "explorer.render()"
   ]
  },
  {
   "cell_type": "markdown",
   "metadata": {},
   "source": [
    "<div class=\"alert alert-success\" markdown=\"1\" style=\"color:white; background-color: #192841; border-color: #779ecb\">\n",
    "\n",
    "> ### Going further\n",
    "\n",
    "> You are encouraged to experiment in a similar way as outlined for NumPy with different learning rates, maximum number of iterations, and regularization techniques, as well as compare the performance (both accuracy and speed) of the implemented algorithms with `scikit-learn` built-in linear regression functions.\n",
    "\n",
    "</div>"
   ]
  },
  {
   "cell_type": "markdown",
   "metadata": {},
   "source": [
    "<a id=\"capacity\"></a>\n",
    "## Understanding model capacity and selection\n",
    "\n",
    "\n",
    "In real-life problem, we are aiming to find the parameters of a model, but we do not really know what is the _real_ function underlying this process. So what we can decide to select _any_ function of _any_ **capacity** (complexity of the function). One of the problem with that, is that if we have a too simple function, it will _underfit_ (it is not complex enough for our observations). On the opposite end, if we have a function which is too complex, it might be able to _fit through all training points exactly_ ... even though there is noise in our observations ! This is examplified in the following\n",
    "\n",
    "<img src=\"images/01_soa_function_families.png\" align=\"center\"/>\n",
    "\n",
    "We can observe this idea and play with it directly by trying to find a function approximating our previous observations with a polynomial function chosen to have a degree inside \\([1,2,8]\\).\n"
   ]
  },
  {
   "cell_type": "markdown",
   "metadata": {},
   "source": [
    "\n",
    "Depending on the _capacity_ of the model, what we can observe is that\n",
    "\n",
    "- `capacity too low   -> underfitting   : prediction variance >  noise variance`\n",
    "- `adequate capacity  -> good fit       : prediction variance == noise variance`\n",
    "- `capacity too high  -> overfitting    : prediction variance <  noise variance`\n"
   ]
  },
  {
   "cell_type": "markdown",
   "metadata": {},
   "source": [
    "A similar example can be given for a classification problem in two dimensions as follows\n",
    "\n",
    "<img src=\"images/01_underfit.png\" align=\"center\"/>\n"
   ]
  },
  {
   "cell_type": "markdown",
   "metadata": {},
   "source": [
    "# Exercises\n",
    "\n",
    "In the following, we define the exercises that you should fill for this session. These go further than what we have seen together in the course, but they are based on the exact same principles, simply with slightly more complex definitions. We provide an overall guideline for successfully implementing each of the exercise."
   ]
  },
  {
   "cell_type": "markdown",
   "metadata": {},
   "source": [
    "## Exercise 1 - Linear classification"
   ]
  },
  {
   "cell_type": "markdown",
   "metadata": {},
   "source": [
    "<div class=\"alert alert-success\" markdown=\"1\" style=\"color:white; background-color: #013220; border-color: #03C03C\">\n",
    "\n",
    "> In this exercise, we will implement linear classification using NumPy and JAX. The goal of this exercise is to gain a better understanding of how linear classification works and how to implement it ourselves using our two first libraries of choice, namely NumPy and JAX. To complete this exercise, you will need to have a basic understanding of NumPy and JAX. You can use the resources provided in the previous exercises to learn more about these libraries.\n",
    "\n",
    "We help you out by first defining a simple linear classification problem to solve\n",
    "\n",
    "</div>"
   ]
  },
  {
   "cell_type": "code",
   "execution_count": 60,
   "metadata": {
    "tags": []
   },
   "outputs": [],
   "source": [
    "import numpy as np\n",
    "from sklearn.datasets import make_blobs\n",
    "# Properties of the problem\n",
    "n_observations = 200\n",
    "noise = 0.2\n",
    "c1_center = [-2, -1]\n",
    "c2_center = [2, 1]\n",
    "# Create points\n",
    "x_coords, y_class = make_blobs(n_samples=n_observations, centers=[c1_center, c2_center], n_features=2, cluster_std=0.55)\n",
    "x_data = x_coords + (noise * np.random.randn(n_observations, 2))\n",
    "#x_data = x_coords\n",
    "y_classes = y_class\n",
    "y_classes[y_classes == 0] = -1"
   ]
  },
  {
   "cell_type": "markdown",
   "metadata": {},
   "source": [
    "<div class=\"alert alert-success\" markdown=\"1\" style=\"color:white; background-color: #013220; border-color: #03C03C\">\n",
    "\n",
    "> ### Question 1.1 - Implement linear classification with NumPy\n",
    "\n",
    "> 1. Check the training data with two classes that are linearly separable.\n",
    "> 2. Initialize weights and bias.\n",
    "> 3. Implement the forward pass of the linear classifier.\n",
    "> 4. Implement the hinge loss for classification.\n",
    "> 5. Derive the gradients (backward pass) of the linear classifier.\n",
    "> 6. Implement gradient descent to optimize the weights and bias.\n",
    "\n",
    "</div>"
   ]
  },
  {
   "cell_type": "code",
   "execution_count": 61,
   "metadata": {
    "tags": []
   },
   "outputs": [
    {
     "data": {},
     "metadata": {},
     "output_type": "display_data"
    },
    {
     "data": {
      "application/vnd.holoviews_exec.v0+json": "",
      "text/html": [
       "<div id='4721'>\n",
       "  <div class=\"bk-root\" id=\"b3db7a92-547e-461d-a507-fbff2c64eb46\" data-root-id=\"4721\"></div>\n",
       "</div>\n",
       "<script type=\"application/javascript\">(function(root) {\n",
       "  function embed_document(root) {\n",
       "    var docs_json = {\"d71c3a44-0eb2-4027-ba19-141503badaec\":{\"defs\":[{\"extends\":null,\"module\":null,\"name\":\"ReactiveHTML1\",\"overrides\":[],\"properties\":[]},{\"extends\":null,\"module\":null,\"name\":\"FlexBox1\",\"overrides\":[],\"properties\":[{\"default\":\"flex-start\",\"kind\":null,\"name\":\"align_content\"},{\"default\":\"flex-start\",\"kind\":null,\"name\":\"align_items\"},{\"default\":\"row\",\"kind\":null,\"name\":\"flex_direction\"},{\"default\":\"wrap\",\"kind\":null,\"name\":\"flex_wrap\"},{\"default\":\"flex-start\",\"kind\":null,\"name\":\"justify_content\"}]},{\"extends\":null,\"module\":null,\"name\":\"GridStack1\",\"overrides\":[],\"properties\":[{\"default\":\"warn\",\"kind\":null,\"name\":\"mode\"},{\"default\":null,\"kind\":null,\"name\":\"ncols\"},{\"default\":null,\"kind\":null,\"name\":\"nrows\"},{\"default\":true,\"kind\":null,\"name\":\"allow_resize\"},{\"default\":true,\"kind\":null,\"name\":\"allow_drag\"},{\"default\":[],\"kind\":null,\"name\":\"state\"}]},{\"extends\":null,\"module\":null,\"name\":\"click1\",\"overrides\":[],\"properties\":[{\"default\":\"\",\"kind\":null,\"name\":\"terminal_output\"},{\"default\":\"\",\"kind\":null,\"name\":\"debug_name\"},{\"default\":0,\"kind\":null,\"name\":\"clears\"}]},{\"extends\":null,\"module\":null,\"name\":\"NotificationAreaBase1\",\"overrides\":[],\"properties\":[{\"default\":\"bottom-right\",\"kind\":null,\"name\":\"position\"},{\"default\":0,\"kind\":null,\"name\":\"_clear\"}]},{\"extends\":null,\"module\":null,\"name\":\"NotificationArea1\",\"overrides\":[],\"properties\":[{\"default\":[],\"kind\":null,\"name\":\"notifications\"},{\"default\":\"bottom-right\",\"kind\":null,\"name\":\"position\"},{\"default\":0,\"kind\":null,\"name\":\"_clear\"},{\"default\":[{\"background\":\"#ffc107\",\"icon\":{\"className\":\"fas fa-exclamation-triangle\",\"color\":\"white\",\"tagName\":\"i\"},\"type\":\"warning\"},{\"background\":\"#007bff\",\"icon\":{\"className\":\"fas fa-info-circle\",\"color\":\"white\",\"tagName\":\"i\"},\"type\":\"info\"}],\"kind\":null,\"name\":\"types\"}]},{\"extends\":null,\"module\":null,\"name\":\"Notification\",\"overrides\":[],\"properties\":[{\"default\":null,\"kind\":null,\"name\":\"background\"},{\"default\":3000,\"kind\":null,\"name\":\"duration\"},{\"default\":null,\"kind\":null,\"name\":\"icon\"},{\"default\":\"\",\"kind\":null,\"name\":\"message\"},{\"default\":null,\"kind\":null,\"name\":\"notification_type\"},{\"default\":false,\"kind\":null,\"name\":\"_destroyed\"}]},{\"extends\":null,\"module\":null,\"name\":\"TemplateActions1\",\"overrides\":[],\"properties\":[{\"default\":0,\"kind\":null,\"name\":\"open_modal\"},{\"default\":0,\"kind\":null,\"name\":\"close_modal\"}]},{\"extends\":null,\"module\":null,\"name\":\"MaterialTemplateActions1\",\"overrides\":[],\"properties\":[{\"default\":0,\"kind\":null,\"name\":\"open_modal\"},{\"default\":0,\"kind\":null,\"name\":\"close_modal\"}]}],\"roots\":{\"references\":[{\"attributes\":{},\"id\":\"4711\",\"type\":\"Selection\"},{\"attributes\":{\"coordinates\":null,\"data_source\":{\"id\":\"4696\"},\"glyph\":{\"id\":\"4697\"},\"group\":null,\"hover_glyph\":{\"id\":\"4699\"},\"muted_glyph\":{\"id\":\"4700\"},\"nonselection_glyph\":{\"id\":\"4718\"},\"selection_glyph\":{\"id\":\"4717\"},\"view\":{\"id\":\"4702\"}},\"id\":\"4701\",\"type\":\"GlyphRenderer\"},{\"attributes\":{\"axis_label\":\"x\",\"axis_label_standoff\":10,\"axis_label_text_color\":\"#FFFFFF\",\"axis_label_text_font\":\"Josefin Sans\",\"axis_label_text_font_size\":\"1.9em\",\"axis_label_text_font_style\":\"bold\",\"axis_line_alpha\":0.4,\"axis_line_color\":\"#E0E0E0\",\"coordinates\":null,\"formatter\":{\"id\":\"4708\"},\"group\":null,\"major_label_policy\":{\"id\":\"4709\"},\"major_label_text_color\":\"#E0E0E0\",\"major_label_text_font\":\"Josefin Sans\",\"major_label_text_font_size\":\"1.15em\",\"major_tick_line_alpha\":0.4,\"major_tick_line_color\":\"#E0E0E0\",\"minor_tick_line_alpha\":0.4,\"minor_tick_line_color\":\"#E0E0E0\",\"ticker\":{\"id\":\"4675\"}},\"id\":\"4674\",\"type\":\"LinearAxis\"},{\"attributes\":{\"bottom_units\":\"screen\",\"coordinates\":null,\"fill_alpha\":0.5,\"fill_color\":\"lightgrey\",\"group\":null,\"left_units\":\"screen\",\"level\":\"overlay\",\"line_alpha\":1.0,\"line_color\":\"black\",\"line_dash\":[4,4],\"line_width\":2,\"right_units\":\"screen\",\"syncable\":false,\"top_units\":\"screen\"},\"id\":\"4733\",\"type\":\"BoxAnnotation\"},{\"attributes\":{\"source\":{\"id\":\"4696\"}},\"id\":\"4702\",\"type\":\"CDSView\"},{\"attributes\":{},\"id\":\"4708\",\"type\":\"BasicTickFormatter\"},{\"attributes\":{\"callback\":null,\"mode\":\"vline\",\"renderers\":[{\"id\":\"4701\"}],\"tooltips\":null},\"id\":\"4715\",\"type\":\"HoverTool\"},{\"attributes\":{},\"id\":\"4706\",\"type\":\"AllLabels\"},{\"attributes\":{\"data\":{\"x\":{\"__ndarray__\":\"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\",\"dtype\":\"float64\",\"order\":\"little\",\"shape\":[200]},\"y\":{\"__ndarray__\":\"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\",\"dtype\":\"float64\",\"order\":\"little\",\"shape\":[200]}},\"selected\":{\"id\":\"4711\"},\"selection_policy\":{\"id\":\"4710\"}},\"id\":\"4696\",\"type\":\"ColumnDataSource\"},{\"attributes\":{\"margin\":[5,5,5,5],\"name\":\"HSpacer00318\",\"sizing_mode\":\"stretch_width\"},\"id\":\"4722\",\"type\":\"Spacer\"},{\"attributes\":{},\"id\":\"4687\",\"type\":\"HelpTool\"},{\"attributes\":{},\"id\":\"4686\",\"type\":\"ResetTool\"},{\"attributes\":{\"axis_label\":\"y\",\"axis_label_standoff\":10,\"axis_label_text_color\":\"#FFFFFF\",\"axis_label_text_font\":\"Josefin Sans\",\"axis_label_text_font_size\":\"1.9em\",\"axis_label_text_font_style\":\"bold\",\"axis_line_alpha\":0.4,\"axis_line_color\":\"#E0E0E0\",\"coordinates\":null,\"formatter\":{\"id\":\"4705\"},\"group\":null,\"major_label_policy\":{\"id\":\"4706\"},\"major_label_text_color\":\"#E0E0E0\",\"major_label_text_font\":\"Josefin Sans\",\"major_label_text_font_size\":\"1.15em\",\"major_tick_line_alpha\":0.4,\"major_tick_line_color\":\"#E0E0E0\",\"minor_tick_line_alpha\":0.4,\"minor_tick_line_color\":\"#E0E0E0\",\"ticker\":{\"id\":\"4679\"}},\"id\":\"4678\",\"type\":\"LinearAxis\"},{\"attributes\":{},\"id\":\"4710\",\"type\":\"UnionRenderers\"},{\"attributes\":{},\"id\":\"4666\",\"type\":\"DataRange1d\"},{\"attributes\":{\"fill_alpha\":{\"value\":0.25},\"fill_color\":{\"value\":\"midnightblue\"},\"hatch_alpha\":{\"value\":0.25},\"line_alpha\":{\"value\":0.25},\"line_color\":{\"value\":\"white\"},\"size\":{\"value\":10},\"x\":{\"field\":\"x\"},\"y\":{\"field\":\"y\"}},\"id\":\"4697\",\"type\":\"Circle\"},{\"attributes\":{\"fill_alpha\":{\"value\":0.2},\"fill_color\":{\"value\":\"midnightblue\"},\"hatch_alpha\":{\"value\":0.2},\"line_alpha\":{\"value\":0.2},\"line_color\":{\"value\":\"white\"},\"size\":{\"value\":10},\"x\":{\"field\":\"x\"},\"y\":{\"field\":\"y\"}},\"id\":\"4700\",\"type\":\"Circle\"},{\"attributes\":{},\"id\":\"4682\",\"type\":\"PanTool\"},{\"attributes\":{},\"id\":\"4670\",\"type\":\"LinearScale\"},{\"attributes\":{\"margin\":[5,5,5,5],\"name\":\"HSpacer00319\",\"sizing_mode\":\"stretch_width\"},\"id\":\"4745\",\"type\":\"Spacer\"},{\"attributes\":{\"background_fill_alpha\":0.9,\"background_fill_color\":\"#0f0f0f\",\"below\":[{\"id\":\"4674\"}],\"border_fill_alpha\":0.8,\"border_fill_color\":\"#111111\",\"center\":[{\"id\":\"4677\"},{\"id\":\"4681\"},{\"id\":\"4713\"}],\"height\":450,\"left\":[{\"id\":\"4678\"}],\"outline_line_alpha\":0.25,\"outline_line_color\":\"#E0E0E0\",\"outline_line_width\":3,\"renderers\":[{\"id\":\"4701\"}],\"title\":{\"id\":\"4664\"},\"toolbar\":{\"id\":\"4689\"},\"toolbar_location\":null,\"x_range\":{\"id\":\"4666\"},\"x_scale\":{\"id\":\"4670\"},\"y_range\":{\"id\":\"4668\"},\"y_scale\":{\"id\":\"4672\"}},\"id\":\"4663\",\"subtype\":\"Figure\",\"type\":\"Plot\"},{\"attributes\":{\"axis\":{\"id\":\"4674\"},\"coordinates\":null,\"grid_line_alpha\":0.15,\"grid_line_color\":\"#E0E0E0\",\"group\":null,\"ticker\":null},\"id\":\"4677\",\"type\":\"Grid\"},{\"attributes\":{\"coordinates\":null,\"group\":null,\"text\":\"Dataset\",\"text_color\":\"#E0E0E0\",\"text_font\":\"Josefin Sans\",\"text_font_size\":\"2.1em\"},\"id\":\"4664\",\"type\":\"Title\"},{\"attributes\":{\"tools\":[{\"id\":\"4682\"},{\"id\":\"4683\"},{\"id\":\"4684\"},{\"id\":\"4685\"},{\"id\":\"4686\"},{\"id\":\"4687\"},{\"id\":\"4715\"},{\"id\":\"4719\"}]},\"id\":\"4689\",\"type\":\"Toolbar\"},{\"attributes\":{\"mode\":\"append\",\"overlay\":{\"id\":\"4733\"},\"renderers\":[{\"id\":\"4701\"}]},\"id\":\"4719\",\"type\":\"BoxSelectTool\"},{\"attributes\":{\"fill_alpha\":{\"value\":0.5},\"fill_color\":{\"value\":\"red\"},\"hatch_alpha\":{\"value\":0.5},\"line_alpha\":{\"value\":0.5},\"line_color\":{\"value\":\"white\"},\"size\":{\"value\":10},\"x\":{\"field\":\"x\"},\"y\":{\"field\":\"y\"}},\"id\":\"4699\",\"type\":\"Circle\"},{\"attributes\":{\"axis\":{\"id\":\"4678\"},\"coordinates\":null,\"dimension\":1,\"grid_line_alpha\":0.15,\"grid_line_color\":\"#E0E0E0\",\"group\":null,\"ticker\":null},\"id\":\"4681\",\"type\":\"Grid\"},{\"attributes\":{\"overlay\":{\"id\":\"4688\"}},\"id\":\"4684\",\"type\":\"BoxZoomTool\"},{\"attributes\":{},\"id\":\"4705\",\"type\":\"BasicTickFormatter\"},{\"attributes\":{\"fill_alpha\":{\"value\":0.8},\"fill_color\":{\"value\":\"red\"},\"line_color\":{\"value\":\"white\"}},\"id\":\"4717\",\"type\":\"Circle\"},{\"attributes\":{},\"id\":\"4672\",\"type\":\"LinearScale\"},{\"attributes\":{},\"id\":\"4683\",\"type\":\"WheelZoomTool\"},{\"attributes\":{\"label\":{\"value\":\"Observations\"},\"renderers\":[{\"id\":\"4701\"}]},\"id\":\"4714\",\"type\":\"LegendItem\"},{\"attributes\":{},\"id\":\"4679\",\"type\":\"BasicTicker\"},{\"attributes\":{\"background_fill_alpha\":0.25,\"background_fill_color\":\"#505050\",\"border_line_alpha\":0.25,\"coordinates\":null,\"group\":null,\"items\":[{\"id\":\"4714\"}],\"label_standoff\":8,\"label_text_color\":\"#E0E0E0\",\"label_text_font\":\"Josefin Sans\",\"label_text_font_size\":\"1.15em\",\"spacing\":8},\"id\":\"4713\",\"type\":\"Legend\"},{\"attributes\":{},\"id\":\"4675\",\"type\":\"BasicTicker\"},{\"attributes\":{\"fill_alpha\":{\"value\":0.5},\"fill_color\":{\"value\":\"midnightblue\"},\"line_color\":{\"value\":\"white\"}},\"id\":\"4718\",\"type\":\"Circle\"},{\"attributes\":{\"bottom_units\":\"screen\",\"coordinates\":null,\"fill_alpha\":0.5,\"fill_color\":\"lightgrey\",\"group\":null,\"left_units\":\"screen\",\"level\":\"overlay\",\"line_alpha\":1.0,\"line_color\":\"black\",\"line_dash\":[4,4],\"line_width\":2,\"right_units\":\"screen\",\"syncable\":false,\"top_units\":\"screen\"},\"id\":\"4688\",\"type\":\"BoxAnnotation\"},{\"attributes\":{\"children\":[{\"id\":\"4722\"},{\"id\":\"4663\"},{\"id\":\"4745\"}],\"margin\":[0,0,0,0],\"name\":\"Row00322\"},\"id\":\"4721\",\"type\":\"Row\"},{\"attributes\":{},\"id\":\"4685\",\"type\":\"SaveTool\"},{\"attributes\":{},\"id\":\"4709\",\"type\":\"AllLabels\"},{\"attributes\":{},\"id\":\"4668\",\"type\":\"DataRange1d\"},{\"attributes\":{\"client_comm_id\":\"ad8fb91ed1cd4643857f6d1504a8c2ef\",\"comm_id\":\"c367a7e1e95f4241a4e7e7f00b028954\",\"plot_id\":\"4721\"},\"id\":\"4779\",\"type\":\"panel.models.comm_manager.CommManager\"}],\"root_ids\":[\"4721\",\"4779\"]},\"title\":\"Bokeh Application\",\"version\":\"2.4.3\"}};\n",
       "    var render_items = [{\"docid\":\"d71c3a44-0eb2-4027-ba19-141503badaec\",\"root_ids\":[\"4721\"],\"roots\":{\"4721\":\"b3db7a92-547e-461d-a507-fbff2c64eb46\"}}];\n",
       "    root.Bokeh.embed.embed_items_notebook(docs_json, render_items);\n",
       "    for (const render_item of render_items) {\n",
       "      for (const root_id of render_item.root_ids) {\n",
       "\tconst id_el = document.getElementById(root_id)\n",
       "\tif (id_el.children.length && (id_el.children[0].className === 'bk-root')) {\n",
       "\t  const root_el = id_el.children[0]\n",
       "\t  root_el.id = root_el.id + '-rendered'\n",
       "\t}\n",
       "      }\n",
       "    }\n",
       "  }\n",
       "  if (root.Bokeh !== undefined && root.Bokeh.Panel !== undefined) {\n",
       "    embed_document(root);\n",
       "  } else {\n",
       "    var attempts = 0;\n",
       "    var timer = setInterval(function(root) {\n",
       "      if (root.Bokeh !== undefined && root.Bokeh.Panel !== undefined) {\n",
       "        clearInterval(timer);\n",
       "        embed_document(root);\n",
       "      } else if (document.readyState == \"complete\") {\n",
       "        attempts++;\n",
       "        if (attempts > 200) {\n",
       "          clearInterval(timer);\n",
       "          console.log(\"Bokeh: ERROR: Unable to run BokehJS code because BokehJS library is missing\");\n",
       "        }\n",
       "      }\n",
       "    }, 25, root)\n",
       "  }\n",
       "})(window);</script>"
      ],
      "text/plain": [
       "Row\n",
       "    [0] HSpacer()\n",
       "    [1] Bokeh(Figure)\n",
       "    [2] HSpacer()"
      ]
     },
     "execution_count": 61,
     "metadata": {
      "application/vnd.holoviews_exec.v0+json": {
       "id": "4721"
      }
     },
     "output_type": "execute_result"
    }
   ],
   "source": [
    "# 1 Visualize training data\n",
    "from cml.plot import center_plot, scatter\n",
    "\n",
    "p = scatter(x_data[:, 0], x_data[:, 1], \"Dataset\")\n",
    "plot = (center_plot(p))\n",
    "plot\n"
   ]
  },
  {
   "cell_type": "code",
   "execution_count": 62,
   "metadata": {
    "tags": []
   },
   "outputs": [],
   "source": [
    "from cml.plot import scatter_classes\n",
    "\n",
    "def model(x,w):\n",
    "    return np.dot(x,w)\n",
    "\n",
    "def hinge_loss(y, dot):\n",
    "    right = 1 - y*dot\n",
    "    left = np.zeros((n_observations,2))\n",
    "    left[:,1] = right\n",
    "    \n",
    "    return np.amax(left,axis=1)\n",
    "\n",
    "def part_diff(x, y, w, dot):\n",
    "    \n",
    "    #for each point: if () < 1, delta = (y * x0, y * x1), ( 0, 0) otherwise\n",
    "    #sum/mean of delta over all points\n",
    "    deltas = np.zeros((n_observations, 2))\n",
    "    cond = (y*dot < 1)\n",
    "    grad = -y[:, np.newaxis]*x_data\n",
    "    deltas[cond] = grad[cond] \n",
    "    return deltas\n",
    "\n",
    "\n",
    "def lin_class_numpy(x):\n",
    "    \n",
    "    \n",
    "    n_iter = 1000\n",
    "    l_r = 0.001\n",
    "    \n",
    "# 2 Initialize weights and bias\n",
    "    np.random.seed(55)\n",
    "    weights = np.random.rand(2)\n",
    "    bias = np.random.rand(1)\n",
    "    w = np.concatenate((weights, bias))\n",
    "\n",
    "    for _ in range(n_iter):\n",
    "# 3 Forward Pass\n",
    "        f_x = model(x,w)\n",
    "# 4 Compute error (hinge loss function)\n",
    "        mean_loss = np.sum(hinge_loss(y_classes,f_x))/n_observations\n",
    "    #print(mean_loss)\n",
    "# 5 Compute gradient in w = [w0, w1]\n",
    "        gradients = part_diff(x_data, y_classes, w, f_x)\n",
    "# 6 Update parameters\n",
    "        avg_gradient = np.sum(gradients, axis=0)/n_observations\n",
    "        w[:2] -= l_r*avg_gradient\n",
    "\n",
    "    return w"
   ]
  },
  {
   "cell_type": "markdown",
   "metadata": {},
   "source": [
    "<div class=\"alert alert-success\" markdown=\"1\" style=\"color:white; background-color: #192841; border-color: #779ecb\">\n",
    "\n",
    "> ### Going further (optional)\n",
    "> Try to replace the Hinge loss by the cross-entropy loss in your implementation\n",
    "\n",
    "</div>"
   ]
  },
  {
   "cell_type": "code",
   "execution_count": null,
   "metadata": {
    "tags": []
   },
   "outputs": [],
   "source": []
  },
  {
   "cell_type": "markdown",
   "metadata": {},
   "source": [
    "<div class=\"alert alert-success\" markdown=\"1\" style=\"color:white; background-color: #013220; border-color: #03C03C\">\n",
    "\n",
    "> ### Question 1.2 - Implement linear classification with JAX\n",
    "\n",
    "> 1. Initialize weights and bias.\n",
    "> 2. Define the loss function using the jax.nn.softmax_cross_entropy_with_logits function.\n",
    "> 3. Implement gradient descent to optimize the weights and bias.\n",
    "\n",
    "</div>"
   ]
  },
  {
   "cell_type": "code",
   "execution_count": 63,
   "metadata": {
    "tags": []
   },
   "outputs": [],
   "source": [
    "import jax.numpy as jnp\n",
    "from jax import grad, jit, random\n",
    "\n",
    "def predict(x, w, b):\n",
    "    return jnp.dot(x, w) + b\n",
    "\n",
    "def loss_funct(true_y, x, w, b):\n",
    " \n",
    "    right = 1 - true_y*predict(x,w,b)\n",
    "    \n",
    "    left = np.zeros((n_observations))\n",
    "    arg = jnp.vstack((left, right))\n",
    "    \n",
    "    losses = np.amax(arg,axis=1)\n",
    "    \n",
    "    return jnp.mean(losses)\n",
    "\n",
    "grad_funct = jit(grad(loss_funct, argnums=2))\n",
    "\n",
    "\n",
    "    \n",
    "def lin_class_jax():\n",
    "\n",
    "# Our hyperparameters\n",
    "    n_features = 2\n",
    "    n_iter = 1000\n",
    "    l_r = 0.001\n",
    "\n",
    "# 1. Initialize weigths and bias\n",
    "\n",
    "    key = random.PRNGKey(990)\n",
    "    k_0, k_1 = random.split(key, 2)\n",
    "    b = random.uniform(k_1, (1,))    \n",
    "    w = random.uniform(k_0, (2,))    \n",
    "\n",
    "    for _ in range(n_iter):\n",
    "    \n",
    "# 2. Compute prediction and loss\n",
    "\n",
    "        mean_loss = loss_funct(y_classes, x_data, w, b)\n",
    "    \n",
    "    #loss_history = jnp.concatenate((loss_history, mean_loss))\n",
    "# 3. Compute gradient and implement descent\n",
    "    \n",
    "        gradient = grad_funct(y_classes, x_data, w, b)\n",
    "        w -= l_r*gradient\n",
    "    \n",
    "    return jnp.hstack((w,b))"
   ]
  },
  {
   "cell_type": "markdown",
   "metadata": {},
   "source": [
    "<div class=\"alert alert-success\" markdown=\"1\" style=\"color:white; background-color: #013220; border-color: #03C03C\">\n",
    "\n",
    "> ### Question 1.3 - Compare the results of the NumPy and JAX implementations.\n",
    "> 1. Plot the decision boundary for each implementation.\n",
    "> 2. Compare the training time and accuracy of each implementation.\n",
    "\n",
    "</div>"
   ]
  },
  {
   "cell_type": "code",
   "execution_count": 64,
   "metadata": {
    "tags": []
   },
   "outputs": [],
   "source": [
    "from time import perf_counter as timer\n",
    "\n",
    "def classify(out_scores):\n",
    "    \n",
    "    classification = np.empty(n_observations, np.int8)\n",
    "    classification[out_scores >= 0] = 1\n",
    "    classification[out_scores < 0] = 0\n",
    "    \n",
    "    return classification\n",
    "    \n",
    "def find_boundary(w):\n",
    "    \n",
    "    boundary_x = np.linspace(-4, 4)\n",
    "    boundary_y = -(boundary_x*w[0] + w[2])/w[1]\n",
    "    not_too_large = (boundary_y >= -4) & (boundary_y <= 4)\n",
    "    \n",
    "    return (boundary_x[not_too_large], boundary_y[not_too_large])\n",
    "    \n",
    "def compute_confusion(classes):\n",
    "    # tp, fp, tn, fn are relative to class 0\n",
    "    tp = 0\n",
    "    fp = 0\n",
    "    tn = 0\n",
    "    fn = 0\n",
    "\n",
    "    for i in range(n_observations):\n",
    "        if(y_classes[i] == 0):\n",
    "            if(classes[i] == 0):\n",
    "                tp += 1                   # originally 0, predicted 0 -> TP\n",
    "            else:\n",
    "                fn += 1                   # originally 0, predicted 1 -> FN\n",
    "        else:\n",
    "            if(classes[i] == 0):\n",
    "                fp += 1                   # originally 1, predicted 0 -> FP\n",
    "            else:\n",
    "                tn += 1                   # originally 1, predicted 1 -> TN\n",
    "    \n",
    "    precision_0 = tp / (tp + fp)\n",
    "    precision_1 = tn / (tn + fn)\n",
    "    pretty_0 = f\"{tp} / {tp + fp}\"\n",
    "    pretty_1 = f\"{tn} / {tn + fn}\"\n",
    "    \n",
    "    return precision_0, precision_1, pretty_0, pretty_1\n",
    "\n",
    "x = np.hstack((x_data, np.ones((n_observations,1))))\n",
    "\n",
    "# use gradient descent learning and time results\n",
    "# numpy\n",
    "start = timer()\n",
    "w_numpy = lin_class_numpy(x)\n",
    "end = timer()\n",
    "time_numpy = end - start\n",
    "\n",
    "# jax\n",
    "start = timer()\n",
    "w_jax = lin_class_jax()\n",
    "end = timer()\n",
    "time_jax = end - start\n",
    "\n",
    "\n",
    "# use the trained medel to classify\n",
    "\n",
    "out_scores_numpy = model(x,w_numpy)\n",
    "out_scores_jax = predict(x_data, w_jax[:2], w_jax[2])\n",
    "classes_numpy = classify(out_scores_numpy)\n",
    "classes_jax = classify(out_scores_jax)\n",
    "\n",
    "classes = classes_numpy + classes_jax\n",
    "classes[classes == 1] = 3\n",
    "classes[classes == 2] = 1\n",
    "\n",
    "y_classes[y_classes == -1] = 0\n",
    "\n",
    "\n",
    "precision_0_numpy, precision_1_numpy, stat_0_numpy, stat_1_numpy = compute_confusion(classes_numpy)\n",
    "precision_0_jax, precision_1_jax, stat_0_jax, stat_1_jax = compute_confusion(classes_jax)"
   ]
  },
  {
   "cell_type": "code",
   "execution_count": 65,
   "metadata": {
    "tags": []
   },
   "outputs": [
    {
     "name": "stdout",
     "output_type": "stream",
     "text": [
      "Execution time for numpy: 0.0876 seconds\n",
      "Precision of numpy model: \n",
      "\tClass 1:   1.0 (98 / 98)\n",
      "\tClass 2:  0.98 (100 / 102)\n",
      "\n",
      "Execution time for jax: 0.377 seconds\n",
      "Precision of jax model: \n",
      "\tClass 1:   1.0 (100 / 100)\n",
      "\tClass 2:   1.0 (100 / 100)\n"
     ]
    },
    {
     "data": {},
     "metadata": {},
     "output_type": "display_data"
    },
    {
     "data": {
      "application/vnd.holoviews_exec.v0+json": "",
      "text/html": [
       "<div id='4927'>\n",
       "  <div class=\"bk-root\" id=\"7323f7d3-b294-4c39-9b64-40e3efb49177\" data-root-id=\"4927\"></div>\n",
       "</div>\n",
       "<script type=\"application/javascript\">(function(root) {\n",
       "  function embed_document(root) {\n",
       "    var docs_json = {\"09ddef70-7745-41b9-94c9-4006d99e726d\":{\"defs\":[{\"extends\":null,\"module\":null,\"name\":\"ReactiveHTML1\",\"overrides\":[],\"properties\":[]},{\"extends\":null,\"module\":null,\"name\":\"FlexBox1\",\"overrides\":[],\"properties\":[{\"default\":\"flex-start\",\"kind\":null,\"name\":\"align_content\"},{\"default\":\"flex-start\",\"kind\":null,\"name\":\"align_items\"},{\"default\":\"row\",\"kind\":null,\"name\":\"flex_direction\"},{\"default\":\"wrap\",\"kind\":null,\"name\":\"flex_wrap\"},{\"default\":\"flex-start\",\"kind\":null,\"name\":\"justify_content\"}]},{\"extends\":null,\"module\":null,\"name\":\"GridStack1\",\"overrides\":[],\"properties\":[{\"default\":\"warn\",\"kind\":null,\"name\":\"mode\"},{\"default\":null,\"kind\":null,\"name\":\"ncols\"},{\"default\":null,\"kind\":null,\"name\":\"nrows\"},{\"default\":true,\"kind\":null,\"name\":\"allow_resize\"},{\"default\":true,\"kind\":null,\"name\":\"allow_drag\"},{\"default\":[],\"kind\":null,\"name\":\"state\"}]},{\"extends\":null,\"module\":null,\"name\":\"click1\",\"overrides\":[],\"properties\":[{\"default\":\"\",\"kind\":null,\"name\":\"terminal_output\"},{\"default\":\"\",\"kind\":null,\"name\":\"debug_name\"},{\"default\":0,\"kind\":null,\"name\":\"clears\"}]},{\"extends\":null,\"module\":null,\"name\":\"NotificationAreaBase1\",\"overrides\":[],\"properties\":[{\"default\":\"bottom-right\",\"kind\":null,\"name\":\"position\"},{\"default\":0,\"kind\":null,\"name\":\"_clear\"}]},{\"extends\":null,\"module\":null,\"name\":\"NotificationArea1\",\"overrides\":[],\"properties\":[{\"default\":[],\"kind\":null,\"name\":\"notifications\"},{\"default\":\"bottom-right\",\"kind\":null,\"name\":\"position\"},{\"default\":0,\"kind\":null,\"name\":\"_clear\"},{\"default\":[{\"background\":\"#ffc107\",\"icon\":{\"className\":\"fas fa-exclamation-triangle\",\"color\":\"white\",\"tagName\":\"i\"},\"type\":\"warning\"},{\"background\":\"#007bff\",\"icon\":{\"className\":\"fas fa-info-circle\",\"color\":\"white\",\"tagName\":\"i\"},\"type\":\"info\"}],\"kind\":null,\"name\":\"types\"}]},{\"extends\":null,\"module\":null,\"name\":\"Notification\",\"overrides\":[],\"properties\":[{\"default\":null,\"kind\":null,\"name\":\"background\"},{\"default\":3000,\"kind\":null,\"name\":\"duration\"},{\"default\":null,\"kind\":null,\"name\":\"icon\"},{\"default\":\"\",\"kind\":null,\"name\":\"message\"},{\"default\":null,\"kind\":null,\"name\":\"notification_type\"},{\"default\":false,\"kind\":null,\"name\":\"_destroyed\"}]},{\"extends\":null,\"module\":null,\"name\":\"TemplateActions1\",\"overrides\":[],\"properties\":[{\"default\":0,\"kind\":null,\"name\":\"open_modal\"},{\"default\":0,\"kind\":null,\"name\":\"close_modal\"}]},{\"extends\":null,\"module\":null,\"name\":\"MaterialTemplateActions1\",\"overrides\":[],\"properties\":[{\"default\":0,\"kind\":null,\"name\":\"open_modal\"},{\"default\":0,\"kind\":null,\"name\":\"close_modal\"}]}],\"roots\":{\"references\":[{\"attributes\":{},\"id\":\"4923\",\"type\":\"UnionRenderers\"},{\"attributes\":{},\"id\":\"4902\",\"type\":\"UnionRenderers\"},{\"attributes\":{},\"id\":\"4903\",\"type\":\"Selection\"},{\"attributes\":{},\"id\":\"4858\",\"type\":\"ResetTool\"},{\"attributes\":{\"data\":{\"color\":[\"midnightblue\",\"firebrick\",\"midnightblue\",\"midnightblue\",\"midnightblue\",\"firebrick\",\"midnightblue\",\"midnightblue\",\"midnightblue\",\"midnightblue\",\"midnightblue\",\"midnightblue\",\"midnightblue\",\"firebrick\",\"firebrick\",\"midnightblue\",\"firebrick\",\"midnightblue\",\"midnightblue\",\"firebrick\",\"midnightblue\",\"midnightblue\",\"firebrick\",\"firebrick\",\"firebrick\",\"firebrick\",\"midnightblue\",\"midnightblue\",\"firebrick\",\"midnightblue\",\"midnightblue\",\"midnightblue\",\"midnightblue\",\"firebrick\",\"midnightblue\",\"midnightblue\",\"firebrick\",\"firebrick\",\"midnightblue\",\"firebrick\",\"midnightblue\",\"midnightblue\",\"firebrick\",\"firebrick\",\"midnightblue\",\"midnightblue\",\"firebrick\",\"midnightblue\",\"darkorchid\",\"midnightblue\",\"firebrick\",\"firebrick\",\"midnightblue\",\"midnightblue\",\"firebrick\",\"midnightblue\",\"midnightblue\",\"firebrick\",\"firebrick\",\"midnightblue\",\"firebrick\",\"firebrick\",\"firebrick\",\"firebrick\",\"midnightblue\",\"midnightblue\",\"midnightblue\",\"firebrick\",\"midnightblue\",\"firebrick\",\"midnightblue\",\"firebrick\",\"firebrick\",\"firebrick\",\"firebrick\",\"firebrick\",\"midnightblue\",\"midnightblue\",\"firebrick\",\"midnightblue\",\"firebrick\",\"firebrick\",\"firebrick\",\"midnightblue\",\"midnightblue\",\"midnightblue\",\"midnightblue\",\"firebrick\",\"midnightblue\",\"midnightblue\",\"firebrick\",\"firebrick\",\"firebrick\",\"firebrick\",\"midnightblue\",\"firebrick\",\"midnightblue\",\"midnightblue\",\"firebrick\",\"midnightblue\",\"firebrick\",\"midnightblue\",\"firebrick\",\"midnightblue\",\"midnightblue\",\"firebrick\",\"firebrick\",\"firebrick\",\"midnightblue\",\"firebrick\",\"midnightblue\",\"firebrick\",\"firebrick\",\"firebrick\",\"midnightblue\",\"midnightblue\",\"midnightblue\",\"firebrick\",\"firebrick\",\"firebrick\",\"midnightblue\",\"midnightblue\",\"midnightblue\",\"midnightblue\",\"midnightblue\",\"midnightblue\",\"firebrick\",\"midnightblue\",\"firebrick\",\"firebrick\",\"firebrick\",\"firebrick\",\"firebrick\",\"firebrick\",\"firebrick\",\"midnightblue\",\"firebrick\",\"firebrick\",\"firebrick\",\"firebrick\",\"firebrick\",\"firebrick\",\"firebrick\",\"firebrick\",\"midnightblue\",\"firebrick\",\"midnightblue\",\"midnightblue\",\"midnightblue\",\"midnightblue\",\"firebrick\",\"firebrick\",\"firebrick\",\"firebrick\",\"midnightblue\",\"firebrick\",\"midnightblue\",\"midnightblue\",\"midnightblue\",\"firebrick\",\"midnightblue\",\"midnightblue\",\"midnightblue\",\"darkorchid\",\"midnightblue\",\"midnightblue\",\"midnightblue\",\"midnightblue\",\"firebrick\",\"firebrick\",\"firebrick\",\"firebrick\",\"firebrick\",\"firebrick\",\"midnightblue\",\"firebrick\",\"midnightblue\",\"firebrick\",\"firebrick\",\"firebrick\",\"midnightblue\",\"firebrick\",\"midnightblue\",\"firebrick\",\"firebrick\",\"midnightblue\",\"firebrick\",\"firebrick\",\"firebrick\",\"midnightblue\",\"midnightblue\",\"midnightblue\",\"midnightblue\",\"firebrick\",\"midnightblue\",\"firebrick\",\"firebrick\",\"firebrick\",\"midnightblue\",\"midnightblue\"],\"label\":[\"class 1\",\"class 2\",\"class 1\",\"class 1\",\"class 1\",\"class 2\",\"class 1\",\"class 1\",\"class 1\",\"class 1\",\"class 1\",\"class 1\",\"class 1\",\"class 2\",\"class 2\",\"class 1\",\"class 2\",\"class 1\",\"class 1\",\"class 2\",\"class 1\",\"class 1\",\"class 2\",\"class 2\",\"class 2\",\"class 2\",\"class 1\",\"class 1\",\"class 2\",\"class 1\",\"class 1\",\"class 1\",\"class 1\",\"class 2\",\"class 1\",\"class 1\",\"class 2\",\"class 2\",\"class 1\",\"class 2\",\"class 1\",\"class 1\",\"class 2\",\"class 2\",\"class 1\",\"class 1\",\"class 2\",\"class 1\",\"class 4\",\"class 1\",\"class 2\",\"class 2\",\"class 1\",\"class 1\",\"class 2\",\"class 1\",\"class 1\",\"class 2\",\"class 2\",\"class 1\",\"class 2\",\"class 2\",\"class 2\",\"class 2\",\"class 1\",\"class 1\",\"class 1\",\"class 2\",\"class 1\",\"class 2\",\"class 1\",\"class 2\",\"class 2\",\"class 2\",\"class 2\",\"class 2\",\"class 1\",\"class 1\",\"class 2\",\"class 1\",\"class 2\",\"class 2\",\"class 2\",\"class 1\",\"class 1\",\"class 1\",\"class 1\",\"class 2\",\"class 1\",\"class 1\",\"class 2\",\"class 2\",\"class 2\",\"class 2\",\"class 1\",\"class 2\",\"class 1\",\"class 1\",\"class 2\",\"class 1\",\"class 2\",\"class 1\",\"class 2\",\"class 1\",\"class 1\",\"class 2\",\"class 2\",\"class 2\",\"class 1\",\"class 2\",\"class 1\",\"class 2\",\"class 2\",\"class 2\",\"class 1\",\"class 1\",\"class 1\",\"class 2\",\"class 2\",\"class 2\",\"class 1\",\"class 1\",\"class 1\",\"class 1\",\"class 1\",\"class 1\",\"class 2\",\"class 1\",\"class 2\",\"class 2\",\"class 2\",\"class 2\",\"class 2\",\"class 2\",\"class 2\",\"class 1\",\"class 2\",\"class 2\",\"class 2\",\"class 2\",\"class 2\",\"class 2\",\"class 2\",\"class 2\",\"class 1\",\"class 2\",\"class 1\",\"class 1\",\"class 1\",\"class 1\",\"class 2\",\"class 2\",\"class 2\",\"class 2\",\"class 1\",\"class 2\",\"class 1\",\"class 1\",\"class 1\",\"class 2\",\"class 1\",\"class 1\",\"class 1\",\"class 4\",\"class 1\",\"class 1\",\"class 1\",\"class 1\",\"class 2\",\"class 2\",\"class 2\",\"class 2\",\"class 2\",\"class 2\",\"class 1\",\"class 2\",\"class 1\",\"class 2\",\"class 2\",\"class 2\",\"class 1\",\"class 2\",\"class 1\",\"class 2\",\"class 2\",\"class 1\",\"class 2\",\"class 2\",\"class 2\",\"class 1\",\"class 1\",\"class 1\",\"class 1\",\"class 2\",\"class 1\",\"class 2\",\"class 2\",\"class 2\",\"class 1\",\"class 1\"],\"x\":{\"__ndarray__\":\"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\",\"dtype\":\"float64\",\"order\":\"little\",\"shape\":[200]},\"y\":{\"__ndarray__\":\"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\",\"dtype\":\"float64\",\"order\":\"little\",\"shape\":[200]}},\"selected\":{\"id\":\"4883\"},\"selection_policy\":{\"id\":\"4882\"}},\"id\":\"4868\",\"type\":\"ColumnDataSource\"},{\"attributes\":{},\"id\":\"4838\",\"type\":\"DataRange1d\"},{\"attributes\":{\"bottom_units\":\"screen\",\"coordinates\":null,\"fill_alpha\":0.5,\"fill_color\":\"lightgrey\",\"group\":null,\"left_units\":\"screen\",\"level\":\"overlay\",\"line_alpha\":1.0,\"line_color\":\"black\",\"line_dash\":[4,4],\"line_width\":2,\"right_units\":\"screen\",\"syncable\":false,\"top_units\":\"screen\"},\"id\":\"4860\",\"type\":\"BoxAnnotation\"},{\"attributes\":{\"overlay\":{\"id\":\"4860\"}},\"id\":\"4856\",\"type\":\"BoxZoomTool\"},{\"attributes\":{\"data\":{\"x\":[-4.0,-3.836734693877551,-3.673469387755102,-3.510204081632653,-3.3469387755102042,-3.183673469387755,-3.020408163265306,-2.857142857142857,-2.6938775510204085,-2.5306122448979593,-2.36734693877551,-2.2040816326530615,-2.0408163265306123,-1.8775510204081636,-1.7142857142857144,-1.5510204081632657,-1.3877551020408165,-1.2244897959183674,-1.0612244897959187,-0.8979591836734695,-0.7346938775510208,-0.5714285714285716,-0.4081632653061229,-0.24489795918367374,-0.08163265306122458,0.08163265306122458,0.24489795918367285,0.408163265306122,0.5714285714285712,0.7346938775510203,0.8979591836734686,1.0612244897959178,1.224489795918367,1.387755102040816,1.5510204081632653,1.7142857142857135,1.8775510204081627,2.040816326530612,2.204081632653061,2.3673469387755093,2.5306122448979584,2.6938775510204076,2.8571428571428568,3.020408163265306,3.183673469387754,3.3469387755102034,3.5102040816326525,3.6734693877551017,3.836734693877551,4.0],\"y\":[1.3521363707548073,1.2780378066681475,1.2039392425814877,1.1298406784948276,1.0557421144081678,0.9816435503215077,0.9075449862348479,0.8334464221481882,0.7593478580615284,0.6852492939748683,0.6111507298882084,0.5370521658015486,0.46295360171488853,0.38885503762822876,0.31475647354156877,0.24065790945490895,0.16655934536824904,0.09246078128158904,0.01836221719492924,-0.05573634689173077,-0.12983491097839056,-0.20393347506505052,-0.2780320391517103,-0.35213060323837025,-0.4262291673250303,-0.5003277314116903,-0.5744262954983499,-0.6485248595850099,-0.7226234236716699,-0.7967219877583299,-0.8708205518449895,-0.9449191159316493,-1.0190176800183095,-1.0931162441049695,-1.1672148081916294,-1.241313372278289,-1.3154119363649488,-1.3895105004516088,-1.463609064538269,-1.5377076286249285,-1.6118061927115885,-1.6859047567982486,-1.7600033208849086,-1.8341018849715685,-1.908200449058228,-1.9822990131448879,-2.056397577231548,-2.1304961413182077,-2.204594705404868,-2.278693269491528]},\"selected\":{\"id\":\"4903\"},\"selection_policy\":{\"id\":\"4902\"}},\"id\":\"4887\",\"type\":\"ColumnDataSource\"},{\"attributes\":{\"axis_label\":\"x\",\"axis_label_standoff\":10,\"axis_label_text_color\":\"#FFFFFF\",\"axis_label_text_font\":\"Josefin Sans\",\"axis_label_text_font_size\":\"1.9em\",\"axis_label_text_font_style\":\"bold\",\"axis_line_alpha\":0.4,\"axis_line_color\":\"#E0E0E0\",\"coordinates\":null,\"formatter\":{\"id\":\"4880\"},\"group\":null,\"major_label_policy\":{\"id\":\"4881\"},\"major_label_text_color\":\"#E0E0E0\",\"major_label_text_font\":\"Josefin Sans\",\"major_label_text_font_size\":\"1.15em\",\"major_tick_line_alpha\":0.4,\"major_tick_line_color\":\"#E0E0E0\",\"minor_tick_line_alpha\":0.4,\"minor_tick_line_color\":\"#E0E0E0\",\"ticker\":{\"id\":\"4847\"}},\"id\":\"4846\",\"type\":\"LinearAxis\"},{\"attributes\":{\"children\":[{\"id\":\"4928\"},{\"id\":\"4835\"},{\"id\":\"4957\"}],\"margin\":[0,0,0,0],\"name\":\"Row00329\"},\"id\":\"4927\",\"type\":\"Row\"},{\"attributes\":{\"line_alpha\":0.6,\"line_color\":\"yellow\",\"line_width\":6,\"x\":{\"field\":\"x\"},\"y\":{\"field\":\"y\"}},\"id\":\"4907\",\"type\":\"Line\"},{\"attributes\":{},\"id\":\"4882\",\"type\":\"UnionRenderers\"},{\"attributes\":{\"margin\":[5,5,5,5],\"name\":\"HSpacer00326\",\"sizing_mode\":\"stretch_width\"},\"id\":\"4957\",\"type\":\"Spacer\"},{\"attributes\":{},\"id\":\"4859\",\"type\":\"HelpTool\"},{\"attributes\":{\"margin\":[5,5,5,5],\"name\":\"HSpacer00325\",\"sizing_mode\":\"stretch_width\"},\"id\":\"4928\",\"type\":\"Spacer\"},{\"attributes\":{},\"id\":\"4854\",\"type\":\"PanTool\"},{\"attributes\":{\"client_comm_id\":\"cd88e3bbdb43479282b7bf6215c79f3c\",\"comm_id\":\"ab13e5b4d6ab4eb9995cae237def3897\",\"plot_id\":\"4927\"},\"id\":\"5000\",\"type\":\"panel.models.comm_manager.CommManager\"},{\"attributes\":{\"tools\":[{\"id\":\"4854\"},{\"id\":\"4855\"},{\"id\":\"4856\"},{\"id\":\"4857\"},{\"id\":\"4858\"},{\"id\":\"4859\"}]},\"id\":\"4861\",\"type\":\"Toolbar\"},{\"attributes\":{},\"id\":\"4842\",\"type\":\"LinearScale\"},{\"attributes\":{\"coordinates\":null,\"data_source\":{\"id\":\"4868\"},\"glyph\":{\"id\":\"4870\"},\"group\":null,\"hover_glyph\":null,\"muted_glyph\":{\"id\":\"4872\"},\"nonselection_glyph\":{\"id\":\"4871\"},\"view\":{\"id\":\"4874\"}},\"id\":\"4873\",\"type\":\"GlyphRenderer\"},{\"attributes\":{\"axis\":{\"id\":\"4846\"},\"coordinates\":null,\"grid_line_alpha\":0.15,\"grid_line_color\":\"#E0E0E0\",\"group\":null,\"ticker\":null},\"id\":\"4849\",\"type\":\"Grid\"},{\"attributes\":{},\"id\":\"4847\",\"type\":\"BasicTicker\"},{\"attributes\":{\"fill_alpha\":{\"value\":0.6},\"fill_color\":{\"field\":\"color\"},\"hatch_alpha\":{\"value\":0.6},\"hatch_color\":{\"field\":\"color\"},\"line_alpha\":{\"value\":0.6},\"line_color\":{\"value\":\"white\"},\"size\":{\"value\":10},\"x\":{\"field\":\"x\"},\"y\":{\"field\":\"y\"}},\"id\":\"4870\",\"type\":\"Circle\"},{\"attributes\":{\"coordinates\":null,\"group\":null,\"text\":\"Linear classification\",\"text_color\":\"#E0E0E0\",\"text_font\":\"Josefin Sans\",\"text_font_size\":\"2.1em\"},\"id\":\"4836\",\"type\":\"Title\"},{\"attributes\":{\"background_fill_alpha\":0.9,\"background_fill_color\":\"#0f0f0f\",\"below\":[{\"id\":\"4846\"}],\"border_fill_alpha\":0.8,\"border_fill_color\":\"#111111\",\"center\":[{\"id\":\"4849\"},{\"id\":\"4853\"},{\"id\":\"4885\"}],\"height\":450,\"left\":[{\"id\":\"4850\"}],\"outline_line_alpha\":0.25,\"outline_line_color\":\"#E0E0E0\",\"outline_line_width\":3,\"renderers\":[{\"id\":\"4873\"},{\"id\":\"4891\"},{\"id\":\"4910\"}],\"right\":[{\"id\":\"4885\"}],\"title\":{\"id\":\"4836\"},\"toolbar\":{\"id\":\"4861\"},\"width\":700,\"x_range\":{\"id\":\"4838\"},\"x_scale\":{\"id\":\"4842\"},\"y_range\":{\"id\":\"4840\"},\"y_scale\":{\"id\":\"4844\"}},\"id\":\"4835\",\"subtype\":\"Figure\",\"type\":\"Plot\"},{\"attributes\":{},\"id\":\"4881\",\"type\":\"AllLabels\"},{\"attributes\":{},\"id\":\"4840\",\"type\":\"DataRange1d\"},{\"attributes\":{\"axis\":{\"id\":\"4850\"},\"coordinates\":null,\"dimension\":1,\"grid_line_alpha\":0.15,\"grid_line_color\":\"#E0E0E0\",\"group\":null,\"ticker\":null},\"id\":\"4853\",\"type\":\"Grid\"},{\"attributes\":{},\"id\":\"4880\",\"type\":\"BasicTickFormatter\"},{\"attributes\":{},\"id\":\"4851\",\"type\":\"BasicTicker\"},{\"attributes\":{\"line_alpha\":0.2,\"line_color\":\"yellow\",\"line_width\":6,\"x\":{\"field\":\"x\"},\"y\":{\"field\":\"y\"}},\"id\":\"4909\",\"type\":\"Line\"},{\"attributes\":{},\"id\":\"4844\",\"type\":\"LinearScale\"},{\"attributes\":{},\"id\":\"4883\",\"type\":\"Selection\"},{\"attributes\":{},\"id\":\"4857\",\"type\":\"SaveTool\"},{\"attributes\":{},\"id\":\"4877\",\"type\":\"BasicTickFormatter\"},{\"attributes\":{\"line_alpha\":0.1,\"line_color\":\"yellow\",\"line_width\":6,\"x\":{\"field\":\"x\"},\"y\":{\"field\":\"y\"}},\"id\":\"4908\",\"type\":\"Line\"},{\"attributes\":{\"fill_alpha\":{\"value\":0.1},\"fill_color\":{\"field\":\"color\"},\"hatch_alpha\":{\"value\":0.1},\"hatch_color\":{\"field\":\"color\"},\"line_alpha\":{\"value\":0.1},\"line_color\":{\"value\":\"white\"},\"size\":{\"value\":10},\"x\":{\"field\":\"x\"},\"y\":{\"field\":\"y\"}},\"id\":\"4871\",\"type\":\"Circle\"},{\"attributes\":{\"label\":{\"field\":\"label\"},\"renderers\":[{\"id\":\"4873\"}]},\"id\":\"4886\",\"type\":\"LegendItem\"},{\"attributes\":{\"background_fill_alpha\":0.2,\"background_fill_color\":\"darkgrey\",\"border_line_alpha\":0.8,\"border_line_color\":\"grey\",\"border_line_width\":3,\"coordinates\":null,\"group\":null,\"items\":[{\"id\":\"4886\"},{\"id\":\"4905\"},{\"id\":\"4926\"}],\"label_text_color\":\"white\"},\"id\":\"4885\",\"type\":\"Legend\"},{\"attributes\":{\"coordinates\":null,\"data_source\":{\"id\":\"4887\"},\"glyph\":{\"id\":\"4888\"},\"group\":null,\"hover_glyph\":null,\"muted_glyph\":{\"id\":\"4890\"},\"nonselection_glyph\":{\"id\":\"4889\"},\"view\":{\"id\":\"4892\"}},\"id\":\"4891\",\"type\":\"GlyphRenderer\"},{\"attributes\":{\"label\":{\"value\":\"numpy boundary\"},\"renderers\":[{\"id\":\"4891\"}]},\"id\":\"4905\",\"type\":\"LegendItem\"},{\"attributes\":{\"fill_alpha\":{\"value\":0.2},\"fill_color\":{\"field\":\"color\"},\"hatch_alpha\":{\"value\":0.2},\"hatch_color\":{\"field\":\"color\"},\"line_alpha\":{\"value\":0.2},\"line_color\":{\"value\":\"white\"},\"size\":{\"value\":10},\"x\":{\"field\":\"x\"},\"y\":{\"field\":\"y\"}},\"id\":\"4872\",\"type\":\"Circle\"},{\"attributes\":{\"axis_label\":\"y\",\"axis_label_standoff\":10,\"axis_label_text_color\":\"#FFFFFF\",\"axis_label_text_font\":\"Josefin Sans\",\"axis_label_text_font_size\":\"1.9em\",\"axis_label_text_font_style\":\"bold\",\"axis_line_alpha\":0.4,\"axis_line_color\":\"#E0E0E0\",\"coordinates\":null,\"formatter\":{\"id\":\"4877\"},\"group\":null,\"major_label_policy\":{\"id\":\"4878\"},\"major_label_text_color\":\"#E0E0E0\",\"major_label_text_font\":\"Josefin Sans\",\"major_label_text_font_size\":\"1.15em\",\"major_tick_line_alpha\":0.4,\"major_tick_line_color\":\"#E0E0E0\",\"minor_tick_line_alpha\":0.4,\"minor_tick_line_color\":\"#E0E0E0\",\"ticker\":{\"id\":\"4851\"}},\"id\":\"4850\",\"type\":\"LinearAxis\"},{\"attributes\":{\"data\":{\"x\":[-1.8775510204081636,-1.7142857142857144,-1.5510204081632657,-1.3877551020408165,-1.2244897959183674,-1.0612244897959187,-0.8979591836734695,-0.7346938775510208,-0.5714285714285716,-0.4081632653061229,-0.24489795918367374,-0.08163265306122458,0.08163265306122458,0.24489795918367285,0.408163265306122,0.5714285714285712,0.7346938775510203],\"y\":[3.735917568206787,3.26582407951355,2.7957310676574707,2.3256380558013916,1.855544924736023,1.3854517936706543,0.9153589010238647,0.44526585936546326,-0.02482716366648674,-0.4949202537536621,-0.9650133848190308,-1.4351063966751099,-1.9051995277404785,-2.3752925395965576,-2.8453855514526367,-3.315478801727295,-3.785571575164795]},\"selected\":{\"id\":\"4924\"},\"selection_policy\":{\"id\":\"4923\"}},\"id\":\"4906\",\"type\":\"ColumnDataSource\"},{\"attributes\":{\"line_alpha\":0.1,\"line_color\":\"green\",\"line_width\":6,\"x\":{\"field\":\"x\"},\"y\":{\"field\":\"y\"}},\"id\":\"4889\",\"type\":\"Line\"},{\"attributes\":{\"source\":{\"id\":\"4868\"}},\"id\":\"4874\",\"type\":\"CDSView\"},{\"attributes\":{\"source\":{\"id\":\"4887\"}},\"id\":\"4892\",\"type\":\"CDSView\"},{\"attributes\":{},\"id\":\"4855\",\"type\":\"WheelZoomTool\"},{\"attributes\":{},\"id\":\"4878\",\"type\":\"AllLabels\"},{\"attributes\":{\"line_alpha\":0.2,\"line_color\":\"green\",\"line_width\":6,\"x\":{\"field\":\"x\"},\"y\":{\"field\":\"y\"}},\"id\":\"4890\",\"type\":\"Line\"},{\"attributes\":{\"line_alpha\":0.6,\"line_color\":\"green\",\"line_width\":6,\"x\":{\"field\":\"x\"},\"y\":{\"field\":\"y\"}},\"id\":\"4888\",\"type\":\"Line\"},{\"attributes\":{\"source\":{\"id\":\"4906\"}},\"id\":\"4911\",\"type\":\"CDSView\"},{\"attributes\":{\"label\":{\"value\":\"JAX boundary\"},\"renderers\":[{\"id\":\"4910\"}]},\"id\":\"4926\",\"type\":\"LegendItem\"},{\"attributes\":{\"coordinates\":null,\"data_source\":{\"id\":\"4906\"},\"glyph\":{\"id\":\"4907\"},\"group\":null,\"hover_glyph\":null,\"muted_glyph\":{\"id\":\"4909\"},\"nonselection_glyph\":{\"id\":\"4908\"},\"view\":{\"id\":\"4911\"}},\"id\":\"4910\",\"type\":\"GlyphRenderer\"},{\"attributes\":{},\"id\":\"4924\",\"type\":\"Selection\"}],\"root_ids\":[\"4927\",\"5000\"]},\"title\":\"Bokeh Application\",\"version\":\"2.4.3\"}};\n",
       "    var render_items = [{\"docid\":\"09ddef70-7745-41b9-94c9-4006d99e726d\",\"root_ids\":[\"4927\"],\"roots\":{\"4927\":\"7323f7d3-b294-4c39-9b64-40e3efb49177\"}}];\n",
       "    root.Bokeh.embed.embed_items_notebook(docs_json, render_items);\n",
       "    for (const render_item of render_items) {\n",
       "      for (const root_id of render_item.root_ids) {\n",
       "\tconst id_el = document.getElementById(root_id)\n",
       "\tif (id_el.children.length && (id_el.children[0].className === 'bk-root')) {\n",
       "\t  const root_el = id_el.children[0]\n",
       "\t  root_el.id = root_el.id + '-rendered'\n",
       "\t}\n",
       "      }\n",
       "    }\n",
       "  }\n",
       "  if (root.Bokeh !== undefined && root.Bokeh.Panel !== undefined) {\n",
       "    embed_document(root);\n",
       "  } else {\n",
       "    var attempts = 0;\n",
       "    var timer = setInterval(function(root) {\n",
       "      if (root.Bokeh !== undefined && root.Bokeh.Panel !== undefined) {\n",
       "        clearInterval(timer);\n",
       "        embed_document(root);\n",
       "      } else if (document.readyState == \"complete\") {\n",
       "        attempts++;\n",
       "        if (attempts > 200) {\n",
       "          clearInterval(timer);\n",
       "          console.log(\"Bokeh: ERROR: Unable to run BokehJS code because BokehJS library is missing\");\n",
       "        }\n",
       "      }\n",
       "    }, 25, root)\n",
       "  }\n",
       "})(window);</script>"
      ],
      "text/plain": [
       "Row\n",
       "    [0] HSpacer()\n",
       "    [1] Bokeh(Figure)\n",
       "    [2] HSpacer()"
      ]
     },
     "execution_count": 65,
     "metadata": {
      "application/vnd.holoviews_exec.v0+json": {
       "id": "4927"
      }
     },
     "output_type": "execute_result"
    }
   ],
   "source": [
    "# display results\n",
    "\n",
    "print(f\"Execution time for numpy: {time_numpy:{5}.{3}} seconds\")\n",
    "print(f\"Precision of numpy model: \")\n",
    "print(f\"\\tClass 1: {precision_0_numpy:{5}.{3}} ({stat_0_numpy})\")\n",
    "print(f\"\\tClass 2: {precision_1_numpy:{5}.{3}} ({stat_1_numpy})\")\n",
    "print(f\"\\nExecution time for jax: {time_jax:{5}.{3}} seconds\")\n",
    "print(f\"Precision of jax model: \")\n",
    "print(f\"\\tClass 1: {precision_0_jax:{5}.{3}} ({stat_0_jax})\")\n",
    "print(f\"\\tClass 2: {precision_1_jax:{5}.{3}} ({stat_1_jax})\")\n",
    "\n",
    "boundary_x = np.linspace(-4, 4)\n",
    "boundary_y_numpy = -(boundary_x*w_numpy[0] + w_numpy[2])/w_numpy[1]\n",
    "boundary_y_jax = -(boundary_x*w_jax[0] + w_jax[2])/w_jax[1]\n",
    "not_too_large_numpy = (boundary_y_numpy >= -4) & (boundary_y_numpy <= 4)\n",
    "not_too_large_jax = (boundary_y_jax >= -4) & (boundary_y_jax <= 4)\n",
    "\n",
    "boundary_numpy = find_boundary(w_numpy)\n",
    "boundary_jax = find_boundary(w_jax)\n",
    "\n",
    "p = scatter_classes(x_data, classes, title=\"Linear classification\")\n",
    "p.line(boundary_numpy[0].tolist(), boundary_numpy[1].tolist(), line_width=6, line_alpha=0.6, color=\"green\", legend_label=r\"numpy boundary\")\n",
    "p.line(boundary_jax[0].tolist(), boundary_jax[1].tolist(), line_width=6, line_alpha=0.6, color=\"yellow\", legend_label=r\"JAX boundary\")\n",
    "plot = (center_plot(p))\n",
    "plot\n"
   ]
  },
  {
   "cell_type": "markdown",
   "metadata": {},
   "source": [
    "<div class=\"alert alert-success\" markdown=\"1\" style=\"color:white; background-color: #192841; border-color: #779ecb\">\n",
    "\n",
    "> ### Going further (optional)\n",
    "> Implement a more complex dataset and compare the results of the NumPy and JAX implementations.\n",
    "\n",
    "</div>"
   ]
  },
  {
   "cell_type": "code",
   "execution_count": null,
   "metadata": {},
   "outputs": [],
   "source": []
  },
  {
   "cell_type": "markdown",
   "metadata": {},
   "source": [
    "## Exercise 2 - Polynomial regression"
   ]
  },
  {
   "cell_type": "markdown",
   "metadata": {},
   "source": [
    "<div class=\"alert alert-success\" markdown=\"1\" style=\"color:white; background-color: #013220; border-color: #03C03C\">\n",
    "\n",
    "> In this exercise, you will implement polynomial regression using NumPy and JAX. This should be a quite straightforward extension of what we have seen until now. We deliberately removed details of the implementation (list of points to adress) so that you can start defining your first entire machine learning setup by yourself.\n",
    "\n",
    "</div>"
   ]
  },
  {
   "cell_type": "code",
   "execution_count": 12,
   "metadata": {
    "tags": []
   },
   "outputs": [
    {
     "data": {},
     "metadata": {},
     "output_type": "display_data"
    },
    {
     "data": {
      "application/vnd.holoviews_exec.v0+json": "",
      "text/html": [
       "<div id='1729'>\n",
       "  <div class=\"bk-root\" id=\"7126c334-c688-48df-87fa-ae4df13446a7\" data-root-id=\"1729\"></div>\n",
       "</div>\n",
       "<script type=\"application/javascript\">(function(root) {\n",
       "  function embed_document(root) {\n",
       "    var docs_json = {\"3b1221a7-aed0-42a0-824a-3bd067ba7f8e\":{\"defs\":[{\"extends\":null,\"module\":null,\"name\":\"ReactiveHTML1\",\"overrides\":[],\"properties\":[]},{\"extends\":null,\"module\":null,\"name\":\"FlexBox1\",\"overrides\":[],\"properties\":[{\"default\":\"flex-start\",\"kind\":null,\"name\":\"align_content\"},{\"default\":\"flex-start\",\"kind\":null,\"name\":\"align_items\"},{\"default\":\"row\",\"kind\":null,\"name\":\"flex_direction\"},{\"default\":\"wrap\",\"kind\":null,\"name\":\"flex_wrap\"},{\"default\":\"flex-start\",\"kind\":null,\"name\":\"justify_content\"}]},{\"extends\":null,\"module\":null,\"name\":\"GridStack1\",\"overrides\":[],\"properties\":[{\"default\":\"warn\",\"kind\":null,\"name\":\"mode\"},{\"default\":null,\"kind\":null,\"name\":\"ncols\"},{\"default\":null,\"kind\":null,\"name\":\"nrows\"},{\"default\":true,\"kind\":null,\"name\":\"allow_resize\"},{\"default\":true,\"kind\":null,\"name\":\"allow_drag\"},{\"default\":[],\"kind\":null,\"name\":\"state\"}]},{\"extends\":null,\"module\":null,\"name\":\"click1\",\"overrides\":[],\"properties\":[{\"default\":\"\",\"kind\":null,\"name\":\"terminal_output\"},{\"default\":\"\",\"kind\":null,\"name\":\"debug_name\"},{\"default\":0,\"kind\":null,\"name\":\"clears\"}]},{\"extends\":null,\"module\":null,\"name\":\"NotificationAreaBase1\",\"overrides\":[],\"properties\":[{\"default\":\"bottom-right\",\"kind\":null,\"name\":\"position\"},{\"default\":0,\"kind\":null,\"name\":\"_clear\"}]},{\"extends\":null,\"module\":null,\"name\":\"NotificationArea1\",\"overrides\":[],\"properties\":[{\"default\":[],\"kind\":null,\"name\":\"notifications\"},{\"default\":\"bottom-right\",\"kind\":null,\"name\":\"position\"},{\"default\":0,\"kind\":null,\"name\":\"_clear\"},{\"default\":[{\"background\":\"#ffc107\",\"icon\":{\"className\":\"fas fa-exclamation-triangle\",\"color\":\"white\",\"tagName\":\"i\"},\"type\":\"warning\"},{\"background\":\"#007bff\",\"icon\":{\"className\":\"fas fa-info-circle\",\"color\":\"white\",\"tagName\":\"i\"},\"type\":\"info\"}],\"kind\":null,\"name\":\"types\"}]},{\"extends\":null,\"module\":null,\"name\":\"Notification\",\"overrides\":[],\"properties\":[{\"default\":null,\"kind\":null,\"name\":\"background\"},{\"default\":3000,\"kind\":null,\"name\":\"duration\"},{\"default\":null,\"kind\":null,\"name\":\"icon\"},{\"default\":\"\",\"kind\":null,\"name\":\"message\"},{\"default\":null,\"kind\":null,\"name\":\"notification_type\"},{\"default\":false,\"kind\":null,\"name\":\"_destroyed\"}]},{\"extends\":null,\"module\":null,\"name\":\"TemplateActions1\",\"overrides\":[],\"properties\":[{\"default\":0,\"kind\":null,\"name\":\"open_modal\"},{\"default\":0,\"kind\":null,\"name\":\"close_modal\"}]},{\"extends\":null,\"module\":null,\"name\":\"MaterialTemplateActions1\",\"overrides\":[],\"properties\":[{\"default\":0,\"kind\":null,\"name\":\"open_modal\"},{\"default\":0,\"kind\":null,\"name\":\"close_modal\"}]}],\"roots\":{\"references\":[{\"attributes\":{\"mode\":\"append\",\"overlay\":{\"id\":\"1741\"},\"renderers\":[{\"id\":\"1709\"}]},\"id\":\"1727\",\"type\":\"BoxSelectTool\"},{\"attributes\":{},\"id\":\"1687\",\"type\":\"BasicTicker\"},{\"attributes\":{\"axis_label\":\"y\",\"axis_label_standoff\":10,\"axis_label_text_color\":\"#FFFFFF\",\"axis_label_text_font\":\"Josefin Sans\",\"axis_label_text_font_size\":\"1.9em\",\"axis_label_text_font_style\":\"bold\",\"axis_line_alpha\":0.4,\"axis_line_color\":\"#E0E0E0\",\"coordinates\":null,\"formatter\":{\"id\":\"1713\"},\"group\":null,\"major_label_policy\":{\"id\":\"1714\"},\"major_label_text_color\":\"#E0E0E0\",\"major_label_text_font\":\"Josefin Sans\",\"major_label_text_font_size\":\"1.15em\",\"major_tick_line_alpha\":0.4,\"major_tick_line_color\":\"#E0E0E0\",\"minor_tick_line_alpha\":0.4,\"minor_tick_line_color\":\"#E0E0E0\",\"ticker\":{\"id\":\"1687\"}},\"id\":\"1686\",\"type\":\"LinearAxis\"},{\"attributes\":{\"label\":{\"value\":\"Observations\"},\"renderers\":[{\"id\":\"1709\"}]},\"id\":\"1722\",\"type\":\"LegendItem\"},{\"attributes\":{\"fill_alpha\":{\"value\":0.8},\"fill_color\":{\"value\":\"red\"},\"line_color\":{\"value\":\"white\"}},\"id\":\"1725\",\"type\":\"Circle\"},{\"attributes\":{},\"id\":\"1690\",\"type\":\"PanTool\"},{\"attributes\":{\"overlay\":{\"id\":\"1696\"}},\"id\":\"1692\",\"type\":\"BoxZoomTool\"},{\"attributes\":{},\"id\":\"1693\",\"type\":\"SaveTool\"},{\"attributes\":{},\"id\":\"1694\",\"type\":\"ResetTool\"},{\"attributes\":{\"axis\":{\"id\":\"1686\"},\"coordinates\":null,\"dimension\":1,\"grid_line_alpha\":0.15,\"grid_line_color\":\"#E0E0E0\",\"group\":null,\"ticker\":null},\"id\":\"1689\",\"type\":\"Grid\"},{\"attributes\":{},\"id\":\"1718\",\"type\":\"UnionRenderers\"},{\"attributes\":{\"bottom_units\":\"screen\",\"coordinates\":null,\"fill_alpha\":0.5,\"fill_color\":\"lightgrey\",\"group\":null,\"left_units\":\"screen\",\"level\":\"overlay\",\"line_alpha\":1.0,\"line_color\":\"black\",\"line_dash\":[4,4],\"line_width\":2,\"right_units\":\"screen\",\"syncable\":false,\"top_units\":\"screen\"},\"id\":\"1696\",\"type\":\"BoxAnnotation\"},{\"attributes\":{},\"id\":\"1691\",\"type\":\"WheelZoomTool\"},{\"attributes\":{},\"id\":\"1683\",\"type\":\"BasicTicker\"},{\"attributes\":{},\"id\":\"1695\",\"type\":\"HelpTool\"},{\"attributes\":{\"tools\":[{\"id\":\"1690\"},{\"id\":\"1691\"},{\"id\":\"1692\"},{\"id\":\"1693\"},{\"id\":\"1694\"},{\"id\":\"1695\"},{\"id\":\"1723\"},{\"id\":\"1727\"}]},\"id\":\"1697\",\"type\":\"Toolbar\"},{\"attributes\":{\"bottom_units\":\"screen\",\"coordinates\":null,\"fill_alpha\":0.5,\"fill_color\":\"lightgrey\",\"group\":null,\"left_units\":\"screen\",\"level\":\"overlay\",\"line_alpha\":1.0,\"line_color\":\"black\",\"line_dash\":[4,4],\"line_width\":2,\"right_units\":\"screen\",\"syncable\":false,\"top_units\":\"screen\"},\"id\":\"1741\",\"type\":\"BoxAnnotation\"},{\"attributes\":{},\"id\":\"1719\",\"type\":\"Selection\"},{\"attributes\":{\"axis\":{\"id\":\"1682\"},\"coordinates\":null,\"grid_line_alpha\":0.15,\"grid_line_color\":\"#E0E0E0\",\"group\":null,\"ticker\":null},\"id\":\"1685\",\"type\":\"Grid\"},{\"attributes\":{\"children\":[{\"id\":\"1730\"},{\"id\":\"1671\"},{\"id\":\"1753\"}],\"margin\":[0,0,0,0],\"name\":\"Row00127\"},\"id\":\"1729\",\"type\":\"Row\"},{\"attributes\":{\"margin\":[5,5,5,5],\"name\":\"HSpacer00124\",\"sizing_mode\":\"stretch_width\"},\"id\":\"1753\",\"type\":\"Spacer\"},{\"attributes\":{\"axis_label\":\"x\",\"axis_label_standoff\":10,\"axis_label_text_color\":\"#FFFFFF\",\"axis_label_text_font\":\"Josefin Sans\",\"axis_label_text_font_size\":\"1.9em\",\"axis_label_text_font_style\":\"bold\",\"axis_line_alpha\":0.4,\"axis_line_color\":\"#E0E0E0\",\"coordinates\":null,\"formatter\":{\"id\":\"1716\"},\"group\":null,\"major_label_policy\":{\"id\":\"1717\"},\"major_label_text_color\":\"#E0E0E0\",\"major_label_text_font\":\"Josefin Sans\",\"major_label_text_font_size\":\"1.15em\",\"major_tick_line_alpha\":0.4,\"major_tick_line_color\":\"#E0E0E0\",\"minor_tick_line_alpha\":0.4,\"minor_tick_line_color\":\"#E0E0E0\",\"ticker\":{\"id\":\"1683\"}},\"id\":\"1682\",\"type\":\"LinearAxis\"},{\"attributes\":{},\"id\":\"1713\",\"type\":\"BasicTickFormatter\"},{\"attributes\":{\"fill_alpha\":{\"value\":0.25},\"fill_color\":{\"value\":\"midnightblue\"},\"hatch_alpha\":{\"value\":0.25},\"line_alpha\":{\"value\":0.25},\"line_color\":{\"value\":\"white\"},\"size\":{\"value\":10},\"x\":{\"field\":\"x\"},\"y\":{\"field\":\"y\"}},\"id\":\"1705\",\"type\":\"Circle\"},{\"attributes\":{\"background_fill_alpha\":0.9,\"background_fill_color\":\"#0f0f0f\",\"below\":[{\"id\":\"1682\"}],\"border_fill_alpha\":0.8,\"border_fill_color\":\"#111111\",\"center\":[{\"id\":\"1685\"},{\"id\":\"1689\"},{\"id\":\"1721\"}],\"height\":450,\"left\":[{\"id\":\"1686\"}],\"outline_line_alpha\":0.25,\"outline_line_color\":\"#E0E0E0\",\"outline_line_width\":3,\"renderers\":[{\"id\":\"1709\"}],\"title\":{\"id\":\"1672\"},\"toolbar\":{\"id\":\"1697\"},\"toolbar_location\":null,\"x_range\":{\"id\":\"1674\"},\"x_scale\":{\"id\":\"1678\"},\"y_range\":{\"id\":\"1676\"},\"y_scale\":{\"id\":\"1680\"}},\"id\":\"1671\",\"subtype\":\"Figure\",\"type\":\"Plot\"},{\"attributes\":{\"coordinates\":null,\"group\":null,\"text\":\"Polynomial phenomenon\",\"text_color\":\"#E0E0E0\",\"text_font\":\"Josefin Sans\",\"text_font_size\":\"2.1em\"},\"id\":\"1672\",\"type\":\"Title\"},{\"attributes\":{\"source\":{\"id\":\"1704\"}},\"id\":\"1710\",\"type\":\"CDSView\"},{\"attributes\":{\"coordinates\":null,\"data_source\":{\"id\":\"1704\"},\"glyph\":{\"id\":\"1705\"},\"group\":null,\"hover_glyph\":{\"id\":\"1707\"},\"muted_glyph\":{\"id\":\"1708\"},\"nonselection_glyph\":{\"id\":\"1726\"},\"selection_glyph\":{\"id\":\"1725\"},\"view\":{\"id\":\"1710\"}},\"id\":\"1709\",\"type\":\"GlyphRenderer\"},{\"attributes\":{},\"id\":\"1716\",\"type\":\"BasicTickFormatter\"},{\"attributes\":{},\"id\":\"1680\",\"type\":\"LinearScale\"},{\"attributes\":{\"fill_alpha\":{\"value\":0.2},\"fill_color\":{\"value\":\"midnightblue\"},\"hatch_alpha\":{\"value\":0.2},\"line_alpha\":{\"value\":0.2},\"line_color\":{\"value\":\"white\"},\"size\":{\"value\":10},\"x\":{\"field\":\"x\"},\"y\":{\"field\":\"y\"}},\"id\":\"1708\",\"type\":\"Circle\"},{\"attributes\":{\"background_fill_alpha\":0.25,\"background_fill_color\":\"#505050\",\"border_line_alpha\":0.25,\"coordinates\":null,\"group\":null,\"items\":[{\"id\":\"1722\"}],\"label_standoff\":8,\"label_text_color\":\"#E0E0E0\",\"label_text_font\":\"Josefin Sans\",\"label_text_font_size\":\"1.15em\",\"spacing\":8},\"id\":\"1721\",\"type\":\"Legend\"},{\"attributes\":{},\"id\":\"1674\",\"type\":\"DataRange1d\"},{\"attributes\":{},\"id\":\"1714\",\"type\":\"AllLabels\"},{\"attributes\":{\"data\":{\"x\":{\"__ndarray__\":\"wO/b7B8ipD9gXH/6uYm8P+iO047iXcQ/wGbWY6/KxD8Me79GwzvSP8yo7jv/8dQ/WKvOaWOv1z9IT/n4JMDZP4wiUgPftt8/mPAICy7P3z9GKeEIwKjgPzpy25B1feY/zCm053Et6T+CgOjyUKnpP2aTXafaTOo/ErBatWXM7D9gi6WW9eHsP+QCioZCJO8/EABsYbye7z/lZaYiZy/zP7vEBTnQ7fM/DWobxEDG9T+pkRhTbBH3P47CQe3LIvc/IPIAD0ja+z+LfWQoGy78P5zthGcKgf4/zhx7VNiC/j/7yeLsf+H+P8FK20Madv8/\",\"dtype\":\"float64\",\"order\":\"little\",\"shape\":[30]},\"y\":{\"__ndarray__\":\"bE+b8Gy6+r9tmUCGJqD5v3cmYWApHQDAgBJssPMa/7/iqEyeMBQEwEfmJLJBSQLAVkh12JmMAcCbHMSBd6oDwPea6vL0UgTAjm2rYz/+A8Byn9iR3rr9v7AMF5SVP/i/jz8BIwRT8b/vwaL4UXjlv/MLzsMmieq/1YO8z7Pnt7+qTBKPH4/Lv5EWJQJ02Og/jgmSKHbd6z/8ct7/OqQOQC5ig6A62xBAz9DmVmoVGEDI24C2h4MdQO6QmRYmJh9AjEc8WhrXK0DDtPwhvB4tQBQUwhoXOzJAZdAOwEatMkDlOvn78MsyQNQBS43zszNA\",\"dtype\":\"float64\",\"order\":\"little\",\"shape\":[30]}},\"selected\":{\"id\":\"1719\"},\"selection_policy\":{\"id\":\"1718\"}},\"id\":\"1704\",\"type\":\"ColumnDataSource\"},{\"attributes\":{},\"id\":\"1676\",\"type\":\"DataRange1d\"},{\"attributes\":{\"margin\":[5,5,5,5],\"name\":\"HSpacer00123\",\"sizing_mode\":\"stretch_width\"},\"id\":\"1730\",\"type\":\"Spacer\"},{\"attributes\":{},\"id\":\"1678\",\"type\":\"LinearScale\"},{\"attributes\":{\"callback\":null,\"mode\":\"vline\",\"renderers\":[{\"id\":\"1709\"}],\"tooltips\":null},\"id\":\"1723\",\"type\":\"HoverTool\"},{\"attributes\":{},\"id\":\"1717\",\"type\":\"AllLabels\"},{\"attributes\":{\"fill_alpha\":{\"value\":0.5},\"fill_color\":{\"value\":\"red\"},\"hatch_alpha\":{\"value\":0.5},\"line_alpha\":{\"value\":0.5},\"line_color\":{\"value\":\"white\"},\"size\":{\"value\":10},\"x\":{\"field\":\"x\"},\"y\":{\"field\":\"y\"}},\"id\":\"1707\",\"type\":\"Circle\"},{\"attributes\":{\"client_comm_id\":\"ca78b50b2e3a4547b96141edef607656\",\"comm_id\":\"b8b3f40ab5bc4967993c5b518b21975e\",\"plot_id\":\"1729\"},\"id\":\"1787\",\"type\":\"panel.models.comm_manager.CommManager\"},{\"attributes\":{\"fill_alpha\":{\"value\":0.5},\"fill_color\":{\"value\":\"midnightblue\"},\"line_color\":{\"value\":\"white\"}},\"id\":\"1726\",\"type\":\"Circle\"}],\"root_ids\":[\"1729\",\"1787\"]},\"title\":\"Bokeh Application\",\"version\":\"2.4.3\"}};\n",
       "    var render_items = [{\"docid\":\"3b1221a7-aed0-42a0-824a-3bd067ba7f8e\",\"root_ids\":[\"1729\"],\"roots\":{\"1729\":\"7126c334-c688-48df-87fa-ae4df13446a7\"}}];\n",
       "    root.Bokeh.embed.embed_items_notebook(docs_json, render_items);\n",
       "    for (const render_item of render_items) {\n",
       "      for (const root_id of render_item.root_ids) {\n",
       "\tconst id_el = document.getElementById(root_id)\n",
       "\tif (id_el.children.length && (id_el.children[0].className === 'bk-root')) {\n",
       "\t  const root_el = id_el.children[0]\n",
       "\t  root_el.id = root_el.id + '-rendered'\n",
       "\t}\n",
       "      }\n",
       "    }\n",
       "  }\n",
       "  if (root.Bokeh !== undefined && root.Bokeh.Panel !== undefined) {\n",
       "    embed_document(root);\n",
       "  } else {\n",
       "    var attempts = 0;\n",
       "    var timer = setInterval(function(root) {\n",
       "      if (root.Bokeh !== undefined && root.Bokeh.Panel !== undefined) {\n",
       "        clearInterval(timer);\n",
       "        embed_document(root);\n",
       "      } else if (document.readyState == \"complete\") {\n",
       "        attempts++;\n",
       "        if (attempts > 200) {\n",
       "          clearInterval(timer);\n",
       "          console.log(\"Bokeh: ERROR: Unable to run BokehJS code because BokehJS library is missing\");\n",
       "        }\n",
       "      }\n",
       "    }, 25, root)\n",
       "  }\n",
       "})(window);</script>"
      ],
      "text/plain": [
       "Row\n",
       "    [0] HSpacer()\n",
       "    [1] Bokeh(Figure)\n",
       "    [2] HSpacer()"
      ]
     },
     "execution_count": 12,
     "metadata": {
      "application/vnd.holoviews_exec.v0+json": {
       "id": "1729"
      }
     },
     "output_type": "execute_result"
    }
   ],
   "source": [
    "# Create a synthetic dataset\\n\",\n",
    "import numpy as np\n",
    "from cml.plot import center_plot, scatter\n",
    "\n",
    "np.random.seed(33)\n",
    "degree = 2\n",
    "true_w = np.array([-1,-7,9])    # most significant parameter on the right\n",
    "\n",
    "assert true_w.size == degree+1, \"The number of parameters does not correspond to the degree of the model. Expected {} but got {}\".format(degree+1, true_w.size)\n",
    "\n",
    "n = 30\n",
    "x = np.random.rand(n) * 2\n",
    "x.sort()\n",
    "noise = 0.2*np.random.randn(n)\n",
    "ground_truth = np.polyval(np.flip(true_w), x)\n",
    "y =  ground_truth + noise\n",
    "p = scatter(x, y, title=\"Polynomial phenomenon\")\n",
    "plot = (center_plot(p))\n",
    "plot"
   ]
  },
  {
   "cell_type": "markdown",
   "metadata": {},
   "source": [
    "<div class=\"alert alert-success\" markdown=\"1\" style=\"color:white; background-color: #013220; border-color: #03C03C\">\n",
    "\n",
    "> ### Question 2.1 - Implement polynomial regression using NumPy with gradient descent.\n",
    "\n",
    "</div>"
   ]
  },
  {
   "cell_type": "code",
   "execution_count": 16,
   "metadata": {
    "tags": []
   },
   "outputs": [],
   "source": [
    "def l1_regularization(l, w):\n",
    "    return l*np.sum(np.absolute(w))    \n",
    "\n",
    "def mse_loss_with_regularization(y, w, l):\n",
    "    global y_ \n",
    "    y_ = np.dot(x_high_feat, w)\n",
    "    return np.sum((y - y_) ** 2) + l1_regularization(l, w)\n",
    "\n",
    "def part_diff(x_poly, w, y, y_):\n",
    "    ret = np.empty(model_degree+1)\n",
    "    for k in range(0,model_degree+1):\n",
    "        ret[k] = -2*np.sum(x_poly[:,k]*(y - y_))\n",
    "    \n",
    "    return ret\n",
    "\n",
    "\n",
    "\n",
    "\n",
    "def gradient_descent_numpy(model_degree):\n",
    "    \n",
    "    # Initialize our \"hyperparameters\" \n",
    "    epochs = 1000\n",
    "    lr = 0.001\n",
    "    l1_lambda = 1\n",
    "    w = np.random.rand(model_degree+1)\n",
    "    \n",
    "    # Actual algorithm\n",
    "    \n",
    "    for _ in range(0, epochs):\n",
    "        loss = mse_loss_with_regularization(y, w, l1_lambda)          # compute loss (distance of model from reality)\n",
    "        gradient = part_diff(x_high_feat, w, y, y_) # compute ∇𝓛(θ)\n",
    "        w -= lr*gradient                            # update parameters\n",
    "    \n",
    "    return w"
   ]
  },
  {
   "cell_type": "markdown",
   "metadata": {},
   "source": [
    "<div class=\"alert alert-success\" markdown=\"1\" style=\"color:white; background-color: #013220; border-color: #03C03C\">\n",
    "\n",
    "> ### Question 2.2. Implement polynomial regression using JAX with gradient descent.\n",
    "\n",
    "</div>"
   ]
  },
  {
   "cell_type": "code",
   "execution_count": 17,
   "metadata": {
    "tags": []
   },
   "outputs": [],
   "source": [
    "import jax.numpy as jnp\n",
    "from jax import grad, jit, random\n",
    "\n",
    "def mse_loss_with_regularization_for_jax(y, w, l):\n",
    "    \n",
    "    y_ = jnp.dot(x_high_feat, w)\n",
    "    return jnp.sum((y - y_) ** 2) + l*jnp.sum(jnp.absolute(w))\n",
    "\n",
    "\n",
    "def gradient_descent_jax(model_degree):\n",
    "    \n",
    "    \n",
    "    epochs = 1000\n",
    "    lr = 0.001\n",
    "    l1_lambda = 1\n",
    "    w = random.uniform(random.PRNGKey(42),(model_degree+1,))\n",
    "    \n",
    "    grad_funct = jit(grad(mse_loss_with_regularization_for_jax, argnums=1))\n",
    "    \n",
    "    for _ in range(epochs):\n",
    "        loss = mse_loss_with_regularization_for_jax(y, w, l1_lambda)\n",
    "        gradient = grad_funct(y, w, l1_lambda)\n",
    "        w -= lr*gradient\n",
    "    \n",
    "    return w"
   ]
  },
  {
   "cell_type": "markdown",
   "metadata": {},
   "source": [
    "<div class=\"alert alert-success\" markdown=\"1\" style=\"color:white; background-color: #013220; border-color: #03C03C\">\n",
    "\n",
    "> ### Question 2.3 - Compare the results of both implementations and the speed of the optimization algorithm.\n",
    "\n",
    "</div>"
   ]
  },
  {
   "cell_type": "code",
   "execution_count": 28,
   "metadata": {
    "tags": []
   },
   "outputs": [],
   "source": [
    "from time import perf_counter as timer\n",
    "\n",
    "model_degree = 2\n",
    "\n",
    "x_high_feat = np.ones((n, model_degree+1))\n",
    "for i in range(0,model_degree+1):\n",
    "    x_high_feat[:,i] = x**i\n",
    "\n",
    "start = timer()\n",
    "w_numpy = gradient_descent_numpy(model_degree)\n",
    "end = timer()\n",
    "time_numpy = end - start\n",
    "\n",
    "start = timer()\n",
    "w_jax = gradient_descent_jax(model_degree)\n",
    "end = timer()\n",
    "time_jax = end - start"
   ]
  },
  {
   "cell_type": "code",
   "execution_count": 29,
   "metadata": {
    "tags": []
   },
   "outputs": [
    {
     "name": "stdout",
     "output_type": "stream",
     "text": [
      "Execution time of numpy model: 0.0577\n",
      "Execution time of  JAX  model: 0.297\n"
     ]
    },
    {
     "data": {},
     "metadata": {},
     "output_type": "display_data"
    },
    {
     "data": {
      "application/vnd.holoviews_exec.v0+json": "",
      "text/html": [
       "<div id='3711'>\n",
       "  <div class=\"bk-root\" id=\"df6cb631-0a79-46b5-9acf-799266b0c432\" data-root-id=\"3711\"></div>\n",
       "</div>\n",
       "<script type=\"application/javascript\">(function(root) {\n",
       "  function embed_document(root) {\n",
       "    var docs_json = {\"938d7faf-1eeb-455f-b182-56eabce67ec7\":{\"defs\":[{\"extends\":null,\"module\":null,\"name\":\"ReactiveHTML1\",\"overrides\":[],\"properties\":[]},{\"extends\":null,\"module\":null,\"name\":\"FlexBox1\",\"overrides\":[],\"properties\":[{\"default\":\"flex-start\",\"kind\":null,\"name\":\"align_content\"},{\"default\":\"flex-start\",\"kind\":null,\"name\":\"align_items\"},{\"default\":\"row\",\"kind\":null,\"name\":\"flex_direction\"},{\"default\":\"wrap\",\"kind\":null,\"name\":\"flex_wrap\"},{\"default\":\"flex-start\",\"kind\":null,\"name\":\"justify_content\"}]},{\"extends\":null,\"module\":null,\"name\":\"GridStack1\",\"overrides\":[],\"properties\":[{\"default\":\"warn\",\"kind\":null,\"name\":\"mode\"},{\"default\":null,\"kind\":null,\"name\":\"ncols\"},{\"default\":null,\"kind\":null,\"name\":\"nrows\"},{\"default\":true,\"kind\":null,\"name\":\"allow_resize\"},{\"default\":true,\"kind\":null,\"name\":\"allow_drag\"},{\"default\":[],\"kind\":null,\"name\":\"state\"}]},{\"extends\":null,\"module\":null,\"name\":\"click1\",\"overrides\":[],\"properties\":[{\"default\":\"\",\"kind\":null,\"name\":\"terminal_output\"},{\"default\":\"\",\"kind\":null,\"name\":\"debug_name\"},{\"default\":0,\"kind\":null,\"name\":\"clears\"}]},{\"extends\":null,\"module\":null,\"name\":\"NotificationAreaBase1\",\"overrides\":[],\"properties\":[{\"default\":\"bottom-right\",\"kind\":null,\"name\":\"position\"},{\"default\":0,\"kind\":null,\"name\":\"_clear\"}]},{\"extends\":null,\"module\":null,\"name\":\"NotificationArea1\",\"overrides\":[],\"properties\":[{\"default\":[],\"kind\":null,\"name\":\"notifications\"},{\"default\":\"bottom-right\",\"kind\":null,\"name\":\"position\"},{\"default\":0,\"kind\":null,\"name\":\"_clear\"},{\"default\":[{\"background\":\"#ffc107\",\"icon\":{\"className\":\"fas fa-exclamation-triangle\",\"color\":\"white\",\"tagName\":\"i\"},\"type\":\"warning\"},{\"background\":\"#007bff\",\"icon\":{\"className\":\"fas fa-info-circle\",\"color\":\"white\",\"tagName\":\"i\"},\"type\":\"info\"}],\"kind\":null,\"name\":\"types\"}]},{\"extends\":null,\"module\":null,\"name\":\"Notification\",\"overrides\":[],\"properties\":[{\"default\":null,\"kind\":null,\"name\":\"background\"},{\"default\":3000,\"kind\":null,\"name\":\"duration\"},{\"default\":null,\"kind\":null,\"name\":\"icon\"},{\"default\":\"\",\"kind\":null,\"name\":\"message\"},{\"default\":null,\"kind\":null,\"name\":\"notification_type\"},{\"default\":false,\"kind\":null,\"name\":\"_destroyed\"}]},{\"extends\":null,\"module\":null,\"name\":\"TemplateActions1\",\"overrides\":[],\"properties\":[{\"default\":0,\"kind\":null,\"name\":\"open_modal\"},{\"default\":0,\"kind\":null,\"name\":\"close_modal\"}]},{\"extends\":null,\"module\":null,\"name\":\"MaterialTemplateActions1\",\"overrides\":[],\"properties\":[{\"default\":0,\"kind\":null,\"name\":\"open_modal\"},{\"default\":0,\"kind\":null,\"name\":\"close_modal\"}]}],\"roots\":{\"references\":[{\"attributes\":{},\"id\":\"3660\",\"type\":\"UnionRenderers\"},{\"attributes\":{\"children\":[{\"id\":\"3712\"},{\"id\":\"3587\"},{\"id\":\"3747\"}],\"margin\":[0,0,0,0],\"name\":\"Row00176\"},\"id\":\"3711\",\"type\":\"Row\"},{\"attributes\":{\"axis\":{\"id\":\"3598\"},\"coordinates\":null,\"grid_line_alpha\":0.15,\"grid_line_color\":\"#E0E0E0\",\"group\":null,\"ticker\":null},\"id\":\"3601\",\"type\":\"Grid\"},{\"attributes\":{\"margin\":[5,5,5,5],\"name\":\"HSpacer00173\",\"sizing_mode\":\"stretch_width\"},\"id\":\"3747\",\"type\":\"Spacer\"},{\"attributes\":{\"margin\":[5,5,5,5],\"name\":\"HSpacer00172\",\"sizing_mode\":\"stretch_width\"},\"id\":\"3712\",\"type\":\"Spacer\"},{\"attributes\":{\"axis_label\":\"y\",\"axis_label_standoff\":10,\"axis_label_text_color\":\"#FFFFFF\",\"axis_label_text_font\":\"Josefin Sans\",\"axis_label_text_font_size\":\"1.9em\",\"axis_label_text_font_style\":\"bold\",\"axis_line_alpha\":0.4,\"axis_line_color\":\"#E0E0E0\",\"coordinates\":null,\"formatter\":{\"id\":\"3629\"},\"group\":null,\"major_label_policy\":{\"id\":\"3630\"},\"major_label_text_color\":\"#E0E0E0\",\"major_label_text_font\":\"Josefin Sans\",\"major_label_text_font_size\":\"1.15em\",\"major_tick_line_alpha\":0.4,\"major_tick_line_color\":\"#E0E0E0\",\"minor_tick_line_alpha\":0.4,\"minor_tick_line_color\":\"#E0E0E0\",\"ticker\":{\"id\":\"3603\"}},\"id\":\"3602\",\"type\":\"LinearAxis\"},{\"attributes\":{\"coordinates\":null,\"data_source\":{\"id\":\"3645\"},\"glyph\":{\"id\":\"3646\"},\"group\":null,\"hover_glyph\":null,\"muted_glyph\":{\"id\":\"3648\"},\"nonselection_glyph\":{\"id\":\"3647\"},\"view\":{\"id\":\"3650\"}},\"id\":\"3649\",\"type\":\"GlyphRenderer\"},{\"attributes\":{\"fill_alpha\":{\"value\":0.8},\"fill_color\":{\"value\":\"red\"},\"line_color\":{\"value\":\"white\"}},\"id\":\"3641\",\"type\":\"Circle\"},{\"attributes\":{\"line_alpha\":0.1,\"line_color\":\"green\",\"line_width\":5,\"x\":{\"field\":\"x\"},\"y\":{\"field\":\"y\"}},\"id\":\"3647\",\"type\":\"Line\"},{\"attributes\":{\"label\":{\"value\":\"Ground truth\"},\"renderers\":[{\"id\":\"3649\"}]},\"id\":\"3664\",\"type\":\"LegendItem\"},{\"attributes\":{},\"id\":\"3603\",\"type\":\"BasicTicker\"},{\"attributes\":{\"axis_label\":\"x\",\"axis_label_standoff\":10,\"axis_label_text_color\":\"#FFFFFF\",\"axis_label_text_font\":\"Josefin Sans\",\"axis_label_text_font_size\":\"1.9em\",\"axis_label_text_font_style\":\"bold\",\"axis_line_alpha\":0.4,\"axis_line_color\":\"#E0E0E0\",\"coordinates\":null,\"formatter\":{\"id\":\"3632\"},\"group\":null,\"major_label_policy\":{\"id\":\"3633\"},\"major_label_text_color\":\"#E0E0E0\",\"major_label_text_font\":\"Josefin Sans\",\"major_label_text_font_size\":\"1.15em\",\"major_tick_line_alpha\":0.4,\"major_tick_line_color\":\"#E0E0E0\",\"minor_tick_line_alpha\":0.4,\"minor_tick_line_color\":\"#E0E0E0\",\"ticker\":{\"id\":\"3599\"}},\"id\":\"3598\",\"type\":\"LinearAxis\"},{\"attributes\":{\"coordinates\":null,\"data_source\":{\"id\":\"3687\"},\"glyph\":{\"id\":\"3688\"},\"group\":null,\"hover_glyph\":null,\"muted_glyph\":{\"id\":\"3690\"},\"nonselection_glyph\":{\"id\":\"3689\"},\"view\":{\"id\":\"3692\"}},\"id\":\"3691\",\"type\":\"GlyphRenderer\"},{\"attributes\":{},\"id\":\"3629\",\"type\":\"BasicTickFormatter\"},{\"attributes\":{\"bottom_units\":\"screen\",\"coordinates\":null,\"fill_alpha\":0.5,\"fill_color\":\"lightgrey\",\"group\":null,\"left_units\":\"screen\",\"level\":\"overlay\",\"line_alpha\":1.0,\"line_color\":\"black\",\"line_dash\":[4,4],\"line_width\":2,\"right_units\":\"screen\",\"syncable\":false,\"top_units\":\"screen\"},\"id\":\"3663\",\"type\":\"BoxAnnotation\"},{\"attributes\":{},\"id\":\"3610\",\"type\":\"ResetTool\"},{\"attributes\":{\"fill_alpha\":{\"value\":0.2},\"fill_color\":{\"value\":\"midnightblue\"},\"hatch_alpha\":{\"value\":0.2},\"line_alpha\":{\"value\":0.2},\"line_color\":{\"value\":\"white\"},\"size\":{\"value\":10},\"x\":{\"field\":\"x\"},\"y\":{\"field\":\"y\"}},\"id\":\"3624\",\"type\":\"Circle\"},{\"attributes\":{},\"id\":\"3599\",\"type\":\"BasicTicker\"},{\"attributes\":{},\"id\":\"3594\",\"type\":\"LinearScale\"},{\"attributes\":{\"line_alpha\":0.2,\"line_color\":\"yellow\",\"line_width\":5,\"x\":{\"field\":\"x\"},\"y\":{\"field\":\"y\"}},\"id\":\"3690\",\"type\":\"Line\"},{\"attributes\":{\"line_alpha\":0.6,\"line_color\":\"green\",\"line_width\":5,\"x\":{\"field\":\"x\"},\"y\":{\"field\":\"y\"}},\"id\":\"3646\",\"type\":\"Line\"},{\"attributes\":{\"label\":{\"value\":\"JAX model\"},\"renderers\":[{\"id\":\"3691\"}]},\"id\":\"3710\",\"type\":\"LegendItem\"},{\"attributes\":{\"line_alpha\":0.1,\"line_color\":\"red\",\"line_width\":5,\"x\":{\"field\":\"x\"},\"y\":{\"field\":\"y\"}},\"id\":\"3667\",\"type\":\"Line\"},{\"attributes\":{},\"id\":\"3592\",\"type\":\"DataRange1d\"},{\"attributes\":{},\"id\":\"3609\",\"type\":\"SaveTool\"},{\"attributes\":{\"line_alpha\":0.6,\"line_color\":\"yellow\",\"line_width\":5,\"x\":{\"field\":\"x\"},\"y\":{\"field\":\"y\"}},\"id\":\"3688\",\"type\":\"Line\"},{\"attributes\":{},\"id\":\"3661\",\"type\":\"Selection\"},{\"attributes\":{},\"id\":\"3683\",\"type\":\"Selection\"},{\"attributes\":{\"data\":{\"x\":{\"__ndarray__\":\"wO/b7B8ipD9gXH/6uYm8P+iO047iXcQ/wGbWY6/KxD8Me79GwzvSP8yo7jv/8dQ/WKvOaWOv1z9IT/n4JMDZP4wiUgPftt8/mPAICy7P3z9GKeEIwKjgPzpy25B1feY/zCm053Et6T+CgOjyUKnpP2aTXafaTOo/ErBatWXM7D9gi6WW9eHsP+QCioZCJO8/EABsYbye7z/lZaYiZy/zP7vEBTnQ7fM/DWobxEDG9T+pkRhTbBH3P47CQe3LIvc/IPIAD0ja+z+LfWQoGy78P5zthGcKgf4/zhx7VNiC/j/7yeLsf+H+P8FK20Madv8/\",\"dtype\":\"float64\",\"order\":\"little\",\"shape\":[30]},\"y\":{\"__ndarray__\":\"Au95ZHYu9L/eHHFNJbL6v9oeYR7XLP6/yFtuva5k/r/GUviCOhwCwOcd0XKSnQLAWgk54QjdAsB8bF7hNuACwILc7z3qEQLAZoLplwoMAsAptJy4zaMBwOHr7Zkulve/w40dssb07b+Cig9utWzqv74x3Yt/j+W/gGmqr/pnhb8AS32tNk+MP4ifQSTow+Y/9mcm5nzc6z9grF9DLV8MQButFmC1+RBAdoYIWJSRGECiXHvYYXYeQLIfc4zcyB5AbtBPtuAsLEBV5pSjyC0tQDf/dMwGXjJAhU0PkRthMkCVGRyT/QMzQFxMOyCsCDRA\",\"dtype\":\"float64\",\"order\":\"little\",\"shape\":[30]}},\"selected\":{\"id\":\"3661\"},\"selection_policy\":{\"id\":\"3660\"}},\"id\":\"3645\",\"type\":\"ColumnDataSource\"},{\"attributes\":{},\"id\":\"3707\",\"type\":\"Selection\"},{\"attributes\":{\"overlay\":{\"id\":\"3612\"}},\"id\":\"3608\",\"type\":\"BoxZoomTool\"},{\"attributes\":{},\"id\":\"3706\",\"type\":\"UnionRenderers\"},{\"attributes\":{},\"id\":\"3590\",\"type\":\"DataRange1d\"},{\"attributes\":{},\"id\":\"3606\",\"type\":\"PanTool\"},{\"attributes\":{\"background_fill_alpha\":0.25,\"background_fill_color\":\"#505050\",\"border_line_alpha\":0.25,\"coordinates\":null,\"group\":null,\"items\":[{\"id\":\"3638\"},{\"id\":\"3664\"},{\"id\":\"3686\"},{\"id\":\"3710\"}],\"label_standoff\":8,\"label_text_color\":\"#E0E0E0\",\"label_text_font\":\"Josefin Sans\",\"label_text_font_size\":\"1.15em\",\"spacing\":8},\"id\":\"3637\",\"type\":\"Legend\"},{\"attributes\":{\"label\":{\"value\":\"numpy model\"},\"renderers\":[{\"id\":\"3669\"}]},\"id\":\"3686\",\"type\":\"LegendItem\"},{\"attributes\":{\"tools\":[{\"id\":\"3606\"},{\"id\":\"3607\"},{\"id\":\"3608\"},{\"id\":\"3609\"},{\"id\":\"3610\"},{\"id\":\"3611\"},{\"id\":\"3639\"},{\"id\":\"3643\"}]},\"id\":\"3613\",\"type\":\"Toolbar\"},{\"attributes\":{\"line_alpha\":0.1,\"line_color\":\"yellow\",\"line_width\":5,\"x\":{\"field\":\"x\"},\"y\":{\"field\":\"y\"}},\"id\":\"3689\",\"type\":\"Line\"},{\"attributes\":{\"label\":{\"value\":\"Observations\"},\"renderers\":[{\"id\":\"3625\"}]},\"id\":\"3638\",\"type\":\"LegendItem\"},{\"attributes\":{\"data\":{\"x\":{\"__ndarray__\":\"wO/b7B8ipD9gXH/6uYm8P+iO047iXcQ/wGbWY6/KxD8Me79GwzvSP8yo7jv/8dQ/WKvOaWOv1z9IT/n4JMDZP4wiUgPftt8/mPAICy7P3z9GKeEIwKjgPzpy25B1feY/zCm053Et6T+CgOjyUKnpP2aTXafaTOo/ErBatWXM7D9gi6WW9eHsP+QCioZCJO8/EABsYbye7z/lZaYiZy/zP7vEBTnQ7fM/DWobxEDG9T+pkRhTbBH3P47CQe3LIvc/IPIAD0ja+z+LfWQoGy78P5zthGcKgf4/zhx7VNiC/j/7yeLsf+H+P8FK20Madv8/\",\"dtype\":\"float64\",\"order\":\"little\",\"shape\":[30]},\"y\":{\"__ndarray__\":\"bE+b8Gy6+r9tmUCGJqD5v3cmYWApHQDAgBJssPMa/7/iqEyeMBQEwEfmJLJBSQLAVkh12JmMAcCbHMSBd6oDwPea6vL0UgTAjm2rYz/+A8Byn9iR3rr9v7AMF5SVP/i/jz8BIwRT8b/vwaL4UXjlv/MLzsMmieq/1YO8z7Pnt7+qTBKPH4/Lv5EWJQJ02Og/jgmSKHbd6z/8ct7/OqQOQC5ig6A62xBAz9DmVmoVGEDI24C2h4MdQO6QmRYmJh9AjEc8WhrXK0DDtPwhvB4tQBQUwhoXOzJAZdAOwEatMkDlOvn78MsyQNQBS43zszNA\",\"dtype\":\"float64\",\"order\":\"little\",\"shape\":[30]}},\"selected\":{\"id\":\"3635\"},\"selection_policy\":{\"id\":\"3634\"}},\"id\":\"3620\",\"type\":\"ColumnDataSource\"},{\"attributes\":{\"data\":{\"x\":{\"__ndarray__\":\"wO/b7B8ipD9gXH/6uYm8P+iO047iXcQ/wGbWY6/KxD8Me79GwzvSP8yo7jv/8dQ/WKvOaWOv1z9IT/n4JMDZP4wiUgPftt8/mPAICy7P3z9GKeEIwKjgPzpy25B1feY/zCm053Et6T+CgOjyUKnpP2aTXafaTOo/ErBatWXM7D9gi6WW9eHsP+QCioZCJO8/EABsYbye7z/lZaYiZy/zP7vEBTnQ7fM/DWobxEDG9T+pkRhTbBH3P47CQe3LIvc/IPIAD0ja+z+LfWQoGy78P5zthGcKgf4/zhx7VNiC/j/7yeLsf+H+P8FK20Madv8/\",\"dtype\":\"float64\",\"order\":\"little\",\"shape\":[30]},\"y\":{\"__ndarray__\":\"GgtyHpu6AsA64GiZylwEwBeC5o3bFwXABRP1hUEiBcA7UX32crEFwBc7KhEGdgXAKYzzfxcBBcAPQl+7IoMEwA+TlXEOYQLAQyRymCtWAsAX3R/w8Z8BwOUCH2tfrfO/ol+TPtCM478IUNtt6Tzfv7RZT7RBhNS/GXmn728k2T+TkyLgB8naP52H6murV/I/7GK/s//29D9VyJ48AeMPQMC67Z2gqhJAfcL25ur9GUDLrT8mM5wfQAOysQN46h9AhfOSJv/sK0B7iF/G2dosQLob2YJv6DFAQniAXEPrMUAhSxOkpoAyQNINq1BibzNA\",\"dtype\":\"float64\",\"order\":\"little\",\"shape\":[30]}},\"selected\":{\"id\":\"3683\"},\"selection_policy\":{\"id\":\"3682\"}},\"id\":\"3665\",\"type\":\"ColumnDataSource\"},{\"attributes\":{\"line_alpha\":0.6,\"line_color\":\"red\",\"line_width\":5,\"x\":{\"field\":\"x\"},\"y\":{\"field\":\"y\"}},\"id\":\"3666\",\"type\":\"Line\"},{\"attributes\":{\"callback\":null,\"mode\":\"vline\",\"renderers\":[{\"id\":\"3625\"}],\"tooltips\":null},\"id\":\"3639\",\"type\":\"HoverTool\"},{\"attributes\":{},\"id\":\"3630\",\"type\":\"AllLabels\"},{\"attributes\":{},\"id\":\"3611\",\"type\":\"HelpTool\"},{\"attributes\":{\"mode\":\"append\",\"overlay\":{\"id\":\"3663\"},\"renderers\":[{\"id\":\"3625\"}]},\"id\":\"3643\",\"type\":\"BoxSelectTool\"},{\"attributes\":{\"background_fill_alpha\":0.9,\"background_fill_color\":\"#0f0f0f\",\"below\":[{\"id\":\"3598\"}],\"border_fill_alpha\":0.8,\"border_fill_color\":\"#111111\",\"center\":[{\"id\":\"3601\"},{\"id\":\"3605\"},{\"id\":\"3637\"}],\"height\":450,\"left\":[{\"id\":\"3602\"}],\"outline_line_alpha\":0.25,\"outline_line_color\":\"#E0E0E0\",\"outline_line_width\":3,\"renderers\":[{\"id\":\"3625\"},{\"id\":\"3649\"},{\"id\":\"3669\"},{\"id\":\"3691\"}],\"title\":{\"id\":\"3588\"},\"toolbar\":{\"id\":\"3613\"},\"toolbar_location\":null,\"x_range\":{\"id\":\"3590\"},\"x_scale\":{\"id\":\"3594\"},\"y_range\":{\"id\":\"3592\"},\"y_scale\":{\"id\":\"3596\"}},\"id\":\"3587\",\"subtype\":\"Figure\",\"type\":\"Plot\"},{\"attributes\":{},\"id\":\"3682\",\"type\":\"UnionRenderers\"},{\"attributes\":{\"line_alpha\":0.2,\"line_color\":\"green\",\"line_width\":5,\"x\":{\"field\":\"x\"},\"y\":{\"field\":\"y\"}},\"id\":\"3648\",\"type\":\"Line\"},{\"attributes\":{\"source\":{\"id\":\"3687\"}},\"id\":\"3692\",\"type\":\"CDSView\"},{\"attributes\":{\"coordinates\":null,\"group\":null,\"text\":\"Model result\",\"text_color\":\"#E0E0E0\",\"text_font\":\"Josefin Sans\",\"text_font_size\":\"2.1em\"},\"id\":\"3588\",\"type\":\"Title\"},{\"attributes\":{\"fill_alpha\":{\"value\":0.5},\"fill_color\":{\"value\":\"midnightblue\"},\"line_color\":{\"value\":\"white\"}},\"id\":\"3642\",\"type\":\"Circle\"},{\"attributes\":{},\"id\":\"3635\",\"type\":\"Selection\"},{\"attributes\":{\"source\":{\"id\":\"3645\"}},\"id\":\"3650\",\"type\":\"CDSView\"},{\"attributes\":{\"fill_alpha\":{\"value\":0.25},\"fill_color\":{\"value\":\"midnightblue\"},\"hatch_alpha\":{\"value\":0.25},\"line_alpha\":{\"value\":0.25},\"line_color\":{\"value\":\"white\"},\"size\":{\"value\":10},\"x\":{\"field\":\"x\"},\"y\":{\"field\":\"y\"}},\"id\":\"3621\",\"type\":\"Circle\"},{\"attributes\":{\"line_alpha\":0.2,\"line_color\":\"red\",\"line_width\":5,\"x\":{\"field\":\"x\"},\"y\":{\"field\":\"y\"}},\"id\":\"3668\",\"type\":\"Line\"},{\"attributes\":{\"source\":{\"id\":\"3665\"}},\"id\":\"3670\",\"type\":\"CDSView\"},{\"attributes\":{\"axis\":{\"id\":\"3602\"},\"coordinates\":null,\"dimension\":1,\"grid_line_alpha\":0.15,\"grid_line_color\":\"#E0E0E0\",\"group\":null,\"ticker\":null},\"id\":\"3605\",\"type\":\"Grid\"},{\"attributes\":{},\"id\":\"3632\",\"type\":\"BasicTickFormatter\"},{\"attributes\":{\"bottom_units\":\"screen\",\"coordinates\":null,\"fill_alpha\":0.5,\"fill_color\":\"lightgrey\",\"group\":null,\"left_units\":\"screen\",\"level\":\"overlay\",\"line_alpha\":1.0,\"line_color\":\"black\",\"line_dash\":[4,4],\"line_width\":2,\"right_units\":\"screen\",\"syncable\":false,\"top_units\":\"screen\"},\"id\":\"3612\",\"type\":\"BoxAnnotation\"},{\"attributes\":{\"coordinates\":null,\"data_source\":{\"id\":\"3665\"},\"glyph\":{\"id\":\"3666\"},\"group\":null,\"hover_glyph\":null,\"muted_glyph\":{\"id\":\"3668\"},\"nonselection_glyph\":{\"id\":\"3667\"},\"view\":{\"id\":\"3670\"}},\"id\":\"3669\",\"type\":\"GlyphRenderer\"},{\"attributes\":{},\"id\":\"3607\",\"type\":\"WheelZoomTool\"},{\"attributes\":{\"data\":{\"x\":{\"__ndarray__\":\"wO/b7B8ipD9gXH/6uYm8P+iO047iXcQ/wGbWY6/KxD8Me79GwzvSP8yo7jv/8dQ/WKvOaWOv1z9IT/n4JMDZP4wiUgPftt8/mPAICy7P3z9GKeEIwKjgPzpy25B1feY/zCm053Et6T+CgOjyUKnpP2aTXafaTOo/ErBatWXM7D9gi6WW9eHsP+QCioZCJO8/EABsYbye7z/lZaYiZy/zP7vEBTnQ7fM/DWobxEDG9T+pkRhTbBH3P47CQe3LIvc/IPIAD0ja+z+LfWQoGy78P5zthGcKgf4/zhx7VNiC/j/7yeLsf+H+P8FK20Madv8/\",\"dtype\":\"float64\",\"order\":\"little\",\"shape\":[30]},\"y\":[-2.453446388244629,-2.625763416290283,-2.697432041168213,-2.701179027557373,-2.725733995437622,-2.68270206451416,-2.612323522567749,-2.541391134262085,-2.250333309173584,-2.2446625232696533,-2.150186061859131,-1.1434391736984253,-0.5144997239112854,-0.3902043104171753,-0.2209392637014389,0.49746376276016235,0.5232517719268799,1.2530262470245361,1.4170175790786743,4.082401275634766,4.75806999206543,6.572220802307129,7.960929870605469,8.036445617675781,13.935269355773926,14.39237117767334,17.814149856567383,17.825002670288086,18.39826202392578,19.314149856567383]},\"selected\":{\"id\":\"3707\"},\"selection_policy\":{\"id\":\"3706\"}},\"id\":\"3687\",\"type\":\"ColumnDataSource\"},{\"attributes\":{\"client_comm_id\":\"d693a6bc3cfd48828bda8ac7578d19c3\",\"comm_id\":\"0bc93082af9b4bcc86d7a625b37bf5a9\",\"plot_id\":\"3711\"},\"id\":\"3799\",\"type\":\"panel.models.comm_manager.CommManager\"},{\"attributes\":{},\"id\":\"3596\",\"type\":\"LinearScale\"},{\"attributes\":{},\"id\":\"3633\",\"type\":\"AllLabels\"},{\"attributes\":{},\"id\":\"3634\",\"type\":\"UnionRenderers\"},{\"attributes\":{\"coordinates\":null,\"data_source\":{\"id\":\"3620\"},\"glyph\":{\"id\":\"3621\"},\"group\":null,\"hover_glyph\":{\"id\":\"3623\"},\"muted_glyph\":{\"id\":\"3624\"},\"nonselection_glyph\":{\"id\":\"3642\"},\"selection_glyph\":{\"id\":\"3641\"},\"view\":{\"id\":\"3626\"}},\"id\":\"3625\",\"type\":\"GlyphRenderer\"},{\"attributes\":{\"fill_alpha\":{\"value\":0.5},\"fill_color\":{\"value\":\"red\"},\"hatch_alpha\":{\"value\":0.5},\"line_alpha\":{\"value\":0.5},\"line_color\":{\"value\":\"white\"},\"size\":{\"value\":10},\"x\":{\"field\":\"x\"},\"y\":{\"field\":\"y\"}},\"id\":\"3623\",\"type\":\"Circle\"},{\"attributes\":{\"source\":{\"id\":\"3620\"}},\"id\":\"3626\",\"type\":\"CDSView\"}],\"root_ids\":[\"3711\",\"3799\"]},\"title\":\"Bokeh Application\",\"version\":\"2.4.3\"}};\n",
       "    var render_items = [{\"docid\":\"938d7faf-1eeb-455f-b182-56eabce67ec7\",\"root_ids\":[\"3711\"],\"roots\":{\"3711\":\"df6cb631-0a79-46b5-9acf-799266b0c432\"}}];\n",
       "    root.Bokeh.embed.embed_items_notebook(docs_json, render_items);\n",
       "    for (const render_item of render_items) {\n",
       "      for (const root_id of render_item.root_ids) {\n",
       "\tconst id_el = document.getElementById(root_id)\n",
       "\tif (id_el.children.length && (id_el.children[0].className === 'bk-root')) {\n",
       "\t  const root_el = id_el.children[0]\n",
       "\t  root_el.id = root_el.id + '-rendered'\n",
       "\t}\n",
       "      }\n",
       "    }\n",
       "  }\n",
       "  if (root.Bokeh !== undefined && root.Bokeh.Panel !== undefined) {\n",
       "    embed_document(root);\n",
       "  } else {\n",
       "    var attempts = 0;\n",
       "    var timer = setInterval(function(root) {\n",
       "      if (root.Bokeh !== undefined && root.Bokeh.Panel !== undefined) {\n",
       "        clearInterval(timer);\n",
       "        embed_document(root);\n",
       "      } else if (document.readyState == \"complete\") {\n",
       "        attempts++;\n",
       "        if (attempts > 200) {\n",
       "          clearInterval(timer);\n",
       "          console.log(\"Bokeh: ERROR: Unable to run BokehJS code because BokehJS library is missing\");\n",
       "        }\n",
       "      }\n",
       "    }, 25, root)\n",
       "  }\n",
       "})(window);</script>"
      ],
      "text/plain": [
       "Row\n",
       "    [0] HSpacer()\n",
       "    [1] Bokeh(Figure)\n",
       "    [2] HSpacer()"
      ]
     },
     "execution_count": 29,
     "metadata": {
      "application/vnd.holoviews_exec.v0+json": {
       "id": "3711"
      }
     },
     "output_type": "execute_result"
    }
   ],
   "source": [
    "# visualization\n",
    "print(f\"Execution time of numpy model: {time_numpy:{5}.{3}}\")\n",
    "print(f\"Execution time of  JAX  model: {time_jax:{5}.{3}}\")\n",
    "\n",
    "p = scatter(x, y, title=\"Model result\")\n",
    "p.line(x, ground_truth, line_width=5, line_alpha=0.6, color=\"green\", legend_label=\"Ground truth\")\n",
    "p.line(x, np.dot(x_high_feat, w_numpy), line_width=5, line_alpha=0.6, color=\"red\", legend_label=r\"numpy model\")\n",
    "p.line(x, jnp.dot(x_high_feat, w_jax).tolist(), line_width=5, line_alpha=0.6, color=\"yellow\", legend_label=r\"JAX model\")\n",
    "plot = (center_plot(p))\n",
    "plot"
   ]
  },
  {
   "cell_type": "markdown",
   "metadata": {},
   "source": [
    "<a id=\"audio\"></a>\n",
    "# Audio applications\n",
    "\n",
    "In order to test our algorithms on audio and music data, we will work with several datasets. We will both be using well-known state-of-art datasets (through the TF dataset system). But first, we will rely on a simple dataset (`Musclefish`) that should be downloaded on your local computer first from this [link](https://nubo.ircam.fr/index.php/s/ByK4QL7nE4Mq5MA)\n",
    "\n",
    "**The following set of instructions will perform that automatically for you :)**"
   ]
  },
  {
   "cell_type": "code",
   "execution_count": null,
   "metadata": {},
   "outputs": [
    {
     "name": "stdout",
     "output_type": "stream",
     "text": [
      "  % Total    % Received % Xferd  Average Speed   Time    Time     Time  Current\n",
      "                                 Dload  Upload   Total   Spent    Left  Speed\n",
      "100 3008k  100 3008k    0     0   257k      0  0:00:11  0:00:11 --:--:--  541k\n",
      "Archive:  musclefish.zip\n",
      "   creating: musclefish/\n",
      "replace __MACOSX/._musclefish? [y]es, [n]o, [A]ll, [N]one, [r]ename: "
     ]
    }
   ],
   "source": [
    "!curl https://nubo.ircam.fr/index.php/s/ByK4QL7nE4Mq5MA/download/musclefish.zip --output musclefish.zip\n",
    "!unzip musclefish.zip\n",
    "!mkdir data\n",
    "!mv musclefish data/"
   ]
  },
  {
   "cell_type": "markdown",
   "metadata": {},
   "source": [
    "## Dataset details\n",
    "\n",
    "  |**Type**|*Origin*|\n",
    "  |-------:|:---------|\n",
    "  |**Classification**|[*MuscleFish*](http://knight.cis.temple.edu/~vasilis/Courses/CIS750/Papers/muscle_fish.pdf) dataset|\n",
    "  |**Music-speech**|[*MIREX Recognition*](http://www.music-ir.org/mirex/wiki/2015:Music/Speech_Classification_and_Detection) set|\n",
    "  |**Source separation**|[*SMC Mirum*](http://smc.inesctec.pt/research/data-2/) dataset|\n",
    "  |**Speech recognition**|[*CMU Arctic*](http://festvox.org/cmu_arctic/) dataset|\n",
    "\n",
    "**Unzip the file and place the `musclefish` folder inside a `data` folder in the root of this notebook**\n",
    "For the first parts of the tutorial, we will mostly rely solely on the classification dataset. In order to facilitate the interactions, we provide a dataset class called `AudioSupervisedDataset` that will allow to import all audio datasets along the tutorials. This class also contains a set of holders and will allow us to perform batch-wise gradient descent.\n",
    "\n",
    "```Python\n",
    "class AudioSupervisedDataset():\n",
    "    \"\"\"\n",
    "    Helper class to import datasets\n",
    "    % class_path  : Path to the dataset (string)\n",
    "    % type       : Type of dataset (string: 'classify', 'plain', 'metadata')\n",
    "    \"\"\" \n",
    "    audio_files\n",
    "    labels\n",
    "    labels_names\n",
    "    num_examples \n",
    "    num_classes \n",
    "```\n",
    "\n",
    "We also provide a simplified function `import_dataset` that is demonstrated below.\n",
    "\n",
    "***\n",
    "<div class=\"alert alert-success\" markdown=\"1\" style=\"color:white; background-color: #192841; border-color: #779ecb\">\n",
    "\n",
    "**_Exercise_**  \n",
    "\n",
    "  1. Launch the import procedure and check the corresponding structure\n",
    "  2. Code a count function that prints the name and number of examples for each classes \n",
    "\n",
    "</div>\n",
    "\n",
    "***"
   ]
  },
  {
   "cell_type": "code",
   "execution_count": null,
   "metadata": {},
   "outputs": [],
   "source": []
  },
  {
   "cell_type": "code",
   "execution_count": 27,
   "metadata": {
    "tags": []
   },
   "outputs": [
    {
     "name": "stdout",
     "output_type": "stream",
     "text": [
      "Recursive search in data//musclefish\n",
      "(16, 44100)\n",
      "(16,)\n"
     ]
    },
    {
     "name": "stderr",
     "output_type": "stream",
     "text": [
      "2023-05-17 15:47:49.104292: I tensorflow/core/common_runtime/executor.cc:1197] [/device:CPU:0] (DEBUG INFO) Executor start aborting (this does not indicate an error and you can ignore this message): INVALID_ARGUMENT: You must feed a value for placeholder tensor 'Placeholder/_0' with dtype float and shape [820,44100]\n",
      "\t [[{{node Placeholder/_0}}]]\n",
      "2023-05-17 15:47:49.104732: I tensorflow/core/common_runtime/executor.cc:1197] [/device:CPU:0] (DEBUG INFO) Executor start aborting (this does not indicate an error and you can ignore this message): INVALID_ARGUMENT: You must feed a value for placeholder tensor 'Placeholder/_1' with dtype int32 and shape [820]\n",
      "\t [[{{node Placeholder/_1}}]]\n"
     ]
    }
   ],
   "source": [
    "from cml.data import import_dataset, AudioSupervisedDataset\n",
    "data_path = \"data/\"\n",
    "batch_size = 16\n",
    "# Instantiate the dataset class\n",
    "train_dataset = import_dataset(data_path, \"musclefish\", 'train', batch_size=batch_size)\n",
    "# Generate a batch of data from the train dataset\n",
    "batch_x, batch_y = next(train_dataset)\n",
    "# Print the shape of the input and output batch tensors\n",
    "print(batch_x.shape)  # (16, 44100)\n",
    "print(batch_y.shape)  # (16,)\n"
   ]
  },
  {
   "cell_type": "code",
   "execution_count": null,
   "metadata": {
    "tags": []
   },
   "outputs": [],
   "source": [
    "from cml.plot import center_plot, scatter\n",
    "t = np.linspace(0, 1, 44100)\n",
    "\n",
    "onesound = batch_x[0]\n",
    "plot = (center_plot(scatter(t, onesound, title=\"Simple quadratic problem\", toolbar_location=\"left\")))\n",
    "plot"
   ]
  },
  {
   "cell_type": "code",
   "execution_count": 28,
   "metadata": {
    "tags": []
   },
   "outputs": [
    {
     "name": "stderr",
     "output_type": "stream",
     "text": [
      "/tmp/ipykernel_6756/1042471256.py:5: DeprecationWarning: `np.int` is a deprecated alias for the builtin `int`. To silence this warning, use `int` by itself. Doing this will not modify any behavior and is safe. When replacing `np.int`, you may wish to use e.g. `np.int64` or `np.int32` to specify the precision. If you wish to review your current use, check the release note link for additional information.\n",
      "Deprecated in NumPy 1.20; for more details and guidance: https://numpy.org/devdocs/release/1.20.0-notes.html#deprecations\n",
      "  classes = np.zeros(32, dtype = np.int)\n",
      "2023-05-17 15:48:09.709158: I tensorflow/core/common_runtime/executor.cc:1197] [/device:CPU:0] (DEBUG INFO) Executor start aborting (this does not indicate an error and you can ignore this message): INVALID_ARGUMENT: You must feed a value for placeholder tensor 'Placeholder/_0' with dtype float and shape [820,44100]\n",
      "\t [[{{node Placeholder/_0}}]]\n",
      "2023-05-17 15:48:09.709619: I tensorflow/core/common_runtime/executor.cc:1197] [/device:CPU:0] (DEBUG INFO) Executor start aborting (this does not indicate an error and you can ignore this message): INVALID_ARGUMENT: You must feed a value for placeholder tensor 'Placeholder/_1' with dtype int32 and shape [820]\n",
      "\t [[{{node Placeholder/_1}}]]\n"
     ]
    },
    {
     "name": "stdout",
     "output_type": "stream",
     "text": [
      "52\n",
      "\n",
      "Class occurrence: \n",
      "\t[39 12 12 23 26  7 27 26 42 12 52 18 43 39 45 13  0  0  0  0  0  0  0  0\n",
      "  0  0  0  0  0  0  0  0]\n"
     ]
    }
   ],
   "source": [
    "#%% Q-0.1.2 - Count function to print the number of examples in each class along with class label\n",
    "\n",
    "n_batch = 0\n",
    "train_dataset._reset_generator()\n",
    "classes = np.zeros(32, dtype = np.int)\n",
    "for batch_x, batch_y in iter(train_dataset):\n",
    "    n_batch += 1\n",
    "    classes[batch_y.numpy()] += 1\n",
    "    \n",
    "print(n_batch)\n",
    "print(f\"\\nClass occurrence: \\n\\t{classes}\")"
   ]
  },
  {
   "cell_type": "code",
   "execution_count": 26,
   "metadata": {
    "tags": []
   },
   "outputs": [
    {
     "name": "stdout",
     "output_type": "stream",
     "text": [
      "430\n"
     ]
    }
   ],
   "source": [
    "print(np.sum(classes))"
   ]
  },
  {
   "cell_type": "markdown",
   "metadata": {},
   "source": [
    "### Preprocessing\n",
    "\n",
    "We will rely on a set of spectral transforms that allow to obtain a more descriptive view over the audio information. As most of these are out of the scope of the machine learning course, we redirect you to a [signal processing course](https://ccrma.stanford.edu/~jos/sasp/) proposed by [Julius O. Smith](https://ccrma.stanford.edu/~jos/).  \n",
    "\n",
    "The following functions to compute various types of transforms are given as part of the basic audio dataset class, in the `cml.data.audio` package\n",
    "\n",
    "  |**Name**|*Transform*|\n",
    "  |-------:|:----------|\n",
    "  |`stft`       |[Short-term Fourier transform](https://en.wikipedia.org/wiki/Short-time_Fourier_transform)|\n",
    "  |`mel`  |[Mel scale](https://en.wikipedia.org/wiki/Mel_scale) transform|\n",
    "  |`chroma` |[Chromas vector](https://en.wikipedia.org/wiki/Harmonic_pitch_class_profiles)|\n",
    "  |`cqt`        |[Constant-Q](https://en.wikipedia.org/wiki/Constant_Q_transform) transform|\n",
    "\n",
    "In order to perform the various computations, we provide the following function, in the `AudioSupervisedDataset` which performs the different transforms on a complete dataset.  \n",
    "\n",
    "``` Python\n",
    "dataset.transform(index, name)\n",
    "    \"\"\" index   : Specific index in our dataset \"\"\"\n",
    "    \"\"\" name    : Name of the transform to apply \"\"\"\n",
    "\n",
    "# The name can be selected in \n",
    "\"stft\"      # Power spectrum (STFT)\n",
    "\"mel\"       # Spectrum in Mel scale\n",
    "\"chroma\"    # Chroma vectors\n",
    "\"cqt\"       # Constant-Q transform\n",
    "```\n"
   ]
  },
  {
   "cell_type": "markdown",
   "metadata": {},
   "source": [
    "***\n",
    "<div class=\"alert alert-success\" markdown=\"1\" style=\"color:white; background-color: #192841; border-color: #779ecb\">\n",
    "\n",
    "**Exercise**  \n",
    "\n",
    "  1. Launch the transform computation procedure and check the corresponding structure\n",
    "  2. For each class, select a random element and plot its various transforms on a single plot. You should obtain plots similar to those shown afterwards.\n",
    "  3. For each transform, try to spot major pros and cons of their representation.\n",
    "  \n",
    "</div>\n",
    "\n",
    "***"
   ]
  },
  {
   "cell_type": "code",
   "execution_count": 33,
   "metadata": {
    "tags": []
   },
   "outputs": [
    {
     "name": "stdout",
     "output_type": "stream",
     "text": [
      "(512, 173)\n",
      "[[3.65014958e+00 3.83702612e+00 5.52994442e+00 ... 1.14110260e+01\n",
      "  9.26673126e+00 1.13579903e+01]\n",
      " [2.27900362e+00 2.09493065e+00 3.25245070e+00 ... 6.87978792e+00\n",
      "  5.06806374e+00 7.40918159e+00]\n",
      " [9.02224064e-01 4.34281439e-01 6.87501132e-01 ... 2.96525216e+00\n",
      "  1.28598511e+00 2.34234953e+00]\n",
      " ...\n",
      " [1.20723189e-03 4.10456094e-04 2.37550548e-08 ... 1.58326714e-07\n",
      "  6.77004937e-06 3.87081272e-05]\n",
      " [1.20715878e-03 4.10403445e-04 3.97741822e-08 ... 1.10897695e-07\n",
      "  6.90261186e-06 3.87271248e-05]\n",
      " [1.20714598e-03 4.10414097e-04 5.67322829e-08 ... 1.08102597e-07\n",
      "  6.93391166e-06 3.87478067e-05]]\n"
     ]
    }
   ],
   "source": [
    "# 0.2 - Pre-process the audio to obtain spectral transforms \n",
    "power_spec = train_dataset.transform(0, \"stft\")\n",
    "print(power_spec.shape)"
   ]
  },
  {
   "cell_type": "code",
   "execution_count": null,
   "metadata": {},
   "outputs": [],
   "source": [
    "#%% Q-0.2.2 - Plot the various transforms \n",
    "\n",
    "######################\n",
    "# YOUR CODE GOES HERE\n",
    "######################\n"
   ]
  },
  {
   "cell_type": "markdown",
   "metadata": {},
   "source": [
    "### Features\n",
    "\n",
    "<div markdown = \"1\">\n",
    "\n",
    "As you might have noted from the previous exercice, most spectral transforms have a very high dimensionality, and might not be suited to exhibit the relevant structure of different classes. To that end, we provide a set of functions for computing several spectral features in the `cml.data` package, we redirect interested readers to this [exhaustive article](http://recherche.ircam.fr/anasyn/peeters/ARTICLES/Peeters_2003_cuidadoaudiofeatures.pdf) on spectral features computation.\n",
    "\n",
    "  |**File**|*Transform*|\n",
    "  |-------:|:----------|\n",
    "  |`spectral_centroid`|Spectral centroid|\n",
    "  |`spectral_bandwidth`|Spectral bandwidth|\n",
    "  |`spectral_contrast`|Spectral contrast|\n",
    "  |`spectral_flatness`|Spectral flatness|\n",
    "  |`spectral_rolloff`|Spectral rolloff|\n",
    "\n",
    "Once again, we provide a function to perform the computation of different features on a complete set. Note that for each feature, we obtain the temporal evolution in a vector. Therefore, for further learning tasks, if you wish to obtain simplified spaces, you might need to compute the mean and standard deviation of each feature.\n",
    "\n",
    "``` Python\n",
    "dataset.feature(index, name)\n",
    "    \"\"\" index   : Specific index in our dataset \"\"\"\n",
    "    \"\"\" name    : Name of the feature to obtain \"\"\"\n",
    "\n",
    "# Name can be chosen inside the following\n",
    "\"loudness\"    # Loudness\n",
    "\"centroid\"    # Spectral centroid\n",
    "\"bandwidth\"   # Spectral bandwidth\n",
    "\"contrast\"    # Spectral contrast\n",
    "\"flatness\"    # Spectral flatness\n",
    "\"rolloff\"     # Spectral rolloff\n",
    "\n",
    "```"
   ]
  },
  {
   "cell_type": "markdown",
   "metadata": {},
   "source": [
    "***\n",
    "<div class=\"alert alert-success\" markdown=\"1\" style=\"color:white; background-color: #192841; border-color: #779ecb\">\n",
    "\n",
    "**Exercise**\n",
    "\n",
    "  1. Launch the feature computation procedure and check the corresponding structure\n",
    "  2. This time for each class, superimpose the plots of various features on a single plot, along with a boxplot of mean and standard deviations. You should obtain plots similar to those shown afterwards.\n",
    "  3. What conclusions can you make on the discriminative power of each feature ?\n",
    "  4. Perform scatter plots of the mean features for all the dataset, while coloring different classes.\n",
    "  5. What conclusions can you make on the discriminative power of mean features ?\n",
    "\n",
    "</div>\n",
    "\n",
    "***"
   ]
  },
  {
   "cell_type": "code",
   "execution_count": null,
   "metadata": {},
   "outputs": [],
   "source": [
    "# 0.3 - Compute temporal spectral features\n",
    "power_spec = train_dataset.feature(0, \"centroid\")"
   ]
  },
  {
   "cell_type": "code",
   "execution_count": null,
   "metadata": {},
   "outputs": [],
   "source": [
    "#%% Q-0.3.2 - Plot the various features \n",
    "\n",
    "# Use these styles for boxplot\n",
    "boxprops=dict(linewidth=3, color='white')\n",
    "whiskerprops=dict(linewidth=3, color='white')\n",
    "medianprops=dict(linewidth=2.5, color='firebrick')\n",
    "flierprops = dict(markeredgecolor='white', markerfacecolor='firebrick')\n",
    "\n",
    "######################\n",
    "# YOUR CODE GOES HERE\n",
    "######################\n"
   ]
  },
  {
   "cell_type": "code",
   "execution_count": null,
   "metadata": {},
   "outputs": [],
   "source": [
    "#%% Q-0.3.4 - Observe the distribution of classes for different features\n",
    "\n",
    "# This allows to use 3D rendering in matplotlib\n",
    "from mpl_toolkits.mplot3d import Axes3D\n",
    "plt.figure(figsize=(12,8))\n",
    "# Create a vector of random colors for each class\n",
    "colorVect = np.zeros((3, len(data_struct[\"class_names\"])));\n",
    "for c in range(len(data_struct[\"class_names\"])):\n",
    "    colorVect[:,c] = np.random.rand(3);\n",
    "\n",
    "######################\n",
    "# YOUR CODE GOES HERE\n",
    "######################\n"
   ]
  },
  {
   "cell_type": "markdown",
   "metadata": {},
   "source": [
    "That's it for this tutorial, now remember that we can use any form of description (features) as a basis for learning algorithms. We will see in the next tutorial what we an do with these features."
   ]
  }
 ],
 "metadata": {
  "kernelspec": {
   "display_name": "Python 3 (ipykernel)",
   "language": "python",
   "name": "python3"
  },
  "language_info": {
   "codemirror_mode": {
    "name": "ipython",
    "version": 3
   },
   "file_extension": ".py",
   "mimetype": "text/x-python",
   "name": "python",
   "nbconvert_exporter": "python",
   "pygments_lexer": "ipython3",
   "version": "3.10.6"
  },
  "latex_envs": {
   "LaTeX_envs_menu_present": true,
   "autoclose": false,
   "autocomplete": true,
   "bibliofile": "biblio.bib",
   "cite_by": "apalike",
   "current_citInitial": 1,
   "eqLabelWithNumbers": true,
   "eqNumInitial": 1,
   "hotkeys": {
    "equation": "Ctrl-E",
    "itemize": "Ctrl-I"
   },
   "labels_anchors": false,
   "latex_user_defs": false,
   "report_style_numbering": false,
   "user_envs_cfg": false
  }
 },
 "nbformat": 4,
 "nbformat_minor": 4
}
