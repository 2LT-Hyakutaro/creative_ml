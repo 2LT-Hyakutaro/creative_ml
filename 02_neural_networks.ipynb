{
 "cells": [
  {
   "cell_type": "markdown",
   "metadata": {},
   "source": [
    "# Creative machine learning - Neural networks\n",
    "\n",
    "### Author: Philippe Esling (esling@ircam.fr)\n",
    "\n",
    "In this course we will cover\n",
    "1. A [quick introduction](#intro) on the principles of neural networks\n",
    "2. An implementation for a [single neuron](#neuron) in Numpy and JAX.\n",
    "3. An exercise on [multi-layer perceptron (MLP)](#mlp) through manual derivation.\n",
    "4. An introduction on [using Pytorch](#pytorch) for defining networks\n",
    "5. An exercise on [audio classification](#audio) using an MLP with Pytorch."
   ]
  },
  {
   "cell_type": "markdown",
   "metadata": {},
   "source": [
    "<a id=\"intro\"></a>\n",
    "# Introducing neural networks"
   ]
  },
  {
   "cell_type": "markdown",
   "metadata": {},
   "source": [
    "In this tutorial, we will cover more advanced models known as *neural networks*. The tutorial starts by performing a simple **single neuron** discrimination of two random distributions. We will exhibit the manual implementation using Numpy, and then simplify it with JAX. Then, we will study the typical **XOR problem** by using a more advanced 2-layer **perceptron**. Finally, we generalize the use of neural networks in order to perform classification on a given set of audio files, using the PyTorch library, which will provide simplified implementation."
   ]
  },
  {
   "cell_type": "markdown",
   "metadata": {},
   "source": [
    "We are going to use relatively _low-level_ libraries to perform the first exercises (implementing your own neurons). To observe this idea in simple setups, we are going to use the `numpy` library and also initialize the homemade course library `cml` and style for future plotting and exercise. We also set the random generator to a fixed point with `rng = np.random.RandomState(1)`, to ensure reproducibility"
   ]
  },
  {
   "cell_type": "code",
   "execution_count": 1,
   "metadata": {
    "tags": []
   },
   "outputs": [
    {
     "name": "stderr",
     "output_type": "stream",
     "text": [
      "2023-05-11 13:46:30.616669: I tensorflow/core/platform/cpu_feature_guard.cc:182] This TensorFlow binary is optimized to use available CPU instructions in performance-critical operations.\n",
      "To enable the following instructions: AVX2 FMA, in other operations, rebuild TensorFlow with the appropriate compiler flags.\n",
      "2023-05-11 13:46:32.208881: W tensorflow/compiler/tf2tensorrt/utils/py_utils.cc:38] TF-TRT Warning: Could not find TensorRT\n",
      "/home/matte/.local/lib/python3.10/site-packages/tqdm/auto.py:21: TqdmWarning: IProgress not found. Please update jupyter and ipywidgets. See https://ipywidgets.readthedocs.io/en/stable/user_install.html\n",
      "  from .autonotebook import tqdm as notebook_tqdm\n",
      "No GPU/TPU found, falling back to CPU. (Set TF_CPP_MIN_LOG_LEVEL=0 and rerun for more info.)\n"
     ]
    },
    {
     "data": {
      "text/html": [
       "<div class=\"bk-root\">\n",
       "        <a href=\"https://bokeh.org\" target=\"_blank\" class=\"bk-logo bk-logo-small bk-logo-notebook\"></a>\n",
       "        <span id=\"1002\">Loading BokehJS ...</span>\n",
       "    </div>\n"
      ]
     },
     "metadata": {},
     "output_type": "display_data"
    },
    {
     "data": {
      "application/javascript": [
       "(function(root) {\n",
       "  function now() {\n",
       "    return new Date();\n",
       "  }\n",
       "\n",
       "  const force = true;\n",
       "\n",
       "  if (typeof root._bokeh_onload_callbacks === \"undefined\" || force === true) {\n",
       "    root._bokeh_onload_callbacks = [];\n",
       "    root._bokeh_is_loading = undefined;\n",
       "  }\n",
       "\n",
       "const JS_MIME_TYPE = 'application/javascript';\n",
       "  const HTML_MIME_TYPE = 'text/html';\n",
       "  const EXEC_MIME_TYPE = 'application/vnd.bokehjs_exec.v0+json';\n",
       "  const CLASS_NAME = 'output_bokeh rendered_html';\n",
       "\n",
       "  /**\n",
       "   * Render data to the DOM node\n",
       "   */\n",
       "  function render(props, node) {\n",
       "    const script = document.createElement(\"script\");\n",
       "    node.appendChild(script);\n",
       "  }\n",
       "\n",
       "  /**\n",
       "   * Handle when an output is cleared or removed\n",
       "   */\n",
       "  function handleClearOutput(event, handle) {\n",
       "    const cell = handle.cell;\n",
       "\n",
       "    const id = cell.output_area._bokeh_element_id;\n",
       "    const server_id = cell.output_area._bokeh_server_id;\n",
       "    // Clean up Bokeh references\n",
       "    if (id != null && id in Bokeh.index) {\n",
       "      Bokeh.index[id].model.document.clear();\n",
       "      delete Bokeh.index[id];\n",
       "    }\n",
       "\n",
       "    if (server_id !== undefined) {\n",
       "      // Clean up Bokeh references\n",
       "      const cmd_clean = \"from bokeh.io.state import curstate; print(curstate().uuid_to_server['\" + server_id + \"'].get_sessions()[0].document.roots[0]._id)\";\n",
       "      cell.notebook.kernel.execute(cmd_clean, {\n",
       "        iopub: {\n",
       "          output: function(msg) {\n",
       "            const id = msg.content.text.trim();\n",
       "            if (id in Bokeh.index) {\n",
       "              Bokeh.index[id].model.document.clear();\n",
       "              delete Bokeh.index[id];\n",
       "            }\n",
       "          }\n",
       "        }\n",
       "      });\n",
       "      // Destroy server and session\n",
       "      const cmd_destroy = \"import bokeh.io.notebook as ion; ion.destroy_server('\" + server_id + \"')\";\n",
       "      cell.notebook.kernel.execute(cmd_destroy);\n",
       "    }\n",
       "  }\n",
       "\n",
       "  /**\n",
       "   * Handle when a new output is added\n",
       "   */\n",
       "  function handleAddOutput(event, handle) {\n",
       "    const output_area = handle.output_area;\n",
       "    const output = handle.output;\n",
       "\n",
       "    // limit handleAddOutput to display_data with EXEC_MIME_TYPE content only\n",
       "    if ((output.output_type != \"display_data\") || (!Object.prototype.hasOwnProperty.call(output.data, EXEC_MIME_TYPE))) {\n",
       "      return\n",
       "    }\n",
       "\n",
       "    const toinsert = output_area.element.find(\".\" + CLASS_NAME.split(' ')[0]);\n",
       "\n",
       "    if (output.metadata[EXEC_MIME_TYPE][\"id\"] !== undefined) {\n",
       "      toinsert[toinsert.length - 1].firstChild.textContent = output.data[JS_MIME_TYPE];\n",
       "      // store reference to embed id on output_area\n",
       "      output_area._bokeh_element_id = output.metadata[EXEC_MIME_TYPE][\"id\"];\n",
       "    }\n",
       "    if (output.metadata[EXEC_MIME_TYPE][\"server_id\"] !== undefined) {\n",
       "      const bk_div = document.createElement(\"div\");\n",
       "      bk_div.innerHTML = output.data[HTML_MIME_TYPE];\n",
       "      const script_attrs = bk_div.children[0].attributes;\n",
       "      for (let i = 0; i < script_attrs.length; i++) {\n",
       "        toinsert[toinsert.length - 1].firstChild.setAttribute(script_attrs[i].name, script_attrs[i].value);\n",
       "        toinsert[toinsert.length - 1].firstChild.textContent = bk_div.children[0].textContent\n",
       "      }\n",
       "      // store reference to server id on output_area\n",
       "      output_area._bokeh_server_id = output.metadata[EXEC_MIME_TYPE][\"server_id\"];\n",
       "    }\n",
       "  }\n",
       "\n",
       "  function register_renderer(events, OutputArea) {\n",
       "\n",
       "    function append_mime(data, metadata, element) {\n",
       "      // create a DOM node to render to\n",
       "      const toinsert = this.create_output_subarea(\n",
       "        metadata,\n",
       "        CLASS_NAME,\n",
       "        EXEC_MIME_TYPE\n",
       "      );\n",
       "      this.keyboard_manager.register_events(toinsert);\n",
       "      // Render to node\n",
       "      const props = {data: data, metadata: metadata[EXEC_MIME_TYPE]};\n",
       "      render(props, toinsert[toinsert.length - 1]);\n",
       "      element.append(toinsert);\n",
       "      return toinsert\n",
       "    }\n",
       "\n",
       "    /* Handle when an output is cleared or removed */\n",
       "    events.on('clear_output.CodeCell', handleClearOutput);\n",
       "    events.on('delete.Cell', handleClearOutput);\n",
       "\n",
       "    /* Handle when a new output is added */\n",
       "    events.on('output_added.OutputArea', handleAddOutput);\n",
       "\n",
       "    /**\n",
       "     * Register the mime type and append_mime function with output_area\n",
       "     */\n",
       "    OutputArea.prototype.register_mime_type(EXEC_MIME_TYPE, append_mime, {\n",
       "      /* Is output safe? */\n",
       "      safe: true,\n",
       "      /* Index of renderer in `output_area.display_order` */\n",
       "      index: 0\n",
       "    });\n",
       "  }\n",
       "\n",
       "  // register the mime type if in Jupyter Notebook environment and previously unregistered\n",
       "  if (root.Jupyter !== undefined) {\n",
       "    const events = require('base/js/events');\n",
       "    const OutputArea = require('notebook/js/outputarea').OutputArea;\n",
       "\n",
       "    if (OutputArea.prototype.mime_types().indexOf(EXEC_MIME_TYPE) == -1) {\n",
       "      register_renderer(events, OutputArea);\n",
       "    }\n",
       "  }\n",
       "  if (typeof (root._bokeh_timeout) === \"undefined\" || force === true) {\n",
       "    root._bokeh_timeout = Date.now() + 5000;\n",
       "    root._bokeh_failed_load = false;\n",
       "  }\n",
       "\n",
       "  const NB_LOAD_WARNING = {'data': {'text/html':\n",
       "     \"<div style='background-color: #fdd'>\\n\"+\n",
       "     \"<p>\\n\"+\n",
       "     \"BokehJS does not appear to have successfully loaded. If loading BokehJS from CDN, this \\n\"+\n",
       "     \"may be due to a slow or bad network connection. Possible fixes:\\n\"+\n",
       "     \"</p>\\n\"+\n",
       "     \"<ul>\\n\"+\n",
       "     \"<li>re-rerun `output_notebook()` to attempt to load from CDN again, or</li>\\n\"+\n",
       "     \"<li>use INLINE resources instead, as so:</li>\\n\"+\n",
       "     \"</ul>\\n\"+\n",
       "     \"<code>\\n\"+\n",
       "     \"from bokeh.resources import INLINE\\n\"+\n",
       "     \"output_notebook(resources=INLINE)\\n\"+\n",
       "     \"</code>\\n\"+\n",
       "     \"</div>\"}};\n",
       "\n",
       "  function display_loaded() {\n",
       "    const el = document.getElementById(\"1002\");\n",
       "    if (el != null) {\n",
       "      el.textContent = \"BokehJS is loading...\";\n",
       "    }\n",
       "    if (root.Bokeh !== undefined) {\n",
       "      if (el != null) {\n",
       "        el.textContent = \"BokehJS \" + root.Bokeh.version + \" successfully loaded.\";\n",
       "      }\n",
       "    } else if (Date.now() < root._bokeh_timeout) {\n",
       "      setTimeout(display_loaded, 100)\n",
       "    }\n",
       "  }\n",
       "\n",
       "  function run_callbacks() {\n",
       "    try {\n",
       "      root._bokeh_onload_callbacks.forEach(function(callback) {\n",
       "        if (callback != null)\n",
       "          callback();\n",
       "      });\n",
       "    } finally {\n",
       "      delete root._bokeh_onload_callbacks\n",
       "    }\n",
       "    console.debug(\"Bokeh: all callbacks have finished\");\n",
       "  }\n",
       "\n",
       "  function load_libs(css_urls, js_urls, callback) {\n",
       "    if (css_urls == null) css_urls = [];\n",
       "    if (js_urls == null) js_urls = [];\n",
       "\n",
       "    root._bokeh_onload_callbacks.push(callback);\n",
       "    if (root._bokeh_is_loading > 0) {\n",
       "      console.debug(\"Bokeh: BokehJS is being loaded, scheduling callback at\", now());\n",
       "      return null;\n",
       "    }\n",
       "    if (js_urls == null || js_urls.length === 0) {\n",
       "      run_callbacks();\n",
       "      return null;\n",
       "    }\n",
       "    console.debug(\"Bokeh: BokehJS not loaded, scheduling load and callback at\", now());\n",
       "    root._bokeh_is_loading = css_urls.length + js_urls.length;\n",
       "\n",
       "    function on_load() {\n",
       "      root._bokeh_is_loading--;\n",
       "      if (root._bokeh_is_loading === 0) {\n",
       "        console.debug(\"Bokeh: all BokehJS libraries/stylesheets loaded\");\n",
       "        run_callbacks()\n",
       "      }\n",
       "    }\n",
       "\n",
       "    function on_error(url) {\n",
       "      console.error(\"failed to load \" + url);\n",
       "    }\n",
       "\n",
       "    for (let i = 0; i < css_urls.length; i++) {\n",
       "      const url = css_urls[i];\n",
       "      const element = document.createElement(\"link\");\n",
       "      element.onload = on_load;\n",
       "      element.onerror = on_error.bind(null, url);\n",
       "      element.rel = \"stylesheet\";\n",
       "      element.type = \"text/css\";\n",
       "      element.href = url;\n",
       "      console.debug(\"Bokeh: injecting link tag for BokehJS stylesheet: \", url);\n",
       "      document.body.appendChild(element);\n",
       "    }\n",
       "\n",
       "    for (let i = 0; i < js_urls.length; i++) {\n",
       "      const url = js_urls[i];\n",
       "      const element = document.createElement('script');\n",
       "      element.onload = on_load;\n",
       "      element.onerror = on_error.bind(null, url);\n",
       "      element.async = false;\n",
       "      element.src = url;\n",
       "      console.debug(\"Bokeh: injecting script tag for BokehJS library: \", url);\n",
       "      document.head.appendChild(element);\n",
       "    }\n",
       "  };\n",
       "\n",
       "  function inject_raw_css(css) {\n",
       "    const element = document.createElement(\"style\");\n",
       "    element.appendChild(document.createTextNode(css));\n",
       "    document.body.appendChild(element);\n",
       "  }\n",
       "\n",
       "  const js_urls = [\"https://cdn.bokeh.org/bokeh/release/bokeh-2.4.3.min.js\", \"https://cdn.bokeh.org/bokeh/release/bokeh-gl-2.4.3.min.js\", \"https://cdn.bokeh.org/bokeh/release/bokeh-widgets-2.4.3.min.js\", \"https://cdn.bokeh.org/bokeh/release/bokeh-tables-2.4.3.min.js\", \"https://cdn.bokeh.org/bokeh/release/bokeh-mathjax-2.4.3.min.js\", \"https://unpkg.com/@holoviz/panel@0.14.4/dist/panel.min.js\"];\n",
       "  const css_urls = [];\n",
       "\n",
       "  const inline_js = [    function(Bokeh) {\n",
       "      Bokeh.set_log_level(\"info\");\n",
       "    },\n",
       "function(Bokeh) {\n",
       "    }\n",
       "  ];\n",
       "\n",
       "  function run_inline_js() {\n",
       "    if (root.Bokeh !== undefined || force === true) {\n",
       "          for (let i = 0; i < inline_js.length; i++) {\n",
       "      inline_js[i].call(root, root.Bokeh);\n",
       "    }\n",
       "if (force === true) {\n",
       "        display_loaded();\n",
       "      }} else if (Date.now() < root._bokeh_timeout) {\n",
       "      setTimeout(run_inline_js, 100);\n",
       "    } else if (!root._bokeh_failed_load) {\n",
       "      console.log(\"Bokeh: BokehJS failed to load within specified timeout.\");\n",
       "      root._bokeh_failed_load = true;\n",
       "    } else if (force !== true) {\n",
       "      const cell = $(document.getElementById(\"1002\")).parents('.cell').data().cell;\n",
       "      cell.output_area.append_execute_result(NB_LOAD_WARNING)\n",
       "    }\n",
       "  }\n",
       "\n",
       "  if (root._bokeh_is_loading === 0) {\n",
       "    console.debug(\"Bokeh: BokehJS loaded, going straight to plotting\");\n",
       "    run_inline_js();\n",
       "  } else {\n",
       "    load_libs(css_urls, js_urls, function() {\n",
       "      console.debug(\"Bokeh: BokehJS plotting callback run at\", now());\n",
       "      run_inline_js();\n",
       "    });\n",
       "  }\n",
       "}(window));"
      ],
      "application/vnd.bokehjs_load.v0+json": "(function(root) {\n  function now() {\n    return new Date();\n  }\n\n  const force = true;\n\n  if (typeof root._bokeh_onload_callbacks === \"undefined\" || force === true) {\n    root._bokeh_onload_callbacks = [];\n    root._bokeh_is_loading = undefined;\n  }\n\n\n  if (typeof (root._bokeh_timeout) === \"undefined\" || force === true) {\n    root._bokeh_timeout = Date.now() + 5000;\n    root._bokeh_failed_load = false;\n  }\n\n  const NB_LOAD_WARNING = {'data': {'text/html':\n     \"<div style='background-color: #fdd'>\\n\"+\n     \"<p>\\n\"+\n     \"BokehJS does not appear to have successfully loaded. If loading BokehJS from CDN, this \\n\"+\n     \"may be due to a slow or bad network connection. Possible fixes:\\n\"+\n     \"</p>\\n\"+\n     \"<ul>\\n\"+\n     \"<li>re-rerun `output_notebook()` to attempt to load from CDN again, or</li>\\n\"+\n     \"<li>use INLINE resources instead, as so:</li>\\n\"+\n     \"</ul>\\n\"+\n     \"<code>\\n\"+\n     \"from bokeh.resources import INLINE\\n\"+\n     \"output_notebook(resources=INLINE)\\n\"+\n     \"</code>\\n\"+\n     \"</div>\"}};\n\n  function display_loaded() {\n    const el = document.getElementById(\"1002\");\n    if (el != null) {\n      el.textContent = \"BokehJS is loading...\";\n    }\n    if (root.Bokeh !== undefined) {\n      if (el != null) {\n        el.textContent = \"BokehJS \" + root.Bokeh.version + \" successfully loaded.\";\n      }\n    } else if (Date.now() < root._bokeh_timeout) {\n      setTimeout(display_loaded, 100)\n    }\n  }\n\n  function run_callbacks() {\n    try {\n      root._bokeh_onload_callbacks.forEach(function(callback) {\n        if (callback != null)\n          callback();\n      });\n    } finally {\n      delete root._bokeh_onload_callbacks\n    }\n    console.debug(\"Bokeh: all callbacks have finished\");\n  }\n\n  function load_libs(css_urls, js_urls, callback) {\n    if (css_urls == null) css_urls = [];\n    if (js_urls == null) js_urls = [];\n\n    root._bokeh_onload_callbacks.push(callback);\n    if (root._bokeh_is_loading > 0) {\n      console.debug(\"Bokeh: BokehJS is being loaded, scheduling callback at\", now());\n      return null;\n    }\n    if (js_urls == null || js_urls.length === 0) {\n      run_callbacks();\n      return null;\n    }\n    console.debug(\"Bokeh: BokehJS not loaded, scheduling load and callback at\", now());\n    root._bokeh_is_loading = css_urls.length + js_urls.length;\n\n    function on_load() {\n      root._bokeh_is_loading--;\n      if (root._bokeh_is_loading === 0) {\n        console.debug(\"Bokeh: all BokehJS libraries/stylesheets loaded\");\n        run_callbacks()\n      }\n    }\n\n    function on_error(url) {\n      console.error(\"failed to load \" + url);\n    }\n\n    for (let i = 0; i < css_urls.length; i++) {\n      const url = css_urls[i];\n      const element = document.createElement(\"link\");\n      element.onload = on_load;\n      element.onerror = on_error.bind(null, url);\n      element.rel = \"stylesheet\";\n      element.type = \"text/css\";\n      element.href = url;\n      console.debug(\"Bokeh: injecting link tag for BokehJS stylesheet: \", url);\n      document.body.appendChild(element);\n    }\n\n    for (let i = 0; i < js_urls.length; i++) {\n      const url = js_urls[i];\n      const element = document.createElement('script');\n      element.onload = on_load;\n      element.onerror = on_error.bind(null, url);\n      element.async = false;\n      element.src = url;\n      console.debug(\"Bokeh: injecting script tag for BokehJS library: \", url);\n      document.head.appendChild(element);\n    }\n  };\n\n  function inject_raw_css(css) {\n    const element = document.createElement(\"style\");\n    element.appendChild(document.createTextNode(css));\n    document.body.appendChild(element);\n  }\n\n  const js_urls = [\"https://cdn.bokeh.org/bokeh/release/bokeh-2.4.3.min.js\", \"https://cdn.bokeh.org/bokeh/release/bokeh-gl-2.4.3.min.js\", \"https://cdn.bokeh.org/bokeh/release/bokeh-widgets-2.4.3.min.js\", \"https://cdn.bokeh.org/bokeh/release/bokeh-tables-2.4.3.min.js\", \"https://cdn.bokeh.org/bokeh/release/bokeh-mathjax-2.4.3.min.js\", \"https://unpkg.com/@holoviz/panel@0.14.4/dist/panel.min.js\"];\n  const css_urls = [];\n\n  const inline_js = [    function(Bokeh) {\n      Bokeh.set_log_level(\"info\");\n    },\nfunction(Bokeh) {\n    }\n  ];\n\n  function run_inline_js() {\n    if (root.Bokeh !== undefined || force === true) {\n          for (let i = 0; i < inline_js.length; i++) {\n      inline_js[i].call(root, root.Bokeh);\n    }\nif (force === true) {\n        display_loaded();\n      }} else if (Date.now() < root._bokeh_timeout) {\n      setTimeout(run_inline_js, 100);\n    } else if (!root._bokeh_failed_load) {\n      console.log(\"Bokeh: BokehJS failed to load within specified timeout.\");\n      root._bokeh_failed_load = true;\n    } else if (force !== true) {\n      const cell = $(document.getElementById(\"1002\")).parents('.cell').data().cell;\n      cell.output_area.append_execute_result(NB_LOAD_WARNING)\n    }\n  }\n\n  if (root._bokeh_is_loading === 0) {\n    console.debug(\"Bokeh: BokehJS loaded, going straight to plotting\");\n    run_inline_js();\n  } else {\n    load_libs(css_urls, js_urls, function() {\n      console.debug(\"Bokeh: BokehJS plotting callback run at\", now());\n      run_inline_js();\n    });\n  }\n}(window));"
     },
     "metadata": {},
     "output_type": "display_data"
    },
    {
     "data": {
      "application/javascript": [
       "(function(root) {\n",
       "  function now() {\n",
       "    return new Date();\n",
       "  }\n",
       "\n",
       "  var force = true;\n",
       "\n",
       "  if (typeof root._bokeh_onload_callbacks === \"undefined\" || force === true) {\n",
       "    root._bokeh_onload_callbacks = [];\n",
       "    root._bokeh_is_loading = undefined;\n",
       "  }\n",
       "\n",
       "  if (typeof (root._bokeh_timeout) === \"undefined\" || force === true) {\n",
       "    root._bokeh_timeout = Date.now() + 5000;\n",
       "    root._bokeh_failed_load = false;\n",
       "  }\n",
       "\n",
       "  function run_callbacks() {\n",
       "    try {\n",
       "      root._bokeh_onload_callbacks.forEach(function(callback) {\n",
       "        if (callback != null)\n",
       "          callback();\n",
       "      });\n",
       "    } finally {\n",
       "      delete root._bokeh_onload_callbacks\n",
       "    }\n",
       "    console.debug(\"Bokeh: all callbacks have finished\");\n",
       "  }\n",
       "\n",
       "  function load_libs(css_urls, js_urls, js_modules, callback) {\n",
       "    if (css_urls == null) css_urls = [];\n",
       "    if (js_urls == null) js_urls = [];\n",
       "    if (js_modules == null) js_modules = [];\n",
       "\n",
       "    root._bokeh_onload_callbacks.push(callback);\n",
       "    if (root._bokeh_is_loading > 0) {\n",
       "      console.debug(\"Bokeh: BokehJS is being loaded, scheduling callback at\", now());\n",
       "      return null;\n",
       "    }\n",
       "    if (js_urls.length === 0 && js_modules.length === 0) {\n",
       "      run_callbacks();\n",
       "      return null;\n",
       "    }\n",
       "    console.debug(\"Bokeh: BokehJS not loaded, scheduling load and callback at\", now());\n",
       "\n",
       "    function on_load() {\n",
       "      root._bokeh_is_loading--;\n",
       "      if (root._bokeh_is_loading === 0) {\n",
       "        console.debug(\"Bokeh: all BokehJS libraries/stylesheets loaded\");\n",
       "        run_callbacks()\n",
       "      }\n",
       "    }\n",
       "\n",
       "    function on_error() {\n",
       "      console.error(\"failed to load \" + url);\n",
       "    }\n",
       "\n",
       "    for (var i = 0; i < css_urls.length; i++) {\n",
       "      var url = css_urls[i];\n",
       "      const element = document.createElement(\"link\");\n",
       "      element.onload = on_load;\n",
       "      element.onerror = on_error;\n",
       "      element.rel = \"stylesheet\";\n",
       "      element.type = \"text/css\";\n",
       "      element.href = url;\n",
       "      console.debug(\"Bokeh: injecting link tag for BokehJS stylesheet: \", url);\n",
       "      document.body.appendChild(element);\n",
       "    }\n",
       "\n",
       "    var skip = [];\n",
       "    if (window.requirejs) {\n",
       "      window.requirejs.config({'packages': {}, 'paths': {'ace': '//cdnjs.cloudflare.com/ajax/libs/ace/1.4.7', 'gridstack': 'https://cdn.jsdelivr.net/npm/gridstack@4.2.5/dist/gridstack-h5', 'notyf': 'https://cdn.jsdelivr.net/npm/notyf@3/notyf.min'}, 'shim': {'ace/ext-language_tools': {'deps': ['ace/ace']}, 'ace/ext-modelist': {'deps': ['ace/ace']}, 'gridstack': {'exports': 'GridStack'}}});\n",
       "      require([\"ace/ace\"], function(ace) {\n",
       "\twindow.ace = ace\n",
       "\ton_load()\n",
       "      })\n",
       "      require([\"ace/ext-language_tools\"], function() {\n",
       "\ton_load()\n",
       "      })\n",
       "      require([\"ace/ext-modelist\"], function() {\n",
       "\ton_load()\n",
       "      })\n",
       "      require([\"gridstack\"], function(GridStack) {\n",
       "\twindow.GridStack = GridStack\n",
       "\ton_load()\n",
       "      })\n",
       "      require([\"notyf\"], function() {\n",
       "\ton_load()\n",
       "      })\n",
       "      root._bokeh_is_loading = css_urls.length + 5;\n",
       "    } else {\n",
       "      root._bokeh_is_loading = css_urls.length + js_urls.length + js_modules.length;\n",
       "    }    if (((window['ace'] !== undefined) && (!(window['ace'] instanceof HTMLElement))) || window.requirejs) {\n",
       "      var urls = ['https://cdnjs.cloudflare.com/ajax/libs/ace/1.4.11/ace.js', 'https://cdnjs.cloudflare.com/ajax/libs/ace/1.4.11/ext-language_tools.js', 'https://cdnjs.cloudflare.com/ajax/libs/ace/1.4.11/ext-modelist.js'];\n",
       "      for (var i = 0; i < urls.length; i++) {\n",
       "        skip.push(urls[i])\n",
       "      }\n",
       "    }    if (((window['GridStack'] !== undefined) && (!(window['GridStack'] instanceof HTMLElement))) || window.requirejs) {\n",
       "      var urls = ['https://cdn.holoviz.org/panel/0.14.4/dist/bundled/gridstack/gridstack@4.2.5/dist/gridstack-h5.js'];\n",
       "      for (var i = 0; i < urls.length; i++) {\n",
       "        skip.push(urls[i])\n",
       "      }\n",
       "    }    if (((window['Notyf'] !== undefined) && (!(window['Notyf'] instanceof HTMLElement))) || window.requirejs) {\n",
       "      var urls = ['https://cdn.holoviz.org/panel/0.14.4/dist/bundled/notificationarea/notyf@3/notyf.min.js'];\n",
       "      for (var i = 0; i < urls.length; i++) {\n",
       "        skip.push(urls[i])\n",
       "      }\n",
       "    }    for (var i = 0; i < js_urls.length; i++) {\n",
       "      var url = js_urls[i];\n",
       "      if (skip.indexOf(url) >= 0) {\n",
       "\tif (!window.requirejs) {\n",
       "\t  on_load();\n",
       "\t}\n",
       "\tcontinue;\n",
       "      }\n",
       "      var element = document.createElement('script');\n",
       "      element.onload = on_load;\n",
       "      element.onerror = on_error;\n",
       "      element.async = false;\n",
       "      element.src = url;\n",
       "      console.debug(\"Bokeh: injecting script tag for BokehJS library: \", url);\n",
       "      document.head.appendChild(element);\n",
       "    }\n",
       "    for (var i = 0; i < js_modules.length; i++) {\n",
       "      var url = js_modules[i];\n",
       "      if (skip.indexOf(url) >= 0) {\n",
       "\tif (!window.requirejs) {\n",
       "\t  on_load();\n",
       "\t}\n",
       "\tcontinue;\n",
       "      }\n",
       "      var element = document.createElement('script');\n",
       "      element.onload = on_load;\n",
       "      element.onerror = on_error;\n",
       "      element.async = false;\n",
       "      element.src = url;\n",
       "      element.type = \"module\";\n",
       "      console.debug(\"Bokeh: injecting script tag for BokehJS library: \", url);\n",
       "      document.head.appendChild(element);\n",
       "    }\n",
       "    if (!js_urls.length && !js_modules.length) {\n",
       "      on_load()\n",
       "    }\n",
       "  };\n",
       "\n",
       "  function inject_raw_css(css) {\n",
       "    const element = document.createElement(\"style\");\n",
       "    element.appendChild(document.createTextNode(css));\n",
       "    document.body.appendChild(element);\n",
       "  }\n",
       "\n",
       "  var js_urls = [\"https://cdnjs.cloudflare.com/ajax/libs/ace/1.4.11/ace.js\", \"https://cdnjs.cloudflare.com/ajax/libs/ace/1.4.11/ext-language_tools.js\", \"https://cdnjs.cloudflare.com/ajax/libs/ace/1.4.11/ext-modelist.js\", \"https://cdn.bokeh.org/bokeh/release/bokeh-2.4.3.min.js\", \"https://cdn.bokeh.org/bokeh/release/bokeh-gl-2.4.3.min.js\", \"https://cdn.bokeh.org/bokeh/release/bokeh-widgets-2.4.3.min.js\", \"https://cdn.bokeh.org/bokeh/release/bokeh-tables-2.4.3.min.js\", \"https://cdn.bokeh.org/bokeh/release/bokeh-mathjax-2.4.3.min.js\", \"https://unpkg.com/@holoviz/panel@0.14.4/dist/panel.min.js\"];\n",
       "  var js_modules = [];\n",
       "  var css_urls = [\"https://cdn.holoviz.org/panel/0.14.4/dist/css/card.css\", \"https://cdn.holoviz.org/panel/0.14.4/dist/css/json.css\", \"https://cdn.holoviz.org/panel/0.14.4/dist/css/markdown.css\", \"https://cdn.holoviz.org/panel/0.14.4/dist/css/debugger.css\", \"https://cdn.holoviz.org/panel/0.14.4/dist/css/dataframe.css\", \"https://cdn.holoviz.org/panel/0.14.4/dist/css/widgets.css\", \"https://cdn.holoviz.org/panel/0.14.4/dist/css/alerts.css\", \"https://cdn.holoviz.org/panel/0.14.4/dist/css/loading.css\"];\n",
       "  var inline_js = [    function(Bokeh) {\n",
       "      inject_raw_css(\"/*\\n ~ CML // Creative Machine Learning ~\\n mml.css : CSS styling information for Panel and Bokeh\\n \\n This file defines the main CSS styling information for the CML course\\n \\n Author               :  Philippe Esling\\n                        <esling@ircam.fr>\\n*/\\n\\nbody {\\n  display: flex;\\n  height: 100vh;\\n  margin: 0px;\\n  overflow-x: hidden;\\n  overflow-y: hidden;\\n}\\n\\n.bk-root .bk, .bk-root .bk:before, .bk-root .bk:after {\\n  font-family: \\\"Josefin Sans\\\";\\n}\\n\\nimg {\\n  max-width: 100%;\\n}\\n\\n#container {\\n  padding:0px;\\n  height:100vh;\\n  width: 100vw;\\n  max-width: 100vw;\\n}\\n\\n#sidebar .mdc-list {\\n  padding-left: 5px;\\n  padding-right: 5px;\\n}\\n\\n.mdc-drawer-app-content {\\n  flex: auto;\\n  position: relative;\\n  overflow: hidden;\\n}\\n\\n.mdc-drawer {\\n  background: #FAFAFA; /* GRAY 50 */\\n}\\n\\n.mdc-drawer-app-content {\\n  margin-left: 0 !important;\\n}\\n\\n.title-bar {\\n  display: contents;\\n  justify-content: center;\\n  align-content: center;\\n  width: 100%;\\n}\\n\\n.mdc-top-app-bar .bk-menu {\\n  color: black\\n}\\n\\n.app-header {\\n  display: contents;\\n  padding-left: 10px;\\n  font-size: 1.25em;\\n}\\n\\nimg.app-logo {\\n  padding-right: 10px;\\n  font-size: 28px;\\n  height: 30px;\\n  max-width: inherit;\\n  padding-top: 12px;\\n  padding-bottom: 6px;\\n}\\n\\n#app-title {\\n  padding-right: 12px;\\n  padding-left: 12px;\\n}\\n\\n.title {\\n  font-family: \\\"Josefin Sans\\\";\\n  color: #fff;\\n  text-decoration: none;\\n  text-decoration-line: none;\\n  text-decoration-style: initial;\\n  text-decoration-color: initial;\\n  font-weight: 400;\\n  font-size: 2em;\\n  line-height: 2em;\\n  white-space: nowrap;\\n}\\n\\n.main-content {\\n  overflow-y: scroll;\\n  overflow-x: auto;\\n}\\n\\n#header {\\n  position: absolute;\\n  z-index: 7;\\n}\\n\\n#header-items {\\n  width: 100%;\\n  margin-left:15px;\\n}\\n\\n.pn-busy-container {\\n  align-items: center;\\n  justify-content: center;\\n  display: flex;\\n}\\n\\n.mdc-drawer__content {\\n  overflow-x: hidden;\\n}\\n.mdc-drawer__content, .main-content {\\n  padding: 12px;\\n}\\n\\n.main-content {\\n  height: calc(100vh - 88px);\\n  max-height: calc(100vh - 88px);\\n  padding-right: 32px;\\n}\\n\\nbutton.mdc-button.mdc-card-button {\\n  color: transparent;\\n  height: 50px;\\n}\\n\\np.bk.mdc-button {\\n  display: none;\\n}\\n\\ndiv.bk.mdc-card {\\n  border-radius: 0px\\n}\\n\\n.mdc-card .bk.card-header {\\n  display: flex;\\n}\\n\\n.bk.mdc-card-title {\\n  font-family: \\\"Josefin Sans\\\";\\n  font-weight: bold;\\n  align-items: center;\\n  display: flex !important;\\n  position: relative !important;\\n}\\n\\n.bk.mdc-card-title:nth-child(2) {\\n  margin-left: -1.4em;\\n}\\n\\n.pn-modal {\\n  overflow-y: scroll;\\n  width: 100%;\\n  display: none;\\n  position: absolute;\\n  top: 0;\\n  left: 0;\\n}\\n\\n.pn-modal-content {\\n  font-family: \\\"Josefin Sans\\\";\\n  background-color: #0e0e0e;\\n  margin: auto;\\n  margin-top: 25px;\\n  margin-bottom: 25px;\\n  padding: 15px 20px 20px 20px;\\n  border: 1px solid #888;\\n  width: 80% !important;\\n}\\n\\n.pn-modal-close {\\n  position: absolute;\\n  right: 25px;\\n  z-index: 100;\\n}\\n\\n.pn-modal-close:hover,\\n.pn-modal-close:focus {\\n  color: #000;\\n  text-decoration: none;\\n  cursor: pointer;\\n}\\n\\n.custom_button_bokeh button.bk.bk-btn.bk-btn-default {\\n    font-size:48pt;\\n    background-color: #05b7ff;\\n    border-color: #05b7ff;\\n}\");\n",
       "    },    function(Bokeh) {\n",
       "      inject_raw_css(\"\\n    .bk.pn-loading.arc:before {\\n      background-image: url(\\\"data:image/svg+xml;base64,PHN2ZyB4bWxucz0iaHR0cDovL3d3dy53My5vcmcvMjAwMC9zdmciIHN0eWxlPSJtYXJnaW46IGF1dG87IGJhY2tncm91bmQ6IG5vbmU7IGRpc3BsYXk6IGJsb2NrOyBzaGFwZS1yZW5kZXJpbmc6IGF1dG87IiB2aWV3Qm94PSIwIDAgMTAwIDEwMCIgcHJlc2VydmVBc3BlY3RSYXRpbz0ieE1pZFlNaWQiPiAgPGNpcmNsZSBjeD0iNTAiIGN5PSI1MCIgZmlsbD0ibm9uZSIgc3Ryb2tlPSIjYzNjM2MzIiBzdHJva2Utd2lkdGg9IjEwIiByPSIzNSIgc3Ryb2tlLWRhc2hhcnJheT0iMTY0LjkzMzYxNDMxMzQ2NDE1IDU2Ljk3Nzg3MTQzNzgyMTM4Ij4gICAgPGFuaW1hdGVUcmFuc2Zvcm0gYXR0cmlidXRlTmFtZT0idHJhbnNmb3JtIiB0eXBlPSJyb3RhdGUiIHJlcGVhdENvdW50PSJpbmRlZmluaXRlIiBkdXI9IjFzIiB2YWx1ZXM9IjAgNTAgNTA7MzYwIDUwIDUwIiBrZXlUaW1lcz0iMDsxIj48L2FuaW1hdGVUcmFuc2Zvcm0+ICA8L2NpcmNsZT48L3N2Zz4=\\\");\\n      background-size: auto calc(min(50%, 400px));\\n    }\\n    \");\n",
       "    },    function(Bokeh) {\n",
       "      Bokeh.set_log_level(\"info\");\n",
       "    },\n",
       "function(Bokeh) {} // ensure no trailing comma for IE\n",
       "  ];\n",
       "\n",
       "  function run_inline_js() {\n",
       "    if ((root.Bokeh !== undefined) || (force === true)) {\n",
       "      for (var i = 0; i < inline_js.length; i++) {\n",
       "        inline_js[i].call(root, root.Bokeh);\n",
       "      }} else if (Date.now() < root._bokeh_timeout) {\n",
       "      setTimeout(run_inline_js, 100);\n",
       "    } else if (!root._bokeh_failed_load) {\n",
       "      console.log(\"Bokeh: BokehJS failed to load within specified timeout.\");\n",
       "      root._bokeh_failed_load = true;\n",
       "    }\n",
       "  }\n",
       "\n",
       "  if (root._bokeh_is_loading === 0) {\n",
       "    console.debug(\"Bokeh: BokehJS loaded, going straight to plotting\");\n",
       "    run_inline_js();\n",
       "  } else {\n",
       "    load_libs(css_urls, js_urls, js_modules, function() {\n",
       "      console.debug(\"Bokeh: BokehJS plotting callback run at\", now());\n",
       "      run_inline_js();\n",
       "    });\n",
       "  }\n",
       "}(window));"
      ],
      "application/vnd.holoviews_load.v0+json": "(function(root) {\n  function now() {\n    return new Date();\n  }\n\n  var force = true;\n\n  if (typeof root._bokeh_onload_callbacks === \"undefined\" || force === true) {\n    root._bokeh_onload_callbacks = [];\n    root._bokeh_is_loading = undefined;\n  }\n\n  if (typeof (root._bokeh_timeout) === \"undefined\" || force === true) {\n    root._bokeh_timeout = Date.now() + 5000;\n    root._bokeh_failed_load = false;\n  }\n\n  function run_callbacks() {\n    try {\n      root._bokeh_onload_callbacks.forEach(function(callback) {\n        if (callback != null)\n          callback();\n      });\n    } finally {\n      delete root._bokeh_onload_callbacks\n    }\n    console.debug(\"Bokeh: all callbacks have finished\");\n  }\n\n  function load_libs(css_urls, js_urls, js_modules, callback) {\n    if (css_urls == null) css_urls = [];\n    if (js_urls == null) js_urls = [];\n    if (js_modules == null) js_modules = [];\n\n    root._bokeh_onload_callbacks.push(callback);\n    if (root._bokeh_is_loading > 0) {\n      console.debug(\"Bokeh: BokehJS is being loaded, scheduling callback at\", now());\n      return null;\n    }\n    if (js_urls.length === 0 && js_modules.length === 0) {\n      run_callbacks();\n      return null;\n    }\n    console.debug(\"Bokeh: BokehJS not loaded, scheduling load and callback at\", now());\n\n    function on_load() {\n      root._bokeh_is_loading--;\n      if (root._bokeh_is_loading === 0) {\n        console.debug(\"Bokeh: all BokehJS libraries/stylesheets loaded\");\n        run_callbacks()\n      }\n    }\n\n    function on_error() {\n      console.error(\"failed to load \" + url);\n    }\n\n    for (var i = 0; i < css_urls.length; i++) {\n      var url = css_urls[i];\n      const element = document.createElement(\"link\");\n      element.onload = on_load;\n      element.onerror = on_error;\n      element.rel = \"stylesheet\";\n      element.type = \"text/css\";\n      element.href = url;\n      console.debug(\"Bokeh: injecting link tag for BokehJS stylesheet: \", url);\n      document.body.appendChild(element);\n    }\n\n    var skip = [];\n    if (window.requirejs) {\n      window.requirejs.config({'packages': {}, 'paths': {'ace': '//cdnjs.cloudflare.com/ajax/libs/ace/1.4.7', 'gridstack': 'https://cdn.jsdelivr.net/npm/gridstack@4.2.5/dist/gridstack-h5', 'notyf': 'https://cdn.jsdelivr.net/npm/notyf@3/notyf.min'}, 'shim': {'ace/ext-language_tools': {'deps': ['ace/ace']}, 'ace/ext-modelist': {'deps': ['ace/ace']}, 'gridstack': {'exports': 'GridStack'}}});\n      require([\"ace/ace\"], function(ace) {\n\twindow.ace = ace\n\ton_load()\n      })\n      require([\"ace/ext-language_tools\"], function() {\n\ton_load()\n      })\n      require([\"ace/ext-modelist\"], function() {\n\ton_load()\n      })\n      require([\"gridstack\"], function(GridStack) {\n\twindow.GridStack = GridStack\n\ton_load()\n      })\n      require([\"notyf\"], function() {\n\ton_load()\n      })\n      root._bokeh_is_loading = css_urls.length + 5;\n    } else {\n      root._bokeh_is_loading = css_urls.length + js_urls.length + js_modules.length;\n    }    if (((window['ace'] !== undefined) && (!(window['ace'] instanceof HTMLElement))) || window.requirejs) {\n      var urls = ['https://cdnjs.cloudflare.com/ajax/libs/ace/1.4.11/ace.js', 'https://cdnjs.cloudflare.com/ajax/libs/ace/1.4.11/ext-language_tools.js', 'https://cdnjs.cloudflare.com/ajax/libs/ace/1.4.11/ext-modelist.js'];\n      for (var i = 0; i < urls.length; i++) {\n        skip.push(urls[i])\n      }\n    }    if (((window['GridStack'] !== undefined) && (!(window['GridStack'] instanceof HTMLElement))) || window.requirejs) {\n      var urls = ['https://cdn.holoviz.org/panel/0.14.4/dist/bundled/gridstack/gridstack@4.2.5/dist/gridstack-h5.js'];\n      for (var i = 0; i < urls.length; i++) {\n        skip.push(urls[i])\n      }\n    }    if (((window['Notyf'] !== undefined) && (!(window['Notyf'] instanceof HTMLElement))) || window.requirejs) {\n      var urls = ['https://cdn.holoviz.org/panel/0.14.4/dist/bundled/notificationarea/notyf@3/notyf.min.js'];\n      for (var i = 0; i < urls.length; i++) {\n        skip.push(urls[i])\n      }\n    }    for (var i = 0; i < js_urls.length; i++) {\n      var url = js_urls[i];\n      if (skip.indexOf(url) >= 0) {\n\tif (!window.requirejs) {\n\t  on_load();\n\t}\n\tcontinue;\n      }\n      var element = document.createElement('script');\n      element.onload = on_load;\n      element.onerror = on_error;\n      element.async = false;\n      element.src = url;\n      console.debug(\"Bokeh: injecting script tag for BokehJS library: \", url);\n      document.head.appendChild(element);\n    }\n    for (var i = 0; i < js_modules.length; i++) {\n      var url = js_modules[i];\n      if (skip.indexOf(url) >= 0) {\n\tif (!window.requirejs) {\n\t  on_load();\n\t}\n\tcontinue;\n      }\n      var element = document.createElement('script');\n      element.onload = on_load;\n      element.onerror = on_error;\n      element.async = false;\n      element.src = url;\n      element.type = \"module\";\n      console.debug(\"Bokeh: injecting script tag for BokehJS library: \", url);\n      document.head.appendChild(element);\n    }\n    if (!js_urls.length && !js_modules.length) {\n      on_load()\n    }\n  };\n\n  function inject_raw_css(css) {\n    const element = document.createElement(\"style\");\n    element.appendChild(document.createTextNode(css));\n    document.body.appendChild(element);\n  }\n\n  var js_urls = [\"https://cdnjs.cloudflare.com/ajax/libs/ace/1.4.11/ace.js\", \"https://cdnjs.cloudflare.com/ajax/libs/ace/1.4.11/ext-language_tools.js\", \"https://cdnjs.cloudflare.com/ajax/libs/ace/1.4.11/ext-modelist.js\", \"https://cdn.bokeh.org/bokeh/release/bokeh-2.4.3.min.js\", \"https://cdn.bokeh.org/bokeh/release/bokeh-gl-2.4.3.min.js\", \"https://cdn.bokeh.org/bokeh/release/bokeh-widgets-2.4.3.min.js\", \"https://cdn.bokeh.org/bokeh/release/bokeh-tables-2.4.3.min.js\", \"https://cdn.bokeh.org/bokeh/release/bokeh-mathjax-2.4.3.min.js\", \"https://unpkg.com/@holoviz/panel@0.14.4/dist/panel.min.js\"];\n  var js_modules = [];\n  var css_urls = [\"https://cdn.holoviz.org/panel/0.14.4/dist/css/card.css\", \"https://cdn.holoviz.org/panel/0.14.4/dist/css/json.css\", \"https://cdn.holoviz.org/panel/0.14.4/dist/css/markdown.css\", \"https://cdn.holoviz.org/panel/0.14.4/dist/css/debugger.css\", \"https://cdn.holoviz.org/panel/0.14.4/dist/css/dataframe.css\", \"https://cdn.holoviz.org/panel/0.14.4/dist/css/widgets.css\", \"https://cdn.holoviz.org/panel/0.14.4/dist/css/alerts.css\", \"https://cdn.holoviz.org/panel/0.14.4/dist/css/loading.css\"];\n  var inline_js = [    function(Bokeh) {\n      inject_raw_css(\"/*\\n ~ CML // Creative Machine Learning ~\\n mml.css : CSS styling information for Panel and Bokeh\\n \\n This file defines the main CSS styling information for the CML course\\n \\n Author               :  Philippe Esling\\n                        <esling@ircam.fr>\\n*/\\n\\nbody {\\n  display: flex;\\n  height: 100vh;\\n  margin: 0px;\\n  overflow-x: hidden;\\n  overflow-y: hidden;\\n}\\n\\n.bk-root .bk, .bk-root .bk:before, .bk-root .bk:after {\\n  font-family: \\\"Josefin Sans\\\";\\n}\\n\\nimg {\\n  max-width: 100%;\\n}\\n\\n#container {\\n  padding:0px;\\n  height:100vh;\\n  width: 100vw;\\n  max-width: 100vw;\\n}\\n\\n#sidebar .mdc-list {\\n  padding-left: 5px;\\n  padding-right: 5px;\\n}\\n\\n.mdc-drawer-app-content {\\n  flex: auto;\\n  position: relative;\\n  overflow: hidden;\\n}\\n\\n.mdc-drawer {\\n  background: #FAFAFA; /* GRAY 50 */\\n}\\n\\n.mdc-drawer-app-content {\\n  margin-left: 0 !important;\\n}\\n\\n.title-bar {\\n  display: contents;\\n  justify-content: center;\\n  align-content: center;\\n  width: 100%;\\n}\\n\\n.mdc-top-app-bar .bk-menu {\\n  color: black\\n}\\n\\n.app-header {\\n  display: contents;\\n  padding-left: 10px;\\n  font-size: 1.25em;\\n}\\n\\nimg.app-logo {\\n  padding-right: 10px;\\n  font-size: 28px;\\n  height: 30px;\\n  max-width: inherit;\\n  padding-top: 12px;\\n  padding-bottom: 6px;\\n}\\n\\n#app-title {\\n  padding-right: 12px;\\n  padding-left: 12px;\\n}\\n\\n.title {\\n  font-family: \\\"Josefin Sans\\\";\\n  color: #fff;\\n  text-decoration: none;\\n  text-decoration-line: none;\\n  text-decoration-style: initial;\\n  text-decoration-color: initial;\\n  font-weight: 400;\\n  font-size: 2em;\\n  line-height: 2em;\\n  white-space: nowrap;\\n}\\n\\n.main-content {\\n  overflow-y: scroll;\\n  overflow-x: auto;\\n}\\n\\n#header {\\n  position: absolute;\\n  z-index: 7;\\n}\\n\\n#header-items {\\n  width: 100%;\\n  margin-left:15px;\\n}\\n\\n.pn-busy-container {\\n  align-items: center;\\n  justify-content: center;\\n  display: flex;\\n}\\n\\n.mdc-drawer__content {\\n  overflow-x: hidden;\\n}\\n.mdc-drawer__content, .main-content {\\n  padding: 12px;\\n}\\n\\n.main-content {\\n  height: calc(100vh - 88px);\\n  max-height: calc(100vh - 88px);\\n  padding-right: 32px;\\n}\\n\\nbutton.mdc-button.mdc-card-button {\\n  color: transparent;\\n  height: 50px;\\n}\\n\\np.bk.mdc-button {\\n  display: none;\\n}\\n\\ndiv.bk.mdc-card {\\n  border-radius: 0px\\n}\\n\\n.mdc-card .bk.card-header {\\n  display: flex;\\n}\\n\\n.bk.mdc-card-title {\\n  font-family: \\\"Josefin Sans\\\";\\n  font-weight: bold;\\n  align-items: center;\\n  display: flex !important;\\n  position: relative !important;\\n}\\n\\n.bk.mdc-card-title:nth-child(2) {\\n  margin-left: -1.4em;\\n}\\n\\n.pn-modal {\\n  overflow-y: scroll;\\n  width: 100%;\\n  display: none;\\n  position: absolute;\\n  top: 0;\\n  left: 0;\\n}\\n\\n.pn-modal-content {\\n  font-family: \\\"Josefin Sans\\\";\\n  background-color: #0e0e0e;\\n  margin: auto;\\n  margin-top: 25px;\\n  margin-bottom: 25px;\\n  padding: 15px 20px 20px 20px;\\n  border: 1px solid #888;\\n  width: 80% !important;\\n}\\n\\n.pn-modal-close {\\n  position: absolute;\\n  right: 25px;\\n  z-index: 100;\\n}\\n\\n.pn-modal-close:hover,\\n.pn-modal-close:focus {\\n  color: #000;\\n  text-decoration: none;\\n  cursor: pointer;\\n}\\n\\n.custom_button_bokeh button.bk.bk-btn.bk-btn-default {\\n    font-size:48pt;\\n    background-color: #05b7ff;\\n    border-color: #05b7ff;\\n}\");\n    },    function(Bokeh) {\n      inject_raw_css(\"\\n    .bk.pn-loading.arc:before {\\n      background-image: url(\\\"data:image/svg+xml;base64,PHN2ZyB4bWxucz0iaHR0cDovL3d3dy53My5vcmcvMjAwMC9zdmciIHN0eWxlPSJtYXJnaW46IGF1dG87IGJhY2tncm91bmQ6IG5vbmU7IGRpc3BsYXk6IGJsb2NrOyBzaGFwZS1yZW5kZXJpbmc6IGF1dG87IiB2aWV3Qm94PSIwIDAgMTAwIDEwMCIgcHJlc2VydmVBc3BlY3RSYXRpbz0ieE1pZFlNaWQiPiAgPGNpcmNsZSBjeD0iNTAiIGN5PSI1MCIgZmlsbD0ibm9uZSIgc3Ryb2tlPSIjYzNjM2MzIiBzdHJva2Utd2lkdGg9IjEwIiByPSIzNSIgc3Ryb2tlLWRhc2hhcnJheT0iMTY0LjkzMzYxNDMxMzQ2NDE1IDU2Ljk3Nzg3MTQzNzgyMTM4Ij4gICAgPGFuaW1hdGVUcmFuc2Zvcm0gYXR0cmlidXRlTmFtZT0idHJhbnNmb3JtIiB0eXBlPSJyb3RhdGUiIHJlcGVhdENvdW50PSJpbmRlZmluaXRlIiBkdXI9IjFzIiB2YWx1ZXM9IjAgNTAgNTA7MzYwIDUwIDUwIiBrZXlUaW1lcz0iMDsxIj48L2FuaW1hdGVUcmFuc2Zvcm0+ICA8L2NpcmNsZT48L3N2Zz4=\\\");\\n      background-size: auto calc(min(50%, 400px));\\n    }\\n    \");\n    },    function(Bokeh) {\n      Bokeh.set_log_level(\"info\");\n    },\nfunction(Bokeh) {} // ensure no trailing comma for IE\n  ];\n\n  function run_inline_js() {\n    if ((root.Bokeh !== undefined) || (force === true)) {\n      for (var i = 0; i < inline_js.length; i++) {\n        inline_js[i].call(root, root.Bokeh);\n      }} else if (Date.now() < root._bokeh_timeout) {\n      setTimeout(run_inline_js, 100);\n    } else if (!root._bokeh_failed_load) {\n      console.log(\"Bokeh: BokehJS failed to load within specified timeout.\");\n      root._bokeh_failed_load = true;\n    }\n  }\n\n  if (root._bokeh_is_loading === 0) {\n    console.debug(\"Bokeh: BokehJS loaded, going straight to plotting\");\n    run_inline_js();\n  } else {\n    load_libs(css_urls, js_urls, js_modules, function() {\n      console.debug(\"Bokeh: BokehJS plotting callback run at\", now());\n      run_inline_js();\n    });\n  }\n}(window));"
     },
     "metadata": {},
     "output_type": "display_data"
    },
    {
     "data": {
      "application/javascript": [
       "\n",
       "if ((window.PyViz === undefined) || (window.PyViz instanceof HTMLElement)) {\n",
       "  window.PyViz = {comms: {}, comm_status:{}, kernels:{}, receivers: {}, plot_index: []}\n",
       "}\n",
       "\n",
       "\n",
       "    function JupyterCommManager() {\n",
       "    }\n",
       "\n",
       "    JupyterCommManager.prototype.register_target = function(plot_id, comm_id, msg_handler) {\n",
       "      if (window.comm_manager || ((window.Jupyter !== undefined) && (Jupyter.notebook.kernel != null))) {\n",
       "        var comm_manager = window.comm_manager || Jupyter.notebook.kernel.comm_manager;\n",
       "        comm_manager.register_target(comm_id, function(comm) {\n",
       "          comm.on_msg(msg_handler);\n",
       "        });\n",
       "      } else if ((plot_id in window.PyViz.kernels) && (window.PyViz.kernels[plot_id])) {\n",
       "        window.PyViz.kernels[plot_id].registerCommTarget(comm_id, function(comm) {\n",
       "          comm.onMsg = msg_handler;\n",
       "        });\n",
       "      } else if (typeof google != 'undefined' && google.colab.kernel != null) {\n",
       "        google.colab.kernel.comms.registerTarget(comm_id, (comm) => {\n",
       "          var messages = comm.messages[Symbol.asyncIterator]();\n",
       "          function processIteratorResult(result) {\n",
       "            var message = result.value;\n",
       "            console.log(message)\n",
       "            var content = {data: message.data, comm_id};\n",
       "            var buffers = []\n",
       "            for (var buffer of message.buffers || []) {\n",
       "              buffers.push(new DataView(buffer))\n",
       "            }\n",
       "            var metadata = message.metadata || {};\n",
       "            var msg = {content, buffers, metadata}\n",
       "            msg_handler(msg);\n",
       "            return messages.next().then(processIteratorResult);\n",
       "          }\n",
       "          return messages.next().then(processIteratorResult);\n",
       "        })\n",
       "      }\n",
       "    }\n",
       "\n",
       "    JupyterCommManager.prototype.get_client_comm = function(plot_id, comm_id, msg_handler) {\n",
       "      if (comm_id in window.PyViz.comms) {\n",
       "        return window.PyViz.comms[comm_id];\n",
       "      } else if (window.comm_manager || ((window.Jupyter !== undefined) && (Jupyter.notebook.kernel != null))) {\n",
       "        var comm_manager = window.comm_manager || Jupyter.notebook.kernel.comm_manager;\n",
       "        var comm = comm_manager.new_comm(comm_id, {}, {}, {}, comm_id);\n",
       "        if (msg_handler) {\n",
       "          comm.on_msg(msg_handler);\n",
       "        }\n",
       "      } else if ((plot_id in window.PyViz.kernels) && (window.PyViz.kernels[plot_id])) {\n",
       "        var comm = window.PyViz.kernels[plot_id].connectToComm(comm_id);\n",
       "        comm.open();\n",
       "        if (msg_handler) {\n",
       "          comm.onMsg = msg_handler;\n",
       "        }\n",
       "      } else if (typeof google != 'undefined' && google.colab.kernel != null) {\n",
       "        var comm_promise = google.colab.kernel.comms.open(comm_id)\n",
       "        comm_promise.then((comm) => {\n",
       "          window.PyViz.comms[comm_id] = comm;\n",
       "          if (msg_handler) {\n",
       "            var messages = comm.messages[Symbol.asyncIterator]();\n",
       "            function processIteratorResult(result) {\n",
       "              var message = result.value;\n",
       "              var content = {data: message.data};\n",
       "              var metadata = message.metadata || {comm_id};\n",
       "              var msg = {content, metadata}\n",
       "              msg_handler(msg);\n",
       "              return messages.next().then(processIteratorResult);\n",
       "            }\n",
       "            return messages.next().then(processIteratorResult);\n",
       "          }\n",
       "        }) \n",
       "        var sendClosure = (data, metadata, buffers, disposeOnDone) => {\n",
       "          return comm_promise.then((comm) => {\n",
       "            comm.send(data, metadata, buffers, disposeOnDone);\n",
       "          });\n",
       "        };\n",
       "        var comm = {\n",
       "          send: sendClosure\n",
       "        };\n",
       "      }\n",
       "      window.PyViz.comms[comm_id] = comm;\n",
       "      return comm;\n",
       "    }\n",
       "    window.PyViz.comm_manager = new JupyterCommManager();\n",
       "    \n",
       "\n",
       "\n",
       "var JS_MIME_TYPE = 'application/javascript';\n",
       "var HTML_MIME_TYPE = 'text/html';\n",
       "var EXEC_MIME_TYPE = 'application/vnd.holoviews_exec.v0+json';\n",
       "var CLASS_NAME = 'output';\n",
       "\n",
       "/**\n",
       " * Render data to the DOM node\n",
       " */\n",
       "function render(props, node) {\n",
       "  var div = document.createElement(\"div\");\n",
       "  var script = document.createElement(\"script\");\n",
       "  node.appendChild(div);\n",
       "  node.appendChild(script);\n",
       "}\n",
       "\n",
       "/**\n",
       " * Handle when a new output is added\n",
       " */\n",
       "function handle_add_output(event, handle) {\n",
       "  var output_area = handle.output_area;\n",
       "  var output = handle.output;\n",
       "  if ((output.data == undefined) || (!output.data.hasOwnProperty(EXEC_MIME_TYPE))) {\n",
       "    return\n",
       "  }\n",
       "  var id = output.metadata[EXEC_MIME_TYPE][\"id\"];\n",
       "  var toinsert = output_area.element.find(\".\" + CLASS_NAME.split(' ')[0]);\n",
       "  if (id !== undefined) {\n",
       "    var nchildren = toinsert.length;\n",
       "    var html_node = toinsert[nchildren-1].children[0];\n",
       "    html_node.innerHTML = output.data[HTML_MIME_TYPE];\n",
       "    var scripts = [];\n",
       "    var nodelist = html_node.querySelectorAll(\"script\");\n",
       "    for (var i in nodelist) {\n",
       "      if (nodelist.hasOwnProperty(i)) {\n",
       "        scripts.push(nodelist[i])\n",
       "      }\n",
       "    }\n",
       "\n",
       "    scripts.forEach( function (oldScript) {\n",
       "      var newScript = document.createElement(\"script\");\n",
       "      var attrs = [];\n",
       "      var nodemap = oldScript.attributes;\n",
       "      for (var j in nodemap) {\n",
       "        if (nodemap.hasOwnProperty(j)) {\n",
       "          attrs.push(nodemap[j])\n",
       "        }\n",
       "      }\n",
       "      attrs.forEach(function(attr) { newScript.setAttribute(attr.name, attr.value) });\n",
       "      newScript.appendChild(document.createTextNode(oldScript.innerHTML));\n",
       "      oldScript.parentNode.replaceChild(newScript, oldScript);\n",
       "    });\n",
       "    if (JS_MIME_TYPE in output.data) {\n",
       "      toinsert[nchildren-1].children[1].textContent = output.data[JS_MIME_TYPE];\n",
       "    }\n",
       "    output_area._hv_plot_id = id;\n",
       "    if ((window.Bokeh !== undefined) && (id in Bokeh.index)) {\n",
       "      window.PyViz.plot_index[id] = Bokeh.index[id];\n",
       "    } else {\n",
       "      window.PyViz.plot_index[id] = null;\n",
       "    }\n",
       "  } else if (output.metadata[EXEC_MIME_TYPE][\"server_id\"] !== undefined) {\n",
       "    var bk_div = document.createElement(\"div\");\n",
       "    bk_div.innerHTML = output.data[HTML_MIME_TYPE];\n",
       "    var script_attrs = bk_div.children[0].attributes;\n",
       "    for (var i = 0; i < script_attrs.length; i++) {\n",
       "      toinsert[toinsert.length - 1].childNodes[1].setAttribute(script_attrs[i].name, script_attrs[i].value);\n",
       "    }\n",
       "    // store reference to server id on output_area\n",
       "    output_area._bokeh_server_id = output.metadata[EXEC_MIME_TYPE][\"server_id\"];\n",
       "  }\n",
       "}\n",
       "\n",
       "/**\n",
       " * Handle when an output is cleared or removed\n",
       " */\n",
       "function handle_clear_output(event, handle) {\n",
       "  var id = handle.cell.output_area._hv_plot_id;\n",
       "  var server_id = handle.cell.output_area._bokeh_server_id;\n",
       "  if (((id === undefined) || !(id in PyViz.plot_index)) && (server_id !== undefined)) { return; }\n",
       "  var comm = window.PyViz.comm_manager.get_client_comm(\"hv-extension-comm\", \"hv-extension-comm\", function () {});\n",
       "  if (server_id !== null) {\n",
       "    comm.send({event_type: 'server_delete', 'id': server_id});\n",
       "    return;\n",
       "  } else if (comm !== null) {\n",
       "    comm.send({event_type: 'delete', 'id': id});\n",
       "  }\n",
       "  delete PyViz.plot_index[id];\n",
       "  if ((window.Bokeh !== undefined) & (id in window.Bokeh.index)) {\n",
       "    var doc = window.Bokeh.index[id].model.document\n",
       "    doc.clear();\n",
       "    const i = window.Bokeh.documents.indexOf(doc);\n",
       "    if (i > -1) {\n",
       "      window.Bokeh.documents.splice(i, 1);\n",
       "    }\n",
       "  }\n",
       "}\n",
       "\n",
       "/**\n",
       " * Handle kernel restart event\n",
       " */\n",
       "function handle_kernel_cleanup(event, handle) {\n",
       "  delete PyViz.comms[\"hv-extension-comm\"];\n",
       "  window.PyViz.plot_index = {}\n",
       "}\n",
       "\n",
       "/**\n",
       " * Handle update_display_data messages\n",
       " */\n",
       "function handle_update_output(event, handle) {\n",
       "  handle_clear_output(event, {cell: {output_area: handle.output_area}})\n",
       "  handle_add_output(event, handle)\n",
       "}\n",
       "\n",
       "function register_renderer(events, OutputArea) {\n",
       "  function append_mime(data, metadata, element) {\n",
       "    // create a DOM node to render to\n",
       "    var toinsert = this.create_output_subarea(\n",
       "    metadata,\n",
       "    CLASS_NAME,\n",
       "    EXEC_MIME_TYPE\n",
       "    );\n",
       "    this.keyboard_manager.register_events(toinsert);\n",
       "    // Render to node\n",
       "    var props = {data: data, metadata: metadata[EXEC_MIME_TYPE]};\n",
       "    render(props, toinsert[0]);\n",
       "    element.append(toinsert);\n",
       "    return toinsert\n",
       "  }\n",
       "\n",
       "  events.on('output_added.OutputArea', handle_add_output);\n",
       "  events.on('output_updated.OutputArea', handle_update_output);\n",
       "  events.on('clear_output.CodeCell', handle_clear_output);\n",
       "  events.on('delete.Cell', handle_clear_output);\n",
       "  events.on('kernel_ready.Kernel', handle_kernel_cleanup);\n",
       "\n",
       "  OutputArea.prototype.register_mime_type(EXEC_MIME_TYPE, append_mime, {\n",
       "    safe: true,\n",
       "    index: 0\n",
       "  });\n",
       "}\n",
       "\n",
       "if (window.Jupyter !== undefined) {\n",
       "  try {\n",
       "    var events = require('base/js/events');\n",
       "    var OutputArea = require('notebook/js/outputarea').OutputArea;\n",
       "    if (OutputArea.prototype.mime_types().indexOf(EXEC_MIME_TYPE) == -1) {\n",
       "      register_renderer(events, OutputArea);\n",
       "    }\n",
       "  } catch(err) {\n",
       "  }\n",
       "}\n"
      ],
      "application/vnd.holoviews_load.v0+json": "\nif ((window.PyViz === undefined) || (window.PyViz instanceof HTMLElement)) {\n  window.PyViz = {comms: {}, comm_status:{}, kernels:{}, receivers: {}, plot_index: []}\n}\n\n\n    function JupyterCommManager() {\n    }\n\n    JupyterCommManager.prototype.register_target = function(plot_id, comm_id, msg_handler) {\n      if (window.comm_manager || ((window.Jupyter !== undefined) && (Jupyter.notebook.kernel != null))) {\n        var comm_manager = window.comm_manager || Jupyter.notebook.kernel.comm_manager;\n        comm_manager.register_target(comm_id, function(comm) {\n          comm.on_msg(msg_handler);\n        });\n      } else if ((plot_id in window.PyViz.kernels) && (window.PyViz.kernels[plot_id])) {\n        window.PyViz.kernels[plot_id].registerCommTarget(comm_id, function(comm) {\n          comm.onMsg = msg_handler;\n        });\n      } else if (typeof google != 'undefined' && google.colab.kernel != null) {\n        google.colab.kernel.comms.registerTarget(comm_id, (comm) => {\n          var messages = comm.messages[Symbol.asyncIterator]();\n          function processIteratorResult(result) {\n            var message = result.value;\n            console.log(message)\n            var content = {data: message.data, comm_id};\n            var buffers = []\n            for (var buffer of message.buffers || []) {\n              buffers.push(new DataView(buffer))\n            }\n            var metadata = message.metadata || {};\n            var msg = {content, buffers, metadata}\n            msg_handler(msg);\n            return messages.next().then(processIteratorResult);\n          }\n          return messages.next().then(processIteratorResult);\n        })\n      }\n    }\n\n    JupyterCommManager.prototype.get_client_comm = function(plot_id, comm_id, msg_handler) {\n      if (comm_id in window.PyViz.comms) {\n        return window.PyViz.comms[comm_id];\n      } else if (window.comm_manager || ((window.Jupyter !== undefined) && (Jupyter.notebook.kernel != null))) {\n        var comm_manager = window.comm_manager || Jupyter.notebook.kernel.comm_manager;\n        var comm = comm_manager.new_comm(comm_id, {}, {}, {}, comm_id);\n        if (msg_handler) {\n          comm.on_msg(msg_handler);\n        }\n      } else if ((plot_id in window.PyViz.kernels) && (window.PyViz.kernels[plot_id])) {\n        var comm = window.PyViz.kernels[plot_id].connectToComm(comm_id);\n        comm.open();\n        if (msg_handler) {\n          comm.onMsg = msg_handler;\n        }\n      } else if (typeof google != 'undefined' && google.colab.kernel != null) {\n        var comm_promise = google.colab.kernel.comms.open(comm_id)\n        comm_promise.then((comm) => {\n          window.PyViz.comms[comm_id] = comm;\n          if (msg_handler) {\n            var messages = comm.messages[Symbol.asyncIterator]();\n            function processIteratorResult(result) {\n              var message = result.value;\n              var content = {data: message.data};\n              var metadata = message.metadata || {comm_id};\n              var msg = {content, metadata}\n              msg_handler(msg);\n              return messages.next().then(processIteratorResult);\n            }\n            return messages.next().then(processIteratorResult);\n          }\n        }) \n        var sendClosure = (data, metadata, buffers, disposeOnDone) => {\n          return comm_promise.then((comm) => {\n            comm.send(data, metadata, buffers, disposeOnDone);\n          });\n        };\n        var comm = {\n          send: sendClosure\n        };\n      }\n      window.PyViz.comms[comm_id] = comm;\n      return comm;\n    }\n    window.PyViz.comm_manager = new JupyterCommManager();\n    \n\n\nvar JS_MIME_TYPE = 'application/javascript';\nvar HTML_MIME_TYPE = 'text/html';\nvar EXEC_MIME_TYPE = 'application/vnd.holoviews_exec.v0+json';\nvar CLASS_NAME = 'output';\n\n/**\n * Render data to the DOM node\n */\nfunction render(props, node) {\n  var div = document.createElement(\"div\");\n  var script = document.createElement(\"script\");\n  node.appendChild(div);\n  node.appendChild(script);\n}\n\n/**\n * Handle when a new output is added\n */\nfunction handle_add_output(event, handle) {\n  var output_area = handle.output_area;\n  var output = handle.output;\n  if ((output.data == undefined) || (!output.data.hasOwnProperty(EXEC_MIME_TYPE))) {\n    return\n  }\n  var id = output.metadata[EXEC_MIME_TYPE][\"id\"];\n  var toinsert = output_area.element.find(\".\" + CLASS_NAME.split(' ')[0]);\n  if (id !== undefined) {\n    var nchildren = toinsert.length;\n    var html_node = toinsert[nchildren-1].children[0];\n    html_node.innerHTML = output.data[HTML_MIME_TYPE];\n    var scripts = [];\n    var nodelist = html_node.querySelectorAll(\"script\");\n    for (var i in nodelist) {\n      if (nodelist.hasOwnProperty(i)) {\n        scripts.push(nodelist[i])\n      }\n    }\n\n    scripts.forEach( function (oldScript) {\n      var newScript = document.createElement(\"script\");\n      var attrs = [];\n      var nodemap = oldScript.attributes;\n      for (var j in nodemap) {\n        if (nodemap.hasOwnProperty(j)) {\n          attrs.push(nodemap[j])\n        }\n      }\n      attrs.forEach(function(attr) { newScript.setAttribute(attr.name, attr.value) });\n      newScript.appendChild(document.createTextNode(oldScript.innerHTML));\n      oldScript.parentNode.replaceChild(newScript, oldScript);\n    });\n    if (JS_MIME_TYPE in output.data) {\n      toinsert[nchildren-1].children[1].textContent = output.data[JS_MIME_TYPE];\n    }\n    output_area._hv_plot_id = id;\n    if ((window.Bokeh !== undefined) && (id in Bokeh.index)) {\n      window.PyViz.plot_index[id] = Bokeh.index[id];\n    } else {\n      window.PyViz.plot_index[id] = null;\n    }\n  } else if (output.metadata[EXEC_MIME_TYPE][\"server_id\"] !== undefined) {\n    var bk_div = document.createElement(\"div\");\n    bk_div.innerHTML = output.data[HTML_MIME_TYPE];\n    var script_attrs = bk_div.children[0].attributes;\n    for (var i = 0; i < script_attrs.length; i++) {\n      toinsert[toinsert.length - 1].childNodes[1].setAttribute(script_attrs[i].name, script_attrs[i].value);\n    }\n    // store reference to server id on output_area\n    output_area._bokeh_server_id = output.metadata[EXEC_MIME_TYPE][\"server_id\"];\n  }\n}\n\n/**\n * Handle when an output is cleared or removed\n */\nfunction handle_clear_output(event, handle) {\n  var id = handle.cell.output_area._hv_plot_id;\n  var server_id = handle.cell.output_area._bokeh_server_id;\n  if (((id === undefined) || !(id in PyViz.plot_index)) && (server_id !== undefined)) { return; }\n  var comm = window.PyViz.comm_manager.get_client_comm(\"hv-extension-comm\", \"hv-extension-comm\", function () {});\n  if (server_id !== null) {\n    comm.send({event_type: 'server_delete', 'id': server_id});\n    return;\n  } else if (comm !== null) {\n    comm.send({event_type: 'delete', 'id': id});\n  }\n  delete PyViz.plot_index[id];\n  if ((window.Bokeh !== undefined) & (id in window.Bokeh.index)) {\n    var doc = window.Bokeh.index[id].model.document\n    doc.clear();\n    const i = window.Bokeh.documents.indexOf(doc);\n    if (i > -1) {\n      window.Bokeh.documents.splice(i, 1);\n    }\n  }\n}\n\n/**\n * Handle kernel restart event\n */\nfunction handle_kernel_cleanup(event, handle) {\n  delete PyViz.comms[\"hv-extension-comm\"];\n  window.PyViz.plot_index = {}\n}\n\n/**\n * Handle update_display_data messages\n */\nfunction handle_update_output(event, handle) {\n  handle_clear_output(event, {cell: {output_area: handle.output_area}})\n  handle_add_output(event, handle)\n}\n\nfunction register_renderer(events, OutputArea) {\n  function append_mime(data, metadata, element) {\n    // create a DOM node to render to\n    var toinsert = this.create_output_subarea(\n    metadata,\n    CLASS_NAME,\n    EXEC_MIME_TYPE\n    );\n    this.keyboard_manager.register_events(toinsert);\n    // Render to node\n    var props = {data: data, metadata: metadata[EXEC_MIME_TYPE]};\n    render(props, toinsert[0]);\n    element.append(toinsert);\n    return toinsert\n  }\n\n  events.on('output_added.OutputArea', handle_add_output);\n  events.on('output_updated.OutputArea', handle_update_output);\n  events.on('clear_output.CodeCell', handle_clear_output);\n  events.on('delete.Cell', handle_clear_output);\n  events.on('kernel_ready.Kernel', handle_kernel_cleanup);\n\n  OutputArea.prototype.register_mime_type(EXEC_MIME_TYPE, append_mime, {\n    safe: true,\n    index: 0\n  });\n}\n\nif (window.Jupyter !== undefined) {\n  try {\n    var events = require('base/js/events');\n    var OutputArea = require('notebook/js/outputarea').OutputArea;\n    if (OutputArea.prototype.mime_types().indexOf(EXEC_MIME_TYPE) == -1) {\n      register_renderer(events, OutputArea);\n    }\n  } catch(err) {\n  }\n}\n"
     },
     "metadata": {},
     "output_type": "display_data"
    },
    {
     "data": {
      "text/html": [
       "<style>.bk-root, .bk-root .bk:before, .bk-root .bk:after {\n",
       "  font-family: var(--jp-ui-font-size1);\n",
       "  font-size: var(--jp-ui-font-size1);\n",
       "  color: var(--jp-ui-font-color1);\n",
       "}\n",
       "</style>"
      ]
     },
     "metadata": {},
     "output_type": "display_data"
    }
   ],
   "source": [
    "# Base imports\n",
    "import time\n",
    "import numpy as np\n",
    "import matplotlib.pyplot as plt\n",
    "from cml.plot import initialize_bokeh\n",
    "from cml.panel import initialize_panel\n",
    "from jupyterthemes.stylefx import set_nb_theme\n",
    "from bokeh.io import show\n",
    "initialize_bokeh()\n",
    "initialize_panel()\n",
    "set_nb_theme(\"onedork\")\n",
    "rng = np.random.RandomState(1)"
   ]
  },
  {
   "cell_type": "markdown",
   "metadata": {},
   "source": [
    "As usual, to simplify your work, we provide sets of functions that allows fast problem definition and plotting functionnalities (from our `cml` library).\n",
    "\n",
    "  |**File**|*Explanation*|\n",
    "  |-------:|:---------|\n",
    "  |`scatter_boundary`|Plots the decision boundary of a single neuron with 2-dimensional inputs|\n",
    "  |`scatter_classes`|Plots (bi-dimensionnal) input patterns|"
   ]
  },
  {
   "cell_type": "code",
   "execution_count": 2,
   "metadata": {
    "tags": []
   },
   "outputs": [],
   "source": [
    "from cml.plot import scatter_classes, scatter_boundary, center_plot"
   ]
  },
  {
   "cell_type": "markdown",
   "metadata": {},
   "source": [
    "Remember that a single neuron is only able to learn _linearly separable_ problems. To produce such classes of problems, we provide a script that draw a set of random 2-dimensional points, then choose a random line in this space that will act as the linear frontier between 2 classes (hence defining a linear 2-class problem). The variables that will be used by your code are the following.  \n",
    "\n",
    "```Python\n",
    "y_class       # classes of the observqtions \n",
    "x_inputs      # 2 x n final matrix of random input observations\n",
    "weights       # 2 x 1 vector of neuron weights\n",
    "bias          # 1 x 1 vector of bias\n",
    "```\n",
    "\n",
    "You can execute the code below to see our simple classification problem. (Note that running the same cell multiple times produces a different starting dataset). In order to have a well-defined classification problem, we can rely on the `make_blobs` function provided by `scikit-learn` in the `sklearn.datasets` package."
   ]
  },
  {
   "cell_type": "code",
   "execution_count": 3,
   "metadata": {
    "tags": []
   },
   "outputs": [
    {
     "data": {},
     "metadata": {},
     "output_type": "display_data"
    },
    {
     "data": {
      "application/vnd.holoviews_exec.v0+json": "",
      "text/html": [
       "<div id='1055'>\n",
       "  <div class=\"bk-root\" id=\"daf2e216-7956-4f61-af32-ea1068737391\" data-root-id=\"1055\"></div>\n",
       "</div>\n",
       "<script type=\"application/javascript\">(function(root) {\n",
       "  function embed_document(root) {\n",
       "    var docs_json = {\"f66f031f-e5e2-45ff-8e74-04dcf3ef6463\":{\"defs\":[{\"extends\":null,\"module\":null,\"name\":\"ReactiveHTML1\",\"overrides\":[],\"properties\":[]},{\"extends\":null,\"module\":null,\"name\":\"FlexBox1\",\"overrides\":[],\"properties\":[{\"default\":\"flex-start\",\"kind\":null,\"name\":\"align_content\"},{\"default\":\"flex-start\",\"kind\":null,\"name\":\"align_items\"},{\"default\":\"row\",\"kind\":null,\"name\":\"flex_direction\"},{\"default\":\"wrap\",\"kind\":null,\"name\":\"flex_wrap\"},{\"default\":\"flex-start\",\"kind\":null,\"name\":\"justify_content\"}]},{\"extends\":null,\"module\":null,\"name\":\"GridStack1\",\"overrides\":[],\"properties\":[{\"default\":\"warn\",\"kind\":null,\"name\":\"mode\"},{\"default\":null,\"kind\":null,\"name\":\"ncols\"},{\"default\":null,\"kind\":null,\"name\":\"nrows\"},{\"default\":true,\"kind\":null,\"name\":\"allow_resize\"},{\"default\":true,\"kind\":null,\"name\":\"allow_drag\"},{\"default\":[],\"kind\":null,\"name\":\"state\"}]},{\"extends\":null,\"module\":null,\"name\":\"click1\",\"overrides\":[],\"properties\":[{\"default\":\"\",\"kind\":null,\"name\":\"terminal_output\"},{\"default\":\"\",\"kind\":null,\"name\":\"debug_name\"},{\"default\":0,\"kind\":null,\"name\":\"clears\"}]},{\"extends\":null,\"module\":null,\"name\":\"NotificationAreaBase1\",\"overrides\":[],\"properties\":[{\"default\":\"bottom-right\",\"kind\":null,\"name\":\"position\"},{\"default\":0,\"kind\":null,\"name\":\"_clear\"}]},{\"extends\":null,\"module\":null,\"name\":\"NotificationArea1\",\"overrides\":[],\"properties\":[{\"default\":[],\"kind\":null,\"name\":\"notifications\"},{\"default\":\"bottom-right\",\"kind\":null,\"name\":\"position\"},{\"default\":0,\"kind\":null,\"name\":\"_clear\"},{\"default\":[{\"background\":\"#ffc107\",\"icon\":{\"className\":\"fas fa-exclamation-triangle\",\"color\":\"white\",\"tagName\":\"i\"},\"type\":\"warning\"},{\"background\":\"#007bff\",\"icon\":{\"className\":\"fas fa-info-circle\",\"color\":\"white\",\"tagName\":\"i\"},\"type\":\"info\"}],\"kind\":null,\"name\":\"types\"}]},{\"extends\":null,\"module\":null,\"name\":\"Notification\",\"overrides\":[],\"properties\":[{\"default\":null,\"kind\":null,\"name\":\"background\"},{\"default\":3000,\"kind\":null,\"name\":\"duration\"},{\"default\":null,\"kind\":null,\"name\":\"icon\"},{\"default\":\"\",\"kind\":null,\"name\":\"message\"},{\"default\":null,\"kind\":null,\"name\":\"notification_type\"},{\"default\":false,\"kind\":null,\"name\":\"_destroyed\"}]},{\"extends\":null,\"module\":null,\"name\":\"TemplateActions1\",\"overrides\":[],\"properties\":[{\"default\":0,\"kind\":null,\"name\":\"open_modal\"},{\"default\":0,\"kind\":null,\"name\":\"close_modal\"}]},{\"extends\":null,\"module\":null,\"name\":\"MaterialTemplateActions1\",\"overrides\":[],\"properties\":[{\"default\":0,\"kind\":null,\"name\":\"open_modal\"},{\"default\":0,\"kind\":null,\"name\":\"close_modal\"}]}],\"roots\":{\"references\":[{\"attributes\":{\"fill_alpha\":{\"value\":0.2},\"fill_color\":{\"field\":\"color\"},\"hatch_alpha\":{\"value\":0.2},\"hatch_color\":{\"field\":\"color\"},\"line_alpha\":{\"value\":0.2},\"line_color\":{\"value\":\"white\"},\"size\":{\"value\":10},\"x\":{\"field\":\"x\"},\"y\":{\"field\":\"y\"}},\"id\":\"1040\",\"type\":\"Circle\"},{\"attributes\":{\"axis_label\":\"x\",\"axis_label_standoff\":10,\"axis_label_text_color\":\"#FFFFFF\",\"axis_label_text_font\":\"Josefin Sans\",\"axis_label_text_font_size\":\"1.9em\",\"axis_label_text_font_style\":\"bold\",\"axis_line_alpha\":0.4,\"axis_line_color\":\"#E0E0E0\",\"coordinates\":null,\"formatter\":{\"id\":\"1048\"},\"group\":null,\"major_label_policy\":{\"id\":\"1049\"},\"major_label_text_color\":\"#E0E0E0\",\"major_label_text_font\":\"Josefin Sans\",\"major_label_text_font_size\":\"1.15em\",\"major_tick_line_alpha\":0.4,\"major_tick_line_color\":\"#E0E0E0\",\"minor_tick_line_alpha\":0.4,\"minor_tick_line_color\":\"#E0E0E0\",\"ticker\":{\"id\":\"1015\"}},\"id\":\"1014\",\"type\":\"LinearAxis\"},{\"attributes\":{\"source\":{\"id\":\"1036\"}},\"id\":\"1042\",\"type\":\"CDSView\"},{\"attributes\":{\"background_fill_alpha\":0.2,\"background_fill_color\":\"darkgrey\",\"border_line_alpha\":0.8,\"border_line_color\":\"grey\",\"border_line_width\":3,\"coordinates\":null,\"group\":null,\"items\":[{\"id\":\"1054\"}],\"label_text_color\":\"white\"},\"id\":\"1053\",\"type\":\"Legend\"},{\"attributes\":{},\"id\":\"1022\",\"type\":\"PanTool\"},{\"attributes\":{\"axis\":{\"id\":\"1018\"},\"coordinates\":null,\"dimension\":1,\"grid_line_alpha\":0.15,\"grid_line_color\":\"#E0E0E0\",\"group\":null,\"ticker\":null},\"id\":\"1021\",\"type\":\"Grid\"},{\"attributes\":{},\"id\":\"1019\",\"type\":\"BasicTicker\"},{\"attributes\":{},\"id\":\"1027\",\"type\":\"HelpTool\"},{\"attributes\":{},\"id\":\"1045\",\"type\":\"BasicTickFormatter\"},{\"attributes\":{\"data\":{\"color\":[\"midnightblue\",\"midnightblue\",\"firebrick\",\"midnightblue\",\"midnightblue\",\"firebrick\",\"midnightblue\",\"midnightblue\",\"firebrick\",\"midnightblue\",\"midnightblue\",\"firebrick\",\"midnightblue\",\"midnightblue\",\"firebrick\",\"midnightblue\",\"midnightblue\",\"midnightblue\",\"firebrick\",\"firebrick\",\"firebrick\",\"midnightblue\",\"firebrick\",\"firebrick\",\"midnightblue\",\"midnightblue\",\"firebrick\",\"firebrick\",\"midnightblue\",\"firebrick\",\"midnightblue\",\"firebrick\",\"midnightblue\",\"firebrick\",\"midnightblue\",\"firebrick\",\"midnightblue\",\"midnightblue\",\"midnightblue\",\"midnightblue\",\"midnightblue\",\"firebrick\",\"firebrick\",\"firebrick\",\"firebrick\",\"midnightblue\",\"firebrick\",\"firebrick\",\"midnightblue\",\"midnightblue\",\"midnightblue\",\"firebrick\",\"firebrick\",\"firebrick\",\"firebrick\",\"midnightblue\",\"firebrick\",\"midnightblue\",\"firebrick\",\"midnightblue\",\"firebrick\",\"midnightblue\",\"firebrick\",\"midnightblue\",\"firebrick\",\"firebrick\",\"firebrick\",\"firebrick\",\"midnightblue\",\"firebrick\",\"midnightblue\",\"midnightblue\",\"firebrick\",\"firebrick\",\"midnightblue\",\"midnightblue\",\"firebrick\",\"midnightblue\",\"firebrick\",\"midnightblue\",\"firebrick\",\"firebrick\",\"firebrick\",\"midnightblue\",\"midnightblue\",\"firebrick\",\"firebrick\",\"firebrick\",\"firebrick\",\"firebrick\",\"midnightblue\",\"firebrick\",\"firebrick\",\"firebrick\",\"firebrick\",\"firebrick\",\"firebrick\",\"firebrick\",\"midnightblue\",\"midnightblue\",\"firebrick\",\"midnightblue\",\"firebrick\",\"firebrick\",\"midnightblue\",\"midnightblue\",\"firebrick\",\"firebrick\",\"firebrick\",\"firebrick\",\"midnightblue\",\"firebrick\",\"midnightblue\",\"midnightblue\",\"midnightblue\",\"firebrick\",\"firebrick\",\"midnightblue\",\"midnightblue\",\"firebrick\",\"midnightblue\",\"firebrick\",\"midnightblue\",\"firebrick\",\"midnightblue\",\"firebrick\",\"midnightblue\",\"firebrick\",\"firebrick\",\"firebrick\",\"midnightblue\",\"midnightblue\",\"midnightblue\",\"midnightblue\",\"midnightblue\",\"midnightblue\",\"firebrick\",\"midnightblue\",\"midnightblue\",\"firebrick\",\"midnightblue\",\"midnightblue\",\"firebrick\",\"firebrick\",\"midnightblue\",\"midnightblue\",\"firebrick\",\"midnightblue\",\"midnightblue\",\"midnightblue\",\"midnightblue\",\"midnightblue\",\"midnightblue\",\"firebrick\",\"midnightblue\",\"firebrick\",\"firebrick\",\"firebrick\",\"midnightblue\",\"firebrick\",\"firebrick\",\"midnightblue\",\"midnightblue\",\"firebrick\",\"midnightblue\",\"midnightblue\",\"midnightblue\",\"firebrick\",\"firebrick\",\"midnightblue\",\"firebrick\",\"midnightblue\",\"firebrick\",\"midnightblue\",\"firebrick\",\"firebrick\",\"firebrick\",\"midnightblue\",\"midnightblue\",\"midnightblue\",\"midnightblue\",\"firebrick\",\"firebrick\",\"firebrick\",\"midnightblue\",\"firebrick\",\"midnightblue\",\"midnightblue\",\"midnightblue\",\"firebrick\",\"midnightblue\",\"midnightblue\",\"firebrick\",\"firebrick\",\"midnightblue\",\"firebrick\",\"midnightblue\",\"firebrick\",\"midnightblue\",\"firebrick\"],\"label\":[\"class 1\",\"class 1\",\"class 2\",\"class 1\",\"class 1\",\"class 2\",\"class 1\",\"class 1\",\"class 2\",\"class 1\",\"class 1\",\"class 2\",\"class 1\",\"class 1\",\"class 2\",\"class 1\",\"class 1\",\"class 1\",\"class 2\",\"class 2\",\"class 2\",\"class 1\",\"class 2\",\"class 2\",\"class 1\",\"class 1\",\"class 2\",\"class 2\",\"class 1\",\"class 2\",\"class 1\",\"class 2\",\"class 1\",\"class 2\",\"class 1\",\"class 2\",\"class 1\",\"class 1\",\"class 1\",\"class 1\",\"class 1\",\"class 2\",\"class 2\",\"class 2\",\"class 2\",\"class 1\",\"class 2\",\"class 2\",\"class 1\",\"class 1\",\"class 1\",\"class 2\",\"class 2\",\"class 2\",\"class 2\",\"class 1\",\"class 2\",\"class 1\",\"class 2\",\"class 1\",\"class 2\",\"class 1\",\"class 2\",\"class 1\",\"class 2\",\"class 2\",\"class 2\",\"class 2\",\"class 1\",\"class 2\",\"class 1\",\"class 1\",\"class 2\",\"class 2\",\"class 1\",\"class 1\",\"class 2\",\"class 1\",\"class 2\",\"class 1\",\"class 2\",\"class 2\",\"class 2\",\"class 1\",\"class 1\",\"class 2\",\"class 2\",\"class 2\",\"class 2\",\"class 2\",\"class 1\",\"class 2\",\"class 2\",\"class 2\",\"class 2\",\"class 2\",\"class 2\",\"class 2\",\"class 1\",\"class 1\",\"class 2\",\"class 1\",\"class 2\",\"class 2\",\"class 1\",\"class 1\",\"class 2\",\"class 2\",\"class 2\",\"class 2\",\"class 1\",\"class 2\",\"class 1\",\"class 1\",\"class 1\",\"class 2\",\"class 2\",\"class 1\",\"class 1\",\"class 2\",\"class 1\",\"class 2\",\"class 1\",\"class 2\",\"class 1\",\"class 2\",\"class 1\",\"class 2\",\"class 2\",\"class 2\",\"class 1\",\"class 1\",\"class 1\",\"class 1\",\"class 1\",\"class 1\",\"class 2\",\"class 1\",\"class 1\",\"class 2\",\"class 1\",\"class 1\",\"class 2\",\"class 2\",\"class 1\",\"class 1\",\"class 2\",\"class 1\",\"class 1\",\"class 1\",\"class 1\",\"class 1\",\"class 1\",\"class 2\",\"class 1\",\"class 2\",\"class 2\",\"class 2\",\"class 1\",\"class 2\",\"class 2\",\"class 1\",\"class 1\",\"class 2\",\"class 1\",\"class 1\",\"class 1\",\"class 2\",\"class 2\",\"class 1\",\"class 2\",\"class 1\",\"class 2\",\"class 1\",\"class 2\",\"class 2\",\"class 2\",\"class 1\",\"class 1\",\"class 1\",\"class 1\",\"class 2\",\"class 2\",\"class 2\",\"class 1\",\"class 2\",\"class 1\",\"class 1\",\"class 1\",\"class 2\",\"class 1\",\"class 1\",\"class 2\",\"class 2\",\"class 1\",\"class 2\",\"class 1\",\"class 2\",\"class 1\",\"class 2\"],\"x\":{\"__ndarray__\":\"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\",\"dtype\":\"float64\",\"order\":\"little\",\"shape\":[200]},\"y\":{\"__ndarray__\":\"7Z0Zl4ZE/r/y27NXCMa+v2DUoTJJCKQ/rIoderXo4r++YXg58ZjOv0RMMYiwvP8/ijuBKE6B8b84ng0i6DSYvwIyYUaCNdc/A11W1cCq+r9o3YrppC0AwCkOxFgs+vQ/GHjsrrIa5L8KXuSHDXn3v/CJb+gL3fg/Ld0iZ0+U479fee63fNL0v0YZ6N5v4ua/8287MigD7D8/uAS/aAn0P+bwjPzihMY/9jXEaj9O+L/oY272TaDeP/eJ7J++EOs/xFBNsuOz9r8u9plldK71v517edrF9/Q/aWCShMjb9j+kWidA17z1v+yX2BrjTwBA+lS5zIwZ8L9fFpUxscbiPz6HcQhf2fC/ausT5VbbAECoWhMj8N3xv+J1A7jmA+8/qviIsKhK8r8pp5fD1CP9v/y46AfHmuS/ml7tOVJR9L8xo9ZM4cT6v1+nEwD4G8A/RNwOS+4B/j/rj/aF0QEHQAiPri0RgOY/JpN4Ast5+b9kVy5aTYzqP/rud20VfPY/Zd7mDIEr9r/6V8X31LD1v+6M19KJC9C/4n1yvPMj7T8xN48S6n72Pxr6bIo7//A/YgxnyKY39j8vNZY2zvb0v4ScNJNjKvA/GOc0wbHK27/IuwhzQonvP/5Jr58Xiea/LAdKGgm68D9zA1my9gP1v/4CMBtnQ+o/RPIuIIt1qT9Av0QPmofGPxni5Em+9vw/7mqNRCIL7D/KCk8QLg/9PwKx+neoJfC/q6994vxwAUAtxs3QjC75v7oLlsELffS/bleZj1kdvr+KVIv1vbfvP3z3d4k/Yve/0rKJOsoE+b8SKRiOKBLvP2hxAhbDDO+/zhTtuH6d7z/gKt4P+Dv7v1yVcZLicfc/IjWRl1f78D8sKErhhBvAP2DkfPFK4Ki/bA3W9BIXz7+ydCqFwQXSPyRQ8mfk9eA/+DVEMDZp8T+HD5kMLKP2P4B2+61n1/o/FjnW3itB5L9ChhsMUwLtP5DcpVYRlABAIBjE/LW4/D/9+vIyNTf1P3q/+8+NkfU/QEN9JV7g9j8Kx/HOm9zcP9Lco1NM4vy/mDJx3vl79b+HbyRFd+75PwyBnU8qVPi//veDe6RQvz++xAb4bIrqP0I63j7ovvG/wf9kt3/O6b+NOihmEfPaP0ShUAd4L/w/vAcjGE3V8D/fY01MLKnkP8D4/5QAAdW/Ep+VB0rF0b9vFXAZ9W3ovw5SN8lur+G/Oc8jlI4I2L+0RW0gXTL8P3CMMeysRtk/4BONC3P5y7+3UOPpJ73xv09AXc3eUvU/Fv63oJsOAMD93oAXOELLP/YPScG48eS/FlUJHmvE/z9TBA2pV7z2v70lT8GLgvg/0AIMaFT09b8cIDKMIDfiP2rsgnXjubQ/ZY5MEdXU8z8DjgWLoZuqPwAuZ6EMLFq/I5IkVleF9r9XxQBmul0BwMflWkbaFe6//SohOkrOAcBenkbSxaboPwwLHKbJ5um/VpdbTWaovT+EOepNp4bXP6rQBcJW/OK/deIahPq/97+V5HVGIUnrP4Yc6D2TxeQ/Oz8D+VRPAcBbYdN3jcrnv/pmvZB2A+Q/dZ//dy3D7r/kqJ2AY4fqvx1OSLPeg/m/Ojbpsmn92r+vB/dVTjbxv+UA0DQBL+i/c/HSzjZJAEAqXkD+CWzhv58IqITZYPs/RqE+ZfXrrb9IrpU2y2ztP+6LCyHU1Py/8xUrIzvN8z80KcbxlRDLP3nrn5LyGvK/4kv8PUCa+L8QFokT7Aj5P8mmvRp8J/W/nj3Rc4t78L+r+Eiww8/2v1/yAX1z5/A/YpCgIEzw0D/AAAbDj93Qv2Xz7zgXZfo/5tRMicdnuD+jUMiwXBzuPxSpGC7On9+/IapWvxzx2D+lTlwh4Gf6PwWF3jTAp/E/GDdRDvMB9L/SfpfvnwT0vxF+tyzQ7uO/jvrKLmFI/7/alOKBO6/hP6L/hup3ju8/6Rktp1HM8z/k0IhIv3/5v9odqfFcqPk/zF2Ey6Ey0L9Ew/ZUwE/lv269xc+Ol/2/HrAmT+fm9z+aC9kJEHTwv3gEPsPZvgHApvrDxAW69j9xb1iwvrjbP1Yy5b7lm+q/4S+xiuL+7T/A4h7rO3P6v4/TVoHzM/Y/5UhS7xH877/hmCvKS8jbvw==\",\"dtype\":\"float64\",\"order\":\"little\",\"shape\":[200]}},\"selected\":{\"id\":\"1051\"},\"selection_policy\":{\"id\":\"1050\"}},\"id\":\"1036\",\"type\":\"ColumnDataSource\"},{\"attributes\":{},\"id\":\"1023\",\"type\":\"WheelZoomTool\"},{\"attributes\":{},\"id\":\"1051\",\"type\":\"Selection\"},{\"attributes\":{\"overlay\":{\"id\":\"1028\"}},\"id\":\"1024\",\"type\":\"BoxZoomTool\"},{\"attributes\":{},\"id\":\"1046\",\"type\":\"AllLabels\"},{\"attributes\":{},\"id\":\"1025\",\"type\":\"SaveTool\"},{\"attributes\":{},\"id\":\"1026\",\"type\":\"ResetTool\"},{\"attributes\":{},\"id\":\"1048\",\"type\":\"BasicTickFormatter\"},{\"attributes\":{\"bottom_units\":\"screen\",\"coordinates\":null,\"fill_alpha\":0.5,\"fill_color\":\"lightgrey\",\"group\":null,\"left_units\":\"screen\",\"level\":\"overlay\",\"line_alpha\":1.0,\"line_color\":\"black\",\"line_dash\":[4,4],\"line_width\":2,\"right_units\":\"screen\",\"syncable\":false,\"top_units\":\"screen\"},\"id\":\"1028\",\"type\":\"BoxAnnotation\"},{\"attributes\":{},\"id\":\"1050\",\"type\":\"UnionRenderers\"},{\"attributes\":{\"label\":{\"field\":\"label\"},\"renderers\":[{\"id\":\"1041\"}]},\"id\":\"1054\",\"type\":\"LegendItem\"},{\"attributes\":{\"coordinates\":null,\"data_source\":{\"id\":\"1036\"},\"glyph\":{\"id\":\"1038\"},\"group\":null,\"hover_glyph\":null,\"muted_glyph\":{\"id\":\"1040\"},\"nonselection_glyph\":{\"id\":\"1039\"},\"view\":{\"id\":\"1042\"}},\"id\":\"1041\",\"type\":\"GlyphRenderer\"},{\"attributes\":{\"tools\":[{\"id\":\"1022\"},{\"id\":\"1023\"},{\"id\":\"1024\"},{\"id\":\"1025\"},{\"id\":\"1026\"},{\"id\":\"1027\"}]},\"id\":\"1029\",\"type\":\"Toolbar\"},{\"attributes\":{\"reload\":false},\"id\":\"1139\",\"type\":\"panel.models.location.Location\"},{\"attributes\":{\"children\":[{\"id\":\"1056\"},{\"id\":\"1003\"},{\"id\":\"1077\"}],\"margin\":[0,0,0,0],\"name\":\"Row00105\"},\"id\":\"1055\",\"type\":\"Row\"},{\"attributes\":{\"fill_alpha\":{\"value\":0.1},\"fill_color\":{\"field\":\"color\"},\"hatch_alpha\":{\"value\":0.1},\"hatch_color\":{\"field\":\"color\"},\"line_alpha\":{\"value\":0.1},\"line_color\":{\"value\":\"white\"},\"size\":{\"value\":10},\"x\":{\"field\":\"x\"},\"y\":{\"field\":\"y\"}},\"id\":\"1039\",\"type\":\"Circle\"},{\"attributes\":{\"margin\":[5,5,5,5],\"name\":\"HSpacer00102\",\"sizing_mode\":\"stretch_width\"},\"id\":\"1077\",\"type\":\"Spacer\"},{\"attributes\":{\"background_fill_alpha\":0.9,\"background_fill_color\":\"#0f0f0f\",\"below\":[{\"id\":\"1014\"}],\"border_fill_alpha\":0.8,\"border_fill_color\":\"#111111\",\"center\":[{\"id\":\"1017\"},{\"id\":\"1021\"},{\"id\":\"1053\"}],\"height\":450,\"left\":[{\"id\":\"1018\"}],\"outline_line_alpha\":0.25,\"outline_line_color\":\"#E0E0E0\",\"outline_line_width\":3,\"renderers\":[{\"id\":\"1041\"}],\"right\":[{\"id\":\"1053\"}],\"title\":{\"id\":\"1004\"},\"toolbar\":{\"id\":\"1029\"},\"width\":700,\"x_range\":{\"id\":\"1006\"},\"x_scale\":{\"id\":\"1010\"},\"y_range\":{\"id\":\"1008\"},\"y_scale\":{\"id\":\"1012\"}},\"id\":\"1003\",\"subtype\":\"Figure\",\"type\":\"Plot\"},{\"attributes\":{},\"id\":\"1049\",\"type\":\"AllLabels\"},{\"attributes\":{\"margin\":[5,5,5,5],\"name\":\"HSpacer00101\",\"sizing_mode\":\"stretch_width\"},\"id\":\"1056\",\"type\":\"Spacer\"},{\"attributes\":{\"client_comm_id\":\"05e2289bc63c41f899898f63905ae675\",\"comm_id\":\"1f0d79bdfc17427095af5adb6f06ad43\",\"plot_id\":\"1055\"},\"id\":\"1108\",\"type\":\"panel.models.comm_manager.CommManager\"},{\"attributes\":{},\"id\":\"1008\",\"type\":\"DataRange1d\"},{\"attributes\":{},\"id\":\"1006\",\"type\":\"DataRange1d\"},{\"attributes\":{\"fill_alpha\":{\"value\":0.6},\"fill_color\":{\"field\":\"color\"},\"hatch_alpha\":{\"value\":0.6},\"hatch_color\":{\"field\":\"color\"},\"line_alpha\":{\"value\":0.6},\"line_color\":{\"value\":\"white\"},\"size\":{\"value\":10},\"x\":{\"field\":\"x\"},\"y\":{\"field\":\"y\"}},\"id\":\"1038\",\"type\":\"Circle\"},{\"attributes\":{\"axis_label\":\"y\",\"axis_label_standoff\":10,\"axis_label_text_color\":\"#FFFFFF\",\"axis_label_text_font\":\"Josefin Sans\",\"axis_label_text_font_size\":\"1.9em\",\"axis_label_text_font_style\":\"bold\",\"axis_line_alpha\":0.4,\"axis_line_color\":\"#E0E0E0\",\"coordinates\":null,\"formatter\":{\"id\":\"1045\"},\"group\":null,\"major_label_policy\":{\"id\":\"1046\"},\"major_label_text_color\":\"#E0E0E0\",\"major_label_text_font\":\"Josefin Sans\",\"major_label_text_font_size\":\"1.15em\",\"major_tick_line_alpha\":0.4,\"major_tick_line_color\":\"#E0E0E0\",\"minor_tick_line_alpha\":0.4,\"minor_tick_line_color\":\"#E0E0E0\",\"ticker\":{\"id\":\"1019\"}},\"id\":\"1018\",\"type\":\"LinearAxis\"},{\"attributes\":{\"coordinates\":null,\"group\":null,\"text\":\"Observations\",\"text_color\":\"#E0E0E0\",\"text_font\":\"Josefin Sans\",\"text_font_size\":\"2.1em\"},\"id\":\"1004\",\"type\":\"Title\"},{\"attributes\":{},\"id\":\"1015\",\"type\":\"BasicTicker\"},{\"attributes\":{},\"id\":\"1012\",\"type\":\"LinearScale\"},{\"attributes\":{\"axis\":{\"id\":\"1014\"},\"coordinates\":null,\"grid_line_alpha\":0.15,\"grid_line_color\":\"#E0E0E0\",\"group\":null,\"ticker\":null},\"id\":\"1017\",\"type\":\"Grid\"},{\"attributes\":{},\"id\":\"1010\",\"type\":\"LinearScale\"}],\"root_ids\":[\"1055\",\"1108\",\"1139\"]},\"title\":\"Bokeh Application\",\"version\":\"2.4.3\"}};\n",
       "    var render_items = [{\"docid\":\"f66f031f-e5e2-45ff-8e74-04dcf3ef6463\",\"root_ids\":[\"1055\"],\"roots\":{\"1055\":\"daf2e216-7956-4f61-af32-ea1068737391\"}}];\n",
       "    root.Bokeh.embed.embed_items_notebook(docs_json, render_items);\n",
       "    for (const render_item of render_items) {\n",
       "      for (const root_id of render_item.root_ids) {\n",
       "\tconst id_el = document.getElementById(root_id)\n",
       "\tif (id_el.children.length && (id_el.children[0].className === 'bk-root')) {\n",
       "\t  const root_el = id_el.children[0]\n",
       "\t  root_el.id = root_el.id + '-rendered'\n",
       "\t}\n",
       "      }\n",
       "    }\n",
       "  }\n",
       "  if (root.Bokeh !== undefined && root.Bokeh.Panel !== undefined) {\n",
       "    embed_document(root);\n",
       "  } else {\n",
       "    var attempts = 0;\n",
       "    var timer = setInterval(function(root) {\n",
       "      if (root.Bokeh !== undefined && root.Bokeh.Panel !== undefined) {\n",
       "        clearInterval(timer);\n",
       "        embed_document(root);\n",
       "      } else if (document.readyState == \"complete\") {\n",
       "        attempts++;\n",
       "        if (attempts > 200) {\n",
       "          clearInterval(timer);\n",
       "          console.log(\"Bokeh: ERROR: Unable to run BokehJS code because BokehJS library is missing\");\n",
       "        }\n",
       "      }\n",
       "    }, 25, root)\n",
       "  }\n",
       "})(window);</script>"
      ],
      "text/plain": [
       "Row\n",
       "    [0] HSpacer()\n",
       "    [1] Bokeh(Figure)\n",
       "    [2] HSpacer()"
      ]
     },
     "execution_count": 3,
     "metadata": {
      "application/vnd.holoviews_exec.v0+json": {
       "id": "1055"
      }
     },
     "output_type": "execute_result"
    }
   ],
   "source": [
    "import numpy as np\n",
    "from sklearn.datasets import make_blobs\n",
    "# Properties of the problem\n",
    "n_observations = 200\n",
    "noise = 0.2\n",
    "c1_center = [-2, -1]\n",
    "c2_center = [2, 1]\n",
    "# Create points\n",
    "x_coords, y_class = make_blobs(n_samples=n_observations, centers=[c1_center, c2_center], n_features=2, cluster_std=0.55)\n",
    "x_inputs = x_coords + (noise * np.random.randn(n_observations, 2))\n",
    "# Plot the corresponding pattern\n",
    "plot = center_plot(scatter_classes(x_inputs, y_class))\n",
    "plot"
   ]
  },
  {
   "cell_type": "markdown",
   "metadata": {},
   "source": [
    "The previous example does not allow us to know the exact values (slope and bias) of our ground truth separation line. Hence, we can define a more complex separation problem (with points laying almost right on the separation fronteer), but with known values for our ground truth."
   ]
  },
  {
   "cell_type": "code",
   "execution_count": 4,
   "metadata": {
    "tags": []
   },
   "outputs": [
    {
     "data": {
      "text/plain": [
       "\u001b[0;31mDocstring:\u001b[0m\n",
       "rand(d0, d1, ..., dn)\n",
       "\n",
       "Random values in a given shape.\n",
       "\n",
       ".. note::\n",
       "    This is a convenience function for users porting code from Matlab,\n",
       "    and wraps `random_sample`. That function takes a\n",
       "    tuple to specify the size of the output, which is consistent with\n",
       "    other NumPy functions like `numpy.zeros` and `numpy.ones`.\n",
       "\n",
       "Create an array of the given shape and populate it with\n",
       "random samples from a uniform distribution\n",
       "over ``[0, 1)``.\n",
       "\n",
       "Parameters\n",
       "----------\n",
       "d0, d1, ..., dn : int, optional\n",
       "    The dimensions of the returned array, must be non-negative.\n",
       "    If no argument is given a single Python float is returned.\n",
       "\n",
       "Returns\n",
       "-------\n",
       "out : ndarray, shape ``(d0, d1, ..., dn)``\n",
       "    Random values.\n",
       "\n",
       "See Also\n",
       "--------\n",
       "random\n",
       "\n",
       "Examples\n",
       "--------\n",
       ">>> np.random.rand(3,2)\n",
       "array([[ 0.14022471,  0.96360618],  #random\n",
       "       [ 0.37601032,  0.25528411],  #random\n",
       "       [ 0.49313049,  0.94909878]]) #random\n",
       "\u001b[0;31mType:\u001b[0m      builtin_function_or_method"
      ]
     },
     "metadata": {},
     "output_type": "display_data"
    }
   ],
   "source": [
    "?np.random.rand"
   ]
  },
  {
   "cell_type": "code",
   "execution_count": 5,
   "metadata": {
    "tags": []
   },
   "outputs": [
    {
     "name": "stdout",
     "output_type": "stream",
     "text": [
      "Slope: 1.5240775227431784\n",
      "Bias: -0.1274954366972625\n"
     ]
    },
    {
     "data": {},
     "metadata": {},
     "output_type": "display_data"
    },
    {
     "data": {
      "application/vnd.holoviews_exec.v0+json": "",
      "text/html": [
       "<div id='1222'>\n",
       "  <div class=\"bk-root\" id=\"050a8219-7018-4247-be80-a706a8875c68\" data-root-id=\"1222\"></div>\n",
       "</div>\n",
       "<script type=\"application/javascript\">(function(root) {\n",
       "  function embed_document(root) {\n",
       "    var docs_json = {\"f2c1a20f-226b-41e2-af80-75a4bd6abfdc\":{\"defs\":[{\"extends\":null,\"module\":null,\"name\":\"ReactiveHTML1\",\"overrides\":[],\"properties\":[]},{\"extends\":null,\"module\":null,\"name\":\"FlexBox1\",\"overrides\":[],\"properties\":[{\"default\":\"flex-start\",\"kind\":null,\"name\":\"align_content\"},{\"default\":\"flex-start\",\"kind\":null,\"name\":\"align_items\"},{\"default\":\"row\",\"kind\":null,\"name\":\"flex_direction\"},{\"default\":\"wrap\",\"kind\":null,\"name\":\"flex_wrap\"},{\"default\":\"flex-start\",\"kind\":null,\"name\":\"justify_content\"}]},{\"extends\":null,\"module\":null,\"name\":\"GridStack1\",\"overrides\":[],\"properties\":[{\"default\":\"warn\",\"kind\":null,\"name\":\"mode\"},{\"default\":null,\"kind\":null,\"name\":\"ncols\"},{\"default\":null,\"kind\":null,\"name\":\"nrows\"},{\"default\":true,\"kind\":null,\"name\":\"allow_resize\"},{\"default\":true,\"kind\":null,\"name\":\"allow_drag\"},{\"default\":[],\"kind\":null,\"name\":\"state\"}]},{\"extends\":null,\"module\":null,\"name\":\"click1\",\"overrides\":[],\"properties\":[{\"default\":\"\",\"kind\":null,\"name\":\"terminal_output\"},{\"default\":\"\",\"kind\":null,\"name\":\"debug_name\"},{\"default\":0,\"kind\":null,\"name\":\"clears\"}]},{\"extends\":null,\"module\":null,\"name\":\"NotificationAreaBase1\",\"overrides\":[],\"properties\":[{\"default\":\"bottom-right\",\"kind\":null,\"name\":\"position\"},{\"default\":0,\"kind\":null,\"name\":\"_clear\"}]},{\"extends\":null,\"module\":null,\"name\":\"NotificationArea1\",\"overrides\":[],\"properties\":[{\"default\":[],\"kind\":null,\"name\":\"notifications\"},{\"default\":\"bottom-right\",\"kind\":null,\"name\":\"position\"},{\"default\":0,\"kind\":null,\"name\":\"_clear\"},{\"default\":[{\"background\":\"#ffc107\",\"icon\":{\"className\":\"fas fa-exclamation-triangle\",\"color\":\"white\",\"tagName\":\"i\"},\"type\":\"warning\"},{\"background\":\"#007bff\",\"icon\":{\"className\":\"fas fa-info-circle\",\"color\":\"white\",\"tagName\":\"i\"},\"type\":\"info\"}],\"kind\":null,\"name\":\"types\"}]},{\"extends\":null,\"module\":null,\"name\":\"Notification\",\"overrides\":[],\"properties\":[{\"default\":null,\"kind\":null,\"name\":\"background\"},{\"default\":3000,\"kind\":null,\"name\":\"duration\"},{\"default\":null,\"kind\":null,\"name\":\"icon\"},{\"default\":\"\",\"kind\":null,\"name\":\"message\"},{\"default\":null,\"kind\":null,\"name\":\"notification_type\"},{\"default\":false,\"kind\":null,\"name\":\"_destroyed\"}]},{\"extends\":null,\"module\":null,\"name\":\"TemplateActions1\",\"overrides\":[],\"properties\":[{\"default\":0,\"kind\":null,\"name\":\"open_modal\"},{\"default\":0,\"kind\":null,\"name\":\"close_modal\"}]},{\"extends\":null,\"module\":null,\"name\":\"MaterialTemplateActions1\",\"overrides\":[],\"properties\":[{\"default\":0,\"kind\":null,\"name\":\"open_modal\"},{\"default\":0,\"kind\":null,\"name\":\"close_modal\"}]}],\"roots\":{\"references\":[{\"attributes\":{},\"id\":\"1215\",\"type\":\"BasicTickFormatter\"},{\"attributes\":{},\"id\":\"1177\",\"type\":\"LinearScale\"},{\"attributes\":{\"children\":[{\"id\":\"1223\"},{\"id\":\"1170\"},{\"id\":\"1244\"}],\"margin\":[0,0,0,0],\"name\":\"Row00113\"},\"id\":\"1222\",\"type\":\"Row\"},{\"attributes\":{\"margin\":[5,5,5,5],\"name\":\"HSpacer00110\",\"sizing_mode\":\"stretch_width\"},\"id\":\"1244\",\"type\":\"Spacer\"},{\"attributes\":{\"axis\":{\"id\":\"1181\"},\"coordinates\":null,\"grid_line_alpha\":0.15,\"grid_line_color\":\"#E0E0E0\",\"group\":null,\"ticker\":null},\"id\":\"1184\",\"type\":\"Grid\"},{\"attributes\":{},\"id\":\"1216\",\"type\":\"AllLabels\"},{\"attributes\":{\"margin\":[5,5,5,5],\"name\":\"HSpacer00109\",\"sizing_mode\":\"stretch_width\"},\"id\":\"1223\",\"type\":\"Spacer\"},{\"attributes\":{},\"id\":\"1212\",\"type\":\"BasicTickFormatter\"},{\"attributes\":{\"axis_label\":\"x\",\"axis_label_standoff\":10,\"axis_label_text_color\":\"#FFFFFF\",\"axis_label_text_font\":\"Josefin Sans\",\"axis_label_text_font_size\":\"1.9em\",\"axis_label_text_font_style\":\"bold\",\"axis_line_alpha\":0.4,\"axis_line_color\":\"#E0E0E0\",\"coordinates\":null,\"formatter\":{\"id\":\"1215\"},\"group\":null,\"major_label_policy\":{\"id\":\"1216\"},\"major_label_text_color\":\"#E0E0E0\",\"major_label_text_font\":\"Josefin Sans\",\"major_label_text_font_size\":\"1.15em\",\"major_tick_line_alpha\":0.4,\"major_tick_line_color\":\"#E0E0E0\",\"minor_tick_line_alpha\":0.4,\"minor_tick_line_color\":\"#E0E0E0\",\"ticker\":{\"id\":\"1182\"}},\"id\":\"1181\",\"type\":\"LinearAxis\"},{\"attributes\":{},\"id\":\"1179\",\"type\":\"LinearScale\"},{\"attributes\":{},\"id\":\"1182\",\"type\":\"BasicTicker\"},{\"attributes\":{},\"id\":\"1213\",\"type\":\"AllLabels\"},{\"attributes\":{\"coordinates\":null,\"group\":null,\"text\":\"Observations\",\"text_color\":\"#E0E0E0\",\"text_font\":\"Josefin Sans\",\"text_font_size\":\"2.1em\"},\"id\":\"1171\",\"type\":\"Title\"},{\"attributes\":{\"axis_label\":\"y\",\"axis_label_standoff\":10,\"axis_label_text_color\":\"#FFFFFF\",\"axis_label_text_font\":\"Josefin Sans\",\"axis_label_text_font_size\":\"1.9em\",\"axis_label_text_font_style\":\"bold\",\"axis_line_alpha\":0.4,\"axis_line_color\":\"#E0E0E0\",\"coordinates\":null,\"formatter\":{\"id\":\"1212\"},\"group\":null,\"major_label_policy\":{\"id\":\"1213\"},\"major_label_text_color\":\"#E0E0E0\",\"major_label_text_font\":\"Josefin Sans\",\"major_label_text_font_size\":\"1.15em\",\"major_tick_line_alpha\":0.4,\"major_tick_line_color\":\"#E0E0E0\",\"minor_tick_line_alpha\":0.4,\"minor_tick_line_color\":\"#E0E0E0\",\"ticker\":{\"id\":\"1186\"}},\"id\":\"1185\",\"type\":\"LinearAxis\"},{\"attributes\":{\"tools\":[{\"id\":\"1189\"},{\"id\":\"1190\"},{\"id\":\"1191\"},{\"id\":\"1192\"},{\"id\":\"1193\"},{\"id\":\"1194\"}]},\"id\":\"1196\",\"type\":\"Toolbar\"},{\"attributes\":{\"source\":{\"id\":\"1203\"}},\"id\":\"1209\",\"type\":\"CDSView\"},{\"attributes\":{\"coordinates\":null,\"data_source\":{\"id\":\"1203\"},\"glyph\":{\"id\":\"1205\"},\"group\":null,\"hover_glyph\":null,\"muted_glyph\":{\"id\":\"1207\"},\"nonselection_glyph\":{\"id\":\"1206\"},\"view\":{\"id\":\"1209\"}},\"id\":\"1208\",\"type\":\"GlyphRenderer\"},{\"attributes\":{\"fill_alpha\":{\"value\":0.1},\"fill_color\":{\"field\":\"color\"},\"hatch_alpha\":{\"value\":0.1},\"hatch_color\":{\"field\":\"color\"},\"line_alpha\":{\"value\":0.1},\"line_color\":{\"value\":\"white\"},\"size\":{\"value\":10},\"x\":{\"field\":\"x\"},\"y\":{\"field\":\"y\"}},\"id\":\"1206\",\"type\":\"Circle\"},{\"attributes\":{\"label\":{\"field\":\"label\"},\"renderers\":[{\"id\":\"1208\"}]},\"id\":\"1221\",\"type\":\"LegendItem\"},{\"attributes\":{},\"id\":\"1218\",\"type\":\"Selection\"},{\"attributes\":{\"background_fill_alpha\":0.2,\"background_fill_color\":\"darkgrey\",\"border_line_alpha\":0.8,\"border_line_color\":\"grey\",\"border_line_width\":3,\"coordinates\":null,\"group\":null,\"items\":[{\"id\":\"1221\"}],\"label_text_color\":\"white\"},\"id\":\"1220\",\"type\":\"Legend\"},{\"attributes\":{\"fill_alpha\":{\"value\":0.2},\"fill_color\":{\"field\":\"color\"},\"hatch_alpha\":{\"value\":0.2},\"hatch_color\":{\"field\":\"color\"},\"line_alpha\":{\"value\":0.2},\"line_color\":{\"value\":\"white\"},\"size\":{\"value\":10},\"x\":{\"field\":\"x\"},\"y\":{\"field\":\"y\"}},\"id\":\"1207\",\"type\":\"Circle\"},{\"attributes\":{},\"id\":\"1217\",\"type\":\"UnionRenderers\"},{\"attributes\":{},\"id\":\"1194\",\"type\":\"HelpTool\"},{\"attributes\":{\"axis\":{\"id\":\"1185\"},\"coordinates\":null,\"dimension\":1,\"grid_line_alpha\":0.15,\"grid_line_color\":\"#E0E0E0\",\"group\":null,\"ticker\":null},\"id\":\"1188\",\"type\":\"Grid\"},{\"attributes\":{},\"id\":\"1186\",\"type\":\"BasicTicker\"},{\"attributes\":{\"background_fill_alpha\":0.9,\"background_fill_color\":\"#0f0f0f\",\"below\":[{\"id\":\"1181\"}],\"border_fill_alpha\":0.8,\"border_fill_color\":\"#111111\",\"center\":[{\"id\":\"1184\"},{\"id\":\"1188\"},{\"id\":\"1220\"}],\"height\":450,\"left\":[{\"id\":\"1185\"}],\"outline_line_alpha\":0.25,\"outline_line_color\":\"#E0E0E0\",\"outline_line_width\":3,\"renderers\":[{\"id\":\"1208\"}],\"right\":[{\"id\":\"1220\"}],\"title\":{\"id\":\"1171\"},\"toolbar\":{\"id\":\"1196\"},\"width\":700,\"x_range\":{\"id\":\"1173\"},\"x_scale\":{\"id\":\"1177\"},\"y_range\":{\"id\":\"1175\"},\"y_scale\":{\"id\":\"1179\"}},\"id\":\"1170\",\"subtype\":\"Figure\",\"type\":\"Plot\"},{\"attributes\":{\"fill_alpha\":{\"value\":0.6},\"fill_color\":{\"field\":\"color\"},\"hatch_alpha\":{\"value\":0.6},\"hatch_color\":{\"field\":\"color\"},\"line_alpha\":{\"value\":0.6},\"line_color\":{\"value\":\"white\"},\"size\":{\"value\":10},\"x\":{\"field\":\"x\"},\"y\":{\"field\":\"y\"}},\"id\":\"1205\",\"type\":\"Circle\"},{\"attributes\":{\"data\":{\"color\":[\"firebrick\",\"midnightblue\",\"firebrick\",\"firebrick\",\"firebrick\",\"midnightblue\",\"firebrick\",\"midnightblue\",\"firebrick\",\"midnightblue\",\"midnightblue\",\"firebrick\",\"firebrick\",\"midnightblue\",\"firebrick\",\"firebrick\",\"midnightblue\",\"firebrick\",\"firebrick\",\"firebrick\",\"midnightblue\",\"midnightblue\",\"midnightblue\",\"firebrick\",\"firebrick\",\"firebrick\",\"firebrick\",\"midnightblue\",\"firebrick\",\"midnightblue\",\"firebrick\",\"midnightblue\",\"firebrick\",\"firebrick\",\"midnightblue\",\"firebrick\",\"firebrick\",\"midnightblue\",\"midnightblue\",\"midnightblue\",\"firebrick\",\"firebrick\",\"firebrick\",\"midnightblue\",\"midnightblue\",\"midnightblue\",\"firebrick\",\"firebrick\",\"midnightblue\",\"firebrick\",\"firebrick\",\"firebrick\",\"midnightblue\",\"firebrick\",\"midnightblue\",\"firebrick\",\"firebrick\",\"midnightblue\",\"firebrick\",\"midnightblue\",\"midnightblue\",\"firebrick\",\"midnightblue\",\"midnightblue\",\"midnightblue\",\"firebrick\",\"firebrick\",\"firebrick\",\"midnightblue\",\"midnightblue\",\"midnightblue\",\"firebrick\",\"firebrick\",\"firebrick\",\"firebrick\",\"firebrick\",\"firebrick\",\"firebrick\",\"midnightblue\",\"midnightblue\",\"firebrick\",\"firebrick\",\"midnightblue\",\"firebrick\",\"firebrick\",\"midnightblue\",\"firebrick\",\"midnightblue\",\"midnightblue\",\"midnightblue\",\"firebrick\",\"midnightblue\",\"firebrick\",\"midnightblue\",\"midnightblue\",\"midnightblue\",\"firebrick\",\"firebrick\",\"midnightblue\",\"firebrick\"],\"label\":[\"class 2\",\"class 1\",\"class 2\",\"class 2\",\"class 2\",\"class 1\",\"class 2\",\"class 1\",\"class 2\",\"class 1\",\"class 1\",\"class 2\",\"class 2\",\"class 1\",\"class 2\",\"class 2\",\"class 1\",\"class 2\",\"class 2\",\"class 2\",\"class 1\",\"class 1\",\"class 1\",\"class 2\",\"class 2\",\"class 2\",\"class 2\",\"class 1\",\"class 2\",\"class 1\",\"class 2\",\"class 1\",\"class 2\",\"class 2\",\"class 1\",\"class 2\",\"class 2\",\"class 1\",\"class 1\",\"class 1\",\"class 2\",\"class 2\",\"class 2\",\"class 1\",\"class 1\",\"class 1\",\"class 2\",\"class 2\",\"class 1\",\"class 2\",\"class 2\",\"class 2\",\"class 1\",\"class 2\",\"class 1\",\"class 2\",\"class 2\",\"class 1\",\"class 2\",\"class 1\",\"class 1\",\"class 2\",\"class 1\",\"class 1\",\"class 1\",\"class 2\",\"class 2\",\"class 2\",\"class 1\",\"class 1\",\"class 1\",\"class 2\",\"class 2\",\"class 2\",\"class 2\",\"class 2\",\"class 2\",\"class 2\",\"class 1\",\"class 1\",\"class 2\",\"class 2\",\"class 1\",\"class 2\",\"class 2\",\"class 1\",\"class 2\",\"class 1\",\"class 1\",\"class 1\",\"class 2\",\"class 1\",\"class 2\",\"class 1\",\"class 1\",\"class 1\",\"class 2\",\"class 2\",\"class 1\",\"class 2\"],\"x\":{\"__ndarray__\":\"AOsNZFDKnD+amqk/6TLhPzw8aDVtKu6/souPIPtQ7r8KK21//ETtv+JQj+ag/ek/yISzXxWY178o9UQN7NjcP6h4NwakEO6/dmYmCa4N4D9ARRNsqH/hP0qcGwpfDem/DDBEAAyR4j94V3GuPbTrP+gGlLpMjsW/gCikHrxvgr/A98Cs9QHXP5JTfdW/Eui/pC34fpZP7r9EahwG4P3bv/AQzwDWEOU/0DXjwPFftz/a5JVqyprgP4AqEAJoSKg/DA9Ve6Bi3r8eQeQmVpvkv9B9RTOxO7y/MH6ybaaj3D9geim9+M7Sv3ZE/A8I2us/CCxQVj8u2D8Aibb4ZOuNP+Q0tYbxt9E/Rkt3mHOG5L9KP/e44KfvP7b/Xs5tQ+2/8Op3FQwx5L82TAU5ARfrP/LKz2eabes/DBDiQr9+0T8wxAKrbDi7v4g/i9/cjso/nOoqRm9q67/YUi7eYajcP54tVHLwNOw/5s6knb+F5D+AhjVC0VGFv/Rzzs3atOW/dIPKdICe0D+A7FxMMtbHP+I9PHV+pe2/yA3djdMr0b8U8IHB2JjmP8i2tcnMN+e/oGHCh0NUxj9gZ7OEpaO9P+Dp9983Z6g/qE6WLR8W5z+87jhkId/Zv2DjZ43707C/8EwMMs7kzj9kaO0DZU3ev3D59ngcYru/ZqIOm6457T8sgOBS2vzRvyjJ0YS6Ys2/Kith/cf95b9k3xooAUvfv2Au9jgh0MU/IKP6lN1p1j+q3cSjf67mPyDiRLyUW7Y/Hp5EHWyn57+kjqhlEwjcP2hapeymMso/9si0Qxge47+49YbHRqHbvxDy0L/PrLm/GN+6SP1g0j88gdr3yafkP0iLc6CpCdy/dL2AJqMq079wzdM2BoXkP0x4JXxd9di/gAkJsKJe4r9oiV1GeVvQP+zdv/R7aOS/SHI8rD8HzD+EFJbk+0ffPwRsDZORyOI/7jinXqti6r/+w3OkzDriP4xRv0RJA+m/JDqFz6c37j9QxtXvAD20P/pNAwwa5uc/ZLDsApt+4L8ARPCfi5rBv9ZuhlT8dOw//IDPOWBG0r8=\",\"dtype\":\"float64\",\"order\":\"little\",\"shape\":[100]},\"y\":{\"__ndarray__\":\"8NZzR2Cavj9uNjWQ2g3mv2pxP8mX9Ok/+LKVdTW0578YfjChWkbPv6gfAhD3q96/hG/SSwfx7z8kctMFhn/Wv+ChS4JrQ8W/gPB3K08T5D9AN+zheL6qvwx4lBbZiOU/yrplyuU77j8qWXiOs37hvwC0Je/QIH8/Cj1K1G6/4T96H6VSMSLpvwj4HBaexde/2P3lUEg7xr8AXgnc9yPsP+ZzzU6H9+M/AjzUmM665L+QPSon5mLUv8D6lN6KEqS/Ylyha/9g6b/MKBaEq+zQP0iQumhkLMW/eDtpBfDR4r8gbifZHu/dP6z508nTIe2/7mqD8CwR7z90/55rA+Tfv1gUQKo8FOs/TEbcZKrg2z/mmfYHjxToP0oMW5/TrOq/+KYYLcxQ0j9wLhurWmvBP7SIseLvKei/8rFBZnF/7L8EIigDoGrgP2oeMIYdH+8/9tVedYEP579+nwc3zE3uvwDoxw3ap72/+FSjM2iD4L9sfLqXDRbnP0havQ35VsE/MIJywILCy7+kVfAkOtbZP1rN6PFge+s/8ANk7ui1sz/OoZUH7wfkP8C2ohNFOdO/siRP+E9C6r8YzWCYdRXlPxB2315s7OQ/WAZBqzn81r/ktIRRp4DXP1gJo2XUV+i/gL9mea4npT/IKuYZlzHHv5CMASr7UOa/6Bf+eFs+1D82LS/Y2p7ivwBwlV6R83G/wMlvr2W10b+UDYZCmufevzglJo2UqMa/MNghf9lx1L+8S3lBXsrZP5izSE2AcNE/UKJk/732x79GSCEzihPjP8j9ZdaX3+o/QEU+la071b8Awvg7o6axv9jKoPwO0se/QKTVt1n7yj/0/UQJHHfsv9gsCaCOYs6/MIoJ1DlP27+o1uWrXB7VP6ibwtrW3t+/4AImQS40pj+y4tAuzxfivzC319egrcK/BLtdgUkf778ecOliAubrv4AHImVkzKm/NDeqLLfH5T8YwOiI7rbav75RD7mrhuI/COFk8lSkxD+wCAbfO9LIv4gIMCtR++M/sDnRqPsu1T8MFpuRkWvXPzABY3eSAL0/ShGGjpbE6j8=\",\"dtype\":\"float64\",\"order\":\"little\",\"shape\":[100]}},\"selected\":{\"id\":\"1218\"},\"selection_policy\":{\"id\":\"1217\"}},\"id\":\"1203\",\"type\":\"ColumnDataSource\"},{\"attributes\":{},\"id\":\"1190\",\"type\":\"WheelZoomTool\"},{\"attributes\":{},\"id\":\"1189\",\"type\":\"PanTool\"},{\"attributes\":{\"overlay\":{\"id\":\"1195\"}},\"id\":\"1191\",\"type\":\"BoxZoomTool\"},{\"attributes\":{},\"id\":\"1173\",\"type\":\"DataRange1d\"},{\"attributes\":{},\"id\":\"1192\",\"type\":\"SaveTool\"},{\"attributes\":{},\"id\":\"1193\",\"type\":\"ResetTool\"},{\"attributes\":{},\"id\":\"1175\",\"type\":\"DataRange1d\"},{\"attributes\":{\"client_comm_id\":\"81ca9df88cdf41b5a7314cd2c2be7b75\",\"comm_id\":\"874adbba85ee4e8bbdd0513a11faf64a\",\"plot_id\":\"1222\"},\"id\":\"1275\",\"type\":\"panel.models.comm_manager.CommManager\"},{\"attributes\":{\"bottom_units\":\"screen\",\"coordinates\":null,\"fill_alpha\":0.5,\"fill_color\":\"lightgrey\",\"group\":null,\"left_units\":\"screen\",\"level\":\"overlay\",\"line_alpha\":1.0,\"line_color\":\"black\",\"line_dash\":[4,4],\"line_width\":2,\"right_units\":\"screen\",\"syncable\":false,\"top_units\":\"screen\"},\"id\":\"1195\",\"type\":\"BoxAnnotation\"}],\"root_ids\":[\"1222\",\"1275\"]},\"title\":\"Bokeh Application\",\"version\":\"2.4.3\"}};\n",
       "    var render_items = [{\"docid\":\"f2c1a20f-226b-41e2-af80-75a4bd6abfdc\",\"root_ids\":[\"1222\"],\"roots\":{\"1222\":\"050a8219-7018-4247-be80-a706a8875c68\"}}];\n",
       "    root.Bokeh.embed.embed_items_notebook(docs_json, render_items);\n",
       "    for (const render_item of render_items) {\n",
       "      for (const root_id of render_item.root_ids) {\n",
       "\tconst id_el = document.getElementById(root_id)\n",
       "\tif (id_el.children.length && (id_el.children[0].className === 'bk-root')) {\n",
       "\t  const root_el = id_el.children[0]\n",
       "\t  root_el.id = root_el.id + '-rendered'\n",
       "\t}\n",
       "      }\n",
       "    }\n",
       "  }\n",
       "  if (root.Bokeh !== undefined && root.Bokeh.Panel !== undefined) {\n",
       "    embed_document(root);\n",
       "  } else {\n",
       "    var attempts = 0;\n",
       "    var timer = setInterval(function(root) {\n",
       "      if (root.Bokeh !== undefined && root.Bokeh.Panel !== undefined) {\n",
       "        clearInterval(timer);\n",
       "        embed_document(root);\n",
       "      } else if (document.readyState == \"complete\") {\n",
       "        attempts++;\n",
       "        if (attempts > 200) {\n",
       "          clearInterval(timer);\n",
       "          console.log(\"Bokeh: ERROR: Unable to run BokehJS code because BokehJS library is missing\");\n",
       "        }\n",
       "      }\n",
       "    }, 25, root)\n",
       "  }\n",
       "})(window);</script>"
      ],
      "text/plain": [
       "Row\n",
       "    [0] HSpacer()\n",
       "    [1] Bokeh(Figure)\n",
       "    [2] HSpacer()"
      ]
     },
     "execution_count": 5,
     "metadata": {
      "application/vnd.holoviews_exec.v0+json": {
       "id": "1222"
      }
     },
     "output_type": "execute_result"
    }
   ],
   "source": [
    "# Number of points to generate\n",
    "n_observations = 100;\n",
    "# Generate 2-dimensional random points\n",
    "x_inputs = np.random.rand(int(n_observations), 2) * 2 - 1;\n",
    "# Slope of separating line\n",
    "sep_slope = np.log(np.random.rand() * 10);\n",
    "sep_bias = np.random.rand() * 2 - 1;\n",
    "# Create the indexes for a two-class problem\n",
    "y_class = (x_inputs[:, 1] - x_inputs[:, 0] * sep_slope - sep_bias > 0) * 1;\n",
    "print(f\"Slope: {sep_slope}\")\n",
    "print(f\"Bias: {sep_bias}\")\n",
    "# Plot the corresponding pattern\n",
    "plot = center_plot(scatter_classes(x_inputs, y_class))\n",
    "plot"
   ]
  },
  {
   "cell_type": "markdown",
   "metadata": {},
   "source": [
    "<a id=\"neuron\"></a>\n",
    "## Single neuron\n",
    "\n",
    "For the first parts of the tutorial, we will perform the simplest classification model possible in a neural network setting, a single neuron. We briefly recall here that; given an input vector $ \\mathbf{x} \\in \\mathbb{R}^{n} $, a single neuron computes the function  \n",
    "\n",
    "$$\n",
    "\\begin{equation}\n",
    "\\bar{y}=\\phi\\left(\\sum_{i = 1}^{n}w_{i}.x_{i} + b\\right)\n",
    "\\label{eq1}\n",
    "\\end{equation}\n",
    "$$\n",
    "\n",
    "with $ \\mathbf{w} \\in \\mathbb{R}^{n} $ a weight vector, $ b $ a bias and $ \\phi\\left( \\cdot \\right) $ an *activation function*. Therefore, if we consider the *threshold* activation function ($ \\mathbb{I}_{0}\\left(x\\right)=1 $ if $ x \\geq 0$), a single neuron simply performs an *affine transform* and then a *linear* discrimination of the space. \n",
    "\n",
    "***\n",
    "\n",
    "<div class=\"alert alert-success\" markdown=\"1\" style=\"color:white; background-color: #410819; border-color: #cb2e47\">\n",
    "\n",
    "> **Important note**\n",
    "> The following implementation tries to remain as close as possible to the original neuron model by McCulloch & Pitts, notably by using the _threshold activation_ function. Although this leads to a very simple implementation (akin to using an _identity_ activation, note that it is not to be used afterwards.\n",
    "\n",
    "</div>\n",
    "\n",
    "***\n",
    "\n",
    "As we will see later on, a **neural network** will simply be composed of _layers_ of these neurons, which produce successive computations\n",
    "\n",
    "<img src=\"images/02_feedforward_nn.png\" align=\"center\"/>\n",
    "\n",
    "Geometrically, a single neuron computes an hyperplane that separates the space. In order to learn, we have to adjust the weights and know \"how much wrong we are\". To do so, we consider that we know the desired output $ y_{j} $ of a system for a given example $ \\mathbf{x}_{j} $ (eg. a predicted value for a regression system, a class value for a classification system). Therefore, we define the MSE loss function $ \\mathcal{L}_{\\mathcal{D}} $ over a whole dataset as\n",
    "\n",
    "$$\n",
    "\\begin{equation}\n",
    "\\mathcal{L}_{\\mathcal{D}}=\\sum_{j=1}^{|\\mathcal{D}|}\\left\\Vert \\bar{y}_{j}-y_{j}\\right\\Vert ^{2}\n",
    "\\label{eq2}\n",
    "\\end{equation}\n",
    "$$\n",
    "\n",
    "with $|\\mathcal{D}|$ being the size of our dataset. In order to know how to change the weights based on the value of the errors, we need to now \"how to change it to make it better\". Therefore, we should compute the sets of derivatives of the error given each parameter\n",
    "\n",
    "$$\n",
    "\\begin{equation}\n",
    "\\Delta\\bar{\\mathbf{w}}=\\left(\\frac{\\delta\\mathcal{L}_{\\mathcal{D}}}{\\delta w_{1}},\\ldots,\\frac{\\delta\\mathcal{L}_{\\mathcal{D}}}{\\delta w_{n}}\\right)\n",
    "\\label{eq3}\n",
    "\\end{equation}\n",
    "$$ \n",
    "\n",
    "***\n",
    "\n",
    "<div class=\"alert alert-success\" markdown=\"1\" style=\"color:white; background-color: #192841; border-color: #779ecb\">\n",
    "\n",
    "> ### Exercise (course)\n",
    ">   1. Perform the derivatives of the output given a single neuron\n",
    ">   2. Perform the derivatives for the bias as well\n",
    "\n",
    "</div>\n",
    "\n",
    "***"
   ]
  },
  {
   "cell_type": "markdown",
   "metadata": {},
   "source": [
    "### Training your own neuron\n",
    "\n",
    "We will start by training a single neuron to learn how to perform this discrimination with a linear problem (so that a single neuron is enough to solve it). "
   ]
  },
  {
   "cell_type": "code",
   "execution_count": 6,
   "metadata": {
    "tags": []
   },
   "outputs": [],
   "source": [
    "# Learning rate\n",
    "eta = 1e-2;\n",
    "# Weight decay\n",
    "lambda_r = 0.1\n",
    "# Number of epochs\n",
    "n_epochs = 50\n",
    "# Initialize the weights\n",
    "weights = np.random.randn(1, 2);\n",
    "bias = np.random.randn(1, 1);\n",
    "# Save the weight history for plotting\n",
    "weights_history = np.zeros((n_epochs + 1, 2));\n",
    "bias_history = np.zeros((n_epochs + 1, 1));"
   ]
  },
  {
   "cell_type": "markdown",
   "metadata": {},
   "source": [
    "Now you need to update the following code loop to ensure that your neuron learns to separate between the classes \n",
    "***\n",
    "\n",
    "<div class=\"alert alert-success\" markdown=\"1\" style=\"color:white; background-color: #192841; border-color: #779ecb\">\n",
    "\n",
    "> ### Exercise (course)\n",
    ">   1. Update the loop so that it computes the forward propagation error\n",
    ">   2. Update the loop to perform learning (based on back-propagation)\n",
    ">   3. Run the learning procedure, which should produce a result similar to that displayed on the website\n",
    ">   4. Perform multiple re-runs by **tweaking the hyperparameters** (learning rate, weight decay)\n",
    ">   5. What observations can you make on the learning process?\n",
    ">   6. (Optional) Change the input patterns, and confirm your observations.\n",
    ">   6. (Optional) Incorporate the bias in the weights to obtain a **vectorized** code.\n",
    "\n",
    "</div>\n",
    "\n",
    "***"
   ]
  },
  {
   "cell_type": "code",
   "execution_count": 7,
   "metadata": {
    "tags": []
   },
   "outputs": [
    {
     "data": {},
     "metadata": {},
     "output_type": "display_data"
    },
    {
     "data": {
      "application/vnd.holoviews_exec.v0+json": "",
      "text/html": [
       "<div id='1536'>\n",
       "  <div class=\"bk-root\" id=\"ba28e1c8-677b-4e7b-b9ee-85b76dcff80d\" data-root-id=\"1536\"></div>\n",
       "</div>\n",
       "<script type=\"application/javascript\">(function(root) {\n",
       "  function embed_document(root) {\n",
       "    var docs_json = {\"7069a65b-58c5-41d2-969d-cf79c5836240\":{\"defs\":[{\"extends\":null,\"module\":null,\"name\":\"ReactiveHTML1\",\"overrides\":[],\"properties\":[]},{\"extends\":null,\"module\":null,\"name\":\"FlexBox1\",\"overrides\":[],\"properties\":[{\"default\":\"flex-start\",\"kind\":null,\"name\":\"align_content\"},{\"default\":\"flex-start\",\"kind\":null,\"name\":\"align_items\"},{\"default\":\"row\",\"kind\":null,\"name\":\"flex_direction\"},{\"default\":\"wrap\",\"kind\":null,\"name\":\"flex_wrap\"},{\"default\":\"flex-start\",\"kind\":null,\"name\":\"justify_content\"}]},{\"extends\":null,\"module\":null,\"name\":\"GridStack1\",\"overrides\":[],\"properties\":[{\"default\":\"warn\",\"kind\":null,\"name\":\"mode\"},{\"default\":null,\"kind\":null,\"name\":\"ncols\"},{\"default\":null,\"kind\":null,\"name\":\"nrows\"},{\"default\":true,\"kind\":null,\"name\":\"allow_resize\"},{\"default\":true,\"kind\":null,\"name\":\"allow_drag\"},{\"default\":[],\"kind\":null,\"name\":\"state\"}]},{\"extends\":null,\"module\":null,\"name\":\"click1\",\"overrides\":[],\"properties\":[{\"default\":\"\",\"kind\":null,\"name\":\"terminal_output\"},{\"default\":\"\",\"kind\":null,\"name\":\"debug_name\"},{\"default\":0,\"kind\":null,\"name\":\"clears\"}]},{\"extends\":null,\"module\":null,\"name\":\"NotificationAreaBase1\",\"overrides\":[],\"properties\":[{\"default\":\"bottom-right\",\"kind\":null,\"name\":\"position\"},{\"default\":0,\"kind\":null,\"name\":\"_clear\"}]},{\"extends\":null,\"module\":null,\"name\":\"NotificationArea1\",\"overrides\":[],\"properties\":[{\"default\":[],\"kind\":null,\"name\":\"notifications\"},{\"default\":\"bottom-right\",\"kind\":null,\"name\":\"position\"},{\"default\":0,\"kind\":null,\"name\":\"_clear\"},{\"default\":[{\"background\":\"#ffc107\",\"icon\":{\"className\":\"fas fa-exclamation-triangle\",\"color\":\"white\",\"tagName\":\"i\"},\"type\":\"warning\"},{\"background\":\"#007bff\",\"icon\":{\"className\":\"fas fa-info-circle\",\"color\":\"white\",\"tagName\":\"i\"},\"type\":\"info\"}],\"kind\":null,\"name\":\"types\"}]},{\"extends\":null,\"module\":null,\"name\":\"Notification\",\"overrides\":[],\"properties\":[{\"default\":null,\"kind\":null,\"name\":\"background\"},{\"default\":3000,\"kind\":null,\"name\":\"duration\"},{\"default\":null,\"kind\":null,\"name\":\"icon\"},{\"default\":\"\",\"kind\":null,\"name\":\"message\"},{\"default\":null,\"kind\":null,\"name\":\"notification_type\"},{\"default\":false,\"kind\":null,\"name\":\"_destroyed\"}]},{\"extends\":null,\"module\":null,\"name\":\"TemplateActions1\",\"overrides\":[],\"properties\":[{\"default\":0,\"kind\":null,\"name\":\"open_modal\"},{\"default\":0,\"kind\":null,\"name\":\"close_modal\"}]},{\"extends\":null,\"module\":null,\"name\":\"MaterialTemplateActions1\",\"overrides\":[],\"properties\":[{\"default\":0,\"kind\":null,\"name\":\"open_modal\"},{\"default\":0,\"kind\":null,\"name\":\"close_modal\"}]}],\"roots\":{\"references\":[{\"attributes\":{\"line_color\":\"#8807A5\",\"line_dash\":[6],\"line_width\":4,\"x\":{\"field\":\"x\"},\"y\":{\"field\":\"y\"}},\"id\":\"1423\",\"type\":\"Line\"},{\"attributes\":{\"coordinates\":null,\"data_source\":{\"id\":\"1416\"},\"glyph\":{\"id\":\"1417\"},\"group\":null,\"hover_glyph\":null,\"muted_glyph\":{\"id\":\"1419\"},\"nonselection_glyph\":{\"id\":\"1418\"},\"view\":{\"id\":\"1421\"}},\"id\":\"1420\",\"type\":\"GlyphRenderer\"},{\"attributes\":{},\"id\":\"1575\",\"type\":\"UnionRenderers\"},{\"attributes\":{\"source\":{\"id\":\"1416\"}},\"id\":\"1421\",\"type\":\"CDSView\"},{\"attributes\":{\"line_alpha\":0.1,\"line_color\":\"#7901A8\",\"line_dash\":[6],\"line_width\":4,\"x\":{\"field\":\"x\"},\"y\":{\"field\":\"y\"}},\"id\":\"1418\",\"type\":\"Line\"},{\"attributes\":{},\"id\":\"1576\",\"type\":\"Selection\"},{\"attributes\":{\"line_color\":\"#9612A0\",\"line_dash\":[6],\"line_width\":4,\"x\":{\"field\":\"x\"},\"y\":{\"field\":\"y\"}},\"id\":\"1429\",\"type\":\"Line\"},{\"attributes\":{\"data\":{\"x\":{\"__ndarray__\":\"souPIPtQ7r9KP/e44KfvPw==\",\"dtype\":\"float64\",\"order\":\"little\",\"shape\":[2]},\"y\":{\"__ndarray__\":\"pu19TyP78r84rikl/gr7vw==\",\"dtype\":\"float64\",\"order\":\"little\",\"shape\":[2]}},\"selected\":{\"id\":\"1548\"},\"selection_policy\":{\"id\":\"1547\"}},\"id\":\"1380\",\"type\":\"ColumnDataSource\"},{\"attributes\":{\"data\":{\"x\":{\"__ndarray__\":\"souPIPtQ7r9KP/e44KfvPw==\",\"dtype\":\"float64\",\"order\":\"little\",\"shape\":[2]},\"y\":{\"__ndarray__\":\"oOPNWWjRgUAAPnrxDbB7wA==\",\"dtype\":\"float64\",\"order\":\"little\",\"shape\":[2]}},\"selected\":{\"id\":\"1562\"},\"selection_policy\":{\"id\":\"1561\"}},\"id\":\"1422\",\"type\":\"ColumnDataSource\"},{\"attributes\":{\"line_alpha\":0.2,\"line_color\":\"#9612A0\",\"line_dash\":[6],\"line_width\":4,\"x\":{\"field\":\"x\"},\"y\":{\"field\":\"y\"}},\"id\":\"1431\",\"type\":\"Line\"},{\"attributes\":{\"coordinates\":null,\"data_source\":{\"id\":\"1422\"},\"glyph\":{\"id\":\"1423\"},\"group\":null,\"hover_glyph\":null,\"muted_glyph\":{\"id\":\"1425\"},\"nonselection_glyph\":{\"id\":\"1424\"},\"view\":{\"id\":\"1427\"}},\"id\":\"1426\",\"type\":\"GlyphRenderer\"},{\"attributes\":{\"source\":{\"id\":\"1422\"}},\"id\":\"1427\",\"type\":\"CDSView\"},{\"attributes\":{},\"id\":\"1557\",\"type\":\"UnionRenderers\"},{\"attributes\":{\"line_alpha\":0.1,\"line_color\":\"#8807A5\",\"line_dash\":[6],\"line_width\":4,\"x\":{\"field\":\"x\"},\"y\":{\"field\":\"y\"}},\"id\":\"1424\",\"type\":\"Line\"},{\"attributes\":{\"line_color\":\"#A31D99\",\"line_dash\":[6],\"line_width\":4,\"x\":{\"field\":\"x\"},\"y\":{\"field\":\"y\"}},\"id\":\"1435\",\"type\":\"Line\"},{\"attributes\":{},\"id\":\"1558\",\"type\":\"Selection\"},{\"attributes\":{\"fill_alpha\":{\"value\":0.1},\"fill_color\":{\"field\":\"color\"},\"hatch_alpha\":{\"value\":0.1},\"hatch_color\":{\"field\":\"color\"},\"line_alpha\":{\"value\":0.1},\"line_color\":{\"value\":\"white\"},\"size\":{\"value\":10},\"x\":{\"field\":\"x\"},\"y\":{\"field\":\"y\"}},\"id\":\"1362\",\"type\":\"Circle\"},{\"attributes\":{\"data\":{\"x\":{\"__ndarray__\":\"souPIPtQ7r9KP/e44KfvPw==\",\"dtype\":\"float64\",\"order\":\"little\",\"shape\":[2]},\"y\":{\"__ndarray__\":\"0np5A9Y/JMDXG7yZgl0eQA==\",\"dtype\":\"float64\",\"order\":\"little\",\"shape\":[2]}},\"selected\":{\"id\":\"1564\"},\"selection_policy\":{\"id\":\"1563\"}},\"id\":\"1428\",\"type\":\"ColumnDataSource\"},{\"attributes\":{},\"id\":\"1595\",\"type\":\"UnionRenderers\"},{\"attributes\":{\"line_alpha\":0.2,\"line_color\":\"#A31D99\",\"line_dash\":[6],\"line_width\":4,\"x\":{\"field\":\"x\"},\"y\":{\"field\":\"y\"}},\"id\":\"1437\",\"type\":\"Line\"},{\"attributes\":{},\"id\":\"1594\",\"type\":\"Selection\"},{\"attributes\":{\"coordinates\":null,\"data_source\":{\"id\":\"1428\"},\"glyph\":{\"id\":\"1429\"},\"group\":null,\"hover_glyph\":null,\"muted_glyph\":{\"id\":\"1431\"},\"nonselection_glyph\":{\"id\":\"1430\"},\"view\":{\"id\":\"1433\"}},\"id\":\"1432\",\"type\":\"GlyphRenderer\"},{\"attributes\":{},\"id\":\"1596\",\"type\":\"Selection\"},{\"attributes\":{\"source\":{\"id\":\"1428\"}},\"id\":\"1433\",\"type\":\"CDSView\"},{\"attributes\":{\"line_alpha\":0.1,\"line_color\":\"#9612A0\",\"line_dash\":[6],\"line_width\":4,\"x\":{\"field\":\"x\"},\"y\":{\"field\":\"y\"}},\"id\":\"1430\",\"type\":\"Line\"},{\"attributes\":{\"line_color\":\"#B02A8F\",\"line_dash\":[6],\"line_width\":4,\"x\":{\"field\":\"x\"},\"y\":{\"field\":\"y\"}},\"id\":\"1441\",\"type\":\"Line\"},{\"attributes\":{\"axis_label\":\"y\",\"axis_label_standoff\":10,\"axis_label_text_color\":\"#FFFFFF\",\"axis_label_text_font\":\"Josefin Sans\",\"axis_label_text_font_size\":\"1.9em\",\"axis_label_text_font_style\":\"bold\",\"axis_line_alpha\":0.4,\"axis_line_color\":\"#E0E0E0\",\"coordinates\":null,\"formatter\":{\"id\":\"1368\"},\"group\":null,\"major_label_policy\":{\"id\":\"1369\"},\"major_label_text_color\":\"#E0E0E0\",\"major_label_text_font\":\"Josefin Sans\",\"major_label_text_font_size\":\"1.15em\",\"major_tick_line_alpha\":0.4,\"major_tick_line_color\":\"#E0E0E0\",\"minor_tick_line_alpha\":0.4,\"minor_tick_line_color\":\"#E0E0E0\",\"ticker\":{\"id\":\"1342\"}},\"id\":\"1341\",\"type\":\"LinearAxis\"},{\"attributes\":{\"data\":{\"x\":{\"__ndarray__\":\"souPIPtQ7r9KP/e44KfvPw==\",\"dtype\":\"float64\",\"order\":\"little\",\"shape\":[2]},\"y\":{\"__ndarray__\":\"RRfPU58kF8CcI+p3jKsRQA==\",\"dtype\":\"float64\",\"order\":\"little\",\"shape\":[2]}},\"selected\":{\"id\":\"1566\"},\"selection_policy\":{\"id\":\"1565\"}},\"id\":\"1434\",\"type\":\"ColumnDataSource\"},{\"attributes\":{},\"id\":\"1577\",\"type\":\"UnionRenderers\"},{\"attributes\":{\"coordinates\":null,\"data_source\":{\"id\":\"1380\"},\"glyph\":{\"id\":\"1381\"},\"group\":null,\"hover_glyph\":null,\"muted_glyph\":{\"id\":\"1383\"},\"nonselection_glyph\":{\"id\":\"1382\"},\"view\":{\"id\":\"1385\"}},\"id\":\"1384\",\"type\":\"GlyphRenderer\"},{\"attributes\":{\"line_alpha\":0.2,\"line_color\":\"#B02A8F\",\"line_dash\":[6],\"line_width\":4,\"x\":{\"field\":\"x\"},\"y\":{\"field\":\"y\"}},\"id\":\"1443\",\"type\":\"Line\"},{\"attributes\":{\"coordinates\":null,\"data_source\":{\"id\":\"1434\"},\"glyph\":{\"id\":\"1435\"},\"group\":null,\"hover_glyph\":null,\"muted_glyph\":{\"id\":\"1437\"},\"nonselection_glyph\":{\"id\":\"1436\"},\"view\":{\"id\":\"1439\"}},\"id\":\"1438\",\"type\":\"GlyphRenderer\"},{\"attributes\":{\"line_color\":\"#250591\",\"line_dash\":[6],\"line_width\":4,\"x\":{\"field\":\"x\"},\"y\":{\"field\":\"y\"}},\"id\":\"1387\",\"type\":\"Line\"},{\"attributes\":{},\"id\":\"1578\",\"type\":\"Selection\"},{\"attributes\":{\"source\":{\"id\":\"1434\"}},\"id\":\"1439\",\"type\":\"CDSView\"},{\"attributes\":{\"axis\":{\"id\":\"1341\"},\"coordinates\":null,\"dimension\":1,\"grid_line_alpha\":0.15,\"grid_line_color\":\"#E0E0E0\",\"group\":null,\"ticker\":null},\"id\":\"1344\",\"type\":\"Grid\"},{\"attributes\":{\"line_alpha\":0.1,\"line_color\":\"#A31D99\",\"line_dash\":[6],\"line_width\":4,\"x\":{\"field\":\"x\"},\"y\":{\"field\":\"y\"}},\"id\":\"1436\",\"type\":\"Line\"},{\"attributes\":{\"line_color\":\"#BB3586\",\"line_dash\":[6],\"line_width\":4,\"x\":{\"field\":\"x\"},\"y\":{\"field\":\"y\"}},\"id\":\"1447\",\"type\":\"Line\"},{\"attributes\":{\"data\":{\"x\":{\"__ndarray__\":\"souPIPtQ7r9KP/e44KfvPw==\",\"dtype\":\"float64\",\"order\":\"little\",\"shape\":[2]},\"y\":{\"__ndarray__\":\"DA08DNFiEMD88qXq9TwKQA==\",\"dtype\":\"float64\",\"order\":\"little\",\"shape\":[2]}},\"selected\":{\"id\":\"1568\"},\"selection_policy\":{\"id\":\"1567\"}},\"id\":\"1440\",\"type\":\"ColumnDataSource\"},{\"attributes\":{},\"id\":\"1559\",\"type\":\"UnionRenderers\"},{\"attributes\":{\"line_alpha\":0.2,\"line_color\":\"#BB3586\",\"line_dash\":[6],\"line_width\":4,\"x\":{\"field\":\"x\"},\"y\":{\"field\":\"y\"}},\"id\":\"1449\",\"type\":\"Line\"},{\"attributes\":{\"coordinates\":null,\"data_source\":{\"id\":\"1440\"},\"glyph\":{\"id\":\"1441\"},\"group\":null,\"hover_glyph\":null,\"muted_glyph\":{\"id\":\"1443\"},\"nonselection_glyph\":{\"id\":\"1442\"},\"view\":{\"id\":\"1445\"}},\"id\":\"1444\",\"type\":\"GlyphRenderer\"},{\"attributes\":{\"coordinates\":null,\"group\":null,\"text\":\"Observations\",\"text_color\":\"#E0E0E0\",\"text_font\":\"Josefin Sans\",\"text_font_size\":\"2.1em\"},\"id\":\"1327\",\"type\":\"Title\"},{\"attributes\":{\"source\":{\"id\":\"1440\"}},\"id\":\"1445\",\"type\":\"CDSView\"},{\"attributes\":{},\"id\":\"1560\",\"type\":\"Selection\"},{\"attributes\":{},\"id\":\"1597\",\"type\":\"UnionRenderers\"},{\"attributes\":{\"line_alpha\":0.1,\"line_color\":\"#B02A8F\",\"line_dash\":[6],\"line_width\":4,\"x\":{\"field\":\"x\"},\"y\":{\"field\":\"y\"}},\"id\":\"1442\",\"type\":\"Line\"},{\"attributes\":{\"line_color\":\"#C5407D\",\"line_dash\":[6],\"line_width\":4,\"x\":{\"field\":\"x\"},\"y\":{\"field\":\"y\"}},\"id\":\"1453\",\"type\":\"Line\"},{\"attributes\":{},\"id\":\"1598\",\"type\":\"Selection\"},{\"attributes\":{\"data\":{\"x\":{\"__ndarray__\":\"souPIPtQ7r9KP/e44KfvPw==\",\"dtype\":\"float64\",\"order\":\"little\",\"shape\":[2]},\"y\":{\"__ndarray__\":\"UzIVscZHDMDZWu5EZocGQA==\",\"dtype\":\"float64\",\"order\":\"little\",\"shape\":[2]}},\"selected\":{\"id\":\"1570\"},\"selection_policy\":{\"id\":\"1569\"}},\"id\":\"1446\",\"type\":\"ColumnDataSource\"},{\"attributes\":{},\"id\":\"1342\",\"type\":\"BasicTicker\"},{\"attributes\":{\"line_alpha\":0.2,\"line_color\":\"#C5407D\",\"line_dash\":[6],\"line_width\":4,\"x\":{\"field\":\"x\"},\"y\":{\"field\":\"y\"}},\"id\":\"1455\",\"type\":\"Line\"},{\"attributes\":{\"fill_alpha\":{\"value\":0.6},\"fill_color\":{\"field\":\"color\"},\"hatch_alpha\":{\"value\":0.6},\"hatch_color\":{\"field\":\"color\"},\"line_alpha\":{\"value\":0.6},\"line_color\":{\"value\":\"white\"},\"size\":{\"value\":10},\"x\":{\"field\":\"x\"},\"y\":{\"field\":\"y\"}},\"id\":\"1361\",\"type\":\"Circle\"},{\"attributes\":{\"coordinates\":null,\"data_source\":{\"id\":\"1446\"},\"glyph\":{\"id\":\"1447\"},\"group\":null,\"hover_glyph\":null,\"muted_glyph\":{\"id\":\"1449\"},\"nonselection_glyph\":{\"id\":\"1448\"},\"view\":{\"id\":\"1451\"}},\"id\":\"1450\",\"type\":\"GlyphRenderer\"},{\"attributes\":{\"source\":{\"id\":\"1446\"}},\"id\":\"1451\",\"type\":\"CDSView\"},{\"attributes\":{},\"id\":\"1579\",\"type\":\"UnionRenderers\"},{\"attributes\":{\"line_alpha\":0.1,\"line_color\":\"#BB3586\",\"line_dash\":[6],\"line_width\":4,\"x\":{\"field\":\"x\"},\"y\":{\"field\":\"y\"}},\"id\":\"1448\",\"type\":\"Line\"},{\"attributes\":{},\"id\":\"1372\",\"type\":\"AllLabels\"},{\"attributes\":{\"line_color\":\"#CF4B74\",\"line_dash\":[6],\"line_width\":4,\"x\":{\"field\":\"x\"},\"y\":{\"field\":\"y\"}},\"id\":\"1459\",\"type\":\"Line\"},{\"attributes\":{},\"id\":\"1580\",\"type\":\"Selection\"},{\"attributes\":{\"data\":{\"x\":{\"__ndarray__\":\"souPIPtQ7r9KP/e44KfvPw==\",\"dtype\":\"float64\",\"order\":\"little\",\"shape\":[2]},\"y\":{\"__ndarray__\":\"6HQNT5jFCMA1fRWfrKEDQA==\",\"dtype\":\"float64\",\"order\":\"little\",\"shape\":[2]}},\"selected\":{\"id\":\"1572\"},\"selection_policy\":{\"id\":\"1571\"}},\"id\":\"1452\",\"type\":\"ColumnDataSource\"},{\"attributes\":{\"line_alpha\":0.2,\"line_color\":\"#CF4B74\",\"line_dash\":[6],\"line_width\":4,\"x\":{\"field\":\"x\"},\"y\":{\"field\":\"y\"}},\"id\":\"1461\",\"type\":\"Line\"},{\"attributes\":{\"coordinates\":null,\"data_source\":{\"id\":\"1452\"},\"glyph\":{\"id\":\"1453\"},\"group\":null,\"hover_glyph\":null,\"muted_glyph\":{\"id\":\"1455\"},\"nonselection_glyph\":{\"id\":\"1454\"},\"view\":{\"id\":\"1457\"}},\"id\":\"1456\",\"type\":\"GlyphRenderer\"},{\"attributes\":{},\"id\":\"1368\",\"type\":\"BasicTickFormatter\"},{\"attributes\":{\"source\":{\"id\":\"1452\"}},\"id\":\"1457\",\"type\":\"CDSView\"},{\"attributes\":{},\"id\":\"1561\",\"type\":\"UnionRenderers\"},{\"attributes\":{\"line_alpha\":0.1,\"line_color\":\"#C5407D\",\"line_dash\":[6],\"line_width\":4,\"x\":{\"field\":\"x\"},\"y\":{\"field\":\"y\"}},\"id\":\"1454\",\"type\":\"Line\"},{\"attributes\":{\"line_color\":\"#D7576B\",\"line_dash\":[6],\"line_width\":4,\"x\":{\"field\":\"x\"},\"y\":{\"field\":\"y\"}},\"id\":\"1465\",\"type\":\"Line\"},{\"attributes\":{},\"id\":\"1562\",\"type\":\"Selection\"},{\"attributes\":{},\"id\":\"1369\",\"type\":\"AllLabels\"},{\"attributes\":{\"data\":{\"x\":{\"__ndarray__\":\"souPIPtQ7r9KP/e44KfvPw==\",\"dtype\":\"float64\",\"order\":\"little\",\"shape\":[2]},\"y\":{\"__ndarray__\":\"SMi2+ADSBsByV1OoZHsBQA==\",\"dtype\":\"float64\",\"order\":\"little\",\"shape\":[2]}},\"selected\":{\"id\":\"1574\"},\"selection_policy\":{\"id\":\"1573\"}},\"id\":\"1458\",\"type\":\"ColumnDataSource\"},{\"attributes\":{\"line_alpha\":0.2,\"line_color\":\"#D7576B\",\"line_dash\":[6],\"line_width\":4,\"x\":{\"field\":\"x\"},\"y\":{\"field\":\"y\"}},\"id\":\"1467\",\"type\":\"Line\"},{\"attributes\":{\"coordinates\":null,\"data_source\":{\"id\":\"1458\"},\"glyph\":{\"id\":\"1459\"},\"group\":null,\"hover_glyph\":null,\"muted_glyph\":{\"id\":\"1461\"},\"nonselection_glyph\":{\"id\":\"1460\"},\"view\":{\"id\":\"1463\"}},\"id\":\"1462\",\"type\":\"GlyphRenderer\"},{\"attributes\":{\"source\":{\"id\":\"1458\"}},\"id\":\"1463\",\"type\":\"CDSView\"},{\"attributes\":{},\"id\":\"1371\",\"type\":\"BasicTickFormatter\"},{\"attributes\":{\"line_alpha\":0.1,\"line_color\":\"#CF4B74\",\"line_dash\":[6],\"line_width\":4,\"x\":{\"field\":\"x\"},\"y\":{\"field\":\"y\"}},\"id\":\"1460\",\"type\":\"Line\"},{\"attributes\":{\"data\":{\"x\":{\"__ndarray__\":\"souPIPtQ7r9KP/e44KfvPw==\",\"dtype\":\"float64\",\"order\":\"little\",\"shape\":[2]},\"y\":{\"__ndarray__\":\"gndVq/xXA8C/X8VYU2/8Pw==\",\"dtype\":\"float64\",\"order\":\"little\",\"shape\":[2]}},\"selected\":{\"id\":\"1578\"},\"selection_policy\":{\"id\":\"1577\"}},\"id\":\"1470\",\"type\":\"ColumnDataSource\"},{\"attributes\":{},\"id\":\"1581\",\"type\":\"UnionRenderers\"},{\"attributes\":{\"data\":{\"x\":{\"__ndarray__\":\"souPIPtQ7r9KP/e44KfvPw==\",\"dtype\":\"float64\",\"order\":\"little\",\"shape\":[2]},\"y\":{\"__ndarray__\":\"iG2FNBQlBcC2ZjSS5UX/Pw==\",\"dtype\":\"float64\",\"order\":\"little\",\"shape\":[2]}},\"selected\":{\"id\":\"1576\"},\"selection_policy\":{\"id\":\"1575\"}},\"id\":\"1464\",\"type\":\"ColumnDataSource\"},{\"attributes\":{\"coordinates\":null,\"data_source\":{\"id\":\"1359\"},\"glyph\":{\"id\":\"1361\"},\"group\":null,\"hover_glyph\":null,\"muted_glyph\":{\"id\":\"1363\"},\"nonselection_glyph\":{\"id\":\"1362\"},\"view\":{\"id\":\"1365\"}},\"id\":\"1364\",\"type\":\"GlyphRenderer\"},{\"attributes\":{\"line_color\":\"#E06461\",\"line_dash\":[6],\"line_width\":4,\"x\":{\"field\":\"x\"},\"y\":{\"field\":\"y\"}},\"id\":\"1471\",\"type\":\"Line\"},{\"attributes\":{\"coordinates\":null,\"data_source\":{\"id\":\"1464\"},\"glyph\":{\"id\":\"1465\"},\"group\":null,\"hover_glyph\":null,\"muted_glyph\":{\"id\":\"1467\"},\"nonselection_glyph\":{\"id\":\"1466\"},\"view\":{\"id\":\"1469\"}},\"id\":\"1468\",\"type\":\"GlyphRenderer\"},{\"attributes\":{},\"id\":\"1582\",\"type\":\"Selection\"},{\"attributes\":{\"source\":{\"id\":\"1464\"}},\"id\":\"1469\",\"type\":\"CDSView\"},{\"attributes\":{\"background_fill_alpha\":0.9,\"background_fill_color\":\"#0f0f0f\",\"below\":[{\"id\":\"1337\"}],\"border_fill_alpha\":0.8,\"border_fill_color\":\"#111111\",\"center\":[{\"id\":\"1340\"},{\"id\":\"1344\"},{\"id\":\"1376\"}],\"height\":450,\"left\":[{\"id\":\"1341\"}],\"outline_line_alpha\":0.25,\"outline_line_color\":\"#E0E0E0\",\"outline_line_width\":3,\"renderers\":[{\"id\":\"1364\"},{\"id\":\"1384\"},{\"id\":\"1390\"},{\"id\":\"1396\"},{\"id\":\"1402\"},{\"id\":\"1408\"},{\"id\":\"1414\"},{\"id\":\"1420\"},{\"id\":\"1426\"},{\"id\":\"1432\"},{\"id\":\"1438\"},{\"id\":\"1444\"},{\"id\":\"1450\"},{\"id\":\"1456\"},{\"id\":\"1462\"},{\"id\":\"1468\"},{\"id\":\"1474\"},{\"id\":\"1480\"},{\"id\":\"1486\"},{\"id\":\"1492\"},{\"id\":\"1498\"},{\"id\":\"1504\"},{\"id\":\"1510\"},{\"id\":\"1516\"},{\"id\":\"1522\"},{\"id\":\"1528\"},{\"id\":\"1534\"}],\"right\":[{\"id\":\"1376\"}],\"title\":{\"id\":\"1327\"},\"toolbar\":{\"id\":\"1352\"},\"width\":700,\"x_range\":{\"id\":\"1378\"},\"x_scale\":{\"id\":\"1333\"},\"y_range\":{\"id\":\"1379\"},\"y_scale\":{\"id\":\"1335\"}},\"id\":\"1326\",\"subtype\":\"Figure\",\"type\":\"Plot\"},{\"attributes\":{\"line_alpha\":0.1,\"line_color\":\"#D7576B\",\"line_dash\":[6],\"line_width\":4,\"x\":{\"field\":\"x\"},\"y\":{\"field\":\"y\"}},\"id\":\"1466\",\"type\":\"Line\"},{\"attributes\":{},\"id\":\"1374\",\"type\":\"Selection\"},{\"attributes\":{\"line_color\":\"#E87059\",\"line_dash\":[6],\"line_width\":4,\"x\":{\"field\":\"x\"},\"y\":{\"field\":\"y\"}},\"id\":\"1477\",\"type\":\"Line\"},{\"attributes\":{},\"id\":\"1563\",\"type\":\"UnionRenderers\"},{\"attributes\":{\"line_alpha\":0.2,\"line_color\":\"#E06461\",\"line_dash\":[6],\"line_width\":4,\"x\":{\"field\":\"x\"},\"y\":{\"field\":\"y\"}},\"id\":\"1473\",\"type\":\"Line\"},{\"attributes\":{\"line_alpha\":0.2,\"line_color\":\"#E87059\",\"line_dash\":[6],\"line_width\":4,\"x\":{\"field\":\"x\"},\"y\":{\"field\":\"y\"}},\"id\":\"1479\",\"type\":\"Line\"},{\"attributes\":{\"coordinates\":null,\"data_source\":{\"id\":\"1470\"},\"glyph\":{\"id\":\"1471\"},\"group\":null,\"hover_glyph\":null,\"muted_glyph\":{\"id\":\"1473\"},\"nonselection_glyph\":{\"id\":\"1472\"},\"view\":{\"id\":\"1475\"}},\"id\":\"1474\",\"type\":\"GlyphRenderer\"},{\"attributes\":{},\"id\":\"1564\",\"type\":\"Selection\"},{\"attributes\":{\"source\":{\"id\":\"1470\"}},\"id\":\"1475\",\"type\":\"CDSView\"},{\"attributes\":{\"line_alpha\":0.1,\"line_color\":\"#E06461\",\"line_dash\":[6],\"line_width\":4,\"x\":{\"field\":\"x\"},\"y\":{\"field\":\"y\"}},\"id\":\"1472\",\"type\":\"Line\"},{\"attributes\":{},\"id\":\"1373\",\"type\":\"UnionRenderers\"},{\"attributes\":{\"line_color\":\"#EE7C50\",\"line_dash\":[6],\"line_width\":4,\"x\":{\"field\":\"x\"},\"y\":{\"field\":\"y\"}},\"id\":\"1483\",\"type\":\"Line\"},{\"attributes\":{\"data\":{\"x\":{\"__ndarray__\":\"souPIPtQ7r9KP/e44KfvPw==\",\"dtype\":\"float64\",\"order\":\"little\",\"shape\":[2]},\"y\":{\"__ndarray__\":\"15v7pGVcAsBqx4c+dqP8Pw==\",\"dtype\":\"float64\",\"order\":\"little\",\"shape\":[2]}},\"selected\":{\"id\":\"1580\"},\"selection_policy\":{\"id\":\"1579\"}},\"id\":\"1476\",\"type\":\"ColumnDataSource\"},{\"attributes\":{},\"id\":\"1333\",\"type\":\"LinearScale\"},{\"attributes\":{\"line_alpha\":0.2,\"line_color\":\"#EE7C50\",\"line_dash\":[6],\"line_width\":4,\"x\":{\"field\":\"x\"},\"y\":{\"field\":\"y\"}},\"id\":\"1485\",\"type\":\"Line\"},{\"attributes\":{},\"id\":\"1346\",\"type\":\"WheelZoomTool\"},{\"attributes\":{\"coordinates\":null,\"data_source\":{\"id\":\"1476\"},\"glyph\":{\"id\":\"1477\"},\"group\":null,\"hover_glyph\":null,\"muted_glyph\":{\"id\":\"1479\"},\"nonselection_glyph\":{\"id\":\"1478\"},\"view\":{\"id\":\"1481\"}},\"id\":\"1480\",\"type\":\"GlyphRenderer\"},{\"attributes\":{},\"id\":\"1583\",\"type\":\"UnionRenderers\"},{\"attributes\":{\"source\":{\"id\":\"1476\"}},\"id\":\"1481\",\"type\":\"CDSView\"},{\"attributes\":{\"data\":{\"color\":[\"firebrick\",\"midnightblue\",\"firebrick\",\"firebrick\",\"firebrick\",\"midnightblue\",\"firebrick\",\"midnightblue\",\"firebrick\",\"midnightblue\",\"midnightblue\",\"firebrick\",\"firebrick\",\"midnightblue\",\"firebrick\",\"firebrick\",\"midnightblue\",\"firebrick\",\"firebrick\",\"firebrick\",\"midnightblue\",\"midnightblue\",\"midnightblue\",\"firebrick\",\"firebrick\",\"firebrick\",\"firebrick\",\"midnightblue\",\"firebrick\",\"midnightblue\",\"firebrick\",\"midnightblue\",\"firebrick\",\"firebrick\",\"midnightblue\",\"firebrick\",\"firebrick\",\"midnightblue\",\"midnightblue\",\"midnightblue\",\"firebrick\",\"firebrick\",\"firebrick\",\"midnightblue\",\"midnightblue\",\"midnightblue\",\"firebrick\",\"firebrick\",\"midnightblue\",\"firebrick\",\"firebrick\",\"firebrick\",\"midnightblue\",\"firebrick\",\"midnightblue\",\"firebrick\",\"firebrick\",\"midnightblue\",\"firebrick\",\"midnightblue\",\"midnightblue\",\"firebrick\",\"midnightblue\",\"midnightblue\",\"midnightblue\",\"firebrick\",\"firebrick\",\"firebrick\",\"midnightblue\",\"midnightblue\",\"midnightblue\",\"firebrick\",\"firebrick\",\"firebrick\",\"firebrick\",\"firebrick\",\"firebrick\",\"firebrick\",\"midnightblue\",\"midnightblue\",\"firebrick\",\"firebrick\",\"midnightblue\",\"firebrick\",\"firebrick\",\"midnightblue\",\"firebrick\",\"midnightblue\",\"midnightblue\",\"midnightblue\",\"firebrick\",\"midnightblue\",\"firebrick\",\"midnightblue\",\"midnightblue\",\"midnightblue\",\"firebrick\",\"firebrick\",\"midnightblue\",\"firebrick\"],\"label\":[\"class 2\",\"class 1\",\"class 2\",\"class 2\",\"class 2\",\"class 1\",\"class 2\",\"class 1\",\"class 2\",\"class 1\",\"class 1\",\"class 2\",\"class 2\",\"class 1\",\"class 2\",\"class 2\",\"class 1\",\"class 2\",\"class 2\",\"class 2\",\"class 1\",\"class 1\",\"class 1\",\"class 2\",\"class 2\",\"class 2\",\"class 2\",\"class 1\",\"class 2\",\"class 1\",\"class 2\",\"class 1\",\"class 2\",\"class 2\",\"class 1\",\"class 2\",\"class 2\",\"class 1\",\"class 1\",\"class 1\",\"class 2\",\"class 2\",\"class 2\",\"class 1\",\"class 1\",\"class 1\",\"class 2\",\"class 2\",\"class 1\",\"class 2\",\"class 2\",\"class 2\",\"class 1\",\"class 2\",\"class 1\",\"class 2\",\"class 2\",\"class 1\",\"class 2\",\"class 1\",\"class 1\",\"class 2\",\"class 1\",\"class 1\",\"class 1\",\"class 2\",\"class 2\",\"class 2\",\"class 1\",\"class 1\",\"class 1\",\"class 2\",\"class 2\",\"class 2\",\"class 2\",\"class 2\",\"class 2\",\"class 2\",\"class 1\",\"class 1\",\"class 2\",\"class 2\",\"class 1\",\"class 2\",\"class 2\",\"class 1\",\"class 2\",\"class 1\",\"class 1\",\"class 1\",\"class 2\",\"class 1\",\"class 2\",\"class 1\",\"class 1\",\"class 1\",\"class 2\",\"class 2\",\"class 1\",\"class 2\"],\"x\":{\"__ndarray__\":\"AOsNZFDKnD+amqk/6TLhPzw8aDVtKu6/souPIPtQ7r8KK21//ETtv+JQj+ag/ek/yISzXxWY178o9UQN7NjcP6h4NwakEO6/dmYmCa4N4D9ARRNsqH/hP0qcGwpfDem/DDBEAAyR4j94V3GuPbTrP+gGlLpMjsW/gCikHrxvgr/A98Cs9QHXP5JTfdW/Eui/pC34fpZP7r9EahwG4P3bv/AQzwDWEOU/0DXjwPFftz/a5JVqyprgP4AqEAJoSKg/DA9Ve6Bi3r8eQeQmVpvkv9B9RTOxO7y/MH6ybaaj3D9geim9+M7Sv3ZE/A8I2us/CCxQVj8u2D8Aibb4ZOuNP+Q0tYbxt9E/Rkt3mHOG5L9KP/e44KfvP7b/Xs5tQ+2/8Op3FQwx5L82TAU5ARfrP/LKz2eabes/DBDiQr9+0T8wxAKrbDi7v4g/i9/cjso/nOoqRm9q67/YUi7eYajcP54tVHLwNOw/5s6knb+F5D+AhjVC0VGFv/Rzzs3atOW/dIPKdICe0D+A7FxMMtbHP+I9PHV+pe2/yA3djdMr0b8U8IHB2JjmP8i2tcnMN+e/oGHCh0NUxj9gZ7OEpaO9P+Dp9983Z6g/qE6WLR8W5z+87jhkId/Zv2DjZ43707C/8EwMMs7kzj9kaO0DZU3ev3D59ngcYru/ZqIOm6457T8sgOBS2vzRvyjJ0YS6Ys2/Kith/cf95b9k3xooAUvfv2Au9jgh0MU/IKP6lN1p1j+q3cSjf67mPyDiRLyUW7Y/Hp5EHWyn57+kjqhlEwjcP2hapeymMso/9si0Qxge47+49YbHRqHbvxDy0L/PrLm/GN+6SP1g0j88gdr3yafkP0iLc6CpCdy/dL2AJqMq079wzdM2BoXkP0x4JXxd9di/gAkJsKJe4r9oiV1GeVvQP+zdv/R7aOS/SHI8rD8HzD+EFJbk+0ffPwRsDZORyOI/7jinXqti6r/+w3OkzDriP4xRv0RJA+m/JDqFz6c37j9QxtXvAD20P/pNAwwa5uc/ZLDsApt+4L8ARPCfi5rBv9ZuhlT8dOw//IDPOWBG0r8=\",\"dtype\":\"float64\",\"order\":\"little\",\"shape\":[100]},\"y\":{\"__ndarray__\":\"8NZzR2Cavj9uNjWQ2g3mv2pxP8mX9Ok/+LKVdTW0578YfjChWkbPv6gfAhD3q96/hG/SSwfx7z8kctMFhn/Wv+ChS4JrQ8W/gPB3K08T5D9AN+zheL6qvwx4lBbZiOU/yrplyuU77j8qWXiOs37hvwC0Je/QIH8/Cj1K1G6/4T96H6VSMSLpvwj4HBaexde/2P3lUEg7xr8AXgnc9yPsP+ZzzU6H9+M/AjzUmM665L+QPSon5mLUv8D6lN6KEqS/Ylyha/9g6b/MKBaEq+zQP0iQumhkLMW/eDtpBfDR4r8gbifZHu/dP6z508nTIe2/7mqD8CwR7z90/55rA+Tfv1gUQKo8FOs/TEbcZKrg2z/mmfYHjxToP0oMW5/TrOq/+KYYLcxQ0j9wLhurWmvBP7SIseLvKei/8rFBZnF/7L8EIigDoGrgP2oeMIYdH+8/9tVedYEP579+nwc3zE3uvwDoxw3ap72/+FSjM2iD4L9sfLqXDRbnP0havQ35VsE/MIJywILCy7+kVfAkOtbZP1rN6PFge+s/8ANk7ui1sz/OoZUH7wfkP8C2ohNFOdO/siRP+E9C6r8YzWCYdRXlPxB2315s7OQ/WAZBqzn81r/ktIRRp4DXP1gJo2XUV+i/gL9mea4npT/IKuYZlzHHv5CMASr7UOa/6Bf+eFs+1D82LS/Y2p7ivwBwlV6R83G/wMlvr2W10b+UDYZCmufevzglJo2UqMa/MNghf9lx1L+8S3lBXsrZP5izSE2AcNE/UKJk/732x79GSCEzihPjP8j9ZdaX3+o/QEU+la071b8Awvg7o6axv9jKoPwO0se/QKTVt1n7yj/0/UQJHHfsv9gsCaCOYs6/MIoJ1DlP27+o1uWrXB7VP6ibwtrW3t+/4AImQS40pj+y4tAuzxfivzC319egrcK/BLtdgUkf778ecOliAubrv4AHImVkzKm/NDeqLLfH5T8YwOiI7rbav75RD7mrhuI/COFk8lSkxD+wCAbfO9LIv4gIMCtR++M/sDnRqPsu1T8MFpuRkWvXPzABY3eSAL0/ShGGjpbE6j8=\",\"dtype\":\"float64\",\"order\":\"little\",\"shape\":[100]}},\"selected\":{\"id\":\"1374\"},\"selection_policy\":{\"id\":\"1373\"}},\"id\":\"1359\",\"type\":\"ColumnDataSource\"},{\"attributes\":{\"line_alpha\":0.1,\"line_color\":\"#E87059\",\"line_dash\":[6],\"line_width\":4,\"x\":{\"field\":\"x\"},\"y\":{\"field\":\"y\"}},\"id\":\"1478\",\"type\":\"Line\"},{\"attributes\":{},\"id\":\"1584\",\"type\":\"Selection\"},{\"attributes\":{\"line_color\":\"#F48947\",\"line_dash\":[6],\"line_width\":4,\"x\":{\"field\":\"x\"},\"y\":{\"field\":\"y\"}},\"id\":\"1489\",\"type\":\"Line\"},{\"attributes\":{\"data\":{\"x\":{\"__ndarray__\":\"souPIPtQ7r9KP/e44KfvPw==\",\"dtype\":\"float64\",\"order\":\"little\",\"shape\":[2]},\"y\":{\"__ndarray__\":\"Z6afODWSAcD6ktBKllL7Pw==\",\"dtype\":\"float64\",\"order\":\"little\",\"shape\":[2]}},\"selected\":{\"id\":\"1582\"},\"selection_policy\":{\"id\":\"1581\"}},\"id\":\"1482\",\"type\":\"ColumnDataSource\"},{\"attributes\":{\"line_alpha\":0.2,\"line_color\":\"#F48947\",\"line_dash\":[6],\"line_width\":4,\"x\":{\"field\":\"x\"},\"y\":{\"field\":\"y\"}},\"id\":\"1491\",\"type\":\"Line\"},{\"attributes\":{\"coordinates\":null,\"data_source\":{\"id\":\"1482\"},\"glyph\":{\"id\":\"1483\"},\"group\":null,\"hover_glyph\":null,\"muted_glyph\":{\"id\":\"1485\"},\"nonselection_glyph\":{\"id\":\"1484\"},\"view\":{\"id\":\"1487\"}},\"id\":\"1486\",\"type\":\"GlyphRenderer\"},{\"attributes\":{\"source\":{\"id\":\"1482\"}},\"id\":\"1487\",\"type\":\"CDSView\"},{\"attributes\":{},\"id\":\"1565\",\"type\":\"UnionRenderers\"},{\"attributes\":{\"line_alpha\":0.1,\"line_color\":\"#EE7C50\",\"line_dash\":[6],\"line_width\":4,\"x\":{\"field\":\"x\"},\"y\":{\"field\":\"y\"}},\"id\":\"1484\",\"type\":\"Line\"},{\"attributes\":{\"data\":{\"x\":{\"__ndarray__\":\"souPIPtQ7r9KP/e44KfvPw==\",\"dtype\":\"float64\",\"order\":\"little\",\"shape\":[2]},\"y\":{\"__ndarray__\":\"v998FRTD+j82XcFYdWz9vw==\",\"dtype\":\"float64\",\"order\":\"little\",\"shape\":[2]}},\"selected\":{\"id\":\"1556\"},\"selection_policy\":{\"id\":\"1555\"}},\"id\":\"1404\",\"type\":\"ColumnDataSource\"},{\"attributes\":{\"line_color\":\"#F8963F\",\"line_dash\":[6],\"line_width\":4,\"x\":{\"field\":\"x\"},\"y\":{\"field\":\"y\"}},\"id\":\"1495\",\"type\":\"Line\"},{\"attributes\":{},\"id\":\"1566\",\"type\":\"Selection\"},{\"attributes\":{\"line_color\":\"#6A00A7\",\"line_dash\":[6],\"line_width\":4,\"x\":{\"field\":\"x\"},\"y\":{\"field\":\"y\"}},\"id\":\"1411\",\"type\":\"Line\"},{\"attributes\":{\"data\":{\"x\":{\"__ndarray__\":\"souPIPtQ7r9KP/e44KfvPw==\",\"dtype\":\"float64\",\"order\":\"little\",\"shape\":[2]},\"y\":{\"__ndarray__\":\"4YMDeHPVAMDWNAKjFxj6Pw==\",\"dtype\":\"float64\",\"order\":\"little\",\"shape\":[2]}},\"selected\":{\"id\":\"1584\"},\"selection_policy\":{\"id\":\"1583\"}},\"id\":\"1488\",\"type\":\"ColumnDataSource\"},{\"attributes\":{\"background_fill_alpha\":0.2,\"background_fill_color\":\"darkgrey\",\"border_line_alpha\":0.8,\"border_line_color\":\"grey\",\"border_line_width\":3,\"coordinates\":null,\"group\":null,\"items\":[{\"id\":\"1377\"}],\"label_text_color\":\"white\"},\"id\":\"1376\",\"type\":\"Legend\"},{\"attributes\":{\"line_alpha\":0.2,\"line_color\":\"#F8963F\",\"line_dash\":[6],\"line_width\":4,\"x\":{\"field\":\"x\"},\"y\":{\"field\":\"y\"}},\"id\":\"1497\",\"type\":\"Line\"},{\"attributes\":{\"fill_alpha\":{\"value\":0.2},\"fill_color\":{\"field\":\"color\"},\"hatch_alpha\":{\"value\":0.2},\"hatch_color\":{\"field\":\"color\"},\"line_alpha\":{\"value\":0.2},\"line_color\":{\"value\":\"white\"},\"size\":{\"value\":10},\"x\":{\"field\":\"x\"},\"y\":{\"field\":\"y\"}},\"id\":\"1363\",\"type\":\"Circle\"},{\"attributes\":{\"coordinates\":null,\"data_source\":{\"id\":\"1488\"},\"glyph\":{\"id\":\"1489\"},\"group\":null,\"hover_glyph\":null,\"muted_glyph\":{\"id\":\"1491\"},\"nonselection_glyph\":{\"id\":\"1490\"},\"view\":{\"id\":\"1493\"}},\"id\":\"1492\",\"type\":\"GlyphRenderer\"},{\"attributes\":{},\"id\":\"1547\",\"type\":\"UnionRenderers\"},{\"attributes\":{\"source\":{\"id\":\"1488\"}},\"id\":\"1493\",\"type\":\"CDSView\"},{\"attributes\":{\"source\":{\"id\":\"1359\"}},\"id\":\"1365\",\"type\":\"CDSView\"},{\"attributes\":{\"line_alpha\":0.1,\"line_color\":\"#F48947\",\"line_dash\":[6],\"line_width\":4,\"x\":{\"field\":\"x\"},\"y\":{\"field\":\"y\"}},\"id\":\"1490\",\"type\":\"Line\"},{\"attributes\":{\"line_color\":\"#FCA635\",\"line_dash\":[6],\"line_width\":4,\"x\":{\"field\":\"x\"},\"y\":{\"field\":\"y\"}},\"id\":\"1501\",\"type\":\"Line\"},{\"attributes\":{},\"id\":\"1585\",\"type\":\"UnionRenderers\"},{\"attributes\":{\"data\":{\"x\":{\"__ndarray__\":\"souPIPtQ7r9KP/e44KfvPw==\",\"dtype\":\"float64\",\"order\":\"little\",\"shape\":[2]},\"y\":{\"__ndarray__\":\"Jtzsk/BHAMCChIxfS/75Pw==\",\"dtype\":\"float64\",\"order\":\"little\",\"shape\":[2]}},\"selected\":{\"id\":\"1586\"},\"selection_policy\":{\"id\":\"1585\"}},\"id\":\"1494\",\"type\":\"ColumnDataSource\"},{\"attributes\":{},\"id\":\"1548\",\"type\":\"Selection\"},{\"attributes\":{\"line_alpha\":0.2,\"line_color\":\"#FCA635\",\"line_dash\":[6],\"line_width\":4,\"x\":{\"field\":\"x\"},\"y\":{\"field\":\"y\"}},\"id\":\"1503\",\"type\":\"Line\"},{\"attributes\":{\"coordinates\":null,\"data_source\":{\"id\":\"1494\"},\"glyph\":{\"id\":\"1495\"},\"group\":null,\"hover_glyph\":null,\"muted_glyph\":{\"id\":\"1497\"},\"nonselection_glyph\":{\"id\":\"1496\"},\"view\":{\"id\":\"1499\"}},\"id\":\"1498\",\"type\":\"GlyphRenderer\"},{\"attributes\":{\"line_alpha\":0.1,\"line_color\":\"#0C0786\",\"line_dash\":[6],\"line_width\":4,\"x\":{\"field\":\"x\"},\"y\":{\"field\":\"y\"}},\"id\":\"1382\",\"type\":\"Line\"},{\"attributes\":{\"source\":{\"id\":\"1494\"}},\"id\":\"1499\",\"type\":\"CDSView\"},{\"attributes\":{},\"id\":\"1586\",\"type\":\"Selection\"},{\"attributes\":{\"line_alpha\":0.1,\"line_color\":\"#F8963F\",\"line_dash\":[6],\"line_width\":4,\"x\":{\"field\":\"x\"},\"y\":{\"field\":\"y\"}},\"id\":\"1496\",\"type\":\"Line\"},{\"attributes\":{\"line_color\":\"#FDB52D\",\"line_dash\":[6],\"line_width\":4,\"x\":{\"field\":\"x\"},\"y\":{\"field\":\"y\"}},\"id\":\"1507\",\"type\":\"Line\"},{\"attributes\":{\"data\":{\"x\":{\"__ndarray__\":\"souPIPtQ7r9KP/e44KfvPw==\",\"dtype\":\"float64\",\"order\":\"little\",\"shape\":[2]},\"y\":{\"__ndarray__\":\"m1LMcNl9/78ARUPyUOX5Pw==\",\"dtype\":\"float64\",\"order\":\"little\",\"shape\":[2]}},\"selected\":{\"id\":\"1588\"},\"selection_policy\":{\"id\":\"1587\"}},\"id\":\"1500\",\"type\":\"ColumnDataSource\"},{\"attributes\":{},\"id\":\"1567\",\"type\":\"UnionRenderers\"},{\"attributes\":{\"line_alpha\":0.2,\"line_color\":\"#FDB52D\",\"line_dash\":[6],\"line_width\":4,\"x\":{\"field\":\"x\"},\"y\":{\"field\":\"y\"}},\"id\":\"1509\",\"type\":\"Line\"},{\"attributes\":{\"coordinates\":null,\"data_source\":{\"id\":\"1500\"},\"glyph\":{\"id\":\"1501\"},\"group\":null,\"hover_glyph\":null,\"muted_glyph\":{\"id\":\"1503\"},\"nonselection_glyph\":{\"id\":\"1502\"},\"view\":{\"id\":\"1505\"}},\"id\":\"1504\",\"type\":\"GlyphRenderer\"},{\"attributes\":{\"source\":{\"id\":\"1500\"}},\"id\":\"1505\",\"type\":\"CDSView\"},{\"attributes\":{},\"id\":\"1568\",\"type\":\"Selection\"},{\"attributes\":{\"line_alpha\":0.1,\"line_color\":\"#FCA635\",\"line_dash\":[6],\"line_width\":4,\"x\":{\"field\":\"x\"},\"y\":{\"field\":\"y\"}},\"id\":\"1502\",\"type\":\"Line\"},{\"attributes\":{\"line_color\":\"#FDC427\",\"line_dash\":[6],\"line_width\":4,\"x\":{\"field\":\"x\"},\"y\":{\"field\":\"y\"}},\"id\":\"1513\",\"type\":\"Line\"},{\"attributes\":{\"data\":{\"x\":{\"__ndarray__\":\"souPIPtQ7r9KP/e44KfvPw==\",\"dtype\":\"float64\",\"order\":\"little\",\"shape\":[2]},\"y\":{\"__ndarray__\":\"rHmLL9c4/r9H8M8Jr8n4Pw==\",\"dtype\":\"float64\",\"order\":\"little\",\"shape\":[2]}},\"selected\":{\"id\":\"1590\"},\"selection_policy\":{\"id\":\"1589\"}},\"id\":\"1506\",\"type\":\"ColumnDataSource\"},{\"attributes\":{\"line_color\":\"#0C0786\",\"line_dash\":[6],\"line_width\":4,\"x\":{\"field\":\"x\"},\"y\":{\"field\":\"y\"}},\"id\":\"1381\",\"type\":\"Line\"},{\"attributes\":{\"line_alpha\":0.2,\"line_color\":\"#FDC427\",\"line_dash\":[6],\"line_width\":4,\"x\":{\"field\":\"x\"},\"y\":{\"field\":\"y\"}},\"id\":\"1515\",\"type\":\"Line\"},{\"attributes\":{},\"id\":\"1549\",\"type\":\"UnionRenderers\"},{\"attributes\":{\"coordinates\":null,\"data_source\":{\"id\":\"1506\"},\"glyph\":{\"id\":\"1507\"},\"group\":null,\"hover_glyph\":null,\"muted_glyph\":{\"id\":\"1509\"},\"nonselection_glyph\":{\"id\":\"1508\"},\"view\":{\"id\":\"1511\"}},\"id\":\"1510\",\"type\":\"GlyphRenderer\"},{\"attributes\":{\"source\":{\"id\":\"1506\"}},\"id\":\"1511\",\"type\":\"CDSView\"},{\"attributes\":{},\"id\":\"1587\",\"type\":\"UnionRenderers\"},{\"attributes\":{},\"id\":\"1550\",\"type\":\"Selection\"},{\"attributes\":{\"line_alpha\":0.1,\"line_color\":\"#FDB52D\",\"line_dash\":[6],\"line_width\":4,\"x\":{\"field\":\"x\"},\"y\":{\"field\":\"y\"}},\"id\":\"1508\",\"type\":\"Line\"},{\"attributes\":{\"line_color\":\"#FAD524\",\"line_dash\":[6],\"line_width\":4,\"x\":{\"field\":\"x\"},\"y\":{\"field\":\"y\"}},\"id\":\"1519\",\"type\":\"Line\"},{\"attributes\":{},\"id\":\"1588\",\"type\":\"Selection\"},{\"attributes\":{\"data\":{\"x\":{\"__ndarray__\":\"souPIPtQ7r9KP/e44KfvPw==\",\"dtype\":\"float64\",\"order\":\"little\",\"shape\":[2]},\"y\":{\"__ndarray__\":\"TDd8KnQ8/b89NB1Th7b4Pw==\",\"dtype\":\"float64\",\"order\":\"little\",\"shape\":[2]}},\"selected\":{\"id\":\"1592\"},\"selection_policy\":{\"id\":\"1591\"}},\"id\":\"1512\",\"type\":\"ColumnDataSource\"},{\"attributes\":{\"line_alpha\":0.2,\"line_color\":\"#FAD524\",\"line_dash\":[6],\"line_width\":4,\"x\":{\"field\":\"x\"},\"y\":{\"field\":\"y\"}},\"id\":\"1521\",\"type\":\"Line\"},{\"attributes\":{\"coordinates\":null,\"data_source\":{\"id\":\"1512\"},\"glyph\":{\"id\":\"1513\"},\"group\":null,\"hover_glyph\":null,\"muted_glyph\":{\"id\":\"1515\"},\"nonselection_glyph\":{\"id\":\"1514\"},\"view\":{\"id\":\"1517\"}},\"id\":\"1516\",\"type\":\"GlyphRenderer\"},{\"attributes\":{\"source\":{\"id\":\"1512\"}},\"id\":\"1517\",\"type\":\"CDSView\"},{\"attributes\":{},\"id\":\"1569\",\"type\":\"UnionRenderers\"},{\"attributes\":{\"axis\":{\"id\":\"1337\"},\"coordinates\":null,\"grid_line_alpha\":0.15,\"grid_line_color\":\"#E0E0E0\",\"group\":null,\"ticker\":null},\"id\":\"1340\",\"type\":\"Grid\"},{\"attributes\":{\"line_alpha\":0.1,\"line_color\":\"#FDC427\",\"line_dash\":[6],\"line_width\":4,\"x\":{\"field\":\"x\"},\"y\":{\"field\":\"y\"}},\"id\":\"1514\",\"type\":\"Line\"},{\"attributes\":{\"line_color\":\"#F6E525\",\"line_dash\":[6],\"line_width\":4,\"x\":{\"field\":\"x\"},\"y\":{\"field\":\"y\"}},\"id\":\"1525\",\"type\":\"Line\"},{\"attributes\":{\"data\":{\"x\":{\"__ndarray__\":\"souPIPtQ7r9KP/e44KfvPw==\",\"dtype\":\"float64\",\"order\":\"little\",\"shape\":[2]},\"y\":{\"__ndarray__\":\"+EWqqZpH/L97k68N8qP4Pw==\",\"dtype\":\"float64\",\"order\":\"little\",\"shape\":[2]}},\"selected\":{\"id\":\"1594\"},\"selection_policy\":{\"id\":\"1593\"}},\"id\":\"1518\",\"type\":\"ColumnDataSource\"},{\"attributes\":{},\"id\":\"1338\",\"type\":\"BasicTicker\"},{\"attributes\":{},\"id\":\"1570\",\"type\":\"Selection\"},{\"attributes\":{\"line_alpha\":0.2,\"line_color\":\"#F6E525\",\"line_dash\":[6],\"line_width\":4,\"x\":{\"field\":\"x\"},\"y\":{\"field\":\"y\"}},\"id\":\"1527\",\"type\":\"Line\"},{\"attributes\":{\"coordinates\":null,\"data_source\":{\"id\":\"1518\"},\"glyph\":{\"id\":\"1519\"},\"group\":null,\"hover_glyph\":null,\"muted_glyph\":{\"id\":\"1521\"},\"nonselection_glyph\":{\"id\":\"1520\"},\"view\":{\"id\":\"1523\"}},\"id\":\"1522\",\"type\":\"GlyphRenderer\"},{\"attributes\":{\"source\":{\"id\":\"1518\"}},\"id\":\"1523\",\"type\":\"CDSView\"},{\"attributes\":{\"line_alpha\":0.1,\"line_color\":\"#FAD524\",\"line_dash\":[6],\"line_width\":4,\"x\":{\"field\":\"x\"},\"y\":{\"field\":\"y\"}},\"id\":\"1520\",\"type\":\"Line\"},{\"attributes\":{},\"id\":\"1551\",\"type\":\"UnionRenderers\"},{\"attributes\":{\"line_color\":\"#EFF821\",\"line_dash\":[6],\"line_width\":4,\"x\":{\"field\":\"x\"},\"y\":{\"field\":\"y\"}},\"id\":\"1531\",\"type\":\"Line\"},{\"attributes\":{\"data\":{\"x\":{\"__ndarray__\":\"souPIPtQ7r9KP/e44KfvPw==\",\"dtype\":\"float64\",\"order\":\"little\",\"shape\":[2]},\"y\":{\"__ndarray__\":\"oWxQ6K0t+79yN+BwSaL3Pw==\",\"dtype\":\"float64\",\"order\":\"little\",\"shape\":[2]}},\"selected\":{\"id\":\"1596\"},\"selection_policy\":{\"id\":\"1595\"}},\"id\":\"1524\",\"type\":\"ColumnDataSource\"},{\"attributes\":{},\"id\":\"1589\",\"type\":\"UnionRenderers\"},{\"attributes\":{\"line_alpha\":0.2,\"line_color\":\"#EFF821\",\"line_dash\":[6],\"line_width\":4,\"x\":{\"field\":\"x\"},\"y\":{\"field\":\"y\"}},\"id\":\"1533\",\"type\":\"Line\"},{\"attributes\":{\"source\":{\"id\":\"1392\"}},\"id\":\"1397\",\"type\":\"CDSView\"},{\"attributes\":{\"coordinates\":null,\"data_source\":{\"id\":\"1524\"},\"glyph\":{\"id\":\"1525\"},\"group\":null,\"hover_glyph\":null,\"muted_glyph\":{\"id\":\"1527\"},\"nonselection_glyph\":{\"id\":\"1526\"},\"view\":{\"id\":\"1529\"}},\"id\":\"1528\",\"type\":\"GlyphRenderer\"},{\"attributes\":{},\"id\":\"1552\",\"type\":\"Selection\"},{\"attributes\":{\"coordinates\":null,\"data_source\":{\"id\":\"1392\"},\"glyph\":{\"id\":\"1393\"},\"group\":null,\"hover_glyph\":null,\"muted_glyph\":{\"id\":\"1395\"},\"nonselection_glyph\":{\"id\":\"1394\"},\"view\":{\"id\":\"1397\"}},\"id\":\"1396\",\"type\":\"GlyphRenderer\"},{\"attributes\":{\"source\":{\"id\":\"1524\"}},\"id\":\"1529\",\"type\":\"CDSView\"},{\"attributes\":{\"line_alpha\":0.2,\"line_color\":\"#49029F\",\"line_dash\":[6],\"line_width\":4,\"x\":{\"field\":\"x\"},\"y\":{\"field\":\"y\"}},\"id\":\"1401\",\"type\":\"Line\"},{\"attributes\":{},\"id\":\"1590\",\"type\":\"Selection\"},{\"attributes\":{\"data\":{\"x\":{\"__ndarray__\":\"souPIPtQ7r9KP/e44KfvPw==\",\"dtype\":\"float64\",\"order\":\"little\",\"shape\":[2]},\"y\":{\"__ndarray__\":\"2+eRMuNEsD+s5z7+/N31vw==\",\"dtype\":\"float64\",\"order\":\"little\",\"shape\":[2]}},\"selected\":{\"id\":\"1552\"},\"selection_policy\":{\"id\":\"1551\"}},\"id\":\"1392\",\"type\":\"ColumnDataSource\"},{\"attributes\":{\"line_alpha\":0.1,\"line_color\":\"#F6E525\",\"line_dash\":[6],\"line_width\":4,\"x\":{\"field\":\"x\"},\"y\":{\"field\":\"y\"}},\"id\":\"1526\",\"type\":\"Line\"},{\"attributes\":{\"line_color\":\"#49029F\",\"line_dash\":[6],\"line_width\":4,\"x\":{\"field\":\"x\"},\"y\":{\"field\":\"y\"}},\"id\":\"1399\",\"type\":\"Line\"},{\"attributes\":{\"line_alpha\":0.1,\"line_color\":\"#250591\",\"line_dash\":[6],\"line_width\":4,\"x\":{\"field\":\"x\"},\"y\":{\"field\":\"y\"}},\"id\":\"1388\",\"type\":\"Line\"},{\"attributes\":{\"data\":{\"x\":{\"__ndarray__\":\"souPIPtQ7r9KP/e44KfvPw==\",\"dtype\":\"float64\",\"order\":\"little\",\"shape\":[2]},\"y\":{\"__ndarray__\":\"3tn7cu9K+r9cIQEMdJT3Pw==\",\"dtype\":\"float64\",\"order\":\"little\",\"shape\":[2]}},\"selected\":{\"id\":\"1598\"},\"selection_policy\":{\"id\":\"1597\"}},\"id\":\"1530\",\"type\":\"ColumnDataSource\"},{\"attributes\":{},\"id\":\"1350\",\"type\":\"HelpTool\"},{\"attributes\":{\"line_alpha\":0.2,\"line_color\":\"#380499\",\"line_dash\":[6],\"line_width\":4,\"x\":{\"field\":\"x\"},\"y\":{\"field\":\"y\"}},\"id\":\"1395\",\"type\":\"Line\"},{\"attributes\":{\"axis_label\":\"x\",\"axis_label_standoff\":10,\"axis_label_text_color\":\"#FFFFFF\",\"axis_label_text_font\":\"Josefin Sans\",\"axis_label_text_font_size\":\"1.9em\",\"axis_label_text_font_style\":\"bold\",\"axis_line_alpha\":0.4,\"axis_line_color\":\"#E0E0E0\",\"coordinates\":null,\"formatter\":{\"id\":\"1371\"},\"group\":null,\"major_label_policy\":{\"id\":\"1372\"},\"major_label_text_color\":\"#E0E0E0\",\"major_label_text_font\":\"Josefin Sans\",\"major_label_text_font_size\":\"1.15em\",\"major_tick_line_alpha\":0.4,\"major_tick_line_color\":\"#E0E0E0\",\"minor_tick_line_alpha\":0.4,\"minor_tick_line_color\":\"#E0E0E0\",\"ticker\":{\"id\":\"1338\"}},\"id\":\"1337\",\"type\":\"LinearAxis\"},{\"attributes\":{},\"id\":\"1571\",\"type\":\"UnionRenderers\"},{\"attributes\":{\"coordinates\":null,\"data_source\":{\"id\":\"1386\"},\"glyph\":{\"id\":\"1387\"},\"group\":null,\"hover_glyph\":null,\"muted_glyph\":{\"id\":\"1389\"},\"nonselection_glyph\":{\"id\":\"1388\"},\"view\":{\"id\":\"1391\"}},\"id\":\"1390\",\"type\":\"GlyphRenderer\"},{\"attributes\":{\"coordinates\":null,\"data_source\":{\"id\":\"1530\"},\"glyph\":{\"id\":\"1531\"},\"group\":null,\"hover_glyph\":null,\"muted_glyph\":{\"id\":\"1533\"},\"nonselection_glyph\":{\"id\":\"1532\"},\"view\":{\"id\":\"1535\"}},\"id\":\"1534\",\"type\":\"GlyphRenderer\"},{\"attributes\":{},\"id\":\"1345\",\"type\":\"PanTool\"},{\"attributes\":{\"source\":{\"id\":\"1386\"}},\"id\":\"1391\",\"type\":\"CDSView\"},{\"attributes\":{\"source\":{\"id\":\"1530\"}},\"id\":\"1535\",\"type\":\"CDSView\"},{\"attributes\":{},\"id\":\"1335\",\"type\":\"LinearScale\"},{\"attributes\":{\"line_alpha\":0.2,\"line_color\":\"#0C0786\",\"line_dash\":[6],\"line_width\":4,\"x\":{\"field\":\"x\"},\"y\":{\"field\":\"y\"}},\"id\":\"1383\",\"type\":\"Line\"},{\"attributes\":{\"line_alpha\":0.2,\"line_color\":\"#250591\",\"line_dash\":[6],\"line_width\":4,\"x\":{\"field\":\"x\"},\"y\":{\"field\":\"y\"}},\"id\":\"1389\",\"type\":\"Line\"},{\"attributes\":{\"line_alpha\":0.1,\"line_color\":\"#EFF821\",\"line_dash\":[6],\"line_width\":4,\"x\":{\"field\":\"x\"},\"y\":{\"field\":\"y\"}},\"id\":\"1532\",\"type\":\"Line\"},{\"attributes\":{},\"id\":\"1572\",\"type\":\"Selection\"},{\"attributes\":{\"label\":{\"field\":\"label\"},\"renderers\":[{\"id\":\"1364\"}]},\"id\":\"1377\",\"type\":\"LegendItem\"},{\"attributes\":{\"line_color\":\"#380499\",\"line_dash\":[6],\"line_width\":4,\"x\":{\"field\":\"x\"},\"y\":{\"field\":\"y\"}},\"id\":\"1393\",\"type\":\"Line\"},{\"attributes\":{\"end\":0.9892428982366053,\"start\":-0.9473853717757861},\"id\":\"1378\",\"type\":\"Range1d\"},{\"attributes\":{},\"id\":\"1553\",\"type\":\"UnionRenderers\"},{\"attributes\":{\"client_comm_id\":\"2d1743b5125147dc9f5c8b6cef10434a\",\"comm_id\":\"aeffef8ca7024a6ea4864ca4b02d0646\",\"plot_id\":\"1536\"},\"id\":\"1849\",\"type\":\"panel.models.comm_manager.CommManager\"},{\"attributes\":{\"source\":{\"id\":\"1380\"}},\"id\":\"1385\",\"type\":\"CDSView\"},{\"attributes\":{},\"id\":\"1554\",\"type\":\"Selection\"},{\"attributes\":{\"tools\":[{\"id\":\"1345\"},{\"id\":\"1346\"},{\"id\":\"1347\"},{\"id\":\"1348\"},{\"id\":\"1349\"},{\"id\":\"1350\"}]},\"id\":\"1352\",\"type\":\"Toolbar\"},{\"attributes\":{},\"id\":\"1591\",\"type\":\"UnionRenderers\"},{\"attributes\":{\"line_alpha\":0.1,\"line_color\":\"#380499\",\"line_dash\":[6],\"line_width\":4,\"x\":{\"field\":\"x\"},\"y\":{\"field\":\"y\"}},\"id\":\"1394\",\"type\":\"Line\"},{\"attributes\":{\"bottom_units\":\"screen\",\"coordinates\":null,\"fill_alpha\":0.5,\"fill_color\":\"lightgrey\",\"group\":null,\"left_units\":\"screen\",\"level\":\"overlay\",\"line_alpha\":1.0,\"line_color\":\"black\",\"line_dash\":[4,4],\"line_width\":2,\"right_units\":\"screen\",\"syncable\":false,\"top_units\":\"screen\"},\"id\":\"1351\",\"type\":\"BoxAnnotation\"},{\"attributes\":{\"line_color\":\"#5901A4\",\"line_dash\":[6],\"line_width\":4,\"x\":{\"field\":\"x\"},\"y\":{\"field\":\"y\"}},\"id\":\"1405\",\"type\":\"Line\"},{\"attributes\":{},\"id\":\"1592\",\"type\":\"Selection\"},{\"attributes\":{\"data\":{\"x\":{\"__ndarray__\":\"souPIPtQ7r9KP/e44KfvPw==\",\"dtype\":\"float64\",\"order\":\"little\",\"shape\":[2]},\"y\":{\"__ndarray__\":\"BP+m4/xn5j+8a9qEtAT3vw==\",\"dtype\":\"float64\",\"order\":\"little\",\"shape\":[2]}},\"selected\":{\"id\":\"1554\"},\"selection_policy\":{\"id\":\"1553\"}},\"id\":\"1398\",\"type\":\"ColumnDataSource\"},{\"attributes\":{\"line_alpha\":0.2,\"line_color\":\"#5901A4\",\"line_dash\":[6],\"line_width\":4,\"x\":{\"field\":\"x\"},\"y\":{\"field\":\"y\"}},\"id\":\"1407\",\"type\":\"Line\"},{\"attributes\":{\"data\":{\"x\":{\"__ndarray__\":\"souPIPtQ7r9KP/e44KfvPw==\",\"dtype\":\"float64\",\"order\":\"little\",\"shape\":[2]},\"y\":{\"__ndarray__\":\"G9lo81Ig47//NWMMFXT4vw==\",\"dtype\":\"float64\",\"order\":\"little\",\"shape\":[2]}},\"selected\":{\"id\":\"1550\"},\"selection_policy\":{\"id\":\"1549\"}},\"id\":\"1386\",\"type\":\"ColumnDataSource\"},{\"attributes\":{\"coordinates\":null,\"data_source\":{\"id\":\"1398\"},\"glyph\":{\"id\":\"1399\"},\"group\":null,\"hover_glyph\":null,\"muted_glyph\":{\"id\":\"1401\"},\"nonselection_glyph\":{\"id\":\"1400\"},\"view\":{\"id\":\"1403\"}},\"id\":\"1402\",\"type\":\"GlyphRenderer\"},{\"attributes\":{},\"id\":\"1573\",\"type\":\"UnionRenderers\"},{\"attributes\":{\"source\":{\"id\":\"1398\"}},\"id\":\"1403\",\"type\":\"CDSView\"},{\"attributes\":{\"line_alpha\":0.1,\"line_color\":\"#49029F\",\"line_dash\":[6],\"line_width\":4,\"x\":{\"field\":\"x\"},\"y\":{\"field\":\"y\"}},\"id\":\"1400\",\"type\":\"Line\"},{\"attributes\":{},\"id\":\"1349\",\"type\":\"ResetTool\"},{\"attributes\":{},\"id\":\"1574\",\"type\":\"Selection\"},{\"attributes\":{\"line_color\":\"#7901A8\",\"line_dash\":[6],\"line_width\":4,\"x\":{\"field\":\"x\"},\"y\":{\"field\":\"y\"}},\"id\":\"1417\",\"type\":\"Line\"},{\"attributes\":{},\"id\":\"1348\",\"type\":\"SaveTool\"},{\"attributes\":{\"coordinates\":null,\"data_source\":{\"id\":\"1404\"},\"glyph\":{\"id\":\"1405\"},\"group\":null,\"hover_glyph\":null,\"muted_glyph\":{\"id\":\"1407\"},\"nonselection_glyph\":{\"id\":\"1406\"},\"view\":{\"id\":\"1409\"}},\"id\":\"1408\",\"type\":\"GlyphRenderer\"},{\"attributes\":{\"overlay\":{\"id\":\"1351\"}},\"id\":\"1347\",\"type\":\"BoxZoomTool\"},{\"attributes\":{\"source\":{\"id\":\"1404\"}},\"id\":\"1409\",\"type\":\"CDSView\"},{\"attributes\":{\"line_alpha\":0.2,\"line_color\":\"#6A00A7\",\"line_dash\":[6],\"line_width\":4,\"x\":{\"field\":\"x\"},\"y\":{\"field\":\"y\"}},\"id\":\"1413\",\"type\":\"Line\"},{\"attributes\":{\"line_alpha\":0.1,\"line_color\":\"#5901A4\",\"line_dash\":[6],\"line_width\":4,\"x\":{\"field\":\"x\"},\"y\":{\"field\":\"y\"}},\"id\":\"1406\",\"type\":\"Line\"},{\"attributes\":{\"data\":{\"x\":{\"__ndarray__\":\"souPIPtQ7r9KP/e44KfvPw==\",\"dtype\":\"float64\",\"order\":\"little\",\"shape\":[2]},\"y\":{\"__ndarray__\":\"kZl3+2ZiCUDJ1ArEQaYHwA==\",\"dtype\":\"float64\",\"order\":\"little\",\"shape\":[2]}},\"selected\":{\"id\":\"1558\"},\"selection_policy\":{\"id\":\"1557\"}},\"id\":\"1410\",\"type\":\"ColumnDataSource\"},{\"attributes\":{},\"id\":\"1555\",\"type\":\"UnionRenderers\"},{\"attributes\":{\"line_alpha\":0.2,\"line_color\":\"#8807A5\",\"line_dash\":[6],\"line_width\":4,\"x\":{\"field\":\"x\"},\"y\":{\"field\":\"y\"}},\"id\":\"1425\",\"type\":\"Line\"},{\"attributes\":{\"children\":[{\"id\":\"1537\"},{\"id\":\"1326\"},{\"id\":\"1662\"}],\"margin\":[0,0,0,0],\"name\":\"Row00120\"},\"id\":\"1536\",\"type\":\"Row\"},{\"attributes\":{\"end\":0.9981724244021142,\"start\":-0.9725692297632524},\"id\":\"1379\",\"type\":\"Range1d\"},{\"attributes\":{\"coordinates\":null,\"data_source\":{\"id\":\"1410\"},\"glyph\":{\"id\":\"1411\"},\"group\":null,\"hover_glyph\":null,\"muted_glyph\":{\"id\":\"1413\"},\"nonselection_glyph\":{\"id\":\"1412\"},\"view\":{\"id\":\"1415\"}},\"id\":\"1414\",\"type\":\"GlyphRenderer\"},{\"attributes\":{},\"id\":\"1556\",\"type\":\"Selection\"},{\"attributes\":{},\"id\":\"1593\",\"type\":\"UnionRenderers\"},{\"attributes\":{\"source\":{\"id\":\"1410\"}},\"id\":\"1415\",\"type\":\"CDSView\"},{\"attributes\":{\"margin\":[5,5,5,5],\"name\":\"HSpacer00116\",\"sizing_mode\":\"stretch_width\"},\"id\":\"1537\",\"type\":\"Spacer\"},{\"attributes\":{\"line_alpha\":0.2,\"line_color\":\"#7901A8\",\"line_dash\":[6],\"line_width\":4,\"x\":{\"field\":\"x\"},\"y\":{\"field\":\"y\"}},\"id\":\"1419\",\"type\":\"Line\"},{\"attributes\":{\"line_alpha\":0.1,\"line_color\":\"#6A00A7\",\"line_dash\":[6],\"line_width\":4,\"x\":{\"field\":\"x\"},\"y\":{\"field\":\"y\"}},\"id\":\"1412\",\"type\":\"Line\"},{\"attributes\":{\"margin\":[5,5,5,5],\"name\":\"HSpacer00117\",\"sizing_mode\":\"stretch_width\"},\"id\":\"1662\",\"type\":\"Spacer\"},{\"attributes\":{\"data\":{\"x\":{\"__ndarray__\":\"souPIPtQ7r9KP/e44KfvPw==\",\"dtype\":\"float64\",\"order\":\"little\",\"shape\":[2]},\"y\":{\"__ndarray__\":\"tHM5P8UNHUAeBEaB8ecXwA==\",\"dtype\":\"float64\",\"order\":\"little\",\"shape\":[2]}},\"selected\":{\"id\":\"1560\"},\"selection_policy\":{\"id\":\"1559\"}},\"id\":\"1416\",\"type\":\"ColumnDataSource\"}],\"root_ids\":[\"1536\",\"1849\"]},\"title\":\"Bokeh Application\",\"version\":\"2.4.3\"}};\n",
       "    var render_items = [{\"docid\":\"7069a65b-58c5-41d2-969d-cf79c5836240\",\"root_ids\":[\"1536\"],\"roots\":{\"1536\":\"ba28e1c8-677b-4e7b-b9ee-85b76dcff80d\"}}];\n",
       "    root.Bokeh.embed.embed_items_notebook(docs_json, render_items);\n",
       "    for (const render_item of render_items) {\n",
       "      for (const root_id of render_item.root_ids) {\n",
       "\tconst id_el = document.getElementById(root_id)\n",
       "\tif (id_el.children.length && (id_el.children[0].className === 'bk-root')) {\n",
       "\t  const root_el = id_el.children[0]\n",
       "\t  root_el.id = root_el.id + '-rendered'\n",
       "\t}\n",
       "      }\n",
       "    }\n",
       "  }\n",
       "  if (root.Bokeh !== undefined && root.Bokeh.Panel !== undefined) {\n",
       "    embed_document(root);\n",
       "  } else {\n",
       "    var attempts = 0;\n",
       "    var timer = setInterval(function(root) {\n",
       "      if (root.Bokeh !== undefined && root.Bokeh.Panel !== undefined) {\n",
       "        clearInterval(timer);\n",
       "        embed_document(root);\n",
       "      } else if (document.readyState == \"complete\") {\n",
       "        attempts++;\n",
       "        if (attempts > 200) {\n",
       "          clearInterval(timer);\n",
       "          console.log(\"Bokeh: ERROR: Unable to run BokehJS code because BokehJS library is missing\");\n",
       "        }\n",
       "      }\n",
       "    }, 25, root)\n",
       "  }\n",
       "})(window);</script>"
      ],
      "text/plain": [
       "Row\n",
       "    [0] HSpacer()\n",
       "    [1] Bokeh(Figure)\n",
       "    [2] HSpacer()"
      ]
     },
     "execution_count": 7,
     "metadata": {
      "application/vnd.holoviews_exec.v0+json": {
       "id": "1536"
      }
     },
     "output_type": "execute_result"
    }
   ],
   "source": [
    "verbose = False\n",
    "weights_history[0] = weights\n",
    "bias_history[0] = bias\n",
    "# Update loop\n",
    "for i in range(n_epochs):\n",
    "    \n",
    "    ######################\n",
    "    # YOUR CODE GOES HERE\n",
    "    ######################\n",
    "    \n",
    "    \n",
    "    \n",
    "    \n",
    "    \n",
    "    \n",
    "    \n",
    "    \n",
    "    \n",
    "    ######################\n",
    "    # Solution  \n",
    "    y_bar = np.dot(weights, x_inputs.T) + bias > 0\n",
    "    if np.sum(np.abs(y_bar - y_class)) == 0:\n",
    "        break\n",
    "    error = y_class - y_bar\n",
    "    weights = weights + eta * (np.dot(error, x_inputs))\n",
    "    bias = bias + eta * (np.sum(error))\n",
    "    ######################\n",
    "    \n",
    "    weights_history[i + 1] = weights\n",
    "    bias_history[i + 1] = bias\n",
    "    \n",
    "    if (verbose):\n",
    "        print('%2d. error = %f, weights = %f, %f, %f' % (i, np.sum(np.abs(error)) / n_observations, bias[0, 0], weights[0, 0], weights[0, 1]))\n",
    "        \n",
    "plot = center_plot(scatter_boundary(x_inputs, y_class, weights_history, bias_history, i + 1))\n",
    "plot"
   ]
  },
  {
   "cell_type": "markdown",
   "metadata": {},
   "source": [
    "### Neuron implementation in `JAX`\n",
    "\n",
    "As seen in the previous course, the `NumPy` implementation requires us to perform manual differentiation of our loss function to understand how to update the parameters. However, the recent [`JAX`](https://github.com/google/jax) library provides **automatic differentiation** on top of the `NumPy` library. If you have not yet completed the set of [tutorials](https://jax.readthedocs.io/en/latest/), we strongly encourage you to do so. We will introduce a few more functions compared to last time, but we try to keep the implementation as simple as possible on purpose."
   ]
  },
  {
   "cell_type": "code",
   "execution_count": 9,
   "metadata": {
    "tags": []
   },
   "outputs": [],
   "source": [
    "import jax.numpy as jnp\n",
    "from jax import grad, jit, random\n",
    "key = random.PRNGKey(42)"
   ]
  },
  {
   "cell_type": "markdown",
   "metadata": {},
   "source": [
    "We keep our previousmy generated dataset but we will rely on `jnp.ndarray` instead of `np.ndarray`, by simply casting the arrays to JAX-compliant ones."
   ]
  },
  {
   "cell_type": "code",
   "execution_count": 10,
   "metadata": {
    "tags": []
   },
   "outputs": [],
   "source": [
    "x_jax = jnp.asarray(x_inputs)\n",
    "y_jax = jnp.asarray(y_class)"
   ]
  },
  {
   "cell_type": "markdown",
   "metadata": {},
   "source": [
    "We will also keep the same hyperparameters as previously (see `eta`, `lambda_r` and `n_epochs` above) and randomly initialize our parameters "
   ]
  },
  {
   "cell_type": "code",
   "execution_count": 11,
   "metadata": {
    "tags": []
   },
   "outputs": [],
   "source": [
    "eta = 0.01\n",
    "# Perform key splitting\n",
    "key_w, key_b, key = random.split(key, 3)\n",
    "# Initialize the weights\n",
    "weights = random.normal(key_w, (1, 2));\n",
    "bias = random.normal(key_b, (1, 1));\n",
    "# Save the weight history for plotting\n",
    "weights_history = jnp.zeros((n_epochs + 1, 2));\n",
    "bias_history = jnp.zeros((n_epochs + 1, 1));\n",
    "# Record the first \n",
    "weights_history = weights_history.at[0].set(weights[0])\n",
    "bias_history = bias_history.at[0].set(bias[0])"
   ]
  },
  {
   "cell_type": "markdown",
   "metadata": {},
   "source": [
    "As we discussed earlier, the original model by McCulloch & Pitts has several issues regarding its use for numerical optimization (as it was originally observed from a neuroscience point of view)\n",
    "\n",
    "***\n",
    "\n",
    "<div class=\"alert alert-success\" markdown=\"1\" style=\"color:white; background-color: #410819; border-color: #cb2e47\">\n",
    "\n",
    "> **Changes from the `NumPy` implementation**\n",
    ">   1. (Smoothness) Our _activation function_ will change from _identity_ to sigmoid, i.e. $ \\phi(\\mathbf{x}) = \\frac{1}{1 + e^{-\\mathbf{x}}} $\n",
    ">   2. (Outliers) Our _loss function_ will change from $ L_{1} $ to $ L_{2} $ (MSE - Mean Squared Error)\n",
    "\n",
    "</div>\n",
    "\n",
    "***\n",
    "\n",
    "As discussed in the previous course, for using the very handy `grad` function provided by `JAX`, we need to define the whole forward function that we want to derive given our parameters. Hence this function also needs to **contain the forward pass**. This is summarized in the following function"
   ]
  },
  {
   "cell_type": "code",
   "execution_count": 12,
   "metadata": {
    "tags": []
   },
   "outputs": [],
   "source": [
    "import jax\n",
    "# Single neuron full function\n",
    "def loss_function(x, y, w, b):\n",
    "    # Forward pass\n",
    "    y_bar = jax.nn.sigmoid(jnp.dot(w, x.T) + b)\n",
    "    # Error computation\n",
    "    error = jnp.sum((y_bar - y) ** 2)\n",
    "    return error\n",
    "# Gradient of the loss\n",
    "grad_loss_function = jit(grad(loss_function, argnums=[2, 3]))"
   ]
  },
  {
   "cell_type": "markdown",
   "metadata": {},
   "source": [
    "Finally, we can now define the main training loop, which is almost exactly similar to the previously defined one minus the gradient computation operations. "
   ]
  },
  {
   "cell_type": "code",
   "execution_count": 14,
   "metadata": {
    "tags": []
   },
   "outputs": [
    {
     "name": "stdout",
     "output_type": "stream",
     "text": [
      "(Array([[ 1.1387938, -0.9104822]], dtype=float32), Array([[-0.11244166]], dtype=float32))\n"
     ]
    },
    {
     "data": {},
     "metadata": {},
     "output_type": "display_data"
    },
    {
     "data": {
      "application/vnd.holoviews_exec.v0+json": "",
      "text/html": [
       "<div id='2868'>\n",
       "  <div class=\"bk-root\" id=\"a0c00245-a15a-4e69-b24e-a4d5adbad683\" data-root-id=\"2868\"></div>\n",
       "</div>\n",
       "<script type=\"application/javascript\">(function(root) {\n",
       "  function embed_document(root) {\n",
       "    var docs_json = {\"8fba7974-3769-4bd4-be4b-39579f0ffeee\":{\"defs\":[{\"extends\":null,\"module\":null,\"name\":\"ReactiveHTML1\",\"overrides\":[],\"properties\":[]},{\"extends\":null,\"module\":null,\"name\":\"FlexBox1\",\"overrides\":[],\"properties\":[{\"default\":\"flex-start\",\"kind\":null,\"name\":\"align_content\"},{\"default\":\"flex-start\",\"kind\":null,\"name\":\"align_items\"},{\"default\":\"row\",\"kind\":null,\"name\":\"flex_direction\"},{\"default\":\"wrap\",\"kind\":null,\"name\":\"flex_wrap\"},{\"default\":\"flex-start\",\"kind\":null,\"name\":\"justify_content\"}]},{\"extends\":null,\"module\":null,\"name\":\"GridStack1\",\"overrides\":[],\"properties\":[{\"default\":\"warn\",\"kind\":null,\"name\":\"mode\"},{\"default\":null,\"kind\":null,\"name\":\"ncols\"},{\"default\":null,\"kind\":null,\"name\":\"nrows\"},{\"default\":true,\"kind\":null,\"name\":\"allow_resize\"},{\"default\":true,\"kind\":null,\"name\":\"allow_drag\"},{\"default\":[],\"kind\":null,\"name\":\"state\"}]},{\"extends\":null,\"module\":null,\"name\":\"click1\",\"overrides\":[],\"properties\":[{\"default\":\"\",\"kind\":null,\"name\":\"terminal_output\"},{\"default\":\"\",\"kind\":null,\"name\":\"debug_name\"},{\"default\":0,\"kind\":null,\"name\":\"clears\"}]},{\"extends\":null,\"module\":null,\"name\":\"NotificationAreaBase1\",\"overrides\":[],\"properties\":[{\"default\":\"bottom-right\",\"kind\":null,\"name\":\"position\"},{\"default\":0,\"kind\":null,\"name\":\"_clear\"}]},{\"extends\":null,\"module\":null,\"name\":\"NotificationArea1\",\"overrides\":[],\"properties\":[{\"default\":[],\"kind\":null,\"name\":\"notifications\"},{\"default\":\"bottom-right\",\"kind\":null,\"name\":\"position\"},{\"default\":0,\"kind\":null,\"name\":\"_clear\"},{\"default\":[{\"background\":\"#ffc107\",\"icon\":{\"className\":\"fas fa-exclamation-triangle\",\"color\":\"white\",\"tagName\":\"i\"},\"type\":\"warning\"},{\"background\":\"#007bff\",\"icon\":{\"className\":\"fas fa-info-circle\",\"color\":\"white\",\"tagName\":\"i\"},\"type\":\"info\"}],\"kind\":null,\"name\":\"types\"}]},{\"extends\":null,\"module\":null,\"name\":\"Notification\",\"overrides\":[],\"properties\":[{\"default\":null,\"kind\":null,\"name\":\"background\"},{\"default\":3000,\"kind\":null,\"name\":\"duration\"},{\"default\":null,\"kind\":null,\"name\":\"icon\"},{\"default\":\"\",\"kind\":null,\"name\":\"message\"},{\"default\":null,\"kind\":null,\"name\":\"notification_type\"},{\"default\":false,\"kind\":null,\"name\":\"_destroyed\"}]},{\"extends\":null,\"module\":null,\"name\":\"TemplateActions1\",\"overrides\":[],\"properties\":[{\"default\":0,\"kind\":null,\"name\":\"open_modal\"},{\"default\":0,\"kind\":null,\"name\":\"close_modal\"}]},{\"extends\":null,\"module\":null,\"name\":\"MaterialTemplateActions1\",\"overrides\":[],\"properties\":[{\"default\":0,\"kind\":null,\"name\":\"open_modal\"},{\"default\":0,\"kind\":null,\"name\":\"close_modal\"}]}],\"roots\":{\"references\":[{\"attributes\":{\"source\":{\"id\":\"2610\"}},\"id\":\"2615\",\"type\":\"CDSView\"},{\"attributes\":{\"line_alpha\":0.2,\"line_color\":\"#5A00A5\",\"line_dash\":[6],\"line_width\":4,\"x\":{\"field\":\"x\"},\"y\":{\"field\":\"y\"}},\"id\":\"2619\",\"type\":\"Line\"},{\"attributes\":{\"line_color\":\"#5A00A5\",\"line_dash\":[6],\"line_width\":4,\"x\":{\"field\":\"x\"},\"y\":{\"field\":\"y\"}},\"id\":\"2617\",\"type\":\"Line\"},{\"attributes\":{\"coordinates\":null,\"data_source\":{\"id\":\"2610\"},\"glyph\":{\"id\":\"2611\"},\"group\":null,\"hover_glyph\":null,\"muted_glyph\":{\"id\":\"2613\"},\"nonselection_glyph\":{\"id\":\"2612\"},\"view\":{\"id\":\"2615\"}},\"id\":\"2614\",\"type\":\"GlyphRenderer\"},{\"attributes\":{\"line_color\":\"#6200A6\",\"line_dash\":[6],\"line_width\":4,\"x\":{\"field\":\"x\"},\"y\":{\"field\":\"y\"}},\"id\":\"2623\",\"type\":\"Line\"},{\"attributes\":{\"data\":{\"x\":{\"__ndarray__\":\"souPIPtQ7r9KP/e44KfvPw==\",\"dtype\":\"float64\",\"order\":\"little\",\"shape\":[2]},\"y\":{\"__ndarray__\":\"76f8BV3HAsAHnDXpU7r9Pw==\",\"dtype\":\"float64\",\"order\":\"little\",\"shape\":[2]}},\"selected\":{\"id\":\"2896\"},\"selection_policy\":{\"id\":\"2895\"}},\"id\":\"2616\",\"type\":\"ColumnDataSource\"},{\"attributes\":{\"line_alpha\":0.2,\"line_color\":\"#6200A6\",\"line_dash\":[6],\"line_width\":4,\"x\":{\"field\":\"x\"},\"y\":{\"field\":\"y\"}},\"id\":\"2625\",\"type\":\"Line\"},{\"attributes\":{},\"id\":\"2901\",\"type\":\"UnionRenderers\"},{\"attributes\":{\"coordinates\":null,\"data_source\":{\"id\":\"2616\"},\"glyph\":{\"id\":\"2617\"},\"group\":null,\"hover_glyph\":null,\"muted_glyph\":{\"id\":\"2619\"},\"nonselection_glyph\":{\"id\":\"2618\"},\"view\":{\"id\":\"2621\"}},\"id\":\"2620\",\"type\":\"GlyphRenderer\"},{\"attributes\":{\"source\":{\"id\":\"2616\"}},\"id\":\"2621\",\"type\":\"CDSView\"},{\"attributes\":{},\"id\":\"2939\",\"type\":\"UnionRenderers\"},{\"attributes\":{},\"id\":\"2902\",\"type\":\"Selection\"},{\"attributes\":{\"line_alpha\":0.1,\"line_color\":\"#5A00A5\",\"line_dash\":[6],\"line_width\":4,\"x\":{\"field\":\"x\"},\"y\":{\"field\":\"y\"}},\"id\":\"2618\",\"type\":\"Line\"},{\"attributes\":{},\"id\":\"2977\",\"type\":\"UnionRenderers\"},{\"attributes\":{\"line_color\":\"#6C00A8\",\"line_dash\":[6],\"line_width\":4,\"x\":{\"field\":\"x\"},\"y\":{\"field\":\"y\"}},\"id\":\"2629\",\"type\":\"Line\"},{\"attributes\":{},\"id\":\"2940\",\"type\":\"Selection\"},{\"attributes\":{\"data\":{\"x\":{\"__ndarray__\":\"souPIPtQ7r9KP/e44KfvPw==\",\"dtype\":\"float64\",\"order\":\"little\",\"shape\":[2]},\"y\":{\"__ndarray__\":\"IUL/YnGkAsA3ApT9SYT9Pw==\",\"dtype\":\"float64\",\"order\":\"little\",\"shape\":[2]}},\"selected\":{\"id\":\"2898\"},\"selection_policy\":{\"id\":\"2897\"}},\"id\":\"2622\",\"type\":\"ColumnDataSource\"},{\"attributes\":{\"line_alpha\":0.2,\"line_color\":\"#6C00A8\",\"line_dash\":[6],\"line_width\":4,\"x\":{\"field\":\"x\"},\"y\":{\"field\":\"y\"}},\"id\":\"2631\",\"type\":\"Line\"},{\"attributes\":{},\"id\":\"2978\",\"type\":\"Selection\"},{\"attributes\":{\"coordinates\":null,\"data_source\":{\"id\":\"2622\"},\"glyph\":{\"id\":\"2623\"},\"group\":null,\"hover_glyph\":null,\"muted_glyph\":{\"id\":\"2625\"},\"nonselection_glyph\":{\"id\":\"2624\"},\"view\":{\"id\":\"2627\"}},\"id\":\"2626\",\"type\":\"GlyphRenderer\"},{\"attributes\":{\"source\":{\"id\":\"2622\"}},\"id\":\"2627\",\"type\":\"CDSView\"},{\"attributes\":{\"line_alpha\":0.1,\"line_color\":\"#6200A6\",\"line_dash\":[6],\"line_width\":4,\"x\":{\"field\":\"x\"},\"y\":{\"field\":\"y\"}},\"id\":\"2624\",\"type\":\"Line\"},{\"attributes\":{\"line_color\":\"#7300A8\",\"line_dash\":[6],\"line_width\":4,\"x\":{\"field\":\"x\"},\"y\":{\"field\":\"y\"}},\"id\":\"2635\",\"type\":\"Line\"},{\"attributes\":{\"data\":{\"x\":{\"__ndarray__\":\"souPIPtQ7r9KP/e44KfvPw==\",\"dtype\":\"float64\",\"order\":\"little\",\"shape\":[2]},\"y\":{\"__ndarray__\":\"Hv3MLjyDAsCtTC30AlH9Pw==\",\"dtype\":\"float64\",\"order\":\"little\",\"shape\":[2]}},\"selected\":{\"id\":\"2900\"},\"selection_policy\":{\"id\":\"2899\"}},\"id\":\"2628\",\"type\":\"ColumnDataSource\"},{\"attributes\":{\"line_alpha\":0.2,\"line_color\":\"#7300A8\",\"line_dash\":[6],\"line_width\":4,\"x\":{\"field\":\"x\"},\"y\":{\"field\":\"y\"}},\"id\":\"2637\",\"type\":\"Line\"},{\"attributes\":{\"coordinates\":null,\"data_source\":{\"id\":\"2628\"},\"glyph\":{\"id\":\"2629\"},\"group\":null,\"hover_glyph\":null,\"muted_glyph\":{\"id\":\"2631\"},\"nonselection_glyph\":{\"id\":\"2630\"},\"view\":{\"id\":\"2633\"}},\"id\":\"2632\",\"type\":\"GlyphRenderer\"},{\"attributes\":{\"source\":{\"id\":\"2628\"}},\"id\":\"2633\",\"type\":\"CDSView\"},{\"attributes\":{\"line_alpha\":0.1,\"line_color\":\"#6C00A8\",\"line_dash\":[6],\"line_width\":4,\"x\":{\"field\":\"x\"},\"y\":{\"field\":\"y\"}},\"id\":\"2630\",\"type\":\"Line\"},{\"attributes\":{},\"id\":\"2903\",\"type\":\"UnionRenderers\"},{\"attributes\":{\"line_color\":\"#7B02A8\",\"line_dash\":[6],\"line_width\":4,\"x\":{\"field\":\"x\"},\"y\":{\"field\":\"y\"}},\"id\":\"2641\",\"type\":\"Line\"},{\"attributes\":{\"data\":{\"x\":{\"__ndarray__\":\"souPIPtQ7r9KP/e44KfvPw==\",\"dtype\":\"float64\",\"order\":\"little\",\"shape\":[2]},\"y\":{\"__ndarray__\":\"t2yAVaBjAsB8Aeo3TyD9Pw==\",\"dtype\":\"float64\",\"order\":\"little\",\"shape\":[2]}},\"selected\":{\"id\":\"2902\"},\"selection_policy\":{\"id\":\"2901\"}},\"id\":\"2634\",\"type\":\"ColumnDataSource\"},{\"attributes\":{},\"id\":\"2941\",\"type\":\"UnionRenderers\"},{\"attributes\":{\"line_alpha\":0.2,\"line_color\":\"#7B02A8\",\"line_dash\":[6],\"line_width\":4,\"x\":{\"field\":\"x\"},\"y\":{\"field\":\"y\"}},\"id\":\"2643\",\"type\":\"Line\"},{\"attributes\":{},\"id\":\"2904\",\"type\":\"Selection\"},{\"attributes\":{\"coordinates\":null,\"data_source\":{\"id\":\"2634\"},\"glyph\":{\"id\":\"2635\"},\"group\":null,\"hover_glyph\":null,\"muted_glyph\":{\"id\":\"2637\"},\"nonselection_glyph\":{\"id\":\"2636\"},\"view\":{\"id\":\"2639\"}},\"id\":\"2638\",\"type\":\"GlyphRenderer\"},{\"attributes\":{\"source\":{\"id\":\"2634\"}},\"id\":\"2639\",\"type\":\"CDSView\"},{\"attributes\":{},\"id\":\"2942\",\"type\":\"Selection\"},{\"attributes\":{\"line_alpha\":0.1,\"line_color\":\"#7300A8\",\"line_dash\":[6],\"line_width\":4,\"x\":{\"field\":\"x\"},\"y\":{\"field\":\"y\"}},\"id\":\"2636\",\"type\":\"Line\"},{\"attributes\":{\"line_color\":\"#8204A7\",\"line_dash\":[6],\"line_width\":4,\"x\":{\"field\":\"x\"},\"y\":{\"field\":\"y\"}},\"id\":\"2647\",\"type\":\"Line\"},{\"attributes\":{\"data\":{\"x\":{\"__ndarray__\":\"souPIPtQ7r9KP/e44KfvPw==\",\"dtype\":\"float64\",\"order\":\"little\",\"shape\":[2]},\"y\":{\"__ndarray__\":\"GmgUIYNFAsBryzQcA/L8Pw==\",\"dtype\":\"float64\",\"order\":\"little\",\"shape\":[2]}},\"selected\":{\"id\":\"2904\"},\"selection_policy\":{\"id\":\"2903\"}},\"id\":\"2640\",\"type\":\"ColumnDataSource\"},{\"attributes\":{\"line_alpha\":0.2,\"line_color\":\"#8204A7\",\"line_dash\":[6],\"line_width\":4,\"x\":{\"field\":\"x\"},\"y\":{\"field\":\"y\"}},\"id\":\"2649\",\"type\":\"Line\"},{\"attributes\":{\"coordinates\":null,\"data_source\":{\"id\":\"2640\"},\"glyph\":{\"id\":\"2641\"},\"group\":null,\"hover_glyph\":null,\"muted_glyph\":{\"id\":\"2643\"},\"nonselection_glyph\":{\"id\":\"2642\"},\"view\":{\"id\":\"2645\"}},\"id\":\"2644\",\"type\":\"GlyphRenderer\"},{\"attributes\":{\"source\":{\"id\":\"2640\"}},\"id\":\"2645\",\"type\":\"CDSView\"},{\"attributes\":{\"line_alpha\":0.1,\"line_color\":\"#7B02A8\",\"line_dash\":[6],\"line_width\":4,\"x\":{\"field\":\"x\"},\"y\":{\"field\":\"y\"}},\"id\":\"2642\",\"type\":\"Line\"},{\"attributes\":{\"line_color\":\"#8908A5\",\"line_dash\":[6],\"line_width\":4,\"x\":{\"field\":\"x\"},\"y\":{\"field\":\"y\"}},\"id\":\"2653\",\"type\":\"Line\"},{\"attributes\":{\"data\":{\"x\":{\"__ndarray__\":\"souPIPtQ7r9KP/e44KfvPw==\",\"dtype\":\"float64\",\"order\":\"little\",\"shape\":[2]},\"y\":{\"__ndarray__\":\"g6gb/8soAsAzxMN89sX8Pw==\",\"dtype\":\"float64\",\"order\":\"little\",\"shape\":[2]}},\"selected\":{\"id\":\"2906\"},\"selection_policy\":{\"id\":\"2905\"}},\"id\":\"2646\",\"type\":\"ColumnDataSource\"},{\"attributes\":{\"line_alpha\":0.2,\"line_color\":\"#8908A5\",\"line_dash\":[6],\"line_width\":4,\"x\":{\"field\":\"x\"},\"y\":{\"field\":\"y\"}},\"id\":\"2655\",\"type\":\"Line\"},{\"attributes\":{\"coordinates\":null,\"data_source\":{\"id\":\"2646\"},\"glyph\":{\"id\":\"2647\"},\"group\":null,\"hover_glyph\":null,\"muted_glyph\":{\"id\":\"2649\"},\"nonselection_glyph\":{\"id\":\"2648\"},\"view\":{\"id\":\"2651\"}},\"id\":\"2650\",\"type\":\"GlyphRenderer\"},{\"attributes\":{},\"id\":\"2905\",\"type\":\"UnionRenderers\"},{\"attributes\":{\"source\":{\"id\":\"2646\"}},\"id\":\"2651\",\"type\":\"CDSView\"},{\"attributes\":{},\"id\":\"2943\",\"type\":\"UnionRenderers\"},{\"attributes\":{\"line_alpha\":0.1,\"line_color\":\"#8204A7\",\"line_dash\":[6],\"line_width\":4,\"x\":{\"field\":\"x\"},\"y\":{\"field\":\"y\"}},\"id\":\"2648\",\"type\":\"Line\"},{\"attributes\":{},\"id\":\"2906\",\"type\":\"Selection\"},{\"attributes\":{\"line_color\":\"#920FA2\",\"line_dash\":[6],\"line_width\":4,\"x\":{\"field\":\"x\"},\"y\":{\"field\":\"y\"}},\"id\":\"2659\",\"type\":\"Line\"},{\"attributes\":{\"data\":{\"x\":{\"__ndarray__\":\"souPIPtQ7r9KP/e44KfvPw==\",\"dtype\":\"float64\",\"order\":\"little\",\"shape\":[2]},\"y\":{\"__ndarray__\":\"VnICaGQNAsD6EW2ABJz8Pw==\",\"dtype\":\"float64\",\"order\":\"little\",\"shape\":[2]}},\"selected\":{\"id\":\"2908\"},\"selection_policy\":{\"id\":\"2907\"}},\"id\":\"2652\",\"type\":\"ColumnDataSource\"},{\"attributes\":{},\"id\":\"2944\",\"type\":\"Selection\"},{\"attributes\":{\"line_alpha\":0.2,\"line_color\":\"#920FA2\",\"line_dash\":[6],\"line_width\":4,\"x\":{\"field\":\"x\"},\"y\":{\"field\":\"y\"}},\"id\":\"2661\",\"type\":\"Line\"},{\"attributes\":{\"coordinates\":null,\"data_source\":{\"id\":\"2652\"},\"glyph\":{\"id\":\"2653\"},\"group\":null,\"hover_glyph\":null,\"muted_glyph\":{\"id\":\"2655\"},\"nonselection_glyph\":{\"id\":\"2654\"},\"view\":{\"id\":\"2657\"}},\"id\":\"2656\",\"type\":\"GlyphRenderer\"},{\"attributes\":{\"source\":{\"id\":\"2652\"}},\"id\":\"2657\",\"type\":\"CDSView\"},{\"attributes\":{\"line_alpha\":0.1,\"line_color\":\"#8908A5\",\"line_dash\":[6],\"line_width\":4,\"x\":{\"field\":\"x\"},\"y\":{\"field\":\"y\"}},\"id\":\"2654\",\"type\":\"Line\"},{\"attributes\":{\"line_color\":\"#99149F\",\"line_dash\":[6],\"line_width\":4,\"x\":{\"field\":\"x\"},\"y\":{\"field\":\"y\"}},\"id\":\"2665\",\"type\":\"Line\"},{\"attributes\":{\"data\":{\"x\":{\"__ndarray__\":\"souPIPtQ7r9KP/e44KfvPw==\",\"dtype\":\"float64\",\"order\":\"little\",\"shape\":[2]},\"y\":{\"__ndarray__\":\"Jv04qTfzAcC9r8RgC3T8Pw==\",\"dtype\":\"float64\",\"order\":\"little\",\"shape\":[2]}},\"selected\":{\"id\":\"2910\"},\"selection_policy\":{\"id\":\"2909\"}},\"id\":\"2658\",\"type\":\"ColumnDataSource\"},{\"attributes\":{\"line_alpha\":0.2,\"line_color\":\"#99149F\",\"line_dash\":[6],\"line_width\":4,\"x\":{\"field\":\"x\"},\"y\":{\"field\":\"y\"}},\"id\":\"2667\",\"type\":\"Line\"},{\"attributes\":{\"coordinates\":null,\"data_source\":{\"id\":\"2658\"},\"glyph\":{\"id\":\"2659\"},\"group\":null,\"hover_glyph\":null,\"muted_glyph\":{\"id\":\"2661\"},\"nonselection_glyph\":{\"id\":\"2660\"},\"view\":{\"id\":\"2663\"}},\"id\":\"2662\",\"type\":\"GlyphRenderer\"},{\"attributes\":{\"source\":{\"id\":\"2658\"}},\"id\":\"2663\",\"type\":\"CDSView\"},{\"attributes\":{\"line_alpha\":0.1,\"line_color\":\"#920FA2\",\"line_dash\":[6],\"line_width\":4,\"x\":{\"field\":\"x\"},\"y\":{\"field\":\"y\"}},\"id\":\"2660\",\"type\":\"Line\"},{\"attributes\":{\"line_color\":\"#9F1A9B\",\"line_dash\":[6],\"line_width\":4,\"x\":{\"field\":\"x\"},\"y\":{\"field\":\"y\"}},\"id\":\"2671\",\"type\":\"Line\"},{\"attributes\":{},\"id\":\"2907\",\"type\":\"UnionRenderers\"},{\"attributes\":{\"data\":{\"x\":{\"__ndarray__\":\"souPIPtQ7r9KP/e44KfvPw==\",\"dtype\":\"float64\",\"order\":\"little\",\"shape\":[2]},\"y\":{\"__ndarray__\":\"xi4FvDLaAcA8ulMc7E38Pw==\",\"dtype\":\"float64\",\"order\":\"little\",\"shape\":[2]}},\"selected\":{\"id\":\"2912\"},\"selection_policy\":{\"id\":\"2911\"}},\"id\":\"2664\",\"type\":\"ColumnDataSource\"},{\"attributes\":{\"line_alpha\":0.2,\"line_color\":\"#9F1A9B\",\"line_dash\":[6],\"line_width\":4,\"x\":{\"field\":\"x\"},\"y\":{\"field\":\"y\"}},\"id\":\"2673\",\"type\":\"Line\"},{\"attributes\":{},\"id\":\"2945\",\"type\":\"UnionRenderers\"},{\"attributes\":{\"coordinates\":null,\"data_source\":{\"id\":\"2664\"},\"glyph\":{\"id\":\"2665\"},\"group\":null,\"hover_glyph\":null,\"muted_glyph\":{\"id\":\"2667\"},\"nonselection_glyph\":{\"id\":\"2666\"},\"view\":{\"id\":\"2669\"}},\"id\":\"2668\",\"type\":\"GlyphRenderer\"},{\"attributes\":{},\"id\":\"2908\",\"type\":\"Selection\"},{\"attributes\":{\"source\":{\"id\":\"2664\"}},\"id\":\"2669\",\"type\":\"CDSView\"},{\"attributes\":{},\"id\":\"2946\",\"type\":\"Selection\"},{\"attributes\":{\"line_alpha\":0.1,\"line_color\":\"#99149F\",\"line_dash\":[6],\"line_width\":4,\"x\":{\"field\":\"x\"},\"y\":{\"field\":\"y\"}},\"id\":\"2666\",\"type\":\"Line\"},{\"attributes\":{\"line_color\":\"#A51F97\",\"line_dash\":[6],\"line_width\":4,\"x\":{\"field\":\"x\"},\"y\":{\"field\":\"y\"}},\"id\":\"2677\",\"type\":\"Line\"},{\"attributes\":{\"data\":{\"x\":{\"__ndarray__\":\"souPIPtQ7r9KP/e44KfvPw==\",\"dtype\":\"float64\",\"order\":\"little\",\"shape\":[2]},\"y\":{\"__ndarray__\":\"Qv4J+UPCAcAKE17RiSn8Pw==\",\"dtype\":\"float64\",\"order\":\"little\",\"shape\":[2]}},\"selected\":{\"id\":\"2914\"},\"selection_policy\":{\"id\":\"2913\"}},\"id\":\"2670\",\"type\":\"ColumnDataSource\"},{\"attributes\":{\"line_alpha\":0.2,\"line_color\":\"#A51F97\",\"line_dash\":[6],\"line_width\":4,\"x\":{\"field\":\"x\"},\"y\":{\"field\":\"y\"}},\"id\":\"2679\",\"type\":\"Line\"},{\"attributes\":{\"coordinates\":null,\"data_source\":{\"id\":\"2670\"},\"glyph\":{\"id\":\"2671\"},\"group\":null,\"hover_glyph\":null,\"muted_glyph\":{\"id\":\"2673\"},\"nonselection_glyph\":{\"id\":\"2672\"},\"view\":{\"id\":\"2675\"}},\"id\":\"2674\",\"type\":\"GlyphRenderer\"},{\"attributes\":{\"source\":{\"id\":\"2670\"}},\"id\":\"2675\",\"type\":\"CDSView\"},{\"attributes\":{\"line_alpha\":0.1,\"line_color\":\"#9F1A9B\",\"line_dash\":[6],\"line_width\":4,\"x\":{\"field\":\"x\"},\"y\":{\"field\":\"y\"}},\"id\":\"2672\",\"type\":\"Line\"},{\"attributes\":{\"line_color\":\"#AC2593\",\"line_dash\":[6],\"line_width\":4,\"x\":{\"field\":\"x\"},\"y\":{\"field\":\"y\"}},\"id\":\"2683\",\"type\":\"Line\"},{\"attributes\":{\"data\":{\"x\":{\"__ndarray__\":\"souPIPtQ7r9KP/e44KfvPw==\",\"dtype\":\"float64\",\"order\":\"little\",\"shape\":[2]},\"y\":{\"__ndarray__\":\"iTxdFlurAcAjwy0Eygb8Pw==\",\"dtype\":\"float64\",\"order\":\"little\",\"shape\":[2]}},\"selected\":{\"id\":\"2916\"},\"selection_policy\":{\"id\":\"2915\"}},\"id\":\"2676\",\"type\":\"ColumnDataSource\"},{\"attributes\":{\"line_alpha\":0.2,\"line_color\":\"#AC2593\",\"line_dash\":[6],\"line_width\":4,\"x\":{\"field\":\"x\"},\"y\":{\"field\":\"y\"}},\"id\":\"2685\",\"type\":\"Line\"},{\"attributes\":{\"coordinates\":null,\"data_source\":{\"id\":\"2676\"},\"glyph\":{\"id\":\"2677\"},\"group\":null,\"hover_glyph\":null,\"muted_glyph\":{\"id\":\"2679\"},\"nonselection_glyph\":{\"id\":\"2678\"},\"view\":{\"id\":\"2681\"}},\"id\":\"2680\",\"type\":\"GlyphRenderer\"},{\"attributes\":{\"source\":{\"id\":\"2676\"}},\"id\":\"2681\",\"type\":\"CDSView\"},{\"attributes\":{},\"id\":\"2909\",\"type\":\"UnionRenderers\"},{\"attributes\":{\"line_alpha\":0.1,\"line_color\":\"#A51F97\",\"line_dash\":[6],\"line_width\":4,\"x\":{\"field\":\"x\"},\"y\":{\"field\":\"y\"}},\"id\":\"2678\",\"type\":\"Line\"},{\"attributes\":{},\"id\":\"2947\",\"type\":\"UnionRenderers\"},{\"attributes\":{\"line_color\":\"#B22C8E\",\"line_dash\":[6],\"line_width\":4,\"x\":{\"field\":\"x\"},\"y\":{\"field\":\"y\"}},\"id\":\"2689\",\"type\":\"Line\"},{\"attributes\":{},\"id\":\"2910\",\"type\":\"Selection\"},{\"attributes\":{\"data\":{\"x\":{\"__ndarray__\":\"souPIPtQ7r9KP/e44KfvPw==\",\"dtype\":\"float64\",\"order\":\"little\",\"shape\":[2]},\"y\":{\"__ndarray__\":\"nwuC62iVAcA2LOv9k+X7Pw==\",\"dtype\":\"float64\",\"order\":\"little\",\"shape\":[2]}},\"selected\":{\"id\":\"2918\"},\"selection_policy\":{\"id\":\"2917\"}},\"id\":\"2682\",\"type\":\"ColumnDataSource\"},{\"attributes\":{\"line_alpha\":0.2,\"line_color\":\"#B22C8E\",\"line_dash\":[6],\"line_width\":4,\"x\":{\"field\":\"x\"},\"y\":{\"field\":\"y\"}},\"id\":\"2691\",\"type\":\"Line\"},{\"attributes\":{},\"id\":\"2948\",\"type\":\"Selection\"},{\"attributes\":{\"coordinates\":null,\"data_source\":{\"id\":\"2682\"},\"glyph\":{\"id\":\"2683\"},\"group\":null,\"hover_glyph\":null,\"muted_glyph\":{\"id\":\"2685\"},\"nonselection_glyph\":{\"id\":\"2684\"},\"view\":{\"id\":\"2687\"}},\"id\":\"2686\",\"type\":\"GlyphRenderer\"},{\"attributes\":{\"fill_alpha\":{\"value\":0.1},\"fill_color\":{\"field\":\"color\"},\"hatch_alpha\":{\"value\":0.1},\"hatch_color\":{\"field\":\"color\"},\"line_alpha\":{\"value\":0.1},\"line_color\":{\"value\":\"white\"},\"size\":{\"value\":10},\"x\":{\"field\":\"x\"},\"y\":{\"field\":\"y\"}},\"id\":\"2550\",\"type\":\"Circle\"},{\"attributes\":{\"source\":{\"id\":\"2682\"}},\"id\":\"2687\",\"type\":\"CDSView\"},{\"attributes\":{},\"id\":\"2537\",\"type\":\"ResetTool\"},{\"attributes\":{\"line_alpha\":0.1,\"line_color\":\"#AC2593\",\"line_dash\":[6],\"line_width\":4,\"x\":{\"field\":\"x\"},\"y\":{\"field\":\"y\"}},\"id\":\"2684\",\"type\":\"Line\"},{\"attributes\":{\"line_color\":\"#B83289\",\"line_dash\":[6],\"line_width\":4,\"x\":{\"field\":\"x\"},\"y\":{\"field\":\"y\"}},\"id\":\"2695\",\"type\":\"Line\"},{\"attributes\":{\"tools\":[{\"id\":\"2533\"},{\"id\":\"2534\"},{\"id\":\"2535\"},{\"id\":\"2536\"},{\"id\":\"2537\"},{\"id\":\"2538\"}]},\"id\":\"2540\",\"type\":\"Toolbar\"},{\"attributes\":{\"data\":{\"x\":{\"__ndarray__\":\"souPIPtQ7r9KP/e44KfvPw==\",\"dtype\":\"float64\",\"order\":\"little\",\"shape\":[2]},\"y\":{\"__ndarray__\":\"NA+UhV+AAcCCIAX40MX7Pw==\",\"dtype\":\"float64\",\"order\":\"little\",\"shape\":[2]}},\"selected\":{\"id\":\"2920\"},\"selection_policy\":{\"id\":\"2919\"}},\"id\":\"2688\",\"type\":\"ColumnDataSource\"},{\"attributes\":{\"bottom_units\":\"screen\",\"coordinates\":null,\"fill_alpha\":0.5,\"fill_color\":\"lightgrey\",\"group\":null,\"left_units\":\"screen\",\"level\":\"overlay\",\"line_alpha\":1.0,\"line_color\":\"black\",\"line_dash\":[4,4],\"line_width\":2,\"right_units\":\"screen\",\"syncable\":false,\"top_units\":\"screen\"},\"id\":\"2539\",\"type\":\"BoxAnnotation\"},{\"attributes\":{\"line_alpha\":0.2,\"line_color\":\"#B83289\",\"line_dash\":[6],\"line_width\":4,\"x\":{\"field\":\"x\"},\"y\":{\"field\":\"y\"}},\"id\":\"2697\",\"type\":\"Line\"},{\"attributes\":{\"coordinates\":null,\"data_source\":{\"id\":\"2688\"},\"glyph\":{\"id\":\"2689\"},\"group\":null,\"hover_glyph\":null,\"muted_glyph\":{\"id\":\"2691\"},\"nonselection_glyph\":{\"id\":\"2690\"},\"view\":{\"id\":\"2693\"}},\"id\":\"2692\",\"type\":\"GlyphRenderer\"},{\"attributes\":{\"source\":{\"id\":\"2688\"}},\"id\":\"2693\",\"type\":\"CDSView\"},{\"attributes\":{\"source\":{\"id\":\"2568\"}},\"id\":\"2573\",\"type\":\"CDSView\"},{\"attributes\":{\"line_alpha\":0.1,\"line_color\":\"#B22C8E\",\"line_dash\":[6],\"line_width\":4,\"x\":{\"field\":\"x\"},\"y\":{\"field\":\"y\"}},\"id\":\"2690\",\"type\":\"Line\"},{\"attributes\":{\"line_color\":\"#BD3784\",\"line_dash\":[6],\"line_width\":4,\"x\":{\"field\":\"x\"},\"y\":{\"field\":\"y\"}},\"id\":\"2701\",\"type\":\"Line\"},{\"attributes\":{},\"id\":\"2536\",\"type\":\"SaveTool\"},{\"attributes\":{\"data\":{\"x\":{\"__ndarray__\":\"souPIPtQ7r9KP/e44KfvPw==\",\"dtype\":\"float64\",\"order\":\"little\",\"shape\":[2]},\"y\":{\"__ndarray__\":\"eXQ5AzJsAcB0cQsLbKf7Pw==\",\"dtype\":\"float64\",\"order\":\"little\",\"shape\":[2]}},\"selected\":{\"id\":\"2922\"},\"selection_policy\":{\"id\":\"2921\"}},\"id\":\"2694\",\"type\":\"ColumnDataSource\"},{\"attributes\":{},\"id\":\"2911\",\"type\":\"UnionRenderers\"},{\"attributes\":{\"line_alpha\":0.2,\"line_color\":\"#BD3784\",\"line_dash\":[6],\"line_width\":4,\"x\":{\"field\":\"x\"},\"y\":{\"field\":\"y\"}},\"id\":\"2703\",\"type\":\"Line\"},{\"attributes\":{\"coordinates\":null,\"data_source\":{\"id\":\"2694\"},\"glyph\":{\"id\":\"2695\"},\"group\":null,\"hover_glyph\":null,\"muted_glyph\":{\"id\":\"2697\"},\"nonselection_glyph\":{\"id\":\"2696\"},\"view\":{\"id\":\"2699\"}},\"id\":\"2698\",\"type\":\"GlyphRenderer\"},{\"attributes\":{},\"id\":\"2949\",\"type\":\"UnionRenderers\"},{\"attributes\":{\"source\":{\"id\":\"2694\"}},\"id\":\"2699\",\"type\":\"CDSView\"},{\"attributes\":{},\"id\":\"2912\",\"type\":\"Selection\"},{\"attributes\":{\"coordinates\":null,\"data_source\":{\"id\":\"2547\"},\"glyph\":{\"id\":\"2549\"},\"group\":null,\"hover_glyph\":null,\"muted_glyph\":{\"id\":\"2551\"},\"nonselection_glyph\":{\"id\":\"2550\"},\"view\":{\"id\":\"2553\"}},\"id\":\"2552\",\"type\":\"GlyphRenderer\"},{\"attributes\":{\"line_alpha\":0.1,\"line_color\":\"#B83289\",\"line_dash\":[6],\"line_width\":4,\"x\":{\"field\":\"x\"},\"y\":{\"field\":\"y\"}},\"id\":\"2696\",\"type\":\"Line\"},{\"attributes\":{},\"id\":\"2950\",\"type\":\"Selection\"},{\"attributes\":{\"line_color\":\"#C23D80\",\"line_dash\":[6],\"line_width\":4,\"x\":{\"field\":\"x\"},\"y\":{\"field\":\"y\"}},\"id\":\"2707\",\"type\":\"Line\"},{\"attributes\":{\"data\":{\"x\":{\"__ndarray__\":\"souPIPtQ7r9KP/e44KfvPw==\",\"dtype\":\"float64\",\"order\":\"little\",\"shape\":[2]},\"y\":{\"__ndarray__\":\"gnSkLtRYAcCZ235XUYr7Pw==\",\"dtype\":\"float64\",\"order\":\"little\",\"shape\":[2]}},\"selected\":{\"id\":\"2924\"},\"selection_policy\":{\"id\":\"2923\"}},\"id\":\"2700\",\"type\":\"ColumnDataSource\"},{\"attributes\":{\"line_alpha\":0.2,\"line_color\":\"#C23D80\",\"line_dash\":[6],\"line_width\":4,\"x\":{\"field\":\"x\"},\"y\":{\"field\":\"y\"}},\"id\":\"2709\",\"type\":\"Line\"},{\"attributes\":{\"axis\":{\"id\":\"2529\"},\"coordinates\":null,\"dimension\":1,\"grid_line_alpha\":0.15,\"grid_line_color\":\"#E0E0E0\",\"group\":null,\"ticker\":null},\"id\":\"2532\",\"type\":\"Grid\"},{\"attributes\":{\"coordinates\":null,\"data_source\":{\"id\":\"2700\"},\"glyph\":{\"id\":\"2701\"},\"group\":null,\"hover_glyph\":null,\"muted_glyph\":{\"id\":\"2703\"},\"nonselection_glyph\":{\"id\":\"2702\"},\"view\":{\"id\":\"2705\"}},\"id\":\"2704\",\"type\":\"GlyphRenderer\"},{\"attributes\":{},\"id\":\"2533\",\"type\":\"PanTool\"},{\"attributes\":{\"source\":{\"id\":\"2700\"}},\"id\":\"2705\",\"type\":\"CDSView\"},{\"attributes\":{\"overlay\":{\"id\":\"2539\"}},\"id\":\"2535\",\"type\":\"BoxZoomTool\"},{\"attributes\":{\"line_alpha\":0.1,\"line_color\":\"#BD3784\",\"line_dash\":[6],\"line_width\":4,\"x\":{\"field\":\"x\"},\"y\":{\"field\":\"y\"}},\"id\":\"2702\",\"type\":\"Line\"},{\"attributes\":{},\"id\":\"2534\",\"type\":\"WheelZoomTool\"},{\"attributes\":{\"line_color\":\"#C7427B\",\"line_dash\":[6],\"line_width\":4,\"x\":{\"field\":\"x\"},\"y\":{\"field\":\"y\"}},\"id\":\"2713\",\"type\":\"Line\"},{\"attributes\":{\"data\":{\"x\":{\"__ndarray__\":\"souPIPtQ7r9KP/e44KfvPw==\",\"dtype\":\"float64\",\"order\":\"little\",\"shape\":[2]},\"y\":{\"__ndarray__\":\"rx9JxDpGAcDw7WWVbm77Pw==\",\"dtype\":\"float64\",\"order\":\"little\",\"shape\":[2]}},\"selected\":{\"id\":\"2926\"},\"selection_policy\":{\"id\":\"2925\"}},\"id\":\"2706\",\"type\":\"ColumnDataSource\"},{\"attributes\":{},\"id\":\"2521\",\"type\":\"LinearScale\"},{\"attributes\":{\"line_alpha\":0.2,\"line_color\":\"#C7427B\",\"line_dash\":[6],\"line_width\":4,\"x\":{\"field\":\"x\"},\"y\":{\"field\":\"y\"}},\"id\":\"2715\",\"type\":\"Line\"},{\"attributes\":{\"coordinates\":null,\"data_source\":{\"id\":\"2706\"},\"glyph\":{\"id\":\"2707\"},\"group\":null,\"hover_glyph\":null,\"muted_glyph\":{\"id\":\"2709\"},\"nonselection_glyph\":{\"id\":\"2708\"},\"view\":{\"id\":\"2711\"}},\"id\":\"2710\",\"type\":\"GlyphRenderer\"},{\"attributes\":{\"source\":{\"id\":\"2706\"}},\"id\":\"2711\",\"type\":\"CDSView\"},{\"attributes\":{},\"id\":\"2913\",\"type\":\"UnionRenderers\"},{\"attributes\":{},\"id\":\"2523\",\"type\":\"LinearScale\"},{\"attributes\":{\"line_alpha\":0.1,\"line_color\":\"#C23D80\",\"line_dash\":[6],\"line_width\":4,\"x\":{\"field\":\"x\"},\"y\":{\"field\":\"y\"}},\"id\":\"2708\",\"type\":\"Line\"},{\"attributes\":{},\"id\":\"2526\",\"type\":\"BasicTicker\"},{\"attributes\":{\"line_color\":\"#CD4975\",\"line_dash\":[6],\"line_width\":4,\"x\":{\"field\":\"x\"},\"y\":{\"field\":\"y\"}},\"id\":\"2719\",\"type\":\"Line\"},{\"attributes\":{},\"id\":\"2951\",\"type\":\"UnionRenderers\"},{\"attributes\":{\"data\":{\"x\":{\"__ndarray__\":\"souPIPtQ7r9KP/e44KfvPw==\",\"dtype\":\"float64\",\"order\":\"little\",\"shape\":[2]},\"y\":{\"__ndarray__\":\"kB0Dfls0AcCYbf8Qs1P7Pw==\",\"dtype\":\"float64\",\"order\":\"little\",\"shape\":[2]}},\"selected\":{\"id\":\"2928\"},\"selection_policy\":{\"id\":\"2927\"}},\"id\":\"2712\",\"type\":\"ColumnDataSource\"},{\"attributes\":{},\"id\":\"2914\",\"type\":\"Selection\"},{\"attributes\":{\"line_alpha\":0.2,\"line_color\":\"#CD4975\",\"line_dash\":[6],\"line_width\":4,\"x\":{\"field\":\"x\"},\"y\":{\"field\":\"y\"}},\"id\":\"2721\",\"type\":\"Line\"},{\"attributes\":{},\"id\":\"2530\",\"type\":\"BasicTicker\"},{\"attributes\":{\"coordinates\":null,\"data_source\":{\"id\":\"2712\"},\"glyph\":{\"id\":\"2713\"},\"group\":null,\"hover_glyph\":null,\"muted_glyph\":{\"id\":\"2715\"},\"nonselection_glyph\":{\"id\":\"2714\"},\"view\":{\"id\":\"2717\"}},\"id\":\"2716\",\"type\":\"GlyphRenderer\"},{\"attributes\":{},\"id\":\"2952\",\"type\":\"Selection\"},{\"attributes\":{\"source\":{\"id\":\"2712\"}},\"id\":\"2717\",\"type\":\"CDSView\"},{\"attributes\":{\"axis\":{\"id\":\"2525\"},\"coordinates\":null,\"grid_line_alpha\":0.15,\"grid_line_color\":\"#E0E0E0\",\"group\":null,\"ticker\":null},\"id\":\"2528\",\"type\":\"Grid\"},{\"attributes\":{\"line_alpha\":0.1,\"line_color\":\"#C7427B\",\"line_dash\":[6],\"line_width\":4,\"x\":{\"field\":\"x\"},\"y\":{\"field\":\"y\"}},\"id\":\"2714\",\"type\":\"Line\"},{\"attributes\":{\"background_fill_alpha\":0.9,\"background_fill_color\":\"#0f0f0f\",\"below\":[{\"id\":\"2525\"}],\"border_fill_alpha\":0.8,\"border_fill_color\":\"#111111\",\"center\":[{\"id\":\"2528\"},{\"id\":\"2532\"},{\"id\":\"2564\"}],\"height\":450,\"left\":[{\"id\":\"2529\"}],\"outline_line_alpha\":0.25,\"outline_line_color\":\"#E0E0E0\",\"outline_line_width\":3,\"renderers\":[{\"id\":\"2552\"},{\"id\":\"2572\"},{\"id\":\"2578\"},{\"id\":\"2584\"},{\"id\":\"2590\"},{\"id\":\"2596\"},{\"id\":\"2602\"},{\"id\":\"2608\"},{\"id\":\"2614\"},{\"id\":\"2620\"},{\"id\":\"2626\"},{\"id\":\"2632\"},{\"id\":\"2638\"},{\"id\":\"2644\"},{\"id\":\"2650\"},{\"id\":\"2656\"},{\"id\":\"2662\"},{\"id\":\"2668\"},{\"id\":\"2674\"},{\"id\":\"2680\"},{\"id\":\"2686\"},{\"id\":\"2692\"},{\"id\":\"2698\"},{\"id\":\"2704\"},{\"id\":\"2710\"},{\"id\":\"2716\"},{\"id\":\"2722\"},{\"id\":\"2728\"},{\"id\":\"2734\"},{\"id\":\"2740\"},{\"id\":\"2746\"},{\"id\":\"2752\"},{\"id\":\"2758\"},{\"id\":\"2764\"},{\"id\":\"2770\"},{\"id\":\"2776\"},{\"id\":\"2782\"},{\"id\":\"2788\"},{\"id\":\"2794\"},{\"id\":\"2800\"},{\"id\":\"2806\"},{\"id\":\"2812\"},{\"id\":\"2818\"},{\"id\":\"2824\"},{\"id\":\"2830\"},{\"id\":\"2836\"},{\"id\":\"2842\"},{\"id\":\"2848\"},{\"id\":\"2854\"},{\"id\":\"2860\"},{\"id\":\"2866\"}],\"right\":[{\"id\":\"2564\"}],\"title\":{\"id\":\"2515\"},\"toolbar\":{\"id\":\"2540\"},\"width\":700,\"x_range\":{\"id\":\"2566\"},\"x_scale\":{\"id\":\"2521\"},\"y_range\":{\"id\":\"2567\"},\"y_scale\":{\"id\":\"2523\"}},\"id\":\"2514\",\"subtype\":\"Figure\",\"type\":\"Plot\"},{\"attributes\":{\"line_color\":\"#D14F71\",\"line_dash\":[6],\"line_width\":4,\"x\":{\"field\":\"x\"},\"y\":{\"field\":\"y\"}},\"id\":\"2725\",\"type\":\"Line\"},{\"attributes\":{\"data\":{\"x\":{\"__ndarray__\":\"souPIPtQ7r9KP/e44KfvPw==\",\"dtype\":\"float64\",\"order\":\"little\",\"shape\":[2]},\"y\":{\"__ndarray__\":\"uU9hdCwjAcAGQSu3Djr7Pw==\",\"dtype\":\"float64\",\"order\":\"little\",\"shape\":[2]}},\"selected\":{\"id\":\"2930\"},\"selection_policy\":{\"id\":\"2929\"}},\"id\":\"2718\",\"type\":\"ColumnDataSource\"},{\"attributes\":{\"line_alpha\":0.2,\"line_color\":\"#D14F71\",\"line_dash\":[6],\"line_width\":4,\"x\":{\"field\":\"x\"},\"y\":{\"field\":\"y\"}},\"id\":\"2727\",\"type\":\"Line\"},{\"attributes\":{\"coordinates\":null,\"data_source\":{\"id\":\"2718\"},\"glyph\":{\"id\":\"2719\"},\"group\":null,\"hover_glyph\":null,\"muted_glyph\":{\"id\":\"2721\"},\"nonselection_glyph\":{\"id\":\"2720\"},\"view\":{\"id\":\"2723\"}},\"id\":\"2722\",\"type\":\"GlyphRenderer\"},{\"attributes\":{\"source\":{\"id\":\"2718\"}},\"id\":\"2723\",\"type\":\"CDSView\"},{\"attributes\":{\"data\":{\"color\":[\"firebrick\",\"midnightblue\",\"firebrick\",\"firebrick\",\"firebrick\",\"midnightblue\",\"firebrick\",\"midnightblue\",\"firebrick\",\"midnightblue\",\"midnightblue\",\"firebrick\",\"firebrick\",\"midnightblue\",\"firebrick\",\"firebrick\",\"midnightblue\",\"firebrick\",\"firebrick\",\"firebrick\",\"midnightblue\",\"midnightblue\",\"midnightblue\",\"firebrick\",\"firebrick\",\"firebrick\",\"firebrick\",\"midnightblue\",\"firebrick\",\"midnightblue\",\"firebrick\",\"midnightblue\",\"firebrick\",\"firebrick\",\"midnightblue\",\"firebrick\",\"firebrick\",\"midnightblue\",\"midnightblue\",\"midnightblue\",\"firebrick\",\"firebrick\",\"firebrick\",\"midnightblue\",\"midnightblue\",\"midnightblue\",\"firebrick\",\"firebrick\",\"midnightblue\",\"firebrick\",\"firebrick\",\"firebrick\",\"midnightblue\",\"firebrick\",\"midnightblue\",\"firebrick\",\"firebrick\",\"midnightblue\",\"firebrick\",\"midnightblue\",\"midnightblue\",\"firebrick\",\"midnightblue\",\"midnightblue\",\"midnightblue\",\"firebrick\",\"firebrick\",\"firebrick\",\"midnightblue\",\"midnightblue\",\"midnightblue\",\"firebrick\",\"firebrick\",\"firebrick\",\"firebrick\",\"firebrick\",\"firebrick\",\"firebrick\",\"midnightblue\",\"midnightblue\",\"firebrick\",\"firebrick\",\"midnightblue\",\"firebrick\",\"firebrick\",\"midnightblue\",\"firebrick\",\"midnightblue\",\"midnightblue\",\"midnightblue\",\"firebrick\",\"midnightblue\",\"firebrick\",\"midnightblue\",\"midnightblue\",\"midnightblue\",\"firebrick\",\"firebrick\",\"midnightblue\",\"firebrick\"],\"label\":[\"class 2\",\"class 1\",\"class 2\",\"class 2\",\"class 2\",\"class 1\",\"class 2\",\"class 1\",\"class 2\",\"class 1\",\"class 1\",\"class 2\",\"class 2\",\"class 1\",\"class 2\",\"class 2\",\"class 1\",\"class 2\",\"class 2\",\"class 2\",\"class 1\",\"class 1\",\"class 1\",\"class 2\",\"class 2\",\"class 2\",\"class 2\",\"class 1\",\"class 2\",\"class 1\",\"class 2\",\"class 1\",\"class 2\",\"class 2\",\"class 1\",\"class 2\",\"class 2\",\"class 1\",\"class 1\",\"class 1\",\"class 2\",\"class 2\",\"class 2\",\"class 1\",\"class 1\",\"class 1\",\"class 2\",\"class 2\",\"class 1\",\"class 2\",\"class 2\",\"class 2\",\"class 1\",\"class 2\",\"class 1\",\"class 2\",\"class 2\",\"class 1\",\"class 2\",\"class 1\",\"class 1\",\"class 2\",\"class 1\",\"class 1\",\"class 1\",\"class 2\",\"class 2\",\"class 2\",\"class 1\",\"class 1\",\"class 1\",\"class 2\",\"class 2\",\"class 2\",\"class 2\",\"class 2\",\"class 2\",\"class 2\",\"class 1\",\"class 1\",\"class 2\",\"class 2\",\"class 1\",\"class 2\",\"class 2\",\"class 1\",\"class 2\",\"class 1\",\"class 1\",\"class 1\",\"class 2\",\"class 1\",\"class 2\",\"class 1\",\"class 1\",\"class 1\",\"class 2\",\"class 2\",\"class 1\",\"class 2\"],\"x\":{\"__ndarray__\":\"AOsNZFDKnD+amqk/6TLhPzw8aDVtKu6/souPIPtQ7r8KK21//ETtv+JQj+ag/ek/yISzXxWY178o9UQN7NjcP6h4NwakEO6/dmYmCa4N4D9ARRNsqH/hP0qcGwpfDem/DDBEAAyR4j94V3GuPbTrP+gGlLpMjsW/gCikHrxvgr/A98Cs9QHXP5JTfdW/Eui/pC34fpZP7r9EahwG4P3bv/AQzwDWEOU/0DXjwPFftz/a5JVqyprgP4AqEAJoSKg/DA9Ve6Bi3r8eQeQmVpvkv9B9RTOxO7y/MH6ybaaj3D9geim9+M7Sv3ZE/A8I2us/CCxQVj8u2D8Aibb4ZOuNP+Q0tYbxt9E/Rkt3mHOG5L9KP/e44KfvP7b/Xs5tQ+2/8Op3FQwx5L82TAU5ARfrP/LKz2eabes/DBDiQr9+0T8wxAKrbDi7v4g/i9/cjso/nOoqRm9q67/YUi7eYajcP54tVHLwNOw/5s6knb+F5D+AhjVC0VGFv/Rzzs3atOW/dIPKdICe0D+A7FxMMtbHP+I9PHV+pe2/yA3djdMr0b8U8IHB2JjmP8i2tcnMN+e/oGHCh0NUxj9gZ7OEpaO9P+Dp9983Z6g/qE6WLR8W5z+87jhkId/Zv2DjZ43707C/8EwMMs7kzj9kaO0DZU3ev3D59ngcYru/ZqIOm6457T8sgOBS2vzRvyjJ0YS6Ys2/Kith/cf95b9k3xooAUvfv2Au9jgh0MU/IKP6lN1p1j+q3cSjf67mPyDiRLyUW7Y/Hp5EHWyn57+kjqhlEwjcP2hapeymMso/9si0Qxge47+49YbHRqHbvxDy0L/PrLm/GN+6SP1g0j88gdr3yafkP0iLc6CpCdy/dL2AJqMq079wzdM2BoXkP0x4JXxd9di/gAkJsKJe4r9oiV1GeVvQP+zdv/R7aOS/SHI8rD8HzD+EFJbk+0ffPwRsDZORyOI/7jinXqti6r/+w3OkzDriP4xRv0RJA+m/JDqFz6c37j9QxtXvAD20P/pNAwwa5uc/ZLDsApt+4L8ARPCfi5rBv9ZuhlT8dOw//IDPOWBG0r8=\",\"dtype\":\"float64\",\"order\":\"little\",\"shape\":[100]},\"y\":{\"__ndarray__\":\"8NZzR2Cavj9uNjWQ2g3mv2pxP8mX9Ok/+LKVdTW0578YfjChWkbPv6gfAhD3q96/hG/SSwfx7z8kctMFhn/Wv+ChS4JrQ8W/gPB3K08T5D9AN+zheL6qvwx4lBbZiOU/yrplyuU77j8qWXiOs37hvwC0Je/QIH8/Cj1K1G6/4T96H6VSMSLpvwj4HBaexde/2P3lUEg7xr8AXgnc9yPsP+ZzzU6H9+M/AjzUmM665L+QPSon5mLUv8D6lN6KEqS/Ylyha/9g6b/MKBaEq+zQP0iQumhkLMW/eDtpBfDR4r8gbifZHu/dP6z508nTIe2/7mqD8CwR7z90/55rA+Tfv1gUQKo8FOs/TEbcZKrg2z/mmfYHjxToP0oMW5/TrOq/+KYYLcxQ0j9wLhurWmvBP7SIseLvKei/8rFBZnF/7L8EIigDoGrgP2oeMIYdH+8/9tVedYEP579+nwc3zE3uvwDoxw3ap72/+FSjM2iD4L9sfLqXDRbnP0havQ35VsE/MIJywILCy7+kVfAkOtbZP1rN6PFge+s/8ANk7ui1sz/OoZUH7wfkP8C2ohNFOdO/siRP+E9C6r8YzWCYdRXlPxB2315s7OQ/WAZBqzn81r/ktIRRp4DXP1gJo2XUV+i/gL9mea4npT/IKuYZlzHHv5CMASr7UOa/6Bf+eFs+1D82LS/Y2p7ivwBwlV6R83G/wMlvr2W10b+UDYZCmufevzglJo2UqMa/MNghf9lx1L+8S3lBXsrZP5izSE2AcNE/UKJk/732x79GSCEzihPjP8j9ZdaX3+o/QEU+la071b8Awvg7o6axv9jKoPwO0se/QKTVt1n7yj/0/UQJHHfsv9gsCaCOYs6/MIoJ1DlP27+o1uWrXB7VP6ibwtrW3t+/4AImQS40pj+y4tAuzxfivzC319egrcK/BLtdgUkf778ecOliAubrv4AHImVkzKm/NDeqLLfH5T8YwOiI7rbav75RD7mrhuI/COFk8lSkxD+wCAbfO9LIv4gIMCtR++M/sDnRqPsu1T8MFpuRkWvXPzABY3eSAL0/ShGGjpbE6j8=\",\"dtype\":\"float64\",\"order\":\"little\",\"shape\":[100]}},\"selected\":{\"id\":\"2562\"},\"selection_policy\":{\"id\":\"2561\"}},\"id\":\"2547\",\"type\":\"ColumnDataSource\"},{\"attributes\":{\"line_alpha\":0.1,\"line_color\":\"#CD4975\",\"line_dash\":[6],\"line_width\":4,\"x\":{\"field\":\"x\"},\"y\":{\"field\":\"y\"}},\"id\":\"2720\",\"type\":\"Line\"},{\"attributes\":{\"line_color\":\"#D6556D\",\"line_dash\":[6],\"line_width\":4,\"x\":{\"field\":\"x\"},\"y\":{\"field\":\"y\"}},\"id\":\"2731\",\"type\":\"Line\"},{\"attributes\":{\"data\":{\"x\":{\"__ndarray__\":\"souPIPtQ7r9KP/e44KfvPw==\",\"dtype\":\"float64\",\"order\":\"little\",\"shape\":[2]},\"y\":{\"__ndarray__\":\"vvucnqQSAcA24FDiciH7Pw==\",\"dtype\":\"float64\",\"order\":\"little\",\"shape\":[2]}},\"selected\":{\"id\":\"2932\"},\"selection_policy\":{\"id\":\"2931\"}},\"id\":\"2724\",\"type\":\"ColumnDataSource\"},{\"attributes\":{\"axis_label\":\"y\",\"axis_label_standoff\":10,\"axis_label_text_color\":\"#FFFFFF\",\"axis_label_text_font\":\"Josefin Sans\",\"axis_label_text_font_size\":\"1.9em\",\"axis_label_text_font_style\":\"bold\",\"axis_line_alpha\":0.4,\"axis_line_color\":\"#E0E0E0\",\"coordinates\":null,\"formatter\":{\"id\":\"2556\"},\"group\":null,\"major_label_policy\":{\"id\":\"2557\"},\"major_label_text_color\":\"#E0E0E0\",\"major_label_text_font\":\"Josefin Sans\",\"major_label_text_font_size\":\"1.15em\",\"major_tick_line_alpha\":0.4,\"major_tick_line_color\":\"#E0E0E0\",\"minor_tick_line_alpha\":0.4,\"minor_tick_line_color\":\"#E0E0E0\",\"ticker\":{\"id\":\"2530\"}},\"id\":\"2529\",\"type\":\"LinearAxis\"},{\"attributes\":{\"line_alpha\":0.2,\"line_color\":\"#D6556D\",\"line_dash\":[6],\"line_width\":4,\"x\":{\"field\":\"x\"},\"y\":{\"field\":\"y\"}},\"id\":\"2733\",\"type\":\"Line\"},{\"attributes\":{},\"id\":\"2915\",\"type\":\"UnionRenderers\"},{\"attributes\":{\"coordinates\":null,\"data_source\":{\"id\":\"2724\"},\"glyph\":{\"id\":\"2725\"},\"group\":null,\"hover_glyph\":null,\"muted_glyph\":{\"id\":\"2727\"},\"nonselection_glyph\":{\"id\":\"2726\"},\"view\":{\"id\":\"2729\"}},\"id\":\"2728\",\"type\":\"GlyphRenderer\"},{\"attributes\":{\"source\":{\"id\":\"2724\"}},\"id\":\"2729\",\"type\":\"CDSView\"},{\"attributes\":{},\"id\":\"2953\",\"type\":\"UnionRenderers\"},{\"attributes\":{},\"id\":\"2916\",\"type\":\"Selection\"},{\"attributes\":{\"line_alpha\":0.1,\"line_color\":\"#D14F71\",\"line_dash\":[6],\"line_width\":4,\"x\":{\"field\":\"x\"},\"y\":{\"field\":\"y\"}},\"id\":\"2726\",\"type\":\"Line\"},{\"attributes\":{\"coordinates\":null,\"group\":null,\"text\":\"Observations\",\"text_color\":\"#E0E0E0\",\"text_font\":\"Josefin Sans\",\"text_font_size\":\"2.1em\"},\"id\":\"2515\",\"type\":\"Title\"},{\"attributes\":{\"line_color\":\"#DA5A68\",\"line_dash\":[6],\"line_width\":4,\"x\":{\"field\":\"x\"},\"y\":{\"field\":\"y\"}},\"id\":\"2737\",\"type\":\"Line\"},{\"attributes\":{},\"id\":\"2954\",\"type\":\"Selection\"},{\"attributes\":{\"data\":{\"x\":{\"__ndarray__\":\"souPIPtQ7r9KP/e44KfvPw==\",\"dtype\":\"float64\",\"order\":\"little\",\"shape\":[2]},\"y\":{\"__ndarray__\":\"vpLhVbsCAcBoDiqI0Qn7Pw==\",\"dtype\":\"float64\",\"order\":\"little\",\"shape\":[2]}},\"selected\":{\"id\":\"2934\"},\"selection_policy\":{\"id\":\"2933\"}},\"id\":\"2730\",\"type\":\"ColumnDataSource\"},{\"attributes\":{\"line_alpha\":0.2,\"line_color\":\"#DA5A68\",\"line_dash\":[6],\"line_width\":4,\"x\":{\"field\":\"x\"},\"y\":{\"field\":\"y\"}},\"id\":\"2739\",\"type\":\"Line\"},{\"attributes\":{},\"id\":\"2538\",\"type\":\"HelpTool\"},{\"attributes\":{\"coordinates\":null,\"data_source\":{\"id\":\"2730\"},\"glyph\":{\"id\":\"2731\"},\"group\":null,\"hover_glyph\":null,\"muted_glyph\":{\"id\":\"2733\"},\"nonselection_glyph\":{\"id\":\"2732\"},\"view\":{\"id\":\"2735\"}},\"id\":\"2734\",\"type\":\"GlyphRenderer\"},{\"attributes\":{\"source\":{\"id\":\"2730\"}},\"id\":\"2735\",\"type\":\"CDSView\"},{\"attributes\":{\"axis_label\":\"x\",\"axis_label_standoff\":10,\"axis_label_text_color\":\"#FFFFFF\",\"axis_label_text_font\":\"Josefin Sans\",\"axis_label_text_font_size\":\"1.9em\",\"axis_label_text_font_style\":\"bold\",\"axis_line_alpha\":0.4,\"axis_line_color\":\"#E0E0E0\",\"coordinates\":null,\"formatter\":{\"id\":\"2559\"},\"group\":null,\"major_label_policy\":{\"id\":\"2560\"},\"major_label_text_color\":\"#E0E0E0\",\"major_label_text_font\":\"Josefin Sans\",\"major_label_text_font_size\":\"1.15em\",\"major_tick_line_alpha\":0.4,\"major_tick_line_color\":\"#E0E0E0\",\"minor_tick_line_alpha\":0.4,\"minor_tick_line_color\":\"#E0E0E0\",\"ticker\":{\"id\":\"2526\"}},\"id\":\"2525\",\"type\":\"LinearAxis\"},{\"attributes\":{\"line_alpha\":0.1,\"line_color\":\"#D6556D\",\"line_dash\":[6],\"line_width\":4,\"x\":{\"field\":\"x\"},\"y\":{\"field\":\"y\"}},\"id\":\"2732\",\"type\":\"Line\"},{\"attributes\":{\"line_color\":\"#DE6064\",\"line_dash\":[6],\"line_width\":4,\"x\":{\"field\":\"x\"},\"y\":{\"field\":\"y\"}},\"id\":\"2743\",\"type\":\"Line\"},{\"attributes\":{\"data\":{\"x\":{\"__ndarray__\":\"souPIPtQ7r9KP/e44KfvPw==\",\"dtype\":\"float64\",\"order\":\"little\",\"shape\":[2]},\"y\":{\"__ndarray__\":\"R/y8o2jzAMBcy9jAHfP6Pw==\",\"dtype\":\"float64\",\"order\":\"little\",\"shape\":[2]}},\"selected\":{\"id\":\"2936\"},\"selection_policy\":{\"id\":\"2935\"}},\"id\":\"2736\",\"type\":\"ColumnDataSource\"},{\"attributes\":{},\"id\":\"2879\",\"type\":\"UnionRenderers\"},{\"attributes\":{\"line_alpha\":0.2,\"line_color\":\"#DE6064\",\"line_dash\":[6],\"line_width\":4,\"x\":{\"field\":\"x\"},\"y\":{\"field\":\"y\"}},\"id\":\"2745\",\"type\":\"Line\"},{\"attributes\":{\"coordinates\":null,\"data_source\":{\"id\":\"2736\"},\"glyph\":{\"id\":\"2737\"},\"group\":null,\"hover_glyph\":null,\"muted_glyph\":{\"id\":\"2739\"},\"nonselection_glyph\":{\"id\":\"2738\"},\"view\":{\"id\":\"2741\"}},\"id\":\"2740\",\"type\":\"GlyphRenderer\"},{\"attributes\":{\"source\":{\"id\":\"2736\"}},\"id\":\"2741\",\"type\":\"CDSView\"},{\"attributes\":{\"line_alpha\":0.1,\"line_color\":\"#DA5A68\",\"line_dash\":[6],\"line_width\":4,\"x\":{\"field\":\"x\"},\"y\":{\"field\":\"y\"}},\"id\":\"2738\",\"type\":\"Line\"},{\"attributes\":{},\"id\":\"2917\",\"type\":\"UnionRenderers\"},{\"attributes\":{\"line_color\":\"#E3675F\",\"line_dash\":[6],\"line_width\":4,\"x\":{\"field\":\"x\"},\"y\":{\"field\":\"y\"}},\"id\":\"2749\",\"type\":\"Line\"},{\"attributes\":{},\"id\":\"2880\",\"type\":\"Selection\"},{\"attributes\":{\"data\":{\"x\":{\"__ndarray__\":\"souPIPtQ7r9KP/e44KfvPw==\",\"dtype\":\"float64\",\"order\":\"little\",\"shape\":[2]},\"y\":{\"__ndarray__\":\"yTJKHqXkAMDW/GqXS936Pw==\",\"dtype\":\"float64\",\"order\":\"little\",\"shape\":[2]}},\"selected\":{\"id\":\"2938\"},\"selection_policy\":{\"id\":\"2937\"}},\"id\":\"2742\",\"type\":\"ColumnDataSource\"},{\"attributes\":{},\"id\":\"2955\",\"type\":\"UnionRenderers\"},{\"attributes\":{\"line_alpha\":0.2,\"line_color\":\"#E3675F\",\"line_dash\":[6],\"line_width\":4,\"x\":{\"field\":\"x\"},\"y\":{\"field\":\"y\"}},\"id\":\"2751\",\"type\":\"Line\"},{\"attributes\":{},\"id\":\"2918\",\"type\":\"Selection\"},{\"attributes\":{\"coordinates\":null,\"data_source\":{\"id\":\"2742\"},\"glyph\":{\"id\":\"2743\"},\"group\":null,\"hover_glyph\":null,\"muted_glyph\":{\"id\":\"2745\"},\"nonselection_glyph\":{\"id\":\"2744\"},\"view\":{\"id\":\"2747\"}},\"id\":\"2746\",\"type\":\"GlyphRenderer\"},{\"attributes\":{\"source\":{\"id\":\"2742\"}},\"id\":\"2747\",\"type\":\"CDSView\"},{\"attributes\":{},\"id\":\"2956\",\"type\":\"Selection\"},{\"attributes\":{\"line_alpha\":0.1,\"line_color\":\"#DE6064\",\"line_dash\":[6],\"line_width\":4,\"x\":{\"field\":\"x\"},\"y\":{\"field\":\"y\"}},\"id\":\"2744\",\"type\":\"Line\"},{\"attributes\":{\"line_color\":\"#E66D5A\",\"line_dash\":[6],\"line_width\":4,\"x\":{\"field\":\"x\"},\"y\":{\"field\":\"y\"}},\"id\":\"2755\",\"type\":\"Line\"},{\"attributes\":{\"data\":{\"x\":{\"__ndarray__\":\"souPIPtQ7r9KP/e44KfvPw==\",\"dtype\":\"float64\",\"order\":\"little\",\"shape\":[2]},\"y\":{\"__ndarray__\":\"6+4iuGnWAMDBKDepT8j6Pw==\",\"dtype\":\"float64\",\"order\":\"little\",\"shape\":[2]}},\"selected\":{\"id\":\"2940\"},\"selection_policy\":{\"id\":\"2939\"}},\"id\":\"2748\",\"type\":\"ColumnDataSource\"},{\"attributes\":{\"line_alpha\":0.2,\"line_color\":\"#E66D5A\",\"line_dash\":[6],\"line_width\":4,\"x\":{\"field\":\"x\"},\"y\":{\"field\":\"y\"}},\"id\":\"2757\",\"type\":\"Line\"},{\"attributes\":{\"coordinates\":null,\"data_source\":{\"id\":\"2748\"},\"glyph\":{\"id\":\"2749\"},\"group\":null,\"hover_glyph\":null,\"muted_glyph\":{\"id\":\"2751\"},\"nonselection_glyph\":{\"id\":\"2750\"},\"view\":{\"id\":\"2753\"}},\"id\":\"2752\",\"type\":\"GlyphRenderer\"},{\"attributes\":{\"end\":0.9892428982366053,\"start\":-0.9473853717757861},\"id\":\"2566\",\"type\":\"Range1d\"},{\"attributes\":{\"source\":{\"id\":\"2748\"}},\"id\":\"2753\",\"type\":\"CDSView\"},{\"attributes\":{\"line_alpha\":0.1,\"line_color\":\"#E3675F\",\"line_dash\":[6],\"line_width\":4,\"x\":{\"field\":\"x\"},\"y\":{\"field\":\"y\"}},\"id\":\"2750\",\"type\":\"Line\"},{\"attributes\":{\"line_color\":\"#EA7356\",\"line_dash\":[6],\"line_width\":4,\"x\":{\"field\":\"x\"},\"y\":{\"field\":\"y\"}},\"id\":\"2761\",\"type\":\"Line\"},{\"attributes\":{\"data\":{\"x\":{\"__ndarray__\":\"souPIPtQ7r9KP/e44KfvPw==\",\"dtype\":\"float64\",\"order\":\"little\",\"shape\":[2]},\"y\":{\"__ndarray__\":\"8JCo56/IAMDIh6tbH7T6Pw==\",\"dtype\":\"float64\",\"order\":\"little\",\"shape\":[2]}},\"selected\":{\"id\":\"2942\"},\"selection_policy\":{\"id\":\"2941\"}},\"id\":\"2754\",\"type\":\"ColumnDataSource\"},{\"attributes\":{},\"id\":\"2881\",\"type\":\"UnionRenderers\"},{\"attributes\":{\"line_alpha\":0.2,\"line_color\":\"#EA7356\",\"line_dash\":[6],\"line_width\":4,\"x\":{\"field\":\"x\"},\"y\":{\"field\":\"y\"}},\"id\":\"2763\",\"type\":\"Line\"},{\"attributes\":{\"coordinates\":null,\"data_source\":{\"id\":\"2754\"},\"glyph\":{\"id\":\"2755\"},\"group\":null,\"hover_glyph\":null,\"muted_glyph\":{\"id\":\"2757\"},\"nonselection_glyph\":{\"id\":\"2756\"},\"view\":{\"id\":\"2759\"}},\"id\":\"2758\",\"type\":\"GlyphRenderer\"},{\"attributes\":{},\"id\":\"2919\",\"type\":\"UnionRenderers\"},{\"attributes\":{\"source\":{\"id\":\"2754\"}},\"id\":\"2759\",\"type\":\"CDSView\"},{\"attributes\":{},\"id\":\"2882\",\"type\":\"Selection\"},{\"attributes\":{\"end\":0.9981724244021142,\"start\":-0.9725692297632524},\"id\":\"2567\",\"type\":\"Range1d\"},{\"attributes\":{},\"id\":\"2957\",\"type\":\"UnionRenderers\"},{\"attributes\":{\"line_alpha\":0.1,\"line_color\":\"#E66D5A\",\"line_dash\":[6],\"line_width\":4,\"x\":{\"field\":\"x\"},\"y\":{\"field\":\"y\"}},\"id\":\"2756\",\"type\":\"Line\"},{\"attributes\":{},\"id\":\"2920\",\"type\":\"Selection\"},{\"attributes\":{\"line_color\":\"#ED7952\",\"line_dash\":[6],\"line_width\":4,\"x\":{\"field\":\"x\"},\"y\":{\"field\":\"y\"}},\"id\":\"2767\",\"type\":\"Line\"},{\"attributes\":{\"data\":{\"x\":{\"__ndarray__\":\"souPIPtQ7r9KP/e44KfvPw==\",\"dtype\":\"float64\",\"order\":\"little\",\"shape\":[2]},\"y\":{\"__ndarray__\":\"cYatbnG7AMDDeN+UsKD6Pw==\",\"dtype\":\"float64\",\"order\":\"little\",\"shape\":[2]}},\"selected\":{\"id\":\"2944\"},\"selection_policy\":{\"id\":\"2943\"}},\"id\":\"2760\",\"type\":\"ColumnDataSource\"},{\"attributes\":{},\"id\":\"2958\",\"type\":\"Selection\"},{\"attributes\":{\"line_alpha\":0.2,\"line_color\":\"#ED7952\",\"line_dash\":[6],\"line_width\":4,\"x\":{\"field\":\"x\"},\"y\":{\"field\":\"y\"}},\"id\":\"2769\",\"type\":\"Line\"},{\"attributes\":{\"coordinates\":null,\"data_source\":{\"id\":\"2760\"},\"glyph\":{\"id\":\"2761\"},\"group\":null,\"hover_glyph\":null,\"muted_glyph\":{\"id\":\"2763\"},\"nonselection_glyph\":{\"id\":\"2762\"},\"view\":{\"id\":\"2765\"}},\"id\":\"2764\",\"type\":\"GlyphRenderer\"},{\"attributes\":{\"source\":{\"id\":\"2760\"}},\"id\":\"2765\",\"type\":\"CDSView\"},{\"attributes\":{},\"id\":\"2559\",\"type\":\"BasicTickFormatter\"},{\"attributes\":{\"line_alpha\":0.1,\"line_color\":\"#EA7356\",\"line_dash\":[6],\"line_width\":4,\"x\":{\"field\":\"x\"},\"y\":{\"field\":\"y\"}},\"id\":\"2762\",\"type\":\"Line\"},{\"attributes\":{\"line_color\":\"#F0804D\",\"line_dash\":[6],\"line_width\":4,\"x\":{\"field\":\"x\"},\"y\":{\"field\":\"y\"}},\"id\":\"2773\",\"type\":\"Line\"},{\"attributes\":{\"data\":{\"x\":{\"__ndarray__\":\"souPIPtQ7r9KP/e44KfvPw==\",\"dtype\":\"float64\",\"order\":\"little\",\"shape\":[2]},\"y\":{\"__ndarray__\":\"lhngkqiuAMDvaQcf+o36Pw==\",\"dtype\":\"float64\",\"order\":\"little\",\"shape\":[2]}},\"selected\":{\"id\":\"2946\"},\"selection_policy\":{\"id\":\"2945\"}},\"id\":\"2766\",\"type\":\"ColumnDataSource\"},{\"attributes\":{},\"id\":\"2562\",\"type\":\"Selection\"},{\"attributes\":{\"line_alpha\":0.2,\"line_color\":\"#F0804D\",\"line_dash\":[6],\"line_width\":4,\"x\":{\"field\":\"x\"},\"y\":{\"field\":\"y\"}},\"id\":\"2775\",\"type\":\"Line\"},{\"attributes\":{},\"id\":\"2556\",\"type\":\"BasicTickFormatter\"},{\"attributes\":{\"coordinates\":null,\"data_source\":{\"id\":\"2766\"},\"glyph\":{\"id\":\"2767\"},\"group\":null,\"hover_glyph\":null,\"muted_glyph\":{\"id\":\"2769\"},\"nonselection_glyph\":{\"id\":\"2768\"},\"view\":{\"id\":\"2771\"}},\"id\":\"2770\",\"type\":\"GlyphRenderer\"},{\"attributes\":{\"source\":{\"id\":\"2766\"}},\"id\":\"2771\",\"type\":\"CDSView\"},{\"attributes\":{},\"id\":\"2883\",\"type\":\"UnionRenderers\"},{\"attributes\":{\"line_alpha\":0.1,\"line_color\":\"#ED7952\",\"line_dash\":[6],\"line_width\":4,\"x\":{\"field\":\"x\"},\"y\":{\"field\":\"y\"}},\"id\":\"2768\",\"type\":\"Line\"},{\"attributes\":{\"line_color\":\"#F38748\",\"line_dash\":[6],\"line_width\":4,\"x\":{\"field\":\"x\"},\"y\":{\"field\":\"y\"}},\"id\":\"2779\",\"type\":\"Line\"},{\"attributes\":{},\"id\":\"2921\",\"type\":\"UnionRenderers\"},{\"attributes\":{},\"id\":\"2557\",\"type\":\"AllLabels\"},{\"attributes\":{\"data\":{\"x\":{\"__ndarray__\":\"souPIPtQ7r9KP/e44KfvPw==\",\"dtype\":\"float64\",\"order\":\"little\",\"shape\":[2]},\"y\":{\"__ndarray__\":\"kITExE+iAMBdgrgQ83v6Pw==\",\"dtype\":\"float64\",\"order\":\"little\",\"shape\":[2]}},\"selected\":{\"id\":\"2948\"},\"selection_policy\":{\"id\":\"2947\"}},\"id\":\"2772\",\"type\":\"ColumnDataSource\"},{\"attributes\":{},\"id\":\"2884\",\"type\":\"Selection\"},{\"attributes\":{\"line_alpha\":0.2,\"line_color\":\"#F38748\",\"line_dash\":[6],\"line_width\":4,\"x\":{\"field\":\"x\"},\"y\":{\"field\":\"y\"}},\"id\":\"2781\",\"type\":\"Line\"},{\"attributes\":{},\"id\":\"2959\",\"type\":\"UnionRenderers\"},{\"attributes\":{\"coordinates\":null,\"data_source\":{\"id\":\"2772\"},\"glyph\":{\"id\":\"2773\"},\"group\":null,\"hover_glyph\":null,\"muted_glyph\":{\"id\":\"2775\"},\"nonselection_glyph\":{\"id\":\"2774\"},\"view\":{\"id\":\"2777\"}},\"id\":\"2776\",\"type\":\"GlyphRenderer\"},{\"attributes\":{},\"id\":\"2922\",\"type\":\"Selection\"},{\"attributes\":{\"source\":{\"id\":\"2772\"}},\"id\":\"2777\",\"type\":\"CDSView\"},{\"attributes\":{\"fill_alpha\":{\"value\":0.6},\"fill_color\":{\"field\":\"color\"},\"hatch_alpha\":{\"value\":0.6},\"hatch_color\":{\"field\":\"color\"},\"line_alpha\":{\"value\":0.6},\"line_color\":{\"value\":\"white\"},\"size\":{\"value\":10},\"x\":{\"field\":\"x\"},\"y\":{\"field\":\"y\"}},\"id\":\"2549\",\"type\":\"Circle\"},{\"attributes\":{},\"id\":\"2960\",\"type\":\"Selection\"},{\"attributes\":{\"line_alpha\":0.1,\"line_color\":\"#F0804D\",\"line_dash\":[6],\"line_width\":4,\"x\":{\"field\":\"x\"},\"y\":{\"field\":\"y\"}},\"id\":\"2774\",\"type\":\"Line\"},{\"attributes\":{\"line_color\":\"#F68E44\",\"line_dash\":[6],\"line_width\":4,\"x\":{\"field\":\"x\"},\"y\":{\"field\":\"y\"}},\"id\":\"2785\",\"type\":\"Line\"},{\"attributes\":{\"data\":{\"x\":{\"__ndarray__\":\"souPIPtQ7r9KP/e44KfvPw==\",\"dtype\":\"float64\",\"order\":\"little\",\"shape\":[2]},\"y\":{\"__ndarray__\":\"Xyvq9WGWAMAVXp86k2r6Pw==\",\"dtype\":\"float64\",\"order\":\"little\",\"shape\":[2]}},\"selected\":{\"id\":\"2950\"},\"selection_policy\":{\"id\":\"2949\"}},\"id\":\"2778\",\"type\":\"ColumnDataSource\"},{\"attributes\":{\"line_alpha\":0.2,\"line_color\":\"#F68E44\",\"line_dash\":[6],\"line_width\":4,\"x\":{\"field\":\"x\"},\"y\":{\"field\":\"y\"}},\"id\":\"2787\",\"type\":\"Line\"},{\"attributes\":{\"coordinates\":null,\"data_source\":{\"id\":\"2778\"},\"glyph\":{\"id\":\"2779\"},\"group\":null,\"hover_glyph\":null,\"muted_glyph\":{\"id\":\"2781\"},\"nonselection_glyph\":{\"id\":\"2780\"},\"view\":{\"id\":\"2783\"}},\"id\":\"2782\",\"type\":\"GlyphRenderer\"},{\"attributes\":{\"source\":{\"id\":\"2778\"}},\"id\":\"2783\",\"type\":\"CDSView\"},{\"attributes\":{\"line_alpha\":0.1,\"line_color\":\"#F38748\",\"line_dash\":[6],\"line_width\":4,\"x\":{\"field\":\"x\"},\"y\":{\"field\":\"y\"}},\"id\":\"2780\",\"type\":\"Line\"},{\"attributes\":{\"line_color\":\"#F89540\",\"line_dash\":[6],\"line_width\":4,\"x\":{\"field\":\"x\"},\"y\":{\"field\":\"y\"}},\"id\":\"2791\",\"type\":\"Line\"},{\"attributes\":{\"data\":{\"x\":{\"__ndarray__\":\"souPIPtQ7r9KP/e44KfvPw==\",\"dtype\":\"float64\",\"order\":\"little\",\"shape\":[2]},\"y\":{\"__ndarray__\":\"ePIOOdqKAMA6e66q0ln6Pw==\",\"dtype\":\"float64\",\"order\":\"little\",\"shape\":[2]}},\"selected\":{\"id\":\"2952\"},\"selection_policy\":{\"id\":\"2951\"}},\"id\":\"2784\",\"type\":\"ColumnDataSource\"},{\"attributes\":{\"line_alpha\":0.2,\"line_color\":\"#F89540\",\"line_dash\":[6],\"line_width\":4,\"x\":{\"field\":\"x\"},\"y\":{\"field\":\"y\"}},\"id\":\"2793\",\"type\":\"Line\"},{\"attributes\":{},\"id\":\"2885\",\"type\":\"UnionRenderers\"},{\"attributes\":{\"coordinates\":null,\"data_source\":{\"id\":\"2784\"},\"glyph\":{\"id\":\"2785\"},\"group\":null,\"hover_glyph\":null,\"muted_glyph\":{\"id\":\"2787\"},\"nonselection_glyph\":{\"id\":\"2786\"},\"view\":{\"id\":\"2789\"}},\"id\":\"2788\",\"type\":\"GlyphRenderer\"},{\"attributes\":{\"source\":{\"id\":\"2784\"}},\"id\":\"2789\",\"type\":\"CDSView\"},{\"attributes\":{},\"id\":\"2923\",\"type\":\"UnionRenderers\"},{\"attributes\":{},\"id\":\"2886\",\"type\":\"Selection\"},{\"attributes\":{\"line_alpha\":0.1,\"line_color\":\"#F68E44\",\"line_dash\":[6],\"line_width\":4,\"x\":{\"field\":\"x\"},\"y\":{\"field\":\"y\"}},\"id\":\"2786\",\"type\":\"Line\"},{\"attributes\":{},\"id\":\"2961\",\"type\":\"UnionRenderers\"},{\"attributes\":{\"line_color\":\"#FA9C3B\",\"line_dash\":[6],\"line_width\":4,\"x\":{\"field\":\"x\"},\"y\":{\"field\":\"y\"}},\"id\":\"2797\",\"type\":\"Line\"},{\"attributes\":{},\"id\":\"2924\",\"type\":\"Selection\"},{\"attributes\":{\"data\":{\"x\":{\"__ndarray__\":\"souPIPtQ7r9KP/e44KfvPw==\",\"dtype\":\"float64\",\"order\":\"little\",\"shape\":[2]},\"y\":{\"__ndarray__\":\"Z75e+LN/AMAFjkoUqkn6Pw==\",\"dtype\":\"float64\",\"order\":\"little\",\"shape\":[2]}},\"selected\":{\"id\":\"2954\"},\"selection_policy\":{\"id\":\"2953\"}},\"id\":\"2790\",\"type\":\"ColumnDataSource\"},{\"attributes\":{\"line_alpha\":0.2,\"line_color\":\"#FA9C3B\",\"line_dash\":[6],\"line_width\":4,\"x\":{\"field\":\"x\"},\"y\":{\"field\":\"y\"}},\"id\":\"2799\",\"type\":\"Line\"},{\"attributes\":{},\"id\":\"2962\",\"type\":\"Selection\"},{\"attributes\":{\"coordinates\":null,\"data_source\":{\"id\":\"2790\"},\"glyph\":{\"id\":\"2791\"},\"group\":null,\"hover_glyph\":null,\"muted_glyph\":{\"id\":\"2793\"},\"nonselection_glyph\":{\"id\":\"2792\"},\"view\":{\"id\":\"2795\"}},\"id\":\"2794\",\"type\":\"GlyphRenderer\"},{\"attributes\":{\"source\":{\"id\":\"2790\"}},\"id\":\"2795\",\"type\":\"CDSView\"},{\"attributes\":{\"line_alpha\":0.1,\"line_color\":\"#F89540\",\"line_dash\":[6],\"line_width\":4,\"x\":{\"field\":\"x\"},\"y\":{\"field\":\"y\"}},\"id\":\"2792\",\"type\":\"Line\"},{\"attributes\":{\"line_color\":\"#FBA337\",\"line_dash\":[6],\"line_width\":4,\"x\":{\"field\":\"x\"},\"y\":{\"field\":\"y\"}},\"id\":\"2803\",\"type\":\"Line\"},{\"attributes\":{\"data\":{\"x\":{\"__ndarray__\":\"souPIPtQ7r9KP/e44KfvPw==\",\"dtype\":\"float64\",\"order\":\"little\",\"shape\":[2]},\"y\":{\"__ndarray__\":\"VLvJ6Op0AMAMZ4CFEjr6Pw==\",\"dtype\":\"float64\",\"order\":\"little\",\"shape\":[2]}},\"selected\":{\"id\":\"2956\"},\"selection_policy\":{\"id\":\"2955\"}},\"id\":\"2796\",\"type\":\"ColumnDataSource\"},{\"attributes\":{\"line_alpha\":0.2,\"line_color\":\"#FBA337\",\"line_dash\":[6],\"line_width\":4,\"x\":{\"field\":\"x\"},\"y\":{\"field\":\"y\"}},\"id\":\"2805\",\"type\":\"Line\"},{\"attributes\":{\"coordinates\":null,\"data_source\":{\"id\":\"2796\"},\"glyph\":{\"id\":\"2797\"},\"group\":null,\"hover_glyph\":null,\"muted_glyph\":{\"id\":\"2799\"},\"nonselection_glyph\":{\"id\":\"2798\"},\"view\":{\"id\":\"2801\"}},\"id\":\"2800\",\"type\":\"GlyphRenderer\"},{\"attributes\":{\"source\":{\"id\":\"2796\"}},\"id\":\"2801\",\"type\":\"CDSView\"},{\"attributes\":{\"line_alpha\":0.1,\"line_color\":\"#FA9C3B\",\"line_dash\":[6],\"line_width\":4,\"x\":{\"field\":\"x\"},\"y\":{\"field\":\"y\"}},\"id\":\"2798\",\"type\":\"Line\"},{\"attributes\":{},\"id\":\"2887\",\"type\":\"UnionRenderers\"},{\"attributes\":{\"line_color\":\"#FCAC32\",\"line_dash\":[6],\"line_width\":4,\"x\":{\"field\":\"x\"},\"y\":{\"field\":\"y\"}},\"id\":\"2809\",\"type\":\"Line\"},{\"attributes\":{},\"id\":\"2561\",\"type\":\"UnionRenderers\"},{\"attributes\":{\"data\":{\"x\":{\"__ndarray__\":\"souPIPtQ7r9KP/e44KfvPw==\",\"dtype\":\"float64\",\"order\":\"little\",\"shape\":[2]},\"y\":{\"__ndarray__\":\"mGuL6npqAMCW5uJZBSv6Pw==\",\"dtype\":\"float64\",\"order\":\"little\",\"shape\":[2]}},\"selected\":{\"id\":\"2958\"},\"selection_policy\":{\"id\":\"2957\"}},\"id\":\"2802\",\"type\":\"ColumnDataSource\"},{\"attributes\":{},\"id\":\"2925\",\"type\":\"UnionRenderers\"},{\"attributes\":{\"line_alpha\":0.2,\"line_color\":\"#FCAC32\",\"line_dash\":[6],\"line_width\":4,\"x\":{\"field\":\"x\"},\"y\":{\"field\":\"y\"}},\"id\":\"2811\",\"type\":\"Line\"},{\"attributes\":{},\"id\":\"2888\",\"type\":\"Selection\"},{\"attributes\":{\"coordinates\":null,\"data_source\":{\"id\":\"2802\"},\"glyph\":{\"id\":\"2803\"},\"group\":null,\"hover_glyph\":null,\"muted_glyph\":{\"id\":\"2805\"},\"nonselection_glyph\":{\"id\":\"2804\"},\"view\":{\"id\":\"2807\"}},\"id\":\"2806\",\"type\":\"GlyphRenderer\"},{\"attributes\":{},\"id\":\"2963\",\"type\":\"UnionRenderers\"},{\"attributes\":{\"source\":{\"id\":\"2802\"}},\"id\":\"2807\",\"type\":\"CDSView\"},{\"attributes\":{},\"id\":\"2926\",\"type\":\"Selection\"},{\"attributes\":{\"line_alpha\":0.1,\"line_color\":\"#FBA337\",\"line_dash\":[6],\"line_width\":4,\"x\":{\"field\":\"x\"},\"y\":{\"field\":\"y\"}},\"id\":\"2804\",\"type\":\"Line\"},{\"attributes\":{},\"id\":\"2964\",\"type\":\"Selection\"},{\"attributes\":{\"line_color\":\"#FDB32E\",\"line_dash\":[6],\"line_width\":4,\"x\":{\"field\":\"x\"},\"y\":{\"field\":\"y\"}},\"id\":\"2815\",\"type\":\"Line\"},{\"attributes\":{\"data\":{\"x\":{\"__ndarray__\":\"souPIPtQ7r9KP/e44KfvPw==\",\"dtype\":\"float64\",\"order\":\"little\",\"shape\":[2]},\"y\":{\"__ndarray__\":\"i+eFKGBgAMDEkTl9fBz6Pw==\",\"dtype\":\"float64\",\"order\":\"little\",\"shape\":[2]}},\"selected\":{\"id\":\"2960\"},\"selection_policy\":{\"id\":\"2959\"}},\"id\":\"2808\",\"type\":\"ColumnDataSource\"},{\"attributes\":{\"line_alpha\":0.2,\"line_color\":\"#FDB32E\",\"line_dash\":[6],\"line_width\":4,\"x\":{\"field\":\"x\"},\"y\":{\"field\":\"y\"}},\"id\":\"2817\",\"type\":\"Line\"},{\"attributes\":{\"coordinates\":null,\"data_source\":{\"id\":\"2808\"},\"glyph\":{\"id\":\"2809\"},\"group\":null,\"hover_glyph\":null,\"muted_glyph\":{\"id\":\"2811\"},\"nonselection_glyph\":{\"id\":\"2810\"},\"view\":{\"id\":\"2813\"}},\"id\":\"2812\",\"type\":\"GlyphRenderer\"},{\"attributes\":{\"source\":{\"id\":\"2808\"}},\"id\":\"2813\",\"type\":\"CDSView\"},{\"attributes\":{},\"id\":\"2560\",\"type\":\"AllLabels\"},{\"attributes\":{\"line_alpha\":0.1,\"line_color\":\"#FCAC32\",\"line_dash\":[6],\"line_width\":4,\"x\":{\"field\":\"x\"},\"y\":{\"field\":\"y\"}},\"id\":\"2810\",\"type\":\"Line\"},{\"attributes\":{\"line_color\":\"#FDBB2B\",\"line_dash\":[6],\"line_width\":4,\"x\":{\"field\":\"x\"},\"y\":{\"field\":\"y\"}},\"id\":\"2821\",\"type\":\"Line\"},{\"attributes\":{\"data\":{\"x\":{\"__ndarray__\":\"souPIPtQ7r9KP/e44KfvPw==\",\"dtype\":\"float64\",\"order\":\"little\",\"shape\":[2]},\"y\":{\"__ndarray__\":\"8EeK+pZWAMC9ZFoHcg76Pw==\",\"dtype\":\"float64\",\"order\":\"little\",\"shape\":[2]}},\"selected\":{\"id\":\"2962\"},\"selection_policy\":{\"id\":\"2961\"}},\"id\":\"2814\",\"type\":\"ColumnDataSource\"},{\"attributes\":{\"line_alpha\":0.2,\"line_color\":\"#FDBB2B\",\"line_dash\":[6],\"line_width\":4,\"x\":{\"field\":\"x\"},\"y\":{\"field\":\"y\"}},\"id\":\"2823\",\"type\":\"Line\"},{\"attributes\":{\"coordinates\":null,\"data_source\":{\"id\":\"2814\"},\"glyph\":{\"id\":\"2815\"},\"group\":null,\"hover_glyph\":null,\"muted_glyph\":{\"id\":\"2817\"},\"nonselection_glyph\":{\"id\":\"2816\"},\"view\":{\"id\":\"2819\"}},\"id\":\"2818\",\"type\":\"GlyphRenderer\"},{\"attributes\":{},\"id\":\"2889\",\"type\":\"UnionRenderers\"},{\"attributes\":{\"source\":{\"id\":\"2814\"}},\"id\":\"2819\",\"type\":\"CDSView\"},{\"attributes\":{},\"id\":\"2927\",\"type\":\"UnionRenderers\"},{\"attributes\":{\"line_alpha\":0.1,\"line_color\":\"#FDB32E\",\"line_dash\":[6],\"line_width\":4,\"x\":{\"field\":\"x\"},\"y\":{\"field\":\"y\"}},\"id\":\"2816\",\"type\":\"Line\"},{\"attributes\":{\"line_color\":\"#0C0786\",\"line_dash\":[6],\"line_width\":4,\"x\":{\"field\":\"x\"},\"y\":{\"field\":\"y\"}},\"id\":\"2569\",\"type\":\"Line\"},{\"attributes\":{},\"id\":\"2890\",\"type\":\"Selection\"},{\"attributes\":{\"line_color\":\"#FDC328\",\"line_dash\":[6],\"line_width\":4,\"x\":{\"field\":\"x\"},\"y\":{\"field\":\"y\"}},\"id\":\"2827\",\"type\":\"Line\"},{\"attributes\":{},\"id\":\"2965\",\"type\":\"UnionRenderers\"},{\"attributes\":{\"data\":{\"x\":{\"__ndarray__\":\"souPIPtQ7r9KP/e44KfvPw==\",\"dtype\":\"float64\",\"order\":\"little\",\"shape\":[2]},\"y\":{\"__ndarray__\":\"itbc6RtNAMAfPVp44AD6Pw==\",\"dtype\":\"float64\",\"order\":\"little\",\"shape\":[2]}},\"selected\":{\"id\":\"2964\"},\"selection_policy\":{\"id\":\"2963\"}},\"id\":\"2820\",\"type\":\"ColumnDataSource\"},{\"attributes\":{},\"id\":\"2928\",\"type\":\"Selection\"},{\"attributes\":{\"line_alpha\":0.2,\"line_color\":\"#FDC328\",\"line_dash\":[6],\"line_width\":4,\"x\":{\"field\":\"x\"},\"y\":{\"field\":\"y\"}},\"id\":\"2829\",\"type\":\"Line\"},{\"attributes\":{\"coordinates\":null,\"data_source\":{\"id\":\"2820\"},\"glyph\":{\"id\":\"2821\"},\"group\":null,\"hover_glyph\":null,\"muted_glyph\":{\"id\":\"2823\"},\"nonselection_glyph\":{\"id\":\"2822\"},\"view\":{\"id\":\"2825\"}},\"id\":\"2824\",\"type\":\"GlyphRenderer\"},{\"attributes\":{\"data\":{\"x\":{\"__ndarray__\":\"souPIPtQ7r9KP/e44KfvPw==\",\"dtype\":\"float64\",\"order\":\"little\",\"shape\":[2]},\"y\":{\"__ndarray__\":\"nFqlCx/sAsDTz7XwVPP9Pw==\",\"dtype\":\"float64\",\"order\":\"little\",\"shape\":[2]}},\"selected\":{\"id\":\"2894\"},\"selection_policy\":{\"id\":\"2893\"}},\"id\":\"2610\",\"type\":\"ColumnDataSource\"},{\"attributes\":{},\"id\":\"2966\",\"type\":\"Selection\"},{\"attributes\":{\"source\":{\"id\":\"2820\"}},\"id\":\"2825\",\"type\":\"CDSView\"},{\"attributes\":{\"background_fill_alpha\":0.2,\"background_fill_color\":\"darkgrey\",\"border_line_alpha\":0.8,\"border_line_color\":\"grey\",\"border_line_width\":3,\"coordinates\":null,\"group\":null,\"items\":[{\"id\":\"2565\"}],\"label_text_color\":\"white\"},\"id\":\"2564\",\"type\":\"Legend\"},{\"attributes\":{\"fill_alpha\":{\"value\":0.2},\"fill_color\":{\"field\":\"color\"},\"hatch_alpha\":{\"value\":0.2},\"hatch_color\":{\"field\":\"color\"},\"line_alpha\":{\"value\":0.2},\"line_color\":{\"value\":\"white\"},\"size\":{\"value\":10},\"x\":{\"field\":\"x\"},\"y\":{\"field\":\"y\"}},\"id\":\"2551\",\"type\":\"Circle\"},{\"attributes\":{\"line_alpha\":0.1,\"line_color\":\"#FDBB2B\",\"line_dash\":[6],\"line_width\":4,\"x\":{\"field\":\"x\"},\"y\":{\"field\":\"y\"}},\"id\":\"2822\",\"type\":\"Line\"},{\"attributes\":{\"line_color\":\"#FCCB25\",\"line_dash\":[6],\"line_width\":4,\"x\":{\"field\":\"x\"},\"y\":{\"field\":\"y\"}},\"id\":\"2833\",\"type\":\"Line\"},{\"attributes\":{\"source\":{\"id\":\"2547\"}},\"id\":\"2553\",\"type\":\"CDSView\"},{\"attributes\":{\"data\":{\"x\":{\"__ndarray__\":\"souPIPtQ7r9KP/e44KfvPw==\",\"dtype\":\"float64\",\"order\":\"little\",\"shape\":[2]},\"y\":{\"__ndarray__\":\"ypQst+tDAMA7FeuewvP5Pw==\",\"dtype\":\"float64\",\"order\":\"little\",\"shape\":[2]}},\"selected\":{\"id\":\"2966\"},\"selection_policy\":{\"id\":\"2965\"}},\"id\":\"2826\",\"type\":\"ColumnDataSource\"},{\"attributes\":{\"line_alpha\":0.2,\"line_color\":\"#FCCB25\",\"line_dash\":[6],\"line_width\":4,\"x\":{\"field\":\"x\"},\"y\":{\"field\":\"y\"}},\"id\":\"2835\",\"type\":\"Line\"},{\"attributes\":{\"coordinates\":null,\"data_source\":{\"id\":\"2826\"},\"glyph\":{\"id\":\"2827\"},\"group\":null,\"hover_glyph\":null,\"muted_glyph\":{\"id\":\"2829\"},\"nonselection_glyph\":{\"id\":\"2828\"},\"view\":{\"id\":\"2831\"}},\"id\":\"2830\",\"type\":\"GlyphRenderer\"},{\"attributes\":{\"source\":{\"id\":\"2826\"}},\"id\":\"2831\",\"type\":\"CDSView\"},{\"attributes\":{\"line_alpha\":0.1,\"line_color\":\"#FDC328\",\"line_dash\":[6],\"line_width\":4,\"x\":{\"field\":\"x\"},\"y\":{\"field\":\"y\"}},\"id\":\"2828\",\"type\":\"Line\"},{\"attributes\":{\"line_color\":\"#FAD524\",\"line_dash\":[6],\"line_width\":4,\"x\":{\"field\":\"x\"},\"y\":{\"field\":\"y\"}},\"id\":\"2839\",\"type\":\"Line\"},{\"attributes\":{},\"id\":\"2891\",\"type\":\"UnionRenderers\"},{\"attributes\":{\"data\":{\"x\":{\"__ndarray__\":\"souPIPtQ7r9KP/e44KfvPw==\",\"dtype\":\"float64\",\"order\":\"little\",\"shape\":[2]},\"y\":{\"__ndarray__\":\"t1iHQgM7AMDY0a1xE+f5Pw==\",\"dtype\":\"float64\",\"order\":\"little\",\"shape\":[2]}},\"selected\":{\"id\":\"2968\"},\"selection_policy\":{\"id\":\"2967\"}},\"id\":\"2832\",\"type\":\"ColumnDataSource\"},{\"attributes\":{\"line_alpha\":0.2,\"line_color\":\"#FAD524\",\"line_dash\":[6],\"line_width\":4,\"x\":{\"field\":\"x\"},\"y\":{\"field\":\"y\"}},\"id\":\"2841\",\"type\":\"Line\"},{\"attributes\":{},\"id\":\"2929\",\"type\":\"UnionRenderers\"},{\"attributes\":{\"coordinates\":null,\"data_source\":{\"id\":\"2832\"},\"glyph\":{\"id\":\"2833\"},\"group\":null,\"hover_glyph\":null,\"muted_glyph\":{\"id\":\"2835\"},\"nonselection_glyph\":{\"id\":\"2834\"},\"view\":{\"id\":\"2837\"}},\"id\":\"2836\",\"type\":\"GlyphRenderer\"},{\"attributes\":{},\"id\":\"2892\",\"type\":\"Selection\"},{\"attributes\":{\"source\":{\"id\":\"2832\"}},\"id\":\"2837\",\"type\":\"CDSView\"},{\"attributes\":{},\"id\":\"2967\",\"type\":\"UnionRenderers\"},{\"attributes\":{},\"id\":\"2930\",\"type\":\"Selection\"},{\"attributes\":{\"line_alpha\":0.1,\"line_color\":\"#FCCB25\",\"line_dash\":[6],\"line_width\":4,\"x\":{\"field\":\"x\"},\"y\":{\"field\":\"y\"}},\"id\":\"2834\",\"type\":\"Line\"},{\"attributes\":{\"line_color\":\"#F8DD24\",\"line_dash\":[6],\"line_width\":4,\"x\":{\"field\":\"x\"},\"y\":{\"field\":\"y\"}},\"id\":\"2845\",\"type\":\"Line\"},{\"attributes\":{},\"id\":\"2968\",\"type\":\"Selection\"},{\"attributes\":{\"data\":{\"x\":{\"__ndarray__\":\"souPIPtQ7r9KP/e44KfvPw==\",\"dtype\":\"float64\",\"order\":\"little\",\"shape\":[2]},\"y\":{\"__ndarray__\":\"0RJSl18yAMB/gqFFztr5Pw==\",\"dtype\":\"float64\",\"order\":\"little\",\"shape\":[2]}},\"selected\":{\"id\":\"2970\"},\"selection_policy\":{\"id\":\"2969\"}},\"id\":\"2838\",\"type\":\"ColumnDataSource\"},{\"attributes\":{\"line_alpha\":0.2,\"line_color\":\"#F8DD24\",\"line_dash\":[6],\"line_width\":4,\"x\":{\"field\":\"x\"},\"y\":{\"field\":\"y\"}},\"id\":\"2847\",\"type\":\"Line\"},{\"attributes\":{\"coordinates\":null,\"data_source\":{\"id\":\"2838\"},\"glyph\":{\"id\":\"2839\"},\"group\":null,\"hover_glyph\":null,\"muted_glyph\":{\"id\":\"2841\"},\"nonselection_glyph\":{\"id\":\"2840\"},\"view\":{\"id\":\"2843\"}},\"id\":\"2842\",\"type\":\"GlyphRenderer\"},{\"attributes\":{\"source\":{\"id\":\"2838\"}},\"id\":\"2843\",\"type\":\"CDSView\"},{\"attributes\":{\"line_alpha\":0.1,\"line_color\":\"#FAD524\",\"line_dash\":[6],\"line_width\":4,\"x\":{\"field\":\"x\"},\"y\":{\"field\":\"y\"}},\"id\":\"2840\",\"type\":\"Line\"},{\"attributes\":{\"line_color\":\"#F6E525\",\"line_dash\":[6],\"line_width\":4,\"x\":{\"field\":\"x\"},\"y\":{\"field\":\"y\"}},\"id\":\"2851\",\"type\":\"Line\"},{\"attributes\":{\"data\":{\"x\":{\"__ndarray__\":\"souPIPtQ7r9KP/e44KfvPw==\",\"dtype\":\"float64\",\"order\":\"little\",\"shape\":[2]},\"y\":{\"__ndarray__\":\"YnGq8v0pAMBBfcms7s75Pw==\",\"dtype\":\"float64\",\"order\":\"little\",\"shape\":[2]}},\"selected\":{\"id\":\"2972\"},\"selection_policy\":{\"id\":\"2971\"}},\"id\":\"2844\",\"type\":\"ColumnDataSource\"},{\"attributes\":{\"line_alpha\":0.2,\"line_color\":\"#F6E525\",\"line_dash\":[6],\"line_width\":4,\"x\":{\"field\":\"x\"},\"y\":{\"field\":\"y\"}},\"id\":\"2853\",\"type\":\"Line\"},{\"attributes\":{\"coordinates\":null,\"data_source\":{\"id\":\"2844\"},\"glyph\":{\"id\":\"2845\"},\"group\":null,\"hover_glyph\":null,\"muted_glyph\":{\"id\":\"2847\"},\"nonselection_glyph\":{\"id\":\"2846\"},\"view\":{\"id\":\"2849\"}},\"id\":\"2848\",\"type\":\"GlyphRenderer\"},{\"attributes\":{\"source\":{\"id\":\"2844\"}},\"id\":\"2849\",\"type\":\"CDSView\"},{\"attributes\":{},\"id\":\"2893\",\"type\":\"UnionRenderers\"},{\"attributes\":{\"line_alpha\":0.1,\"line_color\":\"#F8DD24\",\"line_dash\":[6],\"line_width\":4,\"x\":{\"field\":\"x\"},\"y\":{\"field\":\"y\"}},\"id\":\"2846\",\"type\":\"Line\"},{\"attributes\":{},\"id\":\"2931\",\"type\":\"UnionRenderers\"},{\"attributes\":{\"line_color\":\"#F3EE26\",\"line_dash\":[6],\"line_width\":4,\"x\":{\"field\":\"x\"},\"y\":{\"field\":\"y\"}},\"id\":\"2857\",\"type\":\"Line\"},{\"attributes\":{},\"id\":\"2894\",\"type\":\"Selection\"},{\"attributes\":{\"data\":{\"x\":{\"__ndarray__\":\"souPIPtQ7r9KP/e44KfvPw==\",\"dtype\":\"float64\",\"order\":\"little\",\"shape\":[2]},\"y\":{\"__ndarray__\":\"RxopptshAMBnJLZpcMP5Pw==\",\"dtype\":\"float64\",\"order\":\"little\",\"shape\":[2]}},\"selected\":{\"id\":\"2974\"},\"selection_policy\":{\"id\":\"2973\"}},\"id\":\"2850\",\"type\":\"ColumnDataSource\"},{\"attributes\":{},\"id\":\"2969\",\"type\":\"UnionRenderers\"},{\"attributes\":{\"line_alpha\":0.2,\"line_color\":\"#F3EE26\",\"line_dash\":[6],\"line_width\":4,\"x\":{\"field\":\"x\"},\"y\":{\"field\":\"y\"}},\"id\":\"2859\",\"type\":\"Line\"},{\"attributes\":{},\"id\":\"2932\",\"type\":\"Selection\"},{\"attributes\":{\"coordinates\":null,\"data_source\":{\"id\":\"2850\"},\"glyph\":{\"id\":\"2851\"},\"group\":null,\"hover_glyph\":null,\"muted_glyph\":{\"id\":\"2853\"},\"nonselection_glyph\":{\"id\":\"2852\"},\"view\":{\"id\":\"2855\"}},\"id\":\"2854\",\"type\":\"GlyphRenderer\"},{\"attributes\":{\"source\":{\"id\":\"2850\"}},\"id\":\"2855\",\"type\":\"CDSView\"},{\"attributes\":{},\"id\":\"2970\",\"type\":\"Selection\"},{\"attributes\":{\"line_alpha\":0.1,\"line_color\":\"#F6E525\",\"line_dash\":[6],\"line_width\":4,\"x\":{\"field\":\"x\"},\"y\":{\"field\":\"y\"}},\"id\":\"2852\",\"type\":\"Line\"},{\"attributes\":{\"line_color\":\"#EFF821\",\"line_dash\":[6],\"line_width\":4,\"x\":{\"field\":\"x\"},\"y\":{\"field\":\"y\"}},\"id\":\"2863\",\"type\":\"Line\"},{\"attributes\":{\"data\":{\"x\":{\"__ndarray__\":\"souPIPtQ7r9KP/e44KfvPw==\",\"dtype\":\"float64\",\"order\":\"little\",\"shape\":[2]},\"y\":{\"__ndarray__\":\"f1yVHfYZAMD3DlZfT7j5Pw==\",\"dtype\":\"float64\",\"order\":\"little\",\"shape\":[2]}},\"selected\":{\"id\":\"2976\"},\"selection_policy\":{\"id\":\"2975\"}},\"id\":\"2856\",\"type\":\"ColumnDataSource\"},{\"attributes\":{\"line_alpha\":0.2,\"line_color\":\"#EFF821\",\"line_dash\":[6],\"line_width\":4,\"x\":{\"field\":\"x\"},\"y\":{\"field\":\"y\"}},\"id\":\"2865\",\"type\":\"Line\"},{\"attributes\":{\"coordinates\":null,\"data_source\":{\"id\":\"2856\"},\"glyph\":{\"id\":\"2857\"},\"group\":null,\"hover_glyph\":null,\"muted_glyph\":{\"id\":\"2859\"},\"nonselection_glyph\":{\"id\":\"2858\"},\"view\":{\"id\":\"2861\"}},\"id\":\"2860\",\"type\":\"GlyphRenderer\"},{\"attributes\":{\"line_alpha\":0.2,\"line_color\":\"#0C0786\",\"line_dash\":[6],\"line_width\":4,\"x\":{\"field\":\"x\"},\"y\":{\"field\":\"y\"}},\"id\":\"2571\",\"type\":\"Line\"},{\"attributes\":{\"source\":{\"id\":\"2856\"}},\"id\":\"2861\",\"type\":\"CDSView\"},{\"attributes\":{\"label\":{\"field\":\"label\"},\"renderers\":[{\"id\":\"2552\"}]},\"id\":\"2565\",\"type\":\"LegendItem\"},{\"attributes\":{\"data\":{\"x\":{\"__ndarray__\":\"souPIPtQ7r9KP/e44KfvPw==\",\"dtype\":\"float64\",\"order\":\"little\",\"shape\":[2]},\"y\":{\"__ndarray__\":\"LMC+Ze398z8Id5ecND/xvw==\",\"dtype\":\"float64\",\"order\":\"little\",\"shape\":[2]}},\"selected\":{\"id\":\"2880\"},\"selection_policy\":{\"id\":\"2879\"}},\"id\":\"2568\",\"type\":\"ColumnDataSource\"},{\"attributes\":{\"line_alpha\":0.1,\"line_color\":\"#F3EE26\",\"line_dash\":[6],\"line_width\":4,\"x\":{\"field\":\"x\"},\"y\":{\"field\":\"y\"}},\"id\":\"2858\",\"type\":\"Line\"},{\"attributes\":{\"line_color\":\"#1B068C\",\"line_dash\":[6],\"line_width\":4,\"x\":{\"field\":\"x\"},\"y\":{\"field\":\"y\"}},\"id\":\"2575\",\"type\":\"Line\"},{\"attributes\":{\"data\":{\"x\":{\"__ndarray__\":\"souPIPtQ7r9KP/e44KfvPw==\",\"dtype\":\"float64\",\"order\":\"little\",\"shape\":[2]},\"y\":{\"__ndarray__\":\"8bKPEksSAMBElwfsh635Pw==\",\"dtype\":\"float64\",\"order\":\"little\",\"shape\":[2]}},\"selected\":{\"id\":\"2978\"},\"selection_policy\":{\"id\":\"2977\"}},\"id\":\"2862\",\"type\":\"ColumnDataSource\"},{\"attributes\":{\"coordinates\":null,\"data_source\":{\"id\":\"2568\"},\"glyph\":{\"id\":\"2569\"},\"group\":null,\"hover_glyph\":null,\"muted_glyph\":{\"id\":\"2571\"},\"nonselection_glyph\":{\"id\":\"2570\"},\"view\":{\"id\":\"2573\"}},\"id\":\"2572\",\"type\":\"GlyphRenderer\"},{\"attributes\":{},\"id\":\"2895\",\"type\":\"UnionRenderers\"},{\"attributes\":{\"line_alpha\":0.2,\"line_color\":\"#1B068C\",\"line_dash\":[6],\"line_width\":4,\"x\":{\"field\":\"x\"},\"y\":{\"field\":\"y\"}},\"id\":\"2577\",\"type\":\"Line\"},{\"attributes\":{\"coordinates\":null,\"data_source\":{\"id\":\"2862\"},\"glyph\":{\"id\":\"2863\"},\"group\":null,\"hover_glyph\":null,\"muted_glyph\":{\"id\":\"2865\"},\"nonselection_glyph\":{\"id\":\"2864\"},\"view\":{\"id\":\"2867\"}},\"id\":\"2866\",\"type\":\"GlyphRenderer\"},{\"attributes\":{},\"id\":\"2933\",\"type\":\"UnionRenderers\"},{\"attributes\":{\"source\":{\"id\":\"2862\"}},\"id\":\"2867\",\"type\":\"CDSView\"},{\"attributes\":{},\"id\":\"2896\",\"type\":\"Selection\"},{\"attributes\":{\"line_alpha\":0.1,\"line_color\":\"#0C0786\",\"line_dash\":[6],\"line_width\":4,\"x\":{\"field\":\"x\"},\"y\":{\"field\":\"y\"}},\"id\":\"2570\",\"type\":\"Line\"},{\"attributes\":{},\"id\":\"2971\",\"type\":\"UnionRenderers\"},{\"attributes\":{\"line_alpha\":0.1,\"line_color\":\"#EFF821\",\"line_dash\":[6],\"line_width\":4,\"x\":{\"field\":\"x\"},\"y\":{\"field\":\"y\"}},\"id\":\"2864\",\"type\":\"Line\"},{\"attributes\":{},\"id\":\"2934\",\"type\":\"Selection\"},{\"attributes\":{\"line_color\":\"#250591\",\"line_dash\":[6],\"line_width\":4,\"x\":{\"field\":\"x\"},\"y\":{\"field\":\"y\"}},\"id\":\"2581\",\"type\":\"Line\"},{\"attributes\":{\"data\":{\"x\":{\"__ndarray__\":\"souPIPtQ7r9KP/e44KfvPw==\",\"dtype\":\"float64\",\"order\":\"little\",\"shape\":[2]},\"y\":{\"__ndarray__\":\"qrHjcPv3A8DPMmO16pX/Pw==\",\"dtype\":\"float64\",\"order\":\"little\",\"shape\":[2]}},\"selected\":{\"id\":\"2882\"},\"selection_policy\":{\"id\":\"2881\"}},\"id\":\"2574\",\"type\":\"ColumnDataSource\"},{\"attributes\":{\"line_alpha\":0.2,\"line_color\":\"#250591\",\"line_dash\":[6],\"line_width\":4,\"x\":{\"field\":\"x\"},\"y\":{\"field\":\"y\"}},\"id\":\"2583\",\"type\":\"Line\"},{\"attributes\":{},\"id\":\"2972\",\"type\":\"Selection\"},{\"attributes\":{\"coordinates\":null,\"data_source\":{\"id\":\"2574\"},\"glyph\":{\"id\":\"2575\"},\"group\":null,\"hover_glyph\":null,\"muted_glyph\":{\"id\":\"2577\"},\"nonselection_glyph\":{\"id\":\"2576\"},\"view\":{\"id\":\"2579\"}},\"id\":\"2578\",\"type\":\"GlyphRenderer\"},{\"attributes\":{\"source\":{\"id\":\"2574\"}},\"id\":\"2579\",\"type\":\"CDSView\"},{\"attributes\":{\"line_alpha\":0.1,\"line_color\":\"#1B068C\",\"line_dash\":[6],\"line_width\":4,\"x\":{\"field\":\"x\"},\"y\":{\"field\":\"y\"}},\"id\":\"2576\",\"type\":\"Line\"},{\"attributes\":{\"line_color\":\"#2F0495\",\"line_dash\":[6],\"line_width\":4,\"x\":{\"field\":\"x\"},\"y\":{\"field\":\"y\"}},\"id\":\"2587\",\"type\":\"Line\"},{\"attributes\":{\"data\":{\"x\":{\"__ndarray__\":\"souPIPtQ7r9KP/e44KfvPw==\",\"dtype\":\"float64\",\"order\":\"little\",\"shape\":[2]},\"y\":{\"__ndarray__\":\"9eDq/8fEA8DanOYHhkX/Pw==\",\"dtype\":\"float64\",\"order\":\"little\",\"shape\":[2]}},\"selected\":{\"id\":\"2884\"},\"selection_policy\":{\"id\":\"2883\"}},\"id\":\"2580\",\"type\":\"ColumnDataSource\"},{\"attributes\":{\"line_alpha\":0.2,\"line_color\":\"#2F0495\",\"line_dash\":[6],\"line_width\":4,\"x\":{\"field\":\"x\"},\"y\":{\"field\":\"y\"}},\"id\":\"2589\",\"type\":\"Line\"},{\"attributes\":{\"coordinates\":null,\"data_source\":{\"id\":\"2580\"},\"glyph\":{\"id\":\"2581\"},\"group\":null,\"hover_glyph\":null,\"muted_glyph\":{\"id\":\"2583\"},\"nonselection_glyph\":{\"id\":\"2582\"},\"view\":{\"id\":\"2585\"}},\"id\":\"2584\",\"type\":\"GlyphRenderer\"},{\"attributes\":{\"source\":{\"id\":\"2580\"}},\"id\":\"2585\",\"type\":\"CDSView\"},{\"attributes\":{\"line_alpha\":0.1,\"line_color\":\"#250591\",\"line_dash\":[6],\"line_width\":4,\"x\":{\"field\":\"x\"},\"y\":{\"field\":\"y\"}},\"id\":\"2582\",\"type\":\"Line\"},{\"attributes\":{},\"id\":\"2897\",\"type\":\"UnionRenderers\"},{\"attributes\":{\"line_color\":\"#380499\",\"line_dash\":[6],\"line_width\":4,\"x\":{\"field\":\"x\"},\"y\":{\"field\":\"y\"}},\"id\":\"2593\",\"type\":\"Line\"},{\"attributes\":{},\"id\":\"2935\",\"type\":\"UnionRenderers\"},{\"attributes\":{\"data\":{\"x\":{\"__ndarray__\":\"souPIPtQ7r9KP/e44KfvPw==\",\"dtype\":\"float64\",\"order\":\"little\",\"shape\":[2]},\"y\":{\"__ndarray__\":\"a7TWb3uUA8B1Fr231vn+Pw==\",\"dtype\":\"float64\",\"order\":\"little\",\"shape\":[2]}},\"selected\":{\"id\":\"2886\"},\"selection_policy\":{\"id\":\"2885\"}},\"id\":\"2586\",\"type\":\"ColumnDataSource\"},{\"attributes\":{\"line_alpha\":0.2,\"line_color\":\"#380499\",\"line_dash\":[6],\"line_width\":4,\"x\":{\"field\":\"x\"},\"y\":{\"field\":\"y\"}},\"id\":\"2595\",\"type\":\"Line\"},{\"attributes\":{},\"id\":\"2898\",\"type\":\"Selection\"},{\"attributes\":{\"coordinates\":null,\"data_source\":{\"id\":\"2586\"},\"glyph\":{\"id\":\"2587\"},\"group\":null,\"hover_glyph\":null,\"muted_glyph\":{\"id\":\"2589\"},\"nonselection_glyph\":{\"id\":\"2588\"},\"view\":{\"id\":\"2591\"}},\"id\":\"2590\",\"type\":\"GlyphRenderer\"},{\"attributes\":{},\"id\":\"2973\",\"type\":\"UnionRenderers\"},{\"attributes\":{},\"id\":\"2936\",\"type\":\"Selection\"},{\"attributes\":{\"source\":{\"id\":\"2586\"}},\"id\":\"2591\",\"type\":\"CDSView\"},{\"attributes\":{\"line_alpha\":0.1,\"line_color\":\"#2F0495\",\"line_dash\":[6],\"line_width\":4,\"x\":{\"field\":\"x\"},\"y\":{\"field\":\"y\"}},\"id\":\"2588\",\"type\":\"Line\"},{\"attributes\":{},\"id\":\"2974\",\"type\":\"Selection\"},{\"attributes\":{\"line_color\":\"#4A02A0\",\"line_dash\":[6],\"line_width\":4,\"x\":{\"field\":\"x\"},\"y\":{\"field\":\"y\"}},\"id\":\"2605\",\"type\":\"Line\"},{\"attributes\":{\"data\":{\"x\":{\"__ndarray__\":\"souPIPtQ7r9KP/e44KfvPw==\",\"dtype\":\"float64\",\"order\":\"little\",\"shape\":[2]},\"y\":{\"__ndarray__\":\"IWsjHdxmA8B53RtZfrL+Pw==\",\"dtype\":\"float64\",\"order\":\"little\",\"shape\":[2]}},\"selected\":{\"id\":\"2888\"},\"selection_policy\":{\"id\":\"2887\"}},\"id\":\"2592\",\"type\":\"ColumnDataSource\"},{\"attributes\":{\"line_color\":\"#42039D\",\"line_dash\":[6],\"line_width\":4,\"x\":{\"field\":\"x\"},\"y\":{\"field\":\"y\"}},\"id\":\"2599\",\"type\":\"Line\"},{\"attributes\":{\"coordinates\":null,\"data_source\":{\"id\":\"2592\"},\"glyph\":{\"id\":\"2593\"},\"group\":null,\"hover_glyph\":null,\"muted_glyph\":{\"id\":\"2595\"},\"nonselection_glyph\":{\"id\":\"2594\"},\"view\":{\"id\":\"2597\"}},\"id\":\"2596\",\"type\":\"GlyphRenderer\"},{\"attributes\":{\"children\":[{\"id\":\"2869\"},{\"id\":\"2514\"},{\"id\":\"3090\"}],\"margin\":[0,0,0,0],\"name\":\"Row00132\"},\"id\":\"2868\",\"type\":\"Row\"},{\"attributes\":{\"source\":{\"id\":\"2592\"}},\"id\":\"2597\",\"type\":\"CDSView\"},{\"attributes\":{\"margin\":[5,5,5,5],\"name\":\"HSpacer00129\",\"sizing_mode\":\"stretch_width\"},\"id\":\"3090\",\"type\":\"Spacer\"},{\"attributes\":{\"line_alpha\":0.2,\"line_color\":\"#42039D\",\"line_dash\":[6],\"line_width\":4,\"x\":{\"field\":\"x\"},\"y\":{\"field\":\"y\"}},\"id\":\"2601\",\"type\":\"Line\"},{\"attributes\":{\"margin\":[5,5,5,5],\"name\":\"HSpacer00128\",\"sizing_mode\":\"stretch_width\"},\"id\":\"2869\",\"type\":\"Spacer\"},{\"attributes\":{\"line_alpha\":0.1,\"line_color\":\"#380499\",\"line_dash\":[6],\"line_width\":4,\"x\":{\"field\":\"x\"},\"y\":{\"field\":\"y\"}},\"id\":\"2594\",\"type\":\"Line\"},{\"attributes\":{\"data\":{\"x\":{\"__ndarray__\":\"souPIPtQ7r9KP/e44KfvPw==\",\"dtype\":\"float64\",\"order\":\"little\",\"shape\":[2]},\"y\":{\"__ndarray__\":\"aSXNFbY7A8Dbo7LVJ2/+Pw==\",\"dtype\":\"float64\",\"order\":\"little\",\"shape\":[2]}},\"selected\":{\"id\":\"2890\"},\"selection_policy\":{\"id\":\"2889\"}},\"id\":\"2598\",\"type\":\"ColumnDataSource\"},{\"attributes\":{\"coordinates\":null,\"data_source\":{\"id\":\"2598\"},\"glyph\":{\"id\":\"2599\"},\"group\":null,\"hover_glyph\":null,\"muted_glyph\":{\"id\":\"2601\"},\"nonselection_glyph\":{\"id\":\"2600\"},\"view\":{\"id\":\"2603\"}},\"id\":\"2602\",\"type\":\"GlyphRenderer\"},{\"attributes\":{\"source\":{\"id\":\"2598\"}},\"id\":\"2603\",\"type\":\"CDSView\"},{\"attributes\":{\"line_alpha\":0.2,\"line_color\":\"#4A02A0\",\"line_dash\":[6],\"line_width\":4,\"x\":{\"field\":\"x\"},\"y\":{\"field\":\"y\"}},\"id\":\"2607\",\"type\":\"Line\"},{\"attributes\":{},\"id\":\"2899\",\"type\":\"UnionRenderers\"},{\"attributes\":{\"line_alpha\":0.1,\"line_color\":\"#42039D\",\"line_dash\":[6],\"line_width\":4,\"x\":{\"field\":\"x\"},\"y\":{\"field\":\"y\"}},\"id\":\"2600\",\"type\":\"Line\"},{\"attributes\":{},\"id\":\"2937\",\"type\":\"UnionRenderers\"},{\"attributes\":{\"data\":{\"x\":{\"__ndarray__\":\"souPIPtQ7r9KP/e44KfvPw==\",\"dtype\":\"float64\",\"order\":\"little\",\"shape\":[2]},\"y\":{\"__ndarray__\":\"A8zRktoSA8A7Vi6Zhi/+Pw==\",\"dtype\":\"float64\",\"order\":\"little\",\"shape\":[2]}},\"selected\":{\"id\":\"2892\"},\"selection_policy\":{\"id\":\"2891\"}},\"id\":\"2604\",\"type\":\"ColumnDataSource\"},{\"attributes\":{},\"id\":\"2900\",\"type\":\"Selection\"},{\"attributes\":{\"client_comm_id\":\"a4bccfbb5bc047b7bb31ed4988cbc941\",\"comm_id\":\"dacff70e0ee84c8abbbaad212f58a4ff\",\"plot_id\":\"2868\"},\"id\":\"3421\",\"type\":\"panel.models.comm_manager.CommManager\"},{\"attributes\":{\"line_color\":\"#5201A3\",\"line_dash\":[6],\"line_width\":4,\"x\":{\"field\":\"x\"},\"y\":{\"field\":\"y\"}},\"id\":\"2611\",\"type\":\"Line\"},{\"attributes\":{},\"id\":\"2975\",\"type\":\"UnionRenderers\"},{\"attributes\":{},\"id\":\"2938\",\"type\":\"Selection\"},{\"attributes\":{\"coordinates\":null,\"data_source\":{\"id\":\"2604\"},\"glyph\":{\"id\":\"2605\"},\"group\":null,\"hover_glyph\":null,\"muted_glyph\":{\"id\":\"2607\"},\"nonselection_glyph\":{\"id\":\"2606\"},\"view\":{\"id\":\"2609\"}},\"id\":\"2608\",\"type\":\"GlyphRenderer\"},{\"attributes\":{\"source\":{\"id\":\"2604\"}},\"id\":\"2609\",\"type\":\"CDSView\"},{\"attributes\":{},\"id\":\"2976\",\"type\":\"Selection\"},{\"attributes\":{\"line_alpha\":0.1,\"line_color\":\"#4A02A0\",\"line_dash\":[6],\"line_width\":4,\"x\":{\"field\":\"x\"},\"y\":{\"field\":\"y\"}},\"id\":\"2606\",\"type\":\"Line\"},{\"attributes\":{\"line_alpha\":0.2,\"line_color\":\"#5201A3\",\"line_dash\":[6],\"line_width\":4,\"x\":{\"field\":\"x\"},\"y\":{\"field\":\"y\"}},\"id\":\"2613\",\"type\":\"Line\"},{\"attributes\":{\"line_alpha\":0.1,\"line_color\":\"#5201A3\",\"line_dash\":[6],\"line_width\":4,\"x\":{\"field\":\"x\"},\"y\":{\"field\":\"y\"}},\"id\":\"2612\",\"type\":\"Line\"}],\"root_ids\":[\"2868\",\"3421\"]},\"title\":\"Bokeh Application\",\"version\":\"2.4.3\"}};\n",
       "    var render_items = [{\"docid\":\"8fba7974-3769-4bd4-be4b-39579f0ffeee\",\"root_ids\":[\"2868\"],\"roots\":{\"2868\":\"a0c00245-a15a-4e69-b24e-a4d5adbad683\"}}];\n",
       "    root.Bokeh.embed.embed_items_notebook(docs_json, render_items);\n",
       "    for (const render_item of render_items) {\n",
       "      for (const root_id of render_item.root_ids) {\n",
       "\tconst id_el = document.getElementById(root_id)\n",
       "\tif (id_el.children.length && (id_el.children[0].className === 'bk-root')) {\n",
       "\t  const root_el = id_el.children[0]\n",
       "\t  root_el.id = root_el.id + '-rendered'\n",
       "\t}\n",
       "      }\n",
       "    }\n",
       "  }\n",
       "  if (root.Bokeh !== undefined && root.Bokeh.Panel !== undefined) {\n",
       "    embed_document(root);\n",
       "  } else {\n",
       "    var attempts = 0;\n",
       "    var timer = setInterval(function(root) {\n",
       "      if (root.Bokeh !== undefined && root.Bokeh.Panel !== undefined) {\n",
       "        clearInterval(timer);\n",
       "        embed_document(root);\n",
       "      } else if (document.readyState == \"complete\") {\n",
       "        attempts++;\n",
       "        if (attempts > 200) {\n",
       "          clearInterval(timer);\n",
       "          console.log(\"Bokeh: ERROR: Unable to run BokehJS code because BokehJS library is missing\");\n",
       "        }\n",
       "      }\n",
       "    }, 25, root)\n",
       "  }\n",
       "})(window);</script>"
      ],
      "text/plain": [
       "Row\n",
       "    [0] HSpacer()\n",
       "    [1] Bokeh(Figure)\n",
       "    [2] HSpacer()"
      ]
     },
     "execution_count": 14,
     "metadata": {
      "application/vnd.holoviews_exec.v0+json": {
       "id": "2868"
      }
     },
     "output_type": "execute_result"
    }
   ],
   "source": [
    "# Update loop\n",
    "for i in range(n_epochs):\n",
    "    \n",
    "    ######################\n",
    "    # YOUR CODE GOES HERE\n",
    "    ######################\n",
    "    \n",
    "    ######################\n",
    "    # Solution \n",
    "    gradients = grad_loss_function(x_jax, y_jax, weights, bias)\n",
    "    weights = weights - eta * gradients[0]\n",
    "    bias = bias - eta * gradients[1]\n",
    "    ######################\n",
    "    weights_history = weights_history.at[i + 1].set(weights[0])\n",
    "    bias_history = bias_history.at[i + 1].set(bias[0])\n",
    "    \n",
    "    if (verbose):\n",
    "        print('%2d. error = %f, weights = %f, %f, %f' % (i, np.sum(np.abs(error)) / n_observations, bias[0, 0], weights[0, 0], weights[0, 1]))\n",
    "plot = center_plot(\n",
    "    scatter_boundary(\n",
    "        np.array(x_inputs), \n",
    "        np.array(y_class), \n",
    "        np.array(weights_history), \n",
    "        np.array(bias_history), \n",
    "        i + 1)\n",
    "    )\n",
    "plot"
   ]
  },
  {
   "cell_type": "markdown",
   "metadata": {
    "tags": []
   },
   "source": [
    "## Multi-layer networks\n",
    "\n",
    "In the following, we define the overall architecture of the exercise to fill. The goal is to define a more advanced problem \n",
    "\n",
    "### 2-layer XOR problem\n",
    "\n",
    "In most cases, classification problems are far from being linear. Therefore, we need more advanced methods to be able to compute non-linear class boundaries. The advantage of neural networks is that the same principle can be applied in a *layer-wise* fashion. This allows to further discriminate the space in sub-regions (as seen in the course). We will try to implement the 2-layer *perceptron* that can provide a solution to the infamous XOR problem. The idea is now to have the output of the first neurons to be connected to a set of other neurons. Therefore, if we take back our previous formulation, we have the same output for the first neuron(s) $y$, that we will now term as $y^{(1)}$. Then, we feed these outputs to a second layer of neurons, which gives\n",
    "\n",
    "\n",
    "$$\n",
    "\\begin{equation}\n",
    "y^{(2)}=\\sigma\\left(\\sum_{i = 1}^{n}w_{i}.y^{(1)}_{i} + b\\right)\n",
    "\\end{equation}\n",
    "$$  \n",
    "\n",
    "Finally, we will rely on the same loss $\\mathcal{L_{D}}$ as in the previous exercise, but the outputs used are $y^{(2)}$ instead of $y$. As in the previous case, we now need to compute the derivatives of the weights and biases for several layers . However, you should see that some form of generalization might be possible for any number of layer.  "
   ]
  },
  {
   "cell_type": "markdown",
   "metadata": {},
   "source": [
    "***\n",
    "\n",
    "<div class=\"alert alert-success\" markdown=\"1\" style=\"color:white; background-color: #192841; border-color: #779ecb\">\n",
    "\n",
    "> ### Exercise (course)\n",
    ">   1. Perform the derivatives for the last layer specifically\n",
    ">   2. Define a generalized derivative for any previous layer\n",
    "\n",
    "</div>\n",
    "\n",
    "***"
   ]
  },
  {
   "cell_type": "markdown",
   "metadata": {},
   "source": [
    "We can construct the prototypical set of XOR values by using the following code (note that this is the most simple case, but still this is typically a problem that cannot be solved by a _linear classifier_"
   ]
  },
  {
   "cell_type": "code",
   "execution_count": 15,
   "metadata": {
    "tags": []
   },
   "outputs": [
    {
     "data": {},
     "metadata": {},
     "output_type": "display_data"
    },
    {
     "data": {
      "application/vnd.holoviews_exec.v0+json": "",
      "text/html": [
       "<div id='4024'>\n",
       "  <div class=\"bk-root\" id=\"b660578b-cad3-49c0-be26-686f94fa28fb\" data-root-id=\"4024\"></div>\n",
       "</div>\n",
       "<script type=\"application/javascript\">(function(root) {\n",
       "  function embed_document(root) {\n",
       "    var docs_json = {\"6fd13fa0-7ad7-4977-b95a-ea8e7f865370\":{\"defs\":[{\"extends\":null,\"module\":null,\"name\":\"ReactiveHTML1\",\"overrides\":[],\"properties\":[]},{\"extends\":null,\"module\":null,\"name\":\"FlexBox1\",\"overrides\":[],\"properties\":[{\"default\":\"flex-start\",\"kind\":null,\"name\":\"align_content\"},{\"default\":\"flex-start\",\"kind\":null,\"name\":\"align_items\"},{\"default\":\"row\",\"kind\":null,\"name\":\"flex_direction\"},{\"default\":\"wrap\",\"kind\":null,\"name\":\"flex_wrap\"},{\"default\":\"flex-start\",\"kind\":null,\"name\":\"justify_content\"}]},{\"extends\":null,\"module\":null,\"name\":\"GridStack1\",\"overrides\":[],\"properties\":[{\"default\":\"warn\",\"kind\":null,\"name\":\"mode\"},{\"default\":null,\"kind\":null,\"name\":\"ncols\"},{\"default\":null,\"kind\":null,\"name\":\"nrows\"},{\"default\":true,\"kind\":null,\"name\":\"allow_resize\"},{\"default\":true,\"kind\":null,\"name\":\"allow_drag\"},{\"default\":[],\"kind\":null,\"name\":\"state\"}]},{\"extends\":null,\"module\":null,\"name\":\"click1\",\"overrides\":[],\"properties\":[{\"default\":\"\",\"kind\":null,\"name\":\"terminal_output\"},{\"default\":\"\",\"kind\":null,\"name\":\"debug_name\"},{\"default\":0,\"kind\":null,\"name\":\"clears\"}]},{\"extends\":null,\"module\":null,\"name\":\"NotificationAreaBase1\",\"overrides\":[],\"properties\":[{\"default\":\"bottom-right\",\"kind\":null,\"name\":\"position\"},{\"default\":0,\"kind\":null,\"name\":\"_clear\"}]},{\"extends\":null,\"module\":null,\"name\":\"NotificationArea1\",\"overrides\":[],\"properties\":[{\"default\":[],\"kind\":null,\"name\":\"notifications\"},{\"default\":\"bottom-right\",\"kind\":null,\"name\":\"position\"},{\"default\":0,\"kind\":null,\"name\":\"_clear\"},{\"default\":[{\"background\":\"#ffc107\",\"icon\":{\"className\":\"fas fa-exclamation-triangle\",\"color\":\"white\",\"tagName\":\"i\"},\"type\":\"warning\"},{\"background\":\"#007bff\",\"icon\":{\"className\":\"fas fa-info-circle\",\"color\":\"white\",\"tagName\":\"i\"},\"type\":\"info\"}],\"kind\":null,\"name\":\"types\"}]},{\"extends\":null,\"module\":null,\"name\":\"Notification\",\"overrides\":[],\"properties\":[{\"default\":null,\"kind\":null,\"name\":\"background\"},{\"default\":3000,\"kind\":null,\"name\":\"duration\"},{\"default\":null,\"kind\":null,\"name\":\"icon\"},{\"default\":\"\",\"kind\":null,\"name\":\"message\"},{\"default\":null,\"kind\":null,\"name\":\"notification_type\"},{\"default\":false,\"kind\":null,\"name\":\"_destroyed\"}]},{\"extends\":null,\"module\":null,\"name\":\"TemplateActions1\",\"overrides\":[],\"properties\":[{\"default\":0,\"kind\":null,\"name\":\"open_modal\"},{\"default\":0,\"kind\":null,\"name\":\"close_modal\"}]},{\"extends\":null,\"module\":null,\"name\":\"MaterialTemplateActions1\",\"overrides\":[],\"properties\":[{\"default\":0,\"kind\":null,\"name\":\"open_modal\"},{\"default\":0,\"kind\":null,\"name\":\"close_modal\"}]}],\"roots\":{\"references\":[{\"attributes\":{\"coordinates\":null,\"group\":null,\"text\":\"XOR classification\",\"text_color\":\"#E0E0E0\",\"text_font\":\"Josefin Sans\",\"text_font_size\":\"2.1em\"},\"id\":\"3973\",\"type\":\"Title\"},{\"attributes\":{},\"id\":\"3991\",\"type\":\"PanTool\"},{\"attributes\":{\"tools\":[{\"id\":\"3991\"},{\"id\":\"3992\"},{\"id\":\"3993\"},{\"id\":\"3994\"},{\"id\":\"3995\"},{\"id\":\"3996\"}]},\"id\":\"3998\",\"type\":\"Toolbar\"},{\"attributes\":{\"background_fill_alpha\":0.2,\"background_fill_color\":\"darkgrey\",\"border_line_alpha\":0.8,\"border_line_color\":\"grey\",\"border_line_width\":3,\"coordinates\":null,\"group\":null,\"items\":[{\"id\":\"4023\"}],\"label_text_color\":\"white\"},\"id\":\"4022\",\"type\":\"Legend\"},{\"attributes\":{\"axis_label\":\"y\",\"axis_label_standoff\":10,\"axis_label_text_color\":\"#FFFFFF\",\"axis_label_text_font\":\"Josefin Sans\",\"axis_label_text_font_size\":\"1.9em\",\"axis_label_text_font_style\":\"bold\",\"axis_line_alpha\":0.4,\"axis_line_color\":\"#E0E0E0\",\"coordinates\":null,\"formatter\":{\"id\":\"4014\"},\"group\":null,\"major_label_policy\":{\"id\":\"4015\"},\"major_label_text_color\":\"#E0E0E0\",\"major_label_text_font\":\"Josefin Sans\",\"major_label_text_font_size\":\"1.15em\",\"major_tick_line_alpha\":0.4,\"major_tick_line_color\":\"#E0E0E0\",\"minor_tick_line_alpha\":0.4,\"minor_tick_line_color\":\"#E0E0E0\",\"ticker\":{\"id\":\"3988\"}},\"id\":\"3987\",\"type\":\"LinearAxis\"},{\"attributes\":{\"client_comm_id\":\"5a3dd9ce18b844c88db9b82ad1c69354\",\"comm_id\":\"214f53199e9c4a5dab91e49ea2129a70\",\"plot_id\":\"4024\"},\"id\":\"4077\",\"type\":\"panel.models.comm_manager.CommManager\"},{\"attributes\":{\"source\":{\"id\":\"4005\"}},\"id\":\"4011\",\"type\":\"CDSView\"},{\"attributes\":{\"fill_alpha\":{\"value\":0.6},\"fill_color\":{\"field\":\"color\"},\"hatch_alpha\":{\"value\":0.6},\"hatch_color\":{\"field\":\"color\"},\"line_alpha\":{\"value\":0.6},\"line_color\":{\"value\":\"white\"},\"size\":{\"value\":10},\"x\":{\"field\":\"x\"},\"y\":{\"field\":\"y\"}},\"id\":\"4007\",\"type\":\"Circle\"},{\"attributes\":{\"axis\":{\"id\":\"3983\"},\"coordinates\":null,\"grid_line_alpha\":0.15,\"grid_line_color\":\"#E0E0E0\",\"group\":null,\"ticker\":null},\"id\":\"3986\",\"type\":\"Grid\"},{\"attributes\":{\"label\":{\"field\":\"label\"},\"renderers\":[{\"id\":\"4010\"}]},\"id\":\"4023\",\"type\":\"LegendItem\"},{\"attributes\":{\"fill_alpha\":{\"value\":0.2},\"fill_color\":{\"field\":\"color\"},\"hatch_alpha\":{\"value\":0.2},\"hatch_color\":{\"field\":\"color\"},\"line_alpha\":{\"value\":0.2},\"line_color\":{\"value\":\"white\"},\"size\":{\"value\":10},\"x\":{\"field\":\"x\"},\"y\":{\"field\":\"y\"}},\"id\":\"4009\",\"type\":\"Circle\"},{\"attributes\":{\"bottom_units\":\"screen\",\"coordinates\":null,\"fill_alpha\":0.5,\"fill_color\":\"lightgrey\",\"group\":null,\"left_units\":\"screen\",\"level\":\"overlay\",\"line_alpha\":1.0,\"line_color\":\"black\",\"line_dash\":[4,4],\"line_width\":2,\"right_units\":\"screen\",\"syncable\":false,\"top_units\":\"screen\"},\"id\":\"3997\",\"type\":\"BoxAnnotation\"},{\"attributes\":{},\"id\":\"4017\",\"type\":\"BasicTickFormatter\"},{\"attributes\":{},\"id\":\"3988\",\"type\":\"BasicTicker\"},{\"attributes\":{},\"id\":\"3975\",\"type\":\"DataRange1d\"},{\"attributes\":{},\"id\":\"4015\",\"type\":\"AllLabels\"},{\"attributes\":{},\"id\":\"3977\",\"type\":\"DataRange1d\"},{\"attributes\":{},\"id\":\"4019\",\"type\":\"UnionRenderers\"},{\"attributes\":{\"axis_label\":\"x\",\"axis_label_standoff\":10,\"axis_label_text_color\":\"#FFFFFF\",\"axis_label_text_font\":\"Josefin Sans\",\"axis_label_text_font_size\":\"1.9em\",\"axis_label_text_font_style\":\"bold\",\"axis_line_alpha\":0.4,\"axis_line_color\":\"#E0E0E0\",\"coordinates\":null,\"formatter\":{\"id\":\"4017\"},\"group\":null,\"major_label_policy\":{\"id\":\"4018\"},\"major_label_text_color\":\"#E0E0E0\",\"major_label_text_font\":\"Josefin Sans\",\"major_label_text_font_size\":\"1.15em\",\"major_tick_line_alpha\":0.4,\"major_tick_line_color\":\"#E0E0E0\",\"minor_tick_line_alpha\":0.4,\"minor_tick_line_color\":\"#E0E0E0\",\"ticker\":{\"id\":\"3984\"}},\"id\":\"3983\",\"type\":\"LinearAxis\"},{\"attributes\":{},\"id\":\"3979\",\"type\":\"LinearScale\"},{\"attributes\":{},\"id\":\"4020\",\"type\":\"Selection\"},{\"attributes\":{},\"id\":\"4014\",\"type\":\"BasicTickFormatter\"},{\"attributes\":{},\"id\":\"3996\",\"type\":\"HelpTool\"},{\"attributes\":{},\"id\":\"3981\",\"type\":\"LinearScale\"},{\"attributes\":{},\"id\":\"3994\",\"type\":\"SaveTool\"},{\"attributes\":{\"coordinates\":null,\"data_source\":{\"id\":\"4005\"},\"glyph\":{\"id\":\"4007\"},\"group\":null,\"hover_glyph\":null,\"muted_glyph\":{\"id\":\"4009\"},\"nonselection_glyph\":{\"id\":\"4008\"},\"view\":{\"id\":\"4011\"}},\"id\":\"4010\",\"type\":\"GlyphRenderer\"},{\"attributes\":{\"background_fill_alpha\":0.9,\"background_fill_color\":\"#0f0f0f\",\"below\":[{\"id\":\"3983\"}],\"border_fill_alpha\":0.8,\"border_fill_color\":\"#111111\",\"center\":[{\"id\":\"3986\"},{\"id\":\"3990\"},{\"id\":\"4022\"}],\"height\":450,\"left\":[{\"id\":\"3987\"}],\"outline_line_alpha\":0.25,\"outline_line_color\":\"#E0E0E0\",\"outline_line_width\":3,\"renderers\":[{\"id\":\"4010\"}],\"right\":[{\"id\":\"4022\"}],\"title\":{\"id\":\"3973\"},\"toolbar\":{\"id\":\"3998\"},\"width\":700,\"x_range\":{\"id\":\"3975\"},\"x_scale\":{\"id\":\"3979\"},\"y_range\":{\"id\":\"3977\"},\"y_scale\":{\"id\":\"3981\"}},\"id\":\"3972\",\"subtype\":\"Figure\",\"type\":\"Plot\"},{\"attributes\":{},\"id\":\"3995\",\"type\":\"ResetTool\"},{\"attributes\":{},\"id\":\"3984\",\"type\":\"BasicTicker\"},{\"attributes\":{},\"id\":\"4018\",\"type\":\"AllLabels\"},{\"attributes\":{\"overlay\":{\"id\":\"3997\"}},\"id\":\"3993\",\"type\":\"BoxZoomTool\"},{\"attributes\":{\"children\":[{\"id\":\"4025\"},{\"id\":\"3972\"},{\"id\":\"4046\"}],\"margin\":[0,0,0,0],\"name\":\"Row00139\"},\"id\":\"4024\",\"type\":\"Row\"},{\"attributes\":{},\"id\":\"3992\",\"type\":\"WheelZoomTool\"},{\"attributes\":{\"margin\":[5,5,5,5],\"name\":\"HSpacer00135\",\"sizing_mode\":\"stretch_width\"},\"id\":\"4025\",\"type\":\"Spacer\"},{\"attributes\":{\"fill_alpha\":{\"value\":0.1},\"fill_color\":{\"field\":\"color\"},\"hatch_alpha\":{\"value\":0.1},\"hatch_color\":{\"field\":\"color\"},\"line_alpha\":{\"value\":0.1},\"line_color\":{\"value\":\"white\"},\"size\":{\"value\":10},\"x\":{\"field\":\"x\"},\"y\":{\"field\":\"y\"}},\"id\":\"4008\",\"type\":\"Circle\"},{\"attributes\":{\"margin\":[5,5,5,5],\"name\":\"HSpacer00136\",\"sizing_mode\":\"stretch_width\"},\"id\":\"4046\",\"type\":\"Spacer\"},{\"attributes\":{\"data\":{\"color\":[\"midnightblue\",\"firebrick\",\"firebrick\",\"midnightblue\"],\"label\":[\"class 1\",\"class 2\",\"class 2\",\"class 1\"],\"x\":[-1,-1,1,1],\"y\":[-1,1,-1,1]},\"selected\":{\"id\":\"4020\"},\"selection_policy\":{\"id\":\"4019\"}},\"id\":\"4005\",\"type\":\"ColumnDataSource\"},{\"attributes\":{\"axis\":{\"id\":\"3987\"},\"coordinates\":null,\"dimension\":1,\"grid_line_alpha\":0.15,\"grid_line_color\":\"#E0E0E0\",\"group\":null,\"ticker\":null},\"id\":\"3990\",\"type\":\"Grid\"}],\"root_ids\":[\"4024\",\"4077\"]},\"title\":\"Bokeh Application\",\"version\":\"2.4.3\"}};\n",
       "    var render_items = [{\"docid\":\"6fd13fa0-7ad7-4977-b95a-ea8e7f865370\",\"root_ids\":[\"4024\"],\"roots\":{\"4024\":\"b660578b-cad3-49c0-be26-686f94fa28fb\"}}];\n",
       "    root.Bokeh.embed.embed_items_notebook(docs_json, render_items);\n",
       "    for (const render_item of render_items) {\n",
       "      for (const root_id of render_item.root_ids) {\n",
       "\tconst id_el = document.getElementById(root_id)\n",
       "\tif (id_el.children.length && (id_el.children[0].className === 'bk-root')) {\n",
       "\t  const root_el = id_el.children[0]\n",
       "\t  root_el.id = root_el.id + '-rendered'\n",
       "\t}\n",
       "      }\n",
       "    }\n",
       "  }\n",
       "  if (root.Bokeh !== undefined && root.Bokeh.Panel !== undefined) {\n",
       "    embed_document(root);\n",
       "  } else {\n",
       "    var attempts = 0;\n",
       "    var timer = setInterval(function(root) {\n",
       "      if (root.Bokeh !== undefined && root.Bokeh.Panel !== undefined) {\n",
       "        clearInterval(timer);\n",
       "        embed_document(root);\n",
       "      } else if (document.readyState == \"complete\") {\n",
       "        attempts++;\n",
       "        if (attempts > 200) {\n",
       "          clearInterval(timer);\n",
       "          console.log(\"Bokeh: ERROR: Unable to run BokehJS code because BokehJS library is missing\");\n",
       "        }\n",
       "      }\n",
       "    }, 25, root)\n",
       "  }\n",
       "})(window);</script>"
      ],
      "text/plain": [
       "Row\n",
       "    [0] HSpacer()\n",
       "    [1] Bokeh(Figure)\n",
       "    [2] HSpacer()"
      ]
     },
     "execution_count": 15,
     "metadata": {
      "application/vnd.holoviews_exec.v0+json": {
       "id": "4024"
      }
     },
     "output_type": "execute_result"
    }
   ],
   "source": [
    "# Input patterns\n",
    "x_inputs = np.array([[-1, -1],[-1,  1],[1, -1],[1,  1]])\n",
    "# Corresponding classes\n",
    "y_class = np.array([0, 1, 1, 0])                        \n",
    "# Initialize based on their sizes\n",
    "n_inputs = x_inputs.shape[0]\n",
    "n_outputs = 1\n",
    "# Plot the XOR problem\n",
    "plot = center_plot(scatter_classes(x_inputs, y_class, title = \"XOR classification\"))\n",
    "plot"
   ]
  },
  {
   "cell_type": "markdown",
   "metadata": {
    "tags": []
   },
   "source": [
    "## Observing the problem interactively"
   ]
  },
  {
   "cell_type": "code",
   "execution_count": 16,
   "metadata": {
    "tags": []
   },
   "outputs": [
    {
     "name": "stdout",
     "output_type": "stream",
     "text": [
      "Creating the object\n"
     ]
    },
    {
     "data": {},
     "metadata": {},
     "output_type": "display_data"
    },
    {
     "data": {
      "application/vnd.holoviews_exec.v0+json": "",
      "text/html": [
       "<div id='4180'>\n",
       "  <div class=\"bk-root\" id=\"80f94104-fa57-49c2-a284-301190c21bac\" data-root-id=\"4180\"></div>\n",
       "</div>\n",
       "<script type=\"application/javascript\">(function(root) {\n",
       "  function embed_document(root) {\n",
       "    var docs_json = {\"b204ea25-c1dd-46c6-9f03-6eed4fc004da\":{\"defs\":[{\"extends\":null,\"module\":null,\"name\":\"ReactiveHTML1\",\"overrides\":[],\"properties\":[]},{\"extends\":null,\"module\":null,\"name\":\"FlexBox1\",\"overrides\":[],\"properties\":[{\"default\":\"flex-start\",\"kind\":null,\"name\":\"align_content\"},{\"default\":\"flex-start\",\"kind\":null,\"name\":\"align_items\"},{\"default\":\"row\",\"kind\":null,\"name\":\"flex_direction\"},{\"default\":\"wrap\",\"kind\":null,\"name\":\"flex_wrap\"},{\"default\":\"flex-start\",\"kind\":null,\"name\":\"justify_content\"}]},{\"extends\":null,\"module\":null,\"name\":\"GridStack1\",\"overrides\":[],\"properties\":[{\"default\":\"warn\",\"kind\":null,\"name\":\"mode\"},{\"default\":null,\"kind\":null,\"name\":\"ncols\"},{\"default\":null,\"kind\":null,\"name\":\"nrows\"},{\"default\":true,\"kind\":null,\"name\":\"allow_resize\"},{\"default\":true,\"kind\":null,\"name\":\"allow_drag\"},{\"default\":[],\"kind\":null,\"name\":\"state\"}]},{\"extends\":null,\"module\":null,\"name\":\"click1\",\"overrides\":[],\"properties\":[{\"default\":\"\",\"kind\":null,\"name\":\"terminal_output\"},{\"default\":\"\",\"kind\":null,\"name\":\"debug_name\"},{\"default\":0,\"kind\":null,\"name\":\"clears\"}]},{\"extends\":null,\"module\":null,\"name\":\"NotificationAreaBase1\",\"overrides\":[],\"properties\":[{\"default\":\"bottom-right\",\"kind\":null,\"name\":\"position\"},{\"default\":0,\"kind\":null,\"name\":\"_clear\"}]},{\"extends\":null,\"module\":null,\"name\":\"NotificationArea1\",\"overrides\":[],\"properties\":[{\"default\":[],\"kind\":null,\"name\":\"notifications\"},{\"default\":\"bottom-right\",\"kind\":null,\"name\":\"position\"},{\"default\":0,\"kind\":null,\"name\":\"_clear\"},{\"default\":[{\"background\":\"#ffc107\",\"icon\":{\"className\":\"fas fa-exclamation-triangle\",\"color\":\"white\",\"tagName\":\"i\"},\"type\":\"warning\"},{\"background\":\"#007bff\",\"icon\":{\"className\":\"fas fa-info-circle\",\"color\":\"white\",\"tagName\":\"i\"},\"type\":\"info\"}],\"kind\":null,\"name\":\"types\"}]},{\"extends\":null,\"module\":null,\"name\":\"Notification\",\"overrides\":[],\"properties\":[{\"default\":null,\"kind\":null,\"name\":\"background\"},{\"default\":3000,\"kind\":null,\"name\":\"duration\"},{\"default\":null,\"kind\":null,\"name\":\"icon\"},{\"default\":\"\",\"kind\":null,\"name\":\"message\"},{\"default\":null,\"kind\":null,\"name\":\"notification_type\"},{\"default\":false,\"kind\":null,\"name\":\"_destroyed\"}]},{\"extends\":null,\"module\":null,\"name\":\"TemplateActions1\",\"overrides\":[],\"properties\":[{\"default\":0,\"kind\":null,\"name\":\"open_modal\"},{\"default\":0,\"kind\":null,\"name\":\"close_modal\"}]},{\"extends\":null,\"module\":null,\"name\":\"MaterialTemplateActions1\",\"overrides\":[],\"properties\":[{\"default\":0,\"kind\":null,\"name\":\"open_modal\"},{\"default\":0,\"kind\":null,\"name\":\"close_modal\"}]}],\"roots\":{\"references\":[{\"attributes\":{},\"id\":\"4137\",\"type\":\"LinearScale\"},{\"attributes\":{\"end\":1000,\"margin\":[5,10,5,10],\"start\":10,\"title\":\"Number observations\",\"value\":100},\"id\":\"4184\",\"type\":\"Slider\"},{\"attributes\":{\"children\":[{\"id\":\"4128\"}],\"margin\":[0,0,0,0],\"name\":\"Row00161\"},\"id\":\"4189\",\"type\":\"Row\"},{\"attributes\":{},\"id\":\"4171\",\"type\":\"AllLabels\"},{\"attributes\":{\"args\":{\"bidirectional\":true,\"properties\":{\"readonly\":\"disabled\"},\"source\":{\"id\":\"4210\"},\"target\":{\"id\":\"4210\"}},\"code\":\"\\n    var value = source['readonly'];\\n    value = value;\\n    value = value;\\n    try {\\n      var property = target.properties['disabled'];\\n      if (property !== undefined) { property.validate(value); }\\n    } catch(err) {\\n      console.log('WARNING: Could not set disabled on target, raised error: ' + err);\\n      return;\\n    }\\n    try {\\n      target['disabled'] = value;\\n    } catch(err) {\\n      console.log(err)\\n    }\\n    \",\"tags\":[[140330816536336,[null,\"readonly\"],[null,\"disabled\"]]]},\"id\":\"4221\",\"type\":\"CustomJS\"},{\"attributes\":{\"tools\":[{\"id\":\"4147\"},{\"id\":\"4148\"},{\"id\":\"4149\"},{\"id\":\"4150\"},{\"id\":\"4151\"},{\"id\":\"4152\"}]},\"id\":\"4154\",\"type\":\"Toolbar\"},{\"attributes\":{},\"id\":\"4147\",\"type\":\"PanTool\"},{\"attributes\":{},\"id\":\"4131\",\"type\":\"DataRange1d\"},{\"attributes\":{\"axis_label\":\"$$\\\\color{white} x$$\",\"axis_label_standoff\":10,\"axis_label_text_color\":\"#FFFFFF\",\"axis_label_text_font\":\"Josefin Sans\",\"axis_label_text_font_size\":\"1.9em\",\"axis_label_text_font_style\":\"bold\",\"axis_line_alpha\":0.4,\"axis_line_color\":\"#E0E0E0\",\"coordinates\":null,\"formatter\":{\"id\":\"4173\"},\"group\":null,\"major_label_policy\":{\"id\":\"4174\"},\"major_label_text_color\":\"#E0E0E0\",\"major_label_text_font\":\"Josefin Sans\",\"major_label_text_font_size\":\"1.15em\",\"major_tick_line_alpha\":0.4,\"major_tick_line_color\":\"#E0E0E0\",\"minor_tick_line_alpha\":0.4,\"minor_tick_line_color\":\"#E0E0E0\",\"ticker\":{\"id\":\"4140\"}},\"id\":\"4139\",\"type\":\"LinearAxis\"},{\"attributes\":{},\"id\":\"4133\",\"type\":\"DataRange1d\"},{\"attributes\":{\"label\":{\"field\":\"label\"},\"renderers\":[{\"id\":\"4166\"}]},\"id\":\"4179\",\"type\":\"LegendItem\"},{\"attributes\":{\"args\":{\"bidirectional\":true,\"properties\":{\"readonly\":\"disabled\"},\"source\":{\"id\":\"4210\"},\"target\":{\"id\":\"4210\"}},\"code\":\"\\n    var value = source['disabled'];\\n    value = value;\\n    value = value;\\n    try {\\n      var property = target.properties['readonly'];\\n      if (property !== undefined) { property.validate(value); }\\n    } catch(err) {\\n      console.log('WARNING: Could not set readonly on target, raised error: ' + err);\\n      return;\\n    }\\n    try {\\n      target['readonly'] = value;\\n    } catch(err) {\\n      console.log(err)\\n    }\\n    \",\"tags\":[[140330816536336,[null,\"readonly\"],[null,\"disabled\"]]]},\"id\":\"4222\",\"type\":\"CustomJS\"},{\"attributes\":{\"end\":0.9,\"margin\":[5,10,5,10],\"start\":0.01,\"step\":0.1,\"title\":\"Dense factor\",\"value\":0.1},\"id\":\"4188\",\"type\":\"Slider\"},{\"attributes\":{\"axis\":{\"id\":\"4139\"},\"coordinates\":null,\"grid_line_alpha\":0.15,\"grid_line_color\":\"#E0E0E0\",\"group\":null,\"ticker\":null},\"id\":\"4142\",\"type\":\"Grid\"},{\"attributes\":{\"children\":[{\"id\":\"4183\"},{\"id\":\"4184\"},{\"id\":\"4185\"},{\"id\":\"4186\"},{\"id\":\"4187\"},{\"id\":\"4188\"}],\"margin\":[5,5,5,5],\"min_width\":300,\"name\":\"Problem parameters\",\"width\":300},\"id\":\"4182\",\"type\":\"Column\"},{\"attributes\":{\"fill_alpha\":{\"value\":0.1},\"fill_color\":{\"field\":\"color\"},\"hatch_alpha\":{\"value\":0.1},\"hatch_color\":{\"field\":\"color\"},\"line_alpha\":{\"value\":0.1},\"line_color\":{\"value\":\"white\"},\"size\":{\"value\":10},\"x\":{\"field\":\"x\"},\"y\":{\"field\":\"y\"}},\"id\":\"4164\",\"type\":\"Circle\"},{\"attributes\":{},\"id\":\"4175\",\"type\":\"UnionRenderers\"},{\"attributes\":{\"fill_alpha\":{\"value\":0.2},\"fill_color\":{\"field\":\"color\"},\"hatch_alpha\":{\"value\":0.2},\"hatch_color\":{\"field\":\"color\"},\"line_alpha\":{\"value\":0.2},\"line_color\":{\"value\":\"white\"},\"size\":{\"value\":10},\"x\":{\"field\":\"x\"},\"y\":{\"field\":\"y\"}},\"id\":\"4165\",\"type\":\"Circle\"},{\"attributes\":{\"labels\":[\"Ground truth\"],\"margin\":[5,10,5,10]},\"id\":\"4186\",\"type\":\"CheckboxGroup\"},{\"attributes\":{\"axis_label\":\"$$\\\\color{white} \\\\mathbf{y}$$\",\"axis_label_standoff\":10,\"axis_label_text_color\":\"#FFFFFF\",\"axis_label_text_font\":\"Josefin Sans\",\"axis_label_text_font_size\":\"1.9em\",\"axis_label_text_font_style\":\"bold\",\"axis_line_alpha\":0.4,\"axis_line_color\":\"#E0E0E0\",\"coordinates\":null,\"formatter\":{\"id\":\"4170\"},\"group\":null,\"major_label_policy\":{\"id\":\"4171\"},\"major_label_text_color\":\"#E0E0E0\",\"major_label_text_font\":\"Josefin Sans\",\"major_label_text_font_size\":\"1.15em\",\"major_tick_line_alpha\":0.4,\"major_tick_line_color\":\"#E0E0E0\",\"minor_tick_line_alpha\":0.4,\"minor_tick_line_color\":\"#E0E0E0\",\"ticker\":{\"id\":\"4144\"}},\"id\":\"4143\",\"type\":\"LinearAxis\"},{\"attributes\":{\"background_fill_alpha\":0.2,\"background_fill_color\":\"darkgrey\",\"border_line_alpha\":0.8,\"border_line_color\":\"grey\",\"border_line_width\":3,\"coordinates\":null,\"group\":null,\"items\":[{\"id\":\"4179\"}],\"label_text_color\":\"white\"},\"id\":\"4178\",\"type\":\"Legend\"},{\"attributes\":{},\"id\":\"4140\",\"type\":\"BasicTicker\"},{\"attributes\":{\"bottom_units\":\"screen\",\"coordinates\":null,\"fill_alpha\":0.5,\"fill_color\":\"lightgrey\",\"group\":null,\"left_units\":\"screen\",\"level\":\"overlay\",\"line_alpha\":1.0,\"line_color\":\"black\",\"line_dash\":[4,4],\"line_width\":2,\"right_units\":\"screen\",\"syncable\":false,\"top_units\":\"screen\"},\"id\":\"4153\",\"type\":\"BoxAnnotation\"},{\"attributes\":{},\"id\":\"4152\",\"type\":\"HelpTool\"},{\"attributes\":{\"background_fill_alpha\":0.9,\"background_fill_color\":\"#0f0f0f\",\"below\":[{\"id\":\"4139\"}],\"border_fill_alpha\":0.8,\"border_fill_color\":\"#111111\",\"center\":[{\"id\":\"4142\"},{\"id\":\"4146\"},{\"id\":\"4178\"}],\"height\":450,\"left\":[{\"id\":\"4143\"}],\"outline_line_alpha\":0.25,\"outline_line_color\":\"#E0E0E0\",\"outline_line_width\":3,\"renderers\":[{\"id\":\"4166\"}],\"right\":[{\"id\":\"4178\"}],\"title\":{\"id\":\"4129\"},\"toolbar\":{\"id\":\"4154\"},\"width\":700,\"x_range\":{\"id\":\"4131\"},\"x_scale\":{\"id\":\"4135\"},\"y_range\":{\"id\":\"4133\"},\"y_scale\":{\"id\":\"4137\"}},\"id\":\"4128\",\"subtype\":\"Figure\",\"type\":\"Plot\"},{\"attributes\":{},\"id\":\"4173\",\"type\":\"BasicTickFormatter\"},{\"attributes\":{\"data\":{\"color\":[\"midnightblue\",\"midnightblue\",\"midnightblue\",\"midnightblue\",\"midnightblue\",\"midnightblue\",\"midnightblue\",\"midnightblue\",\"midnightblue\",\"midnightblue\",\"midnightblue\",\"midnightblue\",\"midnightblue\",\"midnightblue\",\"midnightblue\",\"midnightblue\",\"midnightblue\",\"midnightblue\",\"midnightblue\",\"midnightblue\",\"midnightblue\",\"midnightblue\",\"midnightblue\",\"midnightblue\",\"firebrick\",\"firebrick\",\"firebrick\",\"firebrick\",\"firebrick\",\"firebrick\",\"firebrick\",\"firebrick\",\"firebrick\",\"firebrick\",\"firebrick\",\"firebrick\",\"firebrick\",\"firebrick\",\"firebrick\",\"firebrick\",\"firebrick\",\"firebrick\",\"firebrick\",\"firebrick\",\"firebrick\",\"firebrick\",\"firebrick\",\"firebrick\",\"firebrick\",\"firebrick\",\"firebrick\",\"firebrick\",\"firebrick\",\"firebrick\",\"firebrick\",\"firebrick\",\"firebrick\",\"firebrick\",\"firebrick\",\"firebrick\",\"firebrick\",\"firebrick\",\"firebrick\",\"firebrick\",\"firebrick\",\"firebrick\",\"firebrick\",\"firebrick\",\"firebrick\",\"firebrick\",\"firebrick\",\"firebrick\",\"midnightblue\",\"midnightblue\",\"midnightblue\",\"midnightblue\",\"midnightblue\",\"midnightblue\",\"midnightblue\",\"midnightblue\",\"midnightblue\",\"midnightblue\",\"midnightblue\",\"midnightblue\",\"midnightblue\",\"midnightblue\",\"midnightblue\",\"midnightblue\",\"midnightblue\",\"midnightblue\",\"midnightblue\",\"midnightblue\",\"midnightblue\",\"midnightblue\",\"midnightblue\",\"midnightblue\"],\"label\":[\"class 1\",\"class 1\",\"class 1\",\"class 1\",\"class 1\",\"class 1\",\"class 1\",\"class 1\",\"class 1\",\"class 1\",\"class 1\",\"class 1\",\"class 1\",\"class 1\",\"class 1\",\"class 1\",\"class 1\",\"class 1\",\"class 1\",\"class 1\",\"class 1\",\"class 1\",\"class 1\",\"class 1\",\"class 2\",\"class 2\",\"class 2\",\"class 2\",\"class 2\",\"class 2\",\"class 2\",\"class 2\",\"class 2\",\"class 2\",\"class 2\",\"class 2\",\"class 2\",\"class 2\",\"class 2\",\"class 2\",\"class 2\",\"class 2\",\"class 2\",\"class 2\",\"class 2\",\"class 2\",\"class 2\",\"class 2\",\"class 2\",\"class 2\",\"class 2\",\"class 2\",\"class 2\",\"class 2\",\"class 2\",\"class 2\",\"class 2\",\"class 2\",\"class 2\",\"class 2\",\"class 2\",\"class 2\",\"class 2\",\"class 2\",\"class 2\",\"class 2\",\"class 2\",\"class 2\",\"class 2\",\"class 2\",\"class 2\",\"class 2\",\"class 1\",\"class 1\",\"class 1\",\"class 1\",\"class 1\",\"class 1\",\"class 1\",\"class 1\",\"class 1\",\"class 1\",\"class 1\",\"class 1\",\"class 1\",\"class 1\",\"class 1\",\"class 1\",\"class 1\",\"class 1\",\"class 1\",\"class 1\",\"class 1\",\"class 1\",\"class 1\",\"class 1\"],\"x\":{\"__ndarray__\":\"QcSHv/5Dbr/z6YW/yihYv7jDeb82vnO/AMF+v/51bb9fLUm/qmNrv60icr+3vIG/Y8Riv4oZZb/VrHW/Z/aYv2PCi7+6XYC/ks5Yv3YPjr+BPIG/15Rpvx/mf781S3K/daVhvwWxY79Et2W/kG59v5s5Vb97spC/FOlMv0R7mb+m832/k7eEv6zvgL9AZVu/qJOEv3MCgr+ANH2/7Dp0v7pzg7/0Jou/cy2Dv4PqZb90gWa//aN8vyL4ab/TX5K/WPF7Px/XjT/pYXs/pxg+P10JYD+gr5M/O0l/P1dVQT9wOVU/RJGGP7s9Wz+xnGY/3cuEPyyofD8LF1E/7MZnPxoMgD9VXmw/SRF6P8mHcj8YqT8/a9tsPx5+cz+b04A/kNNMPyerlT+m3YU/FP6APzVBjj+3wF8/GjRqP+RVjT9rpZQ/5u2QP38OaT8mKTc/ipyXP9NxZD8up5I/hJeRPyJ/iT/i2m4/ewx3P45Xkz8MRVI/nTKGP2AXeT8mVIU/\",\"dtype\":\"float32\",\"order\":\"little\",\"shape\":[96]},\"y\":{\"__ndarray__\":\"aJ5Sv8OIV7+fDYO/isWUv8+8lL/wPYe/CHOGv542jr+tCnK//5CTv55Zj788G3e/JZ6TvwZya7/eP1a/LkuQvyWKj79HHGS/vw5wvwFEhL9H/Yu/kJiDv587R78TP4y/OvFaP/cZPT9EjH0/ocGJPwg9fD9lDXs//yw7P+XniT/fa3M/1I+RPyLoeD8Yp48/JPuGP2YVbz92l28/JtyGP4WUkD9hnpQ/g8CDP1puYj9b44M/aO+IPwYdXT+kfpU/sBBwv1gdgr9Gn2a/Gsebv3/OSr8Im5W/c85lv3w5br90TZW/TkyMv4sBgb/IQHe/88CNv9Cwgb+bfoK/xNOdv7TaaL8VEZi/xmk2vxoIkL/mR3K/gB2Nv/TzfL8Oaoi/D7uCP+12UD/edYg/rnyHP3dDcj+Ygl4/WwqRP5Nvjj/7vYs/0aFtP0K4ez8acHk/+WltPz/jjj+zQZ8/m7eOP3cHiD+6FnU/b32LPy72Tz/Gem0/yhl3P1rdij8lXXs/\",\"dtype\":\"float32\",\"order\":\"little\",\"shape\":[96]}},\"selected\":{\"id\":\"4176\"},\"selection_policy\":{\"id\":\"4175\"}},\"id\":\"4161\",\"type\":\"ColumnDataSource\"},{\"attributes\":{},\"id\":\"4176\",\"type\":\"Selection\"},{\"attributes\":{},\"id\":\"4135\",\"type\":\"LinearScale\"},{\"attributes\":{\"end\":5.0,\"margin\":[5,10,5,10],\"start\":0.0,\"step\":0.1,\"title\":\"Noise level\",\"value\":0.1},\"id\":\"4185\",\"type\":\"Slider\"},{\"attributes\":{\"code\":\"    def generate_data(self):\\n        self.x, self.y = xor_separation(self.number_observations, self.dense_factor)\\n        super().generate_data()\",\"filename\":\"\",\"height\":60,\"js_property_callbacks\":{\"change:disabled\":[{\"id\":\"4222\"}],\"change:readonly\":[{\"id\":\"4221\"}]},\"language\":\"python\",\"margin\":[5,10,5,10],\"sizing_mode\":\"stretch_both\",\"theme\":\"chaos\"},\"id\":\"4210\",\"type\":\"panel.models.ace.AcePlot\"},{\"attributes\":{\"labels\":[\"Error\"],\"margin\":[5,10,5,10]},\"id\":\"4187\",\"type\":\"CheckboxGroup\"},{\"attributes\":{},\"id\":\"4150\",\"type\":\"SaveTool\"},{\"attributes\":{\"coordinates\":null,\"data_source\":{\"id\":\"4161\"},\"glyph\":{\"id\":\"4163\"},\"group\":null,\"hover_glyph\":null,\"muted_glyph\":{\"id\":\"4165\"},\"nonselection_glyph\":{\"id\":\"4164\"},\"view\":{\"id\":\"4167\"}},\"id\":\"4166\",\"type\":\"GlyphRenderer\"},{\"attributes\":{\"children\":[{\"id\":\"4181\"},{\"id\":\"4210\"}],\"margin\":[0,0,0,0],\"name\":\"Column00167\"},\"id\":\"4180\",\"type\":\"Column\"},{\"attributes\":{},\"id\":\"4151\",\"type\":\"ResetTool\"},{\"attributes\":{\"children\":[{\"id\":\"4182\"},{\"id\":\"4189\"}],\"margin\":[0,0,0,0],\"name\":\"Row00164\"},\"id\":\"4181\",\"type\":\"Row\"},{\"attributes\":{\"source\":{\"id\":\"4161\"}},\"id\":\"4167\",\"type\":\"CDSView\"},{\"attributes\":{\"client_comm_id\":\"5d6ab6f77bbf4668be1b446998a221d1\",\"comm_id\":\"3f323ecba7dc41e0bae35e33920a90a5\",\"plot_id\":\"4180\"},\"id\":\"4243\",\"type\":\"panel.models.comm_manager.CommManager\"},{\"attributes\":{\"overlay\":{\"id\":\"4153\"}},\"id\":\"4149\",\"type\":\"BoxZoomTool\"},{\"attributes\":{\"fill_alpha\":{\"value\":0.6},\"fill_color\":{\"field\":\"color\"},\"hatch_alpha\":{\"value\":0.6},\"hatch_color\":{\"field\":\"color\"},\"line_alpha\":{\"value\":0.6},\"line_color\":{\"value\":\"white\"},\"size\":{\"value\":10},\"x\":{\"field\":\"x\"},\"y\":{\"field\":\"y\"}},\"id\":\"4163\",\"type\":\"Circle\"},{\"attributes\":{\"coordinates\":null,\"group\":null,\"text\":\"XOR classification\",\"text_color\":\"#E0E0E0\",\"text_font\":\"Josefin Sans\",\"text_font_size\":\"2.1em\"},\"id\":\"4129\",\"type\":\"Title\"},{\"attributes\":{},\"id\":\"4148\",\"type\":\"WheelZoomTool\"},{\"attributes\":{},\"id\":\"4144\",\"type\":\"BasicTicker\"},{\"attributes\":{},\"id\":\"4170\",\"type\":\"BasicTickFormatter\"},{\"attributes\":{\"margin\":[5,10,5,10],\"name\":\"\",\"text\":\"<b>Problem parameters</b>\"},\"id\":\"4183\",\"type\":\"Div\"},{\"attributes\":{\"axis\":{\"id\":\"4143\"},\"coordinates\":null,\"dimension\":1,\"grid_line_alpha\":0.15,\"grid_line_color\":\"#E0E0E0\",\"group\":null,\"ticker\":null},\"id\":\"4146\",\"type\":\"Grid\"},{\"attributes\":{},\"id\":\"4174\",\"type\":\"AllLabels\"}],\"root_ids\":[\"4180\",\"4243\"]},\"title\":\"Bokeh Application\",\"version\":\"2.4.3\"}};\n",
       "    var render_items = [{\"docid\":\"b204ea25-c1dd-46c6-9f03-6eed4fc004da\",\"root_ids\":[\"4180\"],\"roots\":{\"4180\":\"80f94104-fa57-49c2-a284-301190c21bac\"}}];\n",
       "    root.Bokeh.embed.embed_items_notebook(docs_json, render_items);\n",
       "    for (const render_item of render_items) {\n",
       "      for (const root_id of render_item.root_ids) {\n",
       "\tconst id_el = document.getElementById(root_id)\n",
       "\tif (id_el.children.length && (id_el.children[0].className === 'bk-root')) {\n",
       "\t  const root_el = id_el.children[0]\n",
       "\t  root_el.id = root_el.id + '-rendered'\n",
       "\t}\n",
       "      }\n",
       "    }\n",
       "  }\n",
       "  if (root.Bokeh !== undefined && root.Bokeh.Panel !== undefined) {\n",
       "    embed_document(root);\n",
       "  } else {\n",
       "    var attempts = 0;\n",
       "    var timer = setInterval(function(root) {\n",
       "      if (root.Bokeh !== undefined && root.Bokeh.Panel !== undefined) {\n",
       "        clearInterval(timer);\n",
       "        embed_document(root);\n",
       "      } else if (document.readyState == \"complete\") {\n",
       "        attempts++;\n",
       "        if (attempts > 200) {\n",
       "          clearInterval(timer);\n",
       "          console.log(\"Bokeh: ERROR: Unable to run BokehJS code because BokehJS library is missing\");\n",
       "        }\n",
       "      }\n",
       "    }, 25, root)\n",
       "  }\n",
       "})(window);</script>"
      ],
      "text/plain": [
       "Column\n",
       "    [0] Row\n",
       "        [0] Param(ClassificationXOR, name='Problem parameters')\n",
       "        [1] ParamMethod(method, _pane=Bokeh)\n",
       "    [1] Ace(height=60, language='python', sizing_mode='stretch_both', theme='chaos', value='    def generate_data(sel...)"
      ]
     },
     "execution_count": 16,
     "metadata": {
      "application/vnd.holoviews_exec.v0+json": {
       "id": "4180"
      }
     },
     "output_type": "execute_result"
    }
   ],
   "source": [
    "from cml.tasks import ClassificationLinear, ClassificationXOR\n",
    "explorer = ClassificationXOR()\n",
    "explorer.render()"
   ]
  },
  {
   "cell_type": "markdown",
   "metadata": {},
   "source": [
    "## Solving the problem with the `scikit-learn` library\n",
    "\n",
    "As a side note, and as discussed in the previous course, there is obviously a lot of libraries that can perform the training of such networks for you directly, without understanding what is exactly going on behind the scene. A quite extensive library is `scikit-learn`, which contains already coded models and learning procedure, that will allow us to _learn_ the parameters of this unknown function.\n",
    "\n",
    "Here we will use a `MLPClassifier` model to perfom classification on standardized features that we rescale through the `LinearRegression` and that this polynomial should be of degree 2. "
   ]
  },
  {
   "cell_type": "code",
   "execution_count": 17,
   "metadata": {
    "tags": []
   },
   "outputs": [],
   "source": [
    "from sklearn.neural_network import MLPClassifier\n",
    "from sklearn.preprocessing import StandardScaler\n",
    "from sklearn.pipeline import make_pipeline\n",
    "# Create the MLP classifier\n",
    "classifier = MLPClassifier(alpha=1, max_iter=1000)\n",
    "# Standardize the input features\n",
    "clf = make_pipeline(StandardScaler(), classifier)"
   ]
  },
  {
   "cell_type": "markdown",
   "metadata": {},
   "source": [
    "Now based on this model definition, training it can be performed with a single line of code"
   ]
  },
  {
   "cell_type": "code",
   "execution_count": 19,
   "metadata": {
    "tags": []
   },
   "outputs": [],
   "source": [
    "from cml.data import xor_separation\n",
    "# Generate a XOR dataset\n",
    "x_inputs, y_classes = xor_separation(500, 0.1)\n",
    "# Train the MLP model\n",
    "clf.fit(x_inputs, y_classes);"
   ]
  },
  {
   "cell_type": "markdown",
   "metadata": {
    "tags": []
   },
   "source": [
    "## Multi-layer implementation\n",
    "\n",
    "In this exercise, we will implement the XOR classification resolution using NumPy and JAX. This classification problem cannot be solved with a simple linear classifier. Hence, we will need to use at least a 2-layer network. The minimal set of variables that will be used by your code should be the following.\n",
    "\n",
    "```Python\n",
    "x_inputs          # 2 x n matrix of random points\n",
    "y_class           # classes of the patterns \n",
    "n_hidden          # Number of hidden units\n",
    "eta               # Learning rate parameter\n",
    "momentum          # Momentum parameter (bonus)\n",
    "weights1          # 1st layer weights\n",
    "weights2          # 2nd layer weights\n",
    "mse_limit         # Sum-squared error limit\n",
    "```"
   ]
  },
  {
   "cell_type": "code",
   "execution_count": 76,
   "metadata": {
    "tags": []
   },
   "outputs": [],
   "source": [
    "# Number of hidden units\n",
    "n_hidden = 2\n",
    "# Learning rate parameter\n",
    "eta = 0.005\n",
    "# Momentum parameter\n",
    "momentum = 0.1\n",
    "# Sum-squared error limit\n",
    "mse_limit = 0.002"
   ]
  },
  {
   "cell_type": "markdown",
   "metadata": {
    "tags": []
   },
   "source": [
    "## Exercise 1 - 2-layers XOR classification\n",
    "\n",
    "<div class=\"alert alert-success\" markdown=\"1\" style=\"color:white; background-color: #013220; border-color: #03C03C\">\n",
    "\n",
    "> To complete this exercise, you will need to have a basic understanding of NumPy and JAX. You can use the resources provided in the previous exercises to learn more about these libraries.\n",
    "\n",
    "We help you out by first defining the XOR classification problem to solve (and outlining some basic properties)\n",
    "\n",
    "</div>"
   ]
  },
  {
   "cell_type": "code",
   "execution_count": 77,
   "metadata": {
    "tags": []
   },
   "outputs": [
    {
     "name": "stdout",
     "output_type": "stream",
     "text": [
      "(496, 2)\n",
      "(496,)\n"
     ]
    }
   ],
   "source": [
    "from cml.data import xor_separation\n",
    "# Definition of our data properties\n",
    "n_observations = 500\n",
    "noise_factor = 0.1\n",
    "# Properties of our problem\n",
    "n_input = 2\n",
    "n_output = 1\n",
    "# Generate a XOR dataset\n",
    "x_inputs, y_classes = xor_separation(n_observations, noise_factor)\n",
    "print(x_inputs.shape)\n",
    "print(y_classes.shape)"
   ]
  },
  {
   "cell_type": "markdown",
   "metadata": {},
   "source": [
    "We also show some potential implementation of the **initialization scheme**. Note that you can later try to replace this naive implementation by some more refined functions"
   ]
  },
  {
   "cell_type": "code",
   "execution_count": 78,
   "metadata": {
    "tags": []
   },
   "outputs": [],
   "source": [
    "# 1st layer weights\n",
    "weights1 = (np.random.randn(n_hidden, n_input) * 0.01)\n",
    "# 2nd layer weights\n",
    "weights2 = (np.random.randn(n_output, n_hidden) * 0.01)\n",
    "# 1st layer biases\n",
    "bias1 = (np.random.randn(n_hidden, 1) * 0.01)\n",
    "# 2nd layer biases\n",
    "bias2 = (np.random.randn(n_output, 1) * 0.01)"
   ]
  },
  {
   "cell_type": "markdown",
   "metadata": {},
   "source": [
    "***\n",
    "\n",
    "<div class=\"alert alert-success\" markdown=\"1\" style=\"color:white; background-color: #013220; border-color: #03C03C\">\n",
    "\n",
    "> ### Question 1.1 - Implement 2-layer XOR classification with NumPy\n",
    "\n",
    "> 1. Update the forward propagation and error computation\n",
    "> 2. Update the back-propagation part to learn the weights of both layers.\n",
    "> 3. Run the learning and check your network results\n",
    "  \n",
    "*For optional questions, please look at the end of this exercise's code boxes for more information*\n",
    "\n",
    "</div>\n",
    "\n",
    "***"
   ]
  },
  {
   "cell_type": "code",
   "execution_count": 82,
   "metadata": {
    "tags": []
   },
   "outputs": [],
   "source": [
    "def forward_pass_np():\n",
    "    \n",
    "    loss = 2\n",
    "    while(loss > mse_limit):\n",
    "        # hidden layer\n",
    "        o_1 = np.dot(x_inputs, weights1.T) + bias1.T\n",
    "        loss = 0\n",
    "        \n"
   ]
  },
  {
   "cell_type": "markdown",
   "metadata": {},
   "source": [
    "***\n",
    "\n",
    "<div class=\"alert alert-success\" markdown=\"1\" style=\"color:white; background-color: #013220; border-color: #03C03C\">\n",
    "\n",
    "> ### Question 1.2 - Implement XOR classification with JAX\n",
    "\n",
    "> 1. Perform the same implementation as previously with JAX\n",
    "> 2. Implement gradient descent to optimize the weights and bias.\n",
    "\n",
    "</div>\n",
    "\n",
    "***"
   ]
  },
  {
   "cell_type": "code",
   "execution_count": 80,
   "metadata": {
    "tags": []
   },
   "outputs": [],
   "source": [
    "\n",
    "######################\n",
    "# YOUR CODE GOES HERE\n",
    "######################\n"
   ]
  },
  {
   "cell_type": "markdown",
   "metadata": {},
   "source": [
    "***\n",
    "\n",
    "<div class=\"alert alert-success\" markdown=\"1\" style=\"color:white; background-color: #013220; border-color: #03C03C\">\n",
    "\n",
    "> ### Question 1.3 - Understanding properties of our implementation\n",
    "\n",
    "> 4. Perform multiple re-runs of the learning procedure (re-launching with different initializations)\n",
    ">     1. What observations can you make on the learning process?\n",
    ">     2. What happens if you initialize all weights to zeros?\n",
    ">     3. Change your initialization and regularization scheme\n",
    "\n",
    "</div>\n",
    "\n",
    "***"
   ]
  },
  {
   "cell_type": "code",
   "execution_count": 81,
   "metadata": {
    "tags": []
   },
   "outputs": [
    {
     "name": "stdout",
     "output_type": "stream",
     "text": [
      "x: [-0.76515776 -0.7550856 ]\n",
      "w1: [[-0.00211706 -0.00793717]\n",
      " [ 0.00066036 -0.01599673]]\n",
      "bias1: [[0.01442817]\n",
      " [0.01435335]]\n",
      "o: [0.02204129 0.02592697]\n"
     ]
    }
   ],
   "source": [
    "\n",
    "######################\n",
    "# YOUR CODE GOES HERE\n",
    "######################\n",
    "forward_pass_np()\n"
   ]
  },
  {
   "cell_type": "markdown",
   "metadata": {},
   "source": [
    "***\n",
    "\n",
    "<div class=\"alert alert-success\" markdown=\"1\" style=\"color:white; background-color: #192841; border-color: #779ecb\">\n",
    "\n",
    "> ### Going further\n",
    "\n",
    "> The following set of questions are optionnal addendum to your previous code that allow to understand more in-depth properties about _regularization_ both for neural networks and optimization in general.\n",
    "\n",
    "> 1. (Optional) Implement the *weight decay* constraint in your network.\n",
    "> 2. (Optional) Add the *momentum* to the learning procedure.\n",
    "\n",
    "> *Weight decay* constraint\n",
    "> As nothing constrains the weights in the network, we can note that usually all weights vector given a multiplicative factor might be equivalent, which can stall the learning (and lead to exploding weights). The *weight decay* allows to regularize the learning by penalizing weights with a too wide amplitude. The idea is to add this constraint as a term to the final loss (which leads to an indirect \"pressure\" on the learning process. Therefore, the final loss will be defined as\n",
    "> $$\n",
    "\\begin{equation}\n",
    "\\mathcal{L}_{final}=\\mathcal{L_D} + \\lambda \\sum_{l} \\sum_{i} \\sum_{j} \\left( W_{ij}^{l} \\right)^{2}\n",
    "\\end{equation}\n",
    "$$\n",
    "> where the parameter $\\lambda$ controls the relative importance of the two terms.\n",
    "\n",
    "> *Momentum* in learning\n",
    "> Usually, in complex problems, the gradient can be very noisy and, therefore, the learning might oscillate widely. In order to reduce this problem, we can *smooth* the different gradient updates by retaining the values of the gradient at each iteration and then performing an update based on the latest gradient $\\delta_{i}^{t}$ and the gradient at the previous iteration $\\delta_{i}^{t-1}$. Therefore, a gradient update is applied as\n",
    "> $$\n",
    "\\begin{equation}\n",
    "\\delta_{final}^{t} = \\delta_{i}^{t} + m.\\delta_{i}^{t-1}\n",
    "\\end{equation}\n",
    "$$\n",
    "> with $m$ the momentum parameter, which control the amount of gradient smoothing.\n",
    "\n",
    "</div>\n",
    "\n",
    "***"
   ]
  },
  {
   "cell_type": "code",
   "execution_count": null,
   "metadata": {},
   "outputs": [],
   "source": [
    "\n",
    "######################\n",
    "# YOUR CODE GOES HERE\n",
    "######################\n"
   ]
  },
  {
   "cell_type": "markdown",
   "metadata": {},
   "source": [
    "## (Optional) 3-layer audio classification\n",
    "\n",
    "Once again, note that the following paragraph and subsequent questions are _optional_ but should be a quite simple extension of our previous work on 2-layer networks. If you struggle with the data import mechanisms, you can look down at the PyTorch section (with a **mandatory exercise**) that will provide base code for this aspect. \n",
    "\n",
    "Finally, we will attack a complete audio classification problem and try to perform neural network learning on a set of audio files. The data structure will be the same as the one used for parts 1 and 2. As discussed during the courses, even though a 2-layer neural network can provide non-linear boundaries, it can not perform \"holes\" inside those regions. In order to obtain an improved classification, we will now rely on a 3-layer neural network. The modification to the code of section 3.2 should be minimal, as the back-propagation will be similar for the new layer as one of the two others. We do not develop the math here as it is simply a re-application of the previous rules with an additional layer (which derivatives you should have generalized in the previous exercise).  \n",
    "\n",
    "However, up until now, we only performed *binary classification* problems, but this time we need to obtain a decision rule for multiple classes. Therefore, we cannot rely on simply computing the distance between desired patterns and the obtained binary value. The idea here is to rely on the *softmax regression*, by considering classes as a vector of probabilities. The desired answers will therefore be considered as a set of *probabilities*, where the desired class is $1$ and the others are $0$ (called *one-hot* representation). Then, the cost function will rely on the softmax formulation\n",
    "\n",
    "$$\n",
    "\\begin{equation}\n",
    "\\mathcal{L_D}(\\theta) = - \\frac{1}{m} \\left[ \\sum_{i=1}^{m} \\sum_{j=1}^{k} 1\\left\\{y^{(i)} = j\\right\\} \\log \\frac{e^{\\theta_{j}^{T} x^{(i)}}}{\\sum_{l=1}^{k} e^{ \\theta_{l}^{T} x^{(i)} }}  \\right]\n",
    "\\end{equation}\n",
    "$$\n",
    "\n",
    "Therefore, we compute the output of the softmax by taking \n",
    "\n",
    "$$\n",
    "\\begin{equation}\n",
    "p(y^{(i)} = j | x^{(i)}; \\theta) = \\frac{e^{\\theta_{j}^{T} x^{(i)}}}{\\sum_{l=1}^{k} e^{ \\theta_{l}^{T} x^{(i)}} }\n",
    "\\end{equation}\n",
    "$$\n",
    "\n",
    "By taking derivatives, we can show that the gradient of the softmax layer is\n",
    "\n",
    "$$\n",
    "\\begin{equation}\n",
    "\\nabla_{\\theta_{j}} \\mathcal{L_D}(\\theta) = - \\frac{1}{m} \\sum_{i=1}^{m}{ \\left[ x^{(i)} \\left( 1\\{ y^{(i)} = j\\}  - p(y^{(i)} = j \\mid x^{(i)}, \\theta) \\right) \\right]}\n",
    "\\end{equation}\n",
    "$$"
   ]
  },
  {
   "cell_type": "markdown",
   "metadata": {},
   "source": [
    "### Sweet activation functions\n",
    "\n",
    "As discussed in the course, the interest of stacking layers is that there is an _activation function_, which allows non-linear interactions between the dimensions (and avoids to only compute a single huge affine transform). Although the `sigmoid` function has been historically the most used, there has been some large developments since. Notably the `ReLU` (Rectified Linear Unit) is one of the major difference in modern networks (we will see more about that in a later course)"
   ]
  },
  {
   "cell_type": "code",
   "execution_count": 29,
   "metadata": {},
   "outputs": [],
   "source": [
    "# Function for computing the Sigmoid activation\n",
    "def sigmoid(x):\n",
    "    return 1 / (1 + np.exp(-x))\n",
    "# Derivative\n",
    "def dsigmoid(a):\n",
    "    return a * (1.0 - a)\n",
    "# Function for computing the ReLU activation\n",
    "def relu(x):\n",
    "    return np.maximum(0, x)\n",
    "# Derivative\n",
    "def drelu(x):\n",
    "    if (x < 0):\n",
    "        return 0\n",
    "    return 1\n",
    "# Function for computing the Tanh activation\n",
    "def tanh(x):\n",
    "    return np.tanh(x);\n",
    "# Derivative\n",
    "def dtanh(x): \n",
    "    return np.cosh(x) ^ -2"
   ]
  },
  {
   "cell_type": "markdown",
   "metadata": {},
   "source": [
    "Here, we plot some simple examples of what these activation functions look like. You can try to rely on these functions in your previous training code and witness the differences in training.\n"
   ]
  },
  {
   "cell_type": "code",
   "execution_count": 23,
   "metadata": {},
   "outputs": [
    {
     "data": {},
     "metadata": {},
     "output_type": "display_data"
    },
    {
     "data": {
      "application/vnd.holoviews_exec.v0+json": "",
      "text/html": [
       "<div id='4210'>\n",
       "  <div class=\"bk-root\" id=\"9d0d059d-3d72-4cc5-aadf-97f393bc9b0b\" data-root-id=\"4210\"></div>\n",
       "</div>\n",
       "<script type=\"application/javascript\">(function(root) {\n",
       "  function embed_document(root) {\n",
       "    var docs_json = {\"c6b166bf-d91b-4d39-bc41-f9de9c5a081a\":{\"defs\":[{\"extends\":null,\"module\":null,\"name\":\"ReactiveHTML1\",\"overrides\":[],\"properties\":[]},{\"extends\":null,\"module\":null,\"name\":\"FlexBox1\",\"overrides\":[],\"properties\":[{\"default\":\"flex-start\",\"kind\":null,\"name\":\"align_content\"},{\"default\":\"flex-start\",\"kind\":null,\"name\":\"align_items\"},{\"default\":\"row\",\"kind\":null,\"name\":\"flex_direction\"},{\"default\":\"wrap\",\"kind\":null,\"name\":\"flex_wrap\"},{\"default\":\"flex-start\",\"kind\":null,\"name\":\"justify_content\"}]},{\"extends\":null,\"module\":null,\"name\":\"GridStack1\",\"overrides\":[],\"properties\":[{\"default\":\"warn\",\"kind\":null,\"name\":\"mode\"},{\"default\":null,\"kind\":null,\"name\":\"ncols\"},{\"default\":null,\"kind\":null,\"name\":\"nrows\"},{\"default\":true,\"kind\":null,\"name\":\"allow_resize\"},{\"default\":true,\"kind\":null,\"name\":\"allow_drag\"},{\"default\":[],\"kind\":null,\"name\":\"state\"}]},{\"extends\":null,\"module\":null,\"name\":\"click1\",\"overrides\":[],\"properties\":[{\"default\":\"\",\"kind\":null,\"name\":\"terminal_output\"},{\"default\":\"\",\"kind\":null,\"name\":\"debug_name\"},{\"default\":0,\"kind\":null,\"name\":\"clears\"}]},{\"extends\":null,\"module\":null,\"name\":\"NotificationAreaBase1\",\"overrides\":[],\"properties\":[{\"default\":\"bottom-right\",\"kind\":null,\"name\":\"position\"},{\"default\":0,\"kind\":null,\"name\":\"_clear\"}]},{\"extends\":null,\"module\":null,\"name\":\"NotificationArea1\",\"overrides\":[],\"properties\":[{\"default\":[],\"kind\":null,\"name\":\"notifications\"},{\"default\":\"bottom-right\",\"kind\":null,\"name\":\"position\"},{\"default\":0,\"kind\":null,\"name\":\"_clear\"},{\"default\":[{\"background\":\"#ffc107\",\"icon\":{\"className\":\"fas fa-exclamation-triangle\",\"color\":\"white\",\"tagName\":\"i\"},\"type\":\"warning\"},{\"background\":\"#007bff\",\"icon\":{\"className\":\"fas fa-info-circle\",\"color\":\"white\",\"tagName\":\"i\"},\"type\":\"info\"}],\"kind\":null,\"name\":\"types\"}]},{\"extends\":null,\"module\":null,\"name\":\"Notification\",\"overrides\":[],\"properties\":[{\"default\":null,\"kind\":null,\"name\":\"background\"},{\"default\":3000,\"kind\":null,\"name\":\"duration\"},{\"default\":null,\"kind\":null,\"name\":\"icon\"},{\"default\":\"\",\"kind\":null,\"name\":\"message\"},{\"default\":null,\"kind\":null,\"name\":\"notification_type\"},{\"default\":false,\"kind\":null,\"name\":\"_destroyed\"}]},{\"extends\":null,\"module\":null,\"name\":\"TemplateActions1\",\"overrides\":[],\"properties\":[{\"default\":0,\"kind\":null,\"name\":\"open_modal\"},{\"default\":0,\"kind\":null,\"name\":\"close_modal\"}]},{\"extends\":null,\"module\":null,\"name\":\"MaterialTemplateActions1\",\"overrides\":[],\"properties\":[{\"default\":0,\"kind\":null,\"name\":\"open_modal\"},{\"default\":0,\"kind\":null,\"name\":\"close_modal\"}]}],\"roots\":{\"references\":[{\"attributes\":{},\"id\":\"4153\",\"type\":\"HelpTool\"},{\"attributes\":{},\"id\":\"4095\",\"type\":\"DataRange1d\"},{\"attributes\":{},\"id\":\"4145\",\"type\":\"BasicTicker\"},{\"attributes\":{\"children\":[{\"id\":\"4211\"},{\"id\":\"4209\"},{\"id\":\"4272\"}],\"margin\":[0,0,0,0],\"name\":\"Row00190\"},\"id\":\"4210\",\"type\":\"Row\"},{\"attributes\":{},\"id\":\"4228\",\"type\":\"BasicTickFormatter\"},{\"attributes\":{},\"id\":\"4093\",\"type\":\"DataRange1d\"},{\"attributes\":{\"data\":{\"x\":{\"__ndarray__\":\"AAAAAAAAFMBDYt7OkJgTwIbEvJ0hMRPAyiabbLLJEsANiXk7Q2ISwFDrVwrU+hHAk0022WSTEcDXrxSo9SsRwBoS83aGxBDAXXTRRRddEMBArV8pUOsPwMdxHMdxHA/ATjbZZJNNDsDU+pUCtX4NwFq/UqDWrwzA4YMPPvjgC8BoSMzbGRILwO4MiXk7QwrAdNFFF110CcD7lQK1fqUIwIFav1Kg1gfACB988MEHB8CO4ziO4zgGwBWo9SsFagXAm2yyySabBMAiMW9nSMwDwKj1KwVq/QLAL7rooosuAsC1fqVArV8BwDxDYt7OkADAhA8++OCD/7+SmLczJOb9v54hMW9nSPy/qqqqqqqq+r+4MyTm7Qz5v8S8nSExb/e/0kUXXXTR9b/ezpCYtzP0v+xXCtT6lfK/+OCDDz748L8I1PqVArXuvyjm7QyJeeu/QPjggw8+6L9YCtT6lQLlv3Acx3Ecx+G/IF100UUX3b9QgVq/UqDWv4ClQK1fKdC/YJNNNtlkw78Ab2dIzNupvwBvZ0jM26k/YJNNNtlkwz+ApUCtXynQP1CBWr9SoNY/EF100UUX3T9wHMdxHMfhP1gK1PqVAuU/QPjggw8+6D8g5u0MiXnrPwjU+pUCte4/+OCDDz748D/sVwrU+pXyP9zOkJi3M/Q/0EUXXXTR9T/EvJ0hMW/3P7gzJObtDPk/rKqqqqqq+j+cITFvZ0j8P5CYtzMk5v0/hA8++OCD/z88Q2LezpAAQLR+pUCtXwFALrrooosuAkCo9SsFav0CQCIxb2dIzANAmmyyySabBEAUqPUrBWoFQI7jOI7jOAZACB988MEHB0CAWr9SoNYHQPyVArV+pQhAdNFFF110CUDsDIl5O0MKQGhIzNsZEgtA4IMPPvjgC0Bcv1Kg1q8MQNT6lQK1fg1ATDbZZJNNDkDIcRzHcRwPQECtXylQ6w9AXHTRRRddEEAaEvN2hsQQQNavFKj1KxFAlE022WSTEUBQ61cK1PoRQAyJeTtDYhJAyiabbLLJEkCGxLydITETQERi3s6QmBNAAAAAAAAAFEA=\",\"dtype\":\"float64\",\"order\":\"little\",\"shape\":[100]},\"y\":{\"__ndarray__\":\"jo9jffZpez8zICEkXk5+P3YuqyAfwIA/p+JVusaDgj8N8g/shXaEP/byi48qnYY/0BjB9/n8iD/WZNY4u5uLP6vI/AXCf44/EJSHDf3XkD/6lO+Q+ZmSP06i3332iZQ/VzdyJ3Kslj8nJDSWTwaZPwVPZcvcnJs/Nz7K0Nh1nj/SLj+0vMugP2FCABM4hKI/cEoQV/dnpD/TN0jn1HqmPztu44ftwKg/IjxyKqA+qz9GueiGjPitP6x4HxzIebA/Bir+B2Easj+U/wqnteCzPwKDQzN/z7U/d+J5foXptz/t5tFglzG6PykCu3GBqrw/UGnG7AJXvz+DDaxX4BzBP1E7QSabqsI/LnfnpNJVxD9YIjhZgR/GPxsQCKdxCMg/578cdjMRyj/8P9qtETrMP6bqzeUHg84/wifXXdx10D+UG9WmsrnRP5JJRzBzDNM/B5ki3VNt1D+dUU4YU9vVP7IneGw4Vdc/QWJr05bZ2D+hWanP0GbaPzYfqEoe+9s/yqt2F5SU3T+jHszeLDHfP6/wmZBpZ+A/G6pE9LU14T9l8KvacALiPy9TK5iXzOI/3U5KljST4z8n7MPJY1XkPzLX2HNWEuU/fbNuEVbJ5T81W9xnxnnmPzZylawmI+c/H2wU0RHF5z9XhYwGPl/oPwBwiZR78eg/BtB4IrN76T/6+z2W4/3pP2n3sakfeOo/NSLGVovq6j8ssW82WVXrP5/8FOrHuOs/1jJnoh8V7D+6n8jRr2rsPyHD5RPNuew/scMwUM8C7T+gj5cZEEbtPw2gHkvpg+0/vjoA37O87T/qEHz8xvDtP2t0kTd3IO4/PtxY/RVM7j8byYEn8XPuP4R8i7FSmO4/WPuOioC57j/b+89+vNfuPxMNvDRE8+4/Dq55OVEM7z+I1aQZGSPvP95eToPNN+8/Rm7EbpxK7z/tAhFMsFvvP1iDeDMwa+8/YMOTF0B57z/eDOj3AIbvP22mHBORke8/nfsgGAyc7z800MFVi6XvPzjAT+glru8/dqgW5fC17z9GU32D/7zvP8C9t0Njw+8/4jgFEyzJ7z8=\",\"dtype\":\"float64\",\"order\":\"little\",\"shape\":[100]}},\"selected\":{\"id\":\"4234\"},\"selection_policy\":{\"id\":\"4233\"}},\"id\":\"4123\",\"type\":\"ColumnDataSource\"},{\"attributes\":{\"children\":[{\"id\":\"4090\"},{\"id\":\"4129\"},{\"id\":\"4168\"}]},\"id\":\"4208\",\"type\":\"Row\"},{\"attributes\":{},\"id\":\"4216\",\"type\":\"BasicTickFormatter\"},{\"attributes\":{\"source\":{\"id\":\"4201\"}},\"id\":\"4206\",\"type\":\"CDSView\"},{\"attributes\":{},\"id\":\"4229\",\"type\":\"AllLabels\"},{\"attributes\":{\"coordinates\":null,\"group\":null,\"text\":\"Sigmoid\",\"text_color\":\"#E0E0E0\",\"text_font\":\"Josefin Sans\",\"text_font_size\":\"2.1em\"},\"id\":\"4091\",\"type\":\"Title\"},{\"attributes\":{\"axis_label_standoff\":10,\"axis_label_text_color\":\"#FFFFFF\",\"axis_label_text_font\":\"Josefin Sans\",\"axis_label_text_font_size\":\"1.9em\",\"axis_label_text_font_style\":\"bold\",\"axis_line_alpha\":0.4,\"axis_line_color\":\"#E0E0E0\",\"coordinates\":null,\"formatter\":{\"id\":\"4216\"},\"group\":null,\"major_label_policy\":{\"id\":\"4217\"},\"major_label_text_color\":\"#E0E0E0\",\"major_label_text_font\":\"Josefin Sans\",\"major_label_text_font_size\":\"1.15em\",\"major_tick_line_alpha\":0.4,\"major_tick_line_color\":\"#E0E0E0\",\"minor_tick_line_alpha\":0.4,\"minor_tick_line_color\":\"#E0E0E0\",\"ticker\":{\"id\":\"4106\"}},\"id\":\"4105\",\"type\":\"LinearAxis\"},{\"attributes\":{},\"id\":\"4217\",\"type\":\"AllLabels\"},{\"attributes\":{\"style\":{\"font-size\":\"250%\"},\"text\":\"Different activation functions\"},\"id\":\"4207\",\"type\":\"Div\"},{\"attributes\":{\"axis_label_standoff\":10,\"axis_label_text_color\":\"#FFFFFF\",\"axis_label_text_font\":\"Josefin Sans\",\"axis_label_text_font_size\":\"1.9em\",\"axis_label_text_font_style\":\"bold\",\"axis_line_alpha\":0.4,\"axis_line_color\":\"#E0E0E0\",\"coordinates\":null,\"formatter\":{\"id\":\"4231\"},\"group\":null,\"major_label_policy\":{\"id\":\"4232\"},\"major_label_text_color\":\"#E0E0E0\",\"major_label_text_font\":\"Josefin Sans\",\"major_label_text_font_size\":\"1.15em\",\"major_tick_line_alpha\":0.4,\"major_tick_line_color\":\"#E0E0E0\",\"minor_tick_line_alpha\":0.4,\"minor_tick_line_color\":\"#E0E0E0\",\"ticker\":{\"id\":\"4180\"}},\"id\":\"4179\",\"type\":\"LinearAxis\"},{\"attributes\":{},\"id\":\"4231\",\"type\":\"BasicTickFormatter\"},{\"attributes\":{},\"id\":\"4097\",\"type\":\"LinearScale\"},{\"attributes\":{},\"id\":\"4219\",\"type\":\"BasicTickFormatter\"},{\"attributes\":{\"line_alpha\":0.2,\"line_color\":\"yellow\",\"line_width\":4,\"x\":{\"field\":\"x\"},\"y\":{\"field\":\"y\"}},\"id\":\"4204\",\"type\":\"Line\"},{\"attributes\":{},\"id\":\"4239\",\"type\":\"UnionRenderers\"},{\"attributes\":{\"line_alpha\":0.1,\"line_color\":\"yellow\",\"line_width\":4,\"x\":{\"field\":\"x\"},\"y\":{\"field\":\"y\"}},\"id\":\"4203\",\"type\":\"Line\"},{\"attributes\":{},\"id\":\"4232\",\"type\":\"AllLabels\"},{\"attributes\":{\"line_alpha\":0.1,\"line_color\":\"orange\",\"line_width\":4,\"x\":{\"field\":\"x\"},\"y\":{\"field\":\"y\"}},\"id\":\"4164\",\"type\":\"Line\"},{\"attributes\":{},\"id\":\"4220\",\"type\":\"AllLabels\"},{\"attributes\":{},\"id\":\"4240\",\"type\":\"Selection\"},{\"attributes\":{},\"id\":\"4190\",\"type\":\"SaveTool\"},{\"attributes\":{},\"id\":\"4192\",\"type\":\"HelpTool\"},{\"attributes\":{\"axis\":{\"id\":\"4144\"},\"coordinates\":null,\"dimension\":1,\"grid_line_alpha\":0.15,\"grid_line_color\":\"#E0E0E0\",\"group\":null,\"ticker\":null},\"id\":\"4147\",\"type\":\"Grid\"},{\"attributes\":{\"children\":[{\"id\":\"4207\"},{\"id\":\"4208\"}]},\"id\":\"4209\",\"type\":\"Column\"},{\"attributes\":{},\"id\":\"4191\",\"type\":\"ResetTool\"},{\"attributes\":{\"overlay\":{\"id\":\"4193\"}},\"id\":\"4189\",\"type\":\"BoxZoomTool\"},{\"attributes\":{\"margin\":[5,5,5,5],\"name\":\"HSpacer00187\",\"sizing_mode\":\"stretch_width\"},\"id\":\"4272\",\"type\":\"Spacer\"},{\"attributes\":{\"overlay\":{\"id\":\"4154\"}},\"id\":\"4150\",\"type\":\"BoxZoomTool\"},{\"attributes\":{},\"id\":\"4233\",\"type\":\"UnionRenderers\"},{\"attributes\":{\"bottom_units\":\"screen\",\"coordinates\":null,\"fill_alpha\":0.5,\"fill_color\":\"lightgrey\",\"group\":null,\"left_units\":\"screen\",\"level\":\"overlay\",\"line_alpha\":1.0,\"line_color\":\"black\",\"line_dash\":[4,4],\"line_width\":2,\"right_units\":\"screen\",\"syncable\":false,\"top_units\":\"screen\"},\"id\":\"4193\",\"type\":\"BoxAnnotation\"},{\"attributes\":{},\"id\":\"4187\",\"type\":\"PanTool\"},{\"attributes\":{},\"id\":\"4234\",\"type\":\"Selection\"},{\"attributes\":{\"line_alpha\":0.1,\"line_color\":\"red\",\"line_width\":4,\"x\":{\"field\":\"x\"},\"y\":{\"field\":\"y\"}},\"id\":\"4125\",\"type\":\"Line\"},{\"attributes\":{},\"id\":\"4180\",\"type\":\"BasicTicker\"},{\"attributes\":{},\"id\":\"4171\",\"type\":\"DataRange1d\"},{\"attributes\":{\"data\":{\"x\":{\"__ndarray__\":\"AAAAAAAAFMBDYt7OkJgTwIbEvJ0hMRPAyiabbLLJEsANiXk7Q2ISwFDrVwrU+hHAk0022WSTEcDXrxSo9SsRwBoS83aGxBDAXXTRRRddEMBArV8pUOsPwMdxHMdxHA/ATjbZZJNNDsDU+pUCtX4NwFq/UqDWrwzA4YMPPvjgC8BoSMzbGRILwO4MiXk7QwrAdNFFF110CcD7lQK1fqUIwIFav1Kg1gfACB988MEHB8CO4ziO4zgGwBWo9SsFagXAm2yyySabBMAiMW9nSMwDwKj1KwVq/QLAL7rooosuAsC1fqVArV8BwDxDYt7OkADAhA8++OCD/7+SmLczJOb9v54hMW9nSPy/qqqqqqqq+r+4MyTm7Qz5v8S8nSExb/e/0kUXXXTR9b/ezpCYtzP0v+xXCtT6lfK/+OCDDz748L8I1PqVArXuvyjm7QyJeeu/QPjggw8+6L9YCtT6lQLlv3Acx3Ecx+G/IF100UUX3b9QgVq/UqDWv4ClQK1fKdC/YJNNNtlkw78Ab2dIzNupvwBvZ0jM26k/YJNNNtlkwz+ApUCtXynQP1CBWr9SoNY/EF100UUX3T9wHMdxHMfhP1gK1PqVAuU/QPjggw8+6D8g5u0MiXnrPwjU+pUCte4/+OCDDz748D/sVwrU+pXyP9zOkJi3M/Q/0EUXXXTR9T/EvJ0hMW/3P7gzJObtDPk/rKqqqqqq+j+cITFvZ0j8P5CYtzMk5v0/hA8++OCD/z88Q2LezpAAQLR+pUCtXwFALrrooosuAkCo9SsFav0CQCIxb2dIzANAmmyyySabBEAUqPUrBWoFQI7jOI7jOAZACB988MEHB0CAWr9SoNYHQPyVArV+pQhAdNFFF110CUDsDIl5O0MKQGhIzNsZEgtA4IMPPvjgC0Bcv1Kg1q8MQNT6lQK1fg1ATDbZZJNNDkDIcRzHcRwPQECtXylQ6w9AXHTRRRddEEAaEvN2hsQQQNavFKj1KxFAlE022WSTEUBQ61cK1PoRQAyJeTtDYhJAyiabbLLJEkCGxLydITETQERi3s6QmBNAAAAAAAAAFEA=\",\"dtype\":\"float64\",\"order\":\"little\",\"shape\":[100]},\"y\":{\"__ndarray__\":\"AAAAAAAAAAAAAAAAAAAAAAAAAAAAAAAAAAAAAAAAAAAAAAAAAAAAAAAAAAAAAAAAAAAAAAAAAAAAAAAAAAAAAAAAAAAAAAAAAAAAAAAAAAAAAAAAAAAAAAAAAAAAAAAAAAAAAAAAAAAAAAAAAAAAAAAAAAAAAAAAAAAAAAAAAAAAAAAAAAAAAAAAAAAAAAAAAAAAAAAAAAAAAAAAAAAAAAAAAAAAAAAAAAAAAAAAAAAAAAAAAAAAAAAAAAAAAAAAAAAAAAAAAAAAAAAAAAAAAAAAAAAAAAAAAAAAAAAAAAAAAAAAAAAAAAAAAAAAAAAAAAAAAAAAAAAAAAAAAAAAAAAAAAAAAAAAAAAAAAAAAAAAAAAAAAAAAAAAAAAAAAAAAAAAAAAAAAAAAAAAAAAAAAAAAAAAAAAAAAAAAAAAAAAAAAAAAAAAAAAAAAAAAAAAAAAAAAAAAAAAAAAAAAAAAAAAAAAAAAAAAAAAAAAAAAAAAAAAAAAAAAAAAAAAAAAAAAAAAAAAAAAAAAAAAAAAAABvZ0jM26k/YJNNNtlkwz+ApUCtXynQP1CBWr9SoNY/EF100UUX3T9wHMdxHMfhP1gK1PqVAuU/QPjggw8+6D8g5u0MiXnrPwjU+pUCte4/+OCDDz748D/sVwrU+pXyP9zOkJi3M/Q/0EUXXXTR9T/EvJ0hMW/3P7gzJObtDPk/rKqqqqqq+j+cITFvZ0j8P5CYtzMk5v0/hA8++OCD/z88Q2LezpAAQLR+pUCtXwFALrrooosuAkCo9SsFav0CQCIxb2dIzANAmmyyySabBEAUqPUrBWoFQI7jOI7jOAZACB988MEHB0CAWr9SoNYHQPyVArV+pQhAdNFFF110CUDsDIl5O0MKQGhIzNsZEgtA4IMPPvjgC0Bcv1Kg1q8MQNT6lQK1fg1ATDbZZJNNDkDIcRzHcRwPQECtXylQ6w9AXHTRRRddEEAaEvN2hsQQQNavFKj1KxFAlE022WSTEUBQ61cK1PoRQAyJeTtDYhJAyiabbLLJEkCGxLydITETQERi3s6QmBNAAAAAAAAAFEA=\",\"dtype\":\"float64\",\"order\":\"little\",\"shape\":[100]}},\"selected\":{\"id\":\"4240\"},\"selection_policy\":{\"id\":\"4239\"}},\"id\":\"4201\",\"type\":\"ColumnDataSource\"},{\"attributes\":{\"bottom_units\":\"screen\",\"coordinates\":null,\"fill_alpha\":0.5,\"fill_color\":\"lightgrey\",\"group\":null,\"left_units\":\"screen\",\"level\":\"overlay\",\"line_alpha\":1.0,\"line_color\":\"black\",\"line_dash\":[4,4],\"line_width\":2,\"right_units\":\"screen\",\"syncable\":false,\"top_units\":\"screen\"},\"id\":\"4154\",\"type\":\"BoxAnnotation\"},{\"attributes\":{\"coordinates\":null,\"group\":null,\"text\":\"Tanh\",\"text_color\":\"#E0E0E0\",\"text_font\":\"Josefin Sans\",\"text_font_size\":\"2.1em\"},\"id\":\"4130\",\"type\":\"Title\"},{\"attributes\":{\"line_alpha\":0.2,\"line_color\":\"orange\",\"line_width\":4,\"x\":{\"field\":\"x\"},\"y\":{\"field\":\"y\"}},\"id\":\"4165\",\"type\":\"Line\"},{\"attributes\":{},\"id\":\"4132\",\"type\":\"DataRange1d\"},{\"attributes\":{\"background_fill_alpha\":0.9,\"background_fill_color\":\"#0f0f0f\",\"below\":[{\"id\":\"4101\"}],\"border_fill_alpha\":0.8,\"border_fill_color\":\"#111111\",\"center\":[{\"id\":\"4104\"},{\"id\":\"4108\"}],\"height\":250,\"left\":[{\"id\":\"4105\"}],\"outline_line_alpha\":0.25,\"outline_line_color\":\"#E0E0E0\",\"outline_line_width\":3,\"renderers\":[{\"id\":\"4127\"}],\"title\":{\"id\":\"4091\"},\"toolbar\":{\"id\":\"4116\"},\"width\":400,\"x_range\":{\"id\":\"4093\"},\"x_scale\":{\"id\":\"4097\"},\"y_range\":{\"id\":\"4095\"},\"y_scale\":{\"id\":\"4099\"}},\"id\":\"4090\",\"subtype\":\"Figure\",\"type\":\"Plot\"},{\"attributes\":{\"tools\":[{\"id\":\"4109\"},{\"id\":\"4110\"},{\"id\":\"4111\"},{\"id\":\"4112\"},{\"id\":\"4113\"},{\"id\":\"4114\"}]},\"id\":\"4116\",\"type\":\"Toolbar\"},{\"attributes\":{},\"id\":\"4110\",\"type\":\"WheelZoomTool\"},{\"attributes\":{},\"id\":\"4109\",\"type\":\"PanTool\"},{\"attributes\":{\"axis\":{\"id\":\"4179\"},\"coordinates\":null,\"grid_line_alpha\":0.15,\"grid_line_color\":\"#E0E0E0\",\"group\":null,\"ticker\":null},\"id\":\"4182\",\"type\":\"Grid\"},{\"attributes\":{\"overlay\":{\"id\":\"4115\"}},\"id\":\"4111\",\"type\":\"BoxZoomTool\"},{\"attributes\":{},\"id\":\"4112\",\"type\":\"SaveTool\"},{\"attributes\":{\"axis_label_standoff\":10,\"axis_label_text_color\":\"#FFFFFF\",\"axis_label_text_font\":\"Josefin Sans\",\"axis_label_text_font_size\":\"1.9em\",\"axis_label_text_font_style\":\"bold\",\"axis_line_alpha\":0.4,\"axis_line_color\":\"#E0E0E0\",\"coordinates\":null,\"formatter\":{\"id\":\"4228\"},\"group\":null,\"major_label_policy\":{\"id\":\"4229\"},\"major_label_text_color\":\"#E0E0E0\",\"major_label_text_font\":\"Josefin Sans\",\"major_label_text_font_size\":\"1.15em\",\"major_tick_line_alpha\":0.4,\"major_tick_line_color\":\"#E0E0E0\",\"minor_tick_line_alpha\":0.4,\"minor_tick_line_color\":\"#E0E0E0\",\"ticker\":{\"id\":\"4184\"}},\"id\":\"4183\",\"type\":\"LinearAxis\"},{\"attributes\":{},\"id\":\"4113\",\"type\":\"ResetTool\"},{\"attributes\":{},\"id\":\"4222\",\"type\":\"BasicTickFormatter\"},{\"attributes\":{},\"id\":\"4175\",\"type\":\"LinearScale\"},{\"attributes\":{},\"id\":\"4141\",\"type\":\"BasicTicker\"},{\"attributes\":{},\"id\":\"4102\",\"type\":\"BasicTicker\"},{\"attributes\":{},\"id\":\"4138\",\"type\":\"LinearScale\"},{\"attributes\":{},\"id\":\"4223\",\"type\":\"AllLabels\"},{\"attributes\":{},\"id\":\"4149\",\"type\":\"WheelZoomTool\"},{\"attributes\":{},\"id\":\"4152\",\"type\":\"ResetTool\"},{\"attributes\":{\"line_color\":\"orange\",\"line_width\":4,\"x\":{\"field\":\"x\"},\"y\":{\"field\":\"y\"}},\"id\":\"4163\",\"type\":\"Line\"},{\"attributes\":{},\"id\":\"4225\",\"type\":\"BasicTickFormatter\"},{\"attributes\":{},\"id\":\"4136\",\"type\":\"LinearScale\"},{\"attributes\":{\"coordinates\":null,\"data_source\":{\"id\":\"4162\"},\"glyph\":{\"id\":\"4163\"},\"group\":null,\"hover_glyph\":null,\"muted_glyph\":{\"id\":\"4165\"},\"nonselection_glyph\":{\"id\":\"4164\"},\"view\":{\"id\":\"4167\"}},\"id\":\"4166\",\"type\":\"GlyphRenderer\"},{\"attributes\":{},\"id\":\"4226\",\"type\":\"AllLabels\"},{\"attributes\":{\"axis\":{\"id\":\"4140\"},\"coordinates\":null,\"grid_line_alpha\":0.15,\"grid_line_color\":\"#E0E0E0\",\"group\":null,\"ticker\":null},\"id\":\"4143\",\"type\":\"Grid\"},{\"attributes\":{},\"id\":\"4134\",\"type\":\"DataRange1d\"},{\"attributes\":{\"line_color\":\"red\",\"line_width\":4,\"x\":{\"field\":\"x\"},\"y\":{\"field\":\"y\"}},\"id\":\"4124\",\"type\":\"Line\"},{\"attributes\":{},\"id\":\"4177\",\"type\":\"LinearScale\"},{\"attributes\":{},\"id\":\"4236\",\"type\":\"UnionRenderers\"},{\"attributes\":{\"background_fill_alpha\":0.9,\"background_fill_color\":\"#0f0f0f\",\"below\":[{\"id\":\"4140\"}],\"border_fill_alpha\":0.8,\"border_fill_color\":\"#111111\",\"center\":[{\"id\":\"4143\"},{\"id\":\"4147\"}],\"height\":250,\"left\":[{\"id\":\"4144\"}],\"outline_line_alpha\":0.25,\"outline_line_color\":\"#E0E0E0\",\"outline_line_width\":3,\"renderers\":[{\"id\":\"4166\"}],\"title\":{\"id\":\"4130\"},\"toolbar\":{\"id\":\"4155\"},\"width\":400,\"x_range\":{\"id\":\"4132\"},\"x_scale\":{\"id\":\"4136\"},\"y_range\":{\"id\":\"4134\"},\"y_scale\":{\"id\":\"4138\"}},\"id\":\"4129\",\"subtype\":\"Figure\",\"type\":\"Plot\"},{\"attributes\":{\"source\":{\"id\":\"4123\"}},\"id\":\"4128\",\"type\":\"CDSView\"},{\"attributes\":{},\"id\":\"4237\",\"type\":\"Selection\"},{\"attributes\":{\"line_alpha\":0.2,\"line_color\":\"red\",\"line_width\":4,\"x\":{\"field\":\"x\"},\"y\":{\"field\":\"y\"}},\"id\":\"4126\",\"type\":\"Line\"},{\"attributes\":{\"line_color\":\"yellow\",\"line_width\":4,\"x\":{\"field\":\"x\"},\"y\":{\"field\":\"y\"}},\"id\":\"4202\",\"type\":\"Line\"},{\"attributes\":{\"coordinates\":null,\"group\":null,\"text\":\"ReLU\",\"text_color\":\"#E0E0E0\",\"text_font\":\"Josefin Sans\",\"text_font_size\":\"2.1em\"},\"id\":\"4169\",\"type\":\"Title\"},{\"attributes\":{\"data\":{\"x\":{\"__ndarray__\":\"AAAAAAAAFMBDYt7OkJgTwIbEvJ0hMRPAyiabbLLJEsANiXk7Q2ISwFDrVwrU+hHAk0022WSTEcDXrxSo9SsRwBoS83aGxBDAXXTRRRddEMBArV8pUOsPwMdxHMdxHA/ATjbZZJNNDsDU+pUCtX4NwFq/UqDWrwzA4YMPPvjgC8BoSMzbGRILwO4MiXk7QwrAdNFFF110CcD7lQK1fqUIwIFav1Kg1gfACB988MEHB8CO4ziO4zgGwBWo9SsFagXAm2yyySabBMAiMW9nSMwDwKj1KwVq/QLAL7rooosuAsC1fqVArV8BwDxDYt7OkADAhA8++OCD/7+SmLczJOb9v54hMW9nSPy/qqqqqqqq+r+4MyTm7Qz5v8S8nSExb/e/0kUXXXTR9b/ezpCYtzP0v+xXCtT6lfK/+OCDDz748L8I1PqVArXuvyjm7QyJeeu/QPjggw8+6L9YCtT6lQLlv3Acx3Ecx+G/IF100UUX3b9QgVq/UqDWv4ClQK1fKdC/YJNNNtlkw78Ab2dIzNupvwBvZ0jM26k/YJNNNtlkwz+ApUCtXynQP1CBWr9SoNY/EF100UUX3T9wHMdxHMfhP1gK1PqVAuU/QPjggw8+6D8g5u0MiXnrPwjU+pUCte4/+OCDDz748D/sVwrU+pXyP9zOkJi3M/Q/0EUXXXTR9T/EvJ0hMW/3P7gzJObtDPk/rKqqqqqq+j+cITFvZ0j8P5CYtzMk5v0/hA8++OCD/z88Q2LezpAAQLR+pUCtXwFALrrooosuAkCo9SsFav0CQCIxb2dIzANAmmyyySabBEAUqPUrBWoFQI7jOI7jOAZACB988MEHB0CAWr9SoNYHQPyVArV+pQhAdNFFF110CUDsDIl5O0MKQGhIzNsZEgtA4IMPPvjgC0Bcv1Kg1q8MQNT6lQK1fg1ATDbZZJNNDkDIcRzHcRwPQECtXylQ6w9AXHTRRRddEEAaEvN2hsQQQNavFKj1KxFAlE022WSTEUBQ61cK1PoRQAyJeTtDYhJAyiabbLLJEkCGxLydITETQERi3s6QmBNAAAAAAAAAFEA=\",\"dtype\":\"float64\",\"order\":\"little\",\"shape\":[100]},\"y\":{\"__ndarray__\":\"Ed9olkH/779xHDX2Fv/vv2PTXMvi/u+/tykv86L+779nyqrQVP7vv5RqJTH1/e+/ANXYKoD9778+DPrz8Pzvv+R3srBB/O+/seP1NWv7778B7b6+ZPrvvzRIspAj+e+/GFCDjJr377/6GqylufXvv5SfGjxt8++/g1tUUZ3w7782/jqRLO3vvwpKByX36O+/kLQ0RdHj778FKfN8hd3vv2dPQ4/S1e+/GGkq62jM77+jbX6Z58Dvv1i8zYvYsu+/1CEZMayh779DqukytIzvv2zAbjwdc++/qVLVrudT779zlYUr3y3vv8N/uOiQ/+6/fDIb2kDH7r+tmFja3YLuv0cK+Tj1L+6/zv7GYKbL7b/XD/S8l1LtvzWhkZzuwOy/ljVLlkwS7L8lhcTR1UHrvy50/oZESuq/sMhCwQ4m6b89c/imo8/nv3hPlK3EQea/JYsBmPx35L/eJkVXMW/iv9AYbbpGJuC/sE3YDH49279KKI4ofLrVvzdYpvc6p8+/IIThpDM/w7+rNaLaLNapv6s1otos1qk/IIThpDM/wz83WKb3OqfPP0oojih8utU/o03YDH492z/QGG26RibgP94mRVcxb+I/JYsBmPx35D9zT5StxEHmPz1z+Kajz+c/sMhCwQ4m6T8udP6GRErqPySFxNHVQes/lTVLlkwS7D81oZGc7sDsP9cP9LyXUu0/z/7GYKbL7T9GCvk49S/uP62YWNrdgu4/fDIb2kDH7j/Df7jokP/uP3OVhSvfLe8/qVLVrudT7z9swG48HXPvP0Oq6TK0jO8/1CEZMayh7z9YvM2L2LLvP6NtfpnnwO8/GGkq62jM7z9nT0OP0tXvPwUp83yF3e8/kLQ0RdHj7z8KSgcl9+jvPzb+OpEs7e8/g1tUUZ3w7z+Unxo8bfPvP/oarKW59e8/GFCDjJr37z80SLKQI/nvPwHtvr5k+u8/seP1NWv77z/kd7KwQfzvPz4M+vPw/O8/ANXYKoD97z+UaiUx9f3vP2fKqtBU/u8/tykv86L+7z9j01zL4v7vP3EcNfYW/+8/Ed9olkH/7z8=\",\"dtype\":\"float64\",\"order\":\"little\",\"shape\":[100]}},\"selected\":{\"id\":\"4237\"},\"selection_policy\":{\"id\":\"4236\"}},\"id\":\"4162\",\"type\":\"ColumnDataSource\"},{\"attributes\":{},\"id\":\"4151\",\"type\":\"SaveTool\"},{\"attributes\":{},\"id\":\"4184\",\"type\":\"BasicTicker\"},{\"attributes\":{\"axis\":{\"id\":\"4183\"},\"coordinates\":null,\"dimension\":1,\"grid_line_alpha\":0.15,\"grid_line_color\":\"#E0E0E0\",\"group\":null,\"ticker\":null},\"id\":\"4186\",\"type\":\"Grid\"},{\"attributes\":{},\"id\":\"4106\",\"type\":\"BasicTicker\"},{\"attributes\":{\"bottom_units\":\"screen\",\"coordinates\":null,\"fill_alpha\":0.5,\"fill_color\":\"lightgrey\",\"group\":null,\"left_units\":\"screen\",\"level\":\"overlay\",\"line_alpha\":1.0,\"line_color\":\"black\",\"line_dash\":[4,4],\"line_width\":2,\"right_units\":\"screen\",\"syncable\":false,\"top_units\":\"screen\"},\"id\":\"4115\",\"type\":\"BoxAnnotation\"},{\"attributes\":{\"tools\":[{\"id\":\"4148\"},{\"id\":\"4149\"},{\"id\":\"4150\"},{\"id\":\"4151\"},{\"id\":\"4152\"},{\"id\":\"4153\"}]},\"id\":\"4155\",\"type\":\"Toolbar\"},{\"attributes\":{\"background_fill_alpha\":0.9,\"background_fill_color\":\"#0f0f0f\",\"below\":[{\"id\":\"4179\"}],\"border_fill_alpha\":0.8,\"border_fill_color\":\"#111111\",\"center\":[{\"id\":\"4182\"},{\"id\":\"4186\"}],\"height\":250,\"left\":[{\"id\":\"4183\"}],\"outline_line_alpha\":0.25,\"outline_line_color\":\"#E0E0E0\",\"outline_line_width\":3,\"renderers\":[{\"id\":\"4205\"}],\"title\":{\"id\":\"4169\"},\"toolbar\":{\"id\":\"4194\"},\"width\":400,\"x_range\":{\"id\":\"4171\"},\"x_scale\":{\"id\":\"4175\"},\"y_range\":{\"id\":\"4173\"},\"y_scale\":{\"id\":\"4177\"}},\"id\":\"4168\",\"subtype\":\"Figure\",\"type\":\"Plot\"},{\"attributes\":{\"axis\":{\"id\":\"4105\"},\"coordinates\":null,\"dimension\":1,\"grid_line_alpha\":0.15,\"grid_line_color\":\"#E0E0E0\",\"group\":null,\"ticker\":null},\"id\":\"4108\",\"type\":\"Grid\"},{\"attributes\":{},\"id\":\"4188\",\"type\":\"WheelZoomTool\"},{\"attributes\":{\"source\":{\"id\":\"4162\"}},\"id\":\"4167\",\"type\":\"CDSView\"},{\"attributes\":{\"axis_label_standoff\":10,\"axis_label_text_color\":\"#FFFFFF\",\"axis_label_text_font\":\"Josefin Sans\",\"axis_label_text_font_size\":\"1.9em\",\"axis_label_text_font_style\":\"bold\",\"axis_line_alpha\":0.4,\"axis_line_color\":\"#E0E0E0\",\"coordinates\":null,\"formatter\":{\"id\":\"4225\"},\"group\":null,\"major_label_policy\":{\"id\":\"4226\"},\"major_label_text_color\":\"#E0E0E0\",\"major_label_text_font\":\"Josefin Sans\",\"major_label_text_font_size\":\"1.15em\",\"major_tick_line_alpha\":0.4,\"major_tick_line_color\":\"#E0E0E0\",\"minor_tick_line_alpha\":0.4,\"minor_tick_line_color\":\"#E0E0E0\",\"ticker\":{\"id\":\"4141\"}},\"id\":\"4140\",\"type\":\"LinearAxis\"},{\"attributes\":{\"tools\":[{\"id\":\"4187\"},{\"id\":\"4188\"},{\"id\":\"4189\"},{\"id\":\"4190\"},{\"id\":\"4191\"},{\"id\":\"4192\"}]},\"id\":\"4194\",\"type\":\"Toolbar\"},{\"attributes\":{},\"id\":\"4099\",\"type\":\"LinearScale\"},{\"attributes\":{\"axis_label_standoff\":10,\"axis_label_text_color\":\"#FFFFFF\",\"axis_label_text_font\":\"Josefin Sans\",\"axis_label_text_font_size\":\"1.9em\",\"axis_label_text_font_style\":\"bold\",\"axis_line_alpha\":0.4,\"axis_line_color\":\"#E0E0E0\",\"coordinates\":null,\"formatter\":{\"id\":\"4219\"},\"group\":null,\"major_label_policy\":{\"id\":\"4220\"},\"major_label_text_color\":\"#E0E0E0\",\"major_label_text_font\":\"Josefin Sans\",\"major_label_text_font_size\":\"1.15em\",\"major_tick_line_alpha\":0.4,\"major_tick_line_color\":\"#E0E0E0\",\"minor_tick_line_alpha\":0.4,\"minor_tick_line_color\":\"#E0E0E0\",\"ticker\":{\"id\":\"4102\"}},\"id\":\"4101\",\"type\":\"LinearAxis\"},{\"attributes\":{\"axis_label_standoff\":10,\"axis_label_text_color\":\"#FFFFFF\",\"axis_label_text_font\":\"Josefin Sans\",\"axis_label_text_font_size\":\"1.9em\",\"axis_label_text_font_style\":\"bold\",\"axis_line_alpha\":0.4,\"axis_line_color\":\"#E0E0E0\",\"coordinates\":null,\"formatter\":{\"id\":\"4222\"},\"group\":null,\"major_label_policy\":{\"id\":\"4223\"},\"major_label_text_color\":\"#E0E0E0\",\"major_label_text_font\":\"Josefin Sans\",\"major_label_text_font_size\":\"1.15em\",\"major_tick_line_alpha\":0.4,\"major_tick_line_color\":\"#E0E0E0\",\"minor_tick_line_alpha\":0.4,\"minor_tick_line_color\":\"#E0E0E0\",\"ticker\":{\"id\":\"4145\"}},\"id\":\"4144\",\"type\":\"LinearAxis\"},{\"attributes\":{\"client_comm_id\":\"400ac8e23f2e4acfb1875b46ea760e99\",\"comm_id\":\"b3a2ab33f97f433e8825b36c625b8d7b\",\"plot_id\":\"4210\"},\"id\":\"4363\",\"type\":\"panel.models.comm_manager.CommManager\"},{\"attributes\":{},\"id\":\"4114\",\"type\":\"HelpTool\"},{\"attributes\":{\"coordinates\":null,\"data_source\":{\"id\":\"4201\"},\"glyph\":{\"id\":\"4202\"},\"group\":null,\"hover_glyph\":null,\"muted_glyph\":{\"id\":\"4204\"},\"nonselection_glyph\":{\"id\":\"4203\"},\"view\":{\"id\":\"4206\"}},\"id\":\"4205\",\"type\":\"GlyphRenderer\"},{\"attributes\":{\"coordinates\":null,\"data_source\":{\"id\":\"4123\"},\"glyph\":{\"id\":\"4124\"},\"group\":null,\"hover_glyph\":null,\"muted_glyph\":{\"id\":\"4126\"},\"nonselection_glyph\":{\"id\":\"4125\"},\"view\":{\"id\":\"4128\"}},\"id\":\"4127\",\"type\":\"GlyphRenderer\"},{\"attributes\":{},\"id\":\"4148\",\"type\":\"PanTool\"},{\"attributes\":{\"margin\":[5,5,5,5],\"name\":\"HSpacer00186\",\"sizing_mode\":\"stretch_width\"},\"id\":\"4211\",\"type\":\"Spacer\"},{\"attributes\":{\"axis\":{\"id\":\"4101\"},\"coordinates\":null,\"grid_line_alpha\":0.15,\"grid_line_color\":\"#E0E0E0\",\"group\":null,\"ticker\":null},\"id\":\"4104\",\"type\":\"Grid\"},{\"attributes\":{},\"id\":\"4173\",\"type\":\"DataRange1d\"}],\"root_ids\":[\"4210\",\"4363\"]},\"title\":\"Bokeh Application\",\"version\":\"2.4.3\"}};\n",
       "    var render_items = [{\"docid\":\"c6b166bf-d91b-4d39-bc41-f9de9c5a081a\",\"root_ids\":[\"4210\"],\"roots\":{\"4210\":\"9d0d059d-3d72-4cc5-aadf-97f393bc9b0b\"}}];\n",
       "    root.Bokeh.embed.embed_items_notebook(docs_json, render_items);\n",
       "    for (const render_item of render_items) {\n",
       "      for (const root_id of render_item.root_ids) {\n",
       "\tconst id_el = document.getElementById(root_id)\n",
       "\tif (id_el.children.length && (id_el.children[0].className === 'bk-root')) {\n",
       "\t  const root_el = id_el.children[0]\n",
       "\t  root_el.id = root_el.id + '-rendered'\n",
       "\t}\n",
       "      }\n",
       "    }\n",
       "  }\n",
       "  if (root.Bokeh !== undefined && root.Bokeh.Panel !== undefined) {\n",
       "    embed_document(root);\n",
       "  } else {\n",
       "    var attempts = 0;\n",
       "    var timer = setInterval(function(root) {\n",
       "      if (root.Bokeh !== undefined && root.Bokeh.Panel !== undefined) {\n",
       "        clearInterval(timer);\n",
       "        embed_document(root);\n",
       "      } else if (document.readyState == \"complete\") {\n",
       "        attempts++;\n",
       "        if (attempts > 200) {\n",
       "          clearInterval(timer);\n",
       "          console.log(\"Bokeh: ERROR: Unable to run BokehJS code because BokehJS library is missing\");\n",
       "        }\n",
       "      }\n",
       "    }, 25, root)\n",
       "  }\n",
       "})(window);</script>"
      ],
      "text/plain": [
       "Row\n",
       "    [0] HSpacer()\n",
       "    [1] Bokeh(Column)\n",
       "    [2] HSpacer()"
      ]
     },
     "execution_count": 23,
     "metadata": {
      "application/vnd.holoviews_exec.v0+json": {
       "id": "4210"
      }
     },
     "output_type": "execute_result"
    }
   ],
   "source": [
    "from bokeh.models import Div\n",
    "from bokeh.layouts import column, row\n",
    "from cml.plot import cml_figure\n",
    "# Functions to\n",
    "funcs = [('Sigmoid',sigmoid,'red'), ('Tanh',tanh,'orange'), ('ReLU',relu,'yellow')]\n",
    "# Generating the x axis\n",
    "x = np.linspace(-5, 5, 100)\n",
    "plots = []\n",
    "for (name, func, color) in funcs:\n",
    "    cur_plot = cml_figure(plot_width=400, plot_height=250, title=name)\n",
    "    cur_plot.line(x, func(x), color=color, line_width=4)\n",
    "    plots.append(cur_plot)\n",
    "plot = center_plot(column(Div(text = \"Different activation functions\", style={'font-size': '250%'}), row(*plots)))\n",
    "plot"
   ]
  },
  {
   "cell_type": "markdown",
   "metadata": {},
   "source": [
    "## Coding the whole network from scratch\n",
    "\n",
    "You should now have all the tools necessary to apply neural networks from scratch to a more complex problem. In the following exercise, we simply removed any guideline code, and you need to code all the procedure for training a NN and **apply it to audio data**. You will use the spectral features discussed in the previous exercise as an input.\n",
    "\n",
    "***\n",
    "\n",
    "<div class=\"alert alert-success\" markdown=\"1\" style=\"color:white; background-color: #192841; border-color: #779ecb\">\n",
    "\n",
    "> ### Going further **(optional exercise) **\n",
    "\n",
    ">  1. Based on the previous neural network, upgrade the code to a 3-layer neural network\n",
    ">  2. Implement the *softmax regression* on top of your 3-layer network\n",
    ">  3. Use the provided code to perform classification on a pre-defined set of features\n",
    ">  4. As previously, change the set of features to assess their different accuracies\n",
    ">  5. Evaluate the neural network accuracy for all features combinations\n",
    ">  6. What happens if the learning rate is too large ? What is this phenomenon ?\n",
    ">  7. Perform a more advanced visualization of the learning process.\n",
    "  \n",
    "\n",
    "</div>\n",
    "\n",
    "***"
   ]
  },
  {
   "cell_type": "code",
   "execution_count": null,
   "metadata": {},
   "outputs": [],
   "source": [
    "\n",
    "######################\n",
    "# YOUR CODE GOES HERE\n",
    "######################\n"
   ]
  },
  {
   "cell_type": "markdown",
   "metadata": {},
   "source": [
    "# Using `Pytorch` to enjoy life\n",
    "\n",
    "Up to now, we have been writing every operations by ourselves (in order to better understand the mathematics behind NN). However, there exists of course some simplifying libraries that provide large simplifications to this question.\n",
    "\n",
    "One of the most powerful and complete library of this sort is `Pytorch`, which has been developed for several years (even prior to the recent boom of deep learning). `Pytorch` provides a large set of pre-coded layers, but also **computational graphs** and **autograd**, which are very powerful paradigms allowing to define complex operators and automatically taking derivatives.\n",
    "\n",
    "## An (extremely) fast and dirty introduction to `Pytorch`\n",
    "\n",
    "PyTorch is a popular open-source deep learning framework based on the Torch library. It is primarily developed by Facebook AI research team, and it provides a simple and efficient way to build deep learning models. In this extremely short crash course, we will cover the basics of PyTorch, including:\n",
    "\n",
    "* Tensors\n",
    "* Automatic differentiation\n",
    "* Neural networks\n",
    "* Training a neural network on a dataset\n",
    "\n",
    "For a complete tutorial on PyTorch, please check out the [official PyTorch documentation](https://pytorch.org/tutorials/). This tutorial covers a wide range of topics, including the basics of PyTorch, building and training neural networks, working with data and dataloaders, and deploying models to production."
   ]
  },
  {
   "cell_type": "markdown",
   "metadata": {},
   "source": [
    "### Tensors\n",
    "At its core, PyTorch is all about tensors. A tensor is a generalization of vectors and matrices to an arbitrary number of dimensions. A scalar is a 0-dimensional tensor, a vector is a 1-dimensional tensor, and a matrix is a 2-dimensional tensor.\n",
    "\n",
    "#### Creating Tensors\n",
    "We can create a PyTorch tensor from a Python list or a NumPy array using the `torch.tensor()` function, but also tensors of a specific size and/or with all zeros or all ones using the `torch.zeros()` and `torch.ones()` functions"
   ]
  },
  {
   "cell_type": "code",
   "execution_count": 60,
   "metadata": {},
   "outputs": [
    {
     "name": "stdout",
     "output_type": "stream",
     "text": [
      "tensor([1, 2, 3, 4])\n",
      "tensor([[1, 2],\n",
      "        [3, 4]])\n",
      "tensor([[0., 0., 0.],\n",
      "        [0., 0., 0.]])\n",
      "tensor([[1., 1.],\n",
      "        [1., 1.],\n",
      "        [1., 1.]])\n"
     ]
    }
   ],
   "source": [
    "import torch\n",
    "import numpy as np\n",
    "# create a tensor from a Python list\n",
    "x = torch.tensor([1, 2, 3, 4])\n",
    "print(x)\n",
    "# create a tensor from a NumPy array\n",
    "y = torch.tensor(np.array([[1, 2], [3, 4]]))\n",
    "print(y)\n",
    "# create a 2x3 tensor of zeros\n",
    "z = torch.zeros((2, 3))\n",
    "print(z)\n",
    "# create a 3x2 tensor of ones\n",
    "w = torch.ones((3, 2))\n",
    "print(w)"
   ]
  },
  {
   "cell_type": "markdown",
   "metadata": {},
   "source": [
    "#### Tensor operations\n",
    "\n",
    "PyTorch tensors support a wide range of operations, including arithmetic operations like addition, subtraction, multiplication, and division, as well as more advanced operations like matrix multiplication, element-wise multiplication, and concatenation."
   ]
  },
  {
   "cell_type": "code",
   "execution_count": 61,
   "metadata": {},
   "outputs": [
    {
     "name": "stdout",
     "output_type": "stream",
     "text": [
      "tensor([ 6,  8, 10, 12])\n",
      "tensor([ 5, 12, 21, 32])\n",
      "tensor([[19, 22],\n",
      "        [43, 50]])\n",
      "tensor([[1, 2, 5, 6],\n",
      "        [3, 4, 7, 8]])\n"
     ]
    }
   ],
   "source": [
    "# create two tensors\n",
    "x = torch.tensor([1, 2, 3, 4])\n",
    "y = torch.tensor([5, 6, 7, 8])\n",
    "# add the two tensors\n",
    "z = x + y\n",
    "print(z)\n",
    "# element-wise multiplication\n",
    "w = x * y\n",
    "print(w)\n",
    "# matrix multiplication\n",
    "a = torch.tensor([[1, 2], [3, 4]])\n",
    "b = torch.tensor([[5, 6], [7, 8]])\n",
    "c = torch.matmul(a, b)\n",
    "print(c)\n",
    "# concatenation\n",
    "d = torch.cat((a, b), dim=1)\n",
    "print(d)"
   ]
  },
  {
   "cell_type": "markdown",
   "metadata": {},
   "source": [
    "### Automatic differentiation\n",
    "\n",
    "The core of PyTorch is the autograd package. It provides automatic differentiation for all operations on Tensors.\n",
    "\n",
    "PyTorch's autograd package provides automatic differentiation for all operations on Tensors. It is a define-by-run framework, which means that your backpropagation is defined by how your code is run, and that every single iteration can be different.\n",
    "\n",
    "To compute gradients, the `requires_grad` property of Tensors needs to `True` (which is the case by default). This tells PyTorch to track all operations on the Tensor. You can then call `.backward()` on a Tensor to compute the gradients with respect to that Tensor."
   ]
  },
  {
   "cell_type": "code",
   "execution_count": 62,
   "metadata": {},
   "outputs": [
    {
     "name": "stdout",
     "output_type": "stream",
     "text": [
      "tensor(11.)\n"
     ]
    }
   ],
   "source": [
    "import torch\n",
    "\n",
    "x = torch.tensor(2.0, requires_grad=True)\n",
    "y = 2*x**2 + 3*x - 1\n",
    "y.backward()\n",
    "\n",
    "print(x.grad)"
   ]
  },
  {
   "cell_type": "markdown",
   "metadata": {},
   "source": [
    "## Defining our network\n",
    "\n",
    "When building neural networks we frequently think of arranging the computation into layers, some of which have learnable parameters which will be optimized during learning. In `PyTorch`, the `nn` package provides higher-level abstractions over raw computational graphs that are useful for building neural networks. The `nn` package defines a set of `Modules`, which are roughly equivalent to neural network layers. A `Module` receives input `Tensors` and computes output `Tensors`, but may also hold internal state such as `Tensors` containing learnable parameters. The nn package also defines a set of useful loss functions that are commonly used when training neural networks.\n",
    "\n",
    "In the following example, we use the `nn` package to show how easy it is to instantiate our previous three-layers network"
   ]
  },
  {
   "cell_type": "code",
   "execution_count": 30,
   "metadata": {},
   "outputs": [],
   "source": [
    "import torch\n",
    "# Define the input dimensions\n",
    "in_size = 1000\n",
    "# Number of neurons in a layer\n",
    "hidden_size = 100\n",
    "# Output (target) dimension\n",
    "output_size = 10\n",
    "# Use the nn package to define our model and loss function.\n",
    "model = torch.nn.Sequential(\n",
    "    torch.nn.Linear(in_size, hidden_size),\n",
    "    torch.nn.Sigmoid(),\n",
    "    torch.nn.Linear(hidden_size, hidden_size),\n",
    "    torch.nn.Tanh(),\n",
    "    torch.nn.Linear(hidden_size, output_size),\n",
    "    torch.nn.Softmax(dim=1)\n",
    ")"
   ]
  },
  {
   "cell_type": "markdown",
   "metadata": {},
   "source": [
    "### Optimizing the network\n",
    "\n",
    "Up to this point we have updated the weights of our models by manually performing the gradient descent algorithm (changing the parameters vectors). Although this is not a huge burden for simple optimization algorithms like stochastic gradient descent, in practice we often train neural networks using more sophisticated optimizers like AdaGrad, RMSProp or Adam (that we will see later in this course)\n",
    "\n",
    "The `optim` package in PyTorch abstracts the idea of an optimization algorithm and provides implementations of commonly used optimization algorithms, and greatly simplfies the training loop associated with training a neural network.\n",
    "\n",
    "For the sake of presentation we will use random inputs $\\mathbf{x}$ that should be matched with random outputs $\\mathbf{y}$"
   ]
  },
  {
   "cell_type": "code",
   "execution_count": 31,
   "metadata": {},
   "outputs": [],
   "source": [
    "batch_size = 64\n",
    "# Create random Tensors to hold inputs and outputs\n",
    "x = torch.randn(batch_size, in_size)\n",
    "y = torch.randn(batch_size, output_size)"
   ]
  },
  {
   "cell_type": "markdown",
   "metadata": {},
   "source": [
    "In the following example we optimize the model using the Adam algorithm provided by the `optim` package, based on a `MSE` loss."
   ]
  },
  {
   "cell_type": "code",
   "execution_count": 32,
   "metadata": {},
   "outputs": [
    {
     "name": "stdout",
     "output_type": "stream",
     "text": [
      "tensor(641.4479, grad_fn=<MseLossBackward0>)\n"
     ]
    }
   ],
   "source": [
    "# Learning rate\n",
    "learning_rate = 1e-4\n",
    "# Loss function that we will use\n",
    "loss_fn = torch.nn.MSELoss(reduction='sum')\n",
    "# Optimizer to fit the weights of the network\n",
    "optimizer = torch.optim.SGD(model.parameters(), lr=learning_rate)\n",
    "for t in range(500):\n",
    "    # Forward pass: compute predicted y by passing x to the model.\n",
    "    y_pred = model(x)\n",
    "    # Compute the loss.\n",
    "    loss = loss_fn(y_pred, y)\n",
    "    # Before the backward pass, zero all of the network gradients\n",
    "    optimizer.zero_grad()\n",
    "    # Backward pass: compute gradient of the loss with respect to parameters\n",
    "    loss.backward()\n",
    "    # Calling the step function to update the parameters\n",
    "    optimizer.step()\n",
    "print(loss)\n",
    "    "
   ]
  },
  {
   "cell_type": "markdown",
   "metadata": {},
   "source": [
    "## Exercise 2 - Pytorch to classify audio\n",
    "\n",
    "Now that we know the main components of `Pytorch` to define and optimize networks, your assignement is to define a complete classification problem from audio data, by relying on this toolbox\n",
    "\n",
    "***\n",
    "\n",
    "<div class=\"alert alert-success\" markdown=\"1\" style=\"color:white; background-color: #013220; border-color: #03C03C\">\n",
    "\n",
    "> ### Question 1.1 - Model and definition\n",
    "\n",
    ">   1. Use `Pytorch` to define a model for audio classification\n",
    ">   2. Import the audio features dataset and check that your model produces an output\n",
    "\n",
    "</div>\n",
    "\n",
    "***\n"
   ]
  },
  {
   "cell_type": "code",
   "execution_count": null,
   "metadata": {},
   "outputs": [],
   "source": [
    "\n",
    "######################\n",
    "# YOUR CODE GOES HERE\n",
    "######################\n"
   ]
  },
  {
   "cell_type": "markdown",
   "metadata": {},
   "source": [
    "\n",
    "***\n",
    "\n",
    "<div class=\"alert alert-success\" markdown=\"1\" style=\"color:white; background-color: #013220; border-color: #03C03C\">\n",
    "\n",
    "> ### Question 1.2 - Training the model\n",
    "\n",
    ">   3. Write the optimization loop (think carefully about the _loss function_\n",
    ">   4. As previously, change the set of features to assess their different accuracies\n",
    ">   5. (Optional) Think of how you could use more complex features (time series, audio, STFT) to classify your data\n",
    "\n",
    "</div>\n",
    "\n",
    "***"
   ]
  },
  {
   "cell_type": "code",
   "execution_count": 33,
   "metadata": {},
   "outputs": [],
   "source": [
    "\n",
    "######################\n",
    "# YOUR CODE GOES HERE\n",
    "######################\n"
   ]
  }
 ],
 "metadata": {
  "kernelspec": {
   "display_name": "Python 3 (ipykernel)",
   "language": "python",
   "name": "python3"
  },
  "language_info": {
   "codemirror_mode": {
    "name": "ipython",
    "version": 3
   },
   "file_extension": ".py",
   "mimetype": "text/x-python",
   "name": "python",
   "nbconvert_exporter": "python",
   "pygments_lexer": "ipython3",
   "version": "3.10.6"
  }
 },
 "nbformat": 4,
 "nbformat_minor": 4
}
